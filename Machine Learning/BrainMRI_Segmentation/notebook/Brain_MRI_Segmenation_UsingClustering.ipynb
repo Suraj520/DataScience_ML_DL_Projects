{
  "nbformat": 4,
  "nbformat_minor": 0,
  "metadata": {
    "colab": {
      "name": "Brain_MRI_Segmenation_UsingClustering.ipynb",
      "provenance": []
    },
    "kernelspec": {
      "name": "python3",
      "display_name": "Python 3"
    },
    "language_info": {
      "name": "python"
    }
  },
  "cells": [
    {
      "cell_type": "markdown",
      "metadata": {
        "id": "c2BDU6MZBDz4"
      },
      "source": [
        "# About\n",
        "Image Segmentation using Clustering Techniques i.e Hard and Soft Clustering.\n",
        "\n",
        "\n",
        "Hard clustering algorithm - K-means\n",
        "\n",
        "Soft clustering algorithm - Gaussian Mixture Models(GMMs)\n",
        "\n",
        " Dataset used Brain MRI Segmentation dataset. [Kaggle Link](https://www.kaggle.com/mateuszbuda/lgg-mri-segmentation/code)"
      ]
    },
    {
      "cell_type": "code",
      "metadata": {
        "id": "VNh2F9WYbbax"
      },
      "source": [
        "|#importing modules\n",
        "import os\n",
        "import cv2\n",
        "import numpy as np\n",
        "import pandas as pd\n",
        "from tqdm import tqdm\n",
        "import random\n",
        "from itertools import chain\n",
        "import matplotlib.pyplot as plt\n",
        "plt.style.use('ggplot')\n",
        "%matplotlib inline\n",
        "from glob import glob\n",
        "from skimage.io import imread, imshow, concatenate_images\n",
        "from skimage.transform import resize\n",
        "from skimage.morphology import label\n",
        "from skimage.color import rgb2gray\n",
        "from sklearn.model_selection import train_test_split\n",
        "from sklearn.preprocessing import StandardScaler, normalize "
      ],
      "execution_count": 12,
      "outputs": []
    },
    {
      "cell_type": "code",
      "metadata": {
        "id": "wSdlVQ0VcKrD"
      },
      "source": [
        "os.chdir('/content/drive/MyDrive/Colab Notebooks/Dataset/BrainMRI')"
      ],
      "execution_count": 13,
      "outputs": []
    },
    {
      "cell_type": "code",
      "metadata": {
        "colab": {
          "base_uri": "https://localhost:8080/"
        },
        "id": "tzTZquQTeT3P",
        "outputId": "3b027d6c-429e-44a2-df30-acdd9348f51a"
      },
      "source": [
        "!ls"
      ],
      "execution_count": 14,
      "outputs": [
        {
          "output_type": "stream",
          "text": [
            "archive.zip  kaggle_3m\tlgg-mri-segmentation\n"
          ],
          "name": "stdout"
        }
      ]
    },
    {
      "cell_type": "code",
      "metadata": {
        "id": "PXxELb36eYDz"
      },
      "source": [
        "directory_path = 'kaggle_3m/'"
      ],
      "execution_count": 15,
      "outputs": []
    },
    {
      "cell_type": "code",
      "metadata": {
        "id": "tDfYANQ-y86i"
      },
      "source": [
        "dataset = pd.read_csv('kaggle_3m/data.csv')"
      ],
      "execution_count": 17,
      "outputs": []
    },
    {
      "cell_type": "code",
      "metadata": {
        "colab": {
          "base_uri": "https://localhost:8080/"
        },
        "id": "ltelpcoE6S-G",
        "outputId": "760896b4-f284-40d1-a850-df91a2dc6673"
      },
      "source": [
        "dataset.info"
      ],
      "execution_count": 18,
      "outputs": [
        {
          "output_type": "execute_result",
          "data": {
            "text/plain": [
              "<bound method DataFrame.info of           Patient  RNASeqCluster  MethylationCluster  ...  race  ethnicity  death01\n",
              "0    TCGA_CS_4941            2.0                 4.0  ...   3.0        2.0      1.0\n",
              "1    TCGA_CS_4942            1.0                 5.0  ...   2.0        NaN      1.0\n",
              "2    TCGA_CS_4943            1.0                 5.0  ...   3.0        NaN      0.0\n",
              "3    TCGA_CS_4944            NaN                 5.0  ...   3.0        NaN      0.0\n",
              "4    TCGA_CS_5393            4.0                 5.0  ...   3.0        NaN      0.0\n",
              "..            ...            ...                 ...  ...   ...        ...      ...\n",
              "105  TCGA_HT_8563            2.0                 5.0  ...   3.0        2.0      0.0\n",
              "106  TCGA_HT_A5RC            2.0                 4.0  ...   3.0        2.0      1.0\n",
              "107  TCGA_HT_A616            NaN                 5.0  ...   3.0        2.0      0.0\n",
              "108  TCGA_HT_A61A            NaN                 5.0  ...   3.0        2.0      0.0\n",
              "109  TCGA_HT_A61B            NaN                 5.0  ...   NaN        NaN      NaN\n",
              "\n",
              "[110 rows x 18 columns]>"
            ]
          },
          "metadata": {
            "tags": []
          },
          "execution_count": 18
        }
      ]
    },
    {
      "cell_type": "code",
      "metadata": {
        "colab": {
          "base_uri": "https://localhost:8080/",
          "height": 214
        },
        "id": "QLDGbjsnQsBC",
        "outputId": "3ce386bf-1815-491d-fb41-a85baf36599c"
      },
      "source": [
        "dataset.head()"
      ],
      "execution_count": 19,
      "outputs": [
        {
          "output_type": "execute_result",
          "data": {
            "text/html": [
              "<div>\n",
              "<style scoped>\n",
              "    .dataframe tbody tr th:only-of-type {\n",
              "        vertical-align: middle;\n",
              "    }\n",
              "\n",
              "    .dataframe tbody tr th {\n",
              "        vertical-align: top;\n",
              "    }\n",
              "\n",
              "    .dataframe thead th {\n",
              "        text-align: right;\n",
              "    }\n",
              "</style>\n",
              "<table border=\"1\" class=\"dataframe\">\n",
              "  <thead>\n",
              "    <tr style=\"text-align: right;\">\n",
              "      <th></th>\n",
              "      <th>Patient</th>\n",
              "      <th>RNASeqCluster</th>\n",
              "      <th>MethylationCluster</th>\n",
              "      <th>miRNACluster</th>\n",
              "      <th>CNCluster</th>\n",
              "      <th>RPPACluster</th>\n",
              "      <th>OncosignCluster</th>\n",
              "      <th>COCCluster</th>\n",
              "      <th>histological_type</th>\n",
              "      <th>neoplasm_histologic_grade</th>\n",
              "      <th>tumor_tissue_site</th>\n",
              "      <th>laterality</th>\n",
              "      <th>tumor_location</th>\n",
              "      <th>gender</th>\n",
              "      <th>age_at_initial_pathologic</th>\n",
              "      <th>race</th>\n",
              "      <th>ethnicity</th>\n",
              "      <th>death01</th>\n",
              "    </tr>\n",
              "  </thead>\n",
              "  <tbody>\n",
              "    <tr>\n",
              "      <th>0</th>\n",
              "      <td>TCGA_CS_4941</td>\n",
              "      <td>2.0</td>\n",
              "      <td>4.0</td>\n",
              "      <td>2</td>\n",
              "      <td>2.0</td>\n",
              "      <td>NaN</td>\n",
              "      <td>3.0</td>\n",
              "      <td>2</td>\n",
              "      <td>1.0</td>\n",
              "      <td>2.0</td>\n",
              "      <td>1.0</td>\n",
              "      <td>3.0</td>\n",
              "      <td>2.0</td>\n",
              "      <td>2.0</td>\n",
              "      <td>67.0</td>\n",
              "      <td>3.0</td>\n",
              "      <td>2.0</td>\n",
              "      <td>1.0</td>\n",
              "    </tr>\n",
              "    <tr>\n",
              "      <th>1</th>\n",
              "      <td>TCGA_CS_4942</td>\n",
              "      <td>1.0</td>\n",
              "      <td>5.0</td>\n",
              "      <td>2</td>\n",
              "      <td>1.0</td>\n",
              "      <td>1.0</td>\n",
              "      <td>2.0</td>\n",
              "      <td>1</td>\n",
              "      <td>1.0</td>\n",
              "      <td>2.0</td>\n",
              "      <td>1.0</td>\n",
              "      <td>3.0</td>\n",
              "      <td>2.0</td>\n",
              "      <td>1.0</td>\n",
              "      <td>44.0</td>\n",
              "      <td>2.0</td>\n",
              "      <td>NaN</td>\n",
              "      <td>1.0</td>\n",
              "    </tr>\n",
              "    <tr>\n",
              "      <th>2</th>\n",
              "      <td>TCGA_CS_4943</td>\n",
              "      <td>1.0</td>\n",
              "      <td>5.0</td>\n",
              "      <td>2</td>\n",
              "      <td>1.0</td>\n",
              "      <td>2.0</td>\n",
              "      <td>2.0</td>\n",
              "      <td>1</td>\n",
              "      <td>1.0</td>\n",
              "      <td>2.0</td>\n",
              "      <td>1.0</td>\n",
              "      <td>1.0</td>\n",
              "      <td>2.0</td>\n",
              "      <td>2.0</td>\n",
              "      <td>37.0</td>\n",
              "      <td>3.0</td>\n",
              "      <td>NaN</td>\n",
              "      <td>0.0</td>\n",
              "    </tr>\n",
              "    <tr>\n",
              "      <th>3</th>\n",
              "      <td>TCGA_CS_4944</td>\n",
              "      <td>NaN</td>\n",
              "      <td>5.0</td>\n",
              "      <td>2</td>\n",
              "      <td>1.0</td>\n",
              "      <td>2.0</td>\n",
              "      <td>1.0</td>\n",
              "      <td>1</td>\n",
              "      <td>1.0</td>\n",
              "      <td>1.0</td>\n",
              "      <td>1.0</td>\n",
              "      <td>3.0</td>\n",
              "      <td>6.0</td>\n",
              "      <td>2.0</td>\n",
              "      <td>50.0</td>\n",
              "      <td>3.0</td>\n",
              "      <td>NaN</td>\n",
              "      <td>0.0</td>\n",
              "    </tr>\n",
              "    <tr>\n",
              "      <th>4</th>\n",
              "      <td>TCGA_CS_5393</td>\n",
              "      <td>4.0</td>\n",
              "      <td>5.0</td>\n",
              "      <td>2</td>\n",
              "      <td>1.0</td>\n",
              "      <td>2.0</td>\n",
              "      <td>3.0</td>\n",
              "      <td>1</td>\n",
              "      <td>1.0</td>\n",
              "      <td>2.0</td>\n",
              "      <td>1.0</td>\n",
              "      <td>1.0</td>\n",
              "      <td>6.0</td>\n",
              "      <td>2.0</td>\n",
              "      <td>39.0</td>\n",
              "      <td>3.0</td>\n",
              "      <td>NaN</td>\n",
              "      <td>0.0</td>\n",
              "    </tr>\n",
              "  </tbody>\n",
              "</table>\n",
              "</div>"
            ],
            "text/plain": [
              "        Patient  RNASeqCluster  MethylationCluster  ...  race  ethnicity  death01\n",
              "0  TCGA_CS_4941            2.0                 4.0  ...   3.0        2.0      1.0\n",
              "1  TCGA_CS_4942            1.0                 5.0  ...   2.0        NaN      1.0\n",
              "2  TCGA_CS_4943            1.0                 5.0  ...   3.0        NaN      0.0\n",
              "3  TCGA_CS_4944            NaN                 5.0  ...   3.0        NaN      0.0\n",
              "4  TCGA_CS_5393            4.0                 5.0  ...   3.0        NaN      0.0\n",
              "\n",
              "[5 rows x 18 columns]"
            ]
          },
          "metadata": {
            "tags": []
          },
          "execution_count": 19
        }
      ]
    },
    {
      "cell_type": "code",
      "metadata": {
        "colab": {
          "base_uri": "https://localhost:8080/"
        },
        "id": "hhaGPx1ZSfo7",
        "outputId": "28fa16aa-8695-4bd4-a5b0-2c70054c9486"
      },
      "source": [
        "!ls\n"
      ],
      "execution_count": 20,
      "outputs": [
        {
          "output_type": "stream",
          "text": [
            "archive.zip  kaggle_3m\tlgg-mri-segmentation\n"
          ],
          "name": "stdout"
        }
      ]
    },
    {
      "cell_type": "code",
      "metadata": {
        "id": "QTJ5PltZZWW-"
      },
      "source": [
        ""
      ],
      "execution_count": null,
      "outputs": []
    }
  ]
}