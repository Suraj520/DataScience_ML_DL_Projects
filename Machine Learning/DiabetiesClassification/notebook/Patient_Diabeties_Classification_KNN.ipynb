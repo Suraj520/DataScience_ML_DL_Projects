{
  "nbformat": 4,
  "nbformat_minor": 0,
  "metadata": {
    "colab": {
      "name": "Patient_Diabeties_Classification_KNN.ipynb",
      "provenance": [],
      "collapsed_sections": []
    },
    "kernelspec": {
      "name": "python3",
      "display_name": "Python 3"
    },
    "language_info": {
      "name": "python"
    }
  },
  "cells": [
    {
      "cell_type": "markdown",
      "metadata": {
        "id": "s-q3u3FAMdSh"
      },
      "source": [
        "# Problem Statement\n",
        "Using K-nearest neighbours based Machine learning model to classify whether a patient is suffering from diabeties or not. \n",
        "\n",
        "Kaggle Dataset link: [Link](https://www.kaggle.com/uciml/pima-indians-diabetes-database)"
      ]
    },
    {
      "cell_type": "code",
      "metadata": {
        "id": "E3gQKsinMt8I"
      },
      "source": [
        "#importing neccessary modules\n",
        "import pandas as pd\n",
        "import sklearn\n",
        "import os\n",
        "import numpy as np\n",
        "from sklearn.impute import SimpleImputer\n",
        "from matplotlib import pyplot as plt\n",
        "import seaborn as sns\n",
        "%matplotlib inline\n",
        "from sklearn.neighbors import KNeighborsClassifier\n",
        "from sklearn.preprocessing import StandardScaler\n",
        "from sklearn.model_selection import cross_val_score, train_test_split, GridSearchCV\n",
        "from sklearn.metrics import confusion_matrix, f1_score, accuracy_score\n",
        "import pickle\n",
        "import json"
      ],
      "execution_count": 53,
      "outputs": []
    },
    {
      "cell_type": "code",
      "metadata": {
        "id": "HO2w9elkM3iv"
      },
      "source": [
        "|os.chdir('/content/drive/MyDrive/Colab Notebooks/Dataset/DiabetiesDataset/')"
      ],
      "execution_count": 19,
      "outputs": []
    },
    {
      "cell_type": "code",
      "metadata": {
        "id": "rlfhD7ppNGnQ"
      },
      "source": [
        "dataset = pd.read_csv('diabetes.csv')"
      ],
      "execution_count": 20,
      "outputs": []
    },
    {
      "cell_type": "code",
      "metadata": {
        "colab": {
          "base_uri": "https://localhost:8080/",
          "height": 343
        },
        "id": "Z7tpM7sKNR9P",
        "outputId": "f4e3b9df-b092-47a4-c053-326d9d2616d1"
      },
      "source": [
        "dataset.head(10)"
      ],
      "execution_count": 21,
      "outputs": [
        {
          "output_type": "execute_result",
          "data": {
            "text/html": [
              "<div>\n",
              "<style scoped>\n",
              "    .dataframe tbody tr th:only-of-type {\n",
              "        vertical-align: middle;\n",
              "    }\n",
              "\n",
              "    .dataframe tbody tr th {\n",
              "        vertical-align: top;\n",
              "    }\n",
              "\n",
              "    .dataframe thead th {\n",
              "        text-align: right;\n",
              "    }\n",
              "</style>\n",
              "<table border=\"1\" class=\"dataframe\">\n",
              "  <thead>\n",
              "    <tr style=\"text-align: right;\">\n",
              "      <th></th>\n",
              "      <th>Pregnancies</th>\n",
              "      <th>Glucose</th>\n",
              "      <th>BloodPressure</th>\n",
              "      <th>SkinThickness</th>\n",
              "      <th>Insulin</th>\n",
              "      <th>BMI</th>\n",
              "      <th>DiabetesPedigreeFunction</th>\n",
              "      <th>Age</th>\n",
              "      <th>Outcome</th>\n",
              "    </tr>\n",
              "  </thead>\n",
              "  <tbody>\n",
              "    <tr>\n",
              "      <th>0</th>\n",
              "      <td>6</td>\n",
              "      <td>148</td>\n",
              "      <td>72</td>\n",
              "      <td>35</td>\n",
              "      <td>0</td>\n",
              "      <td>33.6</td>\n",
              "      <td>0.627</td>\n",
              "      <td>50</td>\n",
              "      <td>1</td>\n",
              "    </tr>\n",
              "    <tr>\n",
              "      <th>1</th>\n",
              "      <td>1</td>\n",
              "      <td>85</td>\n",
              "      <td>66</td>\n",
              "      <td>29</td>\n",
              "      <td>0</td>\n",
              "      <td>26.6</td>\n",
              "      <td>0.351</td>\n",
              "      <td>31</td>\n",
              "      <td>0</td>\n",
              "    </tr>\n",
              "    <tr>\n",
              "      <th>2</th>\n",
              "      <td>8</td>\n",
              "      <td>183</td>\n",
              "      <td>64</td>\n",
              "      <td>0</td>\n",
              "      <td>0</td>\n",
              "      <td>23.3</td>\n",
              "      <td>0.672</td>\n",
              "      <td>32</td>\n",
              "      <td>1</td>\n",
              "    </tr>\n",
              "    <tr>\n",
              "      <th>3</th>\n",
              "      <td>1</td>\n",
              "      <td>89</td>\n",
              "      <td>66</td>\n",
              "      <td>23</td>\n",
              "      <td>94</td>\n",
              "      <td>28.1</td>\n",
              "      <td>0.167</td>\n",
              "      <td>21</td>\n",
              "      <td>0</td>\n",
              "    </tr>\n",
              "    <tr>\n",
              "      <th>4</th>\n",
              "      <td>0</td>\n",
              "      <td>137</td>\n",
              "      <td>40</td>\n",
              "      <td>35</td>\n",
              "      <td>168</td>\n",
              "      <td>43.1</td>\n",
              "      <td>2.288</td>\n",
              "      <td>33</td>\n",
              "      <td>1</td>\n",
              "    </tr>\n",
              "    <tr>\n",
              "      <th>5</th>\n",
              "      <td>5</td>\n",
              "      <td>116</td>\n",
              "      <td>74</td>\n",
              "      <td>0</td>\n",
              "      <td>0</td>\n",
              "      <td>25.6</td>\n",
              "      <td>0.201</td>\n",
              "      <td>30</td>\n",
              "      <td>0</td>\n",
              "    </tr>\n",
              "    <tr>\n",
              "      <th>6</th>\n",
              "      <td>3</td>\n",
              "      <td>78</td>\n",
              "      <td>50</td>\n",
              "      <td>32</td>\n",
              "      <td>88</td>\n",
              "      <td>31.0</td>\n",
              "      <td>0.248</td>\n",
              "      <td>26</td>\n",
              "      <td>1</td>\n",
              "    </tr>\n",
              "    <tr>\n",
              "      <th>7</th>\n",
              "      <td>10</td>\n",
              "      <td>115</td>\n",
              "      <td>0</td>\n",
              "      <td>0</td>\n",
              "      <td>0</td>\n",
              "      <td>35.3</td>\n",
              "      <td>0.134</td>\n",
              "      <td>29</td>\n",
              "      <td>0</td>\n",
              "    </tr>\n",
              "    <tr>\n",
              "      <th>8</th>\n",
              "      <td>2</td>\n",
              "      <td>197</td>\n",
              "      <td>70</td>\n",
              "      <td>45</td>\n",
              "      <td>543</td>\n",
              "      <td>30.5</td>\n",
              "      <td>0.158</td>\n",
              "      <td>53</td>\n",
              "      <td>1</td>\n",
              "    </tr>\n",
              "    <tr>\n",
              "      <th>9</th>\n",
              "      <td>8</td>\n",
              "      <td>125</td>\n",
              "      <td>96</td>\n",
              "      <td>0</td>\n",
              "      <td>0</td>\n",
              "      <td>0.0</td>\n",
              "      <td>0.232</td>\n",
              "      <td>54</td>\n",
              "      <td>1</td>\n",
              "    </tr>\n",
              "  </tbody>\n",
              "</table>\n",
              "</div>"
            ],
            "text/plain": [
              "   Pregnancies  Glucose  BloodPressure  ...  DiabetesPedigreeFunction  Age  Outcome\n",
              "0            6      148             72  ...                     0.627   50        1\n",
              "1            1       85             66  ...                     0.351   31        0\n",
              "2            8      183             64  ...                     0.672   32        1\n",
              "3            1       89             66  ...                     0.167   21        0\n",
              "4            0      137             40  ...                     2.288   33        1\n",
              "5            5      116             74  ...                     0.201   30        0\n",
              "6            3       78             50  ...                     0.248   26        1\n",
              "7           10      115              0  ...                     0.134   29        0\n",
              "8            2      197             70  ...                     0.158   53        1\n",
              "9            8      125             96  ...                     0.232   54        1\n",
              "\n",
              "[10 rows x 9 columns]"
            ]
          },
          "metadata": {
            "tags": []
          },
          "execution_count": 21
        }
      ]
    },
    {
      "cell_type": "code",
      "metadata": {
        "colab": {
          "base_uri": "https://localhost:8080/"
        },
        "id": "_xzNw0IjOpJA",
        "outputId": "799c50e8-605c-454f-cbda-57ce3dc80d54"
      },
      "source": [
        "dataset.info()"
      ],
      "execution_count": 22,
      "outputs": [
        {
          "output_type": "stream",
          "text": [
            "<class 'pandas.core.frame.DataFrame'>\n",
            "RangeIndex: 768 entries, 0 to 767\n",
            "Data columns (total 9 columns):\n",
            " #   Column                    Non-Null Count  Dtype  \n",
            "---  ------                    --------------  -----  \n",
            " 0   Pregnancies               768 non-null    int64  \n",
            " 1   Glucose                   768 non-null    int64  \n",
            " 2   BloodPressure             768 non-null    int64  \n",
            " 3   SkinThickness             768 non-null    int64  \n",
            " 4   Insulin                   768 non-null    int64  \n",
            " 5   BMI                       768 non-null    float64\n",
            " 6   DiabetesPedigreeFunction  768 non-null    float64\n",
            " 7   Age                       768 non-null    int64  \n",
            " 8   Outcome                   768 non-null    int64  \n",
            "dtypes: float64(2), int64(7)\n",
            "memory usage: 54.1 KB\n"
          ],
          "name": "stdout"
        }
      ]
    },
    {
      "cell_type": "markdown",
      "metadata": {
        "id": "MSVE9J8gNvCn"
      },
      "source": [
        "# Observation\n",
        "We can observe that there are a lot of zero values in the columns like  Blood pressure, Skin Thickness, Insulin and BMI' which we can usually consider to be of non-zero values in each patient.\n",
        "\n",
        "Let's apply data imputation. We can replace the missing values using Mean/Median of the data, with end of tail method or simply remove the missing values using dropna.\n",
        "\n",
        "Since mean or median imputation often distorts the original distribution od the dataset which in turn may affect the accuracy of the model. We will not use it over here.\n",
        "\n",
        "However, since most of the observations(~99%) of a normally distributed data lie within mean ± 3 *standard deviations. so, at-times it is better to use end of tail imputatation.\n",
        "\n",
        "Let's have a look at the distribution of the data before finalising the data imputation.\n",
        "\n"
      ]
    },
    {
      "cell_type": "code",
      "metadata": {
        "colab": {
          "base_uri": "https://localhost:8080/",
          "height": 688
        },
        "id": "x_V10zEyTYWy",
        "outputId": "5c6c6c5c-6bd9-4393-d079-7175d5da5bae"
      },
      "source": [
        "#checking the distribution \n",
        "print(\"Skewness \", dataset.skew())\n",
        "print(\"******************************\")\n",
        "print(\"Kurtosis\", dataset.kurt())\n",
        "sns.distplot(dataset)"
      ],
      "execution_count": 23,
      "outputs": [
        {
          "output_type": "stream",
          "text": [
            "Skewness  Pregnancies                 0.901674\n",
            "Glucose                     0.173754\n",
            "BloodPressure              -1.843608\n",
            "SkinThickness               0.109372\n",
            "Insulin                     2.272251\n",
            "BMI                        -0.428982\n",
            "DiabetesPedigreeFunction    1.919911\n",
            "Age                         1.129597\n",
            "Outcome                     0.635017\n",
            "dtype: float64\n",
            "******************************\n",
            "Kurtosis Pregnancies                 0.159220\n",
            "Glucose                     0.640780\n",
            "BloodPressure               5.180157\n",
            "SkinThickness              -0.520072\n",
            "Insulin                     7.214260\n",
            "BMI                         3.290443\n",
            "DiabetesPedigreeFunction    5.594954\n",
            "Age                         0.643159\n",
            "Outcome                    -1.600930\n",
            "dtype: float64\n"
          ],
          "name": "stdout"
        },
        {
          "output_type": "stream",
          "text": [
            "/usr/local/lib/python3.7/dist-packages/seaborn/distributions.py:2557: FutureWarning: `distplot` is a deprecated function and will be removed in a future version. Please adapt your code to use either `displot` (a figure-level function with similar flexibility) or `histplot` (an axes-level function for histograms).\n",
            "  warnings.warn(msg, FutureWarning)\n"
          ],
          "name": "stderr"
        },
        {
          "output_type": "execute_result",
          "data": {
            "text/plain": [
              "<matplotlib.axes._subplots.AxesSubplot at 0x7f66999c6a50>"
            ]
          },
          "metadata": {
            "tags": []
          },
          "execution_count": 23
        },
        {
          "output_type": "display_data",
          "data": {
            "image/png": "[encoded data removed]",
            "text/plain": [
              "<Figure size 432x288 with 1 Axes>"
            ]
          },
          "metadata": {
            "tags": [],
            "needs_background": "light"
          }
        }
      ]
    },
    {
      "cell_type": "markdown",
      "metadata": {
        "id": "ZzJDv5cuXF2j"
      },
      "source": [
        "# Observation\n",
        "Overall the distribution is end-tailed towards right.\n",
        "We can clearly see that attributes like Blood Pressure, Insulin, BMI and DiabetiesPedigreeFunction contribute much to the overall kurtosis of the dataset.\n"
      ]
    },
    {
      "cell_type": "code",
      "metadata": {
        "id": "0z3SxxbzNdqQ"
      },
      "source": [
        "end_tail_columns = ['BloodPressure','Insulin','BMI']\n",
        "non_end_tail_columns = ['SkinThickness','Glucose']\n",
        "columns = end_tail_columns+ non_end_tail_columns\n",
        "#end tail imputation function\n",
        "def end_tail_imputation(df, column):\n",
        "  extreme_val = df[column].mean() + 3* df[column].std()\n",
        "  return extreme_val\n",
        "\n",
        "#iterating and replacing with the mean of non-zero values for non_end_tail columns and end_tailed values for the ones skewed.\n",
        "for column in columns:\n",
        "  dataset[column] = dataset[column].replace(0, np.NaN)\n",
        "  if column in end_tail_columns:\n",
        "    imputed_value = end_tail_imputation(dataset, column)\n",
        "  elif column in non_end_tail_columns:\n",
        "    imputed_value = np.ceil(dataset[column].mean(skipna=True))\n",
        "  dataset[column] = dataset[column].replace(np.NaN,imputed_value)\n"
      ],
      "execution_count": 28,
      "outputs": []
    },
    {
      "cell_type": "code",
      "metadata": {
        "colab": {
          "base_uri": "https://localhost:8080/",
          "height": 343
        },
        "id": "6S8ENPOcO5qP",
        "outputId": "ae2cb5b7-2719-4514-8f94-3529918ba707"
      },
      "source": [
        "dataset.head(10)"
      ],
      "execution_count": 29,
      "outputs": [
        {
          "output_type": "execute_result",
          "data": {
            "text/html": [
              "<div>\n",
              "<style scoped>\n",
              "    .dataframe tbody tr th:only-of-type {\n",
              "        vertical-align: middle;\n",
              "    }\n",
              "\n",
              "    .dataframe tbody tr th {\n",
              "        vertical-align: top;\n",
              "    }\n",
              "\n",
              "    .dataframe thead th {\n",
              "        text-align: right;\n",
              "    }\n",
              "</style>\n",
              "<table border=\"1\" class=\"dataframe\">\n",
              "  <thead>\n",
              "    <tr style=\"text-align: right;\">\n",
              "      <th></th>\n",
              "      <th>Pregnancies</th>\n",
              "      <th>Glucose</th>\n",
              "      <th>BloodPressure</th>\n",
              "      <th>SkinThickness</th>\n",
              "      <th>Insulin</th>\n",
              "      <th>BMI</th>\n",
              "      <th>DiabetesPedigreeFunction</th>\n",
              "      <th>Age</th>\n",
              "      <th>Outcome</th>\n",
              "    </tr>\n",
              "  </thead>\n",
              "  <tbody>\n",
              "    <tr>\n",
              "      <th>0</th>\n",
              "      <td>6</td>\n",
              "      <td>148.0</td>\n",
              "      <td>72.000000</td>\n",
              "      <td>35.0</td>\n",
              "      <td>511.875789</td>\n",
              "      <td>33.600000</td>\n",
              "      <td>0.627</td>\n",
              "      <td>50</td>\n",
              "      <td>1</td>\n",
              "    </tr>\n",
              "    <tr>\n",
              "      <th>1</th>\n",
              "      <td>1</td>\n",
              "      <td>85.0</td>\n",
              "      <td>66.000000</td>\n",
              "      <td>29.0</td>\n",
              "      <td>511.875789</td>\n",
              "      <td>26.600000</td>\n",
              "      <td>0.351</td>\n",
              "      <td>31</td>\n",
              "      <td>0</td>\n",
              "    </tr>\n",
              "    <tr>\n",
              "      <th>2</th>\n",
              "      <td>8</td>\n",
              "      <td>183.0</td>\n",
              "      <td>64.000000</td>\n",
              "      <td>30.0</td>\n",
              "      <td>511.875789</td>\n",
              "      <td>23.300000</td>\n",
              "      <td>0.672</td>\n",
              "      <td>32</td>\n",
              "      <td>1</td>\n",
              "    </tr>\n",
              "    <tr>\n",
              "      <th>3</th>\n",
              "      <td>1</td>\n",
              "      <td>89.0</td>\n",
              "      <td>66.000000</td>\n",
              "      <td>23.0</td>\n",
              "      <td>94.000000</td>\n",
              "      <td>28.100000</td>\n",
              "      <td>0.167</td>\n",
              "      <td>21</td>\n",
              "      <td>0</td>\n",
              "    </tr>\n",
              "    <tr>\n",
              "      <th>4</th>\n",
              "      <td>0</td>\n",
              "      <td>137.0</td>\n",
              "      <td>40.000000</td>\n",
              "      <td>35.0</td>\n",
              "      <td>168.000000</td>\n",
              "      <td>43.100000</td>\n",
              "      <td>2.288</td>\n",
              "      <td>33</td>\n",
              "      <td>1</td>\n",
              "    </tr>\n",
              "    <tr>\n",
              "      <th>5</th>\n",
              "      <td>5</td>\n",
              "      <td>116.0</td>\n",
              "      <td>74.000000</td>\n",
              "      <td>30.0</td>\n",
              "      <td>511.875789</td>\n",
              "      <td>25.600000</td>\n",
              "      <td>0.201</td>\n",
              "      <td>30</td>\n",
              "      <td>0</td>\n",
              "    </tr>\n",
              "    <tr>\n",
              "      <th>6</th>\n",
              "      <td>3</td>\n",
              "      <td>78.0</td>\n",
              "      <td>50.000000</td>\n",
              "      <td>32.0</td>\n",
              "      <td>88.000000</td>\n",
              "      <td>31.000000</td>\n",
              "      <td>0.248</td>\n",
              "      <td>26</td>\n",
              "      <td>1</td>\n",
              "    </tr>\n",
              "    <tr>\n",
              "      <th>7</th>\n",
              "      <td>10</td>\n",
              "      <td>115.0</td>\n",
              "      <td>109.551659</td>\n",
              "      <td>30.0</td>\n",
              "      <td>511.875789</td>\n",
              "      <td>35.300000</td>\n",
              "      <td>0.134</td>\n",
              "      <td>29</td>\n",
              "      <td>0</td>\n",
              "    </tr>\n",
              "    <tr>\n",
              "      <th>8</th>\n",
              "      <td>2</td>\n",
              "      <td>197.0</td>\n",
              "      <td>70.000000</td>\n",
              "      <td>45.0</td>\n",
              "      <td>543.000000</td>\n",
              "      <td>30.500000</td>\n",
              "      <td>0.158</td>\n",
              "      <td>53</td>\n",
              "      <td>1</td>\n",
              "    </tr>\n",
              "    <tr>\n",
              "      <th>9</th>\n",
              "      <td>8</td>\n",
              "      <td>125.0</td>\n",
              "      <td>96.000000</td>\n",
              "      <td>30.0</td>\n",
              "      <td>511.875789</td>\n",
              "      <td>53.232429</td>\n",
              "      <td>0.232</td>\n",
              "      <td>54</td>\n",
              "      <td>1</td>\n",
              "    </tr>\n",
              "  </tbody>\n",
              "</table>\n",
              "</div>"
            ],
            "text/plain": [
              "   Pregnancies  Glucose  BloodPressure  ...  DiabetesPedigreeFunction  Age  Outcome\n",
              "0            6    148.0      72.000000  ...                     0.627   50        1\n",
              "1            1     85.0      66.000000  ...                     0.351   31        0\n",
              "2            8    183.0      64.000000  ...                     0.672   32        1\n",
              "3            1     89.0      66.000000  ...                     0.167   21        0\n",
              "4            0    137.0      40.000000  ...                     2.288   33        1\n",
              "5            5    116.0      74.000000  ...                     0.201   30        0\n",
              "6            3     78.0      50.000000  ...                     0.248   26        1\n",
              "7           10    115.0     109.551659  ...                     0.134   29        0\n",
              "8            2    197.0      70.000000  ...                     0.158   53        1\n",
              "9            8    125.0      96.000000  ...                     0.232   54        1\n",
              "\n",
              "[10 rows x 9 columns]"
            ]
          },
          "metadata": {
            "tags": []
          },
          "execution_count": 29
        }
      ]
    },
    {
      "cell_type": "code",
      "metadata": {
        "id": "KgRyF7UZQwCQ"
      },
      "source": [
        "# getting the feature and target columns\n",
        "input_feature = dataset.iloc[:,0:8]\n",
        "target_feature = dataset.iloc[:,8]\n",
        "#splitting the dataset into train_test split\n",
        "X_train,X_test, y_train,y_test = train_test_split(input_feature, target_feature, random_state=42, test_size=0.3)"
      ],
      "execution_count": 32,
      "outputs": []
    },
    {
      "cell_type": "code",
      "metadata": {
        "colab": {
          "base_uri": "https://localhost:8080/"
        },
        "id": "Z_SvUw64bUts",
        "outputId": "0a8db917-fc8d-42cd-b23f-f881c5d0ee56"
      },
      "source": [
        "#printing the shapes \n",
        "\n",
        "print(\"Shape of Train Input features\", X_train.shape)\n",
        "print(\"Shape of Train Target feature\", y_train.shape)\n",
        "print(\"Shape of Test Input features\", X_test.shape)\n",
        "print(\"Shape of Test Target feature\",y_test.shape)"
      ],
      "execution_count": 33,
      "outputs": [
        {
          "output_type": "stream",
          "text": [
            "Shape of Train Input features (537, 8)\n",
            "Shape of Train Target feature (537,)\n",
            "Shape of Test Input features (231, 8)\n",
            "Shape of Test Target feature (231,)\n"
          ],
          "name": "stdout"
        }
      ]
    },
    {
      "cell_type": "code",
      "metadata": {
        "id": "HBdWJlLVbknq"
      },
      "source": [
        "#feature scaling\n",
        "FT = StandardScaler()\n",
        "FT.fit(X_train)\n",
        "X_train = FT.transform(X_train)\n",
        "X_test = FT.transform(X_test)"
      ],
      "execution_count": 34,
      "outputs": []
    },
    {
      "cell_type": "code",
      "metadata": {
        "colab": {
          "base_uri": "https://localhost:8080/"
        },
        "id": "EeoDAgeHeVEf",
        "outputId": "fa1ef96b-9888-4e8c-b608-debbade4ab0a"
      },
      "source": [
        "#fetching the params\n",
        "KNeighborsClassifier().get_params().keys()"
      ],
      "execution_count": 39,
      "outputs": [
        {
          "output_type": "execute_result",
          "data": {
            "text/plain": [
              "dict_keys(['algorithm', 'leaf_size', 'metric', 'metric_params', 'n_jobs', 'n_neighbors', 'p', 'weights'])"
            ]
          },
          "metadata": {
            "tags": []
          },
          "execution_count": 39
        }
      ]
    },
    {
      "cell_type": "code",
      "metadata": {
        "colab": {
          "base_uri": "https://localhost:8080/"
        },
        "id": "8KFlAHP7b3QK",
        "outputId": "a77bdbc9-f951-4154-af38-3a73fdda3f7e"
      },
      "source": [
        "#hyperparameter tuning on few of the aforementioned keys\n",
        "grid_params = {\n",
        "    'n_neighbors' : list(np.linspace(1,20,20,dtype=int)),\n",
        "    'weights': ['uniform','distance'],\n",
        "    'metric': ['euclidean', 'manhattan']\n",
        "}\n",
        "\n",
        "model = GridSearchCV(KNeighborsClassifier(), grid_params,verbose=1, cv=3, n_jobs=8).fit(X_train, y_train).best_estimator_\n"
      ],
      "execution_count": 49,
      "outputs": [
        {
          "output_type": "stream",
          "text": [
            "Fitting 3 folds for each of 80 candidates, totalling 240 fits\n"
          ],
          "name": "stdout"
        },
        {
          "output_type": "stream",
          "text": [
            "[Parallel(n_jobs=8)]: Using backend LokyBackend with 8 concurrent workers.\n",
            "[Parallel(n_jobs=8)]: Done  56 tasks      | elapsed:    0.5s\n",
            "[Parallel(n_jobs=8)]: Done 240 out of 240 | elapsed:    1.4s finished\n"
          ],
          "name": "stderr"
        }
      ]
    },
    {
      "cell_type": "code",
      "metadata": {
        "colab": {
          "base_uri": "https://localhost:8080/"
        },
        "id": "fAgnRyNteO0a",
        "outputId": "e9b81997-5ba7-4474-b3c9-632185417818"
      },
      "source": [
        "#predicting\n",
        "print(model.predict([X_test[0,:]]))"
      ],
      "execution_count": 50,
      "outputs": [
        {
          "output_type": "stream",
          "text": [
            "[0]\n"
          ],
          "name": "stdout"
        }
      ]
    },
    {
      "cell_type": "code",
      "metadata": {
        "colab": {
          "base_uri": "https://localhost:8080/"
        },
        "id": "ZHGanW0Ge8OD",
        "outputId": "5cb493e3-4cbc-489c-b161-6137d380c430"
      },
      "source": [
        "#printing the score\n",
        "model.score(X_test,y_test)"
      ],
      "execution_count": 51,
      "outputs": [
        {
          "output_type": "execute_result",
          "data": {
            "text/plain": [
              "0.7272727272727273"
            ]
          },
          "metadata": {
            "tags": []
          },
          "execution_count": 51
        }
      ]
    },
    {
      "cell_type": "code",
      "metadata": {
        "id": "rqghKtbdgGrW"
      },
      "source": [
        "y_pred = model.predict(X_test)"
      ],
      "execution_count": 54,
      "outputs": []
    },
    {
      "cell_type": "code",
      "metadata": {
        "colab": {
          "base_uri": "https://localhost:8080/"
        },
        "id": "3R0h2ARafbGL",
        "outputId": "5f69a3cc-0b28-4318-dbef-c4b26c299853"
      },
      "source": [
        "#printing the confusion matrix\n",
        "confusion_matrix(y_test, y_pred)\n"
      ],
      "execution_count": 55,
      "outputs": [
        {
          "output_type": "execute_result",
          "data": {
            "text/plain": [
              "array([[124,  27],\n",
              "       [ 36,  44]])"
            ]
          },
          "metadata": {
            "tags": []
          },
          "execution_count": 55
        }
      ]
    },
    {
      "cell_type": "code",
      "metadata": {
        "colab": {
          "base_uri": "https://localhost:8080/"
        },
        "id": "iASZfkfhgMCa",
        "outputId": "194d714e-782b-4961-d734-3a03c3ae2f51"
      },
      "source": [
        "f1_score(y_test,y_pred)"
      ],
      "execution_count": 56,
      "outputs": [
        {
          "output_type": "execute_result",
          "data": {
            "text/plain": [
              "0.5827814569536425"
            ]
          },
          "metadata": {
            "tags": []
          },
          "execution_count": 56
        }
      ]
    },
    {
      "cell_type": "code",
      "metadata": {
        "colab": {
          "base_uri": "https://localhost:8080/"
        },
        "id": "EUICHPzrgTKC",
        "outputId": "50b30a77-8f19-4069-eef7-1b466bff7249"
      },
      "source": [
        "accuracy_score(y_test, y_pred)"
      ],
      "execution_count": 57,
      "outputs": [
        {
          "output_type": "execute_result",
          "data": {
            "text/plain": [
              "0.7272727272727273"
            ]
          },
          "metadata": {
            "tags": []
          },
          "execution_count": 57
        }
      ]
    },
    {
      "cell_type": "markdown",
      "metadata": {
        "id": "ZjjB1P1fgurl"
      },
      "source": [
        "# Observation\n",
        "Here f1 score is a more valuable metric than accuracy score since we are also concerned about FP besides TP, FN as it may confuse the doctor to treat a patient who doesn't suffer from diabeties."
      ]
    },
    {
      "cell_type": "code",
      "metadata": {
        "id": "IA2zAKyHgWdy"
      },
      "source": [
        "#saving the model for serving\n",
        "with open('diabeties_classification_model.pkl','wb') as f:\n",
        "    pickle.dump(model,f)\n"
      ],
      "execution_count": 58,
      "outputs": []
    },
    {
      "cell_type": "code",
      "metadata": {
        "id": "Yd7lO4eIg6rs"
      },
      "source": [
        ""
      ],
      "execution_count": null,
      "outputs": []
    }
  ]
}