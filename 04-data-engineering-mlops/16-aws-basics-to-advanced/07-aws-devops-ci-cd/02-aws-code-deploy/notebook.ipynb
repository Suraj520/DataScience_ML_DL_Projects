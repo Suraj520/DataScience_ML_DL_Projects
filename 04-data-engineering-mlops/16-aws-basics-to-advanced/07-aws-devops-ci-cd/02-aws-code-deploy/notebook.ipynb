{
 "cells": [
  {
   "attachments": {},
   "cell_type": "markdown",
   "metadata": {},
   "source": [
    "## About\n",
    "\n",
    "> AWS CodeDeploy\n",
    "\n",
    "It is a fully managed deployment service that automates software deployments to a variety of compute services, including Amazon EC2 Instances, AWS Lambda functions, and on-premises servers. It allows us to deploy code from Github, BitBucket, Amazon S3 or your own Git repo.\n",
    "\n",
    "> Basic steps.\n",
    "\n",
    "1. Creating an application - To create an application, We can use the AWS management console or AWS CLI. We'll need to specify the application name, compute platform and any additional configuration options.\n",
    "\n",
    "2. Creating a deployment group - To create a deployment group, we can use the AWS management console or AWS CLI. We'll need to specify the deployment group name, compute platform and other configs.\n",
    "\n",
    "3. Creating a dployment - To create a deployment, We can use the AWS Management Console, AWS CLI or AWS SDKs. We'll need to specify the deployment group, revision location and other stuffs.\n",
    "\n",
    "An example of a CodeDeploy deploymnet config file in YAML"
   ]
  },
  {
   "cell_type": "code",
   "execution_count": null,
   "metadata": {},
   "outputs": [],
   "source": [
    "version: 0.0\n",
    "os: linux\n",
    "files:\n",
    "  - source: /\n",
    "    destination: /var/www/html\n",
    "hooks:\n",
    "  BeforeInstall:\n",
    "    - location: scripts/install_dependencies.sh\n",
    "      timeout: 300\n",
    "      runas: root\n",
    "  AfterInstall:\n",
    "    - location: scripts/start_server.sh\n",
    "      timeout: 300\n",
    "      runas: root\n"
   ]
  },
  {
   "attachments": {},
   "cell_type": "markdown",
   "metadata": {},
   "source": [
    "It specifies the files to be deployed to the /var/www/html directory, and it also specifies two hooks to run before and after the deployment.\n",
    "\n",
    "Reference - https://www.youtube.com/watch?v=KoNWlnx6E1I"
   ]
  },
  {
   "attachments": {},
   "cell_type": "markdown",
   "metadata": {},
   "source": []
  }
 ],
 "metadata": {
  "language_info": {
   "name": "python"
  },
  "orig_nbformat": 4
 },
 "nbformat": 4,
 "nbformat_minor": 2
}
