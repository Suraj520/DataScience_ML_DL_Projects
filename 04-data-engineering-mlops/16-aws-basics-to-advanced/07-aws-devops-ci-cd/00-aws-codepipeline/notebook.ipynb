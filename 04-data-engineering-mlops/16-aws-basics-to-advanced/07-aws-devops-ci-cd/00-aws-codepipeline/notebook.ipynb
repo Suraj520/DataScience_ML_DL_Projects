{
 "cells": [
  {
   "attachments": {},
   "cell_type": "markdown",
   "metadata": {},
   "source": [
    "## About\n",
    "\n",
    "> Amazon Code pipeline\n",
    "\n",
    "It is a fully managed continuous delivery service that helps us automate the release pipelines for fast and reliable application and infra updates. It allows us to build, test and deploy the code every time there is a code change, based on the release process models defined.\n",
    "\n",
    "> Steps to get started\n",
    "\n",
    "1. Creating a pipeline - To create a pipeline, Login to the AWS Management console and navigate to the CodePipeline service. Click the \"Create pipeline\" button and follow the prompts to create a new pipeline which specifies the pipeline name, source provider, build provider and deployment provider.\n",
    "\n",
    "2. Defining stages - To define the stages,w e can use the codepipeline console or AWS CLI. We'll need to specify the stage name, actions and any input or output artifacts that are required.\n",
    "\n",
    "3. Configuring the triggers - To configure triggers, We can use the codepipeline console or the AWS CLI. We'll need to specify the trigger type such as a code change or a time based scheduler as well as any additional config options.\n",
    "\n",
    "An example of a codepipeline pipeline in yaml"
   ]
  },
  {
   "cell_type": "code",
   "execution_count": null,
   "metadata": {},
   "outputs": [],
   "source": [
    "---\n",
    "Name: my-pipeline\n",
    "RoleArn: arn:aws:iam::123456789012:role/CodePipelineServiceRole\n",
    "ArtifactStore:\n",
    "  Type: S3\n",
    "  Location: my-bucket\n",
    "Stages:\n",
    "  - Name: Source\n",
    "    Actions:\n",
    "      - Name: SourceAction\n",
    "        ActionTypeId:\n",
    "          Category: Source\n",
    "          Owner: AWS\n",
    "          Provider: CodeCommit\n",
    "          Version: '1'\n",
    "        Configuration:\n",
    "          RepositoryName: my-repo\n",
    "          BranchName: master\n",
    "        OutputArtifacts:\n",
    "          - Name: source\n",
    "  - Name: Build\n",
    "    Actions:\n",
    "      - Name: BuildAction\n",
    "        ActionTypeId:\n",
    "          Category: Build\n",
    "          Owner: AWS\n",
    "          Provider: CodeBuild\n",
    "          Version: '1'\n",
    "        Configuration:\n",
    "          ProjectName: my-project\n",
    "        InputArtifacts:\n",
    "          - Name: source\n",
    "        OutputArtifacts:\n",
    "          - Name: build\n",
    "  - Name: Deploy\n",
    "    Actions:\n",
    "      - Name: DeployAction\n",
    "        ActionTypeId:\n",
    "          Category: Deploy\n",
    "          Owner: AWS\n",
    "          Provider: ElasticBeanstalk\n",
    "          Version: '1'\n",
    "        Configuration:\n",
    "          ApplicationName: my-app\n",
    "          EnvironmentName: my-env\n",
    "        InputArtifacts:\n",
    "          - Name: build\n"
   ]
  },
  {
   "attachments": {},
   "cell_type": "markdown",
   "metadata": {},
   "source": [
    "The yaml code defines a CodePipeline pipeline with three stages : source, build and deploy. The pipeline uses CodeCommit as the Source provider, CodeBuild as the build provider and ElasticBeanstalk  as the deployment provider.\n",
    "\n",
    "Reference - https://www.youtube.com/watch?v=NwzJCSPSPZs"
   ]
  },
  {
   "cell_type": "code",
   "execution_count": null,
   "metadata": {},
   "outputs": [],
   "source": []
  }
 ],
 "metadata": {
  "language_info": {
   "name": "python"
  },
  "orig_nbformat": 4
 },
 "nbformat": 4,
 "nbformat_minor": 2
}
