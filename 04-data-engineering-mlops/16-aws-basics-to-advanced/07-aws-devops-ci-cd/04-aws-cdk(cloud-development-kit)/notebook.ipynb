{
 "cells": [
  {
   "attachments": {},
   "cell_type": "markdown",
   "metadata": {},
   "source": [
    "## About\n",
    "\n",
    "> AWS CDK(Cloud Development Kit)\n",
    "\n",
    "It is an opensource software development framework to define cloud infrastructre in code and provision it through AWS CloudFormation. It allows developers to define infrastructre using familiar programming languages such as TypeScript, Python, Java, C# and JavaScript.\n",
    "\n",
    "> Getting started\n",
    "\n",
    "1. Installing the AWS CDK - To install the AWS CDK, We can use the Node.js npm or the pip. We'll need to install the AWS CDK CLI globally on the machine.\n",
    "\n",
    "2. Creating a project - To create a new project, we can use the AWS CDK CLI. We'll need to specify the programming language, project name and any additional config options.\n",
    "\n",
    "3. Defining the infrastructure - To define the infrastructre, we can use the programming language of the choice. We'll need to import the AWS CDK libraries and define the resources, properties and dependencies of the infrastrucutre.\n",
    "\n",
    "4. Deploying the infrastructure - To deploy the infrastructure, we can use the AWS CDK CLI. We'll need to specify the AWS region, AWS account and any additional config.\n"
   ]
  },
  {
   "attachments": {},
   "cell_type": "markdown",
   "metadata": {},
   "source": [
    "An example of an AWS CDK TypeScript code is given below"
   ]
  },
  {
   "cell_type": "code",
   "execution_count": null,
   "metadata": {},
   "outputs": [],
   "source": [
    "import * as cdk from 'aws-cdk-lib';\n",
    "import * as ec2 from 'aws-cdk-lib/aws-ec2';\n",
    "\n",
    "const app = new cdk.App();\n",
    "const stack = new cdk.Stack(app, 'MyStack');\n",
    "\n",
    "const vpc = new ec2.Vpc(stack, 'MyVPC', {\n",
    "  cidr: '10.0.0.0/16',\n",
    "  maxAzs: 2,\n",
    "});\n",
    "\n",
    "const instance = new ec2.Instance(stack, 'MyInstance', {\n",
    "  instanceType: new ec2.InstanceType('t2.micro'),\n",
    "  machineImage: new ec2.AmazonLinuxImage(),\n",
    "  vpc: vpc,\n",
    "});\n",
    "\n",
    "instance.connections.allowFromAnyIpv4(ec2.Port.tcp(22));\n",
    "\n",
    "app.synth();\n"
   ]
  },
  {
   "attachments": {},
   "cell_type": "markdown",
   "metadata": {},
   "source": [
    "The code defines a VPC and an EC2 instance with SSH instance.\n",
    "\n",
    "Reference - https://www.youtube.com/watch?v=T-H4nJQyMig"
   ]
  },
  {
   "attachments": {},
   "cell_type": "markdown",
   "metadata": {},
   "source": []
  }
 ],
 "metadata": {
  "language_info": {
   "name": "python"
  },
  "orig_nbformat": 4
 },
 "nbformat": 4,
 "nbformat_minor": 2
}
