{
 "cells": [
  {
   "attachments": {},
   "cell_type": "markdown",
   "metadata": {},
   "source": [
    "## About\n",
    "\n",
    "> AWS Code Build\n",
    "\n",
    "It is a fully managed build service that compiles source code, run tests, and produces software packages that are ready for deployment. It eliminates the need to provision,manage and scale our own build servers and it integrates with other AWS services like CodePipeline and CodeCommit.\n",
    "\n",
    "> Getting started\n",
    "\n",
    "1. Creating a build project - To create a build project, We can log into the AWS Management console and navigate to the codebuild service. Click the \"create build project\" button and follow the prompts to create a new build project which specifies the project name, source provider, build environment and build commands.\n",
    "\n",
    "2. Defining build specifications : To define build specifications, we can use the CodeBuild console or a buildspec.yml file in the source code repo. We'll need to specify the build commands, env variables and any artifacts.\n",
    "\n",
    "3. Starting a build - To start a build, We can use the CodeBuild console, The AWS CLI or the AWS SDKs. We'll need to specify the build project, source code location and additional configs.\n"
   ]
  },
  {
   "attachments": {},
   "cell_type": "markdown",
   "metadata": {},
   "source": [
    "Example of a sample buildpsec.yml file"
   ]
  },
  {
   "cell_type": "code",
   "execution_count": null,
   "metadata": {},
   "outputs": [],
   "source": [
    "version: 0.2\n",
    "\n",
    "phases:\n",
    "  install:\n",
    "    runtime-versions:\n",
    "      python: 3.8\n",
    "    commands:\n",
    "      - pip install -r requirements.txt\n",
    "  build:\n",
    "    commands:\n",
    "      - python app.py\n",
    "artifacts:\n",
    "  files:\n",
    "    - '**/*'\n"
   ]
  },
  {
   "attachments": {},
   "cell_type": "markdown",
   "metadata": {},
   "source": [
    "It uses Python3.8 and installs the required dependencies before running the app.py. It also specifies that all fiels in the project should be included in the build artifacts."
   ]
  },
  {
   "attachments": {},
   "cell_type": "markdown",
   "metadata": {},
   "source": [
    "Following is an example of a build project in JSON"
   ]
  },
  {
   "cell_type": "code",
   "execution_count": null,
   "metadata": {},
   "outputs": [],
   "source": [
    "{\n",
    "  \"name\": \"my-project\",\n",
    "  \"description\": \"My CodeBuild project\",\n",
    "  \"source\": {\n",
    "    \"type\": \"CODECOMMIT\",\n",
    "    \"location\": \"my-re\"\n",
    "  },\n",
    "  \"artifacts\": {\n",
    "    \"type\": \"S3\",\n",
    "    \"location\": \"my-bucket\"\n",
    "  },\n",
    "  \"environment\": {\n",
    "    \"type\": \"LINUX_CONTAINER\",\n",
    "    \"image\": \"aws/codebuild:3.8.0\",\n",
    "    \"computeType\": \"BUILD_GENERAL1_SMALL\"\n",
    "  },\n",
    "  \"serviceRole\": \"arn:aws:iam::123456789012:role/CodeBuildServiceRole\"\n",
    "}\n"
   ]
  },
  {
   "attachments": {},
   "cell_type": "markdown",
   "metadata": {},
   "source": [
    "It defines a CodeBuild project that uses CodeCommit as the source provider, S3 as the artifact provider and a python 3.8 build environment. It also specifies the IAM role that CodeBuild should use to access AWS resources.\n",
    "\n",
    "Reference - https://www.youtube.com/watch?v=3CcGtRidF9c"
   ]
  },
  {
   "attachments": {},
   "cell_type": "markdown",
   "metadata": {},
   "source": []
  }
 ],
 "metadata": {
  "language_info": {
   "name": "python"
  },
  "orig_nbformat": 4
 },
 "nbformat": 4,
 "nbformat_minor": 2
}
