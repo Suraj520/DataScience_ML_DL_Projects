{
 "cells": [
  {
   "attachments": {},
   "cell_type": "markdown",
   "metadata": {},
   "source": [
    "## About\n",
    "\n",
    "> AWS cloud formation\n",
    "\n",
    "It is a service that allows us to define and deploy infrastructre as code. It uses templates to describe the resources and dependencies of the AWS infra and it automates the provisioning and updating of those resources.\n",
    "\n",
    "> Getting started\n",
    "\n",
    "1. Creating a template - To create a template, We can use the AWS Management console, AWS CLI or a text editor. We'll need to specify the resources, params and outputs of the infrastructure.\n",
    "\n",
    "2. Validating the template - To validate the template, we can use the AWS management console or AWS CLI. This step ensures that the template is syntactically correct and follows best AWS practises.\n",
    "\n",
    "3. Creating a stack - To create a stack, We can use the AWS management console or AWS CLI or AWS SDKs. We'll need to specify the stack name, template location or any additional config."
   ]
  },
  {
   "attachments": {},
   "cell_type": "markdown",
   "metadata": {},
   "source": [
    "An example of a CloudFormation template in YAML"
   ]
  },
  {
   "cell_type": "code",
   "execution_count": null,
   "metadata": {},
   "outputs": [],
   "source": [
    "---\n",
    "Resources:\n",
    "  MyBucket:\n",
    "    Type: AWS::S3::Bucket\n",
    "    Properties:\n",
    "      BucketName: my-bucket\n",
    "      AccessControl: Private\n",
    "Outputs:\n",
    "  BucketName:\n",
    "    Value: !Ref MyBucket\n"
   ]
  },
  {
   "attachments": {},
   "cell_type": "markdown",
   "metadata": {},
   "source": [
    "The Cloud Formation template defines a S3 bucket with the name \"my-bucket\" and private access control. It also specifies an output that references the bucket name.\n",
    "\n",
    "Reference - https://www.youtube.com/watch?v=t97jZch4lMY"
   ]
  },
  {
   "attachments": {},
   "cell_type": "markdown",
   "metadata": {},
   "source": []
  }
 ],
 "metadata": {
  "language_info": {
   "name": "python"
  },
  "orig_nbformat": 4
 },
 "nbformat": 4,
 "nbformat_minor": 2
}
