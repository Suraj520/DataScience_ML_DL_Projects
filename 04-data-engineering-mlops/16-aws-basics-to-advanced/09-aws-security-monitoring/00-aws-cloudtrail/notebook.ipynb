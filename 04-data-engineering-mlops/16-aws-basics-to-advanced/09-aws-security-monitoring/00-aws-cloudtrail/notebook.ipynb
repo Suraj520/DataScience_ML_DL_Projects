{
 "cells": [
  {
   "attachments": {},
   "cell_type": "markdown",
   "metadata": {},
   "source": [
    "## About\n",
    "\n",
    "> Amazon CloudTrail\n",
    "\n",
    "It is a service that enables governance, compliance, operational auditing and risk auditing of the AWS account. It provides a record of all AWS API calls made in the account including who made the call and when it was made along with the resources that were affected.\n",
    "\n",
    "> The steps to get started :\n",
    "\n",
    "1. Creating a trail - To create a trail, We can use the AWS management console or AWS CLI. We'll need to specify the trail name, the S3 bucket where the logs will be stored and other configs.\n",
    "\n",
    "2. Enabling logging - To enable logging, We can use the AWS management console or AWS CLI. We'll need to specify the AWS services that we want to log and any additional configs.\n",
    "\n",
    "3. Analyze logs - To analyse the logs, We can use the AWS Management console or AWS CLI. We'll need to download the logs from the s3 bucket and parse them to extract the relevant information."
   ]
  },
  {
   "cell_type": "code",
   "execution_count": null,
   "metadata": {},
   "outputs": [],
   "source": [
    "import boto3\n",
    "\n",
    "client = boto3.client('cloudtrail')\n",
    "\n",
    "response = client.create_trail(\n",
    "    Name='my-trail',\n",
    "    S3BucketName='my-bucket',\n",
    "    IsMultiRegionTrail=True,\n",
    ")\n",
    "\n",
    "print(response['TrailARN'])\n"
   ]
  },
  {
   "attachments": {},
   "cell_type": "markdown",
   "metadata": {},
   "source": [
    "The above snippet creates a trail that logs all AWS API calls to an S3 bucket and prints the trail ARN."
   ]
  },
  {
   "attachments": {},
   "cell_type": "markdown",
   "metadata": {},
   "source": [
    "Reference - https://www.youtube.com/watch?v=Vgi3ukxc1n0"
   ]
  },
  {
   "attachments": {},
   "cell_type": "markdown",
   "metadata": {},
   "source": []
  }
 ],
 "metadata": {
  "language_info": {
   "name": "python"
  },
  "orig_nbformat": 4
 },
 "nbformat": 4,
 "nbformat_minor": 2
}
