{
 "cells": [
  {
   "attachments": {},
   "cell_type": "markdown",
   "metadata": {},
   "source": [
    "## About\n",
    "\n",
    "> AWS Guardduty\n",
    "\n",
    "It is a threat detection service that continuously monitors AWS accounts and workloads for malicious activity and unauthorized behavious. It uses machine learning and other detection techniques to identify potential security threats, such as compromised credentials, malicious IPs, and unusual API activity.\n",
    "\n",
    "> Getting started\n",
    "\n",
    "1. Enabling GuardDuty : To enable GuardDuty, We can use the AWS Management console or AWS CLI. We'll need to select the AWS accounts and regions to monitor and configure any other settings.\n",
    "\n",
    "2. Reviewing the findings - To review GuardDuty findings, We can use the AWS management console or AWS CLI. We'll need to view the findings dashboard and investigate any potential security threats.\n",
    "\n",
    "3. Respond to findings. To respond to GuardDuty findings, We can use the AWS Management Console or AWS CLI. We'll need to take appropriate actions to fix any security threats and prevent future incidents."
   ]
  },
  {
   "cell_type": "code",
   "execution_count": null,
   "metadata": {},
   "outputs": [],
   "source": [
    "import boto3\n",
    "\n",
    "client = boto3.client('guardduty')\n",
    "\n",
    "response = client.list_detectors()\n",
    "\n",
    "print(response)\n"
   ]
  },
  {
   "attachments": {},
   "cell_type": "markdown",
   "metadata": {},
   "source": [
    "The code snippet lists the guardduty detectors in one's account.\n",
    "\n",
    "\n",
    "REference - https://www.youtube.com/watch?v=eq3_H-aiHhk"
   ]
  },
  {
   "attachments": {},
   "cell_type": "markdown",
   "metadata": {},
   "source": []
  }
 ],
 "metadata": {
  "language_info": {
   "name": "python"
  },
  "orig_nbformat": 4
 },
 "nbformat": 4,
 "nbformat_minor": 2
}
