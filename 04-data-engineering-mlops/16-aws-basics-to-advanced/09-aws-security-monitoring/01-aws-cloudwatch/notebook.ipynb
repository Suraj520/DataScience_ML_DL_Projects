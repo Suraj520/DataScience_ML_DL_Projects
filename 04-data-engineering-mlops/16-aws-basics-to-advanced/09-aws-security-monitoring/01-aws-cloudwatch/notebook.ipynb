{
 "cells": [
  {
   "attachments": {},
   "cell_type": "markdown",
   "metadata": {},
   "source": [
    "## About\n",
    "\n",
    "> Amazon CloudWatch\n",
    "\n",
    "It is a monitoring and observability service that provides data and actionable insights for AWS resources and applications. It provides a range of tools and features to help one monitor and trouble shoot the AWS resources including logs, metrics and alarms.\n",
    "\n",
    "> Getting started\n",
    "\n",
    "1. Creating a metric filter - To create a metric filter, We can use the AWS Management console or AWS CLI. We'll need to specify the log group and any filter patterns.\n",
    "\n",
    "2. Creating a metric alarm - To create a metric alarm, we can use the AWS management console or AWS CLI. We'll need to specify the metric, the threshold and any additional configuration options/\n",
    "\n",
    "3. Analyze metrics and logs - To analyze metrics and logs, we can use the AWS management console or AWS CLI. We'll need to select the relevant metrics and logs and use the avail tools and features to analyze the data.\n"
   ]
  },
  {
   "cell_type": "code",
   "execution_count": null,
   "metadata": {},
   "outputs": [],
   "source": [
    "import boto3\n",
    "\n",
    "client = boto3.client('cloudwatch')\n",
    "\n",
    "response = client.put_metric_data(\n",
    "    Namespace='MyNamespace',\n",
    "    MetricData=[\n",
    "        {\n",
    "            'MetricName': 'MyMetric',\n",
    "            'Dimensions': [\n",
    "                {\n",
    "                    'Name': 'MyDimension',\n",
    "                    'Value': 'MyValue'\n",
    "                },\n",
    "            ],\n",
    "            'Value': 1.0,\n",
    "            'Unit': 'Count',\n",
    "        },\n",
    "    ],\n",
    ")\n",
    "\n",
    "print(response)\n"
   ]
  },
  {
   "attachments": {},
   "cell_type": "markdown",
   "metadata": {},
   "source": [
    "The above code nsippet puts a metric data point for a custom metric named \"MyMetric\" with a dimension named \"MyDimension\" and a value of 1.0.\n",
    "\n",
    "\n",
    "Reference - https://www.youtube.com/watch?v=__knpcBRLHg"
   ]
  },
  {
   "cell_type": "code",
   "execution_count": null,
   "metadata": {},
   "outputs": [],
   "source": []
  }
 ],
 "metadata": {
  "language_info": {
   "name": "python"
  },
  "orig_nbformat": 4
 },
 "nbformat": 4,
 "nbformat_minor": 2
}
