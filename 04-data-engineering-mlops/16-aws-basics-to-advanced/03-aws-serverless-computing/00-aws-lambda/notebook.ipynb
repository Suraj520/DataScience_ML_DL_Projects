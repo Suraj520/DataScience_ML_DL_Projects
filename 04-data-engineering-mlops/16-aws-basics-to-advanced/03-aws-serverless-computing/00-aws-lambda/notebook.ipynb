{
 "cells": [
  {
   "attachments": {},
   "cell_type": "markdown",
   "metadata": {},
   "source": [
    "## About\n",
    "\n",
    "> AWS Lambda\n",
    "\n",
    "It is a serverless computing service provided by AWS. It allows us to run without provisioning or managing servers and we only pay for the compute time that is consumed in the interim. AWS Lambda supports a variety of programming languages like Node.js, Python, Java and C#.\n",
    "\n",
    "> Steps\n",
    "\n",
    "1. Creating a lambda function - To create a lambda function, We need to login to the AWS Management console and navigate to the lambda service. The \"Create function\" button needs to be clicked then which should follow a set of instructions to create a new lambda function. We need to specify the programming language that we want to use and upload the code.\n",
    "\n",
    "2. Configuring the triggers - To trigger the lambda function, We can use a variety of AWS services including Amazon S3, Amazon DynamoDB and Amazon API Gateway. To configure a trigger, navigate to the \"Triggers\" section of the lambda function and click \"Add Trigger\" button. Next set of prompts should be followed to configure the trigger.\n",
    "\n",
    "3. Testing the function - To test the function, We can use the AWS Management console or the AWS CLI. To test the function using AWS Management console, Navigate to the Test section of the AWS Lambda function and click the \"TEST\"button. Follow the prompts to configure the test event and run function\n",
    "\n",
    "Reference - https://www.youtube.com/watch?v=61aSJq27SLs\n",
    "\n",
    "Example of a lambda function written in Node.js that should respond to a HTTP request is\n"
   ]
  },
  {
   "cell_type": "code",
   "execution_count": null,
   "metadata": {},
   "outputs": [],
   "source": [
    "exports.handler = async (event) => {\n",
    "    const response = {\n",
    "        statusCode: 200,\n",
    "        body: JSON.stringify('Hello from Lambda!'),\n",
    "    };\n",
    "    return response;\n",
    "};\n",
    "\n",
    "\n",
    "// This func responds to a HTTP request with a \"Hello from Lambda message\""
   ]
  },
  {
   "cell_type": "code",
   "execution_count": null,
   "metadata": {},
   "outputs": [],
   "source": []
  }
 ],
 "metadata": {
  "language_info": {
   "name": "python"
  },
  "orig_nbformat": 4
 },
 "nbformat": 4,
 "nbformat_minor": 2
}
