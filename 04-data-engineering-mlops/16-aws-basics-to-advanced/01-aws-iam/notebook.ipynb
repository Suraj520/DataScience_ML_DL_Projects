{
 "cells": [
  {
   "attachments": {},
   "cell_type": "markdown",
   "metadata": {},
   "source": [
    "## About\n",
    "\n",
    "> AWS IAM(Identity and Access Management)\n",
    "\n",
    "It is a web service that helps us to securely control access to AWS resources. It allows us to create and manage users, groups and permissions along with providing a central location for managing access to all AWS resources.\n",
    "\n",
    "> Basic steps to get started\n",
    "\n",
    "1. Creating an IAM user - To create an IAM user, Login to the AWS management console and navigate to the IAM service. Click \"Users\" link and then \"Add User\" button should be clicked. Follow the next set of instructions to create a new user and assign them appropriate permissions.\n",
    "\n",
    "2. Creating an IAM group - To create an IAM group, Click the \"Groups\" link in the IAM console and then click the \"Create group\" button. Follow the prompts to further create a new group and assign approp. permissions to it.\n",
    "\n",
    "3. Assigning permissions - Once the users and groups are created, Permissions can be assigned to them to access the AWS resources. This can be done using IAM policies which define the permissions that are granted to a user or group.\n",
    "\n",
    "4. Monitoring access - AWS Cloudtrail can be used to monitor access to the AWS resources.\n",
    "\n",
    "\n",
    "Reference Video - https://www.youtube.com/watch?v=o0p04B7-NFY"
   ]
  },
  {
   "cell_type": "code",
   "execution_count": null,
   "metadata": {},
   "outputs": [],
   "source": []
  }
 ],
 "metadata": {
  "language_info": {
   "name": "python"
  },
  "orig_nbformat": 4
 },
 "nbformat": 4,
 "nbformat_minor": 2
}
