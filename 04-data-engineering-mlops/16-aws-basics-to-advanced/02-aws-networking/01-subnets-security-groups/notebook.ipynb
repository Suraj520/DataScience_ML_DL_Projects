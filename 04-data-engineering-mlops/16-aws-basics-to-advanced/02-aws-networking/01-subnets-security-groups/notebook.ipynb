{
 "cells": [
  {
   "attachments": {},
   "cell_type": "markdown",
   "metadata": {},
   "source": [
    "## About\n",
    "\n",
    "> Subnets and security groups\n",
    "\n",
    "They are two important components of Amazon VPC, which is a web service that allows us to create a private netwrok in the AWS cloud. Subnets are used to partition the VPC into smaller networks while security groups acts as a firewall for the instances."
   ]
  },
  {
   "cell_type": "code",
   "execution_count": null,
   "metadata": {},
   "outputs": [],
   "source": []
  }
 ],
 "metadata": {
  "language_info": {
   "name": "python"
  },
  "orig_nbformat": 4
 },
 "nbformat": 4,
 "nbformat_minor": 2
}
