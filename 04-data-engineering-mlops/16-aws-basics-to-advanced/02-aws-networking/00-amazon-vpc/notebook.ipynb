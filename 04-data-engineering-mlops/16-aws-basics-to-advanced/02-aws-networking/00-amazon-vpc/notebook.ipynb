{
 "cells": [
  {
   "attachments": {},
   "cell_type": "markdown",
   "metadata": {},
   "source": [
    "## About\n",
    "\n",
    "> AMazon Virtual private cloud(VPC)\n",
    "\n",
    "It is a web service that allows us to create a private network in the AWS Cloud. It provides a secure and isolated environment for the resources and allows us to control network traffic using security groups and network access control lists(ACLs).\n",
    "\n",
    "> Basic steps\n",
    "\n",
    "1. Creating a VPC - Login to the AWS Management console and navigate to the VPC service. Click the \"Create VPC\" button and follow the instructios to create a new VPC. IP address range needs to be specified to configure VPC settings.\n",
    "\n",
    "2. Creating subnets - Once the VPC is created, Subnets can be created within em. Subnets are used to partition the VPC into smaller networks that can be used to isolate resources and control network traffic.\n",
    "\n",
    "3. Configuring routing: To allow resources in the VPC to communicate with each other and with internet, Routing needs to be configured. This can be done using route tables which define the routes that traffic takes within the VPC.\n",
    "\n",
    "4. Configuring security: To secure the VPC, We can use security groups and network ACLs. Security groups act as a virtual firewall for the instances whereas ACLs acts as firewall for subnets.\n",
    "\n",
    "\n",
    "Reference - https://www.youtube.com/watch?v=b1b6JTYnbjU"
   ]
  },
  {
   "cell_type": "code",
   "execution_count": null,
   "metadata": {},
   "outputs": [],
   "source": []
  }
 ],
 "metadata": {
  "language_info": {
   "name": "python"
  },
  "orig_nbformat": 4
 },
 "nbformat": 4,
 "nbformat_minor": 2
}
