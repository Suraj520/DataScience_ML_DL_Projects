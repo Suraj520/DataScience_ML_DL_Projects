{
 "cells": [
  {
   "attachments": {},
   "cell_type": "markdown",
   "metadata": {},
   "source": [
    "## About\n",
    "\n",
    "> Routing tables and network ACLS\n",
    "\n",
    "Routing tables and network access control lists(ACLs) are two important compoentns of Amazon VPC which is a web service that allows us to create a private netwrok in the AWS cloud. Routing tables are used to control the flow of traffic within the VPC while network ACLs acts as a firewall for the subnets."
   ]
  },
  {
   "cell_type": "code",
   "execution_count": null,
   "metadata": {},
   "outputs": [],
   "source": []
  }
 ],
 "metadata": {
  "language_info": {
   "name": "python"
  },
  "orig_nbformat": 4
 },
 "nbformat": 4,
 "nbformat_minor": 2
}
