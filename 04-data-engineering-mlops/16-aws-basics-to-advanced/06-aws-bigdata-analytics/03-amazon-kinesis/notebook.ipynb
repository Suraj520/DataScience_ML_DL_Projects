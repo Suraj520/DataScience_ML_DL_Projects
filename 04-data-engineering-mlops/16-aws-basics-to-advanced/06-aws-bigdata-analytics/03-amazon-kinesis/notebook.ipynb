{
 "cells": [
  {
   "attachments": {},
   "cell_type": "markdown",
   "metadata": {},
   "source": [
    "## About\n",
    "\n",
    "> Amazon Kinesis\n",
    "\n",
    "It is a fully managed service for real time data streaming and processing. It allows us to collect, process, and analyze large amounts of data in real time using popular opensource frameworks like Apache Kafka and Apache Storm.\n",
    "\n",
    "> Basic Steps\n",
    "\n",
    "1. Creating a stream - To create a stream, login to the AWS Management console and navigate to the Kinesis service. Click the \"Create stream\" button and follow the prompts to create a new stream which specifies the stream name, shard count and other configs,\n",
    "\n",
    "2. Producing data - To produce data, we can use the kinesis producer library(KPL) or any other client that supports the Kinesis API. We'll need to specify the stream name and partition key as well as anmy data that we want to send.\n",
    "\n",
    "3, Consuming data - To consume data, we can use the kinesis client library or any other client that supports kinesis api. We'll need to specify the stream name, shardID as well as any data processing logic that we want to apply.\n",
    "\n"
   ]
  },
  {
   "cell_type": "code",
   "execution_count": null,
   "metadata": {},
   "outputs": [],
   "source": [
    "import boto3\n",
    "import json\n",
    "\n",
    "kinesis = boto3.client('kinesis')\n",
    "\n",
    "data = {\n",
    "    'name': 'John Doe',\n",
    "    'age': 30,\n",
    "    'city': 'Seattle'\n",
    "}\n",
    "\n",
    "response = kinesis.put_record(\n",
    "    StreamName='my-stream',\n",
    "    Data=json.dumps(data),\n",
    "    PartitionKey='my-partition-key'\n",
    ")\n",
    "\n",
    "print(response)\n"
   ]
  },
  {
   "attachments": {},
   "cell_type": "markdown",
   "metadata": {},
   "source": [
    "The above code snippet is an example of a kinesis producer in python. It uses the boto3 library to send a json encoded data record to a kinesis stream called my-stream with a partition key of \"my-partition-key\".\n",
    "\n",
    "Reference- https://www.youtube.com/watch?v=_t3k6oX2mfc"
   ]
  },
  {
   "attachments": {},
   "cell_type": "markdown",
   "metadata": {},
   "source": []
  }
 ],
 "metadata": {
  "language_info": {
   "name": "python"
  },
  "orig_nbformat": 4
 },
 "nbformat": 4,
 "nbformat_minor": 2
}
