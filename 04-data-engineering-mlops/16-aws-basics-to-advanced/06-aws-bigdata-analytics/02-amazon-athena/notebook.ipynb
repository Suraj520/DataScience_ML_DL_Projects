{
 "cells": [
  {
   "attachments": {},
   "cell_type": "markdown",
   "metadata": {},
   "source": [
    "## About\n",
    "\n",
    "> Amazon Athena\n",
    "\n",
    "It is an interactive query service that makes it easy to analyze data in Amazon S3 using standard SQL. it allows us to query data stored in S3 without the need for complex ETL processes or data warehousing solutions.\n",
    "\n",
    "> Getting started\n",
    "\n",
    "1. Creating a database : To create a database, log in to the AWS Management Console and navigate to the athena service. Click the \"Create database\" button and follow the prompts to create a new database, which specifies the database name,location and other configs.\n",
    "\n",
    "2. Creating a table - To create a table, We can use the Athena console or the AWS CLI. We'll need to specify the table schema as well as the location of data in S3.\n",
    "\n",
    "3. Querying the data - To query the data, We can use the athena console or any SQL client that supports JDBC or ODBC connections. We'll need to specify the database and table that we want to query as well as any SQL statements that we want to execute.\n",
    "\n",
    "Following is an example of a SQL query in Amazon Athena"
   ]
  },
  {
   "cell_type": "code",
   "execution_count": null,
   "metadata": {},
   "outputs": [],
   "source": [
    "SELECT category, COUNT(*) AS count\n",
    "FROM mytable\n",
    "GROUP BY category\n",
    "ORDER BY count DESC\n",
    "LIMIT 10;\n"
   ]
  },
  {
   "attachments": {},
   "cell_type": "markdown",
   "metadata": {},
   "source": [
    "This query counts the number of rows in a table called \"mytable\" for each category and returns the top 10 categories with highest counts.\n",
    "\n",
    "Reference - https://www.youtube.com/watch?v=whR4J5Arj78"
   ]
  },
  {
   "attachments": {},
   "cell_type": "markdown",
   "metadata": {},
   "source": []
  }
 ],
 "metadata": {
  "language_info": {
   "name": "python"
  },
  "orig_nbformat": 4
 },
 "nbformat": 4,
 "nbformat_minor": 2
}
