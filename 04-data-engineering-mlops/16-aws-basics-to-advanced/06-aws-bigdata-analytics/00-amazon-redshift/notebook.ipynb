{
 "cells": [
  {
   "attachments": {},
   "cell_type": "markdown",
   "metadata": {},
   "source": [
    "## About\n",
    "\n",
    "> Amazon Redshift\n",
    "\n",
    "It is a fast, fully managed and petabyte scale data warehouse service provided by AWS. It allows us to analyse large amounts of data using SQL and BI tools.\n",
    "\n",
    "> Basic steps to get started\n",
    "\n",
    "1. Creating a cluster - To create a cluster, Login to the AWS management console and navigate to the Redshift service. Click the \"Create cluster\" button and follow the prompts to create a new cluster which may need specifying the cluster type, node type and other configs.\n",
    "\n",
    "2. Connecting to the cluster - To connect to the cluster, we can use SQL client or a BI tool. To connect using a SQL client, we'll need to download and install a client that supports JDBC or ODBC connections. We'll also need to specify the endpoint, port number of cluster along with database name and credentials.\n",
    "\n",
    "3. Loading data into the cluster - To load the data into the cluster, We can use the COPY command or a data integration tool. To load using the COPY command, we'll need to create a CSV or JSON file that contains the data and then use the COPY command to load the data into the table.\n",
    "\n",
    "An example of a CREATE TABLE statement in AWS Redshift"
   ]
  },
  {
   "cell_type": "code",
   "execution_count": null,
   "metadata": {},
   "outputs": [],
   "source": [
    "CREATE TABLE sales (\n",
    "  sales_id INT IDENTITY(1,1) PRIMARY KEY,\n",
    "  customer_id INT NOT NULL,\n",
    "  product_id INT NOT NULL,\n",
    "  sale_date DATE NOT NULL,\n",
    "  sale_amount DECIMAL(10,2) NOT NULL\n",
    ");\n"
   ]
  },
  {
   "attachments": {},
   "cell_type": "markdown",
   "metadata": {},
   "source": [
    "The above statement creates a new table called sales with five columns sales_id, customer_id, product_id, sale_date and sale_amount. The sales_id column is an identify column that automatically generates a unique value for each row. The customer_id, product_id, sale_date and sale_amount are all required and can't be Null."
   ]
  },
  {
   "attachments": {},
   "cell_type": "markdown",
   "metadata": {},
   "source": [
    "Reference -https://www.youtube.com/watch?v=7bfOllAyxlg"
   ]
  },
  {
   "attachments": {},
   "cell_type": "markdown",
   "metadata": {},
   "source": []
  }
 ],
 "metadata": {
  "language_info": {
   "name": "python"
  },
  "orig_nbformat": 4
 },
 "nbformat": 4,
 "nbformat_minor": 2
}
