{
 "cells": [
  {
   "attachments": {},
   "cell_type": "markdown",
   "metadata": {},
   "source": [
    "## About\n",
    "\n",
    "> Amazon EMR(Elastic Map Reduce)\n",
    "\n",
    "It is a fully managed big data processing service provided by AWS. It allows you to process large amounts of data using popular open source frameworks such as Apache Hadoop, Apache Spark and Apache Hive.\n",
    "\n",
    "> Basic Steps to get started\n",
    "\n",
    "1. Creating a cluster - To create a cluster, log in to the AWS management console and navigate to the EMR service. Click the \"Create cluster\" button and follow the prompts to create a new cluster whcih specifies the cluster type, node type and other configs.\n",
    "\n",
    "2. Configuring the cluster - To configure the cluster, We can use the EMR console or the AWS CLI. We'll need to specify the software apps and config that we want to use, as well as any input and output data locations.\n",
    "\n",
    "3. Submitting the job : To submit the job, We can use the EMR console or the AWS CLI. We'll need to specify the input and output data locations as well as any job specific configs.\n",
    "\n",
    "An exmple of a Map reduce job in EMR is shown below\n"
   ]
  },
  {
   "cell_type": "code",
   "execution_count": null,
   "metadata": {},
   "outputs": [],
   "source": [
    "from mrjob.job import MRJob\n",
    "\n",
    "class MRWordCount(MRJob):\n",
    "\n",
    "    def mapper(self, _, line):\n",
    "        for word in line.split():\n",
    "            yield word.lower(), 1\n",
    "\n",
    "    def reducer(self, word, counts):\n",
    "        yield word, sum(counts)\n",
    "\n",
    "if __name__ == '__main__':\n",
    "    MRWordCount.run()\n"
   ]
  },
  {
   "attachments": {},
   "cell_type": "markdown",
   "metadata": {},
   "source": [
    "The above code defines a simple map reduce job that counts the no of occurences of each word in a text file. The mapper function splits each line of the input file into words and emits a key value pair for each word. The reducer function sums the counts for each word and emits a final key value pair.\n",
    "\n",
    "Reference - https://www.youtube.com/watch?v=qLnamoLaIzU"
   ]
  },
  {
   "cell_type": "code",
   "execution_count": null,
   "metadata": {},
   "outputs": [],
   "source": []
  }
 ],
 "metadata": {
  "language_info": {
   "name": "python"
  },
  "orig_nbformat": 4
 },
 "nbformat": 4,
 "nbformat_minor": 2
}
