{
 "cells": [
  {
   "attachments": {},
   "cell_type": "markdown",
   "metadata": {},
   "source": [
    "## About\n",
    "\n",
    "> AWS Management console\n",
    "\n",
    "It is a console based web interface that allows us to manage AWS resources and services. \n",
    "\n",
    "Reference - https://www.youtube.com/watch?v=KHIxIqm2e8Q"
   ]
  }
 ],
 "metadata": {
  "language_info": {
   "name": "python"
  },
  "orig_nbformat": 4
 },
 "nbformat": 4,
 "nbformat_minor": 2
}
