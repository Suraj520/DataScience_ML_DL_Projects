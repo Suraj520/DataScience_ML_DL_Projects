{
 "cells": [
  {
   "attachments": {},
   "cell_type": "markdown",
   "metadata": {},
   "source": [
    "## About\n",
    "\n",
    "> Amazon EC2(Elastic Compute Cloud)\n",
    "\n",
    "Amazon EC2 is a web service that provides resizable compute capacity in the cloud. It's a great option for running appls that require scalable compute resources such as web servers, databases and cronjobs that process over batches.\n",
    "\n",
    "> The basic steps to get started are\n",
    "\n",
    "1. Launching an EC2 Instance - To launch an EC2 instance, Login to the AWS Management console and navigate to the EC2 service. Click \"Launch instance\" button and follow the prommpts to select an Amazon Machine Image(AMI) along with instance type and configuring instance settings.\n",
    "\n",
    "2. Connecting to the instance - Once the instance is launched, It can be connected using SSH or RDP, depending upon the operating system one's using. The need for downloading appropriate client software and using it to connect to the instance using public IP or DNS is mandatory.\n",
    "\n",
    "3. Configuring the instance - Once the connection to the instance is established, We can configure it as per our needs which may include installing software, configuring security settings and setting up storage.\n",
    "\n",
    "4. Monitoring the instance - AWS provides a number of monitoring tools such as Amazon CloudWatch that can help one monitor the performance and health of the instance.\n",
    "\n",
    "\n",
    "REference - https://www.youtube.com/watch?v=LZXWlF5udYs\n",
    "\n"
   ]
  },
  {
   "cell_type": "code",
   "execution_count": null,
   "metadata": {},
   "outputs": [],
   "source": []
  }
 ],
 "metadata": {
  "language_info": {
   "name": "python"
  },
  "orig_nbformat": 4
 },
 "nbformat": 4,
 "nbformat_minor": 2
}
