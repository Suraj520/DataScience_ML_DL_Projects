{
 "cells": [
  {
   "attachments": {},
   "cell_type": "markdown",
   "metadata": {},
   "source": [
    "## About\n",
    "> Amazon S3 (Simple Storage Service)\n",
    "\n",
    "It is a highly scalable object storage service that allows us to store and retrieve data from anywhere on the web. It's a great option for storing and sharing large files such as images, videos or backups.\n",
    "\n",
    "> To get started with AWS S3, The steps are as follows\n",
    "\n",
    "1. Creating a S3 Bucket - Login to the AWS Management console and navigate to the S3 service. Click \"Create bucket\" button and follow the instructions to create the bucket. A unique name for your bucket and region selection needs to be assigned, thereafter.\n",
    "\n",
    "2. Uploading files to the bucket - Once the bucket is created, One can upload files to using S3 console or AWS CLI. To upload the files using console, Navigate to the bucket and click upload. For uploading using CLI, Following command can be used\n",
    "```\n",
    "aws s3 cp example.txt s3://my-bucket/folder/example.txt\n",
    "```\n",
    "\n",
    "3. Setting permissions : By default, all objects in S3 bucket are private. One can set permissions to allow other AWS accounts or enable public access. To set permissions, Navigate to the buckjet and click the \"Permissions\" tab. From there bucket policies, access control lists(ACL) and more can be fetched.\n",
    "\n",
    "4. Accessing the files - Once the files are uploaded to S3 bucket, They can be accessed using a variety of methods including s3 console, AWS CLI and S3 API. We can also use S3 to host static websites, which can be accessed using a URL that includes the bucket name.\n",
    "\n",
    "Reference Video - https://youtu.be/oaZ3R4NCRu8\n",
    "https://www.youtube.com/watch?v=mt32JEAxrA4\n",
    "\n",
    "\n",
    "\n"
   ]
  },
  {
   "cell_type": "code",
   "execution_count": null,
   "metadata": {},
   "outputs": [],
   "source": []
  }
 ],
 "metadata": {
  "language_info": {
   "name": "python"
  },
  "orig_nbformat": 4
 },
 "nbformat": 4,
 "nbformat_minor": 2
}
