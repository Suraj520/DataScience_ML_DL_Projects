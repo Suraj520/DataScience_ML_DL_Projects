{
 "cells": [
  {
   "attachments": {},
   "cell_type": "markdown",
   "metadata": {},
   "source": [
    "## About\n",
    "\n",
    "> Amazon RDS\n",
    "\n",
    "It is a web service that makes it easy to setup, operate and scale a relational database in the cloud. It's a feasible option for running apps that require scalable and highly reliable available database such as web apps, mobile apps and gaming apps.\n",
    "\n",
    "> Steps to get started with AWS RDS.\n",
    "\n",
    "1. Launching RDS Instance - Login to the AWS Management Console and navigate to the RDS service. Click the \"Create database\" button and follow the prompts to select a database engine, choose an instance type and configure the instance settings.\n",
    "\n",
    "2. Connecting to the instance - Once the instance is launched, We can connect to it using the database client software such as MySQL workbenbch or SQL server management studio. End point provided by AWS is used to connect to the instance.\n",
    "\n",
    "3. Configuring the instance - Once connection is established to the instance, It can be configured as per needs like creating databases,tables, setting up users and permissions along with configuring routine backup and maintenance.\n",
    "\n",
    "4. Monitoring the instance - It can be done using Amazon CloudWatch.\n",
    "\n",
    "\n",
    "Reference Video - https://www.youtube.com/watch?v=MPau9c7PT74\n"
   ]
  },
  {
   "cell_type": "code",
   "execution_count": null,
   "metadata": {},
   "outputs": [],
   "source": []
  }
 ],
 "metadata": {
  "language_info": {
   "name": "python"
  },
  "orig_nbformat": 4
 },
 "nbformat": 4,
 "nbformat_minor": 2
}
