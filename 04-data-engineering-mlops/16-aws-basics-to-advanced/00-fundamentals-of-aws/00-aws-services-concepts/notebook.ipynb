{
 "cells": [
  {
   "attachments": {},
   "cell_type": "markdown",
   "metadata": {},
   "source": [
    "## About\n",
    "> AWS Services and Concepts.\n",
    "\n",
    ">> Following are some important AWS services and concepts.\n",
    "\n",
    "1. Amazon EC2(Elastic Compute Cloud): It's a web service that provides resizable compute capacity in the cloud. It allows us to quickly and easily launch VM instances with a variety of operating system and configurations.\n",
    "2. Amazon S3(Simple Storage Service): It's a highly scalable object storage service that allows us to store and retrieve data from anywhere on the web. It's a great option for storing and sharing large files, such as images, videos and backups.\n",
    "3. Amazon RDS(Relational Database Service): It's a managed database service that makes it easy to setup, operate and scale a relational database in the cloud. It supports a variety of popular database engines like MySQL, PostgreSQL and Oracle.\n",
    "4. AWS Lambda: It's a serverless computing service that allows us to run code without provisioning or managing servers. It's a great option for running small, event driven applications or for executing code in response to specific events.\n",
    "5. Amazon Cloudwatch : It's a monitoring service that provides visibility into one's AWS resources and applications. It allows us to collect and track metrics, collect and monitor log files and set alarms.\n",
    "6. AWS Identity and Access Management(IAM): It is a web service that helps us to securely control access to AWS resources. It helps in creating and managing users and groups and to assign permissions to those.\n",
    "7. Amazon Route 53: It is a highly available and scalable domain name system(DNS) web service. It allows us to register domain names and route internet traffic to the appropriate resources.\n",
    "8. Amazon VPC(Virtual Private Cloud): It is a virtual network that one can create in the AWS cloud. It allows us to launch AWS resources into a virtual network that one defines thereby giving one control over the virtual networking environment.\n",
    "9. Amazon ECS(Elastic Container Service): It is a fully managed container orchestration service that allows us to easily run stop and manage docker containers on a cluster of Amazon EC2 instances.\n",
    "10.Amazon SQS(Simple Queue Service): It's a fully managed message queuing service that enables one to decouple and scale microservices, distributed systems and serverless applications.\n",
    "11. Amazon SNS(Simple Notification Service): This is a fully managed messaging service that enables one to send messages or notifications to multiple recipients or subscribers.\n",
    "12. Amazon CloudFront: It is a content delivery network(CDN) that securely delivers data, videos,applications and APIs to customers globally with low latency, high transfer speeds.\n",
    "13. AWS CloudFormation: It is a service that helps us model and setup AWS resources so that we can spend less time managing those resources and more time focusing on applications that run there.\n",
    "14. AWS Elastic Beanstalk : It is a fully managed service that makes it easy to deploy and run apps in multiple languages like Java, .NET, PHP, Node.js, Python etc.\n",
    "15. Amazon  DynamoDB : It is a fully managed NoSQL database service that provides fast and predictable performance with great scalability. It's a great option for application that need low latency data access and can handle large amounts of data.\n",
    "16. AWS Kinesis : It is a fully managed service for realtime processing of streaming data at scale. It allows us to collect, process and analyse data from various sources, such as website clickstreams, IoT devices and social media feeds.\n",
    "17. AWS Glue : It is a fully managed ETL service(Extract, Transform and Load) which makes it easy to move data b/w data stores. it allows us to create and run ETL jobs that extract data from various sources, transforms the data, and load it into a datastore.\n",
    "18. AWS Redshift : It is a fully managed data warehouse service that makes it easy to analyze large amounts of data using SQL and business intelligence tools. It's a great option for orgs that need to analyse large amounts of data.\n",
    "19. AWS cloudtrail : It is service that enables governance, compliance , operational auditing and risk auditing of AWS account.\n",
    "20. AWS Direct Connect : It's a network service that provides dedicated network connection between on premise infra and AWS. It helps in establishing a private, high bandwidth connection to reduce network costs, increase bandwidth throughput and consistent network experience.\n"
   ]
  },
  {
   "cell_type": "code",
   "execution_count": null,
   "metadata": {},
   "outputs": [],
   "source": []
  }
 ],
 "metadata": {
  "language_info": {
   "name": "python"
  },
  "orig_nbformat": 4
 },
 "nbformat": 4,
 "nbformat_minor": 2
}
