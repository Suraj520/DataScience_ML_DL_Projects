{
 "cells": [
  {
   "attachments": {},
   "cell_type": "markdown",
   "metadata": {},
   "source": [
    "## About\n",
    "\n",
    "> Amazon DynamoDB\n",
    "\n",
    "It is a fully managed NoSQL database service provided by AWS. It allows us to store and retrieve data using flexible data models and provides rapid and predictable performance with seamless scalability.\n",
    "\n",
    "> Steps to get started \n",
    "\n",
    "1. Creating a table - To create a table, Login to the AWS Management console and navigate to the DynamoDB service. Click the \"Create Table\" button and follow the next series of prompts towards creating a new table. We need to specify the table name, primary key and any additional attributes.\n",
    "\n",
    "2. Adding data - To add data to the table, We can use the AWS Management Console or the AWS SDKs. To add data using the AWS management console, navigate to the \"Items\" section of the table and click the \"Create Item\" button. The next series of prompts should be followed to add the data.\n",
    "\n",
    "3. Querying data - To query data from the table, We can use the AWS Management console or the AWS SDKs. To query data using the AWS Management console, Navigate to the \"Query\" section of the table and enter the query params. Follow the prompts to execute the query.\n",
    "\n",
    "\n",
    "An example of DynamoDB table with a \"users\" partition key and a \"name\" sort key is shown below\n",
    "\n"
   ]
  },
  {
   "cell_type": "code",
   "execution_count": null,
   "metadata": {},
   "outputs": [],
   "source": [
    "{\n",
    "  \"TableName\": \"users\",\n",
    "  \"KeySchema\": [\n",
    "    { \"AttributeName\": \"user_id\", \"KeyType\": \"HASH\" },\n",
    "    { \"AttributeName\": \"name\", \"KeyType\": \"RANGE\" }\n",
    "  ],\n",
    "  \"AttributeDefinitions\": [\n",
    "    { \"AttributeName\": \"user_id\", \"AttributeType\": \"S\" },\n",
    "    { \"AttributeName\": \"name\", \"AttributeType\": \"S\" }\n",
    "  ],\n",
    "  \"BillingMode\": \"PAY_PER_REQUEST\"\n",
    "}\n"
   ]
  },
  {
   "attachments": {},
   "cell_type": "markdown",
   "metadata": {},
   "source": [
    "This table has a partition key of \"user_id\" and a sort key of \"name\". It uses the \"PAY_PER_REQUEST\" billing mode, which means that we can only pay for the read and write capacity that is consumed.\n",
    "\n",
    "Reference videos - https://www.youtube.com/watch?v=2k2GINpO308"
   ]
  },
  {
   "attachments": {},
   "cell_type": "markdown",
   "metadata": {},
   "source": []
  }
 ],
 "metadata": {
  "language_info": {
   "name": "python"
  },
  "orig_nbformat": 4
 },
 "nbformat": 4,
 "nbformat_minor": 2
}
