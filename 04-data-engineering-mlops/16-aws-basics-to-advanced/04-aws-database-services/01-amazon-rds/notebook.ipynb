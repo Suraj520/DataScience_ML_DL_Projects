{
 "cells": [
  {
   "attachments": {},
   "cell_type": "markdown",
   "metadata": {},
   "source": [
    "## About\n",
    "\n",
    "> Amazon RDS\n",
    "\n",
    "It is a fully managed relational database service provided by AWS. It allows us to easily setup, operate and scale a relational database in the cloud. It supports a variety of database engines, including MySQL, PostgreSQL, Orcale and Microsoft SQL server.\n",
    "\n",
    "> Getting started\n",
    "\n",
    "1. Creating a database instance - Login to the AWS Management console and navigate to the RDS Service. Click the \"Create Database\" button and follow the prompts to create a new database instance. We'll need to specify the database engine, instance type and any additional config options.\n",
    "\n",
    "2. Connecting to the database - To connect to the database, We can use the AWS management console or a database client. To connect using the AWS Management console, Navigate to the \"Connectivity and Security\" section of the database instance and click \"Connect\" button. Follow the prompts to connect to the database.\n",
    "\n",
    "3. Managing the database - To manage the database, We can use the AWS management console or the AWS CLI. To manage the database using the AWS Management console, Navigate to the \"Instances\" section of the RDS Console and select the database instance. From there, We can perform a variety of management tasks, including creating backups, modifying the database instance and monitoring the database performance."
   ]
  },
  {
   "cell_type": "code",
   "execution_count": null,
   "metadata": {},
   "outputs": [],
   "source": [
    "# Example of Amazon RDS instance with MySQL database engine\n",
    "\n",
    "{\n",
    "  \"DBInstanceIdentifier\": \"mydbinstance\",\n",
    "  \"Engine\": \"mysql\",\n",
    "  \"DBInstanceClass\": \"db.t2.micro\",\n",
    "  \"MasterUsername\": \"myuser\",\n",
    "  \"MasterUserPassword\": \"mypassword\",\n",
    "  \"AllocatedStorage\": 20,\n",
    "  \"BackupRetentionPeriod\": 7,\n",
    "  \"PreferredBackupWindow\": \"03:00-04:00\",\n",
    "  \"PreferredMaintenanceWindow\": \"sun:05:00-sun:06:00\",\n",
    "  \"PubliclyAccessible\": false\n",
    "}\n"
   ]
  },
  {
   "attachments": {},
   "cell_type": "markdown",
   "metadata": {},
   "source": [
    "The aforementioned instance has a DB instance identifier of \"mydbinstance\", a MySQL database engine and a db.t2.micro instance class. It has a master username and pass, allocated size of 20GB and a backup retention of 7 days.\n",
    "\n",
    "Reference - https://www.youtube.com/watch?v=MPau9c7PT74&t=1s"
   ]
  },
  {
   "cell_type": "code",
   "execution_count": null,
   "metadata": {},
   "outputs": [],
   "source": []
  }
 ],
 "metadata": {
  "language_info": {
   "name": "python"
  },
  "orig_nbformat": 4
 },
 "nbformat": 4,
 "nbformat_minor": 2
}
