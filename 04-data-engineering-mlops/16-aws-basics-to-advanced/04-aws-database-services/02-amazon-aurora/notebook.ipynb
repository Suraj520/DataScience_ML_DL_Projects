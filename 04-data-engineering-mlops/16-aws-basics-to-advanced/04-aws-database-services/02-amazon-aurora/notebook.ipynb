{
 "cells": [
  {
   "attachments": {},
   "cell_type": "markdown",
   "metadata": {},
   "source": [
    "## About\n",
    "\n",
    "> Amazon Aurora\n",
    "\n",
    "It is a fully managed relational database service provided by AWS. It is a MySQL and PostgreSQL compatible relational database engine that combines the speed and availability of high end commercial databases with the simplicity and cost effectiveness of opensource databases.\n",
    "\n",
    "> Getting started\n",
    "\n",
    "1. Creating a database cluster - Login to the AWS Management console and navigate to the RDS Service. Click the \"Create database\" button and follow the prompts to create a new database cluster. Database engine, instance type and others need to be specified.\n",
    "\n",
    "2. Connecting to the database - To connect to the database, We can use the AWS Management console or a database client. To connect using the AWS Management console, Nav to the \"connectivity and security\" section of the database cluster and click \"connect\" which will lead to a series of prompts.\n",
    "\n",
    "3. Managing the database - To manage the database, We can use the AWS Management console or AWS CLI. To manage the databse using AWS Management console, navigate to the \"Clusters\" section of the RDS console and select the database cluster. From there, We can perform a variety of management tasks including creating backups, modifying the database cluster and monitoring the database performance.\n",
    "\n",
    "Following is an example of an Amazon Aurora Cluster with a MySQL compatible database engine."
   ]
  },
  {
   "cell_type": "code",
   "execution_count": null,
   "metadata": {},
   "outputs": [],
   "source": [
    "{\n",
    "  \"DBClusterIdentifier\": \"mydbcluster\",\n",
    "  \"Engine\": \"aurora-mysql\",\n",
    "  \"EngineMode\": \"provisioned\",\n",
    "  \"MasterUsername\": \"myuser\",\n",
    "  \"MasterUserPassword\": \"mypassword\",\n",
    "  \"DBSubnetGroupName\": \"mydbsubnetgroup\",\n",
    "  \"VpcSecurityGroupIds\": [\n",
    "    \"sg-0123456789abcdef\"\n",
    "  ],\n",
    "  \"DBClusterParameterGroupName\": \"default.aurora-mysql5.7\",\n",
    "  \"BackupRetentionPeriod\": 7,\n",
    "  \"PreferredBackupWindow\": \"03:00-04:00\",\n",
    "  \"PreferredMaintenanceWindow\": \"sun:05:00-sun:06:00\",\n",
    "  \"Port\": 3306,\n",
    "  \"DBClusterMembers\": [\n",
    "    {\n",
    "      \"DBInstanceIdentifier\": \"mydbinstance1\",\n",
    "      \"IsClusterWriter\": true\n",
    "    },\n",
    "    {\n",
    "      \"InstanceIdentifier\": \"mydbinstance2\",\n",
    "      \"IsClusterWriter\": false\n",
    "    }\n",
    "  ]\n",
    "}\n"
   ]
  },
  {
   "attachments": {},
   "cell_type": "markdown",
   "metadata": {},
   "source": [
    "This cluster has a DBClusterIdentifier of \"mydbcluster\", an Aurora MySQL compatible database engine, and a provisioned engine mode. It has master credentials, a DBSubnetGroupName of \"mydbsubnetgroup\", and a VpcSecurityGroupIds of\"sg-0123456789abcdef\". It has a backup retention period of 7 days. Preferred backup window is 03.00 to 04.00 along with port 3306 and two DBClusterMembers, one of which is the cluster writer.\n",
    "\n",
    "Reference - https://www.youtube.com/watch?v=se4vTiVd2iU"
   ]
  },
  {
   "cell_type": "code",
   "execution_count": null,
   "metadata": {},
   "outputs": [],
   "source": []
  }
 ],
 "metadata": {
  "language_info": {
   "name": "python"
  },
  "orig_nbformat": 4
 },
 "nbformat": 4,
 "nbformat_minor": 2
}
