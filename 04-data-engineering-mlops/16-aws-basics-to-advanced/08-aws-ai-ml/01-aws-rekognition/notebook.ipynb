{
 "cells": [
  {
   "attachments": {},
   "cell_type": "markdown",
   "metadata": {},
   "source": [
    "## About\n",
    "\n",
    "> AWS Rekognition\n",
    "\n",
    "It is a fully managed computer vision service that makes it easy to add image and video analysis to one's prediction. It provides a range of tools and features to help us detect objects, scenes and faces in the images and videos and to analyze and search video content.\n",
    "\n",
    "> Getting started\n",
    "\n",
    "1. Creating a collection - To create a collection, We can use the AWS management console or AWS CLI. We'll need to specify the collection name and any additional configuration options.\n",
    "\n",
    "2. Adding images to the collection : To add images to the collection, we can use the AWS Management console or AWS CLI. We'll need to specify the image file and any additional metadata.\n",
    "\n",
    "3. Detecting objects, scenes and faces : To detect objects, scenes and faces in images, we can use the Amazon Rekognition API. We'll have to specify the image file and any additional config.\n",
    "\n",
    "4. Analysing and searching video content : To analyse and search video content, We can use the Amazon Rekognition Video API. We have to specify the video file and other configs.\\\n",
    "\n"
   ]
  },
  {
   "cell_type": "code",
   "execution_count": null,
   "metadata": {},
   "outputs": [],
   "source": [
    "import boto3\n",
    "\n",
    "client = boto3.client('rekognition')\n",
    "\n",
    "response = client.detect_labels(\n",
    "    Image={\n",
    "        'S3Object': {\n",
    "            'Bucket': 'my-bucket',\n",
    "            'Name': 'my-image.jpg',\n",
    "        },\n",
    "    },\n",
    "    MaxLabels=10,\n",
    "    MinConfidence=90,\n",
    ")\n",
    "\n",
    "for label in response['Labels']:\n",
    "   (label['Name'], label['Confidence'])\n"
   ]
  },
  {
   "attachments": {},
   "cell_type": "markdown",
   "metadata": {},
   "source": [
    "The above snippet detects labels in an image stored in an S3 bucket and prints the label names and confidence scores."
   ]
  },
  {
   "attachments": {},
   "cell_type": "markdown",
   "metadata": {},
   "source": []
  }
 ],
 "metadata": {
  "language_info": {
   "name": "python"
  },
  "orig_nbformat": 4
 },
 "nbformat": 4,
 "nbformat_minor": 2
}
