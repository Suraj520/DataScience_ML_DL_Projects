{
 "cells": [
  {
   "attachments": {},
   "cell_type": "markdown",
   "metadata": {},
   "source": [
    "## About\n",
    "\n",
    "> AWS Comprehend\n",
    "\n",
    "It is a natural language processing service that uses machine learning to find insights and relationships in text. It provides a range of tools and features to help you analyze text data, including sentiment analysis, entity recognition and topic modelling.\n",
    "\n",
    "> Getting started\n",
    "\n",
    "1. Creating a resource - To create a resource, We can use the AWS Management console or AWS CLI. We'll need to specify the resource type and any additional config options.\n",
    "\n",
    "2. Analysing text - To analyse text, We can use the Amazon Comprehend API. We'll need to specify the text and other config.\n",
    "\n",
    "3. Getting insights - To get insights from the analysed text, we can use the output from the Amazon Comprehend API. We'll need to parse the output and extract relevant information."
   ]
  },
  {
   "cell_type": "code",
   "execution_count": null,
   "metadata": {},
   "outputs": [],
   "source": [
    "import boto3\n",
    "\n",
    "client = boto3.client('comprehend')\n",
    "\n",
    "response = client.detect_sentiment(\n",
    "    Text='I love Amazon Comprehend!',\n",
    "    LanguageCode='en'\n",
    ")\n",
    "\n",
    "print(response['Sentiment'])\n"
   ]
  },
  {
   "attachments": {},
   "cell_type": "markdown",
   "metadata": {},
   "source": [
    "The code above analyzes the sentiment of a text string and prints the sentiment score."
   ]
  },
  {
   "attachments": {},
   "cell_type": "markdown",
   "metadata": {},
   "source": []
  }
 ],
 "metadata": {
  "language_info": {
   "name": "python"
  },
  "orig_nbformat": 4
 },
 "nbformat": 4,
 "nbformat_minor": 2
}
