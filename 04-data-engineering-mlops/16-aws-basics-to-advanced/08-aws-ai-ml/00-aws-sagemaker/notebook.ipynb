{
 "cells": [
  {
   "attachments": {},
   "cell_type": "markdown",
   "metadata": {},
   "source": [
    "## About\n",
    "\n",
    "> Amazon Sagemaker\n",
    "\n",
    "It is a fully managed service that provides developers and data scientists with the ability to build, train, and deploy machine learning models at scale. It provides a range of tools and frameworks to help you build, train and deploy machine learning models, including built in algorithms, jupyter notebooks and prebuild models.\n",
    "\n",
    "> Getting started.\n",
    "\n",
    "1. Creating a notebook instance - To create a notebook instance, We can use the AWS management console or AWS CLI. We'll need to specify the instance type, IAM role and any additional config options.\n",
    "\n",
    "2. Creating a notebook - To create a notebook, we can use the jupyter notebook interface provided by AWS sagemaker. We'll need to import the neccessary libraries and data, and then write and run our machine learning code.\n",
    "\n",
    "3. Training model - To train a model, we can use the built in algorithms provided by sagemaker or our own custom algorithms. We'll need to specify the input data, output data, and any additional config options.\n",
    "\n",
    "4. Deploying a model - To deploy a model, We can use the Amazon Sagemaker hosting service. We'll need to specify the model, instance type and any additional config options."
   ]
  },
  {
   "cell_type": "code",
   "execution_count": null,
   "metadata": {},
   "outputs": [],
   "source": [
    "import boto3\n",
    "import sagemaker\n",
    "\n",
    "session = sagemaker.Session()\n",
    "bucket = session.default_bucket()\n",
    "prefix = 'sagemaker/iris'\n",
    "\n",
    "role = sagemaker.get_execution_role()\n",
    "\n",
    "data_location = session.upload_data('iris.csv', bucket=bucket, key_prefix=prefix)\n",
    "\n",
    "estimator = sagemaker.estimator.Estimator(\n",
    "    image_uri='sagemaker-scikit-learn:0.23-1-cpu-py3',\n",
    "    role=role,\n",
    "    instance_count=1,\n",
    "    instance_type='ml.m5.large',\n",
    "    output_path=f's3://{bucket}/{prefix}/output',\n",
    "    sagemaker_session=session,\n",
    ")\n",
    "\n",
    "estimator.set_hyperparameters(\n",
    "    max_depth=5,\n",
    "    n_estimators=10,\n",
    ")\n",
    "\n",
    "estimator.fit({'train': data_location})\n",
    "\n",
    "predictor = estimator.deploy(\n",
    "    initial_instance_count=1,\n",
    "    instance_type='ml.t2.medium',\n",
    ")\n",
    "\n",
    "result = predictor.predict([[5.1, 3.5, 1.4, 0.2]])\n",
    "print(result)\n"
   ]
  },
  {
   "attachments": {},
   "cell_type": "markdown",
   "metadata": {},
   "source": [
    "The above snippet trains a scikit learn model on the iris dataset and deploys it to a sagemaker endpoint for inference,\n",
    "\n",
    "Link - https://www.youtube.com/watch?v=1eQC259cVcI\n"
   ]
  },
  {
   "attachments": {},
   "cell_type": "markdown",
   "metadata": {},
   "source": []
  }
 ],
 "metadata": {
  "language_info": {
   "name": "python"
  },
  "orig_nbformat": 4
 },
 "nbformat": 4,
 "nbformat_minor": 2
}
