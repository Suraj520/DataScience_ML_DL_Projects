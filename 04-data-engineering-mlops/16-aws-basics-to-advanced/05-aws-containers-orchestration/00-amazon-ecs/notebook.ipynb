{
 "cells": [
  {
   "attachments": {},
   "cell_type": "markdown",
   "metadata": {},
   "source": [
    "## About\n",
    "\n",
    "\n",
    "\n",
    "> Amazon ECS(Elastic Container Service)\n",
    "\n",
    "It is a popular container orchestration service provided by AWS. They allow you to easily deploy, manage and scale containerized applications in the cloud.\n",
    "\n",
    "The basic steps to get started with AWS ECS is\n",
    "\n",
    "1. Creating a task definition - To create a task definition, log into the AWS Management console and navigate to the ECS Service. Click the \"Task Definitions\" link and then click the \"Create new Task Definition\" button. Follow the prompts to create a new task definitio, which specifies the container image, CPU and memory requirements.\n",
    "\n",
    "2. Creating a service - To create a service, navigate to the \"Clusters\" section of the ECS console and select your cluster. Click the \"Create\" button and follow the prompts to create a new service, which specifies the task defintion, desired number of tasks and other config options.\n",
    "\n",
    "3. Deploy your application - To deploy your application, you can use the AWS Management console or the AWS CLI. To deploy using the AWS management console, navigate to the \"Services\" section of the ECS console and select your service. Click the \"Update\" button and follow the prompts to update your service with the latest task definition.\n",
    "\n",
    "Reference - https://www.youtube.com/watch?v=AYAh6YDXuho"
   ]
  },
  {
   "cell_type": "code",
   "execution_count": null,
   "metadata": {},
   "outputs": [],
   "source": []
  }
 ],
 "metadata": {
  "language_info": {
   "name": "python"
  },
  "orig_nbformat": 4
 },
 "nbformat": 4,
 "nbformat_minor": 2
}
