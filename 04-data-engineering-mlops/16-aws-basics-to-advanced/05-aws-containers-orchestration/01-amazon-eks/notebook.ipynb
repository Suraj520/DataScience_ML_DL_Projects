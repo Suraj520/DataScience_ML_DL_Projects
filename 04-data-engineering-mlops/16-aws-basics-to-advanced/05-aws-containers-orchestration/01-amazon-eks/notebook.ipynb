{
 "cells": [
  {
   "attachments": {},
   "cell_type": "markdown",
   "metadata": {},
   "source": [
    "## About\n",
    "\n",
    "> AWS EKS(Elastic Kubernetes Service)\n",
    "\n",
    "It is also among the popular container orchestration service provided by AWS which allows us to easily deploy, manage and scale containerized applications in the cloud.\n",
    "\n",
    "> Steps\n",
    "\n",
    "1. Creating a cluster - To create a cluster, log in to the AWS Management console and navigate to the EKS service. Click the \"Create Cluster\" button and follow the prompts to create a new cluster which specifies the kubernetes version, instance type and otehr configuration options.\n",
    "\n",
    "2. Deploying the application - To deploy the application, We can use the kubernetes command line tool(kubectl) or a kubernetes dashboard. To deploy using kybectl, you'll need to create a kubernetes deployment and service manifest file that specifies the container image, CPU and memory requirements.\n",
    "\n",
    "3. Managing the cluster - To manage te cluster, we can use the kubernetes command line tool(kubectl) or a kubernetes dashboard. To manage using kubectl, we can use commands like \"kubectl get pods\" to view the status of your pods, \"kubectl scale\" to scale the deployment and \"kubectl delete\" to delete resources.\n",
    "\n",
    "Reference - https://www.youtube.com/watch?v=p6xDCz00TxU"
   ]
  },
  {
   "cell_type": "code",
   "execution_count": null,
   "metadata": {},
   "outputs": [],
   "source": []
  }
 ],
 "metadata": {
  "language_info": {
   "name": "python"
  },
  "orig_nbformat": 4
 },
 "nbformat": 4,
 "nbformat_minor": 2
}
