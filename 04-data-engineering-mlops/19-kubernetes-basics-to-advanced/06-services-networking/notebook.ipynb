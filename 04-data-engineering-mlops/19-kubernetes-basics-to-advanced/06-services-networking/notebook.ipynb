{
 "cells": [
  {
   "cell_type": "markdown",
   "metadata": {},
   "source": [
    "## About\n",
    "- `Service Types` : Imagine services as different access gates to the apps. `ClusterIP` keeps it private inside the cluster whereas `NodePort` opens the door on each node. `LoadBalancer` acts as a bouncer managing traffic at higher level whereas `Ingress` is like a grand entrace, routing traffic intelligently\n",
    "- Inside kubernetes, `Pods` communicate through a virtual network and services ensure smooth traffic flow. It's like giving each app its' own GPS, directing requests seamlessly."
   ]
  },
  {
   "cell_type": "code",
   "execution_count": null,
   "metadata": {},
   "outputs": [],
   "source": []
  }
 ],
 "metadata": {
  "language_info": {
   "name": "python"
  }
 },
 "nbformat": 4,
 "nbformat_minor": 2
}
