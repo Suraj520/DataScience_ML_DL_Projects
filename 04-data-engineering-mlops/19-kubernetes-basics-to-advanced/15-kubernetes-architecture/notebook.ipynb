{
 "cells": [
  {
   "cell_type": "markdown",
   "metadata": {},
   "source": [
    "## Kubernetes architecture\n",
    "- `Nodes` : Think of them as worker bees. These are the machines(physical or virtual) where the apps run.\n",
    "- `Pods` : These are the smallest deployable units. Can be sought as tiny appartments for app components.\n",
    "- `Control plane` : It manages and orchestrates everything like a conductor leading an orchestra\n",
    "- `etcd` : The memory. It sotres all config details.\n",
    "- `Services` : Traffic cops that ensure apps can find and talk to each other seamlessly."
   ]
  },
  {
   "cell_type": "code",
   "execution_count": null,
   "metadata": {},
   "outputs": [],
   "source": []
  }
 ],
 "metadata": {
  "language_info": {
   "name": "python"
  }
 },
 "nbformat": 4,
 "nbformat_minor": 2
}
