{
 "cells": [
  {
   "cell_type": "markdown",
   "metadata": {},
   "source": [
    "## About\n",
    "> ConfigMaps and Secrets\n",
    "- ConfigMaps store config data.\n",
    "- Secrets store sensitive information securely.\n",
    "- Configmaps are created by defining key value pairs for settings.\n",
    "- Secrets are used to safely store sensitive data like passwords.\n",
    "\n"
   ]
  },
  {
   "cell_type": "code",
   "execution_count": null,
   "metadata": {},
   "outputs": [],
   "source": []
  }
 ],
 "metadata": {
  "language_info": {
   "name": "python"
  }
 },
 "nbformat": 4,
 "nbformat_minor": 2
}
