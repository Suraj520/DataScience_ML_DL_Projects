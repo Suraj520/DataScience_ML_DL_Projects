{
 "cells": [
  {
   "cell_type": "markdown",
   "metadata": {},
   "source": [
    "## About\n",
    "> Why kubernetes ?\n",
    "- Easily handles more users by adding more helpers without chaos.\n",
    "- If something goes wrong, it fixes itself like a self healing bot.\n",
    "\n",
    "> Minikube & Kind\n",
    "- Minkube's personal tiny kubernetes playgound.\n",
    "- Kind is like kubernetes inside docker containers."
   ]
  },
  {
   "cell_type": "code",
   "execution_count": null,
   "metadata": {},
   "outputs": [],
   "source": []
  }
 ],
 "metadata": {
  "language_info": {
   "name": "python"
  }
 },
 "nbformat": 4,
 "nbformat_minor": 2
}
