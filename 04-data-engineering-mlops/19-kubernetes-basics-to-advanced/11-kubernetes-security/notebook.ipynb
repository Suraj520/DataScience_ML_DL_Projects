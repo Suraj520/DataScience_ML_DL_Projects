{
 "cells": [
  {
   "cell_type": "markdown",
   "metadata": {},
   "source": [
    "## About\n",
    "\n",
    "Two key strategies for securing a kubernetes cluster\n",
    "- `1. Role based access control(RBAC)` : Think of it as assigning specific roles to different part of flat residents. It ensures that right people have access to certain doors i.e not everyone should get an access to locker or IP cam room.\n",
    "\n",
    "- 2. `Pod security policies(PSP)` : It's defining how each room should be used i.e how each pod can be used and what they can do or not thereby avoiding mischeivous acts.\n",
    "- 3. `Network Policies` : They are like walls and gates to a villa. They act as guardians deciding who can communicate with whom thereby keeping unwanted guests out."
   ]
  },
  {
   "cell_type": "code",
   "execution_count": null,
   "metadata": {},
   "outputs": [],
   "source": []
  }
 ],
 "metadata": {
  "language_info": {
   "name": "python"
  }
 },
 "nbformat": 4,
 "nbformat_minor": 2
}
