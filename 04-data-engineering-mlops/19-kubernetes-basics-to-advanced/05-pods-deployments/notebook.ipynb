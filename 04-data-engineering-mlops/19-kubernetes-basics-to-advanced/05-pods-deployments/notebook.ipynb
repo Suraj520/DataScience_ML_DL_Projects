{
 "cells": [
  {
   "cell_type": "markdown",
   "metadata": {},
   "source": [
    "## About\n",
    "> Pods & Deployments\n",
    "- Pods : think of it as a cozy appartment for the app. It houses all the bits that an app requires to run it happily like files and settings. Just like room mates in an appartment, pods share the same space, making them great for teamwork.\n",
    "\n",
    "- Deployments : Think that you're the mayor of a city and you want to make sure your app is always available and up to date. Deployments help with that. \n",
    "\n",
    "- `kubectl get pods` and `kubectl describe pod pod_name` are used to explore pods.\n",
    "\n",
    "- `kubectl exec -it pod_name -- /bin/bash` is used to interact with the inside of a pod.\n",
    "\n",
    "- `kubectl logs pod_name` is used to read the pod's activities.\n",
    "\n",
    "- `kubectl get deployments` is used to list all deployments\n",
    "\n",
    "- `kubectl scale deployment deployment_name --replicas 3` is used to expand replicas of the deployment.\n",
    "\n",
    "-`kubectl set image deployment/deployment_name container_name=new_image:tag` is used to update image of deployment.\n",
    "\n",
    "- `kubectl create secret genric my-secret --from-literal=password=supersecret` is used to safeguard the secrets.\n",
    "\n",
    "- `kubectl create configmap my-config --from-file=config.txt` is used to store configs"
   ]
  },
  {
   "cell_type": "code",
   "execution_count": null,
   "metadata": {},
   "outputs": [],
   "source": []
  }
 ],
 "metadata": {
  "language_info": {
   "name": "python"
  }
 },
 "nbformat": 4,
 "nbformat_minor": 2
}
