{
 "cells": [
  {
   "cell_type": "markdown",
   "metadata": {},
   "source": [
    "## About\n",
    "> Building docker images.\n",
    "- Think of docker images as virtual boxes for the apps.\n",
    "- commands like `docker build -t your_img_name .` is used to build docker with dockerfile\n",
    "\n",
    "> Running and managing containers.\n",
    "- Containers are like running instancs of the virtual boxes.\n",
    "- Fire up with `docker run`\n",
    "- Manage with `docker ps` and `docker stop`\n",
    "- More commands are `docker run -d -p your_port:app_port your_image_name`\n",
    "\n",
    "> Container Networking & Storage.\n",
    "- Containers have a need to talk thus networking arises.\n",
    "- For storage, use volumes with `docker volume create`\n",
    "- Netorking `docker network create your_network`\n",
    "- Storage `docker volume create your_volume`"
   ]
  },
  {
   "cell_type": "code",
   "execution_count": null,
   "metadata": {},
   "outputs": [],
   "source": []
  }
 ],
 "metadata": {
  "language_info": {
   "name": "python"
  }
 },
 "nbformat": 4,
 "nbformat_minor": 2
}
