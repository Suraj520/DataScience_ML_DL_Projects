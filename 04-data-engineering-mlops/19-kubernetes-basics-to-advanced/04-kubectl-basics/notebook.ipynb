{
 "cells": [
  {
   "cell_type": "markdown",
   "metadata": {},
   "source": [
    "## About\n",
    "\n",
    "- Kubectl is like a trustful guide to navigating inside the world of kubernetes.## About\n",
    "\n",
    "- It is a magic wand allowing one to command kubernetes clusters effortlessly.\n",
    "\n",
    "- kubectl is used to connect and communicate with the clusters.\n",
    "- commands like `get` is used to fetch information whereas `describe` is used to show the descrition about resources and `create` is used to fork new entities.\n",
    "- `kubectl edit` is used to modify resources on the go. It's like fine tuning the settings of kubernetes components in real time.\n",
    "- `kubectl scale` is useed to expand the deployments.\n",
    "- `kubectl logs` and `kubectl describe` are used as detective kit to navigate through pod behaviours.\n",
    "- `kubectl create secrete` and `kubectl get secret` are used to keep sensitive data like auth data under wrap and deploy with confidence even if code has to be opensourced on github.\n",
    "- `kubectl port-forward` and `kubectl proxy` are used to direct traffic and navigate through clusters.\n",
    "- `kubectl delete` is used to delete pods or deployments.\n",
    "- `kubectl label` and `kubectl label --overwrite` is used to categorize and organize the resources for a more structured and eff. cluster.\n",
    "- `kubectl apply --dry-run=client` is used to commit the changes and test a dry run.\n",
    "- `kubectl apply -f custom-resource-definition.yaml` is used to create own resources using CRDs and shape into required deployment. It is a magic wand allowing one to command kubernetes clusters effortlessly.\n",
    "\n",
    "- kubectl is used to connect and communicate with the clusters.\n",
    "- commands like `get` is used to fetch information whereas `describe` is used to show the descrition about resources and `create` is used to fork new entities.\n",
    "- `kubectl edit` is used to modify resources on the go. It's like fine tuning the settings of kubernetes components in real time.\n",
    "- `kubectl scale` is useed to expand the deployments.\n",
    "- `kubectl logs` and `kubectl describe` are used as detective kit to navigate through pod behaviours.\n",
    "- `kubectl create secrete` and `kubectl get secret` are used to keep sensitive data like auth data under wrap and deploy with confidence even if code has to be opensourced on github.\n",
    "- `kubectl port-forward` and `kubectl proxy` are used to direct traffic and navigate through clusters.\n",
    "- `kubectl delete` is used to delete pods or deployments.\n",
    "- `kubectl label` and `kubectl label --overwrite` is used to categorize and organize the resources for a more structured and eff. cluster.\n",
    "- `kubectl apply --dry-run=client` is used to commit the changes and test a dry run.\n",
    "- `kubectl apply -f custom-resource-definition.yaml` is used to create own resources using CRDs and shape into required deployment."
   ]
  },
  {
   "cell_type": "code",
   "execution_count": null,
   "metadata": {},
   "outputs": [],
   "source": []
  }
 ],
 "metadata": {
  "language_info": {
   "name": "python"
  }
 },
 "nbformat": 4,
 "nbformat_minor": 2
}
