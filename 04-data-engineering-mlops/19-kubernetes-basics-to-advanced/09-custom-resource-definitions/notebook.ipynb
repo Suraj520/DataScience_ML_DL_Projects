{
 "cells": [
  {
   "cell_type": "markdown",
   "metadata": {},
   "source": [
    "## About\n",
    "- CRDs can be interpreted as kubernetes dictionary expansion pack letting us define custom objects to suit our app's unique needs.\n",
    "- CRDs open the door to a personalized kubernetes experience.\n",
    "- There are operators that are used to manage the apps.\n",
    "\n",
    "> Commands to get started\n",
    "- Creating a CRUD\n",
    "`kubectl apply -f my_custom_resource_def.yaml`\n",
    "\n",
    "- Deploying resources\n",
    "`kubectl apply -f my_custom_app.yml`\n",
    "\n",
    "- Checking status with operators\n",
    "`kubectl get mycustomapp`\n",
    "\n",
    "- Scaling with operators\n",
    "`kubectl scale mycustomapp my-app-name --replicas=3`\n",
    "\n",
    "- Updating CRDs\n",
    "`kubectl apply -f 'updated_crd.yaml`"
   ]
  },
  {
   "cell_type": "code",
   "execution_count": null,
   "metadata": {},
   "outputs": [],
   "source": []
  }
 ],
 "metadata": {
  "language_info": {
   "name": "python"
  }
 },
 "nbformat": 4,
 "nbformat_minor": 2
}
