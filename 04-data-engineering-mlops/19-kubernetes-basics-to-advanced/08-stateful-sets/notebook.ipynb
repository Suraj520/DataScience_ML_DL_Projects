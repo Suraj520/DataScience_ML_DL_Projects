{
 "cells": [
  {
   "cell_type": "markdown",
   "metadata": {},
   "source": [
    "## About\n",
    "\n",
    "- Imagine that we're orchestrating a bunch of applications on kubernetes and some of em need to remember things like data or unique IDs. That's where stateful sets come in handy as they act as organized caretakers.\n",
    "\n",
    "- Stateful sets are like event planners for apps ensuring that they stay organized.\n",
    "\n",
    "- Memory managers sync well with Persistent Volumes(PVs) and Persistent Volume Claims(PVCs). PVs are like app storage units and PVCs are the reciepts that say \"Hey, I need this much space\".\n",
    "\n",
    "- Stateful sets ensure each app gets its own storage spot and doesn't accidentally swap secrets."
   ]
  },
  {
   "cell_type": "code",
   "execution_count": null,
   "metadata": {},
   "outputs": [],
   "source": []
  }
 ],
 "metadata": {
  "language_info": {
   "name": "python"
  }
 },
 "nbformat": 4,
 "nbformat_minor": 2
}
