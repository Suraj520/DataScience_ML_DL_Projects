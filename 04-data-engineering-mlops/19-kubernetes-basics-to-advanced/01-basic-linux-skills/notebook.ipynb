{
 "cells": [
  {
   "cell_type": "markdown",
   "metadata": {},
   "source": [
    "## About\n",
    "1. Popular commands used are 'cd', 'ls' and 'mv'\n",
    "2. apt and yum are used to install packages inside the containers. Just like opening digital gift boxes and placing it in proper shelves."
   ]
  },
  {
   "cell_type": "code",
   "execution_count": null,
   "metadata": {},
   "outputs": [],
   "source": []
  }
 ],
 "metadata": {
  "language_info": {
   "name": "python"
  }
 },
 "nbformat": 4,
 "nbformat_minor": 2
}
