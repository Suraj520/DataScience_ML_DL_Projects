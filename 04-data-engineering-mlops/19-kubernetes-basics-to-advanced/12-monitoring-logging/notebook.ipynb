{
 "cells": [
  {
   "cell_type": "markdown",
   "metadata": {},
   "source": [
    "## About\n",
    "> Monitoring\n",
    "\n",
    "- Setting up prometheus to keep an eye on cluster's health.\n",
    "- Visualizing the data from prometheus with grafana to get a clear picture of what's happening.\n",
    "\n",
    "> Logging\n",
    "\n",
    "- Configuring Fluentd to smoothly collect and ship precious logs.\n",
    "- Visualizing logs using Kibana.\n"
   ]
  },
  {
   "cell_type": "code",
   "execution_count": null,
   "metadata": {},
   "outputs": [],
   "source": []
  }
 ],
 "metadata": {
  "language_info": {
   "name": "python"
  }
 },
 "nbformat": 4,
 "nbformat_minor": 2
}
