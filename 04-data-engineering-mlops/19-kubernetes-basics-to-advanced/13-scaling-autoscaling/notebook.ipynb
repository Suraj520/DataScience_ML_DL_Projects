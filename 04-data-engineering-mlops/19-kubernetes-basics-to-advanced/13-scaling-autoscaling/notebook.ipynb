{
 "cells": [
  {
   "cell_type": "markdown",
   "metadata": {},
   "source": [
    "## About\n",
    "- `Horizontal Pod Autoscalers(HPAs)` : Think of em as the app's personal fitness trainers. They dynamically adjust the number of running instances based on demand.\n",
    "-`Cluster Autoscaler` : This manages the number of nodes in the cluster like a smart gardener.\n"
   ]
  },
  {
   "cell_type": "code",
   "execution_count": null,
   "metadata": {},
   "outputs": [],
   "source": []
  }
 ],
 "metadata": {
  "language_info": {
   "name": "python"
  }
 },
 "nbformat": 4,
 "nbformat_minor": 2
}
