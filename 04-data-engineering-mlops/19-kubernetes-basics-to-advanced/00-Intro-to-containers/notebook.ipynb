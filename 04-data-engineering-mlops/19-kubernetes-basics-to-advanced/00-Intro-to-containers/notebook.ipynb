{
 "cells": [
  {
   "cell_type": "markdown",
   "metadata": {},
   "source": [
    "## About\n",
    "1. What are containers ?\n",
    "- Imagine containers as lightweight, portable boxes for the software.\n",
    "- They bundle up everything that an app needs to run smoothly\n",
    "\n",
    "2. Why containers ?\n",
    "- Containers are consistent i.e run the same way everywhere.\n",
    "- Each container is like a mini world for the app and preserves isolation i.e no interference.\n",
    "\n",
    "3. Benefits\n",
    "- They are fast to bootup.\n",
    "- They share resources.\n",
    "- They are easy to move around irrespective of size.\n",
    "\n",
    "4. Docker as a popular tool.\n",
    "- Docker is a master organizer for all controller.\n",
    "- It makes creating, managing and shipping containers like a breeze."
   ]
  },
  {
   "cell_type": "code",
   "execution_count": null,
   "metadata": {},
   "outputs": [],
   "source": []
  }
 ],
 "metadata": {
  "language_info": {
   "name": "python"
  }
 },
 "nbformat": 4,
 "nbformat_minor": 2
}
