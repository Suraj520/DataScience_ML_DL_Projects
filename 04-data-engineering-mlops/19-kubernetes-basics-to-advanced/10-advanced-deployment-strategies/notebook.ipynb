{
 "cells": [
  {
   "cell_type": "markdown",
   "metadata": {},
   "source": [
    "## About\n",
    "\n",
    "- `Rolling updates` : Imagine updating our app without downtime. Rolling updates just do that gradually replacing old versions with new ones, ensuring a smooth transition.\n",
    "\n",
    "- `Blue Green Deployments` : Picture having two environments, one running the current version(blue) and the other running new one(green). Switching b/w them is like chaning traffic lights.\n",
    "\n",
    "- `Canary deployments` : Like a canary in a coal mine, this strategy involves releasing the new version to a small subsett of users first \n",
    "\n",
    "- `Helm Package Manager` : Think of helm as your app's travel agent. It packages, manages and deploys kubernetes apps."
   ]
  },
  {
   "cell_type": "code",
   "execution_count": null,
   "metadata": {},
   "outputs": [],
   "source": []
  }
 ],
 "metadata": {
  "language_info": {
   "name": "python"
  }
 },
 "nbformat": 4,
 "nbformat_minor": 2
}
