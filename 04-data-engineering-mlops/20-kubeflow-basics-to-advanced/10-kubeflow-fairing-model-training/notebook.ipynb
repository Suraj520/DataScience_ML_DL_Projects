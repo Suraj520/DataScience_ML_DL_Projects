{
 "cells": [
  {
   "cell_type": "markdown",
   "metadata": {},
   "source": [
    "## About\n",
    "\n",
    "> Introduction to fairing\n",
    "\n",
    "- kubeflow fairing is a tool that helps us train ml models on kubernetes which is a system for managing containerized apps.\n",
    "\n",
    "- It simplifies the process of building, training and deploying models on kubernetes, making it easier for DS and ML engs.\n",
    "\n",
    "- Fairing supports various ml frameworks like Tf, Pytorch and scikit learn, however it can be configured to work with any framework\n",
    "\n",
    "> Building and deploying models with fairing\n",
    "\n",
    "- With fairing, we can build ml models and automatically containerize it, creating a container image that can be deployed on kubernetes.\n",
    "\n",
    "- Fairing can be easily integrated into kubeflow pipelines\n",
    "\n",
    "[Reference Video](https://www.youtube.com/watch?v=diGPUFu7fJw)"
   ]
  },
  {
   "cell_type": "code",
   "execution_count": null,
   "metadata": {},
   "outputs": [],
   "source": [
    "# Import necessary libraries\n",
    "import kubeflow.fairing as fairing\n",
    "from kubeflow.fairing import TrainJob\n",
    "\n",
    "# Define your machine learning model using TensorFlow\n",
    "# ...\n",
    "\n",
    "# Create a TrainJob with Fairing\n",
    "train_job = TrainJob(entry_point='train_model.py',\n",
    "                     base_image='tensorflow/tensorflow:latest',\n",
    "                     docker_registry='<your-docker-registry>',\n",
    "                     name='my-training-job')\n",
    "\n",
    "# Configure Fairing to use Kubeflow for training\n",
    "train_job.set_kubeflow_pipelines()\n",
    "\n",
    "# Launch the training job on Kubernetes\n",
    "train_job.submit()\n"
   ]
  }
 ],
 "metadata": {
  "language_info": {
   "name": "python"
  }
 },
 "nbformat": 4,
 "nbformat_minor": 2
}
