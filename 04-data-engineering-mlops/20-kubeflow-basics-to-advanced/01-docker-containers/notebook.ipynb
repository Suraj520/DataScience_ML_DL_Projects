{
 "cells": [
  {
   "cell_type": "markdown",
   "metadata": {},
   "source": [
    "## About\n",
    "\n",
    "> Containerization concepts\n",
    "\n",
    "- Think of containers as lightweight, standalone and portable units that can run applications and their dependencies.\n",
    "\n",
    "- Containers wrap up software and its settings into a single package, thereby enabling easy to run consistently across varying env.\n",
    "\n",
    "> Docker Architecture and components\n",
    "\n",
    "- Docker uses a client-server arch.\n",
    "\n",
    "- Docker client talks to the docker daemon which does the heavy lifting of building, running & distr. containers.\n",
    "\n",
    "- Docker images are the blueprints and containers are the actual running instances based on these image.\n",
    "\n",
    "> Docker CLI basics\n",
    "\n",
    "- Docker CLI is used to interact with docker via command line interface.\n",
    "\n",
    "- basic commands include `docker run` to start a container, `docker build` to create an image and `docker ps` to see running containers.\n",
    "\n",
    "-  `docker pull` fetches images from docker hub or another registry.\n",
    "\n",
    "- `docker stop` halts a running container.\n",
    "\n",
    "- `docker rm` removes a stopped container\n",
    "\n",
    "- `docker rmi` removes an image\n",
    "\n",
    "- `docker ps -a` shows all containers, incl. stopped ones."
   ]
  },
  {
   "cell_type": "code",
   "execution_count": null,
   "metadata": {},
   "outputs": [],
   "source": []
  }
 ],
 "metadata": {
  "language_info": {
   "name": "python"
  }
 },
 "nbformat": 4,
 "nbformat_minor": 2
}
