{
 "cells": [
  {
   "cell_type": "markdown",
   "metadata": {},
   "source": [
    "## About\n",
    "\n",
    "> Kubeflow metadata experiments\n",
    "\n",
    "- Metadata is like a label or tag that provides information about data. In the context of ML, metadata helps us manage and understand the various aspects of our ML workflow.\n",
    "\n",
    "- It includes detail like when a model was trained, which dataset was used and what params were set so as to ensure reproducible behaviour.\n",
    "\n",
    "\n",
    "> Experiment Tracking\n",
    "\n",
    "- It involves keeping a record of all steps and details involved in training a ml model.\n",
    "\n",
    "- Kubeflow metadata allows us to record these details, such as hyperparams, data used and model performance which can be referred back.\n",
    "\n",
    "\n",
    "\n"
   ]
  },
  {
   "cell_type": "code",
   "execution_count": null,
   "metadata": {},
   "outputs": [],
   "source": [
    "# Import necessary libraries\n",
    "from kubeflow.metadata import metadata\n",
    "from kubeflow.metadata import metrics\n",
    "from datetime import datetime\n",
    "\n",
    "# Connect to the Metadata service\n",
    "metadata_writer = metadata.Writer(\"metadata-service:8080\")\n",
    "\n",
    "# Record experiment details\n",
    "experiment_run = metadata_writer.log_execution(\n",
    "    name=\"ImageClassificationExperiment\",\n",
    "    description=\"Experiment to classify images using a neural network\",\n",
    "    start_time=datetime.utcnow().isoformat(),\n",
    ")\n",
    "\n",
    "# Log hyperparameters\n",
    "metadata_writer.log_hyperparameter(experiment_run.id, \"learning_rate\", 0.001)\n",
    "metadata_writer.log_hyperparameter(experiment_run.id, \"batch_size\", 64)\n",
    "\n",
    "# Train the model (hypothetical training code)\n",
    "# ...\n",
    "\n",
    "# Log metrics\n",
    "metrics_writer = metrics.Writer(metadata_writer.log_directory)\n",
    "metrics_writer.log_metric(experiment_run.id, \"accuracy\", 0.92)\n",
    "metrics_writer.log_metric(experiment_run.id, \"loss\", 0.1)\n",
    "\n",
    "# Close the connection to the Metadata service\n",
    "metadata_writer.close()\n"
   ]
  }
 ],
 "metadata": {
  "language_info": {
   "name": "python"
  }
 },
 "nbformat": 4,
 "nbformat_minor": 2
}
