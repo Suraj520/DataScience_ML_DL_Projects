{
 "cells": [
  {
   "cell_type": "markdown",
   "metadata": {},
   "source": [
    "## About\n",
    "\n",
    "> Kubeflow components\n",
    "\n",
    "- Imagine kubeflow as a toolbox for ML on kubernetes. It brings together different tools and resources to make it easier to deploy, manage and scale ML workflows.\n",
    "\n",
    "- Components are diff. tools and parts inside the kubeflow toolbox. For example, there might be tools for training models, storing data and managing the overall flow of ML tasks.\n",
    "\n",
    "> Use cases for kubeflow in ML workflows\n",
    "\n",
    "- `Streamlined ML workflow` : It helps in organizing and optimizing the steps involved in ML.\n",
    "\n",
    "- `Scalability` - It allows us to easily scale ML processes, handling larger datasets and complex models.\n",
    "\n",
    "- `Reproducibility` - With kubeflow, we can recreate ML experiments, thereby making it easier to test and improve the models.\n",
    "\n",
    "> Basic kubeflow concepts\n",
    "\n",
    "- `Namespaces` are seperate rooms in a house. Each namespace is like a dedicated space for specific tasks or projects within kubeflow.\n",
    "\n",
    "- `Services` are like services in a hotel. They provide specific functions or features within kubeflow, such as handling data or managint training processes.\n",
    "\n",
    "- `Deployments` are useful when we are ready to start a ml task. It helps in deploying army i.e setting up resources needed to run ML models effectively."
   ]
  },
  {
   "cell_type": "code",
   "execution_count": null,
   "metadata": {},
   "outputs": [],
   "source": []
  }
 ],
 "metadata": {
  "language_info": {
   "name": "python"
  }
 },
 "nbformat": 4,
 "nbformat_minor": 2
}
