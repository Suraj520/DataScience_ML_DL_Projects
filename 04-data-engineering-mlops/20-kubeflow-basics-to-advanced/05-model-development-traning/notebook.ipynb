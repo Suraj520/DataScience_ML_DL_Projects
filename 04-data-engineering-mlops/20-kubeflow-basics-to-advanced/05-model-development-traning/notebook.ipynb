{
 "cells": [
  {
   "cell_type": "markdown",
   "metadata": {},
   "source": [
    "## About\n",
    "\n",
    "> Common steps\n",
    "\n",
    "1. Choose a framework(TF/PyTorch)\n",
    "2. Set up Kubeflow\n",
    "3. Develop code\n",
    "4. Organize code into modular components.\n",
    "5. distributed training setup\n",
    "6. Set up monitoring"
   ]
  },
  {
   "cell_type": "code",
   "execution_count": null,
   "metadata": {},
   "outputs": [],
   "source": []
  }
 ],
 "metadata": {
  "language_info": {
   "name": "python"
  }
 },
 "nbformat": 4,
 "nbformat_minor": 2
}
