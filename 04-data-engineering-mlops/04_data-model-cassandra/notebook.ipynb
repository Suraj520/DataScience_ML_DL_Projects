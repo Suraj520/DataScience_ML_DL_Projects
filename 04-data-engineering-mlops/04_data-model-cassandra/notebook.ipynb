{
 "cells": [
  {
   "attachments": {},
   "cell_type": "markdown",
   "metadata": {},
   "source": [
    "#### About\n",
    "1. What is Cassandra ?\n",
    "- Ans - Before understanding Cassandra, We have to understand Relational Database and NoSQL.\n",
    "\n",
    "In Relational Database, If a new entry to a table which has attributes STUDENT ID, NAME, LOCATION, GENDER, COLLEGE has to be made then it ought to have all the attributes in the entry else we can't do entry in the database.\n",
    "\n",
    "If we have to do the entry still, We will have to fill NA in that entry which shall waste space. Similarly, If we have an extra attribute named Activity of the candidate then we'll not be able to fill it in the DB.\n",
    "\n",
    "To convert these disadvantage into advantage, NoSQL is used. We'll pass only the known attributes for a candidate thereby removing the limitations of a relational database.\n",
    "\n",
    "NoSQL can handle unstructred data, efficiently\n",
    "\n",
    "* There are 4 types of NoSQL database\n",
    "1. Key-Value Database.\n",
    "2. Column Database - Cassandra\n",
    "3. Document Database\n",
    "4. Graph Database.\n",
    "\n",
    "\n",
    "* Apache Cassandra is a distributed NoSQL Database. It is based on Peer to Peer architecture instead of its contrary master-slave architecture.\n",
    "\n",
    "- It ensures high performance, large scalability and distributed. Number of nodes and computational nodes can increase.\n",
    "\n",
    "- Cassandra handles all three types of data like Structred, Semi-Structred and Unstructred.\n",
    "\n",
    "- Cassandra supports A(Atomicity), C(Consistency), I(Isolation) and D(Durability).\n",
    "\n",
    "- It's higly reliable due to data replicability. If the node fails then data can be retrieved from other nodes.\n",
    "\n",
    "- It's open-source. It can be integrated with Apache HIVE, Hadoop etc. \n"
   ]
  },
  {
   "attachments": {},
   "cell_type": "markdown",
   "metadata": {},
   "source": [
    "#### Installation Steps.\n",
    "1. Download and Install Apache Cassandra(3.11.14, Tested), jdk(8u351-windowsx64, Tested) and Python2.7(tested)\n",
    "2. Set JAVA_HOME and other related paths.\n",
    "3. Run cassandra in CMD\n",
    "4. Run command sqlsh in other terminal\n",
    "5. Type SQL queries."
   ]
  },
  {
   "attachments": {},
   "cell_type": "markdown",
   "metadata": {},
   "source": [
    "```\n",
    "#> cqlsh\n",
    "# run command\n",
    "use mydbl;\n",
    "#create table student\n",
    "create table student(studentid int primary key, name text, roll text);\n",
    "#viewing table\n",
    "desc student\n",
    "#insert record\n",
    "insert into student(studentid, name, roll) values(1,'SURAJ','121432');\n",
    "# inserting one more record\n",
    "insert into student(studentid, name, roll) values(2,'HELLO','124432');\n",
    "# # inserting one more record\n",
    "insert into student(studentid, name, roll) values(3,'WORLD','1265432');\n",
    "# viewing records\n",
    "select * from students;\n",
    "#update record for student id =2\n",
    "update student set roll='1234' where studentid = 2;\n",
    "#viewing updated record\n",
    "select * from students;\n",
    "#deleting a record\n",
    "delete from students where studentid=2\n",
    "\n",
    "```"
   ]
  },
  {
   "attachments": {},
   "cell_type": "markdown",
   "metadata": {},
   "source": [
    "#### Usage of Apache Cassandra in Python\n",
    "\n",
    "1. docker run --name test-cassandra-v2 -p 9042:9042\n",
    "2. pip3 install cassandra-driver"
   ]
  },
  {
   "cell_type": "code",
   "execution_count": null,
   "metadata": {},
   "outputs": [],
   "source": [
    "from cassandra.cluster import Cluster\n",
    "cluster = Cluster(['0.0.0.0'], port=9042)#pass the node\n",
    "#connect to cluster\n",
    "session = cluster.connect('student') #pass the keyspace present i.e database in Mysql equivalent\n",
    "\n",
    "# READING DATA\n",
    "\n",
    "#reading data from table- let's say the keyspace student has a table student_details\n",
    "rows = session.execute('SELECT * FROM student_details') #pass query\n",
    "for student_detail in rows:\n",
    "    print(student_detail)\n",
    "\n",
    "#reading performant\n",
    "# running for multiple ID\n",
    "prepared_statement = session.prepare('SELECT * FROM student_details WHERE studentid = ?')\n",
    "# in run time question mark(WILDCARD) is replaced by student_id\n",
    "students_to_look_up = [3,6]\n",
    "\n",
    "for student_id in students_to_look_up:\n",
    "    student = session.execute(prepared_statement,[student_id]).one()\n",
    "    print(student)\n",
    "\n",
    "# WRITING DATA\n",
    "#1. Synchronous writing\n",
    "session.execute(\"INSERT INTO student_details (student_id, Name, roll) VALUES(1,'SURAJ',12);\")\n",
    "\n",
    "#2. Asynchronous writing\n",
    "# write and move on with a PID instead of waiting \n",
    "\n",
    "session.execute_async(\"INSERT INTO student_details (student_id, Name, roll) VALUES(4,'STUDENT_1',12);\")\n",
    "\n",
    "## one can view from sqlsh, The changes in table\n"
   ]
  },
  {
   "attachments": {},
   "cell_type": "markdown",
   "metadata": {},
   "source": [
    "References\n",
    "1. Event Data modelling in Cassandra\n",
    "https://github.com/Modingwa/Data-Modelling-with-Cassandra"
   ]
  },
  {
   "cell_type": "code",
   "execution_count": null,
   "metadata": {},
   "outputs": [],
   "source": []
  }
 ],
 "metadata": {
  "kernelspec": {
   "display_name": "Python 3",
   "language": "python",
   "name": "python3"
  },
  "language_info": {
   "codemirror_mode": {
    "name": "ipython",
    "version": 3
   },
   "file_extension": ".py",
   "mimetype": "text/x-python",
   "name": "python",
   "nbconvert_exporter": "python",
   "pygments_lexer": "ipython3",
   "version": "3.8.10"
  },
  "orig_nbformat": 4,
  "vscode": {
   "interpreter": {
    "hash": "916dbcbb3f70747c44a77c7bcd40155683ae19c65e1c03b4aa3499c5328201f1"
   }
  }
 },
 "nbformat": 4,
 "nbformat_minor": 2
}
