{
 "cells": [
  {
   "attachments": {},
   "cell_type": "markdown",
   "metadata": {},
   "source": [
    "#### About\n",
    "\n",
    "> Data Ops\n",
    "\n",
    "DataOps is an approach to managing the entire data lifecycle, from data ingestion and processing to analysis and implementation, using Agile and DevOps principles. It involves collaboration between data engineers, data scientists, and business stakeholders to quickly and efficiently develop, test, and deploy data-driven applications. \n",
    "\n",
    "At its core, DataOps focuses on automating and simplifying the processes involved in building and deploying data-driven applications. This includes automated testing and deployment, continuous integration and delivery (CI/CD), version control and data quality monitoring. By implementing DataOps, organizations can increase the speed and accuracy of data operations, improve data quality, and reduce the time and cost of data-driven projects.\n",
    "\n",
    "For example, data teams can use DataOps principles to create pipelines for receiving and processing customer data from a variety of sources, such as social media and online purchases. This pipeline can include automated data quality checks, data enrichment and feature development, as well as automated testing and deployment to production.\n",
    "\n"
   ]
  },
  {
   "cell_type": "code",
   "execution_count": 1,
   "metadata": {},
   "outputs": [],
   "source": [
    "# using data ops to load data from a csv file to postgresql database"
   ]
  },
  {
   "cell_type": "code",
   "execution_count": 3,
   "metadata": {},
   "outputs": [],
   "source": [
    "import pandas as pd\n",
    "import psycopg2\n"
   ]
  },
  {
   "cell_type": "code",
   "execution_count": 4,
   "metadata": {},
   "outputs": [
    {
     "name": "stdout",
     "output_type": "stream",
     "text": [
      "--2023-05-02 08:09:25--  https://archive.ics.uci.edu/ml/machine-learning-databases/iris/iris.data\n",
      "Resolving archive.ics.uci.edu (archive.ics.uci.edu)... 128.195.10.252\n",
      "Connecting to archive.ics.uci.edu (archive.ics.uci.edu)|128.195.10.252|:443... connected.\n",
      "HTTP request sent, awaiting response... 200 OK\n",
      "Length: 4551 (4.4K) [application/x-httpd-php]\n",
      "Saving to: ‘iris.data’\n",
      "\n",
      "iris.data           100%[===================>]   4.44K  --.-KB/s    in 0s      \n",
      "\n",
      "2023-05-02 08:09:26 (22.4 MB/s) - ‘iris.data’ saved [4551/4551]\n",
      "\n"
     ]
    }
   ],
   "source": [
    "!wget https://archive.ics.uci.edu/ml/machine-learning-databases/iris/iris.data\n"
   ]
  },
  {
   "cell_type": "code",
   "execution_count": 5,
   "metadata": {},
   "outputs": [],
   "source": [
    "# Define input data schema\n",
    "input_schema = {\n",
    "    'sepal_length': float,\n",
    "    'sepal_width': float,\n",
    "    'petal_length': float,\n",
    "    'petal_width': float,\n",
    "    'class': str\n",
    "}\n"
   ]
  },
  {
   "cell_type": "code",
   "execution_count": 6,
   "metadata": {},
   "outputs": [],
   "source": [
    "# Load data from CSV file into a Pandas dataframe\n",
    "data = pd.read_csv('iris.data', dtype=input_schema)\n"
   ]
  },
  {
   "cell_type": "code",
   "execution_count": 10,
   "metadata": {},
   "outputs": [],
   "source": [
    "# Define new column names\n",
    "new_columns = ['sepal_length', 'sepal_width', 'petal_length', 'petal_width', 'species']\n"
   ]
  },
  {
   "cell_type": "code",
   "execution_count": 11,
   "metadata": {},
   "outputs": [],
   "source": [
    "# Rename the columns of the DataFrame\n",
    "data.columns = new_columns\n"
   ]
  },
  {
   "cell_type": "code",
   "execution_count": 12,
   "metadata": {},
   "outputs": [
    {
     "data": {
      "text/plain": [
       "Index(['sepal_length', 'sepal_width', 'petal_length', 'petal_width',\n",
       "       'species'],\n",
       "      dtype='object')"
      ]
     },
     "execution_count": 12,
     "metadata": {},
     "output_type": "execute_result"
    }
   ],
   "source": [
    "data.columns"
   ]
  },
  {
   "cell_type": "code",
   "execution_count": 13,
   "metadata": {},
   "outputs": [],
   "source": [
    "# Clean and transform data as needed\n",
    "data['sepal_area'] = data['sepal_length'] * data['sepal_width']\n"
   ]
  },
  {
   "cell_type": "code",
   "execution_count": null,
   "metadata": {},
   "outputs": [],
   "source": [
    "# Connect to PostgreSQL database\n",
    "conn = psycopg2.connect(\n",
    "    host=\"localhost\",\n",
    "    database=\"mydatabase\",\n",
    "    user=\"myusername\",\n",
    "    password=\"mypassword\"\n",
    ")\n"
   ]
  },
  {
   "cell_type": "code",
   "execution_count": null,
   "metadata": {},
   "outputs": [],
   "source": [
    "# Create table in PostgreSQL database\n",
    "with conn.cursor() as cur:\n",
    "    cur.execute(\"\"\"\n",
    "        CREATE TABLE iris (\n",
    "            sepal_length FLOAT,\n",
    "            sepal_width FLOAT,\n",
    "            petal_length FLOAT,\n",
    "            petal_width FLOAT,\n",
    "            class VARCHAR(50),\n",
    "            sepal_area FLOAT\n",
    "        );\n",
    "    \"\"\")\n",
    "    conn.commit()\n"
   ]
  },
  {
   "cell_type": "code",
   "execution_count": null,
   "metadata": {},
   "outputs": [],
   "source": [
    "# Load data into PostgreSQL database\n",
    "with conn.cursor() as cur:\n",
    "    for _, row in data.iterrows():\n",
    "        cur.execute(\"\"\"\n",
    "            INSERT INTO iris (sepal_length, sepal_width, petal_length, petal_width, class, sepal_area)\n",
    "            VALUES (%s, %s, %s, %s, %s, %s);\n",
    "        \"\"\", (row['sepal_length'], row['sepal_width'], row['petal_length'], row['petal_width'], row['class'], row['sepal_area']))\n",
    "    conn.commit()\n",
    "\n",
    "# Close connection to PostgreSQL database\n",
    "conn.close()"
   ]
  }
 ],
 "metadata": {
  "kernelspec": {
   "display_name": "dl",
   "language": "python",
   "name": "python3"
  },
  "language_info": {
   "codemirror_mode": {
    "name": "ipython",
    "version": 3
   },
   "file_extension": ".py",
   "mimetype": "text/x-python",
   "name": "python",
   "nbconvert_exporter": "python",
   "pygments_lexer": "ipython3",
   "version": "3.9.16"
  },
  "orig_nbformat": 4
 },
 "nbformat": 4,
 "nbformat_minor": 2
}
