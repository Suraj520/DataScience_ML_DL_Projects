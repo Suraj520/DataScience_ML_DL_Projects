{
 "cells": [
  {
   "attachments": {},
   "cell_type": "markdown",
   "metadata": {},
   "source": [
    "#### About\n",
    "\n",
    "> Data modelling\n",
    "\n",
    "Data modeling is the process of creating a visual representation of the structure of a database. It helps organize data in a logical way and ensures that it is accurate, consistent and easily accessible. A common approach to data modeling is to use Entity Relationship (ER) diagrams. An ER diagram is a graphical representation of entities (things) in a system and their interrelationships. Let's take an example to illustrate how data modeling works:\n",
    "\n",
    "Let's say you're building a database for a university. You can start by identifying the entities involved, such as \"student\", \"course\", and \"professor\". You will then identify attributes (features) for each entity, such as \"Student ID\", \"Course Name\", and \"Professor Name\".\n",
    "\n",
    "Then define the relationships between the entities. \n",
    "\n",
    "For example, a student may be enrolled in multiple courses, and a course may have multiple students. This is a many-to-many relationship and requires a \"connection table\" to connect the two entities. Also, one professor can teach several courses, and one course can be taught by several professors. This is another many-to-many relationship that requires a join table. Once the entities and relationships are identified, an ER diagram can be created to visually represent the structure of the database. ER diagrams show entities as boxes with attributes specified in each box. These relationships are shown as lines connecting boxes, with symbols indicating the type of relationship (for example, crow's feet for many-to-many relationships)."
   ]
  },
  {
   "cell_type": "code",
   "execution_count": null,
   "metadata": {},
   "outputs": [],
   "source": [
    "#example\n",
    "\n",
    "#!pip install sqlalchemy\n",
    "#!pip install sqlalchemy_schemadisplay\n",
    "#sudo apt-get install graphviz\n",
    "\n",
    "#!conda install eralchemy\n"
   ]
  },
  {
   "cell_type": "code",
   "execution_count": 34,
   "metadata": {},
   "outputs": [],
   "source": [
    "from sqlalchemy import create_engine, Column, Integer, String, ForeignKey\n",
    "from sqlalchemy.orm import sessionmaker\n",
    "from sqlalchemy.ext.declarative import declarative_base\n",
    "from eralchemy import render_er\n"
   ]
  },
  {
   "cell_type": "code",
   "execution_count": 35,
   "metadata": {},
   "outputs": [],
   "source": [
    "# create engine and base\n",
    "engine = create_engine('sqlite:///example.db', echo=True)\n",
    "Session = sessionmaker(bind=engine)\n"
   ]
  },
  {
   "cell_type": "code",
   "execution_count": 36,
   "metadata": {},
   "outputs": [
    {
     "name": "stderr",
     "output_type": "stream",
     "text": [
      "/tmp/ipykernel_9908/3864161828.py:1: MovedIn20Warning: The ``declarative_base()`` function is now available as sqlalchemy.orm.declarative_base(). (deprecated since: 2.0) (Background on SQLAlchemy 2.0 at: https://sqlalche.me/e/b8d9)\n",
      "  Base = declarative_base()\n"
     ]
    }
   ],
   "source": [
    "Base = declarative_base()\n"
   ]
  },
  {
   "cell_type": "code",
   "execution_count": 37,
   "metadata": {},
   "outputs": [],
   "source": [
    "# define tables for customer\n",
    "class Customer(Base):\n",
    "    __tablename__ = 'customers'\n",
    "\n",
    "    id = Column(Integer, primary_key=True)\n",
    "    name = Column(String)\n"
   ]
  },
  {
   "cell_type": "code",
   "execution_count": 38,
   "metadata": {},
   "outputs": [],
   "source": [
    "# table for order\n",
    "\n",
    "class Order(Base):\n",
    "    __tablename__ = 'orders'\n",
    "\n",
    "    id = Column(Integer, primary_key=True)\n",
    "    order_number = Column(String)\n",
    "    customer_id = Column(Integer, ForeignKey('customers.id'))\n"
   ]
  },
  {
   "cell_type": "code",
   "execution_count": 39,
   "metadata": {},
   "outputs": [
    {
     "name": "stdout",
     "output_type": "stream",
     "text": [
      "2023-05-01 18:40:29,364 INFO sqlalchemy.engine.Engine BEGIN (implicit)\n",
      "2023-05-01 18:40:29,365 INFO sqlalchemy.engine.Engine PRAGMA main.table_info(\"customers\")\n",
      "2023-05-01 18:40:29,367 INFO sqlalchemy.engine.Engine [raw sql] ()\n",
      "2023-05-01 18:40:29,368 INFO sqlalchemy.engine.Engine PRAGMA main.table_info(\"orders\")\n",
      "2023-05-01 18:40:29,369 INFO sqlalchemy.engine.Engine [raw sql] ()\n",
      "2023-05-01 18:40:29,371 INFO sqlalchemy.engine.Engine COMMIT\n"
     ]
    }
   ],
   "source": [
    "Base.metadata.create_all(engine)\n"
   ]
  },
  {
   "cell_type": "code",
   "execution_count": null,
   "metadata": {},
   "outputs": [],
   "source": [
    "# render ER diagram as PNG file\n",
    "render_er(Base, 'diagram.png')\n"
   ]
  },
  {
   "cell_type": "code",
   "execution_count": null,
   "metadata": {},
   "outputs": [],
   "source": []
  }
 ],
 "metadata": {
  "kernelspec": {
   "display_name": "dl",
   "language": "python",
   "name": "python3"
  },
  "language_info": {
   "codemirror_mode": {
    "name": "ipython",
    "version": 3
   },
   "file_extension": ".py",
   "mimetype": "text/x-python",
   "name": "python",
   "nbconvert_exporter": "python",
   "pygments_lexer": "ipython3",
   "version": "3.9.16"
  },
  "orig_nbformat": 4
 },
 "nbformat": 4,
 "nbformat_minor": 2
}
