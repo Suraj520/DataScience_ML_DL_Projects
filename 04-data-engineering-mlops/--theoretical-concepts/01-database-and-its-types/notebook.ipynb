{
 "cells": [
  {
   "attachments": {},
   "cell_type": "markdown",
   "metadata": {},
   "source": [
    "#### About\n",
    "\n",
    "> Database and its types\n",
    "\n",
    "A database is a collection of data organized for efficient storage, retrieval, and management. There are many different types of databases, each with their own unique strengths and weaknesses. \n",
    "\n",
    "Common database and its types\n",
    "\n",
    "1. Relational database - This is the most common type of database where data is stored in tables with rows and columns. Each row represents a record, and each column represents a specific attribute of that record. Relational databases are suitable for structured data with clear relationships between tables.\n",
    "\n",
    "Examples of relational databases include MySQL, Oracle, and Microsoft SQL Server. Example: A library system with tables for books, authors, and borrowers. The books table will have columns for the book title, author ID, and ISBN, while the authors table will have columns for the author name and ID. The borrower's desk is the borrower IID, the name and the contact information. Table links by author -id and borrower -id. \n",
    "\n"
   ]
  },
  {
   "cell_type": "code",
   "execution_count": null,
   "metadata": {},
   "outputs": [],
   "source": [
    "# !pip install mysql-connector-python\n",
    "\n",
    "import mysql.connector\n",
    "\n",
    "# Connect to MySQL database\n",
    "mydb = mysql.connector.connect(\n",
    "  host=\"localhost\",\n",
    "  user=\"yourusername\",\n",
    "  password=\"yourpassword\",\n",
    "  database=\"mydatabase\"\n",
    ")\n",
    "\n",
    "# Execute SQL query and fetch results\n",
    "mycursor = mydb.cursor()\n",
    "mycursor.execute(\"SELECT * FROM books\")\n",
    "result = mycursor.fetchall()\n",
    "\n",
    "# Print the result\n",
    "for row in result:\n",
    "  print(row)"
   ]
  },
  {
   "attachments": {},
   "cell_type": "markdown",
   "metadata": {},
   "source": [
    "2. NoSQL databases are non-relational databases that store data in a way that does not require a fixed schema or predefined relationships between tables. NoSQL databases are suitable for unstructured data with complex relationships. Examples of NoSQL databases are MongoDB and Cassandra.\n",
    "Example: A social media platform that stores user data in a NoSQL database. Each user profile will be saved as a document with embedded fields for user preferences, contacts and messages.\n",
    "\n"
   ]
  },
  {
   "cell_type": "code",
   "execution_count": null,
   "metadata": {},
   "outputs": [],
   "source": [
    "import pymongo\n",
    "\n",
    "# Connect to MongoDB database\n",
    "myclient = pymongo.MongoClient(\"mongodb://localhost:27017/\")\n",
    "\n",
    "# Access database and collection\n",
    "mydb = myclient[\"mydatabase\"]\n",
    "mycol = mydb[\"customers\"]\n",
    "\n",
    "# Execute query and print results\n",
    "x = mycol.find_one()\n",
    "print(x)\n"
   ]
  },
  {
   "attachments": {},
   "cell_type": "markdown",
   "metadata": {},
   "source": [
    "3. Object-oriented databases - These are databases that store objects instead of tables, making them ideal candidates for object-oriented programming languages. Object-oriented databases are ideal for complex data with many relationships between objects. Examples of object-oriented databases are ObjectDB and Versant. Example: video games with players, objects and enemies. Each player has healthy, horizontal and storage properties. Each element object has attributes such as name, type, and value. These objects will be related through relationships such as ownership and interaction. \n",
    "\n"
   ]
  },
  {
   "cell_type": "code",
   "execution_count": null,
   "metadata": {},
   "outputs": [],
   "source": [
    "import objectdb\n",
    "\n",
    "# Connect to ObjectDB database\n",
    "mydb = objectdb.open(\"objectdb://localhost/mydatabase.odb\")\n",
    "\n",
    "# Execute query and print results\n",
    "result = mydb.query(\"SELECT p FROM Person p\")\n",
    "for person in result:\n",
    "    print(person)\n"
   ]
  },
  {
   "attachments": {},
   "cell_type": "markdown",
   "metadata": {},
   "source": [
    "4. Graph Databases - These databases store data as nodes and edges, allowing for efficient use of complex relationships between data. Graph databases are suitable for data containing many interconnected entities, such as social networks or recommendation engines. Examples of graph databases are Neo4j and OrientDB.\n",
    "\n",
    "Example. The recommendation engine for the music streaming service uses a graph database to maintain relationships between artists, albums and songs. Each node represents an artist, album, or song, and each edge represents a relationship, such as \"artist\" or \"similar.\""
   ]
  },
  {
   "cell_type": "code",
   "execution_count": null,
   "metadata": {},
   "outputs": [],
   "source": [
    "from neo4j import GraphDatabase\n",
    "\n",
    "# Connect to Neo4j database\n",
    "driver = GraphDatabase.driver(\"bolt://localhost:7687\", auth=(\"neo4j\", \"password\"))\n",
    "\n",
    "# Execute query and print results\n",
    "with driver.session() as session:\n",
    "    result = session.run(\"MATCH (a:Artist)-[:SINGS]->(s:Song) RETURN a.name, s.name\")\n",
    "    for record in result:\n",
    "        print(record[\"a.name\"], \"sings\", record[\"s.name\"])\n"
   ]
  }
 ],
 "metadata": {
  "language_info": {
   "name": "python"
  },
  "orig_nbformat": 4
 },
 "nbformat": 4,
 "nbformat_minor": 2
}
