{
 "cells": [
  {
   "attachments": {},
   "cell_type": "markdown",
   "metadata": {},
   "source": [
    "## About\n",
    "\n",
    "> Function as a service\n",
    "\n",
    "Functions as a Service (FaaS) is a cloud computing model that allows developers to build, run, and manage applications without building and maintaining the underlying infrastructure. In a FaaS cloud provider, the infrastructure is managed, and developers focus only on writing the application logic in the form of functions. Service providers then perform these functions in response to events or requests."
   ]
  },
  {
   "cell_type": "code",
   "execution_count": 1,
   "metadata": {},
   "outputs": [],
   "source": [
    "import json\n",
    "import numpy as np\n",
    "from sklearn.datasets import load_iris\n"
   ]
  },
  {
   "cell_type": "code",
   "execution_count": 2,
   "metadata": {},
   "outputs": [],
   "source": [
    "# aws lambda function to process data\n",
    "def lambda_handler(event, context):\n",
    "    iris = load_iris()\n",
    "    summary_stats = {\n",
    "        'mean': np.mean(iris.data, axis=0).tolist(),\n",
    "        'std_dev': np.std(iris.data, axis=0).tolist(),\n",
    "        'min': np.min(iris.data, axis=0).tolist(),\n",
    "        'max': np.max(iris.data, axis=0).tolist(),\n",
    "    }\n",
    "    \n",
    "    return {\n",
    "        'statusCode': 200,\n",
    "        'body': json.dumps(summary_stats)\n",
    "    }"
   ]
  },
  {
   "cell_type": "code",
   "execution_count": null,
   "metadata": {},
   "outputs": [],
   "source": [
    "#using boto3 to upload the function code to aws lambda and create a new function\n",
    "import boto3\n",
    "\n",
    "lambda_client = boto3.client('lambda', region_name='us-east-1')\n",
    "with open('lambda_function.zip', 'rb') as f:\n",
    "    response = lambda_client.create_function(\n",
    "        FunctionName='iris-summary-stats',\n",
    "        Runtime='python3.8',\n",
    "        Role='<lambda-execution-role-arn>',\n",
    "        Handler='lambda_function.lambda_handler',\n",
    "        Code=dict(ZipFile=f.read()),\n",
    "        Description='Calculates summary statistics of the iris dataset',\n",
    "        Timeout=30,\n",
    "        MemorySize=256\n",
    "    )\n",
    "\n",
    "print(response)"
   ]
  },
  {
   "cell_type": "code",
   "execution_count": null,
   "metadata": {},
   "outputs": [],
   "source": [
    "#invoking the function and printing the output\n",
    "response = lambda_client.invoke(FunctionName='iris-summary-stats')\n",
    "response_payload = json.loads(response['Payload'].read())\n",
    "print(response_payload)"
   ]
  }
 ],
 "metadata": {
  "kernelspec": {
   "display_name": "dl",
   "language": "python",
   "name": "python3"
  },
  "language_info": {
   "codemirror_mode": {
    "name": "ipython",
    "version": 3
   },
   "file_extension": ".py",
   "mimetype": "text/x-python",
   "name": "python",
   "nbconvert_exporter": "python",
   "pygments_lexer": "ipython3",
   "version": "3.9.16"
  },
  "orig_nbformat": 4
 },
 "nbformat": 4,
 "nbformat_minor": 2
}
