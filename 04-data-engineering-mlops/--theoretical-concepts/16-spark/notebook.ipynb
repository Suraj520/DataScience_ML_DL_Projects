{
 "cells": [
  {
   "attachments": {},
   "cell_type": "markdown",
   "metadata": {},
   "source": [
    "#### About\n",
    "\n",
    "> Spark\n",
    "\n",
    "Apache Spark is an open source big data processing engine designed to enable fast and distributed processing of large data sets across clusters of computers. It provides an interface for cluster programming with implicit data parallelism and fault tolerance. Here are some key features and capabilities of Spark:\n",
    "\n",
    "1. In-Memory Processing: It processes data in-memory, making it much faster than other big data processing engines.\n",
    "\n",
    "2. Distributed computing: It processes data in a distributed manner, which allows it to scale horizontally as more nodes are added to the cluster. Fault tolerance: Spark provides fault tolerance, which means it can handle the failure of a cluster node without losing data.\n",
    "\n",
    "3. Compute APIs: It provides APIs for several programming languages ​​such as Python, Java, Scala, and R. This makes it easier for developers to work with data in their preferred language.\n",
    "\n",
    "4. SQL and DataFrames: It provides an SQL interface for working with structured data, as well as DataFrames, which are a higher-level abstraction for distributed datasets. Machine Learning: Spark provides machine learning libraries such as MLlib that allow developers to build and train machine learning models at scale."
   ]
  },
  {
   "cell_type": "code",
   "execution_count": null,
   "metadata": {},
   "outputs": [],
   "source": []
  }
 ],
 "metadata": {
  "language_info": {
   "name": "python"
  },
  "orig_nbformat": 4
 },
 "nbformat": 4,
 "nbformat_minor": 2
}
