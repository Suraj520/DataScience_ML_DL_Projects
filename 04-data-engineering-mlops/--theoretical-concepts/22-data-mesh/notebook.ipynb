{
 "cells": [
  {
   "attachments": {},
   "cell_type": "markdown",
   "metadata": {},
   "source": [
    "#### About\n",
    "\n",
    "> Data Mesh\n",
    "\n",
    "A data mesh is an architectural approach to the design and management of data systems that emphasizes the decentralization of data ownership and management. \n",
    "\n",
    "In it, data is considered a product, and individual teams are responsible for the quality, management, and delivery of the data generated. A data grid approach allows teams to create and manage their own data products, rather than a central data team controlling all aspects of data management. \n",
    "\n",
    "These teams are responsible for ensuring that their data meets certain quality and governance standards and that it is easily used by other teams in the organization. Datagrid architectures often use APIs to facilitate data sharing between teams. These APIs can be used to publish data to a central directory or give other teams direct access to the data. \n",
    "\n",
    "Datagrids also emphasizes the use of domain-driven design, which means that teams are organized around specific business areas rather than technical functions. This enables teams to better understand business needs and develop data products that better meet those needs."
   ]
  },
  {
   "cell_type": "code",
   "execution_count": null,
   "metadata": {},
   "outputs": [],
   "source": []
  }
 ],
 "metadata": {
  "language_info": {
   "name": "python"
  },
  "orig_nbformat": 4
 },
 "nbformat": 4,
 "nbformat_minor": 2
}
