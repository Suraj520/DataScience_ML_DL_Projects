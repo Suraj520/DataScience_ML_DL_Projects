{
 "cells": [
  {
   "attachments": {},
   "cell_type": "markdown",
   "metadata": {},
   "source": [
    "#### About\n",
    "\n",
    "> ETL processes\n",
    "\n",
    "ETL stands for Extract, Transform and Load. It is the process used in a data warehouse to obtain data from various sources, transform the data to meet the specific requirements of the target data model, and load it into the data warehouse. \n",
    "\n",
    "To visualize the ETL process, let's take the example of a retail company that wants to analyze its sales data. Sales data can be scattered across different databases, spreadsheets, and other data sources. Businesses must extract, transform, and load this data into a data warehouse for meaningful analysis.\n",
    "\n",
    "The ETL process for this retail business is as follows:\n",
    "\n",
    "1. Extraction: Data is extracted from various sources such as point-of-sale systems, customer databases and spreadsheets.\n",
    "\n",
    "2. Transformation: Data is transformed to make it suitable for analysis. For example, data may need to be cleaned, filtered and converted into a consistent format. Businesses may also need to perform calculations, combine data from multiple sources, and create derived fields.\n",
    "\n",
    "3. Load: The transformed data is loaded into the data warehouse. This step involves mapping the transformed data into the appropriate tables and columns in the data warehouse. The retail store's sales data can then be analyzed using a data warehouse. The ETL process is a key part of the data warehousing process because it ensures that the data in the warehouse is accurate, consistent, and up-to-date."
   ]
  },
  {
   "cell_type": "code",
   "execution_count": 1,
   "metadata": {},
   "outputs": [],
   "source": [
    "# ETL on iris dataset\n",
    "from sklearn.datasets import load_iris\n",
    "import pandas as pd"
   ]
  },
  {
   "cell_type": "code",
   "execution_count": 2,
   "metadata": {},
   "outputs": [
    {
     "data": {
      "text/html": [
       "<div>\n",
       "<style scoped>\n",
       "    .dataframe tbody tr th:only-of-type {\n",
       "        vertical-align: middle;\n",
       "    }\n",
       "\n",
       "    .dataframe tbody tr th {\n",
       "        vertical-align: top;\n",
       "    }\n",
       "\n",
       "    .dataframe thead th {\n",
       "        text-align: right;\n",
       "    }\n",
       "</style>\n",
       "<table border=\"1\" class=\"dataframe\">\n",
       "  <thead>\n",
       "    <tr style=\"text-align: right;\">\n",
       "      <th></th>\n",
       "      <th>sepal length (cm)</th>\n",
       "      <th>sepal width (cm)</th>\n",
       "      <th>petal length (cm)</th>\n",
       "      <th>petal width (cm)</th>\n",
       "      <th>target</th>\n",
       "    </tr>\n",
       "  </thead>\n",
       "  <tbody>\n",
       "    <tr>\n",
       "      <th>0</th>\n",
       "      <td>5.1</td>\n",
       "      <td>3.5</td>\n",
       "      <td>1.4</td>\n",
       "      <td>0.2</td>\n",
       "      <td>0</td>\n",
       "    </tr>\n",
       "    <tr>\n",
       "      <th>1</th>\n",
       "      <td>4.9</td>\n",
       "      <td>3.0</td>\n",
       "      <td>1.4</td>\n",
       "      <td>0.2</td>\n",
       "      <td>0</td>\n",
       "    </tr>\n",
       "    <tr>\n",
       "      <th>2</th>\n",
       "      <td>4.7</td>\n",
       "      <td>3.2</td>\n",
       "      <td>1.3</td>\n",
       "      <td>0.2</td>\n",
       "      <td>0</td>\n",
       "    </tr>\n",
       "    <tr>\n",
       "      <th>3</th>\n",
       "      <td>4.6</td>\n",
       "      <td>3.1</td>\n",
       "      <td>1.5</td>\n",
       "      <td>0.2</td>\n",
       "      <td>0</td>\n",
       "    </tr>\n",
       "    <tr>\n",
       "      <th>4</th>\n",
       "      <td>5.0</td>\n",
       "      <td>3.6</td>\n",
       "      <td>1.4</td>\n",
       "      <td>0.2</td>\n",
       "      <td>0</td>\n",
       "    </tr>\n",
       "  </tbody>\n",
       "</table>\n",
       "</div>"
      ],
      "text/plain": [
       "   sepal length (cm)  sepal width (cm)  petal length (cm)  petal width (cm)  \\\n",
       "0                5.1               3.5                1.4               0.2   \n",
       "1                4.9               3.0                1.4               0.2   \n",
       "2                4.7               3.2                1.3               0.2   \n",
       "3                4.6               3.1                1.5               0.2   \n",
       "4                5.0               3.6                1.4               0.2   \n",
       "\n",
       "   target  \n",
       "0       0  \n",
       "1       0  \n",
       "2       0  \n",
       "3       0  \n",
       "4       0  "
      ]
     },
     "execution_count": 2,
     "metadata": {},
     "output_type": "execute_result"
    }
   ],
   "source": [
    "#load\n",
    "iris = load_iris()\n",
    "df = pd.DataFrame(data=iris.data, columns=iris.feature_names)\n",
    "df['target'] = iris.target\n",
    "df.head()"
   ]
  },
  {
   "cell_type": "code",
   "execution_count": 3,
   "metadata": {},
   "outputs": [
    {
     "data": {
      "text/html": [
       "<div>\n",
       "<style scoped>\n",
       "    .dataframe tbody tr th:only-of-type {\n",
       "        vertical-align: middle;\n",
       "    }\n",
       "\n",
       "    .dataframe tbody tr th {\n",
       "        vertical-align: top;\n",
       "    }\n",
       "\n",
       "    .dataframe thead th {\n",
       "        text-align: right;\n",
       "    }\n",
       "</style>\n",
       "<table border=\"1\" class=\"dataframe\">\n",
       "  <thead>\n",
       "    <tr style=\"text-align: right;\">\n",
       "      <th></th>\n",
       "      <th>sepal length (cm)</th>\n",
       "      <th>sepal width (cm)</th>\n",
       "      <th>petal length (cm)</th>\n",
       "      <th>petal width (cm)</th>\n",
       "      <th>species</th>\n",
       "    </tr>\n",
       "  </thead>\n",
       "  <tbody>\n",
       "    <tr>\n",
       "      <th>0</th>\n",
       "      <td>5.1</td>\n",
       "      <td>3.5</td>\n",
       "      <td>1.4</td>\n",
       "      <td>0.2</td>\n",
       "      <td>setosa</td>\n",
       "    </tr>\n",
       "    <tr>\n",
       "      <th>1</th>\n",
       "      <td>4.9</td>\n",
       "      <td>3.0</td>\n",
       "      <td>1.4</td>\n",
       "      <td>0.2</td>\n",
       "      <td>setosa</td>\n",
       "    </tr>\n",
       "    <tr>\n",
       "      <th>2</th>\n",
       "      <td>4.7</td>\n",
       "      <td>3.2</td>\n",
       "      <td>1.3</td>\n",
       "      <td>0.2</td>\n",
       "      <td>setosa</td>\n",
       "    </tr>\n",
       "    <tr>\n",
       "      <th>3</th>\n",
       "      <td>4.6</td>\n",
       "      <td>3.1</td>\n",
       "      <td>1.5</td>\n",
       "      <td>0.2</td>\n",
       "      <td>setosa</td>\n",
       "    </tr>\n",
       "    <tr>\n",
       "      <th>4</th>\n",
       "      <td>5.0</td>\n",
       "      <td>3.6</td>\n",
       "      <td>1.4</td>\n",
       "      <td>0.2</td>\n",
       "      <td>setosa</td>\n",
       "    </tr>\n",
       "  </tbody>\n",
       "</table>\n",
       "</div>"
      ],
      "text/plain": [
       "   sepal length (cm)  sepal width (cm)  petal length (cm)  petal width (cm)  \\\n",
       "0                5.1               3.5                1.4               0.2   \n",
       "1                4.9               3.0                1.4               0.2   \n",
       "2                4.7               3.2                1.3               0.2   \n",
       "3                4.6               3.1                1.5               0.2   \n",
       "4                5.0               3.6                1.4               0.2   \n",
       "\n",
       "  species  \n",
       "0  setosa  \n",
       "1  setosa  \n",
       "2  setosa  \n",
       "3  setosa  \n",
       "4  setosa  "
      ]
     },
     "execution_count": 3,
     "metadata": {},
     "output_type": "execute_result"
    }
   ],
   "source": [
    "#Transform\n",
    "df['species'] = df['target'].map({0: 'setosa', 1: 'versicolor', 2: 'virginica'})\n",
    "df.drop('target', axis=1, inplace=True)\n",
    "df.head()"
   ]
  },
  {
   "cell_type": "code",
   "execution_count": 4,
   "metadata": {},
   "outputs": [
    {
     "name": "stdout",
     "output_type": "stream",
     "text": [
      "2023-05-01 19:04:38,238 INFO sqlalchemy.engine.Engine BEGIN (implicit)\n",
      "2023-05-01 19:04:38,243 INFO sqlalchemy.engine.Engine PRAGMA main.table_info(\"iris\")\n",
      "2023-05-01 19:04:38,245 INFO sqlalchemy.engine.Engine [raw sql] ()\n",
      "2023-05-01 19:04:38,248 INFO sqlalchemy.engine.Engine PRAGMA temp.table_info(\"iris\")\n",
      "2023-05-01 19:04:38,249 INFO sqlalchemy.engine.Engine [raw sql] ()\n",
      "2023-05-01 19:04:38,250 INFO sqlalchemy.engine.Engine ROLLBACK\n",
      "2023-05-01 19:04:38,257 INFO sqlalchemy.engine.Engine BEGIN (implicit)\n",
      "2023-05-01 19:04:38,259 INFO sqlalchemy.engine.Engine \n",
      "CREATE TABLE iris (\n",
      "\t\"index\" BIGINT, \n",
      "\t\"sepal length (cm)\" FLOAT, \n",
      "\t\"sepal width (cm)\" FLOAT, \n",
      "\t\"petal length (cm)\" FLOAT, \n",
      "\t\"petal width (cm)\" FLOAT, \n",
      "\tspecies TEXT\n",
      ")\n",
      "\n",
      "\n",
      "2023-05-01 19:04:38,261 INFO sqlalchemy.engine.Engine [no key 0.00110s] ()\n",
      "2023-05-01 19:04:38,547 INFO sqlalchemy.engine.Engine CREATE INDEX ix_iris_index ON iris (\"index\")\n",
      "2023-05-01 19:04:38,551 INFO sqlalchemy.engine.Engine [no key 0.00427s] ()\n",
      "2023-05-01 19:04:38,735 INFO sqlalchemy.engine.Engine COMMIT\n",
      "2023-05-01 19:04:38,738 INFO sqlalchemy.engine.Engine BEGIN (implicit)\n",
      "2023-05-01 19:04:38,742 INFO sqlalchemy.engine.Engine INSERT INTO iris (\"index\", \"sepal length (cm)\", \"sepal width (cm)\", \"petal length (cm)\", \"petal width (cm)\", species) VALUES (?, ?, ?, ?, ?, ?)\n",
      "2023-05-01 19:04:38,746 INFO sqlalchemy.engine.Engine [generated in 0.00588s] [(0, 5.1, 3.5, 1.4, 0.2, 'setosa'), (1, 4.9, 3.0, 1.4, 0.2, 'setosa'), (2, 4.7, 3.2, 1.3, 0.2, 'setosa'), (3, 4.6, 3.1, 1.5, 0.2, 'setosa'), (4, 5.0, 3.6, 1.4, 0.2, 'setosa'), (5, 5.4, 3.9, 1.7, 0.4, 'setosa'), (6, 4.6, 3.4, 1.4, 0.3, 'setosa'), (7, 5.0, 3.4, 1.5, 0.2, 'setosa')  ... displaying 10 of 150 total bound parameter sets ...  (148, 6.2, 3.4, 5.4, 2.3, 'virginica'), (149, 5.9, 3.0, 5.1, 1.8, 'virginica')]\n",
      "2023-05-01 19:04:38,751 INFO sqlalchemy.engine.Engine COMMIT\n"
     ]
    },
    {
     "data": {
      "text/plain": [
       "150"
      ]
     },
     "execution_count": 4,
     "metadata": {},
     "output_type": "execute_result"
    }
   ],
   "source": [
    "#load\n",
    "from sqlalchemy import create_engine\n",
    "\n",
    "engine = create_engine('sqlite:///iris.db', echo=True)\n",
    "df.to_sql('iris', con=engine)"
   ]
  },
  {
   "cell_type": "code",
   "execution_count": null,
   "metadata": {},
   "outputs": [],
   "source": []
  },
  {
   "cell_type": "code",
   "execution_count": null,
   "metadata": {},
   "outputs": [],
   "source": []
  }
 ],
 "metadata": {
  "kernelspec": {
   "display_name": "dl",
   "language": "python",
   "name": "python3"
  },
  "language_info": {
   "codemirror_mode": {
    "name": "ipython",
    "version": 3
   },
   "file_extension": ".py",
   "mimetype": "text/x-python",
   "name": "python",
   "nbconvert_exporter": "python",
   "pygments_lexer": "ipython3",
   "version": "3.9.16"
  },
  "orig_nbformat": 4
 },
 "nbformat": 4,
 "nbformat_minor": 2
}
