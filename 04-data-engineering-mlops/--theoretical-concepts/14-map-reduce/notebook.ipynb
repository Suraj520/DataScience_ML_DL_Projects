{
 "cells": [
  {
   "attachments": {},
   "cell_type": "markdown",
   "metadata": {},
   "source": [
    "#### About\n",
    "\n",
    "> Map reduce\n",
    "\n",
    "MapReduce is a programming paradigm for processing large amounts of data in a distributed and parallel manner. It consists of two main steps: Map and Reduce. \n",
    "\n",
    "The map step takes input data and converts it into a set of key-value pairs. It applies a function to each element of the input data and outputs a set of intermediate key-value pairs. A key is usually a subset of the input data, and a value is the piece of data associated with that key. \n",
    "\n",
    "The mapping step can be performed in parallel on different parts of the input data. Step Reducer takes the output from the map step and sums it by key. It applies a function to all values ​​associated with each key and produces a single output value for that key. Reduction operations can also be performed in parallel on different subsets of intermediate data.\n",
    "\n",
    "In short, MapReduce is like a large-scale version of the divide-and-conquer strategy, where the input data is divided into smaller parts, processed independently and in parallel, and then combined to produce a final result. This makes it ideal for processing large data sets in a scalable and efficient manner."
   ]
  },
  {
   "cell_type": "code",
   "execution_count": 1,
   "metadata": {},
   "outputs": [
    {
     "name": "stdout",
     "output_type": "stream",
     "text": [
      "--2023-05-02 07:15:42--  https://archive.ics.uci.edu/ml/machine-learning-databases/iris/iris.data\n",
      "Resolving archive.ics.uci.edu (archive.ics.uci.edu)... 128.195.10.252\n",
      "Connecting to archive.ics.uci.edu (archive.ics.uci.edu)|128.195.10.252|:443... connected.\n",
      "HTTP request sent, awaiting response... 200 OK\n",
      "Length: 4551 (4.4K) [application/x-httpd-php]\n",
      "Saving to: ‘iris.data’\n",
      "\n",
      "iris.data           100%[===================>]   4.44K  --.-KB/s    in 0s      \n",
      "\n",
      "2023-05-02 07:15:43 (45.8 MB/s) - ‘iris.data’ saved [4551/4551]\n",
      "\n"
     ]
    }
   ],
   "source": [
    "#downloading iris\n",
    "!wget https://archive.ics.uci.edu/ml/machine-learning-databases/iris/iris.data\n"
   ]
  },
  {
   "cell_type": "code",
   "execution_count": 2,
   "metadata": {},
   "outputs": [
    {
     "name": "stderr",
     "output_type": "stream",
     "text": [
      "23/05/02 07:15:49 WARN Utils: Your hostname, suraj resolves to a loopback address: 127.0.1.1; using 192.168.1.8 instead (on interface enp2s0)\n",
      "23/05/02 07:15:49 WARN Utils: Set SPARK_LOCAL_IP if you need to bind to another address\n",
      "Setting default log level to \"WARN\".\n",
      "To adjust logging level use sc.setLogLevel(newLevel). For SparkR, use setLogLevel(newLevel).\n",
      "23/05/02 07:15:50 WARN NativeCodeLoader: Unable to load native-hadoop library for your platform... using builtin-java classes where applicable\n",
      "                                                                                \r"
     ]
    }
   ],
   "source": [
    "#creating spark session\n",
    "from pyspark.sql import SparkSession\n",
    "\n",
    "spark = SparkSession.builder.appName(\"IrisMapReduce\").getOrCreate()\n",
    "\n",
    "data = spark.read.csv(\"iris.data\", header=False, inferSchema=True)"
   ]
  },
  {
   "cell_type": "code",
   "execution_count": 3,
   "metadata": {},
   "outputs": [],
   "source": [
    "# Define a mapping function to extract the species and sepal length\n",
    "def map_species_sepal(row):\n",
    "    species = row[4]\n",
    "    sepal_length = row[0]\n",
    "    return (species, sepal_length)\n"
   ]
  },
  {
   "cell_type": "code",
   "execution_count": 4,
   "metadata": {},
   "outputs": [],
   "source": [
    "# Define a reducing function to calculate the average sepal length\n",
    "def reduce_average(values):\n",
    "    total = 0\n",
    "    count = 0\n",
    "    for value in values:\n",
    "        total += value\n",
    "        count += 1\n",
    "    return total / count\n"
   ]
  },
  {
   "cell_type": "code",
   "execution_count": 5,
   "metadata": {},
   "outputs": [],
   "source": [
    "# Apply the mapping function to the data\n",
    "mapped = data.rdd.map(map_species_sepal)\n"
   ]
  },
  {
   "cell_type": "code",
   "execution_count": 6,
   "metadata": {},
   "outputs": [],
   "source": [
    "# Group the mapped data by species and reduce by averaging sepal length\n",
    "reduced = mapped.groupByKey().mapValues(reduce_average)\n"
   ]
  },
  {
   "cell_type": "code",
   "execution_count": 7,
   "metadata": {},
   "outputs": [
    {
     "name": "stderr",
     "output_type": "stream",
     "text": [
      "                                                                                \r"
     ]
    }
   ],
   "source": [
    "# Convert the result to a DataFrame for easy display\n",
    "result = reduced.toDF([\"Species\", \"AvgSepalLength\"])\n"
   ]
  },
  {
   "cell_type": "code",
   "execution_count": 8,
   "metadata": {},
   "outputs": [
    {
     "name": "stdout",
     "output_type": "stream",
     "text": [
      "+---------------+-----------------+\n",
      "|        Species|   AvgSepalLength|\n",
      "+---------------+-----------------+\n",
      "|    Iris-setosa|5.005999999999999|\n",
      "|Iris-versicolor|            5.936|\n",
      "| Iris-virginica|6.587999999999998|\n",
      "+---------------+-----------------+\n",
      "\n"
     ]
    }
   ],
   "source": [
    "# Show the result\n",
    "result.show()"
   ]
  },
  {
   "cell_type": "code",
   "execution_count": null,
   "metadata": {},
   "outputs": [],
   "source": []
  }
 ],
 "metadata": {
  "kernelspec": {
   "display_name": "dl",
   "language": "python",
   "name": "python3"
  },
  "language_info": {
   "codemirror_mode": {
    "name": "ipython",
    "version": 3
   },
   "file_extension": ".py",
   "mimetype": "text/x-python",
   "name": "python",
   "nbconvert_exporter": "python",
   "pygments_lexer": "ipython3",
   "version": "3.9.16"
  },
  "orig_nbformat": 4
 },
 "nbformat": 4,
 "nbformat_minor": 2
}
