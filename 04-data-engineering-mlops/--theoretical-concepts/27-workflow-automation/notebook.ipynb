{
 "cells": [
  {
   "attachments": {},
   "cell_type": "markdown",
   "metadata": {},
   "source": [
    "#### About\n",
    "\n",
    "> Workflow automation\n",
    "\n",
    "It refers to the use of software tools to automate and simplify the process of data processing and analysis. This includes automating repetitive and time-consuming tasks such as data extraction, transformation and loading (ETL), data cleansing, data modeling and analysis. E.g\n",
    "\n",
    "1. ETL pipelines: These pipelines automate the process of extracting data from various sources, transforming it into a suitable format for the required and loading it into the target database or data warehouse. \n",
    "\n",
    "2. Data Quality Checks: These checks automate the data quality validation process by identifying errors, inconsistencies and missing values. \n",
    "\n",
    "3. Data Modeling: It can also be used to automate the process of building predictive models by selecting features, training the model and evaluating its performance. \n",
    "4. Reports: Automation can also be used to create automated reports based on data analysis. Apache Airflow, Apache Nifi or Luigi are often used to create workflows for automating data processing tasks."
   ]
  },
  {
   "cell_type": "code",
   "execution_count": null,
   "metadata": {},
   "outputs": [],
   "source": []
  }
 ],
 "metadata": {
  "language_info": {
   "name": "python"
  },
  "orig_nbformat": 4
 },
 "nbformat": 4,
 "nbformat_minor": 2
}
