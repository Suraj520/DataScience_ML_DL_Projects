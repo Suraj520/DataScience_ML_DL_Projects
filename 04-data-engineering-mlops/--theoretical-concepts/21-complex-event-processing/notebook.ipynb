{
 "cells": [
  {
   "attachments": {},
   "cell_type": "markdown",
   "metadata": {},
   "source": [
    "#### About\n",
    "\n",
    "> Complex Event processing\n",
    "\n",
    "Complex Event Processing (CEP) is a method of processing and analyzing data from multiple sources in real-time to identify patterns and relationships between events and then trigger actions based on those patterns. \n",
    "\n",
    "It involves processing and analyzing data streams and detecting complex patterns in those data streams. Simply put, CEP is like a brain that processes large amounts of data from multiple sources, identifies relevant patterns, and triggers actions based on those patterns. \n",
    "\n",
    "For example, in a stock trading scenario, CEP can analyze stock prices and other relevant data from multiple sources in real time, detect patterns that indicate a potential stock market crash, and automatically trigger actions such as selling shares to prevent losses. \n",
    "\n",
    "CEP works by processing data in real time as it flows through the system. Data is first collected from various sources, then filtered and processed to identify patterns and finally results are produced. This can be done by combining event processing and rule-based systems\n",
    "\n",
    "![architecture](arch.png)\n",
    "\n",
    "<a href = \"https://www.google.com/url?sa=i&url=https%3A%2F%2Fwww.researchgate.net%2Ffigure%2FComplex-Event-Processing-System-Architecture_fig1_283199451&psig=AOvVaw1lYPa4b5aCh5p-yegMQeVE&ust=1683080902993000&source=images&cd=vfe&ved=0CBEQjRxqFwoTCMCH8IzL1f4CFQAAAAAdAAAAABAE\"> Image credits </a>"
   ]
  },
  {
   "cell_type": "code",
   "execution_count": null,
   "metadata": {},
   "outputs": [],
   "source": []
  }
 ],
 "metadata": {
  "language_info": {
   "name": "python"
  },
  "orig_nbformat": 4
 },
 "nbformat": 4,
 "nbformat_minor": 2
}
