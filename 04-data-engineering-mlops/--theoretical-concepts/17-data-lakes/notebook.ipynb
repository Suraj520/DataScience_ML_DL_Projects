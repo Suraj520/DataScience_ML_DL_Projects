{
 "cells": [
  {
   "attachments": {},
   "cell_type": "markdown",
   "metadata": {},
   "source": [
    "#### About \n",
    "\n",
    "> Data Lakes\n",
    "\n",
    "A data lake is a large centralized repository that allows you to store all structured and unstructured data at any scale. The concept of a data lake is similar to that of a real lake. Water enters the lake from various sources and users can draw water as needed. Similarly, in a data lake, data comes from various sources such as IoT devices, websites, applications, social media and many more. This data is stored in a raw format, and you can use different types of analytics to gain insights. \n",
    "\n",
    "Data lakes offer several advantages such as flexibility, scalability and cost-effectiveness. Since the data is stored in its original format, you don't need to spend time and resources to convert the data to a specific format. In addition, data lakes can handle large amounts of data, and you can easily scale them up or down as needed.\n",
    "\n",
    "Using a data lake, you can also perform different types of analysis, such as batch processing, real-time processing, machine learning, and artificial intelligence. For example, you can use batch processing to process large amounts of historical data, real-time processing to analyze generated data, machine learning to build predictive models, and AI to perform advanced analytics.\n",
    "\n"
   ]
  },
  {
   "cell_type": "code",
   "execution_count": null,
   "metadata": {},
   "outputs": [],
   "source": []
  }
 ],
 "metadata": {
  "kernelspec": {
   "display_name": "dl",
   "language": "python",
   "name": "python3"
  },
  "language_info": {
   "codemirror_mode": {
    "name": "ipython",
    "version": 3
   },
   "file_extension": ".py",
   "mimetype": "text/x-python",
   "name": "python",
   "nbconvert_exporter": "python",
   "pygments_lexer": "ipython3",
   "version": "3.9.16"
  },
  "orig_nbformat": 4
 },
 "nbformat": 4,
 "nbformat_minor": 2
}
