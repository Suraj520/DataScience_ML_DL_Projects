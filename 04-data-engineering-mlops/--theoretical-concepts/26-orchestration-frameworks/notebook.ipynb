{
 "cells": [
  {
   "attachments": {},
   "cell_type": "markdown",
   "metadata": {},
   "source": [
    "#### About\n",
    "\n",
    "> Orchestration frameworks\n",
    "\n",
    "It is a tool or framework that provides a way to manage the coordination, scheduling, and execution of various processes and services in a distributed system or workflow. These platforms aim to simplify the management of complex systems by providing a centralized interface for managing various components and services. \n",
    "\n",
    "Simply put, It helps automate and simplify the management of complex workflows involving multiple services, applications, and data sources. They allow organizations to easily create and manage workflows, automate processes, and monitor the performance of those workflows. \n",
    "\n",
    "For example, in a data processing workflow, It can be used to schedule the execution of various tasks involved in the workflow, such as data extraction, transformation, and loading into a data warehouse. The platform can also manage dependencies between different tasks so that a task is executed only after its predecessors have completed. In addition, the platform can monitor the status of each task and alert users when a task fails or exceeds a certain time limit.\n",
    "\n",
    "Some popular orchestration platforms include Apache Airflow, Kubernetes, Apache NiFi, and Jenkins."
   ]
  },
  {
   "cell_type": "code",
   "execution_count": null,
   "metadata": {},
   "outputs": [],
   "source": []
  }
 ],
 "metadata": {
  "language_info": {
   "name": "python"
  },
  "orig_nbformat": 4
 },
 "nbformat": 4,
 "nbformat_minor": 2
}
