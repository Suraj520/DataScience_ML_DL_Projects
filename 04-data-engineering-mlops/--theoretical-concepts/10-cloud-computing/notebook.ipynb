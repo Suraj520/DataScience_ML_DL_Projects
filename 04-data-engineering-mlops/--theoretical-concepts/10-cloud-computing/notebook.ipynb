{
 "cells": [
  {
   "attachments": {},
   "cell_type": "markdown",
   "metadata": {},
   "source": [
    "#### About\n",
    "\n",
    "> Cloud computing\n",
    "\n",
    "Cloud computing is a technology that allows you to access computing resources such as servers, storage, and software applications via the Internet instead of relying on our local hardware.\n",
    "\n",
    "Traditionally, if we needed to run programs or store data, we had to buy and maintain your own servers and storage. But with cloud computing, we can rent a virtual computer or storage space, so we don't have to worry about physical hardware or maintenance.\n",
    "\n"
   ]
  },
  {
   "cell_type": "code",
   "execution_count": null,
   "metadata": {},
   "outputs": [],
   "source": []
  }
 ],
 "metadata": {
  "language_info": {
   "name": "python"
  },
  "orig_nbformat": 4
 },
 "nbformat": 4,
 "nbformat_minor": 2
}
