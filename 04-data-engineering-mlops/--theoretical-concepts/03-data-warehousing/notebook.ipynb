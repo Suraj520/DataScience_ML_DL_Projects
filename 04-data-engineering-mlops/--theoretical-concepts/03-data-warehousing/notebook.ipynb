{
 "cells": [
  {
   "attachments": {},
   "cell_type": "markdown",
   "metadata": {},
   "source": [
    "#### About\n",
    "\n",
    "> Data warehousing\n",
    "\n",
    "Data warehousing is the process of collecting, storing and managing data from various sources in a centralized repository for data analysis and decision making. A repository is called a data warehouse, and it typically includes historical data as well as data from various departments and systems within an organization. \n",
    "\n",
    "Let's say we have an online store and we have a database that stores information about customer orders, products, shipping and payment information. We also have data from our social media campaigns, customer surveys and website analytics. To make sense of all this data, we can create a data warehouse that collects all the information in one place. \n",
    "\n",
    "A data warehouse will use a process called extract, transform, load (ETL) to extract data from various sources, transform the data into an easy-to-analyze format, and then load it into the data warehouse. Once the data is in the data warehouse, we can use business intelligence tools and analytics software to gain insights and make data-driven decisions. \n",
    "\n",
    "For example, we can analyze sales data to determine which products sell the most, determine which marketing campaigns drive the most traffic to our website, or identify customer behavior patterns that can help improve customer satisfaction and retention. Overall, a data warehouse is a powerful tool for organizations that need to make sense of large amounts of data from multiple sources. By creating a centralized repository of data that is easy to access and analyze, organizations can gain valuable insights and make smarter decisions."
   ]
  },
  {
   "cell_type": "code",
   "execution_count": null,
   "metadata": {},
   "outputs": [],
   "source": []
  }
 ],
 "metadata": {
  "language_info": {
   "name": "python"
  },
  "orig_nbformat": 4
 },
 "nbformat": 4,
 "nbformat_minor": 2
}
