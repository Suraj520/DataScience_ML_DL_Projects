{
 "cells": [
  {
   "attachments": {},
   "cell_type": "markdown",
   "metadata": {},
   "source": [
    "#### About\n",
    "\n",
    "> Relational database management system(RDBMS)\n",
    "\n",
    "A relational database management system (RDBMS) is a software system that allows us to create, update, and manage relational databases. A relational database is a database that organizes data into one or more tables, where each table consists of rows and columns.\n",
    "\n",
    "E.g -\n",
    "\n",
    "Let's say we have a business that sells products to customers. We want to keep track of our products, customers and orders. To do this, create three tables: Products, Customers and Orders.\n",
    "\n",
    "A product table can have columns for product ID, product name, price, and in-stock quantity. A customer table can have columns for customer ID, first name, last name, email address, and phone number. The Orders table can have columns OrderID, CustomerID, ProductID, OrderDate, and OrderAmount. We can create relationships between these tables using foreign keys. For example, the Customer ID column in the Orders table would be a foreign key that references the Customer ID column in the Customers table. This allows us to associate each order with the customer who placed the order.\n",
    "\n",
    "With an RDBMS, We can perform various operations on a database, such as inserting new data, updating existing data, and performing data queries to retrieve information. For example, We can use SQL (Structured Query Language) to write a query to retrieve all orders placed by a particular customer or all products priced above a certain amount.\n",
    "\n",
    "RDBMS also provides means to ensure data integrity and consistency. For example, you can define constraints on a table to enforce rules, such as not allowing duplicate data or requiring certain fields to be filled. You can also use transactions to ensure that a set of operations is performed as a unit, so that if part of the transaction fails, the entire transaction is rolled back. Overall, RDBMSs provide a powerful and flexible way to manage and work with relational databases."
   ]
  },
  {
   "attachments": {},
   "cell_type": "markdown",
   "metadata": {},
   "source": [
    " Example - Create a new SQLite database file called example.db and then create a table called students with three columns: id, name, and age. The id column is set as the primary key, which ensures that each row in the table has a unique identifier."
   ]
  },
  {
   "cell_type": "code",
   "execution_count": 2,
   "metadata": {},
   "outputs": [],
   "source": [
    "import sqlite3"
   ]
  },
  {
   "cell_type": "code",
   "execution_count": 3,
   "metadata": {},
   "outputs": [],
   "source": [
    "# Connect to the database (or create it if it doesn't exist)\n",
    "conn = sqlite3.connect('example.db')"
   ]
  },
  {
   "cell_type": "code",
   "execution_count": 4,
   "metadata": {},
   "outputs": [],
   "source": [
    "# Create a cursor object to execute SQL commands\n",
    "cur = conn.cursor()\n"
   ]
  },
  {
   "cell_type": "code",
   "execution_count": 5,
   "metadata": {},
   "outputs": [
    {
     "data": {
      "text/plain": [
       "<sqlite3.Cursor at 0x7fdb584361f0>"
      ]
     },
     "execution_count": 5,
     "metadata": {},
     "output_type": "execute_result"
    }
   ],
   "source": [
    "# Create a table called \"students\" with three columns\n",
    "cur.execute('''CREATE TABLE students\n",
    "               (id INTEGER PRIMARY KEY,\n",
    "                name TEXT,\n",
    "                age INTEGER)''')"
   ]
  },
  {
   "cell_type": "code",
   "execution_count": 6,
   "metadata": {},
   "outputs": [],
   "source": [
    "# Commit the changes and close the connection\n",
    "conn.commit()\n",
    "conn.close()"
   ]
  },
  {
   "attachments": {},
   "cell_type": "markdown",
   "metadata": {},
   "source": [
    "> Inserting data into the table"
   ]
  },
  {
   "cell_type": "code",
   "execution_count": 8,
   "metadata": {},
   "outputs": [],
   "source": [
    "#inserging data into table\n",
    "conn = sqlite3.connect('example.db')\n"
   ]
  },
  {
   "cell_type": "code",
   "execution_count": 9,
   "metadata": {},
   "outputs": [],
   "source": [
    "# Create a cursor object\n",
    "cur = conn.cursor()"
   ]
  },
  {
   "cell_type": "code",
   "execution_count": 10,
   "metadata": {},
   "outputs": [
    {
     "data": {
      "text/plain": [
       "<sqlite3.Cursor at 0x7fdb584366c0>"
      ]
     },
     "execution_count": 10,
     "metadata": {},
     "output_type": "execute_result"
    }
   ],
   "source": [
    "# Insert a new row into the \"students\" table\n",
    "cur.execute(\"INSERT INTO students (name, age) VALUES (?, ?)\", ('Alice', 22))\n"
   ]
  },
  {
   "cell_type": "code",
   "execution_count": 11,
   "metadata": {},
   "outputs": [
    {
     "data": {
      "text/plain": [
       "<sqlite3.Cursor at 0x7fdb584366c0>"
      ]
     },
     "execution_count": 11,
     "metadata": {},
     "output_type": "execute_result"
    }
   ],
   "source": [
    "# Insert another row\n",
    "cur.execute(\"INSERT INTO students (name, age) VALUES (?, ?)\", ('Bob', 25))\n"
   ]
  },
  {
   "cell_type": "code",
   "execution_count": 12,
   "metadata": {},
   "outputs": [],
   "source": [
    "# Commit the changes and close the connection\n",
    "conn.commit()\n",
    "conn.close()"
   ]
  },
  {
   "attachments": {},
   "cell_type": "markdown",
   "metadata": {},
   "source": [
    "> Retrieving data from table"
   ]
  },
  {
   "cell_type": "code",
   "execution_count": 13,
   "metadata": {},
   "outputs": [],
   "source": [
    "# Connect to the database\n",
    "conn = sqlite3.connect('example.db')\n"
   ]
  },
  {
   "cell_type": "code",
   "execution_count": 14,
   "metadata": {},
   "outputs": [],
   "source": [
    "# Create a cursor object\n",
    "cur = conn.cursor()"
   ]
  },
  {
   "cell_type": "code",
   "execution_count": 15,
   "metadata": {},
   "outputs": [
    {
     "data": {
      "text/plain": [
       "<sqlite3.Cursor at 0x7fdb58436960>"
      ]
     },
     "execution_count": 15,
     "metadata": {},
     "output_type": "execute_result"
    }
   ],
   "source": [
    "# Execute a query to retrieve all rows from the \"students\" table\n",
    "cur.execute(\"SELECT * FROM students\")"
   ]
  },
  {
   "cell_type": "code",
   "execution_count": 16,
   "metadata": {},
   "outputs": [
    {
     "name": "stdout",
     "output_type": "stream",
     "text": [
      "(1, 'Alice', 22)\n",
      "(2, 'Bob', 25)\n"
     ]
    }
   ],
   "source": [
    "# Fetch all the rows and print them\n",
    "rows = cur.fetchall()\n",
    "for row in rows:\n",
    "    print(row)"
   ]
  },
  {
   "cell_type": "code",
   "execution_count": 17,
   "metadata": {},
   "outputs": [],
   "source": [
    "# Close the connection\n",
    "conn.close()"
   ]
  },
  {
   "cell_type": "code",
   "execution_count": null,
   "metadata": {},
   "outputs": [],
   "source": []
  }
 ],
 "metadata": {
  "kernelspec": {
   "display_name": "dl",
   "language": "python",
   "name": "python3"
  },
  "language_info": {
   "codemirror_mode": {
    "name": "ipython",
    "version": 3
   },
   "file_extension": ".py",
   "mimetype": "text/x-python",
   "name": "python",
   "nbconvert_exporter": "python",
   "pygments_lexer": "ipython3",
   "version": "3.9.16"
  },
  "orig_nbformat": 4
 },
 "nbformat": 4,
 "nbformat_minor": 2
}
