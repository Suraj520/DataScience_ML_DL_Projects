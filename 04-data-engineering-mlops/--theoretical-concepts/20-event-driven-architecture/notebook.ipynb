{
 "cells": [
  {
   "attachments": {},
   "cell_type": "markdown",
   "metadata": {},
   "source": [
    "## About\n",
    "\n",
    "> Event driven architecture\n",
    "\n",
    "Event-driven architecture (EDA) is an architectural pattern that facilitates the generation, detection, consumption, and response to events. An event can be defined as any event that occurs at a given time and can be represented by a piece of data. \n",
    "\n",
    "In EDA, various software components are designed to respond to events that occur in real time. These events can come from a variety of sources, such as users, sensors, or other systems, and can trigger actions that cause changes in system state. EDA events are the backbone of the architecture. They are used to trigger actions, update data, and notify other system components. Events can be processed in real time or queued for later processing, and can be used to coordinate the flow of data between different system components.\n",
    "\n",
    "For example, consider an e-commerce website that uses EDA. When a customer places an order on the website, an event is generated that contains information about the order, such as the customer's name, address, and payment information. This event can trigger other actions, such as updating the inventory system to reflect the purchased item, sending a confirmation email to the customer, and updating website analytics to track purchases.\n",
    "\n",
    "![architecture.png](architecture.png)"
   ]
  },
  {
   "cell_type": "code",
   "execution_count": null,
   "metadata": {},
   "outputs": [],
   "source": []
  }
 ],
 "metadata": {
  "language_info": {
   "name": "python"
  },
  "orig_nbformat": 4
 },
 "nbformat": 4,
 "nbformat_minor": 2
}
