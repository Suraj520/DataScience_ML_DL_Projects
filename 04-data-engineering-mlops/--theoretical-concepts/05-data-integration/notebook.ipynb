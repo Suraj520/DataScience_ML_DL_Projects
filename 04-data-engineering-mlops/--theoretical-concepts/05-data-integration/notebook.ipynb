{
 "cells": [
  {
   "attachments": {},
   "cell_type": "markdown",
   "metadata": {},
   "source": [
    "#### About\n",
    "\n",
    "> Data Integration\n",
    "\n",
    "Data integration is the process of combining data from different sources into one unified view. It involves gathering data from different formats, systems and locations into one place where it can be analyzed and used to make informed decisions. Think of it as a puzzle. Each fragment represents different data from a different source. Taken separately, these fragments mean little, but put together they form a complete picture. Similarly, data integration combines data from different sources to create a complete, unified view that can be used to gain insights and make informed decisions. \n",
    "\n",
    "For example, a business may have customer data in multiple databases, spreadsheets, and other formats. By integrating this data, they can gain a comprehensive understanding of customer behavior, preferences and purchase history. This information can then be used to improve marketing efforts, customer service and other business processes."
   ]
  },
  {
   "cell_type": "code",
   "execution_count": 2,
   "metadata": {},
   "outputs": [],
   "source": [
    "import pandas as pd\n"
   ]
  },
  {
   "cell_type": "code",
   "execution_count": 3,
   "metadata": {},
   "outputs": [],
   "source": [
    "# customer information dataset\n",
    "customers = pd.DataFrame({\n",
    "    'customer_id': [1, 2, 3, 4, 5],\n",
    "    'customer_name': ['Alice', 'Bob', 'Charlie', 'David', 'Eve'],\n",
    "    'customer_email': ['alice@example.com', 'bob@example.com', 'charlie@example.com', 'david@example.com', 'eve@example.com'],\n",
    "})"
   ]
  },
  {
   "cell_type": "code",
   "execution_count": 4,
   "metadata": {},
   "outputs": [],
   "source": [
    "# order history dataset\n",
    "orders = pd.DataFrame({\n",
    "    'order_id': [1, 2, 3, 4, 5, 6],\n",
    "    'customer_id': [1, 2, 3, 1, 4, 5],\n",
    "    'order_date': ['2022-01-01', '2022-02-01', '2022-03-01', '2022-04-01', '2022-05-01', '2022-06-01'],\n",
    "    'order_total': [100, 200, 150, 50, 300, 250],\n",
    "})"
   ]
  },
  {
   "cell_type": "code",
   "execution_count": 5,
   "metadata": {},
   "outputs": [],
   "source": [
    "#merging both dataset on customer id field\n",
    "merged = pd.merge(customers, orders, on='customer_id', how='outer')\n"
   ]
  },
  {
   "cell_type": "code",
   "execution_count": 7,
   "metadata": {},
   "outputs": [
    {
     "data": {
      "text/html": [
       "<div>\n",
       "<style scoped>\n",
       "    .dataframe tbody tr th:only-of-type {\n",
       "        vertical-align: middle;\n",
       "    }\n",
       "\n",
       "    .dataframe tbody tr th {\n",
       "        vertical-align: top;\n",
       "    }\n",
       "\n",
       "    .dataframe thead th {\n",
       "        text-align: right;\n",
       "    }\n",
       "</style>\n",
       "<table border=\"1\" class=\"dataframe\">\n",
       "  <thead>\n",
       "    <tr style=\"text-align: right;\">\n",
       "      <th></th>\n",
       "      <th>customer_id</th>\n",
       "      <th>customer_name</th>\n",
       "      <th>customer_email</th>\n",
       "      <th>order_id</th>\n",
       "      <th>order_date</th>\n",
       "      <th>order_total</th>\n",
       "    </tr>\n",
       "  </thead>\n",
       "  <tbody>\n",
       "    <tr>\n",
       "      <th>0</th>\n",
       "      <td>1</td>\n",
       "      <td>Alice</td>\n",
       "      <td>alice@example.com</td>\n",
       "      <td>1</td>\n",
       "      <td>2022-01-01</td>\n",
       "      <td>100</td>\n",
       "    </tr>\n",
       "    <tr>\n",
       "      <th>1</th>\n",
       "      <td>1</td>\n",
       "      <td>Alice</td>\n",
       "      <td>alice@example.com</td>\n",
       "      <td>4</td>\n",
       "      <td>2022-04-01</td>\n",
       "      <td>50</td>\n",
       "    </tr>\n",
       "    <tr>\n",
       "      <th>2</th>\n",
       "      <td>2</td>\n",
       "      <td>Bob</td>\n",
       "      <td>bob@example.com</td>\n",
       "      <td>2</td>\n",
       "      <td>2022-02-01</td>\n",
       "      <td>200</td>\n",
       "    </tr>\n",
       "    <tr>\n",
       "      <th>3</th>\n",
       "      <td>3</td>\n",
       "      <td>Charlie</td>\n",
       "      <td>charlie@example.com</td>\n",
       "      <td>3</td>\n",
       "      <td>2022-03-01</td>\n",
       "      <td>150</td>\n",
       "    </tr>\n",
       "    <tr>\n",
       "      <th>4</th>\n",
       "      <td>4</td>\n",
       "      <td>David</td>\n",
       "      <td>david@example.com</td>\n",
       "      <td>5</td>\n",
       "      <td>2022-05-01</td>\n",
       "      <td>300</td>\n",
       "    </tr>\n",
       "    <tr>\n",
       "      <th>5</th>\n",
       "      <td>5</td>\n",
       "      <td>Eve</td>\n",
       "      <td>eve@example.com</td>\n",
       "      <td>6</td>\n",
       "      <td>2022-06-01</td>\n",
       "      <td>250</td>\n",
       "    </tr>\n",
       "  </tbody>\n",
       "</table>\n",
       "</div>"
      ],
      "text/plain": [
       "   customer_id customer_name       customer_email  order_id  order_date  \\\n",
       "0            1         Alice    alice@example.com         1  2022-01-01   \n",
       "1            1         Alice    alice@example.com         4  2022-04-01   \n",
       "2            2           Bob      bob@example.com         2  2022-02-01   \n",
       "3            3       Charlie  charlie@example.com         3  2022-03-01   \n",
       "4            4         David    david@example.com         5  2022-05-01   \n",
       "5            5           Eve      eve@example.com         6  2022-06-01   \n",
       "\n",
       "   order_total  \n",
       "0          100  \n",
       "1           50  \n",
       "2          200  \n",
       "3          150  \n",
       "4          300  \n",
       "5          250  "
      ]
     },
     "execution_count": 7,
     "metadata": {},
     "output_type": "execute_result"
    }
   ],
   "source": [
    "# display the merged dataset\n",
    "(merged)"
   ]
  },
  {
   "cell_type": "code",
   "execution_count": null,
   "metadata": {},
   "outputs": [],
   "source": []
  }
 ],
 "metadata": {
  "kernelspec": {
   "display_name": "dl",
   "language": "python",
   "name": "python3"
  },
  "language_info": {
   "codemirror_mode": {
    "name": "ipython",
    "version": 3
   },
   "file_extension": ".py",
   "mimetype": "text/x-python",
   "name": "python",
   "nbconvert_exporter": "python",
   "pygments_lexer": "ipython3",
   "version": "3.9.16"
  },
  "orig_nbformat": 4
 },
 "nbformat": 4,
 "nbformat_minor": 2
}
