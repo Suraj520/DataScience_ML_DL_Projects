{
 "cells": [
  {
   "attachments": {},
   "cell_type": "markdown",
   "metadata": {},
   "source": [
    "#### About\n",
    "\n",
    "> Distributed computing\n",
    "\n",
    "Distributed computing refers to the use of multiple computers working together to solve computational problems or perform tasks. Instead of relying on a single computer to perform all tasks, distributed computing allows you to spread the workload across multiple computers. It allows large data sets and faster calculations and improves failure tolerance and scalability.\n",
    "\n",
    "The basic idea of ​​distributed computing is that the computer involved as a team collaboration, each computer promotes its treatment functions on the current task. This can be achieved using different technologies such as clusters, grid computing or cloud computing."
   ]
  },
  {
   "cell_type": "code",
   "execution_count": null,
   "metadata": {},
   "outputs": [],
   "source": []
  }
 ],
 "metadata": {
  "language_info": {
   "name": "python"
  },
  "orig_nbformat": 4
 },
 "nbformat": 4,
 "nbformat_minor": 2
}
