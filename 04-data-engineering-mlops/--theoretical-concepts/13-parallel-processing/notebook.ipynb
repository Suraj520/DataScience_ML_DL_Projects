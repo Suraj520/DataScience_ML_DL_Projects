{
 "cells": [
  {
   "attachments": {},
   "cell_type": "markdown",
   "metadata": {},
   "source": [
    "#### About\n",
    "\n",
    "> Parallel Processing\n",
    "\n",
    "Parallel processing refers to the execution of multiple computer tasks at the same time instead of one after the other. The goal of parallel processing is to reduce the time it takes to complete a task by breaking it into smaller chunks and assigning each chunk to a different processor, core, or thread to process at the same time. \n",
    "\n",
    "The idea of ​​parallel processing is similar to teamwork, where a group of people work together on a project to complete it faster than if each person tackled it individually. Parallel processing also allows multiple processors to work together to complete tasks faster than a single processor."
   ]
  },
  {
   "cell_type": "code",
   "execution_count": 1,
   "metadata": {},
   "outputs": [],
   "source": [
    "from pyspark.sql import SparkSession\n",
    "from pyspark.sql.functions import *\n"
   ]
  },
  {
   "cell_type": "code",
   "execution_count": 27,
   "metadata": {},
   "outputs": [],
   "source": [
    "# create a SparkSession\n",
    "spark = SparkSession.builder.appName(\"IrisParallelProcessing\").getOrCreate()\n",
    "\n"
   ]
  },
  {
   "cell_type": "code",
   "execution_count": 28,
   "metadata": {},
   "outputs": [],
   "source": [
    "\n",
    "# read in the iris dataset\n",
    "iris_df = spark.read.csv(\"iris.data\", header=False, inferSchema=True)\n"
   ]
  },
  {
   "cell_type": "code",
   "execution_count": 29,
   "metadata": {},
   "outputs": [],
   "source": [
    "# parallel processing with Spark #computation done across multiple partitions of the dataset\n",
    "results = iris_df.groupby(\"_c4\").mean()\n"
   ]
  },
  {
   "cell_type": "code",
   "execution_count": 30,
   "metadata": {},
   "outputs": [
    {
     "name": "stdout",
     "output_type": "stream",
     "text": [
      "+---------------+-----------------+------------------+--------+------------------+\n",
      "|            _c4|         avg(_c0)|          avg(_c1)|avg(_c2)|          avg(_c3)|\n",
      "+---------------+-----------------+------------------+--------+------------------+\n",
      "| Iris-virginica|6.587999999999998|2.9739999999999998|   5.552|             2.026|\n",
      "|    Iris-setosa|5.005999999999999|3.4180000000000006|   1.464|0.2439999999999999|\n",
      "|Iris-versicolor|            5.936|2.7700000000000005|    4.26|1.3259999999999998|\n",
      "+---------------+-----------------+------------------+--------+------------------+\n",
      "\n"
     ]
    }
   ],
   "source": [
    "# print the results\n",
    "results.show()\n"
   ]
  },
  {
   "cell_type": "code",
   "execution_count": 31,
   "metadata": {},
   "outputs": [],
   "source": [
    "# stop the SparkSession\n",
    "spark.stop()"
   ]
  },
  {
   "cell_type": "code",
   "execution_count": null,
   "metadata": {},
   "outputs": [],
   "source": []
  }
 ],
 "metadata": {
  "kernelspec": {
   "display_name": "dl",
   "language": "python",
   "name": "python3"
  },
  "language_info": {
   "codemirror_mode": {
    "name": "ipython",
    "version": 3
   },
   "file_extension": ".py",
   "mimetype": "text/x-python",
   "name": "python",
   "nbconvert_exporter": "python",
   "pygments_lexer": "ipython3",
   "version": "3.9.16"
  },
  "orig_nbformat": 4
 },
 "nbformat": 4,
 "nbformat_minor": 2
}
