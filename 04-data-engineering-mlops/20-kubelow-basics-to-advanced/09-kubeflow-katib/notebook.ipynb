{
 "cells": [
  {
   "cell_type": "markdown",
   "metadata": {},
   "source": [
    "## About\n",
    "\n",
    "- Hyper opt using Katib"
   ]
  },
  {
   "cell_type": "code",
   "execution_count": null,
   "metadata": {},
   "outputs": [],
   "source": [
    "#yaml file to tune ml model with two hyperparams i.e learning rate and hidden units\n",
    "\n",
    "apiVersion: \"kubeflow.org/v1beta1\"\n",
    "kind: Experiment\n",
    "metadata:\n",
    "  name: example-hpo\n",
    "spec:\n",
    "  objective:\n",
    "    type: maximize\n",
    "    goal: 0.99  # The goal is to maximize the model's accuracy, for example.\n",
    "  algorithm:\n",
    "    algorithmName: random\n",
    "  parallelTrialCount: 5  # Number of trials to run concurrently\n",
    "  maxTrialCount: 10  # Total number of trials to run\n",
    "  maxFailedTrialCount: 3  # Number of allowed unsuccessful trials\n",
    "  parameters:\n",
    "    - name: learning_rate\n",
    "      parameterType: double\n",
    "      feasibleSpace:\n",
    "        min: \"0.01\"\n",
    "        max: \"0.1\"\n",
    "    - name: hidden_units\n",
    "      parameterType: int\n",
    "      feasibleSpace:\n",
    "        min: \"32\"\n",
    "        max: \"256\"\n",
    "  trialTemplate:\n",
    "    goTemplate:\n",
    "      rawTemplate: |\n",
    "        apiVersion: \"kubeflow.org/v1\"\n",
    "        kind: TFJob\n",
    "        metadata:\n",
    "          name: {{.Trial}}\n",
    "        spec:\n",
    "          tfReplicaSpecs:\n",
    "            Chief:\n",
    "              replicas: 1\n",
    "              template:\n",
    "                spec:\n",
    "                  containers:\n",
    "                    - name: tensorflow\n",
    "                      image: \"your-custom-tensorflow-image\"\n",
    "                      command:\n",
    "                        - \"python\"\n",
    "                        - \"/path/to/train_script.py\"\n",
    "                        - \"--learning_rate={{.HyperParameters.learning_rate}}\"\n",
    "                        - \"--hidden_units={{.HyperParameters.hidden_units}}\"\n"
   ]
  },
  {
   "cell_type": "markdown",
   "metadata": {},
   "source": [
    "The yaml config can be applied to the kubernetes cluster running katib to initiate and manage hyperparam tuning jobs for ml model"
   ]
  },
  {
   "cell_type": "markdown",
   "metadata": {},
   "source": []
  }
 ],
 "metadata": {
  "language_info": {
   "name": "python"
  }
 },
 "nbformat": 4,
 "nbformat_minor": 2
}
