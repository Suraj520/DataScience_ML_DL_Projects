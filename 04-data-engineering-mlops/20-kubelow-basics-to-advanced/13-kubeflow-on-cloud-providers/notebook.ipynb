{
 "cells": [
  {
   "cell_type": "markdown",
   "metadata": {},
   "source": [
    "## About"
   ]
  },
  {
   "cell_type": "code",
   "execution_count": null,
   "metadata": {},
   "outputs": [],
   "source": [
    "# 1. Deploying kubeflow on GCP with GKE\n",
    "\n",
    "# Set up your GCP project\n",
    "gcloud config set project PROJECT_ID\n",
    "\n",
    "# Enable necessary APIs\n",
    "gcloud services enable container.googleapis.com\n",
    "gcloud services enable ml.googleapis.com\n",
    "\n",
    "# Create a GKE cluster\n",
    "gcloud container clusters create CLUSTER_NAME --zone ZONE\n",
    "\n",
    "# Install Kubeflow\n",
    "kubectl apply -k github.com/kubeflow/manifests/kustomize/gcp\n"
   ]
  },
  {
   "cell_type": "code",
   "execution_count": null,
   "metadata": {},
   "outputs": [],
   "source": [
    "# 2. Configuring Kubeflow for AWS EKS\n",
    "# Install AWS CLI and configure your credentials\n",
    "\n",
    "# Install eksctl\n",
    "brew install eksctl\n",
    "\n",
    "# Create an EKS cluster\n",
    "eksctl create cluster --name my-cluster\n",
    "\n",
    "# Install Kubeflow\n",
    "kubectl apply -k github.com/kubeflow/manifests/kustomize/aws\n"
   ]
  },
  {
   "cell_type": "code",
   "execution_count": null,
   "metadata": {},
   "outputs": [],
   "source": [
    "# 3. Integrating azure blob storage with kubeflow\n",
    "from azure.storage.blob import BlobServiceClient\n",
    "\n",
    "# Create a BlobServiceClient\n",
    "blob_service_client = BlobServiceClient.from_connection_string(CONNECTION_STRING)\n",
    "\n",
    "# Create a container\n",
    "container_name = \"mycontainer\"\n",
    "container_client = blob_service_client.get_container_client(container_name)\n",
    "container_client.create_container()\n",
    "\n",
    "# Upload a file to the container\n",
    "blob_client = container_client.get_blob_client(\"mydata.txt\")\n",
    "with open(\"localfile.txt\", \"rb\") as data:\n",
    "    blob_client.upload_blob(data)\n"
   ]
  }
 ],
 "metadata": {
  "language_info": {
   "name": "python"
  }
 },
 "nbformat": 4,
 "nbformat_minor": 2
}
