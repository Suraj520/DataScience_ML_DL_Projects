{
 "cells": [
  {
   "cell_type": "markdown",
   "metadata": {},
   "source": [
    "## About\n",
    "\n",
    "> Understanding kubernetes architecture\n",
    "\n",
    "- Think of kubernetes as a conductor for your application orchestra. It manages the deployment, scaling and operation of containerized applications.\n",
    "\n",
    "- Key components incl. Master(control plane) and Nodes(workers) that host the applications.\n",
    "\n",
    "> Important concepts\n",
    "\n",
    "- `Pods` are the basic units that hold the containers. Pretty much like appartment in a building.\n",
    "\n",
    "- `Services` ensure communication b/w different parts of the app, inside and outside the cluster.\n",
    "\n",
    "- `Deployments` are a way to manage and scale apps.\n",
    "\n",
    "- `ConfigMaps` are used to store config data seperately from the app.\n",
    "\n",
    "- `etc` are various other objects for diff. purposes.\n",
    "\n",
    "> Kubernetes networking concepts\n",
    "\n",
    "- `Containers` in a pod can communicate with each other via localhost\n",
    "\n",
    "- `Services` allow external access and help with load balancing\n",
    "\n",
    "- `Pods` have unique IPs within cluster.\n",
    "\n",
    "> Important tools\n",
    "\n",
    "-`kubeadm` helps in setting up a basic cluster.\n",
    "\n",
    "- `kops` are good for production grade clusters on AWS.\n",
    "\n"
   ]
  },
  {
   "cell_type": "code",
   "execution_count": null,
   "metadata": {},
   "outputs": [],
   "source": []
  }
 ],
 "metadata": {
  "language_info": {
   "name": "python"
  }
 },
 "nbformat": 4,
 "nbformat_minor": 2
}
