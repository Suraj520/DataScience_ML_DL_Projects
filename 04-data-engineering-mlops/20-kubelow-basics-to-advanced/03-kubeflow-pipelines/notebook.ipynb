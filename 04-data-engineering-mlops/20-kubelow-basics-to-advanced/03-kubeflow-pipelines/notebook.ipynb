{
 "cells": [
  {
   "cell_type": "markdown",
   "metadata": {},
   "source": [
    "## About\n",
    "\n",
    "> kubeflow pipeline concepts\n",
    "\n",
    "- A pipeline is like a roadmap for ML tasks.\n",
    "\n",
    "- It breaks down a complex ML process into smaller, manageable steps.\n",
    "\n",
    "- It can be sought as a series of connected tasks that streamline the work.\n",
    "\n",
    "> Benefits of using pipelines in ML workflows\n",
    "\n",
    "- `Reproducibility` - ensures that Ml experiments are reproducible\n",
    "- `Scalability` - easy to scale ml workflows to handle large data or complex models\n",
    "- `Collaboration` - various team members can collaborate\n",
    "- `Automation` - Tasks like data preprocessing, training and eval can be automated, saving time and effort.\n",
    "\n",
    "> Example use case : Image classification using KF pipelines.\n",
    "\n",
    "-  Imagine a scenario where a team of Ds needs to build train, and deploy an image classification model that can identify types of fruits in images.\n",
    "\n",
    "1. `Data Preprocessing`\n",
    "- `Pipeline component` : create a data preprocess. component that handles tasks such as image resizing , normalization and labelling.\n",
    "\n",
    "- `Dependecy` - Set up dependencies to ensure this component runs before any training component.\n",
    "\n",
    "2. `Model Training`\n",
    "\n",
    "- `Pipeline component` - Create a component for training the image classif. model using a deep learning framework.\n",
    "\n",
    "- `Deps.` -  Specify that the train. comp. depends on data preprocessing component.\n",
    "\n",
    "3. `Model Eval`\n",
    "\n",
    "- `Pipeline component` - Implement a component for eval the trained model's perf on a val set.\n",
    "\n",
    "- `Deps.` -  Ensure that this component runs after the training component.\n",
    "\n",
    "4. `Model Deployment`\n",
    "\n",
    "- `Pipeline component` - Create a deployment that takes the trained model and deploys it as web service or API for preds\n",
    "\n",
    "- `Deps.` -  Ensure that happens only after model has been trained and evaluated.\n",
    "\n",
    "5. `Monitoring and logging`\n",
    "\n",
    "- `Pipeline component` - Integrate components for monitoring the deployment model's performance and logging relevant metrics\n",
    "\n",
    "- `Deps.` -  Run these monitoring comp. in parallel with deployment for continuos tracking\n"
   ]
  },
  {
   "cell_type": "code",
   "execution_count": null,
   "metadata": {},
   "outputs": [],
   "source": []
  }
 ],
 "metadata": {
  "language_info": {
   "name": "python"
  }
 },
 "nbformat": 4,
 "nbformat_minor": 2
}
