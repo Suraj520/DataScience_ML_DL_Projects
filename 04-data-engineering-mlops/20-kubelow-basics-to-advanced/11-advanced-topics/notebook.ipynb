{
 "cells": [
  {
   "cell_type": "markdown",
   "metadata": {},
   "source": [
    "## About\n",
    "\n",
    "> Custom Resource Definitions(CRDS)\n",
    "\n",
    "- CRDs help us to define our own custom resources in kubernetes, extending its capabilities beyond built in resources."
   ]
  },
  {
   "cell_type": "code",
   "execution_count": null,
   "metadata": {},
   "outputs": [],
   "source": [
    "apiVersion: apiextensions.k8s.io/v1\n",
    "kind: CustomResourceDefinition\n",
    "metadata:\n",
    "  name: mycustomresource.example.com\n",
    "spec:\n",
    "  group: example.com\n",
    "  names:\n",
    "    kind: MyCustomResource\n",
    "    plural: mycustomresources\n",
    "  scope: Namespaced\n",
    "  versions:\n",
    "    - name: v1\n",
    "      served: true\n",
    "      storage: true\n"
   ]
  },
  {
   "cell_type": "markdown",
   "metadata": {},
   "source": [
    "> Extending Kubeflow functionality with CRDs.\n",
    "\n",
    "- Following CRD for custom training job"
   ]
  },
  {
   "cell_type": "markdown",
   "metadata": {},
   "source": [
    "apiVersion: example.com/v1\n",
    "kind: MyCustomResource\n",
    "metadata:\n",
    "  name: my-training-job\n",
    "spec:\n",
    "  trainingAlgorithm: deep-learning\n",
    "  dataset: my-dataset\n"
   ]
  },
  {
   "cell_type": "markdown",
   "metadata": {},
   "source": [
    "> Customzing and Extending kubeflow\n",
    "\n",
    "- Adding custom components to kubeflow pipelines"
   ]
  },
  {
   "cell_type": "markdown",
   "metadata": {},
   "source": [
    "# my_custom_component.py\n",
    "from kfp.components import ComponentSpec, OutputPath\n",
    "\n",
    "def my_custom_component(input_data: str) -> OutputPath('text'):\n",
    "    # Your custom logic here\n",
    "    result = process_data(input_data)\n",
    "    return result\n"
   ]
  }
 ],
 "metadata": {
  "language_info": {
   "name": "python"
  }
 },
 "nbformat": 4,
 "nbformat_minor": 2
}
