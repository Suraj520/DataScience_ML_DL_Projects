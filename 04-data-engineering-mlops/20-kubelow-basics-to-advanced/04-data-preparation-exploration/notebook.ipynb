{
 "cells": [
  {
   "cell_type": "markdown",
   "metadata": {},
   "source": [
    "## About\n",
    "\n",
    "> Data Ingestion and Storage\n",
    "\n",
    "- Bringing data into kubeflow env.\n",
    "- Exploring storage options for ML data\n",
    "\n",
    "> ETL pipeline \n",
    "\n",
    "1 `Data Extraction`\n",
    "\n",
    "- Suppose we have a large dataset stored in an external database and we want to use it for training a ML model in kubeflow\n",
    "\n",
    "- We'll extract data from the external db using Apache NiFi or custom scripts.\n",
    "\n",
    "- We'll eventually bring data into kubeflow env.\n",
    "\n",
    "2. `Data Transformation`\n",
    "\n",
    "- The raw data from database contains categorcal variables that need to be encoded for ML.\n",
    "\n",
    "- We'll transform the data within kubeflow by encoding cat variables, scaling numerical features and handling any missing values via kubeflow's data preprocessing cap.\n",
    "\n",
    "3. `Data loading`\n",
    "\n",
    "- We'll want to store the transformed data into a specific format or location ence we'll use google bucket or equiv."
   ]
  },
  {
   "cell_type": "code",
   "execution_count": null,
   "metadata": {},
   "outputs": [],
   "source": []
  }
 ],
 "metadata": {
  "language_info": {
   "name": "python"
  }
 },
 "nbformat": 4,
 "nbformat_minor": 2
}
