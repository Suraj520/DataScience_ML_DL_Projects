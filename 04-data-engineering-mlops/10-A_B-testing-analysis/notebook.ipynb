{
 "cells": [
  {
   "attachments": {},
   "cell_type": "markdown",
   "metadata": {},
   "source": [
    "#### About\n",
    "A/B Testing Analysis in Python.\n",
    "> Details\n",
    "1. What is A/B Testing and Why it is needed ?\n",
    "A - A/B testing is a measure to build performance of something we have built. Let's say we have built two models each unique in its implementation and they are integrated to Django Web app to offer two unique webpage experiences. For Week1, We keep Django app 1 hosted and Week 2 we keep Django app 2 hosted and evaluate customer experience.\n",
    "2. Let's explore use case of A/B testing on recommendation system.\n",
    "- Suppose we have two category of products to be recommended i.e iPad and 60 W charger and we want to recommend a iPhone. Then we observe at the user's metrics who are purchasing those products like conversion, click. \n",
    "3. The two groups are abbreviated as control group and observation group. A/B testing is done where control group is not given new scenarios but new scenarios is given to observation system. To users which are shown old django web app without modification is a control group and those who are given experience of web app with modification are called observation group."
   ]
  },
  {
   "cell_type": "markdown",
   "metadata": {},
   "source": []
  },
  {
   "cell_type": "markdown",
   "metadata": {},
   "source": []
  },
  {
   "cell_type": "markdown",
   "metadata": {},
   "source": []
  },
  {
   "cell_type": "markdown",
   "metadata": {},
   "source": []
  },
  {
   "cell_type": "markdown",
   "metadata": {},
   "source": []
  },
  {
   "cell_type": "markdown",
   "metadata": {},
   "source": []
  },
  {
   "cell_type": "code",
   "execution_count": null,
   "metadata": {},
   "outputs": [],
   "source": []
  }
 ],
 "metadata": {
  "language_info": {
   "name": "python"
  },
  "orig_nbformat": 4
 },
 "nbformat": 4,
 "nbformat_minor": 2
}
