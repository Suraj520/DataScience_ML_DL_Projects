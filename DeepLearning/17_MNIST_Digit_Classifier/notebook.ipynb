{
 "cells": [
  {
   "attachments": {},
   "cell_type": "markdown",
   "metadata": {},
   "source": [
    "## About\n",
    "MNIST Digit classification using Deep Neural Network in PyTorch."
   ]
  },
  {
   "cell_type": "code",
   "execution_count": 3,
   "metadata": {},
   "outputs": [],
   "source": [
    "import torch\n",
    "from torch import Tensor\n",
    "import torchvision\n",
    "from torchvision import datasets\n",
    "from torchvision.transforms import transforms\n",
    "import matplotlib.pyplot as plt\n",
    "%matplotlib inline\n",
    "import torch.nn as nn\n",
    "import torch.nn.functional as F\n",
    "from torch.utils.data import random_split,DataLoader\n"
   ]
  },
  {
   "cell_type": "code",
   "execution_count": 4,
   "metadata": {},
   "outputs": [],
   "source": [
    "# downloading MNIST dataset with transforms \n",
    "transforms = transforms.Compose([\n",
    "    transforms.ToTensor(),\n",
    "    #transforms.Normalize((0.5,0.5,0.5), (0.5,0.5,0.5))\n",
    "])\n",
    "#downloading train and test data\n",
    "train_data = datasets.MNIST('data', train=True, download=True, transform=transforms)\n",
    "test_data = datasets.MNIST('data',train=False, download=True,transform=transforms)\n"
   ]
  },
  {
   "cell_type": "code",
   "execution_count": 5,
   "metadata": {},
   "outputs": [
    {
     "data": {
      "image/png": "[encoded data removed]",
      "text/plain": [
       "<Figure size 432x288 with 1 Axes>"
      ]
     },
     "metadata": {
      "needs_background": "light"
     },
     "output_type": "display_data"
    },
    {
     "data": {
      "image/png": "[encoded data removed]",
      "text/plain": [
       "<Figure size 432x288 with 1 Axes>"
      ]
     },
     "metadata": {
      "needs_background": "light"
     },
     "output_type": "display_data"
    }
   ],
   "source": [
    "#Visualising data samples from train and test dataset\n",
    "for i in range(2):\n",
    "    image,label = train_data[i]\n",
    "    plt.imshow(image[0],cmap='gray')\n",
    "    plt.title(\"Label :{}\".format(label))\n",
    "    plt.show()"
   ]
  },
  {
   "cell_type": "code",
   "execution_count": 6,
   "metadata": {},
   "outputs": [
    {
     "data": {
      "image/png": "[encoded data removed]",
      "text/plain": [
       "<Figure size 432x288 with 1 Axes>"
      ]
     },
     "metadata": {
      "needs_background": "light"
     },
     "output_type": "display_data"
    },
    {
     "data": {
      "image/png": "[encoded data removed]",
      "text/plain": [
       "<Figure size 432x288 with 1 Axes>"
      ]
     },
     "metadata": {
      "needs_background": "light"
     },
     "output_type": "display_data"
    }
   ],
   "source": [
    "for i in range(2):\n",
    "    image,label = test_data[i]\n",
    "    plt.imshow(image[0],cmap='gray')\n",
    "    plt.title(\"Label :{}\".format(label))\n",
    "    plt.show()"
   ]
  },
  {
   "cell_type": "code",
   "execution_count": 7,
   "metadata": {},
   "outputs": [
    {
     "name": "stdout",
     "output_type": "stream",
     "text": [
      "Length of training samples is 45000\n",
      "Length of testing samples is 15000\n"
     ]
    }
   ],
   "source": [
    "# splitting the train dataset into train, val split\n",
    "val_len = 15000\n",
    "train_len = len(train_data)-val_len\n",
    "train_set, val_set = random_split(train_data,[train_len,val_len])\n",
    "print(\"Length of training samples is {}\".format(len(train_set)))\n",
    "print(\"Length of testing samples is {}\".format(len(val_set)))"
   ]
  },
  {
   "cell_type": "code",
   "execution_count": 8,
   "metadata": {},
   "outputs": [],
   "source": [
    "#creating dataloaders i.e train and val\n",
    "batch_size =256\n",
    "train_loader = DataLoader(train_set,batch_size,shuffle=True, num_workers=4, pin_memory=True)\n",
    "val_loader = DataLoader(val_set, batch_size,shuffle=True,  num_workers=4, pin_memory=True)"
   ]
  },
  {
   "cell_type": "code",
   "execution_count": 9,
   "metadata": {},
   "outputs": [],
   "source": [
    "input_size=784 # 28*28\n",
    "num_classes = 10"
   ]
  },
  {
   "cell_type": "code",
   "execution_count": 10,
   "metadata": {},
   "outputs": [],
   "source": [
    "# function for calculating accuracy\n",
    "def accuracy(outputs, labels):\n",
    "    _,preds = torch.max(outputs,dim=1)\n",
    "    return torch.tensor(torch.sum(preds==labels).item()/len(preds))"
   ]
  },
  {
   "cell_type": "code",
   "execution_count": 11,
   "metadata": {},
   "outputs": [],
   "source": [
    "# defining the evaluate function\n",
    "def evaluate(model,validation_dataloader):\n",
    "    outputs = [model.validation_step(batch) for batch in validation_dataloader]\n",
    "    return model.validation_epoch_end(outputs)"
   ]
  },
  {
   "attachments": {},
   "cell_type": "markdown",
   "metadata": {},
   "source": [
    "# Architecture of the Deep Neural Network.\n",
    "\n",
    "1. Input layer - batchsize,784\n",
    "2. Linear layer - 784,256\n",
    "3. Non-Linear Activation - ReLU\n",
    "4. Linear Layer - 256, 128\n",
    "5. ReLU\n",
    "6. Linear Layer - 128,64\n",
    "7. ReLU\n",
    "8. Linear Layer- 64, 10(N-classes)\n",
    "9. Softmax Activation"
   ]
  },
  {
   "cell_type": "code",
   "execution_count": 32,
   "metadata": {},
   "outputs": [],
   "source": [
    "#let's create the model class by extending nn.module\n",
    "class DeepNeuralNetwork(nn.Module):\n",
    "    def __init__(self,in_size,hidden_size,out_size) -> None:\n",
    "        super().__init__() #constructor of nn.Module\n",
    "        #hidden layers\n",
    "        self.linear1 = nn.Linear(in_size, hidden_size)\n",
    "        self.linear2 = nn.Linear(hidden_size,128)\n",
    "        self.linear3 = nn.Linear(128,64)\n",
    "        # output layer \n",
    "        self.linear4 = nn.Linear(64,out_size)\n",
    "    \n",
    "    #defining the forward pass\n",
    "    def forward(self,inputs) -> Tensor:\n",
    "        #flatten the image tensor\n",
    "        inputs = inputs.view(inputs.size(0),-1)\n",
    "        #passing the input through hidden layers\n",
    "        out = self.linear1(inputs)\n",
    "        #applying ReLU\n",
    "        out = F.relu(out)\n",
    "        out = self.linear2(out)\n",
    "        out = F.relu(out)\n",
    "        out = self.linear3(out)\n",
    "        out = F.relu(out)\n",
    "        #passing through output layer\n",
    "        out = self.linear4(out)\n",
    "        return out\n",
    "\n",
    "    #defining training step\n",
    "    def training_step(self,batch) -> dict:\n",
    "        images,labels = batch\n",
    "        logits = self(images) # self here is the model\n",
    "        loss = F.cross_entropy(logits,labels)\n",
    "        train_acc = accuracy(logits,labels)\n",
    "        return loss\n",
    "    \n",
    "    #defining validation step\n",
    "    def validation_step(self,batch) -> dict:\n",
    "        images,labels = batch\n",
    "        logits = self(images)\n",
    "        loss = F.cross_entropy(logits,labels)\n",
    "        acc = accuracy(logits,labels)\n",
    "        return {'val_loss': loss, 'val_acc':acc}\n",
    "\n",
    "    def validation_epoch_end(self,outputs) -> dict:\n",
    "        batch_losses = [x['val_loss'] for x in outputs]\n",
    "        epoch_loss = torch.stack(batch_losses).mean()\n",
    "        batch_accuray = [x['val_acc'] for x in outputs]\n",
    "        epoch_accuracy = torch.stack(batch_accuray).mean()\n",
    "        return {'val_loss': epoch_loss.item(), 'val_acc':epoch_accuracy.item()}\n",
    "\n",
    "\n",
    "    def epoch_end(self,epoch,result) -> None:\n",
    "        print(\"Epoch [{}], val_loss :{:4f}, val_acc: {:4f}\".format(epoch+1,result['val_loss'], result['val_acc']))\n"
   ]
  },
  {
   "attachments": {},
   "cell_type": "markdown",
   "metadata": {},
   "source": [
    "# Training phase - Boiler plate code\n",
    "```for epoch in range(num_epochs):\n",
    "    #training\n",
    "    for batch in train_dataloader:\n",
    "    # step1 - generate logits ie predictions from the model\n",
    "    # step 2 - calculate loss\n",
    "    # step3 - compute gradients\n",
    "    # step4 - update weights via optimizer.step\n",
    "    # step 4 = reset gradients - optimizers.zero_grad\n",
    "    # step 5 - calculate metrics\n",
    "\n",
    "    # validation\n",
    "    for batch in val_dataloader\n",
    "        #step 1 - generate logits\n",
    "        # step 2 - calculate loss\n",
    "        # step 3 - calculate metrics\n",
    "    \n",
    "    #calculate average loss of train and val and thus display\n",
    "    ```"
   ]
  },
  {
   "cell_type": "code",
   "execution_count": 33,
   "metadata": {},
   "outputs": [],
   "source": [
    "def fit(num_epochs, learning_rate, model,train_data_loader,val_dataloader, optimizer=torch.optim.Adam):\n",
    "    optimizer = optimizer(model.parameters(), learning_rate)\n",
    "    history = []\n",
    "\n",
    "    for epoch in range(num_epochs):\n",
    "        #training phase\n",
    "        batch_loss = []\n",
    "        for batch in train_data_loader:\n",
    "            loss = model.training_step(batch)\n",
    "            batch_loss.append(loss)\n",
    "            loss.backward()\n",
    "            optimizer.step()\n",
    "            #resetting grads to zero\n",
    "            optimizer.zero_grad()\n",
    "        print(\"Training loss over the batch is {}\".format(sum(batch_loss)/len(batch_loss)))\n",
    "\n",
    "        #validation phase\n",
    "        result = evaluate(model,val_dataloader)\n",
    "        model.epoch_end(epoch,result)\n",
    "        history.append(result)\n",
    "    \n",
    "    return history\n",
    "\n"
   ]
  },
  {
   "attachments": {},
   "cell_type": "markdown",
   "metadata": {},
   "source": [
    "#### Sending model and data loader to GPU\n"
   ]
  },
  {
   "cell_type": "code",
   "execution_count": 34,
   "metadata": {},
   "outputs": [
    {
     "data": {
      "text/plain": [
       "False"
      ]
     },
     "execution_count": 34,
     "metadata": {},
     "output_type": "execute_result"
    }
   ],
   "source": [
    "torch.cuda.is_available()"
   ]
  },
  {
   "cell_type": "code",
   "execution_count": 35,
   "metadata": {},
   "outputs": [],
   "source": [
    "def compute_device():\n",
    "    if torch.cuda.is_available():\n",
    "        return torch.device('cuda:0')\n",
    "    else:\n",
    "        return torch.device('cpu')"
   ]
  },
  {
   "cell_type": "code",
   "execution_count": 36,
   "metadata": {},
   "outputs": [
    {
     "data": {
      "text/plain": [
       "device(type='cpu')"
      ]
     },
     "execution_count": 36,
     "metadata": {},
     "output_type": "execute_result"
    }
   ],
   "source": [
    "device = compute_device()\n",
    "device"
   ]
  },
  {
   "cell_type": "code",
   "execution_count": 37,
   "metadata": {},
   "outputs": [],
   "source": [
    "#moving data and model to a deice\n",
    "def to_device(data,device):\n",
    "    if isinstance(data,(list,tuple)):\n",
    "        return [to_device(x,device) for x in data]\n",
    "    return data.to(device,non_blocking=True)"
   ]
  },
  {
   "cell_type": "code",
   "execution_count": 38,
   "metadata": {},
   "outputs": [],
   "source": [
    "# example usage\n",
    "for images, labels in train_loader:\n",
    "    images = to_device(images,device)\n",
    "    break"
   ]
  },
  {
   "cell_type": "code",
   "execution_count": 39,
   "metadata": {},
   "outputs": [],
   "source": [
    "#Defining the class of Device Data loader\n",
    "class DeviceDataLoader():\n",
    "    def __init__(self,data_loader,device) -> None:\n",
    "        self.data_loader = data_loader\n",
    "        self.device = device\n",
    "    \n",
    "    def __iter__(self):\n",
    "        for batch in self.data_loader:\n",
    "            yield to_device(batch,self.device)\n",
    "\n",
    "    def __len__(self):\n",
    "        return len(self.data_loader)\n"
   ]
  },
  {
   "cell_type": "markdown",
   "metadata": {},
   "source": []
  },
  {
   "cell_type": "code",
   "execution_count": 40,
   "metadata": {},
   "outputs": [],
   "source": [
    "#moving the dataloaders to the device\n",
    "train_loader = DeviceDataLoader(train_loader,device)\n",
    "val_loader = DeviceDataLoader(val_loader,device)"
   ]
  },
  {
   "cell_type": "code",
   "execution_count": 42,
   "metadata": {},
   "outputs": [
    {
     "name": "stdout",
     "output_type": "stream",
     "text": [
      "Training loss over the batch is 0.32771745324134827\n",
      "Epoch [1], val_loss :0.156941, val_acc: 0.950027\n",
      "Training loss over the batch is 0.1258416324853897\n",
      "Epoch [2], val_loss :0.132122, val_acc: 0.963973\n",
      "Training loss over the batch is 0.0922369509935379\n",
      "Epoch [3], val_loss :0.120640, val_acc: 0.965366\n",
      "Training loss over the batch is 0.07752814888954163\n",
      "Epoch [4], val_loss :0.127446, val_acc: 0.964464\n",
      "Training loss over the batch is 0.06745831668376923\n",
      "Epoch [5], val_loss :0.114397, val_acc: 0.968722\n",
      "Training loss over the batch is 0.06023750081658363\n",
      "Epoch [6], val_loss :0.133274, val_acc: 0.966074\n",
      "Training loss over the batch is 0.054345861077308655\n",
      "Epoch [7], val_loss :0.115321, val_acc: 0.969653\n",
      "Training loss over the batch is 0.044236600399017334\n",
      "Epoch [8], val_loss :0.115845, val_acc: 0.973911\n",
      "Training loss over the batch is 0.047228362411260605\n",
      "Epoch [9], val_loss :0.134664, val_acc: 0.970353\n",
      "Training loss over the batch is 0.041752930730581284\n",
      "Epoch [10], val_loss :0.138443, val_acc: 0.971614\n",
      "Training loss over the batch is 0.045154131948947906\n",
      "Epoch [11], val_loss :0.147075, val_acc: 0.969140\n",
      "Training loss over the batch is 0.038777705281972885\n",
      "Epoch [12], val_loss :0.130068, val_acc: 0.971970\n",
      "Training loss over the batch is 0.03938266262412071\n",
      "Epoch [13], val_loss :0.140948, val_acc: 0.973601\n",
      "Training loss over the batch is 0.03449298068881035\n",
      "Epoch [14], val_loss :0.160115, val_acc: 0.968900\n",
      "Training loss over the batch is 0.03261831775307655\n",
      "Epoch [15], val_loss :0.144319, val_acc: 0.974395\n",
      "Training loss over the batch is 0.03581974655389786\n",
      "Epoch [16], val_loss :0.166950, val_acc: 0.971545\n",
      "Training loss over the batch is 0.03457316383719444\n",
      "Epoch [17], val_loss :0.164117, val_acc: 0.971193\n",
      "Training loss over the batch is 0.03146088123321533\n",
      "Epoch [18], val_loss :0.140026, val_acc: 0.973932\n",
      "Training loss over the batch is 0.036265403032302856\n",
      "Epoch [19], val_loss :0.179690, val_acc: 0.968408\n",
      "Training loss over the batch is 0.03216727450489998\n",
      "Epoch [20], val_loss :0.157747, val_acc: 0.971900\n",
      "Training loss over the batch is 0.02420872449874878\n",
      "Epoch [21], val_loss :0.195880, val_acc: 0.972872\n",
      "Training loss over the batch is 0.028737742453813553\n",
      "Epoch [22], val_loss :0.171197, val_acc: 0.974395\n",
      "Training loss over the batch is 0.02927684783935547\n",
      "Epoch [23], val_loss :0.237218, val_acc: 0.967973\n",
      "Training loss over the batch is 0.041253462433815\n",
      "Epoch [24], val_loss :0.155528, val_acc: 0.974482\n",
      "Training loss over the batch is 0.029253745451569557\n",
      "Epoch [25], val_loss :0.161594, val_acc: 0.972830\n",
      "Training loss over the batch is 0.0209624245762825\n",
      "Epoch [26], val_loss :0.207739, val_acc: 0.972740\n",
      "Training loss over the batch is 0.02403010055422783\n",
      "Epoch [27], val_loss :0.178603, val_acc: 0.976493\n",
      "Training loss over the batch is 0.03446309268474579\n",
      "Epoch [28], val_loss :0.207958, val_acc: 0.973001\n",
      "Training loss over the batch is 0.026662509888410568\n",
      "Epoch [29], val_loss :0.209814, val_acc: 0.971590\n",
      "Training loss over the batch is 0.024893583729863167\n",
      "Epoch [30], val_loss :0.176884, val_acc: 0.976360\n",
      "Training loss over the batch is 0.020448211580514908\n",
      "Epoch [31], val_loss :0.249985, val_acc: 0.971813\n",
      "Training loss over the batch is 0.031152568757534027\n",
      "Epoch [32], val_loss :0.208359, val_acc: 0.971743\n",
      "Training loss over the batch is 0.031307023018598557\n",
      "Epoch [33], val_loss :0.186951, val_acc: 0.973973\n",
      "Training loss over the batch is 0.02762366086244583\n",
      "Epoch [34], val_loss :0.193606, val_acc: 0.972210\n",
      "Training loss over the batch is 0.028287706896662712\n",
      "Epoch [35], val_loss :0.205544, val_acc: 0.970092\n",
      "Training loss over the batch is 0.029725613072514534\n",
      "Epoch [36], val_loss :0.201197, val_acc: 0.976071\n",
      "Training loss over the batch is 0.019466403871774673\n",
      "Epoch [37], val_loss :0.214480, val_acc: 0.974064\n",
      "Training loss over the batch is 0.012929833494126797\n",
      "Epoch [38], val_loss :0.221583, val_acc: 0.972496\n",
      "Training loss over the batch is 0.018843617290258408\n",
      "Epoch [39], val_loss :0.230722, val_acc: 0.975636\n",
      "Training loss over the batch is 0.027255499735474586\n",
      "Epoch [40], val_loss :0.223532, val_acc: 0.972252\n",
      "Training loss over the batch is 0.02129175141453743\n",
      "Epoch [41], val_loss :0.238286, val_acc: 0.970154\n",
      "Training loss over the batch is 0.02390715293586254\n",
      "Epoch [42], val_loss :0.253514, val_acc: 0.973932\n",
      "Training loss over the batch is 0.03350888937711716\n",
      "Epoch [43], val_loss :0.198421, val_acc: 0.973932\n",
      "Training loss over the batch is 0.023021947592496872\n",
      "Epoch [44], val_loss :0.265487, val_acc: 0.973977\n",
      "Training loss over the batch is 0.02439904771745205\n",
      "Epoch [45], val_loss :0.205379, val_acc: 0.976803\n",
      "Training loss over the batch is 0.016994072124361992\n",
      "Epoch [46], val_loss :0.226982, val_acc: 0.975144\n",
      "Training loss over the batch is 0.010666664689779282\n",
      "Epoch [47], val_loss :0.210898, val_acc: 0.978876\n",
      "Training loss over the batch is 0.012366807088255882\n",
      "Epoch [48], val_loss :0.220590, val_acc: 0.975834\n",
      "Training loss over the batch is 0.02197050116956234\n",
      "Epoch [49], val_loss :0.234997, val_acc: 0.975036\n",
      "Training loss over the batch is 0.012225199490785599\n",
      "Epoch [50], val_loss :0.200966, val_acc: 0.976448\n"
     ]
    }
   ],
   "source": [
    "#training model\n",
    "model = DeepNeuralNetwork(input_size,256,10)\n",
    "history = fit(50,0.01,model,train_data_loader=train_loader,val_dataloader=val_loader)"
   ]
  },
  {
   "cell_type": "code",
   "execution_count": 43,
   "metadata": {},
   "outputs": [
    {
     "data": {
      "text/plain": [
       "Text(0.5, 1.0, 'Accuracy plot')"
      ]
     },
     "execution_count": 43,
     "metadata": {},
     "output_type": "execute_result"
    },
    {
     "data": {
      "image/png": "[encoded data removed]",
      "text/plain": [
       "<Figure size 432x288 with 1 Axes>"
      ]
     },
     "metadata": {
      "needs_background": "light"
     },
     "output_type": "display_data"
    }
   ],
   "source": [
    "# plotting the curves\n",
    "accuracy = [result['val_acc'] for result in history]\n",
    "plt.plot(accuracy,'-x')\n",
    "plt.xlabel('epoch->')\n",
    "plt.ylabel('accuracy->')\n",
    "plt.title('Accuracy plot')"
   ]
  },
  {
   "cell_type": "code",
   "execution_count": 47,
   "metadata": {},
   "outputs": [
    {
     "data": {
      "text/plain": [
       "Text(0.5, 1.0, 'Loss plot')"
      ]
     },
     "execution_count": 47,
     "metadata": {},
     "output_type": "execute_result"
    },
    {
     "data": {
      "image/png": "[encoded data removed]",
      "text/plain": [
       "<Figure size 432x288 with 1 Axes>"
      ]
     },
     "metadata": {
      "needs_background": "light"
     },
     "output_type": "display_data"
    }
   ],
   "source": [
    "# plotting the curves\n",
    "loss = [result['val_loss'] for result in history]\n",
    "plt.plot(loss,'-x')\n",
    "plt.xlabel('epoch ->')\n",
    "plt.ylabel('loss ->')\n",
    "plt.title('Loss plot')"
   ]
  },
  {
   "cell_type": "code",
   "execution_count": 45,
   "metadata": {},
   "outputs": [],
   "source": [
    "# predicting on test_image\n",
    "def predict(image,model):\n",
    "    #img_data = image.reshape(-1,784)\n",
    "    img_data = image.unsqueeze(0)\n",
    "    #print(img_data.shape)\n",
    "    probs = model(img_data)\n",
    "    _, preds = torch.max(probs,dim=1)\n",
    "    #print(preds[0].item)\n",
    "    return preds[0].item()\n",
    "    #return \"Predicted Label is\".format(dataset_labels_dict[str(preds[0].item())])\n"
   ]
  },
  {
   "cell_type": "code",
   "execution_count": 46,
   "metadata": {},
   "outputs": [
    {
     "name": "stdout",
     "output_type": "stream",
     "text": [
      "7\n"
     ]
    }
   ],
   "source": [
    "img,label = test_data[0]\n",
    "print(predict(img,model))"
   ]
  },
  {
   "cell_type": "code",
   "execution_count": 49,
   "metadata": {},
   "outputs": [
    {
     "data": {
      "image/png": "[encoded data removed]",
      "text/plain": [
       "<Figure size 432x288 with 1 Axes>"
      ]
     },
     "metadata": {
      "needs_background": "light"
     },
     "output_type": "display_data"
    },
    {
     "data": {
      "image/png": "[encoded data removed]",
      "text/plain": [
       "<Figure size 432x288 with 1 Axes>"
      ]
     },
     "metadata": {
      "needs_background": "light"
     },
     "output_type": "display_data"
    },
    {
     "data": {
      "image/png": "[encoded data removed]",
      "text/plain": [
       "<Figure size 432x288 with 1 Axes>"
      ]
     },
     "metadata": {
      "needs_background": "light"
     },
     "output_type": "display_data"
    },
    {
     "data": {
      "image/png": "[encoded data removed]",
      "text/plain": [
       "<Figure size 432x288 with 1 Axes>"
      ]
     },
     "metadata": {
      "needs_background": "light"
     },
     "output_type": "display_data"
    },
    {
     "data": {
      "image/png": "[encoded data removed]",
      "text/plain": [
       "<Figure size 432x288 with 1 Axes>"
      ]
     },
     "metadata": {
      "needs_background": "light"
     },
     "output_type": "display_data"
    }
   ],
   "source": [
    "\n",
    "for i in range(5):\n",
    "    img,label = test_data[i]\n",
    "    plt.imshow(img[0],cmap='gray')\n",
    "    plt.title(\"Predicted : {}, GroundTruth :{}\".format(predict(img,model),label))\n",
    "    plt.show()\n"
   ]
  },
  {
   "cell_type": "code",
   "execution_count": 50,
   "metadata": {},
   "outputs": [],
   "source": [
    "# saving the model by saving state_dict\n",
    "torch.save(model.state_dict(), 'mnist-dnn.pth')"
   ]
  },
  {
   "cell_type": "code",
   "execution_count": 52,
   "metadata": {},
   "outputs": [
    {
     "data": {
      "text/plain": [
       "OrderedDict([('linear1.weight',\n",
       "              tensor([[-2.9612e-04, -2.8280e-02,  7.0305e-03,  ...,  3.2761e-02,\n",
       "                       -2.4835e-02,  3.3478e-02],\n",
       "                      [ 2.9376e-02,  1.7778e-03, -2.5865e-02,  ..., -9.5249e-03,\n",
       "                        2.1956e-02,  6.7684e-03],\n",
       "                      [-3.1234e-02,  2.4562e-02, -2.5044e-02,  ..., -1.9789e-02,\n",
       "                       -2.6436e-02, -3.1422e-02],\n",
       "                      ...,\n",
       "                      [ 2.4822e-02,  1.9090e-02,  1.9609e-02,  ...,  4.5589e-03,\n",
       "                       -3.7856e-03,  7.8716e-03],\n",
       "                      [ 9.4375e-03, -7.7796e-03,  2.0688e-02,  ..., -1.9826e-02,\n",
       "                       -2.8653e-02, -4.7323e-03],\n",
       "                      [-2.2856e-02,  1.5338e-02, -1.7318e-03,  ..., -1.3301e-03,\n",
       "                       -1.5571e-02, -5.7829e-05]])),\n",
       "             ('linear1.bias',\n",
       "              tensor([-4.3683e-01,  1.5961e-01, -2.3362e-01, -5.6994e-01, -1.4755e-01,\n",
       "                       4.4215e-01, -1.2140e+00, -4.5420e-01, -4.6770e-01, -1.0020e+00,\n",
       "                      -3.5924e-01, -2.8377e-01, -4.2935e-01,  5.0678e-02, -8.0626e-01,\n",
       "                      -3.8537e-01, -5.2461e-02, -5.2129e-01, -2.8695e-01, -4.2351e-01,\n",
       "                      -8.2262e-03, -3.5748e-01,  9.8379e-02, -1.7771e-01, -9.5517e-02,\n",
       "                      -4.5633e-02, -8.3296e-02,  5.3282e-01, -8.9064e-01,  2.7214e-01,\n",
       "                      -1.9534e-01, -2.5580e-01, -9.5001e-02,  2.0957e-01, -3.1917e-01,\n",
       "                      -2.3618e-01, -6.0701e-02, -8.1873e-01, -2.8820e-02,  7.6428e-02,\n",
       "                      -2.3938e-01,  5.8334e-01, -5.3710e-01, -2.2570e-01, -7.9445e-02,\n",
       "                      -2.6865e-01, -7.4047e-01, -2.3511e-01, -3.5844e-01, -8.4428e-01,\n",
       "                       7.4682e-02, -5.2977e-01,  2.7247e-01, -4.2851e-01, -1.9673e-02,\n",
       "                      -4.2255e-01, -2.9670e-01,  2.8835e-01, -6.3943e-02, -3.4254e-02,\n",
       "                       1.8979e-01, -1.4315e-01, -5.0176e-01, -3.3186e-02, -2.7446e-02,\n",
       "                       7.9373e-02, -4.8578e-01,  2.6458e-01,  1.0179e+00, -1.7379e-01,\n",
       "                       2.8134e-01, -4.4177e-01, -1.0090e+00, -3.3953e-02, -1.1415e-01,\n",
       "                      -3.5190e-01, -3.9958e-01,  1.4519e-01, -5.4053e-02, -4.4041e-01,\n",
       "                       7.0663e-01, -6.5408e-01, -7.7844e-02, -4.6638e-01, -6.6151e-01,\n",
       "                      -9.9449e-02, -6.8918e-02, -5.0347e-01,  4.4842e-01, -1.3844e-02,\n",
       "                      -8.3164e-01, -4.9896e-01, -3.2183e-01, -8.7834e-02, -4.1495e-01,\n",
       "                      -2.0083e-01, -1.4732e-01, -7.2255e-02, -4.4945e-01, -4.5229e-01,\n",
       "                       4.8474e-01, -5.3894e-02, -8.2704e-02,  3.2518e-04, -4.3323e-01,\n",
       "                       1.0826e-01, -2.6860e-01,  5.2469e-02, -1.3583e-01,  1.0054e-01,\n",
       "                      -2.7200e-01, -3.0091e-01,  2.8301e-01, -1.0937e-01, -4.4595e-01,\n",
       "                      -2.0823e-02,  4.4968e-01, -8.5156e-02, -4.0205e-01, -2.3870e-01,\n",
       "                      -1.2040e+00, -3.4635e-01, -6.0243e-02,  9.8898e-02, -4.5418e-02,\n",
       "                       7.9481e-03, -3.0391e-01,  1.2162e-01, -2.0247e-01, -8.7930e-01,\n",
       "                       3.5406e-01,  4.5881e-02, -2.4195e-01, -9.4658e-01,  1.5754e-01,\n",
       "                      -7.8571e-02, -7.3372e-01,  1.9569e-01, -1.0783e-01, -7.7838e-02,\n",
       "                      -3.4308e-01, -6.2571e-02, -9.6069e-01, -4.5416e-01, -9.1063e-02,\n",
       "                      -1.4337e-01, -2.8904e-01, -1.0365e-01, -1.2589e-01, -7.0277e-02,\n",
       "                      -2.0702e-01, -6.8226e-02, -5.9928e-02, -8.7113e-02,  8.6240e-02,\n",
       "                      -3.5280e-01, -7.7978e-02, -3.4606e-01, -2.5423e-01, -6.2923e-01,\n",
       "                      -6.2592e-01, -1.8155e+00, -5.1512e-02, -2.4186e-01, -6.9044e-01,\n",
       "                      -4.5556e-01,  1.2509e-01,  3.1162e-01, -2.6349e-01, -4.1549e-01,\n",
       "                      -4.2482e-01,  6.0601e-01, -7.8734e-01, -5.5236e-01, -1.8912e-01,\n",
       "                      -1.0695e+00, -8.8391e-02, -3.4620e-01, -1.1273e-01, -2.5602e-01,\n",
       "                      -8.0715e-02,  9.4120e-02, -5.6545e-01, -5.6216e-02,  7.3514e-02,\n",
       "                      -2.7217e-03,  4.6450e-01,  6.7134e-02,  1.1697e+00, -1.2617e-01,\n",
       "                      -5.1477e-01, -1.9457e-02, -2.0312e-01,  2.3080e-01, -2.6557e-01,\n",
       "                      -1.6788e-01, -3.4778e-01, -3.8586e-02, -5.5807e-02, -3.5336e-01,\n",
       "                      -4.6866e-01, -2.0205e-01, -3.2365e-01, -6.2860e-02, -2.4368e-01,\n",
       "                       3.4773e-01, -9.2237e-01, -3.6495e-02,  4.8919e-01, -1.2359e-01,\n",
       "                      -6.3413e-02, -2.7831e-01,  4.7475e-01, -2.0671e-01,  1.8681e-01,\n",
       "                      -3.9870e-01, -9.0601e-02, -9.7746e-02,  3.8691e-01,  1.0165e-01,\n",
       "                      -4.9707e-01, -4.4979e-01, -1.6059e-01, -3.2309e-01, -2.0360e-01,\n",
       "                       7.1156e-02, -3.2497e-01, -5.5269e-02, -3.2930e-01, -2.1269e-01,\n",
       "                      -4.3652e-01, -1.9670e-01, -2.6512e-01,  2.3649e-01,  2.8587e-01,\n",
       "                      -2.5385e-01, -8.4731e-01,  2.4236e-01, -9.1994e-02, -7.8793e-01,\n",
       "                      -5.7320e-01,  4.1621e-01, -1.7817e-01, -6.4318e-02, -1.7543e-02,\n",
       "                      -1.2412e-01, -1.8700e-01, -7.6571e-02, -6.1815e-02, -6.7906e-01,\n",
       "                      -3.7293e-01, -3.4507e-01, -5.3040e-01, -1.6525e-01, -3.6418e-01,\n",
       "                       2.4903e-01])),\n",
       "             ('linear2.weight',\n",
       "              tensor([[ 1.0910, -1.0602,  0.1969,  ...,  1.5323,  1.0451, -0.2576],\n",
       "                      [ 0.0990, -0.9976, -0.7727,  ...,  0.2613,  0.6080,  0.0135],\n",
       "                      [-0.1693, -1.3149,  0.0120,  ..., -0.6524, -1.1016,  0.0263],\n",
       "                      ...,\n",
       "                      [-0.3340, -0.1869, -0.4654,  ..., -0.3471, -0.0065, -0.4242],\n",
       "                      [-0.3205, -0.5023,  0.2964,  ..., -0.8661, -1.6735, -0.1654],\n",
       "                      [-0.4312, -0.9797,  0.3060,  ..., -0.2709, -1.7046, -0.3380]])),\n",
       "             ('linear2.bias',\n",
       "              tensor([-0.3468, -1.6459,  1.1270, -0.9587,  0.1177, -1.6364, -1.6460, -1.3117,\n",
       "                      -1.4683, -1.0638, -1.6532,  2.1190, -0.6464, -0.0947, -0.7314, -0.3580,\n",
       "                      -1.0552, -1.6026,  2.2311, -1.1343, -0.8974, -0.0186, -1.5064,  0.6410,\n",
       "                      -0.8429,  0.2840, -0.1566, -0.4008, -0.5866, -0.1011, -0.7788, -0.8007,\n",
       "                      -0.4543, -0.5719, -1.1758, -0.2881, -1.6057, -0.0459, -0.8521,  0.2886,\n",
       "                      -1.1397, -1.0633, -0.5338, -1.0335,  1.8932, -0.2081, -1.3252, -1.2148,\n",
       "                      -0.5976,  0.5730, -0.6408,  0.0901, -0.1385, -0.3739,  0.4966, -0.9676,\n",
       "                      -0.2653, -0.5464, -0.4620, -0.4305, -1.5723,  1.3058,  0.9520,  0.1992,\n",
       "                      -0.7387, -0.9235,  0.3749, -0.9608, -0.7881, -0.1204, -0.8355, -1.0707,\n",
       "                      -0.9963, -0.9520, -0.0374, -0.8414, -0.5685, -0.2937, -0.1176, -0.6743,\n",
       "                      -0.8019, -0.6679, -0.8884, -1.4016, -0.4200,  0.4257, -0.6336, -0.2664,\n",
       "                      -1.1168, -0.5859, -0.7436,  1.2372, -0.2311,  0.9983, -0.7945, -0.2469,\n",
       "                      -1.1650, -0.1041, -0.0989, -1.0831, -0.2621, -1.3232, -1.3269,  0.0693,\n",
       "                      -0.9015, -0.7204, -0.6994, -0.1592, -0.6236, -0.8876, -1.1720, -0.5697,\n",
       "                      -1.0856, -0.0101, -0.8131, -1.2554, -1.8173, -1.2706, -0.0395, -2.0725,\n",
       "                      -1.4336, -0.8286, -1.3587,  0.0718, -0.3626, -0.8420,  0.2256,  1.3545])),\n",
       "             ('linear3.weight',\n",
       "              tensor([[ 3.2881e-01,  2.7893e-01, -5.5075e-01,  ..., -2.0690e-01,\n",
       "                       -3.6538e-01, -8.5561e-01],\n",
       "                      [-3.1953e-01,  2.8210e-01, -4.7989e-01,  ..., -4.9807e-01,\n",
       "                       -1.8928e-01, -2.1200e-01],\n",
       "                      [-8.1727e-01, -3.6244e-02, -3.3163e-01,  ...,  8.4440e-02,\n",
       "                       -6.7393e-02, -1.7658e-01],\n",
       "                      ...,\n",
       "                      [-3.7485e-01, -1.1702e-04, -1.5731e-01,  ..., -8.0992e-02,\n",
       "                       -1.1347e-01, -4.7772e-01],\n",
       "                      [-1.0561e+00, -2.9546e-01, -3.8542e-01,  ...,  1.0339e-01,\n",
       "                       -9.4717e-01,  2.6482e-01],\n",
       "                      [-8.7580e-01, -1.5297e-01,  1.7970e-01,  ..., -5.6701e-01,\n",
       "                       -2.1873e-01, -1.5884e-01]])),\n",
       "             ('linear3.bias',\n",
       "              tensor([-0.5847, -0.5799, -0.4456, -0.2263, -1.3164, -1.4437, -0.1370, -0.3127,\n",
       "                      -0.7054, -1.1708, -0.4081,  0.5890, -0.6683,  1.1059, -0.4843, -1.2546,\n",
       "                      -0.2745,  1.4891, -0.8386, -1.2743,  0.2948, -0.7791, -0.9346, -0.6582,\n",
       "                      -0.1672, -1.2835, -0.0583,  0.2673, -0.8599, -0.4948, -0.3098, -0.5671,\n",
       "                       0.5206, -0.5889, -1.4917, -0.4897, -1.1555,  0.2154,  0.3357, -1.6393,\n",
       "                      -0.3490, -1.6834, -0.8601, -0.4810, -0.7946, -0.7430,  2.9806, -0.5766,\n",
       "                       0.7350, -0.8358,  0.3031, -0.0525,  0.2580, -0.4151, -0.5435, -1.0636,\n",
       "                      -0.5516, -0.2868, -0.9356, -0.7402, -0.7266,  0.1586, -0.1461,  0.0394])),\n",
       "             ('linear4.weight',\n",
       "              tensor([[-3.5610e-01,  4.3224e-02, -1.0301e-01, -3.3206e-01, -5.2484e-01,\n",
       "                       -1.3935e-01,  6.1372e-02,  6.1408e-02, -1.3768e-01, -4.9704e-01,\n",
       "                        9.0404e-02, -8.3945e-02, -9.4649e-03, -1.6161e-01, -3.6121e-01,\n",
       "                       -1.9259e-01, -3.5306e-01, -3.4471e-02, -2.3175e-01,  2.5335e-01,\n",
       "                       -7.8979e-02, -3.4796e-01, -3.2491e-03,  9.3838e-04, -2.7947e-01,\n",
       "                       -9.2758e-02,  5.2287e-02,  3.4536e-02,  2.3062e-01, -1.7962e-01,\n",
       "                       -2.0733e-01,  9.9700e-03, -2.4934e-01,  2.9538e-02, -8.8782e-02,\n",
       "                        3.0122e-01, -7.5774e-01, -7.5458e-01, -1.8879e-01, -1.7892e-01,\n",
       "                        1.2961e-01, -8.3561e-01,  5.8979e-02,  9.9592e-03, -1.4801e-01,\n",
       "                       -3.8100e-01, -1.3541e-01, -2.4926e-01,  7.3982e-03, -2.9617e-01,\n",
       "                       -2.3272e-01, -2.8843e-01, -9.2705e-02, -2.2499e-02, -5.9333e-01,\n",
       "                       -2.8975e-01,  4.8038e-02, -2.7737e-01,  4.6054e-02, -2.0886e-01,\n",
       "                        2.0050e-02,  2.2227e-01, -3.9725e-01,  2.7212e-01],\n",
       "                      [ 2.8432e-01, -2.4622e-01, -2.4086e-01, -8.1175e-04, -2.3470e+00,\n",
       "                        7.2698e-02,  7.4366e-02, -4.0249e-02, -3.9566e-01, -2.0880e-01,\n",
       "                        2.9387e-01,  1.0623e-02, -2.2793e-01, -8.2236e-02,  1.0579e-01,\n",
       "                       -6.3774e-02,  2.4579e-01,  1.2990e-01, -4.6291e-01, -5.0917e-01,\n",
       "                       -1.1087e-01, -1.2323e-01, -4.7214e-02, -1.9567e-01, -7.4551e-03,\n",
       "                       -6.8597e-02,  7.8128e-02, -2.0362e-01, -1.5219e-01, -3.7129e-01,\n",
       "                        2.6370e-02, -6.1881e-02,  3.7417e-02,  6.8789e-02, -3.8078e-01,\n",
       "                        1.3541e-02,  1.3987e-01,  8.1957e-02, -4.2616e-02, -2.5391e-01,\n",
       "                       -5.5852e-02, -6.4254e-02, -1.2183e-01,  5.3565e-02,  9.0168e-03,\n",
       "                       -5.9316e-01,  5.9975e-02, -7.8917e-02, -8.9409e-02,  5.3226e-02,\n",
       "                       -1.2663e-01, -5.1432e-01,  3.0085e-01, -1.8932e-01, -3.0301e-01,\n",
       "                        2.1031e-02, -2.9864e-01, -3.3275e-02, -2.8412e-01,  9.7995e-02,\n",
       "                        1.7016e-01, -5.2395e-02, -6.7598e-02, -2.3664e-02],\n",
       "                      [-2.2733e-02,  1.1307e-01,  9.5691e-02, -7.5936e-02, -3.6558e-01,\n",
       "                        1.9381e-01,  1.3250e-01, -5.6499e-02,  1.7510e-01, -6.6907e-02,\n",
       "                       -4.3873e-01,  2.5031e-01,  9.4597e-02, -2.1447e-01,  2.5872e-02,\n",
       "                       -7.6181e-02,  1.3538e-01, -2.4727e-01, -6.1430e-02,  1.1135e-01,\n",
       "                       -2.2585e-01, -1.7461e-02, -1.3354e-01,  1.4792e-01, -2.6576e-01,\n",
       "                       -2.4971e-01, -1.1181e-02,  1.7468e-01, -1.3586e-01, -2.0196e-02,\n",
       "                        2.9983e-02, -1.0218e-01,  2.9735e-02,  2.1793e-01, -1.6290e-01,\n",
       "                        1.9086e-01,  1.0163e-01,  9.7354e-02, -9.1153e-02, -2.8444e-01,\n",
       "                       -1.1263e-01, -5.8152e-01,  7.3164e-02,  1.4226e-01, -3.9417e-02,\n",
       "                       -7.0270e-01,  9.3824e-03,  1.2915e-01, -9.1885e-02, -5.9065e-01,\n",
       "                        9.0316e-02,  2.8039e-01, -7.5164e-02, -7.4552e-02,  1.4796e-01,\n",
       "                        1.0191e-01, -1.0881e-01,  3.0922e-02, -2.4982e-01, -1.1629e-01,\n",
       "                        3.0518e-02, -2.8108e-01, -2.0546e-01, -7.2127e-02],\n",
       "                      [-3.0868e-02, -2.1433e-01,  1.2328e-01, -5.1812e-02, -6.1368e-01,\n",
       "                       -1.9766e-01,  4.9473e-02,  1.5206e-01,  7.3410e-02, -3.4239e-01,\n",
       "                       -4.2438e-01,  8.1631e-02, -7.0101e-01,  1.0515e-01, -4.7967e-01,\n",
       "                       -4.3114e-01, -3.3595e-01, -3.4180e-01, -1.6645e-01,  1.1060e-02,\n",
       "                        9.7765e-02, -1.4550e-01, -1.8621e-01,  3.4631e-02, -1.3097e-01,\n",
       "                       -4.3256e-01, -3.2606e-01,  2.0386e-01, -3.8150e-02, -7.4574e-01,\n",
       "                       -3.1215e-01,  1.5692e-01,  2.6370e-01,  5.1626e-02, -6.9920e-01,\n",
       "                       -1.9383e-01,  1.1846e-01, -4.5459e-02,  7.8826e-02, -1.0939e-01,\n",
       "                       -4.9016e-02, -4.8532e-01,  1.8121e-01, -8.6549e-02,  5.4926e-02,\n",
       "                       -4.1038e-02, -2.5067e-02, -1.4839e-01, -9.7736e-02,  1.1953e-01,\n",
       "                       -5.8377e-03,  1.4375e-01, -3.6997e-02, -2.5143e-01, -3.1651e-01,\n",
       "                        1.2551e-01,  2.0988e-01, -3.9626e-01,  4.6900e-02, -1.4647e-01,\n",
       "                        2.1980e-02,  6.9859e-02, -3.8058e-01,  5.2671e-02],\n",
       "                      [ 3.6113e-02, -9.1377e-02, -2.5671e-02, -1.5053e-01, -4.3615e-01,\n",
       "                       -2.7090e-01, -2.0856e-01, -1.5974e-01,  8.6417e-03, -5.5120e-01,\n",
       "                        7.5895e-03, -1.2895e-01,  3.7506e-01,  8.3507e-02, -1.0723e-01,\n",
       "                       -1.4900e+00, -7.0325e-02,  2.0568e-01, -2.0324e-01, -2.4420e-01,\n",
       "                       -1.3089e-01, -5.1263e-01, -9.7044e-02, -1.9276e-01, -2.2551e-01,\n",
       "                       -2.7464e-02, -1.4956e-01,  5.5440e-02,  8.6613e-02, -1.2204e-01,\n",
       "                        6.6369e-02, -1.2720e-01, -2.8040e-01, -2.1240e-01, -5.5104e-01,\n",
       "                       -1.5480e-01, -3.8293e-02, -4.9901e-02, -1.2960e-01, -1.2513e-01,\n",
       "                       -2.7309e-01, -8.1326e-01, -2.4693e-01, -1.8286e-01,  6.5634e-02,\n",
       "                       -9.8774e-02, -1.4732e-01, -6.4240e-03, -1.2067e-01, -5.0134e-01,\n",
       "                        2.1719e-02, -1.0650e-01,  3.9350e-02,  6.9938e-02,  2.2339e-01,\n",
       "                       -2.8003e-01, -2.6558e-01,  1.3054e-01, -3.8520e-01,  7.4049e-02,\n",
       "                       -1.2551e-01, -2.5045e-01,  2.4544e-01, -2.3574e-01],\n",
       "                      [-9.3377e-02, -2.7480e-01, -3.2830e-02, -2.2507e-01, -5.5694e-01,\n",
       "                       -2.1468e-01,  1.2304e-01,  1.6996e-01,  1.5082e-02,  5.1144e-02,\n",
       "                       -4.6017e-01, -3.2671e-01, -2.2057e-01, -9.1602e-03,  2.3207e-01,\n",
       "                       -3.3234e-01, -3.6028e-01, -1.6148e-01, -5.5817e-01, -5.4704e-01,\n",
       "                        2.2749e-01,  1.0185e-01, -3.9764e-01,  1.6760e-02, -2.4528e-01,\n",
       "                       -1.6411e-01,  1.4529e-01, -4.5626e-02,  8.9032e-02, -1.5512e-01,\n",
       "                        5.1522e-02,  2.7516e-01,  1.4897e-01, -1.0954e-01, -5.6287e-02,\n",
       "                       -3.9176e-01, -2.3231e-01, -2.6133e-01, -1.6305e-02, -5.4969e-01,\n",
       "                       -2.8242e-01, -3.9691e-01, -1.9957e-01, -1.3795e-02,  1.6382e-01,\n",
       "                       -6.5703e-01, -4.7794e-02, -1.8300e-01,  9.0578e-02, -1.1909e-02,\n",
       "                       -1.5173e-01, -9.2535e-02, -5.1950e-01, -1.7262e-02, -8.0227e-01,\n",
       "                       -4.3087e-02, -2.9058e-01, -1.2823e-01,  7.8269e-02, -2.6919e-01,\n",
       "                        1.8358e-01,  1.0384e-01, -3.1595e-01, -4.0778e-02],\n",
       "                      [-9.5009e-02,  6.1051e-02,  8.3527e-02, -4.6527e-01, -7.1833e-01,\n",
       "                       -1.1881e-01, -2.4179e-01, -3.3823e-02,  7.4040e-02, -2.4195e-01,\n",
       "                       -2.3570e-01, -2.3269e-01, -7.4326e-02, -1.3277e-01,  1.4208e-01,\n",
       "                       -2.0899e-01,  1.9664e-01, -1.9705e-01, -5.2014e-01, -5.7060e-02,\n",
       "                        7.7045e-02,  5.2541e-02, -7.7714e-02, -2.0896e-01, -1.0998e-01,\n",
       "                       -5.4011e-01, -1.9251e-02, -4.3081e-01, -1.6112e-01, -3.3886e-01,\n",
       "                        1.8593e-01,  3.3478e-02, -1.4485e-01, -1.2837e-01, -1.7350e-01,\n",
       "                       -1.5996e-01, -3.0331e-01, -5.7252e-01, -1.2111e+00, -8.7645e-01,\n",
       "                        4.6327e-02, -3.7605e-01,  4.3447e-02, -4.9779e-02, -5.6767e-02,\n",
       "                       -3.6467e-01, -1.9932e-01, -9.8741e-02,  2.6322e-01,  2.1981e-02,\n",
       "                       -1.3979e-01, -3.9537e-01, -2.0157e-01, -9.2399e-02,  4.1837e-02,\n",
       "                        1.3729e-01, -5.0233e-01,  7.4773e-02,  2.7153e-01, -4.2285e-01,\n",
       "                       -7.3209e-02,  1.5302e-01, -1.3975e-01, -5.4735e-02],\n",
       "                      [ 1.6228e-01,  2.1540e-01,  6.4993e-02,  3.5231e-01, -3.2245e-01,\n",
       "                        5.6708e-02, -4.4046e-02,  1.5684e-01,  3.4955e-02, -6.4594e-02,\n",
       "                       -3.6445e-01, -4.2605e-03, -4.6721e-01,  1.5912e-02, -5.9174e-02,\n",
       "                       -1.1418e-01,  2.9744e-01,  1.6505e-01,  2.0378e-01, -4.7988e-01,\n",
       "                       -1.6079e-01,  3.1059e-01,  3.6939e-02,  9.3207e-02,  1.6136e-01,\n",
       "                        4.5276e-01,  1.9385e-01,  5.2074e-02,  8.3345e-02,  8.4559e-02,\n",
       "                       -4.3770e-02, -1.4934e-01, -4.4283e-02,  1.6878e-01, -1.0708e-01,\n",
       "                        2.6340e-01, -1.6902e-01,  2.7634e-01,  2.1410e-01, -1.1779e-01,\n",
       "                       -1.6849e-01, -2.5032e-01, -2.9144e-01,  1.1307e-01, -2.4252e-01,\n",
       "                       -2.4917e-01, -3.3052e-01,  6.0967e-02, -5.5007e-01, -2.5588e-01,\n",
       "                       -2.1610e-02,  9.9345e-02,  7.4056e-02,  3.2237e-01, -5.1479e-02,\n",
       "                       -3.8943e-02,  2.0661e-01,  2.3723e-03,  1.9989e-01, -6.0646e-02,\n",
       "                       -6.3207e-02, -2.2454e-01, -2.7667e-02, -7.7460e-02],\n",
       "                      [-8.6582e-02, -5.5418e-01,  9.4765e-02,  1.0453e-01, -9.0451e-01,\n",
       "                        2.7516e-02, -4.1603e-02,  8.2296e-02,  1.9756e-01, -5.0944e-01,\n",
       "                       -1.5343e-01, -2.3353e-02, -4.8093e-01,  5.5849e-03,  5.7939e-03,\n",
       "                        7.0249e-02, -1.3461e-01,  4.4592e-02, -5.7582e-01, -2.3281e-02,\n",
       "                        2.5698e-02,  1.3528e-01, -8.1636e-02, -1.2483e-01,  3.6129e-01,\n",
       "                       -3.9046e-01, -2.8581e-01, -1.7435e-02, -1.1505e-01, -1.9550e-01,\n",
       "                       -3.3128e-02, -7.1793e-02,  1.1527e-02, -8.0968e-02, -1.1599e-01,\n",
       "                        1.8158e-01, -5.5649e-01, -2.3916e-01, -1.3908e-01, -1.1106e+00,\n",
       "                        4.2744e-02, -2.8432e-01,  5.7003e-04,  6.3712e-02, -3.3541e-01,\n",
       "                       -6.2953e-01,  2.1983e-01, -7.1770e-02,  8.1533e-03, -3.2617e-01,\n",
       "                        1.8823e-01, -2.2113e-01,  1.5319e-01, -2.5414e-01, -2.4748e-02,\n",
       "                        1.9622e-01,  1.5050e-01, -4.2898e-01, -1.0062e-01, -1.2739e-01,\n",
       "                       -8.6196e-02,  2.6322e-01, -7.0928e-02,  1.1128e-02],\n",
       "                      [-3.8141e-02, -5.2876e-02, -5.6392e-02, -9.0120e-02, -2.4789e-01,\n",
       "                       -2.2349e-01,  2.7002e-01,  2.0480e-02, -2.4066e-02, -1.3013e-01,\n",
       "                       -6.0815e-01, -4.0098e-02, -2.0490e-01,  2.5564e-01, -2.2098e-02,\n",
       "                       -2.8921e-01, -2.4491e-01,  1.1327e-01, -1.4694e-01, -6.0711e-01,\n",
       "                       -2.9864e-02, -3.2110e-01,  9.1842e-02, -1.0353e-01, -3.3631e-01,\n",
       "                        6.1469e-02,  1.6663e-01, -3.0393e-01,  1.2805e-01,  4.3251e-01,\n",
       "                       -2.2289e-01, -2.0880e-02, -1.0845e-01, -1.3038e-01, -7.1342e-01,\n",
       "                       -3.4162e-01, -7.1551e-01,  4.6943e-02,  1.2254e-01, -5.4768e-01,\n",
       "                       -2.3236e-04, -7.7818e-01,  1.9273e-02, -3.3744e-02, -3.0328e-01,\n",
       "                       -1.0804e+00, -3.4913e-02,  5.9995e-02, -3.3843e-01, -4.5396e-01,\n",
       "                       -7.4304e-02,  2.0604e-01, -8.6784e-03, -1.1892e-01, -7.4797e-02,\n",
       "                       -2.5907e-01, -8.5031e-03,  2.0217e-01, -7.8265e-02, -1.5019e-01,\n",
       "                       -5.5211e-02, -2.8116e-01,  8.4515e-02,  1.5659e-02]])),\n",
       "             ('linear4.bias',\n",
       "              tensor([ 0.3170, -0.5250, -0.0873, -0.3398, -0.3817, -0.2508, -0.4115, -0.1410,\n",
       "                       0.7909,  0.2742]))])"
      ]
     },
     "execution_count": 52,
     "metadata": {},
     "output_type": "execute_result"
    }
   ],
   "source": [
    "# to view the weights and bias after training, refer the state_dict\n",
    "model.state_dict()"
   ]
  },
  {
   "cell_type": "code",
   "execution_count": 54,
   "metadata": {},
   "outputs": [
    {
     "data": {
      "text/plain": [
       "<All keys matched successfully>"
      ]
     },
     "execution_count": 54,
     "metadata": {},
     "output_type": "execute_result"
    }
   ],
   "source": [
    "#loading model\n",
    "models2 = DeepNeuralNetwork(784,256,10)\n",
    "models2.load_state_dict(torch.load('mnist-dnn.pth'))"
   ]
  },
  {
   "attachments": {},
   "cell_type": "markdown",
   "metadata": {},
   "source": [
    "### End Remarks\n",
    "The accuracy is very good. For further improvements,\n",
    "1. Train a CNN model.\n",
    "2. collect more data or use lower learning rate."
   ]
  },
  {
   "cell_type": "code",
   "execution_count": null,
   "metadata": {},
   "outputs": [],
   "source": []
  }
 ],
 "metadata": {
  "kernelspec": {
   "display_name": "torch_dl",
   "language": "python",
   "name": "python3"
  },
  "language_info": {
   "codemirror_mode": {
    "name": "ipython",
    "version": 3
   },
   "file_extension": ".py",
   "mimetype": "text/x-python",
   "name": "python",
   "nbconvert_exporter": "python",
   "pygments_lexer": "ipython3",
   "version": "3.8.16 (default, Jan 17 2023, 23:13:24) \n[GCC 11.2.0]"
  },
  "orig_nbformat": 4,
  "vscode": {
   "interpreter": {
    "hash": "3fc43966dd8a35b9bb4dacfb26d54ec70461d2f8773a70bf315d67d5e8c2bf14"
   }
  }
 },
 "nbformat": 4,
 "nbformat_minor": 2
}
