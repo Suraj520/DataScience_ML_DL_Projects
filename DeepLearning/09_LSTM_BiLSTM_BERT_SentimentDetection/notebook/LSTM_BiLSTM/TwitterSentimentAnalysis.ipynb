{
  "nbformat": 4,
  "nbformat_minor": 0,
  "metadata": {
    "colab": {
      "name": "TwitterSentimentAnalysis.ipynb",
      "provenance": [],
      "collapsed_sections": []
    },
    "kernelspec": {
      "name": "python3",
      "display_name": "Python 3"
    },
    "language_info": {
      "name": "python"
    },
    "accelerator": "GPU"
  },
  "cells": [
    {
      "cell_type": "markdown",
      "metadata": {
        "id": "HCAqiN-L1-Gt"
      },
      "source": [
        "# About\n",
        "LSTM and Bi-Directional LSTMs based sentiment analysis on twitter dataset."
      ]
    },
    {
      "cell_type": "code",
      "metadata": {
        "id": "5Gl7BdxdgmQt"
      },
      "source": [
        "#importing modules\n",
        "import os\n",
        "import pandas as pd\n",
        "import seaborn as sns\n",
        "import os\n",
        "import shutil\n",
        "import tensorflow.keras as keras\n",
        "from keras.preprocessing.text import Tokenizer\n",
        "from keras.preprocessing.sequence import pad_sequences\n",
        "from keras.layers import Dense, Embedding, LSTM, SpatialDropout1D,TimeDistributed, Flatten, Bidirectional\n",
        "from sklearn.model_selection import train_test_split\n",
        "from keras.utils.np_utils import to_categorical\n",
        "from keras.models import Sequential, Model\n",
        "import matplotlib.pyplot as plt\n",
        "from keras.layers.normalization import BatchNormalization\n",
        "from keras.regularizers import l2\n",
        "import re"
      ],
      "execution_count": 1,
      "outputs": []
    },
    {
      "cell_type": "code",
      "metadata": {
        "colab": {
          "base_uri": "https://localhost:8080/"
        },
        "id": "BEw2SbUh1sfI",
        "outputId": "b672c2f9-0c86-4411-ec99-bd0e73645167"
      },
      "source": [
        "!nvidia-smi"
      ],
      "execution_count": 2,
      "outputs": [
        {
          "output_type": "stream",
          "text": [
            "Thu Apr  1 16:36:09 2021       \n",
            "+-----------------------------------------------------------------------------+\n",
            "| NVIDIA-SMI 460.67       Driver Version: 460.32.03    CUDA Version: 11.2     |\n",
            "|-------------------------------+----------------------+----------------------+\n",
            "| GPU  Name        Persistence-M| Bus-Id        Disp.A | Volatile Uncorr. ECC |\n",
            "| Fan  Temp  Perf  Pwr:Usage/Cap|         Memory-Usage | GPU-Util  Compute M. |\n",
            "|                               |                      |               MIG M. |\n",
            "|===============================+======================+======================|\n",
            "|   0  Tesla V100-SXM2...  Off  | 00000000:00:04.0 Off |                    0 |\n",
            "| N/A   39C    P0    24W / 300W |      0MiB / 16160MiB |      0%      Default |\n",
            "|                               |                      |                  N/A |\n",
            "+-------------------------------+----------------------+----------------------+\n",
            "                                                                               \n",
            "+-----------------------------------------------------------------------------+\n",
            "| Processes:                                                                  |\n",
            "|  GPU   GI   CI        PID   Type   Process name                  GPU Memory |\n",
            "|        ID   ID                                                   Usage      |\n",
            "|=============================================================================|\n",
            "|  No running processes found                                                 |\n",
            "+-----------------------------------------------------------------------------+\n"
          ],
          "name": "stdout"
        }
      ]
    },
    {
      "cell_type": "code",
      "metadata": {
        "id": "uuCDaoMqu0WH"
      },
      "source": [
        "os.chdir('/content/drive/MyDrive/Colab Notebooks/Dataset/TwitterSentimentAnalysis')"
      ],
      "execution_count": 3,
      "outputs": []
    },
    {
      "cell_type": "code",
      "metadata": {
        "colab": {
          "base_uri": "https://localhost:8080/"
        },
        "id": "lidIoiYzu7Xu",
        "outputId": "b3d405e1-77fb-4545-dc71-eef359f664dc"
      },
      "source": [
        "!ls"
      ],
      "execution_count": 4,
      "outputs": [
        {
          "output_type": "stream",
          "text": [
            "sample_submission.csv  test.csv  train.csv  tweet-sentiment-extraction.zip\n"
          ],
          "name": "stdout"
        }
      ]
    },
    {
      "cell_type": "code",
      "metadata": {
        "id": "Nc2L17iiu_QG"
      },
      "source": [
        "#!unzip tweet-sentiment-extraction.zip"
      ],
      "execution_count": 5,
      "outputs": []
    },
    {
      "cell_type": "code",
      "metadata": {
        "id": "Zqi07W8yvAiO"
      },
      "source": [
        "train_dataset = pd.read_csv('train.csv')\n",
        "test_dataset = pd.read_csv('test.csv')"
      ],
      "execution_count": 6,
      "outputs": []
    },
    {
      "cell_type": "code",
      "metadata": {
        "colab": {
          "base_uri": "https://localhost:8080/",
          "height": 196
        },
        "id": "AzlBhybLvvbl",
        "outputId": "6e8f1c59-65bb-4e82-81e0-8330ac259421"
      },
      "source": [
        "train_dataset.head()"
      ],
      "execution_count": 7,
      "outputs": [
        {
          "output_type": "execute_result",
          "data": {
            "text/html": [
              "<div>\n",
              "<style scoped>\n",
              "    .dataframe tbody tr th:only-of-type {\n",
              "        vertical-align: middle;\n",
              "    }\n",
              "\n",
              "    .dataframe tbody tr th {\n",
              "        vertical-align: top;\n",
              "    }\n",
              "\n",
              "    .dataframe thead th {\n",
              "        text-align: right;\n",
              "    }\n",
              "</style>\n",
              "<table border=\"1\" class=\"dataframe\">\n",
              "  <thead>\n",
              "    <tr style=\"text-align: right;\">\n",
              "      <th></th>\n",
              "      <th>textID</th>\n",
              "      <th>text</th>\n",
              "      <th>selected_text</th>\n",
              "      <th>sentiment</th>\n",
              "    </tr>\n",
              "  </thead>\n",
              "  <tbody>\n",
              "    <tr>\n",
              "      <th>0</th>\n",
              "      <td>cb774db0d1</td>\n",
              "      <td>I`d have responded, if I were going</td>\n",
              "      <td>I`d have responded, if I were going</td>\n",
              "      <td>neutral</td>\n",
              "    </tr>\n",
              "    <tr>\n",
              "      <th>1</th>\n",
              "      <td>549e992a42</td>\n",
              "      <td>Sooo SAD I will miss you here in San Diego!!!</td>\n",
              "      <td>Sooo SAD</td>\n",
              "      <td>negative</td>\n",
              "    </tr>\n",
              "    <tr>\n",
              "      <th>2</th>\n",
              "      <td>088c60f138</td>\n",
              "      <td>my boss is bullying me...</td>\n",
              "      <td>bullying me</td>\n",
              "      <td>negative</td>\n",
              "    </tr>\n",
              "    <tr>\n",
              "      <th>3</th>\n",
              "      <td>9642c003ef</td>\n",
              "      <td>what interview! leave me alone</td>\n",
              "      <td>leave me alone</td>\n",
              "      <td>negative</td>\n",
              "    </tr>\n",
              "    <tr>\n",
              "      <th>4</th>\n",
              "      <td>358bd9e861</td>\n",
              "      <td>Sons of ****, why couldn`t they put them on t...</td>\n",
              "      <td>Sons of ****,</td>\n",
              "      <td>negative</td>\n",
              "    </tr>\n",
              "  </tbody>\n",
              "</table>\n",
              "</div>"
            ],
            "text/plain": [
              "       textID  ... sentiment\n",
              "0  cb774db0d1  ...   neutral\n",
              "1  549e992a42  ...  negative\n",
              "2  088c60f138  ...  negative\n",
              "3  9642c003ef  ...  negative\n",
              "4  358bd9e861  ...  negative\n",
              "\n",
              "[5 rows x 4 columns]"
            ]
          },
          "metadata": {
            "tags": []
          },
          "execution_count": 7
        }
      ]
    },
    {
      "cell_type": "code",
      "metadata": {
        "colab": {
          "base_uri": "https://localhost:8080/",
          "height": 196
        },
        "id": "VJUtxqMZv62N",
        "outputId": "b63a9f2f-230a-44e9-f182-e869f05df5d1"
      },
      "source": [
        "train_dataset.tail()"
      ],
      "execution_count": 8,
      "outputs": [
        {
          "output_type": "execute_result",
          "data": {
            "text/html": [
              "<div>\n",
              "<style scoped>\n",
              "    .dataframe tbody tr th:only-of-type {\n",
              "        vertical-align: middle;\n",
              "    }\n",
              "\n",
              "    .dataframe tbody tr th {\n",
              "        vertical-align: top;\n",
              "    }\n",
              "\n",
              "    .dataframe thead th {\n",
              "        text-align: right;\n",
              "    }\n",
              "</style>\n",
              "<table border=\"1\" class=\"dataframe\">\n",
              "  <thead>\n",
              "    <tr style=\"text-align: right;\">\n",
              "      <th></th>\n",
              "      <th>textID</th>\n",
              "      <th>text</th>\n",
              "      <th>selected_text</th>\n",
              "      <th>sentiment</th>\n",
              "    </tr>\n",
              "  </thead>\n",
              "  <tbody>\n",
              "    <tr>\n",
              "      <th>27476</th>\n",
              "      <td>4eac33d1c0</td>\n",
              "      <td>wish we could come see u on Denver  husband l...</td>\n",
              "      <td>d lost</td>\n",
              "      <td>negative</td>\n",
              "    </tr>\n",
              "    <tr>\n",
              "      <th>27477</th>\n",
              "      <td>4f4c4fc327</td>\n",
              "      <td>I`ve wondered about rake to.  The client has ...</td>\n",
              "      <td>, don`t force</td>\n",
              "      <td>negative</td>\n",
              "    </tr>\n",
              "    <tr>\n",
              "      <th>27478</th>\n",
              "      <td>f67aae2310</td>\n",
              "      <td>Yay good for both of you. Enjoy the break - y...</td>\n",
              "      <td>Yay good for both of you.</td>\n",
              "      <td>positive</td>\n",
              "    </tr>\n",
              "    <tr>\n",
              "      <th>27479</th>\n",
              "      <td>ed167662a5</td>\n",
              "      <td>But it was worth it  ****.</td>\n",
              "      <td>But it was worth it  ****.</td>\n",
              "      <td>positive</td>\n",
              "    </tr>\n",
              "    <tr>\n",
              "      <th>27480</th>\n",
              "      <td>6f7127d9d7</td>\n",
              "      <td>All this flirting going on - The ATG smiles...</td>\n",
              "      <td>All this flirting going on - The ATG smiles. Y...</td>\n",
              "      <td>neutral</td>\n",
              "    </tr>\n",
              "  </tbody>\n",
              "</table>\n",
              "</div>"
            ],
            "text/plain": [
              "           textID  ... sentiment\n",
              "27476  4eac33d1c0  ...  negative\n",
              "27477  4f4c4fc327  ...  negative\n",
              "27478  f67aae2310  ...  positive\n",
              "27479  ed167662a5  ...  positive\n",
              "27480  6f7127d9d7  ...   neutral\n",
              "\n",
              "[5 rows x 4 columns]"
            ]
          },
          "metadata": {
            "tags": []
          },
          "execution_count": 8
        }
      ]
    },
    {
      "cell_type": "code",
      "metadata": {
        "colab": {
          "base_uri": "https://localhost:8080/"
        },
        "id": "3ns_UzH3wAZ0",
        "outputId": "197a0f42-b99d-4659-d25d-dc80de7c5936"
      },
      "source": [
        "train_dataset.shape"
      ],
      "execution_count": 9,
      "outputs": [
        {
          "output_type": "execute_result",
          "data": {
            "text/plain": [
              "(27481, 4)"
            ]
          },
          "metadata": {
            "tags": []
          },
          "execution_count": 9
        }
      ]
    },
    {
      "cell_type": "code",
      "metadata": {
        "colab": {
          "base_uri": "https://localhost:8080/"
        },
        "id": "HCcQnNFFwSiN",
        "outputId": "a387e1d1-c50d-4350-8058-2ece01dce887"
      },
      "source": [
        "#checking if there are any null values\n",
        "train_dataset.isnull().any()"
      ],
      "execution_count": 10,
      "outputs": [
        {
          "output_type": "execute_result",
          "data": {
            "text/plain": [
              "textID           False\n",
              "text              True\n",
              "selected_text     True\n",
              "sentiment        False\n",
              "dtype: bool"
            ]
          },
          "metadata": {
            "tags": []
          },
          "execution_count": 10
        }
      ]
    },
    {
      "cell_type": "code",
      "metadata": {
        "colab": {
          "base_uri": "https://localhost:8080/"
        },
        "id": "IGGOKvK2w698",
        "outputId": "c5855031-ed48-428c-bcee-b7592bc4e85a"
      },
      "source": [
        "#checking out number of negative, neutral and positive sentiment labels in the dataset.\n",
        "print(\"Number of positive sentiment in train data of length: {0} is {1}\".format(len(train_dataset), len(train_dataset[train_dataset['sentiment']==\"positive\"])))\n",
        "print(\"Number of negative sentiment in train data of length: {0} is {1}\".format(len(train_dataset), len(train_dataset[train_dataset['sentiment']==\"neutral\"])))\n",
        "print(\"Number of neutral sentiment in train data of length: {0} is {1}\".format(len(train_dataset), len(train_dataset[train_dataset['sentiment']==\"negative\"])))"
      ],
      "execution_count": 11,
      "outputs": [
        {
          "output_type": "stream",
          "text": [
            "Number of positive sentiment in train data of length: 27481 is 8582\n",
            "Number of negative sentiment in train data of length: 27481 is 11118\n",
            "Number of neutral sentiment in train data of length: 27481 is 7781\n"
          ],
          "name": "stdout"
        }
      ]
    },
    {
      "cell_type": "code",
      "metadata": {
        "colab": {
          "base_uri": "https://localhost:8080/",
          "height": 329
        },
        "id": "Uyi9BG4ayDJt",
        "outputId": "87b9e6a3-ca6a-4253-f053-75851ce13244"
      },
      "source": [
        "#plotting the same.\n",
        "train_dataset.groupby('sentiment').count().plot.bar(color='red')"
      ],
      "execution_count": 12,
      "outputs": [
        {
          "output_type": "execute_result",
          "data": {
            "text/plain": [
              "<matplotlib.axes._subplots.AxesSubplot at 0x7ff79adae550>"
            ]
          },
          "metadata": {
            "tags": []
          },
          "execution_count": 12
        },
        {
          "output_type": "display_data",
          "data": {
            "image/png": "[encoded data removed]",
            "text/plain": [
              "<Figure size 432x288 with 1 Axes>"
            ]
          },
          "metadata": {
            "tags": [],
            "needs_background": "light"
          }
        }
      ]
    },
    {
      "cell_type": "code",
      "metadata": {
        "colab": {
          "base_uri": "https://localhost:8080/",
          "height": 349
        },
        "id": "4DPGQ_h0002r",
        "outputId": "f89fb821-9835-48c8-c621-4f8d8e1150fe"
      },
      "source": [
        "#plotting the distibution of number of characters in the tweets\n",
        "sns.distplot(train_dataset.text.str.len())"
      ],
      "execution_count": 13,
      "outputs": [
        {
          "output_type": "stream",
          "text": [
            "/usr/local/lib/python3.7/dist-packages/seaborn/distributions.py:2557: FutureWarning: `distplot` is a deprecated function and will be removed in a future version. Please adapt your code to use either `displot` (a figure-level function with similar flexibility) or `histplot` (an axes-level function for histograms).\n",
            "  warnings.warn(msg, FutureWarning)\n"
          ],
          "name": "stderr"
        },
        {
          "output_type": "execute_result",
          "data": {
            "text/plain": [
              "<matplotlib.axes._subplots.AxesSubplot at 0x7ff79a828890>"
            ]
          },
          "metadata": {
            "tags": []
          },
          "execution_count": 13
        },
        {
          "output_type": "display_data",
          "data": {
            "image/png": "[encoded data removed]",
            "text/plain": [
              "<Figure size 432x288 with 1 Axes>"
            ]
          },
          "metadata": {
            "tags": [],
            "needs_background": "light"
          }
        }
      ]
    },
    {
      "cell_type": "code",
      "metadata": {
        "colab": {
          "base_uri": "https://localhost:8080/",
          "height": 196
        },
        "id": "rHaME6cP3LoD",
        "outputId": "d4ba8f97-2bdb-4917-a3f6-4fa15e850db0"
      },
      "source": [
        "#dropping unneccessary columns\n",
        "train_dataset = train_dataset.drop(['textID','selected_text'],axis=1)\n",
        "train_dataset.head()"
      ],
      "execution_count": 14,
      "outputs": [
        {
          "output_type": "execute_result",
          "data": {
            "text/html": [
              "<div>\n",
              "<style scoped>\n",
              "    .dataframe tbody tr th:only-of-type {\n",
              "        vertical-align: middle;\n",
              "    }\n",
              "\n",
              "    .dataframe tbody tr th {\n",
              "        vertical-align: top;\n",
              "    }\n",
              "\n",
              "    .dataframe thead th {\n",
              "        text-align: right;\n",
              "    }\n",
              "</style>\n",
              "<table border=\"1\" class=\"dataframe\">\n",
              "  <thead>\n",
              "    <tr style=\"text-align: right;\">\n",
              "      <th></th>\n",
              "      <th>text</th>\n",
              "      <th>sentiment</th>\n",
              "    </tr>\n",
              "  </thead>\n",
              "  <tbody>\n",
              "    <tr>\n",
              "      <th>0</th>\n",
              "      <td>I`d have responded, if I were going</td>\n",
              "      <td>neutral</td>\n",
              "    </tr>\n",
              "    <tr>\n",
              "      <th>1</th>\n",
              "      <td>Sooo SAD I will miss you here in San Diego!!!</td>\n",
              "      <td>negative</td>\n",
              "    </tr>\n",
              "    <tr>\n",
              "      <th>2</th>\n",
              "      <td>my boss is bullying me...</td>\n",
              "      <td>negative</td>\n",
              "    </tr>\n",
              "    <tr>\n",
              "      <th>3</th>\n",
              "      <td>what interview! leave me alone</td>\n",
              "      <td>negative</td>\n",
              "    </tr>\n",
              "    <tr>\n",
              "      <th>4</th>\n",
              "      <td>Sons of ****, why couldn`t they put them on t...</td>\n",
              "      <td>negative</td>\n",
              "    </tr>\n",
              "  </tbody>\n",
              "</table>\n",
              "</div>"
            ],
            "text/plain": [
              "                                                text sentiment\n",
              "0                I`d have responded, if I were going   neutral\n",
              "1      Sooo SAD I will miss you here in San Diego!!!  negative\n",
              "2                          my boss is bullying me...  negative\n",
              "3                     what interview! leave me alone  negative\n",
              "4   Sons of ****, why couldn`t they put them on t...  negative"
            ]
          },
          "metadata": {
            "tags": []
          },
          "execution_count": 14
        }
      ]
    },
    {
      "cell_type": "markdown",
      "metadata": {
        "id": "7DdtL6yQ3jxk"
      },
      "source": [
        "# Tokenisation"
      ]
    },
    {
      "cell_type": "code",
      "metadata": {
        "colab": {
          "base_uri": "https://localhost:8080/"
        },
        "id": "1bAD5bzt7Hk8",
        "outputId": "6cd24946-4271-4daa-99f0-14b5005ce0ef"
      },
      "source": [
        "#converting data in text column to string \n",
        "train_dataset.text=train_dataset.text.astype(str)\n",
        "#removing neutral categories\n",
        "train_dataset_without_neutral = train_dataset[train_dataset.sentiment!=\"neutral\"]\n",
        "train_dataset_without_neutral.text=train_dataset_without_neutral.text.astype(str)\n",
        "#converting train_dataset and train_dataset_without neutral to lower case\n",
        "train_dataset.text = train_dataset.text.str.lower()\n",
        "train_dataset_without_neutral.text = train_dataset_without_neutral.text.str.lower()\n",
        "#cleaning more\n",
        "train_dataset['text'] = train_dataset['text'].apply((lambda x: re.sub('[^a-zA-z0-9\\s]','',x)))\n",
        "train_dataset_without_neutral['text'] = train_dataset_without_neutral['text'].apply((lambda x: re.sub('[^a-zA-z0-9\\s]','',x)))"
      ],
      "execution_count": 21,
      "outputs": [
        {
          "output_type": "stream",
          "text": [
            "/usr/local/lib/python3.7/dist-packages/pandas/core/generic.py:5170: SettingWithCopyWarning: \n",
            "A value is trying to be set on a copy of a slice from a DataFrame.\n",
            "Try using .loc[row_indexer,col_indexer] = value instead\n",
            "\n",
            "See the caveats in the documentation: https://pandas.pydata.org/pandas-docs/stable/user_guide/indexing.html#returning-a-view-versus-a-copy\n",
            "  self[name] = value\n",
            "/usr/local/lib/python3.7/dist-packages/ipykernel_launcher.py:11: SettingWithCopyWarning: \n",
            "A value is trying to be set on a copy of a slice from a DataFrame.\n",
            "Try using .loc[row_indexer,col_indexer] = value instead\n",
            "\n",
            "See the caveats in the documentation: https://pandas.pydata.org/pandas-docs/stable/user_guide/indexing.html#returning-a-view-versus-a-copy\n",
            "  # This is added back by InteractiveShellApp.init_path()\n"
          ],
          "name": "stderr"
        }
      ]
    },
    {
      "cell_type": "code",
      "metadata": {
        "colab": {
          "base_uri": "https://localhost:8080/",
          "height": 329
        },
        "id": "Tw-1pNgjS5lB",
        "outputId": "2c281371-2891-4a81-cd9f-1a99f04db5e2"
      },
      "source": [
        "train_dataset_without_neutral.groupby('sentiment').count().plot.bar(color='red')"
      ],
      "execution_count": 22,
      "outputs": [
        {
          "output_type": "execute_result",
          "data": {
            "text/plain": [
              "<matplotlib.axes._subplots.AxesSubplot at 0x7ff790dece50>"
            ]
          },
          "metadata": {
            "tags": []
          },
          "execution_count": 22
        },
        {
          "output_type": "display_data",
          "data": {
            "image/png": "[encoded data removed]",
            "text/plain": [
              "<Figure size 432x288 with 1 Axes>"
            ]
          },
          "metadata": {
            "tags": [],
            "needs_background": "light"
          }
        }
      ]
    },
    {
      "cell_type": "code",
      "metadata": {
        "id": "puoaVirz2xm5"
      },
      "source": [
        "max_features = 5000\n",
        "# removing unneccessary punctuations while tokenizing\n",
        "tokenizer = Tokenizer(num_words= max_features, oov_token='OOV',filters='!\"#$%&()*+,-./:;<=>@[\\]^_`{|}~')\n",
        "tokenizer.fit_on_texts(train_dataset['text'].values)\n",
        "features = tokenizer.texts_to_sequences(train_dataset['text'].values)\n",
        "features = pad_sequences(features,padding='post')"
      ],
      "execution_count": 23,
      "outputs": []
    },
    {
      "cell_type": "code",
      "metadata": {
        "id": "QWYL8ZeRR1k9"
      },
      "source": [
        "max_features = 5000\n",
        "# removing unneccessary punctuations while tokenizing\n",
        "tokenizer2 = Tokenizer(num_words= max_features, oov_token='OOV',filters='!\"#$%&()*+,-./:;<=>@[\\]^_`{|}~')\n",
        "tokenizer2.fit_on_texts(train_dataset_without_neutral['text'].values)\n",
        "features2 = tokenizer2.texts_to_sequences(train_dataset_without_neutral['text'].values)\n",
        "features2 = pad_sequences(features2,padding='post')"
      ],
      "execution_count": 24,
      "outputs": []
    },
    {
      "cell_type": "code",
      "metadata": {
        "colab": {
          "base_uri": "https://localhost:8080/"
        },
        "id": "yW4PuKIe4m_8",
        "outputId": "88418a5e-f99f-4c16-8f4d-edf3f8598a60"
      },
      "source": [
        "#getting numerical data for labels\n",
        "labels = pd.get_dummies(train_dataset['sentiment']).values\n",
        "X_train, X_val, Y_train, Y_val = train_test_split(features,labels, test_size = 0.33, random_state = 42)\n",
        "X_train, X_val, Y_train, Y_val = train_test_split(features,labels, test_size = 0.33, random_state = 42)\n",
        "\n",
        "print(\"Input training features and label shape are {},{}\".format(X_train.shape,Y_train.shape))\n",
        "print(\"Input validation features and label shape are {}, {}\".format(X_val.shape,Y_val.shape))\n"
      ],
      "execution_count": 25,
      "outputs": [
        {
          "output_type": "stream",
          "text": [
            "Input training features and label shape are (18412, 34),(18412, 3)\n",
            "Input validation features and label shape are (9069, 34), (9069, 3)\n"
          ],
          "name": "stdout"
        }
      ]
    },
    {
      "cell_type": "code",
      "metadata": {
        "colab": {
          "base_uri": "https://localhost:8080/"
        },
        "id": "WYZIs95xSGxy",
        "outputId": "f0af2df1-9d2a-4a36-92f4-14e5313dbc9e"
      },
      "source": [
        "#getting numerical data for labels\n",
        "labels1 = pd.get_dummies(train_dataset_without_neutral['sentiment']).values\n",
        "X_train1, X_val1, Y_train1, Y_val1 = train_test_split(features2,labels1, test_size = 0.33, random_state = 42)\n",
        "\n",
        "print(\"Input training features and label shape are {},{}\".format(X_train1.shape,Y_train1.shape))\n",
        "print(\"Input validation features and label shape are {}, {}\".format(X_val1.shape,Y_val1.shape))\n"
      ],
      "execution_count": 26,
      "outputs": [
        {
          "output_type": "stream",
          "text": [
            "Input training features and label shape are (10963, 33),(10963, 2)\n",
            "Input validation features and label shape are (5400, 33), (5400, 2)\n"
          ],
          "name": "stdout"
        }
      ]
    },
    {
      "cell_type": "markdown",
      "metadata": {
        "id": "y8Q3KAIm74KL"
      },
      "source": [
        "# Model architecture \n",
        "A. LSTM.\n"
      ]
    },
    {
      "cell_type": "code",
      "metadata": {
        "colab": {
          "base_uri": "https://localhost:8080/"
        },
        "id": "GBMUpBbT7ztS",
        "outputId": "af788c79-4cde-4d3c-a44a-c8cd4955c600"
      },
      "source": [
        "embedding_dimension = 128\n",
        "LSTM_model = Sequential()\n",
        "LSTM_model.add(Embedding(max_features, embedding_dimension, input_length = features.shape[1]))\n",
        "LSTM_model.add(SpatialDropout1D(0.4))\n",
        "LSTM_model.add(LSTM(128, kernel_regularizer=l2(0.1),  dropout=0.4,recurrent_dropout=0.4))\n",
        "LSTM_model.add(Dense(3, activation='softmax'))\n",
        "LSTM_model.compile(loss='categorical_crossentropy', optimizer='adam', metrics=['accuracy'])\n",
        "LSTM_model.summary()"
      ],
      "execution_count": 29,
      "outputs": [
        {
          "output_type": "stream",
          "text": [
            "WARNING:tensorflow:Layer lstm_1 will not use cuDNN kernel since it doesn't meet the cuDNN kernel criteria. It will use generic GPU kernel as fallback when running on GPU\n",
            "Model: \"sequential_1\"\n",
            "_________________________________________________________________\n",
            "Layer (type)                 Output Shape              Param #   \n",
            "=================================================================\n",
            "embedding_1 (Embedding)      (None, 34, 128)           640000    \n",
            "_________________________________________________________________\n",
            "spatial_dropout1d_1 (Spatial (None, 34, 128)           0         \n",
            "_________________________________________________________________\n",
            "lstm_1 (LSTM)                (None, 128)               131584    \n",
            "_________________________________________________________________\n",
            "dense_2 (Dense)              (None, 3)                 387       \n",
            "=================================================================\n",
            "Total params: 771,971\n",
            "Trainable params: 771,971\n",
            "Non-trainable params: 0\n",
            "_________________________________________________________________\n"
          ],
          "name": "stdout"
        }
      ]
    },
    {
      "cell_type": "code",
      "metadata": {
        "colab": {
          "base_uri": "https://localhost:8080/"
        },
        "id": "G3p--PCeUgbl",
        "outputId": "b5e03042-6be3-4543-9c88-2352a075deed"
      },
      "source": [
        "embedding_dimension = 128\n",
        "LSTM_model_binary = Sequential()\n",
        "LSTM_model_binary.add(Embedding(max_features, embedding_dimension, input_length = features.shape[1]))\n",
        "LSTM_model_binary.add(SpatialDropout1D(0.4))\n",
        "LSTM_model_binary.add(LSTM(128, kernel_regularizer=l2(0.1),  dropout=0.4,recurrent_dropout=0.4))\n",
        "LSTM_model_binary.add(Dense(2, activation='softmax'))\n",
        "LSTM_model_binary.compile(loss='binary_crossentropy', optimizer='adam', metrics=['accuracy'])\n",
        "LSTM_model_binary.summary()"
      ],
      "execution_count": 37,
      "outputs": [
        {
          "output_type": "stream",
          "text": [
            "WARNING:tensorflow:Layer lstm_5 will not use cuDNN kernel since it doesn't meet the cuDNN kernel criteria. It will use generic GPU kernel as fallback when running on GPU\n",
            "Model: \"sequential_5\"\n",
            "_________________________________________________________________\n",
            "Layer (type)                 Output Shape              Param #   \n",
            "=================================================================\n",
            "embedding_5 (Embedding)      (None, 34, 128)           640000    \n",
            "_________________________________________________________________\n",
            "spatial_dropout1d_5 (Spatial (None, 34, 128)           0         \n",
            "_________________________________________________________________\n",
            "lstm_5 (LSTM)                (None, 128)               131584    \n",
            "_________________________________________________________________\n",
            "dense_6 (Dense)              (None, 2)                 258       \n",
            "=================================================================\n",
            "Total params: 771,842\n",
            "Trainable params: 771,842\n",
            "Non-trainable params: 0\n",
            "_________________________________________________________________\n"
          ],
          "name": "stdout"
        }
      ]
    },
    {
      "cell_type": "markdown",
      "metadata": {
        "id": "PWOxJRFI83jc"
      },
      "source": [
        "# Model training stage.\n"
      ]
    },
    {
      "cell_type": "code",
      "metadata": {
        "colab": {
          "base_uri": "https://localhost:8080/"
        },
        "id": "mangS9AW8xhD",
        "outputId": "753df933-764f-48d6-efb3-1a3a28f79db6"
      },
      "source": [
        "batch_size = 256\n",
        "LSTM_model_history = LSTM_model.fit(X_train,Y_train, epochs = 50, batch_size=batch_size, verbose=1, shuffle=True,validation_data=(X_val,Y_val))"
      ],
      "execution_count": 39,
      "outputs": [
        {
          "output_type": "stream",
          "text": [
            "Epoch 1/50\n",
            "72/72 [==============================] - 11s 151ms/step - loss: 0.4798 - accuracy: 0.8222 - val_loss: 1.0058 - val_accuracy: 0.6514\n",
            "Epoch 2/50\n",
            "72/72 [==============================] - 11s 155ms/step - loss: 0.4713 - accuracy: 0.8261 - val_loss: 1.0649 - val_accuracy: 0.6549\n",
            "Epoch 3/50\n",
            "72/72 [==============================] - 11s 155ms/step - loss: 0.4626 - accuracy: 0.8303 - val_loss: 1.0058 - val_accuracy: 0.6544\n",
            "Epoch 4/50\n",
            "72/72 [==============================] - 11s 148ms/step - loss: 0.4706 - accuracy: 0.8252 - val_loss: 1.0378 - val_accuracy: 0.6589\n",
            "Epoch 5/50\n",
            "72/72 [==============================] - 11s 155ms/step - loss: 0.4645 - accuracy: 0.8279 - val_loss: 1.0577 - val_accuracy: 0.6555\n",
            "Epoch 6/50\n",
            "72/72 [==============================] - 11s 151ms/step - loss: 0.4568 - accuracy: 0.8302 - val_loss: 1.0651 - val_accuracy: 0.6430\n",
            "Epoch 7/50\n",
            "72/72 [==============================] - 11s 152ms/step - loss: 0.4635 - accuracy: 0.8290 - val_loss: 0.9665 - val_accuracy: 0.6545\n",
            "Epoch 8/50\n",
            "72/72 [==============================] - 11s 153ms/step - loss: 0.4561 - accuracy: 0.8339 - val_loss: 1.0541 - val_accuracy: 0.6563\n",
            "Epoch 9/50\n",
            "72/72 [==============================] - 11s 156ms/step - loss: 0.4579 - accuracy: 0.8285 - val_loss: 1.0794 - val_accuracy: 0.6506\n",
            "Epoch 10/50\n",
            "72/72 [==============================] - 11s 151ms/step - loss: 0.4482 - accuracy: 0.8345 - val_loss: 1.0518 - val_accuracy: 0.6560\n",
            "Epoch 11/50\n",
            "72/72 [==============================] - 11s 151ms/step - loss: 0.4503 - accuracy: 0.8339 - val_loss: 1.0426 - val_accuracy: 0.6457\n",
            "Epoch 12/50\n",
            "72/72 [==============================] - 11s 153ms/step - loss: 0.4569 - accuracy: 0.8335 - val_loss: 1.0952 - val_accuracy: 0.6538\n",
            "Epoch 13/50\n",
            "72/72 [==============================] - 11s 148ms/step - loss: 0.4489 - accuracy: 0.8341 - val_loss: 1.0437 - val_accuracy: 0.6544\n",
            "Epoch 14/50\n",
            "72/72 [==============================] - 11s 151ms/step - loss: 0.4471 - accuracy: 0.8349 - val_loss: 1.1080 - val_accuracy: 0.6448\n",
            "Epoch 15/50\n",
            "72/72 [==============================] - 11s 155ms/step - loss: 0.4445 - accuracy: 0.8381 - val_loss: 1.1003 - val_accuracy: 0.6583\n",
            "Epoch 16/50\n",
            "72/72 [==============================] - 11s 154ms/step - loss: 0.4356 - accuracy: 0.8419 - val_loss: 1.2361 - val_accuracy: 0.6534\n",
            "Epoch 17/50\n",
            "72/72 [==============================] - 11s 152ms/step - loss: 0.4557 - accuracy: 0.8329 - val_loss: 1.1149 - val_accuracy: 0.6544\n",
            "Epoch 18/50\n",
            "72/72 [==============================] - 11s 147ms/step - loss: 0.4354 - accuracy: 0.8381 - val_loss: 1.1288 - val_accuracy: 0.6478\n",
            "Epoch 19/50\n",
            "72/72 [==============================] - 11s 152ms/step - loss: 0.4461 - accuracy: 0.8323 - val_loss: 1.1306 - val_accuracy: 0.6494\n",
            "Epoch 20/50\n",
            "72/72 [==============================] - 11s 149ms/step - loss: 0.4407 - accuracy: 0.8399 - val_loss: 1.0904 - val_accuracy: 0.6503\n",
            "Epoch 21/50\n",
            "72/72 [==============================] - 11s 153ms/step - loss: 0.4353 - accuracy: 0.8383 - val_loss: 1.1473 - val_accuracy: 0.6580\n",
            "Epoch 22/50\n",
            "72/72 [==============================] - 11s 150ms/step - loss: 0.4321 - accuracy: 0.8409 - val_loss: 1.1942 - val_accuracy: 0.6576\n",
            "Epoch 23/50\n",
            "72/72 [==============================] - 11s 153ms/step - loss: 0.4406 - accuracy: 0.8359 - val_loss: 1.0632 - val_accuracy: 0.6436\n",
            "Epoch 24/50\n",
            "72/72 [==============================] - 11s 149ms/step - loss: 0.4425 - accuracy: 0.8375 - val_loss: 1.1426 - val_accuracy: 0.6408\n",
            "Epoch 25/50\n",
            "72/72 [==============================] - 11s 150ms/step - loss: 0.4338 - accuracy: 0.8395 - val_loss: 1.1221 - val_accuracy: 0.6442\n",
            "Epoch 26/50\n",
            "72/72 [==============================] - 11s 157ms/step - loss: 0.4272 - accuracy: 0.8430 - val_loss: 1.1685 - val_accuracy: 0.6529\n",
            "Epoch 27/50\n",
            "72/72 [==============================] - 11s 150ms/step - loss: 0.4318 - accuracy: 0.8398 - val_loss: 1.1616 - val_accuracy: 0.6522\n",
            "Epoch 28/50\n",
            "72/72 [==============================] - 11s 149ms/step - loss: 0.4285 - accuracy: 0.8427 - val_loss: 1.1879 - val_accuracy: 0.6555\n",
            "Epoch 29/50\n",
            "72/72 [==============================] - 11s 152ms/step - loss: 0.4284 - accuracy: 0.8410 - val_loss: 1.1074 - val_accuracy: 0.6508\n",
            "Epoch 30/50\n",
            "72/72 [==============================] - 11s 151ms/step - loss: 0.4267 - accuracy: 0.8413 - val_loss: 1.0678 - val_accuracy: 0.6501\n",
            "Epoch 31/50\n",
            "72/72 [==============================] - 11s 153ms/step - loss: 0.4186 - accuracy: 0.8452 - val_loss: 1.1121 - val_accuracy: 0.6453\n",
            "Epoch 32/50\n",
            "72/72 [==============================] - 11s 155ms/step - loss: 0.4222 - accuracy: 0.8436 - val_loss: 1.1964 - val_accuracy: 0.6463\n",
            "Epoch 33/50\n",
            "72/72 [==============================] - 11s 151ms/step - loss: 0.4168 - accuracy: 0.8477 - val_loss: 1.1687 - val_accuracy: 0.6423\n",
            "Epoch 34/50\n",
            "72/72 [==============================] - 11s 150ms/step - loss: 0.4171 - accuracy: 0.8487 - val_loss: 1.1303 - val_accuracy: 0.6419\n",
            "Epoch 35/50\n",
            "72/72 [==============================] - 11s 151ms/step - loss: 0.4211 - accuracy: 0.8452 - val_loss: 1.1518 - val_accuracy: 0.6459\n",
            "Epoch 36/50\n",
            "72/72 [==============================] - 11s 152ms/step - loss: 0.4145 - accuracy: 0.8470 - val_loss: 1.1485 - val_accuracy: 0.6516\n",
            "Epoch 37/50\n",
            "72/72 [==============================] - 11s 155ms/step - loss: 0.4103 - accuracy: 0.8534 - val_loss: 1.1547 - val_accuracy: 0.6426\n",
            "Epoch 38/50\n",
            "72/72 [==============================] - 11s 155ms/step - loss: 0.4118 - accuracy: 0.8481 - val_loss: 1.1553 - val_accuracy: 0.6462\n",
            "Epoch 39/50\n",
            "72/72 [==============================] - 11s 148ms/step - loss: 0.4145 - accuracy: 0.8467 - val_loss: 1.1338 - val_accuracy: 0.6358\n",
            "Epoch 40/50\n",
            "72/72 [==============================] - 11s 151ms/step - loss: 0.4140 - accuracy: 0.8459 - val_loss: 1.1834 - val_accuracy: 0.6464\n",
            "Epoch 41/50\n",
            "72/72 [==============================] - 11s 151ms/step - loss: 0.4097 - accuracy: 0.8487 - val_loss: 1.1568 - val_accuracy: 0.6344\n",
            "Epoch 42/50\n",
            "72/72 [==============================] - 11s 148ms/step - loss: 0.4144 - accuracy: 0.8463 - val_loss: 1.1386 - val_accuracy: 0.6400\n",
            "Epoch 43/50\n",
            "72/72 [==============================] - 11s 154ms/step - loss: 0.4076 - accuracy: 0.8486 - val_loss: 1.1467 - val_accuracy: 0.6406\n",
            "Epoch 44/50\n",
            "72/72 [==============================] - 11s 148ms/step - loss: 0.4052 - accuracy: 0.8503 - val_loss: 1.2029 - val_accuracy: 0.6469\n",
            "Epoch 45/50\n",
            "72/72 [==============================] - 11s 155ms/step - loss: 0.4044 - accuracy: 0.8523 - val_loss: 1.1382 - val_accuracy: 0.6405\n",
            "Epoch 46/50\n",
            "72/72 [==============================] - 11s 153ms/step - loss: 0.4049 - accuracy: 0.8523 - val_loss: 1.1911 - val_accuracy: 0.6455\n",
            "Epoch 47/50\n",
            "72/72 [==============================] - 11s 150ms/step - loss: 0.4075 - accuracy: 0.8521 - val_loss: 1.1706 - val_accuracy: 0.6412\n",
            "Epoch 48/50\n",
            "72/72 [==============================] - 11s 151ms/step - loss: 0.3993 - accuracy: 0.8552 - val_loss: 1.2037 - val_accuracy: 0.6471\n",
            "Epoch 49/50\n",
            "72/72 [==============================] - 11s 152ms/step - loss: 0.3983 - accuracy: 0.8561 - val_loss: 1.2419 - val_accuracy: 0.6391\n",
            "Epoch 50/50\n",
            "72/72 [==============================] - 11s 155ms/step - loss: 0.3999 - accuracy: 0.8531 - val_loss: 1.2627 - val_accuracy: 0.6422\n"
          ],
          "name": "stdout"
        }
      ]
    },
    {
      "cell_type": "code",
      "metadata": {
        "colab": {
          "base_uri": "https://localhost:8080/",
          "height": 573
        },
        "id": "n25dIyW7ZQ7Q",
        "outputId": "180a5f26-deeb-44ce-a422-3ae9ae8002a2"
      },
      "source": [
        "plt.plot(LSTM_model_history.history['accuracy'])\n",
        "plt.plot(LSTM_model_history.history['val_accuracy'])\n",
        "plt.title('model accuracy')\n",
        "plt.ylabel('accuracy')\n",
        "plt.xlabel('epoch')\n",
        "plt.legend(['train', 'test'], loc='upper left')\n",
        "plt.show()\n",
        "# summarize history for loss\n",
        "plt.plot(LSTM_model_history.history['loss'])\n",
        "plt.plot(LSTM_model_history.history['val_loss'])\n",
        "plt.title('model loss')\n",
        "plt.ylabel('loss')\n",
        "plt.xlabel('epoch')\n",
        "plt.legend(['train', 'test'], loc='upper left')\n",
        "plt.show()"
      ],
      "execution_count": 42,
      "outputs": [
        {
          "output_type": "display_data",
          "data": {
            "image/png": "[encoded data removed]",
            "text/plain": [
              "<Figure size 432x288 with 1 Axes>"
            ]
          },
          "metadata": {
            "tags": [],
            "needs_background": "light"
          }
        },
        {
          "output_type": "display_data",
          "data": {
            "image/png": "[encoded data removed]",
            "text/plain": [
              "<Figure size 432x288 with 1 Axes>"
            ]
          },
          "metadata": {
            "tags": [],
            "needs_background": "light"
          }
        }
      ]
    },
    {
      "cell_type": "markdown",
      "metadata": {
        "id": "ys1Fm_MjU8kJ"
      },
      "source": [
        "# Observation::\n",
        "Let's try on binary classes by removing neutral ones to have more polarity in the sentiments."
      ]
    },
    {
      "cell_type": "code",
      "metadata": {
        "colab": {
          "base_uri": "https://localhost:8080/"
        },
        "id": "Ljq8zKPOUntc",
        "outputId": "36da75fb-43ef-41fd-fed3-8ce2acc68c74"
      },
      "source": [
        "batch_size = 256\n",
        "LSTM_model_binary_history = LSTM_model_binary.fit(X_train1,Y_train1, epochs = 50, batch_size=batch_size, verbose=1, shuffle=True,validation_data=(X_val1,Y_val1))"
      ],
      "execution_count": 38,
      "outputs": [
        {
          "output_type": "stream",
          "text": [
            "Epoch 1/50\n",
            "WARNING:tensorflow:Model was constructed with shape (None, 34) for input KerasTensor(type_spec=TensorSpec(shape=(None, 34), dtype=tf.float32, name='embedding_5_input'), name='embedding_5_input', description=\"created by layer 'embedding_5_input'\"), but it was called on an input with incompatible shape (None, 33).\n",
            "WARNING:tensorflow:Model was constructed with shape (None, 34) for input KerasTensor(type_spec=TensorSpec(shape=(None, 34), dtype=tf.float32, name='embedding_5_input'), name='embedding_5_input', description=\"created by layer 'embedding_5_input'\"), but it was called on an input with incompatible shape (None, 33).\n",
            "43/43 [==============================] - ETA: 0s - loss: 15.8172 - accuracy: 0.5317WARNING:tensorflow:Model was constructed with shape (None, 34) for input KerasTensor(type_spec=TensorSpec(shape=(None, 34), dtype=tf.float32, name='embedding_5_input'), name='embedding_5_input', description=\"created by layer 'embedding_5_input'\"), but it was called on an input with incompatible shape (None, 33).\n",
            "43/43 [==============================] - 9s 156ms/step - loss: 15.7217 - accuracy: 0.5316 - val_loss: 4.9553 - val_accuracy: 0.5572\n",
            "Epoch 2/50\n",
            "43/43 [==============================] - 6s 151ms/step - loss: 3.5048 - accuracy: 0.6886 - val_loss: 1.0255 - val_accuracy: 0.8172\n",
            "Epoch 3/50\n",
            "43/43 [==============================] - 7s 153ms/step - loss: 0.7675 - accuracy: 0.8542 - val_loss: 0.4213 - val_accuracy: 0.8530\n",
            "Epoch 4/50\n",
            "43/43 [==============================] - 7s 155ms/step - loss: 0.3446 - accuracy: 0.8875 - val_loss: 0.3833 - val_accuracy: 0.8533\n",
            "Epoch 5/50\n",
            "43/43 [==============================] - 7s 152ms/step - loss: 0.2599 - accuracy: 0.9068 - val_loss: 0.3827 - val_accuracy: 0.8413\n",
            "Epoch 6/50\n",
            "43/43 [==============================] - 6s 151ms/step - loss: 0.2516 - accuracy: 0.9132 - val_loss: 0.3688 - val_accuracy: 0.8465\n",
            "Epoch 7/50\n",
            "43/43 [==============================] - 7s 154ms/step - loss: 0.2295 - accuracy: 0.9221 - val_loss: 0.3532 - val_accuracy: 0.8581\n",
            "Epoch 8/50\n",
            "43/43 [==============================] - 6s 151ms/step - loss: 0.2117 - accuracy: 0.9283 - val_loss: 0.4240 - val_accuracy: 0.8500\n",
            "Epoch 9/50\n",
            "43/43 [==============================] - 7s 152ms/step - loss: 0.1954 - accuracy: 0.9359 - val_loss: 0.3654 - val_accuracy: 0.8491\n",
            "Epoch 10/50\n",
            "43/43 [==============================] - 6s 150ms/step - loss: 0.2030 - accuracy: 0.9360 - val_loss: 0.4148 - val_accuracy: 0.8515\n",
            "Epoch 11/50\n",
            "43/43 [==============================] - 6s 148ms/step - loss: 0.1865 - accuracy: 0.9443 - val_loss: 0.4656 - val_accuracy: 0.8456\n",
            "Epoch 12/50\n",
            "43/43 [==============================] - 6s 149ms/step - loss: 0.1791 - accuracy: 0.9453 - val_loss: 0.4842 - val_accuracy: 0.8430\n",
            "Epoch 13/50\n",
            "43/43 [==============================] - 6s 151ms/step - loss: 0.1786 - accuracy: 0.9437 - val_loss: 0.4202 - val_accuracy: 0.8506\n",
            "Epoch 14/50\n",
            "43/43 [==============================] - 7s 156ms/step - loss: 0.1649 - accuracy: 0.9485 - val_loss: 0.4728 - val_accuracy: 0.8374\n",
            "Epoch 15/50\n",
            "43/43 [==============================] - 7s 152ms/step - loss: 0.1667 - accuracy: 0.9512 - val_loss: 0.4683 - val_accuracy: 0.8435\n",
            "Epoch 16/50\n",
            "43/43 [==============================] - 6s 149ms/step - loss: 0.1563 - accuracy: 0.9551 - val_loss: 0.3959 - val_accuracy: 0.8463\n",
            "Epoch 17/50\n",
            "43/43 [==============================] - 7s 157ms/step - loss: 0.1681 - accuracy: 0.9506 - val_loss: 0.4996 - val_accuracy: 0.8363\n",
            "Epoch 18/50\n",
            "43/43 [==============================] - 7s 153ms/step - loss: 0.1577 - accuracy: 0.9509 - val_loss: 0.5168 - val_accuracy: 0.8376\n",
            "Epoch 19/50\n",
            "43/43 [==============================] - 7s 155ms/step - loss: 0.1429 - accuracy: 0.9581 - val_loss: 0.5596 - val_accuracy: 0.8357\n",
            "Epoch 20/50\n",
            "43/43 [==============================] - 6s 148ms/step - loss: 0.1360 - accuracy: 0.9595 - val_loss: 0.5455 - val_accuracy: 0.8331\n",
            "Epoch 21/50\n",
            "43/43 [==============================] - 7s 154ms/step - loss: 0.1445 - accuracy: 0.9550 - val_loss: 0.4984 - val_accuracy: 0.8389\n",
            "Epoch 22/50\n",
            "43/43 [==============================] - 6s 149ms/step - loss: 0.1376 - accuracy: 0.9569 - val_loss: 0.4894 - val_accuracy: 0.8394\n",
            "Epoch 23/50\n",
            "43/43 [==============================] - 6s 148ms/step - loss: 0.1376 - accuracy: 0.9567 - val_loss: 0.4738 - val_accuracy: 0.8361\n",
            "Epoch 24/50\n",
            "43/43 [==============================] - 6s 151ms/step - loss: 0.1513 - accuracy: 0.9546 - val_loss: 0.5107 - val_accuracy: 0.8404\n",
            "Epoch 25/50\n",
            "43/43 [==============================] - 7s 153ms/step - loss: 0.1398 - accuracy: 0.9560 - val_loss: 0.4909 - val_accuracy: 0.8417\n",
            "Epoch 26/50\n",
            "43/43 [==============================] - 6s 152ms/step - loss: 0.1321 - accuracy: 0.9623 - val_loss: 0.5213 - val_accuracy: 0.8352\n",
            "Epoch 27/50\n",
            "43/43 [==============================] - 6s 147ms/step - loss: 0.1270 - accuracy: 0.9654 - val_loss: 0.5238 - val_accuracy: 0.8394\n",
            "Epoch 28/50\n",
            "43/43 [==============================] - 6s 151ms/step - loss: 0.1289 - accuracy: 0.9634 - val_loss: 0.6589 - val_accuracy: 0.8339\n",
            "Epoch 29/50\n",
            "43/43 [==============================] - 7s 159ms/step - loss: 0.1301 - accuracy: 0.9625 - val_loss: 0.5729 - val_accuracy: 0.8357\n",
            "Epoch 30/50\n",
            "43/43 [==============================] - 7s 152ms/step - loss: 0.1282 - accuracy: 0.9621 - val_loss: 0.5579 - val_accuracy: 0.8352\n",
            "Epoch 31/50\n",
            "43/43 [==============================] - 7s 158ms/step - loss: 0.1257 - accuracy: 0.9640 - val_loss: 0.6051 - val_accuracy: 0.8293\n",
            "Epoch 32/50\n",
            "43/43 [==============================] - 6s 152ms/step - loss: 0.1249 - accuracy: 0.9623 - val_loss: 0.5984 - val_accuracy: 0.8306\n",
            "Epoch 33/50\n",
            "43/43 [==============================] - 6s 147ms/step - loss: 0.1178 - accuracy: 0.9646 - val_loss: 0.4888 - val_accuracy: 0.8363\n",
            "Epoch 34/50\n",
            "43/43 [==============================] - 6s 149ms/step - loss: 0.1211 - accuracy: 0.9652 - val_loss: 0.5382 - val_accuracy: 0.8363\n",
            "Epoch 35/50\n",
            "43/43 [==============================] - 6s 147ms/step - loss: 0.1215 - accuracy: 0.9666 - val_loss: 0.5729 - val_accuracy: 0.8341\n",
            "Epoch 36/50\n",
            "43/43 [==============================] - 7s 154ms/step - loss: 0.1232 - accuracy: 0.9630 - val_loss: 0.5405 - val_accuracy: 0.8361\n",
            "Epoch 37/50\n",
            "43/43 [==============================] - 6s 151ms/step - loss: 0.1231 - accuracy: 0.9683 - val_loss: 0.5551 - val_accuracy: 0.8365\n",
            "Epoch 38/50\n",
            "43/43 [==============================] - 7s 153ms/step - loss: 0.1063 - accuracy: 0.9714 - val_loss: 0.6414 - val_accuracy: 0.8272\n",
            "Epoch 39/50\n",
            "43/43 [==============================] - 7s 157ms/step - loss: 0.1341 - accuracy: 0.9623 - val_loss: 0.5734 - val_accuracy: 0.8331\n",
            "Epoch 40/50\n",
            "43/43 [==============================] - 7s 155ms/step - loss: 0.1168 - accuracy: 0.9680 - val_loss: 0.6458 - val_accuracy: 0.8246\n",
            "Epoch 41/50\n",
            "43/43 [==============================] - 6s 151ms/step - loss: 0.1248 - accuracy: 0.9635 - val_loss: 0.5447 - val_accuracy: 0.8315\n",
            "Epoch 42/50\n",
            "43/43 [==============================] - 6s 148ms/step - loss: 0.1125 - accuracy: 0.9683 - val_loss: 0.5963 - val_accuracy: 0.8341\n",
            "Epoch 43/50\n",
            "43/43 [==============================] - 7s 155ms/step - loss: 0.1132 - accuracy: 0.9683 - val_loss: 0.6850 - val_accuracy: 0.8265\n",
            "Epoch 44/50\n",
            "43/43 [==============================] - 7s 154ms/step - loss: 0.1176 - accuracy: 0.9673 - val_loss: 0.6059 - val_accuracy: 0.8317\n",
            "Epoch 45/50\n",
            "43/43 [==============================] - 6s 151ms/step - loss: 0.1135 - accuracy: 0.9679 - val_loss: 0.6382 - val_accuracy: 0.8296\n",
            "Epoch 46/50\n",
            "43/43 [==============================] - 7s 154ms/step - loss: 0.1159 - accuracy: 0.9680 - val_loss: 0.6162 - val_accuracy: 0.8333\n",
            "Epoch 47/50\n",
            "43/43 [==============================] - 6s 150ms/step - loss: 0.1059 - accuracy: 0.9688 - val_loss: 0.6231 - val_accuracy: 0.8300\n",
            "Epoch 48/50\n",
            "43/43 [==============================] - 7s 152ms/step - loss: 0.1099 - accuracy: 0.9698 - val_loss: 0.5934 - val_accuracy: 0.8317\n",
            "Epoch 49/50\n",
            "43/43 [==============================] - 7s 159ms/step - loss: 0.1088 - accuracy: 0.9665 - val_loss: 0.6208 - val_accuracy: 0.8324\n",
            "Epoch 50/50\n",
            "43/43 [==============================] - 6s 151ms/step - loss: 0.0987 - accuracy: 0.9714 - val_loss: 0.5995 - val_accuracy: 0.8324\n"
          ],
          "name": "stdout"
        }
      ]
    },
    {
      "cell_type": "code",
      "metadata": {
        "colab": {
          "base_uri": "https://localhost:8080/",
          "height": 573
        },
        "id": "zz-QOXt6_PlW",
        "outputId": "2977949d-6a8f-46cc-d6ae-4b324a61c717"
      },
      "source": [
        "plt.plot(LSTM_model_binary_history.history['accuracy'])\n",
        "plt.plot(LSTM_model_binary_history.history['val_accuracy'])\n",
        "plt.title('model accuracy')\n",
        "plt.ylabel('accuracy')\n",
        "plt.xlabel('epoch')\n",
        "plt.legend(['train', 'test'], loc='upper left')\n",
        "plt.show()\n",
        "# summarize history for loss\n",
        "plt.plot(LSTM_model_binary_history.history['loss'])\n",
        "plt.plot(LSTM_model_binary_history.history['val_loss'])\n",
        "plt.title('model loss')\n",
        "plt.ylabel('loss')\n",
        "plt.xlabel('epoch')\n",
        "plt.legend(['train', 'test'], loc='upper left')\n",
        "plt.show()"
      ],
      "execution_count": 40,
      "outputs": [
        {
          "output_type": "display_data",
          "data": {
            "image/png": "[encoded data removed]",
            "text/plain": [
              "<Figure size 432x288 with 1 Axes>"
            ]
          },
          "metadata": {
            "tags": [],
            "needs_background": "light"
          }
        },
        {
          "output_type": "display_data",
          "data": {
            "image/png": "[encoded data removed]",
            "text/plain": [
              "<Figure size 432x288 with 1 Axes>"
            ]
          },
          "metadata": {
            "tags": [],
            "needs_background": "light"
          }
        }
      ]
    },
    {
      "cell_type": "markdown",
      "metadata": {
        "id": "VYMBu7F4XE2A"
      },
      "source": [
        "#Observation\n",
        "Let's try Bidirectional LSTMs."
      ]
    },
    {
      "cell_type": "markdown",
      "metadata": {
        "id": "VJrtNCqXJ5xo"
      },
      "source": [
        "# 2. Using BiDirectional LSTMs."
      ]
    },
    {
      "cell_type": "code",
      "metadata": {
        "id": "OnlyTvTlakxj"
      },
      "source": [
        "vocab_size = len(tokenizer.word_index)+1 # 1 for that extra OOV"
      ],
      "execution_count": 57,
      "outputs": []
    },
    {
      "cell_type": "code",
      "metadata": {
        "colab": {
          "base_uri": "https://localhost:8080/"
        },
        "id": "ATWPnrle_b9k",
        "outputId": "46f0a9bf-22f0-40dc-9d38-4e8c2ea7115c"
      },
      "source": [
        "# main model\n",
        "BiLSTM = Sequential()\n",
        "BiLSTM.add(Embedding(vocab_size,100,input_length = features2.shape[1]))\n",
        "BiLSTM.add(Bidirectional (LSTM (100,return_sequences=True,dropout=0.2,recurrent_dropout=0.2, kernel_regularizer=l2(0.1)),merge_mode='concat'))\n",
        "BiLSTM.add(TimeDistributed(Dense(100,activation='relu')))\n",
        "BiLSTM.add(SpatialDropout1D(0.4))\n",
        "BiLSTM.add(Flatten())\n",
        "BiLSTM.add(Dense(2,activation='softmax'))\n",
        "BiLSTM.compile(loss='binary_crossentropy',optimizer='adam', metrics=['accuracy'])"
      ],
      "execution_count": 70,
      "outputs": [
        {
          "output_type": "stream",
          "text": [
            "WARNING:tensorflow:Layer lstm_12 will not use cuDNN kernel since it doesn't meet the cuDNN kernel criteria. It will use generic GPU kernel as fallback when running on GPU\n",
            "WARNING:tensorflow:Layer lstm_12 will not use cuDNN kernel since it doesn't meet the cuDNN kernel criteria. It will use generic GPU kernel as fallback when running on GPU\n",
            "WARNING:tensorflow:Layer lstm_12 will not use cuDNN kernel since it doesn't meet the cuDNN kernel criteria. It will use generic GPU kernel as fallback when running on GPU\n"
          ],
          "name": "stdout"
        }
      ]
    },
    {
      "cell_type": "code",
      "metadata": {
        "colab": {
          "base_uri": "https://localhost:8080/"
        },
        "id": "blmkXGlyMBzG",
        "outputId": "38f443b5-1ced-427c-b15c-29a687fb6fc8"
      },
      "source": [
        "BiLSTM.summary()"
      ],
      "execution_count": 71,
      "outputs": [
        {
          "output_type": "stream",
          "text": [
            "Model: \"sequential_13\"\n",
            "_________________________________________________________________\n",
            "Layer (type)                 Output Shape              Param #   \n",
            "=================================================================\n",
            "embedding_12 (Embedding)     (None, 33, 100)           2873100   \n",
            "_________________________________________________________________\n",
            "bidirectional_6 (Bidirection (None, 33, 200)           160800    \n",
            "_________________________________________________________________\n",
            "time_distributed_6 (TimeDist (None, 33, 100)           20100     \n",
            "_________________________________________________________________\n",
            "spatial_dropout1d_10 (Spatia (None, 33, 100)           0         \n",
            "_________________________________________________________________\n",
            "flatten_5 (Flatten)          (None, 3300)              0         \n",
            "_________________________________________________________________\n",
            "dense_20 (Dense)             (None, 2)                 6602      \n",
            "=================================================================\n",
            "Total params: 3,060,602\n",
            "Trainable params: 3,060,602\n",
            "Non-trainable params: 0\n",
            "_________________________________________________________________\n"
          ],
          "name": "stdout"
        }
      ]
    },
    {
      "cell_type": "code",
      "metadata": {
        "colab": {
          "base_uri": "https://localhost:8080/"
        },
        "id": "E5u9zIPVMDMa",
        "outputId": "a7705e59-5dfb-4506-b3df-9c4051271789"
      },
      "source": [
        "batch_size = 256\n",
        "BiLSTM_model_history = BiLSTM.fit(X_train1,Y_train1, epochs = 50, batch_size=batch_size, verbose=1, validation_data=(X_val1,Y_val1))"
      ],
      "execution_count": 72,
      "outputs": [
        {
          "output_type": "stream",
          "text": [
            "Epoch 1/50\n",
            "43/43 [==============================] - 17s 298ms/step - loss: 24.9399 - accuracy: 0.5337 - val_loss: 8.7075 - val_accuracy: 0.7948\n",
            "Epoch 2/50\n",
            "43/43 [==============================] - 12s 287ms/step - loss: 6.3374 - accuracy: 0.8304 - val_loss: 2.0176 - val_accuracy: 0.8443\n",
            "Epoch 3/50\n",
            "43/43 [==============================] - 12s 291ms/step - loss: 1.4028 - accuracy: 0.9055 - val_loss: 0.6272 - val_accuracy: 0.8435\n",
            "Epoch 4/50\n",
            "43/43 [==============================] - 12s 280ms/step - loss: 0.3976 - accuracy: 0.9237 - val_loss: 0.4234 - val_accuracy: 0.8546\n",
            "Epoch 5/50\n",
            "43/43 [==============================] - 12s 286ms/step - loss: 0.2080 - accuracy: 0.9388 - val_loss: 0.3995 - val_accuracy: 0.8489\n",
            "Epoch 6/50\n",
            "43/43 [==============================] - 12s 286ms/step - loss: 0.1775 - accuracy: 0.9468 - val_loss: 0.4602 - val_accuracy: 0.8344\n",
            "Epoch 7/50\n",
            "43/43 [==============================] - 12s 288ms/step - loss: 0.1670 - accuracy: 0.9468 - val_loss: 0.4276 - val_accuracy: 0.8417\n",
            "Epoch 8/50\n",
            "43/43 [==============================] - 13s 295ms/step - loss: 0.1663 - accuracy: 0.9472 - val_loss: 0.5189 - val_accuracy: 0.8365\n",
            "Epoch 9/50\n",
            "43/43 [==============================] - 12s 287ms/step - loss: 0.1324 - accuracy: 0.9619 - val_loss: 0.5027 - val_accuracy: 0.8394\n",
            "Epoch 10/50\n",
            "43/43 [==============================] - 12s 290ms/step - loss: 0.1221 - accuracy: 0.9640 - val_loss: 0.5219 - val_accuracy: 0.8380\n",
            "Epoch 11/50\n",
            "43/43 [==============================] - 12s 285ms/step - loss: 0.1369 - accuracy: 0.9592 - val_loss: 0.6172 - val_accuracy: 0.8361\n",
            "Epoch 12/50\n",
            "43/43 [==============================] - 12s 284ms/step - loss: 0.1360 - accuracy: 0.9597 - val_loss: 0.5226 - val_accuracy: 0.8294\n",
            "Epoch 13/50\n",
            "43/43 [==============================] - 13s 302ms/step - loss: 0.1271 - accuracy: 0.9601 - val_loss: 0.5932 - val_accuracy: 0.8341\n",
            "Epoch 14/50\n",
            "43/43 [==============================] - 12s 288ms/step - loss: 0.1166 - accuracy: 0.9647 - val_loss: 0.5936 - val_accuracy: 0.8369\n",
            "Epoch 15/50\n",
            "43/43 [==============================] - 12s 289ms/step - loss: 0.1086 - accuracy: 0.9683 - val_loss: 0.5105 - val_accuracy: 0.8163\n",
            "Epoch 16/50\n",
            "43/43 [==============================] - 12s 283ms/step - loss: 0.1225 - accuracy: 0.9652 - val_loss: 0.5506 - val_accuracy: 0.8346\n",
            "Epoch 17/50\n",
            "43/43 [==============================] - 12s 285ms/step - loss: 0.1089 - accuracy: 0.9679 - val_loss: 0.7243 - val_accuracy: 0.8343\n",
            "Epoch 18/50\n",
            "43/43 [==============================] - 12s 283ms/step - loss: 0.1005 - accuracy: 0.9714 - val_loss: 0.6106 - val_accuracy: 0.8319\n",
            "Epoch 19/50\n",
            "43/43 [==============================] - 12s 287ms/step - loss: 0.1061 - accuracy: 0.9682 - val_loss: 0.6038 - val_accuracy: 0.8341\n",
            "Epoch 20/50\n",
            "43/43 [==============================] - 13s 297ms/step - loss: 0.1077 - accuracy: 0.9701 - val_loss: 0.6767 - val_accuracy: 0.8287\n",
            "Epoch 21/50\n",
            "43/43 [==============================] - 12s 285ms/step - loss: 0.1032 - accuracy: 0.9714 - val_loss: 0.6537 - val_accuracy: 0.8243\n",
            "Epoch 22/50\n",
            "43/43 [==============================] - 13s 304ms/step - loss: 0.0969 - accuracy: 0.9725 - val_loss: 0.6894 - val_accuracy: 0.8283\n",
            "Epoch 23/50\n",
            "43/43 [==============================] - 13s 299ms/step - loss: 0.0906 - accuracy: 0.9742 - val_loss: 0.7960 - val_accuracy: 0.8307\n",
            "Epoch 24/50\n",
            "43/43 [==============================] - 12s 290ms/step - loss: 0.0827 - accuracy: 0.9786 - val_loss: 0.5898 - val_accuracy: 0.8280\n",
            "Epoch 25/50\n",
            "43/43 [==============================] - 13s 295ms/step - loss: 0.0911 - accuracy: 0.9732 - val_loss: 0.7743 - val_accuracy: 0.8276\n",
            "Epoch 26/50\n",
            "43/43 [==============================] - 12s 287ms/step - loss: 0.0750 - accuracy: 0.9781 - val_loss: 0.6857 - val_accuracy: 0.8276\n",
            "Epoch 27/50\n",
            "43/43 [==============================] - 12s 290ms/step - loss: 0.0802 - accuracy: 0.9783 - val_loss: 0.7814 - val_accuracy: 0.8265\n",
            "Epoch 28/50\n",
            "43/43 [==============================] - 12s 285ms/step - loss: 0.0728 - accuracy: 0.9797 - val_loss: 0.6579 - val_accuracy: 0.8235\n",
            "Epoch 29/50\n",
            "43/43 [==============================] - 12s 285ms/step - loss: 0.0840 - accuracy: 0.9758 - val_loss: 0.8070 - val_accuracy: 0.8211\n",
            "Epoch 30/50\n",
            "43/43 [==============================] - 12s 283ms/step - loss: 0.0856 - accuracy: 0.9722 - val_loss: 0.7506 - val_accuracy: 0.8241\n",
            "Epoch 31/50\n",
            "43/43 [==============================] - 12s 281ms/step - loss: 0.0763 - accuracy: 0.9783 - val_loss: 0.8699 - val_accuracy: 0.8224\n",
            "Epoch 32/50\n",
            "43/43 [==============================] - 13s 293ms/step - loss: 0.0805 - accuracy: 0.9776 - val_loss: 0.7610 - val_accuracy: 0.8187\n",
            "Epoch 33/50\n",
            "43/43 [==============================] - 12s 291ms/step - loss: 0.0813 - accuracy: 0.9762 - val_loss: 0.8235 - val_accuracy: 0.8119\n",
            "Epoch 34/50\n",
            "43/43 [==============================] - 13s 297ms/step - loss: 0.0908 - accuracy: 0.9724 - val_loss: 0.8455 - val_accuracy: 0.8202\n",
            "Epoch 35/50\n",
            "43/43 [==============================] - 12s 278ms/step - loss: 0.0723 - accuracy: 0.9802 - val_loss: 0.9712 - val_accuracy: 0.8096\n",
            "Epoch 36/50\n",
            "43/43 [==============================] - 12s 290ms/step - loss: 0.0893 - accuracy: 0.9725 - val_loss: 0.9514 - val_accuracy: 0.8215\n",
            "Epoch 37/50\n",
            "43/43 [==============================] - 13s 298ms/step - loss: 0.0752 - accuracy: 0.9788 - val_loss: 0.7737 - val_accuracy: 0.8217\n",
            "Epoch 38/50\n",
            "43/43 [==============================] - 12s 286ms/step - loss: 0.0703 - accuracy: 0.9799 - val_loss: 0.9179 - val_accuracy: 0.8193\n",
            "Epoch 39/50\n",
            "43/43 [==============================] - 12s 286ms/step - loss: 0.0856 - accuracy: 0.9747 - val_loss: 0.9343 - val_accuracy: 0.8196\n",
            "Epoch 40/50\n",
            "43/43 [==============================] - 13s 292ms/step - loss: 0.0683 - accuracy: 0.9815 - val_loss: 0.8382 - val_accuracy: 0.8213\n",
            "Epoch 41/50\n",
            "43/43 [==============================] - 12s 284ms/step - loss: 0.0735 - accuracy: 0.9786 - val_loss: 0.9892 - val_accuracy: 0.8200\n",
            "Epoch 42/50\n",
            "43/43 [==============================] - 12s 288ms/step - loss: 0.0704 - accuracy: 0.9807 - val_loss: 0.8860 - val_accuracy: 0.8219\n",
            "Epoch 43/50\n",
            "43/43 [==============================] - 12s 289ms/step - loss: 0.0825 - accuracy: 0.9759 - val_loss: 0.9469 - val_accuracy: 0.8167\n",
            "Epoch 44/50\n",
            "43/43 [==============================] - 13s 291ms/step - loss: 0.0702 - accuracy: 0.9799 - val_loss: 1.0277 - val_accuracy: 0.8181\n",
            "Epoch 45/50\n",
            "43/43 [==============================] - 12s 282ms/step - loss: 0.0714 - accuracy: 0.9790 - val_loss: 0.9287 - val_accuracy: 0.8174\n",
            "Epoch 46/50\n",
            "43/43 [==============================] - 13s 299ms/step - loss: 0.0636 - accuracy: 0.9821 - val_loss: 0.9486 - val_accuracy: 0.8131\n",
            "Epoch 47/50\n",
            "43/43 [==============================] - 13s 289ms/step - loss: 0.0666 - accuracy: 0.9817 - val_loss: 0.9436 - val_accuracy: 0.8167\n",
            "Epoch 48/50\n",
            "43/43 [==============================] - 13s 292ms/step - loss: 0.0728 - accuracy: 0.9799 - val_loss: 0.8572 - val_accuracy: 0.8154\n",
            "Epoch 49/50\n",
            "43/43 [==============================] - 13s 300ms/step - loss: 0.0664 - accuracy: 0.9823 - val_loss: 1.0315 - val_accuracy: 0.8137\n",
            "Epoch 50/50\n",
            "43/43 [==============================] - 12s 283ms/step - loss: 0.0670 - accuracy: 0.9819 - val_loss: 1.0386 - val_accuracy: 0.8144\n"
          ],
          "name": "stdout"
        }
      ]
    },
    {
      "cell_type": "code",
      "metadata": {
        "colab": {
          "base_uri": "https://localhost:8080/",
          "height": 295
        },
        "id": "X_aVVXoSMIuU",
        "outputId": "6ec70949-2b5b-40c3-80bf-3ad6c4867985"
      },
      "source": [
        "plt.plot(BiLSTM_model_history.history['accuracy'])\n",
        "plt.plot(BiLSTM_model_history.history['val_accuracy'])\n",
        "plt.title('model accuracy')\n",
        "plt.ylabel('accuracy')\n",
        "plt.xlabel('epoch')\n",
        "plt.legend(['train', 'test'], loc='upper left')\n",
        "plt.show()\n"
      ],
      "execution_count": 73,
      "outputs": [
        {
          "output_type": "display_data",
          "data": {
            "image/png": "[encoded data removed]",
            "text/plain": [
              "<Figure size 432x288 with 1 Axes>"
            ]
          },
          "metadata": {
            "tags": [],
            "needs_background": "light"
          }
        }
      ]
    },
    {
      "cell_type": "code",
      "metadata": {
        "colab": {
          "base_uri": "https://localhost:8080/",
          "height": 295
        },
        "id": "486CAbIfMMZ9",
        "outputId": "95ba35a5-5a67-4156-ca49-4d19fb43da64"
      },
      "source": [
        "# summarize history for loss\n",
        "plt.plot(BiLSTM_model_history.history['loss'])\n",
        "plt.plot(BiLSTM_model_history.history['val_loss'])\n",
        "plt.title('model loss')\n",
        "plt.ylabel('loss')\n",
        "plt.xlabel('epoch')\n",
        "plt.legend(['train', 'test'], loc='upper left')\n",
        "plt.show()"
      ],
      "execution_count": 74,
      "outputs": [
        {
          "output_type": "display_data",
          "data": {
            "image/png": "[encoded data removed]",
            "text/plain": [
              "<Figure size 432x288 with 1 Axes>"
            ]
          },
          "metadata": {
            "tags": [],
            "needs_background": "light"
          }
        }
      ]
    },
    {
      "cell_type": "code",
      "metadata": {
        "id": "aBnDtKPhMQp8"
      },
      "source": [
        "#saving the trained sentiment detection model\n",
        "BiLSTM.save('SentimentDetection_BiLSTM.h5')"
      ],
      "execution_count": 75,
      "outputs": []
    },
    {
      "cell_type": "code",
      "metadata": {
        "colab": {
          "base_uri": "https://localhost:8080/"
        },
        "id": "NvPGpPE-MWtQ",
        "outputId": "c01ea1ea-942a-4a91-dce8-19bbb074fdbd"
      },
      "source": [
        "#let's predict on a few examples\n",
        "import numpy as np\n",
        "input_text = [\"Hello there!, It's such an awesome day, Hope you are doing good\"]\n",
        "input_features = tokenizer.texts_to_sequences(input_text)\n",
        "input_features = pad_sequences(input_features,padding='post')\n",
        "class_prob = LSTM_model.predict(input_features, batch_size=1)[0]\n",
        "if np.argmax(class_prob)==0:\n",
        "  print(\"Negative Sentiment\")\n",
        "else:\n",
        "  print(\"Positive Sentiment\")"
      ],
      "execution_count": 80,
      "outputs": [
        {
          "output_type": "stream",
          "text": [
            "Positive Sentiment\n"
          ],
          "name": "stdout"
        }
      ]
    },
    {
      "cell_type": "code",
      "metadata": {
        "id": "CAxggNTHgLSX"
      },
      "source": [
        ""
      ],
      "execution_count": null,
      "outputs": []
    }
  ]
}