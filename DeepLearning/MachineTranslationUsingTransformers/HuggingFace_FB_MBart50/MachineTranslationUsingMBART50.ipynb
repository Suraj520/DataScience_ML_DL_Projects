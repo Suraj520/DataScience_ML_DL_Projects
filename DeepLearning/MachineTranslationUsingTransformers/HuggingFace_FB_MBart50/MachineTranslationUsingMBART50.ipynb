{
  "nbformat": 4,
  "nbformat_minor": 0,
  "metadata": {
    "colab": {
      "name": "MachineTranslationUsingMBART50.ipynb",
      "provenance": []
    },
    "kernelspec": {
      "name": "python3",
      "display_name": "Python 3"
    },
    "language_info": {
      "name": "python"
    },
    "widgets": {
      "application/vnd.jupyter.widget-state+json": {
        "3825056926094395aea0d8213d3bdb2f": {
          "model_module": "@jupyter-widgets/controls",
          "model_name": "HBoxModel",
          "state": {
            "_view_name": "HBoxView",
            "_dom_classes": [],
            "_model_name": "HBoxModel",
            "_view_module": "@jupyter-widgets/controls",
            "_model_module_version": "1.5.0",
            "_view_count": null,
            "_view_module_version": "1.5.0",
            "box_style": "",
            "layout": "IPY_MODEL_137dee2e4625478f83d01990e0fa4e30",
            "_model_module": "@jupyter-widgets/controls",
            "children": [
              "IPY_MODEL_18dcf06c6a754a05b5b0e4a14aebc910",
              "IPY_MODEL_e3bcef4b1e274d4abc5f22429288f0ab"
            ]
          }
        },
        "137dee2e4625478f83d01990e0fa4e30": {
          "model_module": "@jupyter-widgets/base",
          "model_name": "LayoutModel",
          "state": {
            "_view_name": "LayoutView",
            "grid_template_rows": null,
            "right": null,
            "justify_content": null,
            "_view_module": "@jupyter-widgets/base",
            "overflow": null,
            "_model_module_version": "1.2.0",
            "_view_count": null,
            "flex_flow": null,
            "width": null,
            "min_width": null,
            "border": null,
            "align_items": null,
            "bottom": null,
            "_model_module": "@jupyter-widgets/base",
            "top": null,
            "grid_column": null,
            "overflow_y": null,
            "overflow_x": null,
            "grid_auto_flow": null,
            "grid_area": null,
            "grid_template_columns": null,
            "flex": null,
            "_model_name": "LayoutModel",
            "justify_items": null,
            "grid_row": null,
            "max_height": null,
            "align_content": null,
            "visibility": null,
            "align_self": null,
            "height": null,
            "min_height": null,
            "padding": null,
            "grid_auto_rows": null,
            "grid_gap": null,
            "max_width": null,
            "order": null,
            "_view_module_version": "1.2.0",
            "grid_template_areas": null,
            "object_position": null,
            "object_fit": null,
            "grid_auto_columns": null,
            "margin": null,
            "display": null,
            "left": null
          }
        },
        "18dcf06c6a754a05b5b0e4a14aebc910": {
          "model_module": "@jupyter-widgets/controls",
          "model_name": "FloatProgressModel",
          "state": {
            "_view_name": "ProgressView",
            "style": "IPY_MODEL_0a4bbf987f2946779323e14edbcb6766",
            "_dom_classes": [],
            "description": "Downloading: 100%",
            "_model_name": "FloatProgressModel",
            "bar_style": "success",
            "max": 1429,
            "_view_module": "@jupyter-widgets/controls",
            "_model_module_version": "1.5.0",
            "value": 1429,
            "_view_count": null,
            "_view_module_version": "1.5.0",
            "orientation": "horizontal",
            "min": 0,
            "description_tooltip": null,
            "_model_module": "@jupyter-widgets/controls",
            "layout": "IPY_MODEL_b8b0274db034423eb8688a3d31e5b395"
          }
        },
        "e3bcef4b1e274d4abc5f22429288f0ab": {
          "model_module": "@jupyter-widgets/controls",
          "model_name": "HTMLModel",
          "state": {
            "_view_name": "HTMLView",
            "style": "IPY_MODEL_0b4b724126bd469dabb17130bad500b9",
            "_dom_classes": [],
            "description": "",
            "_model_name": "HTMLModel",
            "placeholder": "​",
            "_view_module": "@jupyter-widgets/controls",
            "_model_module_version": "1.5.0",
            "value": " 1.43k/1.43k [02:13&lt;00:00, 10.7B/s]",
            "_view_count": null,
            "_view_module_version": "1.5.0",
            "description_tooltip": null,
            "_model_module": "@jupyter-widgets/controls",
            "layout": "IPY_MODEL_208713ed8d584ac8a170e035958d26dc"
          }
        },
        "0a4bbf987f2946779323e14edbcb6766": {
          "model_module": "@jupyter-widgets/controls",
          "model_name": "ProgressStyleModel",
          "state": {
            "_view_name": "StyleView",
            "_model_name": "ProgressStyleModel",
            "description_width": "initial",
            "_view_module": "@jupyter-widgets/base",
            "_model_module_version": "1.5.0",
            "_view_count": null,
            "_view_module_version": "1.2.0",
            "bar_color": null,
            "_model_module": "@jupyter-widgets/controls"
          }
        },
        "b8b0274db034423eb8688a3d31e5b395": {
          "model_module": "@jupyter-widgets/base",
          "model_name": "LayoutModel",
          "state": {
            "_view_name": "LayoutView",
            "grid_template_rows": null,
            "right": null,
            "justify_content": null,
            "_view_module": "@jupyter-widgets/base",
            "overflow": null,
            "_model_module_version": "1.2.0",
            "_view_count": null,
            "flex_flow": null,
            "width": null,
            "min_width": null,
            "border": null,
            "align_items": null,
            "bottom": null,
            "_model_module": "@jupyter-widgets/base",
            "top": null,
            "grid_column": null,
            "overflow_y": null,
            "overflow_x": null,
            "grid_auto_flow": null,
            "grid_area": null,
            "grid_template_columns": null,
            "flex": null,
            "_model_name": "LayoutModel",
            "justify_items": null,
            "grid_row": null,
            "max_height": null,
            "align_content": null,
            "visibility": null,
            "align_self": null,
            "height": null,
            "min_height": null,
            "padding": null,
            "grid_auto_rows": null,
            "grid_gap": null,
            "max_width": null,
            "order": null,
            "_view_module_version": "1.2.0",
            "grid_template_areas": null,
            "object_position": null,
            "object_fit": null,
            "grid_auto_columns": null,
            "margin": null,
            "display": null,
            "left": null
          }
        },
        "0b4b724126bd469dabb17130bad500b9": {
          "model_module": "@jupyter-widgets/controls",
          "model_name": "DescriptionStyleModel",
          "state": {
            "_view_name": "StyleView",
            "_model_name": "DescriptionStyleModel",
            "description_width": "",
            "_view_module": "@jupyter-widgets/base",
            "_model_module_version": "1.5.0",
            "_view_count": null,
            "_view_module_version": "1.2.0",
            "_model_module": "@jupyter-widgets/controls"
          }
        },
        "208713ed8d584ac8a170e035958d26dc": {
          "model_module": "@jupyter-widgets/base",
          "model_name": "LayoutModel",
          "state": {
            "_view_name": "LayoutView",
            "grid_template_rows": null,
            "right": null,
            "justify_content": null,
            "_view_module": "@jupyter-widgets/base",
            "overflow": null,
            "_model_module_version": "1.2.0",
            "_view_count": null,
            "flex_flow": null,
            "width": null,
            "min_width": null,
            "border": null,
            "align_items": null,
            "bottom": null,
            "_model_module": "@jupyter-widgets/base",
            "top": null,
            "grid_column": null,
            "overflow_y": null,
            "overflow_x": null,
            "grid_auto_flow": null,
            "grid_area": null,
            "grid_template_columns": null,
            "flex": null,
            "_model_name": "LayoutModel",
            "justify_items": null,
            "grid_row": null,
            "max_height": null,
            "align_content": null,
            "visibility": null,
            "align_self": null,
            "height": null,
            "min_height": null,
            "padding": null,
            "grid_auto_rows": null,
            "grid_gap": null,
            "max_width": null,
            "order": null,
            "_view_module_version": "1.2.0",
            "grid_template_areas": null,
            "object_position": null,
            "object_fit": null,
            "grid_auto_columns": null,
            "margin": null,
            "display": null,
            "left": null
          }
        },
        "98b0ea99ce99467c881c10c2c0e8ecb7": {
          "model_module": "@jupyter-widgets/controls",
          "model_name": "HBoxModel",
          "state": {
            "_view_name": "HBoxView",
            "_dom_classes": [],
            "_model_name": "HBoxModel",
            "_view_module": "@jupyter-widgets/controls",
            "_model_module_version": "1.5.0",
            "_view_count": null,
            "_view_module_version": "1.5.0",
            "box_style": "",
            "layout": "IPY_MODEL_90bbdee5232d4063b756ef85b3840e1c",
            "_model_module": "@jupyter-widgets/controls",
            "children": [
              "IPY_MODEL_92b6937a73404d3a8223d0d9eafde24a",
              "IPY_MODEL_eafa614cc6294074b52ec7ca3693d7a2"
            ]
          }
        },
        "90bbdee5232d4063b756ef85b3840e1c": {
          "model_module": "@jupyter-widgets/base",
          "model_name": "LayoutModel",
          "state": {
            "_view_name": "LayoutView",
            "grid_template_rows": null,
            "right": null,
            "justify_content": null,
            "_view_module": "@jupyter-widgets/base",
            "overflow": null,
            "_model_module_version": "1.2.0",
            "_view_count": null,
            "flex_flow": null,
            "width": null,
            "min_width": null,
            "border": null,
            "align_items": null,
            "bottom": null,
            "_model_module": "@jupyter-widgets/base",
            "top": null,
            "grid_column": null,
            "overflow_y": null,
            "overflow_x": null,
            "grid_auto_flow": null,
            "grid_area": null,
            "grid_template_columns": null,
            "flex": null,
            "_model_name": "LayoutModel",
            "justify_items": null,
            "grid_row": null,
            "max_height": null,
            "align_content": null,
            "visibility": null,
            "align_self": null,
            "height": null,
            "min_height": null,
            "padding": null,
            "grid_auto_rows": null,
            "grid_gap": null,
            "max_width": null,
            "order": null,
            "_view_module_version": "1.2.0",
            "grid_template_areas": null,
            "object_position": null,
            "object_fit": null,
            "grid_auto_columns": null,
            "margin": null,
            "display": null,
            "left": null
          }
        },
        "92b6937a73404d3a8223d0d9eafde24a": {
          "model_module": "@jupyter-widgets/controls",
          "model_name": "FloatProgressModel",
          "state": {
            "_view_name": "ProgressView",
            "style": "IPY_MODEL_da0fb6bf741a4514b6796a7a03dd0b73",
            "_dom_classes": [],
            "description": "Downloading: 100%",
            "_model_name": "FloatProgressModel",
            "bar_style": "success",
            "max": 2444714899,
            "_view_module": "@jupyter-widgets/controls",
            "_model_module_version": "1.5.0",
            "value": 2444714899,
            "_view_count": null,
            "_view_module_version": "1.5.0",
            "orientation": "horizontal",
            "min": 0,
            "description_tooltip": null,
            "_model_module": "@jupyter-widgets/controls",
            "layout": "IPY_MODEL_1827c0dfd81f4d5892120a2508fee6b0"
          }
        },
        "eafa614cc6294074b52ec7ca3693d7a2": {
          "model_module": "@jupyter-widgets/controls",
          "model_name": "HTMLModel",
          "state": {
            "_view_name": "HTMLView",
            "style": "IPY_MODEL_80f908e1f1b940129ed51ceecb9c5073",
            "_dom_classes": [],
            "description": "",
            "_model_name": "HTMLModel",
            "placeholder": "​",
            "_view_module": "@jupyter-widgets/controls",
            "_model_module_version": "1.5.0",
            "value": " 2.44G/2.44G [02:13&lt;00:00, 18.4MB/s]",
            "_view_count": null,
            "_view_module_version": "1.5.0",
            "description_tooltip": null,
            "_model_module": "@jupyter-widgets/controls",
            "layout": "IPY_MODEL_7f68db3836a84b60b2a2c7b81cb7a824"
          }
        },
        "da0fb6bf741a4514b6796a7a03dd0b73": {
          "model_module": "@jupyter-widgets/controls",
          "model_name": "ProgressStyleModel",
          "state": {
            "_view_name": "StyleView",
            "_model_name": "ProgressStyleModel",
            "description_width": "initial",
            "_view_module": "@jupyter-widgets/base",
            "_model_module_version": "1.5.0",
            "_view_count": null,
            "_view_module_version": "1.2.0",
            "bar_color": null,
            "_model_module": "@jupyter-widgets/controls"
          }
        },
        "1827c0dfd81f4d5892120a2508fee6b0": {
          "model_module": "@jupyter-widgets/base",
          "model_name": "LayoutModel",
          "state": {
            "_view_name": "LayoutView",
            "grid_template_rows": null,
            "right": null,
            "justify_content": null,
            "_view_module": "@jupyter-widgets/base",
            "overflow": null,
            "_model_module_version": "1.2.0",
            "_view_count": null,
            "flex_flow": null,
            "width": null,
            "min_width": null,
            "border": null,
            "align_items": null,
            "bottom": null,
            "_model_module": "@jupyter-widgets/base",
            "top": null,
            "grid_column": null,
            "overflow_y": null,
            "overflow_x": null,
            "grid_auto_flow": null,
            "grid_area": null,
            "grid_template_columns": null,
            "flex": null,
            "_model_name": "LayoutModel",
            "justify_items": null,
            "grid_row": null,
            "max_height": null,
            "align_content": null,
            "visibility": null,
            "align_self": null,
            "height": null,
            "min_height": null,
            "padding": null,
            "grid_auto_rows": null,
            "grid_gap": null,
            "max_width": null,
            "order": null,
            "_view_module_version": "1.2.0",
            "grid_template_areas": null,
            "object_position": null,
            "object_fit": null,
            "grid_auto_columns": null,
            "margin": null,
            "display": null,
            "left": null
          }
        },
        "80f908e1f1b940129ed51ceecb9c5073": {
          "model_module": "@jupyter-widgets/controls",
          "model_name": "DescriptionStyleModel",
          "state": {
            "_view_name": "StyleView",
            "_model_name": "DescriptionStyleModel",
            "description_width": "",
            "_view_module": "@jupyter-widgets/base",
            "_model_module_version": "1.5.0",
            "_view_count": null,
            "_view_module_version": "1.2.0",
            "_model_module": "@jupyter-widgets/controls"
          }
        },
        "7f68db3836a84b60b2a2c7b81cb7a824": {
          "model_module": "@jupyter-widgets/base",
          "model_name": "LayoutModel",
          "state": {
            "_view_name": "LayoutView",
            "grid_template_rows": null,
            "right": null,
            "justify_content": null,
            "_view_module": "@jupyter-widgets/base",
            "overflow": null,
            "_model_module_version": "1.2.0",
            "_view_count": null,
            "flex_flow": null,
            "width": null,
            "min_width": null,
            "border": null,
            "align_items": null,
            "bottom": null,
            "_model_module": "@jupyter-widgets/base",
            "top": null,
            "grid_column": null,
            "overflow_y": null,
            "overflow_x": null,
            "grid_auto_flow": null,
            "grid_area": null,
            "grid_template_columns": null,
            "flex": null,
            "_model_name": "LayoutModel",
            "justify_items": null,
            "grid_row": null,
            "max_height": null,
            "align_content": null,
            "visibility": null,
            "align_self": null,
            "height": null,
            "min_height": null,
            "padding": null,
            "grid_auto_rows": null,
            "grid_gap": null,
            "max_width": null,
            "order": null,
            "_view_module_version": "1.2.0",
            "grid_template_areas": null,
            "object_position": null,
            "object_fit": null,
            "grid_auto_columns": null,
            "margin": null,
            "display": null,
            "left": null
          }
        },
        "6174b146d1b24fa5a39ecb851d0da34f": {
          "model_module": "@jupyter-widgets/controls",
          "model_name": "HBoxModel",
          "state": {
            "_view_name": "HBoxView",
            "_dom_classes": [],
            "_model_name": "HBoxModel",
            "_view_module": "@jupyter-widgets/controls",
            "_model_module_version": "1.5.0",
            "_view_count": null,
            "_view_module_version": "1.5.0",
            "box_style": "",
            "layout": "IPY_MODEL_3aaf8706258745b5b28363f3e1a93653",
            "_model_module": "@jupyter-widgets/controls",
            "children": [
              "IPY_MODEL_9c73003289af445b99d3f2611bcb4066",
              "IPY_MODEL_b1e00a5cc72546038ad4ee0736cb07de"
            ]
          }
        },
        "3aaf8706258745b5b28363f3e1a93653": {
          "model_module": "@jupyter-widgets/base",
          "model_name": "LayoutModel",
          "state": {
            "_view_name": "LayoutView",
            "grid_template_rows": null,
            "right": null,
            "justify_content": null,
            "_view_module": "@jupyter-widgets/base",
            "overflow": null,
            "_model_module_version": "1.2.0",
            "_view_count": null,
            "flex_flow": null,
            "width": null,
            "min_width": null,
            "border": null,
            "align_items": null,
            "bottom": null,
            "_model_module": "@jupyter-widgets/base",
            "top": null,
            "grid_column": null,
            "overflow_y": null,
            "overflow_x": null,
            "grid_auto_flow": null,
            "grid_area": null,
            "grid_template_columns": null,
            "flex": null,
            "_model_name": "LayoutModel",
            "justify_items": null,
            "grid_row": null,
            "max_height": null,
            "align_content": null,
            "visibility": null,
            "align_self": null,
            "height": null,
            "min_height": null,
            "padding": null,
            "grid_auto_rows": null,
            "grid_gap": null,
            "max_width": null,
            "order": null,
            "_view_module_version": "1.2.0",
            "grid_template_areas": null,
            "object_position": null,
            "object_fit": null,
            "grid_auto_columns": null,
            "margin": null,
            "display": null,
            "left": null
          }
        },
        "9c73003289af445b99d3f2611bcb4066": {
          "model_module": "@jupyter-widgets/controls",
          "model_name": "FloatProgressModel",
          "state": {
            "_view_name": "ProgressView",
            "style": "IPY_MODEL_cd055025cdea4650a5dbf3e5fd092dc7",
            "_dom_classes": [],
            "description": "Downloading: 100%",
            "_model_name": "FloatProgressModel",
            "bar_style": "success",
            "max": 5069051,
            "_view_module": "@jupyter-widgets/controls",
            "_model_module_version": "1.5.0",
            "value": 5069051,
            "_view_count": null,
            "_view_module_version": "1.5.0",
            "orientation": "horizontal",
            "min": 0,
            "description_tooltip": null,
            "_model_module": "@jupyter-widgets/controls",
            "layout": "IPY_MODEL_c6624b203c58434ba5cc7c755e865fab"
          }
        },
        "b1e00a5cc72546038ad4ee0736cb07de": {
          "model_module": "@jupyter-widgets/controls",
          "model_name": "HTMLModel",
          "state": {
            "_view_name": "HTMLView",
            "style": "IPY_MODEL_762641e088334d2f808763ee88e6e36c",
            "_dom_classes": [],
            "description": "",
            "_model_name": "HTMLModel",
            "placeholder": "​",
            "_view_module": "@jupyter-widgets/controls",
            "_model_module_version": "1.5.0",
            "value": " 5.07M/5.07M [00:01&lt;00:00, 2.68MB/s]",
            "_view_count": null,
            "_view_module_version": "1.5.0",
            "description_tooltip": null,
            "_model_module": "@jupyter-widgets/controls",
            "layout": "IPY_MODEL_20cf2c8d80e74b6796f5e3b2fb99202c"
          }
        },
        "cd055025cdea4650a5dbf3e5fd092dc7": {
          "model_module": "@jupyter-widgets/controls",
          "model_name": "ProgressStyleModel",
          "state": {
            "_view_name": "StyleView",
            "_model_name": "ProgressStyleModel",
            "description_width": "initial",
            "_view_module": "@jupyter-widgets/base",
            "_model_module_version": "1.5.0",
            "_view_count": null,
            "_view_module_version": "1.2.0",
            "bar_color": null,
            "_model_module": "@jupyter-widgets/controls"
          }
        },
        "c6624b203c58434ba5cc7c755e865fab": {
          "model_module": "@jupyter-widgets/base",
          "model_name": "LayoutModel",
          "state": {
            "_view_name": "LayoutView",
            "grid_template_rows": null,
            "right": null,
            "justify_content": null,
            "_view_module": "@jupyter-widgets/base",
            "overflow": null,
            "_model_module_version": "1.2.0",
            "_view_count": null,
            "flex_flow": null,
            "width": null,
            "min_width": null,
            "border": null,
            "align_items": null,
            "bottom": null,
            "_model_module": "@jupyter-widgets/base",
            "top": null,
            "grid_column": null,
            "overflow_y": null,
            "overflow_x": null,
            "grid_auto_flow": null,
            "grid_area": null,
            "grid_template_columns": null,
            "flex": null,
            "_model_name": "LayoutModel",
            "justify_items": null,
            "grid_row": null,
            "max_height": null,
            "align_content": null,
            "visibility": null,
            "align_self": null,
            "height": null,
            "min_height": null,
            "padding": null,
            "grid_auto_rows": null,
            "grid_gap": null,
            "max_width": null,
            "order": null,
            "_view_module_version": "1.2.0",
            "grid_template_areas": null,
            "object_position": null,
            "object_fit": null,
            "grid_auto_columns": null,
            "margin": null,
            "display": null,
            "left": null
          }
        },
        "762641e088334d2f808763ee88e6e36c": {
          "model_module": "@jupyter-widgets/controls",
          "model_name": "DescriptionStyleModel",
          "state": {
            "_view_name": "StyleView",
            "_model_name": "DescriptionStyleModel",
            "description_width": "",
            "_view_module": "@jupyter-widgets/base",
            "_model_module_version": "1.5.0",
            "_view_count": null,
            "_view_module_version": "1.2.0",
            "_model_module": "@jupyter-widgets/controls"
          }
        },
        "20cf2c8d80e74b6796f5e3b2fb99202c": {
          "model_module": "@jupyter-widgets/base",
          "model_name": "LayoutModel",
          "state": {
            "_view_name": "LayoutView",
            "grid_template_rows": null,
            "right": null,
            "justify_content": null,
            "_view_module": "@jupyter-widgets/base",
            "overflow": null,
            "_model_module_version": "1.2.0",
            "_view_count": null,
            "flex_flow": null,
            "width": null,
            "min_width": null,
            "border": null,
            "align_items": null,
            "bottom": null,
            "_model_module": "@jupyter-widgets/base",
            "top": null,
            "grid_column": null,
            "overflow_y": null,
            "overflow_x": null,
            "grid_auto_flow": null,
            "grid_area": null,
            "grid_template_columns": null,
            "flex": null,
            "_model_name": "LayoutModel",
            "justify_items": null,
            "grid_row": null,
            "max_height": null,
            "align_content": null,
            "visibility": null,
            "align_self": null,
            "height": null,
            "min_height": null,
            "padding": null,
            "grid_auto_rows": null,
            "grid_gap": null,
            "max_width": null,
            "order": null,
            "_view_module_version": "1.2.0",
            "grid_template_areas": null,
            "object_position": null,
            "object_fit": null,
            "grid_auto_columns": null,
            "margin": null,
            "display": null,
            "left": null
          }
        },
        "b65225fd9d614c4e8079e4e3872104ab": {
          "model_module": "@jupyter-widgets/controls",
          "model_name": "HBoxModel",
          "state": {
            "_view_name": "HBoxView",
            "_dom_classes": [],
            "_model_name": "HBoxModel",
            "_view_module": "@jupyter-widgets/controls",
            "_model_module_version": "1.5.0",
            "_view_count": null,
            "_view_module_version": "1.5.0",
            "box_style": "",
            "layout": "IPY_MODEL_fe0f2e3239ce4ae2af14673b5a4a6171",
            "_model_module": "@jupyter-widgets/controls",
            "children": [
              "IPY_MODEL_23791d0749cb4a79ae62a32151928582",
              "IPY_MODEL_7f621957004f494fb3ac84bd6602a3bc"
            ]
          }
        },
        "fe0f2e3239ce4ae2af14673b5a4a6171": {
          "model_module": "@jupyter-widgets/base",
          "model_name": "LayoutModel",
          "state": {
            "_view_name": "LayoutView",
            "grid_template_rows": null,
            "right": null,
            "justify_content": null,
            "_view_module": "@jupyter-widgets/base",
            "overflow": null,
            "_model_module_version": "1.2.0",
            "_view_count": null,
            "flex_flow": null,
            "width": null,
            "min_width": null,
            "border": null,
            "align_items": null,
            "bottom": null,
            "_model_module": "@jupyter-widgets/base",
            "top": null,
            "grid_column": null,
            "overflow_y": null,
            "overflow_x": null,
            "grid_auto_flow": null,
            "grid_area": null,
            "grid_template_columns": null,
            "flex": null,
            "_model_name": "LayoutModel",
            "justify_items": null,
            "grid_row": null,
            "max_height": null,
            "align_content": null,
            "visibility": null,
            "align_self": null,
            "height": null,
            "min_height": null,
            "padding": null,
            "grid_auto_rows": null,
            "grid_gap": null,
            "max_width": null,
            "order": null,
            "_view_module_version": "1.2.0",
            "grid_template_areas": null,
            "object_position": null,
            "object_fit": null,
            "grid_auto_columns": null,
            "margin": null,
            "display": null,
            "left": null
          }
        },
        "23791d0749cb4a79ae62a32151928582": {
          "model_module": "@jupyter-widgets/controls",
          "model_name": "FloatProgressModel",
          "state": {
            "_view_name": "ProgressView",
            "style": "IPY_MODEL_3a1c91244e834d71ad992ecbd48147e1",
            "_dom_classes": [],
            "description": "Downloading: 100%",
            "_model_name": "FloatProgressModel",
            "bar_style": "success",
            "max": 717,
            "_view_module": "@jupyter-widgets/controls",
            "_model_module_version": "1.5.0",
            "value": 717,
            "_view_count": null,
            "_view_module_version": "1.5.0",
            "orientation": "horizontal",
            "min": 0,
            "description_tooltip": null,
            "_model_module": "@jupyter-widgets/controls",
            "layout": "IPY_MODEL_56984e42ae8246aea0325b236a305e53"
          }
        },
        "7f621957004f494fb3ac84bd6602a3bc": {
          "model_module": "@jupyter-widgets/controls",
          "model_name": "HTMLModel",
          "state": {
            "_view_name": "HTMLView",
            "style": "IPY_MODEL_5b455691149849a4a8bc0053d4f49ca9",
            "_dom_classes": [],
            "description": "",
            "_model_name": "HTMLModel",
            "placeholder": "​",
            "_view_module": "@jupyter-widgets/controls",
            "_model_module_version": "1.5.0",
            "value": " 717/717 [00:00&lt;00:00, 1.17kB/s]",
            "_view_count": null,
            "_view_module_version": "1.5.0",
            "description_tooltip": null,
            "_model_module": "@jupyter-widgets/controls",
            "layout": "IPY_MODEL_75486341b9734b4789d9ffe76926757a"
          }
        },
        "3a1c91244e834d71ad992ecbd48147e1": {
          "model_module": "@jupyter-widgets/controls",
          "model_name": "ProgressStyleModel",
          "state": {
            "_view_name": "StyleView",
            "_model_name": "ProgressStyleModel",
            "description_width": "initial",
            "_view_module": "@jupyter-widgets/base",
            "_model_module_version": "1.5.0",
            "_view_count": null,
            "_view_module_version": "1.2.0",
            "bar_color": null,
            "_model_module": "@jupyter-widgets/controls"
          }
        },
        "56984e42ae8246aea0325b236a305e53": {
          "model_module": "@jupyter-widgets/base",
          "model_name": "LayoutModel",
          "state": {
            "_view_name": "LayoutView",
            "grid_template_rows": null,
            "right": null,
            "justify_content": null,
            "_view_module": "@jupyter-widgets/base",
            "overflow": null,
            "_model_module_version": "1.2.0",
            "_view_count": null,
            "flex_flow": null,
            "width": null,
            "min_width": null,
            "border": null,
            "align_items": null,
            "bottom": null,
            "_model_module": "@jupyter-widgets/base",
            "top": null,
            "grid_column": null,
            "overflow_y": null,
            "overflow_x": null,
            "grid_auto_flow": null,
            "grid_area": null,
            "grid_template_columns": null,
            "flex": null,
            "_model_name": "LayoutModel",
            "justify_items": null,
            "grid_row": null,
            "max_height": null,
            "align_content": null,
            "visibility": null,
            "align_self": null,
            "height": null,
            "min_height": null,
            "padding": null,
            "grid_auto_rows": null,
            "grid_gap": null,
            "max_width": null,
            "order": null,
            "_view_module_version": "1.2.0",
            "grid_template_areas": null,
            "object_position": null,
            "object_fit": null,
            "grid_auto_columns": null,
            "margin": null,
            "display": null,
            "left": null
          }
        },
        "5b455691149849a4a8bc0053d4f49ca9": {
          "model_module": "@jupyter-widgets/controls",
          "model_name": "DescriptionStyleModel",
          "state": {
            "_view_name": "StyleView",
            "_model_name": "DescriptionStyleModel",
            "description_width": "",
            "_view_module": "@jupyter-widgets/base",
            "_model_module_version": "1.5.0",
            "_view_count": null,
            "_view_module_version": "1.2.0",
            "_model_module": "@jupyter-widgets/controls"
          }
        },
        "75486341b9734b4789d9ffe76926757a": {
          "model_module": "@jupyter-widgets/base",
          "model_name": "LayoutModel",
          "state": {
            "_view_name": "LayoutView",
            "grid_template_rows": null,
            "right": null,
            "justify_content": null,
            "_view_module": "@jupyter-widgets/base",
            "overflow": null,
            "_model_module_version": "1.2.0",
            "_view_count": null,
            "flex_flow": null,
            "width": null,
            "min_width": null,
            "border": null,
            "align_items": null,
            "bottom": null,
            "_model_module": "@jupyter-widgets/base",
            "top": null,
            "grid_column": null,
            "overflow_y": null,
            "overflow_x": null,
            "grid_auto_flow": null,
            "grid_area": null,
            "grid_template_columns": null,
            "flex": null,
            "_model_name": "LayoutModel",
            "justify_items": null,
            "grid_row": null,
            "max_height": null,
            "align_content": null,
            "visibility": null,
            "align_self": null,
            "height": null,
            "min_height": null,
            "padding": null,
            "grid_auto_rows": null,
            "grid_gap": null,
            "max_width": null,
            "order": null,
            "_view_module_version": "1.2.0",
            "grid_template_areas": null,
            "object_position": null,
            "object_fit": null,
            "grid_auto_columns": null,
            "margin": null,
            "display": null,
            "left": null
          }
        },
        "9c22981800fc47c6910299981ac85fab": {
          "model_module": "@jupyter-widgets/controls",
          "model_name": "HBoxModel",
          "state": {
            "_view_name": "HBoxView",
            "_dom_classes": [],
            "_model_name": "HBoxModel",
            "_view_module": "@jupyter-widgets/controls",
            "_model_module_version": "1.5.0",
            "_view_count": null,
            "_view_module_version": "1.5.0",
            "box_style": "",
            "layout": "IPY_MODEL_53efb2f2598f42b8997d617e94f276fc",
            "_model_module": "@jupyter-widgets/controls",
            "children": [
              "IPY_MODEL_f716dc62d1bc4c7eb62e9a31ca3e34ec",
              "IPY_MODEL_a866f4c5cc324cc1a830e763e726357a"
            ]
          }
        },
        "53efb2f2598f42b8997d617e94f276fc": {
          "model_module": "@jupyter-widgets/base",
          "model_name": "LayoutModel",
          "state": {
            "_view_name": "LayoutView",
            "grid_template_rows": null,
            "right": null,
            "justify_content": null,
            "_view_module": "@jupyter-widgets/base",
            "overflow": null,
            "_model_module_version": "1.2.0",
            "_view_count": null,
            "flex_flow": null,
            "width": null,
            "min_width": null,
            "border": null,
            "align_items": null,
            "bottom": null,
            "_model_module": "@jupyter-widgets/base",
            "top": null,
            "grid_column": null,
            "overflow_y": null,
            "overflow_x": null,
            "grid_auto_flow": null,
            "grid_area": null,
            "grid_template_columns": null,
            "flex": null,
            "_model_name": "LayoutModel",
            "justify_items": null,
            "grid_row": null,
            "max_height": null,
            "align_content": null,
            "visibility": null,
            "align_self": null,
            "height": null,
            "min_height": null,
            "padding": null,
            "grid_auto_rows": null,
            "grid_gap": null,
            "max_width": null,
            "order": null,
            "_view_module_version": "1.2.0",
            "grid_template_areas": null,
            "object_position": null,
            "object_fit": null,
            "grid_auto_columns": null,
            "margin": null,
            "display": null,
            "left": null
          }
        },
        "f716dc62d1bc4c7eb62e9a31ca3e34ec": {
          "model_module": "@jupyter-widgets/controls",
          "model_name": "FloatProgressModel",
          "state": {
            "_view_name": "ProgressView",
            "style": "IPY_MODEL_a39a650a02fc476bafc06dcce67e6a85",
            "_dom_classes": [],
            "description": "Downloading: 100%",
            "_model_name": "FloatProgressModel",
            "bar_style": "success",
            "max": 528,
            "_view_module": "@jupyter-widgets/controls",
            "_model_module_version": "1.5.0",
            "value": 528,
            "_view_count": null,
            "_view_module_version": "1.5.0",
            "orientation": "horizontal",
            "min": 0,
            "description_tooltip": null,
            "_model_module": "@jupyter-widgets/controls",
            "layout": "IPY_MODEL_24933d2dda624fc995cfaa0ded61d270"
          }
        },
        "a866f4c5cc324cc1a830e763e726357a": {
          "model_module": "@jupyter-widgets/controls",
          "model_name": "HTMLModel",
          "state": {
            "_view_name": "HTMLView",
            "style": "IPY_MODEL_68ac6c39527d4d4ebcc50fdbf3cc6a48",
            "_dom_classes": [],
            "description": "",
            "_model_name": "HTMLModel",
            "placeholder": "​",
            "_view_module": "@jupyter-widgets/controls",
            "_model_module_version": "1.5.0",
            "value": " 528/528 [00:01&lt;00:00, 446B/s]",
            "_view_count": null,
            "_view_module_version": "1.5.0",
            "description_tooltip": null,
            "_model_module": "@jupyter-widgets/controls",
            "layout": "IPY_MODEL_51cb5ca97b954795bc6ddce8e6de5f5b"
          }
        },
        "a39a650a02fc476bafc06dcce67e6a85": {
          "model_module": "@jupyter-widgets/controls",
          "model_name": "ProgressStyleModel",
          "state": {
            "_view_name": "StyleView",
            "_model_name": "ProgressStyleModel",
            "description_width": "initial",
            "_view_module": "@jupyter-widgets/base",
            "_model_module_version": "1.5.0",
            "_view_count": null,
            "_view_module_version": "1.2.0",
            "bar_color": null,
            "_model_module": "@jupyter-widgets/controls"
          }
        },
        "24933d2dda624fc995cfaa0ded61d270": {
          "model_module": "@jupyter-widgets/base",
          "model_name": "LayoutModel",
          "state": {
            "_view_name": "LayoutView",
            "grid_template_rows": null,
            "right": null,
            "justify_content": null,
            "_view_module": "@jupyter-widgets/base",
            "overflow": null,
            "_model_module_version": "1.2.0",
            "_view_count": null,
            "flex_flow": null,
            "width": null,
            "min_width": null,
            "border": null,
            "align_items": null,
            "bottom": null,
            "_model_module": "@jupyter-widgets/base",
            "top": null,
            "grid_column": null,
            "overflow_y": null,
            "overflow_x": null,
            "grid_auto_flow": null,
            "grid_area": null,
            "grid_template_columns": null,
            "flex": null,
            "_model_name": "LayoutModel",
            "justify_items": null,
            "grid_row": null,
            "max_height": null,
            "align_content": null,
            "visibility": null,
            "align_self": null,
            "height": null,
            "min_height": null,
            "padding": null,
            "grid_auto_rows": null,
            "grid_gap": null,
            "max_width": null,
            "order": null,
            "_view_module_version": "1.2.0",
            "grid_template_areas": null,
            "object_position": null,
            "object_fit": null,
            "grid_auto_columns": null,
            "margin": null,
            "display": null,
            "left": null
          }
        },
        "68ac6c39527d4d4ebcc50fdbf3cc6a48": {
          "model_module": "@jupyter-widgets/controls",
          "model_name": "DescriptionStyleModel",
          "state": {
            "_view_name": "StyleView",
            "_model_name": "DescriptionStyleModel",
            "description_width": "",
            "_view_module": "@jupyter-widgets/base",
            "_model_module_version": "1.5.0",
            "_view_count": null,
            "_view_module_version": "1.2.0",
            "_model_module": "@jupyter-widgets/controls"
          }
        },
        "51cb5ca97b954795bc6ddce8e6de5f5b": {
          "model_module": "@jupyter-widgets/base",
          "model_name": "LayoutModel",
          "state": {
            "_view_name": "LayoutView",
            "grid_template_rows": null,
            "right": null,
            "justify_content": null,
            "_view_module": "@jupyter-widgets/base",
            "overflow": null,
            "_model_module_version": "1.2.0",
            "_view_count": null,
            "flex_flow": null,
            "width": null,
            "min_width": null,
            "border": null,
            "align_items": null,
            "bottom": null,
            "_model_module": "@jupyter-widgets/base",
            "top": null,
            "grid_column": null,
            "overflow_y": null,
            "overflow_x": null,
            "grid_auto_flow": null,
            "grid_area": null,
            "grid_template_columns": null,
            "flex": null,
            "_model_name": "LayoutModel",
            "justify_items": null,
            "grid_row": null,
            "max_height": null,
            "align_content": null,
            "visibility": null,
            "align_self": null,
            "height": null,
            "min_height": null,
            "padding": null,
            "grid_auto_rows": null,
            "grid_gap": null,
            "max_width": null,
            "order": null,
            "_view_module_version": "1.2.0",
            "grid_template_areas": null,
            "object_position": null,
            "object_fit": null,
            "grid_auto_columns": null,
            "margin": null,
            "display": null,
            "left": null
          }
        }
      }
    }
  },
  "cells": [
    {
      "cell_type": "markdown",
      "metadata": {
        "id": "gqNHQD3uLWOX"
      },
      "source": [
        "# About\n",
        "Using mBART-50 for machine translation."
      ]
    },
    {
      "cell_type": "code",
      "metadata": {
        "colab": {
          "base_uri": "https://localhost:8080/"
        },
        "id": "ah4EHjUBLeo7",
        "outputId": "b3667255-893d-4e25-a09c-dd3b5455814f"
      },
      "source": [
        "!pip install -U transformers\n",
        "from transformers import MBartForConditionalGeneration, MBart50TokenizerFast"
      ],
      "execution_count": 23,
      "outputs": [
        {
          "output_type": "stream",
          "text": [
            "Requirement already up-to-date: transformers in /usr/local/lib/python3.7/dist-packages (4.5.1)\n",
            "Requirement already satisfied, skipping upgrade: sacremoses in /usr/local/lib/python3.7/dist-packages (from transformers) (0.0.45)\n",
            "Requirement already satisfied, skipping upgrade: requests in /usr/local/lib/python3.7/dist-packages (from transformers) (2.23.0)\n",
            "Requirement already satisfied, skipping upgrade: importlib-metadata; python_version < \"3.8\" in /usr/local/lib/python3.7/dist-packages (from transformers) (3.10.1)\n",
            "Requirement already satisfied, skipping upgrade: regex!=2019.12.17 in /usr/local/lib/python3.7/dist-packages (from transformers) (2019.12.20)\n",
            "Requirement already satisfied, skipping upgrade: filelock in /usr/local/lib/python3.7/dist-packages (from transformers) (3.0.12)\n",
            "Requirement already satisfied, skipping upgrade: packaging in /usr/local/lib/python3.7/dist-packages (from transformers) (20.9)\n",
            "Requirement already satisfied, skipping upgrade: tqdm>=4.27 in /usr/local/lib/python3.7/dist-packages (from transformers) (4.41.1)\n",
            "Requirement already satisfied, skipping upgrade: numpy>=1.17 in /usr/local/lib/python3.7/dist-packages (from transformers) (1.19.5)\n",
            "Requirement already satisfied, skipping upgrade: tokenizers<0.11,>=0.10.1 in /usr/local/lib/python3.7/dist-packages (from transformers) (0.10.2)\n",
            "Requirement already satisfied, skipping upgrade: joblib in /usr/local/lib/python3.7/dist-packages (from sacremoses->transformers) (1.0.1)\n",
            "Requirement already satisfied, skipping upgrade: click in /usr/local/lib/python3.7/dist-packages (from sacremoses->transformers) (7.1.2)\n",
            "Requirement already satisfied, skipping upgrade: six in /usr/local/lib/python3.7/dist-packages (from sacremoses->transformers) (1.15.0)\n",
            "Requirement already satisfied, skipping upgrade: idna<3,>=2.5 in /usr/local/lib/python3.7/dist-packages (from requests->transformers) (2.10)\n",
            "Requirement already satisfied, skipping upgrade: urllib3!=1.25.0,!=1.25.1,<1.26,>=1.21.1 in /usr/local/lib/python3.7/dist-packages (from requests->transformers) (1.24.3)\n",
            "Requirement already satisfied, skipping upgrade: certifi>=2017.4.17 in /usr/local/lib/python3.7/dist-packages (from requests->transformers) (2020.12.5)\n",
            "Requirement already satisfied, skipping upgrade: chardet<4,>=3.0.2 in /usr/local/lib/python3.7/dist-packages (from requests->transformers) (3.0.4)\n",
            "Requirement already satisfied, skipping upgrade: typing-extensions>=3.6.4; python_version < \"3.8\" in /usr/local/lib/python3.7/dist-packages (from importlib-metadata; python_version < \"3.8\"->transformers) (3.7.4.3)\n",
            "Requirement already satisfied, skipping upgrade: zipp>=0.5 in /usr/local/lib/python3.7/dist-packages (from importlib-metadata; python_version < \"3.8\"->transformers) (3.4.1)\n",
            "Requirement already satisfied, skipping upgrade: pyparsing>=2.0.2 in /usr/local/lib/python3.7/dist-packages (from packaging->transformers) (2.4.7)\n"
          ],
          "name": "stdout"
        }
      ]
    },
    {
      "cell_type": "code",
      "metadata": {
        "colab": {
          "base_uri": "https://localhost:8080/"
        },
        "id": "i4jsCZ_xVJnd",
        "outputId": "ee18e572-a14f-4e71-af7d-aa99b2dd44b7"
      },
      "source": [
        "!pip install sentencepiece"
      ],
      "execution_count": 6,
      "outputs": [
        {
          "output_type": "stream",
          "text": [
            "Collecting sentencepiece\n",
            "\u001b[?25l  Downloading https://files.pythonhosted.org/packages/f5/99/e0808cb947ba10f575839c43e8fafc9cc44e4a7a2c8f79c60db48220a577/sentencepiece-0.1.95-cp37-cp37m-manylinux2014_x86_64.whl (1.2MB)\n",
            "\r\u001b[K     |▎                               | 10kB 14.5MB/s eta 0:00:01\r\u001b[K     |▌                               | 20kB 20.8MB/s eta 0:00:01\r\u001b[K     |▉                               | 30kB 24.4MB/s eta 0:00:01\r\u001b[K     |█                               | 40kB 27.4MB/s eta 0:00:01\r\u001b[K     |█▍                              | 51kB 19.2MB/s eta 0:00:01\r\u001b[K     |█▋                              | 61kB 16.0MB/s eta 0:00:01\r\u001b[K     |██                              | 71kB 14.1MB/s eta 0:00:01\r\u001b[K     |██▏                             | 81kB 12.7MB/s eta 0:00:01\r\u001b[K     |██▌                             | 92kB 13.4MB/s eta 0:00:01\r\u001b[K     |██▊                             | 102kB 12.6MB/s eta 0:00:01\r\u001b[K     |███                             | 112kB 12.6MB/s eta 0:00:01\r\u001b[K     |███▎                            | 122kB 12.6MB/s eta 0:00:01\r\u001b[K     |███▌                            | 133kB 12.6MB/s eta 0:00:01\r\u001b[K     |███▉                            | 143kB 12.6MB/s eta 0:00:01\r\u001b[K     |████                            | 153kB 12.6MB/s eta 0:00:01\r\u001b[K     |████▍                           | 163kB 12.6MB/s eta 0:00:01\r\u001b[K     |████▋                           | 174kB 12.6MB/s eta 0:00:01\r\u001b[K     |█████                           | 184kB 12.6MB/s eta 0:00:01\r\u001b[K     |█████▏                          | 194kB 12.6MB/s eta 0:00:01\r\u001b[K     |█████▌                          | 204kB 12.6MB/s eta 0:00:01\r\u001b[K     |█████▊                          | 215kB 12.6MB/s eta 0:00:01\r\u001b[K     |██████                          | 225kB 12.6MB/s eta 0:00:01\r\u001b[K     |██████▎                         | 235kB 12.6MB/s eta 0:00:01\r\u001b[K     |██████▌                         | 245kB 12.6MB/s eta 0:00:01\r\u001b[K     |██████▉                         | 256kB 12.6MB/s eta 0:00:01\r\u001b[K     |███████                         | 266kB 12.6MB/s eta 0:00:01\r\u001b[K     |███████▍                        | 276kB 12.6MB/s eta 0:00:01\r\u001b[K     |███████▋                        | 286kB 12.6MB/s eta 0:00:01\r\u001b[K     |████████                        | 296kB 12.6MB/s eta 0:00:01\r\u001b[K     |████████▏                       | 307kB 12.6MB/s eta 0:00:01\r\u001b[K     |████████▍                       | 317kB 12.6MB/s eta 0:00:01\r\u001b[K     |████████▊                       | 327kB 12.6MB/s eta 0:00:01\r\u001b[K     |█████████                       | 337kB 12.6MB/s eta 0:00:01\r\u001b[K     |█████████▎                      | 348kB 12.6MB/s eta 0:00:01\r\u001b[K     |█████████▌                      | 358kB 12.6MB/s eta 0:00:01\r\u001b[K     |█████████▉                      | 368kB 12.6MB/s eta 0:00:01\r\u001b[K     |██████████                      | 378kB 12.6MB/s eta 0:00:01\r\u001b[K     |██████████▍                     | 389kB 12.6MB/s eta 0:00:01\r\u001b[K     |██████████▋                     | 399kB 12.6MB/s eta 0:00:01\r\u001b[K     |███████████                     | 409kB 12.6MB/s eta 0:00:01\r\u001b[K     |███████████▏                    | 419kB 12.6MB/s eta 0:00:01\r\u001b[K     |███████████▍                    | 430kB 12.6MB/s eta 0:00:01\r\u001b[K     |███████████▊                    | 440kB 12.6MB/s eta 0:00:01\r\u001b[K     |████████████                    | 450kB 12.6MB/s eta 0:00:01\r\u001b[K     |████████████▎                   | 460kB 12.6MB/s eta 0:00:01\r\u001b[K     |████████████▌                   | 471kB 12.6MB/s eta 0:00:01\r\u001b[K     |████████████▉                   | 481kB 12.6MB/s eta 0:00:01\r\u001b[K     |█████████████                   | 491kB 12.6MB/s eta 0:00:01\r\u001b[K     |█████████████▍                  | 501kB 12.6MB/s eta 0:00:01\r\u001b[K     |█████████████▋                  | 512kB 12.6MB/s eta 0:00:01\r\u001b[K     |█████████████▉                  | 522kB 12.6MB/s eta 0:00:01\r\u001b[K     |██████████████▏                 | 532kB 12.6MB/s eta 0:00:01\r\u001b[K     |██████████████▍                 | 542kB 12.6MB/s eta 0:00:01\r\u001b[K     |██████████████▊                 | 552kB 12.6MB/s eta 0:00:01\r\u001b[K     |███████████████                 | 563kB 12.6MB/s eta 0:00:01\r\u001b[K     |███████████████▎                | 573kB 12.6MB/s eta 0:00:01\r\u001b[K     |███████████████▌                | 583kB 12.6MB/s eta 0:00:01\r\u001b[K     |███████████████▉                | 593kB 12.6MB/s eta 0:00:01\r\u001b[K     |████████████████                | 604kB 12.6MB/s eta 0:00:01\r\u001b[K     |████████████████▍               | 614kB 12.6MB/s eta 0:00:01\r\u001b[K     |████████████████▋               | 624kB 12.6MB/s eta 0:00:01\r\u001b[K     |████████████████▉               | 634kB 12.6MB/s eta 0:00:01\r\u001b[K     |█████████████████▏              | 645kB 12.6MB/s eta 0:00:01\r\u001b[K     |█████████████████▍              | 655kB 12.6MB/s eta 0:00:01\r\u001b[K     |█████████████████▊              | 665kB 12.6MB/s eta 0:00:01\r\u001b[K     |██████████████████              | 675kB 12.6MB/s eta 0:00:01\r\u001b[K     |██████████████████▎             | 686kB 12.6MB/s eta 0:00:01\r\u001b[K     |██████████████████▌             | 696kB 12.6MB/s eta 0:00:01\r\u001b[K     |██████████████████▉             | 706kB 12.6MB/s eta 0:00:01\r\u001b[K     |███████████████████             | 716kB 12.6MB/s eta 0:00:01\r\u001b[K     |███████████████████▎            | 727kB 12.6MB/s eta 0:00:01\r\u001b[K     |███████████████████▋            | 737kB 12.6MB/s eta 0:00:01\r\u001b[K     |███████████████████▉            | 747kB 12.6MB/s eta 0:00:01\r\u001b[K     |████████████████████▏           | 757kB 12.6MB/s eta 0:00:01\r\u001b[K     |████████████████████▍           | 768kB 12.6MB/s eta 0:00:01\r\u001b[K     |████████████████████▊           | 778kB 12.6MB/s eta 0:00:01\r\u001b[K     |█████████████████████           | 788kB 12.6MB/s eta 0:00:01\r\u001b[K     |█████████████████████▎          | 798kB 12.6MB/s eta 0:00:01\r\u001b[K     |█████████████████████▌          | 808kB 12.6MB/s eta 0:00:01\r\u001b[K     |█████████████████████▉          | 819kB 12.6MB/s eta 0:00:01\r\u001b[K     |██████████████████████          | 829kB 12.6MB/s eta 0:00:01\r\u001b[K     |██████████████████████▎         | 839kB 12.6MB/s eta 0:00:01\r\u001b[K     |██████████████████████▋         | 849kB 12.6MB/s eta 0:00:01\r\u001b[K     |██████████████████████▉         | 860kB 12.6MB/s eta 0:00:01\r\u001b[K     |███████████████████████▏        | 870kB 12.6MB/s eta 0:00:01\r\u001b[K     |███████████████████████▍        | 880kB 12.6MB/s eta 0:00:01\r\u001b[K     |███████████████████████▊        | 890kB 12.6MB/s eta 0:00:01\r\u001b[K     |████████████████████████        | 901kB 12.6MB/s eta 0:00:01\r\u001b[K     |████████████████████████▎       | 911kB 12.6MB/s eta 0:00:01\r\u001b[K     |████████████████████████▌       | 921kB 12.6MB/s eta 0:00:01\r\u001b[K     |████████████████████████▊       | 931kB 12.6MB/s eta 0:00:01\r\u001b[K     |█████████████████████████       | 942kB 12.6MB/s eta 0:00:01\r\u001b[K     |█████████████████████████▎      | 952kB 12.6MB/s eta 0:00:01\r\u001b[K     |█████████████████████████▋      | 962kB 12.6MB/s eta 0:00:01\r\u001b[K     |█████████████████████████▉      | 972kB 12.6MB/s eta 0:00:01\r\u001b[K     |██████████████████████████▏     | 983kB 12.6MB/s eta 0:00:01\r\u001b[K     |██████████████████████████▍     | 993kB 12.6MB/s eta 0:00:01\r\u001b[K     |██████████████████████████▊     | 1.0MB 12.6MB/s eta 0:00:01\r\u001b[K     |███████████████████████████     | 1.0MB 12.6MB/s eta 0:00:01\r\u001b[K     |███████████████████████████▎    | 1.0MB 12.6MB/s eta 0:00:01\r\u001b[K     |███████████████████████████▌    | 1.0MB 12.6MB/s eta 0:00:01\r\u001b[K     |███████████████████████████▊    | 1.0MB 12.6MB/s eta 0:00:01\r\u001b[K     |████████████████████████████    | 1.1MB 12.6MB/s eta 0:00:01\r\u001b[K     |████████████████████████████▎   | 1.1MB 12.6MB/s eta 0:00:01\r\u001b[K     |████████████████████████████▋   | 1.1MB 12.6MB/s eta 0:00:01\r\u001b[K     |████████████████████████████▉   | 1.1MB 12.6MB/s eta 0:00:01\r\u001b[K     |█████████████████████████████▏  | 1.1MB 12.6MB/s eta 0:00:01\r\u001b[K     |█████████████████████████████▍  | 1.1MB 12.6MB/s eta 0:00:01\r\u001b[K     |█████████████████████████████▊  | 1.1MB 12.6MB/s eta 0:00:01\r\u001b[K     |██████████████████████████████  | 1.1MB 12.6MB/s eta 0:00:01\r\u001b[K     |██████████████████████████████▏ | 1.1MB 12.6MB/s eta 0:00:01\r\u001b[K     |██████████████████████████████▌ | 1.1MB 12.6MB/s eta 0:00:01\r\u001b[K     |██████████████████████████████▊ | 1.2MB 12.6MB/s eta 0:00:01\r\u001b[K     |███████████████████████████████ | 1.2MB 12.6MB/s eta 0:00:01\r\u001b[K     |███████████████████████████████▎| 1.2MB 12.6MB/s eta 0:00:01\r\u001b[K     |███████████████████████████████▋| 1.2MB 12.6MB/s eta 0:00:01\r\u001b[K     |███████████████████████████████▉| 1.2MB 12.6MB/s eta 0:00:01\r\u001b[K     |████████████████████████████████| 1.2MB 12.6MB/s \n",
            "\u001b[?25hInstalling collected packages: sentencepiece\n",
            "Successfully installed sentencepiece-0.1.95\n"
          ],
          "name": "stdout"
        }
      ]
    },
    {
      "cell_type": "code",
      "metadata": {
        "colab": {
          "base_uri": "https://localhost:8080/",
          "height": 114,
          "referenced_widgets": [
            "3825056926094395aea0d8213d3bdb2f",
            "137dee2e4625478f83d01990e0fa4e30",
            "18dcf06c6a754a05b5b0e4a14aebc910",
            "e3bcef4b1e274d4abc5f22429288f0ab",
            "0a4bbf987f2946779323e14edbcb6766",
            "b8b0274db034423eb8688a3d31e5b395",
            "0b4b724126bd469dabb17130bad500b9",
            "208713ed8d584ac8a170e035958d26dc",
            "98b0ea99ce99467c881c10c2c0e8ecb7",
            "90bbdee5232d4063b756ef85b3840e1c",
            "92b6937a73404d3a8223d0d9eafde24a",
            "eafa614cc6294074b52ec7ca3693d7a2",
            "da0fb6bf741a4514b6796a7a03dd0b73",
            "1827c0dfd81f4d5892120a2508fee6b0",
            "80f908e1f1b940129ed51ceecb9c5073",
            "7f68db3836a84b60b2a2c7b81cb7a824"
          ]
        },
        "id": "OjzrTK4MQJQf",
        "outputId": "fa488788-2f91-42d1-e1fb-a733454176bc"
      },
      "source": [
        "language_model = MBartForConditionalGeneration.from_pretrained(\"facebook/mbart-large-50-many-to-many-mmt\")"
      ],
      "execution_count": 3,
      "outputs": [
        {
          "output_type": "display_data",
          "data": {
            "application/vnd.jupyter.widget-view+json": {
              "model_id": "3825056926094395aea0d8213d3bdb2f",
              "version_minor": 0,
              "version_major": 2
            },
            "text/plain": [
              "HBox(children=(FloatProgress(value=0.0, description='Downloading', max=1429.0, style=ProgressStyle(description…"
            ]
          },
          "metadata": {
            "tags": []
          }
        },
        {
          "output_type": "stream",
          "text": [
            "\n"
          ],
          "name": "stdout"
        },
        {
          "output_type": "display_data",
          "data": {
            "application/vnd.jupyter.widget-view+json": {
              "model_id": "98b0ea99ce99467c881c10c2c0e8ecb7",
              "version_minor": 0,
              "version_major": 2
            },
            "text/plain": [
              "HBox(children=(FloatProgress(value=0.0, description='Downloading', max=2444714899.0, style=ProgressStyle(descr…"
            ]
          },
          "metadata": {
            "tags": []
          }
        },
        {
          "output_type": "stream",
          "text": [
            "\n"
          ],
          "name": "stdout"
        }
      ]
    },
    {
      "cell_type": "code",
      "metadata": {
        "colab": {
          "base_uri": "https://localhost:8080/",
          "height": 163,
          "referenced_widgets": [
            "6174b146d1b24fa5a39ecb851d0da34f",
            "3aaf8706258745b5b28363f3e1a93653",
            "9c73003289af445b99d3f2611bcb4066",
            "b1e00a5cc72546038ad4ee0736cb07de",
            "cd055025cdea4650a5dbf3e5fd092dc7",
            "c6624b203c58434ba5cc7c755e865fab",
            "762641e088334d2f808763ee88e6e36c",
            "20cf2c8d80e74b6796f5e3b2fb99202c",
            "b65225fd9d614c4e8079e4e3872104ab",
            "fe0f2e3239ce4ae2af14673b5a4a6171",
            "23791d0749cb4a79ae62a32151928582",
            "7f621957004f494fb3ac84bd6602a3bc",
            "3a1c91244e834d71ad992ecbd48147e1",
            "56984e42ae8246aea0325b236a305e53",
            "5b455691149849a4a8bc0053d4f49ca9",
            "75486341b9734b4789d9ffe76926757a",
            "9c22981800fc47c6910299981ac85fab",
            "53efb2f2598f42b8997d617e94f276fc",
            "f716dc62d1bc4c7eb62e9a31ca3e34ec",
            "a866f4c5cc324cc1a830e763e726357a",
            "a39a650a02fc476bafc06dcce67e6a85",
            "24933d2dda624fc995cfaa0ded61d270",
            "68ac6c39527d4d4ebcc50fdbf3cc6a48",
            "51cb5ca97b954795bc6ddce8e6de5f5b"
          ]
        },
        "id": "3Tuit-sgUY4u",
        "outputId": "d854bafd-8327-41b3-ee40-1f054ea707c1"
      },
      "source": [
        "tokenizer = MBart50TokenizerFast.from_pretrained(\"facebook/mbart-large-50-one-to-many-mmt\", src_lang=\"en_XX\")"
      ],
      "execution_count": 24,
      "outputs": [
        {
          "output_type": "display_data",
          "data": {
            "application/vnd.jupyter.widget-view+json": {
              "model_id": "6174b146d1b24fa5a39ecb851d0da34f",
              "version_minor": 0,
              "version_major": 2
            },
            "text/plain": [
              "HBox(children=(FloatProgress(value=0.0, description='Downloading', max=5069051.0, style=ProgressStyle(descript…"
            ]
          },
          "metadata": {
            "tags": []
          }
        },
        {
          "output_type": "stream",
          "text": [
            "\n"
          ],
          "name": "stdout"
        },
        {
          "output_type": "display_data",
          "data": {
            "application/vnd.jupyter.widget-view+json": {
              "model_id": "b65225fd9d614c4e8079e4e3872104ab",
              "version_minor": 0,
              "version_major": 2
            },
            "text/plain": [
              "HBox(children=(FloatProgress(value=0.0, description='Downloading', max=717.0, style=ProgressStyle(description_…"
            ]
          },
          "metadata": {
            "tags": []
          }
        },
        {
          "output_type": "stream",
          "text": [
            "\n"
          ],
          "name": "stdout"
        },
        {
          "output_type": "display_data",
          "data": {
            "application/vnd.jupyter.widget-view+json": {
              "model_id": "9c22981800fc47c6910299981ac85fab",
              "version_minor": 0,
              "version_major": 2
            },
            "text/plain": [
              "HBox(children=(FloatProgress(value=0.0, description='Downloading', max=528.0, style=ProgressStyle(description_…"
            ]
          },
          "metadata": {
            "tags": []
          }
        },
        {
          "output_type": "stream",
          "text": [
            "\n"
          ],
          "name": "stdout"
        }
      ]
    },
    {
      "cell_type": "code",
      "metadata": {
        "id": "dTZlKv9jU0hc"
      },
      "source": [
        "text = \"Welcome to the Machine translation demo!\""
      ],
      "execution_count": 25,
      "outputs": []
    },
    {
      "cell_type": "code",
      "metadata": {
        "id": "u5BZtBUxUvt8"
      },
      "source": [
        "encoded_english_text = tokenizer(text, return_tensors=\"pt\")\n",
        "generated_tokens = language_model.generate(**encoded_english_text, forced_bos_token_id=tokenizer.lang_code_to_id[\"hi_IN\"])\n",
        "out = tokenizer.batch_decode(generated_tokens, skip_special_tokens=True)"
      ],
      "execution_count": 29,
      "outputs": []
    },
    {
      "cell_type": "code",
      "metadata": {
        "colab": {
          "base_uri": "https://localhost:8080/"
        },
        "id": "m7bOqF93WVDr",
        "outputId": "ecf4e355-7ba3-4a58-d61a-41586a1d8f28"
      },
      "source": [
        "out"
      ],
      "execution_count": 30,
      "outputs": [
        {
          "output_type": "execute_result",
          "data": {
            "text/plain": [
              "['मशीन अनुवाद डेमो में आपका स्वागत है!']"
            ]
          },
          "metadata": {
            "tags": []
          },
          "execution_count": 30
        }
      ]
    },
    {
      "cell_type": "code",
      "metadata": {
        "id": "Q4eTKF2lXUam"
      },
      "source": [
        ""
      ],
      "execution_count": null,
      "outputs": []
    }
  ]
}