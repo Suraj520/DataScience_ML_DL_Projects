{
  "cells": [
    {
      "cell_type": "markdown",
      "metadata": {
        "id": "rwjO-JLVUCAI"
      },
      "source": [
        "## About\n",
        "CIFAR100 Image classification using CNNs in PyTorch."
      ]
    },
    {
      "cell_type": "markdown",
      "metadata": {
        "id": "IBmP225ZUCAK"
      },
      "source": [
        "#### Classes Description\n",
        "Classes:\n",
        "```\n",
        "1-5) beaver, dolphin, otter, seal, whale\n",
        "6-10) aquarium fish, flatfish, ray, shark, trout\n",
        "11-15) orchids, poppies, roses, sunflowers, tulips\n",
        "16-20) bottles, bowls, cans, cups, plates\n",
        "21-25) apples, mushrooms, oranges, pears, sweet peppers\n",
        "26-30) clock, computer keyboard, lamp, telephone, television\n",
        "31-35) bed, chair, couch, table, wardrobe\n",
        "36-40) bee, beetle, butterfly, caterpillar, cockroach\n",
        "41-45) bear, leopard, lion, tiger, wolf\n",
        "46-50) bridge, castle, house, road, skyscraper\n",
        "51-55) cloud, forest, mountain, plain, sea\n",
        "56-60) camel, cattle, chimpanzee, elephant, kangaroo\n",
        "61-65) fox, porcupine, possum, raccoon, skunk\n",
        "66-70) crab, lobster, snail, spider, worm\n",
        "71-75) baby, boy, girl, man, woman\n",
        "76-80) crocodile, dinosaur, lizard, snake, turtle\n",
        "81-85) hamster, mouse, rabbit, shrew, squirrel\n",
        "86-90) maple, oak, palm, pine, willow\n",
        "91-95) bicycle, bus, motorcycle, pickup truck, train\n",
        "96-100) lawn-mower, rocket, streetcar, tank, tractor\n",
        "```\n",
        "and the list of the 20 superclasses:\n",
        "```1) aquatic mammals (classes 1-5)\n",
        "2) fish (classes 6-10)\n",
        "3) flowers (classes 11-15)\n",
        "4) food containers (classes 16-20)\n",
        "5) fruit and vegetables (classes 21-25)\n",
        "6) household electrical devices (classes 26-30)\n",
        "7) household furniture (classes 31-35)\n",
        "8) insects (classes 36-40)\n",
        "9) large carnivores (classes 41-45)\n",
        "10) large man-made outdoor things (classes 46-50)\n",
        "11) large natural outdoor scenes (classes 51-55)\n",
        "12) large omnivores and herbivores (classes 56-60)\n",
        "13) medium-sized mammals (classes 61-65)\n",
        "14) non-insect invertebrates (classes 66-70)\n",
        "15) people (classes 71-75)\n",
        "16) reptiles (classes 76-80)\n",
        "17) small mammals (classes 81-85)\n",
        "18) trees (classes 86-90)\n",
        "19) vehicles 1 (classes 91-95)\n",
        "20) vehicles 2 (classes 96-100)\n",
        "```"
      ]
    },
    {
      "cell_type": "code",
      "execution_count": 2,
      "metadata": {
        "id": "zAuqq1R2UCAM"
      },
      "outputs": [],
      "source": [
        "import torch\n",
        "from torch import Tensor\n",
        "import torchvision\n",
        "import torch.nn.functional as F\n",
        "import matplotlib.pyplot as plt\n",
        "%matplotlib inline\n",
        "import torchvision.transforms as transforms\n",
        "from torch.utils.data import random_split, DataLoader\n",
        "import torch.nn as nn\n",
        "import torch.nn.functional as F\n",
        "import tarfile\n",
        "#imports for loading images from the dataset structure\n",
        "from torchvision.datasets import ImageFolder\n"
      ]
    },
    {
      "cell_type": "code",
      "execution_count": 3,
      "metadata": {
        "id": "xQVOpXUCUCAN"
      },
      "outputs": [],
      "source": [
        "#dataset is stored in seperate directory with label names inside train test for each of the classes.\n",
        "root_dir=\"/content/drive/MyDrive/Datasets/CIFAR100/cifar100\"\n",
        "train_transforms = transforms.Compose([\n",
        "    transforms.ToTensor(),\n",
        "    transforms.RandomHorizontalFlip(),\n",
        "    transforms.RandomCrop(32,padding=4,padding_mode=\"reflect\"),\n",
        "    transforms.Normalize((0.5074,0.4867,0.4411), (0.2011,0.1987,0.2025))\n",
        "])\n",
        "test_transforms = transforms.Compose([\n",
        "    transforms.ToTensor(),\n",
        "    #transforms.RandomHorizontalFlip(),\n",
        "    #transforms.RandomCrop(32,padding=4,padding_mode=\"reflect\"),\n",
        "    transforms.Normalize((0.5074,0.4867,0.4411), (0.2011,0.1987,0.2025))\n",
        "])\n",
        "# standard deviation and mean values -\n",
        "train_data = ImageFolder(root_dir+'/train', transform=train_transforms)\n",
        "test_data = ImageFolder(root_dir+'/test',transform=test_transforms)\n"
      ]
    },
    {
      "cell_type": "code",
      "execution_count": 4,
      "metadata": {
        "colab": {
          "base_uri": "https://localhost:8080/"
        },
        "id": "LPFAxYpkUCAN",
        "outputId": "cdd20cc4-7d79-45d8-c340-83fa170cd2bc"
      },
      "outputs": [
        {
          "output_type": "stream",
          "name": "stdout",
          "text": [
            "torch.Size([3, 32, 32])\n",
            "0\n"
          ]
        }
      ],
      "source": [
        "# let's have a look at the dataset dynamics\n",
        "image,label = train_data[4]\n",
        "print(image.shape)\n",
        "print(label)\n"
      ]
    },
    {
      "cell_type": "code",
      "execution_count": 5,
      "metadata": {
        "colab": {
          "base_uri": "https://localhost:8080/"
        },
        "id": "TE9-WbSXUCAO",
        "outputId": "5c367b66-b622-45e2-e0c2-4072e7da3e3d"
      },
      "outputs": [
        {
          "output_type": "stream",
          "name": "stdout",
          "text": [
            "['apple', 'aquarium_fish', 'baby', 'bear', 'beaver', 'bed', 'bee', 'beetle', 'bicycle', 'bottle', 'bowl', 'boy', 'bridge', 'bus', 'butterfly', 'camel', 'can', 'castle', 'caterpillar', 'cattle', 'chair', 'chimpanzee', 'clock', 'cloud', 'cockroach', 'couch', 'crab', 'crocodile', 'cup', 'dinosaur', 'dolphin', 'elephant', 'flatfish', 'forest', 'fox', 'girl', 'hamster', 'house', 'kangaroo', 'keyboard', 'lamp', 'lawn_mower', 'leopard', 'lion', 'lizard', 'lobster', 'man', 'maple_tree', 'motorcycle', 'mountain', 'mouse', 'mushroom', 'oak_tree', 'orange', 'orchid', 'otter', 'palm_tree', 'pear', 'pickup_truck', 'pine_tree', 'plain', 'plate', 'poppy', 'porcupine', 'possum', 'rabbit', 'raccoon', 'ray', 'road', 'rocket', 'rose', 'sea', 'seal', 'shark', 'shrew', 'skunk', 'skyscraper', 'snail', 'snake', 'spider', 'squirrel', 'streetcar', 'sunflower', 'sweet_pepper', 'table', 'tank', 'telephone', 'television', 'tiger', 'tractor', 'train', 'trout', 'tulip', 'turtle', 'wardrobe', 'whale', 'willow_tree', 'wolf', 'woman', 'worm']\n",
            "100\n"
          ]
        }
      ],
      "source": [
        "print(train_data.classes)\n",
        "print(len(train_data.classes))"
      ]
    },
    {
      "cell_type": "code",
      "execution_count": 6,
      "metadata": {
        "colab": {
          "base_uri": "https://localhost:8080/",
          "height": 584
        },
        "id": "S05H2WqQUCAP",
        "outputId": "b847ffe3-035b-413e-f83d-3ba7a369df8b"
      },
      "outputs": [
        {
          "output_type": "stream",
          "name": "stderr",
          "text": [
            "WARNING:matplotlib.image:Clipping input data to the valid range for imshow with RGB data ([0..1] for floats or [0..255] for integers).\n"
          ]
        },
        {
          "output_type": "display_data",
          "data": {
            "text/plain": [
              "<Figure size 432x288 with 1 Axes>"
            ],
            "image/png": "[encoded data removed]"
          },
          "metadata": {
            "needs_background": "light"
          }
        },
        {
          "output_type": "stream",
          "name": "stderr",
          "text": [
            "WARNING:matplotlib.image:Clipping input data to the valid range for imshow with RGB data ([0..1] for floats or [0..255] for integers).\n"
          ]
        },
        {
          "output_type": "display_data",
          "data": {
            "text/plain": [
              "<Figure size 432x288 with 1 Axes>"
            ],
            "image/png": "[encoded data removed]"
          },
          "metadata": {
            "needs_background": "light"
          }
        }
      ],
      "source": [
        "#Visualising data samples from train and test dataset\n",
        "for i in range(2):\n",
        "    image,label = train_data[i]\n",
        "    plt.imshow(image.permute(1,2,0)) # 0th dimension should come last and 1st and 2nd dimension should come first\n",
        "    plt.title(\"Label :{}\".format(train_data.classes[label]))\n",
        "    plt.show()"
      ]
    },
    {
      "cell_type": "code",
      "execution_count": 7,
      "metadata": {
        "colab": {
          "base_uri": "https://localhost:8080/",
          "height": 584
        },
        "id": "2LmVYH4GUCAP",
        "outputId": "12f72eea-b8ec-4ee0-daae-2e9528ac0ab5"
      },
      "outputs": [
        {
          "output_type": "stream",
          "name": "stderr",
          "text": [
            "WARNING:matplotlib.image:Clipping input data to the valid range for imshow with RGB data ([0..1] for floats or [0..255] for integers).\n"
          ]
        },
        {
          "output_type": "display_data",
          "data": {
            "text/plain": [
              "<Figure size 432x288 with 1 Axes>"
            ],
            "image/png": "[encoded data removed]"
          },
          "metadata": {
            "needs_background": "light"
          }
        },
        {
          "output_type": "stream",
          "name": "stderr",
          "text": [
            "WARNING:matplotlib.image:Clipping input data to the valid range for imshow with RGB data ([0..1] for floats or [0..255] for integers).\n"
          ]
        },
        {
          "output_type": "display_data",
          "data": {
            "text/plain": [
              "<Figure size 432x288 with 1 Axes>"
            ],
            "image/png": "[encoded data removed]"
          },
          "metadata": {
            "needs_background": "light"
          }
        }
      ],
      "source": [
        "#Visualising data samples from train and test dataset\n",
        "for i in range(2):\n",
        "    image,label = test_data[i]\n",
        "    plt.imshow(image.permute(1,2,0)) # 0th dimension should come last and 1st and 2nd dimension should come first\n",
        "    plt.title(\"Label :{}\".format(test_data.classes[label]))\n",
        "    plt.show()"
      ]
    },
    {
      "cell_type": "code",
      "execution_count": 8,
      "metadata": {
        "colab": {
          "base_uri": "https://localhost:8080/"
        },
        "id": "ZBUSNOFaUCAQ",
        "outputId": "da9781ad-bcb6-41a6-bf11-389ddea7c3c3"
      },
      "outputs": [
        {
          "output_type": "execute_result",
          "data": {
            "text/plain": [
              "<torch._C.Generator at 0x7f1f353c7bb0>"
            ]
          },
          "metadata": {},
          "execution_count": 8
        }
      ],
      "source": [
        "# splitting the data into train val\n",
        "# defining random seed so as to ensure validation set is same across runs as random number generator is fixed. This is preferred mostly in a standard pipeline.\n",
        "torch.manual_seed(32)\n"
      ]
    },
    {
      "cell_type": "code",
      "execution_count": 9,
      "metadata": {
        "id": "yd2t-mKLUCAQ"
      },
      "outputs": [],
      "source": [
        "# splitting the train dataset into train, val split\n",
        "# val_len = 10000\n",
        "# train_len = len(train_data)-val_len\n",
        "# train_set, val_set = random_split(train_data,[train_len,val_len])\n",
        "# print(\"Length of training samples is {}\".format(len(train_set)))\n",
        "# print(\"Length of testing samples is {}\".format(len(val_set)))"
      ]
    },
    {
      "cell_type": "markdown",
      "source": [
        "By splitting train dataset into train,val via this technique since it will not be uniform. We can prepare one by random shuffling but still We may miss few classes. So, we'll take test =val set. since after multiple runs, the accuracy via prior val set is very low.\n"
      ],
      "metadata": {
        "id": "QhGBPl5iv3mJ"
      }
    },
    {
      "cell_type": "code",
      "source": [],
      "metadata": {
        "id": "aofb7k-wv27d"
      },
      "execution_count": null,
      "outputs": []
    },
    {
      "cell_type": "code",
      "execution_count": null,
      "metadata": {
        "id": "b77jfuB-UCAR"
      },
      "outputs": [],
      "source": [
        "#creating dataloader\n",
        "batch_size =4096\n",
        "train_loader = DataLoader(train_data,batch_size,shuffle=True, num_workers=4, pin_memory=True)\n",
        "val_loader = DataLoader(test_data, batch_size,shuffle=True,  num_workers=4, pin_memory=True)"
      ]
    },
    {
      "cell_type": "code",
      "source": [
        "torch.cuda.is_available()"
      ],
      "metadata": {
        "colab": {
          "base_uri": "https://localhost:8080/"
        },
        "id": "lKMHgev3Vpqb",
        "outputId": "cdbb84bd-78e6-4f95-a60b-85f3fdcdbaae"
      },
      "execution_count": 11,
      "outputs": [
        {
          "output_type": "execute_result",
          "data": {
            "text/plain": [
              "True"
            ]
          },
          "metadata": {},
          "execution_count": 11
        }
      ]
    },
    {
      "cell_type": "code",
      "execution_count": 12,
      "metadata": {
        "id": "IFcYGd4IUCAR"
      },
      "outputs": [],
      "source": [
        "#passing the dataloader to gpu\n",
        "\n",
        "def compute_device():\n",
        "    if torch.cuda.is_available():\n",
        "        return torch.device('cuda')\n",
        "    else:\n",
        "        return torch.device('cpu')"
      ]
    },
    {
      "cell_type": "code",
      "execution_count": 13,
      "metadata": {
        "colab": {
          "base_uri": "https://localhost:8080/"
        },
        "id": "Yz-cHOq8UCAR",
        "outputId": "83e05938-fd0a-45de-ded7-a2d2ce366f1e"
      },
      "outputs": [
        {
          "output_type": "execute_result",
          "data": {
            "text/plain": [
              "device(type='cuda')"
            ]
          },
          "metadata": {},
          "execution_count": 13
        }
      ],
      "source": [
        "device = compute_device()\n",
        "device"
      ]
    },
    {
      "cell_type": "code",
      "execution_count": 14,
      "metadata": {
        "id": "ZBDxmL4SUCAS"
      },
      "outputs": [],
      "source": [
        "#moving data and model to a deice\n",
        "def to_device(data,device):\n",
        "    if isinstance(data,(list,tuple)):\n",
        "        return [to_device(x,device) for x in data]\n",
        "    return data.to(device,non_blocking=True)"
      ]
    },
    {
      "cell_type": "code",
      "execution_count": 15,
      "metadata": {
        "id": "_yGM31A1UCAS"
      },
      "outputs": [],
      "source": [
        "#Defining the class of Device Data loader\n",
        "class DeviceDataLoader():\n",
        "    def __init__(self,data_loader,device) -> None:\n",
        "        self.data_loader = data_loader\n",
        "        self.device = device\n",
        "    \n",
        "    def __iter__(self):\n",
        "        for batch in self.data_loader:\n",
        "            yield to_device(batch,self.device)\n",
        "\n",
        "    def __len__(self):\n",
        "        return len(self.data_loader)"
      ]
    },
    {
      "cell_type": "code",
      "execution_count": 16,
      "metadata": {
        "id": "OibG1zCZUCAS"
      },
      "outputs": [],
      "source": [
        "#moving the dataloaders to the device\n",
        "train_loader = DeviceDataLoader(train_loader,device)\n",
        "val_loader = DeviceDataLoader(val_loader,device)"
      ]
    },
    {
      "cell_type": "code",
      "execution_count": 17,
      "metadata": {
        "id": "6_RIPotcUCAS"
      },
      "outputs": [],
      "source": [
        "input_size=32*32*3\n",
        "num_classes = len(train_data.classes)"
      ]
    },
    {
      "cell_type": "code",
      "execution_count": 17,
      "metadata": {
        "id": "vbBEVlIrUCAT"
      },
      "outputs": [],
      "source": []
    },
    {
      "cell_type": "markdown",
      "metadata": {
        "id": "p14qYX7KUCAT"
      },
      "source": [
        "# Architecture of the Deep Neural Network.\n",
        "##### General formula = n_out = floor[n-f+2p/s + 1]\n",
        "\n",
        "* Adding batchnormalisation after every conv layer and dropout\n",
        "\n",
        "\n",
        "#### Synatax in PyTorch\n",
        "\n",
        "1. nn.Conv2D(num_channels, num_filters, kernel_size, stride,padding)\n",
        "2. nn.MaxPool2d(horizontal_pixel_count,vertical_pixel_count)"
      ]
    },
    {
      "cell_type": "code",
      "execution_count": 18,
      "metadata": {
        "id": "DG9xLPHFUCAT"
      },
      "outputs": [],
      "source": [
        "# ;et's visualise how a batch's dimension is altered when it's passed through a convolutional layer\n",
        "# conv_layer = nn.Conv2d(3,256,kernel_size=3, stride=1,padding=0)\n",
        "# max_pool_layer = nn.MaxPool2d(2,2)\n",
        "# for images,labels in train_loader:\n",
        "#     print(\"input_shape is {}\".format(images.shape))\n",
        "#     output= conv_layer(images)\n",
        "#     print(\"output_shape after conv_layer is {}\".format(output.shape))\n",
        "#     output = max_pool_layer(output)\n",
        "#     print(\"output_shape after max_pool layer is {}\".format(output.shape))\n",
        "#     break"
      ]
    },
    {
      "cell_type": "code",
      "source": [
        "# function for calculating accuracy\n",
        "def accuracy(outputs, labels):\n",
        "    _,preds = torch.max(outputs,dim=1)\n",
        "    return torch.tensor(torch.sum(preds==labels).item()/len(preds))"
      ],
      "metadata": {
        "id": "4EcrLPSJcgS-"
      },
      "execution_count": 19,
      "outputs": []
    },
    {
      "cell_type": "code",
      "execution_count": 20,
      "metadata": {
        "id": "fcnpcYBzUCAT"
      },
      "outputs": [],
      "source": [
        "#defining a classification base which shall be extended in all image classification examples\n",
        "# Boiler plate code\n",
        "class ImageClassificationBase(nn.Module):\n",
        "\n",
        "    #training step    \n",
        "    def training_step(self,batch) -> Tensor:\n",
        "        images,labels = batch\n",
        "        logits = self(images)\n",
        "        loss = F.cross_entropy(logits,labels)\n",
        "        return loss\n",
        "    #validation step\n",
        "\n",
        "    def validation_step(self,batch) -> dict:\n",
        "        images,labels =batch\n",
        "        logits = self(images)\n",
        "        loss = F.cross_entropy(logits,labels)\n",
        "        acc = accuracy(logits,labels)\n",
        "        return {'val_loss':loss, 'val_acc':acc}\n",
        "    #method for epoch end\n",
        "\n",
        "    def validation_epoch_end(self,outputs) -> dict:\n",
        "        batch_losses = [x['val_loss'] for x in outputs]\n",
        "        epoch_loss = torch.stack(batch_losses).mean()\n",
        "        batch_accs = [x['val_acc'] for x in outputs]\n",
        "        epoch_acc = torch.stack(batch_accs).mean()\n",
        "        return {'val_loss': epoch_loss.item(), 'val_acc':epoch_acc.item()}\n",
        "\n",
        "    def epoch_end(self,epoch,result):\n",
        "        print(\"Epoch [{}], train_loss:{:.4f}, val_loss:{:.4f}, val_acc: {:.4f}\".format(epoch,result['train_loss'],result['val_loss'],result['val_acc']))\n"
      ]
    },
    {
      "cell_type": "code",
      "execution_count": 21,
      "metadata": {
        "id": "ft1ZheCeUCAU"
      },
      "outputs": [],
      "source": [
        "#defining the model\n",
        "class CNN_Model(ImageClassificationBase): # building our model by extending the classification base\n",
        "    def __init__(self) -> None:\n",
        "        super().__init__()\n",
        "        # defining the sequential module as per architecture quoted above\n",
        "        self.architecture = nn.Sequential(\n",
        "            nn.Conv2d(3,64,kernel_size=3,padding=2,stride=1),\n",
        "            nn.Dropout(p=0.1),\n",
        "            nn.BatchNorm2d(64),\n",
        "            nn.ReLU(),\n",
        "            nn.MaxPool2d(2,2),\n",
        "            nn.Conv2d(64,128,kernel_size=3,padding=2,stride=1),\n",
        "            nn.Dropout(p=0.1),\n",
        "            nn.BatchNorm2d(128),\n",
        "            nn.ReLU(),\n",
        "            nn.MaxPool2d(2,2),\n",
        "            nn.Conv2d(128,256,kernel_size=3,padding=2,stride=1),\n",
        "            nn.Dropout(p=0.1),\n",
        "            nn.BatchNorm2d(256),\n",
        "            nn.ReLU(),\n",
        "            nn.MaxPool2d(2,2),\n",
        "            nn.Flatten(),\n",
        "            nn.Linear(256*5*5,1024),\n",
        "            nn.ReLU(),\n",
        "            nn.Linear(1024,512),\n",
        "            nn.ReLU(),\n",
        "            nn.Linear(512,100)\n",
        "        )\n",
        "\n",
        "    # defining the forward pass\n",
        "    def forward(self,inputs):\n",
        "        return self.architecture(inputs)"
      ]
    },
    {
      "cell_type": "code",
      "execution_count": 22,
      "metadata": {
        "id": "KMEmBF-vUCAU"
      },
      "outputs": [],
      "source": [
        "cnn_model = CNN_Model()"
      ]
    },
    {
      "cell_type": "code",
      "execution_count": 23,
      "metadata": {
        "colab": {
          "base_uri": "https://localhost:8080/"
        },
        "id": "sWJ72ie5UCAV",
        "outputId": "03eb2365-554b-47c3-f834-79fbff30453e"
      },
      "outputs": [
        {
          "output_type": "execute_result",
          "data": {
            "text/plain": [
              "CNN_Model(\n",
              "  (architecture): Sequential(\n",
              "    (0): Conv2d(3, 64, kernel_size=(3, 3), stride=(1, 1), padding=(2, 2))\n",
              "    (1): Dropout(p=0.1, inplace=False)\n",
              "    (2): BatchNorm2d(64, eps=1e-05, momentum=0.1, affine=True, track_running_stats=True)\n",
              "    (3): ReLU()\n",
              "    (4): MaxPool2d(kernel_size=2, stride=2, padding=0, dilation=1, ceil_mode=False)\n",
              "    (5): Conv2d(64, 128, kernel_size=(3, 3), stride=(1, 1), padding=(2, 2))\n",
              "    (6): Dropout(p=0.1, inplace=False)\n",
              "    (7): BatchNorm2d(128, eps=1e-05, momentum=0.1, affine=True, track_running_stats=True)\n",
              "    (8): ReLU()\n",
              "    (9): MaxPool2d(kernel_size=2, stride=2, padding=0, dilation=1, ceil_mode=False)\n",
              "    (10): Conv2d(128, 256, kernel_size=(3, 3), stride=(1, 1), padding=(2, 2))\n",
              "    (11): Dropout(p=0.1, inplace=False)\n",
              "    (12): BatchNorm2d(256, eps=1e-05, momentum=0.1, affine=True, track_running_stats=True)\n",
              "    (13): ReLU()\n",
              "    (14): MaxPool2d(kernel_size=2, stride=2, padding=0, dilation=1, ceil_mode=False)\n",
              "    (15): Flatten(start_dim=1, end_dim=-1)\n",
              "    (16): Linear(in_features=6400, out_features=1024, bias=True)\n",
              "    (17): ReLU()\n",
              "    (18): Linear(in_features=1024, out_features=512, bias=True)\n",
              "    (19): ReLU()\n",
              "    (20): Linear(in_features=512, out_features=100, bias=True)\n",
              "  )\n",
              ")"
            ]
          },
          "metadata": {},
          "execution_count": 23
        }
      ],
      "source": [
        "cnn_model"
      ]
    },
    {
      "cell_type": "markdown",
      "metadata": {
        "id": "GLuoK8YsUCAV"
      },
      "source": [
        "# Training phase - Boiler plate code\n",
        "```for epoch in range(num_epochs):\n",
        "    #training\n",
        "    for batch in train_dataloader:\n",
        "    # step1 - generate logits ie predictions from the model\n",
        "    # step 2 - calculate loss\n",
        "    # step3 - compute gradients\n",
        "    # step4 - update weights via optimizer.step\n",
        "    # step 4 = reset gradients - optimizers.zero_grad\n",
        "    # step 5 - calculate metrics\n",
        "\n",
        "    # validation\n",
        "    for batch in val_dataloader\n",
        "        #step 1 - generate logits\n",
        "        # step 2 - calculate loss\n",
        "        # step 3 - calculate metrics\n",
        "    \n",
        "    #calculate average loss of train and val and thus display\n",
        "    ```"
      ]
    },
    {
      "cell_type": "code",
      "execution_count": 24,
      "metadata": {
        "id": "BGqPHLyrUCAV"
      },
      "outputs": [],
      "source": [
        "# defining the evaluate function\n",
        "@torch.no_grad()\n",
        "def evaluate(model,validation_dataloader):\n",
        "    outputs = [model.validation_step(batch) for batch in validation_dataloader]\n",
        "    return model.validation_epoch_end(outputs)"
      ]
    },
    {
      "cell_type": "code",
      "execution_count": 25,
      "metadata": {
        "id": "-mTBrhg5UCAV"
      },
      "outputs": [],
      "source": [
        "# defining the train\n",
        "def fit(num_epochs,learning_rate, model, train_loader, val_loader, optimizer = torch.optim.Adam):\n",
        "    history = []\n",
        "    optimizer = optimizer(model.parameters(),learning_rate)\n",
        "\n",
        "    for epoch in range(num_epochs):\n",
        "        #training phase\n",
        "        model.train()\n",
        "        train_loss = []\n",
        "        for batch in train_loader:\n",
        "            loss = model.training_step(batch)\n",
        "            train_loss.append(loss)\n",
        "            loss.backward()\n",
        "            optimizer.step()\n",
        "            optimizer.zero_grad\n",
        "        #val_phase\n",
        "        result = evaluate(model,val_loader)\n",
        "        result['train_loss']= torch.stack(train_loss).mean().item()\n",
        "        model.epoch_end(epoch,result)\n",
        "        history.append(result)\n",
        "    \n",
        "    return history"
      ]
    },
    {
      "cell_type": "code",
      "execution_count": 26,
      "metadata": {
        "id": "l_6PxiTYUCAW"
      },
      "outputs": [],
      "source": [
        "# moving the model to gpu\n",
        "cnn_model = to_device(CNN_Model(), device)\n"
      ]
    },
    {
      "cell_type": "code",
      "execution_count": 29,
      "metadata": {
        "id": "cowDnHD-UCAW"
      },
      "outputs": [],
      "source": [
        "num_epochs=10\n",
        "optimizer = torch.optim.Adam\n",
        "learning_rate=0.001\n"
      ]
    },
    {
      "cell_type": "code",
      "execution_count": 30,
      "metadata": {
        "colab": {
          "base_uri": "https://localhost:8080/"
        },
        "id": "tc8F88WmUCAW",
        "outputId": "5d6fe496-a7ff-4120-8bd4-741596cfd729"
      },
      "outputs": [
        {
          "output_type": "stream",
          "name": "stdout",
          "text": [
            "Epoch [0], train_loss:4.6106, val_loss:4.6109, val_acc: 0.0109\n",
            "Epoch [1], train_loss:4.6116, val_loss:4.6119, val_acc: 0.0099\n",
            "Epoch [2], train_loss:4.6114, val_loss:4.6121, val_acc: 0.0098\n",
            "Epoch [3], train_loss:4.6118, val_loss:4.6116, val_acc: 0.0101\n",
            "Epoch [4], train_loss:4.6118, val_loss:4.6110, val_acc: 0.0103\n",
            "Epoch [5], train_loss:4.6117, val_loss:4.6116, val_acc: 0.0094\n",
            "Epoch [6], train_loss:4.6114, val_loss:4.6108, val_acc: 0.0096\n",
            "Epoch [7], train_loss:4.6110, val_loss:4.6108, val_acc: 0.0101\n",
            "Epoch [8], train_loss:4.6110, val_loss:4.6102, val_acc: 0.0098\n",
            "Epoch [9], train_loss:4.6105, val_loss:4.6110, val_acc: 0.0096\n"
          ]
        }
      ],
      "source": [
        "history = fit(num_epochs,learning_rate,cnn_model,train_loader,val_loader,optimizer)"
      ]
    },
    {
      "cell_type": "code",
      "execution_count": 31,
      "metadata": {
        "colab": {
          "base_uri": "https://localhost:8080/",
          "height": 314
        },
        "id": "iZ7FlrJaUCAW",
        "outputId": "8cd52266-b835-4d8d-b3f3-06a463329991"
      },
      "outputs": [
        {
          "output_type": "execute_result",
          "data": {
            "text/plain": [
              "Text(0.5, 1.0, 'Accuracy plot')"
            ]
          },
          "metadata": {},
          "execution_count": 31
        },
        {
          "output_type": "display_data",
          "data": {
            "text/plain": [
              "<Figure size 432x288 with 1 Axes>"
            ],
            "image/png": "[encoded data removed]"
          },
          "metadata": {
            "needs_background": "light"
          }
        }
      ],
      "source": [
        "# plotting the curves\n",
        "accuracy = [result['val_acc'] for result in history]\n",
        "plt.plot(accuracy,'-x')\n",
        "plt.xlabel('epoch->')\n",
        "plt.ylabel('accuracy->')\n",
        "plt.title('Accuracy plot')"
      ]
    },
    {
      "cell_type": "code",
      "execution_count": 32,
      "metadata": {
        "colab": {
          "base_uri": "https://localhost:8080/",
          "height": 314
        },
        "id": "R8gfqhv_UCAW",
        "outputId": "8eca89f1-b8f6-4530-a128-2f901a9a9457"
      },
      "outputs": [
        {
          "output_type": "execute_result",
          "data": {
            "text/plain": [
              "Text(0.5, 1.0, 'Val Loss plot')"
            ]
          },
          "metadata": {},
          "execution_count": 32
        },
        {
          "output_type": "display_data",
          "data": {
            "text/plain": [
              "<Figure size 432x288 with 1 Axes>"
            ],
            "image/png": "[encoded data removed]"
          },
          "metadata": {
            "needs_background": "light"
          }
        }
      ],
      "source": [
        "# plotting the curves\n",
        "loss = [result['val_loss'] for result in history]\n",
        "plt.plot(loss,'-x')\n",
        "plt.xlabel('epoch ->')\n",
        "plt.ylabel('loss ->')\n",
        "plt.title('Val Loss plot')"
      ]
    },
    {
      "cell_type": "code",
      "execution_count": 33,
      "metadata": {
        "colab": {
          "base_uri": "https://localhost:8080/",
          "height": 314
        },
        "id": "4GDHMpsqUCAX",
        "outputId": "0661b8a6-8851-4d13-84b7-c603548f342e"
      },
      "outputs": [
        {
          "output_type": "execute_result",
          "data": {
            "text/plain": [
              "Text(0.5, 1.0, 'Train Loss plot')"
            ]
          },
          "metadata": {},
          "execution_count": 33
        },
        {
          "output_type": "display_data",
          "data": {
            "text/plain": [
              "<Figure size 432x288 with 1 Axes>"
            ],
            "image/png": "[encoded data removed]"
          },
          "metadata": {
            "needs_background": "light"
          }
        }
      ],
      "source": [
        "# plotting the curves\n",
        "loss = [result['train_loss'] for result in history]\n",
        "plt.plot(loss,'-x')\n",
        "plt.xlabel('epoch ->')\n",
        "plt.ylabel('loss ->')\n",
        "plt.title('Train Loss plot')"
      ]
    },
    {
      "cell_type": "code",
      "source": [
        "# predicting on test_image\n",
        "def predict(image,model):\n",
        "    #img_data = image.reshape(-1,784)\n",
        "    img_data = image.unsqueeze(0)\n",
        "    #print(img_data.shape)\n",
        "    probs = model(img_data)\n",
        "    _, preds = torch.max(probs,dim=1)\n",
        "    #print(preds[0].item)\n",
        "    return preds[0].item()\n",
        "    #return \"Predicted Label is\".format(dataset_labels_dict[str(preds[0].item())])"
      ],
      "metadata": {
        "id": "Lp8Sl6cMeEOe"
      },
      "execution_count": 34,
      "outputs": []
    },
    {
      "cell_type": "code",
      "source": [
        "# saving the model by saving state_dict\n",
        "torch.save(cnn_model.state_dict(), 'cifar100-cnn.pth')"
      ],
      "metadata": {
        "id": "kRjBPJmUeWWa"
      },
      "execution_count": 42,
      "outputs": []
    },
    {
      "cell_type": "code",
      "source": [
        "# to view the weights and bias after training, refer the state_dict\n",
        "cnn_model.state_dict()"
      ],
      "metadata": {
        "colab": {
          "base_uri": "https://localhost:8080/"
        },
        "id": "D7tmP2gFecr9",
        "outputId": "2629a7a2-f8bb-4df0-bd7d-80506dd589ea"
      },
      "execution_count": 43,
      "outputs": [
        {
          "output_type": "execute_result",
          "data": {
            "text/plain": [
              "OrderedDict([('architecture.0.weight', tensor([[[[-0.1875, -0.2321, -0.1163],\n",
              "                        [-0.1284, -0.0620, -0.0369],\n",
              "                        [-0.0659,  0.1036,  0.2357]],\n",
              "              \n",
              "                       [[-0.3220, -0.1771, -0.3810],\n",
              "                        [-0.2322, -0.3982, -0.4470],\n",
              "                        [-0.4987, -0.3799, -0.3851]],\n",
              "              \n",
              "                       [[-0.3195, -0.2270, -0.2536],\n",
              "                        [-0.3109, -0.3506, -0.2092],\n",
              "                        [-0.0631, -0.1617, -0.1662]]],\n",
              "              \n",
              "              \n",
              "                      [[[ 0.1663,  0.2769,  0.3699],\n",
              "                        [ 0.2482,  0.5062,  0.2984],\n",
              "                        [ 0.4519,  0.2086,  0.4689]],\n",
              "              \n",
              "                       [[ 0.0265, -0.3916, -0.3959],\n",
              "                        [-0.2929, -0.2036, -0.3781],\n",
              "                        [-0.2572, -0.3024, -0.2794]],\n",
              "              \n",
              "                       [[ 0.2919, -0.0677, -0.0690],\n",
              "                        [-0.2384, -0.2021, -0.1780],\n",
              "                        [-0.2636, -0.1435, -0.3547]]],\n",
              "              \n",
              "              \n",
              "                      [[[-0.3112, -0.0765, -0.0551],\n",
              "                        [ 0.0896, -0.1034, -0.0430],\n",
              "                        [-0.0528, -0.1293, -0.0820]],\n",
              "              \n",
              "                       [[-0.0914, -0.0948, -0.3914],\n",
              "                        [-0.4033, -0.1962, -0.3582],\n",
              "                        [-0.3897, -0.4097, -0.4725]],\n",
              "              \n",
              "                       [[-0.4140, -0.4519, -0.3140],\n",
              "                        [-0.3667, -0.2159, -0.3891],\n",
              "                        [-0.0765, -0.1279, -0.2658]]],\n",
              "              \n",
              "              \n",
              "                      ...,\n",
              "              \n",
              "              \n",
              "                      [[[-0.4927, -0.3842, -0.1832],\n",
              "                        [-0.2621, -0.4472, -0.2844],\n",
              "                        [-0.3210, -0.4169, -0.5264]],\n",
              "              \n",
              "                       [[-0.2569, -0.3924, -0.4130],\n",
              "                        [-0.1503, -0.1834, -0.2521],\n",
              "                        [-0.2708, -0.2600, -0.1956]],\n",
              "              \n",
              "                       [[ 0.4431,  0.0772, -0.2377],\n",
              "                        [-0.1462, -0.2379, -0.0969],\n",
              "                        [-0.1059, -0.3154, -0.1851]]],\n",
              "              \n",
              "              \n",
              "                      [[[ 0.3931,  0.2342,  0.3603],\n",
              "                        [ 0.4873,  0.3629,  0.3035],\n",
              "                        [ 0.1556,  0.3728,  0.1487]],\n",
              "              \n",
              "                       [[ 0.1512,  0.1419, -0.1216],\n",
              "                        [-0.4492, -0.3606, -0.3641],\n",
              "                        [-0.4446, -0.1268, -0.3384]],\n",
              "              \n",
              "                       [[ 0.2937,  0.2511,  0.1205],\n",
              "                        [ 0.3274,  0.3310,  0.2375],\n",
              "                        [-0.0542,  0.2023, -0.0332]]],\n",
              "              \n",
              "              \n",
              "                      [[[ 0.3638, -0.0449,  0.2376],\n",
              "                        [ 0.3827, -0.0500,  0.0751],\n",
              "                        [ 0.4080,  0.3718,  0.2827]],\n",
              "              \n",
              "                       [[-0.3518, -0.2142, -0.3244],\n",
              "                        [-0.3532, -0.1679, -0.4676],\n",
              "                        [-0.4843, -0.4358, -0.1694]],\n",
              "              \n",
              "                       [[-0.3818, -0.2500, -0.1673],\n",
              "                        [-0.2420, -0.2313,  0.2715],\n",
              "                        [ 0.1921, -0.2256,  0.1566]]]], device='cuda:0')),\n",
              "             ('architecture.0.bias',\n",
              "              tensor([-0.1783, -0.3263, -0.1240, -0.1593, -0.4385, -0.0984, -0.3106, -0.2758,\n",
              "                      -0.3009, -0.2678, -0.2763, -0.4182, -0.3242,  0.1843, -0.2081, -0.2638,\n",
              "                      -0.3154, -0.3152,  0.3315, -0.3569, -0.3116, -0.3934,  0.2539,  0.1333,\n",
              "                      -0.4229, -0.1444,  0.2551, -0.1939, -0.3900, -0.3164,  0.2182, -0.2959,\n",
              "                      -0.2832, -0.3138, -0.2069,  0.1504, -0.2469, -0.3131, -0.4189, -0.1419,\n",
              "                       0.3066, -0.3592, -0.3722, -0.1616, -0.3185,  0.1399, -0.3025, -0.3279,\n",
              "                       0.1048, -0.3251, -0.2333, -0.4598, -0.3317, -0.3981, -0.2765, -0.3319,\n",
              "                      -0.1230, -0.2407, -0.4746, -0.0710,  0.1835, -0.1299, -0.3628, -0.2880],\n",
              "                     device='cuda:0')),\n",
              "             ('architecture.2.weight',\n",
              "              tensor([1.3577, 1.2773, 1.3345, 0.6569, 0.6850, 0.8606, 0.7467, 0.6442, 1.0669,\n",
              "                      1.2848, 0.6647, 0.7024, 1.1521, 0.8016, 0.7390, 1.3301, 0.6801, 0.6907,\n",
              "                      0.7681, 0.7480, 1.3442, 0.6924, 1.2793, 0.6647, 0.6610, 1.2327, 1.2545,\n",
              "                      1.3008, 0.6713, 0.6437, 0.7199, 0.6568, 0.6526, 0.7481, 1.3680, 0.7496,\n",
              "                      0.7737, 1.2929, 1.2202, 1.2769, 0.8481, 0.6408, 0.6735, 1.1978, 0.6437,\n",
              "                      0.8993, 0.6526, 0.6606, 0.6848, 0.7840, 0.7732, 0.6499, 1.2541, 0.6915,\n",
              "                      1.3538, 0.6672, 0.6732, 1.3073, 0.6635, 0.6923, 0.7573, 0.8318, 0.6733,\n",
              "                      1.3554], device='cuda:0')),\n",
              "             ('architecture.2.bias',\n",
              "              tensor([-0.3148, -0.3748, -0.0719, -0.3442, -0.3168, -0.2912, -0.3516, -0.3457,\n",
              "                      -0.3231, -0.3733, -0.3661, -0.2845, -0.3473, -0.3090, -0.2956, -0.3523,\n",
              "                      -0.3557, -0.3700,  0.2267, -0.2277, -0.3493, -0.2506,  0.0681, -0.3535,\n",
              "                      -0.3502, -0.2441, -0.2343, -0.3082, -0.3306, -0.3534,  0.0443, -0.3550,\n",
              "                      -0.3537, -0.3568, -0.3693,  0.1564, -0.1934, -0.3573, -0.3594, -0.1394,\n",
              "                       0.2303, -0.3649, -0.3226, -0.3416, -0.3612, -0.1646, -0.3491, -0.3231,\n",
              "                       0.1696, -0.3325, -0.2724, -0.3443, -0.3643, -0.3233, -0.3310, -0.3202,\n",
              "                      -0.3200, -0.3526, -0.3319, -0.3360, -0.2876, -0.3163, -0.3623, -0.3236],\n",
              "                     device='cuda:0')),\n",
              "             ('architecture.2.running_mean',\n",
              "              tensor([-0.1643, -0.3190, -0.1096, -0.1481, -0.4367, -0.0889, -0.3050, -0.2668,\n",
              "                      -0.2994, -0.2586, -0.2677, -0.4184, -0.3170,  0.1794, -0.2072, -0.2546,\n",
              "                      -0.3148, -0.3059,  0.3184, -0.3545, -0.3002, -0.3952,  0.2513,  0.1244,\n",
              "                      -0.4066, -0.1420,  0.2586, -0.1926, -0.3884, -0.3191,  0.2043, -0.2957,\n",
              "                      -0.2812, -0.2999, -0.2001,  0.1519, -0.2293, -0.3046, -0.4104, -0.1282,\n",
              "                       0.2928, -0.3489, -0.3726, -0.1537, -0.3175,  0.1439, -0.2965, -0.3223,\n",
              "                       0.0913, -0.3152, -0.2304, -0.4481, -0.3222, -0.4014, -0.2672, -0.3303,\n",
              "                      -0.1260, -0.2307, -0.4592, -0.0845,  0.1693, -0.1132, -0.3582, -0.2785],\n",
              "                     device='cuda:0')),\n",
              "             ('architecture.2.running_var',\n",
              "              tensor([41.7211,  5.8934, 47.3450, 25.6805,  9.4367, 18.2860,  4.8992,  5.4652,\n",
              "                      11.0047, 11.9927,  2.0581, 38.4037,  8.5765,  6.5239, 23.4609, 14.1382,\n",
              "                      34.4956, 12.6239, 47.2093,  8.3910, 19.1595, 52.7577,  5.5365, 13.4834,\n",
              "                      59.0074,  9.3146, 66.6281, 24.0047,  7.9094, 60.2641, 46.4744, 17.9660,\n",
              "                       9.8729, 18.4410,  6.4690, 59.8948, 63.6546,  9.8703, 12.6561, 37.2781,\n",
              "                      45.3731,  3.2842, 41.5779,  8.0104, 10.7390, 66.8589,  4.4935, 10.2005,\n",
              "                      44.9995, 21.4089, 16.6713, 28.3068, 12.8958, 62.2209,  9.4937, 28.2594,\n",
              "                      69.5491, 15.9173, 53.7893, 23.8877, 49.2362, 51.7721,  9.6435,  7.6728],\n",
              "                     device='cuda:0')),\n",
              "             ('architecture.2.num_batches_tracked',\n",
              "              tensor(360, device='cuda:0')),\n",
              "             ('architecture.5.weight', tensor([[[[-0.3720, -0.3330, -0.3109],\n",
              "                        [-0.3431, -0.3394, -0.2986],\n",
              "                        [-0.3099, -0.3199, -0.3226]],\n",
              "              \n",
              "                       [[-0.0244,  0.2866,  0.2303],\n",
              "                        [-0.1293,  0.2565,  0.2542],\n",
              "                        [ 0.2697,  0.2797,  0.2650]],\n",
              "              \n",
              "                       [[-0.3664, -0.3489, -0.3443],\n",
              "                        [-0.3437, -0.3569, -0.3267],\n",
              "                        [-0.3693, -0.3675, -0.3386]],\n",
              "              \n",
              "                       ...,\n",
              "              \n",
              "                       [[ 0.3015,  0.2674,  0.3473],\n",
              "                        [ 0.3332,  0.3104,  0.2873],\n",
              "                        [ 0.2933,  0.2782,  0.2888]],\n",
              "              \n",
              "                       [[-0.2650, -0.2517, -0.2464],\n",
              "                        [-0.2396, -0.2660, -0.2155],\n",
              "                        [-0.1122, -0.0752,  0.1649]],\n",
              "              \n",
              "                       [[-0.3228, -0.3405, -0.3388],\n",
              "                        [-0.3402, -0.3543, -0.3774],\n",
              "                        [-0.3058, -0.3218, -0.3748]]],\n",
              "              \n",
              "              \n",
              "                      [[[ 0.3037,  0.3219,  0.3648],\n",
              "                        [ 0.3173,  0.3027,  0.3440],\n",
              "                        [ 0.3176,  0.3626,  0.3004]],\n",
              "              \n",
              "                       [[ 0.2875,  0.3479,  0.2520],\n",
              "                        [ 0.1896,  0.3331,  0.2210],\n",
              "                        [ 0.1734,  0.2868,  0.1827]],\n",
              "              \n",
              "                       [[ 0.3415,  0.3627,  0.2977],\n",
              "                        [ 0.3028,  0.3528,  0.3730],\n",
              "                        [ 0.2615,  0.3141,  0.3643]],\n",
              "              \n",
              "                       ...,\n",
              "              \n",
              "                       [[ 0.3023,  0.2928,  0.3094],\n",
              "                        [ 0.2964,  0.3342,  0.3173],\n",
              "                        [ 0.2487,  0.2513,  0.2872]],\n",
              "              \n",
              "                       [[ 0.3452,  0.3022,  0.3152],\n",
              "                        [ 0.2693,  0.2894,  0.2986],\n",
              "                        [ 0.2976,  0.3528,  0.2854]],\n",
              "              \n",
              "                       [[ 0.3432,  0.3438,  0.3432],\n",
              "                        [ 0.2969,  0.3337,  0.3453],\n",
              "                        [ 0.3439,  0.3609,  0.3444]]],\n",
              "              \n",
              "              \n",
              "                      [[[ 0.3038,  0.3255,  0.3163],\n",
              "                        [ 0.2916,  0.3444,  0.2886],\n",
              "                        [ 0.2765,  0.2558,  0.3002]],\n",
              "              \n",
              "                       [[ 0.3322,  0.2956,  0.3202],\n",
              "                        [ 0.2791,  0.2635,  0.3352],\n",
              "                        [ 0.3193,  0.3263,  0.2590]],\n",
              "              \n",
              "                       [[ 0.3087,  0.3072,  0.2933],\n",
              "                        [ 0.2676,  0.2933,  0.3194],\n",
              "                        [-0.1856, -0.1798,  0.1287]],\n",
              "              \n",
              "                       ...,\n",
              "              \n",
              "                       [[ 0.2975,  0.3188,  0.3335],\n",
              "                        [ 0.3543,  0.3533,  0.3551],\n",
              "                        [ 0.3549,  0.3572,  0.2963]],\n",
              "              \n",
              "                       [[ 0.3242,  0.3564,  0.2622],\n",
              "                        [ 0.2405,  0.3009,  0.2921],\n",
              "                        [ 0.3142,  0.2553,  0.3115]],\n",
              "              \n",
              "                       [[ 0.3070,  0.3123,  0.3117],\n",
              "                        [ 0.2774,  0.2651,  0.2556],\n",
              "                        [ 0.2702,  0.1656,  0.2721]]],\n",
              "              \n",
              "              \n",
              "                      ...,\n",
              "              \n",
              "              \n",
              "                      [[[ 0.3518,  0.3359,  0.3665],\n",
              "                        [ 0.3191,  0.2944,  0.3137],\n",
              "                        [ 0.3529,  0.3641,  0.2885]],\n",
              "              \n",
              "                       [[ 0.3520,  0.2916,  0.3302],\n",
              "                        [ 0.2618,  0.3051,  0.2946],\n",
              "                        [ 0.3081,  0.2887,  0.2940]],\n",
              "              \n",
              "                       [[ 0.3270,  0.2873,  0.2789],\n",
              "                        [ 0.2630,  0.3474,  0.2892],\n",
              "                        [-0.2135, -0.1136, -0.1427]],\n",
              "              \n",
              "                       ...,\n",
              "              \n",
              "                       [[ 0.3181,  0.2591,  0.3184],\n",
              "                        [ 0.3475,  0.3410,  0.3152],\n",
              "                        [ 0.3128,  0.2549,  0.3414]],\n",
              "              \n",
              "                       [[ 0.2727,  0.2602,  0.2917],\n",
              "                        [ 0.3262,  0.2685,  0.3055],\n",
              "                        [ 0.2887,  0.3124,  0.3188]],\n",
              "              \n",
              "                       [[ 0.3403,  0.3306,  0.3441],\n",
              "                        [ 0.3386,  0.2982,  0.3128],\n",
              "                        [ 0.3603,  0.3285,  0.3537]]],\n",
              "              \n",
              "              \n",
              "                      [[[ 0.3497,  0.2902,  0.3446],\n",
              "                        [ 0.3487,  0.3384,  0.3537],\n",
              "                        [ 0.2889,  0.3420,  0.3127]],\n",
              "              \n",
              "                       [[ 0.3058,  0.2727,  0.2787],\n",
              "                        [ 0.2984,  0.3082,  0.2771],\n",
              "                        [ 0.3225,  0.2668,  0.2941]],\n",
              "              \n",
              "                       [[ 0.3069,  0.3051,  0.3450],\n",
              "                        [ 0.2723,  0.3113,  0.3075],\n",
              "                        [ 0.2920,  0.3461,  0.2656]],\n",
              "              \n",
              "                       ...,\n",
              "              \n",
              "                       [[ 0.1319, -0.1878, -0.2367],\n",
              "                        [ 0.2165, -0.1714, -0.2316],\n",
              "                        [ 0.2620,  0.2415, -0.2255]],\n",
              "              \n",
              "                       [[ 0.3327,  0.2621,  0.2777],\n",
              "                        [ 0.2871,  0.2523,  0.2415],\n",
              "                        [ 0.2259, -0.2000, -0.1726]],\n",
              "              \n",
              "                       [[ 0.3679,  0.3580,  0.3399],\n",
              "                        [ 0.2906,  0.2963,  0.3424],\n",
              "                        [ 0.3542,  0.3244,  0.3203]]],\n",
              "              \n",
              "              \n",
              "                      [[[ 0.3259,  0.3357,  0.3622],\n",
              "                        [ 0.3318,  0.3041,  0.3192],\n",
              "                        [ 0.3326,  0.3266,  0.3447]],\n",
              "              \n",
              "                       [[ 0.2421,  0.3056,  0.3055],\n",
              "                        [ 0.2194,  0.2402,  0.2268],\n",
              "                        [ 0.2013,  0.2181,  0.1740]],\n",
              "              \n",
              "                       [[ 0.2656,  0.2802,  0.2912],\n",
              "                        [ 0.2932,  0.3052,  0.2873],\n",
              "                        [-0.1909,  0.2657, -0.0707]],\n",
              "              \n",
              "                       ...,\n",
              "              \n",
              "                       [[ 0.2191,  0.0991,  0.2105],\n",
              "                        [ 0.2665,  0.3210,  0.3064],\n",
              "                        [ 0.2759,  0.2860,  0.2658]],\n",
              "              \n",
              "                       [[ 0.2785,  0.2807,  0.3317],\n",
              "                        [ 0.2443,  0.2856,  0.3082],\n",
              "                        [ 0.2866,  0.2757,  0.3102]],\n",
              "              \n",
              "                       [[ 0.3133,  0.3807,  0.3706],\n",
              "                        [ 0.3325,  0.3760,  0.3475],\n",
              "                        [ 0.3648,  0.3306,  0.2951]]]], device='cuda:0')),\n",
              "             ('architecture.5.bias',\n",
              "              tensor([ 0.2840,  0.2729,  0.1417, -0.3411, -0.2463,  0.2800, -0.3478,  0.2181,\n",
              "                       0.2874, -0.1508,  0.2494, -0.3194,  0.2961, -0.1826, -0.1999,  0.3456,\n",
              "                       0.2692, -0.2800,  0.2883, -0.3296,  0.1917, -0.3336, -0.3523, -0.3422,\n",
              "                      -0.3324,  0.2878, -0.3429, -0.2244, -0.3585, -0.2772,  0.2952, -0.2368,\n",
              "                       0.3094, -0.3270, -0.3414, -0.3144,  0.2468,  0.2507, -0.2443,  0.2380,\n",
              "                      -0.2850, -0.3251,  0.2774, -0.3015, -0.1807, -0.3643, -0.2809, -0.2300,\n",
              "                      -0.3288, -0.2545,  0.3348,  0.2741, -0.3667, -0.2914, -0.2973,  0.2844,\n",
              "                      -0.3619, -0.2968, -0.3709,  0.2657, -0.1726,  0.2592,  0.2549, -0.3595,\n",
              "                      -0.3680, -0.3288, -0.3558,  0.2424, -0.1818, -0.3265,  0.2724, -0.1124,\n",
              "                      -0.2574, -0.3622, -0.2452,  0.3303, -0.3530,  0.2450, -0.3416, -0.3596,\n",
              "                       0.2643,  0.2668,  0.3609, -0.2327, -0.2753,  0.1730, -0.2727, -0.2820,\n",
              "                      -0.3636, -0.3308, -0.2162, -0.2356,  0.2221, -0.3095,  0.2367,  0.2630,\n",
              "                       0.2804, -0.1694,  0.3742,  0.3068, -0.3285,  0.2485, -0.3482, -0.1289,\n",
              "                       0.2903,  0.1441,  0.1064, -0.1983, -0.3123, -0.2984, -0.1649,  0.3024,\n",
              "                      -0.3116, -0.2975,  0.3664,  0.3580, -0.3616, -0.3341, -0.3702, -0.2424,\n",
              "                      -0.3690,  0.2850, -0.3120, -0.2996, -0.0597, -0.3071, -0.3449, -0.1240],\n",
              "                     device='cuda:0')),\n",
              "             ('architecture.7.weight',\n",
              "              tensor([0.6508, 0.7325, 0.7423, 1.3365, 0.6977, 0.7225, 0.7713, 0.7330, 0.7180,\n",
              "                      0.6575, 0.7522, 0.8269, 1.2067, 0.7670, 0.7121, 1.2618, 1.2393, 0.6692,\n",
              "                      0.6958, 0.7762, 0.7784, 1.3186, 0.7631, 1.2281, 0.8141, 0.6619, 0.8021,\n",
              "                      0.6429, 1.3429, 1.2267, 0.7286, 0.7666, 0.7235, 0.7945, 1.3338, 1.2822,\n",
              "                      0.6550, 0.7137, 0.7679, 1.2202, 1.3499, 1.3679, 0.7727, 0.7621, 0.7011,\n",
              "                      1.2813, 1.3224, 0.6613, 1.3347, 0.7436, 1.0635, 0.6656, 1.3041, 1.3053,\n",
              "                      1.2841, 1.2728, 1.3470, 1.3044, 1.3464, 1.2209, 1.3411, 0.7623, 1.0941,\n",
              "                      1.2027, 1.3566, 1.3169, 1.3365, 1.1725, 0.6782, 1.1595, 1.0703, 1.2778,\n",
              "                      1.2118, 1.3141, 0.7952, 0.7414, 1.3433, 0.6429, 1.1469, 1.3004, 1.1814,\n",
              "                      0.7573, 0.8897, 0.7316, 1.2636, 0.8342, 1.2547, 1.3331, 1.2723, 1.2591,\n",
              "                      0.6745, 0.7092, 0.7747, 1.0295, 0.7621, 0.6709, 0.6956, 1.2400, 0.7388,\n",
              "                      1.2600, 1.3129, 1.2316, 1.2482, 1.2945, 0.7674, 0.6943, 0.6323, 1.3145,\n",
              "                      1.2856, 1.3436, 0.7188, 1.2283, 1.2238, 1.3454, 1.3177, 1.2447, 1.3125,\n",
              "                      1.2865, 1.2906, 0.7706, 1.3518, 0.7480, 1.3072, 0.6920, 1.1864, 0.7151,\n",
              "                      1.3526, 0.8318], device='cuda:0')),\n",
              "             ('architecture.7.bias',\n",
              "              tensor([-0.3559, -0.2689, -0.1839, -0.3297, -0.3656, -0.2517, -0.2499, -0.3077,\n",
              "                      -0.1861, -0.3348, -0.2830, -0.3002,  0.1079, -0.2546, -0.3212,  0.1961,\n",
              "                      -0.3144, -0.3227, -0.2883, -0.2949, -0.2437,  0.0563, -0.3399, -0.3317,\n",
              "                      -0.3108, -0.3464, -0.3065, -0.3470, -0.3404, -0.2509, -0.0827, -0.2522,\n",
              "                      -0.3169, -0.3120,  0.1471, -0.3336, -0.3526, -0.3305, -0.2800,  0.0502,\n",
              "                      -0.2480, -0.3030, -0.2859, -0.3233, -0.3230, -0.3179, -0.3617, -0.2757,\n",
              "                      -0.3616, -0.2988, -0.2049, -0.2361, -0.3559, -0.2575, -0.3545,  0.0576,\n",
              "                      -0.3398, -0.3124, -0.3543, -0.2116, -0.2361, -0.1772, -0.3306, -0.2528,\n",
              "                      -0.3539, -0.2726, -0.3174, -0.3553, -0.3430, -0.2959, -0.2179, -0.3258,\n",
              "                      -0.3522, -0.2317, -0.3304, -0.3075,  0.0753, -0.3597, -0.3597, -0.3135,\n",
              "                      -0.2714, -0.3388, -0.0703, -0.3408, -0.2857, -0.3183, -0.2797,  0.0391,\n",
              "                      -0.2344, -0.3237, -0.2720, -0.2391, -0.2793, -0.3120, -0.2772, -0.3603,\n",
              "                      -0.2330, -0.2982, -0.2702,  0.0277, -0.2453, -0.3605,  0.1124, -0.2360,\n",
              "                      -0.1747, -0.3282, -0.3648, -0.3390, -0.3526, -0.3430, -0.2422, -0.2542,\n",
              "                      -0.3116, -0.3572,  0.2969, -0.1238, -0.3292, -0.3501, -0.3331, -0.2978,\n",
              "                      -0.3473, -0.2947, -0.2943, -0.3264, -0.3480, -0.3265, -0.3365, -0.2913],\n",
              "                     device='cuda:0')),\n",
              "             ('architecture.7.running_mean',\n",
              "              tensor([-11.5346,  31.8613,  21.9006,  12.3849,  -1.2540,  19.7219, -11.8765,\n",
              "                       24.1177, -15.3281, -30.4409,  18.5774,  20.9139,  17.5681, -19.7670,\n",
              "                      -10.5933,   9.6904,  19.9557,  -3.9230,  -9.3104, -23.7013, -11.6282,\n",
              "                       27.3886, -24.3032,  14.0195,  16.7648, -14.2247,  17.0072,  16.3903,\n",
              "                        9.6531,  28.3576, -10.4740,  -2.6648,  34.2460,  23.0583,  17.7171,\n",
              "                       11.4810, -21.4295,  14.8129, -24.2088,  24.5394,  13.6769,  11.2251,\n",
              "                       24.0068, -24.8658, -18.9132,   6.1179,  12.8928, -39.0179,   2.7418,\n",
              "                       -2.4445,   4.9145, -31.6723,   9.1927,  25.5871,  11.9800,  31.2394,\n",
              "                       10.7548,  12.1620,   0.6839,   1.3862,   7.3033, -11.9225,  27.5584,\n",
              "                       14.2142,  10.1691,  11.2773,  12.6427,  15.8730, -20.7386,  22.3485,\n",
              "                        4.2489,   9.0941,  13.6758,  22.7607, -26.4839,   8.3419,  13.1883,\n",
              "                      -27.9611,  17.1721,  13.0628,  22.4292,  11.4732, -30.0395,  27.3497,\n",
              "                        7.7942, -13.3618,  22.4227,  26.7735,  31.2037,  17.6468,   6.3503,\n",
              "                      -27.8184,  -1.0157,  27.8462,  -1.1194, -31.4755,  10.8002,  17.3302,\n",
              "                       27.6075,  33.4685,  16.8470,  23.4113,   8.2863,  30.0271,   2.0087,\n",
              "                      -13.1463,  20.8831,  11.5812,  18.3148,   4.0714, -29.4610,  13.3071,\n",
              "                       14.9135,  12.1117,  14.7786, -11.8003,  21.3204,  14.4558,  13.0429,\n",
              "                      -22.2342,   6.5528,   7.3765,   6.2836,  12.8532,  12.5895,  28.6343,\n",
              "                        9.6287,  21.4390], device='cuda:0')),\n",
              "             ('architecture.7.running_var',\n",
              "              tensor([ 719.0894, 1036.2466,  457.6799, 1004.6726,  377.9536,  966.9846,\n",
              "                       493.0393, 1008.8870,  276.7425,  904.4003,  603.6083,  792.5731,\n",
              "                       402.5702, 1194.6007,  260.6442,  430.0390,  873.3712,  514.6886,\n",
              "                       382.0736, 1062.4192,  830.6487,  837.8372, 1113.9561,  803.6253,\n",
              "                      1203.6655,  631.8232,  894.5458,  294.6114,  882.8903, 1052.3215,\n",
              "                       228.8316,  319.3232, 1249.4872, 1020.3394,  515.4234,  806.5496,\n",
              "                      1055.5281, 1027.9155, 1034.4390,  513.3905,  833.5441,  532.0368,\n",
              "                      1041.4662, 1126.9280, 1217.4945,  684.6885,  531.4689, 1494.0857,\n",
              "                       852.7394,  384.7850,  666.2205,  959.1865,  582.3123,  775.3525,\n",
              "                       985.4140, 1052.2178,  834.4293,  977.9478,  671.3679,  389.0471,\n",
              "                       591.7811,  564.8483,  812.2678, 1010.3557,  576.1088,  973.4684,\n",
              "                      1039.7971,  711.2388, 1036.2765,  950.4944,  596.1207,  899.7188,\n",
              "                       885.0087,  925.8195, 1169.6743,  195.6479,  288.9799, 1363.3547,\n",
              "                       988.3157,  594.9875,  943.6076,  178.0617,  834.6116,  950.4994,\n",
              "                       621.8810,  209.0396,  568.8625,  805.7421, 1123.5702,  881.9840,\n",
              "                       915.0096,  945.7108,  129.5719,  779.4266,  366.2157,  936.7202,\n",
              "                       717.9921,  779.1327,  743.7658, 1205.8108,  474.3566, 1287.1316,\n",
              "                       166.0582, 1204.3026,  543.1917,  981.2458,  425.5602,  660.0530,\n",
              "                      1012.0206,  808.8369, 1068.6831,  874.6624,  776.7527,  789.1461,\n",
              "                       578.4480,  177.0678, 1178.7645,  667.6202,  994.2572,  811.8145,\n",
              "                       868.9817,  547.2538,  790.6629,  240.8792,  653.2775,  973.5700,\n",
              "                       715.9052,  786.4460], device='cuda:0')),\n",
              "             ('architecture.7.num_batches_tracked',\n",
              "              tensor(360, device='cuda:0')),\n",
              "             ('architecture.10.weight', tensor([[[[ 0.3118,  0.2069,  0.2124],\n",
              "                        [ 0.2850, -0.2619, -0.2420],\n",
              "                        [ 0.3147, -0.2911, -0.2825]],\n",
              "              \n",
              "                       [[-0.1675, -0.3022, -0.3206],\n",
              "                        [ 0.1454, -0.3373, -0.3240],\n",
              "                        [-0.2437, -0.3395, -0.2842]],\n",
              "              \n",
              "                       [[ 0.3160,  0.2266,  0.2022],\n",
              "                        [ 0.3440, -0.1711, -0.2350],\n",
              "                        [ 0.3048, -0.2535, -0.2680]],\n",
              "              \n",
              "                       ...,\n",
              "              \n",
              "                       [[ 0.1885, -0.3314, -0.3359],\n",
              "                        [ 0.2236, -0.3035, -0.3282],\n",
              "                        [ 0.2675, -0.3109, -0.3002]],\n",
              "              \n",
              "                       [[ 0.3032,  0.2671, -0.2836],\n",
              "                        [ 0.2602, -0.3333, -0.3238],\n",
              "                        [ 0.3207, -0.2716, -0.2876]],\n",
              "              \n",
              "                       [[-0.1283, -0.3023, -0.3168],\n",
              "                        [-0.2472, -0.3352, -0.3093],\n",
              "                        [ 0.2133, -0.2897, -0.3394]]],\n",
              "              \n",
              "              \n",
              "                      [[[ 0.3467,  0.2880,  0.1862],\n",
              "                        [ 0.3600,  0.3517,  0.2424],\n",
              "                        [-0.1372, -0.1903, -0.2691]],\n",
              "              \n",
              "                       [[ 0.2491,  0.2199,  0.1502],\n",
              "                        [ 0.3327,  0.2628,  0.1803],\n",
              "                        [-0.2121, -0.2768, -0.2725]],\n",
              "              \n",
              "                       [[ 0.3404,  0.2822,  0.1849],\n",
              "                        [ 0.3578,  0.3284,  0.2309],\n",
              "                        [-0.1185, -0.2399, -0.2871]],\n",
              "              \n",
              "                       ...,\n",
              "              \n",
              "                       [[ 0.3233,  0.2468,  0.1642],\n",
              "                        [ 0.3550,  0.2925,  0.1156],\n",
              "                        [-0.1402, -0.2547, -0.2852]],\n",
              "              \n",
              "                       [[ 0.3171,  0.3334,  0.2311],\n",
              "                        [ 0.3026,  0.3199,  0.2484],\n",
              "                        [ 0.2318, -0.1001, -0.2326]],\n",
              "              \n",
              "                       [[ 0.3599,  0.3350,  0.2731],\n",
              "                        [ 0.3314,  0.3439,  0.2021],\n",
              "                        [-0.1220, -0.2293, -0.3140]]],\n",
              "              \n",
              "              \n",
              "                      [[[ 0.2734, -0.2890, -0.2960],\n",
              "                        [-0.1881, -0.3262, -0.3236],\n",
              "                        [ 0.2233, -0.3037, -0.3025]],\n",
              "              \n",
              "                       [[-0.2024, -0.3322, -0.2984],\n",
              "                        [-0.2696, -0.3485, -0.3425],\n",
              "                        [-0.2214, -0.3292, -0.3445]],\n",
              "              \n",
              "                       [[ 0.2800, -0.1810, -0.1382],\n",
              "                        [-0.0943, -0.2735, -0.2657],\n",
              "                        [ 0.2344, -0.2279, -0.2307]],\n",
              "              \n",
              "                       ...,\n",
              "              \n",
              "                       [[ 0.2429, -0.3269, -0.2761],\n",
              "                        [-0.1547, -0.2927, -0.2888],\n",
              "                        [ 0.2496, -0.2868, -0.3103]],\n",
              "              \n",
              "                       [[ 0.2959,  0.3128,  0.3108],\n",
              "                        [ 0.3195,  0.2627, -0.2208],\n",
              "                        [ 0.2704, -0.1887, -0.2846]],\n",
              "              \n",
              "                       [[ 0.3017, -0.2156, -0.2991],\n",
              "                        [ 0.2424, -0.3154, -0.3253],\n",
              "                        [ 0.1724, -0.3069, -0.2832]]],\n",
              "              \n",
              "              \n",
              "                      ...,\n",
              "              \n",
              "              \n",
              "                      [[[ 0.2359, -0.2935, -0.2761],\n",
              "                        [-0.2805, -0.3024, -0.2846],\n",
              "                        [-0.2378, -0.3132, -0.3058]],\n",
              "              \n",
              "                       [[ 0.1635, -0.2646, -0.2635],\n",
              "                        [-0.2705, -0.3471, -0.3161],\n",
              "                        [-0.2141, -0.3137, -0.3120]],\n",
              "              \n",
              "                       [[ 0.3029,  0.2200,  0.2118],\n",
              "                        [ 0.1684, -0.2805, -0.2858],\n",
              "                        [ 0.2830, -0.2786, -0.2900]],\n",
              "              \n",
              "                       ...,\n",
              "              \n",
              "                       [[-0.2391, -0.3156, -0.3276],\n",
              "                        [-0.3334, -0.3353, -0.3333],\n",
              "                        [-0.2806, -0.3416, -0.3238]],\n",
              "              \n",
              "                       [[-0.2355, -0.3034, -0.3426],\n",
              "                        [-0.3051, -0.2967, -0.3338],\n",
              "                        [-0.3102, -0.3342, -0.3162]],\n",
              "              \n",
              "                       [[-0.2919, -0.3418, -0.3095],\n",
              "                        [-0.2818, -0.3441, -0.3115],\n",
              "                        [-0.2844, -0.3048, -0.3021]]],\n",
              "              \n",
              "              \n",
              "                      [[[ 0.2732, -0.2837, -0.2769],\n",
              "                        [ 0.2195, -0.2887, -0.3076],\n",
              "                        [-0.1937, -0.3161, -0.2873]],\n",
              "              \n",
              "                       [[ 0.2849, -0.2940, -0.2521],\n",
              "                        [ 0.2670, -0.3111, -0.3345],\n",
              "                        [ 0.0892, -0.3018, -0.2989]],\n",
              "              \n",
              "                       [[ 0.3193, -0.2982, -0.2807],\n",
              "                        [ 0.1435, -0.2858, -0.2963],\n",
              "                        [-0.2331, -0.2746, -0.3139]],\n",
              "              \n",
              "                       ...,\n",
              "              \n",
              "                       [[-0.2559, -0.2880, -0.3163],\n",
              "                        [-0.2525, -0.3309, -0.2884],\n",
              "                        [-0.2631, -0.2751, -0.2871]],\n",
              "              \n",
              "                       [[-0.3109, -0.3050, -0.2873],\n",
              "                        [-0.3270, -0.3257, -0.2810],\n",
              "                        [-0.2923, -0.2979, -0.3181]],\n",
              "              \n",
              "                       [[-0.2939, -0.3060, -0.3139],\n",
              "                        [-0.2841, -0.3384, -0.3118],\n",
              "                        [-0.2861, -0.2952, -0.2917]]],\n",
              "              \n",
              "              \n",
              "                      [[[ 0.3237,  0.2649,  0.3133],\n",
              "                        [ 0.2607,  0.2558,  0.2760],\n",
              "                        [ 0.2329, -0.0809, -0.0132]],\n",
              "              \n",
              "                       [[ 0.2085, -0.2268, -0.2177],\n",
              "                        [-0.1444, -0.2486, -0.2829],\n",
              "                        [-0.0676, -0.2431, -0.2486]],\n",
              "              \n",
              "                       [[ 0.3026, -0.1051, -0.2736],\n",
              "                        [-0.1617, -0.2802, -0.2970],\n",
              "                        [-0.1723, -0.3136, -0.3188]],\n",
              "              \n",
              "                       ...,\n",
              "              \n",
              "                       [[-0.0787, -0.2688, -0.2667],\n",
              "                        [-0.1130, -0.2807, -0.3016],\n",
              "                        [-0.0950, -0.3033, -0.2967]],\n",
              "              \n",
              "                       [[-0.2804, -0.3302, -0.3139],\n",
              "                        [-0.3056, -0.3212, -0.2898],\n",
              "                        [-0.3340, -0.3139, -0.3034]],\n",
              "              \n",
              "                       [[-0.2697, -0.2961, -0.2940],\n",
              "                        [-0.3103, -0.2879, -0.3064],\n",
              "                        [-0.3127, -0.3292, -0.2833]]]], device='cuda:0')),\n",
              "             ('architecture.10.bias',\n",
              "              tensor([ 0.3027,  0.1574,  0.2329,  0.3466,  0.3075,  0.2590, -0.1846,  0.3132,\n",
              "                       0.3371,  0.3071,  0.3329,  0.3109,  0.2786,  0.2757,  0.3172,  0.3025,\n",
              "                       0.3274,  0.1720,  0.2333,  0.2992,  0.3156,  0.3184,  0.2660,  0.3588,\n",
              "                       0.3346,  0.2650,  0.2902,  0.3163,  0.2915,  0.3112,  0.3082,  0.2551,\n",
              "                       0.3146,  0.2733,  0.3032,  0.3382,  0.3385,  0.2269,  0.3219,  0.2778,\n",
              "                       0.3010,  0.3266,  0.2877,  0.3086,  0.3408,  0.3110,  0.3416,  0.3444,\n",
              "                       0.3120,  0.2623,  0.3269,  0.2909,  0.2663,  0.2923,  0.3243,  0.3422,\n",
              "                       0.2799,  0.3142,  0.3088,  0.2932,  0.2906,  0.1717,  0.0843,  0.3513,\n",
              "                       0.3239,  0.3399,  0.3076,  0.3379,  0.2955,  0.2546,  0.3255,  0.3471,\n",
              "                       0.1371,  0.3040,  0.2988,  0.3507,  0.3074,  0.3037,  0.3446,  0.3282,\n",
              "                       0.3080,  0.3380,  0.2796,  0.2748,  0.3033,  0.3146,  0.2921,  0.3143,\n",
              "                       0.0741,  0.2868,  0.3239,  0.2888,  0.2625,  0.3171,  0.3069,  0.2886,\n",
              "                       0.1517,  0.3007,  0.3101,  0.3289,  0.3227,  0.3537,  0.3392,  0.3006,\n",
              "                       0.3145,  0.3280,  0.3353,  0.3236,  0.3022,  0.2951,  0.3097,  0.2626,\n",
              "                       0.3089,  0.2688,  0.2673,  0.3381, -0.2968,  0.3087,  0.2960,  0.3145,\n",
              "                       0.3425,  0.3050, -0.3894,  0.2798,  0.3286,  0.2867,  0.2981,  0.3000,\n",
              "                       0.3044,  0.3414,  0.2933,  0.2880,  0.3064,  0.3298,  0.3026,  0.2419,\n",
              "                       0.2053,  0.3056,  0.3002,  0.3131,  0.2635,  0.3098,  0.2995,  0.3198,\n",
              "                       0.3283,  0.2892,  0.3027,  0.3056,  0.2119,  0.3242,  0.2760,  0.3239,\n",
              "                       0.3012,  0.2735,  0.2188,  0.1878,  0.3190,  0.3111,  0.3192,  0.3130,\n",
              "                       0.1770,  0.3076,  0.2867,  0.3049,  0.3268,  0.3386,  0.3580,  0.2336,\n",
              "                       0.2684,  0.3311,  0.2934,  0.2980,  0.3148,  0.3387,  0.3162,  0.2987,\n",
              "                       0.3072,  0.2920,  0.2086,  0.3094,  0.2695,  0.3139,  0.2163,  0.2896,\n",
              "                       0.3104,  0.2899,  0.2902,  0.3507,  0.3350,  0.3036,  0.2632,  0.2000,\n",
              "                       0.2840,  0.3254,  0.2985,  0.3292,  0.3497,  0.3054,  0.2926,  0.3442,\n",
              "                       0.3123,  0.3058,  0.3151,  0.1912,  0.3348,  0.2650,  0.1748, -0.1232,\n",
              "                       0.2974,  0.3072,  0.2849,  0.2305,  0.2590,  0.3251,  0.3389,  0.3418,\n",
              "                       0.2935,  0.2720,  0.2569,  0.3166,  0.2944,  0.2944,  0.3084,  0.3374,\n",
              "                       0.2603,  0.2985,  0.3432,  0.3228,  0.3034,  0.3373,  0.2896,  0.1526,\n",
              "                       0.2992,  0.3164,  0.2944,  0.2551,  0.3195,  0.3329,  0.3305,  0.3322,\n",
              "                       0.3216,  0.3042,  0.3034,  0.2536,  0.2929,  0.2720,  0.3339,  0.2946,\n",
              "                       0.2576, -0.2484,  0.2887,  0.1160,  0.2412,  0.3172,  0.3466,  0.3317],\n",
              "                     device='cuda:0')),\n",
              "             ('architecture.12.weight',\n",
              "              tensor([0.6507, 0.7038, 0.6507, 0.6379, 0.6528, 0.6723, 0.6412, 0.6398, 0.6386,\n",
              "                      0.6424, 0.6412, 0.6630, 0.6652, 0.6423, 0.6604, 0.6368, 0.6418, 0.6441,\n",
              "                      0.6428, 0.6539, 0.6502, 0.6449, 0.6445, 0.6444, 0.6463, 0.6612, 0.6651,\n",
              "                      0.6491, 0.6514, 0.6531, 0.6430, 0.6493, 0.6480, 0.6450, 0.6432, 0.6321,\n",
              "                      0.6457, 0.6471, 0.6477, 0.6389, 0.6418, 0.6412, 0.6388, 0.6320, 0.6418,\n",
              "                      0.6421, 0.6412, 0.6481, 0.6642, 0.6469, 0.6577, 0.6535, 0.6451, 0.6513,\n",
              "                      0.6393, 0.6408, 0.6484, 0.6581, 0.6398, 0.6358, 0.6453, 0.6423, 0.6500,\n",
              "                      0.6431, 0.6552, 0.6542, 0.6360, 0.6506, 0.6468, 0.6606, 0.6581, 0.6343,\n",
              "                      0.6430, 0.6495, 0.6514, 0.6462, 0.6461, 0.6576, 0.6467, 0.6379, 0.6336,\n",
              "                      0.6388, 0.6459, 0.6494, 0.6673, 0.6473, 0.6521, 0.6449, 0.6437, 0.6387,\n",
              "                      0.6573, 0.6302, 0.6560, 0.6499, 0.6467, 0.6988, 0.6489, 0.6570, 0.6631,\n",
              "                      0.6509, 0.6345, 0.6604, 0.6514, 0.6474, 0.6400, 0.6654, 0.6597, 0.6488,\n",
              "                      0.6368, 0.6582, 0.6467, 0.6717, 0.6450, 0.6418, 0.6399, 0.6618, 0.6452,\n",
              "                      0.6427, 0.6354, 0.6446, 0.6458, 0.6430, 0.6470, 0.6380, 0.6515, 0.6431,\n",
              "                      0.6372, 0.6483, 0.6506, 0.6618, 0.6555, 0.6474, 0.6496, 0.6409, 0.6545,\n",
              "                      0.6624, 0.6581, 0.6513, 0.6589, 0.6458, 0.6752, 0.6325, 0.6502, 0.6444,\n",
              "                      0.6637, 0.6655, 0.6449, 0.6389, 0.6769, 0.6481, 0.6634, 0.6474, 0.6674,\n",
              "                      0.6562, 0.6507, 0.6409, 0.6405, 0.6390, 0.6381, 0.6478, 0.6486, 0.6381,\n",
              "                      0.6443, 0.6529, 0.6584, 0.6531, 0.6442, 0.6818, 0.6450, 0.6584, 0.6577,\n",
              "                      0.6453, 0.6426, 0.6463, 0.6623, 0.6611, 0.6452, 0.6402, 0.6952, 0.6383,\n",
              "                      0.6410, 0.6393, 0.6492, 0.6494, 0.6573, 0.6767, 0.6824, 0.6475, 0.6378,\n",
              "                      0.6481, 0.6401, 0.6435, 0.6540, 0.6482, 0.6430, 0.6354, 0.6549, 0.6471,\n",
              "                      0.6447, 0.6454, 0.6434, 0.6372, 0.6468, 0.6432, 0.6586, 0.6569, 0.6433,\n",
              "                      0.6684, 0.6481, 0.6411, 0.6563, 0.6426, 0.6510, 0.6483, 0.6404, 0.6670,\n",
              "                      0.6467, 0.6467, 0.6388, 0.6492, 0.6460, 0.6858, 0.6422, 0.6425, 0.6777,\n",
              "                      0.6665, 0.6364, 0.6411, 0.6411, 0.6353, 0.6516, 0.6405, 0.6535, 0.6573,\n",
              "                      0.6484, 0.6440, 0.6617, 0.6495, 0.6650, 0.6454, 0.6406, 0.6372, 0.6487,\n",
              "                      0.6344, 0.6404, 0.6818, 0.6410, 0.6576, 0.6463, 0.6499, 0.6743, 0.6457,\n",
              "                      0.6524, 0.6463, 0.6411, 0.6404], device='cuda:0')),\n",
              "             ('architecture.12.bias',\n",
              "              tensor([-0.3501, -0.3278, -0.3497, -0.3619, -0.3474, -0.3272, -0.3526, -0.3628,\n",
              "                      -0.3651, -0.3517, -0.3604, -0.3369, -0.3346, -0.3607, -0.3365, -0.3493,\n",
              "                      -0.3575, -0.3539, -0.3330, -0.3494, -0.3535, -0.3428, -0.3575, -0.3573,\n",
              "                      -0.3570, -0.3429, -0.3201, -0.3600, -0.3433, -0.3442, -0.3645, -0.3452,\n",
              "                      -0.3545, -0.3561, -0.3629, -0.3633, -0.3593, -0.3492, -0.3560, -0.3429,\n",
              "                      -0.3481, -0.3552, -0.3622, -0.3464, -0.3622, -0.3506, -0.3622, -0.3555,\n",
              "                      -0.3354, -0.3465, -0.3448, -0.3482, -0.3455, -0.3500, -0.3612, -0.3476,\n",
              "                      -0.3502, -0.3464, -0.3500, -0.3520, -0.3544, -0.3616, -0.3506, -0.3564,\n",
              "                      -0.3447, -0.3451, -0.3659, -0.3512, -0.3527, -0.3037, -0.3447, -0.3669,\n",
              "                      -0.3579, -0.3389, -0.3556, -0.3563, -0.3338, -0.3459, -0.3591, -0.3605,\n",
              "                      -0.3538, -0.3552, -0.3384, -0.3504, -0.3355, -0.3564, -0.3395, -0.3477,\n",
              "                      -0.3430, -0.3622, -0.3449, -0.3623, -0.3405, -0.3457, -0.3580, -0.2976,\n",
              "                      -0.3522, -0.3420, -0.3354, -0.3551, -0.3614, -0.3393, -0.3509, -0.3548,\n",
              "                      -0.3560, -0.3370, -0.3411, -0.3345, -0.3642, -0.3429, -0.3546, -0.2388,\n",
              "                      -0.3583, -0.3459, -0.3638, -0.3397, -0.3481, -0.3532, -0.2961, -0.3524,\n",
              "                      -0.3493, -0.3585, -0.3184, -0.3584, -0.3494, -0.3541, -0.3595, -0.3471,\n",
              "                      -0.3560, -0.3414, -0.3406, -0.3547, -0.3457, -0.3635, -0.3452, -0.3426,\n",
              "                      -0.3456, -0.3496, -0.3440, -0.3492, -0.3239, -0.3645, -0.3552, -0.3607,\n",
              "                      -0.3358, -0.3373, -0.3591, -0.3642, -0.2347, -0.3496, -0.3328, -0.3513,\n",
              "                      -0.3331, -0.2966, -0.3357, -0.3605, -0.3613, -0.3623, -0.3478, -0.3498,\n",
              "                      -0.3486, -0.3567, -0.3517, -0.3513, -0.3401, -0.3489, -0.3636, -0.2899,\n",
              "                      -0.3460, -0.3415, -0.3460, -0.3573, -0.3613, -0.3576, -0.3373, -0.3415,\n",
              "                      -0.3563, -0.3598, -0.2978, -0.3505, -0.3592, -0.3555, -0.3581, -0.3506,\n",
              "                      -0.3452, -0.3150, -0.3103, -0.3544, -0.3550, -0.3546, -0.3537, -0.3562,\n",
              "                      -0.3256, -0.3522, -0.3617, -0.3632, -0.3479, -0.3567, -0.3529, -0.3582,\n",
              "                      -0.3605, -0.3624, -0.3572, -0.3559, -0.3404, -0.3174, -0.3560, -0.3196,\n",
              "                      -0.3556, -0.3500, -0.3345, -0.3620, -0.3296, -0.3508, -0.3626, -0.3317,\n",
              "                      -0.3557, -0.3420, -0.3519, -0.3493, -0.3560, -0.3018, -0.3564, -0.3616,\n",
              "                      -0.2958, -0.3272, -0.3620, -0.3601, -0.3615, -0.3579, -0.3394, -0.3594,\n",
              "                      -0.3442, -0.3474, -0.3600, -0.3508, -0.3374, -0.3532, -0.3343, -0.3414,\n",
              "                      -0.3574, -0.3570, -0.3527, -0.3608, -0.3595, -0.3192, -0.3598, -0.3450,\n",
              "                      -0.3492, -0.3486, -0.3283, -0.3567, -0.3379, -0.3588, -0.3644, -0.3557],\n",
              "                     device='cuda:0')),\n",
              "             ('architecture.12.running_mean',\n",
              "              tensor([-35.1379,  25.6527,  -3.2990, -69.8386, -59.7167, -61.5601, -11.6738,\n",
              "                      -57.0165, -39.0401, -59.0068, -63.6887, -61.5748, -73.0564, -60.8612,\n",
              "                      -67.6767,  37.7971, -76.8047, -21.2679, -30.7122, -70.3158, -70.1238,\n",
              "                      -80.5036, -70.5828, -77.6137, -51.7883, -37.7874, -54.8545, -15.7481,\n",
              "                      -71.7495, -64.4663, -57.9914, -71.0213, -42.3962,  21.3546, -49.9610,\n",
              "                      -57.3253, -62.3554, -66.9362, -62.0951,  24.2444, -75.6057, -64.6206,\n",
              "                      -76.3815,  35.4008, -45.0955, -74.4979, -34.8774, -63.7951, -65.0353,\n",
              "                      -67.1248, -51.5758, -76.8771, -74.1837, -46.0589, -61.7101,   9.5148,\n",
              "                      -55.8217, -47.4519, -76.8905,  37.3936, -74.0281, -77.4891, -59.1794,\n",
              "                      -23.0843, -65.8561, -34.5260, -67.8950, -61.4813, -72.9347, -87.1129,\n",
              "                      -58.2015, -68.6620, -92.3950, -88.6478, -74.8646, -52.7678,  64.8000,\n",
              "                      -83.0660, -53.2384, -79.6101,  30.1803, -73.5155, -74.2406, -71.8889,\n",
              "                       -5.9507, -68.8598, -50.9341, -72.6796, -32.6224, -75.5447, -73.4911,\n",
              "                       50.5535, -75.8467, -67.9626, -72.4257,  71.9887, -67.3715, -56.8032,\n",
              "                      -83.1957, -24.7756, -57.8483, -46.3074, -68.6248, -71.1356, -81.6807,\n",
              "                      -55.4227, -74.0044, -69.3972, -44.5720, -65.7356, -65.4006, -90.6761,\n",
              "                      -25.1679,  18.9298, -77.3230, -54.1188,  -5.3534, -73.9023,  56.5124,\n",
              "                      -67.6913, -54.6766, -41.2112,   3.8153, -82.6701, -49.4080, -63.9639,\n",
              "                      -71.2306,  10.0769, -50.3981, -52.7252, -60.9600, -46.1762,  37.7462,\n",
              "                      -55.3348, -44.9424,  14.5566, -42.6716, -64.9308, -54.5070, -57.2713,\n",
              "                       -4.9157, -67.9660, -67.2286, -50.8955, -70.9508, -59.3130, -34.9630,\n",
              "                      -30.2816,  33.5223, -67.9510, -80.8882, -68.8841, -76.2573, -90.8640,\n",
              "                      -51.3911, -89.7346, -64.2701, -78.4740,  -9.2569, -52.8219, -72.0335,\n",
              "                      -80.5026, -79.1084, -59.1061, -69.8313, -46.9387,  -1.4339, -47.2623,\n",
              "                      -44.7592, -67.8995, -80.5437, -26.2218, -19.2872, -52.5418, -59.4716,\n",
              "                      -36.2906, -75.4499, -71.0398,  27.2927, -62.9241,  43.3283, -81.9374,\n",
              "                      -72.5103, -50.9032, -55.4148, -84.6484, -38.3965, -64.5581,  -6.4071,\n",
              "                      -54.6825,  38.4727, -32.9600, -83.2309, -59.5946, -42.6674, -51.1458,\n",
              "                      -43.7303, -47.4439, -74.4972, -14.4174, -64.5839, -65.2374, -34.9326,\n",
              "                      -47.5352, -14.8793,  39.5654, -30.6919, -33.2062, -68.1320, -80.6513,\n",
              "                       74.0766, -77.2122, -52.1348, -48.6768, -76.3141, -42.8846, -52.7774,\n",
              "                      -72.6732, -60.1977, -62.5613, -45.9679,  -8.3254,  41.2527, -79.8062,\n",
              "                      -75.4817, -55.6470, -68.6434, -62.1413, -45.9323, -59.3915, -70.0133,\n",
              "                      -64.7623, -75.1120, -40.8372, -85.1217, -78.2429, -74.2843, -46.7018,\n",
              "                      -48.8054, -50.3535, -46.9897, -55.8953, -58.7425,  40.3864, -90.5523,\n",
              "                        3.8515, -70.9666, -47.4802, -36.4547, -63.7313, -56.7364, -77.8111,\n",
              "                      -39.2390, -72.9508, -62.8843, -72.8749], device='cuda:0')),\n",
              "             ('architecture.12.running_var',\n",
              "              tensor([ 5417.2495,  4212.7031,  1865.8052, 21050.1719, 16608.7617, 17087.0703,\n",
              "                       1393.1100, 14422.5928,  5944.5845, 11761.3076, 17018.2422, 15088.4268,\n",
              "                      21313.3965, 13366.3076, 18020.9629,  8555.1299, 25346.4434,  3523.7271,\n",
              "                       2744.5400, 20325.0762, 19506.7168, 25552.5078, 17877.3184, 27561.4336,\n",
              "                      13377.9971,  6640.2368, 10955.9561,  3520.7893, 23177.2832, 14385.2812,\n",
              "                      16552.8340, 17825.6387,  8703.2822,  4154.7646, 10625.6426, 14574.2129,\n",
              "                      14904.3037, 14734.0469, 14893.7402,  3999.7710, 24250.2246, 18962.3457,\n",
              "                      24781.5566,  5192.3730, 10025.3926, 25092.6602,  5840.5884, 17392.4277,\n",
              "                      17432.5723, 19693.8965, 13412.6289, 22766.5410, 22437.5352, 10677.0986,\n",
              "                      17419.9609,  2318.3789, 11874.5986, 12439.0596, 23993.3398,  9120.9775,\n",
              "                      22837.4023, 22801.6582, 12565.1270,  4270.1440, 16963.1992,  6842.6523,\n",
              "                      21189.0000, 14172.9561, 23867.9570, 27780.5508, 13906.9736, 20521.6250,\n",
              "                      29071.8164, 28847.2324, 20785.0684, 11346.7012, 14624.8906, 25783.9375,\n",
              "                      13061.0693, 25424.6484,  7746.4385, 24308.8145, 23261.7480, 23512.4082,\n",
              "                       2652.4954, 22092.6816, 13111.9482, 18397.8848,  5049.9277, 24223.6348,\n",
              "                      21945.5820, 13982.3330, 21355.5684, 23093.2656, 22360.4375, 22468.3965,\n",
              "                      16779.1738, 14158.5625, 25445.5039,  4851.9688, 14711.1982,  8736.0371,\n",
              "                      18838.1035, 22872.4082, 26283.8730, 15028.7598, 22980.6895, 21695.1797,\n",
              "                       9071.3389, 17968.4121, 16174.7227, 28598.6914,  4287.6768,  2660.4446,\n",
              "                      27110.7148, 14220.9238,  2643.1147, 23978.0996, 10078.3408, 17061.8887,\n",
              "                      12708.5684,  8144.6704,  3508.7732, 27503.6270, 10762.7373, 14574.0684,\n",
              "                      21951.8887,  1755.6852, 10097.4600, 13972.2881, 18211.3301, 10460.6777,\n",
              "                       8234.6465, 12646.2158,  7325.8579,  2805.4792,  7730.0366, 19145.0938,\n",
              "                      14285.9961, 11987.8096,  3041.6099, 22806.7480, 19719.9199, 13021.7480,\n",
              "                      19879.0547, 17052.1172,  4381.8384,  5492.7490,  8950.8740, 16892.4766,\n",
              "                      24232.7402, 16996.8789, 20759.4492, 28921.2188, 10417.0225, 27891.5625,\n",
              "                      16753.0234, 26741.4160,  2854.4243, 11433.4277, 24514.1973, 27541.1289,\n",
              "                      25021.5840, 13035.8525, 16885.4785,  9855.5586,  1250.6780,  8110.7744,\n",
              "                       7619.5137, 17947.5352, 25802.2402,  3563.1265,  3179.6448, 12706.1719,\n",
              "                      14983.4199,  7119.7827, 22307.9883, 21458.3535,  2849.3057, 16610.4746,\n",
              "                      10154.0488, 28127.6797, 17290.5859, 12694.8242, 14324.1484, 26435.6016,\n",
              "                       6931.4399, 17177.2793,  2953.1726, 12926.6348,  9441.0410,  7191.3599,\n",
              "                      25918.2578, 16266.2324, 10914.8008, 11111.2119, 10008.5977, 10174.1416,\n",
              "                      24851.8574,  2362.2043, 19776.6543, 19542.1035,  4870.0654, 10588.3340,\n",
              "                       3250.9626,  6782.9663,  5840.2402,  4655.4844, 18356.9180, 25214.6699,\n",
              "                      23965.9570, 26876.7988, 13433.1924,  9149.1807, 23503.5352, 10022.6348,\n",
              "                      11274.4355, 21764.6230, 15842.6357, 14285.4990,  7837.1772,  2299.8098,\n",
              "                       9206.4766, 24809.8555, 19061.8164, 10392.0020, 20676.4258, 16624.0117,\n",
              "                       7777.9419, 16842.2148, 23849.7832, 18667.2070, 23619.3047, 10079.0400,\n",
              "                      25388.0938, 24843.1211, 20497.0918,  9793.6514,  8904.7217,  8882.8418,\n",
              "                       9314.9453, 14404.3711, 14463.9609, 10717.2871, 31491.5156,  2693.2773,\n",
              "                      22155.9551, 10453.8701,  7186.5815, 16133.8564, 14189.9512, 21793.3594,\n",
              "                       7655.0044, 20780.7754, 16326.1729, 24725.3945], device='cuda:0')),\n",
              "             ('architecture.12.num_batches_tracked',\n",
              "              tensor(360, device='cuda:0')),\n",
              "             ('architecture.16.weight',\n",
              "              tensor([[-0.2803, -0.2969, -0.3017,  ..., -0.2971, -0.2995, -0.2880],\n",
              "                      [-0.2855, -0.2879, -0.3030,  ..., -0.2901, -0.2912, -0.3043],\n",
              "                      [-0.2770,  0.2946, -0.2421,  ...,  0.3026,  0.2980,  0.2925],\n",
              "                      ...,\n",
              "                      [ 0.2967,  0.2962,  0.3055,  ..., -0.2707, -0.2657, -0.2946],\n",
              "                      [-0.2816, -0.2931, -0.2969,  ..., -0.2997, -0.2871, -0.2892],\n",
              "                      [ 0.2750,  0.2832, -0.2565,  ..., -0.2824, -0.2826, -0.2810]],\n",
              "                     device='cuda:0')),\n",
              "             ('architecture.16.bias',\n",
              "              tensor([-0.2899, -0.2949, -0.2803,  ..., -0.2919, -0.3009, -0.2707],\n",
              "                     device='cuda:0')),\n",
              "             ('architecture.18.weight',\n",
              "              tensor([[ 0.2678, -0.2982,  0.2760,  ...,  0.3171,  0.2851, -0.0045],\n",
              "                      [ 0.2795,  0.2708, -0.2908,  ..., -0.2803,  0.2843,  0.2671],\n",
              "                      [ 0.3151,  0.2720, -0.3133,  ...,  0.2610, -0.2833,  0.2783],\n",
              "                      ...,\n",
              "                      [-0.2784, -0.2907,  0.2967,  ..., -0.2973, -0.2674, -0.0008],\n",
              "                      [-0.3184, -0.2964, -0.2758,  ..., -0.0073, -0.2914, -0.0151],\n",
              "                      [-0.2845, -0.2822,  0.3075,  ..., -0.2688,  0.3101, -0.3102]],\n",
              "                     device='cuda:0')),\n",
              "             ('architecture.18.bias',\n",
              "              tensor([-0.3272, -0.2733, -0.3161, -0.2809, -0.3214, -0.2791, -0.3068, -0.2859,\n",
              "                      -0.3092, -0.2719, -0.2838, -0.3203, -0.3161, -0.3517, -0.2758, -0.2865,\n",
              "                      -0.2793, -0.2963, -0.3653, -0.2904, -0.2699, -0.2715, -0.3103, -0.3492,\n",
              "                      -0.3064, -0.3299, -0.3308, -0.2980, -0.2316, -0.3208, -0.3050, -0.2861,\n",
              "                      -0.2771, -0.2960, -0.3251, -0.2928, -0.3539, -0.3229, -0.3548, -0.3266,\n",
              "                      -0.3060, -0.3272, -0.3530, -0.3048, -0.2229, -0.2736, -0.3198, -0.2660,\n",
              "                      -0.2913, -0.2941, -0.3209, -0.2947, -0.3244, -0.2654, -0.2929, -0.2291,\n",
              "                      -0.2668, -0.2770, -0.2836, -0.3151, -0.2983, -0.2656, -0.2616, -0.2719,\n",
              "                      -0.3024, -0.2956, -0.3199, -0.2827,  0.1604, -0.2727, -0.2712, -0.2744,\n",
              "                      -0.2916, -0.2950, -0.3015, -0.2573, -0.2773, -0.3272, -0.3221, -0.2239,\n",
              "                      -0.2803, -0.2534, -0.3318, -0.3177, -0.3279, -0.3000, -0.2889, -0.2913,\n",
              "                      -0.3309, -0.3046, -0.2935, -0.2563, -0.2708, -0.2928, -0.3186, -0.2844,\n",
              "                      -0.3199, -0.2850, -0.2795, -0.3322, -0.3139, -0.3288, -0.3384, -0.2753,\n",
              "                      -0.3239, -0.3182,  0.2450, -0.2948, -0.2687, -0.3101, -0.3118, -0.2742,\n",
              "                      -0.2752, -0.3161, -0.3131, -0.2975, -0.2605, -0.2628, -0.3144, -0.2640,\n",
              "                      -0.2871, -0.2800, -0.2861, -0.3044, -0.3165, -0.3046, -0.3002, -0.3457,\n",
              "                      -0.3314, -0.3040, -0.2766, -0.3097, -0.3014, -0.3169, -0.2718, -0.3218,\n",
              "                      -0.3405, -0.3168, -0.3256, -0.2746, -0.3029, -0.3215, -0.2890, -0.2417,\n",
              "                      -0.2801, -0.2950, -0.3228, -0.2180, -0.3098, -0.2808, -0.3059, -0.2924,\n",
              "                      -0.2318, -0.2892, -0.2666, -0.2922, -0.2655, -0.3191, -0.3351, -0.3112,\n",
              "                      -0.2555, -0.2757, -0.3189, -0.2876, -0.2634, -0.2884, -0.2961, -0.2895,\n",
              "                      -0.3094,  0.3072, -0.3089, -0.3352, -0.3168, -0.3432, -0.3007, -0.2864,\n",
              "                      -0.2867, -0.3211, -0.2734, -0.3574, -0.3006, -0.2491, -0.3054, -0.3276,\n",
              "                      -0.2997, -0.2706, -0.3251, -0.3018, -0.3522, -0.2648, -0.3243, -0.2932,\n",
              "                      -0.2896, -0.2755, -0.3108, -0.2787, -0.3079, -0.2872, -0.2833, -0.3240,\n",
              "                      -0.2804, -0.3531, -0.2841, -0.3545, -0.2764, -0.2680, -0.3218, -0.3177,\n",
              "                      -0.3524, -0.2739, -0.2941, -0.2792, -0.3506, -0.3037, -0.2856, -0.3014,\n",
              "                      -0.2962, -0.3046, -0.2950, -0.3063, -0.2959,  0.2609, -0.2891, -0.3123,\n",
              "                      -0.3449, -0.3570, -0.2896, -0.3064, -0.3184, -0.2987, -0.3180, -0.2682,\n",
              "                      -0.2720, -0.2862, -0.3010, -0.2920, -0.2974, -0.2417, -0.3253, -0.3104,\n",
              "                      -0.2871, -0.3016, -0.3153, -0.3126, -0.2033, -0.1494, -0.3087, -0.3105,\n",
              "                      -0.3170, -0.2428, -0.2586, -0.3654, -0.3224, -0.2685, -0.2804, -0.3017,\n",
              "                      -0.3153, -0.3141, -0.2781, -0.2835, -0.2367, -0.2278, -0.2744, -0.2946,\n",
              "                      -0.2985, -0.3001, -0.2895, -0.2908, -0.3179, -0.2739, -0.2640, -0.3104,\n",
              "                      -0.3364, -0.3075, -0.2957, -0.3043, -0.2744, -0.2870,  0.0674, -0.3163,\n",
              "                      -0.2835, -0.2633, -0.2955, -0.2901, -0.2869, -0.3021, -0.2402, -0.2808,\n",
              "                      -0.2816, -0.3129, -0.2665, -0.2916, -0.3105, -0.3015, -0.3258, -0.3113,\n",
              "                      -0.2904, -0.2752, -0.2718, -0.3163, -0.3427, -0.2933, -0.2809, -0.2851,\n",
              "                      -0.2847, -0.3274, -0.2904, -0.2766, -0.3369, -0.2959, -0.3133, -0.2826,\n",
              "                      -0.2749, -0.3076, -0.3229, -0.1697, -0.2718, -0.2657, -0.3015, -0.2790,\n",
              "                      -0.2888, -0.3050, -0.2654, -0.3352, -0.3457, -0.3148, -0.3038, -0.3301,\n",
              "                      -0.3242, -0.2997, -0.3204, -0.3047, -0.2426, -0.2882, -0.3157, -0.2505,\n",
              "                      -0.2732, -0.3075, -0.3018, -0.2828, -0.3205, -0.3075, -0.3040, -0.3183,\n",
              "                      -0.2690, -0.2809, -0.2922, -0.2954, -0.3566, -0.3119, -0.2837, -0.2874,\n",
              "                      -0.2996, -0.2943, -0.2829, -0.3011, -0.3055, -0.3081, -0.3087, -0.3419,\n",
              "                      -0.3423, -0.3479, -0.2905, -0.2976, -0.3227, -0.2692, -0.3053, -0.1330,\n",
              "                      -0.2948, -0.2380, -0.3220, -0.3069, -0.3183, -0.2766, -0.2855, -0.2905,\n",
              "                      -0.2906, -0.3134, -0.3296, -0.2712, -0.3039, -0.2509, -0.2325, -0.3276,\n",
              "                      -0.2779, -0.3002, -0.3248, -0.3197, -0.3176, -0.3079, -0.2810, -0.2641,\n",
              "                      -0.2821, -0.3082, -0.3137, -0.3026, -0.2845, -0.2640, -0.3253, -0.3100,\n",
              "                      -0.2980, -0.2791, -0.3203, -0.3131, -0.3216, -0.3010, -0.2650, -0.2858,\n",
              "                      -0.2885, -0.3198, -0.2970, -0.3463, -0.2739, -0.2895,  0.2049, -0.2810,\n",
              "                      -0.2863, -0.2874, -0.2816,  0.2872, -0.3262, -0.3414,  0.0584, -0.3077,\n",
              "                      -0.2644, -0.3156, -0.3135, -0.3070, -0.3184, -0.3103, -0.3205, -0.2693,\n",
              "                      -0.2780, -0.2928, -0.2718, -0.3089, -0.2896, -0.2864, -0.2755, -0.3371,\n",
              "                      -0.2865, -0.3352, -0.2843, -0.3028, -0.2681, -0.2847, -0.2706, -0.3093,\n",
              "                      -0.3202, -0.3051, -0.2976, -0.2871, -0.3074, -0.3165, -0.3059, -0.3329,\n",
              "                      -0.3118, -0.3169, -0.2909, -0.2493, -0.3193, -0.2633, -0.2633, -0.3145,\n",
              "                      -0.3433, -0.2747, -0.2754, -0.3199, -0.3046, -0.3487, -0.2749, -0.3008,\n",
              "                      -0.3069, -0.2163, -0.3117, -0.3034, -0.3066, -0.2976, -0.2231, -0.2664,\n",
              "                      -0.3250, -0.1278, -0.3232, -0.1862, -0.3351, -0.3022, -0.2869, -0.2446,\n",
              "                      -0.3245, -0.3220, -0.2608, -0.2647, -0.2765, -0.1808, -0.3331, -0.3017,\n",
              "                      -0.3111, -0.3629, -0.3219, -0.3250, -0.2745, -0.2797, -0.3162, -0.2878,\n",
              "                      -0.2926, -0.2661, -0.2777, -0.3094, -0.2852, -0.1735, -0.2272, -0.3137],\n",
              "                     device='cuda:0')),\n",
              "             ('architecture.20.weight',\n",
              "              tensor([[ 0.3067,  0.3272,  0.3346,  ...,  0.3083,  0.1904,  0.3183],\n",
              "                      [-0.3387,  0.2896,  0.1706,  ..., -0.2934,  0.2508,  0.3100],\n",
              "                      [-0.2877, -0.3333,  0.2975,  ..., -0.2653, -0.2161,  0.2605],\n",
              "                      ...,\n",
              "                      [-0.2731,  0.2504,  0.1541,  ..., -0.3082,  0.2557, -0.2926],\n",
              "                      [-0.2056, -0.3093,  0.2537,  ..., -0.2111,  0.2235,  0.3342],\n",
              "                      [ 0.2796,  0.3209, -0.2529,  ...,  0.2713,  0.2153,  0.2698]],\n",
              "                     device='cuda:0')),\n",
              "             ('architecture.20.bias',\n",
              "              tensor([-0.1487,  0.1027, -0.0519, -0.0594,  0.0747,  0.1029,  0.0450, -0.0208,\n",
              "                      -0.0175,  0.1026,  0.0858, -0.0623,  0.0237,  0.1240, -0.1011,  0.1187,\n",
              "                       0.0666,  0.0737, -0.0837,  0.0072,  0.1318,  0.0111,  0.1785,  0.0420,\n",
              "                       0.1644, -0.0941,  0.0403, -0.0370,  0.0707,  0.1423, -0.0842,  0.1709,\n",
              "                       0.0193,  0.0135, -0.0485, -0.0370,  0.0779,  0.0949,  0.0791,  0.0091,\n",
              "                      -0.0468,  0.0057, -0.0020, -0.0312,  0.0667, -0.1151, -0.0154,  0.0291,\n",
              "                       0.0892, -0.2477, -0.0560,  0.0984, -0.1320, -0.1118, -0.2145,  0.0716,\n",
              "                       0.0852,  0.1356,  0.0697,  0.1138,  0.0095,  0.0482,  0.0764,  0.0831,\n",
              "                       0.1670,  0.1628,  0.0133, -0.0604,  0.0668, -0.0309, -0.1738, -0.2083,\n",
              "                       0.1064,  0.1370,  0.0590,  0.1106,  0.1339,  0.0092,  0.1323, -0.0604,\n",
              "                      -0.0159,  0.0183,  0.0522, -0.2854, -0.0232,  0.0589,  0.1365,  0.1490,\n",
              "                       0.0512,  0.0551,  0.1052, -0.2002, -0.1708,  0.0330, -0.0335,  0.0706,\n",
              "                       0.0204,  0.1845,  0.0823,  0.0614], device='cuda:0'))])"
            ]
          },
          "metadata": {},
          "execution_count": 43
        }
      ]
    },
    {
      "cell_type": "markdown",
      "source": [
        "# End Remarks\n",
        "To increase the accuracy on 100 classes, Try\n",
        "1. Transfer learning or\n",
        "2. Tweaking the architecture as per SOTA with padding and train more.\n",
        "\n",
        "\n",
        "The architecture is built primarily to showcase a Deep neural network comprised of CNNs, MaxPool, ReLU, BatchNorm, Linear and Flatten on a large dataset comprising of large number of classes."
      ],
      "metadata": {
        "id": "J7RDA0LOgTaK"
      }
    },
    {
      "cell_type": "code",
      "source": [],
      "metadata": {
        "id": "Bd_vaKDnenR0"
      },
      "execution_count": null,
      "outputs": []
    }
  ],
  "metadata": {
    "kernelspec": {
      "display_name": "torch_dl",
      "language": "python",
      "name": "python3"
    },
    "language_info": {
      "codemirror_mode": {
        "name": "ipython",
        "version": 3
      },
      "file_extension": ".py",
      "mimetype": "text/x-python",
      "name": "python",
      "nbconvert_exporter": "python",
      "pygments_lexer": "ipython3",
      "version": "3.8.16"
    },
    "orig_nbformat": 4,
    "vscode": {
      "interpreter": {
        "hash": "3fc43966dd8a35b9bb4dacfb26d54ec70461d2f8773a70bf315d67d5e8c2bf14"
      }
    },
    "colab": {
      "provenance": []
    },
    "accelerator": "GPU",
    "gpuClass": "standard"
  },
  "nbformat": 4,
  "nbformat_minor": 0
}