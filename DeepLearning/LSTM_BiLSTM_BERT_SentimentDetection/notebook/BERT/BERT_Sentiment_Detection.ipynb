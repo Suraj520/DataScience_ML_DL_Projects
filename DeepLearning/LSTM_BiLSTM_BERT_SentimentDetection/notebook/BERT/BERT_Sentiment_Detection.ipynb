{
  "nbformat": 4,
  "nbformat_minor": 0,
  "metadata": {
    "colab": {
      "name": "BERT_Sentiment_Detection.ipynb",
      "provenance": [],
      "machine_shape": "hm"
    },
    "kernelspec": {
      "name": "python3",
      "display_name": "Python 3"
    },
    "language_info": {
      "name": "python"
    },
    "accelerator": "GPU"
  },
  "cells": [
    {
      "cell_type": "markdown",
      "metadata": {
        "id": "yJqWDv5ppH84"
      },
      "source": [
        "# About\n",
        "Sentiment Detection using BERT in Tensorflow.\n",
        "\n",
        "\n",
        "[Dataset Link](https://www.kaggle.com/pashupatigupta/emotion-detection-from-text)"
      ]
    },
    {
      "cell_type": "code",
      "metadata": {
        "id": "gFMynZqNpMd-"
      },
      "source": [
        "#importing modules\n",
        "import os\n",
        "import numpy as np\n",
        "import pandas as pd\n",
        "import cv2\n",
        "import seaborn as sns\n",
        "import shutil\n",
        "import tensorflow as tf\n",
        "import tensorflow.keras as keras\n",
        "from keras.preprocessing.text import Tokenizer\n",
        "from keras.preprocessing.sequence import pad_sequences\n",
        "from keras.layers import Dense, Embedding, LSTM,Dropout,TimeDistributed, Flatten, Bidirectional, Input\n",
        "from sklearn.model_selection import train_test_split\n",
        "from keras.utils.np_utils import to_categorical\n",
        "from keras.models import Sequential, Model\n",
        "import matplotlib.pyplot as plt\n",
        "from keras.layers.normalization import BatchNormalization\n",
        "from keras.regularizers import l2\n",
        "from keras.losses import CategoricalCrossentropy\n",
        "from keras.metrics import CategoricalAccuracy\n",
        "import re"
      ],
      "execution_count": 52,
      "outputs": []
    },
    {
      "cell_type": "code",
      "metadata": {
        "id": "Ge79CCfSJHOS"
      },
      "source": [
        "os.chdir('/content/drive/MyDrive/Colab Notebooks/Dataset/TwitterSentimentAnalysis')"
      ],
      "execution_count": 67,
      "outputs": []
    },
    {
      "cell_type": "code",
      "metadata": {
        "id": "ZK-EMIhWJJAn"
      },
      "source": [
        "#!unzip TextEmotion.zip"
      ],
      "execution_count": 68,
      "outputs": []
    },
    {
      "cell_type": "code",
      "metadata": {
        "id": "R1DcmpgPJTKn"
      },
      "source": [
        "dataset = pd.read_csv('train.csv')"
      ],
      "execution_count": 69,
      "outputs": []
    },
    {
      "cell_type": "code",
      "metadata": {
        "colab": {
          "base_uri": "https://localhost:8080/",
          "height": 196
        },
        "id": "BgSzQBJNKK3l",
        "outputId": "85cd3b65-4f83-446d-c988-447f1c2adc58"
      },
      "source": [
        "dataset.head()"
      ],
      "execution_count": 70,
      "outputs": [
        {
          "output_type": "execute_result",
          "data": {
            "text/html": [
              "<div>\n",
              "<style scoped>\n",
              "    .dataframe tbody tr th:only-of-type {\n",
              "        vertical-align: middle;\n",
              "    }\n",
              "\n",
              "    .dataframe tbody tr th {\n",
              "        vertical-align: top;\n",
              "    }\n",
              "\n",
              "    .dataframe thead th {\n",
              "        text-align: right;\n",
              "    }\n",
              "</style>\n",
              "<table border=\"1\" class=\"dataframe\">\n",
              "  <thead>\n",
              "    <tr style=\"text-align: right;\">\n",
              "      <th></th>\n",
              "      <th>textID</th>\n",
              "      <th>text</th>\n",
              "      <th>selected_text</th>\n",
              "      <th>sentiment</th>\n",
              "    </tr>\n",
              "  </thead>\n",
              "  <tbody>\n",
              "    <tr>\n",
              "      <th>0</th>\n",
              "      <td>cb774db0d1</td>\n",
              "      <td>I`d have responded, if I were going</td>\n",
              "      <td>I`d have responded, if I were going</td>\n",
              "      <td>neutral</td>\n",
              "    </tr>\n",
              "    <tr>\n",
              "      <th>1</th>\n",
              "      <td>549e992a42</td>\n",
              "      <td>Sooo SAD I will miss you here in San Diego!!!</td>\n",
              "      <td>Sooo SAD</td>\n",
              "      <td>negative</td>\n",
              "    </tr>\n",
              "    <tr>\n",
              "      <th>2</th>\n",
              "      <td>088c60f138</td>\n",
              "      <td>my boss is bullying me...</td>\n",
              "      <td>bullying me</td>\n",
              "      <td>negative</td>\n",
              "    </tr>\n",
              "    <tr>\n",
              "      <th>3</th>\n",
              "      <td>9642c003ef</td>\n",
              "      <td>what interview! leave me alone</td>\n",
              "      <td>leave me alone</td>\n",
              "      <td>negative</td>\n",
              "    </tr>\n",
              "    <tr>\n",
              "      <th>4</th>\n",
              "      <td>358bd9e861</td>\n",
              "      <td>Sons of ****, why couldn`t they put them on t...</td>\n",
              "      <td>Sons of ****,</td>\n",
              "      <td>negative</td>\n",
              "    </tr>\n",
              "  </tbody>\n",
              "</table>\n",
              "</div>"
            ],
            "text/plain": [
              "       textID  ... sentiment\n",
              "0  cb774db0d1  ...   neutral\n",
              "1  549e992a42  ...  negative\n",
              "2  088c60f138  ...  negative\n",
              "3  9642c003ef  ...  negative\n",
              "4  358bd9e861  ...  negative\n",
              "\n",
              "[5 rows x 4 columns]"
            ]
          },
          "metadata": {
            "tags": []
          },
          "execution_count": 70
        }
      ]
    },
    {
      "cell_type": "code",
      "metadata": {
        "colab": {
          "base_uri": "https://localhost:8080/",
          "height": 196
        },
        "id": "38zR8EOFKSKF",
        "outputId": "99e31fa5-f4b7-46a5-d579-04662c56884f"
      },
      "source": [
        "dataset.tail()"
      ],
      "execution_count": 71,
      "outputs": [
        {
          "output_type": "execute_result",
          "data": {
            "text/html": [
              "<div>\n",
              "<style scoped>\n",
              "    .dataframe tbody tr th:only-of-type {\n",
              "        vertical-align: middle;\n",
              "    }\n",
              "\n",
              "    .dataframe tbody tr th {\n",
              "        vertical-align: top;\n",
              "    }\n",
              "\n",
              "    .dataframe thead th {\n",
              "        text-align: right;\n",
              "    }\n",
              "</style>\n",
              "<table border=\"1\" class=\"dataframe\">\n",
              "  <thead>\n",
              "    <tr style=\"text-align: right;\">\n",
              "      <th></th>\n",
              "      <th>textID</th>\n",
              "      <th>text</th>\n",
              "      <th>selected_text</th>\n",
              "      <th>sentiment</th>\n",
              "    </tr>\n",
              "  </thead>\n",
              "  <tbody>\n",
              "    <tr>\n",
              "      <th>27476</th>\n",
              "      <td>4eac33d1c0</td>\n",
              "      <td>wish we could come see u on Denver  husband l...</td>\n",
              "      <td>d lost</td>\n",
              "      <td>negative</td>\n",
              "    </tr>\n",
              "    <tr>\n",
              "      <th>27477</th>\n",
              "      <td>4f4c4fc327</td>\n",
              "      <td>I`ve wondered about rake to.  The client has ...</td>\n",
              "      <td>, don`t force</td>\n",
              "      <td>negative</td>\n",
              "    </tr>\n",
              "    <tr>\n",
              "      <th>27478</th>\n",
              "      <td>f67aae2310</td>\n",
              "      <td>Yay good for both of you. Enjoy the break - y...</td>\n",
              "      <td>Yay good for both of you.</td>\n",
              "      <td>positive</td>\n",
              "    </tr>\n",
              "    <tr>\n",
              "      <th>27479</th>\n",
              "      <td>ed167662a5</td>\n",
              "      <td>But it was worth it  ****.</td>\n",
              "      <td>But it was worth it  ****.</td>\n",
              "      <td>positive</td>\n",
              "    </tr>\n",
              "    <tr>\n",
              "      <th>27480</th>\n",
              "      <td>6f7127d9d7</td>\n",
              "      <td>All this flirting going on - The ATG smiles...</td>\n",
              "      <td>All this flirting going on - The ATG smiles. Y...</td>\n",
              "      <td>neutral</td>\n",
              "    </tr>\n",
              "  </tbody>\n",
              "</table>\n",
              "</div>"
            ],
            "text/plain": [
              "           textID  ... sentiment\n",
              "27476  4eac33d1c0  ...  negative\n",
              "27477  4f4c4fc327  ...  negative\n",
              "27478  f67aae2310  ...  positive\n",
              "27479  ed167662a5  ...  positive\n",
              "27480  6f7127d9d7  ...   neutral\n",
              "\n",
              "[5 rows x 4 columns]"
            ]
          },
          "metadata": {
            "tags": []
          },
          "execution_count": 71
        }
      ]
    },
    {
      "cell_type": "code",
      "metadata": {
        "colab": {
          "base_uri": "https://localhost:8080/"
        },
        "id": "NFUovA63KZdd",
        "outputId": "996de40d-2d4a-424d-854b-96de98920992"
      },
      "source": [
        "dataset.shape"
      ],
      "execution_count": 72,
      "outputs": [
        {
          "output_type": "execute_result",
          "data": {
            "text/plain": [
              "(27481, 4)"
            ]
          },
          "metadata": {
            "tags": []
          },
          "execution_count": 72
        }
      ]
    },
    {
      "cell_type": "code",
      "metadata": {
        "colab": {
          "base_uri": "https://localhost:8080/",
          "height": 329
        },
        "id": "V9dzvp02KrqR",
        "outputId": "4d9e9a8d-cc41-444a-85bc-2962df6b7e50"
      },
      "source": [
        "dataset.groupby('sentiment').count().plot.bar(color='red')"
      ],
      "execution_count": 73,
      "outputs": [
        {
          "output_type": "execute_result",
          "data": {
            "text/plain": [
              "<matplotlib.axes._subplots.AxesSubplot at 0x7f21038e3c90>"
            ]
          },
          "metadata": {
            "tags": []
          },
          "execution_count": 73
        },
        {
          "output_type": "display_data",
          "data": {
            "image/png": "[encoded data removed]",
            "text/plain": [
              "<Figure size 432x288 with 1 Axes>"
            ]
          },
          "metadata": {
            "tags": [],
            "needs_background": "light"
          }
        }
      ]
    },
    {
      "cell_type": "code",
      "metadata": {
        "colab": {
          "base_uri": "https://localhost:8080/",
          "height": 349
        },
        "id": "r5G3gr03KyE9",
        "outputId": "5c3d405c-1cd3-4c8b-dea7-e76066180096"
      },
      "source": [
        "#plotting the distibution of number of characters in the tweets\n",
        "sns.distplot(dataset.text.str.len())"
      ],
      "execution_count": 74,
      "outputs": [
        {
          "output_type": "stream",
          "text": [
            "/usr/local/lib/python3.7/dist-packages/seaborn/distributions.py:2557: FutureWarning: `distplot` is a deprecated function and will be removed in a future version. Please adapt your code to use either `displot` (a figure-level function with similar flexibility) or `histplot` (an axes-level function for histograms).\n",
            "  warnings.warn(msg, FutureWarning)\n"
          ],
          "name": "stderr"
        },
        {
          "output_type": "execute_result",
          "data": {
            "text/plain": [
              "<matplotlib.axes._subplots.AxesSubplot at 0x7f21037da850>"
            ]
          },
          "metadata": {
            "tags": []
          },
          "execution_count": 74
        },
        {
          "output_type": "display_data",
          "data": {
            "image/png": "[encoded data removed]",
            "text/plain": [
              "<Figure size 432x288 with 1 Axes>"
            ]
          },
          "metadata": {
            "tags": [],
            "needs_background": "light"
          }
        }
      ]
    },
    {
      "cell_type": "code",
      "metadata": {
        "colab": {
          "base_uri": "https://localhost:8080/",
          "height": 196
        },
        "id": "eyVtlJL4MrUf",
        "outputId": "5cd2ab75-c053-4835-bcbf-a78eda0264e8"
      },
      "source": [
        "#dropping unneccessary columns\n",
        "dataset = dataset.drop(['textID', 'selected_text'],axis=1)\n",
        "dataset.head()"
      ],
      "execution_count": 75,
      "outputs": [
        {
          "output_type": "execute_result",
          "data": {
            "text/html": [
              "<div>\n",
              "<style scoped>\n",
              "    .dataframe tbody tr th:only-of-type {\n",
              "        vertical-align: middle;\n",
              "    }\n",
              "\n",
              "    .dataframe tbody tr th {\n",
              "        vertical-align: top;\n",
              "    }\n",
              "\n",
              "    .dataframe thead th {\n",
              "        text-align: right;\n",
              "    }\n",
              "</style>\n",
              "<table border=\"1\" class=\"dataframe\">\n",
              "  <thead>\n",
              "    <tr style=\"text-align: right;\">\n",
              "      <th></th>\n",
              "      <th>text</th>\n",
              "      <th>sentiment</th>\n",
              "    </tr>\n",
              "  </thead>\n",
              "  <tbody>\n",
              "    <tr>\n",
              "      <th>0</th>\n",
              "      <td>I`d have responded, if I were going</td>\n",
              "      <td>neutral</td>\n",
              "    </tr>\n",
              "    <tr>\n",
              "      <th>1</th>\n",
              "      <td>Sooo SAD I will miss you here in San Diego!!!</td>\n",
              "      <td>negative</td>\n",
              "    </tr>\n",
              "    <tr>\n",
              "      <th>2</th>\n",
              "      <td>my boss is bullying me...</td>\n",
              "      <td>negative</td>\n",
              "    </tr>\n",
              "    <tr>\n",
              "      <th>3</th>\n",
              "      <td>what interview! leave me alone</td>\n",
              "      <td>negative</td>\n",
              "    </tr>\n",
              "    <tr>\n",
              "      <th>4</th>\n",
              "      <td>Sons of ****, why couldn`t they put them on t...</td>\n",
              "      <td>negative</td>\n",
              "    </tr>\n",
              "  </tbody>\n",
              "</table>\n",
              "</div>"
            ],
            "text/plain": [
              "                                                text sentiment\n",
              "0                I`d have responded, if I were going   neutral\n",
              "1      Sooo SAD I will miss you here in San Diego!!!  negative\n",
              "2                          my boss is bullying me...  negative\n",
              "3                     what interview! leave me alone  negative\n",
              "4   Sons of ****, why couldn`t they put them on t...  negative"
            ]
          },
          "metadata": {
            "tags": []
          },
          "execution_count": 75
        }
      ]
    },
    {
      "cell_type": "code",
      "metadata": {
        "id": "WkHyC_qD93St"
      },
      "source": [
        "labels, features = [],[]\n",
        "labels = pd.get_dummies(dataset['sentiment']).values\n",
        "dataset =dataset.drop(['sentiment'], axis=1)\n",
        "#converting to numerical\n",
        "#converting content column in train and val set to text so as to convert any floating point/int content to str\n",
        "features = dataset.text.astype(str).values\n"
      ],
      "execution_count": 76,
      "outputs": []
    },
    {
      "cell_type": "code",
      "metadata": {
        "colab": {
          "base_uri": "https://localhost:8080/"
        },
        "id": "15JRDdDCBhdZ",
        "outputId": "c35f5405-3240-4505-d06d-7f567b88b35c"
      },
      "source": [
        "labels"
      ],
      "execution_count": 77,
      "outputs": [
        {
          "output_type": "execute_result",
          "data": {
            "text/plain": [
              "array([[0, 1, 0],\n",
              "       [1, 0, 0],\n",
              "       [1, 0, 0],\n",
              "       ...,\n",
              "       [0, 0, 1],\n",
              "       [0, 0, 1],\n",
              "       [0, 1, 0]], dtype=uint8)"
            ]
          },
          "metadata": {
            "tags": []
          },
          "execution_count": 77
        }
      ]
    },
    {
      "cell_type": "code",
      "metadata": {
        "colab": {
          "base_uri": "https://localhost:8080/"
        },
        "id": "QKkn8Fa2BfwC",
        "outputId": "001e2097-ee47-4f94-c902-fdf987f1d2fd"
      },
      "source": [
        "features"
      ],
      "execution_count": 78,
      "outputs": [
        {
          "output_type": "execute_result",
          "data": {
            "text/plain": [
              "array([' I`d have responded, if I were going',\n",
              "       ' Sooo SAD I will miss you here in San Diego!!!',\n",
              "       'my boss is bullying me...', ...,\n",
              "       ' Yay good for both of you. Enjoy the break - you probably need it after such hectic weekend  Take care hun xxxx',\n",
              "       ' But it was worth it  ****.',\n",
              "       '   All this flirting going on - The ATG smiles. Yay.  ((hugs))'],\n",
              "      dtype=object)"
            ]
          },
          "metadata": {
            "tags": []
          },
          "execution_count": 78
        }
      ]
    },
    {
      "cell_type": "code",
      "metadata": {
        "id": "kK5ZrYU-BDt6"
      },
      "source": [
        "# creating train and val_splits\n",
        "X_train,X_val,y_train,y_val = train_test_split(features,labels, test_size=0.25)"
      ],
      "execution_count": 79,
      "outputs": []
    },
    {
      "cell_type": "code",
      "metadata": {
        "colab": {
          "base_uri": "https://localhost:8080/"
        },
        "id": "idsU9E86CjVZ",
        "outputId": "5a98eb16-d862-4137-f7bb-962f04e83eff"
      },
      "source": [
        "print(\"Input training features and label shape are {},{}\".format(X_train.shape,y_train.shape))\n",
        "print(\"Input validation features and label shape are {}, {}\".format(X_val.shape,y_val.shape))\n"
      ],
      "execution_count": 80,
      "outputs": [
        {
          "output_type": "stream",
          "text": [
            "Input training features and label shape are (20610,),(20610, 3)\n",
            "Input validation features and label shape are (6871,), (6871, 3)\n"
          ],
          "name": "stdout"
        }
      ]
    },
    {
      "cell_type": "markdown",
      "metadata": {
        "id": "gWMPJLzbNFCo"
      },
      "source": [
        "# Generating embedding using pre-trained BERT encoder i.e Fine-tuning phase.\n",
        "\n",
        "\n"
      ]
    },
    {
      "cell_type": "code",
      "metadata": {
        "id": "-1rGlR25Ocik"
      },
      "source": [
        "# downloading tensorflow-text for preprocessing for BERT inputs\n",
        "!pip install -q tensorflow-text\n",
        "# For AdamW optimizer \n",
        "!pip install -q tf-models-official\n",
        "# to create AdamW optimizer\n",
        "from official.nlp import optimization  \n",
        "import tensorflow_hub as hub\n",
        "import tensorflow_text as text\n"
      ],
      "execution_count": 81,
      "outputs": []
    },
    {
      "cell_type": "code",
      "metadata": {
        "id": "U7WO7eUp0zQ9"
      },
      "source": [
        "bert_model_name_encoder = 'bert_en_uncased_L-12_H-768_A-12'\n",
        "encoder_download_link = 'https://tfhub.dev/tensorflow/bert_en_uncased_L-12_H-768_A-12/3'\n",
        "bert_model_name_preprocess = 'bert_en_uncased_L-12_H-768_A-12'\n",
        "preprocess_download_link = 'https://tfhub.dev/tensorflow/bert_en_uncased_preprocess/3'"
      ],
      "execution_count": 21,
      "outputs": []
    },
    {
      "cell_type": "code",
      "metadata": {
        "colab": {
          "base_uri": "https://localhost:8080/"
        },
        "id": "tkpsnEus1sid",
        "outputId": "b072e6b5-34e2-4d2c-bd94-33adf0f0a3a7"
      },
      "source": [
        "print(f'BERT model selected           : {encoder_download_link}')\n",
        "print(f'Preprocess model auto-selected: {preprocess_download_link}')\n"
      ],
      "execution_count": 22,
      "outputs": [
        {
          "output_type": "stream",
          "text": [
            "BERT model selected           : https://tfhub.dev/tensorflow/bert_en_uncased_L-12_H-768_A-12/3\n",
            "Preprocess model auto-selected: https://tfhub.dev/tensorflow/bert_en_uncased_preprocess/3\n"
          ],
          "name": "stdout"
        }
      ]
    },
    {
      "cell_type": "code",
      "metadata": {
        "id": "4t_keEnj2kAq"
      },
      "source": [
        "#loading bert_preprocessor and bert encoder\n",
        "bert_preprocessor = hub.KerasLayer(preprocess_download_link, name='preprocessing')\n",
        "bert_encoder = hub.KerasLayer(encoder_download_link, name='BERT_encoder')"
      ],
      "execution_count": 23,
      "outputs": []
    },
    {
      "cell_type": "code",
      "metadata": {
        "id": "qWsBQ4-H3Mf0"
      },
      "source": [
        "#defining the model with few tweaks to original\n",
        "def classifier_model():\n",
        "  text_input = Input(shape =(), dtype= tf.string, name='text')\n",
        "  #preprocesing layer\n",
        "  preprocessed_text = bert_preprocessor(text_input)\n",
        "  #passing through encoder layer\n",
        "  embeddings = bert_encoder(preprocessed_text)\n",
        "  #fetching the pooled_output from the dictionary of outputs\n",
        "  output = embeddings['pooled_output']\n",
        "  output = Dropout(0.2)(output)\n",
        "  #passing through final dense layer with softmax\n",
        "  output = Dense(3, activation=None, name='classifier_end')(output)\n",
        "  return Model(text_input, output)\n",
        "classifier = classifier_model()"
      ],
      "execution_count": 82,
      "outputs": []
    },
    {
      "cell_type": "code",
      "metadata": {
        "colab": {
          "base_uri": "https://localhost:8080/"
        },
        "id": "S-3pJo1ivHC7",
        "outputId": "e09c4986-ce48-4bfb-a78a-dbaae52cb727"
      },
      "source": [
        "classifier.summary()"
      ],
      "execution_count": 83,
      "outputs": [
        {
          "output_type": "stream",
          "text": [
            "Model: \"model_3\"\n",
            "__________________________________________________________________________________________________\n",
            "Layer (type)                    Output Shape         Param #     Connected to                     \n",
            "==================================================================================================\n",
            "text (InputLayer)               [(None,)]            0                                            \n",
            "__________________________________________________________________________________________________\n",
            "preprocessing (KerasLayer)      {'input_type_ids': ( 0           text[0][0]                       \n",
            "__________________________________________________________________________________________________\n",
            "BERT_encoder (KerasLayer)       {'pooled_output': (N 109482241   preprocessing[3][0]              \n",
            "                                                                 preprocessing[3][1]              \n",
            "                                                                 preprocessing[3][2]              \n",
            "__________________________________________________________________________________________________\n",
            "dropout_3 (Dropout)             (None, 768)          0           BERT_encoder[3][13]              \n",
            "__________________________________________________________________________________________________\n",
            "classifier_end (Dense)          (None, 3)            2307        dropout_3[0][0]                  \n",
            "==================================================================================================\n",
            "Total params: 109,484,548\n",
            "Trainable params: 2,307\n",
            "Non-trainable params: 109,482,241\n",
            "__________________________________________________________________________________________________\n"
          ],
          "name": "stdout"
        }
      ]
    },
    {
      "cell_type": "code",
      "metadata": {
        "id": "8UmJPIt732EL"
      },
      "source": [
        "#defining the loss function\n",
        "loss = CategoricalCrossentropy(from_logits=True)\n",
        "metrics = CategoricalAccuracy()"
      ],
      "execution_count": 84,
      "outputs": []
    },
    {
      "cell_type": "code",
      "metadata": {
        "id": "7UA717Xv6_ER"
      },
      "source": [
        "steps_per_epoch =len(X_train)\n",
        "num_train_steps = steps_per_epoch * 10\n",
        "num_warmup_steps = int(0.01*num_train_steps)\n",
        "\n",
        "init_lr = 1e-3\n",
        "optimizer = optimization.create_optimizer(init_lr=init_lr,\n",
        "                                          num_train_steps=num_train_steps,\n",
        "                                          num_warmup_steps=num_warmup_steps,\n",
        "                                          optimizer_type='adamw')\n"
      ],
      "execution_count": 86,
      "outputs": []
    },
    {
      "cell_type": "code",
      "metadata": {
        "id": "t3QwYaih8Ef4"
      },
      "source": [
        "#compiling the model\n",
        "classifier.compile(optimizer = optimizer, loss=loss, metrics=metrics)"
      ],
      "execution_count": 87,
      "outputs": []
    },
    {
      "cell_type": "code",
      "metadata": {
        "colab": {
          "base_uri": "https://localhost:8080/"
        },
        "id": "7YI4GG118-qg",
        "outputId": "6f0b0b0f-4f75-426b-efd8-7b48aa76ce4c"
      },
      "source": [
        "#fitting the model\n",
        "history = classifier.fit(X_train,y_train, validation_data=(X_val,y_val), epochs=50)"
      ],
      "execution_count": 88,
      "outputs": [
        {
          "output_type": "stream",
          "text": [
            "Epoch 1/50\n",
            "645/645 [==============================] - 110s 167ms/step - loss: 1.3600 - categorical_accuracy: 0.3306 - val_loss: 1.0547 - val_categorical_accuracy: 0.4442\n",
            "Epoch 2/50\n",
            "645/645 [==============================] - 107s 166ms/step - loss: 1.0860 - categorical_accuracy: 0.4272 - val_loss: 0.9915 - val_categorical_accuracy: 0.4861\n",
            "Epoch 3/50\n",
            "645/645 [==============================] - 107s 166ms/step - loss: 1.0109 - categorical_accuracy: 0.4908 - val_loss: 0.9548 - val_categorical_accuracy: 0.5130\n",
            "Epoch 4/50\n",
            "645/645 [==============================] - 107s 165ms/step - loss: 0.9694 - categorical_accuracy: 0.5226 - val_loss: 0.9188 - val_categorical_accuracy: 0.5712\n",
            "Epoch 5/50\n",
            "645/645 [==============================] - 107s 166ms/step - loss: 0.9427 - categorical_accuracy: 0.5471 - val_loss: 0.8983 - val_categorical_accuracy: 0.5715\n",
            "Epoch 6/50\n",
            "645/645 [==============================] - 107s 165ms/step - loss: 0.9381 - categorical_accuracy: 0.5474 - val_loss: 0.9151 - val_categorical_accuracy: 0.5587\n",
            "Epoch 7/50\n",
            "645/645 [==============================] - 107s 166ms/step - loss: 0.9358 - categorical_accuracy: 0.5434 - val_loss: 0.8752 - val_categorical_accuracy: 0.5951\n",
            "Epoch 8/50\n",
            "645/645 [==============================] - 107s 166ms/step - loss: 0.9274 - categorical_accuracy: 0.5555 - val_loss: 0.8753 - val_categorical_accuracy: 0.5929\n",
            "Epoch 9/50\n",
            "645/645 [==============================] - 107s 166ms/step - loss: 0.9235 - categorical_accuracy: 0.5608 - val_loss: 0.8630 - val_categorical_accuracy: 0.6047\n",
            "Epoch 10/50\n",
            "645/645 [==============================] - 107s 165ms/step - loss: 0.9309 - categorical_accuracy: 0.5491 - val_loss: 0.8870 - val_categorical_accuracy: 0.5811\n",
            "Epoch 11/50\n",
            "645/645 [==============================] - 107s 166ms/step - loss: 0.9283 - categorical_accuracy: 0.5544 - val_loss: 0.8857 - val_categorical_accuracy: 0.5819\n",
            "Epoch 12/50\n",
            "645/645 [==============================] - 107s 166ms/step - loss: 0.9315 - categorical_accuracy: 0.5563 - val_loss: 0.9051 - val_categorical_accuracy: 0.5583\n",
            "Epoch 13/50\n",
            "645/645 [==============================] - 107s 166ms/step - loss: 0.9270 - categorical_accuracy: 0.5563 - val_loss: 0.8667 - val_categorical_accuracy: 0.6015\n",
            "Epoch 14/50\n",
            "645/645 [==============================] - 107s 166ms/step - loss: 0.9225 - categorical_accuracy: 0.5580 - val_loss: 0.8759 - val_categorical_accuracy: 0.5829\n",
            "Epoch 15/50\n",
            "645/645 [==============================] - 107s 166ms/step - loss: 0.9283 - categorical_accuracy: 0.5563 - val_loss: 0.8692 - val_categorical_accuracy: 0.5937\n",
            "Epoch 16/50\n",
            "645/645 [==============================] - 107s 165ms/step - loss: 0.9220 - categorical_accuracy: 0.5577 - val_loss: 0.8971 - val_categorical_accuracy: 0.5666\n",
            "Epoch 17/50\n",
            "645/645 [==============================] - 107s 166ms/step - loss: 0.9203 - categorical_accuracy: 0.5577 - val_loss: 0.8640 - val_categorical_accuracy: 0.6020\n",
            "Epoch 18/50\n",
            "645/645 [==============================] - 107s 165ms/step - loss: 0.9090 - categorical_accuracy: 0.5685 - val_loss: 0.8860 - val_categorical_accuracy: 0.5756\n",
            "Epoch 19/50\n",
            "645/645 [==============================] - 107s 166ms/step - loss: 0.9301 - categorical_accuracy: 0.5504 - val_loss: 0.8698 - val_categorical_accuracy: 0.5967\n",
            "Epoch 20/50\n",
            "645/645 [==============================] - 107s 166ms/step - loss: 0.9215 - categorical_accuracy: 0.5583 - val_loss: 0.8654 - val_categorical_accuracy: 0.5942\n",
            "Epoch 21/50\n",
            "645/645 [==============================] - 107s 165ms/step - loss: 0.9186 - categorical_accuracy: 0.5604 - val_loss: 0.8667 - val_categorical_accuracy: 0.5883\n",
            "Epoch 22/50\n",
            "645/645 [==============================] - 107s 165ms/step - loss: 0.9167 - categorical_accuracy: 0.5641 - val_loss: 0.8577 - val_categorical_accuracy: 0.6098\n",
            "Epoch 23/50\n",
            "645/645 [==============================] - 107s 166ms/step - loss: 0.9179 - categorical_accuracy: 0.5617 - val_loss: 0.9512 - val_categorical_accuracy: 0.5367\n",
            "Epoch 24/50\n",
            "645/645 [==============================] - 107s 165ms/step - loss: 0.9215 - categorical_accuracy: 0.5632 - val_loss: 0.8762 - val_categorical_accuracy: 0.5967\n",
            "Epoch 25/50\n",
            "645/645 [==============================] - 107s 166ms/step - loss: 0.9217 - categorical_accuracy: 0.5593 - val_loss: 0.8855 - val_categorical_accuracy: 0.5727\n",
            "Epoch 26/50\n",
            "645/645 [==============================] - 107s 165ms/step - loss: 0.9108 - categorical_accuracy: 0.5671 - val_loss: 0.8571 - val_categorical_accuracy: 0.6018\n",
            "Epoch 27/50\n",
            "645/645 [==============================] - 107s 165ms/step - loss: 0.9140 - categorical_accuracy: 0.5633 - val_loss: 0.8651 - val_categorical_accuracy: 0.5967\n",
            "Epoch 28/50\n",
            "645/645 [==============================] - 107s 166ms/step - loss: 0.9276 - categorical_accuracy: 0.5591 - val_loss: 0.8520 - val_categorical_accuracy: 0.6072\n",
            "Epoch 29/50\n",
            "645/645 [==============================] - 107s 166ms/step - loss: 0.9205 - categorical_accuracy: 0.5594 - val_loss: 0.8490 - val_categorical_accuracy: 0.6136\n",
            "Epoch 30/50\n",
            "645/645 [==============================] - 107s 166ms/step - loss: 0.9102 - categorical_accuracy: 0.5668 - val_loss: 0.8556 - val_categorical_accuracy: 0.5999\n",
            "Epoch 31/50\n",
            "645/645 [==============================] - 107s 166ms/step - loss: 0.9114 - categorical_accuracy: 0.5654 - val_loss: 0.8602 - val_categorical_accuracy: 0.5977\n",
            "Epoch 32/50\n",
            "645/645 [==============================] - 107s 166ms/step - loss: 0.9135 - categorical_accuracy: 0.5612 - val_loss: 0.8655 - val_categorical_accuracy: 0.5967\n",
            "Epoch 33/50\n",
            "645/645 [==============================] - 107s 166ms/step - loss: 0.9185 - categorical_accuracy: 0.5623 - val_loss: 0.8626 - val_categorical_accuracy: 0.6020\n",
            "Epoch 34/50\n",
            "645/645 [==============================] - 107s 167ms/step - loss: 0.9126 - categorical_accuracy: 0.5614 - val_loss: 0.8600 - val_categorical_accuracy: 0.5948\n",
            "Epoch 35/50\n",
            "645/645 [==============================] - 107s 166ms/step - loss: 0.9269 - categorical_accuracy: 0.5570 - val_loss: 0.8573 - val_categorical_accuracy: 0.6052\n",
            "Epoch 36/50\n",
            "645/645 [==============================] - 107s 166ms/step - loss: 0.9255 - categorical_accuracy: 0.5622 - val_loss: 0.9139 - val_categorical_accuracy: 0.5381\n",
            "Epoch 37/50\n",
            "645/645 [==============================] - 107s 166ms/step - loss: 0.9115 - categorical_accuracy: 0.5686 - val_loss: 0.9364 - val_categorical_accuracy: 0.5443\n",
            "Epoch 38/50\n",
            "645/645 [==============================] - 107s 166ms/step - loss: 0.9228 - categorical_accuracy: 0.5641 - val_loss: 0.8603 - val_categorical_accuracy: 0.6059\n",
            "Epoch 39/50\n",
            "645/645 [==============================] - 107s 166ms/step - loss: 0.9160 - categorical_accuracy: 0.5628 - val_loss: 0.8556 - val_categorical_accuracy: 0.6107\n",
            "Epoch 40/50\n",
            "645/645 [==============================] - 107s 166ms/step - loss: 0.9226 - categorical_accuracy: 0.5554 - val_loss: 0.8641 - val_categorical_accuracy: 0.6024\n",
            "Epoch 41/50\n",
            "645/645 [==============================] - 107s 166ms/step - loss: 0.9193 - categorical_accuracy: 0.5622 - val_loss: 0.8744 - val_categorical_accuracy: 0.5967\n",
            "Epoch 42/50\n",
            "645/645 [==============================] - 107s 166ms/step - loss: 0.9208 - categorical_accuracy: 0.5672 - val_loss: 0.8529 - val_categorical_accuracy: 0.6059\n",
            "Epoch 43/50\n",
            "645/645 [==============================] - 107s 166ms/step - loss: 0.9139 - categorical_accuracy: 0.5603 - val_loss: 0.8505 - val_categorical_accuracy: 0.6123\n",
            "Epoch 44/50\n",
            "645/645 [==============================] - 107s 166ms/step - loss: 0.9117 - categorical_accuracy: 0.5668 - val_loss: 0.8548 - val_categorical_accuracy: 0.6052\n",
            "Epoch 45/50\n",
            "645/645 [==============================] - 107s 166ms/step - loss: 0.9245 - categorical_accuracy: 0.5540 - val_loss: 0.8777 - val_categorical_accuracy: 0.5790\n",
            "Epoch 46/50\n",
            "645/645 [==============================] - 107s 166ms/step - loss: 0.9231 - categorical_accuracy: 0.5582 - val_loss: 0.8752 - val_categorical_accuracy: 0.5922\n",
            "Epoch 47/50\n",
            "645/645 [==============================] - 107s 165ms/step - loss: 0.9239 - categorical_accuracy: 0.5591 - val_loss: 0.8613 - val_categorical_accuracy: 0.5905\n",
            "Epoch 48/50\n",
            "645/645 [==============================] - 107s 166ms/step - loss: 0.9126 - categorical_accuracy: 0.5668 - val_loss: 0.8585 - val_categorical_accuracy: 0.6086\n",
            "Epoch 49/50\n",
            "645/645 [==============================] - 107s 166ms/step - loss: 0.9043 - categorical_accuracy: 0.5740 - val_loss: 0.8717 - val_categorical_accuracy: 0.5787\n",
            "Epoch 50/50\n",
            "645/645 [==============================] - 107s 166ms/step - loss: 0.9191 - categorical_accuracy: 0.5689 - val_loss: 0.8602 - val_categorical_accuracy: 0.6078\n"
          ],
          "name": "stdout"
        }
      ]
    },
    {
      "cell_type": "code",
      "metadata": {
        "colab": {
          "base_uri": "https://localhost:8080/"
        },
        "id": "9xCE24EiY4wR",
        "outputId": "ee1144b1-90f6-445f-9a59-177abc934634"
      },
      "source": [
        "history.history.keys()"
      ],
      "execution_count": 91,
      "outputs": [
        {
          "output_type": "execute_result",
          "data": {
            "text/plain": [
              "dict_keys(['loss', 'categorical_accuracy', 'val_loss', 'val_categorical_accuracy'])"
            ]
          },
          "metadata": {
            "tags": []
          },
          "execution_count": 91
        }
      ]
    },
    {
      "cell_type": "code",
      "metadata": {
        "id": "klzA0A8FEHAo",
        "colab": {
          "base_uri": "https://localhost:8080/",
          "height": 573
        },
        "outputId": "670243cb-a175-47f5-a55c-4db19897d80a"
      },
      "source": [
        "plt.plot(history.history['categorical_accuracy'])\n",
        "plt.plot(history.history['val_categorical_accuracy'])\n",
        "plt.title('model accuracy')\n",
        "plt.ylabel('accuracy')\n",
        "plt.xlabel('epoch')\n",
        "plt.legend(['train', 'test'], loc='upper left')\n",
        "plt.show()\n",
        "# summarize history for loss\n",
        "plt.plot(history.history['loss'])\n",
        "plt.plot(history.history['val_loss'])\n",
        "plt.title('model loss')\n",
        "plt.ylabel('loss')\n",
        "plt.xlabel('epoch')\n",
        "plt.legend(['train', 'test'], loc='upper left')\n",
        "plt.show()"
      ],
      "execution_count": 92,
      "outputs": [
        {
          "output_type": "display_data",
          "data": {
            "image/png": "[encoded data removed]",
            "text/plain": [
              "<Figure size 432x288 with 1 Axes>"
            ]
          },
          "metadata": {
            "tags": [],
            "needs_background": "light"
          }
        },
        {
          "output_type": "display_data",
          "data": {
            "image/png": "[encoded data removed]",
            "text/plain": [
              "<Figure size 432x288 with 1 Axes>"
            ]
          },
          "metadata": {
            "tags": [],
            "needs_background": "light"
          }
        }
      ]
    },
    {
      "cell_type": "code",
      "metadata": {
        "id": "6MnXrCZbCvfk"
      },
      "source": [
        "#saving model\n",
        "classifier.save('trained_BERT_Classifier.h5')"
      ],
      "execution_count": 93,
      "outputs": []
    },
    {
      "cell_type": "code",
      "metadata": {
        "id": "oYasDgzWElSm",
        "colab": {
          "base_uri": "https://localhost:8080/"
        },
        "outputId": "8609b2f8-ddfd-4b81-e29f-8a050afea881"
      },
      "source": [
        "test_string1 = [\"I am afraid that I won't be available on call tommorow!\"]\n",
        "test_string2 = [\"This is an awesome course, I loved it\"]\n",
        "def predict(test_string):\n",
        "  class_prob = classifier.predict(test_string, batch_size=1)[0]\n",
        "  if np.argmax(class_prob)==0:\n",
        "    print(\"Negative Sentiment\")\n",
        "  elif np.argmax(class_prob)==1:\n",
        "    print(\"Neutral Sentiment\")\n",
        "  else:\n",
        "    print(\"Positive Sentiment\")\n",
        "  \n",
        "predict(test_string1)\n",
        "predict(test_string2)"
      ],
      "execution_count": 103,
      "outputs": [
        {
          "output_type": "stream",
          "text": [
            "Negative Sentiment\n",
            "Positive Sentiment\n"
          ],
          "name": "stdout"
        }
      ]
    },
    {
      "cell_type": "code",
      "metadata": {
        "id": "qRT3xuFGaKgi"
      },
      "source": [
        ""
      ],
      "execution_count": null,
      "outputs": []
    }
  ]
}