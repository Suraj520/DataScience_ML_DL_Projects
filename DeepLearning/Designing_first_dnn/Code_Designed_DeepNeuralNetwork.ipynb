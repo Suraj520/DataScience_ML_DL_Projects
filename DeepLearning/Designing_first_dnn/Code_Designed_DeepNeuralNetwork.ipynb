{
  "nbformat": 4,
  "nbformat_minor": 0,
  "metadata": {
    "colab": {
      "name": "Code_Designed_DeepNeuralNetwork.ipynb",
      "provenance": [],
      "collapsed_sections": []
    },
    "kernelspec": {
      "name": "python3",
      "display_name": "Python 3"
    },
    "accelerator": "GPU"
  },
  "cells": [
    {
      "cell_type": "markdown",
      "metadata": {
        "id": "QFLoNwUBh-ue"
      },
      "source": [
        "The following lines of code are used to build the deep learning network depicted in https://suraj52.medium.com/design-your-first-deep-learning-architecture-734ae2d43476"
      ]
    },
    {
      "cell_type": "code",
      "metadata": {
        "id": "XmSWBQPkjPh8"
      },
      "source": [
        "import tensorflow as tf\r\n",
        "import tensorflow.keras as keras\r\n",
        "from keras.layers import Conv2D, MaxPool2D, BatchNormalization, Dense, Flatten, ReLU, Input\r\n",
        "from keras.optimizers import Adam\r\n",
        "from keras.models import Sequential, Model\r\n"
      ],
      "execution_count": 2,
      "outputs": []
    },
    {
      "cell_type": "code",
      "metadata": {
        "id": "mpfnl87GjW64"
      },
      "source": [
        "#defining the architecture of Hello world architecture\r\n",
        "def Architecture(input_shape, number_of_classes):\r\n",
        "  Model_input = Input(input_shape)\r\n",
        "  #Stacking as per architecture in the blog\r\n",
        "  x = Conv2D(32,3,(1,1), padding = 'valid')(Model_input)\r\n",
        "  x = ReLU()(x)\r\n",
        "  x = BatchNormalization()(x)\r\n",
        "  x = MaxPool2D(2,2,'valid')(x)\r\n",
        "\r\n",
        "  x = Conv2D(64,3,(1,1),padding='valid')(x)\r\n",
        "  x = ReLU()(x)\r\n",
        "  x = BatchNormalization()(x)\r\n",
        "  x = MaxPool2D(2,2,'valid')(x)\r\n",
        "\r\n",
        "  x = Conv2D(128,3,(1,1),padding = 'valid')(x)\r\n",
        "  x = ReLU()(x)\r\n",
        "  x = BatchNormalization()(x)\r\n",
        "  x = MaxPool2D(2,2,'valid')(x)\r\n",
        "\r\n",
        "  x = Flatten()(x)\r\n",
        "  x = Dense(9600)(x)\r\n",
        "  output = Dense(number_of_classes, activation='softmax')(x)\r\n",
        "\r\n",
        "  model= Model(Model_input,output)\r\n",
        "\r\n",
        "  return model"
      ],
      "execution_count": 9,
      "outputs": []
    },
    {
      "cell_type": "code",
      "metadata": {
        "colab": {
          "base_uri": "https://localhost:8080/"
        },
        "id": "OCPcx5BGn5PB",
        "outputId": "84335282-8f0e-4d30-e4f1-e552518a4126"
      },
      "source": [
        "#Input shape\r\n",
        "Input_shape = (96,96,3)\r\n",
        "num_classes = 2\r\n",
        "\r\n",
        "FirstModel = Architecture(input_shape=Input_shape, number_of_classes=num_classes)\r\n",
        "print(FirstModel.summary())"
      ],
      "execution_count": 10,
      "outputs": [
        {
          "output_type": "stream",
          "text": [
            "Model: \"model_3\"\n",
            "_________________________________________________________________\n",
            "Layer (type)                 Output Shape              Param #   \n",
            "=================================================================\n",
            "input_4 (InputLayer)         [(None, 96, 96, 3)]       0         \n",
            "_________________________________________________________________\n",
            "conv2d_9 (Conv2D)            (None, 94, 94, 32)        896       \n",
            "_________________________________________________________________\n",
            "re_lu_9 (ReLU)               (None, 94, 94, 32)        0         \n",
            "_________________________________________________________________\n",
            "batch_normalization_9 (Batch (None, 94, 94, 32)        128       \n",
            "_________________________________________________________________\n",
            "max_pooling2d_9 (MaxPooling2 (None, 47, 47, 32)        0         \n",
            "_________________________________________________________________\n",
            "conv2d_10 (Conv2D)           (None, 45, 45, 64)        18496     \n",
            "_________________________________________________________________\n",
            "re_lu_10 (ReLU)              (None, 45, 45, 64)        0         \n",
            "_________________________________________________________________\n",
            "batch_normalization_10 (Batc (None, 45, 45, 64)        256       \n",
            "_________________________________________________________________\n",
            "max_pooling2d_10 (MaxPooling (None, 22, 22, 64)        0         \n",
            "_________________________________________________________________\n",
            "conv2d_11 (Conv2D)           (None, 20, 20, 128)       73856     \n",
            "_________________________________________________________________\n",
            "re_lu_11 (ReLU)              (None, 20, 20, 128)       0         \n",
            "_________________________________________________________________\n",
            "batch_normalization_11 (Batc (None, 20, 20, 128)       512       \n",
            "_________________________________________________________________\n",
            "max_pooling2d_11 (MaxPooling (None, 10, 10, 128)       0         \n",
            "_________________________________________________________________\n",
            "flatten_3 (Flatten)          (None, 12800)             0         \n",
            "_________________________________________________________________\n",
            "dense_6 (Dense)              (None, 9600)              122889600 \n",
            "_________________________________________________________________\n",
            "dense_7 (Dense)              (None, 2)                 19202     \n",
            "=================================================================\n",
            "Total params: 123,002,946\n",
            "Trainable params: 123,002,498\n",
            "Non-trainable params: 448\n",
            "_________________________________________________________________\n",
            "None\n"
          ],
          "name": "stdout"
        }
      ]
    },
    {
      "cell_type": "code",
      "metadata": {
        "id": "Q1IEYf9doM4a"
      },
      "source": [
        ""
      ],
      "execution_count": null,
      "outputs": []
    }
  ]
}