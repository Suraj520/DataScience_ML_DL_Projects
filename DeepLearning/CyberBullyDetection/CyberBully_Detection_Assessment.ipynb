{
  "cells": [
    {
      "cell_type": "markdown",
      "metadata": {
        "id": "lBK-jQbL5v5V"
      },
      "source": [
        "# Cyberbully Detection\n",
        "\n",
        "# Note:\n",
        "1. Twitter Cyberbully dataset download fails with the Failed tweet fetching error via Tweepy.api.\n",
        "2. Mendeley dataset doesn't have clear labels in the dataset.\n",
        "3. Using the kaggle dataset: https://www.kaggle.com/c/detecting-insults-in-social-commentary/data?select=train.csv\n",
        "\n",
        "The classes are binary. Insult or not represented with boolean values. The cleaned dataset is being used after applying stemming from NLTK as data cleaning step was not quoted in the task.\n",
        "\n",
        "[Google Drive Link](https://drive.google.com/drive/folders/1V2hDRIbtZQnHpSjcWjbVeebdevDyOa-G?usp=sharing)"
      ]
    },
    {
      "cell_type": "markdown",
      "metadata": {
        "id": "uVpK-xruQD_A"
      },
      "source": [
        "# Brief about process involved in cleaning the dataset.\n",
        "\n",
        "Stemming and Lemmatization.\n",
        "\n",
        "1. Stemming refers to a process that clips the ends of the words.\n",
        "\n",
        "For ex: \n",
        "\n",
        "Hoping, Hope, Hop to the stem Hop\n",
        "Port, Porter, Portray to the stem Port\n",
        "\n",
        "It is often done using Porter Algorithm. NLTK has this module in it.\n",
        "\n",
        "2. Lemmatization often refers to the process of returning to the base or dictionary form of a word often known as lemma.\n",
        "\n",
        "For ex:\n",
        "\n",
        "to jump, jumped, jumps, jumping to the base form jump.\n",
        "\n",
        "It is often done using WordNetLemmatizer.\n",
        "\n",
        "* Stemmer is often faster to implement as it operates without context on a single word.\n",
        "\n"
      ]
    },
    {
      "cell_type": "code",
      "execution_count": null,
      "metadata": {
        "id": "K9yc93qo6gcg",
        "colab": {
          "base_uri": "https://localhost:8080/",
          "height": 1000
        },
        "outputId": "1758ba6a-280e-4278-f9d2-15b7dbdea687"
      },
      "outputs": [
        {
          "output_type": "stream",
          "name": "stdout",
          "text": [
            "Collecting tensorflow-text\n",
            "  Downloading tensorflow_text-2.8.1-cp37-cp37m-manylinux_2_12_x86_64.manylinux2010_x86_64.whl (4.9 MB)\n",
            "\u001b[K     |████████████████████████████████| 4.9 MB 3.8 MB/s \n",
            "\u001b[?25hRequirement already satisfied: tensorflow-hub>=0.8.0 in /usr/local/lib/python3.7/dist-packages (from tensorflow-text) (0.12.0)\n",
            "Requirement already satisfied: tensorflow<2.9,>=2.8.0 in /usr/local/lib/python3.7/dist-packages (from tensorflow-text) (2.8.0)\n",
            "Requirement already satisfied: tensorboard<2.9,>=2.8 in /usr/local/lib/python3.7/dist-packages (from tensorflow<2.9,>=2.8.0->tensorflow-text) (2.8.0)\n",
            "Requirement already satisfied: flatbuffers>=1.12 in /usr/local/lib/python3.7/dist-packages (from tensorflow<2.9,>=2.8.0->tensorflow-text) (2.0)\n",
            "Requirement already satisfied: termcolor>=1.1.0 in /usr/local/lib/python3.7/dist-packages (from tensorflow<2.9,>=2.8.0->tensorflow-text) (1.1.0)\n",
            "Requirement already satisfied: h5py>=2.9.0 in /usr/local/lib/python3.7/dist-packages (from tensorflow<2.9,>=2.8.0->tensorflow-text) (3.1.0)\n",
            "Requirement already satisfied: typing-extensions>=3.6.6 in /usr/local/lib/python3.7/dist-packages (from tensorflow<2.9,>=2.8.0->tensorflow-text) (4.1.1)\n",
            "Requirement already satisfied: keras<2.9,>=2.8.0rc0 in /usr/local/lib/python3.7/dist-packages (from tensorflow<2.9,>=2.8.0->tensorflow-text) (2.8.0)\n",
            "Requirement already satisfied: numpy>=1.20 in /usr/local/lib/python3.7/dist-packages (from tensorflow<2.9,>=2.8.0->tensorflow-text) (1.21.6)\n",
            "Requirement already satisfied: tensorflow-io-gcs-filesystem>=0.23.1 in /usr/local/lib/python3.7/dist-packages (from tensorflow<2.9,>=2.8.0->tensorflow-text) (0.24.0)\n",
            "Requirement already satisfied: absl-py>=0.4.0 in /usr/local/lib/python3.7/dist-packages (from tensorflow<2.9,>=2.8.0->tensorflow-text) (1.0.0)\n",
            "Collecting tf-estimator-nightly==2.8.0.dev2021122109\n",
            "  Downloading tf_estimator_nightly-2.8.0.dev2021122109-py2.py3-none-any.whl (462 kB)\n",
            "\u001b[K     |████████████████████████████████| 462 kB 37.9 MB/s \n",
            "\u001b[?25hRequirement already satisfied: protobuf>=3.9.2 in /usr/local/lib/python3.7/dist-packages (from tensorflow<2.9,>=2.8.0->tensorflow-text) (3.17.3)\n",
            "Requirement already satisfied: grpcio<2.0,>=1.24.3 in /usr/local/lib/python3.7/dist-packages (from tensorflow<2.9,>=2.8.0->tensorflow-text) (1.44.0)\n",
            "Requirement already satisfied: opt-einsum>=2.3.2 in /usr/local/lib/python3.7/dist-packages (from tensorflow<2.9,>=2.8.0->tensorflow-text) (3.3.0)\n",
            "Requirement already satisfied: six>=1.12.0 in /usr/local/lib/python3.7/dist-packages (from tensorflow<2.9,>=2.8.0->tensorflow-text) (1.15.0)\n",
            "Requirement already satisfied: libclang>=9.0.1 in /usr/local/lib/python3.7/dist-packages (from tensorflow<2.9,>=2.8.0->tensorflow-text) (13.0.0)\n",
            "Requirement already satisfied: keras-preprocessing>=1.1.1 in /usr/local/lib/python3.7/dist-packages (from tensorflow<2.9,>=2.8.0->tensorflow-text) (1.1.2)\n",
            "Requirement already satisfied: gast>=0.2.1 in /usr/local/lib/python3.7/dist-packages (from tensorflow<2.9,>=2.8.0->tensorflow-text) (0.5.3)\n",
            "Requirement already satisfied: google-pasta>=0.1.1 in /usr/local/lib/python3.7/dist-packages (from tensorflow<2.9,>=2.8.0->tensorflow-text) (0.2.0)\n",
            "Requirement already satisfied: wrapt>=1.11.0 in /usr/local/lib/python3.7/dist-packages (from tensorflow<2.9,>=2.8.0->tensorflow-text) (1.14.0)\n",
            "Requirement already satisfied: setuptools in /usr/local/lib/python3.7/dist-packages (from tensorflow<2.9,>=2.8.0->tensorflow-text) (57.4.0)\n",
            "Requirement already satisfied: astunparse>=1.6.0 in /usr/local/lib/python3.7/dist-packages (from tensorflow<2.9,>=2.8.0->tensorflow-text) (1.6.3)\n",
            "Requirement already satisfied: wheel<1.0,>=0.23.0 in /usr/local/lib/python3.7/dist-packages (from astunparse>=1.6.0->tensorflow<2.9,>=2.8.0->tensorflow-text) (0.37.1)\n",
            "Requirement already satisfied: cached-property in /usr/local/lib/python3.7/dist-packages (from h5py>=2.9.0->tensorflow<2.9,>=2.8.0->tensorflow-text) (1.5.2)\n",
            "Requirement already satisfied: markdown>=2.6.8 in /usr/local/lib/python3.7/dist-packages (from tensorboard<2.9,>=2.8->tensorflow<2.9,>=2.8.0->tensorflow-text) (3.3.6)\n",
            "Requirement already satisfied: google-auth<3,>=1.6.3 in /usr/local/lib/python3.7/dist-packages (from tensorboard<2.9,>=2.8->tensorflow<2.9,>=2.8.0->tensorflow-text) (1.35.0)\n",
            "Requirement already satisfied: tensorboard-plugin-wit>=1.6.0 in /usr/local/lib/python3.7/dist-packages (from tensorboard<2.9,>=2.8->tensorflow<2.9,>=2.8.0->tensorflow-text) (1.8.1)\n",
            "Requirement already satisfied: requests<3,>=2.21.0 in /usr/local/lib/python3.7/dist-packages (from tensorboard<2.9,>=2.8->tensorflow<2.9,>=2.8.0->tensorflow-text) (2.23.0)\n",
            "Requirement already satisfied: werkzeug>=0.11.15 in /usr/local/lib/python3.7/dist-packages (from tensorboard<2.9,>=2.8->tensorflow<2.9,>=2.8.0->tensorflow-text) (1.0.1)\n",
            "Requirement already satisfied: google-auth-oauthlib<0.5,>=0.4.1 in /usr/local/lib/python3.7/dist-packages (from tensorboard<2.9,>=2.8->tensorflow<2.9,>=2.8.0->tensorflow-text) (0.4.6)\n",
            "Requirement already satisfied: tensorboard-data-server<0.7.0,>=0.6.0 in /usr/local/lib/python3.7/dist-packages (from tensorboard<2.9,>=2.8->tensorflow<2.9,>=2.8.0->tensorflow-text) (0.6.1)\n",
            "Requirement already satisfied: rsa<5,>=3.1.4 in /usr/local/lib/python3.7/dist-packages (from google-auth<3,>=1.6.3->tensorboard<2.9,>=2.8->tensorflow<2.9,>=2.8.0->tensorflow-text) (4.8)\n",
            "Requirement already satisfied: cachetools<5.0,>=2.0.0 in /usr/local/lib/python3.7/dist-packages (from google-auth<3,>=1.6.3->tensorboard<2.9,>=2.8->tensorflow<2.9,>=2.8.0->tensorflow-text) (4.2.4)\n",
            "Requirement already satisfied: pyasn1-modules>=0.2.1 in /usr/local/lib/python3.7/dist-packages (from google-auth<3,>=1.6.3->tensorboard<2.9,>=2.8->tensorflow<2.9,>=2.8.0->tensorflow-text) (0.2.8)\n",
            "Requirement already satisfied: requests-oauthlib>=0.7.0 in /usr/local/lib/python3.7/dist-packages (from google-auth-oauthlib<0.5,>=0.4.1->tensorboard<2.9,>=2.8->tensorflow<2.9,>=2.8.0->tensorflow-text) (1.3.1)\n",
            "Requirement already satisfied: importlib-metadata>=4.4 in /usr/local/lib/python3.7/dist-packages (from markdown>=2.6.8->tensorboard<2.9,>=2.8->tensorflow<2.9,>=2.8.0->tensorflow-text) (4.11.3)\n",
            "Requirement already satisfied: zipp>=0.5 in /usr/local/lib/python3.7/dist-packages (from importlib-metadata>=4.4->markdown>=2.6.8->tensorboard<2.9,>=2.8->tensorflow<2.9,>=2.8.0->tensorflow-text) (3.8.0)\n",
            "Requirement already satisfied: pyasn1<0.5.0,>=0.4.6 in /usr/local/lib/python3.7/dist-packages (from pyasn1-modules>=0.2.1->google-auth<3,>=1.6.3->tensorboard<2.9,>=2.8->tensorflow<2.9,>=2.8.0->tensorflow-text) (0.4.8)\n",
            "Requirement already satisfied: idna<3,>=2.5 in /usr/local/lib/python3.7/dist-packages (from requests<3,>=2.21.0->tensorboard<2.9,>=2.8->tensorflow<2.9,>=2.8.0->tensorflow-text) (2.10)\n",
            "Requirement already satisfied: certifi>=2017.4.17 in /usr/local/lib/python3.7/dist-packages (from requests<3,>=2.21.0->tensorboard<2.9,>=2.8->tensorflow<2.9,>=2.8.0->tensorflow-text) (2021.10.8)\n",
            "Requirement already satisfied: chardet<4,>=3.0.2 in /usr/local/lib/python3.7/dist-packages (from requests<3,>=2.21.0->tensorboard<2.9,>=2.8->tensorflow<2.9,>=2.8.0->tensorflow-text) (3.0.4)\n",
            "Requirement already satisfied: urllib3!=1.25.0,!=1.25.1,<1.26,>=1.21.1 in /usr/local/lib/python3.7/dist-packages (from requests<3,>=2.21.0->tensorboard<2.9,>=2.8->tensorflow<2.9,>=2.8.0->tensorflow-text) (1.24.3)\n",
            "Requirement already satisfied: oauthlib>=3.0.0 in /usr/local/lib/python3.7/dist-packages (from requests-oauthlib>=0.7.0->google-auth-oauthlib<0.5,>=0.4.1->tensorboard<2.9,>=2.8->tensorflow<2.9,>=2.8.0->tensorflow-text) (3.2.0)\n",
            "Installing collected packages: tf-estimator-nightly, tensorflow-text\n",
            "Successfully installed tensorflow-text-2.8.1 tf-estimator-nightly-2.8.0.dev2021122109\n"
          ]
        },
        {
          "output_type": "display_data",
          "data": {
            "application/vnd.colab-display-data+json": {
              "pip_warning": {
                "packages": [
                  "tensorflow_estimator"
                ]
              }
            }
          },
          "metadata": {}
        }
      ],
      "source": [
        "import os\n",
        "import pandas as pd\n",
        "from sklearn.model_selection import train_test_split\n",
        "from sklearn import preprocessing\n",
        "from sklearn.feature_extraction.text import TfidfVectorizer\n",
        "from keras.preprocessing import text, sequence\n",
        "import numpy as np\n",
        "from keras.layers import Conv1D, Input, Embedding, MaxPooling1D, Dense, GlobalMaxPooling1D, SpatialDropout1D, Dropout, Flatten,LSTM\n",
        "from keras import Model\n",
        "import tensorflow as tf\n",
        "import matplotlib.pyplot as plt\n",
        "from tensorflow.keras.optimizers import RMSprop\n",
        "from keras import backend as K\n",
        "import tensorflow as tf\n",
        "import tensorflow_hub as hub\n",
        "!pip install tensorflow-text\n",
        "import tensorflow_text as text\n"
      ]
    },
    {
      "cell_type": "code",
      "source": [
        "def recall(y_true, y_pred):\n",
        "    true_positives = K.sum(K.round(K.clip(y_true * y_pred, 0, 1)))\n",
        "    possible_positives = K.sum(K.round(K.clip(y_true, 0, 1)))\n",
        "    recall = true_positives / (possible_positives + K.epsilon())\n",
        "    return recall\n",
        "def precision(y_true, y_pred):\n",
        "    true_positives = K.sum(K.round(K.clip(y_true * y_pred, 0, 1)))\n",
        "    predicted_positives = K.sum(K.round(K.clip(y_pred, 0, 1)))\n",
        "    precision = true_positives / (predicted_positives + K.epsilon())\n",
        "    return precision\n",
        "def f1(y_true, y_pred):\n",
        "    precision = precision_m(y_true, y_pred)\n",
        "    recall = recall_m(y_true, y_pred)\n",
        "    return 2*((precision*recall)/(precision+recall+K.epsilon()))"
      ],
      "metadata": {
        "id": "7_hIVjSPtly_"
      },
      "execution_count": null,
      "outputs": []
    },
    {
      "cell_type": "code",
      "execution_count": null,
      "metadata": {
        "id": "XCKKDX5F7cGs"
      },
      "outputs": [],
      "source": [
        "train_path = \"/content/drive/MyDrive/IIT_PAT_Assesment/clean_dataset.csv\""
      ]
    },
    {
      "cell_type": "code",
      "execution_count": null,
      "metadata": {
        "id": "uC2wanW3768a"
      },
      "outputs": [],
      "source": [
        "df = pd.read_csv(train_path)\n",
        "df = df.sample(frac=1).reset_index(drop=True)"
      ]
    },
    {
      "cell_type": "code",
      "execution_count": null,
      "metadata": {
        "id": "bJmWqbLiZJ9u"
      },
      "outputs": [],
      "source": [
        "train_size = 0.8\n",
        "train_end = int(len(df)*train_size)\n",
        "train_df = df[:train_end].reset_index(drop=True)\n",
        "test_df = df[train_end:].reset_index(drop=True)"
      ]
    },
    {
      "cell_type": "code",
      "execution_count": null,
      "metadata": {
        "id": "Rypxul2W-gQ1"
      },
      "outputs": [],
      "source": [
        "y_train = train_df.pop('Insult')\n",
        "y_test = test_df.pop('Insult')"
      ]
    },
    {
      "cell_type": "code",
      "execution_count": null,
      "metadata": {
        "id": "7O6rV69X-gWz"
      },
      "outputs": [],
      "source": [
        "X_train = train_df\n",
        "X_test = test_df"
      ]
    },
    {
      "cell_type": "code",
      "execution_count": null,
      "metadata": {
        "id": "znERPM_H-gZl"
      },
      "outputs": [],
      "source": [
        "#X_train, X_test, y_train,y_test = train_test_split(X, y, test_size=0.2)\n"
      ]
    },
    {
      "cell_type": "code",
      "execution_count": null,
      "metadata": {
        "colab": {
          "base_uri": "https://localhost:8080/",
          "height": 424
        },
        "id": "QG4ki5KOXLxh",
        "outputId": "27e98300-c40e-47a9-8573-3d2afbae5d47"
      },
      "outputs": [
        {
          "output_type": "execute_result",
          "data": {
            "text/plain": [
              "                                                Comment\n",
              "0     oh dear now you will be sorry in fact you will...\n",
              "1        you are blind deaf and dumb now go back to bed\n",
              "2     hey rynthih who the hell r u speaking on sachi...\n",
              "3     now why would you come up here talking about y...\n",
              "4     new jersey where you save money on gas and hav...\n",
              "...                                                 ...\n",
              "5259  you are disgusting absolutely disgusting there...\n",
              "5260                                  petrsmailbox boom\n",
              "5261   yes it was a re enactment of the big bang theory\n",
              "5262  sure the people who actually diagnose and trea...\n",
              "5263                                     you are stupid\n",
              "\n",
              "[5264 rows x 1 columns]"
            ],
            "text/html": [
              "\n",
              "  <div id=\"df-2631d23d-0f44-4a4a-93e2-51208f291c66\">\n",
              "    <div class=\"colab-df-container\">\n",
              "      <div>\n",
              "<style scoped>\n",
              "    .dataframe tbody tr th:only-of-type {\n",
              "        vertical-align: middle;\n",
              "    }\n",
              "\n",
              "    .dataframe tbody tr th {\n",
              "        vertical-align: top;\n",
              "    }\n",
              "\n",
              "    .dataframe thead th {\n",
              "        text-align: right;\n",
              "    }\n",
              "</style>\n",
              "<table border=\"1\" class=\"dataframe\">\n",
              "  <thead>\n",
              "    <tr style=\"text-align: right;\">\n",
              "      <th></th>\n",
              "      <th>Comment</th>\n",
              "    </tr>\n",
              "  </thead>\n",
              "  <tbody>\n",
              "    <tr>\n",
              "      <th>0</th>\n",
              "      <td>oh dear now you will be sorry in fact you will...</td>\n",
              "    </tr>\n",
              "    <tr>\n",
              "      <th>1</th>\n",
              "      <td>you are blind deaf and dumb now go back to bed</td>\n",
              "    </tr>\n",
              "    <tr>\n",
              "      <th>2</th>\n",
              "      <td>hey rynthih who the hell r u speaking on sachi...</td>\n",
              "    </tr>\n",
              "    <tr>\n",
              "      <th>3</th>\n",
              "      <td>now why would you come up here talking about y...</td>\n",
              "    </tr>\n",
              "    <tr>\n",
              "      <th>4</th>\n",
              "      <td>new jersey where you save money on gas and hav...</td>\n",
              "    </tr>\n",
              "    <tr>\n",
              "      <th>...</th>\n",
              "      <td>...</td>\n",
              "    </tr>\n",
              "    <tr>\n",
              "      <th>5259</th>\n",
              "      <td>you are disgusting absolutely disgusting there...</td>\n",
              "    </tr>\n",
              "    <tr>\n",
              "      <th>5260</th>\n",
              "      <td>petrsmailbox boom</td>\n",
              "    </tr>\n",
              "    <tr>\n",
              "      <th>5261</th>\n",
              "      <td>yes it was a re enactment of the big bang theory</td>\n",
              "    </tr>\n",
              "    <tr>\n",
              "      <th>5262</th>\n",
              "      <td>sure the people who actually diagnose and trea...</td>\n",
              "    </tr>\n",
              "    <tr>\n",
              "      <th>5263</th>\n",
              "      <td>you are stupid</td>\n",
              "    </tr>\n",
              "  </tbody>\n",
              "</table>\n",
              "<p>5264 rows × 1 columns</p>\n",
              "</div>\n",
              "      <button class=\"colab-df-convert\" onclick=\"convertToInteractive('df-2631d23d-0f44-4a4a-93e2-51208f291c66')\"\n",
              "              title=\"Convert this dataframe to an interactive table.\"\n",
              "              style=\"display:none;\">\n",
              "        \n",
              "  <svg xmlns=\"http://www.w3.org/2000/svg\" height=\"24px\"viewBox=\"0 0 24 24\"\n",
              "       width=\"24px\">\n",
              "    <path d=\"M0 0h24v24H0V0z\" fill=\"none\"/>\n",
              "    <path d=\"M18.56 5.44l.94 2.06.94-2.06 2.06-.94-2.06-.94-.94-2.06-.94 2.06-2.06.94zm-11 1L8.5 8.5l.94-2.06 2.06-.94-2.06-.94L8.5 2.5l-.94 2.06-2.06.94zm10 10l.94 2.06.94-2.06 2.06-.94-2.06-.94-.94-2.06-.94 2.06-2.06.94z\"/><path d=\"M17.41 7.96l-1.37-1.37c-.4-.4-.92-.59-1.43-.59-.52 0-1.04.2-1.43.59L10.3 9.45l-7.72 7.72c-.78.78-.78 2.05 0 2.83L4 21.41c.39.39.9.59 1.41.59.51 0 1.02-.2 1.41-.59l7.78-7.78 2.81-2.81c.8-.78.8-2.07 0-2.86zM5.41 20L4 18.59l7.72-7.72 1.47 1.35L5.41 20z\"/>\n",
              "  </svg>\n",
              "      </button>\n",
              "      \n",
              "  <style>\n",
              "    .colab-df-container {\n",
              "      display:flex;\n",
              "      flex-wrap:wrap;\n",
              "      gap: 12px;\n",
              "    }\n",
              "\n",
              "    .colab-df-convert {\n",
              "      background-color: #E8F0FE;\n",
              "      border: none;\n",
              "      border-radius: 50%;\n",
              "      cursor: pointer;\n",
              "      display: none;\n",
              "      fill: #1967D2;\n",
              "      height: 32px;\n",
              "      padding: 0 0 0 0;\n",
              "      width: 32px;\n",
              "    }\n",
              "\n",
              "    .colab-df-convert:hover {\n",
              "      background-color: #E2EBFA;\n",
              "      box-shadow: 0px 1px 2px rgba(60, 64, 67, 0.3), 0px 1px 3px 1px rgba(60, 64, 67, 0.15);\n",
              "      fill: #174EA6;\n",
              "    }\n",
              "\n",
              "    [theme=dark] .colab-df-convert {\n",
              "      background-color: #3B4455;\n",
              "      fill: #D2E3FC;\n",
              "    }\n",
              "\n",
              "    [theme=dark] .colab-df-convert:hover {\n",
              "      background-color: #434B5C;\n",
              "      box-shadow: 0px 1px 3px 1px rgba(0, 0, 0, 0.15);\n",
              "      filter: drop-shadow(0px 1px 2px rgba(0, 0, 0, 0.3));\n",
              "      fill: #FFFFFF;\n",
              "    }\n",
              "  </style>\n",
              "\n",
              "      <script>\n",
              "        const buttonEl =\n",
              "          document.querySelector('#df-2631d23d-0f44-4a4a-93e2-51208f291c66 button.colab-df-convert');\n",
              "        buttonEl.style.display =\n",
              "          google.colab.kernel.accessAllowed ? 'block' : 'none';\n",
              "\n",
              "        async function convertToInteractive(key) {\n",
              "          const element = document.querySelector('#df-2631d23d-0f44-4a4a-93e2-51208f291c66');\n",
              "          const dataTable =\n",
              "            await google.colab.kernel.invokeFunction('convertToInteractive',\n",
              "                                                     [key], {});\n",
              "          if (!dataTable) return;\n",
              "\n",
              "          const docLinkHtml = 'Like what you see? Visit the ' +\n",
              "            '<a target=\"_blank\" href=https://colab.research.google.com/notebooks/data_table.ipynb>data table notebook</a>'\n",
              "            + ' to learn more about interactive tables.';\n",
              "          element.innerHTML = '';\n",
              "          dataTable['output_type'] = 'display_data';\n",
              "          await google.colab.output.renderOutput(dataTable, element);\n",
              "          const docLink = document.createElement('div');\n",
              "          docLink.innerHTML = docLinkHtml;\n",
              "          element.appendChild(docLink);\n",
              "        }\n",
              "      </script>\n",
              "    </div>\n",
              "  </div>\n",
              "  "
            ]
          },
          "metadata": {},
          "execution_count": 15
        }
      ],
      "source": [
        "X_train"
      ]
    },
    {
      "cell_type": "code",
      "execution_count": null,
      "metadata": {
        "colab": {
          "base_uri": "https://localhost:8080/",
          "height": 424
        },
        "id": "P-A5vkMXXL2E",
        "outputId": "b0a80aca-da8f-46e1-869e-0825e474d661"
      },
      "outputs": [
        {
          "output_type": "execute_result",
          "data": {
            "text/plain": [
              "                                                Comment\n",
              "0     no doubt the kid is a major douchenozzle but i...\n",
              "1     shearnut that you may be correct i do not like...\n",
              "2                                  you and your sarcasm\n",
              "3     i just laugh at some of you trolls saying weav...\n",
              "4     sarko s dream was not realized yet total had t...\n",
              "...                                                 ...\n",
              "1311  pussy bitch take my fuking house off of your p...\n",
              "1312  i already explained that sissy but i ll say it...\n",
              "1313  lol as if capcom listens watch them fuck this ...\n",
              "1314  i defended lana every time someone said bad th...\n",
              "1315            rays lost picked up some ground on them\n",
              "\n",
              "[1316 rows x 1 columns]"
            ],
            "text/html": [
              "\n",
              "  <div id=\"df-c3c35b01-58ab-4066-8319-8cd43315ba78\">\n",
              "    <div class=\"colab-df-container\">\n",
              "      <div>\n",
              "<style scoped>\n",
              "    .dataframe tbody tr th:only-of-type {\n",
              "        vertical-align: middle;\n",
              "    }\n",
              "\n",
              "    .dataframe tbody tr th {\n",
              "        vertical-align: top;\n",
              "    }\n",
              "\n",
              "    .dataframe thead th {\n",
              "        text-align: right;\n",
              "    }\n",
              "</style>\n",
              "<table border=\"1\" class=\"dataframe\">\n",
              "  <thead>\n",
              "    <tr style=\"text-align: right;\">\n",
              "      <th></th>\n",
              "      <th>Comment</th>\n",
              "    </tr>\n",
              "  </thead>\n",
              "  <tbody>\n",
              "    <tr>\n",
              "      <th>0</th>\n",
              "      <td>no doubt the kid is a major douchenozzle but i...</td>\n",
              "    </tr>\n",
              "    <tr>\n",
              "      <th>1</th>\n",
              "      <td>shearnut that you may be correct i do not like...</td>\n",
              "    </tr>\n",
              "    <tr>\n",
              "      <th>2</th>\n",
              "      <td>you and your sarcasm</td>\n",
              "    </tr>\n",
              "    <tr>\n",
              "      <th>3</th>\n",
              "      <td>i just laugh at some of you trolls saying weav...</td>\n",
              "    </tr>\n",
              "    <tr>\n",
              "      <th>4</th>\n",
              "      <td>sarko s dream was not realized yet total had t...</td>\n",
              "    </tr>\n",
              "    <tr>\n",
              "      <th>...</th>\n",
              "      <td>...</td>\n",
              "    </tr>\n",
              "    <tr>\n",
              "      <th>1311</th>\n",
              "      <td>pussy bitch take my fuking house off of your p...</td>\n",
              "    </tr>\n",
              "    <tr>\n",
              "      <th>1312</th>\n",
              "      <td>i already explained that sissy but i ll say it...</td>\n",
              "    </tr>\n",
              "    <tr>\n",
              "      <th>1313</th>\n",
              "      <td>lol as if capcom listens watch them fuck this ...</td>\n",
              "    </tr>\n",
              "    <tr>\n",
              "      <th>1314</th>\n",
              "      <td>i defended lana every time someone said bad th...</td>\n",
              "    </tr>\n",
              "    <tr>\n",
              "      <th>1315</th>\n",
              "      <td>rays lost picked up some ground on them</td>\n",
              "    </tr>\n",
              "  </tbody>\n",
              "</table>\n",
              "<p>1316 rows × 1 columns</p>\n",
              "</div>\n",
              "      <button class=\"colab-df-convert\" onclick=\"convertToInteractive('df-c3c35b01-58ab-4066-8319-8cd43315ba78')\"\n",
              "              title=\"Convert this dataframe to an interactive table.\"\n",
              "              style=\"display:none;\">\n",
              "        \n",
              "  <svg xmlns=\"http://www.w3.org/2000/svg\" height=\"24px\"viewBox=\"0 0 24 24\"\n",
              "       width=\"24px\">\n",
              "    <path d=\"M0 0h24v24H0V0z\" fill=\"none\"/>\n",
              "    <path d=\"M18.56 5.44l.94 2.06.94-2.06 2.06-.94-2.06-.94-.94-2.06-.94 2.06-2.06.94zm-11 1L8.5 8.5l.94-2.06 2.06-.94-2.06-.94L8.5 2.5l-.94 2.06-2.06.94zm10 10l.94 2.06.94-2.06 2.06-.94-2.06-.94-.94-2.06-.94 2.06-2.06.94z\"/><path d=\"M17.41 7.96l-1.37-1.37c-.4-.4-.92-.59-1.43-.59-.52 0-1.04.2-1.43.59L10.3 9.45l-7.72 7.72c-.78.78-.78 2.05 0 2.83L4 21.41c.39.39.9.59 1.41.59.51 0 1.02-.2 1.41-.59l7.78-7.78 2.81-2.81c.8-.78.8-2.07 0-2.86zM5.41 20L4 18.59l7.72-7.72 1.47 1.35L5.41 20z\"/>\n",
              "  </svg>\n",
              "      </button>\n",
              "      \n",
              "  <style>\n",
              "    .colab-df-container {\n",
              "      display:flex;\n",
              "      flex-wrap:wrap;\n",
              "      gap: 12px;\n",
              "    }\n",
              "\n",
              "    .colab-df-convert {\n",
              "      background-color: #E8F0FE;\n",
              "      border: none;\n",
              "      border-radius: 50%;\n",
              "      cursor: pointer;\n",
              "      display: none;\n",
              "      fill: #1967D2;\n",
              "      height: 32px;\n",
              "      padding: 0 0 0 0;\n",
              "      width: 32px;\n",
              "    }\n",
              "\n",
              "    .colab-df-convert:hover {\n",
              "      background-color: #E2EBFA;\n",
              "      box-shadow: 0px 1px 2px rgba(60, 64, 67, 0.3), 0px 1px 3px 1px rgba(60, 64, 67, 0.15);\n",
              "      fill: #174EA6;\n",
              "    }\n",
              "\n",
              "    [theme=dark] .colab-df-convert {\n",
              "      background-color: #3B4455;\n",
              "      fill: #D2E3FC;\n",
              "    }\n",
              "\n",
              "    [theme=dark] .colab-df-convert:hover {\n",
              "      background-color: #434B5C;\n",
              "      box-shadow: 0px 1px 3px 1px rgba(0, 0, 0, 0.15);\n",
              "      filter: drop-shadow(0px 1px 2px rgba(0, 0, 0, 0.3));\n",
              "      fill: #FFFFFF;\n",
              "    }\n",
              "  </style>\n",
              "\n",
              "      <script>\n",
              "        const buttonEl =\n",
              "          document.querySelector('#df-c3c35b01-58ab-4066-8319-8cd43315ba78 button.colab-df-convert');\n",
              "        buttonEl.style.display =\n",
              "          google.colab.kernel.accessAllowed ? 'block' : 'none';\n",
              "\n",
              "        async function convertToInteractive(key) {\n",
              "          const element = document.querySelector('#df-c3c35b01-58ab-4066-8319-8cd43315ba78');\n",
              "          const dataTable =\n",
              "            await google.colab.kernel.invokeFunction('convertToInteractive',\n",
              "                                                     [key], {});\n",
              "          if (!dataTable) return;\n",
              "\n",
              "          const docLinkHtml = 'Like what you see? Visit the ' +\n",
              "            '<a target=\"_blank\" href=https://colab.research.google.com/notebooks/data_table.ipynb>data table notebook</a>'\n",
              "            + ' to learn more about interactive tables.';\n",
              "          element.innerHTML = '';\n",
              "          dataTable['output_type'] = 'display_data';\n",
              "          await google.colab.output.renderOutput(dataTable, element);\n",
              "          const docLink = document.createElement('div');\n",
              "          docLink.innerHTML = docLinkHtml;\n",
              "          element.appendChild(docLink);\n",
              "        }\n",
              "      </script>\n",
              "    </div>\n",
              "  </div>\n",
              "  "
            ]
          },
          "metadata": {},
          "execution_count": 16
        }
      ],
      "source": [
        "X_test"
      ]
    },
    {
      "cell_type": "code",
      "execution_count": null,
      "metadata": {
        "id": "of5RxJvn-ger"
      },
      "outputs": [],
      "source": [
        "#label encoding the target variable\n",
        "encoder = preprocessing.LabelEncoder()\n",
        "y_train = encoder.fit_transform(y_train)\n",
        "y_test = encoder.fit_transform(y_test)"
      ]
    },
    {
      "cell_type": "code",
      "execution_count": null,
      "metadata": {
        "colab": {
          "base_uri": "https://localhost:8080/"
        },
        "id": "4cps8jreBDpk",
        "outputId": "e2e856a5-9ffd-4f32-a2db-c74174ec4028"
      },
      "outputs": [
        {
          "output_type": "execute_result",
          "data": {
            "text/plain": [
              "array([0, 1, 1, ..., 0, 0, 1])"
            ]
          },
          "metadata": {},
          "execution_count": 18
        }
      ],
      "source": [
        "y_train"
      ]
    },
    {
      "cell_type": "code",
      "execution_count": null,
      "metadata": {
        "colab": {
          "base_uri": "https://localhost:8080/"
        },
        "id": "28zgnoxTBUUl",
        "outputId": "d4fc769e-a385-4de2-a4b8-33c1d59af795"
      },
      "outputs": [
        {
          "output_type": "execute_result",
          "data": {
            "text/plain": [
              "(5264, 1)"
            ]
          },
          "metadata": {},
          "execution_count": 19
        }
      ],
      "source": [
        "X_train.shape"
      ]
    },
    {
      "cell_type": "code",
      "execution_count": null,
      "metadata": {
        "id": "XOYz3wyTULDN"
      },
      "outputs": [],
      "source": [
        "X_train = X_train.to_numpy().ravel()\n",
        "X_test = X_test.to_numpy().ravel()"
      ]
    },
    {
      "cell_type": "markdown",
      "metadata": {
        "id": "juuiJrTAKbFM"
      },
      "source": [
        "# Embedding Extraction Stage.\n",
        "\n",
        "1. Tf-Idf stage.\n",
        "\n",
        "(Concept revisited via https://www.youtube.com/watch?v=SbdESKmJC8M)"
      ]
    },
    {
      "cell_type": "code",
      "execution_count": null,
      "metadata": {
        "colab": {
          "base_uri": "https://localhost:8080/"
        },
        "id": "5dlJ-hjpDHFT",
        "outputId": "ffc7ccb9-1b2e-420f-abc4-b2b0c6e4684b"
      },
      "outputs": [
        {
          "output_type": "stream",
          "name": "stdout",
          "text": [
            "Length of vocabulary is 5000\n",
            "Length of training samples (5264,)\n"
          ]
        }
      ],
      "source": [
        "#applying tf-idf at word level which represents tf-idf scores of every term in different documents.\n",
        "tfidf_feat = TfidfVectorizer(analyzer='word', max_features=5000, use_idf=True)#token_pattern=r'\\w{1,}')\n",
        "tfidf_feat.fit(train_df['Comment'])\n",
        "tf_len = len(tfidf_feat.vocabulary_)\n",
        "print(\"Length of vocabulary is\", tf_len)\n",
        "print(\"Length of training samples\", X_train.shape)\n",
        "X_train_tfidf = tfidf_feat.transform(X_train).toarray().astype('float64')\n",
        "X_test_tfidf = tfidf_feat.transform(X_test).toarray().astype('float64')\n",
        "\n",
        "\n",
        "#X_train_tfidf = tf.sparse.reorder(X_train_tfidf)\n",
        "#X_test_tfidf = tf.sparse.reorder(X_test_tfidf)\n",
        "#X_train_tfidf = X_train_tfidf.reshape(X_train_tfidf.shape[0], X_train_tfidf.shape[1],1)\n",
        "#X_test_tfidf = X_test_tfidf.reshape(X_test_tfidf.shape[0], X_test_tfidf.shape[1],1)\n"
      ]
    },
    {
      "cell_type": "code",
      "execution_count": null,
      "metadata": {
        "colab": {
          "base_uri": "https://localhost:8080/"
        },
        "id": "kfpQ-qkRI1xp",
        "outputId": "f647fda6-d5c9-437e-8916-c146515262e1"
      },
      "outputs": [
        {
          "output_type": "stream",
          "name": "stdout",
          "text": [
            "n_samples: 5264, n_features: 5000\n",
            "n_samples: 1316, n_features: 5000\n"
          ]
        }
      ],
      "source": [
        "print(\"n_samples: %d, n_features: %d\" % X_train_tfidf.shape)\n",
        "print(\"n_samples: %d, n_features: %d\" % X_test_tfidf.shape)"
      ]
    },
    {
      "cell_type": "code",
      "execution_count": null,
      "metadata": {
        "colab": {
          "base_uri": "https://localhost:8080/"
        },
        "id": "nuwUhfG-vtBS",
        "outputId": "2a6acb3d-6706-4ee7-9a60-bffcc95faca1"
      },
      "outputs": [
        {
          "output_type": "stream",
          "name": "stdout",
          "text": [
            "Shape of Y_train (5264,)\n",
            "Shape of Y_test (1316,)\n"
          ]
        }
      ],
      "source": [
        "print(\"Shape of Y_train\",y_train.shape)\n",
        "print(\"Shape of Y_test\" , y_test.shape)"
      ]
    },
    {
      "cell_type": "markdown",
      "metadata": {
        "id": "EZyVg99qI-vI"
      },
      "source": [
        "T-f matrix is a sparse matrix where each row is a document in our training corpus and each column corresponds to a term/words in the bow list."
      ]
    },
    {
      "cell_type": "markdown",
      "metadata": {
        "id": "b9DUubFTKqa0"
      },
      "source": [
        "2. Fast-Text embedding extraction stage.\n"
      ]
    },
    {
      "cell_type": "code",
      "execution_count": null,
      "metadata": {
        "colab": {
          "base_uri": "https://localhost:8080/"
        },
        "id": "dbpSfs7vMMMG",
        "outputId": "a5817429-1494-4787-a442-3883490dac57"
      },
      "outputs": [
        {
          "output_type": "stream",
          "name": "stdout",
          "text": [
            "--2022-04-19 20:44:14--  https://dl.fbaipublicfiles.com/fasttext/vectors-english/wiki-news-300d-1M.vec.zip\n",
            "Resolving dl.fbaipublicfiles.com (dl.fbaipublicfiles.com)... 13.33.96.23, 13.33.96.115, 13.33.96.64, ...\n",
            "Connecting to dl.fbaipublicfiles.com (dl.fbaipublicfiles.com)|13.33.96.23|:443... connected.\n",
            "HTTP request sent, awaiting response... 200 OK\n",
            "Length: 681808098 (650M) [application/zip]\n",
            "Saving to: ‘wiki-news-300d-1M.vec.zip’\n",
            "\n",
            "wiki-news-300d-1M.v 100%[===================>] 650.22M  28.9MB/s    in 24s     \n",
            "\n",
            "2022-04-19 20:44:39 (27.2 MB/s) - ‘wiki-news-300d-1M.vec.zip’ saved [681808098/681808098]\n",
            "\n"
          ]
        }
      ],
      "source": [
        "!wget https://dl.fbaipublicfiles.com/fasttext/vectors-english/wiki-news-300d-1M.vec.zip"
      ]
    },
    {
      "cell_type": "code",
      "execution_count": null,
      "metadata": {
        "colab": {
          "base_uri": "https://localhost:8080/"
        },
        "id": "I2qetDN5MOsH",
        "outputId": "a45d04ba-d152-4d16-ea2f-5f177bb165c2"
      },
      "outputs": [
        {
          "output_type": "stream",
          "name": "stdout",
          "text": [
            "drive  sample_data  wiki-news-300d-1M.vec.zip\n"
          ]
        }
      ],
      "source": [
        "!ls"
      ]
    },
    {
      "cell_type": "code",
      "execution_count": null,
      "metadata": {
        "colab": {
          "base_uri": "https://localhost:8080/"
        },
        "id": "q6B7ofvbMP7V",
        "outputId": "51dfa929-e444-4eac-ae09-2b58f538703a"
      },
      "outputs": [
        {
          "output_type": "stream",
          "name": "stdout",
          "text": [
            "Archive:  wiki-news-300d-1M.vec.zip\n",
            "  inflating: wiki-news-300d-1M.vec   \n"
          ]
        }
      ],
      "source": [
        "!unzip wiki-news-300d-1M.vec.zip"
      ]
    },
    {
      "cell_type": "code",
      "execution_count": null,
      "metadata": {
        "colab": {
          "base_uri": "https://localhost:8080/"
        },
        "id": "ng2ol0TNNGXK",
        "outputId": "e279d076-0b90-4f25-a8b1-b2dbff44deef"
      },
      "outputs": [
        {
          "output_type": "stream",
          "name": "stdout",
          "text": [
            "drive  sample_data  wiki-news-300d-1M.vec  wiki-news-300d-1M.vec.zip\n"
          ]
        }
      ],
      "source": [
        "!ls"
      ]
    },
    {
      "cell_type": "code",
      "execution_count": null,
      "metadata": {
        "id": "zdojxMl5JKIH"
      },
      "outputs": [],
      "source": [
        "# load the pre-trained word-embedding vectors \n",
        "embeddings_index = {}\n",
        "for i, line in enumerate(open('wiki-news-300d-1M.vec')):\n",
        "    values = line.split()\n",
        "    embeddings_index[values[0]] = np.asarray(values[1:], dtype='float32')\n",
        "\n",
        "# create a tokenizer \n",
        "token = text.Tokenizer()\n",
        "token.fit_on_texts(train_df['Comment'])\n",
        "word_index = token.word_index\n",
        "\n",
        "# convert text to sequence of tokens and pad them to ensure equal length vectors \n",
        "train_seq_x = sequence.pad_sequences(token.texts_to_sequences(X_train), maxlen=70)\n",
        "test_seq_x = sequence.pad_sequences(token.texts_to_sequences(X_test), maxlen=70)\n",
        "\n",
        "# create token-embedding mapping\n",
        "embedding_matrix = np.zeros((len(word_index) + 1, 300))\n",
        "for word, i in word_index.items():\n",
        "    embedding_vector = embeddings_index.get(word)\n",
        "    if embedding_vector is not None:\n",
        "        embedding_matrix[i] = embedding_vector"
      ]
    },
    {
      "cell_type": "code",
      "execution_count": null,
      "metadata": {
        "colab": {
          "base_uri": "https://localhost:8080/"
        },
        "id": "sIHy-dQSMIvr",
        "outputId": "d74e439b-7a6e-40c5-8eca-419384aa5935"
      },
      "outputs": [
        {
          "output_type": "execute_result",
          "data": {
            "text/plain": [
              "(16874, 300)"
            ]
          },
          "metadata": {},
          "execution_count": 61
        }
      ],
      "source": [
        "embedding_matrix.shape"
      ]
    },
    {
      "cell_type": "code",
      "source": [
        "print(\"Shape of training sequence is \", train_seq_x.shape)\n",
        "print(\"Shape of testing sequence is \", test_seq_x.shape)"
      ],
      "metadata": {
        "colab": {
          "base_uri": "https://localhost:8080/"
        },
        "id": "XbGOEmwFDa-0",
        "outputId": "0d6833c7-20d4-40d3-8984-804c90363799"
      },
      "execution_count": null,
      "outputs": [
        {
          "output_type": "stream",
          "name": "stdout",
          "text": [
            "Shape of training sequence is  (5264, 70)\n",
            "Shape of testing sequence is  (1316, 70)\n"
          ]
        }
      ]
    },
    {
      "cell_type": "markdown",
      "metadata": {
        "id": "RWGd9aYMqudl"
      },
      "source": [
        " \n",
        "3. Bag of Words embedding extraction stage : Creating DTM (Document Term matrix) via Count Vectorizer."
      ]
    },
    {
      "cell_type": "code",
      "execution_count": null,
      "metadata": {
        "id": "gyamarDrNvq4"
      },
      "outputs": [],
      "source": [
        "from sklearn.feature_extraction.text import CountVectorizer\n",
        "bow_vectorizer = CountVectorizer(stop_words='english',ngram_range=(2,2), max_features=5000)\n",
        "tf_len = 5000\n",
        "X_train_bow = bow_vectorizer.fit_transform(X_train).toarray().astype('float64')\n",
        "X_test_bow = bow_vectorizer.fit_transform(X_test).toarray().astype('float64')"
      ]
    },
    {
      "cell_type": "code",
      "execution_count": null,
      "metadata": {
        "colab": {
          "base_uri": "https://localhost:8080/"
        },
        "id": "V_wkFRdUsBZT",
        "outputId": "d846b738-bcd2-41bc-ec3c-7c8624dcab8e"
      },
      "outputs": [
        {
          "output_type": "stream",
          "name": "stdout",
          "text": [
            "n_samples: 5264, n_features: 5000\n",
            "n_samples: 1316, n_features: 5000\n"
          ]
        }
      ],
      "source": [
        "print(\"n_samples: %d, n_features: %d\" % X_train_bow.shape)\n",
        "print(\"n_samples: %d, n_features: %d\" % X_test_bow.shape)"
      ]
    },
    {
      "cell_type": "code",
      "execution_count": null,
      "metadata": {
        "colab": {
          "base_uri": "https://localhost:8080/"
        },
        "id": "zwMMvMGKvZ_e",
        "outputId": "71ee92f9-f0bf-4a9f-e74d-0bd2a513b143"
      },
      "outputs": [
        {
          "output_type": "stream",
          "name": "stdout",
          "text": [
            "Shape of Y_train (5264,)\n",
            "Shape of Y_test (1316,)\n"
          ]
        }
      ],
      "source": [
        "print(\"Shape of Y_train\",y_train.shape)\n",
        "print(\"Shape of Y_test\" , y_test.shape)"
      ]
    },
    {
      "cell_type": "markdown",
      "metadata": {
        "id": "mzfWb2IVvEYC"
      },
      "source": [
        "## Summary of Embedding Extraction Stage.\n",
        "\n",
        "1. X_train_tfidf, Y_train, X_test_tfidf, Y_test represent the train,test split obtained via tf-idf embeddings.\n",
        "\n",
        "2. X_train_bow, Y_train, X_test_bow, Y_test represent the train, test split obtained via bow embeddings.\n",
        "\n",
        "3. embedding_matrix being the embedding for the fast-text model."
      ]
    },
    {
      "cell_type": "markdown",
      "metadata": {
        "id": "C4UNOdYV1kEL"
      },
      "source": [
        "# Model Training Stage.\n",
        "\n",
        "Training the following models on the embeddings obtained above.\n",
        "\n",
        "1. CNN-1D.\n",
        "2. LSTM.\n",
        "3. CNN-LSTM.\n",
        "\n",
        "\n",
        "* A. Training CNN-1D Models on the extracted Embeddings.\n"
      ]
    },
    {
      "cell_type": "code",
      "execution_count": null,
      "metadata": {
        "colab": {
          "base_uri": "https://localhost:8080/"
        },
        "id": "WgjotIc49rvO",
        "outputId": "870056e8-16c5-47c8-d07c-772c4906e956"
      },
      "outputs": [
        {
          "name": "stdout",
          "output_type": "stream",
          "text": [
            "Model: \"model\"\n",
            "_________________________________________________________________\n",
            " Layer (type)                Output Shape              Param #   \n",
            "=================================================================\n",
            " input_1 (InputLayer)        [(None, 5000, 1)]         0         \n",
            "                                                                 \n",
            " spatial_dropout1d (SpatialD  (None, 5000, 1)          0         \n",
            " ropout1D)                                                       \n",
            "                                                                 \n",
            " conv1d (Conv1D)             (None, 4996, 128)         768       \n",
            "                                                                 \n",
            " dropout (Dropout)           (None, 4996, 128)         0         \n",
            "                                                                 \n",
            " conv1d_1 (Conv1D)           (None, 4992, 64)          41024     \n",
            "                                                                 \n",
            " dropout_1 (Dropout)         (None, 4992, 64)          0         \n",
            "                                                                 \n",
            " max_pooling1d (MaxPooling1D  (None, 2496, 64)         0         \n",
            " )                                                               \n",
            "                                                                 \n",
            " flatten (Flatten)           (None, 159744)            0         \n",
            "                                                                 \n",
            " dense (Dense)               (None, 1)                 159745    \n",
            "                                                                 \n",
            "=================================================================\n",
            "Total params: 201,537\n",
            "Trainable params: 201,537\n",
            "Non-trainable params: 0\n",
            "_________________________________________________________________\n"
          ]
        }
      ],
      "source": [
        "# Training CNN-1D classifier on TF-IDF Features.\n",
        "X_train_tfidf = X_train_tfidf.reshape(X_train_tfidf.shape[0], X_train_tfidf.shape[1])\n",
        "\n",
        "input = Input(batch_shape=(None, tf_len, 1))\n",
        "drop20 = SpatialDropout1D(0.3)(input)\n",
        "conv2 = Conv1D(filters=128, kernel_size=5, activation='relu')(drop20)\n",
        "drop21 = Dropout(0.5)(conv2)\n",
        "conv22 = Conv1D(filters=64, kernel_size=5, activation='relu')(drop21)\n",
        "drop22 = Dropout(0.5)(conv22)\n",
        "pool2 = MaxPooling1D(pool_size=2)(drop22)\n",
        "flat2 = Flatten()(pool2)\n",
        "out = Dense(1, activation='sigmoid')(flat2)\n",
        "model = Model(input, out)\n",
        "model.compile(loss='binary_crossentropy', optimizer='adam', metrics=['accuracy'])\n",
        "model.summary()"
      ]
    },
    {
      "cell_type": "code",
      "execution_count": null,
      "metadata": {
        "colab": {
          "base_uri": "https://localhost:8080/"
        },
        "id": "4sv6Q6-eH7Pk",
        "outputId": "c0c32f39-5ddf-43b8-e9bb-328946bd1345"
      },
      "outputs": [
        {
          "name": "stdout",
          "output_type": "stream",
          "text": [
            "Epoch 1/10\n",
            "165/165 [==============================] - 19s 112ms/step - loss: 0.3295 - accuracy: 0.8596 - val_loss: 0.4240 - val_accuracy: 0.8078\n",
            "Epoch 2/10\n",
            "165/165 [==============================] - 18s 107ms/step - loss: 0.3092 - accuracy: 0.8672 - val_loss: 0.4332 - val_accuracy: 0.8138\n",
            "Epoch 3/10\n",
            "165/165 [==============================] - 18s 107ms/step - loss: 0.2940 - accuracy: 0.8763 - val_loss: 0.4525 - val_accuracy: 0.8100\n",
            "Epoch 4/10\n",
            "165/165 [==============================] - 18s 108ms/step - loss: 0.2842 - accuracy: 0.8828 - val_loss: 0.4492 - val_accuracy: 0.8153\n",
            "Epoch 5/10\n",
            "165/165 [==============================] - 18s 107ms/step - loss: 0.2734 - accuracy: 0.8864 - val_loss: 0.4880 - val_accuracy: 0.7994\n",
            "Epoch 6/10\n",
            "165/165 [==============================] - 18s 109ms/step - loss: 0.2688 - accuracy: 0.8898 - val_loss: 0.4995 - val_accuracy: 0.7903\n",
            "Epoch 7/10\n",
            "165/165 [==============================] - 18s 107ms/step - loss: 0.2603 - accuracy: 0.8949 - val_loss: 0.5082 - val_accuracy: 0.8002\n",
            "Epoch 8/10\n",
            "165/165 [==============================] - 18s 108ms/step - loss: 0.2526 - accuracy: 0.8946 - val_loss: 0.5196 - val_accuracy: 0.7926\n",
            "Epoch 9/10\n",
            "165/165 [==============================] - 18s 108ms/step - loss: 0.2504 - accuracy: 0.8953 - val_loss: 0.5472 - val_accuracy: 0.7948\n",
            "Epoch 10/10\n",
            "165/165 [==============================] - 18s 107ms/step - loss: 0.2474 - accuracy: 0.8949 - val_loss: 0.5555 - val_accuracy: 0.7979\n"
          ]
        }
      ],
      "source": [
        "history = model.fit(x= X_train_tfidf,y=y_train,validation_data=(X_test_tfidf,y_test),shuffle=True,epochs=10,workers=2,use_multiprocessing=True)"
      ]
    },
    {
      "cell_type": "code",
      "execution_count": null,
      "metadata": {
        "colab": {
          "base_uri": "https://localhost:8080/",
          "height": 295
        },
        "id": "WtsRR9KJ5WwY",
        "outputId": "f4809dc0-4801-48d8-9e5f-3b9b505c5317"
      },
      "outputs": [
        {
          "data": {
            "image/png": "[encoded data removed]",
            "text/plain": [
              "<Figure size 432x288 with 1 Axes>"
            ]
          },
          "metadata": {},
          "output_type": "display_data"
        }
      ],
      "source": [
        "plt.plot(history.history['accuracy'])\n",
        "plt.plot(history.history['val_accuracy'])\n",
        "plt.title('model accuracy')\n",
        "plt.ylabel('accuracy')\n",
        "plt.xlabel('epoch')\n",
        "plt.legend(['train', 'val'], loc='upper left')\n",
        "plt.show()"
      ]
    },
    {
      "cell_type": "code",
      "execution_count": null,
      "metadata": {
        "colab": {
          "base_uri": "https://localhost:8080/",
          "height": 295
        },
        "id": "IrFTl_NR5W7M",
        "outputId": "cfa89f67-cde6-4cb3-9172-1b729650b623"
      },
      "outputs": [
        {
          "data": {
            "image/png": "[encoded data removed]",
            "text/plain": [
              "<Figure size 432x288 with 1 Axes>"
            ]
          },
          "metadata": {},
          "output_type": "display_data"
        }
      ],
      "source": [
        "plt.plot(history.history['loss'])\n",
        "plt.plot(history.history['val_loss'])\n",
        "plt.title('model loss')\n",
        "plt.ylabel('loss')\n",
        "plt.xlabel('epoch')\n",
        "plt.legend(['train', 'val'], loc='upper left')\n",
        "plt.show()"
      ]
    },
    {
      "cell_type": "code",
      "execution_count": null,
      "metadata": {
        "colab": {
          "base_uri": "https://localhost:8080/"
        },
        "id": "_UlS2f8emBdX",
        "outputId": "eeb76fe3-d025-4bb2-9e3a-4566234522e4"
      },
      "outputs": [
        {
          "name": "stdout",
          "output_type": "stream",
          "text": [
            "Model: \"model_1\"\n",
            "_________________________________________________________________\n",
            " Layer (type)                Output Shape              Param #   \n",
            "=================================================================\n",
            " input_2 (InputLayer)        [(None, 5000, 1)]         0         \n",
            "                                                                 \n",
            " spatial_dropout1d_1 (Spatia  (None, 5000, 1)          0         \n",
            " lDropout1D)                                                     \n",
            "                                                                 \n",
            " conv1d_2 (Conv1D)           (None, 4996, 128)         768       \n",
            "                                                                 \n",
            " dropout_2 (Dropout)         (None, 4996, 128)         0         \n",
            "                                                                 \n",
            " conv1d_3 (Conv1D)           (None, 4992, 64)          41024     \n",
            "                                                                 \n",
            " dropout_3 (Dropout)         (None, 4992, 64)          0         \n",
            "                                                                 \n",
            " max_pooling1d_1 (MaxPooling  (None, 2496, 64)         0         \n",
            " 1D)                                                             \n",
            "                                                                 \n",
            " flatten_1 (Flatten)         (None, 159744)            0         \n",
            "                                                                 \n",
            " dense_1 (Dense)             (None, 1)                 159745    \n",
            "                                                                 \n",
            "=================================================================\n",
            "Total params: 201,537\n",
            "Trainable params: 201,537\n",
            "Non-trainable params: 0\n",
            "_________________________________________________________________\n"
          ]
        }
      ],
      "source": [
        "#2. Training CNN-1D classifier on Bag of Words features.\n",
        "\n",
        "X_train_bow = X_train_bow.reshape(X_train_bow.shape[0], X_train_bow.shape[1])\n",
        "\n",
        "input = Input(batch_shape=(None, tf_len, 1))\n",
        "drop20 = SpatialDropout1D(0.3)(input)\n",
        "conv2 = Conv1D(filters=128, kernel_size=5, activation='relu')(drop20)\n",
        "drop21 = Dropout(0.5)(conv2)\n",
        "conv22 = Conv1D(filters=64, kernel_size=5, activation='relu')(drop21)\n",
        "drop22 = Dropout(0.5)(conv22)\n",
        "pool2 = MaxPooling1D(pool_size=2)(drop22)\n",
        "flat2 = Flatten()(pool2)\n",
        "out = Dense(1, activation='sigmoid')(flat2)\n",
        "model = Model(input, out)\n",
        "model.compile(loss='binary_crossentropy', optimizer='adam', metrics=['accuracy'])\n",
        "model.summary()"
      ]
    },
    {
      "cell_type": "code",
      "execution_count": null,
      "metadata": {
        "colab": {
          "base_uri": "https://localhost:8080/"
        },
        "id": "PYtEU-uhpQEs",
        "outputId": "4b61e614-5b18-44e5-a0b6-462187c219fa"
      },
      "outputs": [
        {
          "name": "stdout",
          "output_type": "stream",
          "text": [
            "Epoch 1/10\n",
            "165/165 [==============================] - 20s 113ms/step - loss: 0.5792 - accuracy: 0.7369 - val_loss: 0.5972 - val_accuracy: 0.7325\n",
            "Epoch 2/10\n",
            "165/165 [==============================] - 18s 109ms/step - loss: 0.5302 - accuracy: 0.7614 - val_loss: 0.6547 - val_accuracy: 0.7196\n",
            "Epoch 3/10\n",
            "165/165 [==============================] - 17s 103ms/step - loss: 0.4860 - accuracy: 0.7806 - val_loss: 0.7350 - val_accuracy: 0.6907\n",
            "Epoch 4/10\n",
            "165/165 [==============================] - 17s 101ms/step - loss: 0.4572 - accuracy: 0.7990 - val_loss: 0.7983 - val_accuracy: 0.7067\n",
            "Epoch 5/10\n",
            "165/165 [==============================] - 17s 101ms/step - loss: 0.4372 - accuracy: 0.8070 - val_loss: 0.8846 - val_accuracy: 0.6915\n",
            "Epoch 6/10\n",
            "165/165 [==============================] - 17s 102ms/step - loss: 0.4249 - accuracy: 0.8131 - val_loss: 1.0006 - val_accuracy: 0.6839\n",
            "Epoch 7/10\n",
            "165/165 [==============================] - 17s 103ms/step - loss: 0.4108 - accuracy: 0.8209 - val_loss: 1.0059 - val_accuracy: 0.6839\n",
            "Epoch 8/10\n",
            "165/165 [==============================] - 17s 101ms/step - loss: 0.4004 - accuracy: 0.8226 - val_loss: 1.1664 - val_accuracy: 0.6938\n",
            "Epoch 9/10\n",
            "165/165 [==============================] - 17s 101ms/step - loss: 0.3884 - accuracy: 0.8286 - val_loss: 1.2670 - val_accuracy: 0.6740\n",
            "Epoch 10/10\n",
            "165/165 [==============================] - 17s 102ms/step - loss: 0.3826 - accuracy: 0.8311 - val_loss: 1.3449 - val_accuracy: 0.6717\n"
          ]
        }
      ],
      "source": [
        "history = model.fit(x= X_train_bow,y=y_train,validation_data=(X_test_bow,y_test),shuffle=True,epochs=10,workers=2,use_multiprocessing=True)"
      ]
    },
    {
      "cell_type": "code",
      "execution_count": null,
      "metadata": {
        "colab": {
          "base_uri": "https://localhost:8080/",
          "height": 295
        },
        "id": "p78BwxLA7two",
        "outputId": "b9f8a356-84ee-44c4-d985-a09ae79ce4f7"
      },
      "outputs": [
        {
          "data": {
            "image/png": "[encoded data removed]",
            "text/plain": [
              "<Figure size 432x288 with 1 Axes>"
            ]
          },
          "metadata": {},
          "output_type": "display_data"
        }
      ],
      "source": [
        "plt.plot(history.history['accuracy'])\n",
        "plt.plot(history.history['val_accuracy'])\n",
        "plt.title('model accuracy')\n",
        "plt.ylabel('accuracy')\n",
        "plt.xlabel('epoch')\n",
        "plt.legend(['train', 'val'], loc='upper left')\n",
        "plt.show()"
      ]
    },
    {
      "cell_type": "code",
      "execution_count": null,
      "metadata": {
        "colab": {
          "base_uri": "https://localhost:8080/",
          "height": 295
        },
        "id": "4FqBwRK77xy_",
        "outputId": "4a98e675-43e3-4811-aa3c-7790b069880e"
      },
      "outputs": [
        {
          "data": {
            "image/png": "[encoded data removed]",
            "text/plain": [
              "<Figure size 432x288 with 1 Axes>"
            ]
          },
          "metadata": {},
          "output_type": "display_data"
        }
      ],
      "source": [
        "plt.plot(history.history['loss'])\n",
        "plt.plot(history.history['val_loss'])\n",
        "plt.title('model loss')\n",
        "plt.ylabel('loss')\n",
        "plt.xlabel('epoch')\n",
        "plt.legend(['train', 'val'], loc='upper left')\n",
        "plt.show()"
      ]
    },
    {
      "cell_type": "code",
      "execution_count": null,
      "metadata": {
        "id": "avgqRkwysOYO",
        "colab": {
          "base_uri": "https://localhost:8080/"
        },
        "outputId": "562e208b-0ca5-4079-e9a9-691b026697a5"
      },
      "outputs": [
        {
          "output_type": "stream",
          "name": "stdout",
          "text": [
            "Model: \"model_18\"\n",
            "_________________________________________________________________\n",
            " Layer (type)                Output Shape              Param #   \n",
            "=================================================================\n",
            " input_28 (InputLayer)       [(None, 70)]              0         \n",
            "                                                                 \n",
            " embedding_26 (Embedding)    (None, 70, 300)           5062200   \n",
            "                                                                 \n",
            " conv1d_93 (Conv1D)          (None, 68, 256)           230656    \n",
            "                                                                 \n",
            " dropout_51 (Dropout)        (None, 68, 256)           0         \n",
            "                                                                 \n",
            " max_pooling1d_89 (MaxPoolin  (None, 22, 256)          0         \n",
            " g1D)                                                            \n",
            "                                                                 \n",
            " conv1d_94 (Conv1D)          (None, 20, 256)           196864    \n",
            "                                                                 \n",
            " dropout_52 (Dropout)        (None, 20, 256)           0         \n",
            "                                                                 \n",
            " max_pooling1d_90 (MaxPoolin  (None, 6, 256)           0         \n",
            " g1D)                                                            \n",
            "                                                                 \n",
            " conv1d_95 (Conv1D)          (None, 4, 256)            196864    \n",
            "                                                                 \n",
            " dropout_53 (Dropout)        (None, 4, 256)            0         \n",
            "                                                                 \n",
            " max_pooling1d_91 (MaxPoolin  (None, 1, 256)           0         \n",
            " g1D)                                                            \n",
            "                                                                 \n",
            " global_max_pooling1d_18 (Gl  (None, 256)              0         \n",
            " obalMaxPooling1D)                                               \n",
            "                                                                 \n",
            " dense_36 (Dense)            (None, 256)               65792     \n",
            "                                                                 \n",
            " dense_37 (Dense)            (None, 1)                 257       \n",
            "                                                                 \n",
            "=================================================================\n",
            "Total params: 5,752,633\n",
            "Trainable params: 5,752,633\n",
            "Non-trainable params: 0\n",
            "_________________________________________________________________\n"
          ]
        }
      ],
      "source": [
        "#3. Training CNN-1D classifier on fast-text Features.\n",
        "\n",
        "max_words = 16874\n",
        "MAX_SEQUENCE_LENGTH=70\n",
        "text_input_layer = Input(shape=(70,) ,dtype='int32')\n",
        "embedding_layer = Embedding(max_words, 300, weights=[embedding_matrix],input_length=MAX_SEQUENCE_LENGTH,\n",
        "                                trainable=True)(text_input_layer)\n",
        "text_layer = Conv1D(256, 3, activation='relu')(embedding_layer)\n",
        "text_layer = Dropout(0.3)(text_layer)\n",
        "text_layer = MaxPooling1D(3)(text_layer)\n",
        "text_layer = Conv1D(256, 3, activation='relu')(text_layer)\n",
        "text_layer = Dropout(0.3)(text_layer)\n",
        "text_layer = MaxPooling1D(3)(text_layer)\n",
        "text_layer = Conv1D(256, 3, activation='relu')(text_layer)\n",
        "text_layer = Dropout(0.3)(text_layer)\n",
        "text_layer = MaxPooling1D(3)(text_layer)\n",
        "text_layer = GlobalMaxPooling1D()(text_layer)\n",
        "text_layer = Dense(256, activation='relu')(text_layer)\n",
        "output_layer = Dense(1, activation='sigmoid')(text_layer)\n",
        "model = Model(text_input_layer, output_layer)\n",
        "model.summary()\n",
        "model.compile(optimizer='adam',\n",
        "              loss='binary_crossentropy',\n",
        "              metrics=['acc'])"
      ]
    },
    {
      "cell_type": "code",
      "source": [
        "history=model.fit(train_seq_x, y_train,validation_data= (test_seq_x,y_test), epochs=10, shuffle=True,workers=2,use_multiprocessing=True)"
      ],
      "metadata": {
        "colab": {
          "base_uri": "https://localhost:8080/"
        },
        "id": "cklEl3vWIPnG",
        "outputId": "acd9d8d1-8cf9-4b95-a20b-97798f7e4f27"
      },
      "execution_count": null,
      "outputs": [
        {
          "output_type": "stream",
          "name": "stdout",
          "text": [
            "Epoch 1/10\n",
            "165/165 [==============================] - 2s 9ms/step - loss: 0.2930 - acc: 0.8613 - val_loss: 1.8255 - val_acc: 0.7166\n",
            "Epoch 2/10\n",
            "165/165 [==============================] - 1s 9ms/step - loss: 0.2913 - acc: 0.8625 - val_loss: 2.3229 - val_acc: 0.7166\n",
            "Epoch 3/10\n",
            "165/165 [==============================] - 2s 9ms/step - loss: 0.2927 - acc: 0.8619 - val_loss: 2.1133 - val_acc: 0.7143\n",
            "Epoch 4/10\n",
            "165/165 [==============================] - 1s 9ms/step - loss: 0.2955 - acc: 0.8617 - val_loss: 1.6342 - val_acc: 0.7120\n",
            "Epoch 5/10\n",
            "165/165 [==============================] - 1s 9ms/step - loss: 0.2925 - acc: 0.8621 - val_loss: 1.7671 - val_acc: 0.7052\n",
            "Epoch 6/10\n",
            "165/165 [==============================] - 1s 9ms/step - loss: 0.2994 - acc: 0.8609 - val_loss: 1.4708 - val_acc: 0.7318\n",
            "Epoch 7/10\n",
            "165/165 [==============================] - 1s 9ms/step - loss: 0.3002 - acc: 0.8602 - val_loss: 1.5214 - val_acc: 0.7014\n",
            "Epoch 8/10\n",
            "165/165 [==============================] - 2s 13ms/step - loss: 0.3085 - acc: 0.8589 - val_loss: 1.0317 - val_acc: 0.7097\n",
            "Epoch 9/10\n",
            "165/165 [==============================] - 2s 15ms/step - loss: 0.2954 - acc: 0.8611 - val_loss: 1.3756 - val_acc: 0.7204\n",
            "Epoch 10/10\n",
            "165/165 [==============================] - 2s 14ms/step - loss: 0.2929 - acc: 0.8625 - val_loss: 1.8054 - val_acc: 0.7166\n"
          ]
        }
      ]
    },
    {
      "cell_type": "code",
      "source": [
        "plt.plot(history.history['acc'])\n",
        "plt.plot(history.history['val_acc'])\n",
        "plt.title('model accuracy')\n",
        "plt.ylabel('accuracy')\n",
        "plt.xlabel('epoch')\n",
        "plt.legend(['train', 'val'], loc='upper left')\n",
        "plt.show()"
      ],
      "metadata": {
        "colab": {
          "base_uri": "https://localhost:8080/",
          "height": 295
        },
        "id": "zsTY_CN_m07z",
        "outputId": "78d17da7-302e-483f-ec36-0b6e0eaec33d"
      },
      "execution_count": null,
      "outputs": [
        {
          "output_type": "display_data",
          "data": {
            "text/plain": [
              "<Figure size 432x288 with 1 Axes>"
            ],
            "image/png": "[encoded data removed]"
          },
          "metadata": {
            "needs_background": "light"
          }
        }
      ]
    },
    {
      "cell_type": "code",
      "source": [
        "plt.plot(history.history['loss'])\n",
        "plt.plot(history.history['val_loss'])\n",
        "plt.title('model loss')\n",
        "plt.ylabel('loss')\n",
        "plt.xlabel('epoch')\n",
        "plt.legend(['train', 'val'], loc='upper left')\n",
        "plt.show()"
      ],
      "metadata": {
        "colab": {
          "base_uri": "https://localhost:8080/",
          "height": 295
        },
        "id": "1JtcvudTm4Ci",
        "outputId": "5aaec386-8168-4ffb-a627-3d1aa76dd3e0"
      },
      "execution_count": null,
      "outputs": [
        {
          "output_type": "display_data",
          "data": {
            "text/plain": [
              "<Figure size 432x288 with 1 Axes>"
            ],
            "image/png": "[encoded data removed]"
          },
          "metadata": {
            "needs_background": "light"
          }
        }
      ]
    },
    {
      "cell_type": "code",
      "source": [
        "#model.save_weights('Model_trained')\n"
      ],
      "metadata": {
        "id": "BBAzdHMDlB8g"
      },
      "execution_count": null,
      "outputs": []
    },
    {
      "cell_type": "markdown",
      "source": [
        "* Training LSTM Model on Extracted Embeddings."
      ],
      "metadata": {
        "id": "1UnMvhOXusdX"
      }
    },
    {
      "cell_type": "code",
      "source": [
        "# Training CNN-1D classifier on TF-IDF Features.\n",
        "X_train_tfidf = X_train_tfidf.reshape(X_train_tfidf.shape[0], X_train_tfidf.shape[1])\n",
        "\n",
        "input = Input(batch_shape=(None, tf_len, 1))\n",
        "out1 = LSTM(units=16,return_sequences = True)(input)\n",
        "out2 = LSTM(units=4, return_sequences = True)(out1)\n",
        "out = LSTM(units=1, return_sequences = True)(out2)\n",
        "\n",
        "model = Model(input, out)\n",
        "model.compile(loss='binary_crossentropy', optimizer='adam', metrics = ['accuracy'])\n",
        "model.summary()"
      ],
      "metadata": {
        "colab": {
          "base_uri": "https://localhost:8080/"
        },
        "id": "D27vzvDXlIUE",
        "outputId": "85d0ae16-185b-4cc3-fd5c-7fca3affd582"
      },
      "execution_count": null,
      "outputs": [
        {
          "output_type": "stream",
          "name": "stdout",
          "text": [
            "Model: \"model_24\"\n",
            "_________________________________________________________________\n",
            " Layer (type)                Output Shape              Param #   \n",
            "=================================================================\n",
            " input_36 (InputLayer)       [(None, 5000, 1)]         0         \n",
            "                                                                 \n",
            " lstm_24 (LSTM)              (None, 5000, 16)          1152      \n",
            "                                                                 \n",
            " lstm_25 (LSTM)              (None, 5000, 4)           336       \n",
            "                                                                 \n",
            " lstm_26 (LSTM)              (None, 5000, 1)           24        \n",
            "                                                                 \n",
            "=================================================================\n",
            "Total params: 1,512\n",
            "Trainable params: 1,512\n",
            "Non-trainable params: 0\n",
            "_________________________________________________________________\n"
          ]
        }
      ]
    },
    {
      "cell_type": "code",
      "source": [
        "history = model.fit(x= X_train_tfidf,y=y_train,validation_data=(X_test_tfidf,y_test),shuffle=True,epochs=10,workers=2,use_multiprocessing=True,batch_size=1024)"
      ],
      "metadata": {
        "colab": {
          "base_uri": "https://localhost:8080/",
          "height": 1000
        },
        "id": "ulqmFNz7rUZt",
        "outputId": "4d779170-0808-4441-ec18-edc091e378c8"
      },
      "execution_count": null,
      "outputs": [
        {
          "output_type": "stream",
          "name": "stdout",
          "text": [
            "Epoch 1/10\n"
          ]
        },
        {
          "output_type": "error",
          "ename": "KeyboardInterrupt",
          "evalue": "ignored",
          "traceback": [
            "\u001b[0;31m---------------------------------------------------------------------------\u001b[0m",
            "\u001b[0;31mKeyboardInterrupt\u001b[0m                         Traceback (most recent call last)",
            "\u001b[0;32m/usr/local/lib/python3.7/dist-packages/zmq/backend/cython/checkrc.pxd\u001b[0m in \u001b[0;36mzmq.backend.cython.checkrc._check_rc\u001b[0;34m()\u001b[0m\n",
            "\u001b[0;31mKeyboardInterrupt\u001b[0m: "
          ]
        },
        {
          "output_type": "stream",
          "name": "stderr",
          "text": [
            "Exception ignored in: 'zmq.backend.cython.message.Frame.__dealloc__'\n",
            "Traceback (most recent call last):\n",
            "  File \"zmq/backend/cython/checkrc.pxd\", line 13, in zmq.backend.cython.checkrc._check_rc\n",
            "KeyboardInterrupt\n"
          ]
        },
        {
          "output_type": "error",
          "ename": "KeyboardInterrupt",
          "evalue": "ignored",
          "traceback": [
            "\u001b[0;31m---------------------------------------------------------------------------\u001b[0m",
            "\u001b[0;31mKeyboardInterrupt\u001b[0m                         Traceback (most recent call last)",
            "\u001b[0;32m/usr/local/lib/python3.7/dist-packages/zmq/backend/cython/checkrc.pxd\u001b[0m in \u001b[0;36mzmq.backend.cython.checkrc._check_rc\u001b[0;34m()\u001b[0m\n",
            "\u001b[0;31mKeyboardInterrupt\u001b[0m: "
          ]
        },
        {
          "output_type": "stream",
          "name": "stderr",
          "text": [
            "Exception ignored in: 'zmq.backend.cython.message.Frame.__dealloc__'\n",
            "Traceback (most recent call last):\n",
            "  File \"zmq/backend/cython/checkrc.pxd\", line 13, in zmq.backend.cython.checkrc._check_rc\n",
            "KeyboardInterrupt\n"
          ]
        },
        {
          "output_type": "error",
          "ename": "KeyboardInterrupt",
          "evalue": "ignored",
          "traceback": [
            "\u001b[0;31m---------------------------------------------------------------------------\u001b[0m",
            "\u001b[0;31mKeyboardInterrupt\u001b[0m                         Traceback (most recent call last)",
            "\u001b[0;32m/usr/local/lib/python3.7/dist-packages/zmq/backend/cython/checkrc.pxd\u001b[0m in \u001b[0;36mzmq.backend.cython.checkrc._check_rc\u001b[0;34m()\u001b[0m\n",
            "\u001b[0;31mKeyboardInterrupt\u001b[0m: "
          ]
        },
        {
          "output_type": "stream",
          "name": "stderr",
          "text": [
            "Exception ignored in: 'zmq.backend.cython.message.Frame.__dealloc__'\n",
            "Traceback (most recent call last):\n",
            "  File \"zmq/backend/cython/checkrc.pxd\", line 13, in zmq.backend.cython.checkrc._check_rc\n",
            "KeyboardInterrupt\n"
          ]
        },
        {
          "output_type": "stream",
          "name": "stdout",
          "text": [
            "21/21 [==============================] - 158s 600ms/step - loss: 1.1395 - accuracy: 0.7371 - val_loss: 0.8343 - val_accuracy: 0.7280\n",
            "Epoch 2/10\n",
            "21/21 [==============================] - 11s 546ms/step - loss: 0.6878 - accuracy: 0.7371 - val_loss: 0.6202 - val_accuracy: 0.7280\n",
            "Epoch 3/10\n",
            "21/21 [==============================] - 13s 625ms/step - loss: 0.5922 - accuracy: 0.7371 - val_loss: 0.5880 - val_accuracy: 0.7280\n",
            "Epoch 4/10\n",
            "21/21 [==============================] - 12s 551ms/step - loss: 0.5787 - accuracy: 0.7371 - val_loss: 0.5879 - val_accuracy: 0.7280\n",
            "Epoch 5/10\n",
            "21/21 [==============================] - 13s 606ms/step - loss: 0.5781 - accuracy: 0.7371 - val_loss: 0.5871 - val_accuracy: 0.7280\n",
            "Epoch 6/10\n",
            "21/21 [==============================] - 11s 548ms/step - loss: 0.5780 - accuracy: 0.7371 - val_loss: 0.5876 - val_accuracy: 0.7280\n",
            "Epoch 7/10\n",
            "21/21 [==============================] - 11s 546ms/step - loss: 0.5779 - accuracy: 0.7371 - val_loss: 0.5872 - val_accuracy: 0.7280\n",
            "Epoch 8/10\n",
            "21/21 [==============================] - 11s 549ms/step - loss: 0.5787 - accuracy: 0.7371 - val_loss: 0.5873 - val_accuracy: 0.7280\n",
            "Epoch 9/10\n",
            "21/21 [==============================] - 11s 546ms/step - loss: 0.5780 - accuracy: 0.7371 - val_loss: 0.5872 - val_accuracy: 0.7280\n",
            "Epoch 10/10\n",
            "21/21 [==============================] - 11s 547ms/step - loss: 0.5784 - accuracy: 0.7371 - val_loss: 0.5875 - val_accuracy: 0.7280\n"
          ]
        }
      ]
    },
    {
      "cell_type": "code",
      "source": [
        "plt.plot(history.history['accuracy'])\n",
        "plt.plot(history.history['val_accuracy'])\n",
        "plt.title('model accuracy')\n",
        "plt.ylabel('accuracy')\n",
        "plt.xlabel('epoch')\n",
        "plt.legend(['train', 'val'], loc='upper left')\n",
        "plt.show()"
      ],
      "metadata": {
        "colab": {
          "base_uri": "https://localhost:8080/",
          "height": 295
        },
        "id": "cN3smH0wzLzw",
        "outputId": "39bea194-3b59-4379-f2d4-1faa2415b45a"
      },
      "execution_count": null,
      "outputs": [
        {
          "output_type": "display_data",
          "data": {
            "text/plain": [
              "<Figure size 432x288 with 1 Axes>"
            ],
            "image/png": "[encoded data removed]"
          },
          "metadata": {
            "needs_background": "light"
          }
        }
      ]
    },
    {
      "cell_type": "code",
      "source": [
        "plt.plot(history.history['loss'])\n",
        "plt.plot(history.history['val_loss'])\n",
        "plt.title('model loss')\n",
        "plt.ylabel('loss')\n",
        "plt.xlabel('epoch')\n",
        "plt.legend(['train', 'val'], loc='upper left')\n",
        "plt.show()"
      ],
      "metadata": {
        "colab": {
          "base_uri": "https://localhost:8080/",
          "height": 295
        },
        "id": "ym59X6WWykaa",
        "outputId": "4adc3e9a-d33c-4ceb-bb8e-35a3344ecf45"
      },
      "execution_count": null,
      "outputs": [
        {
          "output_type": "display_data",
          "data": {
            "text/plain": [
              "<Figure size 432x288 with 1 Axes>"
            ],
            "image/png": "[encoded data removed]"
          },
          "metadata": {
            "needs_background": "light"
          }
        }
      ]
    },
    {
      "cell_type": "code",
      "source": [
        "# Training LSTM classifier on Bow Features.\n",
        "X_train_bow = X_train_bow.reshape(X_train_bow.shape[0], X_train_bow.shape[1])\n",
        "\n",
        "from keras import Sequential\n",
        "from keras.layers import LSTM\n",
        "\n",
        "input = Input(batch_shape=(None, tf_len, 1))\n",
        "out1 = LSTM(units=16,return_sequences = True)(input)\n",
        "out2 = LSTM(units=4, return_sequences = True)(out1)\n",
        "out = LSTM(units=1, return_sequences = True)(out2)\n",
        "\n",
        "model = Model(input, out)\n",
        "model.compile(loss='binary_crossentropy', optimizer='adam', metrics = ['acc'])\n",
        "model.summary()"
      ],
      "metadata": {
        "colab": {
          "base_uri": "https://localhost:8080/"
        },
        "id": "onZqU1YozPmB",
        "outputId": "340e1e61-895c-4e42-b90e-ed7eb26cd934"
      },
      "execution_count": null,
      "outputs": [
        {
          "output_type": "stream",
          "name": "stdout",
          "text": [
            "Model: \"model_25\"\n",
            "_________________________________________________________________\n",
            " Layer (type)                Output Shape              Param #   \n",
            "=================================================================\n",
            " input_37 (InputLayer)       [(None, 5000, 1)]         0         \n",
            "                                                                 \n",
            " lstm_27 (LSTM)              (None, 5000, 16)          1152      \n",
            "                                                                 \n",
            " lstm_28 (LSTM)              (None, 5000, 4)           336       \n",
            "                                                                 \n",
            " lstm_29 (LSTM)              (None, 5000, 1)           24        \n",
            "                                                                 \n",
            "=================================================================\n",
            "Total params: 1,512\n",
            "Trainable params: 1,512\n",
            "Non-trainable params: 0\n",
            "_________________________________________________________________\n"
          ]
        }
      ]
    },
    {
      "cell_type": "code",
      "source": [
        "history = model.fit(x= X_train_bow,y=y_train,validation_data=(X_test_bow,y_test),shuffle=True,epochs=10,workers=2,use_multiprocessing=True,batch_size=64)"
      ],
      "metadata": {
        "colab": {
          "base_uri": "https://localhost:8080/"
        },
        "id": "IykKT9kPzjL7",
        "outputId": "b682e66d-13f3-49cc-832a-b400d4c33098"
      },
      "execution_count": null,
      "outputs": [
        {
          "output_type": "stream",
          "name": "stdout",
          "text": [
            "Epoch 1/10\n",
            "83/83 [==============================] - 32s 381ms/step - loss: 0.7833 - acc: 0.7371 - val_loss: 0.5869 - val_acc: 0.7280\n",
            "Epoch 2/10\n",
            "83/83 [==============================] - 31s 369ms/step - loss: 0.5778 - acc: 0.7371 - val_loss: 0.5874 - val_acc: 0.7280\n",
            "Epoch 3/10\n",
            "83/83 [==============================] - 32s 383ms/step - loss: 0.5777 - acc: 0.7371 - val_loss: 0.5869 - val_acc: 0.7280\n",
            "Epoch 4/10\n",
            "83/83 [==============================] - 30s 368ms/step - loss: 0.5779 - acc: 0.7371 - val_loss: 0.5868 - val_acc: 0.7280\n",
            "Epoch 5/10\n",
            "83/83 [==============================] - 42s 505ms/step - loss: 0.5779 - acc: 0.7371 - val_loss: 0.5868 - val_acc: 0.7280\n",
            "Epoch 6/10\n",
            "83/83 [==============================] - 32s 388ms/step - loss: 0.5780 - acc: 0.7371 - val_loss: 0.5868 - val_acc: 0.7280\n",
            "Epoch 7/10\n",
            "83/83 [==============================] - 31s 369ms/step - loss: 0.5779 - acc: 0.7371 - val_loss: 0.5868 - val_acc: 0.7280\n",
            "Epoch 8/10\n",
            "83/83 [==============================] - 31s 369ms/step - loss: 0.5777 - acc: 0.7371 - val_loss: 0.5868 - val_acc: 0.7280\n",
            "Epoch 9/10\n",
            "83/83 [==============================] - 31s 369ms/step - loss: 0.5777 - acc: 0.7371 - val_loss: 0.5867 - val_acc: 0.7280\n",
            "Epoch 10/10\n",
            "83/83 [==============================] - 31s 371ms/step - loss: 0.5778 - acc: 0.7371 - val_loss: 0.5870 - val_acc: 0.7280\n"
          ]
        }
      ]
    },
    {
      "cell_type": "code",
      "source": [
        "plt.plot(history.history['acc'])\n",
        "plt.plot(history.history['val_acc'])\n",
        "plt.title('model accuracy')\n",
        "plt.ylabel('accuracy')\n",
        "plt.xlabel('epoch')\n",
        "plt.legend(['train', 'val'], loc='upper left')\n",
        "plt.show()"
      ],
      "metadata": {
        "colab": {
          "base_uri": "https://localhost:8080/",
          "height": 295
        },
        "id": "XNgj_AcPzo4p",
        "outputId": "786481e6-a0d6-431a-8f4e-b39039899fff"
      },
      "execution_count": null,
      "outputs": [
        {
          "output_type": "display_data",
          "data": {
            "text/plain": [
              "<Figure size 432x288 with 1 Axes>"
            ],
            "image/png": "[encoded data removed]"
          },
          "metadata": {
            "needs_background": "light"
          }
        }
      ]
    },
    {
      "cell_type": "code",
      "source": [
        "plt.plot(history.history['loss'])\n",
        "plt.plot(history.history['val_loss'])\n",
        "plt.title('model loss')\n",
        "plt.ylabel('loss')\n",
        "plt.xlabel('epoch')\n",
        "plt.legend(['train', 'val'], loc='upper left')\n",
        "plt.show()"
      ],
      "metadata": {
        "colab": {
          "base_uri": "https://localhost:8080/",
          "height": 295
        },
        "id": "X98r-Aerzqvw",
        "outputId": "faa2757f-0536-46b1-8d0e-7d5f13943a4c"
      },
      "execution_count": null,
      "outputs": [
        {
          "output_type": "display_data",
          "data": {
            "text/plain": [
              "<Figure size 432x288 with 1 Axes>"
            ],
            "image/png": "[encoded data removed]"
          },
          "metadata": {
            "needs_background": "light"
          }
        }
      ]
    },
    {
      "cell_type": "code",
      "source": [
        "# Training LSTM classifier on FastText Embedding\n",
        "\n",
        "X_train_bow = X_train_bow.reshape(X_train_bow.shape[0], X_train_bow.shape[1])\n",
        "\n",
        "from keras import Sequential\n",
        "from keras.layers import LSTM\n",
        "\n",
        "max_words = 16874\n",
        "MAX_SEQUENCE_LENGTH=70\n",
        "text_input_layer = Input(shape=(70,) ,dtype='int32')\n",
        "embedding_layer = Embedding(max_words, 300, weights=[embedding_matrix],input_length=MAX_SEQUENCE_LENGTH,\n",
        "                                trainable=True)(text_input_layer)\n",
        "text_layer = LSTM(units=16,return_sequences = True)(embedding_layer)\n",
        "text_layer = LSTM(units=4, return_sequences = True)(text_layer)\n",
        "out = LSTM(units=1, return_sequences = True)(text_layer)\n",
        "\n",
        "model = Model(text_input_layer, out)\n",
        "model.compile(loss='binary_crossentropy', optimizer='adam', metrics = ['acc'])\n",
        "model.summary()"
      ],
      "metadata": {
        "colab": {
          "base_uri": "https://localhost:8080/"
        },
        "id": "arcIVtCBzsip",
        "outputId": "cdaf50f2-56dd-4772-d0e7-3b053ee31b30"
      },
      "execution_count": null,
      "outputs": [
        {
          "output_type": "stream",
          "name": "stdout",
          "text": [
            "Model: \"model_27\"\n",
            "_________________________________________________________________\n",
            " Layer (type)                Output Shape              Param #   \n",
            "=================================================================\n",
            " input_39 (InputLayer)       [(None, 70)]              0         \n",
            "                                                                 \n",
            " embedding_28 (Embedding)    (None, 70, 300)           5062200   \n",
            "                                                                 \n",
            " lstm_33 (LSTM)              (None, 70, 16)            20288     \n",
            "                                                                 \n",
            " lstm_34 (LSTM)              (None, 70, 4)             336       \n",
            "                                                                 \n",
            " lstm_35 (LSTM)              (None, 70, 1)             24        \n",
            "                                                                 \n",
            "=================================================================\n",
            "Total params: 5,082,848\n",
            "Trainable params: 5,082,848\n",
            "Non-trainable params: 0\n",
            "_________________________________________________________________\n"
          ]
        }
      ]
    },
    {
      "cell_type": "code",
      "source": [
        "history=model.fit(train_seq_x, y_train,validation_data= (test_seq_x,y_test), epochs=10, shuffle=True,workers=2,use_multiprocessing=True)"
      ],
      "metadata": {
        "colab": {
          "base_uri": "https://localhost:8080/"
        },
        "id": "FjYXo6Vp5eGd",
        "outputId": "75e903a0-0819-4bb5-fb54-62cc391fe826"
      },
      "execution_count": null,
      "outputs": [
        {
          "output_type": "stream",
          "name": "stdout",
          "text": [
            "Epoch 1/10\n",
            "165/165 [==============================] - 86s 501ms/step - loss: 0.6097 - acc: 0.7371 - val_loss: 0.5933 - val_acc: 0.7280\n",
            "Epoch 2/10\n",
            "165/165 [==============================] - 2s 14ms/step - loss: 0.5817 - acc: 0.7371 - val_loss: 0.5892 - val_acc: 0.7280\n",
            "Epoch 3/10\n",
            "165/165 [==============================] - 2s 15ms/step - loss: 0.5790 - acc: 0.7371 - val_loss: 0.5873 - val_acc: 0.7280\n",
            "Epoch 4/10\n",
            "165/165 [==============================] - 2s 14ms/step - loss: 0.5779 - acc: 0.7371 - val_loss: 0.5871 - val_acc: 0.7280\n",
            "Epoch 5/10\n",
            "165/165 [==============================] - 2s 15ms/step - loss: 0.5772 - acc: 0.7371 - val_loss: 0.5867 - val_acc: 0.7280\n",
            "Epoch 6/10\n",
            "165/165 [==============================] - 2s 14ms/step - loss: 0.5770 - acc: 0.7371 - val_loss: 0.5861 - val_acc: 0.7280\n",
            "Epoch 7/10\n",
            "165/165 [==============================] - 2s 15ms/step - loss: 0.5767 - acc: 0.7371 - val_loss: 0.5863 - val_acc: 0.7280\n",
            "Epoch 8/10\n",
            "165/165 [==============================] - 2s 14ms/step - loss: 0.5767 - acc: 0.7371 - val_loss: 0.5860 - val_acc: 0.7280\n",
            "Epoch 9/10\n",
            "165/165 [==============================] - 2s 15ms/step - loss: 0.5768 - acc: 0.7371 - val_loss: 0.5866 - val_acc: 0.7280\n",
            "Epoch 10/10\n",
            "165/165 [==============================] - 2s 15ms/step - loss: 0.5766 - acc: 0.7371 - val_loss: 0.5858 - val_acc: 0.7280\n"
          ]
        }
      ]
    },
    {
      "cell_type": "code",
      "source": [
        "plt.plot(history.history['acc'])\n",
        "plt.plot(history.history['val_acc'])\n",
        "plt.title('model accuracy')\n",
        "plt.ylabel('accuracy')\n",
        "plt.xlabel('epoch')\n",
        "plt.legend(['train', 'val'], loc='upper left')\n",
        "plt.show()"
      ],
      "metadata": {
        "colab": {
          "base_uri": "https://localhost:8080/",
          "height": 295
        },
        "id": "srUw8pWX5jR_",
        "outputId": "26da6e23-c5f2-4611-b523-ea642f3647df"
      },
      "execution_count": null,
      "outputs": [
        {
          "output_type": "display_data",
          "data": {
            "text/plain": [
              "<Figure size 432x288 with 1 Axes>"
            ],
            "image/png": "[encoded data removed]"
          },
          "metadata": {
            "needs_background": "light"
          }
        }
      ]
    },
    {
      "cell_type": "code",
      "source": [
        "plt.plot(history.history['loss'])\n",
        "plt.plot(history.history['val_loss'])\n",
        "plt.title('model loss')\n",
        "plt.ylabel('loss')\n",
        "plt.xlabel('epoch')\n",
        "plt.legend(['train', 'val'], loc='upper left')\n",
        "plt.show()"
      ],
      "metadata": {
        "colab": {
          "base_uri": "https://localhost:8080/",
          "height": 295
        },
        "id": "23M9Xdr55krv",
        "outputId": "037da44b-7817-43ea-c758-c9dbb8d72493"
      },
      "execution_count": null,
      "outputs": [
        {
          "output_type": "display_data",
          "data": {
            "text/plain": [
              "<Figure size 432x288 with 1 Axes>"
            ],
            "image/png": "[encoded data removed]"
          },
          "metadata": {
            "needs_background": "light"
          }
        }
      ]
    },
    {
      "cell_type": "markdown",
      "source": [
        "# Training a BERT Model on the dataset."
      ],
      "metadata": {
        "id": "3TyTFkTtINCJ"
      }
    },
    {
      "cell_type": "code",
      "source": [
        "#loading the preprocessing and encoder model\n",
        "BERT_preprocess = hub.KerasLayer(\"https://tfhub.dev/tensorflow/bert_en_uncased_preprocess/3\")\n",
        "BERT_encoder = hub.KerasLayer(\"https://tfhub.dev/tensorflow/bert_en_uncased_L-12_H-768_A-12/4\")"
      ],
      "metadata": {
        "id": "dd-7FNm-5muv"
      },
      "execution_count": null,
      "outputs": []
    },
    {
      "cell_type": "code",
      "source": [
        "#defining the model for classification\n",
        "text_input = Input(shape=(), dtype=tf.string)\n",
        "preprocessed_text = BERT_preprocess(text_input)\n",
        "encoder_output = BERT_encoder(preprocessed_text)\n",
        "#NN layers\n",
        "out = Dropout(0.1)(encoder_output['pooled_output'])\n",
        "out = Dense(1,activation='sigmoid')(out)\n",
        "\n",
        "model = Model(inputs=[text_input], outputs=[out])\n",
        "model.summary()"
      ],
      "metadata": {
        "colab": {
          "base_uri": "https://localhost:8080/"
        },
        "id": "jxelOvM7KhBw",
        "outputId": "ca1c5fbb-9201-4369-dbba-76b195aa59c0"
      },
      "execution_count": null,
      "outputs": [
        {
          "output_type": "stream",
          "name": "stdout",
          "text": [
            "Model: \"model\"\n",
            "__________________________________________________________________________________________________\n",
            " Layer (type)                   Output Shape         Param #     Connected to                     \n",
            "==================================================================================================\n",
            " input_2 (InputLayer)           [(None,)]            0           []                               \n",
            "                                                                                                  \n",
            " keras_layer (KerasLayer)       {'input_mask': (Non  0           ['input_2[0][0]']                \n",
            "                                e, 128),                                                          \n",
            "                                 'input_type_ids':                                                \n",
            "                                (None, 128),                                                      \n",
            "                                 'input_word_ids':                                                \n",
            "                                (None, 128)}                                                      \n",
            "                                                                                                  \n",
            " keras_layer_1 (KerasLayer)     {'pooled_output': (  109482241   ['keras_layer[1][0]',            \n",
            "                                None, 768),                       'keras_layer[1][1]',            \n",
            "                                 'sequence_output':               'keras_layer[1][2]']            \n",
            "                                 (None, 128, 768),                                                \n",
            "                                 'default': (None,                                                \n",
            "                                768),                                                             \n",
            "                                 'encoder_outputs':                                               \n",
            "                                 [(None, 128, 768),                                               \n",
            "                                 (None, 128, 768),                                                \n",
            "                                 (None, 128, 768),                                                \n",
            "                                 (None, 128, 768),                                                \n",
            "                                 (None, 128, 768),                                                \n",
            "                                 (None, 128, 768),                                                \n",
            "                                 (None, 128, 768),                                                \n",
            "                                 (None, 128, 768),                                                \n",
            "                                 (None, 128, 768),                                                \n",
            "                                 (None, 128, 768),                                                \n",
            "                                 (None, 128, 768),                                                \n",
            "                                 (None, 128, 768)]}                                               \n",
            "                                                                                                  \n",
            " dropout_1 (Dropout)            (None, 768)          0           ['keras_layer_1[1][13]']         \n",
            "                                                                                                  \n",
            " dense (Dense)                  (None, 1)            769         ['dropout_1[0][0]']              \n",
            "                                                                                                  \n",
            "==================================================================================================\n",
            "Total params: 109,483,010\n",
            "Trainable params: 769\n",
            "Non-trainable params: 109,482,241\n",
            "__________________________________________________________________________________________________\n"
          ]
        }
      ]
    },
    {
      "cell_type": "code",
      "source": [
        "METRICS = [\n",
        "      tf.keras.metrics.BinaryAccuracy(name='accuracy'),\n",
        "      tf.keras.metrics.Precision(name='precision'),\n",
        "      tf.keras.metrics.Recall(name='recall')\n",
        "]\n",
        "\n",
        "model.compile(optimizer='adam',\n",
        "              loss='binary_crossentropy',\n",
        "              metrics=METRICS)\n",
        "\n"
      ],
      "metadata": {
        "id": "mt7YBdslLSX1"
      },
      "execution_count": null,
      "outputs": []
    },
    {
      "cell_type": "code",
      "source": [
        "history= model.fit(X_train,y_train, validation_data=(X_test,y_test), epochs=10, workers=2,use_multiprocessing=True,batch_size=64)"
      ],
      "metadata": {
        "colab": {
          "base_uri": "https://localhost:8080/"
        },
        "id": "g-gmk7nhLgYL",
        "outputId": "b021c72c-6476-461f-f620-51cc18f4f9ba"
      },
      "execution_count": null,
      "outputs": [
        {
          "output_type": "stream",
          "name": "stdout",
          "text": [
            "Epoch 1/10\n",
            "83/83 [==============================] - 187s 2s/step - loss: 0.5732 - accuracy: 0.7293 - precision: 0.2609 - recall: 0.0086 - val_loss: 0.5411 - val_accuracy: 0.7416 - val_precision: 0.0000e+00 - val_recall: 0.0000e+00\n",
            "Epoch 2/10\n",
            "83/83 [==============================] - 147s 2s/step - loss: 0.5430 - accuracy: 0.7363 - precision: 0.5843 - recall: 0.0371 - val_loss: 0.5013 - val_accuracy: 0.7432 - val_precision: 1.0000 - val_recall: 0.0029\n",
            "Epoch 3/10\n",
            "83/83 [==============================] - 140s 2s/step - loss: 0.5141 - accuracy: 0.7416 - precision: 0.6720 - recall: 0.0599 - val_loss: 0.4819 - val_accuracy: 0.7576 - val_precision: 0.8333 - val_recall: 0.0737\n",
            "Epoch 4/10\n",
            "83/83 [==============================] - 140s 2s/step - loss: 0.5017 - accuracy: 0.7534 - precision: 0.7376 - recall: 0.1162 - val_loss: 0.4680 - val_accuracy: 0.7485 - val_precision: 0.9000 - val_recall: 0.0265\n",
            "Epoch 5/10\n",
            "83/83 [==============================] - 140s 2s/step - loss: 0.4855 - accuracy: 0.7625 - precision: 0.7339 - recall: 0.1711 - val_loss: 0.4511 - val_accuracy: 0.7758 - val_precision: 0.8667 - val_recall: 0.1534\n",
            "Epoch 6/10\n",
            "83/83 [==============================] - 139s 2s/step - loss: 0.4706 - accuracy: 0.7755 - precision: 0.7812 - recall: 0.2188 - val_loss: 0.4405 - val_accuracy: 0.8070 - val_precision: 0.8148 - val_recall: 0.3245\n",
            "Epoch 7/10\n",
            "83/83 [==============================] - 139s 2s/step - loss: 0.4564 - accuracy: 0.7808 - precision: 0.7525 - recall: 0.2644 - val_loss: 0.4295 - val_accuracy: 0.7941 - val_precision: 0.8469 - val_recall: 0.2448\n",
            "Epoch 8/10\n",
            "83/83 [==============================] - 139s 2s/step - loss: 0.4509 - accuracy: 0.7880 - precision: 0.7623 - recall: 0.2972 - val_loss: 0.4229 - val_accuracy: 0.8146 - val_precision: 0.8276 - val_recall: 0.3540\n",
            "Epoch 9/10\n",
            "83/83 [==============================] - 139s 2s/step - loss: 0.4446 - accuracy: 0.7926 - precision: 0.7488 - recall: 0.3336 - val_loss: 0.4238 - val_accuracy: 0.7827 - val_precision: 0.8732 - val_recall: 0.1829\n",
            "Epoch 10/10\n",
            "83/83 [==============================] - 139s 2s/step - loss: 0.4349 - accuracy: 0.7988 - precision: 0.7671 - recall: 0.3521 - val_loss: 0.4083 - val_accuracy: 0.8214 - val_precision: 0.8250 - val_recall: 0.3894\n"
          ]
        }
      ]
    },
    {
      "cell_type": "code",
      "source": [
        "plt.plot(history.history['accuracy'])\n",
        "plt.plot(history.history['val_accuracy'])\n",
        "plt.title('model accuracy')\n",
        "plt.ylabel('accuracy')\n",
        "plt.xlabel('epoch')\n",
        "plt.legend(['train', 'val'], loc='upper left')\n",
        "plt.show()"
      ],
      "metadata": {
        "colab": {
          "base_uri": "https://localhost:8080/",
          "height": 295
        },
        "id": "HYc86l0nLotz",
        "outputId": "6db7b58e-7426-4e66-cd0b-6a2b33cf2949"
      },
      "execution_count": null,
      "outputs": [
        {
          "output_type": "display_data",
          "data": {
            "text/plain": [
              "<Figure size 432x288 with 1 Axes>"
            ],
            "image/png": "[encoded data removed]"
          },
          "metadata": {
            "needs_background": "light"
          }
        }
      ]
    },
    {
      "cell_type": "code",
      "source": [
        "plt.plot(history.history['loss'])\n",
        "plt.plot(history.history['val_loss'])\n",
        "plt.title('model loss')\n",
        "plt.ylabel('loss')\n",
        "plt.xlabel('epoch')\n",
        "plt.legend(['train', 'val'], loc='upper left')\n",
        "plt.show()"
      ],
      "metadata": {
        "colab": {
          "base_uri": "https://localhost:8080/",
          "height": 295
        },
        "id": "tfOCBYSoMOcT",
        "outputId": "e9a91067-0cf6-4b65-eed8-682b2e0aa4f8"
      },
      "execution_count": null,
      "outputs": [
        {
          "output_type": "display_data",
          "data": {
            "text/plain": [
              "<Figure size 432x288 with 1 Axes>"
            ],
            "image/png": "[encoded data removed]"
          },
          "metadata": {
            "needs_background": "light"
          }
        }
      ]
    },
    {
      "cell_type": "code",
      "source": [
        ""
      ],
      "metadata": {
        "id": "qyw7vDsiMQ2j"
      },
      "execution_count": null,
      "outputs": []
    }
  ],
  "metadata": {
    "accelerator": "GPU",
    "colab": {
      "collapsed_sections": [],
      "name": "CyberBully Detection - Assessment IIT Patna.ipynb",
      "provenance": []
    },
    "kernelspec": {
      "display_name": "Python 3",
      "name": "python3"
    },
    "language_info": {
      "name": "python"
    }
  },
  "nbformat": 4,
  "nbformat_minor": 0
}