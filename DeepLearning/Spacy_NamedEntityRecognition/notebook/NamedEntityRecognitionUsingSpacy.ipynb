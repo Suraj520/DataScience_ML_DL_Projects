{
  "nbformat": 4,
  "nbformat_minor": 0,
  "metadata": {
    "colab": {
      "name": "NamedEntityRecognitionUsingSpacy.ipynb",
      "provenance": [],
      "collapsed_sections": []
    },
    "kernelspec": {
      "name": "python3",
      "display_name": "Python 3"
    },
    "language_info": {
      "name": "python"
    }
  },
  "cells": [
    {
      "cell_type": "markdown",
      "metadata": {
        "id": "to-bR6bKM8af"
      },
      "source": [
        "# About\n",
        "Named Entity Recognition using spacy"
      ]
    },
    {
      "cell_type": "code",
      "metadata": {
        "id": "WtrBzCA1NkTl"
      },
      "source": [
        "#importing modules\n",
        "import pandas as pd\n",
        "import spacy\n",
        "import os\n",
        "#for visalisation of NER\n",
        "import spacy.displacy as displacy\n",
        "#downloading the model\n",
        "#import spacy.cli\n",
        "#spacy.cli.download(\"en_core_web_lg\")\n",
        "import random\n",
        "from spacy.util import minibatch, compounding"
      ],
      "execution_count": 84,
      "outputs": []
    },
    {
      "cell_type": "markdown",
      "metadata": {
        "id": "u2VCdxHo85UB"
      },
      "source": [
        "# Brief\n",
        "Named entities are mostly subjects and objects in a sentence. They can be name of persons, locations, organisations, products, time etc. It can be considered as annotation in texts with IOB and POS.\n",
        "\n",
        "Spacy is a powerful and production ready library which can do Tokenisation, Part of Speech Tagging(POS), Lemmatisation, Sentence Boundary detection(SBD), NER, Entity linking, Similarity, Text classification along with an option to train your own custom models and serialize them.\n",
        "\n",
        "For more info, refer [link](https://spacy.io/)\n",
        "\n",
        "Spacy has concept of Language Processing pipeline which takes in an input text, tokenizes it, pass it through a block of tagger and parser followed by NER to generate a DOC object which contains the final output.\n",
        "\n",
        "The most common named entities in Spacy are\n",
        "\n",
        "\n",
        "1.   Person : which contains people\n",
        "2.   FAC : Name of buildings, bridges etc\n",
        "3.   NORP: Name of Nationalities, Religious and Political Groups.\n",
        "4.   ORG:  Geopolitical Entities \n",
        "5.   GPE: Monetary values\n",
        "\n",
        "Various models are available in the pipeline, which can be explored [here](https://spacy.io/models)\n",
        "\n",
        "Let's explore an example\n",
        "\n",
        "\n",
        "\n",
        "\n"
      ]
    },
    {
      "cell_type": "code",
      "metadata": {
        "id": "67YK9c6o84iE"
      },
      "source": [
        "#loading a large model as it is highly likely to yield much accurate pos\n",
        "pipeline = spacy.load(\"en_core_web_lg\")\n",
        "text = '''A mountain is an elevated portion of the Earth's crust, generally with steep sides that show significant exposed bedrock. A mountain differs from a plateau in having a limited summit area, and is larger than a hill, typically rising at least 300 metres (1000 feet) above the surrounding land.'''"
      ],
      "execution_count": 25,
      "outputs": []
    },
    {
      "cell_type": "code",
      "metadata": {
        "colab": {
          "base_uri": "https://localhost:8080/"
        },
        "id": "hHDrZsO1CBdd",
        "outputId": "7771565c-dd60-4472-caf4-e92716e1234f"
      },
      "source": [
        "#processing and generating the doc\n",
        "doc = pipeline(text)\n",
        "for entity in doc.ents:\n",
        "  #printing the entity name, start char, end char and the label\n",
        "  print(entity.text,entity.start_char, entity.end_char, entity.label_)"
      ],
      "execution_count": 26,
      "outputs": [
        {
          "output_type": "stream",
          "text": [
            "Earth 41 46 LOC\n",
            "at least 300 metres 233 252 QUANTITY\n",
            "1000 feet 254 263 QUANTITY\n"
          ],
          "name": "stdout"
        }
      ]
    },
    {
      "cell_type": "code",
      "metadata": {
        "colab": {
          "base_uri": "https://localhost:8080/"
        },
        "id": "4ErZDc0dCY6V",
        "outputId": "66e71122-d9f2-41ea-a3ee-5697e2ebddb5"
      },
      "source": [
        "#visualising the same using displacy\n",
        "displacy.serve(doc)"
      ],
      "execution_count": 27,
      "outputs": [
        {
          "output_type": "stream",
          "text": [
            "\n",
            "Using the 'ent' visualizer\n",
            "Serving on http://0.0.0.0:5000 ...\n",
            "\n",
            "Shutting down server on port 5000.\n"
          ],
          "name": "stdout"
        }
      ]
    },
    {
      "cell_type": "markdown",
      "metadata": {
        "id": "ot_79PocEh-r"
      },
      "source": [
        "# Now let's spacy for the kaggle competition."
      ]
    },
    {
      "cell_type": "code",
      "metadata": {
        "id": "rsqyuqvbY5cy"
      },
      "source": [
        "|#changing the path\n",
        "os.chdir('/content/drive/MyDrive/Colab Notebooks/Dataset/NER_Dataset')"
      ],
      "execution_count": 3,
      "outputs": []
    },
    {
      "cell_type": "code",
      "metadata": {
        "colab": {
          "base_uri": "https://localhost:8080/"
        },
        "id": "3P_cmeFWZSCv",
        "outputId": "3b0f2651-0519-440f-8bf1-5c30d991c128"
      },
      "source": [
        "!unzip NER.zip"
      ],
      "execution_count": 4,
      "outputs": [
        {
          "output_type": "stream",
          "text": [
            "Archive:  NER.zip\n",
            "  inflating: ner.csv                 \n",
            "  inflating: ner_dataset.csv         \n"
          ],
          "name": "stdout"
        }
      ]
    },
    {
      "cell_type": "code",
      "metadata": {
        "colab": {
          "base_uri": "https://localhost:8080/",
          "height": 1000
        },
        "id": "u5ST4H3rZWNW",
        "outputId": "ef04bd8c-9c22-412e-ede7-78aebea2cccf"
      },
      "source": [
        "#reading the dataset\n",
        "dataset = pd.read_csv(\"ner_dataset.csv\", sep=\",\", encoding=\"latin1\").fillna(method='ffill')\n",
        "dataset.head(40)"
      ],
      "execution_count": 29,
      "outputs": [
        {
          "output_type": "execute_result",
          "data": {
            "text/html": [
              "<div>\n",
              "<style scoped>\n",
              "    .dataframe tbody tr th:only-of-type {\n",
              "        vertical-align: middle;\n",
              "    }\n",
              "\n",
              "    .dataframe tbody tr th {\n",
              "        vertical-align: top;\n",
              "    }\n",
              "\n",
              "    .dataframe thead th {\n",
              "        text-align: right;\n",
              "    }\n",
              "</style>\n",
              "<table border=\"1\" class=\"dataframe\">\n",
              "  <thead>\n",
              "    <tr style=\"text-align: right;\">\n",
              "      <th></th>\n",
              "      <th>Sentence #</th>\n",
              "      <th>Word</th>\n",
              "      <th>POS</th>\n",
              "      <th>Tag</th>\n",
              "    </tr>\n",
              "  </thead>\n",
              "  <tbody>\n",
              "    <tr>\n",
              "      <th>0</th>\n",
              "      <td>Sentence: 1</td>\n",
              "      <td>Thousands</td>\n",
              "      <td>NNS</td>\n",
              "      <td>O</td>\n",
              "    </tr>\n",
              "    <tr>\n",
              "      <th>1</th>\n",
              "      <td>Sentence: 1</td>\n",
              "      <td>of</td>\n",
              "      <td>IN</td>\n",
              "      <td>O</td>\n",
              "    </tr>\n",
              "    <tr>\n",
              "      <th>2</th>\n",
              "      <td>Sentence: 1</td>\n",
              "      <td>demonstrators</td>\n",
              "      <td>NNS</td>\n",
              "      <td>O</td>\n",
              "    </tr>\n",
              "    <tr>\n",
              "      <th>3</th>\n",
              "      <td>Sentence: 1</td>\n",
              "      <td>have</td>\n",
              "      <td>VBP</td>\n",
              "      <td>O</td>\n",
              "    </tr>\n",
              "    <tr>\n",
              "      <th>4</th>\n",
              "      <td>Sentence: 1</td>\n",
              "      <td>marched</td>\n",
              "      <td>VBN</td>\n",
              "      <td>O</td>\n",
              "    </tr>\n",
              "    <tr>\n",
              "      <th>5</th>\n",
              "      <td>Sentence: 1</td>\n",
              "      <td>through</td>\n",
              "      <td>IN</td>\n",
              "      <td>O</td>\n",
              "    </tr>\n",
              "    <tr>\n",
              "      <th>6</th>\n",
              "      <td>Sentence: 1</td>\n",
              "      <td>London</td>\n",
              "      <td>NNP</td>\n",
              "      <td>B-geo</td>\n",
              "    </tr>\n",
              "    <tr>\n",
              "      <th>7</th>\n",
              "      <td>Sentence: 1</td>\n",
              "      <td>to</td>\n",
              "      <td>TO</td>\n",
              "      <td>O</td>\n",
              "    </tr>\n",
              "    <tr>\n",
              "      <th>8</th>\n",
              "      <td>Sentence: 1</td>\n",
              "      <td>protest</td>\n",
              "      <td>VB</td>\n",
              "      <td>O</td>\n",
              "    </tr>\n",
              "    <tr>\n",
              "      <th>9</th>\n",
              "      <td>Sentence: 1</td>\n",
              "      <td>the</td>\n",
              "      <td>DT</td>\n",
              "      <td>O</td>\n",
              "    </tr>\n",
              "    <tr>\n",
              "      <th>10</th>\n",
              "      <td>Sentence: 1</td>\n",
              "      <td>war</td>\n",
              "      <td>NN</td>\n",
              "      <td>O</td>\n",
              "    </tr>\n",
              "    <tr>\n",
              "      <th>11</th>\n",
              "      <td>Sentence: 1</td>\n",
              "      <td>in</td>\n",
              "      <td>IN</td>\n",
              "      <td>O</td>\n",
              "    </tr>\n",
              "    <tr>\n",
              "      <th>12</th>\n",
              "      <td>Sentence: 1</td>\n",
              "      <td>Iraq</td>\n",
              "      <td>NNP</td>\n",
              "      <td>B-geo</td>\n",
              "    </tr>\n",
              "    <tr>\n",
              "      <th>13</th>\n",
              "      <td>Sentence: 1</td>\n",
              "      <td>and</td>\n",
              "      <td>CC</td>\n",
              "      <td>O</td>\n",
              "    </tr>\n",
              "    <tr>\n",
              "      <th>14</th>\n",
              "      <td>Sentence: 1</td>\n",
              "      <td>demand</td>\n",
              "      <td>VB</td>\n",
              "      <td>O</td>\n",
              "    </tr>\n",
              "    <tr>\n",
              "      <th>15</th>\n",
              "      <td>Sentence: 1</td>\n",
              "      <td>the</td>\n",
              "      <td>DT</td>\n",
              "      <td>O</td>\n",
              "    </tr>\n",
              "    <tr>\n",
              "      <th>16</th>\n",
              "      <td>Sentence: 1</td>\n",
              "      <td>withdrawal</td>\n",
              "      <td>NN</td>\n",
              "      <td>O</td>\n",
              "    </tr>\n",
              "    <tr>\n",
              "      <th>17</th>\n",
              "      <td>Sentence: 1</td>\n",
              "      <td>of</td>\n",
              "      <td>IN</td>\n",
              "      <td>O</td>\n",
              "    </tr>\n",
              "    <tr>\n",
              "      <th>18</th>\n",
              "      <td>Sentence: 1</td>\n",
              "      <td>British</td>\n",
              "      <td>JJ</td>\n",
              "      <td>B-gpe</td>\n",
              "    </tr>\n",
              "    <tr>\n",
              "      <th>19</th>\n",
              "      <td>Sentence: 1</td>\n",
              "      <td>troops</td>\n",
              "      <td>NNS</td>\n",
              "      <td>O</td>\n",
              "    </tr>\n",
              "    <tr>\n",
              "      <th>20</th>\n",
              "      <td>Sentence: 1</td>\n",
              "      <td>from</td>\n",
              "      <td>IN</td>\n",
              "      <td>O</td>\n",
              "    </tr>\n",
              "    <tr>\n",
              "      <th>21</th>\n",
              "      <td>Sentence: 1</td>\n",
              "      <td>that</td>\n",
              "      <td>DT</td>\n",
              "      <td>O</td>\n",
              "    </tr>\n",
              "    <tr>\n",
              "      <th>22</th>\n",
              "      <td>Sentence: 1</td>\n",
              "      <td>country</td>\n",
              "      <td>NN</td>\n",
              "      <td>O</td>\n",
              "    </tr>\n",
              "    <tr>\n",
              "      <th>23</th>\n",
              "      <td>Sentence: 1</td>\n",
              "      <td>.</td>\n",
              "      <td>.</td>\n",
              "      <td>O</td>\n",
              "    </tr>\n",
              "    <tr>\n",
              "      <th>24</th>\n",
              "      <td>Sentence: 2</td>\n",
              "      <td>Families</td>\n",
              "      <td>NNS</td>\n",
              "      <td>O</td>\n",
              "    </tr>\n",
              "    <tr>\n",
              "      <th>25</th>\n",
              "      <td>Sentence: 2</td>\n",
              "      <td>of</td>\n",
              "      <td>IN</td>\n",
              "      <td>O</td>\n",
              "    </tr>\n",
              "    <tr>\n",
              "      <th>26</th>\n",
              "      <td>Sentence: 2</td>\n",
              "      <td>soldiers</td>\n",
              "      <td>NNS</td>\n",
              "      <td>O</td>\n",
              "    </tr>\n",
              "    <tr>\n",
              "      <th>27</th>\n",
              "      <td>Sentence: 2</td>\n",
              "      <td>killed</td>\n",
              "      <td>VBN</td>\n",
              "      <td>O</td>\n",
              "    </tr>\n",
              "    <tr>\n",
              "      <th>28</th>\n",
              "      <td>Sentence: 2</td>\n",
              "      <td>in</td>\n",
              "      <td>IN</td>\n",
              "      <td>O</td>\n",
              "    </tr>\n",
              "    <tr>\n",
              "      <th>29</th>\n",
              "      <td>Sentence: 2</td>\n",
              "      <td>the</td>\n",
              "      <td>DT</td>\n",
              "      <td>O</td>\n",
              "    </tr>\n",
              "    <tr>\n",
              "      <th>30</th>\n",
              "      <td>Sentence: 2</td>\n",
              "      <td>conflict</td>\n",
              "      <td>NN</td>\n",
              "      <td>O</td>\n",
              "    </tr>\n",
              "    <tr>\n",
              "      <th>31</th>\n",
              "      <td>Sentence: 2</td>\n",
              "      <td>joined</td>\n",
              "      <td>VBD</td>\n",
              "      <td>O</td>\n",
              "    </tr>\n",
              "    <tr>\n",
              "      <th>32</th>\n",
              "      <td>Sentence: 2</td>\n",
              "      <td>the</td>\n",
              "      <td>DT</td>\n",
              "      <td>O</td>\n",
              "    </tr>\n",
              "    <tr>\n",
              "      <th>33</th>\n",
              "      <td>Sentence: 2</td>\n",
              "      <td>protesters</td>\n",
              "      <td>NNS</td>\n",
              "      <td>O</td>\n",
              "    </tr>\n",
              "    <tr>\n",
              "      <th>34</th>\n",
              "      <td>Sentence: 2</td>\n",
              "      <td>who</td>\n",
              "      <td>WP</td>\n",
              "      <td>O</td>\n",
              "    </tr>\n",
              "    <tr>\n",
              "      <th>35</th>\n",
              "      <td>Sentence: 2</td>\n",
              "      <td>carried</td>\n",
              "      <td>VBD</td>\n",
              "      <td>O</td>\n",
              "    </tr>\n",
              "    <tr>\n",
              "      <th>36</th>\n",
              "      <td>Sentence: 2</td>\n",
              "      <td>banners</td>\n",
              "      <td>NNS</td>\n",
              "      <td>O</td>\n",
              "    </tr>\n",
              "    <tr>\n",
              "      <th>37</th>\n",
              "      <td>Sentence: 2</td>\n",
              "      <td>with</td>\n",
              "      <td>IN</td>\n",
              "      <td>O</td>\n",
              "    </tr>\n",
              "    <tr>\n",
              "      <th>38</th>\n",
              "      <td>Sentence: 2</td>\n",
              "      <td>such</td>\n",
              "      <td>JJ</td>\n",
              "      <td>O</td>\n",
              "    </tr>\n",
              "    <tr>\n",
              "      <th>39</th>\n",
              "      <td>Sentence: 2</td>\n",
              "      <td>slogans</td>\n",
              "      <td>NNS</td>\n",
              "      <td>O</td>\n",
              "    </tr>\n",
              "  </tbody>\n",
              "</table>\n",
              "</div>"
            ],
            "text/plain": [
              "     Sentence #           Word  POS    Tag\n",
              "0   Sentence: 1      Thousands  NNS      O\n",
              "1   Sentence: 1             of   IN      O\n",
              "2   Sentence: 1  demonstrators  NNS      O\n",
              "3   Sentence: 1           have  VBP      O\n",
              "4   Sentence: 1        marched  VBN      O\n",
              "5   Sentence: 1        through   IN      O\n",
              "6   Sentence: 1         London  NNP  B-geo\n",
              "7   Sentence: 1             to   TO      O\n",
              "8   Sentence: 1        protest   VB      O\n",
              "9   Sentence: 1            the   DT      O\n",
              "10  Sentence: 1            war   NN      O\n",
              "11  Sentence: 1             in   IN      O\n",
              "12  Sentence: 1           Iraq  NNP  B-geo\n",
              "13  Sentence: 1            and   CC      O\n",
              "14  Sentence: 1         demand   VB      O\n",
              "15  Sentence: 1            the   DT      O\n",
              "16  Sentence: 1     withdrawal   NN      O\n",
              "17  Sentence: 1             of   IN      O\n",
              "18  Sentence: 1        British   JJ  B-gpe\n",
              "19  Sentence: 1         troops  NNS      O\n",
              "20  Sentence: 1           from   IN      O\n",
              "21  Sentence: 1           that   DT      O\n",
              "22  Sentence: 1        country   NN      O\n",
              "23  Sentence: 1              .    .      O\n",
              "24  Sentence: 2       Families  NNS      O\n",
              "25  Sentence: 2             of   IN      O\n",
              "26  Sentence: 2       soldiers  NNS      O\n",
              "27  Sentence: 2         killed  VBN      O\n",
              "28  Sentence: 2             in   IN      O\n",
              "29  Sentence: 2            the   DT      O\n",
              "30  Sentence: 2       conflict   NN      O\n",
              "31  Sentence: 2         joined  VBD      O\n",
              "32  Sentence: 2            the   DT      O\n",
              "33  Sentence: 2     protesters  NNS      O\n",
              "34  Sentence: 2            who   WP      O\n",
              "35  Sentence: 2        carried  VBD      O\n",
              "36  Sentence: 2        banners  NNS      O\n",
              "37  Sentence: 2           with   IN      O\n",
              "38  Sentence: 2           such   JJ      O\n",
              "39  Sentence: 2        slogans  NNS      O"
            ]
          },
          "metadata": {
            "tags": []
          },
          "execution_count": 29
        }
      ]
    },
    {
      "cell_type": "code",
      "metadata": {
        "id": "3LiuhdZBbHkG"
      },
      "source": [
        "#combining the sentences and their and Tag.\n",
        "combiner_function = lambda sentence: [[word,tag] for word,tag in zip(sentence[\"Word\"].values.tolist(), \n",
        "                                            sentence[\"Tag\"].values.tolist())]"
      ],
      "execution_count": 31,
      "outputs": []
    },
    {
      "cell_type": "code",
      "metadata": {
        "id": "LXHhztp0GO-h"
      },
      "source": [
        "combined_dataset = dataset.groupby(\"Sentence #\").apply(combiner_function)\n"
      ],
      "execution_count": 34,
      "outputs": []
    },
    {
      "cell_type": "code",
      "metadata": {
        "colab": {
          "base_uri": "https://localhost:8080/"
        },
        "id": "YBhwQoktGnH5",
        "outputId": "0b2f7ac5-709d-4f05-ac16-55ce0c686d07"
      },
      "source": [
        "combined_dataset.head(10)"
      ],
      "execution_count": 35,
      "outputs": [
        {
          "output_type": "execute_result",
          "data": {
            "text/plain": [
              "Sentence #\n",
              "Sentence: 1        [[Thousands, O], [of, O], [demonstrators, O], ...\n",
              "Sentence: 10       [[Iranian, B-gpe], [officials, O], [say, O], [...\n",
              "Sentence: 100      [[Helicopter, O], [gunships, O], [Saturday, B-...\n",
              "Sentence: 1000     [[They, O], [left, O], [after, O], [a, O], [te...\n",
              "Sentence: 10000    [[U.N., B-geo], [relief, O], [coordinator, O],...\n",
              "Sentence: 10001    [[Mr., B-per], [Egeland, I-per], [said, O], [t...\n",
              "Sentence: 10002    [[He, O], [said, O], [last, O], [week, O], ['s...\n",
              "Sentence: 10003    [[Some, O], [1,27,000, O], [people, O], [are, ...\n",
              "Sentence: 10004    [[Aid, O], [is, O], [being, O], [rushed, O], [...\n",
              "Sentence: 10005    [[Lebanese, B-gpe], [politicians, O], [are, O]...\n",
              "dtype: object"
            ]
          },
          "metadata": {
            "tags": []
          },
          "execution_count": 35
        }
      ]
    },
    {
      "cell_type": "code",
      "metadata": {
        "id": "eroC5aghGsY4"
      },
      "source": [
        "#now extracting the sentence and the tags from the dataset\n",
        "sentences = [[word[0] for word in sentence] for sentence in combined_dataset.values]\n",
        "tags = [[token[1] for token in tag] for tag in combined_dataset.values]"
      ],
      "execution_count": 36,
      "outputs": []
    },
    {
      "cell_type": "code",
      "metadata": {
        "colab": {
          "base_uri": "https://localhost:8080/"
        },
        "id": "71hgm6lFHSbA",
        "outputId": "db861b0d-b61c-41b3-f2ba-e6efd7c6e465"
      },
      "source": [
        "len(sentences) == len(tags)"
      ],
      "execution_count": 38,
      "outputs": [
        {
          "output_type": "execute_result",
          "data": {
            "text/plain": [
              "True"
            ]
          },
          "metadata": {
            "tags": []
          },
          "execution_count": 38
        }
      ]
    },
    {
      "cell_type": "code",
      "metadata": {
        "id": "56XCKvqkHU3y"
      },
      "source": [
        "#joining the sentences and tags with spaces\n",
        "joined_sentences = [' '.join(sentence) for sentence in sentences]\n",
        "joined_tags = [' '.join(tag) for tag in tags]"
      ],
      "execution_count": 79,
      "outputs": []
    },
    {
      "cell_type": "code",
      "metadata": {
        "colab": {
          "base_uri": "https://localhost:8080/"
        },
        "id": "1yQFdWJaHiVQ",
        "outputId": "07af71dc-ea9f-4205-b421-062de252b92a"
      },
      "source": [
        "len(joined_sentences) == len(joined_tags)"
      ],
      "execution_count": 80,
      "outputs": [
        {
          "output_type": "execute_result",
          "data": {
            "text/plain": [
              "True"
            ]
          },
          "metadata": {
            "tags": []
          },
          "execution_count": 80
        }
      ]
    },
    {
      "cell_type": "code",
      "metadata": {
        "colab": {
          "base_uri": "https://localhost:8080/",
          "height": 35
        },
        "id": "RmAQ0AtgISlx",
        "outputId": "e998615d-7a0b-4cb0-f9bd-f9dca8c2abb5"
      },
      "source": [
        "joined_sentences[0]"
      ],
      "execution_count": 81,
      "outputs": [
        {
          "output_type": "execute_result",
          "data": {
            "application/vnd.google.colaboratory.intrinsic+json": {
              "type": "string"
            },
            "text/plain": [
              "'Thousands of demonstrators have marched through London to protest the war in Iraq and demand the withdrawal of British troops from that country .'"
            ]
          },
          "metadata": {
            "tags": []
          },
          "execution_count": 81
        }
      ]
    },
    {
      "cell_type": "code",
      "metadata": {
        "colab": {
          "base_uri": "https://localhost:8080/",
          "height": 35
        },
        "id": "HiRCC4cSIXnq",
        "outputId": "36a9dd3a-d145-423b-96cf-4f1a1da9b572"
      },
      "source": [
        "joined_tags[0]"
      ],
      "execution_count": 82,
      "outputs": [
        {
          "output_type": "execute_result",
          "data": {
            "application/vnd.google.colaboratory.intrinsic+json": {
              "type": "string"
            },
            "text/plain": [
              "'O O O O O O B-geo O O O O O B-geo O O O O O B-gpe O O O O O'"
            ]
          },
          "metadata": {
            "tags": []
          },
          "execution_count": 82
        }
      ]
    },
    {
      "cell_type": "code",
      "metadata": {
        "id": "70axHJLgM8Da"
      },
      "source": [
        "# write your own core function that creates a dataset which is a list of dictionary containining sentences and entities, mail me at hrishabhsuraj52@gmail.com if you want the helper function.\n",
        "#creating a mini dataset with joined_sentences[0] and joined_tags[0]\n",
        "TRAIN_DATA = [\n",
        "              ('Thousands of demonstrators have marched through London to protest the war in Iraq and demand the withdrawal of British troops from that country .', {'entities': [(1,6,'O'),(7,8,'B-geo'),(9,13,'O')]})]"
      ],
      "execution_count": 87,
      "outputs": []
    },
    {
      "cell_type": "code",
      "metadata": {
        "id": "8MsfZBWPIqdg"
      },
      "source": [
        "#let's train the model with these custom entities using spacy\n",
        "#creating a custom language class\n",
        "nlp = spacy.blank('en')\n",
        "ner = nlp.create_pipe('ner')\n",
        "nlp.add_pipe(ner)"
      ],
      "execution_count": 88,
      "outputs": []
    },
    {
      "cell_type": "code",
      "metadata": {
        "id": "vsIZPwYUKfSw"
      },
      "source": [
        "# adding labels\n",
        "LABELS = ['B-geo','O']\n",
        "for label in LABELS:\n",
        "  ner.add_label(label)\n"
      ],
      "execution_count": 89,
      "outputs": []
    },
    {
      "cell_type": "code",
      "metadata": {
        "id": "tcgzXccELI8Y"
      },
      "source": [
        "optimizer = nlp.begin_training()"
      ],
      "execution_count": 90,
      "outputs": []
    },
    {
      "cell_type": "code",
      "metadata": {
        "colab": {
          "base_uri": "https://localhost:8080/",
          "height": 1000
        },
        "id": "D3pk9dcULLsX",
        "outputId": "92c50b2d-285b-4227-c809-020a7f67baab"
      },
      "source": [
        "# training stage\n",
        "other_pipes = [pipe for pipe in nlp.pipe_names if pipe != 'ner']\n",
        "with nlp.disable_pipes(*other_pipes):  # only train NER\n",
        "    for itn in range(1000):\n",
        "        random.shuffle(TRAIN_DATA)\n",
        "        for text, annotation in TRAIN_DATA:\n",
        "            nlp.update([text], [annotation], sgd=optimizer, drop=0.01,losses=losses)\n",
        "        print('Losses', losses)\n",
        "\n",
        "#saving model\n",
        "nlp.to_disk(\"model.bin\")"
      ],
      "execution_count": 94,
      "outputs": [
        {
          "output_type": "stream",
          "text": [
            "Losses {'ner': 129.1972965869118}\n",
            "Losses {'ner': 129.1972965869118}\n",
            "Losses {'ner': 129.1972965869118}\n",
            "Losses {'ner': 129.1972965869118}\n",
            "Losses {'ner': 129.1972965869118}\n",
            "Losses {'ner': 129.1972965869118}\n",
            "Losses {'ner': 129.1972965869118}\n",
            "Losses {'ner': 129.1972965869118}\n",
            "Losses {'ner': 129.1972965869118}\n",
            "Losses {'ner': 129.1972965869118}\n",
            "Losses {'ner': 129.1972965869118}\n",
            "Losses {'ner': 129.1972965869118}\n",
            "Losses {'ner': 129.1972965869118}\n",
            "Losses {'ner': 129.1972965869118}\n",
            "Losses {'ner': 129.1972965869118}\n",
            "Losses {'ner': 129.1972965869118}\n",
            "Losses {'ner': 129.1972965869118}\n",
            "Losses {'ner': 129.1972965869118}\n",
            "Losses {'ner': 129.1972965869118}\n",
            "Losses {'ner': 129.1972965869118}\n",
            "Losses {'ner': 129.1972965869118}\n",
            "Losses {'ner': 129.1972965869118}\n",
            "Losses {'ner': 129.1972965869118}\n",
            "Losses {'ner': 129.1972965869118}\n",
            "Losses {'ner': 129.1972965869118}\n",
            "Losses {'ner': 129.1972965869118}\n",
            "Losses {'ner': 129.1972965869118}\n",
            "Losses {'ner': 129.1972965869118}\n",
            "Losses {'ner': 129.1972965869118}\n",
            "Losses {'ner': 129.1972965869118}\n",
            "Losses {'ner': 129.1972965869118}\n",
            "Losses {'ner': 129.1972965869118}\n",
            "Losses {'ner': 129.1972965869118}\n",
            "Losses {'ner': 129.1972965869118}\n",
            "Losses {'ner': 129.1972965869118}\n",
            "Losses {'ner': 129.1972965869118}\n",
            "Losses {'ner': 129.1972965869118}\n",
            "Losses {'ner': 129.1972965869118}\n",
            "Losses {'ner': 129.1972965869118}\n",
            "Losses {'ner': 129.1972965869118}\n",
            "Losses {'ner': 129.1972965869118}\n",
            "Losses {'ner': 129.1972965869118}\n",
            "Losses {'ner': 129.1972965869118}\n",
            "Losses {'ner': 129.1972965869118}\n",
            "Losses {'ner': 129.1972965869118}\n",
            "Losses {'ner': 129.1972965869118}\n",
            "Losses {'ner': 129.1972965869118}\n",
            "Losses {'ner': 129.1972965869118}\n",
            "Losses {'ner': 129.1972965869118}\n",
            "Losses {'ner': 129.1972965869118}\n",
            "Losses {'ner': 129.1972965869118}\n",
            "Losses {'ner': 129.1972965869118}\n",
            "Losses {'ner': 129.1972965869118}\n",
            "Losses {'ner': 129.1972965869118}\n",
            "Losses {'ner': 129.1972965869118}\n",
            "Losses {'ner': 129.1972965869118}\n",
            "Losses {'ner': 129.1972965869118}\n",
            "Losses {'ner': 129.1972965869118}\n",
            "Losses {'ner': 129.1972965869118}\n",
            "Losses {'ner': 129.1972965869118}\n",
            "Losses {'ner': 129.1972965869118}\n",
            "Losses {'ner': 129.1972965869118}\n",
            "Losses {'ner': 129.1972965869118}\n",
            "Losses {'ner': 129.1972965869118}\n",
            "Losses {'ner': 129.1972965869118}\n",
            "Losses {'ner': 129.1972965869118}\n",
            "Losses {'ner': 129.1972965869118}\n",
            "Losses {'ner': 129.1972965869118}\n",
            "Losses {'ner': 129.1972965869118}\n",
            "Losses {'ner': 129.1972965869118}\n",
            "Losses {'ner': 129.1972965869118}\n",
            "Losses {'ner': 129.1972965869118}\n",
            "Losses {'ner': 129.1972965869118}\n",
            "Losses {'ner': 129.1972965869118}\n",
            "Losses {'ner': 129.1972965869118}\n",
            "Losses {'ner': 129.1972965869118}\n",
            "Losses {'ner': 129.1972965869118}\n",
            "Losses {'ner': 129.1972965869118}\n",
            "Losses {'ner': 129.1972965869118}\n",
            "Losses {'ner': 129.1972965869118}\n",
            "Losses {'ner': 129.1972965869118}\n",
            "Losses {'ner': 129.1972965869118}\n",
            "Losses {'ner': 129.1972965869118}\n",
            "Losses {'ner': 129.1972965869118}\n",
            "Losses {'ner': 129.1972965869118}\n",
            "Losses {'ner': 129.1972965869118}\n",
            "Losses {'ner': 129.1972965869118}\n",
            "Losses {'ner': 129.1972965869118}\n",
            "Losses {'ner': 129.1972965869118}\n",
            "Losses {'ner': 129.1972965869118}\n",
            "Losses {'ner': 129.1972965869118}\n",
            "Losses {'ner': 129.1972965869118}\n",
            "Losses {'ner': 129.1972965869118}\n",
            "Losses {'ner': 129.1972965869118}\n",
            "Losses {'ner': 129.1972965869118}\n",
            "Losses {'ner': 129.1972965869118}\n",
            "Losses {'ner': 129.1972965869118}\n",
            "Losses {'ner': 129.1972965869118}\n",
            "Losses {'ner': 129.1972965869118}\n",
            "Losses {'ner': 129.1972965869118}\n",
            "Losses {'ner': 129.1972965869118}\n",
            "Losses {'ner': 129.1972965869118}\n",
            "Losses {'ner': 129.1972965869118}\n",
            "Losses {'ner': 129.1972965869118}\n",
            "Losses {'ner': 129.1972965869118}\n",
            "Losses {'ner': 129.1972965869118}\n",
            "Losses {'ner': 129.1972965869118}\n",
            "Losses {'ner': 129.1972965869118}\n",
            "Losses {'ner': 129.1972965869118}\n",
            "Losses {'ner': 129.1972965869118}\n",
            "Losses {'ner': 129.1972965869118}\n",
            "Losses {'ner': 129.1972965869118}\n",
            "Losses {'ner': 129.1972965869118}\n",
            "Losses {'ner': 129.1972965869118}\n",
            "Losses {'ner': 129.1972965869118}\n",
            "Losses {'ner': 129.1972965869118}\n",
            "Losses {'ner': 129.1972965869118}\n",
            "Losses {'ner': 129.1972965869118}\n"
          ],
          "name": "stdout"
        },
        {
          "output_type": "error",
          "ename": "KeyboardInterrupt",
          "evalue": "ignored",
          "traceback": [
            "\u001b[0;31m---------------------------------------------------------------------------\u001b[0m",
            "\u001b[0;31mKeyboardInterrupt\u001b[0m                         Traceback (most recent call last)",
            "\u001b[0;32m<ipython-input-94-64974ffd8763>\u001b[0m in \u001b[0;36m<module>\u001b[0;34m()\u001b[0m\n\u001b[1;32m      5\u001b[0m         \u001b[0mrandom\u001b[0m\u001b[0;34m.\u001b[0m\u001b[0mshuffle\u001b[0m\u001b[0;34m(\u001b[0m\u001b[0mTRAIN_DATA\u001b[0m\u001b[0;34m)\u001b[0m\u001b[0;34m\u001b[0m\u001b[0;34m\u001b[0m\u001b[0m\n\u001b[1;32m      6\u001b[0m         \u001b[0;32mfor\u001b[0m \u001b[0mtext\u001b[0m\u001b[0;34m,\u001b[0m \u001b[0mannotation\u001b[0m \u001b[0;32min\u001b[0m \u001b[0mTRAIN_DATA\u001b[0m\u001b[0;34m:\u001b[0m\u001b[0;34m\u001b[0m\u001b[0;34m\u001b[0m\u001b[0m\n\u001b[0;32m----> 7\u001b[0;31m             \u001b[0mnlp\u001b[0m\u001b[0;34m.\u001b[0m\u001b[0mupdate\u001b[0m\u001b[0;34m(\u001b[0m\u001b[0;34m[\u001b[0m\u001b[0mtext\u001b[0m\u001b[0;34m]\u001b[0m\u001b[0;34m,\u001b[0m \u001b[0;34m[\u001b[0m\u001b[0mannotation\u001b[0m\u001b[0;34m]\u001b[0m\u001b[0;34m,\u001b[0m \u001b[0msgd\u001b[0m\u001b[0;34m=\u001b[0m\u001b[0moptimizer\u001b[0m\u001b[0;34m,\u001b[0m \u001b[0mdrop\u001b[0m\u001b[0;34m=\u001b[0m\u001b[0;36m0.01\u001b[0m\u001b[0;34m,\u001b[0m\u001b[0mlosses\u001b[0m\u001b[0;34m=\u001b[0m\u001b[0mlosses\u001b[0m\u001b[0;34m)\u001b[0m\u001b[0;34m\u001b[0m\u001b[0;34m\u001b[0m\u001b[0m\n\u001b[0m\u001b[1;32m      8\u001b[0m         \u001b[0mprint\u001b[0m\u001b[0;34m(\u001b[0m\u001b[0;34m'Losses'\u001b[0m\u001b[0;34m,\u001b[0m \u001b[0mlosses\u001b[0m\u001b[0;34m)\u001b[0m\u001b[0;34m\u001b[0m\u001b[0;34m\u001b[0m\u001b[0m\n\u001b[1;32m      9\u001b[0m \u001b[0;34m\u001b[0m\u001b[0m\n",
            "\u001b[0;32m/usr/local/lib/python3.7/dist-packages/spacy/language.py\u001b[0m in \u001b[0;36mupdate\u001b[0;34m(self, docs, golds, drop, sgd, losses, component_cfg)\u001b[0m\n\u001b[1;32m    517\u001b[0m             \u001b[0mkwargs\u001b[0m \u001b[0;34m=\u001b[0m \u001b[0mcomponent_cfg\u001b[0m\u001b[0;34m.\u001b[0m\u001b[0mget\u001b[0m\u001b[0;34m(\u001b[0m\u001b[0mname\u001b[0m\u001b[0;34m,\u001b[0m \u001b[0;34m{\u001b[0m\u001b[0;34m}\u001b[0m\u001b[0;34m)\u001b[0m\u001b[0;34m\u001b[0m\u001b[0;34m\u001b[0m\u001b[0m\n\u001b[1;32m    518\u001b[0m             \u001b[0mkwargs\u001b[0m\u001b[0;34m.\u001b[0m\u001b[0msetdefault\u001b[0m\u001b[0;34m(\u001b[0m\u001b[0;34m\"drop\"\u001b[0m\u001b[0;34m,\u001b[0m \u001b[0mdrop\u001b[0m\u001b[0;34m)\u001b[0m\u001b[0;34m\u001b[0m\u001b[0;34m\u001b[0m\u001b[0m\n\u001b[0;32m--> 519\u001b[0;31m             \u001b[0mproc\u001b[0m\u001b[0;34m.\u001b[0m\u001b[0mupdate\u001b[0m\u001b[0;34m(\u001b[0m\u001b[0mdocs\u001b[0m\u001b[0;34m,\u001b[0m \u001b[0mgolds\u001b[0m\u001b[0;34m,\u001b[0m \u001b[0msgd\u001b[0m\u001b[0;34m=\u001b[0m\u001b[0mget_grads\u001b[0m\u001b[0;34m,\u001b[0m \u001b[0mlosses\u001b[0m\u001b[0;34m=\u001b[0m\u001b[0mlosses\u001b[0m\u001b[0;34m,\u001b[0m \u001b[0;34m**\u001b[0m\u001b[0mkwargs\u001b[0m\u001b[0;34m)\u001b[0m\u001b[0;34m\u001b[0m\u001b[0;34m\u001b[0m\u001b[0m\n\u001b[0m\u001b[1;32m    520\u001b[0m             \u001b[0;32mfor\u001b[0m \u001b[0mkey\u001b[0m\u001b[0;34m,\u001b[0m \u001b[0;34m(\u001b[0m\u001b[0mW\u001b[0m\u001b[0;34m,\u001b[0m \u001b[0mdW\u001b[0m\u001b[0;34m)\u001b[0m \u001b[0;32min\u001b[0m \u001b[0mgrads\u001b[0m\u001b[0;34m.\u001b[0m\u001b[0mitems\u001b[0m\u001b[0;34m(\u001b[0m\u001b[0;34m)\u001b[0m\u001b[0;34m:\u001b[0m\u001b[0;34m\u001b[0m\u001b[0;34m\u001b[0m\u001b[0m\n\u001b[1;32m    521\u001b[0m                 \u001b[0msgd\u001b[0m\u001b[0;34m(\u001b[0m\u001b[0mW\u001b[0m\u001b[0;34m,\u001b[0m \u001b[0mdW\u001b[0m\u001b[0;34m,\u001b[0m \u001b[0mkey\u001b[0m\u001b[0;34m=\u001b[0m\u001b[0mkey\u001b[0m\u001b[0;34m)\u001b[0m\u001b[0;34m\u001b[0m\u001b[0;34m\u001b[0m\u001b[0m\n",
            "\u001b[0;32mnn_parser.pyx\u001b[0m in \u001b[0;36mspacy.syntax.nn_parser.Parser.update\u001b[0;34m()\u001b[0m\n",
            "\u001b[0;32m_parser_model.pyx\u001b[0m in \u001b[0;36mspacy.syntax._parser_model.ParserModel.begin_update.finish_parser_update\u001b[0;34m()\u001b[0m\n",
            "\u001b[0;32m_parser_model.pyx\u001b[0m in \u001b[0;36mspacy.syntax._parser_model.ParserStepModel.make_updates\u001b[0;34m()\u001b[0m\n",
            "\u001b[0;32m_parser_model.pyx\u001b[0m in \u001b[0;36mspacy.syntax._parser_model.precompute_hiddens.begin_update.backward\u001b[0;34m()\u001b[0m\n",
            "\u001b[0;32m/usr/local/lib/python3.7/dist-packages/spacy/_ml.py\u001b[0m in \u001b[0;36mbackward\u001b[0;34m(dY_ids, sgd)\u001b[0m\n\u001b[1;32m    188\u001b[0m             \u001b[0mXf\u001b[0m \u001b[0;34m=\u001b[0m \u001b[0mXf\u001b[0m\u001b[0;34m.\u001b[0m\u001b[0mreshape\u001b[0m\u001b[0;34m(\u001b[0m\u001b[0;34m(\u001b[0m\u001b[0mXf\u001b[0m\u001b[0;34m.\u001b[0m\u001b[0mshape\u001b[0m\u001b[0;34m[\u001b[0m\u001b[0;36m0\u001b[0m\u001b[0;34m]\u001b[0m\u001b[0;34m,\u001b[0m \u001b[0mself\u001b[0m\u001b[0;34m.\u001b[0m\u001b[0mnF\u001b[0m \u001b[0;34m*\u001b[0m \u001b[0mself\u001b[0m\u001b[0;34m.\u001b[0m\u001b[0mnI\u001b[0m\u001b[0;34m)\u001b[0m\u001b[0;34m)\u001b[0m\u001b[0;34m\u001b[0m\u001b[0;34m\u001b[0m\u001b[0m\n\u001b[1;32m    189\u001b[0m \u001b[0;34m\u001b[0m\u001b[0m\n\u001b[0;32m--> 190\u001b[0;31m             \u001b[0mself\u001b[0m\u001b[0;34m.\u001b[0m\u001b[0md_b\u001b[0m \u001b[0;34m+=\u001b[0m \u001b[0mdY\u001b[0m\u001b[0;34m.\u001b[0m\u001b[0msum\u001b[0m\u001b[0;34m(\u001b[0m\u001b[0maxis\u001b[0m\u001b[0;34m=\u001b[0m\u001b[0;36m0\u001b[0m\u001b[0;34m)\u001b[0m\u001b[0;34m\u001b[0m\u001b[0;34m\u001b[0m\u001b[0m\n\u001b[0m\u001b[1;32m    191\u001b[0m             \u001b[0mdY\u001b[0m \u001b[0;34m=\u001b[0m \u001b[0mdY\u001b[0m\u001b[0;34m.\u001b[0m\u001b[0mreshape\u001b[0m\u001b[0;34m(\u001b[0m\u001b[0;34m(\u001b[0m\u001b[0mdY\u001b[0m\u001b[0;34m.\u001b[0m\u001b[0mshape\u001b[0m\u001b[0;34m[\u001b[0m\u001b[0;36m0\u001b[0m\u001b[0;34m]\u001b[0m\u001b[0;34m,\u001b[0m \u001b[0mself\u001b[0m\u001b[0;34m.\u001b[0m\u001b[0mnO\u001b[0m \u001b[0;34m*\u001b[0m \u001b[0mself\u001b[0m\u001b[0;34m.\u001b[0m\u001b[0mnP\u001b[0m\u001b[0;34m)\u001b[0m\u001b[0;34m)\u001b[0m\u001b[0;34m\u001b[0m\u001b[0;34m\u001b[0m\u001b[0m\n\u001b[1;32m    192\u001b[0m \u001b[0;34m\u001b[0m\u001b[0m\n",
            "\u001b[0;31mKeyboardInterrupt\u001b[0m: "
          ]
        }
      ]
    },
    {
      "cell_type": "code",
      "metadata": {
        "id": "ResCdRRcUNCK"
      },
      "source": [
        "#inferencing stage\n",
        "pipeline = spacy.load(\"model.bin\")\n",
        "doc= pipeline(\"I have won the lottery and I am supposed to collect it tommorow evening at Maharastra.\")\n",
        "for ent in doc2.ents:\n",
        "    print(ent.label_, ent.text)"
      ],
      "execution_count": null,
      "outputs": []
    },
    {
      "cell_type": "code",
      "metadata": {
        "id": "JpJNrcIjLrgm"
      },
      "source": [
        ""
      ],
      "execution_count": null,
      "outputs": []
    }
  ]
}