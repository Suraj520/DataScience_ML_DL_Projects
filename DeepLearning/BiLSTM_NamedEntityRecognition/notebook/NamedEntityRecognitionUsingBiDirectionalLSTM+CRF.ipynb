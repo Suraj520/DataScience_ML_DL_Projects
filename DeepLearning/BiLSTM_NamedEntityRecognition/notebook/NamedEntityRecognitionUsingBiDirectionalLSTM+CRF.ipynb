{
  "nbformat": 4,
  "nbformat_minor": 0,
  "metadata": {
    "colab": {
      "name": "NamedEntityRecognitionUsingBiDirectionalLSTM+CRF.ipynb",
      "provenance": [],
      "collapsed_sections": [],
      "machine_shape": "hm"
    },
    "kernelspec": {
      "name": "python3",
      "display_name": "Python 3"
    },
    "language_info": {
      "name": "python"
    },
    "accelerator": "GPU"
  },
  "cells": [
    {
      "cell_type": "markdown",
      "metadata": {
        "id": "to-bR6bKM8af"
      },
      "source": [
        "# About\n",
        "Named Entity Recognition using Bidirectional LSTM.\n",
        "[Reference Link](https://createmomo.github.io/2017/09/12/CRF_Layer_on_the_Top_of_BiLSTM_1/) "
      ]
    },
    {
      "cell_type": "code",
      "metadata": {
        "colab": {
          "base_uri": "https://localhost:8080/"
        },
        "id": "_3Dy3pF2KpQK",
        "outputId": "1d449320-653d-491a-8298-250a3429df32"
      },
      "source": [
        "!nvidia-smi"
      ],
      "execution_count": 1,
      "outputs": [
        {
          "output_type": "stream",
          "text": [
            "Sat Apr  3 14:37:50 2021       \n",
            "+-----------------------------------------------------------------------------+\n",
            "| NVIDIA-SMI 460.67       Driver Version: 460.32.03    CUDA Version: 11.2     |\n",
            "|-------------------------------+----------------------+----------------------+\n",
            "| GPU  Name        Persistence-M| Bus-Id        Disp.A | Volatile Uncorr. ECC |\n",
            "| Fan  Temp  Perf  Pwr:Usage/Cap|         Memory-Usage | GPU-Util  Compute M. |\n",
            "|                               |                      |               MIG M. |\n",
            "|===============================+======================+======================|\n",
            "|   0  Tesla P100-PCIE...  Off  | 00000000:00:04.0 Off |                    0 |\n",
            "| N/A   35C    P0    26W / 250W |      0MiB / 16280MiB |      0%      Default |\n",
            "|                               |                      |                  N/A |\n",
            "+-------------------------------+----------------------+----------------------+\n",
            "                                                                               \n",
            "+-----------------------------------------------------------------------------+\n",
            "| Processes:                                                                  |\n",
            "|  GPU   GI   CI        PID   Type   Process name                  GPU Memory |\n",
            "|        ID   ID                                                   Usage      |\n",
            "|=============================================================================|\n",
            "|  No running processes found                                                 |\n",
            "+-----------------------------------------------------------------------------+\n"
          ],
          "name": "stdout"
        }
      ]
    },
    {
      "cell_type": "code",
      "metadata": {
        "id": "WtrBzCA1NkTl",
        "colab": {
          "base_uri": "https://localhost:8080/"
        },
        "outputId": "0afe4ba9-4866-42c4-ea8b-a62fe72fd9b4"
      },
      "source": [
        "#importing modules\n",
        "import pandas as pd\n",
        "import os\n",
        "import random\n",
        "import tensorflow.keras as keras\n",
        "from keras.preprocessing.sequence import pad_sequences\n",
        "from keras.utils import to_categorical\n",
        "from sklearn.model_selection import train_test_split\n",
        "from keras.models import Model, Input\n",
        "from keras.preprocessing.text import Tokenizer\n",
        "from keras.callbacks import ModelCheckpoint\n",
        "import numpy as np\n",
        "from keras.layers import LSTM, Embedding, Dense, TimeDistributed, Dropout, Bidirectional\n",
        "! pip install git+https://www.github.com/keras-team/keras-contrib.git\n",
        "from keras_contrib.layers import CRF"
      ],
      "execution_count": 50,
      "outputs": [
        {
          "output_type": "stream",
          "text": [
            "Collecting git+https://www.github.com/keras-team/keras-contrib.git\n",
            "  Cloning https://www.github.com/keras-team/keras-contrib.git to /tmp/pip-req-build-9rpqes7b\n",
            "  Running command git clone -q https://www.github.com/keras-team/keras-contrib.git /tmp/pip-req-build-9rpqes7b\n",
            "Requirement already satisfied (use --upgrade to upgrade): keras-contrib==2.0.8 from git+https://www.github.com/keras-team/keras-contrib.git in /usr/local/lib/python3.7/dist-packages\n",
            "Requirement already satisfied: keras in /usr/local/lib/python3.7/dist-packages (from keras-contrib==2.0.8) (2.4.3)\n",
            "Requirement already satisfied: pyyaml in /usr/local/lib/python3.7/dist-packages (from keras->keras-contrib==2.0.8) (3.13)\n",
            "Requirement already satisfied: h5py in /usr/local/lib/python3.7/dist-packages (from keras->keras-contrib==2.0.8) (2.10.0)\n",
            "Requirement already satisfied: scipy>=0.14 in /usr/local/lib/python3.7/dist-packages (from keras->keras-contrib==2.0.8) (1.4.1)\n",
            "Requirement already satisfied: numpy>=1.9.1 in /usr/local/lib/python3.7/dist-packages (from keras->keras-contrib==2.0.8) (1.19.5)\n",
            "Requirement already satisfied: six in /usr/local/lib/python3.7/dist-packages (from h5py->keras->keras-contrib==2.0.8) (1.15.0)\n",
            "Building wheels for collected packages: keras-contrib\n",
            "  Building wheel for keras-contrib (setup.py) ... \u001b[?25l\u001b[?25hdone\n",
            "  Created wheel for keras-contrib: filename=keras_contrib-2.0.8-cp37-none-any.whl size=101065 sha256=28b9ea8828ff3bab70d789e25fac8bbce019a61d9ab1c7b7741887fc6c9c298a\n",
            "  Stored in directory: /tmp/pip-ephem-wheel-cache-3jtibfvl/wheels/11/27/c8/4ed56de7b55f4f61244e2dc6ef3cdbaff2692527a2ce6502ba\n",
            "Successfully built keras-contrib\n"
          ],
          "name": "stdout"
        }
      ]
    },
    {
      "cell_type": "code",
      "metadata": {
        "id": "rsqyuqvbY5cy"
      },
      "source": [
        "#changing the path\n",
        "os.chdir('/content/drive/MyDrive/Colab Notebooks/Dataset/NER_Dataset')"
      ],
      "execution_count": 51,
      "outputs": []
    },
    {
      "cell_type": "code",
      "metadata": {
        "id": "3P_cmeFWZSCv"
      },
      "source": [
        "#!unzip NER.zip"
      ],
      "execution_count": 52,
      "outputs": []
    },
    {
      "cell_type": "code",
      "metadata": {
        "colab": {
          "base_uri": "https://localhost:8080/",
          "height": 196
        },
        "id": "u5ST4H3rZWNW",
        "outputId": "754f8aa6-0f26-4ec2-a499-19b04151e411"
      },
      "source": [
        "#reading the dataset\n",
        "dataset = pd.read_csv(\"ner_dataset.csv\", sep=\",\", encoding=\"latin1\").fillna(method='ffill')\n",
        "dataset.head()"
      ],
      "execution_count": 53,
      "outputs": [
        {
          "output_type": "execute_result",
          "data": {
            "text/html": [
              "<div>\n",
              "<style scoped>\n",
              "    .dataframe tbody tr th:only-of-type {\n",
              "        vertical-align: middle;\n",
              "    }\n",
              "\n",
              "    .dataframe tbody tr th {\n",
              "        vertical-align: top;\n",
              "    }\n",
              "\n",
              "    .dataframe thead th {\n",
              "        text-align: right;\n",
              "    }\n",
              "</style>\n",
              "<table border=\"1\" class=\"dataframe\">\n",
              "  <thead>\n",
              "    <tr style=\"text-align: right;\">\n",
              "      <th></th>\n",
              "      <th>Sentence #</th>\n",
              "      <th>Word</th>\n",
              "      <th>POS</th>\n",
              "      <th>Tag</th>\n",
              "    </tr>\n",
              "  </thead>\n",
              "  <tbody>\n",
              "    <tr>\n",
              "      <th>0</th>\n",
              "      <td>Sentence: 1</td>\n",
              "      <td>Thousands</td>\n",
              "      <td>NNS</td>\n",
              "      <td>O</td>\n",
              "    </tr>\n",
              "    <tr>\n",
              "      <th>1</th>\n",
              "      <td>Sentence: 1</td>\n",
              "      <td>of</td>\n",
              "      <td>IN</td>\n",
              "      <td>O</td>\n",
              "    </tr>\n",
              "    <tr>\n",
              "      <th>2</th>\n",
              "      <td>Sentence: 1</td>\n",
              "      <td>demonstrators</td>\n",
              "      <td>NNS</td>\n",
              "      <td>O</td>\n",
              "    </tr>\n",
              "    <tr>\n",
              "      <th>3</th>\n",
              "      <td>Sentence: 1</td>\n",
              "      <td>have</td>\n",
              "      <td>VBP</td>\n",
              "      <td>O</td>\n",
              "    </tr>\n",
              "    <tr>\n",
              "      <th>4</th>\n",
              "      <td>Sentence: 1</td>\n",
              "      <td>marched</td>\n",
              "      <td>VBN</td>\n",
              "      <td>O</td>\n",
              "    </tr>\n",
              "  </tbody>\n",
              "</table>\n",
              "</div>"
            ],
            "text/plain": [
              "    Sentence #           Word  POS Tag\n",
              "0  Sentence: 1      Thousands  NNS   O\n",
              "1  Sentence: 1             of   IN   O\n",
              "2  Sentence: 1  demonstrators  NNS   O\n",
              "3  Sentence: 1           have  VBP   O\n",
              "4  Sentence: 1        marched  VBN   O"
            ]
          },
          "metadata": {
            "tags": []
          },
          "execution_count": 53
        }
      ]
    },
    {
      "cell_type": "code",
      "metadata": {
        "colab": {
          "base_uri": "https://localhost:8080/",
          "height": 316
        },
        "id": "Ktw2kylHdW_b",
        "outputId": "0bb6e727-95d6-4fbb-8825-73a30b38ecb3"
      },
      "source": [
        "#let's plot \n",
        "dataset.groupby('Tag').count().plot.bar(color='red')"
      ],
      "execution_count": 54,
      "outputs": [
        {
          "output_type": "execute_result",
          "data": {
            "text/plain": [
              "<matplotlib.axes._subplots.AxesSubplot at 0x7fda18adb4d0>"
            ]
          },
          "metadata": {
            "tags": []
          },
          "execution_count": 54
        },
        {
          "output_type": "display_data",
          "data": {
            "image/png": "[encoded data removed]",
            "text/plain": [
              "<Figure size 432x288 with 1 Axes>"
            ]
          },
          "metadata": {
            "tags": [],
            "needs_background": "light"
          }
        }
      ]
    },
    {
      "cell_type": "code",
      "metadata": {
        "id": "3LiuhdZBbHkG"
      },
      "source": [
        "#combining the sentences and their and Tag.\n",
        "combiner_function = lambda sentence: [[word,tag] for word,tag in zip(sentence[\"Word\"].values.tolist(), \n",
        "                                            sentence[\"Tag\"].values.tolist())]"
      ],
      "execution_count": 55,
      "outputs": []
    },
    {
      "cell_type": "code",
      "metadata": {
        "id": "LXHhztp0GO-h"
      },
      "source": [
        "combined_dataset = dataset.groupby(\"Sentence #\").apply(combiner_function).reset_index().rename(columns= {0: 'Sentence_Tag_pair'})\n"
      ],
      "execution_count": 56,
      "outputs": []
    },
    {
      "cell_type": "code",
      "metadata": {
        "colab": {
          "base_uri": "https://localhost:8080/",
          "height": 196
        },
        "id": "YBhwQoktGnH5",
        "outputId": "9865f946-20eb-4127-c71e-fe152077143e"
      },
      "source": [
        "combined_dataset.head()"
      ],
      "execution_count": 57,
      "outputs": [
        {
          "output_type": "execute_result",
          "data": {
            "text/html": [
              "<div>\n",
              "<style scoped>\n",
              "    .dataframe tbody tr th:only-of-type {\n",
              "        vertical-align: middle;\n",
              "    }\n",
              "\n",
              "    .dataframe tbody tr th {\n",
              "        vertical-align: top;\n",
              "    }\n",
              "\n",
              "    .dataframe thead th {\n",
              "        text-align: right;\n",
              "    }\n",
              "</style>\n",
              "<table border=\"1\" class=\"dataframe\">\n",
              "  <thead>\n",
              "    <tr style=\"text-align: right;\">\n",
              "      <th></th>\n",
              "      <th>Sentence #</th>\n",
              "      <th>Sentence_Tag_pair</th>\n",
              "    </tr>\n",
              "  </thead>\n",
              "  <tbody>\n",
              "    <tr>\n",
              "      <th>0</th>\n",
              "      <td>Sentence: 1</td>\n",
              "      <td>[[Thousands, O], [of, O], [demonstrators, O], ...</td>\n",
              "    </tr>\n",
              "    <tr>\n",
              "      <th>1</th>\n",
              "      <td>Sentence: 10</td>\n",
              "      <td>[[Iranian, B-gpe], [officials, O], [say, O], [...</td>\n",
              "    </tr>\n",
              "    <tr>\n",
              "      <th>2</th>\n",
              "      <td>Sentence: 100</td>\n",
              "      <td>[[Helicopter, O], [gunships, O], [Saturday, B-...</td>\n",
              "    </tr>\n",
              "    <tr>\n",
              "      <th>3</th>\n",
              "      <td>Sentence: 1000</td>\n",
              "      <td>[[They, O], [left, O], [after, O], [a, O], [te...</td>\n",
              "    </tr>\n",
              "    <tr>\n",
              "      <th>4</th>\n",
              "      <td>Sentence: 10000</td>\n",
              "      <td>[[U.N., B-geo], [relief, O], [coordinator, O],...</td>\n",
              "    </tr>\n",
              "  </tbody>\n",
              "</table>\n",
              "</div>"
            ],
            "text/plain": [
              "        Sentence #                                  Sentence_Tag_pair\n",
              "0      Sentence: 1  [[Thousands, O], [of, O], [demonstrators, O], ...\n",
              "1     Sentence: 10  [[Iranian, B-gpe], [officials, O], [say, O], [...\n",
              "2    Sentence: 100  [[Helicopter, O], [gunships, O], [Saturday, B-...\n",
              "3   Sentence: 1000  [[They, O], [left, O], [after, O], [a, O], [te...\n",
              "4  Sentence: 10000  [[U.N., B-geo], [relief, O], [coordinator, O],..."
            ]
          },
          "metadata": {
            "tags": []
          },
          "execution_count": 57
        }
      ]
    },
    {
      "cell_type": "code",
      "metadata": {
        "id": "ixvi4yc_m7_t"
      },
      "source": [
        "#splitting into sentence and tags\n",
        "combined_dataset['Sentence']=combined_dataset['Sentence_Tag_pair'].apply(lambda sentence:\" \".join([s[0] for s in sentence]))\n",
        "combined_dataset['Tag']=combined_dataset['Sentence_Tag_pair'].apply(lambda sentence:\" \".join([s[1] for s in sentence]))"
      ],
      "execution_count": 58,
      "outputs": []
    },
    {
      "cell_type": "code",
      "metadata": {
        "colab": {
          "base_uri": "https://localhost:8080/",
          "height": 196
        },
        "id": "Oa-qsn5_oA8k",
        "outputId": "0da1f698-b462-4cfd-acdf-765b89b1484b"
      },
      "source": [
        "combined_dataset.head()"
      ],
      "execution_count": 59,
      "outputs": [
        {
          "output_type": "execute_result",
          "data": {
            "text/html": [
              "<div>\n",
              "<style scoped>\n",
              "    .dataframe tbody tr th:only-of-type {\n",
              "        vertical-align: middle;\n",
              "    }\n",
              "\n",
              "    .dataframe tbody tr th {\n",
              "        vertical-align: top;\n",
              "    }\n",
              "\n",
              "    .dataframe thead th {\n",
              "        text-align: right;\n",
              "    }\n",
              "</style>\n",
              "<table border=\"1\" class=\"dataframe\">\n",
              "  <thead>\n",
              "    <tr style=\"text-align: right;\">\n",
              "      <th></th>\n",
              "      <th>Sentence #</th>\n",
              "      <th>Sentence_Tag_pair</th>\n",
              "      <th>Sentence</th>\n",
              "      <th>Tag</th>\n",
              "    </tr>\n",
              "  </thead>\n",
              "  <tbody>\n",
              "    <tr>\n",
              "      <th>0</th>\n",
              "      <td>Sentence: 1</td>\n",
              "      <td>[[Thousands, O], [of, O], [demonstrators, O], ...</td>\n",
              "      <td>Thousands of demonstrators have marched throug...</td>\n",
              "      <td>O O O O O O B-geo O O O O O B-geo O O O O O B-...</td>\n",
              "    </tr>\n",
              "    <tr>\n",
              "      <th>1</th>\n",
              "      <td>Sentence: 10</td>\n",
              "      <td>[[Iranian, B-gpe], [officials, O], [say, O], [...</td>\n",
              "      <td>Iranian officials say they expect to get acces...</td>\n",
              "      <td>B-gpe O O O O O O O O O O O O O O B-tim O O O ...</td>\n",
              "    </tr>\n",
              "    <tr>\n",
              "      <th>2</th>\n",
              "      <td>Sentence: 100</td>\n",
              "      <td>[[Helicopter, O], [gunships, O], [Saturday, B-...</td>\n",
              "      <td>Helicopter gunships Saturday pounded militant ...</td>\n",
              "      <td>O O B-tim O O O O O B-geo O O O O O B-org O O ...</td>\n",
              "    </tr>\n",
              "    <tr>\n",
              "      <th>3</th>\n",
              "      <td>Sentence: 1000</td>\n",
              "      <td>[[They, O], [left, O], [after, O], [a, O], [te...</td>\n",
              "      <td>They left after a tense hour-long standoff wit...</td>\n",
              "      <td>O O O O O O O O O O O</td>\n",
              "    </tr>\n",
              "    <tr>\n",
              "      <th>4</th>\n",
              "      <td>Sentence: 10000</td>\n",
              "      <td>[[U.N., B-geo], [relief, O], [coordinator, O],...</td>\n",
              "      <td>U.N. relief coordinator Jan Egeland said Sunda...</td>\n",
              "      <td>B-geo O O B-per I-per O B-tim O B-geo O B-gpe ...</td>\n",
              "    </tr>\n",
              "  </tbody>\n",
              "</table>\n",
              "</div>"
            ],
            "text/plain": [
              "        Sentence #  ...                                                Tag\n",
              "0      Sentence: 1  ...  O O O O O O B-geo O O O O O B-geo O O O O O B-...\n",
              "1     Sentence: 10  ...  B-gpe O O O O O O O O O O O O O O B-tim O O O ...\n",
              "2    Sentence: 100  ...  O O B-tim O O O O O B-geo O O O O O B-org O O ...\n",
              "3   Sentence: 1000  ...                              O O O O O O O O O O O\n",
              "4  Sentence: 10000  ...  B-geo O O B-per I-per O B-tim O B-geo O B-gpe ...\n",
              "\n",
              "[5 rows x 4 columns]"
            ]
          },
          "metadata": {
            "tags": []
          },
          "execution_count": 59
        }
      ]
    },
    {
      "cell_type": "code",
      "metadata": {
        "id": "eroC5aghGsY4",
        "colab": {
          "base_uri": "https://localhost:8080/",
          "height": 297
        },
        "outputId": "b6306a01-d035-4d63-eb51-2506aaabe6bc"
      },
      "source": [
        "#seperating white spaces to create lists\n",
        "combined_dataset['sentences_list']=combined_dataset['Sentence'].apply(lambda x:x.split())\n",
        "combined_dataset['tag_list']=combined_dataset['Tag'].apply(lambda x:x.split())\n",
        "combined_dataset.head()"
      ],
      "execution_count": 60,
      "outputs": [
        {
          "output_type": "execute_result",
          "data": {
            "text/html": [
              "<div>\n",
              "<style scoped>\n",
              "    .dataframe tbody tr th:only-of-type {\n",
              "        vertical-align: middle;\n",
              "    }\n",
              "\n",
              "    .dataframe tbody tr th {\n",
              "        vertical-align: top;\n",
              "    }\n",
              "\n",
              "    .dataframe thead th {\n",
              "        text-align: right;\n",
              "    }\n",
              "</style>\n",
              "<table border=\"1\" class=\"dataframe\">\n",
              "  <thead>\n",
              "    <tr style=\"text-align: right;\">\n",
              "      <th></th>\n",
              "      <th>Sentence #</th>\n",
              "      <th>Sentence_Tag_pair</th>\n",
              "      <th>Sentence</th>\n",
              "      <th>Tag</th>\n",
              "      <th>sentences_list</th>\n",
              "      <th>tag_list</th>\n",
              "    </tr>\n",
              "  </thead>\n",
              "  <tbody>\n",
              "    <tr>\n",
              "      <th>0</th>\n",
              "      <td>Sentence: 1</td>\n",
              "      <td>[[Thousands, O], [of, O], [demonstrators, O], ...</td>\n",
              "      <td>Thousands of demonstrators have marched throug...</td>\n",
              "      <td>O O O O O O B-geo O O O O O B-geo O O O O O B-...</td>\n",
              "      <td>[Thousands, of, demonstrators, have, marched, ...</td>\n",
              "      <td>[O, O, O, O, O, O, B-geo, O, O, O, O, O, B-geo...</td>\n",
              "    </tr>\n",
              "    <tr>\n",
              "      <th>1</th>\n",
              "      <td>Sentence: 10</td>\n",
              "      <td>[[Iranian, B-gpe], [officials, O], [say, O], [...</td>\n",
              "      <td>Iranian officials say they expect to get acces...</td>\n",
              "      <td>B-gpe O O O O O O O O O O O O O O B-tim O O O ...</td>\n",
              "      <td>[Iranian, officials, say, they, expect, to, ge...</td>\n",
              "      <td>[B-gpe, O, O, O, O, O, O, O, O, O, O, O, O, O,...</td>\n",
              "    </tr>\n",
              "    <tr>\n",
              "      <th>2</th>\n",
              "      <td>Sentence: 100</td>\n",
              "      <td>[[Helicopter, O], [gunships, O], [Saturday, B-...</td>\n",
              "      <td>Helicopter gunships Saturday pounded militant ...</td>\n",
              "      <td>O O B-tim O O O O O B-geo O O O O O B-org O O ...</td>\n",
              "      <td>[Helicopter, gunships, Saturday, pounded, mili...</td>\n",
              "      <td>[O, O, B-tim, O, O, O, O, O, B-geo, O, O, O, O...</td>\n",
              "    </tr>\n",
              "    <tr>\n",
              "      <th>3</th>\n",
              "      <td>Sentence: 1000</td>\n",
              "      <td>[[They, O], [left, O], [after, O], [a, O], [te...</td>\n",
              "      <td>They left after a tense hour-long standoff wit...</td>\n",
              "      <td>O O O O O O O O O O O</td>\n",
              "      <td>[They, left, after, a, tense, hour-long, stand...</td>\n",
              "      <td>[O, O, O, O, O, O, O, O, O, O, O]</td>\n",
              "    </tr>\n",
              "    <tr>\n",
              "      <th>4</th>\n",
              "      <td>Sentence: 10000</td>\n",
              "      <td>[[U.N., B-geo], [relief, O], [coordinator, O],...</td>\n",
              "      <td>U.N. relief coordinator Jan Egeland said Sunda...</td>\n",
              "      <td>B-geo O O B-per I-per O B-tim O B-geo O B-gpe ...</td>\n",
              "      <td>[U.N., relief, coordinator, Jan, Egeland, said...</td>\n",
              "      <td>[B-geo, O, O, B-per, I-per, O, B-tim, O, B-geo...</td>\n",
              "    </tr>\n",
              "  </tbody>\n",
              "</table>\n",
              "</div>"
            ],
            "text/plain": [
              "        Sentence #  ...                                           tag_list\n",
              "0      Sentence: 1  ...  [O, O, O, O, O, O, B-geo, O, O, O, O, O, B-geo...\n",
              "1     Sentence: 10  ...  [B-gpe, O, O, O, O, O, O, O, O, O, O, O, O, O,...\n",
              "2    Sentence: 100  ...  [O, O, B-tim, O, O, O, O, O, B-geo, O, O, O, O...\n",
              "3   Sentence: 1000  ...                  [O, O, O, O, O, O, O, O, O, O, O]\n",
              "4  Sentence: 10000  ...  [B-geo, O, O, B-per, I-per, O, B-tim, O, B-geo...\n",
              "\n",
              "[5 rows x 6 columns]"
            ]
          },
          "metadata": {
            "tags": []
          },
          "execution_count": 60
        }
      ]
    },
    {
      "cell_type": "code",
      "metadata": {
        "colab": {
          "base_uri": "https://localhost:8080/"
        },
        "id": "6XI53Tv_onY0",
        "outputId": "ea235513-6cfb-4c9a-9b53-e9f7d1131ce2"
      },
      "source": [
        "#checking if each word in sentence has a tag or not. If not, dropping\n",
        "combined_dataset['len_sentence']=combined_dataset['sentences_list'].apply(lambda x:len(x))\n",
        "combined_dataset['len_tag']=combined_dataset['tag_list'].apply(lambda x:len(x))\n",
        "combined_dataset['is_equal']=combined_dataset.apply(lambda row:1 if row['len_sentence']==row['len_tag'] else 0,axis=1)\n",
        "combined_dataset['is_equal'].value_counts()"
      ],
      "execution_count": 61,
      "outputs": [
        {
          "output_type": "execute_result",
          "data": {
            "text/plain": [
              "1    47955\n",
              "0        4\n",
              "Name: is_equal, dtype: int64"
            ]
          },
          "metadata": {
            "tags": []
          },
          "execution_count": 61
        }
      ]
    },
    {
      "cell_type": "code",
      "metadata": {
        "id": "8J-DNDyGpXV9"
      },
      "source": [
        "#dropping all those columns where the aforementioned criteria doesn't match\n",
        "combined_dataset=combined_dataset[combined_dataset['is_equal']!=0]"
      ],
      "execution_count": 62,
      "outputs": []
    },
    {
      "cell_type": "code",
      "metadata": {
        "colab": {
          "base_uri": "https://localhost:8080/"
        },
        "id": "fAGm0MtZpkay",
        "outputId": "d50eaf29-157b-493d-a5c9-12eb8bea5763"
      },
      "source": [
        "combined_dataset.shape"
      ],
      "execution_count": 63,
      "outputs": [
        {
          "output_type": "execute_result",
          "data": {
            "text/plain": [
              "(47955, 9)"
            ]
          },
          "metadata": {
            "tags": []
          },
          "execution_count": 63
        }
      ]
    },
    {
      "cell_type": "markdown",
      "metadata": {
        "id": "aOGvLsNSjMjU"
      },
      "source": [
        "# Tokenisation"
      ]
    },
    {
      "cell_type": "code",
      "metadata": {
        "colab": {
          "base_uri": "https://localhost:8080/"
        },
        "id": "Dwf3ONTXLKbY",
        "outputId": "68fffcad-dee3-4c77-e40f-b7e37ac238ab"
      },
      "source": [
        "max_len_sentences = max([len(s) for s in combined_dataset['sentences_list'].tolist()])\n",
        "print(max_len_sentences)"
      ],
      "execution_count": 64,
      "outputs": [
        {
          "output_type": "stream",
          "text": [
            "104\n"
          ],
          "name": "stdout"
        }
      ]
    },
    {
      "cell_type": "code",
      "metadata": {
        "id": "UuIIBABAjO3P"
      },
      "source": [
        "max_features = 2000\n",
        "# removing unneccessary punctuations while tokenizing\n",
        "tokenizer = Tokenizer(num_words= max_features, oov_token='OOV',filters='!\"#$%&()*+,-./:;<=>@[\\]^_`{|}~')\n",
        "tokenizer.fit_on_texts(combined_dataset['sentences_list'].tolist())\n",
        "features = tokenizer.texts_to_sequences(combined_dataset['sentences_list'].tolist())\n",
        "features = pad_sequences(features,padding='post', maxlen= max_len)"
      ],
      "execution_count": 65,
      "outputs": []
    },
    {
      "cell_type": "code",
      "metadata": {
        "colab": {
          "base_uri": "https://localhost:8080/"
        },
        "id": "yg6boSchiKo7",
        "outputId": "a25e4528-061a-460d-aa8a-5583509776b3"
      },
      "source": [
        "features.shape"
      ],
      "execution_count": 66,
      "outputs": [
        {
          "output_type": "execute_result",
          "data": {
            "text/plain": [
              "(47955, 104)"
            ]
          },
          "metadata": {
            "tags": []
          },
          "execution_count": 66
        }
      ]
    },
    {
      "cell_type": "code",
      "metadata": {
        "id": "u7U2Ff7Dj7H1"
      },
      "source": [
        "#creating labels dictionary\n",
        "labels_dict = {'B-tim': 0, 'O': 1, 'I-tim': 2, 'I-org': 3, 'B-org': 4, 'B-art': 5, 'B-nat': 6, 'B-gpe': 7, 'I-nat': 8, 'B-geo': 9, 'B-eve': 10, 'I-gpe': 11, 'I-art': 12, 'I-per': 13, 'I-geo': 14, 'B-per': 15, 'I-eve': 16}\n",
        "encoded_labels = [[labels_dict[word] for word in tag] for tag in combined_dataset['tag_list']]"
      ],
      "execution_count": 87,
      "outputs": []
    },
    {
      "cell_type": "code",
      "metadata": {
        "id": "BVvF01f_HXRa"
      },
      "source": [
        "#zero_padding_encoded labels too\n",
        "encoded_labels = pad_sequences(maxlen= max_len_sentences, sequences= encoded_labels, padding=\"post\",value= labels_dict[\"O\"])"
      ],
      "execution_count": 88,
      "outputs": []
    },
    {
      "cell_type": "code",
      "metadata": {
        "colab": {
          "base_uri": "https://localhost:8080/"
        },
        "id": "QwW_a5RiGblZ",
        "outputId": "efc9b942-babe-410d-f2a3-3f7149af0d1f"
      },
      "source": [
        "print(np.shape(encoded_labels))"
      ],
      "execution_count": 89,
      "outputs": [
        {
          "output_type": "stream",
          "text": [
            "(47955, 104)\n"
          ],
          "name": "stdout"
        }
      ]
    },
    {
      "cell_type": "code",
      "metadata": {
        "colab": {
          "base_uri": "https://localhost:8080/"
        },
        "id": "orFnHb9MQVPM",
        "outputId": "3c3d4456-007e-44d3-e5aa-a038acde8506"
      },
      "source": [
        "encoded_labels[0]"
      ],
      "execution_count": 90,
      "outputs": [
        {
          "output_type": "execute_result",
          "data": {
            "text/plain": [
              "array([1, 1, 1, 1, 1, 1, 9, 1, 1, 1, 1, 1, 9, 1, 1, 1, 1, 1, 7, 1, 1, 1,\n",
              "       1, 1, 1, 1, 1, 1, 1, 1, 1, 1, 1, 1, 1, 1, 1, 1, 1, 1, 1, 1, 1, 1,\n",
              "       1, 1, 1, 1, 1, 1, 1, 1, 1, 1, 1, 1, 1, 1, 1, 1, 1, 1, 1, 1, 1, 1,\n",
              "       1, 1, 1, 1, 1, 1, 1, 1, 1, 1, 1, 1, 1, 1, 1, 1, 1, 1, 1, 1, 1, 1,\n",
              "       1, 1, 1, 1, 1, 1, 1, 1, 1, 1, 1, 1, 1, 1, 1, 1], dtype=int32)"
            ]
          },
          "metadata": {
            "tags": []
          },
          "execution_count": 90
        }
      ]
    },
    {
      "cell_type": "code",
      "metadata": {
        "id": "84qRM2zbIwZc"
      },
      "source": [
        "tags_labels = [to_categorical(i, num_classes=17) for i in encoded_labels]"
      ],
      "execution_count": 95,
      "outputs": []
    },
    {
      "cell_type": "code",
      "metadata": {
        "id": "AgtO2faDBQHI"
      },
      "source": [
        "#splitting the data to train and test \n",
        "X_train, X_val, y_train, y_val = train_test_split(features, tags_labels, test_size=0.3)"
      ],
      "execution_count": 96,
      "outputs": []
    },
    {
      "cell_type": "code",
      "metadata": {
        "colab": {
          "base_uri": "https://localhost:8080/"
        },
        "id": "2_hJSS9JB5GO",
        "outputId": "09342b2a-e708-4930-edcf-024750b12435"
      },
      "source": [
        "print(\"Input training features and label shape are {},{}\".format(np.shape(X_train),np.shape(y_train)))\n",
        "print(\"Input validation features and label shape are {}, {}\".format(np.shape(X_val),np.shape(y_val)))"
      ],
      "execution_count": 97,
      "outputs": [
        {
          "output_type": "stream",
          "text": [
            "Input training features and label shape are (33568, 104),(33568, 104, 17)\n",
            "Input validation features and label shape are (14387, 104), (14387, 104, 17)\n"
          ],
          "name": "stdout"
        }
      ]
    },
    {
      "cell_type": "code",
      "metadata": {
        "id": "nyu4jCQuFpvp"
      },
      "source": [
        "#converting labels to numpy array \n",
        "y_train = np.asarray(y_train).astype('float32')\n",
        "y_val = np.asarray(y_val).astype('float32')"
      ],
      "execution_count": 98,
      "outputs": []
    },
    {
      "cell_type": "code",
      "metadata": {
        "colab": {
          "base_uri": "https://localhost:8080/"
        },
        "id": "NezGhZlCCDhu",
        "outputId": "7943659f-9612-4799-b69c-5aeb97810729"
      },
      "source": [
        "input = Input(shape=(104,))\n",
        "out = Embedding(input_dim=len(X_train), output_dim=300,  input_length=104)(input)  \n",
        "out = Bidirectional(LSTM(units=300, return_sequences=True,recurrent_dropout=0.1))(out) \n",
        "out = TimeDistributed(Dense(17, activation=\"relu\"))(out)  \n",
        "BiLSTM = Model(input, out)\n",
        "BiLSTM.compile(optimizer=\"adam\", loss='categorical_crossentropy', metrics=['accuracy'])\n",
        "BiLSTM.summary()"
      ],
      "execution_count": 112,
      "outputs": [
        {
          "output_type": "stream",
          "text": [
            "WARNING:tensorflow:Layer lstm_14 will not use cuDNN kernel since it doesn't meet the cuDNN kernel criteria. It will use generic GPU kernel as fallback when running on GPU\n",
            "WARNING:tensorflow:Layer lstm_14 will not use cuDNN kernel since it doesn't meet the cuDNN kernel criteria. It will use generic GPU kernel as fallback when running on GPU\n",
            "WARNING:tensorflow:Layer lstm_14 will not use cuDNN kernel since it doesn't meet the cuDNN kernel criteria. It will use generic GPU kernel as fallback when running on GPU\n",
            "Model: \"model_14\"\n",
            "_________________________________________________________________\n",
            "Layer (type)                 Output Shape              Param #   \n",
            "=================================================================\n",
            "input_15 (InputLayer)        [(None, 104)]             0         \n",
            "_________________________________________________________________\n",
            "embedding_14 (Embedding)     (None, 104, 300)          10070400  \n",
            "_________________________________________________________________\n",
            "bidirectional_14 (Bidirectio (None, 104, 600)          1442400   \n",
            "_________________________________________________________________\n",
            "time_distributed_13 (TimeDis (None, 104, 17)           10217     \n",
            "=================================================================\n",
            "Total params: 11,523,017\n",
            "Trainable params: 11,523,017\n",
            "Non-trainable params: 0\n",
            "_________________________________________________________________\n"
          ],
          "name": "stdout"
        }
      ]
    },
    {
      "cell_type": "code",
      "metadata": {
        "id": "4xTBOVmsEqd2"
      },
      "source": [
        "#saving best checkpoint model\n",
        "checkpoint = ModelCheckpoint('trained_model.h5', monitor='val_acc', verbose=1, save_best_only=True, mode='max')\n",
        "callbacks = [checkpoint]"
      ],
      "execution_count": 113,
      "outputs": []
    },
    {
      "cell_type": "code",
      "metadata": {
        "colab": {
          "base_uri": "https://localhost:8080/"
        },
        "id": "K3jgp5NgFO3F",
        "outputId": "6ebd9741-c4ad-4f3b-d682-3a1dbe7dc1bf"
      },
      "source": [
        "bilstm_history = BiLSTM.fit(X_train, y_train, batch_size=512, epochs = 5, validation_data=(X_val,y_val), verbose=1, callbacks=callbacks)"
      ],
      "execution_count": 114,
      "outputs": [
        {
          "output_type": "stream",
          "text": [
            "Epoch 1/5\n",
            "66/66 [==============================] - 40s 556ms/step - loss: 1.3331 - accuracy: 0.8988 - val_loss: 0.1353 - val_accuracy: 0.9679\n",
            "WARNING:tensorflow:Can save best model only with val_acc available, skipping.\n",
            "Epoch 2/5\n",
            "66/66 [==============================] - 36s 546ms/step - loss: nan - accuracy: 0.9690 - val_loss: 0.0925 - val_accuracy: 0.9741\n",
            "WARNING:tensorflow:Can save best model only with val_acc available, skipping.\n",
            "Epoch 3/5\n",
            "66/66 [==============================] - 36s 547ms/step - loss: nan - accuracy: 0.9745 - val_loss: nan - val_accuracy: 0.9772\n",
            "WARNING:tensorflow:Can save best model only with val_acc available, skipping.\n",
            "Epoch 4/5\n",
            "66/66 [==============================] - 36s 546ms/step - loss: nan - accuracy: 0.9773 - val_loss: nan - val_accuracy: 0.9783\n",
            "WARNING:tensorflow:Can save best model only with val_acc available, skipping.\n",
            "Epoch 5/5\n",
            "66/66 [==============================] - 36s 540ms/step - loss: nan - accuracy: 0.9787 - val_loss: nan - val_accuracy: 0.9800\n",
            "WARNING:tensorflow:Can save best model only with val_acc available, skipping.\n"
          ],
          "name": "stdout"
        }
      ]
    },
    {
      "cell_type": "code",
      "metadata": {
        "colab": {
          "base_uri": "https://localhost:8080/"
        },
        "id": "RFfeMLnuRIZ9",
        "outputId": "f828c6cb-5b7c-4ba2-9b5b-155dfd55e813"
      },
      "source": [
        "bilstm_history.history.keys()"
      ],
      "execution_count": 115,
      "outputs": [
        {
          "output_type": "execute_result",
          "data": {
            "text/plain": [
              "dict_keys(['loss', 'accuracy', 'val_loss', 'val_accuracy'])"
            ]
          },
          "metadata": {
            "tags": []
          },
          "execution_count": 115
        }
      ]
    },
    {
      "cell_type": "code",
      "metadata": {
        "colab": {
          "base_uri": "https://localhost:8080/",
          "height": 573
        },
        "id": "8uIg0Df7REO4",
        "outputId": "bf8b863a-d23b-4555-a672-d798ea44868c"
      },
      "source": [
        "import matplotlib.pyplot as plt\n",
        "plt.plot(bilstm_history.history['accuracy'])\n",
        "plt.plot(bilstm_history.history['val_accuracy'])\n",
        "plt.title('model accuracy')\n",
        "plt.ylabel('accuracy')\n",
        "plt.xlabel('epoch')\n",
        "plt.legend(['train', 'test'], loc='upper left')\n",
        "plt.show()\n",
        "# summarize history for loss\n",
        "plt.plot(bilstm_history.history['loss'])\n",
        "plt.plot(bilstm_history.history['val_loss'])\n",
        "plt.title('model loss')\n",
        "plt.ylabel('loss')\n",
        "plt.xlabel('epoch')\n",
        "plt.legend(['train', 'test'], loc='upper left')\n",
        "plt.show()"
      ],
      "execution_count": 116,
      "outputs": [
        {
          "output_type": "display_data",
          "data": {
            "image/png": "[encoded data removed]",
            "text/plain": [
              "<Figure size 432x288 with 1 Axes>"
            ]
          },
          "metadata": {
            "tags": [],
            "needs_background": "light"
          }
        },
        {
          "output_type": "display_data",
          "data": {
            "image/png": "[encoded data removed]",
            "text/plain": [
              "<Figure size 432x288 with 1 Axes>"
            ]
          },
          "metadata": {
            "tags": [],
            "needs_background": "light"
          }
        }
      ]
    },
    {
      "cell_type": "code",
      "metadata": {
        "id": "pHKQyfdrFibt"
      },
      "source": [
        "#prediction\n",
        "text = \"This is a game of CRF hosted in the battle of fields where tycoons come around\"\n",
        "max_features = 2000\n",
        "# removing unneccessary punctuations while tokenizing\n",
        "tokenizer = Tokenizer(num_words= max_features, oov_token='OOV',filters='!\"#$%&()*+,-./:;<=>@[\\]^_`{|}~')\n",
        "tokenizer.fit_on_texts(text)\n",
        "features = tokenizer.texts_to_sequences(text)\n",
        "features = pad_sequences(features,padding='post', maxlen= max_len)"
      ],
      "execution_count": 118,
      "outputs": []
    },
    {
      "cell_type": "code",
      "metadata": {
        "id": "tsZhV9RRUgz1"
      },
      "source": [
        "np.argmax(BiLSTM.predict(features, batch_size=1)[0])"
      ],
      "execution_count": null,
      "outputs": []
    },
    {
      "cell_type": "code",
      "metadata": {
        "id": "p8PYQ-O9Uys8"
      },
      "source": [
        ""
      ],
      "execution_count": null,
      "outputs": []
    }
  ]
}