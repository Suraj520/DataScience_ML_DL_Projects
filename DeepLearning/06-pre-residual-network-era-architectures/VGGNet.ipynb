{
  "nbformat": 4,
  "nbformat_minor": 0,
  "metadata": {
    "colab": {
      "name": "VGGNet.ipynb",
      "provenance": [],
      "collapsed_sections": []
    },
    "kernelspec": {
      "name": "python3",
      "display_name": "Python 3"
    },
    "accelerator": "GPU"
  },
  "cells": [
    {
      "cell_type": "markdown",
      "metadata": {
        "id": "lwTLHrGGzk0u"
      },
      "source": [
        "# This notebook  covers the following topics :\r\n",
        "1. Training VGG Net models(VGG16) from Scratch on a Custom Dataset.\r\n",
        "2. Training VGG Net(VGG16) of model from Keras(pretrained on ImageNet) using Transfer learning."
      ]
    },
    {
      "cell_type": "code",
      "metadata": {
        "id": "hwzjh6nEztc6",
        "colab": {
          "base_uri": "https://localhost:8080/"
        },
        "outputId": "ca0ada85-70fe-4d4b-c487-ef8ca80c25c6"
      },
      "source": [
        "#loading google drive\r\n",
        "from google.colab import drive\r\n",
        "drive.mount('/content/drive')"
      ],
      "execution_count": null,
      "outputs": [
        {
          "output_type": "stream",
          "text": [
            "Drive already mounted at /content/drive; to attempt to forcibly remount, call drive.mount(\"/content/drive\", force_remount=True).\n"
          ],
          "name": "stdout"
        }
      ]
    },
    {
      "cell_type": "code",
      "metadata": {
        "id": "hkhaAaFz7vKI",
        "colab": {
          "base_uri": "https://localhost:8080/"
        },
        "outputId": "eed433a3-da6b-4803-da4d-abb9f553bf09"
      },
      "source": [
        "cd /content/drive/MyDrive/Colab Notebooks/Dataset"
      ],
      "execution_count": null,
      "outputs": [
        {
          "output_type": "stream",
          "text": [
            "/content/drive/MyDrive/Colab Notebooks/Dataset\n"
          ],
          "name": "stdout"
        }
      ]
    },
    {
      "cell_type": "code",
      "metadata": {
        "id": "tpJQN_06-Mcz",
        "colab": {
          "base_uri": "https://localhost:8080/"
        },
        "outputId": "25490d46-51b3-4415-c057-dc542b4aabe0"
      },
      "source": [
        "ls"
      ],
      "execution_count": null,
      "outputs": [
        {
          "output_type": "stream",
          "text": [
            "IntelImageClassificationDataset.zip  \u001b[0m\u001b[01;34mseg_pred\u001b[0m/  \u001b[01;34mseg_test\u001b[0m/  \u001b[01;34mseg_train\u001b[0m/\n"
          ],
          "name": "stdout"
        }
      ]
    },
    {
      "cell_type": "code",
      "metadata": {
        "id": "QPkRRbWl-Sg7"
      },
      "source": [
        "#!unzip IntelImageClassificationDataset.zip"
      ],
      "execution_count": null,
      "outputs": []
    },
    {
      "cell_type": "code",
      "metadata": {
        "id": "sH6gLjHu_aNH",
        "colab": {
          "base_uri": "https://localhost:8080/"
        },
        "outputId": "0489498c-f65f-43a0-fb4c-bf9c2fc2e3eb"
      },
      "source": [
        "ls"
      ],
      "execution_count": null,
      "outputs": [
        {
          "output_type": "stream",
          "text": [
            "IntelImageClassificationDataset.zip  \u001b[0m\u001b[01;34mseg_pred\u001b[0m/  \u001b[01;34mseg_test\u001b[0m/  \u001b[01;34mseg_train\u001b[0m/\n"
          ],
          "name": "stdout"
        }
      ]
    },
    {
      "cell_type": "code",
      "metadata": {
        "id": "hBvfv-VnA2KW",
        "colab": {
          "base_uri": "https://localhost:8080/"
        },
        "outputId": "af13ca07-840e-4762-d63e-0b5afd581ea5"
      },
      "source": [
        "cd seg_train"
      ],
      "execution_count": null,
      "outputs": [
        {
          "output_type": "stream",
          "text": [
            "/content/drive/MyDrive/Colab Notebooks/Dataset/seg_train\n"
          ],
          "name": "stdout"
        }
      ]
    },
    {
      "cell_type": "code",
      "metadata": {
        "id": "Uq8ijwGqA41j",
        "colab": {
          "base_uri": "https://localhost:8080/"
        },
        "outputId": "35abf58e-ce2a-43a2-b125-1a12b969ca44"
      },
      "source": [
        "cd .."
      ],
      "execution_count": null,
      "outputs": [
        {
          "output_type": "stream",
          "text": [
            "/content/drive/MyDrive/Colab Notebooks/Dataset\n"
          ],
          "name": "stdout"
        }
      ]
    },
    {
      "cell_type": "code",
      "metadata": {
        "id": "A1Bnbr1AA5zZ"
      },
      "source": [
        "#writing image data generator\r\n",
        "import tensorflow.keras as Keras\r\n",
        "from tensorflow.keras.preprocessing.image import ImageDataGenerator"
      ],
      "execution_count": null,
      "outputs": []
    },
    {
      "cell_type": "code",
      "metadata": {
        "id": "SxacnbLyXVRt",
        "colab": {
          "base_uri": "https://localhost:8080/",
          "height": 120
        },
        "outputId": "54edafa0-5cb1-4349-d863-ecd86f59e37a"
      },
      "source": [
        "#Calculating mean and standard deviation of training and validation dataset.\r\n",
        "#source : https://gist.github.com/jdhao/9a86d4b9e4f79c5330d54de991461fd6\r\n",
        "\"\"\"\r\n",
        "in this script, we calculate the image per channel mean and standard\r\n",
        "deviation in the training set, do not calculate the statistics on the\r\n",
        "whole dataset, as per here http://cs231n.github.io/neural-networks-2/#datapre\r\n",
        "\"\"\"\r\n",
        "\r\n",
        "'''import numpy as np\r\n",
        "from os import listdir\r\n",
        "from os.path import join, isdir\r\n",
        "from glob import glob\r\n",
        "import cv2\r\n",
        "import timeit\r\n",
        "\r\n",
        "# number of channels of the dataset image, 3 for color jpg, 1 for grayscale img\r\n",
        "# you need to change it to reflect your dataset\r\n",
        "CHANNEL_NUM = 3\r\n",
        "\r\n",
        "\r\n",
        "def cal_dir_stat(root):\r\n",
        "    cls_dirs = [d for d in listdir(root) if isdir(join(root, d))]\r\n",
        "    pixel_num = 0 # store all pixel number in the dataset\r\n",
        "    channel_sum = np.zeros(CHANNEL_NUM)\r\n",
        "    channel_sum_squared = np.zeros(CHANNEL_NUM)\r\n",
        "\r\n",
        "    for idx, d in enumerate(cls_dirs):\r\n",
        "        print(\"#{} class\".format(idx))\r\n",
        "        im_pths = glob(join(root, d, \"*.jpg\"))\r\n",
        "\r\n",
        "        for path in im_pths:\r\n",
        "            im = cv2.imread(path) # image in M*N*CHANNEL_NUM shape, channel in BGR order\r\n",
        "            im = im/255.0\r\n",
        "            pixel_num += (im.size/CHANNEL_NUM)\r\n",
        "            channel_sum += np.sum(im, axis=(0, 1))\r\n",
        "            channel_sum_squared += np.sum(np.square(im), axis=(0, 1))\r\n",
        "\r\n",
        "    bgr_mean = channel_sum / pixel_num\r\n",
        "    bgr_std = np.sqrt(channel_sum_squared / pixel_num - np.square(bgr_mean))\r\n",
        "    \r\n",
        "    # change the format from bgr to rgb\r\n",
        "    rgb_mean = list(bgr_mean)[::-1]\r\n",
        "    rgb_std = list(bgr_std)[::-1]\r\n",
        "    \r\n",
        "    return rgb_mean, rgb_std\r\n",
        "\r\n",
        "# The script assumes that under train_root, there are separate directories for each class\r\n",
        "# of training images.\r\n",
        "train_root = \"/content/drive/MyDrive/Colab Notebooks/Dataset/seg_train/seg_train/\"\r\n",
        "val_root = \"/content/drive/MyDrive/Colab Notebooks/Dataset/seg_test/seg_test/\"\r\n",
        "start = timeit.default_timer()\r\n",
        "Trainmean, Trainstd = cal_dir_stat(train_root)\r\n",
        "Valmean, Valstd = cal_dir_stat(val_root)\r\n",
        "end = timeit.default_timer()\r\n",
        "print(\"elapsed time: {}\".format(end-start))\r\n",
        "print(\"Train mean:{}\\n Train std:{}\".format(Trainmean, Trainstd))\r\n",
        "print(\"Val mean:{}\\n Val std:{}\".format(Valmean, Valstd))'''\r\n"
      ],
      "execution_count": null,
      "outputs": [
        {
          "output_type": "execute_result",
          "data": {
            "application/vnd.google.colaboratory.intrinsic+json": {
              "type": "string"
            },
            "text/plain": [
              "'import numpy as np\\nfrom os import listdir\\nfrom os.path import join, isdir\\nfrom glob import glob\\nimport cv2\\nimport timeit\\n\\n# number of channels of the dataset image, 3 for color jpg, 1 for grayscale img\\n# you need to change it to reflect your dataset\\nCHANNEL_NUM = 3\\n\\n\\ndef cal_dir_stat(root):\\n    cls_dirs = [d for d in listdir(root) if isdir(join(root, d))]\\n    pixel_num = 0 # store all pixel number in the dataset\\n    channel_sum = np.zeros(CHANNEL_NUM)\\n    channel_sum_squared = np.zeros(CHANNEL_NUM)\\n\\n    for idx, d in enumerate(cls_dirs):\\n        print(\"#{} class\".format(idx))\\n        im_pths = glob(join(root, d, \"*.jpg\"))\\n\\n        for path in im_pths:\\n            im = cv2.imread(path) # image in M*N*CHANNEL_NUM shape, channel in BGR order\\n            im = im/255.0\\n            pixel_num += (im.size/CHANNEL_NUM)\\n            channel_sum += np.sum(im, axis=(0, 1))\\n            channel_sum_squared += np.sum(np.square(im), axis=(0, 1))\\n\\n    bgr_mean = channel_sum / pixel_num\\n    bgr_std = np.sqrt(channel_sum_squared / pixel_num - np.square(bgr_mean))\\n    \\n    # change the format from bgr to rgb\\n    rgb_mean = list(bgr_mean)[::-1]\\n    rgb_std = list(bgr_std)[::-1]\\n    \\n    return rgb_mean, rgb_std\\n\\n# The script assumes that under train_root, there are separate directories for each class\\n# of training images.\\ntrain_root = \"/content/drive/MyDrive/Colab Notebooks/Dataset/seg_train/seg_train/\"\\nval_root = \"/content/drive/MyDrive/Colab Notebooks/Dataset/seg_test/seg_test/\"\\nstart = timeit.default_timer()\\nTrainmean, Trainstd = cal_dir_stat(train_root)\\nValmean, Valstd = cal_dir_stat(val_root)\\nend = timeit.default_timer()\\nprint(\"elapsed time: {}\".format(end-start))\\nprint(\"Train mean:{}\\n Train std:{}\".format(Trainmean, Trainstd))\\nprint(\"Val mean:{}\\n Val std:{}\".format(Valmean, Valstd))'"
            ]
          },
          "metadata": {
            "tags": []
          },
          "execution_count": 11
        }
      ]
    },
    {
      "cell_type": "code",
      "metadata": {
        "id": "Snzes_YYD_pJ"
      },
      "source": [
        "#creating data generators for train, val and test\r\n",
        "import numpy as np\r\n",
        "train_datagen = ImageDataGenerator(rescale=1./255,\r\n",
        "        shear_range=0.2,\r\n",
        "        zoom_range=0.2,\r\n",
        "        horizontal_flip=True,vertical_flip= True, fill_mode='nearest',rotation_range=0.2,featurewise_center=True, featurewise_std_normalization=False)\r\n",
        "#Setting mean and standard deviation\r\n",
        "train_datagen.mean = np.array([0.43018190132518175, 0.45747632361586804, 0.4538292985249612], dtype=np.float32).reshape((1,1,3)) # ordering: [R, G, B]\r\n",
        "train_datagen.std = 0.26\r\n",
        "#use featurewise_center' and 'featurewise_std_normalization' to add mean and std. deviation of the dataset\r\n",
        "val_datagen = ImageDataGenerator(rescale = 1./255, shear_range=0.2, zoom_range=0.2, horizontal_flip=True, vertical_flip=True,  rotation_range=0.2,featurewise_center=True, featurewise_std_normalization=True )\r\n",
        "#test data generator is intentionally just normalised.\r\n",
        "val_datagen.mean = np.array([0.43315370896247557, 0.45847832080020573, 0.4551063209217124], dtype=np.float32).reshape((1,1,3)) # ordering: [R, G, B]\r\n",
        "val_datagen.std = 0.26\r\n",
        "test_datagen = ImageDataGenerator(rescale= 1./255)"
      ],
      "execution_count": null,
      "outputs": []
    },
    {
      "cell_type": "code",
      "metadata": {
        "id": "GdhYCAU-Gbv_",
        "colab": {
          "base_uri": "https://localhost:8080/"
        },
        "outputId": "f01a72a1-d232-49c5-d3ca-1e6ccdadafc2"
      },
      "source": [
        "#generating images on the go\r\n",
        "#mentioning train and val directories\r\n",
        "TrainDir = '/content/drive/MyDrive/Colab Notebooks/Dataset/seg_train/seg_train/'\r\n",
        "ValDir = '/content/drive/MyDrive/Colab Notebooks/Dataset/seg_test/seg_test/'\r\n",
        "#Dataset\r\n",
        "train_samples = train_datagen.flow_from_directory(TrainDir, target_size=(224,224),class_mode='categorical',batch_size=32, shuffle=True, interpolation='nearest')\r\n",
        "val_samples = val_datagen.flow_from_directory(ValDir, target_size=(224,224),class_mode='categorical',batch_size=8, shuffle=True, interpolation='nearest')"
      ],
      "execution_count": null,
      "outputs": [
        {
          "output_type": "stream",
          "text": [
            "Found 14034 images belonging to 6 classes.\n",
            "Found 3000 images belonging to 6 classes.\n"
          ],
          "name": "stdout"
        }
      ]
    },
    {
      "cell_type": "code",
      "metadata": {
        "id": "k96id0maKB_j"
      },
      "source": [
        "#importing modules for keras model\r\n",
        "from tensorflow import keras \r\n",
        "from tensorflow.keras.layers import Conv2D, MaxPool2D, ZeroPadding2D, BatchNormalization,Dense,Flatten\r\n",
        "from tensorflow.keras.optimizers import SGD,Adam,Adagrad\r\n",
        "from tensorflow.keras.models import Sequential"
      ],
      "execution_count": null,
      "outputs": []
    },
    {
      "cell_type": "code",
      "metadata": {
        "id": "mWuqM5NtMBfh"
      },
      "source": [
        "#function to print output dimension of a max-pool or convolutional neural network given the following Input parameters.\r\n",
        "'''\r\n",
        "1. Kernel/Filter size (F) \r\n",
        "2. Padding size(p)\r\n",
        "3. Input dimension(n)\r\n",
        "4. Stride(s)\r\n",
        "'''\r\n",
        "import math\r\n",
        "def Calc_OutDimension(n,f,p,s):\r\n",
        "  print(n)\r\n",
        "  out_dim = math.floor((n-f+2*p)/s)+1\r\n",
        "  return int(out_dim)"
      ],
      "execution_count": null,
      "outputs": []
    },
    {
      "cell_type": "markdown",
      "metadata": {
        "id": "D3YdzAZFJ45k"
      },
      "source": [
        "Network Architecture : VGG Net Original"
      ]
    },
    {
      "cell_type": "code",
      "metadata": {
        "id": "YoNSybjlJ890"
      },
      "source": [
        "VGGNet = Sequential()\r\n",
        "#Note: Optional:: Use padding as 'same' or ZeroPadding2D with padding =1\r\n",
        "#2 Convolutions\r\n",
        "VGGNet.add(Conv2D(64,kernel_size=(3,3),padding='same',strides=(1,1),kernel_initializer='normal', activation='relu', input_shape = (224,224,3)))\r\n",
        "VGGNet.add(BatchNormalization())\r\n",
        "VGGNet.add(ZeroPadding2D(padding=(1,1)))\r\n",
        "VGGNet.add(Conv2D(64,kernel_size=(3,3),padding='valid',strides=(1,1),kernel_initializer='normal', activation='relu'))\r\n",
        "VGGNet.add(BatchNormalization())\r\n",
        "#1 Max pool\r\n",
        "VGGNet.add(MaxPool2D(pool_size=(2,2),strides=(2,2)))\r\n",
        "#2 convolutions\r\n",
        "VGGNet.add(ZeroPadding2D(padding=(1,1)))\r\n",
        "VGGNet.add(Conv2D(128,kernel_size=(3,3),padding='valid',strides=(1,1),kernel_initializer='normal', activation='relu'))\r\n",
        "VGGNet.add(BatchNormalization())\r\n",
        "VGGNet.add(ZeroPadding2D(padding=(1,1)))\r\n",
        "VGGNet.add(Conv2D(128,kernel_size=(3,3),padding='valid',strides=(1,1),kernel_initializer='normal', activation='relu'))\r\n",
        "VGGNet.add(BatchNormalization())\r\n",
        "# 1 Max pool\r\n",
        "VGGNet.add(MaxPool2D(pool_size=(2,2),strides=(2,2)))\r\n",
        "# 3 convolutions\r\n",
        "VGGNet.add(ZeroPadding2D(padding=(1,1)))\r\n",
        "VGGNet.add(Conv2D(256,kernel_size=(3,3),padding='valid',strides=(1,1),kernel_initializer='normal', activation='relu'))\r\n",
        "VGGNet.add(BatchNormalization())\r\n",
        "VGGNet.add(ZeroPadding2D(padding=(1,1)))\r\n",
        "VGGNet.add(Conv2D(256,kernel_size=(3,3),padding='valid',strides=(1,1),kernel_initializer='normal', activation='relu'))\r\n",
        "VGGNet.add(BatchNormalization())\r\n",
        "VGGNet.add(ZeroPadding2D(padding=(1,1)))\r\n",
        "VGGNet.add(Conv2D(256,kernel_size=(3,3),padding='valid',strides=(1,1),kernel_initializer='normal', activation='relu'))\r\n",
        "VGGNet.add(BatchNormalization())\r\n",
        "# 1 Max pool\r\n",
        "VGGNet.add(MaxPool2D(pool_size=(2,2),strides=(2,2)))\r\n",
        "# 3 Convolution\r\n",
        "VGGNet.add(ZeroPadding2D(padding=(1,1)))\r\n",
        "VGGNet.add(Conv2D(512,kernel_size=(3,3),padding='valid',strides=(1,1),kernel_initializer='normal', activation='relu'))\r\n",
        "VGGNet.add(BatchNormalization())\r\n",
        "VGGNet.add(ZeroPadding2D(padding=(1,1)))\r\n",
        "VGGNet.add(Conv2D(512,kernel_size=(3,3),padding='valid',strides=(1,1),kernel_initializer='normal', activation='relu'))\r\n",
        "VGGNet.add(BatchNormalization())\r\n",
        "VGGNet.add(ZeroPadding2D(padding=(1,1)))\r\n",
        "VGGNet.add(Conv2D(512,kernel_size=(3,3),padding='valid',strides=(1,1),kernel_initializer='normal', activation='relu'))\r\n",
        "VGGNet.add(BatchNormalization())\r\n",
        "#1 Max pool\r\n",
        "VGGNet.add(MaxPool2D(pool_size=(2,2),strides=(2,2)))\r\n",
        "# 3 Convolution\r\n",
        "VGGNet.add(ZeroPadding2D(padding=(1,1)))\r\n",
        "VGGNet.add(Conv2D(512,kernel_size=(3,3),padding='valid',strides=(1,1),kernel_initializer='normal', activation='relu'))\r\n",
        "VGGNet.add(BatchNormalization())\r\n",
        "VGGNet.add(ZeroPadding2D(padding=(1,1)))\r\n",
        "VGGNet.add(Conv2D(512,kernel_size=(3,3),padding='valid',strides=(1,1),kernel_initializer='normal', activation='relu'))\r\n",
        "VGGNet.add(BatchNormalization())\r\n",
        "VGGNet.add(ZeroPadding2D(padding=(1,1)))\r\n",
        "VGGNet.add(Conv2D(512,kernel_size=(3,3),padding='valid',strides=(1,1),kernel_initializer='normal', activation='relu'))\r\n",
        "VGGNet.add(BatchNormalization())\r\n",
        "#1 Max pool\r\n",
        "VGGNet.add(MaxPool2D(pool_size=(2,2),strides=(2,2)))\r\n",
        "#Flatten\r\n",
        "VGGNet.add(Flatten())\r\n",
        "#2 Fully connected: 4096 neurons\r\n",
        "VGGNet.add(Dense(4096))\r\n",
        "VGGNet.add(Dense(4096))\r\n",
        "#1 Fully connected: 1000 neurons\r\n",
        "VGGNet.add(Dense(1000))\r\n",
        "#6 classes\r\n",
        "VGGNet.add(Dense(6,  activation='softmax'))\r\n",
        "\r\n"
      ],
      "execution_count": null,
      "outputs": []
    },
    {
      "cell_type": "code",
      "metadata": {
        "id": "d7s98hr0LlzP",
        "colab": {
          "base_uri": "https://localhost:8080/"
        },
        "outputId": "f5363c68-efb7-42e0-f8a4-47069a32ca9e"
      },
      "source": [
        "VGGNet.summary()"
      ],
      "execution_count": null,
      "outputs": [
        {
          "output_type": "stream",
          "text": [
            "Model: \"sequential\"\n",
            "_________________________________________________________________\n",
            "Layer (type)                 Output Shape              Param #   \n",
            "=================================================================\n",
            "conv2d (Conv2D)              (None, 224, 224, 64)      1792      \n",
            "_________________________________________________________________\n",
            "batch_normalization (BatchNo (None, 224, 224, 64)      256       \n",
            "_________________________________________________________________\n",
            "zero_padding2d (ZeroPadding2 (None, 226, 226, 64)      0         \n",
            "_________________________________________________________________\n",
            "conv2d_1 (Conv2D)            (None, 224, 224, 64)      36928     \n",
            "_________________________________________________________________\n",
            "batch_normalization_1 (Batch (None, 224, 224, 64)      256       \n",
            "_________________________________________________________________\n",
            "max_pooling2d (MaxPooling2D) (None, 112, 112, 64)      0         \n",
            "_________________________________________________________________\n",
            "zero_padding2d_1 (ZeroPaddin (None, 114, 114, 64)      0         \n",
            "_________________________________________________________________\n",
            "conv2d_2 (Conv2D)            (None, 112, 112, 128)     73856     \n",
            "_________________________________________________________________\n",
            "batch_normalization_2 (Batch (None, 112, 112, 128)     512       \n",
            "_________________________________________________________________\n",
            "zero_padding2d_2 (ZeroPaddin (None, 114, 114, 128)     0         \n",
            "_________________________________________________________________\n",
            "conv2d_3 (Conv2D)            (None, 112, 112, 128)     147584    \n",
            "_________________________________________________________________\n",
            "batch_normalization_3 (Batch (None, 112, 112, 128)     512       \n",
            "_________________________________________________________________\n",
            "max_pooling2d_1 (MaxPooling2 (None, 56, 56, 128)       0         \n",
            "_________________________________________________________________\n",
            "zero_padding2d_3 (ZeroPaddin (None, 58, 58, 128)       0         \n",
            "_________________________________________________________________\n",
            "conv2d_4 (Conv2D)            (None, 56, 56, 256)       295168    \n",
            "_________________________________________________________________\n",
            "batch_normalization_4 (Batch (None, 56, 56, 256)       1024      \n",
            "_________________________________________________________________\n",
            "zero_padding2d_4 (ZeroPaddin (None, 58, 58, 256)       0         \n",
            "_________________________________________________________________\n",
            "conv2d_5 (Conv2D)            (None, 56, 56, 256)       590080    \n",
            "_________________________________________________________________\n",
            "batch_normalization_5 (Batch (None, 56, 56, 256)       1024      \n",
            "_________________________________________________________________\n",
            "zero_padding2d_5 (ZeroPaddin (None, 58, 58, 256)       0         \n",
            "_________________________________________________________________\n",
            "conv2d_6 (Conv2D)            (None, 56, 56, 256)       590080    \n",
            "_________________________________________________________________\n",
            "batch_normalization_6 (Batch (None, 56, 56, 256)       1024      \n",
            "_________________________________________________________________\n",
            "max_pooling2d_2 (MaxPooling2 (None, 28, 28, 256)       0         \n",
            "_________________________________________________________________\n",
            "zero_padding2d_6 (ZeroPaddin (None, 30, 30, 256)       0         \n",
            "_________________________________________________________________\n",
            "conv2d_7 (Conv2D)            (None, 28, 28, 512)       1180160   \n",
            "_________________________________________________________________\n",
            "batch_normalization_7 (Batch (None, 28, 28, 512)       2048      \n",
            "_________________________________________________________________\n",
            "zero_padding2d_7 (ZeroPaddin (None, 30, 30, 512)       0         \n",
            "_________________________________________________________________\n",
            "conv2d_8 (Conv2D)            (None, 28, 28, 512)       2359808   \n",
            "_________________________________________________________________\n",
            "batch_normalization_8 (Batch (None, 28, 28, 512)       2048      \n",
            "_________________________________________________________________\n",
            "zero_padding2d_8 (ZeroPaddin (None, 30, 30, 512)       0         \n",
            "_________________________________________________________________\n",
            "conv2d_9 (Conv2D)            (None, 28, 28, 512)       2359808   \n",
            "_________________________________________________________________\n",
            "batch_normalization_9 (Batch (None, 28, 28, 512)       2048      \n",
            "_________________________________________________________________\n",
            "max_pooling2d_3 (MaxPooling2 (None, 14, 14, 512)       0         \n",
            "_________________________________________________________________\n",
            "zero_padding2d_9 (ZeroPaddin (None, 16, 16, 512)       0         \n",
            "_________________________________________________________________\n",
            "conv2d_10 (Conv2D)           (None, 14, 14, 512)       2359808   \n",
            "_________________________________________________________________\n",
            "batch_normalization_10 (Batc (None, 14, 14, 512)       2048      \n",
            "_________________________________________________________________\n",
            "zero_padding2d_10 (ZeroPaddi (None, 16, 16, 512)       0         \n",
            "_________________________________________________________________\n",
            "conv2d_11 (Conv2D)           (None, 14, 14, 512)       2359808   \n",
            "_________________________________________________________________\n",
            "batch_normalization_11 (Batc (None, 14, 14, 512)       2048      \n",
            "_________________________________________________________________\n",
            "zero_padding2d_11 (ZeroPaddi (None, 16, 16, 512)       0         \n",
            "_________________________________________________________________\n",
            "conv2d_12 (Conv2D)           (None, 14, 14, 512)       2359808   \n",
            "_________________________________________________________________\n",
            "batch_normalization_12 (Batc (None, 14, 14, 512)       2048      \n",
            "_________________________________________________________________\n",
            "max_pooling2d_4 (MaxPooling2 (None, 7, 7, 512)         0         \n",
            "_________________________________________________________________\n",
            "flatten (Flatten)            (None, 25088)             0         \n",
            "_________________________________________________________________\n",
            "dense (Dense)                (None, 4096)              102764544 \n",
            "_________________________________________________________________\n",
            "dense_1 (Dense)              (None, 4096)              16781312  \n",
            "_________________________________________________________________\n",
            "dense_2 (Dense)              (None, 1000)              4097000   \n",
            "_________________________________________________________________\n",
            "dense_3 (Dense)              (None, 6)                 6006      \n",
            "=================================================================\n",
            "Total params: 138,380,446\n",
            "Trainable params: 138,371,998\n",
            "Non-trainable params: 8,448\n",
            "_________________________________________________________________\n"
          ],
          "name": "stdout"
        }
      ]
    },
    {
      "cell_type": "code",
      "metadata": {
        "id": "90n129higGHR",
        "colab": {
          "base_uri": "https://localhost:8080/"
        },
        "outputId": "eda29d42-764c-46fd-b4af-3f1822882449"
      },
      "source": [
        "#compiling the model with optimizer and loss functio\r\n",
        "opt  = Adam()\r\n",
        "VGGNet.compile(optimizer= opt, loss='categorical_crossentropy', metrics=keras.metrics.CategoricalAccuracy())\r\n",
        "\r\n",
        "#Fit the model with train and val generators\r\n",
        "print(\"Training Started\")\r\n",
        "history = VGGNet.fit_generator(train_samples, steps_per_epoch=100, epochs=10, verbose=1, callbacks=None, validation_data=val_samples, validation_steps=2, validation_freq=1, class_weight=None, max_queue_size=10, workers=12, use_multiprocessing=True, shuffle=True, initial_epoch=0)"
      ],
      "execution_count": null,
      "outputs": [
        {
          "output_type": "stream",
          "text": [
            "Training Started\n"
          ],
          "name": "stdout"
        },
        {
          "output_type": "stream",
          "text": [
            "/usr/local/lib/python3.6/dist-packages/tensorflow/python/keras/engine/training.py:1844: UserWarning: `Model.fit_generator` is deprecated and will be removed in a future version. Please use `Model.fit`, which supports generators.\n",
            "  warnings.warn('`Model.fit_generator` is deprecated and '\n"
          ],
          "name": "stderr"
        },
        {
          "output_type": "stream",
          "text": [
            "Epoch 1/10\n",
            "WARNING:tensorflow:multiprocessing can interact badly with TensorFlow, causing nondeterministic deadlocks. For high performance data pipelines tf.data is recommended.\n",
            "100/100 [==============================] - ETA: 0s - loss: 108.5555 - categorical_accuracy: 0.2686WARNING:tensorflow:multiprocessing can interact badly with TensorFlow, causing nondeterministic deadlocks. For high performance data pipelines tf.data is recommended.\n",
            "100/100 [==============================] - 63s 565ms/step - loss: 108.1999 - categorical_accuracy: 0.2684 - val_loss: 781.4709 - val_categorical_accuracy: 0.3125\n",
            "Epoch 2/10\n",
            "WARNING:tensorflow:multiprocessing can interact badly with TensorFlow, causing nondeterministic deadlocks. For high performance data pipelines tf.data is recommended.\n",
            "100/100 [==============================] - ETA: 0s - loss: 5.5927 - categorical_accuracy: 0.3031WARNING:tensorflow:multiprocessing can interact badly with TensorFlow, causing nondeterministic deadlocks. For high performance data pipelines tf.data is recommended.\n",
            "100/100 [==============================] - 62s 567ms/step - loss: 5.5784 - categorical_accuracy: 0.3033 - val_loss: 84.3613 - val_categorical_accuracy: 0.3750\n",
            "Epoch 3/10\n",
            "WARNING:tensorflow:multiprocessing can interact badly with TensorFlow, causing nondeterministic deadlocks. For high performance data pipelines tf.data is recommended.\n",
            "100/100 [==============================] - ETA: 0s - loss: 2.2944 - categorical_accuracy: 0.3533WARNING:tensorflow:multiprocessing can interact badly with TensorFlow, causing nondeterministic deadlocks. For high performance data pipelines tf.data is recommended.\n",
            "100/100 [==============================] - 61s 563ms/step - loss: 2.2910 - categorical_accuracy: 0.3535 - val_loss: 17.2346 - val_categorical_accuracy: 0.0625\n",
            "Epoch 4/10\n",
            "WARNING:tensorflow:multiprocessing can interact badly with TensorFlow, causing nondeterministic deadlocks. For high performance data pipelines tf.data is recommended.\n",
            "100/100 [==============================] - ETA: 0s - loss: 1.8218 - categorical_accuracy: 0.4100WARNING:tensorflow:multiprocessing can interact badly with TensorFlow, causing nondeterministic deadlocks. For high performance data pipelines tf.data is recommended.\n",
            "100/100 [==============================] - 61s 555ms/step - loss: 1.8201 - categorical_accuracy: 0.4101 - val_loss: 32.6153 - val_categorical_accuracy: 0.1250\n",
            "Epoch 5/10\n",
            "WARNING:tensorflow:multiprocessing can interact badly with TensorFlow, causing nondeterministic deadlocks. For high performance data pipelines tf.data is recommended.\n",
            "100/100 [==============================] - ETA: 0s - loss: 1.5292 - categorical_accuracy: 0.4448WARNING:tensorflow:multiprocessing can interact badly with TensorFlow, causing nondeterministic deadlocks. For high performance data pipelines tf.data is recommended.\n",
            "100/100 [==============================] - 61s 554ms/step - loss: 1.5285 - categorical_accuracy: 0.4449 - val_loss: 34.8136 - val_categorical_accuracy: 0.3125\n",
            "Epoch 6/10\n",
            "WARNING:tensorflow:multiprocessing can interact badly with TensorFlow, causing nondeterministic deadlocks. For high performance data pipelines tf.data is recommended.\n",
            "100/100 [==============================] - ETA: 0s - loss: 1.4445 - categorical_accuracy: 0.4583WARNING:tensorflow:multiprocessing can interact badly with TensorFlow, causing nondeterministic deadlocks. For high performance data pipelines tf.data is recommended.\n",
            "100/100 [==============================] - 62s 562ms/step - loss: 1.4442 - categorical_accuracy: 0.4584 - val_loss: 19.4959 - val_categorical_accuracy: 0.2500\n",
            "Epoch 7/10\n",
            "WARNING:tensorflow:multiprocessing can interact badly with TensorFlow, causing nondeterministic deadlocks. For high performance data pipelines tf.data is recommended.\n",
            "100/100 [==============================] - ETA: 0s - loss: 1.2928 - categorical_accuracy: 0.4833WARNING:tensorflow:multiprocessing can interact badly with TensorFlow, causing nondeterministic deadlocks. For high performance data pipelines tf.data is recommended.\n",
            "100/100 [==============================] - 61s 554ms/step - loss: 1.2924 - categorical_accuracy: 0.4835 - val_loss: 12.6158 - val_categorical_accuracy: 0.2500\n",
            "Epoch 8/10\n",
            "WARNING:tensorflow:multiprocessing can interact badly with TensorFlow, causing nondeterministic deadlocks. For high performance data pipelines tf.data is recommended.\n",
            "100/100 [==============================] - ETA: 0s - loss: 1.2814 - categorical_accuracy: 0.5224WARNING:tensorflow:multiprocessing can interact badly with TensorFlow, causing nondeterministic deadlocks. For high performance data pipelines tf.data is recommended.\n",
            "100/100 [==============================] - 61s 559ms/step - loss: 1.2813 - categorical_accuracy: 0.5225 - val_loss: 7.5747 - val_categorical_accuracy: 0.1875\n",
            "Epoch 9/10\n",
            "WARNING:tensorflow:multiprocessing can interact badly with TensorFlow, causing nondeterministic deadlocks. For high performance data pipelines tf.data is recommended.\n",
            "100/100 [==============================] - ETA: 0s - loss: 1.1779 - categorical_accuracy: 0.5418WARNING:tensorflow:multiprocessing can interact badly with TensorFlow, causing nondeterministic deadlocks. For high performance data pipelines tf.data is recommended.\n",
            "100/100 [==============================] - 62s 561ms/step - loss: 1.1779 - categorical_accuracy: 0.5417 - val_loss: 13.8818 - val_categorical_accuracy: 0.1875\n",
            "Epoch 10/10\n",
            "WARNING:tensorflow:multiprocessing can interact badly with TensorFlow, causing nondeterministic deadlocks. For high performance data pipelines tf.data is recommended.\n",
            "100/100 [==============================] - ETA: 0s - loss: 1.2129 - categorical_accuracy: 0.5455WARNING:tensorflow:multiprocessing can interact badly with TensorFlow, causing nondeterministic deadlocks. For high performance data pipelines tf.data is recommended.\n",
            "100/100 [==============================] - 61s 559ms/step - loss: 1.2133 - categorical_accuracy: 0.5453 - val_loss: 23.2663 - val_categorical_accuracy: 0.1250\n"
          ],
          "name": "stdout"
        }
      ]
    },
    {
      "cell_type": "code",
      "metadata": {
        "id": "ChdFqhcth0Zo",
        "colab": {
          "base_uri": "https://localhost:8080/"
        },
        "outputId": "1a733718-f060-49eb-ea0d-7bef9b7c303c"
      },
      "source": [
        "#printing all keys in this loss\r\n",
        "print(history.history.keys())\r\n"
      ],
      "execution_count": null,
      "outputs": [
        {
          "output_type": "stream",
          "text": [
            "dict_keys(['loss', 'categorical_accuracy', 'val_loss', 'val_categorical_accuracy'])\n"
          ],
          "name": "stdout"
        }
      ]
    },
    {
      "cell_type": "code",
      "metadata": {
        "id": "ehh4pIHPp5my"
      },
      "source": [
        "VGGNet.save('VGG16.h5')"
      ],
      "execution_count": null,
      "outputs": []
    },
    {
      "cell_type": "code",
      "metadata": {
        "colab": {
          "base_uri": "https://localhost:8080/",
          "height": 573
        },
        "id": "wFqXOpl8pgkZ",
        "outputId": "4f7391bd-737b-45a4-b67e-962591904120"
      },
      "source": [
        "import matplotlib.pyplot as plt\r\n",
        "plt.plot(history.history['categorical_accuracy'])\r\n",
        "plt.plot(history.history['val_categorical_accuracy'])\r\n",
        "plt.title('model accuracy')\r\n",
        "plt.ylabel('accuracy')\r\n",
        "plt.xlabel('epoch')\r\n",
        "plt.legend(['train', 'test'], loc='upper left')\r\n",
        "plt.show()\r\n",
        "# summarize history for loss\r\n",
        "plt.plot(history.history['loss'])\r\n",
        "plt.plot(history.history['val_loss'])\r\n",
        "plt.title('model loss')\r\n",
        "plt.ylabel('loss')\r\n",
        "plt.xlabel('epoch')\r\n",
        "plt.legend(['train', 'test'], loc='upper left')\r\n",
        "plt.show()"
      ],
      "execution_count": null,
      "outputs": [
        {
          "output_type": "display_data",
          "data": {
            "image/png": "[encoded data removed]",
            "text/plain": [
              "<Figure size 432x288 with 1 Axes>"
            ]
          },
          "metadata": {
            "tags": [],
            "needs_background": "light"
          }
        },
        {
          "output_type": "display_data",
          "data": {
            "image/png": "[encoded data removed]",
            "text/plain": [
              "<Figure size 432x288 with 1 Axes>"
            ]
          },
          "metadata": {
            "tags": [],
            "needs_background": "light"
          }
        }
      ]
    },
    {
      "cell_type": "markdown",
      "metadata": {
        "id": "G0hkknxBy9l8"
      },
      "source": [
        "# Convert the model to Tflite"
      ]
    },
    {
      "cell_type": "code",
      "metadata": {
        "colab": {
          "base_uri": "https://localhost:8080/"
        },
        "id": "cP3v8ze1y_-C",
        "outputId": "5d380838-3492-46e3-f605-762e13f7a46f"
      },
      "source": [
        "import tensorflow.compat.v1 as tf\r\n",
        "converter = tf.lite.TFLiteConverter.from_keras_model_file(\"TrainedModels/VGG16.h5\")\r\n",
        "tflite_model = converter.convert()\r\n",
        "open(\"TrainedModels/VGG16.tflite\", \"wb\").write(tflite_model)"
      ],
      "execution_count": null,
      "outputs": [
        {
          "output_type": "stream",
          "text": [
            "/usr/local/lib/python3.6/dist-packages/tensorflow/python/keras/backend.py:434: UserWarning: `tf.keras.backend.set_learning_phase` is deprecated and will be removed after 2020-10-11. To update it, simply pass a True/False value to the `training` argument of the `__call__` method of your layer or model.\n",
            "  warnings.warn('`tf.keras.backend.set_learning_phase` is deprecated and '\n"
          ],
          "name": "stderr"
        },
        {
          "output_type": "stream",
          "text": [
            "WARNING:tensorflow:From /usr/local/lib/python3.6/dist-packages/tensorflow/python/keras/initializers/initializers_v1.py:48: calling RandomNormal.__init__ (from tensorflow.python.ops.init_ops) with dtype is deprecated and will be removed in a future version.\n",
            "Instructions for updating:\n",
            "Call initializer instance with the dtype argument instead of passing it to the constructor\n",
            "WARNING:tensorflow:From /usr/local/lib/python3.6/dist-packages/tensorflow/lite/python/util.py:327: convert_variables_to_constants (from tensorflow.python.framework.graph_util_impl) is deprecated and will be removed in a future version.\n",
            "Instructions for updating:\n",
            "Use `tf.compat.v1.graph_util.convert_variables_to_constants`\n",
            "WARNING:tensorflow:From /usr/local/lib/python3.6/dist-packages/tensorflow/python/framework/convert_to_constants.py:856: extract_sub_graph (from tensorflow.python.framework.graph_util_impl) is deprecated and will be removed in a future version.\n",
            "Instructions for updating:\n",
            "Use `tf.compat.v1.graph_util.extract_sub_graph`\n",
            "INFO:tensorflow:Assets written to: /tmp/tmprzm9y9yg/assets\n",
            "WARNING:tensorflow:From /usr/local/lib/python3.6/dist-packages/tensorflow/lite/python/convert_saved_model.py:60: load (from tensorflow.python.saved_model.loader_impl) is deprecated and will be removed in a future version.\n",
            "Instructions for updating:\n",
            "This function will only be available through the v1 compatibility library as tf.compat.v1.saved_model.loader.load or tf.compat.v1.saved_model.load. There will be a new function for importing SavedModels in Tensorflow 2.0.\n",
            "INFO:tensorflow:Restoring parameters from /tmp/tmprzm9y9yg/variables/variables\n",
            "INFO:tensorflow:The given SavedModel MetaGraphDef contains SignatureDefs with the following keys: {'__saved_model_init_op', 'serving_default'}\n",
            "INFO:tensorflow:input tensors info: \n",
            "INFO:tensorflow:Tensor's key in saved_model's tensor_map: conv2d_input\n",
            "INFO:tensorflow: tensor name: serving_default_conv2d_input:0, shape: (-1, 224, 224, 3), type: DT_FLOAT\n",
            "INFO:tensorflow:output tensors info: \n",
            "INFO:tensorflow:Tensor's key in saved_model's tensor_map: dense_3\n",
            "INFO:tensorflow: tensor name: StatefulPartitionedCall:0, shape: (-1, 6), type: DT_FLOAT\n",
            "INFO:tensorflow:Restoring parameters from /tmp/tmprzm9y9yg/variables/variables\n"
          ],
          "name": "stdout"
        }
      ]
    },
    {
      "cell_type": "markdown",
      "metadata": {
        "id": "JsGGQIvo0SXL"
      },
      "source": [
        "# Training a VGG 16 using Transfer learning."
      ]
    },
    {
      "cell_type": "code",
      "metadata": {
        "id": "IkmqYpSfzLmt"
      },
      "source": [
        "from tensorflow.keras.layers import Input, Lambda, Dense, Flatten\r\n",
        "from keras.applications.vgg16 import VGG16\r\n",
        "from keras.applications.vgg16 import preprocess_input\r\n",
        "from keras.preprocessing import image\r\n",
        "from keras.preprocessing.image import ImageDataGenerator\r\n",
        "from keras.models import Sequential\r\n",
        "import numpy as np\r\n",
        "from glob import glob\r\n",
        "import matplotlib.pyplot as plt\r\n",
        "from keras.models import Sequential\r\n"
      ],
      "execution_count": null,
      "outputs": []
    },
    {
      "cell_type": "code",
      "metadata": {
        "id": "WpoY36Oq3_uG"
      },
      "source": [
        "TrainDir = '/content/drive/MyDrive/Colab Notebooks/Dataset/seg_train/seg_train/'\r\n",
        "ValDir = '/content/drive/MyDrive/Colab Notebooks/Dataset/seg_test/seg_test/'"
      ],
      "execution_count": null,
      "outputs": []
    },
    {
      "cell_type": "code",
      "metadata": {
        "colab": {
          "base_uri": "https://localhost:8080/"
        },
        "id": "rYfE_puZ4KYc",
        "outputId": "01b03ec6-78fd-4ba5-97fb-0ffe31c26fe1"
      },
      "source": [
        "#instantiating VGG16 model\r\n",
        "VGG_TL =  VGG16(input_shape=(224,224,3), weights='imagenet', include_top=False)\r\n"
      ],
      "execution_count": null,
      "outputs": [
        {
          "output_type": "stream",
          "text": [
            "Downloading data from https://storage.googleapis.com/tensorflow/keras-applications/vgg16/vgg16_weights_tf_dim_ordering_tf_kernels_notop.h5\n",
            "58892288/58889256 [==============================] - 1s 0us/step\n"
          ],
          "name": "stdout"
        }
      ]
    },
    {
      "cell_type": "code",
      "metadata": {
        "id": "c-xOCy1m4a8y"
      },
      "source": [
        "#Freezing all mid layers\r\n",
        "for frozen_layer in VGG_TL.layers:\r\n",
        "  frozen_layer.trainable = False"
      ],
      "execution_count": null,
      "outputs": []
    },
    {
      "cell_type": "code",
      "metadata": {
        "id": "gyDimLQT4rvJ"
      },
      "source": [
        "#find number of classes\r\n",
        "import os\r\n",
        "ClassLabels= os.listdir(TrainDir)"
      ],
      "execution_count": null,
      "outputs": []
    },
    {
      "cell_type": "code",
      "metadata": {
        "colab": {
          "base_uri": "https://localhost:8080/"
        },
        "id": "P-3-n6dn49kJ",
        "outputId": "b0c9716c-1ce8-4b16-ede5-a200f6b8ccf8"
      },
      "source": [
        "#printing the layers inside VGG model\r\n",
        "for layer in VGG_TL.layers:\r\n",
        "  print(layer)"
      ],
      "execution_count": null,
      "outputs": [
        {
          "output_type": "stream",
          "text": [
            "<tensorflow.python.keras.engine.input_layer.InputLayer object at 0x7f1eddb4bcc0>\n",
            "<tensorflow.python.keras.layers.convolutional.Conv2D object at 0x7f1f110a50f0>\n",
            "<tensorflow.python.keras.layers.convolutional.Conv2D object at 0x7f1ed74f33c8>\n",
            "<tensorflow.python.keras.layers.pooling.MaxPooling2D object at 0x7f1ede479eb8>\n",
            "<tensorflow.python.keras.layers.convolutional.Conv2D object at 0x7f1ede46a438>\n",
            "<tensorflow.python.keras.layers.convolutional.Conv2D object at 0x7f1ede464c18>\n",
            "<tensorflow.python.keras.layers.pooling.MaxPooling2D object at 0x7f1ede466748>\n",
            "<tensorflow.python.keras.layers.convolutional.Conv2D object at 0x7f1f10833400>\n",
            "<tensorflow.python.keras.layers.convolutional.Conv2D object at 0x7f1ed74f44a8>\n",
            "<tensorflow.python.keras.layers.convolutional.Conv2D object at 0x7f1ed73b33c8>\n",
            "<tensorflow.python.keras.layers.pooling.MaxPooling2D object at 0x7f1ede4680b8>\n",
            "<tensorflow.python.keras.layers.convolutional.Conv2D object at 0x7f1ede46a588>\n",
            "<tensorflow.python.keras.layers.convolutional.Conv2D object at 0x7f1ec036fc50>\n",
            "<tensorflow.python.keras.layers.convolutional.Conv2D object at 0x7f1ec037e358>\n",
            "<tensorflow.python.keras.layers.pooling.MaxPooling2D object at 0x7f1ec037e6a0>\n",
            "<tensorflow.python.keras.layers.convolutional.Conv2D object at 0x7f1ec036f198>\n",
            "<tensorflow.python.keras.layers.convolutional.Conv2D object at 0x7f1ec0386e48>\n",
            "<tensorflow.python.keras.layers.convolutional.Conv2D object at 0x7f1ec038bcf8>\n",
            "<tensorflow.python.keras.layers.pooling.MaxPooling2D object at 0x7f1ec03125f8>\n"
          ],
          "name": "stdout"
        }
      ]
    },
    {
      "cell_type": "code",
      "metadata": {
        "colab": {
          "base_uri": "https://localhost:8080/"
        },
        "id": "3NQXNlBp6t9P",
        "outputId": "1ee673ef-2eec-45c5-ad83-79814c38bc43"
      },
      "source": [
        "#output node\r\n",
        "VGG_TL.output"
      ],
      "execution_count": null,
      "outputs": [
        {
          "output_type": "execute_result",
          "data": {
            "text/plain": [
              "<KerasTensor: shape=(None, 7, 7, 512) dtype=float32 (created by layer 'block5_pool')>"
            ]
          },
          "metadata": {
            "tags": []
          },
          "execution_count": 15
        }
      ]
    },
    {
      "cell_type": "code",
      "metadata": {
        "colab": {
          "base_uri": "https://localhost:8080/"
        },
        "id": "AIscPcix6zFg",
        "outputId": "cc1979c7-ee87-401b-80bb-dd300bc57b03"
      },
      "source": [
        "#Flattening the layer\r\n",
        "VGG_Features = Flatten()(VGG_TL.output)\r\n",
        "print(VGG_Features)"
      ],
      "execution_count": null,
      "outputs": [
        {
          "output_type": "stream",
          "text": [
            "KerasTensor(type_spec=TensorSpec(shape=(None, 25088), dtype=tf.float32, name=None), name='flatten_1/Reshape:0', description=\"created by layer 'flatten_1'\")\n"
          ],
          "name": "stdout"
        }
      ]
    },
    {
      "cell_type": "code",
      "metadata": {
        "id": "ja-U2bxm68gO"
      },
      "source": [
        "from keras.models import Model\r\n",
        "#now creating the softmax node\r\n",
        "softmax_node = Dense(len(ClassLabels), activation='softmax')(VGG_Features)\r\n",
        "#creating a model object from keras.models\r\n",
        "TL_Model = Model(inputs= VGG_TL.input, outputs= softmax_node)"
      ],
      "execution_count": null,
      "outputs": []
    },
    {
      "cell_type": "code",
      "metadata": {
        "colab": {
          "base_uri": "https://localhost:8080/"
        },
        "id": "k3BDxcxp7mNo",
        "outputId": "42ce65f1-8021-4333-8e30-5584cf7c429c"
      },
      "source": [
        "#printing Model summary\r\n",
        "print(TL_Model.summary())"
      ],
      "execution_count": null,
      "outputs": [
        {
          "output_type": "stream",
          "text": [
            "Model: \"model\"\n",
            "_________________________________________________________________\n",
            "Layer (type)                 Output Shape              Param #   \n",
            "=================================================================\n",
            "input_1 (InputLayer)         [(None, 224, 224, 3)]     0         \n",
            "_________________________________________________________________\n",
            "block1_conv1 (Conv2D)        (None, 224, 224, 64)      1792      \n",
            "_________________________________________________________________\n",
            "block1_conv2 (Conv2D)        (None, 224, 224, 64)      36928     \n",
            "_________________________________________________________________\n",
            "block1_pool (MaxPooling2D)   (None, 112, 112, 64)      0         \n",
            "_________________________________________________________________\n",
            "block2_conv1 (Conv2D)        (None, 112, 112, 128)     73856     \n",
            "_________________________________________________________________\n",
            "block2_conv2 (Conv2D)        (None, 112, 112, 128)     147584    \n",
            "_________________________________________________________________\n",
            "block2_pool (MaxPooling2D)   (None, 56, 56, 128)       0         \n",
            "_________________________________________________________________\n",
            "block3_conv1 (Conv2D)        (None, 56, 56, 256)       295168    \n",
            "_________________________________________________________________\n",
            "block3_conv2 (Conv2D)        (None, 56, 56, 256)       590080    \n",
            "_________________________________________________________________\n",
            "block3_conv3 (Conv2D)        (None, 56, 56, 256)       590080    \n",
            "_________________________________________________________________\n",
            "block3_pool (MaxPooling2D)   (None, 28, 28, 256)       0         \n",
            "_________________________________________________________________\n",
            "block4_conv1 (Conv2D)        (None, 28, 28, 512)       1180160   \n",
            "_________________________________________________________________\n",
            "block4_conv2 (Conv2D)        (None, 28, 28, 512)       2359808   \n",
            "_________________________________________________________________\n",
            "block4_conv3 (Conv2D)        (None, 28, 28, 512)       2359808   \n",
            "_________________________________________________________________\n",
            "block4_pool (MaxPooling2D)   (None, 14, 14, 512)       0         \n",
            "_________________________________________________________________\n",
            "block5_conv1 (Conv2D)        (None, 14, 14, 512)       2359808   \n",
            "_________________________________________________________________\n",
            "block5_conv2 (Conv2D)        (None, 14, 14, 512)       2359808   \n",
            "_________________________________________________________________\n",
            "block5_conv3 (Conv2D)        (None, 14, 14, 512)       2359808   \n",
            "_________________________________________________________________\n",
            "block5_pool (MaxPooling2D)   (None, 7, 7, 512)         0         \n",
            "_________________________________________________________________\n",
            "flatten_1 (Flatten)          (None, 25088)             0         \n",
            "_________________________________________________________________\n",
            "dense_3 (Dense)              (None, 6)                 150534    \n",
            "=================================================================\n",
            "Total params: 14,865,222\n",
            "Trainable params: 150,534\n",
            "Non-trainable params: 14,714,688\n",
            "_________________________________________________________________\n",
            "None\n"
          ],
          "name": "stdout"
        }
      ]
    },
    {
      "cell_type": "code",
      "metadata": {
        "id": "t45aq9jA79as"
      },
      "source": [
        "#Defining optimizer and compiling\r\n",
        "TL_Model.compile(loss='categorical_crossentropy', optimizer='adam', metrics=['accuracy'])"
      ],
      "execution_count": null,
      "outputs": []
    },
    {
      "cell_type": "code",
      "metadata": {
        "id": "mduFg3768NXU"
      },
      "source": [
        "#configuring image data generator to generate image on the fly\r\n",
        "Train_Gen = ImageDataGenerator(rescale=1./255,shear_range=0.2, zoom_range=0.2, horizontal_flip=True)\r\n",
        "val_Gen = ImageDataGenerator(rescale=1./255)\r\n",
        "Test_Gen = ImageDataGenerator(rescale=1./255)\r\n"
      ],
      "execution_count": null,
      "outputs": []
    },
    {
      "cell_type": "code",
      "metadata": {
        "colab": {
          "base_uri": "https://localhost:8080/"
        },
        "id": "vWkDETsP8vtB",
        "outputId": "52999fe8-fa44-42ad-e588-47a84b7c0b89"
      },
      "source": [
        "#configuring flow from directory\r\n",
        "training_data = Train_Gen.flow_from_directory(TrainDir, target_size=(224,224), class_mode='categorical', batch_size=64)\r\n",
        "val_data = val_Gen.flow_from_directory(ValDir, target_size=(224,224), class_mode='categorical', batch_size=64)"
      ],
      "execution_count": null,
      "outputs": [
        {
          "output_type": "stream",
          "text": [
            "Found 14034 images belonging to 6 classes.\n",
            "Found 3000 images belonging to 6 classes.\n"
          ],
          "name": "stdout"
        }
      ]
    },
    {
      "cell_type": "code",
      "metadata": {
        "colab": {
          "base_uri": "https://localhost:8080/"
        },
        "id": "4fHeEFyV9N-I",
        "outputId": "01462791-2a9e-471e-eb4d-18f72f4000eb"
      },
      "source": [
        "print(\"Training started\")\r\n",
        "Logs = TL_Model.fit_generator(training_data,steps_per_epoch=len(training_data), epochs = 10, validation_data=  val_data,validation_steps= len(val_data), max_queue_size=10, workers=10, use_multiprocessing=True)"
      ],
      "execution_count": null,
      "outputs": [
        {
          "output_type": "stream",
          "text": [
            "Training started\n"
          ],
          "name": "stdout"
        },
        {
          "output_type": "stream",
          "text": [
            "/usr/local/lib/python3.6/dist-packages/tensorflow/python/keras/engine/training.py:1844: UserWarning: `Model.fit_generator` is deprecated and will be removed in a future version. Please use `Model.fit`, which supports generators.\n",
            "  warnings.warn('`Model.fit_generator` is deprecated and '\n"
          ],
          "name": "stderr"
        },
        {
          "output_type": "stream",
          "text": [
            "Epoch 1/10\n",
            "WARNING:tensorflow:multiprocessing can interact badly with TensorFlow, causing nondeterministic deadlocks. For high performance data pipelines tf.data is recommended.\n"
          ],
          "name": "stdout"
        },
        {
          "output_type": "stream",
          "text": [
            "WARNING:tensorflow:multiprocessing can interact badly with TensorFlow, causing nondeterministic deadlocks. For high performance data pipelines tf.data is recommended.\n"
          ],
          "name": "stderr"
        },
        {
          "output_type": "stream",
          "text": [
            "219/220 [============================>.] - ETA: 0s - loss: 0.3333 - accuracy: 0.8808WARNING:tensorflow:multiprocessing can interact badly with TensorFlow, causing nondeterministic deadlocks. For high performance data pipelines tf.data is recommended.\n"
          ],
          "name": "stdout"
        },
        {
          "output_type": "stream",
          "text": [
            "WARNING:tensorflow:multiprocessing can interact badly with TensorFlow, causing nondeterministic deadlocks. For high performance data pipelines tf.data is recommended.\n"
          ],
          "name": "stderr"
        },
        {
          "output_type": "stream",
          "text": [
            "\b\b\b\b\b\b\b\b\b\b\b\b\b\b\b\b\b\b\b\b\b\b\b\b\b\b\b\b\b\b\b\b\b\b\b\b\b\b\b\b\b\b\b\b\b\b\b\b\b\b\b\b\b\b\b\b\b\b\b\b\b\b\b\b\b\b\b\b\b\b\b\b\b\b\b\b\b\b\b\b\b\b\b\b\r220/220 [==============================] - ETA: 0s - loss: 0.3330 - accuracy: 0.8809WARNING:tensorflow:multiprocessing can interact badly with TensorFlow, causing nondeterministic deadlocks. For high performance data pipelines tf.data is recommended.\n"
          ],
          "name": "stdout"
        },
        {
          "output_type": "stream",
          "text": [
            "WARNING:tensorflow:multiprocessing can interact badly with TensorFlow, causing nondeterministic deadlocks. For high performance data pipelines tf.data is recommended.\n"
          ],
          "name": "stderr"
        },
        {
          "output_type": "stream",
          "text": [
            "WARNING:tensorflow:multiprocessing can interact badly with TensorFlow, causing nondeterministic deadlocks. For high performance data pipelines tf.data is recommended.\n"
          ],
          "name": "stdout"
        },
        {
          "output_type": "stream",
          "text": [
            "WARNING:tensorflow:multiprocessing can interact badly with TensorFlow, causing nondeterministic deadlocks. For high performance data pipelines tf.data is recommended.\n"
          ],
          "name": "stderr"
        },
        {
          "output_type": "stream",
          "text": [
            "\b\b\b\b\b\b\b\b\b\b\b\b\b\b\b\b\b\b\b\b\b\b\b\b\b\b\b\b\b\b\b\b\b\b\b\b\b\b\b\b\b\b\b\b\b\b\b\b\b\b\b\b\b\b\b\b\b\b\b\b\b\b\b\b\b\b\b\b\b\b\b\b\b\b\b\b\b\b\b\b\b\b\b\b\r220/220 [==============================] - 174s 760ms/step - loss: 0.3330 - accuracy: 0.8809 - val_loss: 0.3520 - val_accuracy: 0.8817\n",
            "Epoch 2/10\n",
            "WARNING:tensorflow:multiprocessing can interact badly with TensorFlow, causing nondeterministic deadlocks. For high performance data pipelines tf.data is recommended.\n"
          ],
          "name": "stdout"
        },
        {
          "output_type": "stream",
          "text": [
            "WARNING:tensorflow:multiprocessing can interact badly with TensorFlow, causing nondeterministic deadlocks. For high performance data pipelines tf.data is recommended.\n"
          ],
          "name": "stderr"
        },
        {
          "output_type": "stream",
          "text": [
            "219/220 [============================>.] - ETA: 0s - loss: 0.2901 - accuracy: 0.8978WARNING:tensorflow:multiprocessing can interact badly with TensorFlow, causing nondeterministic deadlocks. For high performance data pipelines tf.data is recommended.\n"
          ],
          "name": "stdout"
        },
        {
          "output_type": "stream",
          "text": [
            "WARNING:tensorflow:multiprocessing can interact badly with TensorFlow, causing nondeterministic deadlocks. For high performance data pipelines tf.data is recommended.\n"
          ],
          "name": "stderr"
        },
        {
          "output_type": "stream",
          "text": [
            "\b\b\b\b\b\b\b\b\b\b\b\b\b\b\b\b\b\b\b\b\b\b\b\b\b\b\b\b\b\b\b\b\b\b\b\b\b\b\b\b\b\b\b\b\b\b\b\b\b\b\b\b\b\b\b\b\b\b\b\b\b\b\b\b\b\b\b\b\b\b\b\b\b\b\b\b\b\b\b\b\b\b\b\b\r220/220 [==============================] - ETA: 0s - loss: 0.2896 - accuracy: 0.8980WARNING:tensorflow:multiprocessing can interact badly with TensorFlow, causing nondeterministic deadlocks. For high performance data pipelines tf.data is recommended.\n"
          ],
          "name": "stdout"
        },
        {
          "output_type": "stream",
          "text": [
            "WARNING:tensorflow:multiprocessing can interact badly with TensorFlow, causing nondeterministic deadlocks. For high performance data pipelines tf.data is recommended.\n"
          ],
          "name": "stderr"
        },
        {
          "output_type": "stream",
          "text": [
            "WARNING:tensorflow:multiprocessing can interact badly with TensorFlow, causing nondeterministic deadlocks. For high performance data pipelines tf.data is recommended.\n"
          ],
          "name": "stdout"
        },
        {
          "output_type": "stream",
          "text": [
            "WARNING:tensorflow:multiprocessing can interact badly with TensorFlow, causing nondeterministic deadlocks. For high performance data pipelines tf.data is recommended.\n"
          ],
          "name": "stderr"
        },
        {
          "output_type": "stream",
          "text": [
            "\b\b\b\b\b\b\b\b\b\b\b\b\b\b\b\b\b\b\b\b\b\b\b\b\b\b\b\b\b\b\b\b\b\b\b\b\b\b\b\b\b\b\b\b\b\b\b\b\b\b\b\b\b\b\b\b\b\b\b\b\b\b\b\b\b\b\b\b\b\b\b\b\b\b\b\b\b\b\b\b\b\b\b\b\r220/220 [==============================] - 177s 771ms/step - loss: 0.2896 - accuracy: 0.8980 - val_loss: 0.3647 - val_accuracy: 0.8807\n",
            "Epoch 3/10\n",
            "WARNING:tensorflow:multiprocessing can interact badly with TensorFlow, causing nondeterministic deadlocks. For high performance data pipelines tf.data is recommended.\n"
          ],
          "name": "stdout"
        },
        {
          "output_type": "stream",
          "text": [
            "WARNING:tensorflow:multiprocessing can interact badly with TensorFlow, causing nondeterministic deadlocks. For high performance data pipelines tf.data is recommended.\n"
          ],
          "name": "stderr"
        },
        {
          "output_type": "stream",
          "text": [
            "219/220 [============================>.] - ETA: 0s - loss: 0.2690 - accuracy: 0.9028WARNING:tensorflow:multiprocessing can interact badly with TensorFlow, causing nondeterministic deadlocks. For high performance data pipelines tf.data is recommended.\n"
          ],
          "name": "stdout"
        },
        {
          "output_type": "stream",
          "text": [
            "WARNING:tensorflow:multiprocessing can interact badly with TensorFlow, causing nondeterministic deadlocks. For high performance data pipelines tf.data is recommended.\n"
          ],
          "name": "stderr"
        },
        {
          "output_type": "stream",
          "text": [
            "\b\b\b\b\b\b\b\b\b\b\b\b\b\b\b\b\b\b\b\b\b\b\b\b\b\b\b\b\b\b\b\b\b\b\b\b\b\b\b\b\b\b\b\b\b\b\b\b\b\b\b\b\b\b\b\b\b\b\b\b\b\b\b\b\b\b\b\b\b\b\b\b\b\b\b\b\b\b\b\b\b\b\b\b\r220/220 [==============================] - ETA: 0s - loss: 0.2687 - accuracy: 0.9029WARNING:tensorflow:multiprocessing can interact badly with TensorFlow, causing nondeterministic deadlocks. For high performance data pipelines tf.data is recommended.\n"
          ],
          "name": "stdout"
        },
        {
          "output_type": "stream",
          "text": [
            "WARNING:tensorflow:multiprocessing can interact badly with TensorFlow, causing nondeterministic deadlocks. For high performance data pipelines tf.data is recommended.\n"
          ],
          "name": "stderr"
        },
        {
          "output_type": "stream",
          "text": [
            "WARNING:tensorflow:multiprocessing can interact badly with TensorFlow, causing nondeterministic deadlocks. For high performance data pipelines tf.data is recommended.\n"
          ],
          "name": "stdout"
        },
        {
          "output_type": "stream",
          "text": [
            "WARNING:tensorflow:multiprocessing can interact badly with TensorFlow, causing nondeterministic deadlocks. For high performance data pipelines tf.data is recommended.\n"
          ],
          "name": "stderr"
        },
        {
          "output_type": "stream",
          "text": [
            "\b\b\b\b\b\b\b\b\b\b\b\b\b\b\b\b\b\b\b\b\b\b\b\b\b\b\b\b\b\b\b\b\b\b\b\b\b\b\b\b\b\b\b\b\b\b\b\b\b\b\b\b\b\b\b\b\b\b\b\b\b\b\b\b\b\b\b\b\b\b\b\b\b\b\b\b\b\b\b\b\b\b\b\b\r220/220 [==============================] - 178s 772ms/step - loss: 0.2687 - accuracy: 0.9029 - val_loss: 0.3892 - val_accuracy: 0.8717\n",
            "Epoch 4/10\n",
            "WARNING:tensorflow:multiprocessing can interact badly with TensorFlow, causing nondeterministic deadlocks. For high performance data pipelines tf.data is recommended.\n"
          ],
          "name": "stdout"
        },
        {
          "output_type": "stream",
          "text": [
            "WARNING:tensorflow:multiprocessing can interact badly with TensorFlow, causing nondeterministic deadlocks. For high performance data pipelines tf.data is recommended.\n"
          ],
          "name": "stderr"
        },
        {
          "output_type": "stream",
          "text": [
            "219/220 [============================>.] - ETA: 0s - loss: 0.2331 - accuracy: 0.9152WARNING:tensorflow:multiprocessing can interact badly with TensorFlow, causing nondeterministic deadlocks. For high performance data pipelines tf.data is recommended.\n"
          ],
          "name": "stdout"
        },
        {
          "output_type": "stream",
          "text": [
            "WARNING:tensorflow:multiprocessing can interact badly with TensorFlow, causing nondeterministic deadlocks. For high performance data pipelines tf.data is recommended.\n"
          ],
          "name": "stderr"
        },
        {
          "output_type": "stream",
          "text": [
            "\b\b\b\b\b\b\b\b\b\b\b\b\b\b\b\b\b\b\b\b\b\b\b\b\b\b\b\b\b\b\b\b\b\b\b\b\b\b\b\b\b\b\b\b\b\b\b\b\b\b\b\b\b\b\b\b\b\b\b\b\b\b\b\b\b\b\b\b\b\b\b\b\b\b\b\b\b\b\b\b\b\b\b\b\r220/220 [==============================] - ETA: 0s - loss: 0.2325 - accuracy: 0.9156WARNING:tensorflow:multiprocessing can interact badly with TensorFlow, causing nondeterministic deadlocks. For high performance data pipelines tf.data is recommended.\n"
          ],
          "name": "stdout"
        },
        {
          "output_type": "stream",
          "text": [
            "WARNING:tensorflow:multiprocessing can interact badly with TensorFlow, causing nondeterministic deadlocks. For high performance data pipelines tf.data is recommended.\n"
          ],
          "name": "stderr"
        },
        {
          "output_type": "stream",
          "text": [
            "WARNING:tensorflow:multiprocessing can interact badly with TensorFlow, causing nondeterministic deadlocks. For high performance data pipelines tf.data is recommended.\n"
          ],
          "name": "stdout"
        },
        {
          "output_type": "stream",
          "text": [
            "WARNING:tensorflow:multiprocessing can interact badly with TensorFlow, causing nondeterministic deadlocks. For high performance data pipelines tf.data is recommended.\n"
          ],
          "name": "stderr"
        },
        {
          "output_type": "stream",
          "text": [
            "\b\b\b\b\b\b\b\b\b\b\b\b\b\b\b\b\b\b\b\b\b\b\b\b\b\b\b\b\b\b\b\b\b\b\b\b\b\b\b\b\b\b\b\b\b\b\b\b\b\b\b\b\b\b\b\b\b\b\b\b\b\b\b\b\b\b\b\b\b\b\b\b\b\b\b\b\b\b\b\b\b\b\b\b\r220/220 [==============================] - 175s 759ms/step - loss: 0.2325 - accuracy: 0.9156 - val_loss: 0.3703 - val_accuracy: 0.8773\n",
            "Epoch 5/10\n",
            "WARNING:tensorflow:multiprocessing can interact badly with TensorFlow, causing nondeterministic deadlocks. For high performance data pipelines tf.data is recommended.\n"
          ],
          "name": "stdout"
        },
        {
          "output_type": "stream",
          "text": [
            "WARNING:tensorflow:multiprocessing can interact badly with TensorFlow, causing nondeterministic deadlocks. For high performance data pipelines tf.data is recommended.\n"
          ],
          "name": "stderr"
        },
        {
          "output_type": "stream",
          "text": [
            "219/220 [============================>.] - ETA: 0s - loss: 0.2327 - accuracy: 0.9193WARNING:tensorflow:multiprocessing can interact badly with TensorFlow, causing nondeterministic deadlocks. For high performance data pipelines tf.data is recommended.\n"
          ],
          "name": "stdout"
        },
        {
          "output_type": "stream",
          "text": [
            "WARNING:tensorflow:multiprocessing can interact badly with TensorFlow, causing nondeterministic deadlocks. For high performance data pipelines tf.data is recommended.\n"
          ],
          "name": "stderr"
        },
        {
          "output_type": "stream",
          "text": [
            "\b\b\b\b\b\b\b\b\b\b\b\b\b\b\b\b\b\b\b\b\b\b\b\b\b\b\b\b\b\b\b\b\b\b\b\b\b\b\b\b\b\b\b\b\b\b\b\b\b\b\b\b\b\b\b\b\b\b\b\b\b\b\b\b\b\b\b\b\b\b\b\b\b\b\b\b\b\b\b\b\b\b\b\b\r220/220 [==============================] - ETA: 0s - loss: 0.2329 - accuracy: 0.9193WARNING:tensorflow:multiprocessing can interact badly with TensorFlow, causing nondeterministic deadlocks. For high performance data pipelines tf.data is recommended.\n"
          ],
          "name": "stdout"
        },
        {
          "output_type": "stream",
          "text": [
            "WARNING:tensorflow:multiprocessing can interact badly with TensorFlow, causing nondeterministic deadlocks. For high performance data pipelines tf.data is recommended.\n"
          ],
          "name": "stderr"
        },
        {
          "output_type": "stream",
          "text": [
            "WARNING:tensorflow:multiprocessing can interact badly with TensorFlow, causing nondeterministic deadlocks. For high performance data pipelines tf.data is recommended.\n"
          ],
          "name": "stdout"
        },
        {
          "output_type": "stream",
          "text": [
            "WARNING:tensorflow:multiprocessing can interact badly with TensorFlow, causing nondeterministic deadlocks. For high performance data pipelines tf.data is recommended.\n"
          ],
          "name": "stderr"
        },
        {
          "output_type": "stream",
          "text": [
            "\b\b\b\b\b\b\b\b\b\b\b\b\b\b\b\b\b\b\b\b\b\b\b\b\b\b\b\b\b\b\b\b\b\b\b\b\b\b\b\b\b\b\b\b\b\b\b\b\b\b\b\b\b\b\b\b\b\b\b\b\b\b\b\b\b\b\b\b\b\b\b\b\b\b\b\b\b\b\b\b\b\b\b\b\r220/220 [==============================] - 175s 763ms/step - loss: 0.2329 - accuracy: 0.9193 - val_loss: 0.3852 - val_accuracy: 0.8827\n",
            "Epoch 6/10\n",
            "WARNING:tensorflow:multiprocessing can interact badly with TensorFlow, causing nondeterministic deadlocks. For high performance data pipelines tf.data is recommended.\n"
          ],
          "name": "stdout"
        },
        {
          "output_type": "stream",
          "text": [
            "WARNING:tensorflow:multiprocessing can interact badly with TensorFlow, causing nondeterministic deadlocks. For high performance data pipelines tf.data is recommended.\n"
          ],
          "name": "stderr"
        },
        {
          "output_type": "stream",
          "text": [
            "219/220 [============================>.] - ETA: 0s - loss: 0.2183 - accuracy: 0.9236WARNING:tensorflow:multiprocessing can interact badly with TensorFlow, causing nondeterministic deadlocks. For high performance data pipelines tf.data is recommended.\n"
          ],
          "name": "stdout"
        },
        {
          "output_type": "stream",
          "text": [
            "WARNING:tensorflow:multiprocessing can interact badly with TensorFlow, causing nondeterministic deadlocks. For high performance data pipelines tf.data is recommended.\n"
          ],
          "name": "stderr"
        },
        {
          "output_type": "stream",
          "text": [
            "\b\b\b\b\b\b\b\b\b\b\b\b\b\b\b\b\b\b\b\b\b\b\b\b\b\b\b\b\b\b\b\b\b\b\b\b\b\b\b\b\b\b\b\b\b\b\b\b\b\b\b\b\b\b\b\b\b\b\b\b\b\b\b\b\b\b\b\b\b\b\b\b\b\b\b\b\b\b\b\b\b\b\b\b\r220/220 [==============================] - ETA: 0s - loss: 0.2185 - accuracy: 0.9235WARNING:tensorflow:multiprocessing can interact badly with TensorFlow, causing nondeterministic deadlocks. For high performance data pipelines tf.data is recommended.\n"
          ],
          "name": "stdout"
        },
        {
          "output_type": "stream",
          "text": [
            "WARNING:tensorflow:multiprocessing can interact badly with TensorFlow, causing nondeterministic deadlocks. For high performance data pipelines tf.data is recommended.\n"
          ],
          "name": "stderr"
        },
        {
          "output_type": "stream",
          "text": [
            "WARNING:tensorflow:multiprocessing can interact badly with TensorFlow, causing nondeterministic deadlocks. For high performance data pipelines tf.data is recommended.\n"
          ],
          "name": "stdout"
        },
        {
          "output_type": "stream",
          "text": [
            "WARNING:tensorflow:multiprocessing can interact badly with TensorFlow, causing nondeterministic deadlocks. For high performance data pipelines tf.data is recommended.\n"
          ],
          "name": "stderr"
        },
        {
          "output_type": "stream",
          "text": [
            "\b\b\b\b\b\b\b\b\b\b\b\b\b\b\b\b\b\b\b\b\b\b\b\b\b\b\b\b\b\b\b\b\b\b\b\b\b\b\b\b\b\b\b\b\b\b\b\b\b\b\b\b\b\b\b\b\b\b\b\b\b\b\b\b\b\b\b\b\b\b\b\b\b\b\b\b\b\b\b\b\b\b\b\b\r220/220 [==============================] - 174s 757ms/step - loss: 0.2185 - accuracy: 0.9235 - val_loss: 0.4130 - val_accuracy: 0.8640\n",
            "Epoch 7/10\n",
            "WARNING:tensorflow:multiprocessing can interact badly with TensorFlow, causing nondeterministic deadlocks. For high performance data pipelines tf.data is recommended.\n"
          ],
          "name": "stdout"
        },
        {
          "output_type": "stream",
          "text": [
            "WARNING:tensorflow:multiprocessing can interact badly with TensorFlow, causing nondeterministic deadlocks. For high performance data pipelines tf.data is recommended.\n"
          ],
          "name": "stderr"
        },
        {
          "output_type": "stream",
          "text": [
            "219/220 [============================>.] - ETA: 0s - loss: 0.1893 - accuracy: 0.9316WARNING:tensorflow:multiprocessing can interact badly with TensorFlow, causing nondeterministic deadlocks. For high performance data pipelines tf.data is recommended.\n"
          ],
          "name": "stdout"
        },
        {
          "output_type": "stream",
          "text": [
            "WARNING:tensorflow:multiprocessing can interact badly with TensorFlow, causing nondeterministic deadlocks. For high performance data pipelines tf.data is recommended.\n"
          ],
          "name": "stderr"
        },
        {
          "output_type": "stream",
          "text": [
            "\b\b\b\b\b\b\b\b\b\b\b\b\b\b\b\b\b\b\b\b\b\b\b\b\b\b\b\b\b\b\b\b\b\b\b\b\b\b\b\b\b\b\b\b\b\b\b\b\b\b\b\b\b\b\b\b\b\b\b\b\b\b\b\b\b\b\b\b\b\b\b\b\b\b\b\b\b\b\b\b\b\b\b\b\r220/220 [==============================] - ETA: 0s - loss: 0.1893 - accuracy: 0.9316WARNING:tensorflow:multiprocessing can interact badly with TensorFlow, causing nondeterministic deadlocks. For high performance data pipelines tf.data is recommended.\n"
          ],
          "name": "stdout"
        },
        {
          "output_type": "stream",
          "text": [
            "WARNING:tensorflow:multiprocessing can interact badly with TensorFlow, causing nondeterministic deadlocks. For high performance data pipelines tf.data is recommended.\n"
          ],
          "name": "stderr"
        },
        {
          "output_type": "stream",
          "text": [
            "WARNING:tensorflow:multiprocessing can interact badly with TensorFlow, causing nondeterministic deadlocks. For high performance data pipelines tf.data is recommended.\n"
          ],
          "name": "stdout"
        },
        {
          "output_type": "stream",
          "text": [
            "WARNING:tensorflow:multiprocessing can interact badly with TensorFlow, causing nondeterministic deadlocks. For high performance data pipelines tf.data is recommended.\n"
          ],
          "name": "stderr"
        },
        {
          "output_type": "stream",
          "text": [
            "\b\b\b\b\b\b\b\b\b\b\b\b\b\b\b\b\b\b\b\b\b\b\b\b\b\b\b\b\b\b\b\b\b\b\b\b\b\b\b\b\b\b\b\b\b\b\b\b\b\b\b\b\b\b\b\b\b\b\b\b\b\b\b\b\b\b\b\b\b\b\b\b\b\b\b\b\b\b\b\b\b\b\b\b\r220/220 [==============================] - 174s 758ms/step - loss: 0.1893 - accuracy: 0.9316 - val_loss: 0.3791 - val_accuracy: 0.8747\n",
            "Epoch 8/10\n",
            "WARNING:tensorflow:multiprocessing can interact badly with TensorFlow, causing nondeterministic deadlocks. For high performance data pipelines tf.data is recommended.\n"
          ],
          "name": "stdout"
        },
        {
          "output_type": "stream",
          "text": [
            "WARNING:tensorflow:multiprocessing can interact badly with TensorFlow, causing nondeterministic deadlocks. For high performance data pipelines tf.data is recommended.\n"
          ],
          "name": "stderr"
        },
        {
          "output_type": "stream",
          "text": [
            "219/220 [============================>.] - ETA: 0s - loss: 0.1858 - accuracy: 0.9316WARNING:tensorflow:multiprocessing can interact badly with TensorFlow, causing nondeterministic deadlocks. For high performance data pipelines tf.data is recommended.\n"
          ],
          "name": "stdout"
        },
        {
          "output_type": "stream",
          "text": [
            "WARNING:tensorflow:multiprocessing can interact badly with TensorFlow, causing nondeterministic deadlocks. For high performance data pipelines tf.data is recommended.\n"
          ],
          "name": "stderr"
        },
        {
          "output_type": "stream",
          "text": [
            "\b\b\b\b\b\b\b\b\b\b\b\b\b\b\b\b\b\b\b\b\b\b\b\b\b\b\b\b\b\b\b\b\b\b\b\b\b\b\b\b\b\b\b\b\b\b\b\b\b\b\b\b\b\b\b\b\b\b\b\b\b\b\b\b\b\b\b\b\b\b\b\b\b\b\b\b\b\b\b\b\b\b\b\b\r220/220 [==============================] - ETA: 0s - loss: 0.1859 - accuracy: 0.9315WARNING:tensorflow:multiprocessing can interact badly with TensorFlow, causing nondeterministic deadlocks. For high performance data pipelines tf.data is recommended.\n"
          ],
          "name": "stdout"
        },
        {
          "output_type": "stream",
          "text": [
            "WARNING:tensorflow:multiprocessing can interact badly with TensorFlow, causing nondeterministic deadlocks. For high performance data pipelines tf.data is recommended.\n"
          ],
          "name": "stderr"
        },
        {
          "output_type": "stream",
          "text": [
            "WARNING:tensorflow:multiprocessing can interact badly with TensorFlow, causing nondeterministic deadlocks. For high performance data pipelines tf.data is recommended.\n"
          ],
          "name": "stdout"
        },
        {
          "output_type": "stream",
          "text": [
            "WARNING:tensorflow:multiprocessing can interact badly with TensorFlow, causing nondeterministic deadlocks. For high performance data pipelines tf.data is recommended.\n"
          ],
          "name": "stderr"
        },
        {
          "output_type": "stream",
          "text": [
            "\b\b\b\b\b\b\b\b\b\b\b\b\b\b\b\b\b\b\b\b\b\b\b\b\b\b\b\b\b\b\b\b\b\b\b\b\b\b\b\b\b\b\b\b\b\b\b\b\b\b\b\b\b\b\b\b\b\b\b\b\b\b\b\b\b\b\b\b\b\b\b\b\b\b\b\b\b\b\b\b\b\b\b\b\r220/220 [==============================] - 175s 760ms/step - loss: 0.1859 - accuracy: 0.9315 - val_loss: 0.3741 - val_accuracy: 0.8793\n",
            "Epoch 9/10\n",
            "WARNING:tensorflow:multiprocessing can interact badly with TensorFlow, causing nondeterministic deadlocks. For high performance data pipelines tf.data is recommended.\n"
          ],
          "name": "stdout"
        },
        {
          "output_type": "stream",
          "text": [
            "WARNING:tensorflow:multiprocessing can interact badly with TensorFlow, causing nondeterministic deadlocks. For high performance data pipelines tf.data is recommended.\n"
          ],
          "name": "stderr"
        },
        {
          "output_type": "stream",
          "text": [
            "219/220 [============================>.] - ETA: 0s - loss: 0.1919 - accuracy: 0.9295WARNING:tensorflow:multiprocessing can interact badly with TensorFlow, causing nondeterministic deadlocks. For high performance data pipelines tf.data is recommended.\n"
          ],
          "name": "stdout"
        },
        {
          "output_type": "stream",
          "text": [
            "WARNING:tensorflow:multiprocessing can interact badly with TensorFlow, causing nondeterministic deadlocks. For high performance data pipelines tf.data is recommended.\n"
          ],
          "name": "stderr"
        },
        {
          "output_type": "stream",
          "text": [
            "\b\b\b\b\b\b\b\b\b\b\b\b\b\b\b\b\b\b\b\b\b\b\b\b\b\b\b\b\b\b\b\b\b\b\b\b\b\b\b\b\b\b\b\b\b\b\b\b\b\b\b\b\b\b\b\b\b\b\b\b\b\b\b\b\b\b\b\b\b\b\b\b\b\b\b\b\b\b\b\b\b\b\b\b\r220/220 [==============================] - ETA: 0s - loss: 0.1921 - accuracy: 0.9296WARNING:tensorflow:multiprocessing can interact badly with TensorFlow, causing nondeterministic deadlocks. For high performance data pipelines tf.data is recommended.\n"
          ],
          "name": "stdout"
        },
        {
          "output_type": "stream",
          "text": [
            "WARNING:tensorflow:multiprocessing can interact badly with TensorFlow, causing nondeterministic deadlocks. For high performance data pipelines tf.data is recommended.\n"
          ],
          "name": "stderr"
        },
        {
          "output_type": "stream",
          "text": [
            "WARNING:tensorflow:multiprocessing can interact badly with TensorFlow, causing nondeterministic deadlocks. For high performance data pipelines tf.data is recommended.\n"
          ],
          "name": "stdout"
        },
        {
          "output_type": "stream",
          "text": [
            "WARNING:tensorflow:multiprocessing can interact badly with TensorFlow, causing nondeterministic deadlocks. For high performance data pipelines tf.data is recommended.\n"
          ],
          "name": "stderr"
        },
        {
          "output_type": "stream",
          "text": [
            "\b\b\b\b\b\b\b\b\b\b\b\b\b\b\b\b\b\b\b\b\b\b\b\b\b\b\b\b\b\b\b\b\b\b\b\b\b\b\b\b\b\b\b\b\b\b\b\b\b\b\b\b\b\b\b\b\b\b\b\b\b\b\b\b\b\b\b\b\b\b\b\b\b\b\b\b\b\b\b\b\b\b\b\b\r220/220 [==============================] - 175s 760ms/step - loss: 0.1921 - accuracy: 0.9296 - val_loss: 0.3944 - val_accuracy: 0.8777\n",
            "Epoch 10/10\n",
            "WARNING:tensorflow:multiprocessing can interact badly with TensorFlow, causing nondeterministic deadlocks. For high performance data pipelines tf.data is recommended.\n"
          ],
          "name": "stdout"
        },
        {
          "output_type": "stream",
          "text": [
            "WARNING:tensorflow:multiprocessing can interact badly with TensorFlow, causing nondeterministic deadlocks. For high performance data pipelines tf.data is recommended.\n"
          ],
          "name": "stderr"
        },
        {
          "output_type": "stream",
          "text": [
            "219/220 [============================>.] - ETA: 0s - loss: 0.1815 - accuracy: 0.9349WARNING:tensorflow:multiprocessing can interact badly with TensorFlow, causing nondeterministic deadlocks. For high performance data pipelines tf.data is recommended.\n"
          ],
          "name": "stdout"
        },
        {
          "output_type": "stream",
          "text": [
            "WARNING:tensorflow:multiprocessing can interact badly with TensorFlow, causing nondeterministic deadlocks. For high performance data pipelines tf.data is recommended.\n"
          ],
          "name": "stderr"
        },
        {
          "output_type": "stream",
          "text": [
            "\b\b\b\b\b\b\b\b\b\b\b\b\b\b\b\b\b\b\b\b\b\b\b\b\b\b\b\b\b\b\b\b\b\b\b\b\b\b\b\b\b\b\b\b\b\b\b\b\b\b\b\b\b\b\b\b\b\b\b\b\b\b\b\b\b\b\b\b\b\b\b\b\b\b\b\b\b\b\b\b\b\b\b\b\r220/220 [==============================] - ETA: 0s - loss: 0.1817 - accuracy: 0.9348WARNING:tensorflow:multiprocessing can interact badly with TensorFlow, causing nondeterministic deadlocks. For high performance data pipelines tf.data is recommended.\n"
          ],
          "name": "stdout"
        },
        {
          "output_type": "stream",
          "text": [
            "WARNING:tensorflow:multiprocessing can interact badly with TensorFlow, causing nondeterministic deadlocks. For high performance data pipelines tf.data is recommended.\n"
          ],
          "name": "stderr"
        },
        {
          "output_type": "stream",
          "text": [
            "WARNING:tensorflow:multiprocessing can interact badly with TensorFlow, causing nondeterministic deadlocks. For high performance data pipelines tf.data is recommended.\n"
          ],
          "name": "stdout"
        },
        {
          "output_type": "stream",
          "text": [
            "WARNING:tensorflow:multiprocessing can interact badly with TensorFlow, causing nondeterministic deadlocks. For high performance data pipelines tf.data is recommended.\n"
          ],
          "name": "stderr"
        },
        {
          "output_type": "stream",
          "text": [
            "\b\b\b\b\b\b\b\b\b\b\b\b\b\b\b\b\b\b\b\b\b\b\b\b\b\b\b\b\b\b\b\b\b\b\b\b\b\b\b\b\b\b\b\b\b\b\b\b\b\b\b\b\b\b\b\b\b\b\b\b\b\b\b\b\b\b\b\b\b\b\b\b\b\b\b\b\b\b\b\b\b\b\b\b\r220/220 [==============================] - 175s 763ms/step - loss: 0.1817 - accuracy: 0.9348 - val_loss: 0.3695 - val_accuracy: 0.8857\n"
          ],
          "name": "stdout"
        }
      ]
    },
    {
      "cell_type": "code",
      "metadata": {
        "colab": {
          "base_uri": "https://localhost:8080/"
        },
        "id": "ybT-HE3w9l32",
        "outputId": "f25c834e-6521-433e-acb2-b5610da97f83"
      },
      "source": [
        "print(Logs.history.keys())\r\n"
      ],
      "execution_count": null,
      "outputs": [
        {
          "output_type": "stream",
          "text": [
            "dict_keys(['loss', 'accuracy', 'val_loss', 'val_accuracy'])\n"
          ],
          "name": "stdout"
        }
      ]
    },
    {
      "cell_type": "code",
      "metadata": {
        "colab": {
          "base_uri": "https://localhost:8080/",
          "height": 573
        },
        "id": "vQlkySIvAB0D",
        "outputId": "c92cc920-d645-4638-ec19-21351032bb46"
      },
      "source": [
        "import matplotlib.pyplot as plt\r\n",
        "plt.plot(Logs.history['accuracy'])\r\n",
        "plt.plot(Logs.history['val_accuracy'])\r\n",
        "plt.title('model accuracy')\r\n",
        "plt.ylabel('accuracy')\r\n",
        "plt.xlabel('epoch')\r\n",
        "plt.legend(['train', 'test'], loc='upper left')\r\n",
        "plt.show()\r\n",
        "# summarize history for loss\r\n",
        "plt.plot(Logs.history['loss'])\r\n",
        "plt.plot(Logs.history['val_loss'])\r\n",
        "plt.title('model loss')\r\n",
        "plt.ylabel('loss')\r\n",
        "plt.xlabel('epoch')\r\n",
        "plt.legend(['train', 'test'], loc='upper left')\r\n",
        "plt.show()\r\n"
      ],
      "execution_count": null,
      "outputs": [
        {
          "output_type": "display_data",
          "data": {
            "image/png": "[encoded data removed]",
            "text/plain": [
              "<Figure size 432x288 with 1 Axes>"
            ]
          },
          "metadata": {
            "tags": [],
            "needs_background": "light"
          }
        },
        {
          "output_type": "display_data",
          "data": {
            "image/png": "[encoded data removed]",
            "text/plain": [
              "<Figure size 432x288 with 1 Axes>"
            ]
          },
          "metadata": {
            "tags": [],
            "needs_background": "light"
          }
        }
      ]
    },
    {
      "cell_type": "code",
      "metadata": {
        "id": "GWfLfj1DADZT"
      },
      "source": [
        "TL_Model.save('vgg16_tl.h5')\r\n"
      ],
      "execution_count": null,
      "outputs": []
    },
    {
      "cell_type": "code",
      "metadata": {
        "id": "uTg8cWaqAHsD"
      },
      "source": [
        ""
      ],
      "execution_count": null,
      "outputs": []
    }
  ]
}