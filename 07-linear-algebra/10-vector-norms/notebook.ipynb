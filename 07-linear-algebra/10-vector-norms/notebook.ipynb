{
 "cells": [
  {
   "attachments": {},
   "cell_type": "markdown",
   "metadata": {},
   "source": [
    "#### About\n",
    "\n",
    "> Vector norms\n",
    "\n",
    "A vector norm is a mathematical function that measures the \"size\" or \"magnitude\" of a vector. There are many types of vector norms, but the most common ones are the L1 norm, the L2 norm, and the max norm.\n",
    "\n",
    "The L1 norm of a vector x with n elements is defined as:\n",
    "\n",
    "||x||_1 = |x_1| + |x_2| + ... + |x_n|\n",
    "\n",
    "The L2 norm of a vector x with n elements is defined as:\n",
    "\n",
    "||x||_2 = sqrt(x_1^2 + x_2^2 + ... + x_n^2)\n",
    "\n",
    "The max norm of a vector x with n elements is defined as:\n",
    "\n",
    "||x||_inf = max(|x_1|, |x_2|, ..., |x_n|)"
   ]
  },
  {
   "cell_type": "code",
   "execution_count": 1,
   "metadata": {},
   "outputs": [],
   "source": [
    "import numpy as np\n"
   ]
  },
  {
   "cell_type": "code",
   "execution_count": 2,
   "metadata": {},
   "outputs": [],
   "source": [
    "x = np.array([1, 2, -3, 4, 5])\n"
   ]
  },
  {
   "cell_type": "code",
   "execution_count": 3,
   "metadata": {},
   "outputs": [
    {
     "name": "stdout",
     "output_type": "stream",
     "text": [
      "L1 norm: 15.0\n"
     ]
    }
   ],
   "source": [
    "# Compute the L1 norm\n",
    "l1_norm = np.linalg.norm(x, ord=1)\n",
    "print(\"L1 norm:\", l1_norm)"
   ]
  },
  {
   "cell_type": "code",
   "execution_count": 4,
   "metadata": {},
   "outputs": [
    {
     "name": "stdout",
     "output_type": "stream",
     "text": [
      "L2 norm: 7.416198487095663\n"
     ]
    }
   ],
   "source": [
    "# Compute the L2 norm\n",
    "l2_norm = np.linalg.norm(x, ord=2)\n",
    "print(\"L2 norm:\", l2_norm)"
   ]
  },
  {
   "cell_type": "code",
   "execution_count": 5,
   "metadata": {},
   "outputs": [
    {
     "name": "stdout",
     "output_type": "stream",
     "text": [
      "Max norm: 5.0\n"
     ]
    }
   ],
   "source": [
    "# Compute the max norm\n",
    "max_norm = np.linalg.norm(x, ord=np.inf)\n",
    "print(\"Max norm:\", max_norm)"
   ]
  },
  {
   "attachments": {},
   "cell_type": "markdown",
   "metadata": {},
   "source": [
    "Use cases\n",
    "\n",
    "1. It is used in machine learning, especially L2 norm to regualarize the weights of a model which may prevent it from overfitting.\n"
   ]
  },
  {
   "cell_type": "code",
   "execution_count": null,
   "metadata": {},
   "outputs": [],
   "source": []
  }
 ],
 "metadata": {
  "kernelspec": {
   "display_name": "dl",
   "language": "python",
   "name": "python3"
  },
  "language_info": {
   "codemirror_mode": {
    "name": "ipython",
    "version": 3
   },
   "file_extension": ".py",
   "mimetype": "text/x-python",
   "name": "python",
   "nbconvert_exporter": "python",
   "pygments_lexer": "ipython3",
   "version": "3.9.16"
  },
  "orig_nbformat": 4
 },
 "nbformat": 4,
 "nbformat_minor": 2
}
