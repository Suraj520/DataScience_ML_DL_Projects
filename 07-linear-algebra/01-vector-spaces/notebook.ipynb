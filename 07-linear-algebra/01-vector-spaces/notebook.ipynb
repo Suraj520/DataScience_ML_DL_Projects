{
 "cells": [
  {
   "attachments": {},
   "cell_type": "markdown",
   "metadata": {},
   "source": [
    "#### About\n",
    "\n",
    "> Vector spaces\n",
    "\n",
    "A vector space is a collection of vectors that can be added together and scaled by scalars. The most common example of a vector space is the Euclidean space, which consists of vectors with n components, where n is a positive integer. In Euclidean space, vectors can be added component-wise and scaled by scalars.\n",
    "\n"
   ]
  },
  {
   "attachments": {},
   "cell_type": "markdown",
   "metadata": {},
   "source": [
    "Let's consider a simple example of a vector space in Python. Suppose we have a set of vectors representing the daily temperatures in a city for a week:\n",
    "\n"
   ]
  },
  {
   "cell_type": "code",
   "execution_count": 1,
   "metadata": {},
   "outputs": [],
   "source": [
    "import numpy as np\n"
   ]
  },
  {
   "cell_type": "code",
   "execution_count": 2,
   "metadata": {},
   "outputs": [],
   "source": [
    "monday_temp = np.array([75, 68, 72, 80])\n",
    "tuesday_temp = np.array([71, 73, 69, 78])\n",
    "wednesday_temp = np.array([72, 70, 68, 77])\n",
    "thursday_temp = np.array([69, 67, 73, 79])\n",
    "friday_temp = np.array([76, 71, 72, 81])\n",
    "saturday_temp = np.array([78, 73, 75, 83])\n",
    "sunday_temp = np.array([80, 72, 74, 85])"
   ]
  },
  {
   "attachments": {},
   "cell_type": "markdown",
   "metadata": {},
   "source": [
    "These vectors can be added together and scaled by scalars."
   ]
  },
  {
   "cell_type": "code",
   "execution_count": 3,
   "metadata": {},
   "outputs": [
    {
     "name": "stdout",
     "output_type": "stream",
     "text": [
      "[74.42857143 70.57142857 71.85714286 80.42857143]\n"
     ]
    }
   ],
   "source": [
    "# Compute average temperature for the week\n",
    "average_temp = (monday_temp + tuesday_temp + wednesday_temp + thursday_temp +\n",
    "                friday_temp + saturday_temp + sunday_temp) / 7\n",
    "\n",
    "print(average_temp)"
   ]
  },
  {
   "attachments": {},
   "cell_type": "markdown",
   "metadata": {},
   "source": [
    "In this example, the set of temperature vectors forms a vector space, where the vectors can be added together and scaled by scalars (in this case, the scalar is 1/7). We can use this vector space to compute various properties of the temperature data, such as the average temperature or the temperature variance.\n",
    "\n",
    "A use case for vector spaces in data science is in machine learning, where datasets are often represented as vectors in a high-dimensional space. Vector spaces provide a framework for performing mathematical operations on these datasets, such as computing distances between vectors, projecting vectors onto subspaces, and performing linear transformations. Vector spaces are also used in deep learning, where neural networks can be thought of as functions that map vectors from one high-dimensional space to another."
   ]
  },
  {
   "cell_type": "code",
   "execution_count": null,
   "metadata": {},
   "outputs": [],
   "source": []
  }
 ],
 "metadata": {
  "kernelspec": {
   "display_name": "dl",
   "language": "python",
   "name": "python3"
  },
  "language_info": {
   "codemirror_mode": {
    "name": "ipython",
    "version": 3
   },
   "file_extension": ".py",
   "mimetype": "text/x-python",
   "name": "python",
   "nbconvert_exporter": "python",
   "pygments_lexer": "ipython3",
   "version": "3.9.16"
  },
  "orig_nbformat": 4
 },
 "nbformat": 4,
 "nbformat_minor": 2
}
