{
 "cells": [
  {
   "attachments": {},
   "cell_type": "markdown",
   "metadata": {},
   "source": [
    "#### About\n",
    "\n",
    "> Singular Value Decomposition(SVD)\n",
    "\n",
    "Singular Value Decomposition (SVD) is a matrix factorization technique that factorizes a matrix into three matrices with specific properties. Given an m x n matrix A, SVD factorizes A into the product of three matrices: U, Σ, and V*, where U and V* are unitary matrices, and Σ is a diagonal matrix with non-negative real entries.\n",
    "\n"
   ]
  },
  {
   "cell_type": "code",
   "execution_count": 1,
   "metadata": {},
   "outputs": [],
   "source": [
    "import numpy as np\n"
   ]
  },
  {
   "cell_type": "code",
   "execution_count": 2,
   "metadata": {},
   "outputs": [],
   "source": [
    "A = np.array([[1, 2, 3],\n",
    "              [4, 5, 6],\n",
    "              [7, 8, 9]])\n"
   ]
  },
  {
   "cell_type": "code",
   "execution_count": 3,
   "metadata": {},
   "outputs": [],
   "source": [
    "# Compute the SVD of A\n",
    "U, s, Vh = np.linalg.svd(A)"
   ]
  },
  {
   "cell_type": "code",
   "execution_count": 4,
   "metadata": {},
   "outputs": [
    {
     "name": "stdout",
     "output_type": "stream",
     "text": [
      "Original matrix A:\n",
      "[[1 2 3]\n",
      " [4 5 6]\n",
      " [7 8 9]]\n",
      "Reconstructed matrix A:\n",
      "[[0.95971562 1.9003033  2.84089098]\n",
      " [3.80147605 4.74858462 5.69569319]\n",
      " [6.64323649 7.59686594 8.5504954 ]]\n"
     ]
    }
   ],
   "source": [
    "# Construct the diagonal matrix Σ\n",
    "Sigma = np.zeros_like(A)\n",
    "Sigma[:min(A.shape), :min(A.shape)] = np.diag(s)\n",
    "\n",
    "# Reconstruct the original matrix A\n",
    "A_reconstructed = U @ Sigma @ Vh\n",
    "\n",
    "print(\"Original matrix A:\")\n",
    "print(A)\n",
    "print(\"Reconstructed matrix A:\")\n",
    "print(A_reconstructed)"
   ]
  },
  {
   "attachments": {},
   "cell_type": "markdown",
   "metadata": {},
   "source": [
    "#### Use cases\n",
    "\n",
    "1. Data compression - To compress a high dimensional data by representing it in a lower dimensional space while retaining as much information as possible.\n",
    "\n",
    "2. Collaborative filtering - It can be used to build recommender systems by identifying latent features in a user-item interaction matrix.\n",
    "\n",
    "3. PCA - It can be used to identify the most important features in a dataset and reduce its dimensionality.\n",
    "\n",
    "4. Image processing - It can be used to perform image compression and denoising by representing images as a combination of basis images."
   ]
  },
  {
   "cell_type": "code",
   "execution_count": null,
   "metadata": {},
   "outputs": [],
   "source": []
  }
 ],
 "metadata": {
  "kernelspec": {
   "display_name": "dl",
   "language": "python",
   "name": "python3"
  },
  "language_info": {
   "codemirror_mode": {
    "name": "ipython",
    "version": 3
   },
   "file_extension": ".py",
   "mimetype": "text/x-python",
   "name": "python",
   "nbconvert_exporter": "python",
   "pygments_lexer": "ipython3",
   "version": "3.9.16"
  },
  "orig_nbformat": 4
 },
 "nbformat": 4,
 "nbformat_minor": 2
}
