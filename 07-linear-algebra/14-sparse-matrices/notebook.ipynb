{
 "cells": [
  {
   "attachments": {},
   "cell_type": "markdown",
   "metadata": {},
   "source": [
    "#### About\n",
    "\n",
    "> Sparse matrix\n",
    "\n",
    "A sparse matrix is a matrix in which most of the elements are zero. Sparse matrices arise frequently in various applications, such as graph theory, finite element analysis, and image processing, where the matrices can be very large and have many zero entries. To store sparse matrices, we typically use specialized data structures that take advantage of their sparsity to reduce storage requirements and improve computational efficiency.\n",
    "\n"
   ]
  },
  {
   "cell_type": "code",
   "execution_count": 1,
   "metadata": {},
   "outputs": [],
   "source": [
    "import numpy as np\n",
    "from scipy.sparse import csr_matrix"
   ]
  },
  {
   "cell_type": "code",
   "execution_count": 2,
   "metadata": {},
   "outputs": [],
   "source": [
    "data = np.array([1, 2, 3, 4, 5, 6])\n",
    "row_indices = np.array([0, 0, 1, 1, 2, 2])\n",
    "col_indices = np.array([0, 2, 1, 2, 0, 1])\n",
    "sparse_matrix = csr_matrix((data, (row_indices, col_indices)), shape=(3, 3))\n"
   ]
  },
  {
   "cell_type": "code",
   "execution_count": 3,
   "metadata": {},
   "outputs": [
    {
     "name": "stdout",
     "output_type": "stream",
     "text": [
      "  (0, 0)\t1\n",
      "  (0, 2)\t2\n",
      "  (1, 1)\t3\n",
      "  (1, 2)\t4\n",
      "  (2, 0)\t5\n",
      "  (2, 1)\t6\n"
     ]
    }
   ],
   "source": [
    "# Print the sparse matrix\n",
    "print(sparse_matrix)"
   ]
  },
  {
   "cell_type": "code",
   "execution_count": 4,
   "metadata": {},
   "outputs": [
    {
     "name": "stdout",
     "output_type": "stream",
     "text": [
      "[[1 0 2]\n",
      " [0 3 4]\n",
      " [5 6 0]]\n"
     ]
    }
   ],
   "source": [
    "# Convert the sparse matrix to a dense matrix\n",
    "dense_matrix = sparse_matrix.toarray()\n",
    "print(dense_matrix)"
   ]
  },
  {
   "attachments": {},
   "cell_type": "markdown",
   "metadata": {},
   "source": [
    "One use case for sparse matrices is in graph theory. Graphs can be represented as sparse matrices, where the rows and columns correspond to the vertices, and the non-zero entries correspond to the edges.\n",
    "\n",
    "Another use case for sparse matrices is in image processing. Images can be represented as matrices, and in many cases, most of the entries in the matrix are zero (corresponding to black pixels). By using sparse matrix representations and algorithms, we can efficiently manipulate and analyze images, such as in image compression or denoising."
   ]
  },
  {
   "cell_type": "code",
   "execution_count": null,
   "metadata": {},
   "outputs": [],
   "source": []
  }
 ],
 "metadata": {
  "kernelspec": {
   "display_name": "dl",
   "language": "python",
   "name": "python3"
  },
  "language_info": {
   "codemirror_mode": {
    "name": "ipython",
    "version": 3
   },
   "file_extension": ".py",
   "mimetype": "text/x-python",
   "name": "python",
   "nbconvert_exporter": "python",
   "pygments_lexer": "ipython3",
   "version": "3.9.16"
  },
  "orig_nbformat": 4
 },
 "nbformat": 4,
 "nbformat_minor": 2
}
