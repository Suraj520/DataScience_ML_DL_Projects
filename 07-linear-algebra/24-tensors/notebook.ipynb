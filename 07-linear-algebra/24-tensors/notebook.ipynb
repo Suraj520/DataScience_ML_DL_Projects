{
 "cells": [
  {
   "attachments": {},
   "cell_type": "markdown",
   "metadata": {},
   "source": [
    "#### About\n",
    "\n",
    "> Tensors\n",
    "\n",
    "Tensors are mathematical objects that generalize scalars, vectors, and matrices to higher dimensions. In Python, tensors can be represented using PyTorch, NumPy arrays, which provide efficient array operations and numerical computations."
   ]
  },
  {
   "cell_type": "code",
   "execution_count": 2,
   "metadata": {},
   "outputs": [],
   "source": [
    "import torch\n",
    "\n",
    "# Define a 3-dimensional tensor\n",
    "T = torch.tensor([\n",
    "  [[1, 2], [3, 4]],\n",
    "  [[5, 6], [7, 8]],\n",
    "  [[9, 10], [11, 12]]\n",
    "])"
   ]
  },
  {
   "cell_type": "code",
   "execution_count": 3,
   "metadata": {},
   "outputs": [
    {
     "name": "stdout",
     "output_type": "stream",
     "text": [
      "tensor([[[ 1,  2],\n",
      "         [ 3,  4]],\n",
      "\n",
      "        [[ 5,  6],\n",
      "         [ 7,  8]],\n",
      "\n",
      "        [[ 9, 10],\n",
      "         [11, 12]]])\n",
      "torch.Size([3, 2, 2])\n"
     ]
    }
   ],
   "source": [
    "# Print the tensor and its shape\n",
    "print(T)\n",
    "print(T.shape)"
   ]
  },
  {
   "cell_type": "code",
   "execution_count": 4,
   "metadata": {},
   "outputs": [
    {
     "name": "stdout",
     "output_type": "stream",
     "text": [
      "tensor(6)\n"
     ]
    }
   ],
   "source": [
    "# Accessing elements of a tensor\n",
    "print(T[1, 0, 1]) "
   ]
  },
  {
   "cell_type": "code",
   "execution_count": 5,
   "metadata": {},
   "outputs": [
    {
     "name": "stdout",
     "output_type": "stream",
     "text": [
      "tensor([[[ 1,  2],\n",
      "         [ 3,  4]],\n",
      "\n",
      "        [[ 5,  6],\n",
      "         [ 7,  8]],\n",
      "\n",
      "        [[ 9, 10],\n",
      "         [11,  0]]])\n"
     ]
    }
   ],
   "source": [
    "# Changing elements of a tensor\n",
    "T[2, 1, 1] = 0\n",
    "print(T)"
   ]
  },
  {
   "cell_type": "code",
   "execution_count": 6,
   "metadata": {},
   "outputs": [],
   "source": [
    "# Tensor operations\n",
    "T1 = torch.tensor([\n",
    "  [[1, 2], [3, 4]],\n",
    "  [[5, 6], [7, 8]],\n",
    "  [[9, 10], [11, 12]]\n",
    "])\n",
    "\n",
    "T2 = torch.tensor([\n",
    "  [[2, 3], [4, 5]],\n",
    "  [[6, 7], [8, 9]],\n",
    "  [[10, 11], [12, 13]]\n",
    "])\n"
   ]
  },
  {
   "cell_type": "code",
   "execution_count": 7,
   "metadata": {},
   "outputs": [
    {
     "name": "stdout",
     "output_type": "stream",
     "text": [
      "tensor([[[ 3,  5],\n",
      "         [ 7,  9]],\n",
      "\n",
      "        [[11, 13],\n",
      "         [15, 17]],\n",
      "\n",
      "        [[19, 21],\n",
      "         [23, 25]]])\n",
      "tensor([[[ 10,  13],\n",
      "         [ 22,  29]],\n",
      "\n",
      "        [[ 78,  89],\n",
      "         [106, 121]],\n",
      "\n",
      "        [[210, 229],\n",
      "         [254, 277]]])\n"
     ]
    }
   ],
   "source": [
    "\n",
    "T3 = T1 + T2\n",
    "print(T3)\n",
    "\n",
    "T4 = torch.matmul(T1, T2)\n",
    "print(T4)"
   ]
  },
  {
   "cell_type": "code",
   "execution_count": null,
   "metadata": {},
   "outputs": [],
   "source": []
  }
 ],
 "metadata": {
  "kernelspec": {
   "display_name": "dl",
   "language": "python",
   "name": "python3"
  },
  "language_info": {
   "codemirror_mode": {
    "name": "ipython",
    "version": 3
   },
   "file_extension": ".py",
   "mimetype": "text/x-python",
   "name": "python",
   "nbconvert_exporter": "python",
   "pygments_lexer": "ipython3",
   "version": "3.9.16"
  },
  "orig_nbformat": 4
 },
 "nbformat": 4,
 "nbformat_minor": 2
}
