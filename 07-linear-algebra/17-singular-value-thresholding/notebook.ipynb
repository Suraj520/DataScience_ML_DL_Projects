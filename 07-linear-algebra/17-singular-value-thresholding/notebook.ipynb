{
 "cells": [
  {
   "attachments": {},
   "cell_type": "markdown",
   "metadata": {},
   "source": [
    "#### About\n",
    "\n",
    "> Singular value thresholding.\n",
    "\n",
    "Singular Value Thresholding (SVT) is a matrix completion technique that uses singular value decomposition (SVD) to recover low-rank matrices from incomplete or corrupted data. In the context of linear algebra, SVT involves computing the SVD of a matrix, setting the singular values below a certain threshold to zero, and reconstructing the matrix using the modified singular values.\n",
    "\n"
   ]
  },
  {
   "cell_type": "code",
   "execution_count": 1,
   "metadata": {},
   "outputs": [],
   "source": [
    "import numpy as np\n"
   ]
  },
  {
   "cell_type": "code",
   "execution_count": 6,
   "metadata": {},
   "outputs": [],
   "source": [
    "\n",
    "def svt(A, tau, max_iter=100, tol=1e-6):\n",
    "    # Replace NaN values with zeros\n",
    "    A = np.nan_to_num(A)\n",
    "    # Scale the matrix to have values in the range [0, 1]\n",
    "    A_scaled = (A - np.nanmin(A)) / (np.nanmax(A) - np.nanmin(A))\n",
    "    # Apply SVT\n",
    "    X = A_scaled.copy()\n",
    "    for i in range(max_iter):\n",
    "        U, s, V = np.linalg.svd(X, full_matrices=False)\n",
    "        s_thresh = np.maximum(s - tau, 0)\n",
    "        X_new = U.dot(np.diag(s_thresh)).dot(V)\n",
    "        if np.linalg.norm(X_new - X) / np.linalg.norm(X) < tol:\n",
    "            break\n",
    "        X = X_new\n",
    "    # Rescale the matrix to the original range\n",
    "    A_complete = A.copy()\n",
    "    A_complete[~np.isnan(A)] = X_new.flatten() * (np.nanmax(A) - np.nanmin(A)) + np.nanmin(A)\n",
    "    return A_complete\n"
   ]
  },
  {
   "cell_type": "code",
   "execution_count": 7,
   "metadata": {},
   "outputs": [
    {
     "name": "stdout",
     "output_type": "stream",
     "text": [
      "[[0. 0. 0.]\n",
      " [0. 0. 0.]\n",
      " [0. 0. 0.]]\n"
     ]
    },
    {
     "name": "stderr",
     "output_type": "stream",
     "text": [
      "/tmp/ipykernel_25438/37062102.py:12: RuntimeWarning: invalid value encountered in double_scalars\n",
      "  if np.linalg.norm(X_new - X) / np.linalg.norm(X) < tol:\n"
     ]
    }
   ],
   "source": [
    "A = np.array([[1, 2, np.nan], [3, np.nan, 4], [np.nan, 5, 6]])\n",
    "A_complete = svt(A, tau=1.0)\n",
    "print(A_complete)"
   ]
  },
  {
   "cell_type": "code",
   "execution_count": null,
   "metadata": {},
   "outputs": [],
   "source": []
  }
 ],
 "metadata": {
  "kernelspec": {
   "display_name": "dl",
   "language": "python",
   "name": "python3"
  },
  "language_info": {
   "codemirror_mode": {
    "name": "ipython",
    "version": 3
   },
   "file_extension": ".py",
   "mimetype": "text/x-python",
   "name": "python",
   "nbconvert_exporter": "python",
   "pygments_lexer": "ipython3",
   "version": "3.9.16"
  },
  "orig_nbformat": 4
 },
 "nbformat": 4,
 "nbformat_minor": 2
}
