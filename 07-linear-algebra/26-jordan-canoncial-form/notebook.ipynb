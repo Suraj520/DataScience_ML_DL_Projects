{
 "cells": [
  {
   "attachments": {},
   "cell_type": "markdown",
   "metadata": {},
   "source": [
    "#### About\n",
    "\n",
    "> Jordan Canonical Form\n",
    "\n",
    "The Jordan canonical form is a way to decompose a matrix into simpler parts that can be easier to work with. Specifically, it transforms a matrix into a block diagonal form where each block corresponds to a Jordan block, which is a matrix that has a specific structure.\n",
    "\n",
    "The Jordan blocks are constructed by taking the eigenvalues of the matrix and constructing a block for each eigenvalue. Each block has the eigenvalue along its diagonal, and 1's above the diagonal. If there are multiple blocks corresponding to the same eigenvalue, they are arranged in a specific way that depends on the dimension of the blocks and the number of blocks.\n",
    "\n",
    "\n",
    "\n"
   ]
  },
  {
   "cell_type": "code",
   "execution_count": 1,
   "metadata": {},
   "outputs": [],
   "source": [
    "import numpy as np\n",
    "\n"
   ]
  },
  {
   "cell_type": "code",
   "execution_count": 2,
   "metadata": {},
   "outputs": [],
   "source": [
    "# Define the matrix\n",
    "A = np.array([[3, 1, 0], [0, 3, 1], [0, 0, 3]])\n"
   ]
  },
  {
   "cell_type": "code",
   "execution_count": 3,
   "metadata": {},
   "outputs": [],
   "source": [
    "# Compute the eigenvalues and eigenvectors\n",
    "eigenvalues, eigenvectors = np.linalg.eig(A)"
   ]
  },
  {
   "cell_type": "code",
   "execution_count": 5,
   "metadata": {},
   "outputs": [],
   "source": [
    "# compute jordan canonical form\n",
    "P = eigenvectors\n",
    "D = np.zeros_like(A)\n",
    "i = 0\n",
    "while i < len(eigenvalues):\n",
    "    eigenvalue = eigenvalues[i]\n",
    "    block_size = np.count_nonzero(eigenvalues == eigenvalue)\n",
    "    block = np.diag(np.ones(block_size)*eigenvalue) + np.diag(np.ones(block_size-1), k=1)\n",
    "    D[i:i+block_size, i:i+block_size] = block\n",
    "    i += block_size"
   ]
  },
  {
   "cell_type": "code",
   "execution_count": 6,
   "metadata": {},
   "outputs": [
    {
     "name": "stdout",
     "output_type": "stream",
     "text": [
      "Jordan canonical form:\n",
      " [[ 3.00000000e+00  8.88178420e-16 -2.22044605e-16]\n",
      " [ 0.00000000e+00  3.00000000e+00  4.44089210e-16]\n",
      " [ 0.00000000e+00  0.00000000e+00  3.00000000e+00]]\n"
     ]
    }
   ],
   "source": [
    "J = np.linalg.inv(P) @ A @ P\n",
    "print(\"Jordan canonical form:\\n\", J)"
   ]
  },
  {
   "cell_type": "code",
   "execution_count": null,
   "metadata": {},
   "outputs": [],
   "source": []
  }
 ],
 "metadata": {
  "kernelspec": {
   "display_name": "dl",
   "language": "python",
   "name": "python3"
  },
  "language_info": {
   "codemirror_mode": {
    "name": "ipython",
    "version": 3
   },
   "file_extension": ".py",
   "mimetype": "text/x-python",
   "name": "python",
   "nbconvert_exporter": "python",
   "pygments_lexer": "ipython3",
   "version": "3.9.16"
  },
  "orig_nbformat": 4
 },
 "nbformat": 4,
 "nbformat_minor": 2
}
