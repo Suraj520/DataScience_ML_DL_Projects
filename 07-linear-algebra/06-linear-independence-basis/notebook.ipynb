{
 "cells": [
  {
   "attachments": {},
   "cell_type": "markdown",
   "metadata": {},
   "source": [
    "#### About\n",
    "\n",
    "> Linear independence and basis\n",
    "\n",
    "Linear independence and basis are important concepts in linear algebra that are used to describe the structure of vector spaces.\n",
    "\n",
    "- Linear Independence:\n",
    "A set of vectors in a vector space is said to be linearly independent if no vector in the set can be written as a linear combination of the others. In other words, the only way to obtain the zero vector as a linear combination of the vectors in the set is by setting all the coefficients to zero.\n",
    "\n",
    "- Basis:\n",
    "A basis for a vector space is a set of linearly independent vectors that span the entire space, meaning that any vector in the space can be written as a linear combination of the basis vectors.\n",
    "\n",
    "\n"
   ]
  },
  {
   "cell_type": "code",
   "execution_count": 1,
   "metadata": {},
   "outputs": [],
   "source": [
    "import numpy as np\n"
   ]
  },
  {
   "cell_type": "code",
   "execution_count": 2,
   "metadata": {},
   "outputs": [],
   "source": [
    "# Define three vectors in R3\n",
    "v1 = np.array([1, 0, 0])\n",
    "v2 = np.array([0, 1, 0])\n",
    "v3 = np.array([0, 0, 1])\n",
    "\n"
   ]
  },
  {
   "cell_type": "code",
   "execution_count": 3,
   "metadata": {},
   "outputs": [],
   "source": [
    "# Define another vector in R3\n",
    "w = np.array([2, 3, 1])\n"
   ]
  },
  {
   "cell_type": "code",
   "execution_count": 4,
   "metadata": {},
   "outputs": [
    {
     "name": "stdout",
     "output_type": "stream",
     "text": [
      "v1, v2, and v3 are linearly independent\n"
     ]
    }
   ],
   "source": [
    "# Test linear independence of v1, v2, and v3\n",
    "matrix = np.stack((v1, v2, v3), axis=1)\n",
    "rank = np.linalg.matrix_rank(matrix)\n",
    "if rank == 3:\n",
    "    print(\"v1, v2, and v3 are linearly independent\")\n",
    "else:\n",
    "    print(\"v1, v2, and v3 are linearly dependent\")"
   ]
  },
  {
   "cell_type": "code",
   "execution_count": 5,
   "metadata": {},
   "outputs": [
    {
     "name": "stdout",
     "output_type": "stream",
     "text": [
      "w can be expressed as a linear combination of v1, v2, and v3\n"
     ]
    }
   ],
   "source": [
    "# Test whether w is in the span of v1, v2, and v3\n",
    "matrix = np.stack((v1, v2, v3, w), axis=1)\n",
    "rank = np.linalg.matrix_rank(matrix)\n",
    "if rank == 3:\n",
    "    print(\"w can be expressed as a linear combination of v1, v2, and v3\")\n",
    "else:\n",
    "    print(\"w cannot be expressed as a linear combination of v1, v2, and v3\")\n"
   ]
  },
  {
   "cell_type": "code",
   "execution_count": 6,
   "metadata": {},
   "outputs": [
    {
     "name": "stdout",
     "output_type": "stream",
     "text": [
      "A basis for the span of v1, v2, and v3 is:\n",
      "[[1. 0. 0.]\n",
      " [0. 1. 0.]\n",
      " [0. 0. 1.]]\n"
     ]
    }
   ],
   "source": [
    "# Find a basis for the span of v1, v2, and v3\n",
    "matrix = np.stack((v1, v2, v3), axis=1)\n",
    "basis = np.linalg.qr(matrix)[0]\n",
    "print(\"A basis for the span of v1, v2, and v3 is:\")\n",
    "print(basis)"
   ]
  },
  {
   "cell_type": "code",
   "execution_count": null,
   "metadata": {},
   "outputs": [],
   "source": []
  }
 ],
 "metadata": {
  "kernelspec": {
   "display_name": "dl",
   "language": "python",
   "name": "python3"
  },
  "language_info": {
   "codemirror_mode": {
    "name": "ipython",
    "version": 3
   },
   "file_extension": ".py",
   "mimetype": "text/x-python",
   "name": "python",
   "nbconvert_exporter": "python",
   "pygments_lexer": "ipython3",
   "version": "3.9.16"
  },
  "orig_nbformat": 4
 },
 "nbformat": 4,
 "nbformat_minor": 2
}
