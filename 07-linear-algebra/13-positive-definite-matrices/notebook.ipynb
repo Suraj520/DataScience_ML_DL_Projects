{
 "cells": [
  {
   "attachments": {},
   "cell_type": "markdown",
   "metadata": {},
   "source": [
    "#### About\n",
    "\n",
    "> Positive Definite Matrix\n",
    "\n",
    "A positive definite matrix is a symmetric matrix in which all the eigenvalues are positive. In other words, for any vector x, the quadratic form x^T Ax is positive, where A is a positive definite matrix and x^T denotes the transpose of x. "
   ]
  },
  {
   "cell_type": "code",
   "execution_count": 2,
   "metadata": {},
   "outputs": [],
   "source": [
    "import numpy as np\n"
   ]
  },
  {
   "cell_type": "code",
   "execution_count": 3,
   "metadata": {},
   "outputs": [],
   "source": [
    "A = np.array([[2, 1], [1, 2]])\n"
   ]
  },
  {
   "cell_type": "code",
   "execution_count": 4,
   "metadata": {},
   "outputs": [
    {
     "name": "stdout",
     "output_type": "stream",
     "text": [
      "A is positive definite\n"
     ]
    }
   ],
   "source": [
    "# check if A is positive definite\n",
    "eigvals = np.linalg.eigvalsh(A)\n",
    "if np.all(eigvals > 0):\n",
    "    print(\"A is positive definite\")\n",
    "else:\n",
    "    print(\"A is not positive definite\")"
   ]
  },
  {
   "attachments": {},
   "cell_type": "markdown",
   "metadata": {},
   "source": [
    "One use case for positive definite matrices is in optimization, where they are used to define convex functions.\n",
    "\n",
    "Another use case for positive definite matrices is in Gaussian processes, which are a powerful tool in machine learning for modeling complex data distributions. \n",
    "\n"
   ]
  },
  {
   "cell_type": "code",
   "execution_count": null,
   "metadata": {},
   "outputs": [],
   "source": []
  }
 ],
 "metadata": {
  "kernelspec": {
   "display_name": "dl",
   "language": "python",
   "name": "python3"
  },
  "language_info": {
   "codemirror_mode": {
    "name": "ipython",
    "version": 3
   },
   "file_extension": ".py",
   "mimetype": "text/x-python",
   "name": "python",
   "nbconvert_exporter": "python",
   "pygments_lexer": "ipython3",
   "version": "3.9.16"
  },
  "orig_nbformat": 4
 },
 "nbformat": 4,
 "nbformat_minor": 2
}
