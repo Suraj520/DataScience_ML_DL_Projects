{
 "cells": [
  {
   "attachments": {},
   "cell_type": "markdown",
   "metadata": {},
   "source": [
    "#### About\n",
    "\n",
    "> Matrix Inequalities\n",
    "\n",
    "Matrix inequalities are mathematical expressions that relate matrices and their eigenvalues. "
   ]
  },
  {
   "cell_type": "code",
   "execution_count": 1,
   "metadata": {},
   "outputs": [],
   "source": [
    "import numpy as np\n",
    "\n",
    "# Create a random Hermitian matrix\n",
    "A = np.random.rand(3, 3) + 1j*np.random.rand(3, 3)\n",
    "A = A + np.transpose(np.conj(A))"
   ]
  },
  {
   "cell_type": "code",
   "execution_count": 2,
   "metadata": {},
   "outputs": [
    {
     "name": "stdout",
     "output_type": "stream",
     "text": [
      "Smallest eigenvalue of A: (2.462871944890963-3.873615749429009e-17j)\n"
     ]
    }
   ],
   "source": [
    "# Compute the smallest eigenvalue using the Rayleigh-Ritz theorem\n",
    "v = np.random.rand(3)\n",
    "lambda_min = np.dot(v, np.dot(A, v)) / np.dot(v, v)\n",
    "print(\"Smallest eigenvalue of A:\", lambda_min)"
   ]
  },
  {
   "attachments": {},
   "cell_type": "markdown",
   "metadata": {},
   "source": [
    "The use case of matrix inequalities such as the Rayleigh-Ritz theorem is primarily in linear algebra and numerical analysis. These inequalities provide useful bounds on eigenvalues and other matrix properties that can be used to analyze the behavior of linear systems, such as in control theory and signal processing. "
   ]
  },
  {
   "cell_type": "code",
   "execution_count": null,
   "metadata": {},
   "outputs": [],
   "source": []
  }
 ],
 "metadata": {
  "kernelspec": {
   "display_name": "dl",
   "language": "python",
   "name": "python3"
  },
  "language_info": {
   "codemirror_mode": {
    "name": "ipython",
    "version": 3
   },
   "file_extension": ".py",
   "mimetype": "text/x-python",
   "name": "python",
   "nbconvert_exporter": "python",
   "pygments_lexer": "ipython3",
   "version": "3.9.16"
  },
  "orig_nbformat": 4
 },
 "nbformat": 4,
 "nbformat_minor": 2
}
