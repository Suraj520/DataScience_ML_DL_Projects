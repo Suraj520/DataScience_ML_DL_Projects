{
 "cells": [
  {
   "attachments": {},
   "cell_type": "markdown",
   "metadata": {},
   "source": [
    "#### About\n",
    "\n",
    "> Lyapunov Equations\n",
    "\n",
    "Lyapunov equations are a type of matrix equation that arise in control theory and signal processing. In particular, they are used to analyze the stability of linear dynamical systems. Given a matrix A, the Lyapunov equation is of the form:\n",
    "\n",
    "AX + XA^T = -Q\n",
    "\n",
    "where X is a matrix to be solved for, and Q is a given symmetric positive definite matrix.\n",
    "\n",
    "The solution to the Lyapunov equation can be used to determine the stability of the linear dynamical system described by A. If the solution X is positive definite, then the system is asymptotically stable.\n",
    "\n"
   ]
  },
  {
   "cell_type": "code",
   "execution_count": 1,
   "metadata": {},
   "outputs": [],
   "source": [
    "import numpy as np\n",
    "\n",
    "# Define the system matrix\n",
    "A = np.array([[-1, 0.5], [0, -2]])"
   ]
  },
  {
   "cell_type": "code",
   "execution_count": 2,
   "metadata": {},
   "outputs": [],
   "source": [
    "# Define the Q matrix\n",
    "Q = np.eye(2)\n"
   ]
  },
  {
   "cell_type": "code",
   "execution_count": 3,
   "metadata": {},
   "outputs": [],
   "source": [
    "\n",
    "# Solve the Lyapunov equation\n",
    "X = np.linalg.solve(np.kron(np.eye(2), A) + np.kron(A.T, np.eye(2)), -Q.flatten())\n",
    "X = X.reshape((2, 2))"
   ]
  },
  {
   "cell_type": "code",
   "execution_count": 4,
   "metadata": {},
   "outputs": [
    {
     "name": "stdout",
     "output_type": "stream",
     "text": [
      "System is asymptotically stable\n"
     ]
    }
   ],
   "source": [
    "# Check if the solution is positive definite\n",
    "eigenvalues = np.linalg.eigvals(X)\n",
    "if np.all(eigenvalues > 0):\n",
    "    print(\"System is asymptotically stable\")\n",
    "else:\n",
    "    print(\"System is not asymptotically stable\")"
   ]
  },
  {
   "cell_type": "code",
   "execution_count": null,
   "metadata": {},
   "outputs": [],
   "source": []
  }
 ],
 "metadata": {
  "kernelspec": {
   "display_name": "dl",
   "language": "python",
   "name": "python3"
  },
  "language_info": {
   "codemirror_mode": {
    "name": "ipython",
    "version": 3
   },
   "file_extension": ".py",
   "mimetype": "text/x-python",
   "name": "python",
   "nbconvert_exporter": "python",
   "pygments_lexer": "ipython3",
   "version": "3.9.16"
  },
  "orig_nbformat": 4
 },
 "nbformat": 4,
 "nbformat_minor": 2
}
