{
 "cells": [
  {
   "attachments": {},
   "cell_type": "markdown",
   "metadata": {},
   "source": [
    "#### About\n",
    "\n",
    "> Orthogonality\n",
    "\n",
    "Orthogonality is a concept in linear algebra that refers to the perpendicularity of vectors or subspaces. Two vectors are said to be orthogonal if their dot product is zero. Orthogonality has many applications, such as projection of vectors onto subspaces etc."
   ]
  },
  {
   "cell_type": "code",
   "execution_count": 1,
   "metadata": {},
   "outputs": [],
   "source": [
    "import numpy as np\n"
   ]
  },
  {
   "cell_type": "code",
   "execution_count": 2,
   "metadata": {},
   "outputs": [],
   "source": [
    "v1 = np.array([1, 2, 3])\n",
    "v2 = np.array([4, 5, 6])"
   ]
  },
  {
   "cell_type": "code",
   "execution_count": 3,
   "metadata": {},
   "outputs": [
    {
     "name": "stdout",
     "output_type": "stream",
     "text": [
      "The vectors are not orthogonal.\n"
     ]
    }
   ],
   "source": [
    "# compute the dot product\n",
    "dot_prod = np.dot(v1, v2)\n",
    "\n",
    "# check if the vectors are orthogonal\n",
    "if dot_prod == 0:\n",
    "    print(\"The vectors are orthogonal.\")\n",
    "else:\n",
    "    print(\"The vectors are not orthogonal.\")"
   ]
  },
  {
   "attachments": {},
   "cell_type": "markdown",
   "metadata": {},
   "source": [
    "In many applications, such as image processing and data analysis, the data is high-dimensional, which can make analysis and visualization difficult. One way to reduce the dimensionality of the data is to project it onto a lower-dimensional subspace. Orthogonality is useful in this context because it allows us to find a set of orthogonal vectors that span the subspace, which simplifies the computation and interpretation of the projection. For example, in principal component analysis (PCA), a widely used technique for dimensionality reduction, the goal is to find a set of orthogonal vectors that capture the maximum variance in the data."
   ]
  },
  {
   "cell_type": "code",
   "execution_count": null,
   "metadata": {},
   "outputs": [],
   "source": []
  }
 ],
 "metadata": {
  "kernelspec": {
   "display_name": "dl",
   "language": "python",
   "name": "python3"
  },
  "language_info": {
   "codemirror_mode": {
    "name": "ipython",
    "version": 3
   },
   "file_extension": ".py",
   "mimetype": "text/x-python",
   "name": "python",
   "nbconvert_exporter": "python",
   "pygments_lexer": "ipython3",
   "version": "3.9.16"
  },
  "orig_nbformat": 4
 },
 "nbformat": 4,
 "nbformat_minor": 2
}
