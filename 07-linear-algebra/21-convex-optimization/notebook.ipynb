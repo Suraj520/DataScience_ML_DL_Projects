{
 "cells": [
  {
   "attachments": {},
   "cell_type": "markdown",
   "metadata": {},
   "source": [
    "#### About\n",
    "\n",
    "> Convex optimization.\n",
    "\n",
    "Convex optimization is a subfield of optimization that deals with finding the minimum of a convex function over a convex set. Convex optimization has many applications, such as machine learning, signal processing, and control theory.\n",
    "\n",
    "Convex optimization involves finding the minimum of a convex function f(x) over a convex set C, where x is a vector in n-dimensional space. A function f(x) is convex if the line segment between any two points on the graph of f(x) lies above the graph. A set C is convex if the line segment between any two points in C lies entirely within C.\n",
    "\n",
    "Convex optimization problems have the form:\n",
    "\n",
    "minimize f(x)\n",
    "\n",
    "subject to x in C\n",
    "\n",
    "where f(x) is a convex function and C is a convex set. Convex optimization problems have many desirable properties, such as the existence of a unique global minimum and efficient algorithms for solving them.\n"
   ]
  },
  {
   "attachments": {},
   "cell_type": "markdown",
   "metadata": {},
   "source": [
    "- As an example, consider the following convex optimization problem:\n",
    "\n",
    "minimize x^2 + y^2\n",
    "\n",
    "subject to x + y >= 1\n",
    "\n",
    "This problem involves finding the minimum of the function f(x,y) = x^2 + y^2 subject to the constraint x + y >= 1. The constraint defines a convex set C, which is the half-plane above the line x + y = 1. The function f(x,y) is a convex function, since it is the sum of two convex functions (x^2 and y^2).\n",
    "\n"
   ]
  },
  {
   "cell_type": "code",
   "execution_count": 2,
   "metadata": {},
   "outputs": [],
   "source": [
    "import cvxpy as cp\n"
   ]
  },
  {
   "cell_type": "code",
   "execution_count": 3,
   "metadata": {},
   "outputs": [],
   "source": [
    "# Define the variables\n",
    "x = cp.Variable()\n",
    "y = cp.Variable()\n"
   ]
  },
  {
   "cell_type": "code",
   "execution_count": 4,
   "metadata": {},
   "outputs": [],
   "source": [
    "# Define the objective function\n",
    "objective = cp.Minimize(x**2 + y**2)"
   ]
  },
  {
   "cell_type": "code",
   "execution_count": 5,
   "metadata": {},
   "outputs": [],
   "source": [
    "# Define the constraint\n",
    "constraint = [x + y >= 1]"
   ]
  },
  {
   "cell_type": "code",
   "execution_count": 6,
   "metadata": {},
   "outputs": [],
   "source": [
    "# Define the problem\n",
    "problem = cp.Problem(objective, constraint)"
   ]
  },
  {
   "cell_type": "code",
   "execution_count": 7,
   "metadata": {},
   "outputs": [
    {
     "data": {
      "text/plain": [
       "0.5000000000000002"
      ]
     },
     "execution_count": 7,
     "metadata": {},
     "output_type": "execute_result"
    }
   ],
   "source": [
    "# Solve the problem\n",
    "problem.solve()"
   ]
  },
  {
   "cell_type": "code",
   "execution_count": 8,
   "metadata": {},
   "outputs": [
    {
     "name": "stdout",
     "output_type": "stream",
     "text": [
      "Optimal solution: x = 0.5000000000000001 y = 0.5000000000000001\n"
     ]
    }
   ],
   "source": [
    "# Print the optimal solution\n",
    "print(\"Optimal solution: x =\", x.value, \"y =\", y.value)"
   ]
  },
  {
   "attachments": {},
   "cell_type": "markdown",
   "metadata": {},
   "source": [
    "\n",
    "In this example, the optimal solution is x = 0.5 and y = 0.5, which satisfies the constraint x + y >= 1 and minimizes the objective function x^2 + y^2. "
   ]
  },
  {
   "cell_type": "code",
   "execution_count": null,
   "metadata": {},
   "outputs": [],
   "source": []
  }
 ],
 "metadata": {
  "kernelspec": {
   "display_name": "dl",
   "language": "python",
   "name": "python3"
  },
  "language_info": {
   "codemirror_mode": {
    "name": "ipython",
    "version": 3
   },
   "file_extension": ".py",
   "mimetype": "text/x-python",
   "name": "python",
   "nbconvert_exporter": "python",
   "pygments_lexer": "ipython3",
   "version": "3.9.16"
  },
  "orig_nbformat": 4
 },
 "nbformat": 4,
 "nbformat_minor": 2
}
