{
 "cells": [
  {
   "attachments": {},
   "cell_type": "markdown",
   "metadata": {},
   "source": [
    "#### About\n",
    "\n",
    "> Hermitian matrices.\n",
    "\n",
    "A Hermitian matrix is a complex square matrix that is equal to its own conjugate transpose. In other words, if A is a Hermitian matrix, then A = A* , where A* represents the conjugate transpose of A.\n",
    "\n"
   ]
  },
  {
   "cell_type": "code",
   "execution_count": 1,
   "metadata": {},
   "outputs": [],
   "source": [
    "import numpy as np\n"
   ]
  },
  {
   "cell_type": "code",
   "execution_count": 2,
   "metadata": {},
   "outputs": [
    {
     "name": "stdout",
     "output_type": "stream",
     "text": [
      "Hermitian matrix A:\n",
      " [[1.+0.j 2.-1.j 3.+2.j]\n",
      " [2.+1.j 4.+0.j 5.-3.j]\n",
      " [3.-2.j 5.+3.j 6.+0.j]]\n"
     ]
    }
   ],
   "source": [
    "A = np.array([[1+0j, 2-1j, 3+2j], [2+1j, 4+0j, 5-3j], [3-2j, 5+3j, 6+0j]])\n",
    "print(\"Hermitian matrix A:\\n\", A)\n"
   ]
  },
  {
   "cell_type": "code",
   "execution_count": 3,
   "metadata": {},
   "outputs": [
    {
     "name": "stdout",
     "output_type": "stream",
     "text": [
      "A is Hermitian\n"
     ]
    }
   ],
   "source": [
    "# check if A is Hermitian\n",
    "if np.allclose(A, A.conj().T):\n",
    "    print(\"A is Hermitian\")\n",
    "else:\n",
    "    print(\"A is not Hermitian\")"
   ]
  },
  {
   "cell_type": "code",
   "execution_count": null,
   "metadata": {},
   "outputs": [],
   "source": []
  }
 ],
 "metadata": {
  "kernelspec": {
   "display_name": "dl",
   "language": "python",
   "name": "python3"
  },
  "language_info": {
   "codemirror_mode": {
    "name": "ipython",
    "version": 3
   },
   "file_extension": ".py",
   "mimetype": "text/x-python",
   "name": "python",
   "nbconvert_exporter": "python",
   "pygments_lexer": "ipython3",
   "version": "3.9.16"
  },
  "orig_nbformat": 4
 },
 "nbformat": 4,
 "nbformat_minor": 2
}
