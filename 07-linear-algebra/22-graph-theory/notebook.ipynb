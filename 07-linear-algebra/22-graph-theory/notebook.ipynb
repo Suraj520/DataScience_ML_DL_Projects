{
 "cells": [
  {
   "attachments": {},
   "cell_type": "markdown",
   "metadata": {},
   "source": [
    "#### About\n",
    "\n",
    "> Graph theory\n",
    "\n",
    "Graph theory is a branch of mathematics that deals with the study of graphs, which are structures consisting of nodes (also called vertices) and edges that connect these nodes. Graphs can be used to represent many real-world situations, such as social networks, transportation systems, and computer networks.\n",
    "\n",
    "Suppose you want to model a social network of users and their connections. You can represent this network using a graph, where each user is a node and each connection between users is an edge.\n",
    "\n"
   ]
  },
  {
   "cell_type": "code",
   "execution_count": 7,
   "metadata": {},
   "outputs": [],
   "source": [
    "import networkx as nx\n",
    "social_network = nx.Graph()"
   ]
  },
  {
   "cell_type": "code",
   "execution_count": 8,
   "metadata": {},
   "outputs": [],
   "source": [
    "social_network.add_node(\"Suraj\")\n",
    "social_network.add_node(\"Amit\")\n",
    "social_network.add_node(\"Rahul\")"
   ]
  },
  {
   "cell_type": "code",
   "execution_count": 9,
   "metadata": {},
   "outputs": [],
   "source": [
    "social_network.add_edge(\"Suraj\", \"Amit\")\n",
    "social_network.add_edge(\"Amit\", \"Rahul\")"
   ]
  },
  {
   "cell_type": "code",
   "execution_count": 11,
   "metadata": {},
   "outputs": [
    {
     "name": "stdout",
     "output_type": "stream",
     "text": [
      "['Suraj', 'Amit', 'Rahul']\n"
     ]
    }
   ],
   "source": [
    "shortest_path = nx.shortest_path(social_network, \"Suraj\", \"Rahul\")\n",
    "print(shortest_path)"
   ]
  },
  {
   "attachments": {},
   "cell_type": "markdown",
   "metadata": {},
   "source": [
    "Found out the shortest parth between Suraj and Rahul in a social media network."
   ]
  },
  {
   "attachments": {},
   "cell_type": "markdown",
   "metadata": {},
   "source": [
    "- Another use case is to identify key users in the network based on their degree centrality which is a measure of how many connections a user has."
   ]
  },
  {
   "cell_type": "code",
   "execution_count": 12,
   "metadata": {},
   "outputs": [
    {
     "name": "stdout",
     "output_type": "stream",
     "text": [
      "Amit\n"
     ]
    }
   ],
   "source": [
    "degree_centrality = nx.degree_centrality(social_network)\n",
    "highest_degree_user = max(degree_centrality, key=degree_centrality.get)\n",
    "print(highest_degree_user)"
   ]
  },
  {
   "cell_type": "code",
   "execution_count": null,
   "metadata": {},
   "outputs": [],
   "source": []
  }
 ],
 "metadata": {
  "kernelspec": {
   "display_name": "dl",
   "language": "python",
   "name": "python3"
  },
  "language_info": {
   "codemirror_mode": {
    "name": "ipython",
    "version": 3
   },
   "file_extension": ".py",
   "mimetype": "text/x-python",
   "name": "python",
   "nbconvert_exporter": "python",
   "pygments_lexer": "ipython3",
   "version": "3.9.16"
  },
  "orig_nbformat": 4
 },
 "nbformat": 4,
 "nbformat_minor": 2
}
