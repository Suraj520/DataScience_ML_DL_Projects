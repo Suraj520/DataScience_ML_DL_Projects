{
 "cells": [
  {
   "attachments": {},
   "cell_type": "markdown",
   "metadata": {},
   "source": [
    "#### About\n",
    "\n",
    "> Orthogonal matrices\n",
    "\n",
    "An orthogonal matrix is a square matrix where the columns (and rows) are orthonormal, meaning that each column has unit length and is orthogonal to every other column. In other words, an orthogonal matrix Q satisfies the equation Q^T Q = I, where Q^T is the transpose of Q and I is the identity matrix.\n",
    "\n"
   ]
  },
  {
   "cell_type": "code",
   "execution_count": 1,
   "metadata": {},
   "outputs": [],
   "source": [
    "import numpy as np\n"
   ]
  },
  {
   "cell_type": "code",
   "execution_count": 2,
   "metadata": {},
   "outputs": [],
   "source": [
    "# Create a random 3x3 matrix\n",
    "A = np.random.rand(3, 3)"
   ]
  },
  {
   "cell_type": "code",
   "execution_count": 3,
   "metadata": {},
   "outputs": [],
   "source": [
    "# Compute the QR decomposition of A\n",
    "Q, R = np.linalg.qr(A)"
   ]
  },
  {
   "cell_type": "code",
   "execution_count": 4,
   "metadata": {},
   "outputs": [
    {
     "name": "stdout",
     "output_type": "stream",
     "text": [
      "[[-0.73192065  0.09243908 -0.6750905 ]\n",
      " [-0.05278517 -0.99546983 -0.07907941]\n",
      " [-0.67934225 -0.02224509  0.73348433]]\n",
      "[[ 1.00000000e+00 -1.10105980e-18  1.36749262e-16]\n",
      " [-1.10105980e-18  1.00000000e+00 -1.42567545e-17]\n",
      " [ 1.36749262e-16 -1.42567545e-17  1.00000000e+00]]\n"
     ]
    }
   ],
   "source": [
    "# Check that Q is orthogonal\n",
    "print(Q)\n",
    "print(Q.T @ Q)"
   ]
  },
  {
   "attachments": {},
   "cell_type": "markdown",
   "metadata": {},
   "source": [
    "Printing out Q and the product Q^T Q, which should be equal to the identity matrix I which demonstrates that Q is indeed orthogonal which doesn't validate in this case.\n",
    "\n",
    "One use case for orthogonal matrices is in linear regression, where the least squares solution can be expressed as a matrix multiplication using the QR decomposition. "
   ]
  },
  {
   "cell_type": "code",
   "execution_count": null,
   "metadata": {},
   "outputs": [],
   "source": []
  },
  {
   "cell_type": "code",
   "execution_count": null,
   "metadata": {},
   "outputs": [],
   "source": []
  }
 ],
 "metadata": {
  "kernelspec": {
   "display_name": "dl",
   "language": "python",
   "name": "python3"
  },
  "language_info": {
   "codemirror_mode": {
    "name": "ipython",
    "version": 3
   },
   "file_extension": ".py",
   "mimetype": "text/x-python",
   "name": "python",
   "nbconvert_exporter": "python",
   "pygments_lexer": "ipython3",
   "version": "3.9.16"
  },
  "orig_nbformat": 4
 },
 "nbformat": 4,
 "nbformat_minor": 2
}
