{
 "cells": [
  {
   "attachments": {},
   "cell_type": "markdown",
   "metadata": {},
   "source": [
    "#### About \n",
    "\n",
    "> Inner product spaces\n",
    "\n",
    "An inner product space is a vector space with an additional structure that allows for the definition of a dot product. The dot product, or inner product, is a way of measuring the similarity between two vectors. In an inner product space, the dot product is defined in terms of an inner product function that satisfies certain properties.\n",
    "\n",
    "One example of an inner product space is the space of real-valued n-dimensional vectors, denoted as R^n. In this space, the dot product of two vectors u and v is defined as:\n",
    "\n",
    "u * v = u1v1 + u2v2 + ... + un*vn\n",
    "\n",
    "where u1, u2, ..., un and v1, v2, ..., vn are the components of the vectors u and v, respectively.\n",
    "\n",
    "\n",
    "\n",
    "\n"
   ]
  },
  {
   "cell_type": "code",
   "execution_count": 2,
   "metadata": {},
   "outputs": [],
   "source": [
    "import numpy as np\n"
   ]
  },
  {
   "cell_type": "code",
   "execution_count": 3,
   "metadata": {},
   "outputs": [],
   "source": [
    "u = np.array([1, 2, 3])\n",
    "v = np.array([4, 5, 6])\n"
   ]
  },
  {
   "cell_type": "code",
   "execution_count": 4,
   "metadata": {},
   "outputs": [],
   "source": [
    "dot_product = np.dot(u, v)\n"
   ]
  },
  {
   "cell_type": "code",
   "execution_count": 5,
   "metadata": {},
   "outputs": [
    {
     "name": "stdout",
     "output_type": "stream",
     "text": [
      "32\n"
     ]
    }
   ],
   "source": [
    "print(dot_product)"
   ]
  },
  {
   "attachments": {},
   "cell_type": "markdown",
   "metadata": {},
   "source": [
    "An important use case of inner product spaces is in linear regression. In linear regression, we seek to find the coefficients of a linear combination of variables that best fits a given set of data points. This can be formulated as an optimization problem that involves finding the vector in the inner product space that minimizes the distance between the data points and the linear combination of variables. The inner product space structure allows us to use techniques such as orthogonal projection and least squares to solve this optimization problem and find the best-fit coefficients.\n",
    "\n"
   ]
  }
 ],
 "metadata": {
  "kernelspec": {
   "display_name": "dl",
   "language": "python",
   "name": "python3"
  },
  "language_info": {
   "codemirror_mode": {
    "name": "ipython",
    "version": 3
   },
   "file_extension": ".py",
   "mimetype": "text/x-python",
   "name": "python",
   "nbconvert_exporter": "python",
   "pygments_lexer": "ipython3",
   "version": "3.9.16"
  },
  "orig_nbformat": 4
 },
 "nbformat": 4,
 "nbformat_minor": 2
}
