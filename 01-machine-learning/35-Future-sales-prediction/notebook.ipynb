{
 "cells": [
  {
   "cell_type": "markdown",
   "id": "f2a348d8",
   "metadata": {
    "papermill": {
     "duration": 0.007415,
     "end_time": "2023-06-28T09:19:34.321747",
     "exception": false,
     "start_time": "2023-06-28T09:19:34.314332",
     "status": "completed"
    },
    "tags": []
   },
   "source": [
    "<div style=\"background-color:#5D73F2; color:#19180F; font-size:40px; font-family:Arial; padding:10px; border: 5px solid #19180F; border-radius:10px\"> Hidden Markov Models </div>\n",
    "<div style=\"background-color:#A8B4F6; color:#19180F; font-size:30px; font-family:Arial; padding:10px; border: 5px solid #19180F; border-radius:10px\"> Architecture Overview</div>\n",
    "<div style=\"background-color:#D5D9F2; color:#19180F; font-size:15px; font-family:Arial; padding:10px; border: 5px solid #19180F; border-radius:10px\"> \n",
    "Basically, an HMM is a statistical model designed to capture the underlying hidden states of a system based on observable outcomes. This is especially useful when working with sequential data, where the order of observations matters. Imagine you have a scenario where you observe a sequence of events, but you cannot directly observe the underlying condition that produced those events. For example, consider the weather. You can observe different weather patterns (eg sunny, cloudy, rainy) but you cannot directly understand the hidden factors that cause these weather changes (eg high or low pressure systems, wind patterns).<br><br>\n",
    "In an HMM, you assume an underlying sequence of hidden states that generate the observed events. Each hidden state corresponds to a specific state or situation. In the weather example, hidden states can represent weather patterns such as sunny, cloudy, or rainy.<br><br>\n",
    "HMM assumes that the hidden states form a Markov process, which means that the transition probability from one state to another depends only on the current state and not on the past history. This is called the Markov property and it simplifies the modeling process.<br><br>\n",
    "Furthermore, HMM assumes that each hidden state emits observable events with some probability. These bootstrap probabilities represent the probability of observing a particular outcome given the hidden state. In the weather example, emission probabilities could represent the probability of observing certain weather conditions given each weather model. By modeling the transition probabilities between hidden states and the triggering probabilities of observable events, the HMM can learn to obtain the most likely sequence of hidden states given the observed events. It is useful for tasks like speech recognition, gesture recognition, tagging parts of words, etc.<br><br>\n",
    "<b>Mathematics</b>\n",
    "1. Hidden States:<br><br>\n",
    "We denote the set of hidden states as S = {S1, S2, ..., SN}, where N is the total number of hidden states.<br>\n",
    "The set of hidden states is represented by the equation S = S1, S2,..., SN, where N represents the number of unanswered questions.<br>\n",
    "We use the formula S = S1, ‘S2,..., SN to represent [N] in terms of hidden states.<br>\n",
    "To represent the set of hidden states, we use the equation S = S1, S2,..., SN, where N is the count of all possible hidden state.<br>\n",
    "For the set of hidden states, we write S = S1, S2,..., N where N is the number of all the hidden state.<br>\n",
    "For the set of hidden states, we write S = S1, S2,..., N where N is the number of all the hidden state.<br><br>\n",
    "2. Observations:<br><br>\n",
    "We denote the set of observable events as O = {O1, O2, ..., OM}, where M is the total number of possible observations. <br><br>\n",
    "3. Transition Probabilities:<br><br>\n",
    "The transition probability controls how large the transition is from one hidden state to another. These probabilities are usually represented by a transition matrix A, where A(i, j) denotes the transition probability from the hidden state Si to the hidden state Sj.<br><br>\n",
    "4. Emission Probabilities:<br><br>\n",
    "The trigger probability determines the probability that a particular outcome will be observed given the hidden state. These probabilities are usually represented by the emission matrix B, where B(i, j) denotes the emission probability of the observation Oj in the hidden state Si.<br><br>\n",
    "5. Initial State Probabilities:<br><br>\n",
    "The initial state probabilities represent the onset probability of each hidden state. These probabilities are usually represented by the vector π, where π(i) denotes the probability of starting from the hidden state Si.<br><br>\n",
    "Using these components, we can mathematically define an HMM as a 5-corpus (S, O, A, B, π).\n",
    "Given a sequence of observed events, the HMM can use a Viterbi algorithm or a forward-backward algorithm to compute the most likely sequence of hidden states that produced those observations. The HMM framework provides an efficient way to model and analyze sequence data, allowing us to make predictions from observable outcomes and gain insight into underlying hidden states.\n",
    "</div>\n"
   ]
  },
  {
   "cell_type": "code",
   "execution_count": 1,
   "id": "7b33e517",
   "metadata": {
    "execution": {
     "iopub.execute_input": "2023-06-28T09:19:34.337482Z",
     "iopub.status.busy": "2023-06-28T09:19:34.337047Z",
     "iopub.status.idle": "2023-06-28T09:19:34.371252Z",
     "shell.execute_reply": "2023-06-28T09:19:34.370433Z"
    },
    "papermill": {
     "duration": 0.045271,
     "end_time": "2023-06-28T09:19:34.374070",
     "exception": false,
     "start_time": "2023-06-28T09:19:34.328799",
     "status": "completed"
    },
    "tags": []
   },
   "outputs": [
    {
     "data": {
      "image/svg+xml": [
       "<svg xmlns=\"http://www.w3.org/2000/svg\" xmlns:xlink=\"http://www.w3.org/1999/xlink\" width=\"724pt\" height=\"371pt\" viewBox=\"0.00 0.00 723.74 370.80\">\n",
       "<g id=\"graph0\" class=\"graph\" transform=\"scale(1 1) rotate(0) translate(4 366.8)\">\n",
       "<title>hmm</title>\n",
       "<polygon fill=\"#ffffff\" stroke=\"transparent\" points=\"-4,4 -4,-366.8 719.7442,-366.8 719.7442,4 -4,4\"/>\n",
       "<!-- S -->\n",
       "<g id=\"node1\" class=\"node\">\n",
       "<title>S</title>\n",
       "<ellipse fill=\"#ffd700\" stroke=\"#000000\" cx=\"1.8\" cy=\"-173\" rx=\"1.8\" ry=\"1.8\"/>\n",
       "</g>\n",
       "<!-- H1 -->\n",
       "<g id=\"node2\" class=\"node\">\n",
       "<title>H1</title>\n",
       "<polygon fill=\"#87cefa\" stroke=\"#000000\" points=\"158.9419,-191 104.9027,-191 104.9027,-155 158.9419,-155 158.9419,-191\"/>\n",
       "<text text-anchor=\"middle\" x=\"131.9223\" y=\"-169.4\" font-family=\"Arial\" font-size=\"12.00\" fill=\"#000000\">State 1</text>\n",
       "</g>\n",
       "<!-- S&#45;&gt;H1 -->\n",
       "<g id=\"edge1\" class=\"edge\">\n",
       "<title>S-&gt;H1</title>\n",
       "<path fill=\"none\" stroke=\"#000000\" d=\"M3.6394,-173C13.6063,-173 61.957,-173 96.3553,-173\"/>\n",
       "<polygon fill=\"#000000\" stroke=\"#000000\" points=\"104.7682,-173 96.7682,-176.6001 100.7682,-173 96.7682,-173.0001 96.7682,-173.0001 96.7682,-173.0001 100.7682,-173 96.7681,-169.4001 104.7682,-173 104.7682,-173\"/>\n",
       "<text text-anchor=\"middle\" x=\"52.3741\" y=\"-177.2\" font-family=\"Times,serif\" font-size=\"14.00\" fill=\"#800080\">P(S -&gt; H1)</text>\n",
       "</g>\n",
       "<!-- H2 -->\n",
       "<g id=\"node3\" class=\"node\">\n",
       "<title>H2</title>\n",
       "<polygon fill=\"#87cefa\" stroke=\"#000000\" points=\"332.0243,-103 277.9851,-103 277.9851,-67 332.0243,-67 332.0243,-103\"/>\n",
       "<text text-anchor=\"middle\" x=\"305.0047\" y=\"-81.4\" font-family=\"Arial\" font-size=\"12.00\" fill=\"#000000\">State 2</text>\n",
       "</g>\n",
       "<!-- S&#45;&gt;H2 -->\n",
       "<g id=\"edge2\" class=\"edge\">\n",
       "<title>S-&gt;H2</title>\n",
       "<path fill=\"none\" stroke=\"#000000\" d=\"M3.4408,-171.7715C16.1653,-162.3321 100.7263,-101.1705 180.6964,-82 210.1192,-74.9467 244.585,-76.5158 269.7528,-79.3802\"/>\n",
       "<polygon fill=\"#000000\" stroke=\"#000000\" points=\"277.9108,-80.3906 269.5289,-82.9799 273.9411,-79.8989 269.9715,-79.4072 269.9715,-79.4072 269.9715,-79.4072 273.9411,-79.8989 270.414,-75.8345 277.9108,-80.3906 277.9108,-80.3906\"/>\n",
       "<text text-anchor=\"middle\" x=\"131.9223\" y=\"-114.2\" font-family=\"Times,serif\" font-size=\"14.00\" fill=\"#800080\">P(S -&gt; H2)</text>\n",
       "</g>\n",
       "<!-- H3 -->\n",
       "<g id=\"node4\" class=\"node\">\n",
       "<title>H3</title>\n",
       "<polygon fill=\"#87cefa\" stroke=\"#000000\" points=\"509.7687,-219 455.7295,-219 455.7295,-183 509.7687,-183 509.7687,-219\"/>\n",
       "<text text-anchor=\"middle\" x=\"482.7491\" y=\"-197.4\" font-family=\"Arial\" font-size=\"12.00\" fill=\"#000000\">State 3</text>\n",
       "</g>\n",
       "<!-- S&#45;&gt;H3 -->\n",
       "<g id=\"edge3\" class=\"edge\">\n",
       "<title>S-&gt;H3</title>\n",
       "<path fill=\"none\" stroke=\"#000000\" d=\"M3.0742,-174.7154C5.9992,-178.563 13.5638,-188.0122 21.6,-194 53.3327,-217.6441 62.6993,-224.6359 101.1482,-234 242.8807,-268.5185 289.0711,-268.1477 429.313,-228 435.5662,-226.2099 441.9553,-223.6815 448.0402,-220.8829\"/>\n",
       "<polygon fill=\"#000000\" stroke=\"#000000\" points=\"455.5519,-217.2287 449.9329,-223.9656 451.9549,-218.9785 448.358,-220.7284 448.358,-220.7284 448.358,-220.7284 451.9549,-218.9785 446.7831,-217.4911 455.5519,-217.2287 455.5519,-217.2287\"/>\n",
       "<text text-anchor=\"middle\" x=\"216.1325\" y=\"-262.2\" font-family=\"Times,serif\" font-size=\"14.00\" fill=\"#800080\">P(S -&gt; H3)</text>\n",
       "</g>\n",
       "<!-- H1&#45;&gt;H1 -->\n",
       "<g id=\"edge4\" class=\"edge\">\n",
       "<title>H1-&gt;H1</title>\n",
       "<path fill=\"none\" stroke=\"#000000\" d=\"M117.8115,-191.1527C115.6406,-200.5391 120.3442,-209 131.9223,-209 139.8823,-209 144.5929,-205.0009 146.0543,-199.4513\"/>\n",
       "<polygon fill=\"#000000\" stroke=\"#000000\" points=\"146.0331,-191.1527 149.6537,-199.1434 146.0434,-195.1527 146.0537,-199.1527 146.0537,-199.1527 146.0537,-199.1527 146.0434,-195.1527 142.4537,-199.1619 146.0331,-191.1527 146.0331,-191.1527\"/>\n",
       "<text text-anchor=\"middle\" x=\"131.9223\" y=\"-213.2\" font-family=\"Times,serif\" font-size=\"14.00\" fill=\"#800080\">P(H1 -&gt; H1)</text>\n",
       "</g>\n",
       "<!-- H1&#45;&gt;H2 -->\n",
       "<g id=\"edge5\" class=\"edge\">\n",
       "<title>H1-&gt;H2</title>\n",
       "<path fill=\"none\" stroke=\"#000000\" d=\"M157.8258,-154.9831C165.0293,-150.4374 172.994,-145.8243 180.6964,-142.2 210.6858,-128.0888 221.6033,-133.1624 251.5686,-119 258.5043,-115.722 265.6283,-111.7056 272.3229,-107.5966\"/>\n",
       "<polygon fill=\"#000000\" stroke=\"#000000\" points=\"279.3895,-103.1322 274.549,-110.4485 276.0078,-105.2686 272.6262,-107.405 272.6262,-107.405 272.6262,-107.405 276.0078,-105.2686 270.7034,-104.3615 279.3895,-103.1322 279.3895,-103.1322\"/>\n",
       "<text text-anchor=\"middle\" x=\"216.1325\" y=\"-146.2\" font-family=\"Times,serif\" font-size=\"14.00\" fill=\"#800080\">P(H1 -&gt; H2)</text>\n",
       "</g>\n",
       "<!-- H1&#45;&gt;H3 -->\n",
       "<g id=\"edge6\" class=\"edge\">\n",
       "<title>H1-&gt;H3</title>\n",
       "<path fill=\"none\" stroke=\"#000000\" d=\"M159.0969,-181.5276C166.0871,-183.5201 173.6306,-185.4967 180.6964,-187 289.3188,-210.1099 318.8311,-223.2535 429.313,-212 435.273,-211.3929 441.5498,-210.4143 447.6231,-209.2849\"/>\n",
       "<polygon fill=\"#000000\" stroke=\"#000000\" points=\"455.7299,-207.672 448.5862,-212.7639 451.8068,-208.4525 447.8837,-209.2331 447.8837,-209.2331 447.8837,-209.2331 451.8068,-208.4525 447.1812,-205.7023 455.7299,-207.672 455.7299,-207.672\"/>\n",
       "<text text-anchor=\"middle\" x=\"305.0047\" y=\"-219.2\" font-family=\"Times,serif\" font-size=\"14.00\" fill=\"#800080\">P(H1 -&gt; H3)</text>\n",
       "</g>\n",
       "<!-- O1 -->\n",
       "<g id=\"node5\" class=\"node\">\n",
       "<title>O1</title>\n",
       "<polygon fill=\"#98fb98\" stroke=\"#000000\" points=\"715.5881,-334 625.2135,-334 625.2135,-298 715.5881,-298 715.5881,-334\"/>\n",
       "<text text-anchor=\"middle\" x=\"670.4008\" y=\"-312.4\" font-family=\"Arial\" font-size=\"12.00\" fill=\"#000000\">Observation 1</text>\n",
       "</g>\n",
       "<!-- H1&#45;&gt;O1 -->\n",
       "<g id=\"edge13\" class=\"edge\">\n",
       "<title>H1-&gt;O1</title>\n",
       "<path fill=\"none\" stroke=\"#000000\" d=\"M134.6377,-191.1224C139.3367,-215.5153 151.4612,-258.241 180.6964,-279 313.3945,-373.2245 520.4678,-347.5051 617.2248,-328.3249\"/>\n",
       "<polygon fill=\"#000000\" stroke=\"#000000\" points=\"625.1194,-326.7256 617.9935,-331.8424 621.199,-327.5199 617.2787,-328.3141 617.2787,-328.3141 617.2787,-328.3141 621.199,-327.5199 616.5639,-324.7858 625.1194,-326.7256 625.1194,-326.7256\"/>\n",
       "<text text-anchor=\"middle\" x=\"393.8769\" y=\"-350.2\" font-family=\"Times,serif\" font-size=\"14.00\" fill=\"#228b22\">P(H1 -&gt; O1)</text>\n",
       "</g>\n",
       "<!-- O2 -->\n",
       "<g id=\"node6\" class=\"node\">\n",
       "<title>O2</title>\n",
       "<polygon fill=\"#98fb98\" stroke=\"#000000\" points=\"715.5881,-36 625.2135,-36 625.2135,0 715.5881,0 715.5881,-36\"/>\n",
       "<text text-anchor=\"middle\" x=\"670.4008\" y=\"-14.4\" font-family=\"Arial\" font-size=\"12.00\" fill=\"#000000\">Observation 2</text>\n",
       "</g>\n",
       "<!-- H1&#45;&gt;O2 -->\n",
       "<g id=\"edge14\" class=\"edge\">\n",
       "<title>H1-&gt;O2</title>\n",
       "<path fill=\"none\" stroke=\"#000000\" d=\"M147.3613,-154.5944C152.7443,-147.5362 158.4852,-139.2024 162.6964,-131 174.4436,-108.1191 162.5847,-94.2619 180.6964,-76 239.3889,-16.8209 276.3117,-30.4056 358.4408,-16.2 448.0775,-.6959 554.3791,-6.3108 616.8938,-12.0065\"/>\n",
       "<polygon fill=\"#000000\" stroke=\"#000000\" points=\"625.0439,-12.7723 616.7422,-15.6081 621.0614,-12.3981 617.079,-12.0238 617.079,-12.0238 617.079,-12.0238 621.0614,-12.3981 617.4158,-8.4396 625.0439,-12.7723 625.0439,-12.7723\"/>\n",
       "<text text-anchor=\"middle\" x=\"393.8769\" y=\"-21.2\" font-family=\"Times,serif\" font-size=\"14.00\" fill=\"#228b22\">P(H1 -&gt; O2)</text>\n",
       "</g>\n",
       "<!-- O3 -->\n",
       "<g id=\"node7\" class=\"node\">\n",
       "<title>O3</title>\n",
       "<polygon fill=\"#98fb98\" stroke=\"#000000\" points=\"715.5881,-219 625.2135,-219 625.2135,-183 715.5881,-183 715.5881,-219\"/>\n",
       "<text text-anchor=\"middle\" x=\"670.4008\" y=\"-197.4\" font-family=\"Arial\" font-size=\"12.00\" fill=\"#000000\">Observation 3</text>\n",
       "</g>\n",
       "<!-- H1&#45;&gt;O3 -->\n",
       "<g id=\"edge15\" class=\"edge\">\n",
       "<title>H1-&gt;O3</title>\n",
       "<path fill=\"none\" stroke=\"#000000\" d=\"M154.2871,-191.3179C162.2731,-197.2305 171.5616,-203.4306 180.6964,-208 316.5504,-275.9573 369.0324,-290.774 518.1852,-262 557.2268,-254.4682 598.9744,-236.9986 628.8551,-222.6763\"/>\n",
       "<polygon fill=\"#000000\" stroke=\"#000000\" points=\"636.1873,-219.1108 630.5672,-225.8469 632.5901,-220.8601 628.9928,-222.6094 628.9928,-222.6094 628.9928,-222.6094 632.5901,-220.8601 627.4185,-219.3719 636.1873,-219.1108 636.1873,-219.1108\"/>\n",
       "<text text-anchor=\"middle\" x=\"393.8769\" y=\"-279.2\" font-family=\"Times,serif\" font-size=\"14.00\" fill=\"#228b22\">P(H1 -&gt; O3)</text>\n",
       "</g>\n",
       "<!-- H2&#45;&gt;H1 -->\n",
       "<g id=\"edge7\" class=\"edge\">\n",
       "<title>H2-&gt;H1</title>\n",
       "<path fill=\"none\" stroke=\"#000000\" d=\"M277.9156,-81.5078C251.2081,-79.4491 210.2183,-80.125 180.6964,-98.2 162.3514,-109.4319 149.5644,-130.4615 141.6996,-147.3688\"/>\n",
       "<polygon fill=\"#000000\" stroke=\"#000000\" points=\"138.4301,-154.797 138.358,-146.0245 140.0416,-151.1359 141.653,-147.4748 141.653,-147.4748 141.653,-147.4748 140.0416,-151.1359 144.9479,-148.9251 138.4301,-154.797 138.4301,-154.797\"/>\n",
       "<text text-anchor=\"middle\" x=\"216.1325\" y=\"-102.2\" font-family=\"Times,serif\" font-size=\"14.00\" fill=\"#800080\">P(H2 -&gt; H1)</text>\n",
       "</g>\n",
       "<!-- H2&#45;&gt;H2 -->\n",
       "<g id=\"edge8\" class=\"edge\">\n",
       "<title>H2-&gt;H2</title>\n",
       "<path fill=\"none\" stroke=\"#000000\" d=\"M289.0848,-103.1527C286.6356,-112.5391 291.9422,-121 305.0047,-121 313.9852,-121 319.2998,-117.0009 320.9485,-111.4513\"/>\n",
       "<polygon fill=\"#000000\" stroke=\"#000000\" points=\"320.9246,-103.1527 324.5478,-111.1423 320.9362,-107.1527 320.9478,-111.1527 320.9478,-111.1527 320.9478,-111.1527 320.9362,-107.1527 317.3478,-111.1631 320.9246,-103.1527 320.9246,-103.1527\"/>\n",
       "<text text-anchor=\"middle\" x=\"305.0047\" y=\"-125.2\" font-family=\"Times,serif\" font-size=\"14.00\" fill=\"#800080\">P(H2 -&gt; H2)</text>\n",
       "</g>\n",
       "<!-- H2&#45;&gt;H3 -->\n",
       "<g id=\"edge9\" class=\"edge\">\n",
       "<title>H2-&gt;H3</title>\n",
       "<path fill=\"none\" stroke=\"#000000\" d=\"M332.0358,-96.5847C340.4447,-100.0652 349.7814,-103.8051 358.4408,-107 389.5354,-118.4724 402.3442,-110.9341 429.313,-130.2 445.8966,-142.0469 459.6149,-160.5666 468.9984,-175.6937\"/>\n",
       "<polygon fill=\"#000000\" stroke=\"#000000\" points=\"473.2502,-182.803 466.0544,-177.785 471.1971,-179.3701 469.144,-175.9372 469.144,-175.9372 469.144,-175.9372 471.1971,-179.3701 472.2337,-174.0894 473.2502,-182.803 473.2502,-182.803\"/>\n",
       "<text text-anchor=\"middle\" x=\"393.8769\" y=\"-134.2\" font-family=\"Times,serif\" font-size=\"14.00\" fill=\"#800080\">P(H2 -&gt; H3)</text>\n",
       "</g>\n",
       "<!-- H2&#45;&gt;O1 -->\n",
       "<g id=\"edge16\" class=\"edge\">\n",
       "<title>H2-&gt;O1</title>\n",
       "<path fill=\"none\" stroke=\"#000000\" d=\"M332.0301,-85.9539C398.6394,-88.8761 568.11,-99.9648 607.0574,-138 636.2416,-166.5006 611.5849,-189.4968 625.0574,-228 632.8055,-250.1434 645.1823,-273.6918 655.049,-290.8514\"/>\n",
       "<polygon fill=\"#000000\" stroke=\"#000000\" points=\"659.1031,-297.7917 651.9594,-292.6997 657.0855,-294.3378 655.0679,-290.8839 655.0679,-290.8839 655.0679,-290.8839 657.0855,-294.3378 658.1764,-289.068 659.1031,-297.7917 659.1031,-297.7917\"/>\n",
       "<text text-anchor=\"middle\" x=\"482.7491\" y=\"-108.2\" font-family=\"Times,serif\" font-size=\"14.00\" fill=\"#228b22\">P(H2 -&gt; O1)</text>\n",
       "</g>\n",
       "<!-- H2&#45;&gt;O2 -->\n",
       "<g id=\"edge17\" class=\"edge\">\n",
       "<title>H2-&gt;O2</title>\n",
       "<path fill=\"none\" stroke=\"#000000\" d=\"M332.2175,-69.3303C340.472,-64.9654 349.6779,-60.4735 358.4408,-57 444.2708,-22.9777 552.8783,-16.889 616.6883,-16.6734\"/>\n",
       "<polygon fill=\"#000000\" stroke=\"#000000\" points=\"625.006,-16.6779 617.0041,-20.2735 621.006,-16.6757 617.006,-16.6735 617.006,-16.6735 617.006,-16.6735 621.006,-16.6757 617.008,-13.0735 625.006,-16.6779 625.006,-16.6779\"/>\n",
       "<text text-anchor=\"middle\" x=\"482.7491\" y=\"-36.2\" font-family=\"Times,serif\" font-size=\"14.00\" fill=\"#228b22\">P(H2 -&gt; O2)</text>\n",
       "</g>\n",
       "<!-- H2&#45;&gt;O3 -->\n",
       "<g id=\"edge18\" class=\"edge\">\n",
       "<title>H2-&gt;O3</title>\n",
       "<path fill=\"none\" stroke=\"#000000\" d=\"M332.2726,-78.8089C389.2292,-67.5339 522.5359,-49.9883 607.0574,-110 630.5416,-126.6742 648.2127,-154.9435 658.8435,-175.5579\"/>\n",
       "<polygon fill=\"#000000\" stroke=\"#000000\" points=\"662.4393,-182.7706 655.6481,-177.2172 660.6546,-179.1908 658.8699,-175.611 658.8699,-175.611 658.8699,-175.611 660.6546,-179.1908 662.0917,-174.0048 662.4393,-182.7706 662.4393,-182.7706\"/>\n",
       "<text text-anchor=\"middle\" x=\"482.7491\" y=\"-77.2\" font-family=\"Times,serif\" font-size=\"14.00\" fill=\"#228b22\">P(H2 -&gt; O3)</text>\n",
       "</g>\n",
       "<!-- H3&#45;&gt;H1 -->\n",
       "<g id=\"edge10\" class=\"edge\">\n",
       "<title>H3-&gt;H1</title>\n",
       "<path fill=\"none\" stroke=\"#000000\" d=\"M455.5163,-197.8989C417.4139,-193.5719 351.587,-186.1442 340.4408,-185.2 279.5923,-180.0456 208.569,-176.3933 167.0867,-174.4973\"/>\n",
       "<polygon fill=\"#000000\" stroke=\"#000000\" points=\"158.9467,-174.1306 167.1007,-170.8944 162.9427,-174.3107 166.9386,-174.4908 166.9386,-174.4908 166.9386,-174.4908 162.9427,-174.3107 166.7765,-178.0871 158.9467,-174.1306 158.9467,-174.1306\"/>\n",
       "<text text-anchor=\"middle\" x=\"305.0047\" y=\"-189.2\" font-family=\"Times,serif\" font-size=\"14.00\" fill=\"#800080\">P(H3 -&gt; H1)</text>\n",
       "</g>\n",
       "<!-- H3&#45;&gt;H2 -->\n",
       "<g id=\"edge11\" class=\"edge\">\n",
       "<title>H3-&gt;H2</title>\n",
       "<path fill=\"none\" stroke=\"#000000\" d=\"M455.5844,-183.8963C447.3313,-179.0986 438.114,-174.1262 429.313,-170.2 399.0449,-156.697 386.0197,-165.3819 358.4408,-147 343.8748,-137.2914 330.9538,-122.57 321.4674,-109.9082\"/>\n",
       "<polygon fill=\"#000000\" stroke=\"#000000\" points=\"316.5619,-103.1307 324.1688,-107.5005 318.9073,-106.371 321.2526,-109.6113 321.2526,-109.6113 321.2526,-109.6113 318.9073,-106.371 318.3363,-111.7221 316.5619,-103.1307 316.5619,-103.1307\"/>\n",
       "<text text-anchor=\"middle\" x=\"393.8769\" y=\"-174.2\" font-family=\"Times,serif\" font-size=\"14.00\" fill=\"#800080\">P(H3 -&gt; H2)</text>\n",
       "</g>\n",
       "<!-- H3&#45;&gt;H3 -->\n",
       "<g id=\"edge12\" class=\"edge\">\n",
       "<title>H3-&gt;H3</title>\n",
       "<path fill=\"none\" stroke=\"#000000\" d=\"M466.8292,-219.1527C464.38,-228.5391 469.6866,-237 482.7491,-237 491.7296,-237 497.0442,-233.0009 498.6929,-227.4513\"/>\n",
       "<polygon fill=\"#000000\" stroke=\"#000000\" points=\"498.669,-219.1527 502.2922,-227.1423 498.6806,-223.1527 498.6922,-227.1527 498.6922,-227.1527 498.6922,-227.1527 498.6806,-223.1527 495.0922,-227.1631 498.669,-219.1527 498.669,-219.1527\"/>\n",
       "<text text-anchor=\"middle\" x=\"482.7491\" y=\"-241.2\" font-family=\"Times,serif\" font-size=\"14.00\" fill=\"#800080\">P(H3 -&gt; H3)</text>\n",
       "</g>\n",
       "<!-- H3&#45;&gt;O1 -->\n",
       "<g id=\"edge19\" class=\"edge\">\n",
       "<title>H3-&gt;O1</title>\n",
       "<path fill=\"none\" stroke=\"#000000\" d=\"M510.0353,-217.722C542.7221,-237.7537 597.6069,-271.3892 633.9134,-293.6392\"/>\n",
       "<polygon fill=\"#000000\" stroke=\"#000000\" points=\"640.915,-297.93 632.2128,-296.8192 637.5044,-295.8399 634.0939,-293.7498 634.0939,-293.7498 634.0939,-293.7498 637.5044,-295.8399 635.975,-290.6803 640.915,-297.93 640.915,-297.93\"/>\n",
       "<text text-anchor=\"middle\" x=\"571.6213\" y=\"-279.2\" font-family=\"Times,serif\" font-size=\"14.00\" fill=\"#228b22\">P(H3 -&gt; O1)</text>\n",
       "</g>\n",
       "<!-- H3&#45;&gt;O2 -->\n",
       "<g id=\"edge20\" class=\"edge\">\n",
       "<title>H3-&gt;O2</title>\n",
       "<path fill=\"none\" stroke=\"#000000\" d=\"M501.4279,-182.7842C535.5704,-149.4881 608.026,-78.8286 646.0087,-41.7875\"/>\n",
       "<polygon fill=\"#000000\" stroke=\"#000000\" points=\"651.7975,-36.1421 648.5836,-44.3049 648.9338,-38.9348 646.0701,-41.7276 646.0701,-41.7276 646.0701,-41.7276 648.9338,-38.9348 643.5567,-39.1502 651.7975,-36.1421 651.7975,-36.1421\"/>\n",
       "<text text-anchor=\"middle\" x=\"571.6213\" y=\"-150.2\" font-family=\"Times,serif\" font-size=\"14.00\" fill=\"#228b22\">P(H3 -&gt; O2)</text>\n",
       "</g>\n",
       "<!-- H3&#45;&gt;O3 -->\n",
       "<g id=\"edge21\" class=\"edge\">\n",
       "<title>H3-&gt;O3</title>\n",
       "<path fill=\"none\" stroke=\"#000000\" d=\"M510.0353,-201C537.8905,-201 581.8665,-201 616.7276,-201\"/>\n",
       "<polygon fill=\"#000000\" stroke=\"#000000\" points=\"624.9232,-201 616.9232,-204.6001 620.9232,-201 616.9232,-201.0001 616.9232,-201.0001 616.9232,-201.0001 620.9232,-201 616.9231,-197.4001 624.9232,-201 624.9232,-201\"/>\n",
       "<text text-anchor=\"middle\" x=\"571.6213\" y=\"-205.2\" font-family=\"Times,serif\" font-size=\"14.00\" fill=\"#228b22\">P(H3 -&gt; O3)</text>\n",
       "</g>\n",
       "</g>\n",
       "</svg>"
      ],
      "text/plain": [
       "<IPython.core.display.SVG object>"
      ]
     },
     "metadata": {},
     "output_type": "display_data"
    }
   ],
   "source": [
    "from IPython.display import SVG, display\n",
    "\n",
    "# Load the SVG file and display it\n",
    "svg_file = '/kaggle/input/machine-learning-architecture-diagrams/HMM.svg'\n",
    "display(SVG(filename=svg_file))"
   ]
  },
  {
   "cell_type": "markdown",
   "id": "e748d867",
   "metadata": {
    "papermill": {
     "duration": 0.006842,
     "end_time": "2023-06-28T09:19:34.388213",
     "exception": false,
     "start_time": "2023-06-28T09:19:34.381371",
     "status": "completed"
    },
    "tags": []
   },
   "source": [
    "<div style=\"background-color:#D5D9F2; color:#19180F; font-size:15px; font-family:Arial; padding:10px; border: 5px solid #19180F; border-radius:10px\"> \n",
    "The block diagram represents the HMM architecture with the following components:<br>\n",
    "- The start state node (S) is represented by a yellow box labeled Start and is shaped like a point.\n",
    "Specifies the starting point of the HMM. \n",
    "- Hidden states (H1, H2, H3) are represented by blue fields labeled State 1, State 2 and State 3.\n",
    "They indicate the underlying state of the system, which cannot be directly observed. <br><br>\n",
    "- Observation nodes (O1, O2, O3) are represented by green fields labeled as Observation 1, Observation 2 and Observation 3.They represent the observable data or metrics associated with each hidden state. - Directed edges between nodes represent transition probabilities, which represent the probability of moving from one state to another.<br><br>\n",
    "Transition probabilities are in markers and indicated by purple arrows. - Directed edges from hidden states to observed nodes represent observation probabilities.<br><br>\n",
    "They indicate the probability of observing a given outcome given a given hidden state. Observational probabilities are marked in the margin and indicated by green arrows.<br><br></div>"
   ]
  },
  {
   "cell_type": "markdown",
   "id": "bf25a4b9",
   "metadata": {
    "papermill": {
     "duration": 0.007038,
     "end_time": "2023-06-28T09:19:34.402279",
     "exception": false,
     "start_time": "2023-06-28T09:19:34.395241",
     "status": "completed"
    },
    "tags": []
   },
   "source": [
    "<div style=\"background-color:#F0E3D2; color:#19180F; font-size:15px; font-family:Verdana; padding:10px; border: 2px solid #19180F; border-radius:10px\"> \n",
    "📌 Installing hmmlearn </div>"
   ]
  },
  {
   "cell_type": "code",
   "execution_count": 2,
   "id": "733236db",
   "metadata": {
    "execution": {
     "iopub.execute_input": "2023-06-28T09:19:34.419116Z",
     "iopub.status.busy": "2023-06-28T09:19:34.418132Z",
     "iopub.status.idle": "2023-06-28T09:19:48.743692Z",
     "shell.execute_reply": "2023-06-28T09:19:48.742224Z"
    },
    "papermill": {
     "duration": 14.336623,
     "end_time": "2023-06-28T09:19:48.746387",
     "exception": false,
     "start_time": "2023-06-28T09:19:34.409764",
     "status": "completed"
    },
    "tags": []
   },
   "outputs": [
    {
     "name": "stdout",
     "output_type": "stream",
     "text": [
      "Requirement already satisfied: hmmlearn in /opt/conda/lib/python3.10/site-packages (0.3.0)\r\n",
      "Requirement already satisfied: numpy>=1.10 in /opt/conda/lib/python3.10/site-packages (from hmmlearn) (1.23.5)\r\n",
      "Requirement already satisfied: scikit-learn!=0.22.0,>=0.16 in /opt/conda/lib/python3.10/site-packages (from hmmlearn) (1.2.2)\r\n",
      "Requirement already satisfied: scipy>=0.19 in /opt/conda/lib/python3.10/site-packages (from hmmlearn) (1.10.1)\r\n",
      "Requirement already satisfied: joblib>=1.1.1 in /opt/conda/lib/python3.10/site-packages (from scikit-learn!=0.22.0,>=0.16->hmmlearn) (1.2.0)\r\n",
      "Requirement already satisfied: threadpoolctl>=2.0.0 in /opt/conda/lib/python3.10/site-packages (from scikit-learn!=0.22.0,>=0.16->hmmlearn) (3.1.0)\r\n",
      "\u001b[33mWARNING: Running pip as the 'root' user can result in broken permissions and conflicting behaviour with the system package manager. It is recommended to use a virtual environment instead: https://pip.pypa.io/warnings/venv\u001b[0m\u001b[33m\r\n",
      "\u001b[0m"
     ]
    }
   ],
   "source": [
    "!pip install hmmlearn"
   ]
  },
  {
   "cell_type": "markdown",
   "id": "f015122c",
   "metadata": {
    "papermill": {
     "duration": 0.007315,
     "end_time": "2023-06-28T09:19:48.763004",
     "exception": false,
     "start_time": "2023-06-28T09:19:48.755689",
     "status": "completed"
    },
    "tags": []
   },
   "source": [
    "<div style=\"background-color:#F0E3D2; color:#19180F; font-size:15px; font-family:Verdana; padding:10px; border: 2px solid #19180F; border-radius:10px\"> \n",
    "📌 Importing relevant modules </div>"
   ]
  },
  {
   "cell_type": "code",
   "execution_count": 3,
   "id": "8b1761c0",
   "metadata": {
    "execution": {
     "iopub.execute_input": "2023-06-28T09:19:48.780421Z",
     "iopub.status.busy": "2023-06-28T09:19:48.779993Z",
     "iopub.status.idle": "2023-06-28T09:19:50.731182Z",
     "shell.execute_reply": "2023-06-28T09:19:50.730212Z"
    },
    "papermill": {
     "duration": 1.963319,
     "end_time": "2023-06-28T09:19:50.733980",
     "exception": false,
     "start_time": "2023-06-28T09:19:48.770661",
     "status": "completed"
    },
    "tags": []
   },
   "outputs": [],
   "source": [
    "import pandas as pd\n",
    "import numpy as np\n",
    "from hmmlearn import hmm"
   ]
  },
  {
   "cell_type": "markdown",
   "id": "5bc3aa00",
   "metadata": {
    "papermill": {
     "duration": 0.008047,
     "end_time": "2023-06-28T09:19:50.749950",
     "exception": false,
     "start_time": "2023-06-28T09:19:50.741903",
     "status": "completed"
    },
    "tags": []
   },
   "source": [
    "<div style=\"background-color:#F0E3D2; color:#19180F; font-size:15px; font-family:Verdana; padding:10px; border: 2px solid #19180F; border-radius:10px\"> \n",
    "📌 Loading the dataframe </div>\n"
   ]
  },
  {
   "cell_type": "code",
   "execution_count": 4,
   "id": "a1a7d2a4",
   "metadata": {
    "execution": {
     "iopub.execute_input": "2023-06-28T09:19:50.767223Z",
     "iopub.status.busy": "2023-06-28T09:19:50.766828Z",
     "iopub.status.idle": "2023-06-28T09:19:54.115186Z",
     "shell.execute_reply": "2023-06-28T09:19:54.113983Z"
    },
    "papermill": {
     "duration": 3.360393,
     "end_time": "2023-06-28T09:19:54.118040",
     "exception": false,
     "start_time": "2023-06-28T09:19:50.757647",
     "status": "completed"
    },
    "tags": []
   },
   "outputs": [],
   "source": [
    "sales_train = pd.read_csv('/kaggle/input/competitive-data-science-predict-future-sales/sales_train.csv')"
   ]
  },
  {
   "cell_type": "markdown",
   "id": "522f97b5",
   "metadata": {
    "papermill": {
     "duration": 0.008009,
     "end_time": "2023-06-28T09:19:54.133879",
     "exception": false,
     "start_time": "2023-06-28T09:19:54.125870",
     "status": "completed"
    },
    "tags": []
   },
   "source": [
    "<div style=\"background-color:#F0E3D2; color:#19180F; font-size:15px; font-family:Verdana; padding:10px; border: 2px solid #19180F; border-radius:10px\"> \n",
    "📌 Extracting the features </div>"
   ]
  },
  {
   "cell_type": "code",
   "execution_count": 5,
   "id": "5299f9fe",
   "metadata": {
    "execution": {
     "iopub.execute_input": "2023-06-28T09:19:54.150902Z",
     "iopub.status.busy": "2023-06-28T09:19:54.150462Z",
     "iopub.status.idle": "2023-06-28T09:19:54.254881Z",
     "shell.execute_reply": "2023-06-28T09:19:54.253823Z"
    },
    "papermill": {
     "duration": 0.116118,
     "end_time": "2023-06-28T09:19:54.257626",
     "exception": false,
     "start_time": "2023-06-28T09:19:54.141508",
     "status": "completed"
    },
    "tags": []
   },
   "outputs": [],
   "source": [
    "sales_train= sales_train.drop(['date_block_num','item_cnt_day'],axis=1)"
   ]
  },
  {
   "cell_type": "code",
   "execution_count": 6,
   "id": "38d55df2",
   "metadata": {
    "execution": {
     "iopub.execute_input": "2023-06-28T09:19:54.275335Z",
     "iopub.status.busy": "2023-06-28T09:19:54.274394Z",
     "iopub.status.idle": "2023-06-28T09:19:54.298684Z",
     "shell.execute_reply": "2023-06-28T09:19:54.297729Z"
    },
    "papermill": {
     "duration": 0.035437,
     "end_time": "2023-06-28T09:19:54.300987",
     "exception": false,
     "start_time": "2023-06-28T09:19:54.265550",
     "status": "completed"
    },
    "tags": []
   },
   "outputs": [],
   "source": [
    "X_train = sales_train[['shop_id', 'item_id']].values\n"
   ]
  },
  {
   "cell_type": "markdown",
   "id": "43f350fd",
   "metadata": {
    "papermill": {
     "duration": 0.007319,
     "end_time": "2023-06-28T09:19:54.316006",
     "exception": false,
     "start_time": "2023-06-28T09:19:54.308687",
     "status": "completed"
    },
    "tags": []
   },
   "source": [
    "<div style=\"background-color:#F0E3D2; color:#19180F; font-size:15px; font-family:Verdana; padding:10px; border: 2px solid #19180F; border-radius:10px\"> \n",
    "📌 Initializing and training the HMM </div>"
   ]
  },
  {
   "cell_type": "code",
   "execution_count": 7,
   "id": "73601378",
   "metadata": {
    "execution": {
     "iopub.execute_input": "2023-06-28T09:19:54.333426Z",
     "iopub.status.busy": "2023-06-28T09:19:54.332652Z",
     "iopub.status.idle": "2023-06-28T09:30:44.625261Z",
     "shell.execute_reply": "2023-06-28T09:30:44.624149Z"
    },
    "papermill": {
     "duration": 650.321021,
     "end_time": "2023-06-28T09:30:44.644616",
     "exception": false,
     "start_time": "2023-06-28T09:19:54.323595",
     "status": "completed"
    },
    "tags": []
   },
   "outputs": [
    {
     "name": "stderr",
     "output_type": "stream",
     "text": [
      "         1 -1589662576.80303693             +nan\n",
      "         2 -44858569.06501300 +1544804007.73802400\n",
      "         3 -43231873.41351562 +1626695.65149738\n",
      "         4 -37853547.28242067 +5378326.13109495\n",
      "         5 -30878336.32282025 +6975210.95960042\n",
      "         6 -26222549.24565124 +4655787.07716902\n",
      "         7 -23595254.05697578 +2627295.18867546\n",
      "         8 -21955055.63440244 +1640198.42257335\n",
      "         9 -20649139.44347603 +1305916.19092641\n",
      "        10 -19482630.00327627 +1166509.44019976\n",
      "        11 -18694858.78717340 +787771.21610288\n",
      "        12 -18079892.00641093 +614966.78076247\n",
      "        13 -17503152.86440773 +576739.14200320\n",
      "        14 -17015387.28220360 +487765.58220413\n",
      "        15 -16510587.72917770 +504799.55302591\n",
      "        16 -16079622.92142162 +430964.80775608\n",
      "        17 -15689079.20500121 +390543.71642040\n",
      "        18 -15294905.55030947 +394173.65469175\n",
      "        19 -14951749.71932742 +343155.83098205\n",
      "        20 -14623505.63462205 +328244.08470537\n",
      "        21 -14320736.50402691 +302769.13059514\n",
      "        22 -14023192.51663722 +297543.98738970\n",
      "        23 -13745126.94853938 +278065.56809784\n",
      "        24 -13525920.88849942 +219206.06003996\n",
      "        25 -13373631.08111381 +152289.80738560\n",
      "        26 -13275090.78290686  +98540.29820695\n",
      "        27 -13203486.72324107  +71604.05966579\n",
      "        28 -13157306.24792372  +46180.47531735\n",
      "        29 -13125991.81022590  +31314.43769782\n",
      "        30 -13101766.61390470  +24225.19632120\n",
      "        31 -13085284.43841302  +16482.17549168\n",
      "        32 -13071529.44451173  +13754.99390129\n",
      "        33 -13057519.65933687  +14009.78517486\n",
      "        34 -13047216.25160728  +10303.40772960\n",
      "        35 -13041375.32513599   +5840.92647129\n",
      "        36 -13037866.31846175   +3509.00667424\n",
      "        37 -13035554.75025047   +2311.56821128\n",
      "        38 -13033788.53274330   +1766.21750717\n",
      "        39 -13032390.87387478   +1397.65886852\n",
      "        40 -13031167.12834094   +1223.74553384\n",
      "        41 -13029967.92094562   +1199.20739532\n",
      "        42 -13028830.73437517   +1137.18657045\n",
      "        43 -13027767.11531521   +1063.61905996\n",
      "        44 -13026693.41985443   +1073.69546079\n",
      "        45 -13025697.23833044    +996.18152398\n",
      "        46 -13024947.69592954    +749.54240090\n",
      "        47 -13024314.79881880    +632.89711075\n",
      "        48 -13023535.30455837    +779.49426042\n",
      "        49 -13022359.85018523   +1175.45437315\n",
      "        50 -13010479.14095257  +11880.70923265\n",
      "        51 -12979995.92308539  +30483.21786718\n",
      "        52 -12961618.41382338  +18377.50926201\n",
      "        53 -12950088.20617129  +11530.20765210\n",
      "        54 -12945387.13086361   +4701.07530768\n",
      "        55 -12942029.07800924   +3358.05285437\n",
      "        56 -12931727.68409477  +10301.39391446\n",
      "        57 -12921525.02551923  +10202.65857554\n",
      "        58 -12907244.09172886  +14280.93379037\n",
      "        59 -12875391.82142973  +31852.27029913\n",
      "        60 -12838384.63270712  +37007.18872261\n",
      "        61 -12813324.19782957  +25060.43487755\n",
      "        62 -12792024.84742805  +21299.35040152\n",
      "        63 -12768194.74922275  +23830.09820530\n",
      "        64 -12738649.96529564  +29544.78392711\n",
      "        65 -12714578.17299621  +24071.79229942\n",
      "        66 -12700502.45992300  +14075.71307321\n",
      "        67 -12688567.81149395  +11934.64842905\n",
      "        68 -12669855.94318615  +18711.86830780\n",
      "        69 -12641874.59427785  +27981.34890830\n",
      "        70 -12613535.91935612  +28338.67492173\n",
      "        71 -12591156.20652477  +22379.71283135\n",
      "        72 -12576657.62207846  +14498.58444632\n",
      "        73 -12564776.29037496  +11881.33170350\n",
      "        74 -12553835.60406282  +10940.68631214\n",
      "        75 -12545714.05170841   +8121.55235441\n",
      "        76 -12538722.60341987   +6991.44828854\n",
      "        77 -12532229.59742217   +6493.00599771\n",
      "        78 -12527098.72470948   +5130.87271268\n",
      "        79 -12523430.68048813   +3668.04422135\n",
      "        80 -12520604.19292490   +2826.48756323\n",
      "        81 -12518109.63925512   +2494.55366978\n",
      "        82 -12515724.73865816   +2384.90059696\n",
      "        83 -12513363.48317052   +2361.25548764\n",
      "        84 -12511209.30100988   +2154.18216063\n",
      "        85 -12509291.04236119   +1918.25864870\n",
      "        86 -12507671.71345279   +1619.32890840\n",
      "        87 -12506475.89988593   +1195.81356686\n",
      "        88 -12505573.96288221    +901.93700372\n",
      "        89 -12504894.08021780    +679.88266441\n",
      "        90 -12504334.70797535    +559.37224245\n",
      "        91 -12503839.37021955    +495.33775580\n",
      "        92 -12503391.01577635    +448.35444320\n",
      "        93 -12502977.51536133    +413.50041502\n",
      "        94 -12502575.01501390    +402.50034743\n",
      "        95 -12502140.09939503    +434.91561887\n",
      "        96 -12501645.06771054    +495.03168450\n",
      "        97 -12501063.27392271    +581.79378782\n",
      "        98 -12500423.37013980    +639.90378291\n",
      "        99 -12499787.45625245    +635.91388735\n",
      "       100 -12499142.84120348    +644.61504897\n"
     ]
    },
    {
     "data": {
      "text/html": [
       "<style>#sk-container-id-1 {color: black;background-color: white;}#sk-container-id-1 pre{padding: 0;}#sk-container-id-1 div.sk-toggleable {background-color: white;}#sk-container-id-1 label.sk-toggleable__label {cursor: pointer;display: block;width: 100%;margin-bottom: 0;padding: 0.3em;box-sizing: border-box;text-align: center;}#sk-container-id-1 label.sk-toggleable__label-arrow:before {content: \"▸\";float: left;margin-right: 0.25em;color: #696969;}#sk-container-id-1 label.sk-toggleable__label-arrow:hover:before {color: black;}#sk-container-id-1 div.sk-estimator:hover label.sk-toggleable__label-arrow:before {color: black;}#sk-container-id-1 div.sk-toggleable__content {max-height: 0;max-width: 0;overflow: hidden;text-align: left;background-color: #f0f8ff;}#sk-container-id-1 div.sk-toggleable__content pre {margin: 0.2em;color: black;border-radius: 0.25em;background-color: #f0f8ff;}#sk-container-id-1 input.sk-toggleable__control:checked~div.sk-toggleable__content {max-height: 200px;max-width: 100%;overflow: auto;}#sk-container-id-1 input.sk-toggleable__control:checked~label.sk-toggleable__label-arrow:before {content: \"▾\";}#sk-container-id-1 div.sk-estimator input.sk-toggleable__control:checked~label.sk-toggleable__label {background-color: #d4ebff;}#sk-container-id-1 div.sk-label input.sk-toggleable__control:checked~label.sk-toggleable__label {background-color: #d4ebff;}#sk-container-id-1 input.sk-hidden--visually {border: 0;clip: rect(1px 1px 1px 1px);clip: rect(1px, 1px, 1px, 1px);height: 1px;margin: -1px;overflow: hidden;padding: 0;position: absolute;width: 1px;}#sk-container-id-1 div.sk-estimator {font-family: monospace;background-color: #f0f8ff;border: 1px dotted black;border-radius: 0.25em;box-sizing: border-box;margin-bottom: 0.5em;}#sk-container-id-1 div.sk-estimator:hover {background-color: #d4ebff;}#sk-container-id-1 div.sk-parallel-item::after {content: \"\";width: 100%;border-bottom: 1px solid gray;flex-grow: 1;}#sk-container-id-1 div.sk-label:hover label.sk-toggleable__label {background-color: #d4ebff;}#sk-container-id-1 div.sk-serial::before {content: \"\";position: absolute;border-left: 1px solid gray;box-sizing: border-box;top: 0;bottom: 0;left: 50%;z-index: 0;}#sk-container-id-1 div.sk-serial {display: flex;flex-direction: column;align-items: center;background-color: white;padding-right: 0.2em;padding-left: 0.2em;position: relative;}#sk-container-id-1 div.sk-item {position: relative;z-index: 1;}#sk-container-id-1 div.sk-parallel {display: flex;align-items: stretch;justify-content: center;background-color: white;position: relative;}#sk-container-id-1 div.sk-item::before, #sk-container-id-1 div.sk-parallel-item::before {content: \"\";position: absolute;border-left: 1px solid gray;box-sizing: border-box;top: 0;bottom: 0;left: 50%;z-index: -1;}#sk-container-id-1 div.sk-parallel-item {display: flex;flex-direction: column;z-index: 1;position: relative;background-color: white;}#sk-container-id-1 div.sk-parallel-item:first-child::after {align-self: flex-end;width: 50%;}#sk-container-id-1 div.sk-parallel-item:last-child::after {align-self: flex-start;width: 50%;}#sk-container-id-1 div.sk-parallel-item:only-child::after {width: 0;}#sk-container-id-1 div.sk-dashed-wrapped {border: 1px dashed gray;margin: 0 0.4em 0.5em 0.4em;box-sizing: border-box;padding-bottom: 0.4em;background-color: white;}#sk-container-id-1 div.sk-label label {font-family: monospace;font-weight: bold;display: inline-block;line-height: 1.2em;}#sk-container-id-1 div.sk-label-container {text-align: center;}#sk-container-id-1 div.sk-container {/* jupyter's `normalize.less` sets `[hidden] { display: none; }` but bootstrap.min.css set `[hidden] { display: none !important; }` so we also need the `!important` here to be able to override the default hidden behavior on the sphinx rendered scikit-learn.org. See: https://github.com/scikit-learn/scikit-learn/issues/21755 */display: inline-block !important;position: relative;}#sk-container-id-1 div.sk-text-repr-fallback {display: none;}</style><div id=\"sk-container-id-1\" class=\"sk-top-container\"><div class=\"sk-text-repr-fallback\"><pre>MultinomialHMM(n_components=5, n_iter=100,\n",
       "               n_trials=array([22213,  2577,  2577, ...,  7484,  7465,  7485]),\n",
       "               random_state=RandomState(MT19937) at 0x7D4659DA7240,\n",
       "               verbose=True)</pre><b>In a Jupyter environment, please rerun this cell to show the HTML representation or trust the notebook. <br />On GitHub, the HTML representation is unable to render, please try loading this page with nbviewer.org.</b></div><div class=\"sk-container\" hidden><div class=\"sk-item\"><div class=\"sk-estimator sk-toggleable\"><input class=\"sk-toggleable__control sk-hidden--visually\" id=\"sk-estimator-id-1\" type=\"checkbox\" checked><label for=\"sk-estimator-id-1\" class=\"sk-toggleable__label sk-toggleable__label-arrow\">MultinomialHMM</label><div class=\"sk-toggleable__content\"><pre>MultinomialHMM(n_components=5, n_iter=100,\n",
       "               n_trials=array([22213,  2577,  2577, ...,  7484,  7465,  7485]),\n",
       "               random_state=RandomState(MT19937) at 0x7D4659DA7240,\n",
       "               verbose=True)</pre></div></div></div></div></div>"
      ],
      "text/plain": [
       "MultinomialHMM(n_components=5, n_iter=100,\n",
       "               n_trials=array([22213,  2577,  2577, ...,  7484,  7465,  7485]),\n",
       "               random_state=RandomState(MT19937) at 0x7D4659DA7240,\n",
       "               verbose=True)"
      ]
     },
     "execution_count": 7,
     "metadata": {},
     "output_type": "execute_result"
    }
   ],
   "source": [
    "n_hidden_states = 5  # Number of hidden states in the HMM\n",
    "model = hmm.MultinomialHMM(n_components=n_hidden_states, n_iter=100,verbose=True)\n",
    "model.fit(X_train)\n"
   ]
  },
  {
   "cell_type": "markdown",
   "id": "691434ac",
   "metadata": {
    "papermill": {
     "duration": 0.016365,
     "end_time": "2023-06-28T09:30:44.677234",
     "exception": false,
     "start_time": "2023-06-28T09:30:44.660869",
     "status": "completed"
    },
    "tags": []
   },
   "source": [
    "<div style=\"background-color:#F0E3D2; color:#19180F; font-size:15px; font-family:Verdana; padding:10px; border: 2px solid #19180F; border-radius:10px\"> \n",
    "📌 Each line represents the iteration number, the log likelihood value at that iteration, and the change in log likelihood compared to the previous iteration.</div>"
   ]
  },
  {
   "cell_type": "code",
   "execution_count": 8,
   "id": "132afc1d",
   "metadata": {
    "execution": {
     "iopub.execute_input": "2023-06-28T09:30:44.712986Z",
     "iopub.status.busy": "2023-06-28T09:30:44.712167Z",
     "iopub.status.idle": "2023-06-28T09:30:44.876258Z",
     "shell.execute_reply": "2023-06-28T09:30:44.875450Z"
    },
    "papermill": {
     "duration": 0.184902,
     "end_time": "2023-06-28T09:30:44.878861",
     "exception": false,
     "start_time": "2023-06-28T09:30:44.693959",
     "status": "completed"
    },
    "tags": []
   },
   "outputs": [],
   "source": [
    "test_data = pd.read_csv('/kaggle/input/competitive-data-science-predict-future-sales/test.csv')\n",
    "X_test = test_data[['shop_id', 'item_id']].values"
   ]
  },
  {
   "cell_type": "markdown",
   "id": "fe6fab81",
   "metadata": {
    "papermill": {
     "duration": 0.01627,
     "end_time": "2023-06-28T09:30:44.911575",
     "exception": false,
     "start_time": "2023-06-28T09:30:44.895305",
     "status": "completed"
    },
    "tags": []
   },
   "source": [
    "<div style=\"background-color:#F0E3D2; color:#19180F; font-size:15px; font-family:Verdana; padding:10px; border: 2px solid #19180F; border-radius:10px\"> \n",
    "📌 Predicting the sales for the test set </div>"
   ]
  },
  {
   "cell_type": "code",
   "execution_count": 9,
   "id": "e9f34d51",
   "metadata": {
    "execution": {
     "iopub.execute_input": "2023-06-28T09:30:44.946712Z",
     "iopub.status.busy": "2023-06-28T09:30:44.946059Z",
     "iopub.status.idle": "2023-06-28T09:30:45.077188Z",
     "shell.execute_reply": "2023-06-28T09:30:45.076358Z"
    },
    "papermill": {
     "duration": 0.151761,
     "end_time": "2023-06-28T09:30:45.079701",
     "exception": false,
     "start_time": "2023-06-28T09:30:44.927940",
     "status": "completed"
    },
    "tags": []
   },
   "outputs": [],
   "source": [
    "predicted_sales = model.predict(X_test)\n",
    "\n"
   ]
  },
  {
   "cell_type": "markdown",
   "id": "1df3736a",
   "metadata": {
    "papermill": {
     "duration": 0.016131,
     "end_time": "2023-06-28T09:30:45.112120",
     "exception": false,
     "start_time": "2023-06-28T09:30:45.095989",
     "status": "completed"
    },
    "tags": []
   },
   "source": [
    "<div style=\"background-color:#F0E3D2; color:#19180F; font-size:15px; font-family:Verdana; padding:10px; border: 2px solid #19180F; border-radius:10px\"> \n",
    "📌 Creating submission file </div>"
   ]
  },
  {
   "cell_type": "code",
   "execution_count": 10,
   "id": "181b5177",
   "metadata": {
    "execution": {
     "iopub.execute_input": "2023-06-28T09:30:45.147017Z",
     "iopub.status.busy": "2023-06-28T09:30:45.146359Z",
     "iopub.status.idle": "2023-06-28T09:30:45.616055Z",
     "shell.execute_reply": "2023-06-28T09:30:45.614969Z"
    },
    "papermill": {
     "duration": 0.49035,
     "end_time": "2023-06-28T09:30:45.618790",
     "exception": false,
     "start_time": "2023-06-28T09:30:45.128440",
     "status": "completed"
    },
    "tags": []
   },
   "outputs": [],
   "source": [
    "submission = pd.DataFrame({'ID': test_data['ID'], 'item_cnt_month': predicted_sales})\n",
    "submission.to_csv('submission.csv', index=False)"
   ]
  },
  {
   "cell_type": "code",
   "execution_count": 11,
   "id": "5c888093",
   "metadata": {
    "execution": {
     "iopub.execute_input": "2023-06-28T09:30:45.653786Z",
     "iopub.status.busy": "2023-06-28T09:30:45.653348Z",
     "iopub.status.idle": "2023-06-28T09:30:45.677572Z",
     "shell.execute_reply": "2023-06-28T09:30:45.676470Z"
    },
    "papermill": {
     "duration": 0.04489,
     "end_time": "2023-06-28T09:30:45.680142",
     "exception": false,
     "start_time": "2023-06-28T09:30:45.635252",
     "status": "completed"
    },
    "tags": []
   },
   "outputs": [
    {
     "data": {
      "text/html": [
       "<div>\n",
       "<style scoped>\n",
       "    .dataframe tbody tr th:only-of-type {\n",
       "        vertical-align: middle;\n",
       "    }\n",
       "\n",
       "    .dataframe tbody tr th {\n",
       "        vertical-align: top;\n",
       "    }\n",
       "\n",
       "    .dataframe thead th {\n",
       "        text-align: right;\n",
       "    }\n",
       "</style>\n",
       "<table border=\"1\" class=\"dataframe\">\n",
       "  <thead>\n",
       "    <tr style=\"text-align: right;\">\n",
       "      <th></th>\n",
       "      <th>ID</th>\n",
       "      <th>item_cnt_month</th>\n",
       "    </tr>\n",
       "  </thead>\n",
       "  <tbody>\n",
       "    <tr>\n",
       "      <th>0</th>\n",
       "      <td>0</td>\n",
       "      <td>2</td>\n",
       "    </tr>\n",
       "    <tr>\n",
       "      <th>1</th>\n",
       "      <td>1</td>\n",
       "      <td>2</td>\n",
       "    </tr>\n",
       "    <tr>\n",
       "      <th>2</th>\n",
       "      <td>2</td>\n",
       "      <td>2</td>\n",
       "    </tr>\n",
       "    <tr>\n",
       "      <th>3</th>\n",
       "      <td>3</td>\n",
       "      <td>2</td>\n",
       "    </tr>\n",
       "    <tr>\n",
       "      <th>4</th>\n",
       "      <td>4</td>\n",
       "      <td>2</td>\n",
       "    </tr>\n",
       "    <tr>\n",
       "      <th>...</th>\n",
       "      <td>...</td>\n",
       "      <td>...</td>\n",
       "    </tr>\n",
       "    <tr>\n",
       "      <th>214195</th>\n",
       "      <td>214195</td>\n",
       "      <td>3</td>\n",
       "    </tr>\n",
       "    <tr>\n",
       "      <th>214196</th>\n",
       "      <td>214196</td>\n",
       "      <td>3</td>\n",
       "    </tr>\n",
       "    <tr>\n",
       "      <th>214197</th>\n",
       "      <td>214197</td>\n",
       "      <td>3</td>\n",
       "    </tr>\n",
       "    <tr>\n",
       "      <th>214198</th>\n",
       "      <td>214198</td>\n",
       "      <td>3</td>\n",
       "    </tr>\n",
       "    <tr>\n",
       "      <th>214199</th>\n",
       "      <td>214199</td>\n",
       "      <td>4</td>\n",
       "    </tr>\n",
       "  </tbody>\n",
       "</table>\n",
       "<p>214200 rows × 2 columns</p>\n",
       "</div>"
      ],
      "text/plain": [
       "            ID  item_cnt_month\n",
       "0            0               2\n",
       "1            1               2\n",
       "2            2               2\n",
       "3            3               2\n",
       "4            4               2\n",
       "...        ...             ...\n",
       "214195  214195               3\n",
       "214196  214196               3\n",
       "214197  214197               3\n",
       "214198  214198               3\n",
       "214199  214199               4\n",
       "\n",
       "[214200 rows x 2 columns]"
      ]
     },
     "execution_count": 11,
     "metadata": {},
     "output_type": "execute_result"
    }
   ],
   "source": [
    "submission"
   ]
  },
  {
   "cell_type": "code",
   "execution_count": null,
   "id": "9f3cbbdd",
   "metadata": {
    "papermill": {
     "duration": 0.016643,
     "end_time": "2023-06-28T09:30:45.713931",
     "exception": false,
     "start_time": "2023-06-28T09:30:45.697288",
     "status": "completed"
    },
    "tags": []
   },
   "outputs": [],
   "source": []
  }
 ],
 "metadata": {
  "kernelspec": {
   "display_name": "Python 3",
   "language": "python",
   "name": "python3"
  },
  "language_info": {
   "codemirror_mode": {
    "name": "ipython",
    "version": 3
   },
   "file_extension": ".py",
   "mimetype": "text/x-python",
   "name": "python",
   "nbconvert_exporter": "python",
   "pygments_lexer": "ipython3",
   "version": "3.10.10"
  },
  "papermill": {
   "default_parameters": {},
   "duration": 684.704244,
   "end_time": "2023-06-28T09:30:46.855852",
   "environment_variables": {},
   "exception": null,
   "input_path": "__notebook__.ipynb",
   "output_path": "__notebook__.ipynb",
   "parameters": {},
   "start_time": "2023-06-28T09:19:22.151608",
   "version": "2.4.0"
  }
 },
 "nbformat": 4,
 "nbformat_minor": 5
}
