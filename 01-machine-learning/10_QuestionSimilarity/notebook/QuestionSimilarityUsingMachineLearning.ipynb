{
  "nbformat": 4,
  "nbformat_minor": 0,
  "metadata": {
    "colab": {
      "name": "QuestionSimilarityUsingMachineLearning.ipynb",
      "provenance": [],
      "collapsed_sections": [],
      "machine_shape": "hm"
    },
    "kernelspec": {
      "display_name": "Python 3",
      "name": "python3"
    },
    "language_info": {
      "name": "python"
    }
  },
  "cells": [
    {
      "cell_type": "markdown",
      "metadata": {
        "id": "sMhoOQwZusY4"
      },
      "source": [
        "# About\n",
        "Question Similarity using machine learning and deep learning. \n"
      ]
    },
    {
      "cell_type": "code",
      "metadata": {
        "colab": {
          "base_uri": "https://localhost:8080/"
        },
        "id": "Bu_nkYYLuuBm",
        "outputId": "bc34c6d8-2699-4da2-b98c-b51850854c30"
      },
      "source": [
        "#installing xgboost\n",
        "#!pip install xgboost\n",
        "#importing modules\n",
        "import os\n",
        "import gensim\n",
        "import pandas as pd\n",
        "import matplotlib.pyplot as plt\n",
        "from sklearn.linear_model import SGDClassifier, LogisticRegression\n",
        "from sklearn.ensemble import GradientBoostingClassifier\n",
        "from xgboost import XGBClassifier\n",
        "from sklearn.preprocessing import StandardScaler\n",
        "from sklearn.model_selection import cross_val_score, train_test_split, GridSearchCV, StratifiedKFold,RandomizedSearchCV\n",
        "from sklearn.metrics import confusion_matrix, f1_score, accuracy_score\n",
        "import pickle\n",
        "import json\n",
        "!pip install fuzzywuzzy\n",
        "from fuzzywuzzy import fuzz\n",
        "from scipy.spatial.distance import cosine, cityblock, jaccard, canberra, euclidean, minkowski, braycurtis\n",
        "from nltk.corpus import stopwords\n",
        "from nltk import word_tokenize\n",
        "import nltk\n",
        "nltk.download('stopwords')\n",
        "stop_words = stopwords.words('english')\n",
        "from hyperopt import hp, fmin, tpe, STATUS_OK, Trials\n",
        "from sklearn.metrics import classification_report,confusion_matrix,accuracy_score\n",
        "import numpy as np\n",
        "import tqdm\n",
        "from scipy.stats import kurtosis\n",
        "from scipy.stats import skew\n",
        "nltk.download('punkt')"
      ],
      "execution_count": 29,
      "outputs": [
        {
          "output_type": "stream",
          "text": [
            "Requirement already satisfied: fuzzywuzzy in /usr/local/lib/python3.7/dist-packages (0.18.0)\n",
            "[nltk_data] Downloading package stopwords to /root/nltk_data...\n",
            "[nltk_data]   Package stopwords is already up-to-date!\n",
            "[nltk_data] Downloading package punkt to /root/nltk_data...\n",
            "[nltk_data]   Package punkt is already up-to-date!\n"
          ],
          "name": "stdout"
        },
        {
          "output_type": "execute_result",
          "data": {
            "text/plain": [
              "True"
            ]
          },
          "metadata": {
            "tags": []
          },
          "execution_count": 29
        }
      ]
    },
    {
      "cell_type": "code",
      "metadata": {
        "id": "QHwg2XlLpiBk"
      },
      "source": [
        "os.chdir('/content/drive/MyDrive/Colab Notebooks/Dataset/QuoraQuestionPairsDataset')"
      ],
      "execution_count": 2,
      "outputs": []
    },
    {
      "cell_type": "code",
      "metadata": {
        "colab": {
          "base_uri": "https://localhost:8080/"
        },
        "id": "8hvYEQEwpi6O",
        "outputId": "70a61022-c4d8-47d5-e9de-2705710260f7"
      },
      "source": [
        "!ls"
      ],
      "execution_count": 3,
      "outputs": [
        {
          "output_type": "stream",
          "text": [
            "fuzzy_features1.csv\t\t       sample_submission.csv.zip  train.csv\n",
            "GoogleNews-vectors-negative300.bin.gz  test.csv\t\t\t  train.csv.zip\n",
            "quora-question-pairs.zip\t       test.csv.zip\n"
          ],
          "name": "stdout"
        }
      ]
    },
    {
      "cell_type": "code",
      "metadata": {
        "id": "n-2AKgGUpmD0"
      },
      "source": [
        "#!unzip quora-question-pairs.zip\n",
        "#!unzip train.csv.zip"
      ],
      "execution_count": 4,
      "outputs": []
    },
    {
      "cell_type": "code",
      "metadata": {
        "id": "QP8-ArsUpoj0"
      },
      "source": [
        "train_dataset = pd.read_csv('train.csv')"
      ],
      "execution_count": 5,
      "outputs": []
    },
    {
      "cell_type": "code",
      "metadata": {
        "colab": {
          "base_uri": "https://localhost:8080/",
          "height": 196
        },
        "id": "6HUrFuwurnbU",
        "outputId": "714afde3-820f-466f-de38-34b95507087f"
      },
      "source": [
        "train_dataset.head()"
      ],
      "execution_count": 6,
      "outputs": [
        {
          "output_type": "execute_result",
          "data": {
            "text/html": [
              "<div>\n",
              "<style scoped>\n",
              "    .dataframe tbody tr th:only-of-type {\n",
              "        vertical-align: middle;\n",
              "    }\n",
              "\n",
              "    .dataframe tbody tr th {\n",
              "        vertical-align: top;\n",
              "    }\n",
              "\n",
              "    .dataframe thead th {\n",
              "        text-align: right;\n",
              "    }\n",
              "</style>\n",
              "<table border=\"1\" class=\"dataframe\">\n",
              "  <thead>\n",
              "    <tr style=\"text-align: right;\">\n",
              "      <th></th>\n",
              "      <th>id</th>\n",
              "      <th>qid1</th>\n",
              "      <th>qid2</th>\n",
              "      <th>question1</th>\n",
              "      <th>question2</th>\n",
              "      <th>is_duplicate</th>\n",
              "    </tr>\n",
              "  </thead>\n",
              "  <tbody>\n",
              "    <tr>\n",
              "      <th>0</th>\n",
              "      <td>0</td>\n",
              "      <td>1</td>\n",
              "      <td>2</td>\n",
              "      <td>What is the step by step guide to invest in sh...</td>\n",
              "      <td>What is the step by step guide to invest in sh...</td>\n",
              "      <td>0</td>\n",
              "    </tr>\n",
              "    <tr>\n",
              "      <th>1</th>\n",
              "      <td>1</td>\n",
              "      <td>3</td>\n",
              "      <td>4</td>\n",
              "      <td>What is the story of Kohinoor (Koh-i-Noor) Dia...</td>\n",
              "      <td>What would happen if the Indian government sto...</td>\n",
              "      <td>0</td>\n",
              "    </tr>\n",
              "    <tr>\n",
              "      <th>2</th>\n",
              "      <td>2</td>\n",
              "      <td>5</td>\n",
              "      <td>6</td>\n",
              "      <td>How can I increase the speed of my internet co...</td>\n",
              "      <td>How can Internet speed be increased by hacking...</td>\n",
              "      <td>0</td>\n",
              "    </tr>\n",
              "    <tr>\n",
              "      <th>3</th>\n",
              "      <td>3</td>\n",
              "      <td>7</td>\n",
              "      <td>8</td>\n",
              "      <td>Why am I mentally very lonely? How can I solve...</td>\n",
              "      <td>Find the remainder when [math]23^{24}[/math] i...</td>\n",
              "      <td>0</td>\n",
              "    </tr>\n",
              "    <tr>\n",
              "      <th>4</th>\n",
              "      <td>4</td>\n",
              "      <td>9</td>\n",
              "      <td>10</td>\n",
              "      <td>Which one dissolve in water quikly sugar, salt...</td>\n",
              "      <td>Which fish would survive in salt water?</td>\n",
              "      <td>0</td>\n",
              "    </tr>\n",
              "  </tbody>\n",
              "</table>\n",
              "</div>"
            ],
            "text/plain": [
              "   id  qid1  ...                                          question2 is_duplicate\n",
              "0   0     1  ...  What is the step by step guide to invest in sh...            0\n",
              "1   1     3  ...  What would happen if the Indian government sto...            0\n",
              "2   2     5  ...  How can Internet speed be increased by hacking...            0\n",
              "3   3     7  ...  Find the remainder when [math]23^{24}[/math] i...            0\n",
              "4   4     9  ...            Which fish would survive in salt water?            0\n",
              "\n",
              "[5 rows x 6 columns]"
            ]
          },
          "metadata": {
            "tags": []
          },
          "execution_count": 6
        }
      ]
    },
    {
      "cell_type": "markdown",
      "metadata": {
        "id": "gESUSjLfvUZw"
      },
      "source": [
        "# 1. Exploratory Data Analysis and Feature Engineering."
      ]
    },
    {
      "cell_type": "code",
      "metadata": {
        "id": "Z-I39Y9pwByx"
      },
      "source": [
        "#dropping unneccessary columns\n",
        "train_dataset = train_dataset.drop(['id','qid1','qid2'],axis=1)"
      ],
      "execution_count": 7,
      "outputs": []
    },
    {
      "cell_type": "code",
      "metadata": {
        "colab": {
          "base_uri": "https://localhost:8080/",
          "height": 294
        },
        "id": "DRFjx5pvNJsM",
        "outputId": "1667272e-7409-45e8-feef-b99ed408a48b"
      },
      "source": [
        "#checking number of class labels\n",
        "train_dataset.groupby('is_duplicate').count().plot.bar()"
      ],
      "execution_count": 8,
      "outputs": [
        {
          "output_type": "execute_result",
          "data": {
            "text/plain": [
              "<matplotlib.axes._subplots.AxesSubplot at 0x7fb0959878d0>"
            ]
          },
          "metadata": {
            "tags": []
          },
          "execution_count": 8
        },
        {
          "output_type": "display_data",
          "data": {
            "image/png": "[encoded data removed]",
            "text/plain": [
              "<Figure size 432x288 with 1 Axes>"
            ]
          },
          "metadata": {
            "tags": [],
            "needs_background": "light"
          }
        }
      ]
    },
    {
      "cell_type": "code",
      "metadata": {
        "colab": {
          "base_uri": "https://localhost:8080/"
        },
        "id": "R4awbFaXNnLr",
        "outputId": "289b686d-6dab-4ab4-a42b-72e4cf8a17f3"
      },
      "source": [
        "#total number of question paris for training\n",
        "print(\"Total number of Q&A pairs is {}\".format(len(train_dataset)))"
      ],
      "execution_count": 9,
      "outputs": [
        {
          "output_type": "stream",
          "text": [
            "Total number of Q&A pairs is 404290\n"
          ],
          "name": "stdout"
        }
      ]
    },
    {
      "cell_type": "code",
      "metadata": {
        "colab": {
          "base_uri": "https://localhost:8080/"
        },
        "id": "02daijAIOGPJ",
        "outputId": "06d0fe11-7706-4e39-853e-0a02ba43c1bf"
      },
      "source": [
        "#checking if any row has null values\n",
        "null_rows  = train_dataset[train_dataset.isnull().any(1)]\n",
        "print(null_rows)"
      ],
      "execution_count": 10,
      "outputs": [
        {
          "output_type": "stream",
          "text": [
            "                               question1  ... is_duplicate\n",
            "105780    How can I develop android app?  ...            0\n",
            "201841  How can I create an Android app?  ...            0\n",
            "363362                               NaN  ...            0\n",
            "\n",
            "[3 rows x 3 columns]\n"
          ],
          "name": "stdout"
        }
      ]
    },
    {
      "cell_type": "code",
      "metadata": {
        "colab": {
          "base_uri": "https://localhost:8080/"
        },
        "id": "c9nGwAL5OYfw",
        "outputId": "99593455-4313-44f0-db5d-ae0f4dde9e66"
      },
      "source": [
        "#filling empty rows with \"\"\n",
        "train_dataset = train_dataset.fillna(\"\")\n",
        "#calculating the null rows again\n",
        "null_rows = train_dataset[train_dataset.isnull().any(1)]\n",
        "print(null_rows)"
      ],
      "execution_count": 11,
      "outputs": [
        {
          "output_type": "stream",
          "text": [
            "Empty DataFrame\n",
            "Columns: [question1, question2, is_duplicate]\n",
            "Index: []\n"
          ],
          "name": "stdout"
        }
      ]
    },
    {
      "cell_type": "code",
      "metadata": {
        "colab": {
          "base_uri": "https://localhost:8080/",
          "height": 196
        },
        "id": "o0sl_NxXwPrP",
        "outputId": "e158bde9-db2a-453c-de58-eed177dbd975"
      },
      "source": [
        "train_dataset.head()"
      ],
      "execution_count": 12,
      "outputs": [
        {
          "output_type": "execute_result",
          "data": {
            "text/html": [
              "<div>\n",
              "<style scoped>\n",
              "    .dataframe tbody tr th:only-of-type {\n",
              "        vertical-align: middle;\n",
              "    }\n",
              "\n",
              "    .dataframe tbody tr th {\n",
              "        vertical-align: top;\n",
              "    }\n",
              "\n",
              "    .dataframe thead th {\n",
              "        text-align: right;\n",
              "    }\n",
              "</style>\n",
              "<table border=\"1\" class=\"dataframe\">\n",
              "  <thead>\n",
              "    <tr style=\"text-align: right;\">\n",
              "      <th></th>\n",
              "      <th>question1</th>\n",
              "      <th>question2</th>\n",
              "      <th>is_duplicate</th>\n",
              "    </tr>\n",
              "  </thead>\n",
              "  <tbody>\n",
              "    <tr>\n",
              "      <th>0</th>\n",
              "      <td>What is the step by step guide to invest in sh...</td>\n",
              "      <td>What is the step by step guide to invest in sh...</td>\n",
              "      <td>0</td>\n",
              "    </tr>\n",
              "    <tr>\n",
              "      <th>1</th>\n",
              "      <td>What is the story of Kohinoor (Koh-i-Noor) Dia...</td>\n",
              "      <td>What would happen if the Indian government sto...</td>\n",
              "      <td>0</td>\n",
              "    </tr>\n",
              "    <tr>\n",
              "      <th>2</th>\n",
              "      <td>How can I increase the speed of my internet co...</td>\n",
              "      <td>How can Internet speed be increased by hacking...</td>\n",
              "      <td>0</td>\n",
              "    </tr>\n",
              "    <tr>\n",
              "      <th>3</th>\n",
              "      <td>Why am I mentally very lonely? How can I solve...</td>\n",
              "      <td>Find the remainder when [math]23^{24}[/math] i...</td>\n",
              "      <td>0</td>\n",
              "    </tr>\n",
              "    <tr>\n",
              "      <th>4</th>\n",
              "      <td>Which one dissolve in water quikly sugar, salt...</td>\n",
              "      <td>Which fish would survive in salt water?</td>\n",
              "      <td>0</td>\n",
              "    </tr>\n",
              "  </tbody>\n",
              "</table>\n",
              "</div>"
            ],
            "text/plain": [
              "                                           question1  ... is_duplicate\n",
              "0  What is the step by step guide to invest in sh...  ...            0\n",
              "1  What is the story of Kohinoor (Koh-i-Noor) Dia...  ...            0\n",
              "2  How can I increase the speed of my internet co...  ...            0\n",
              "3  Why am I mentally very lonely? How can I solve...  ...            0\n",
              "4  Which one dissolve in water quikly sugar, salt...  ...            0\n",
              "\n",
              "[5 rows x 3 columns]"
            ]
          },
          "metadata": {
            "tags": []
          },
          "execution_count": 12
        }
      ]
    },
    {
      "cell_type": "code",
      "metadata": {
        "id": "ByEIydoCuqqz"
      },
      "source": [
        "#finding number of words in question 1 and question 2\n",
        "train_dataset['q1_length'] = train_dataset.question1.apply(lambda x: len(str(x)))\n",
        "train_dataset['q2_length'] = train_dataset.question2.apply(lambda x: len(str(x)))"
      ],
      "execution_count": 13,
      "outputs": []
    },
    {
      "cell_type": "code",
      "metadata": {
        "colab": {
          "base_uri": "https://localhost:8080/",
          "height": 196
        },
        "id": "jo6polZ4wOtt",
        "outputId": "1f048457-d421-4041-98c4-661447b882a3"
      },
      "source": [
        "train_dataset.head()"
      ],
      "execution_count": 14,
      "outputs": [
        {
          "output_type": "execute_result",
          "data": {
            "text/html": [
              "<div>\n",
              "<style scoped>\n",
              "    .dataframe tbody tr th:only-of-type {\n",
              "        vertical-align: middle;\n",
              "    }\n",
              "\n",
              "    .dataframe tbody tr th {\n",
              "        vertical-align: top;\n",
              "    }\n",
              "\n",
              "    .dataframe thead th {\n",
              "        text-align: right;\n",
              "    }\n",
              "</style>\n",
              "<table border=\"1\" class=\"dataframe\">\n",
              "  <thead>\n",
              "    <tr style=\"text-align: right;\">\n",
              "      <th></th>\n",
              "      <th>question1</th>\n",
              "      <th>question2</th>\n",
              "      <th>is_duplicate</th>\n",
              "      <th>q1_length</th>\n",
              "      <th>q2_length</th>\n",
              "    </tr>\n",
              "  </thead>\n",
              "  <tbody>\n",
              "    <tr>\n",
              "      <th>0</th>\n",
              "      <td>What is the step by step guide to invest in sh...</td>\n",
              "      <td>What is the step by step guide to invest in sh...</td>\n",
              "      <td>0</td>\n",
              "      <td>66</td>\n",
              "      <td>57</td>\n",
              "    </tr>\n",
              "    <tr>\n",
              "      <th>1</th>\n",
              "      <td>What is the story of Kohinoor (Koh-i-Noor) Dia...</td>\n",
              "      <td>What would happen if the Indian government sto...</td>\n",
              "      <td>0</td>\n",
              "      <td>51</td>\n",
              "      <td>88</td>\n",
              "    </tr>\n",
              "    <tr>\n",
              "      <th>2</th>\n",
              "      <td>How can I increase the speed of my internet co...</td>\n",
              "      <td>How can Internet speed be increased by hacking...</td>\n",
              "      <td>0</td>\n",
              "      <td>73</td>\n",
              "      <td>59</td>\n",
              "    </tr>\n",
              "    <tr>\n",
              "      <th>3</th>\n",
              "      <td>Why am I mentally very lonely? How can I solve...</td>\n",
              "      <td>Find the remainder when [math]23^{24}[/math] i...</td>\n",
              "      <td>0</td>\n",
              "      <td>50</td>\n",
              "      <td>65</td>\n",
              "    </tr>\n",
              "    <tr>\n",
              "      <th>4</th>\n",
              "      <td>Which one dissolve in water quikly sugar, salt...</td>\n",
              "      <td>Which fish would survive in salt water?</td>\n",
              "      <td>0</td>\n",
              "      <td>76</td>\n",
              "      <td>39</td>\n",
              "    </tr>\n",
              "  </tbody>\n",
              "</table>\n",
              "</div>"
            ],
            "text/plain": [
              "                                           question1  ... q2_length\n",
              "0  What is the step by step guide to invest in sh...  ...        57\n",
              "1  What is the story of Kohinoor (Koh-i-Noor) Dia...  ...        88\n",
              "2  How can I increase the speed of my internet co...  ...        59\n",
              "3  Why am I mentally very lonely? How can I solve...  ...        65\n",
              "4  Which one dissolve in water quikly sugar, salt...  ...        39\n",
              "\n",
              "[5 rows x 5 columns]"
            ]
          },
          "metadata": {
            "tags": []
          },
          "execution_count": 14
        }
      ]
    },
    {
      "cell_type": "code",
      "metadata": {
        "id": "ACYFaAUHrukj"
      },
      "source": [
        "#finding absolute difference in length of questions\n",
        "train_dataset['question_len_diff'] = abs(train_dataset.q2_length - train_dataset.q1_length) "
      ],
      "execution_count": 15,
      "outputs": []
    },
    {
      "cell_type": "code",
      "metadata": {
        "colab": {
          "base_uri": "https://localhost:8080/",
          "height": 196
        },
        "id": "nRpbbLCwx_HR",
        "outputId": "a234c8ce-eed4-40df-9333-18d223eb8d84"
      },
      "source": [
        "train_dataset.head()"
      ],
      "execution_count": 16,
      "outputs": [
        {
          "output_type": "execute_result",
          "data": {
            "text/html": [
              "<div>\n",
              "<style scoped>\n",
              "    .dataframe tbody tr th:only-of-type {\n",
              "        vertical-align: middle;\n",
              "    }\n",
              "\n",
              "    .dataframe tbody tr th {\n",
              "        vertical-align: top;\n",
              "    }\n",
              "\n",
              "    .dataframe thead th {\n",
              "        text-align: right;\n",
              "    }\n",
              "</style>\n",
              "<table border=\"1\" class=\"dataframe\">\n",
              "  <thead>\n",
              "    <tr style=\"text-align: right;\">\n",
              "      <th></th>\n",
              "      <th>question1</th>\n",
              "      <th>question2</th>\n",
              "      <th>is_duplicate</th>\n",
              "      <th>q1_length</th>\n",
              "      <th>q2_length</th>\n",
              "      <th>question_len_diff</th>\n",
              "    </tr>\n",
              "  </thead>\n",
              "  <tbody>\n",
              "    <tr>\n",
              "      <th>0</th>\n",
              "      <td>What is the step by step guide to invest in sh...</td>\n",
              "      <td>What is the step by step guide to invest in sh...</td>\n",
              "      <td>0</td>\n",
              "      <td>66</td>\n",
              "      <td>57</td>\n",
              "      <td>9</td>\n",
              "    </tr>\n",
              "    <tr>\n",
              "      <th>1</th>\n",
              "      <td>What is the story of Kohinoor (Koh-i-Noor) Dia...</td>\n",
              "      <td>What would happen if the Indian government sto...</td>\n",
              "      <td>0</td>\n",
              "      <td>51</td>\n",
              "      <td>88</td>\n",
              "      <td>37</td>\n",
              "    </tr>\n",
              "    <tr>\n",
              "      <th>2</th>\n",
              "      <td>How can I increase the speed of my internet co...</td>\n",
              "      <td>How can Internet speed be increased by hacking...</td>\n",
              "      <td>0</td>\n",
              "      <td>73</td>\n",
              "      <td>59</td>\n",
              "      <td>14</td>\n",
              "    </tr>\n",
              "    <tr>\n",
              "      <th>3</th>\n",
              "      <td>Why am I mentally very lonely? How can I solve...</td>\n",
              "      <td>Find the remainder when [math]23^{24}[/math] i...</td>\n",
              "      <td>0</td>\n",
              "      <td>50</td>\n",
              "      <td>65</td>\n",
              "      <td>15</td>\n",
              "    </tr>\n",
              "    <tr>\n",
              "      <th>4</th>\n",
              "      <td>Which one dissolve in water quikly sugar, salt...</td>\n",
              "      <td>Which fish would survive in salt water?</td>\n",
              "      <td>0</td>\n",
              "      <td>76</td>\n",
              "      <td>39</td>\n",
              "      <td>37</td>\n",
              "    </tr>\n",
              "  </tbody>\n",
              "</table>\n",
              "</div>"
            ],
            "text/plain": [
              "                                           question1  ... question_len_diff\n",
              "0  What is the step by step guide to invest in sh...  ...                 9\n",
              "1  What is the story of Kohinoor (Koh-i-Noor) Dia...  ...                37\n",
              "2  How can I increase the speed of my internet co...  ...                14\n",
              "3  Why am I mentally very lonely? How can I solve...  ...                15\n",
              "4  Which one dissolve in water quikly sugar, salt...  ...                37\n",
              "\n",
              "[5 rows x 6 columns]"
            ]
          },
          "metadata": {
            "tags": []
          },
          "execution_count": 16
        }
      ]
    },
    {
      "cell_type": "code",
      "metadata": {
        "id": "gJp1yFwFyBmI"
      },
      "source": [
        "#finding length of common words between questions\n",
        "train_dataset['len_common_words'] = train_dataset.apply(lambda x: len(set(str(x['question1']).lower().split()).intersection(set(str(x['question2']).lower().split()))), axis=1)"
      ],
      "execution_count": 17,
      "outputs": []
    },
    {
      "cell_type": "code",
      "metadata": {
        "colab": {
          "base_uri": "https://localhost:8080/",
          "height": 196
        },
        "id": "do0BE4o0ymBQ",
        "outputId": "f5db20f6-3817-4fd4-c9fa-856b43165760"
      },
      "source": [
        "train_dataset.head()"
      ],
      "execution_count": 18,
      "outputs": [
        {
          "output_type": "execute_result",
          "data": {
            "text/html": [
              "<div>\n",
              "<style scoped>\n",
              "    .dataframe tbody tr th:only-of-type {\n",
              "        vertical-align: middle;\n",
              "    }\n",
              "\n",
              "    .dataframe tbody tr th {\n",
              "        vertical-align: top;\n",
              "    }\n",
              "\n",
              "    .dataframe thead th {\n",
              "        text-align: right;\n",
              "    }\n",
              "</style>\n",
              "<table border=\"1\" class=\"dataframe\">\n",
              "  <thead>\n",
              "    <tr style=\"text-align: right;\">\n",
              "      <th></th>\n",
              "      <th>question1</th>\n",
              "      <th>question2</th>\n",
              "      <th>is_duplicate</th>\n",
              "      <th>q1_length</th>\n",
              "      <th>q2_length</th>\n",
              "      <th>question_len_diff</th>\n",
              "      <th>len_common_words</th>\n",
              "    </tr>\n",
              "  </thead>\n",
              "  <tbody>\n",
              "    <tr>\n",
              "      <th>0</th>\n",
              "      <td>What is the step by step guide to invest in sh...</td>\n",
              "      <td>What is the step by step guide to invest in sh...</td>\n",
              "      <td>0</td>\n",
              "      <td>66</td>\n",
              "      <td>57</td>\n",
              "      <td>9</td>\n",
              "      <td>10</td>\n",
              "    </tr>\n",
              "    <tr>\n",
              "      <th>1</th>\n",
              "      <td>What is the story of Kohinoor (Koh-i-Noor) Dia...</td>\n",
              "      <td>What would happen if the Indian government sto...</td>\n",
              "      <td>0</td>\n",
              "      <td>51</td>\n",
              "      <td>88</td>\n",
              "      <td>37</td>\n",
              "      <td>4</td>\n",
              "    </tr>\n",
              "    <tr>\n",
              "      <th>2</th>\n",
              "      <td>How can I increase the speed of my internet co...</td>\n",
              "      <td>How can Internet speed be increased by hacking...</td>\n",
              "      <td>0</td>\n",
              "      <td>73</td>\n",
              "      <td>59</td>\n",
              "      <td>14</td>\n",
              "      <td>4</td>\n",
              "    </tr>\n",
              "    <tr>\n",
              "      <th>3</th>\n",
              "      <td>Why am I mentally very lonely? How can I solve...</td>\n",
              "      <td>Find the remainder when [math]23^{24}[/math] i...</td>\n",
              "      <td>0</td>\n",
              "      <td>50</td>\n",
              "      <td>65</td>\n",
              "      <td>15</td>\n",
              "      <td>0</td>\n",
              "    </tr>\n",
              "    <tr>\n",
              "      <th>4</th>\n",
              "      <td>Which one dissolve in water quikly sugar, salt...</td>\n",
              "      <td>Which fish would survive in salt water?</td>\n",
              "      <td>0</td>\n",
              "      <td>76</td>\n",
              "      <td>39</td>\n",
              "      <td>37</td>\n",
              "      <td>2</td>\n",
              "    </tr>\n",
              "  </tbody>\n",
              "</table>\n",
              "</div>"
            ],
            "text/plain": [
              "                                           question1  ... len_common_words\n",
              "0  What is the step by step guide to invest in sh...  ...               10\n",
              "1  What is the story of Kohinoor (Koh-i-Noor) Dia...  ...                4\n",
              "2  How can I increase the speed of my internet co...  ...                4\n",
              "3  Why am I mentally very lonely? How can I solve...  ...                0\n",
              "4  Which one dissolve in water quikly sugar, salt...  ...                2\n",
              "\n",
              "[5 rows x 7 columns]"
            ]
          },
          "metadata": {
            "tags": []
          },
          "execution_count": 18
        }
      ]
    },
    {
      "cell_type": "markdown",
      "metadata": {
        "id": "pXf53Q1EfcPy"
      },
      "source": [
        "# Next Step\n",
        "Let's fit our Machine learning model on these basic features and evaluate the performance.\n"
      ]
    },
    {
      "cell_type": "code",
      "metadata": {
        "id": "3k_yihB7O2cO"
      },
      "source": [
        "naive_features = train_dataset.drop(['question1','question2'], axis=1)"
      ],
      "execution_count": null,
      "outputs": []
    },
    {
      "cell_type": "code",
      "metadata": {
        "colab": {
          "base_uri": "https://localhost:8080/",
          "height": 345
        },
        "id": "XwEjS9r0ezow",
        "outputId": "14b41468-b0f2-4d2f-b952-caf83e1c5e7f"
      },
      "source": [
        "naive_features.head(10)"
      ],
      "execution_count": null,
      "outputs": [
        {
          "output_type": "execute_result",
          "data": {
            "text/html": [
              "<div>\n",
              "<style scoped>\n",
              "    .dataframe tbody tr th:only-of-type {\n",
              "        vertical-align: middle;\n",
              "    }\n",
              "\n",
              "    .dataframe tbody tr th {\n",
              "        vertical-align: top;\n",
              "    }\n",
              "\n",
              "    .dataframe thead th {\n",
              "        text-align: right;\n",
              "    }\n",
              "</style>\n",
              "<table border=\"1\" class=\"dataframe\">\n",
              "  <thead>\n",
              "    <tr style=\"text-align: right;\">\n",
              "      <th></th>\n",
              "      <th>is_duplicate</th>\n",
              "      <th>q1_length</th>\n",
              "      <th>q2_length</th>\n",
              "      <th>question_len_diff</th>\n",
              "      <th>len_common_words</th>\n",
              "    </tr>\n",
              "  </thead>\n",
              "  <tbody>\n",
              "    <tr>\n",
              "      <th>0</th>\n",
              "      <td>0</td>\n",
              "      <td>66</td>\n",
              "      <td>57</td>\n",
              "      <td>9</td>\n",
              "      <td>10</td>\n",
              "    </tr>\n",
              "    <tr>\n",
              "      <th>1</th>\n",
              "      <td>0</td>\n",
              "      <td>51</td>\n",
              "      <td>88</td>\n",
              "      <td>37</td>\n",
              "      <td>4</td>\n",
              "    </tr>\n",
              "    <tr>\n",
              "      <th>2</th>\n",
              "      <td>0</td>\n",
              "      <td>73</td>\n",
              "      <td>59</td>\n",
              "      <td>14</td>\n",
              "      <td>4</td>\n",
              "    </tr>\n",
              "    <tr>\n",
              "      <th>3</th>\n",
              "      <td>0</td>\n",
              "      <td>50</td>\n",
              "      <td>65</td>\n",
              "      <td>15</td>\n",
              "      <td>0</td>\n",
              "    </tr>\n",
              "    <tr>\n",
              "      <th>4</th>\n",
              "      <td>0</td>\n",
              "      <td>76</td>\n",
              "      <td>39</td>\n",
              "      <td>37</td>\n",
              "      <td>2</td>\n",
              "    </tr>\n",
              "    <tr>\n",
              "      <th>5</th>\n",
              "      <td>1</td>\n",
              "      <td>86</td>\n",
              "      <td>90</td>\n",
              "      <td>4</td>\n",
              "      <td>8</td>\n",
              "    </tr>\n",
              "    <tr>\n",
              "      <th>6</th>\n",
              "      <td>0</td>\n",
              "      <td>19</td>\n",
              "      <td>62</td>\n",
              "      <td>43</td>\n",
              "      <td>0</td>\n",
              "    </tr>\n",
              "    <tr>\n",
              "      <th>7</th>\n",
              "      <td>1</td>\n",
              "      <td>30</td>\n",
              "      <td>41</td>\n",
              "      <td>11</td>\n",
              "      <td>4</td>\n",
              "    </tr>\n",
              "    <tr>\n",
              "      <th>8</th>\n",
              "      <td>0</td>\n",
              "      <td>31</td>\n",
              "      <td>37</td>\n",
              "      <td>6</td>\n",
              "      <td>6</td>\n",
              "    </tr>\n",
              "    <tr>\n",
              "      <th>9</th>\n",
              "      <td>0</td>\n",
              "      <td>60</td>\n",
              "      <td>49</td>\n",
              "      <td>11</td>\n",
              "      <td>3</td>\n",
              "    </tr>\n",
              "  </tbody>\n",
              "</table>\n",
              "</div>"
            ],
            "text/plain": [
              "   is_duplicate  q1_length  q2_length  question_len_diff  len_common_words\n",
              "0             0         66         57                  9                10\n",
              "1             0         51         88                 37                 4\n",
              "2             0         73         59                 14                 4\n",
              "3             0         50         65                 15                 0\n",
              "4             0         76         39                 37                 2\n",
              "5             1         86         90                  4                 8\n",
              "6             0         19         62                 43                 0\n",
              "7             1         30         41                 11                 4\n",
              "8             0         31         37                  6                 6\n",
              "9             0         60         49                 11                 3"
            ]
          },
          "metadata": {
            "tags": []
          },
          "execution_count": 20
        }
      ]
    },
    {
      "cell_type": "code",
      "metadata": {
        "id": "xznlSgnjgna-"
      },
      "source": [
        "label = naive_features.iloc[:,0]\n",
        "naive_features = naive_features.iloc[:,1:5]"
      ],
      "execution_count": null,
      "outputs": []
    },
    {
      "cell_type": "code",
      "metadata": {
        "colab": {
          "base_uri": "https://localhost:8080/"
        },
        "id": "uqrGzUMIhYnY",
        "outputId": "a3dc09a1-5d4a-417b-ac45-21f71180e57a"
      },
      "source": [
        "label.head(10)"
      ],
      "execution_count": null,
      "outputs": [
        {
          "output_type": "execute_result",
          "data": {
            "text/plain": [
              "0    0\n",
              "1    0\n",
              "2    0\n",
              "3    0\n",
              "4    0\n",
              "5    1\n",
              "6    0\n",
              "7    1\n",
              "8    0\n",
              "9    0\n",
              "Name: is_duplicate, dtype: int64"
            ]
          },
          "metadata": {
            "tags": []
          },
          "execution_count": 22
        }
      ]
    },
    {
      "cell_type": "code",
      "metadata": {
        "colab": {
          "base_uri": "https://localhost:8080/",
          "height": 345
        },
        "id": "9MKlVCRRhYqP",
        "outputId": "8905e927-0864-4a08-9104-ab965cb82c90"
      },
      "source": [
        "naive_features.head(10)"
      ],
      "execution_count": null,
      "outputs": [
        {
          "output_type": "execute_result",
          "data": {
            "text/html": [
              "<div>\n",
              "<style scoped>\n",
              "    .dataframe tbody tr th:only-of-type {\n",
              "        vertical-align: middle;\n",
              "    }\n",
              "\n",
              "    .dataframe tbody tr th {\n",
              "        vertical-align: top;\n",
              "    }\n",
              "\n",
              "    .dataframe thead th {\n",
              "        text-align: right;\n",
              "    }\n",
              "</style>\n",
              "<table border=\"1\" class=\"dataframe\">\n",
              "  <thead>\n",
              "    <tr style=\"text-align: right;\">\n",
              "      <th></th>\n",
              "      <th>q1_length</th>\n",
              "      <th>q2_length</th>\n",
              "      <th>question_len_diff</th>\n",
              "      <th>len_common_words</th>\n",
              "    </tr>\n",
              "  </thead>\n",
              "  <tbody>\n",
              "    <tr>\n",
              "      <th>0</th>\n",
              "      <td>66</td>\n",
              "      <td>57</td>\n",
              "      <td>9</td>\n",
              "      <td>10</td>\n",
              "    </tr>\n",
              "    <tr>\n",
              "      <th>1</th>\n",
              "      <td>51</td>\n",
              "      <td>88</td>\n",
              "      <td>37</td>\n",
              "      <td>4</td>\n",
              "    </tr>\n",
              "    <tr>\n",
              "      <th>2</th>\n",
              "      <td>73</td>\n",
              "      <td>59</td>\n",
              "      <td>14</td>\n",
              "      <td>4</td>\n",
              "    </tr>\n",
              "    <tr>\n",
              "      <th>3</th>\n",
              "      <td>50</td>\n",
              "      <td>65</td>\n",
              "      <td>15</td>\n",
              "      <td>0</td>\n",
              "    </tr>\n",
              "    <tr>\n",
              "      <th>4</th>\n",
              "      <td>76</td>\n",
              "      <td>39</td>\n",
              "      <td>37</td>\n",
              "      <td>2</td>\n",
              "    </tr>\n",
              "    <tr>\n",
              "      <th>5</th>\n",
              "      <td>86</td>\n",
              "      <td>90</td>\n",
              "      <td>4</td>\n",
              "      <td>8</td>\n",
              "    </tr>\n",
              "    <tr>\n",
              "      <th>6</th>\n",
              "      <td>19</td>\n",
              "      <td>62</td>\n",
              "      <td>43</td>\n",
              "      <td>0</td>\n",
              "    </tr>\n",
              "    <tr>\n",
              "      <th>7</th>\n",
              "      <td>30</td>\n",
              "      <td>41</td>\n",
              "      <td>11</td>\n",
              "      <td>4</td>\n",
              "    </tr>\n",
              "    <tr>\n",
              "      <th>8</th>\n",
              "      <td>31</td>\n",
              "      <td>37</td>\n",
              "      <td>6</td>\n",
              "      <td>6</td>\n",
              "    </tr>\n",
              "    <tr>\n",
              "      <th>9</th>\n",
              "      <td>60</td>\n",
              "      <td>49</td>\n",
              "      <td>11</td>\n",
              "      <td>3</td>\n",
              "    </tr>\n",
              "  </tbody>\n",
              "</table>\n",
              "</div>"
            ],
            "text/plain": [
              "   q1_length  q2_length  question_len_diff  len_common_words\n",
              "0         66         57                  9                10\n",
              "1         51         88                 37                 4\n",
              "2         73         59                 14                 4\n",
              "3         50         65                 15                 0\n",
              "4         76         39                 37                 2\n",
              "5         86         90                  4                 8\n",
              "6         19         62                 43                 0\n",
              "7         30         41                 11                 4\n",
              "8         31         37                  6                 6\n",
              "9         60         49                 11                 3"
            ]
          },
          "metadata": {
            "tags": []
          },
          "execution_count": 23
        }
      ]
    },
    {
      "cell_type": "code",
      "metadata": {
        "id": "2sZNCIxGhYs6"
      },
      "source": [
        "X_train_naive,X_test_naive, y_train_naive,y_test_naive = train_test_split(naive_features, label, random_state=42, test_size=0.25)"
      ],
      "execution_count": null,
      "outputs": []
    },
    {
      "cell_type": "code",
      "metadata": {
        "colab": {
          "base_uri": "https://localhost:8080/"
        },
        "id": "_Xo0Zvb0ijcx",
        "outputId": "fc8aea7c-164b-436b-c720-91fc6c334b61"
      },
      "source": [
        "XGBClassifier().get_params().keys()"
      ],
      "execution_count": null,
      "outputs": [
        {
          "output_type": "execute_result",
          "data": {
            "text/plain": [
              "dict_keys(['base_score', 'booster', 'colsample_bylevel', 'colsample_bynode', 'colsample_bytree', 'gamma', 'learning_rate', 'max_delta_step', 'max_depth', 'min_child_weight', 'missing', 'n_estimators', 'n_jobs', 'nthread', 'objective', 'random_state', 'reg_alpha', 'reg_lambda', 'scale_pos_weight', 'seed', 'silent', 'subsample', 'verbosity'])"
            ]
          },
          "metadata": {
            "tags": []
          },
          "execution_count": 25
        }
      ]
    },
    {
      "cell_type": "code",
      "metadata": {
        "colab": {
          "base_uri": "https://localhost:8080/"
        },
        "id": "_Xgi5hLTg8-w",
        "outputId": "0c848860-ffeb-49b2-d348-8c0bac57be17"
      },
      "source": [
        "#bayesian optimization\n",
        "parameters = {'nthread': hp.choice('nthread', [4,8]), #when use hyperthread, xgboost may become slower\n",
        "              'objective':hp.choice('objective',['binary:logistic']), #for n_classes greater than 2, you can use multi:softmax or multi:softprob\n",
        "              'learning_rate': hp.choice('learning_rate', [0.01]), #so called `eta` value\n",
        "              'max_depth': hp.choice('max_depth',[2,3,4,5,6,7,8,9]),\n",
        "              'min_child_weight': hp.choice('min_child_weight',[2,3,4,5,6,7,8,9,10]),\n",
        "              'silent': hp.choice('silent', [1]),\n",
        "              'subsample': hp.choice('subsample',[0.8]),\n",
        "              'colsample_bytree': hp.choice('colsample_bytree',[0.7]),\n",
        "              'n_estimators': hp.choice('n_estimators', [1,10,100,1000,10000]), #number of trees, change it to 1000 for better results\n",
        "              'missing':hp.choice('missing',[-1456,-999]),\n",
        "              'seed': hp.choice('seed',[42,888,1337])}\n",
        "\n",
        "def objective(parameters):\n",
        "    model = XGBClassifier(nthread = parameters['nthread'], \n",
        "                                  objective = parameters['objective'],\n",
        "                                 learning_rate = parameters['learning_rate'],\n",
        "                                 max_depth = parameters['max_depth'],\n",
        "                                 min_child_weight = parameters['min_child_weight'],\n",
        "                                 silent = parameters['silent'],\n",
        "                                 subsample = parameters['subsample'],\n",
        "                                 colsample_bytree = parameters['colsample_bytree'],\n",
        "                                 n_estimators = parameters['n_estimators'], \n",
        "                                 missing = parameters['missing'],\n",
        "                                 seed = parameters['seed']\n",
        "                                 )\n",
        "    \n",
        "    accuracy = cross_val_score(model, X_train_naive, y_train_naive, cv = 4).mean()\n",
        "\n",
        "    # We aim to maximize accuracy, therefore we return it as a negative value\n",
        "    return {'loss': -accuracy, 'status': STATUS_OK }\n",
        "\n",
        "trials = Trials()\n",
        "best = fmin(fn= objective,\n",
        "            space= parameters,\n",
        "            algo= tpe.suggest,\n",
        "            max_evals = 10,\n",
        "            trials= trials)\n",
        "best\n",
        "#naive_clf = GridSearchCV(XGBClassifier(), parameters, n_jobs=12, \n",
        "#                   cv=StratifiedKFold(shuffle=True), \n",
        "#                   scoring='roc_auc',\n",
        "#                   verbose=2, refit=True).fit(X_train_naive, y_train_naive).best_estimator_"
      ],
      "execution_count": null,
      "outputs": [
        {
          "output_type": "stream",
          "text": [
            "100%|██████████| 10/10 [28:08<00:00, 168.80s/it, best loss: -0.7005708853201065]\n"
          ],
          "name": "stdout"
        },
        {
          "output_type": "execute_result",
          "data": {
            "text/plain": [
              "{'colsample_bytree': 0,\n",
              " 'learning_rate': 0,\n",
              " 'max_depth': 0,\n",
              " 'min_child_weight': 0,\n",
              " 'missing': 1,\n",
              " 'n_estimators': 4,\n",
              " 'nthread': 1,\n",
              " 'objective': 0,\n",
              " 'seed': 1,\n",
              " 'silent': 0,\n",
              " 'subsample': 0}"
            ]
          },
          "metadata": {
            "tags": []
          },
          "execution_count": 27
        }
      ]
    },
    {
      "cell_type": "markdown",
      "metadata": {
        "id": "LCqLFjfhkIft"
      },
      "source": [
        "Run hyperopt for more max_evals,Right now we will use from our last session"
      ]
    },
    {
      "cell_type": "code",
      "metadata": {
        "id": "12Nqc7qBkt16"
      },
      "source": [
        "#\n",
        "trained_classifier =  XGBClassifier(nthread = 4, \n",
        "                                  objective = 'binary:logistic',\n",
        "                                 learning_rate =0.01,\n",
        "                                 max_depth = 4,\n",
        "                                 min_child_weight = 11,\n",
        "                                 silent = 0,\n",
        "                                 subsample = 0.8,\n",
        "                                 colsample_bytree = 0.7,\n",
        "                                 n_estimators = 1000,\n",
        "                                 seed = 42).fit(X_train_naive, y_train_naive)\n"
      ],
      "execution_count": null,
      "outputs": []
    },
    {
      "cell_type": "code",
      "metadata": {
        "colab": {
          "base_uri": "https://localhost:8080/"
        },
        "id": "D8pVZL0IlY-2",
        "outputId": "8176a11f-ec4c-405f-99db-dcee0f711e6a"
      },
      "source": [
        "predictionforest = trained_classifier.predict(X_test_naive)\n",
        "print(confusion_matrix(y_test_naive,predictionforest))\n",
        "print(classification_report(y_test_naive,predictionforest))\n",
        "accuracy = accuracy_score(y_test_naive,predictionforest)\n",
        "print(accuracy)"
      ],
      "execution_count": null,
      "outputs": [
        {
          "output_type": "stream",
          "text": [
            "[[46776 16783]\n",
            " [13900 23614]]\n",
            "              precision    recall  f1-score   support\n",
            "\n",
            "           0       0.77      0.74      0.75     63559\n",
            "           1       0.58      0.63      0.61     37514\n",
            "\n",
            "    accuracy                           0.70    101073\n",
            "   macro avg       0.68      0.68      0.68    101073\n",
            "weighted avg       0.70      0.70      0.70    101073\n",
            "\n",
            "0.6964273346986831\n"
          ],
          "name": "stdout"
        }
      ]
    },
    {
      "cell_type": "markdown",
      "metadata": {
        "id": "OiCDaxS_mpUu"
      },
      "source": [
        "# Observation\n",
        "The accuracy is not good.\n",
        "Let's increase it via incorporating more features, primarily fuzzy features. [Reference 1](https://www.google.com/search?q=fuzzy+feature+extraction+in+text+python&client=firefox-b-d&ei=q7JhYOOEH9re9QPQ9afgDA&oq=fuzzy+feature+extraction+in+texts%3A&gs_lcp=Cgdnd3Mtd2l6EAMYADIHCCEQChCgATIHCCEQChCgAVD3cFiefWC3hQFoA3AAeACAAZECiAHpBZIBBTAuMy4xmAEAoAEBqgEHZ3dzLXdpesABAQ&sclient=gws-wiz) [Reference 2](https://github.com/abhishekkrthakur/is_that_a_duplicate_quora_question/blob/master/feature_engineering.py) "
      ]
    },
    {
      "cell_type": "code",
      "metadata": {
        "colab": {
          "base_uri": "https://localhost:8080/"
        },
        "id": "FzdJFK-emnvZ",
        "outputId": "9e363f89-7bf2-412e-c51d-d5584d33b9fd"
      },
      "source": [
        "#Basic fuzzy features\n",
        "train_dataset['fuzz_qratio'] = train_dataset.apply(lambda x: fuzz.QRatio(str(x['question1']), str(x['question2'])), axis=1)\n",
        "print(\"Processed\")\n",
        "train_dataset['fuzz_WRatio'] = train_dataset.apply(lambda x: fuzz.WRatio(str(x['question1']), str(x['question2'])), axis=1)\n",
        "print(\"Processed\")\n",
        "train_dataset['fuzz_partial_ratio'] = train_dataset.apply(lambda x: fuzz.partial_ratio(str(x['question1']), str(x['question2'])), axis=1)\n",
        "print(\"Processed\")\n",
        "train_dataset['fuzz_partial_token_set_ratio'] = train_dataset.apply(lambda x: fuzz.partial_token_set_ratio(str(x['question1']), str(x['question2'])), axis=1)\n",
        "print(\"Processed\")\n",
        "train_dataset['fuzz_partial_token_sort_ratio'] = train_dataset.apply(lambda x: fuzz.partial_token_sort_ratio(str(x['question1']), str(x['question2'])), axis=1)\n",
        "print(\"Processed\")\n",
        "train_dataset['fuzz_token_set_ratio'] = train_dataset.apply(lambda x: fuzz.token_set_ratio(str(x['question1']), str(x['question2'])), axis=1)\n",
        "print(\"Processed\")\n",
        "train_dataset['fuzz_token_sort_ratio'] = train_dataset.apply(lambda x: fuzz.token_sort_ratio(str(x['question1']), str(x['question2'])), axis=1)\n",
        "print(\"Processed\")"
      ],
      "execution_count": 19,
      "outputs": [
        {
          "output_type": "stream",
          "text": [
            "Processed\n",
            "Processed\n",
            "Processed\n",
            "Processed\n",
            "Processed\n",
            "Processed\n",
            "Processed\n"
          ],
          "name": "stdout"
        }
      ]
    },
    {
      "cell_type": "code",
      "metadata": {
        "id": "I9FlZGr9uazf"
      },
      "source": [
        "#helper function for more complex \n",
        "def wmd(s1, s2):\n",
        "    s1 = str(s1).lower().split()\n",
        "    s2 = str(s2).lower().split()\n",
        "    stop_words = stopwords.words('english')\n",
        "    s1 = [w for w in s1 if w not in stop_words]\n",
        "    s2 = [w for w in s2 if w not in stop_words]\n",
        "    return model.wmdistance(s1, s2)\n",
        "\n",
        "\n",
        "def norm_wmd(s1, s2):\n",
        "    s1 = str(s1).lower().split()\n",
        "    s2 = str(s2).lower().split()\n",
        "    stop_words = stopwords.words('english')\n",
        "    s1 = [w for w in s1 if w not in stop_words]\n",
        "    s2 = [w for w in s2 if w not in stop_words]\n",
        "    return norm_model.wmdistance(s1, s2)\n",
        "\n",
        "\n",
        "def sent2vec(s):\n",
        "    words = str(s).lower()\n",
        "    words = word_tokenize(words)\n",
        "    words = [w for w in words if not w in stop_words]\n",
        "    words = [w for w in words if w.isalpha()]\n",
        "    M = []\n",
        "    for w in words:\n",
        "        try:\n",
        "            M.append(model[w])\n",
        "        except:\n",
        "            continue\n",
        "    M = np.array(M)\n",
        "    v = M.sum(axis=0)\n",
        "    return v / np.sqrt((v ** 2).sum())"
      ],
      "execution_count": 18,
      "outputs": []
    },
    {
      "cell_type": "code",
      "metadata": {
        "colab": {
          "base_uri": "https://localhost:8080/",
          "height": 1000
        },
        "id": "4-lXoz6IRK10",
        "outputId": "9cc3788e-b43c-435a-d3bf-e6fdc81ca4b6"
      },
      "source": [
        "train_dataset.head(10)"
      ],
      "execution_count": 22,
      "outputs": [
        {
          "output_type": "execute_result",
          "data": {
            "text/html": [
              "<div>\n",
              "<style scoped>\n",
              "    .dataframe tbody tr th:only-of-type {\n",
              "        vertical-align: middle;\n",
              "    }\n",
              "\n",
              "    .dataframe tbody tr th {\n",
              "        vertical-align: top;\n",
              "    }\n",
              "\n",
              "    .dataframe thead th {\n",
              "        text-align: right;\n",
              "    }\n",
              "</style>\n",
              "<table border=\"1\" class=\"dataframe\">\n",
              "  <thead>\n",
              "    <tr style=\"text-align: right;\">\n",
              "      <th></th>\n",
              "      <th>question1</th>\n",
              "      <th>question2</th>\n",
              "      <th>is_duplicate</th>\n",
              "      <th>q1_length</th>\n",
              "      <th>q2_length</th>\n",
              "      <th>question_len_diff</th>\n",
              "      <th>len_common_words</th>\n",
              "      <th>fuzz_qratio</th>\n",
              "      <th>fuzz_WRatio</th>\n",
              "      <th>fuzz_partial_ratio</th>\n",
              "      <th>fuzz_partial_token_set_ratio</th>\n",
              "      <th>fuzz_partial_token_sort_ratio</th>\n",
              "      <th>fuzz_token_set_ratio</th>\n",
              "      <th>fuzz_token_sort_ratio</th>\n",
              "    </tr>\n",
              "  </thead>\n",
              "  <tbody>\n",
              "    <tr>\n",
              "      <th>0</th>\n",
              "      <td>What is the step by step guide to invest in sh...</td>\n",
              "      <td>What is the step by step guide to invest in sh...</td>\n",
              "      <td>0</td>\n",
              "      <td>66</td>\n",
              "      <td>57</td>\n",
              "      <td>9</td>\n",
              "      <td>10</td>\n",
              "      <td>93</td>\n",
              "      <td>95</td>\n",
              "      <td>98</td>\n",
              "      <td>100</td>\n",
              "      <td>88</td>\n",
              "      <td>100</td>\n",
              "      <td>93</td>\n",
              "    </tr>\n",
              "    <tr>\n",
              "      <th>1</th>\n",
              "      <td>What is the story of Kohinoor (Koh-i-Noor) Dia...</td>\n",
              "      <td>What would happen if the Indian government sto...</td>\n",
              "      <td>0</td>\n",
              "      <td>51</td>\n",
              "      <td>88</td>\n",
              "      <td>37</td>\n",
              "      <td>4</td>\n",
              "      <td>66</td>\n",
              "      <td>86</td>\n",
              "      <td>73</td>\n",
              "      <td>100</td>\n",
              "      <td>73</td>\n",
              "      <td>86</td>\n",
              "      <td>63</td>\n",
              "    </tr>\n",
              "    <tr>\n",
              "      <th>2</th>\n",
              "      <td>How can I increase the speed of my internet co...</td>\n",
              "      <td>How can Internet speed be increased by hacking...</td>\n",
              "      <td>0</td>\n",
              "      <td>73</td>\n",
              "      <td>59</td>\n",
              "      <td>14</td>\n",
              "      <td>4</td>\n",
              "      <td>43</td>\n",
              "      <td>60</td>\n",
              "      <td>41</td>\n",
              "      <td>100</td>\n",
              "      <td>71</td>\n",
              "      <td>63</td>\n",
              "      <td>63</td>\n",
              "    </tr>\n",
              "    <tr>\n",
              "      <th>3</th>\n",
              "      <td>Why am I mentally very lonely? How can I solve...</td>\n",
              "      <td>Find the remainder when [math]23^{24}[/math] i...</td>\n",
              "      <td>0</td>\n",
              "      <td>50</td>\n",
              "      <td>65</td>\n",
              "      <td>15</td>\n",
              "      <td>0</td>\n",
              "      <td>9</td>\n",
              "      <td>27</td>\n",
              "      <td>20</td>\n",
              "      <td>32</td>\n",
              "      <td>30</td>\n",
              "      <td>28</td>\n",
              "      <td>24</td>\n",
              "    </tr>\n",
              "    <tr>\n",
              "      <th>4</th>\n",
              "      <td>Which one dissolve in water quikly sugar, salt...</td>\n",
              "      <td>Which fish would survive in salt water?</td>\n",
              "      <td>0</td>\n",
              "      <td>76</td>\n",
              "      <td>39</td>\n",
              "      <td>37</td>\n",
              "      <td>2</td>\n",
              "      <td>35</td>\n",
              "      <td>86</td>\n",
              "      <td>54</td>\n",
              "      <td>100</td>\n",
              "      <td>67</td>\n",
              "      <td>67</td>\n",
              "      <td>47</td>\n",
              "    </tr>\n",
              "    <tr>\n",
              "      <th>5</th>\n",
              "      <td>Astrology: I am a Capricorn Sun Cap moon and c...</td>\n",
              "      <td>I'm a triple Capricorn (Sun, Moon and ascendan...</td>\n",
              "      <td>1</td>\n",
              "      <td>86</td>\n",
              "      <td>90</td>\n",
              "      <td>4</td>\n",
              "      <td>8</td>\n",
              "      <td>72</td>\n",
              "      <td>74</td>\n",
              "      <td>67</td>\n",
              "      <td>100</td>\n",
              "      <td>71</td>\n",
              "      <td>78</td>\n",
              "      <td>74</td>\n",
              "    </tr>\n",
              "    <tr>\n",
              "      <th>6</th>\n",
              "      <td>Should I buy tiago?</td>\n",
              "      <td>What keeps childern active and far from phone ...</td>\n",
              "      <td>0</td>\n",
              "      <td>19</td>\n",
              "      <td>62</td>\n",
              "      <td>43</td>\n",
              "      <td>0</td>\n",
              "      <td>20</td>\n",
              "      <td>35</td>\n",
              "      <td>32</td>\n",
              "      <td>39</td>\n",
              "      <td>39</td>\n",
              "      <td>24</td>\n",
              "      <td>23</td>\n",
              "    </tr>\n",
              "    <tr>\n",
              "      <th>7</th>\n",
              "      <td>How can I be a good geologist?</td>\n",
              "      <td>What should I do to be a great geologist?</td>\n",
              "      <td>1</td>\n",
              "      <td>30</td>\n",
              "      <td>41</td>\n",
              "      <td>11</td>\n",
              "      <td>4</td>\n",
              "      <td>61</td>\n",
              "      <td>67</td>\n",
              "      <td>67</td>\n",
              "      <td>100</td>\n",
              "      <td>69</td>\n",
              "      <td>71</td>\n",
              "      <td>61</td>\n",
              "    </tr>\n",
              "    <tr>\n",
              "      <th>8</th>\n",
              "      <td>When do you use シ instead of し?</td>\n",
              "      <td>When do you use \"&amp;\" instead of \"and\"?</td>\n",
              "      <td>0</td>\n",
              "      <td>31</td>\n",
              "      <td>37</td>\n",
              "      <td>6</td>\n",
              "      <td>6</td>\n",
              "      <td>86</td>\n",
              "      <td>88</td>\n",
              "      <td>90</td>\n",
              "      <td>100</td>\n",
              "      <td>93</td>\n",
              "      <td>93</td>\n",
              "      <td>87</td>\n",
              "    </tr>\n",
              "    <tr>\n",
              "      <th>9</th>\n",
              "      <td>Motorola (company): Can I hack my Charter Moto...</td>\n",
              "      <td>How do I hack Motorola DCX3400 for free internet?</td>\n",
              "      <td>0</td>\n",
              "      <td>60</td>\n",
              "      <td>49</td>\n",
              "      <td>11</td>\n",
              "      <td>3</td>\n",
              "      <td>49</td>\n",
              "      <td>62</td>\n",
              "      <td>57</td>\n",
              "      <td>100</td>\n",
              "      <td>55</td>\n",
              "      <td>65</td>\n",
              "      <td>44</td>\n",
              "    </tr>\n",
              "  </tbody>\n",
              "</table>\n",
              "</div>"
            ],
            "text/plain": [
              "                                           question1  ... fuzz_token_sort_ratio\n",
              "0  What is the step by step guide to invest in sh...  ...                    93\n",
              "1  What is the story of Kohinoor (Koh-i-Noor) Dia...  ...                    63\n",
              "2  How can I increase the speed of my internet co...  ...                    63\n",
              "3  Why am I mentally very lonely? How can I solve...  ...                    24\n",
              "4  Which one dissolve in water quikly sugar, salt...  ...                    47\n",
              "5  Astrology: I am a Capricorn Sun Cap moon and c...  ...                    74\n",
              "6                                Should I buy tiago?  ...                    23\n",
              "7                     How can I be a good geologist?  ...                    61\n",
              "8                    When do you use シ instead of し?  ...                    87\n",
              "9  Motorola (company): Can I hack my Charter Moto...  ...                    44\n",
              "\n",
              "[10 rows x 14 columns]"
            ]
          },
          "metadata": {
            "tags": []
          },
          "execution_count": 22
        }
      ]
    },
    {
      "cell_type": "code",
      "metadata": {
        "id": "jdvglwUdRS1D"
      },
      "source": [
        "#saving the dataframe till now as a checkpoint\n",
        "train_dataset.to_csv('fuzzy_features1.csv', index=False)"
      ],
      "execution_count": 23,
      "outputs": []
    },
    {
      "cell_type": "code",
      "metadata": {
        "id": "F3WhlC83WA-X"
      },
      "source": [
        "#loading csv from last checkpoint\n",
        "train_dataset = pd.read_csv('fuzzy_features1.csv')"
      ],
      "execution_count": 4,
      "outputs": []
    },
    {
      "cell_type": "code",
      "metadata": {
        "colab": {
          "base_uri": "https://localhost:8080/",
          "height": 618
        },
        "id": "MdVoyefMWGOS",
        "outputId": "494f775f-e834-41a9-c003-ddced94f234a"
      },
      "source": [
        "train_dataset.head()"
      ],
      "execution_count": 5,
      "outputs": [
        {
          "output_type": "execute_result",
          "data": {
            "text/html": [
              "<div>\n",
              "<style scoped>\n",
              "    .dataframe tbody tr th:only-of-type {\n",
              "        vertical-align: middle;\n",
              "    }\n",
              "\n",
              "    .dataframe tbody tr th {\n",
              "        vertical-align: top;\n",
              "    }\n",
              "\n",
              "    .dataframe thead th {\n",
              "        text-align: right;\n",
              "    }\n",
              "</style>\n",
              "<table border=\"1\" class=\"dataframe\">\n",
              "  <thead>\n",
              "    <tr style=\"text-align: right;\">\n",
              "      <th></th>\n",
              "      <th>question1</th>\n",
              "      <th>question2</th>\n",
              "      <th>is_duplicate</th>\n",
              "      <th>q1_length</th>\n",
              "      <th>q2_length</th>\n",
              "      <th>question_len_diff</th>\n",
              "      <th>len_common_words</th>\n",
              "      <th>fuzz_qratio</th>\n",
              "      <th>fuzz_WRatio</th>\n",
              "      <th>fuzz_partial_ratio</th>\n",
              "      <th>fuzz_partial_token_set_ratio</th>\n",
              "      <th>fuzz_partial_token_sort_ratio</th>\n",
              "      <th>fuzz_token_set_ratio</th>\n",
              "      <th>fuzz_token_sort_ratio</th>\n",
              "    </tr>\n",
              "  </thead>\n",
              "  <tbody>\n",
              "    <tr>\n",
              "      <th>0</th>\n",
              "      <td>What is the step by step guide to invest in sh...</td>\n",
              "      <td>What is the step by step guide to invest in sh...</td>\n",
              "      <td>0</td>\n",
              "      <td>66</td>\n",
              "      <td>57</td>\n",
              "      <td>9</td>\n",
              "      <td>10</td>\n",
              "      <td>93</td>\n",
              "      <td>95</td>\n",
              "      <td>98</td>\n",
              "      <td>100</td>\n",
              "      <td>88</td>\n",
              "      <td>100</td>\n",
              "      <td>93</td>\n",
              "    </tr>\n",
              "    <tr>\n",
              "      <th>1</th>\n",
              "      <td>What is the story of Kohinoor (Koh-i-Noor) Dia...</td>\n",
              "      <td>What would happen if the Indian government sto...</td>\n",
              "      <td>0</td>\n",
              "      <td>51</td>\n",
              "      <td>88</td>\n",
              "      <td>37</td>\n",
              "      <td>4</td>\n",
              "      <td>66</td>\n",
              "      <td>86</td>\n",
              "      <td>73</td>\n",
              "      <td>100</td>\n",
              "      <td>73</td>\n",
              "      <td>86</td>\n",
              "      <td>63</td>\n",
              "    </tr>\n",
              "    <tr>\n",
              "      <th>2</th>\n",
              "      <td>How can I increase the speed of my internet co...</td>\n",
              "      <td>How can Internet speed be increased by hacking...</td>\n",
              "      <td>0</td>\n",
              "      <td>73</td>\n",
              "      <td>59</td>\n",
              "      <td>14</td>\n",
              "      <td>4</td>\n",
              "      <td>43</td>\n",
              "      <td>60</td>\n",
              "      <td>41</td>\n",
              "      <td>100</td>\n",
              "      <td>71</td>\n",
              "      <td>63</td>\n",
              "      <td>63</td>\n",
              "    </tr>\n",
              "    <tr>\n",
              "      <th>3</th>\n",
              "      <td>Why am I mentally very lonely? How can I solve...</td>\n",
              "      <td>Find the remainder when [math]23^{24}[/math] i...</td>\n",
              "      <td>0</td>\n",
              "      <td>50</td>\n",
              "      <td>65</td>\n",
              "      <td>15</td>\n",
              "      <td>0</td>\n",
              "      <td>9</td>\n",
              "      <td>27</td>\n",
              "      <td>20</td>\n",
              "      <td>32</td>\n",
              "      <td>30</td>\n",
              "      <td>28</td>\n",
              "      <td>24</td>\n",
              "    </tr>\n",
              "    <tr>\n",
              "      <th>4</th>\n",
              "      <td>Which one dissolve in water quikly sugar, salt...</td>\n",
              "      <td>Which fish would survive in salt water?</td>\n",
              "      <td>0</td>\n",
              "      <td>76</td>\n",
              "      <td>39</td>\n",
              "      <td>37</td>\n",
              "      <td>2</td>\n",
              "      <td>35</td>\n",
              "      <td>86</td>\n",
              "      <td>54</td>\n",
              "      <td>100</td>\n",
              "      <td>67</td>\n",
              "      <td>67</td>\n",
              "      <td>47</td>\n",
              "    </tr>\n",
              "  </tbody>\n",
              "</table>\n",
              "</div>"
            ],
            "text/plain": [
              "                                           question1  ... fuzz_token_sort_ratio\n",
              "0  What is the step by step guide to invest in sh...  ...                    93\n",
              "1  What is the story of Kohinoor (Koh-i-Noor) Dia...  ...                    63\n",
              "2  How can I increase the speed of my internet co...  ...                    63\n",
              "3  Why am I mentally very lonely? How can I solve...  ...                    24\n",
              "4  Which one dissolve in water quikly sugar, salt...  ...                    47\n",
              "\n",
              "[5 rows x 14 columns]"
            ]
          },
          "metadata": {
            "tags": []
          },
          "execution_count": 5
        }
      ]
    },
    {
      "cell_type": "code",
      "metadata": {
        "id": "QDn0eXooR25m"
      },
      "source": [
        "#optional\n",
        "#!wget -c \"https://s3.amazonaws.com/dl4j-distribution/GoogleNews-vectors-negative300.bin.gz\"\n"
      ],
      "execution_count": 6,
      "outputs": []
    },
    {
      "cell_type": "code",
      "metadata": {
        "id": "-vRAa2MLvpPr"
      },
      "source": [
        "#feature extraction reference :: https://github.com/abhishekkrthakur/is_that_a_duplicate_quora_question/blob/master/feature_engineering.py\n",
        "model = gensim.models.KeyedVectors.load_word2vec_format('GoogleNews-vectors-negative300.bin.gz', binary=True)\n",
        "print(\"Starting up\")\n",
        "train_dataset['wmd'] = train_dataset.apply(lambda x: wmd(x['question1'], x['question2']), axis=1)\n",
        "print(\"Processed\")\n",
        "\n",
        "norm_model = gensim.models.KeyedVectors.load_word2vec_format('GoogleNews-vectors-negative300.bin.gz', binary=True)\n",
        "norm_model.init_sims(replace=True)\n",
        "train_dataset['norm_wmd'] = train_dataset.apply(lambda x: norm_wmd(x['question1'], x['question2']), axis=1)\n",
        "print(\"Processed\")\n",
        "\n",
        "\n"
      ],
      "execution_count": null,
      "outputs": []
    },
    {
      "cell_type": "code",
      "metadata": {
        "id": "ExxZL8GUm5rY"
      },
      "source": [
        "question1_vectors = np.zeros((train_dataset.shape[0], 300))\n",
        "error_count = 0\n",
        "for i, q in tqdm.tqdm(enumerate(train_dataset.question1.values)):\n",
        "    question1_vectors[i, :] = sent2vec(q)\n",
        "\n",
        "question2_vectors  = np.zeros((train_dataset.shape[0], 300))\n",
        "for i, q in tqdm.tqdm(enumerate(train_dataset.question2.values)):\n",
        "    question2_vectors[i, :] = sent2vec(q)\n",
        "\n",
        "train_dataset['cosine_distance'] = [cosine(x, y) for (x, y) in zip(np.nan_to_num(question1_vectors),\n",
        "                                                        np.nan_to_num(question2_vectors))]\n",
        "\n",
        "print(\"Processed\")  \n",
        "train_dataset['cityblock_distance'] = [cityblock(x, y) for (x, y) in zip(np.nan_to_num(question1_vectors),\n",
        "                                                          np.nan_to_num(question2_vectors))]\n",
        "print(\"Processed\")\n",
        "train_dataset['jaccard_distance'] = [jaccard(x, y) for (x, y) in zip(np.nan_to_num(question1_vectors),\n",
        "                                                          np.nan_to_num(question2_vectors))]\n",
        "print(\"Processed\")\n",
        "train_dataset['canberra_distance'] = [canberra(x, y) for (x, y) in zip(np.nan_to_num(question1_vectors),\n",
        "                                                          np.nan_to_num(question2_vectors))]\n",
        "\n",
        "print(\"Processed\")\n",
        "train_dataset['euclidean_distance'] = [euclidean(x, y) for (x, y) in zip(np.nan_to_num(question1_vectors),\n",
        "                                                          np.nan_to_num(question2_vectors))]\n",
        "print(\"Processed\")\n",
        "train_dataset['minkowski_distance'] = [minkowski(x, y, 3) for (x, y) in zip(np.nan_to_num(question1_vectors),\n",
        "                                                          np.nan_to_num(question2_vectors))]\n",
        "print(\"Processed\")\n",
        "train_dataset['braycurtis_distance'] = [braycurtis(x, y) for (x, y) in zip(np.nan_to_num(question1_vectors),\n",
        "                                                          np.nan_to_num(question2_vectors))]\n",
        "print(\"Processed\")\n"
      ],
      "execution_count": null,
      "outputs": []
    },
    {
      "cell_type": "code",
      "metadata": {
        "colab": {
          "base_uri": "https://localhost:8080/"
        },
        "id": "0qa1rTPSo34k",
        "outputId": "9916b31e-37e4-4ba3-c791-824c9447ae0a"
      },
      "source": [
        "train_dataset['skew_q1vec'] = [skew(x) for x in np.nan_to_num(question1_vectors)]\n",
        "print(\"Processed\")\n",
        "train_dataset['skew_q2vec'] = [skew(x) for x in np.nan_to_num(question2_vectors)]\n",
        "print(\"Processed\")\n",
        "train_dataset['kur_q1vec'] = [kurtosis(x) for x in np.nan_to_num(question1_vectors)]\n",
        "print(\"Processed\")\n",
        "train_dataset['kur_q2vec'] = [kurtosis(x) for x in np.nan_to_num(question2_vectors)]\n",
        "print(\"Processed\")"
      ],
      "execution_count": 24,
      "outputs": [
        {
          "output_type": "stream",
          "text": [
            "Processed\n",
            "Processed\n",
            "Processed\n",
            "Processed\n"
          ],
          "name": "stdout"
        }
      ]
    },
    {
      "cell_type": "code",
      "metadata": {
        "id": "BCzp0CjoQwGU"
      },
      "source": [
        "pickle.dump(question1_vectors, open('q1_w2v.pkl', 'wb'), -1)\n",
        "pickle.dump(question2_vectors, open('q2_w2v.pkl', 'wb'), -1)\n",
        "\n",
        "train_dataset.to_csv('final_features.csv', index=False)"
      ],
      "execution_count": 30,
      "outputs": []
    },
    {
      "cell_type": "code",
      "metadata": {
        "id": "fA00cGOQsY8p",
        "colab": {
          "base_uri": "https://localhost:8080/",
          "height": 1000
        },
        "outputId": "26e5bd48-4d00-498a-eaea-8189a9049a32"
      },
      "source": [
        "train_dataset.head(10)"
      ],
      "execution_count": 31,
      "outputs": [
        {
          "output_type": "execute_result",
          "data": {
            "text/html": [
              "<div>\n",
              "<style scoped>\n",
              "    .dataframe tbody tr th:only-of-type {\n",
              "        vertical-align: middle;\n",
              "    }\n",
              "\n",
              "    .dataframe tbody tr th {\n",
              "        vertical-align: top;\n",
              "    }\n",
              "\n",
              "    .dataframe thead th {\n",
              "        text-align: right;\n",
              "    }\n",
              "</style>\n",
              "<table border=\"1\" class=\"dataframe\">\n",
              "  <thead>\n",
              "    <tr style=\"text-align: right;\">\n",
              "      <th></th>\n",
              "      <th>question1</th>\n",
              "      <th>question2</th>\n",
              "      <th>is_duplicate</th>\n",
              "      <th>q1_length</th>\n",
              "      <th>q2_length</th>\n",
              "      <th>question_len_diff</th>\n",
              "      <th>len_common_words</th>\n",
              "      <th>fuzz_qratio</th>\n",
              "      <th>fuzz_WRatio</th>\n",
              "      <th>fuzz_partial_ratio</th>\n",
              "      <th>fuzz_partial_token_set_ratio</th>\n",
              "      <th>fuzz_partial_token_sort_ratio</th>\n",
              "      <th>fuzz_token_set_ratio</th>\n",
              "      <th>fuzz_token_sort_ratio</th>\n",
              "      <th>wmd</th>\n",
              "      <th>norm_wmd</th>\n",
              "      <th>cosine_distance</th>\n",
              "      <th>cityblock_distance</th>\n",
              "      <th>jaccard_distance</th>\n",
              "      <th>canberra_distance</th>\n",
              "      <th>euclidean_distance</th>\n",
              "      <th>minkowski_distance</th>\n",
              "      <th>braycurtis_distance</th>\n",
              "      <th>skew_q1vec</th>\n",
              "      <th>skew_q2vec</th>\n",
              "      <th>kur_q1vec</th>\n",
              "      <th>kur_q2vec</th>\n",
              "    </tr>\n",
              "  </thead>\n",
              "  <tbody>\n",
              "    <tr>\n",
              "      <th>0</th>\n",
              "      <td>What is the step by step guide to invest in sh...</td>\n",
              "      <td>What is the step by step guide to invest in sh...</td>\n",
              "      <td>0</td>\n",
              "      <td>66</td>\n",
              "      <td>57</td>\n",
              "      <td>9</td>\n",
              "      <td>10</td>\n",
              "      <td>93</td>\n",
              "      <td>95</td>\n",
              "      <td>98</td>\n",
              "      <td>100</td>\n",
              "      <td>88</td>\n",
              "      <td>100</td>\n",
              "      <td>93</td>\n",
              "      <td>0.564615</td>\n",
              "      <td>0.217555</td>\n",
              "      <td>0.068972</td>\n",
              "      <td>5.081614</td>\n",
              "      <td>1.0</td>\n",
              "      <td>94.023324</td>\n",
              "      <td>0.371408</td>\n",
              "      <td>0.168999</td>\n",
              "      <td>0.186557</td>\n",
              "      <td>0.031817</td>\n",
              "      <td>-0.091902</td>\n",
              "      <td>0.050416</td>\n",
              "      <td>0.337301</td>\n",
              "    </tr>\n",
              "    <tr>\n",
              "      <th>1</th>\n",
              "      <td>What is the story of Kohinoor (Koh-i-Noor) Dia...</td>\n",
              "      <td>What would happen if the Indian government sto...</td>\n",
              "      <td>0</td>\n",
              "      <td>51</td>\n",
              "      <td>88</td>\n",
              "      <td>37</td>\n",
              "      <td>4</td>\n",
              "      <td>66</td>\n",
              "      <td>86</td>\n",
              "      <td>73</td>\n",
              "      <td>100</td>\n",
              "      <td>73</td>\n",
              "      <td>86</td>\n",
              "      <td>63</td>\n",
              "      <td>3.772346</td>\n",
              "      <td>1.368796</td>\n",
              "      <td>0.512164</td>\n",
              "      <td>14.195119</td>\n",
              "      <td>1.0</td>\n",
              "      <td>177.588090</td>\n",
              "      <td>1.012091</td>\n",
              "      <td>0.455910</td>\n",
              "      <td>0.592655</td>\n",
              "      <td>0.008735</td>\n",
              "      <td>0.094704</td>\n",
              "      <td>0.284010</td>\n",
              "      <td>-0.034444</td>\n",
              "    </tr>\n",
              "    <tr>\n",
              "      <th>2</th>\n",
              "      <td>How can I increase the speed of my internet co...</td>\n",
              "      <td>How can Internet speed be increased by hacking...</td>\n",
              "      <td>0</td>\n",
              "      <td>73</td>\n",
              "      <td>59</td>\n",
              "      <td>14</td>\n",
              "      <td>4</td>\n",
              "      <td>43</td>\n",
              "      <td>60</td>\n",
              "      <td>41</td>\n",
              "      <td>100</td>\n",
              "      <td>71</td>\n",
              "      <td>63</td>\n",
              "      <td>63</td>\n",
              "      <td>1.780585</td>\n",
              "      <td>0.639209</td>\n",
              "      <td>0.222009</td>\n",
              "      <td>9.055989</td>\n",
              "      <td>1.0</td>\n",
              "      <td>135.988707</td>\n",
              "      <td>0.666346</td>\n",
              "      <td>0.307828</td>\n",
              "      <td>0.342306</td>\n",
              "      <td>0.239752</td>\n",
              "      <td>0.144554</td>\n",
              "      <td>0.026759</td>\n",
              "      <td>-0.474131</td>\n",
              "    </tr>\n",
              "    <tr>\n",
              "      <th>3</th>\n",
              "      <td>Why am I mentally very lonely? How can I solve...</td>\n",
              "      <td>Find the remainder when [math]23^{24}[/math] i...</td>\n",
              "      <td>0</td>\n",
              "      <td>50</td>\n",
              "      <td>65</td>\n",
              "      <td>15</td>\n",
              "      <td>0</td>\n",
              "      <td>9</td>\n",
              "      <td>27</td>\n",
              "      <td>20</td>\n",
              "      <td>32</td>\n",
              "      <td>30</td>\n",
              "      <td>28</td>\n",
              "      <td>24</td>\n",
              "      <td>3.741994</td>\n",
              "      <td>1.263719</td>\n",
              "      <td>0.650411</td>\n",
              "      <td>15.987437</td>\n",
              "      <td>1.0</td>\n",
              "      <td>192.237828</td>\n",
              "      <td>1.140536</td>\n",
              "      <td>0.506028</td>\n",
              "      <td>0.692421</td>\n",
              "      <td>-0.002527</td>\n",
              "      <td>0.069649</td>\n",
              "      <td>-0.244560</td>\n",
              "      <td>-0.265568</td>\n",
              "    </tr>\n",
              "    <tr>\n",
              "      <th>4</th>\n",
              "      <td>Which one dissolve in water quikly sugar, salt...</td>\n",
              "      <td>Which fish would survive in salt water?</td>\n",
              "      <td>0</td>\n",
              "      <td>76</td>\n",
              "      <td>39</td>\n",
              "      <td>37</td>\n",
              "      <td>2</td>\n",
              "      <td>35</td>\n",
              "      <td>86</td>\n",
              "      <td>54</td>\n",
              "      <td>100</td>\n",
              "      <td>67</td>\n",
              "      <td>67</td>\n",
              "      <td>47</td>\n",
              "      <td>3.659165</td>\n",
              "      <td>1.240908</td>\n",
              "      <td>0.369993</td>\n",
              "      <td>12.103178</td>\n",
              "      <td>1.0</td>\n",
              "      <td>161.408435</td>\n",
              "      <td>0.860225</td>\n",
              "      <td>0.382770</td>\n",
              "      <td>0.480633</td>\n",
              "      <td>-0.133849</td>\n",
              "      <td>0.114777</td>\n",
              "      <td>0.217900</td>\n",
              "      <td>-0.338876</td>\n",
              "    </tr>\n",
              "    <tr>\n",
              "      <th>5</th>\n",
              "      <td>Astrology: I am a Capricorn Sun Cap moon and c...</td>\n",
              "      <td>I'm a triple Capricorn (Sun, Moon and ascendan...</td>\n",
              "      <td>1</td>\n",
              "      <td>86</td>\n",
              "      <td>90</td>\n",
              "      <td>4</td>\n",
              "      <td>8</td>\n",
              "      <td>72</td>\n",
              "      <td>74</td>\n",
              "      <td>67</td>\n",
              "      <td>100</td>\n",
              "      <td>71</td>\n",
              "      <td>78</td>\n",
              "      <td>74</td>\n",
              "      <td>2.357449</td>\n",
              "      <td>0.780579</td>\n",
              "      <td>0.275242</td>\n",
              "      <td>10.254048</td>\n",
              "      <td>1.0</td>\n",
              "      <td>150.335589</td>\n",
              "      <td>0.741946</td>\n",
              "      <td>0.337470</td>\n",
              "      <td>0.400061</td>\n",
              "      <td>0.102946</td>\n",
              "      <td>-0.077741</td>\n",
              "      <td>-0.335505</td>\n",
              "      <td>-0.057847</td>\n",
              "    </tr>\n",
              "    <tr>\n",
              "      <th>6</th>\n",
              "      <td>Should I buy tiago?</td>\n",
              "      <td>What keeps childern active and far from phone ...</td>\n",
              "      <td>0</td>\n",
              "      <td>19</td>\n",
              "      <td>62</td>\n",
              "      <td>43</td>\n",
              "      <td>0</td>\n",
              "      <td>20</td>\n",
              "      <td>35</td>\n",
              "      <td>32</td>\n",
              "      <td>39</td>\n",
              "      <td>39</td>\n",
              "      <td>24</td>\n",
              "      <td>23</td>\n",
              "      <td>3.546062</td>\n",
              "      <td>1.359521</td>\n",
              "      <td>0.820637</td>\n",
              "      <td>17.414754</td>\n",
              "      <td>1.0</td>\n",
              "      <td>200.598725</td>\n",
              "      <td>1.281122</td>\n",
              "      <td>0.597082</td>\n",
              "      <td>0.816676</td>\n",
              "      <td>-0.090366</td>\n",
              "      <td>-0.000266</td>\n",
              "      <td>0.296892</td>\n",
              "      <td>0.130717</td>\n",
              "    </tr>\n",
              "    <tr>\n",
              "      <th>7</th>\n",
              "      <td>How can I be a good geologist?</td>\n",
              "      <td>What should I do to be a great geologist?</td>\n",
              "      <td>1</td>\n",
              "      <td>30</td>\n",
              "      <td>41</td>\n",
              "      <td>11</td>\n",
              "      <td>4</td>\n",
              "      <td>61</td>\n",
              "      <td>67</td>\n",
              "      <td>67</td>\n",
              "      <td>100</td>\n",
              "      <td>69</td>\n",
              "      <td>71</td>\n",
              "      <td>61</td>\n",
              "      <td>1.691323</td>\n",
              "      <td>0.736001</td>\n",
              "      <td>0.064615</td>\n",
              "      <td>5.008762</td>\n",
              "      <td>1.0</td>\n",
              "      <td>95.395891</td>\n",
              "      <td>0.359486</td>\n",
              "      <td>0.161125</td>\n",
              "      <td>0.187150</td>\n",
              "      <td>0.346824</td>\n",
              "      <td>0.368469</td>\n",
              "      <td>0.635773</td>\n",
              "      <td>0.865446</td>\n",
              "    </tr>\n",
              "    <tr>\n",
              "      <th>8</th>\n",
              "      <td>When do you use シ instead of し?</td>\n",
              "      <td>When do you use \"&amp;\" instead of \"and\"?</td>\n",
              "      <td>0</td>\n",
              "      <td>31</td>\n",
              "      <td>37</td>\n",
              "      <td>6</td>\n",
              "      <td>6</td>\n",
              "      <td>86</td>\n",
              "      <td>88</td>\n",
              "      <td>90</td>\n",
              "      <td>100</td>\n",
              "      <td>93</td>\n",
              "      <td>93</td>\n",
              "      <td>87</td>\n",
              "      <td>0.000000</td>\n",
              "      <td>0.000000</td>\n",
              "      <td>0.000000</td>\n",
              "      <td>0.000000</td>\n",
              "      <td>0.0</td>\n",
              "      <td>0.000000</td>\n",
              "      <td>0.000000</td>\n",
              "      <td>0.000000</td>\n",
              "      <td>0.000000</td>\n",
              "      <td>0.202336</td>\n",
              "      <td>0.202336</td>\n",
              "      <td>-0.434927</td>\n",
              "      <td>-0.434927</td>\n",
              "    </tr>\n",
              "    <tr>\n",
              "      <th>9</th>\n",
              "      <td>Motorola (company): Can I hack my Charter Moto...</td>\n",
              "      <td>How do I hack Motorola DCX3400 for free internet?</td>\n",
              "      <td>0</td>\n",
              "      <td>60</td>\n",
              "      <td>49</td>\n",
              "      <td>11</td>\n",
              "      <td>3</td>\n",
              "      <td>49</td>\n",
              "      <td>62</td>\n",
              "      <td>57</td>\n",
              "      <td>100</td>\n",
              "      <td>55</td>\n",
              "      <td>65</td>\n",
              "      <td>44</td>\n",
              "      <td>1.258243</td>\n",
              "      <td>0.459266</td>\n",
              "      <td>0.284710</td>\n",
              "      <td>10.634987</td>\n",
              "      <td>1.0</td>\n",
              "      <td>153.647611</td>\n",
              "      <td>0.754599</td>\n",
              "      <td>0.337939</td>\n",
              "      <td>0.409126</td>\n",
              "      <td>0.120050</td>\n",
              "      <td>0.204449</td>\n",
              "      <td>-0.214573</td>\n",
              "      <td>-0.126814</td>\n",
              "    </tr>\n",
              "  </tbody>\n",
              "</table>\n",
              "</div>"
            ],
            "text/plain": [
              "                                           question1  ... kur_q2vec\n",
              "0  What is the step by step guide to invest in sh...  ...  0.337301\n",
              "1  What is the story of Kohinoor (Koh-i-Noor) Dia...  ... -0.034444\n",
              "2  How can I increase the speed of my internet co...  ... -0.474131\n",
              "3  Why am I mentally very lonely? How can I solve...  ... -0.265568\n",
              "4  Which one dissolve in water quikly sugar, salt...  ... -0.338876\n",
              "5  Astrology: I am a Capricorn Sun Cap moon and c...  ... -0.057847\n",
              "6                                Should I buy tiago?  ...  0.130717\n",
              "7                     How can I be a good geologist?  ...  0.865446\n",
              "8                    When do you use シ instead of し?  ... -0.434927\n",
              "9  Motorola (company): Can I hack my Charter Moto...  ... -0.126814\n",
              "\n",
              "[10 rows x 27 columns]"
            ]
          },
          "metadata": {
            "tags": []
          },
          "execution_count": 31
        }
      ]
    },
    {
      "cell_type": "code",
      "metadata": {
        "id": "iN5mdPomsch5"
      },
      "source": [
        "fuzzy_features = train_dataset.drop(['question1','question2'], axis=1)"
      ],
      "execution_count": 33,
      "outputs": []
    },
    {
      "cell_type": "code",
      "metadata": {
        "colab": {
          "base_uri": "https://localhost:8080/",
          "height": 216
        },
        "id": "mwxypyJ7sbNt",
        "outputId": "a1d86944-794e-4446-c311-5f07f4e3685d"
      },
      "source": [
        "fuzzy_features.head()"
      ],
      "execution_count": 34,
      "outputs": [
        {
          "output_type": "execute_result",
          "data": {
            "text/html": [
              "<div>\n",
              "<style scoped>\n",
              "    .dataframe tbody tr th:only-of-type {\n",
              "        vertical-align: middle;\n",
              "    }\n",
              "\n",
              "    .dataframe tbody tr th {\n",
              "        vertical-align: top;\n",
              "    }\n",
              "\n",
              "    .dataframe thead th {\n",
              "        text-align: right;\n",
              "    }\n",
              "</style>\n",
              "<table border=\"1\" class=\"dataframe\">\n",
              "  <thead>\n",
              "    <tr style=\"text-align: right;\">\n",
              "      <th></th>\n",
              "      <th>is_duplicate</th>\n",
              "      <th>q1_length</th>\n",
              "      <th>q2_length</th>\n",
              "      <th>question_len_diff</th>\n",
              "      <th>len_common_words</th>\n",
              "      <th>fuzz_qratio</th>\n",
              "      <th>fuzz_WRatio</th>\n",
              "      <th>fuzz_partial_ratio</th>\n",
              "      <th>fuzz_partial_token_set_ratio</th>\n",
              "      <th>fuzz_partial_token_sort_ratio</th>\n",
              "      <th>fuzz_token_set_ratio</th>\n",
              "      <th>fuzz_token_sort_ratio</th>\n",
              "      <th>wmd</th>\n",
              "      <th>norm_wmd</th>\n",
              "      <th>cosine_distance</th>\n",
              "      <th>cityblock_distance</th>\n",
              "      <th>jaccard_distance</th>\n",
              "      <th>canberra_distance</th>\n",
              "      <th>euclidean_distance</th>\n",
              "      <th>minkowski_distance</th>\n",
              "      <th>braycurtis_distance</th>\n",
              "      <th>skew_q1vec</th>\n",
              "      <th>skew_q2vec</th>\n",
              "      <th>kur_q1vec</th>\n",
              "      <th>kur_q2vec</th>\n",
              "    </tr>\n",
              "  </thead>\n",
              "  <tbody>\n",
              "    <tr>\n",
              "      <th>0</th>\n",
              "      <td>0</td>\n",
              "      <td>66</td>\n",
              "      <td>57</td>\n",
              "      <td>9</td>\n",
              "      <td>10</td>\n",
              "      <td>93</td>\n",
              "      <td>95</td>\n",
              "      <td>98</td>\n",
              "      <td>100</td>\n",
              "      <td>88</td>\n",
              "      <td>100</td>\n",
              "      <td>93</td>\n",
              "      <td>0.564615</td>\n",
              "      <td>0.217555</td>\n",
              "      <td>0.068972</td>\n",
              "      <td>5.081614</td>\n",
              "      <td>1.0</td>\n",
              "      <td>94.023324</td>\n",
              "      <td>0.371408</td>\n",
              "      <td>0.168999</td>\n",
              "      <td>0.186557</td>\n",
              "      <td>0.031817</td>\n",
              "      <td>-0.091902</td>\n",
              "      <td>0.050416</td>\n",
              "      <td>0.337301</td>\n",
              "    </tr>\n",
              "    <tr>\n",
              "      <th>1</th>\n",
              "      <td>0</td>\n",
              "      <td>51</td>\n",
              "      <td>88</td>\n",
              "      <td>37</td>\n",
              "      <td>4</td>\n",
              "      <td>66</td>\n",
              "      <td>86</td>\n",
              "      <td>73</td>\n",
              "      <td>100</td>\n",
              "      <td>73</td>\n",
              "      <td>86</td>\n",
              "      <td>63</td>\n",
              "      <td>3.772346</td>\n",
              "      <td>1.368796</td>\n",
              "      <td>0.512164</td>\n",
              "      <td>14.195119</td>\n",
              "      <td>1.0</td>\n",
              "      <td>177.588090</td>\n",
              "      <td>1.012091</td>\n",
              "      <td>0.455910</td>\n",
              "      <td>0.592655</td>\n",
              "      <td>0.008735</td>\n",
              "      <td>0.094704</td>\n",
              "      <td>0.284010</td>\n",
              "      <td>-0.034444</td>\n",
              "    </tr>\n",
              "    <tr>\n",
              "      <th>2</th>\n",
              "      <td>0</td>\n",
              "      <td>73</td>\n",
              "      <td>59</td>\n",
              "      <td>14</td>\n",
              "      <td>4</td>\n",
              "      <td>43</td>\n",
              "      <td>60</td>\n",
              "      <td>41</td>\n",
              "      <td>100</td>\n",
              "      <td>71</td>\n",
              "      <td>63</td>\n",
              "      <td>63</td>\n",
              "      <td>1.780585</td>\n",
              "      <td>0.639209</td>\n",
              "      <td>0.222009</td>\n",
              "      <td>9.055989</td>\n",
              "      <td>1.0</td>\n",
              "      <td>135.988707</td>\n",
              "      <td>0.666346</td>\n",
              "      <td>0.307828</td>\n",
              "      <td>0.342306</td>\n",
              "      <td>0.239752</td>\n",
              "      <td>0.144554</td>\n",
              "      <td>0.026759</td>\n",
              "      <td>-0.474131</td>\n",
              "    </tr>\n",
              "    <tr>\n",
              "      <th>3</th>\n",
              "      <td>0</td>\n",
              "      <td>50</td>\n",
              "      <td>65</td>\n",
              "      <td>15</td>\n",
              "      <td>0</td>\n",
              "      <td>9</td>\n",
              "      <td>27</td>\n",
              "      <td>20</td>\n",
              "      <td>32</td>\n",
              "      <td>30</td>\n",
              "      <td>28</td>\n",
              "      <td>24</td>\n",
              "      <td>3.741994</td>\n",
              "      <td>1.263719</td>\n",
              "      <td>0.650411</td>\n",
              "      <td>15.987437</td>\n",
              "      <td>1.0</td>\n",
              "      <td>192.237828</td>\n",
              "      <td>1.140536</td>\n",
              "      <td>0.506028</td>\n",
              "      <td>0.692421</td>\n",
              "      <td>-0.002527</td>\n",
              "      <td>0.069649</td>\n",
              "      <td>-0.244560</td>\n",
              "      <td>-0.265568</td>\n",
              "    </tr>\n",
              "    <tr>\n",
              "      <th>4</th>\n",
              "      <td>0</td>\n",
              "      <td>76</td>\n",
              "      <td>39</td>\n",
              "      <td>37</td>\n",
              "      <td>2</td>\n",
              "      <td>35</td>\n",
              "      <td>86</td>\n",
              "      <td>54</td>\n",
              "      <td>100</td>\n",
              "      <td>67</td>\n",
              "      <td>67</td>\n",
              "      <td>47</td>\n",
              "      <td>3.659165</td>\n",
              "      <td>1.240908</td>\n",
              "      <td>0.369993</td>\n",
              "      <td>12.103178</td>\n",
              "      <td>1.0</td>\n",
              "      <td>161.408435</td>\n",
              "      <td>0.860225</td>\n",
              "      <td>0.382770</td>\n",
              "      <td>0.480633</td>\n",
              "      <td>-0.133849</td>\n",
              "      <td>0.114777</td>\n",
              "      <td>0.217900</td>\n",
              "      <td>-0.338876</td>\n",
              "    </tr>\n",
              "  </tbody>\n",
              "</table>\n",
              "</div>"
            ],
            "text/plain": [
              "   is_duplicate  q1_length  q2_length  ...  skew_q2vec  kur_q1vec  kur_q2vec\n",
              "0             0         66         57  ...   -0.091902   0.050416   0.337301\n",
              "1             0         51         88  ...    0.094704   0.284010  -0.034444\n",
              "2             0         73         59  ...    0.144554   0.026759  -0.474131\n",
              "3             0         50         65  ...    0.069649  -0.244560  -0.265568\n",
              "4             0         76         39  ...    0.114777   0.217900  -0.338876\n",
              "\n",
              "[5 rows x 25 columns]"
            ]
          },
          "metadata": {
            "tags": []
          },
          "execution_count": 34
        }
      ]
    },
    {
      "cell_type": "code",
      "metadata": {
        "id": "98bwNgBGs9YO"
      },
      "source": [
        "fuzzy_label = fuzzy_features.iloc[:,0]\n",
        "fuzzy_features = fuzzy_features.iloc[:,1:24]"
      ],
      "execution_count": 35,
      "outputs": []
    },
    {
      "cell_type": "code",
      "metadata": {
        "colab": {
          "base_uri": "https://localhost:8080/",
          "height": 216
        },
        "id": "FV2ocQeHskRe",
        "outputId": "07001fb6-ccf0-4482-b97b-3ba437c01b0a"
      },
      "source": [
        "fuzzy_features.head()"
      ],
      "execution_count": 36,
      "outputs": [
        {
          "output_type": "execute_result",
          "data": {
            "text/html": [
              "<div>\n",
              "<style scoped>\n",
              "    .dataframe tbody tr th:only-of-type {\n",
              "        vertical-align: middle;\n",
              "    }\n",
              "\n",
              "    .dataframe tbody tr th {\n",
              "        vertical-align: top;\n",
              "    }\n",
              "\n",
              "    .dataframe thead th {\n",
              "        text-align: right;\n",
              "    }\n",
              "</style>\n",
              "<table border=\"1\" class=\"dataframe\">\n",
              "  <thead>\n",
              "    <tr style=\"text-align: right;\">\n",
              "      <th></th>\n",
              "      <th>q1_length</th>\n",
              "      <th>q2_length</th>\n",
              "      <th>question_len_diff</th>\n",
              "      <th>len_common_words</th>\n",
              "      <th>fuzz_qratio</th>\n",
              "      <th>fuzz_WRatio</th>\n",
              "      <th>fuzz_partial_ratio</th>\n",
              "      <th>fuzz_partial_token_set_ratio</th>\n",
              "      <th>fuzz_partial_token_sort_ratio</th>\n",
              "      <th>fuzz_token_set_ratio</th>\n",
              "      <th>fuzz_token_sort_ratio</th>\n",
              "      <th>wmd</th>\n",
              "      <th>norm_wmd</th>\n",
              "      <th>cosine_distance</th>\n",
              "      <th>cityblock_distance</th>\n",
              "      <th>jaccard_distance</th>\n",
              "      <th>canberra_distance</th>\n",
              "      <th>euclidean_distance</th>\n",
              "      <th>minkowski_distance</th>\n",
              "      <th>braycurtis_distance</th>\n",
              "      <th>skew_q1vec</th>\n",
              "      <th>skew_q2vec</th>\n",
              "      <th>kur_q1vec</th>\n",
              "    </tr>\n",
              "  </thead>\n",
              "  <tbody>\n",
              "    <tr>\n",
              "      <th>0</th>\n",
              "      <td>66</td>\n",
              "      <td>57</td>\n",
              "      <td>9</td>\n",
              "      <td>10</td>\n",
              "      <td>93</td>\n",
              "      <td>95</td>\n",
              "      <td>98</td>\n",
              "      <td>100</td>\n",
              "      <td>88</td>\n",
              "      <td>100</td>\n",
              "      <td>93</td>\n",
              "      <td>0.564615</td>\n",
              "      <td>0.217555</td>\n",
              "      <td>0.068972</td>\n",
              "      <td>5.081614</td>\n",
              "      <td>1.0</td>\n",
              "      <td>94.023324</td>\n",
              "      <td>0.371408</td>\n",
              "      <td>0.168999</td>\n",
              "      <td>0.186557</td>\n",
              "      <td>0.031817</td>\n",
              "      <td>-0.091902</td>\n",
              "      <td>0.050416</td>\n",
              "    </tr>\n",
              "    <tr>\n",
              "      <th>1</th>\n",
              "      <td>51</td>\n",
              "      <td>88</td>\n",
              "      <td>37</td>\n",
              "      <td>4</td>\n",
              "      <td>66</td>\n",
              "      <td>86</td>\n",
              "      <td>73</td>\n",
              "      <td>100</td>\n",
              "      <td>73</td>\n",
              "      <td>86</td>\n",
              "      <td>63</td>\n",
              "      <td>3.772346</td>\n",
              "      <td>1.368796</td>\n",
              "      <td>0.512164</td>\n",
              "      <td>14.195119</td>\n",
              "      <td>1.0</td>\n",
              "      <td>177.588090</td>\n",
              "      <td>1.012091</td>\n",
              "      <td>0.455910</td>\n",
              "      <td>0.592655</td>\n",
              "      <td>0.008735</td>\n",
              "      <td>0.094704</td>\n",
              "      <td>0.284010</td>\n",
              "    </tr>\n",
              "    <tr>\n",
              "      <th>2</th>\n",
              "      <td>73</td>\n",
              "      <td>59</td>\n",
              "      <td>14</td>\n",
              "      <td>4</td>\n",
              "      <td>43</td>\n",
              "      <td>60</td>\n",
              "      <td>41</td>\n",
              "      <td>100</td>\n",
              "      <td>71</td>\n",
              "      <td>63</td>\n",
              "      <td>63</td>\n",
              "      <td>1.780585</td>\n",
              "      <td>0.639209</td>\n",
              "      <td>0.222009</td>\n",
              "      <td>9.055989</td>\n",
              "      <td>1.0</td>\n",
              "      <td>135.988707</td>\n",
              "      <td>0.666346</td>\n",
              "      <td>0.307828</td>\n",
              "      <td>0.342306</td>\n",
              "      <td>0.239752</td>\n",
              "      <td>0.144554</td>\n",
              "      <td>0.026759</td>\n",
              "    </tr>\n",
              "    <tr>\n",
              "      <th>3</th>\n",
              "      <td>50</td>\n",
              "      <td>65</td>\n",
              "      <td>15</td>\n",
              "      <td>0</td>\n",
              "      <td>9</td>\n",
              "      <td>27</td>\n",
              "      <td>20</td>\n",
              "      <td>32</td>\n",
              "      <td>30</td>\n",
              "      <td>28</td>\n",
              "      <td>24</td>\n",
              "      <td>3.741994</td>\n",
              "      <td>1.263719</td>\n",
              "      <td>0.650411</td>\n",
              "      <td>15.987437</td>\n",
              "      <td>1.0</td>\n",
              "      <td>192.237828</td>\n",
              "      <td>1.140536</td>\n",
              "      <td>0.506028</td>\n",
              "      <td>0.692421</td>\n",
              "      <td>-0.002527</td>\n",
              "      <td>0.069649</td>\n",
              "      <td>-0.244560</td>\n",
              "    </tr>\n",
              "    <tr>\n",
              "      <th>4</th>\n",
              "      <td>76</td>\n",
              "      <td>39</td>\n",
              "      <td>37</td>\n",
              "      <td>2</td>\n",
              "      <td>35</td>\n",
              "      <td>86</td>\n",
              "      <td>54</td>\n",
              "      <td>100</td>\n",
              "      <td>67</td>\n",
              "      <td>67</td>\n",
              "      <td>47</td>\n",
              "      <td>3.659165</td>\n",
              "      <td>1.240908</td>\n",
              "      <td>0.369993</td>\n",
              "      <td>12.103178</td>\n",
              "      <td>1.0</td>\n",
              "      <td>161.408435</td>\n",
              "      <td>0.860225</td>\n",
              "      <td>0.382770</td>\n",
              "      <td>0.480633</td>\n",
              "      <td>-0.133849</td>\n",
              "      <td>0.114777</td>\n",
              "      <td>0.217900</td>\n",
              "    </tr>\n",
              "  </tbody>\n",
              "</table>\n",
              "</div>"
            ],
            "text/plain": [
              "   q1_length  q2_length  question_len_diff  ...  skew_q1vec  skew_q2vec  kur_q1vec\n",
              "0         66         57                  9  ...    0.031817   -0.091902   0.050416\n",
              "1         51         88                 37  ...    0.008735    0.094704   0.284010\n",
              "2         73         59                 14  ...    0.239752    0.144554   0.026759\n",
              "3         50         65                 15  ...   -0.002527    0.069649  -0.244560\n",
              "4         76         39                 37  ...   -0.133849    0.114777   0.217900\n",
              "\n",
              "[5 rows x 23 columns]"
            ]
          },
          "metadata": {
            "tags": []
          },
          "execution_count": 36
        }
      ]
    },
    {
      "cell_type": "code",
      "metadata": {
        "id": "KcxhxcVqtNGl"
      },
      "source": [
        "X_train_fuzzy,X_test_fuzzy, y_train_fuzzy,y_test_fuzzy = train_test_split(fuzzy_features, fuzzy_label, random_state=42, test_size=0.25)"
      ],
      "execution_count": 37,
      "outputs": []
    },
    {
      "cell_type": "code",
      "metadata": {
        "id": "cMEo1Cq7mqD6",
        "colab": {
          "base_uri": "https://localhost:8080/"
        },
        "outputId": "b0a7258f-86f2-418a-feb6-a20c53e5f4f3"
      },
      "source": [
        "#let's do hyperparam tuning using spark\n",
        "!pip install --upgrade sk-dist\n",
        "from skdist.distribute.search import DistGridSearchCV"
      ],
      "execution_count": 40,
      "outputs": [
        {
          "output_type": "stream",
          "text": [
            "Collecting sk-dist\n",
            "\u001b[?25l  Downloading https://files.pythonhosted.org/packages/2b/a2/69d38208de981c980eb8513348a82076b26ee52f2066b898d73252b74b95/sk-dist-0.1.9.tar.gz (41kB)\n",
            "\r\u001b[K     |████████                        | 10kB 13.5MB/s eta 0:00:01\r\u001b[K     |███████████████▉                | 20kB 9.1MB/s eta 0:00:01\r\u001b[K     |███████████████████████▉        | 30kB 5.9MB/s eta 0:00:01\r\u001b[K     |███████████████████████████████▊| 40kB 5.3MB/s eta 0:00:01\r\u001b[K     |████████████████████████████████| 51kB 2.8MB/s \n",
            "\u001b[?25hRequirement already satisfied, skipping upgrade: scikit-learn>=0.20.0 in /usr/local/lib/python3.7/dist-packages (from sk-dist) (0.22.2.post1)\n",
            "Requirement already satisfied, skipping upgrade: pandas>=0.17.0 in /usr/local/lib/python3.7/dist-packages (from sk-dist) (1.1.5)\n",
            "Requirement already satisfied, skipping upgrade: numpy in /usr/local/lib/python3.7/dist-packages (from sk-dist) (1.19.5)\n",
            "Requirement already satisfied, skipping upgrade: scipy in /usr/local/lib/python3.7/dist-packages (from sk-dist) (1.4.1)\n",
            "Requirement already satisfied, skipping upgrade: joblib in /usr/local/lib/python3.7/dist-packages (from sk-dist) (1.0.1)\n",
            "Requirement already satisfied, skipping upgrade: python-dateutil>=2.7.3 in /usr/local/lib/python3.7/dist-packages (from pandas>=0.17.0->sk-dist) (2.8.1)\n",
            "Requirement already satisfied, skipping upgrade: pytz>=2017.2 in /usr/local/lib/python3.7/dist-packages (from pandas>=0.17.0->sk-dist) (2018.9)\n",
            "Requirement already satisfied, skipping upgrade: six>=1.5 in /usr/local/lib/python3.7/dist-packages (from python-dateutil>=2.7.3->pandas>=0.17.0->sk-dist) (1.15.0)\n",
            "Building wheels for collected packages: sk-dist\n",
            "  Building wheel for sk-dist (setup.py) ... \u001b[?25l\u001b[?25hdone\n",
            "  Created wheel for sk-dist: filename=sk_dist-0.1.9-cp37-none-any.whl size=51838 sha256=4731848646006107dff5f70c9d239e94bc140f83ad72384ec8e9b8e3b6feb2b0\n",
            "  Stored in directory: /root/.cache/pip/wheels/60/fa/b7/e4c8f3f076a7c907655ea401351658200528b2e73981afb6ea\n",
            "Successfully built sk-dist\n",
            "Installing collected packages: sk-dist\n",
            "Successfully installed sk-dist-0.1.9\n"
          ],
          "name": "stdout"
        }
      ]
    },
    {
      "cell_type": "code",
      "metadata": {
        "id": "Mkg_IDLftk38",
        "colab": {
          "base_uri": "https://localhost:8080/"
        },
        "outputId": "46337d03-68d3-4fa9-b91a-21c38f894f62"
      },
      "source": [
        "xgb_classifier = XGBClassifier()\n",
        "\n",
        "fuzzy_param_grid = {\n",
        "        'silent': [False],\n",
        "        'max_depth': [6, 10, 20],\n",
        "        'learning_rate': [0.001, 0.01, 0.1],\n",
        "        'subsample': [0.5, 0.7, 1.0],\n",
        "        'colsample_bytree': [0.4,  0.7, 1.0],\n",
        "        'colsample_bylevel': [0.4, 0.7, 0.9],\n",
        "        'min_child_weight': [0.5, 3.0, 5.0,  10.0],\n",
        "        'gamma': [0, 0.5, 1.0],\n",
        "        'reg_lambda': [0.1, 5.0,  50.0, 100.0],\n",
        "        'n_estimators': [10,100,1000]}\n",
        "\n",
        "\n",
        "randomsearch_classifier = RandomizedSearchCV(xgb_classifier, fuzzy_param_grid, n_iter=20,\n",
        "                            n_jobs=24, verbose=1, cv=2,\n",
        "                            scoring='roc_auc', refit=True, random_state=42)\n",
        "randomsearch_classifier.fit(X_train_fuzzy, y_train_fuzzy)\n",
        "\n",
        "best_score = randomsearch_classifier.best_score_\n",
        "best_params = randomsearch_classifier.best_params_\n",
        "print(\"Best score: {}\".format(best_score))\n",
        "# print(\"Best params: \")\n",
        "# for param_name in sorted(best_params.keys()):\n",
        "#     print('%s: %r' % (param_name, best_params[param_name]))"
      ],
      "execution_count": 52,
      "outputs": [
        {
          "output_type": "stream",
          "text": [
            "Fitting 2 folds for each of 20 candidates, totalling 40 fits\n"
          ],
          "name": "stdout"
        },
        {
          "output_type": "stream",
          "text": [
            "[Parallel(n_jobs=24)]: Using backend LokyBackend with 24 concurrent workers.\n",
            "[Parallel(n_jobs=24)]: Done  34 out of  40 | elapsed: 49.4min remaining:  8.7min\n",
            "[Parallel(n_jobs=24)]: Done  40 out of  40 | elapsed: 53.3min finished\n"
          ],
          "name": "stderr"
        },
        {
          "output_type": "stream",
          "text": [
            "Best score: 0.853159565387798\n"
          ],
          "name": "stdout"
        }
      ]
    },
    {
      "cell_type": "code",
      "metadata": {
        "colab": {
          "base_uri": "https://localhost:8080/"
        },
        "id": "0humWTCQ5Kie",
        "outputId": "d64ec422-9a1a-4b25-a170-b35390fd2796"
      },
      "source": [
        "prediction_fuzzy = randomsearch_classifier.predict(X_test_fuzzy)\n",
        "print(confusion_matrix(y_test_fuzzy,prediction_fuzzy))\n",
        "print(classification_report(y_test_fuzzy,prediction_fuzzy))\n",
        "accuracy = accuracy_score(y_test_fuzzy,prediction_fuzzy)\n",
        "print(accuracy)"
      ],
      "execution_count": 53,
      "outputs": [
        {
          "output_type": "stream",
          "text": [
            "[[51177 12382]\n",
            " [10116 27398]]\n",
            "              precision    recall  f1-score   support\n",
            "\n",
            "           0       0.83      0.81      0.82     63559\n",
            "           1       0.69      0.73      0.71     37514\n",
            "\n",
            "    accuracy                           0.78    101073\n",
            "   macro avg       0.76      0.77      0.76    101073\n",
            "weighted avg       0.78      0.78      0.78    101073\n",
            "\n",
            "0.7774084077844726\n"
          ],
          "name": "stdout"
        }
      ]
    },
    {
      "cell_type": "code",
      "metadata": {
        "id": "WHxIJ_2QE_Vb"
      },
      "source": [
        "#saving the model for serving\n",
        "with open('xgboost_question_similarity_model.pkl','wb') as f:\n",
        "    pickle.dump(randomsearch_classifier,f)"
      ],
      "execution_count": 54,
      "outputs": []
    },
    {
      "cell_type": "code",
      "metadata": {
        "id": "rcGK5qUmFX5I"
      },
      "source": [
        ""
      ],
      "execution_count": null,
      "outputs": []
    }
  ]
}