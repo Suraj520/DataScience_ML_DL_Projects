{
 "cells": [
  {
   "cell_type": "markdown",
   "id": "05fb56df",
   "metadata": {
    "papermill": {
     "duration": 0.007413,
     "end_time": "2023-06-25T08:58:01.666221",
     "exception": false,
     "start_time": "2023-06-25T08:58:01.658808",
     "status": "completed"
    },
    "tags": []
   },
   "source": [
    "<div style=\"background-color:#5D73F2; color:#19180F; font-size:40px; font-family:Verdana; padding:10px; border: 5px solid #19180F; border-radius:10px\"> K-means Clustering </div>\n",
    "<div style=\"background-color:#A8B4F6; color:#19180F; font-size:30px; font-family:Verdana; padding:10px; border: 5px solid #19180F; border-radius:10px\"> Architecture Overview</div>\n",
    "<div style=\"background-color:#D5D9F2; color:#19180F; font-size:15px; font-family:Verdana; padding:10px; border: 5px solid #19180F; border-radius:10px\">\n",
    "1. Initialization:<br><br>\n",
    "- Suppose we have a data set containing N data points, each represented by a feature vector x. We also specify the number of clusters K we want to form. - Randomly initialize K centroids denoted by μ₁, μ₂, ..., μₖ.<br><br>\n",
    "2. Iteration:<br><br>\n",
    "- K-means Assignment:<br>\n",
    "- For each data point xᵢ, calculate the distance to each centroid μⱼ using a distance metric such as Euclidean distance. - Assign xᵢ to the minimum distance centroid. That is, assign H. xᵢ to cluster Cⱼ. where Cⱼ represents the set of data points associated with the centroid μⱼ.<br><br>\n",
    "- K-means update:<br>\n",
    "- After assigning all data points to clusters, update the centroids by computing the mean (centroid) of the data points within each cluster. This is done for each centroid μⱼ using the formula:<br>\n",
    "μⱼ = (1 / |Cⱼ|) * Σ xᵢ, for all xᵢ in cluster Cⱼ.<br><br>\n",
    "3. Convergence check:<br><br>\n",
    "- Check if the centroids have converged. H. Whether the focus has stopped moving significantly. This can be determined by comparing the updated centroid to the previous centroid. If the difference is below a predefined threshold, the algorithm is considered converged.<br><br>\n",
    "4. Finishing:<br><br>\n",
    "- When the algorithm converges, the final centroid represents the center of the cluster. Each data point belongs to the cluster associated with the closest centroid.<br></div>"
   ]
  },
  {
   "cell_type": "code",
   "execution_count": 1,
   "id": "72279fef",
   "metadata": {
    "execution": {
     "iopub.execute_input": "2023-06-25T08:58:01.682308Z",
     "iopub.status.busy": "2023-06-25T08:58:01.681878Z",
     "iopub.status.idle": "2023-06-25T08:58:01.708087Z",
     "shell.execute_reply": "2023-06-25T08:58:01.707245Z"
    },
    "papermill": {
     "duration": 0.037121,
     "end_time": "2023-06-25T08:58:01.710392",
     "exception": false,
     "start_time": "2023-06-25T08:58:01.673271",
     "status": "completed"
    },
    "tags": []
   },
   "outputs": [
    {
     "data": {
      "image/svg+xml": [
       "<svg xmlns=\"http://www.w3.org/2000/svg\" xmlns:xlink=\"http://www.w3.org/1999/xlink\" width=\"1214pt\" height=\"279pt\" viewBox=\"0.00 0.00 1213.70 279.00\">\n",
       "<g id=\"graph0\" class=\"graph\" transform=\"scale(1 1) rotate(0) translate(4 275)\">\n",
       "<title>KMeans</title>\n",
       "<polygon fill=\"#ffffff\" stroke=\"transparent\" points=\"-4,4 -4,-275 1209.6968,-275 1209.6968,4 -4,4\"/>\n",
       "<g id=\"clust1\" class=\"cluster\">\n",
       "<title>cluster_1</title>\n",
       "<polygon fill=\"#ffffff\" stroke=\"#ffffff\" points=\"8,-46 8,-177 456.2102,-177 456.2102,-46 8,-46\"/>\n",
       "<text text-anchor=\"middle\" x=\"232.1051\" y=\"-160.4\" font-family=\"Times,serif\" font-size=\"14.00\" fill=\"#000000\">Initialization</text>\n",
       "</g>\n",
       "<g id=\"clust2\" class=\"cluster\">\n",
       "<title>cluster_2</title>\n",
       "<polygon fill=\"#ffffff\" stroke=\"#ffffff\" points=\"541.145,-43 541.145,-156 1197.6968,-156 1197.6968,-43 541.145,-43\"/>\n",
       "<text text-anchor=\"middle\" x=\"869.4209\" y=\"-139.4\" font-family=\"Times,serif\" font-size=\"14.00\" fill=\"#000000\">Iteration</text>\n",
       "</g>\n",
       "<g id=\"clust3\" class=\"cluster\">\n",
       "<title>cluster_3</title>\n",
       "<polygon fill=\"#ffffff\" stroke=\"#ffffff\" points=\"725.6725,-164 725.6725,-263 829.1871,-263 829.1871,-164 725.6725,-164\"/>\n",
       "<text text-anchor=\"middle\" x=\"777.4298\" y=\"-246.4\" font-family=\"Times,serif\" font-size=\"14.00\" fill=\"#000000\">Finalization</text>\n",
       "</g>\n",
       "<!-- data -->\n",
       "<g id=\"node1\" class=\"node\">\n",
       "<title>data</title>\n",
       "<ellipse fill=\"#ff9966\" stroke=\"#ffffff\" cx=\"90.0655\" cy=\"-126\" rx=\"52.1262\" ry=\"18\"/>\n",
       "<text text-anchor=\"middle\" x=\"90.0655\" y=\"-121.8\" font-family=\"Times,serif\" font-size=\"14.00\" fill=\"#000000\">Input Data</text>\n",
       "</g>\n",
       "<!-- kmeans1 -->\n",
       "<g id=\"node3\" class=\"node\">\n",
       "<title>kmeans1</title>\n",
       "<ellipse fill=\"#3399ff\" stroke=\"#ffffff\" cx=\"389.6036\" cy=\"-83\" rx=\"58.7133\" ry=\"29.3315\"/>\n",
       "<text text-anchor=\"middle\" x=\"389.6036\" y=\"-87.2\" font-family=\"Times,serif\" font-size=\"14.00\" fill=\"#000000\">K-means</text>\n",
       "<text text-anchor=\"middle\" x=\"389.6036\" y=\"-70.4\" font-family=\"Times,serif\" font-size=\"14.00\" fill=\"#000000\">Assignment</text>\n",
       "</g>\n",
       "<!-- data&#45;&gt;kmeans1 -->\n",
       "<g id=\"edge1\" class=\"edge\">\n",
       "<title>data-&gt;kmeans1</title>\n",
       "<path fill=\"none\" stroke=\"#000000\" d=\"M138.1914,-119.0913C188.2445,-111.906 266.9753,-100.6038 322.9883,-92.5629\"/>\n",
       "<polygon fill=\"#000000\" stroke=\"#000000\" points=\"323.7695,-95.9867 333.1707,-91.1012 322.7748,-89.0578 323.7695,-95.9867\"/>\n",
       "</g>\n",
       "<!-- centroids -->\n",
       "<g id=\"node2\" class=\"node\">\n",
       "<title>centroids</title>\n",
       "<ellipse fill=\"#ff9966\" stroke=\"#ffffff\" cx=\"90.0655\" cy=\"-72\" rx=\"74.131\" ry=\"18\"/>\n",
       "<text text-anchor=\"middle\" x=\"90.0655\" y=\"-67.8\" font-family=\"Times,serif\" font-size=\"14.00\" fill=\"#000000\">Initial Centroids</text>\n",
       "</g>\n",
       "<!-- centroids&#45;&gt;kmeans1 -->\n",
       "<g id=\"edge2\" class=\"edge\">\n",
       "<title>centroids-&gt;kmeans1</title>\n",
       "<path fill=\"none\" stroke=\"#000000\" d=\"M163.3407,-74.6909C211.4258,-76.4567 273.8909,-78.7507 321.0027,-80.4808\"/>\n",
       "<polygon fill=\"#000000\" stroke=\"#000000\" points=\"320.9918,-83.9826 331.1135,-80.8521 321.2487,-76.9873 320.9918,-83.9826\"/>\n",
       "</g>\n",
       "<!-- kmeans2 -->\n",
       "<g id=\"node4\" class=\"node\">\n",
       "<title>kmeans2</title>\n",
       "<ellipse fill=\"#3399ff\" stroke=\"#ffffff\" cx=\"596.1899\" cy=\"-94\" rx=\"47.0899\" ry=\"29.3315\"/>\n",
       "<text text-anchor=\"middle\" x=\"596.1899\" y=\"-98.2\" font-family=\"Times,serif\" font-size=\"14.00\" fill=\"#000000\">K-means</text>\n",
       "<text text-anchor=\"middle\" x=\"596.1899\" y=\"-81.4\" font-family=\"Times,serif\" font-size=\"14.00\" fill=\"#000000\">Update</text>\n",
       "</g>\n",
       "<!-- kmeans1&#45;&gt;kmeans2 -->\n",
       "<g id=\"edge3\" class=\"edge\">\n",
       "<title>kmeans1-&gt;kmeans2</title>\n",
       "<path fill=\"none\" stroke=\"#6699ff\" d=\"M434.2468,-102.2796C444.5564,-105.8942 455.6131,-109.1241 466.2102,-111 494.6283,-116.0307 502.5205,-114.6788 531.145,-111 535.2475,-110.4727 539.4605,-109.7657 543.675,-108.9388\"/>\n",
       "<polygon fill=\"#6699ff\" stroke=\"#6699ff\" points=\"544.4272,-112.3571 553.4598,-106.8198 542.9456,-105.5157 544.4272,-112.3571\"/>\n",
       "<text text-anchor=\"middle\" x=\"498.6776\" y=\"-135\" font-family=\"Times,serif\" font-size=\"14.00\" fill=\"#000000\">Centroid</text>\n",
       "<text text-anchor=\"middle\" x=\"498.6776\" y=\"-118.2\" font-family=\"Times,serif\" font-size=\"14.00\" fill=\"#000000\">Update</text>\n",
       "</g>\n",
       "<!-- kmeans1&#45;&gt;kmeans2 -->\n",
       "<g id=\"edge12\" class=\"edge\">\n",
       "<title>kmeans1-&gt;kmeans2</title>\n",
       "<path fill=\"none\" stroke=\"#000000\" d=\"M447.9746,-86.1081C476.4539,-87.6245 510.5915,-89.4422 538.9223,-90.9507\"/>\n",
       "<polygon fill=\"#000000\" stroke=\"#000000\" points=\"538.904,-94.4546 549.076,-91.4913 539.2763,-87.4645 538.904,-94.4546\"/>\n",
       "</g>\n",
       "<!-- kmeans2&#45;&gt;kmeans1 -->\n",
       "<g id=\"edge4\" class=\"edge\">\n",
       "<title>kmeans2-&gt;kmeans1</title>\n",
       "<path fill=\"none\" stroke=\"#6699ff\" d=\"M567.4988,-70.6752C556.7501,-63.333 544.0107,-56.1623 531.145,-52.4 503.4452,-44.2997 494.5507,-46.9492 466.2102,-52.4 458.0224,-53.9748 449.5968,-56.4159 441.4649,-59.2478\"/>\n",
       "<polygon fill=\"#6699ff\" stroke=\"#6699ff\" points=\"440.2463,-55.9667 432.0855,-62.7233 442.6786,-62.5306 440.2463,-55.9667\"/>\n",
       "<text text-anchor=\"middle\" x=\"498.6776\" y=\"-73\" font-family=\"Times,serif\" font-size=\"14.00\" fill=\"#000000\">Assign</text>\n",
       "<text text-anchor=\"middle\" x=\"498.6776\" y=\"-56.2\" font-family=\"Times,serif\" font-size=\"14.00\" fill=\"#000000\">Data Points</text>\n",
       "</g>\n",
       "<!-- convergence_check -->\n",
       "<g id=\"node5\" class=\"node\">\n",
       "<title>convergence_check</title>\n",
       "<ellipse fill=\"none\" stroke=\"#000000\" cx=\"945.3599\" cy=\"-90\" rx=\"87.346\" ry=\"18\"/>\n",
       "<text text-anchor=\"middle\" x=\"945.3599\" y=\"-85.8\" font-family=\"Times,serif\" font-size=\"14.00\" fill=\"#000000\">convergence_check</text>\n",
       "</g>\n",
       "<!-- kmeans2&#45;&gt;convergence_check -->\n",
       "<g id=\"edge5\" class=\"edge\">\n",
       "<title>kmeans2-&gt;convergence_check</title>\n",
       "<path fill=\"none\" stroke=\"#6699ff\" d=\"M642.8811,-89.2511C667.4828,-86.9836 698.1786,-84.5235 725.6725,-83.4 771.6406,-81.5216 783.1991,-82.0947 829.1871,-83.4 836.5585,-83.6092 844.1897,-83.893 851.8569,-84.2257\"/>\n",
       "<polygon fill=\"#6699ff\" stroke=\"#6699ff\" points=\"851.7878,-87.7262 861.938,-84.6893 852.1094,-80.7336 851.7878,-87.7262\"/>\n",
       "<text text-anchor=\"middle\" x=\"777.4298\" y=\"-104\" font-family=\"Times,serif\" font-size=\"14.00\" fill=\"#000000\">Convergence</text>\n",
       "<text text-anchor=\"middle\" x=\"777.4298\" y=\"-87.2\" font-family=\"Times,serif\" font-size=\"14.00\" fill=\"#000000\">Check</text>\n",
       "</g>\n",
       "<!-- kmeans2&#45;&gt;convergence_check -->\n",
       "<g id=\"edge13\" class=\"edge\">\n",
       "<title>kmeans2-&gt;convergence_check</title>\n",
       "<path fill=\"none\" stroke=\"#000000\" d=\"M640.5761,-103.8759C665.4536,-108.9079 697.1296,-114.4846 725.6725,-117 771.5014,-121.0387 783.4802,-122.2416 829.1871,-117 847.1576,-114.9392 866.3909,-111.1409 883.9328,-107.031\"/>\n",
       "<polygon fill=\"#000000\" stroke=\"#000000\" points=\"885.1464,-110.3384 894.0434,-104.5858 883.5009,-103.5346 885.1464,-110.3384\"/>\n",
       "</g>\n",
       "<!-- output -->\n",
       "<g id=\"node7\" class=\"node\">\n",
       "<title>output</title>\n",
       "<ellipse fill=\"#ff6699\" stroke=\"#ffffff\" cx=\"777.4298\" cy=\"-201\" rx=\"43.516\" ry=\"29.3315\"/>\n",
       "<text text-anchor=\"middle\" x=\"777.4298\" y=\"-205.2\" font-family=\"Times,serif\" font-size=\"14.00\" fill=\"#000000\">Output</text>\n",
       "<text text-anchor=\"middle\" x=\"777.4298\" y=\"-188.4\" font-family=\"Times,serif\" font-size=\"14.00\" fill=\"#000000\">Clusters</text>\n",
       "</g>\n",
       "<!-- kmeans2&#45;&gt;output -->\n",
       "<g id=\"edge8\" class=\"edge\">\n",
       "<title>kmeans2-&gt;output</title>\n",
       "<path fill=\"none\" stroke=\"#ff6699\" d=\"M630.7064,-114.3777C660.5599,-132.0026 703.8062,-157.5343 735.6167,-176.3145\"/>\n",
       "<polygon fill=\"#ff6699\" stroke=\"#ff6699\" points=\"733.8744,-179.3503 744.2651,-181.4203 737.4332,-173.3224 733.8744,-179.3503\"/>\n",
       "<text text-anchor=\"middle\" x=\"688.4537\" y=\"-184\" font-family=\"Times,serif\" font-size=\"14.00\" fill=\"#000000\">Final</text>\n",
       "<text text-anchor=\"middle\" x=\"688.4537\" y=\"-167.2\" font-family=\"Times,serif\" font-size=\"14.00\" fill=\"#000000\">Centroids</text>\n",
       "</g>\n",
       "<!-- convergence_check&#45;&gt;kmeans1 -->\n",
       "<g id=\"edge7\" class=\"edge\">\n",
       "<title>convergence_check-&gt;kmeans1</title>\n",
       "<path fill=\"none\" stroke=\"#6699ff\" d=\"M874.8506,-79.3376C792.594,-67.5182 652.3889,-49.2907 531.145,-43 502.3238,-41.5046 494.2388,-36.123 466.2102,-43 455.5002,-45.6278 444.6253,-50.0439 434.5629,-55.0049\"/>\n",
       "<polygon fill=\"#6699ff\" stroke=\"#6699ff\" points=\"432.8349,-51.9585 425.5785,-59.6784 436.0653,-58.1686 432.8349,-51.9585\"/>\n",
       "<text text-anchor=\"middle\" x=\"688.4537\" y=\"-62.2\" font-family=\"Times,serif\" font-size=\"14.00\" fill=\"#000000\">Continue</text>\n",
       "</g>\n",
       "<!-- stop -->\n",
       "<g id=\"node6\" class=\"node\">\n",
       "<title>stop</title>\n",
       "<ellipse fill=\"#3366cc\" stroke=\"#ffffff\" cx=\"1160.9514\" cy=\"-99\" rx=\"28.9929\" ry=\"18\"/>\n",
       "<text text-anchor=\"middle\" x=\"1160.9514\" y=\"-94.8\" font-family=\"Times,serif\" font-size=\"14.00\" fill=\"#000000\">Stop</text>\n",
       "</g>\n",
       "<!-- convergence_check&#45;&gt;stop -->\n",
       "<g id=\"edge6\" class=\"edge\">\n",
       "<title>convergence_check-&gt;stop</title>\n",
       "<path fill=\"none\" stroke=\"#ffffff\" d=\"M1030.877,-93.57C1062.3543,-94.884 1096.4817,-96.3087 1121.8793,-97.3689\"/>\n",
       "<polygon fill=\"#3366cc\" stroke=\"#ffffff\" points=\"1122.0589,-100.8794 1132.1963,-97.7996 1122.351,-93.8855 1122.0589,-100.8794\"/>\n",
       "<text text-anchor=\"middle\" x=\"1082.3694\" y=\"-100.2\" font-family=\"Times,serif\" font-size=\"14.00\" fill=\"#000000\">Stop</text>\n",
       "</g>\n",
       "<!-- output&#45;&gt;stop -->\n",
       "<g id=\"edge9\" class=\"edge\">\n",
       "<title>output-&gt;stop</title>\n",
       "<path fill=\"none\" stroke=\"#000000\" d=\"M818.3439,-190.308C878.8846,-174.459 995.8797,-143.7242 1095.206,-117 1104.7901,-114.4213 1115.1508,-111.6004 1124.7506,-108.9726\"/>\n",
       "<polygon fill=\"#000000\" stroke=\"#000000\" points=\"1125.6964,-112.3426 1134.4147,-106.3225 1123.8451,-105.5918 1125.6964,-112.3426\"/>\n",
       "</g>\n",
       "<!-- start -->\n",
       "<g id=\"node8\" class=\"node\">\n",
       "<title>start</title>\n",
       "<ellipse fill=\"#00cc99\" stroke=\"#ffffff\" cx=\"90.0655\" cy=\"-18\" rx=\"29.049\" ry=\"18\"/>\n",
       "<text text-anchor=\"middle\" x=\"90.0655\" y=\"-13.8\" font-family=\"Times,serif\" font-size=\"14.00\" fill=\"#000000\">Start</text>\n",
       "</g>\n",
       "<!-- cluster_1 -->\n",
       "<g id=\"node9\" class=\"node\">\n",
       "<title>cluster_1</title>\n",
       "<ellipse fill=\"none\" stroke=\"#000000\" cx=\"247.564\" cy=\"-19\" rx=\"46.3662\" ry=\"18\"/>\n",
       "<text text-anchor=\"middle\" x=\"247.564\" y=\"-14.8\" font-family=\"Times,serif\" font-size=\"14.00\" fill=\"#000000\">cluster_1</text>\n",
       "</g>\n",
       "<!-- start&#45;&gt;cluster_1 -->\n",
       "<g id=\"edge10\" class=\"edge\">\n",
       "<title>start-&gt;cluster_1</title>\n",
       "<path fill=\"none\" stroke=\"#000000\" d=\"M119.6897,-18.1881C139.728,-18.3153 166.8318,-18.4874 190.9292,-18.6404\"/>\n",
       "<polygon fill=\"#000000\" stroke=\"#000000\" points=\"191.0211,-22.141 201.0432,-18.7046 191.0657,-15.1411 191.0211,-22.141\"/>\n",
       "</g>\n",
       "<!-- cluster_1&#45;&gt;kmeans1 -->\n",
       "<g id=\"edge11\" class=\"edge\">\n",
       "<title>cluster_1-&gt;kmeans1</title>\n",
       "<path fill=\"none\" stroke=\"#000000\" d=\"M278.035,-32.7296C295.1351,-40.4345 316.9519,-50.2647 336.7496,-59.1851\"/>\n",
       "<polygon fill=\"#000000\" stroke=\"#000000\" points=\"335.422,-62.4258 345.9771,-63.3428 338.2977,-56.0437 335.422,-62.4258\"/>\n",
       "</g>\n",
       "</g>\n",
       "</svg>"
      ],
      "text/plain": [
       "<IPython.core.display.SVG object>"
      ]
     },
     "metadata": {},
     "output_type": "display_data"
    }
   ],
   "source": [
    "from IPython.display import SVG, display\n",
    "\n",
    "# Load the SVG file and display it\n",
    "svg_file = '/kaggle/input/machine-learning-architecture-diagrams/KMeans.svg'\n",
    "display(SVG(filename=svg_file))"
   ]
  },
  {
   "cell_type": "markdown",
   "id": "c97d6c03",
   "metadata": {
    "papermill": {
     "duration": 0.007165,
     "end_time": "2023-06-25T08:58:01.725141",
     "exception": false,
     "start_time": "2023-06-25T08:58:01.717976",
     "status": "completed"
    },
    "tags": []
   },
   "source": [
    "<div style=\"background-color:#D5D9F2; color:#19180F; font-size:15px; font-family:Verdana; padding:10px; border: 5px solid #19180F; border-radius:10px\">\n",
    "1. Initialization:<br>\n",
    "   -  This phase represents the algorithms initial configuration. It consists of two parts::<br>\n",
    "     - Input Data:  This is the dataset that will be used for clustering. It might be a collection of data points with various characteristics.<br>\n",
    "     - Initial Centroids: These are the centroids starting locations. Centroids are representative points used to create clusters.<br>\n",
    "<br>\n",
    "2. Iteration:<br>\n",
    "   - The main iterative process of the K-means algorithm is represented by this phase. It consists of two steps that must be performed until convergence is reached:<br>\n",
    "     - K-means Assignment: Each data point is allocated to the closest centroid in this stage. Each data points distance from all centroids is determined, and the data point is assigned to the centroid with the shortest distance.<br>\n",
    "     - K-means Update: This step updates the centroids based on the assigned data points. Updated centroids are computed as the average of all data points associated with each centroid.<br><br>\n",
    "3. Convergence Check:<br>\n",
    "   - After each iteration, the algorithm checks if the centroids have converged. H. Whether it has stopped moving greatly. Once the centroids converge, the algorithm proceeds to the finalization phase. Otherwise, return to the k-means assignment step for another iteration.<br><br>\n",
    "4. Finalization:<br>\n",
    "   -  This phase represents the final step of the algorithm after convergence:<br>\n",
    "     - Final Centroids: These are the positions of the centroids after convergence and represent the final positions of the clusters. <br>\n",
    "     - Output Clusters: Each data point is associated with the final centroid assigned and forms different clusters based on their proximity to the centroid.<br><br>\n",
    "5. Start and Stop:<br>\n",
    "   - The start node indicates the start of the algorithm and the stop node indicates the end of the algorithm when convergence is reached<br>\n",
    "<br>\n",
    "In summary, the K-means algorithm iteratively assigns data points to the nearest centroids and updates the centroids until convergence. The final result is a set of clusters represented by the final centroids and their associated data points.<br></div>"
   ]
  },
  {
   "cell_type": "markdown",
   "id": "d6dcd730",
   "metadata": {
    "papermill": {
     "duration": 0.007,
     "end_time": "2023-06-25T08:58:01.739352",
     "exception": false,
     "start_time": "2023-06-25T08:58:01.732352",
     "status": "completed"
    },
    "tags": []
   },
   "source": [
    "<div style=\"background-color:#F0E3D2; color:#19180F; font-size:15px; font-family:Verdana; padding:10px; border: 2px solid #19180F; border-radius:10px\"> \n",
    "📌\n",
    "Installing RapidsML cuDF    </div>\n"
   ]
  },
  {
   "cell_type": "code",
   "execution_count": 2,
   "id": "838e075b",
   "metadata": {
    "_kg_hide-output": true,
    "collapsed": true,
    "execution": {
     "iopub.execute_input": "2023-06-25T08:58:01.755849Z",
     "iopub.status.busy": "2023-06-25T08:58:01.755316Z",
     "iopub.status.idle": "2023-06-25T08:59:16.684835Z",
     "shell.execute_reply": "2023-06-25T08:59:16.683633Z"
    },
    "jupyter": {
     "outputs_hidden": true
    },
    "papermill": {
     "duration": 74.940979,
     "end_time": "2023-06-25T08:59:16.687724",
     "exception": false,
     "start_time": "2023-06-25T08:58:01.746745",
     "status": "completed"
    },
    "tags": []
   },
   "outputs": [
    {
     "name": "stdout",
     "output_type": "stream",
     "text": [
      "Requirement already satisfied: pip in /opt/conda/lib/python3.10/site-packages (23.1.2)\r\n",
      "\u001b[33mWARNING: Running pip as the 'root' user can result in broken permissions and conflicting behaviour with the system package manager. It is recommended to use a virtual environment instead: https://pip.pypa.io/warnings/venv\u001b[0m\u001b[33m\r\n",
      "\u001b[0mRequirement already satisfied: setuptools in /opt/conda/lib/python3.10/site-packages (59.8.0)\r\n",
      "Collecting setuptools\r\n",
      "  Downloading setuptools-68.0.0-py3-none-any.whl (804 kB)\r\n",
      "\u001b[2K     \u001b[90m━━━━━━━━━━━━━━━━━━━━━━━━━━━━━━━━━━━━━━\u001b[0m \u001b[32m804.0/804.0 kB\u001b[0m \u001b[31m16.6 MB/s\u001b[0m eta \u001b[36m0:00:00\u001b[0m\r\n",
      "\u001b[?25hInstalling collected packages: setuptools\r\n",
      "  Attempting uninstall: setuptools\r\n",
      "    Found existing installation: setuptools 59.8.0\r\n",
      "    Uninstalling setuptools-59.8.0:\r\n",
      "      Successfully uninstalled setuptools-59.8.0\r\n",
      "\u001b[31mERROR: pip's dependency resolver does not currently take into account all the packages that are installed. This behaviour is the source of the following dependency conflicts.\r\n",
      "opentelemetry-api 1.17.0 requires importlib-metadata~=6.0.0, but you have importlib-metadata 5.2.0 which is incompatible.\r\n",
      "pymc3 3.11.5 requires numpy<1.22.2,>=1.15.0, but you have numpy 1.23.5 which is incompatible.\r\n",
      "pymc3 3.11.5 requires scipy<1.8.0,>=1.7.3, but you have scipy 1.10.1 which is incompatible.\u001b[0m\u001b[31m\r\n",
      "\u001b[0mSuccessfully installed setuptools-68.0.0\r\n",
      "\u001b[33mWARNING: Running pip as the 'root' user can result in broken permissions and conflicting behaviour with the system package manager. It is recommended to use a virtual environment instead: https://pip.pypa.io/warnings/venv\u001b[0m\u001b[33m\r\n",
      "\u001b[0mRequirement already satisfied: wheel in /opt/conda/lib/python3.10/site-packages (0.40.0)\r\n",
      "\u001b[33mWARNING: Running pip as the 'root' user can result in broken permissions and conflicting behaviour with the system package manager. It is recommended to use a virtual environment instead: https://pip.pypa.io/warnings/venv\u001b[0m\u001b[33m\r\n",
      "\u001b[0mWarning: 'rapidsai' already in 'channels' list, moving to the top\r\n",
      "Retrieving notices: ...working... done\r\n",
      "Collecting package metadata (current_repodata.json): \\ \b\b| \b\b/ \b\b- \b\b\\ \b\b| \b\b/ \b\b- \b\b\\ \b\b| \b\b/ \b\b- \b\b\\ \b\b| \b\b/ \b\b- \b\b\\ \b\b| \b\b/ \b\b- \b\b\\ \b\b| \b\b/ \b\b- \b\b\\ \b\b| \b\b/ \b\b- \b\b\\ \b\b| \b\b/ \b\b- \b\b\\ \b\b| \b\b/ \b\b- \b\b\\ \b\b| \b\b/ \b\b- \b\b\\ \b\b| \b\b/ \b\b- \b\b\\ \b\b| \b\b/ \b\b- \b\b\\ \b\b| \b\b/ \b\b- \b\b\\ \b\b| \b\b/ \b\b- \b\b\\ \b\b| \b\b/ \b\b- \b\b\\ \b\b| \b\b/ \b\b- \b\b\\ \b\b| \b\b/ \b\b- \b\b\\ \b\b| \b\b/ \b\b- \b\b\\ \b\b| \b\b/ \b\b- \b\b\\ \b\b| \b\b/ \b\b- \b\b\\ \b\b| \b\b/ \b\b- \b\b\\ \b\bfailed\r\n",
      "\r\n",
      "# >>>>>>>>>>>>>>>>>>>>>> ERROR REPORT <<<<<<<<<<<<<<<<<<<<<<\r\n",
      "\r\n",
      "    Traceback (most recent call last):\r\n",
      "      File \"/opt/conda/lib/python3.10/site-packages/conda/gateways/repodata/__init__.py\", line 161, in conda_http_errors\r\n",
      "        yield\r\n",
      "      File \"/opt/conda/lib/python3.10/site-packages/conda/gateways/repodata/__init__.py\", line 127, in repodata\r\n",
      "        response.raise_for_status()\r\n",
      "      File \"/opt/conda/lib/python3.10/site-packages/requests/models.py\", line 1021, in raise_for_status\r\n",
      "        raise HTTPError(http_error_msg, response=self)\r\n",
      "    requests.exceptions.HTTPError: 404 Client Error: Not Found for url: https://conda.anaconda.org/rapidsai/linux-64/current_repodata.json\r\n",
      "    \r\n",
      "    During handling of the above exception, another exception occurred:\r\n",
      "    \r\n",
      "    Traceback (most recent call last):\r\n",
      "      File \"/opt/conda/lib/python3.10/site-packages/requests/models.py\", line 971, in json\r\n",
      "        return complexjson.loads(self.text, **kwargs)\r\n",
      "      File \"/opt/conda/lib/python3.10/site-packages/simplejson/__init__.py\", line 514, in loads\r\n",
      "        return _default_decoder.decode(s)\r\n",
      "      File \"/opt/conda/lib/python3.10/site-packages/simplejson/decoder.py\", line 386, in decode\r\n",
      "        obj, end = self.raw_decode(s)\r\n",
      "      File \"/opt/conda/lib/python3.10/site-packages/simplejson/decoder.py\", line 416, in raw_decode\r\n",
      "        return self.scan_once(s, idx=_w(s, idx).end())\r\n",
      "    simplejson.errors.JSONDecodeError: Expecting value: line 1 column 1 (char 0)\r\n",
      "    \r\n",
      "    During handling of the above exception, another exception occurred:\r\n",
      "    \r\n",
      "    Traceback (most recent call last):\r\n",
      "      File \"/opt/conda/lib/python3.10/site-packages/conda/exceptions.py\", line 1132, in __call__\r\n",
      "        return func(*args, **kwargs)\r\n",
      "      File \"/opt/conda/lib/python3.10/site-packages/conda/cli/main.py\", line 69, in main_subshell\r\n",
      "        exit_code = do_call(args, p)\r\n",
      "      File \"/opt/conda/lib/python3.10/site-packages/conda/cli/conda_argparse.py\", line 122, in do_call\r\n",
      "        return getattr(module, func_name)(args, parser)\r\n",
      "      File \"/opt/conda/lib/python3.10/site-packages/conda/notices/core.py\", line 116, in wrapper\r\n",
      "        return_value = func(*args, **kwargs)\r\n",
      "      File \"/opt/conda/lib/python3.10/site-packages/conda/cli/main_install.py\", line 20, in execute\r\n",
      "        install(args, parser, 'install')\r\n",
      "      File \"/opt/conda/lib/python3.10/site-packages/conda/cli/install.py\", line 264, in install\r\n",
      "        unlink_link_transaction = solver.solve_for_transaction(\r\n",
      "      File \"/opt/conda/lib/python3.10/site-packages/conda/core/solve.py\", line 134, in solve_for_transaction\r\n",
      "        unlink_precs, link_precs = self.solve_for_diff(update_modifier, deps_modifier,\r\n",
      "      File \"/opt/conda/lib/python3.10/site-packages/conda/core/solve.py\", line 177, in solve_for_diff\r\n",
      "        final_precs = self.solve_final_state(update_modifier, deps_modifier, prune, ignore_pinned,\r\n",
      "      File \"/opt/conda/lib/python3.10/site-packages/conda/core/solve.py\", line 282, in solve_final_state\r\n",
      "        ssc = self._collect_all_metadata(ssc)\r\n",
      "      File \"/opt/conda/lib/python3.10/site-packages/conda/common/io.py\", line 84, in decorated\r\n",
      "        return f(*args, **kwds)\r\n",
      "      File \"/opt/conda/lib/python3.10/site-packages/conda/core/solve.py\", line 449, in _collect_all_metadata\r\n",
      "        index, r = self._prepare(prepared_specs)\r\n",
      "      File \"/opt/conda/lib/python3.10/site-packages/conda/core/solve.py\", line 1064, in _prepare\r\n",
      "        reduced_index = get_reduced_index(self.prefix, self.channels,\r\n",
      "      File \"/opt/conda/lib/python3.10/site-packages/conda/core/index.py\", line 267, in get_reduced_index\r\n",
      "        new_records = SubdirData.query_all(spec, channels=channels, subdirs=subdirs,\r\n",
      "      File \"/opt/conda/lib/python3.10/site-packages/conda/core/subdir_data.py\", line 169, in query_all\r\n",
      "        result = tuple(chain.from_iterable(executor.map(subdir_query, channel_urls)))\r\n",
      "      File \"/opt/conda/lib/python3.10/concurrent/futures/_base.py\", line 621, in result_iterator\r\n",
      "        yield _result_or_cancel(fs.pop())\r\n",
      "      File \"/opt/conda/lib/python3.10/concurrent/futures/_base.py\", line 319, in _result_or_cancel\r\n",
      "        return fut.result(timeout)\r\n",
      "      File \"/opt/conda/lib/python3.10/concurrent/futures/_base.py\", line 458, in result\r\n",
      "        return self.__get_result()\r\n",
      "      File \"/opt/conda/lib/python3.10/concurrent/futures/_base.py\", line 403, in __get_result\r\n",
      "        raise self._exception\r\n",
      "      File \"/opt/conda/lib/python3.10/concurrent/futures/thread.py\", line 58, in run\r\n",
      "        result = self.fn(*self.args, **self.kwargs)\r\n",
      "      File \"/opt/conda/lib/python3.10/site-packages/conda/core/subdir_data.py\", line 158, in subdir_query\r\n",
      "        return tuple(\r\n",
      "      File \"/opt/conda/lib/python3.10/site-packages/conda/core/subdir_data.py\", line 174, in query\r\n",
      "        self.load()\r\n",
      "      File \"/opt/conda/lib/python3.10/site-packages/conda/core/subdir_data.py\", line 264, in load\r\n",
      "        _internal_state = self._load()\r\n",
      "      File \"/opt/conda/lib/python3.10/site-packages/conda/core/subdir_data.py\", line 366, in _load\r\n",
      "        raw_repodata_str = self._repo.repodata(cache.state)  # type: ignore\r\n",
      "      File \"/opt/conda/lib/python3.10/site-packages/conda/gateways/repodata/__init__.py\", line 120, in repodata\r\n",
      "        with conda_http_errors(self._url, filename):\r\n",
      "      File \"/opt/conda/lib/python3.10/contextlib.py\", line 153, in __exit__\r\n",
      "        self.gen.throw(typ, value, traceback)\r\n",
      "      File \"/opt/conda/lib/python3.10/site-packages/conda/gateways/repodata/__init__.py\", line 208, in conda_http_errors\r\n",
      "        raise RepodataIsEmpty(\r\n",
      "      File \"/opt/conda/lib/python3.10/site-packages/conda/exceptions.py\", line 462, in __init__\r\n",
      "        body = response.json()\r\n",
      "      File \"/opt/conda/lib/python3.10/site-packages/requests/models.py\", line 975, in json\r\n",
      "        raise RequestsJSONDecodeError(e.msg, e.doc, e.pos)\r\n",
      "    requests.exceptions.JSONDecodeError: Expecting value: line 1 column 1 (char 0)\r\n",
      "\r\n",
      "`$ /opt/conda/bin/conda install -y -c rapidsai -c nvidia -c conda-forge cudf cuml dask-cudf`\r\n",
      "\r\n",
      "  environment variables:\r\n",
      "                 CIO_TEST=<not set>\r\n",
      "               CONDA_ROOT=/opt/conda\r\n",
      "           CURL_CA_BUNDLE=<not set>\r\n",
      "          LD_LIBRARY_PATH=/usr/local/cuda/lib64:/usr/local/cuda/lib:/usr/local/lib/x86_64-linux-\r\n",
      "                          gnu:/usr/local/nvidia/lib:/usr/local/nvidia/lib64:/usr/local/nvidia/li\r\n",
      "                          b:/usr/local/nvidia/lib64:/opt/conda/lib\r\n",
      "               LD_PRELOAD=<not set>\r\n",
      "             LIBRARY_PATH=/usr/local/cuda/lib64/stubs:/opt/conda/lib\r\n",
      "                     PATH=/opt/bin:/opt/conda/bin:/usr/local/nvidia/bin:/usr/local/cuda/bin:/usr\r\n",
      "                          /local/sbin:/usr/local/bin:/usr/sbin:/usr/bin:/sbin:/bin\r\n",
      "               PYTHONPATH=/kaggle/lib/kagglegym:/kaggle/lib:/kaggle/input/ieee-fraud-detection\r\n",
      "           PYTHONUSERBASE=/root/.local\r\n",
      "       REQUESTS_CA_BUNDLE=<not set>\r\n",
      "            SSL_CERT_FILE=<not set>\r\n",
      "           TESSERACT_PATH=/usr/bin/tesseract\r\n",
      "\r\n",
      "     active environment : None\r\n",
      "       user config file : /root/.condarc\r\n",
      " populated config files : /opt/conda/.condarc\r\n",
      "                          /root/.condarc\r\n",
      "          conda version : 23.3.1\r\n",
      "    conda-build version : not installed\r\n",
      "         python version : 3.10.10.final.0\r\n",
      "       virtual packages : __archspec=1=x86_64\r\n",
      "                          __cuda=11.4=0\r\n",
      "                          __glibc=2.35=0\r\n",
      "                          __linux=5.15.109=0\r\n",
      "                          __unix=0=0\r\n",
      "       base environment : /opt/conda  (writable)\r\n",
      "      conda av data dir : /opt/conda/etc/conda\r\n",
      "  conda av metadata url : None\r\n",
      "           channel URLs : https://conda.anaconda.org/rapidsai/linux-64\r\n",
      "                          https://conda.anaconda.org/rapidsai/noarch\r\n",
      "                          https://conda.anaconda.org/nvidia/linux-64\r\n",
      "                          https://conda.anaconda.org/nvidia/noarch\r\n",
      "                          https://conda.anaconda.org/conda-forge/linux-64\r\n",
      "                          https://conda.anaconda.org/conda-forge/noarch\r\n",
      "                          https://repo.anaconda.com/pkgs/main/linux-64\r\n",
      "                          https://repo.anaconda.com/pkgs/main/noarch\r\n",
      "                          https://repo.anaconda.com/pkgs/r/linux-64\r\n",
      "                          https://repo.anaconda.com/pkgs/r/noarch\r\n",
      "          package cache : /opt/conda/pkgs\r\n",
      "                          /root/.conda/pkgs\r\n",
      "       envs directories : /opt/conda/envs\r\n",
      "                          /root/.conda/envs\r\n",
      "               platform : linux-64\r\n",
      "             user-agent : conda/23.3.1 requests/2.29.0 CPython/3.10.10 Linux/5.15.109+ ubuntu/22.04.2 glibc/2.35\r\n",
      "                UID:GID : 0:0\r\n",
      "             netrc file : None\r\n",
      "           offline mode : False\r\n",
      "\r\n",
      "\r\n",
      "An unexpected error has occurred. Conda has prepared the above report.\r\n",
      "\r\n",
      "Upload successful.\r\n"
     ]
    }
   ],
   "source": [
    "!pip install --upgrade pip\n",
    "!pip install --upgrade setuptools\n",
    "!pip install --upgrade wheel\n",
    "\n",
    "# Add the rapidsai conda channel\n",
    "!conda config --prepend channels rapidsai\n",
    "\n",
    "# Install RAPIDS packages\n",
    "!conda install -y -c rapidsai -c nvidia -c conda-forge cudf cuml dask-cudf"
   ]
  },
  {
   "cell_type": "markdown",
   "id": "6ada2b6a",
   "metadata": {
    "papermill": {
     "duration": 0.01495,
     "end_time": "2023-06-25T08:59:16.718273",
     "exception": false,
     "start_time": "2023-06-25T08:59:16.703323",
     "status": "completed"
    },
    "tags": []
   },
   "source": [
    "<div style=\"background-color:#F0E3D2; color:#19180F; font-size:15px; font-family:Verdana; padding:10px; border: 2px solid #19180F; border-radius:10px\"> \n",
    "📌\n",
    "Importing modules\n",
    "    </div>\n"
   ]
  },
  {
   "cell_type": "code",
   "execution_count": 3,
   "id": "2e49947a",
   "metadata": {
    "execution": {
     "iopub.execute_input": "2023-06-25T08:59:16.750826Z",
     "iopub.status.busy": "2023-06-25T08:59:16.750450Z",
     "iopub.status.idle": "2023-06-25T08:59:23.693239Z",
     "shell.execute_reply": "2023-06-25T08:59:23.692235Z"
    },
    "papermill": {
     "duration": 6.962341,
     "end_time": "2023-06-25T08:59:23.695724",
     "exception": false,
     "start_time": "2023-06-25T08:59:16.733383",
     "status": "completed"
    },
    "tags": []
   },
   "outputs": [],
   "source": [
    "import cudf\n",
    "from cuml.cluster import KMeans\n",
    "import seaborn as sns\n",
    "import matplotlib.pyplot as plt"
   ]
  },
  {
   "cell_type": "markdown",
   "id": "da9c4f50",
   "metadata": {
    "papermill": {
     "duration": 0.015332,
     "end_time": "2023-06-25T08:59:23.726663",
     "exception": false,
     "start_time": "2023-06-25T08:59:23.711331",
     "status": "completed"
    },
    "tags": []
   },
   "source": [
    "<div style=\"background-color:#F0E3D2; color:#19180F; font-size:15px; font-family:Verdana; padding:10px; border: 2px solid #19180F; border-radius:10px\"> \n",
    "📌\n",
    "Load the training and test data:\n",
    "    </div>\n"
   ]
  },
  {
   "cell_type": "code",
   "execution_count": 4,
   "id": "cc86d3ea",
   "metadata": {
    "execution": {
     "iopub.execute_input": "2023-06-25T08:59:23.759568Z",
     "iopub.status.busy": "2023-06-25T08:59:23.758527Z",
     "iopub.status.idle": "2023-06-25T08:59:44.730684Z",
     "shell.execute_reply": "2023-06-25T08:59:44.729723Z"
    },
    "papermill": {
     "duration": 20.991481,
     "end_time": "2023-06-25T08:59:44.733218",
     "exception": false,
     "start_time": "2023-06-25T08:59:23.741737",
     "status": "completed"
    },
    "tags": []
   },
   "outputs": [],
   "source": [
    "train_transaction_df = cudf.read_csv('/kaggle/input/ieee-fraud-detection/train_transaction.csv')\n",
    "train_identity_df = cudf.read_csv('/kaggle/input/ieee-fraud-detection/train_identity.csv')\n",
    "test_transaction_df = cudf.read_csv('/kaggle/input/ieee-fraud-detection/test_transaction.csv')\n",
    "test_identity_df = cudf.read_csv('/kaggle/input/ieee-fraud-detection/test_identity.csv')\n"
   ]
  },
  {
   "cell_type": "markdown",
   "id": "f369237a",
   "metadata": {
    "papermill": {
     "duration": 0.015043,
     "end_time": "2023-06-25T08:59:44.764365",
     "exception": false,
     "start_time": "2023-06-25T08:59:44.749322",
     "status": "completed"
    },
    "tags": []
   },
   "source": [
    "<div style=\"background-color:#F0E3D2; color:#19180F; font-size:15px; font-family:Verdana; padding:10px; border: 2px solid #19180F; border-radius:10px\"> \n",
    "📌\n",
    "Select the relevant features for clustering. In this case, we will use numerical features from the transaction data:\n",
    "    </div>\n"
   ]
  },
  {
   "cell_type": "code",
   "execution_count": 5,
   "id": "32e2f15b",
   "metadata": {
    "execution": {
     "iopub.execute_input": "2023-06-25T08:59:44.796927Z",
     "iopub.status.busy": "2023-06-25T08:59:44.795969Z",
     "iopub.status.idle": "2023-06-25T08:59:44.801064Z",
     "shell.execute_reply": "2023-06-25T08:59:44.800238Z"
    },
    "papermill": {
     "duration": 0.02349,
     "end_time": "2023-06-25T08:59:44.803139",
     "exception": false,
     "start_time": "2023-06-25T08:59:44.779649",
     "status": "completed"
    },
    "tags": []
   },
   "outputs": [],
   "source": [
    "features = ['TransactionAmt', 'card1', 'card2', 'card3', 'card5']\n"
   ]
  },
  {
   "cell_type": "markdown",
   "id": "582905ff",
   "metadata": {
    "papermill": {
     "duration": 0.015118,
     "end_time": "2023-06-25T08:59:44.833564",
     "exception": false,
     "start_time": "2023-06-25T08:59:44.818446",
     "status": "completed"
    },
    "tags": []
   },
   "source": [
    "<div style=\"background-color:#F0E3D2; color:#19180F; font-size:15px; font-family:Verdana; padding:10px; border: 2px solid #19180F; border-radius:10px\"> \n",
    "📌\n",
    "Preprocess the data by removing missing values and normalizing the features:\n",
    "    </div>\n"
   ]
  },
  {
   "cell_type": "code",
   "execution_count": 6,
   "id": "9051af9c",
   "metadata": {
    "execution": {
     "iopub.execute_input": "2023-06-25T08:59:44.866413Z",
     "iopub.status.busy": "2023-06-25T08:59:44.866027Z",
     "iopub.status.idle": "2023-06-25T08:59:44.922407Z",
     "shell.execute_reply": "2023-06-25T08:59:44.921227Z"
    },
    "papermill": {
     "duration": 0.075948,
     "end_time": "2023-06-25T08:59:44.925255",
     "exception": false,
     "start_time": "2023-06-25T08:59:44.849307",
     "status": "completed"
    },
    "tags": []
   },
   "outputs": [],
   "source": [
    "train_df = train_transaction_df[features].dropna()\n",
    "train_df_normalized = (train_df - train_df.mean()) / train_df.std()\n"
   ]
  },
  {
   "cell_type": "markdown",
   "id": "c81e77e7",
   "metadata": {
    "papermill": {
     "duration": 0.016555,
     "end_time": "2023-06-25T08:59:44.962691",
     "exception": false,
     "start_time": "2023-06-25T08:59:44.946136",
     "status": "completed"
    },
    "tags": []
   },
   "source": [
    "<div style=\"background-color:#F0E3D2; color:#19180F; font-size:15px; font-family:Verdana; padding:10px; border: 2px solid #19180F; border-radius:10px\"> \n",
    "📌\n",
    "    Merge the transaction and identity data on the 'TransactionID' column to generate a seperate eda dataframe</div>\n"
   ]
  },
  {
   "cell_type": "code",
   "execution_count": 7,
   "id": "c42eeb42",
   "metadata": {
    "execution": {
     "iopub.execute_input": "2023-06-25T08:59:44.997043Z",
     "iopub.status.busy": "2023-06-25T08:59:44.995896Z",
     "iopub.status.idle": "2023-06-25T08:59:45.149225Z",
     "shell.execute_reply": "2023-06-25T08:59:45.148154Z"
    },
    "papermill": {
     "duration": 0.172661,
     "end_time": "2023-06-25T08:59:45.151701",
     "exception": false,
     "start_time": "2023-06-25T08:59:44.979040",
     "status": "completed"
    },
    "tags": []
   },
   "outputs": [],
   "source": [
    "train_df_eda = train_transaction_df.merge(train_identity_df, on='TransactionID', how='left')\n"
   ]
  },
  {
   "cell_type": "markdown",
   "id": "5ae4b395",
   "metadata": {
    "papermill": {
     "duration": 0.015286,
     "end_time": "2023-06-25T08:59:45.182832",
     "exception": false,
     "start_time": "2023-06-25T08:59:45.167546",
     "status": "completed"
    },
    "tags": []
   },
   "source": [
    "<div style=\"background-color:#F0E3D2; color:#19180F; font-size:15px; font-family:Verdana; padding:10px; border: 2px solid #19180F; border-radius:10px\"> \n",
    "📌\n",
    "Performing basic data exploration:\n",
    "    </div>\n"
   ]
  },
  {
   "cell_type": "code",
   "execution_count": 8,
   "id": "76cb816e",
   "metadata": {
    "execution": {
     "iopub.execute_input": "2023-06-25T08:59:45.215068Z",
     "iopub.status.busy": "2023-06-25T08:59:45.214722Z",
     "iopub.status.idle": "2023-06-25T08:59:52.621115Z",
     "shell.execute_reply": "2023-06-25T08:59:52.618124Z"
    },
    "papermill": {
     "duration": 7.42528,
     "end_time": "2023-06-25T08:59:52.623499",
     "exception": false,
     "start_time": "2023-06-25T08:59:45.198219",
     "status": "completed"
    },
    "tags": []
   },
   "outputs": [
    {
     "name": "stderr",
     "output_type": "stream",
     "text": [
      "/opt/conda/lib/python3.10/site-packages/cudf/core/dataframe.py:4945: FutureWarning: `datetime_is_numeric` is deprecated. Specify `datetime_is_numeric=True` to silence this warning and adopt the future behavior now.\n",
      "  warnings.warn(\n",
      "/opt/conda/lib/python3.10/site-packages/cudf/core/series.py:3133: FutureWarning: `datetime_is_numeric` is deprecated and will be removed in a future release. Specify `datetime_is_numeric=True` to silence this warning and adopt the future behavior now.\n",
      "  warnings.warn(\n"
     ]
    },
    {
     "name": "stdout",
     "output_type": "stream",
     "text": [
      "Summary Statistics:\n",
      "       TransactionID        isFraud  TransactionDT  TransactionAmt  \\\n",
      "count   5.905400e+05  590540.000000   5.905400e+05   590540.000000   \n",
      "mean    3.282270e+06       0.034990   7.372311e+06      135.027176   \n",
      "std     1.704744e+05       0.183755   4.617224e+06      239.162522   \n",
      "min     2.987000e+06       0.000000   8.640000e+04        0.251000   \n",
      "25%     3.134635e+06       0.000000   3.027058e+06       43.321000   \n",
      "50%     3.282270e+06       0.000000   7.306528e+06       68.769000   \n",
      "75%     3.429904e+06       0.000000   1.124662e+07      125.000000   \n",
      "max     3.577539e+06       1.000000   1.581113e+07    31937.391000   \n",
      "\n",
      "               card1          card2          card3          card5  \\\n",
      "count  590540.000000  581607.000000  588975.000000  586281.000000   \n",
      "mean     9898.734658     362.555488     153.194925     199.278897   \n",
      "std      4901.170153     157.793246      11.336444      41.244453   \n",
      "min      1000.000000     100.000000     100.000000     100.000000   \n",
      "25%      6019.000000     214.000000     150.000000     166.000000   \n",
      "50%      9678.000000     361.000000     150.000000     226.000000   \n",
      "75%     14184.000000     512.000000     150.000000     226.000000   \n",
      "max     18396.000000     600.000000     231.000000     237.000000   \n",
      "\n",
      "               addr1          addr2  ...          id_17         id_18  \\\n",
      "count  524834.000000  524834.000000  ...  139369.000000  45113.000000   \n",
      "mean      290.733794      86.800630  ...     189.451377     14.237337   \n",
      "std       101.741072       2.690623  ...      30.375360      1.561302   \n",
      "min       100.000000      10.000000  ...     100.000000     10.000000   \n",
      "25%       204.000000      87.000000  ...     166.000000     13.000000   \n",
      "50%       299.000000      87.000000  ...     166.000000     15.000000   \n",
      "75%       330.000000      87.000000  ...     225.000000     15.000000   \n",
      "max       540.000000     102.000000  ...     229.000000     29.000000   \n",
      "\n",
      "               id_19          id_20        id_21        id_22        id_24  \\\n",
      "count  139318.000000  139261.000000  5159.000000  5169.000000  4747.000000   \n",
      "mean      353.128174     403.882666   368.269820    16.002708    12.800927   \n",
      "std       141.095343     152.160327   198.847038     6.897665     2.372447   \n",
      "min       100.000000     100.000000   100.000000    10.000000    11.000000   \n",
      "25%       266.000000     256.000000   252.000000    14.000000    11.000000   \n",
      "50%       341.000000     472.000000   252.000000    14.000000    11.000000   \n",
      "75%       427.000000     533.000000   486.500000    14.000000    15.000000   \n",
      "max       671.000000     661.000000   854.000000    44.000000    26.000000   \n",
      "\n",
      "             id_25        id_26         id_32  \n",
      "count  5132.000000  5163.000000  77586.000000  \n",
      "mean    329.608924   149.070308     26.508597  \n",
      "std      97.461089    32.101995      3.737502  \n",
      "min     100.000000   100.000000      0.000000  \n",
      "25%     321.000000   119.000000     24.000000  \n",
      "50%     321.000000   149.000000     24.000000  \n",
      "75%     371.000000   169.000000     32.000000  \n",
      "max     548.000000   216.000000     32.000000  \n",
      "\n",
      "[8 rows x 403 columns]\n",
      "\n",
      "Missing Values Count:\n",
      "TransactionID          0\n",
      "isFraud                0\n",
      "TransactionDT          0\n",
      "TransactionAmt         0\n",
      "ProductCD              0\n",
      "                   ...  \n",
      "id_36             449555\n",
      "id_37             449555\n",
      "id_38             449555\n",
      "DeviceType        449730\n",
      "DeviceInfo        471874\n",
      "Length: 434, dtype: int64\n"
     ]
    }
   ],
   "source": [
    "# Get the summary statistics of numerical columns\n",
    "numerical_cols = train_df_eda.select_dtypes(include=['float64', 'int64']).columns\n",
    "summary_stats = train_df_eda[numerical_cols].describe().to_pandas()\n",
    "\n",
    "# Get the count of missing values in each column\n",
    "missing_values_count = train_df_eda.isnull().sum().to_pandas()\n",
    "\n",
    "# Print the summary statistics and missing values count\n",
    "print('Summary Statistics:')\n",
    "print(summary_stats)\n",
    "print('\\nMissing Values Count:')\n",
    "print(missing_values_count)\n"
   ]
  },
  {
   "cell_type": "markdown",
   "id": "e1f8791a",
   "metadata": {
    "papermill": {
     "duration": 0.015603,
     "end_time": "2023-06-25T08:59:52.656714",
     "exception": false,
     "start_time": "2023-06-25T08:59:52.641111",
     "status": "completed"
    },
    "tags": []
   },
   "source": [
    "<div style=\"background-color:#F0E3D2; color:#19180F; font-size:15px; font-family:Verdana; padding:10px; border: 2px solid #19180F; border-radius:10px\"> \n",
    "📌\n",
    "Plotting the most correlated features after imputation    </div>\n"
   ]
  },
  {
   "cell_type": "code",
   "execution_count": 9,
   "id": "8f1062fb",
   "metadata": {
    "execution": {
     "iopub.execute_input": "2023-06-25T08:59:52.690640Z",
     "iopub.status.busy": "2023-06-25T08:59:52.689615Z",
     "iopub.status.idle": "2023-06-25T09:00:05.097861Z",
     "shell.execute_reply": "2023-06-25T09:00:05.096713Z"
    },
    "papermill": {
     "duration": 12.427741,
     "end_time": "2023-06-25T09:00:05.100202",
     "exception": false,
     "start_time": "2023-06-25T08:59:52.672461",
     "status": "completed"
    },
    "tags": []
   },
   "outputs": [
    {
     "data": {
      "image/png": "[encoded data removed]",
      "text/plain": [
       "<Figure size 1000x600 with 2 Axes>"
      ]
     },
     "metadata": {},
     "output_type": "display_data"
    }
   ],
   "source": [
    "plt.figure(figsize=(10, 6))\n",
    "\n",
    "# Filter columns to include only numerical data types\n",
    "numerical_cols = train_df_eda.select_dtypes(include=['float64', 'int64']).columns\n",
    "\n",
    "# Impute missing values with the mean\n",
    "train_df_imputed = train_df_eda[numerical_cols].fillna(train_df_eda[numerical_cols].mean())\n",
    "\n",
    "# Compute the correlation matrix\n",
    "corr_matrix = train_df_imputed.corr().to_pandas()\n",
    "\n",
    "# Filter for the most correlated features with 'isFraud'\n",
    "most_correlated_features = corr_matrix['isFraud'].sort_values(ascending=False).index[:10]\n",
    "corr_matrix_filtered = corr_matrix.loc[most_correlated_features, most_correlated_features]\n",
    "\n",
    "# Plot the filtered correlation matrix using a heatmap\n",
    "sns.heatmap(corr_matrix_filtered, cmap='viridis', annot=True, fmt='.2f')\n",
    "plt.title('Most Correlated Features')\n",
    "plt.show()\n"
   ]
  },
  {
   "cell_type": "markdown",
   "id": "e700ea0b",
   "metadata": {
    "papermill": {
     "duration": 0.0165,
     "end_time": "2023-06-25T09:00:05.133975",
     "exception": false,
     "start_time": "2023-06-25T09:00:05.117475",
     "status": "completed"
    },
    "tags": []
   },
   "source": [
    "<div style=\"background-color:#F0E3D2; color:#19180F; font-size:15px; font-family:Verdana; padding:10px; border: 2px solid #19180F; border-radius:10px\"> \n",
    "📌\n",
    "Train the K-means clustering algorithm:\n",
    "    </div>\n"
   ]
  },
  {
   "cell_type": "code",
   "execution_count": 10,
   "id": "48d8409e",
   "metadata": {
    "execution": {
     "iopub.execute_input": "2023-06-25T09:00:05.186026Z",
     "iopub.status.busy": "2023-06-25T09:00:05.185468Z",
     "iopub.status.idle": "2023-06-25T09:00:06.402543Z",
     "shell.execute_reply": "2023-06-25T09:00:06.401465Z"
    },
    "papermill": {
     "duration": 1.252227,
     "end_time": "2023-06-25T09:00:06.406975",
     "exception": false,
     "start_time": "2023-06-25T09:00:05.154748",
     "status": "completed"
    },
    "tags": []
   },
   "outputs": [
    {
     "data": {
      "text/plain": [
       "KMeans()"
      ]
     },
     "execution_count": 10,
     "metadata": {},
     "output_type": "execute_result"
    }
   ],
   "source": [
    "n_clusters = 2  # Set the number of clusters\n",
    "kmeans = KMeans(n_clusters=n_clusters)\n",
    "kmeans.fit(train_df_normalized)\n"
   ]
  },
  {
   "cell_type": "markdown",
   "id": "68527b2e",
   "metadata": {
    "papermill": {
     "duration": 0.025117,
     "end_time": "2023-06-25T09:00:06.457577",
     "exception": false,
     "start_time": "2023-06-25T09:00:06.432460",
     "status": "completed"
    },
    "tags": []
   },
   "source": [
    "<div style=\"background-color:#F0E3D2; color:#19180F; font-size:15px; font-family:Verdana; padding:10px; border: 2px solid #19180F; border-radius:10px\"> \n",
    "📌\n",
    "Load the test data and preprocess it in the same way as the training data:\n",
    "    </div>\n"
   ]
  },
  {
   "cell_type": "code",
   "execution_count": 11,
   "id": "28e9692f",
   "metadata": {
    "execution": {
     "iopub.execute_input": "2023-06-25T09:00:06.510537Z",
     "iopub.status.busy": "2023-06-25T09:00:06.509993Z",
     "iopub.status.idle": "2023-06-25T09:00:06.547914Z",
     "shell.execute_reply": "2023-06-25T09:00:06.546888Z"
    },
    "papermill": {
     "duration": 0.068567,
     "end_time": "2023-06-25T09:00:06.551141",
     "exception": false,
     "start_time": "2023-06-25T09:00:06.482574",
     "status": "completed"
    },
    "tags": []
   },
   "outputs": [],
   "source": [
    "test_df = test_transaction_df[features].dropna()\n",
    "test_df_normalized = (test_df - train_df.mean()) / train_df.std()\n"
   ]
  },
  {
   "cell_type": "markdown",
   "id": "296147ab",
   "metadata": {
    "papermill": {
     "duration": 0.02584,
     "end_time": "2023-06-25T09:00:06.605397",
     "exception": false,
     "start_time": "2023-06-25T09:00:06.579557",
     "status": "completed"
    },
    "tags": []
   },
   "source": [
    "<div style=\"background-color:#F0E3D2; color:#19180F; font-size:15px; font-family:Verdana; padding:10px; border: 2px solid #19180F; border-radius:10px\"> \n",
    "📌\n",
    "Predict the cluster labels for the test data:\n",
    "    </div>\n"
   ]
  },
  {
   "cell_type": "code",
   "execution_count": 12,
   "id": "a388953e",
   "metadata": {
    "execution": {
     "iopub.execute_input": "2023-06-25T09:00:06.645430Z",
     "iopub.status.busy": "2023-06-25T09:00:06.645018Z",
     "iopub.status.idle": "2023-06-25T09:00:06.661439Z",
     "shell.execute_reply": "2023-06-25T09:00:06.660499Z"
    },
    "papermill": {
     "duration": 0.038115,
     "end_time": "2023-06-25T09:00:06.663831",
     "exception": false,
     "start_time": "2023-06-25T09:00:06.625716",
     "status": "completed"
    },
    "tags": []
   },
   "outputs": [],
   "source": [
    "test_labels = kmeans.predict(test_df_normalized)\n"
   ]
  },
  {
   "cell_type": "markdown",
   "id": "77b8cf92",
   "metadata": {
    "papermill": {
     "duration": 0.017104,
     "end_time": "2023-06-25T09:00:06.698534",
     "exception": false,
     "start_time": "2023-06-25T09:00:06.681430",
     "status": "completed"
    },
    "tags": []
   },
   "source": [
    "<div style=\"background-color:#F0E3D2; color:#19180F; font-size:15px; font-family:Verdana; padding:10px; border: 2px solid #19180F; border-radius:10px\"> \n",
    "📌\n",
    "Generate the submission file:\n",
    "    </div>\n"
   ]
  },
  {
   "cell_type": "code",
   "execution_count": 13,
   "id": "8818b9e4",
   "metadata": {
    "execution": {
     "iopub.execute_input": "2023-06-25T09:00:06.734452Z",
     "iopub.status.busy": "2023-06-25T09:00:06.734099Z",
     "iopub.status.idle": "2023-06-25T09:00:06.787367Z",
     "shell.execute_reply": "2023-06-25T09:00:06.786063Z"
    },
    "papermill": {
     "duration": 0.07444,
     "end_time": "2023-06-25T09:00:06.789953",
     "exception": false,
     "start_time": "2023-06-25T09:00:06.715513",
     "status": "completed"
    },
    "tags": []
   },
   "outputs": [],
   "source": [
    "submission_df = cudf.DataFrame({'TransactionID': test_transaction_df['TransactionID'], 'isFraud': test_labels})\n",
    "submission_df.to_csv('submission.csv', index=False)\n"
   ]
  },
  {
   "cell_type": "markdown",
   "id": "430f72cf",
   "metadata": {
    "papermill": {
     "duration": 0.016935,
     "end_time": "2023-06-25T09:00:06.824305",
     "exception": false,
     "start_time": "2023-06-25T09:00:06.807370",
     "status": "completed"
    },
    "tags": []
   },
   "source": [
    "<div style=\"background-color:#F0E3D2; color:#19180F; font-size:15px; font-family:Verdana; padding:10px; border: 2px solid #19180F; border-radius:10px\"> \n",
    "📌\n",
    "Load the training and test data:\n",
    "    </div>\n"
   ]
  },
  {
   "cell_type": "code",
   "execution_count": 14,
   "id": "55acaa85",
   "metadata": {
    "execution": {
     "iopub.execute_input": "2023-06-25T09:00:06.861302Z",
     "iopub.status.busy": "2023-06-25T09:00:06.860417Z",
     "iopub.status.idle": "2023-06-25T09:00:06.899787Z",
     "shell.execute_reply": "2023-06-25T09:00:06.898644Z"
    },
    "papermill": {
     "duration": 0.060938,
     "end_time": "2023-06-25T09:00:06.902644",
     "exception": false,
     "start_time": "2023-06-25T09:00:06.841706",
     "status": "completed"
    },
    "tags": []
   },
   "outputs": [
    {
     "data": {
      "text/html": [
       "<div>\n",
       "<style scoped>\n",
       "    .dataframe tbody tr th:only-of-type {\n",
       "        vertical-align: middle;\n",
       "    }\n",
       "\n",
       "    .dataframe tbody tr th {\n",
       "        vertical-align: top;\n",
       "    }\n",
       "\n",
       "    .dataframe thead th {\n",
       "        text-align: right;\n",
       "    }\n",
       "</style>\n",
       "<table border=\"1\" class=\"dataframe\">\n",
       "  <thead>\n",
       "    <tr style=\"text-align: right;\">\n",
       "      <th></th>\n",
       "      <th>TransactionID</th>\n",
       "      <th>isFraud</th>\n",
       "    </tr>\n",
       "  </thead>\n",
       "  <tbody>\n",
       "    <tr>\n",
       "      <th>0</th>\n",
       "      <td>3663549</td>\n",
       "      <td>0</td>\n",
       "    </tr>\n",
       "    <tr>\n",
       "      <th>1</th>\n",
       "      <td>3663550</td>\n",
       "      <td>0</td>\n",
       "    </tr>\n",
       "    <tr>\n",
       "      <th>2</th>\n",
       "      <td>3663551</td>\n",
       "      <td>0</td>\n",
       "    </tr>\n",
       "    <tr>\n",
       "      <th>3</th>\n",
       "      <td>3663552</td>\n",
       "      <td>0</td>\n",
       "    </tr>\n",
       "    <tr>\n",
       "      <th>4</th>\n",
       "      <td>3663553</td>\n",
       "      <td>0</td>\n",
       "    </tr>\n",
       "    <tr>\n",
       "      <th>...</th>\n",
       "      <td>...</td>\n",
       "      <td>...</td>\n",
       "    </tr>\n",
       "    <tr>\n",
       "      <th>506686</th>\n",
       "      <td>4170235</td>\n",
       "      <td>0</td>\n",
       "    </tr>\n",
       "    <tr>\n",
       "      <th>506687</th>\n",
       "      <td>4170236</td>\n",
       "      <td>0</td>\n",
       "    </tr>\n",
       "    <tr>\n",
       "      <th>506688</th>\n",
       "      <td>4170237</td>\n",
       "      <td>0</td>\n",
       "    </tr>\n",
       "    <tr>\n",
       "      <th>506689</th>\n",
       "      <td>4170238</td>\n",
       "      <td>0</td>\n",
       "    </tr>\n",
       "    <tr>\n",
       "      <th>506690</th>\n",
       "      <td>4170239</td>\n",
       "      <td>0</td>\n",
       "    </tr>\n",
       "  </tbody>\n",
       "</table>\n",
       "<p>506691 rows × 2 columns</p>\n",
       "</div>"
      ],
      "text/plain": [
       "        TransactionID  isFraud\n",
       "0             3663549        0\n",
       "1             3663550        0\n",
       "2             3663551        0\n",
       "3             3663552        0\n",
       "4             3663553        0\n",
       "...               ...      ...\n",
       "506686        4170235        0\n",
       "506687        4170236        0\n",
       "506688        4170237        0\n",
       "506689        4170238        0\n",
       "506690        4170239        0\n",
       "\n",
       "[506691 rows x 2 columns]"
      ]
     },
     "execution_count": 14,
     "metadata": {},
     "output_type": "execute_result"
    }
   ],
   "source": [
    "submission_df"
   ]
  },
  {
   "cell_type": "code",
   "execution_count": null,
   "id": "9108fd08",
   "metadata": {
    "papermill": {
     "duration": 0.01822,
     "end_time": "2023-06-25T09:00:06.939199",
     "exception": false,
     "start_time": "2023-06-25T09:00:06.920979",
     "status": "completed"
    },
    "tags": []
   },
   "outputs": [],
   "source": []
  }
 ],
 "metadata": {
  "kernelspec": {
   "display_name": "Python 3",
   "language": "python",
   "name": "python3"
  },
  "language_info": {
   "codemirror_mode": {
    "name": "ipython",
    "version": 3
   },
   "file_extension": ".py",
   "mimetype": "text/x-python",
   "name": "python",
   "nbconvert_exporter": "python",
   "pygments_lexer": "ipython3",
   "version": "3.10.10"
  },
  "papermill": {
   "default_parameters": {},
   "duration": 139.813009,
   "end_time": "2023-06-25T09:00:10.058815",
   "environment_variables": {},
   "exception": null,
   "input_path": "__notebook__.ipynb",
   "output_path": "__notebook__.ipynb",
   "parameters": {},
   "start_time": "2023-06-25T08:57:50.245806",
   "version": "2.4.0"
  }
 },
 "nbformat": 4,
 "nbformat_minor": 5
}
