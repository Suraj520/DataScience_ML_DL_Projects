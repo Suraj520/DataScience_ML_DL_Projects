{
 "cells": [
  {
   "cell_type": "markdown",
   "id": "7e3d8564",
   "metadata": {
    "papermill": {
     "duration": 0.011663,
     "end_time": "2023-06-26T08:22:05.680082",
     "exception": false,
     "start_time": "2023-06-26T08:22:05.668419",
     "status": "completed"
    },
    "tags": []
   },
   "source": [
    "<div style=\"background-color:#5D73F2; color:#19180F; font-size:40px; font-family:Verdana; padding:10px; border: 5px solid #19180F; border-radius:10px\"> Gradient Boosting Machine </div>\n",
    "<div style=\"background-color:#A8B4F6; color:#19180F; font-size:30px; font-family:Verdana; padding:10px; border: 5px solid #19180F; border-radius:10px\">Overview</div>\n",
    "<div style=\"background-color:#D5D9F2; color:#19180F; font-size:15px; font-family:Verdana; padding:10px; border: 5px solid #19180F; border-radius:10px\"> \n",
    "<b>1. Gradient Boosting Machine (GBM):</b><br>\n",
    "- GBM is an ensemble learning model that combines multiple weak predictive models (base learners) to create a strong predictive model.<br> \n",
    "-Basic learners are trained one by one, new learners focus on correcting mistakes made by previous learners.<br> \n",
    "- GBM works by repeatedly fitting a base learner to the residuals (errors) of the previous learner.<br>\n",
    "– At each iteration, the base learner is trained to predict the negative slope of the loss function with respect to the previous prediction.<br> \n",
    "– By adding these new base learners to the ensemble, GBM gradually reduces residuals and improves overall prediction accuracy.<br><br>\n",
    "Mathematical explanation:<br>\n",
    "– Given a training dataset containing input features X and a target variable y, GBM aims to find a function F(X) that predicts y. F(X) is the sum of multiple base learner predictions.<br> \n",
    "– The prediction of the kth base learner is denoted as h_k(X).<br> \n",
    "- GBM minimizes a loss function L(y, F(X)) measuring the difference between the predicted value F(X) and the actual target value y.<br> \n",
    "- At each iteration, GBM fits a new base learner h_k(X) to the negative slope of the loss function with respect to the previous prediction: -[∂L(y, F(X))/∂F(X)] .<br> \n",
    "- The learning rate (η) determines the contribution of each base learner to the ensemble and helps control the learning rate.<br>\n",
    "- The final prediction from GBM is obtained by summing the predictions of all base learners: F(X) = h_1(X) + h_2(X) + ... + h_n(X).<br><br>\n",
    "<b>2. Light Gradient Boosting Machine (LightGBM):</b><br>\n",
    "- LightGBM is an optimized version of GBM that is faster and more memory efficient.<br> \n",
    "- LightGBM uses a technique called gradient-based one-sided sampling (GOSS) to selectively use samples with larger gradients during the training process.<br> \n",
    "- GOSS focuses on samples with large gradients as they contribute more to the total loss function and provide more information for learning.<br> \n",
    "- LightGBM reduces computation and storage requirements by sampling and prioritizing data points with high gradients, resulting in faster training and better scalability.<br>\n",
    "Mathematical explanation:<br>\n",
    "- LightGBM follows a similar process as GBM, but introduces additional optimizations.<br>\n",
    " - The GOSS method splits the training data into two subsets. One contains large slope samples (high slope data) and the other contains small slope samples (low slope data).<br> \n",
    " - During the training process, LightGBM uses a smaller percentage of low-gradient data and more of high-gradient data, thus reducing the overall amount of computation.<br> \n",
    " - LightGBM also uses another optimization called Exclusive Feature Bundling (EFB) to group exclusive features to reduce the number of split points considered in tree construction and improve training efficiency.<br>\n",
    "In brief, GBM and LightGBM work by iteratively training a base learner to correct mistakes made by previous learners. GBM utilizes all training samples, while LightGBM selectively uses larger gradient patterns and incorporates additional optimizations such as exclusive feature bundling to optimize the training process. The final prediction is a combination of the predictions from all base learners, with GBMs and LightGBMs providing accurate and powerful models for various machine learning tasks.\n",
    "</div>\n"
   ]
  },
  {
   "cell_type": "code",
   "execution_count": 1,
   "id": "1656c858",
   "metadata": {
    "execution": {
     "iopub.execute_input": "2023-06-26T08:22:05.703799Z",
     "iopub.status.busy": "2023-06-26T08:22:05.703030Z",
     "iopub.status.idle": "2023-06-26T08:22:05.748507Z",
     "shell.execute_reply": "2023-06-26T08:22:05.747659Z"
    },
    "papermill": {
     "duration": 0.060151,
     "end_time": "2023-06-26T08:22:05.751012",
     "exception": false,
     "start_time": "2023-06-26T08:22:05.690861",
     "status": "completed"
    },
    "tags": []
   },
   "outputs": [
    {
     "data": {
      "image/svg+xml": [
       "<svg xmlns=\"http://www.w3.org/2000/svg\" xmlns:xlink=\"http://www.w3.org/1999/xlink\" width=\"2131pt\" height=\"797pt\" viewBox=\"0.00 0.00 2130.84 797.00\">\n",
       "<g id=\"graph0\" class=\"graph\" transform=\"scale(1 1) rotate(0) translate(4 793)\">\n",
       "<title>GBMs</title>\n",
       "<polygon fill=\"#ffffff\" stroke=\"transparent\" points=\"-4,4 -4,-793 2126.8393,-793 2126.8393,4 -4,4\"/>\n",
       "<g id=\"clust1\" class=\"cluster\">\n",
       "<title>cluster_GBMs</title>\n",
       "<path fill=\"none\" stroke=\"#e57373\" stroke-dasharray=\"5,2\" d=\"M55.3382,-8C55.3382,-8 2102.8393,-8 2102.8393,-8 2108.8393,-8 2114.8393,-14 2114.8393,-20 2114.8393,-20 2114.8393,-324 2114.8393,-324 2114.8393,-330 2108.8393,-336 2102.8393,-336 2102.8393,-336 55.3382,-336 55.3382,-336 49.3382,-336 43.3382,-330 43.3382,-324 43.3382,-324 43.3382,-20 43.3382,-20 43.3382,-14 49.3382,-8 55.3382,-8\"/>\n",
       "<text text-anchor=\"middle\" x=\"1079.0888\" y=\"-317.6\" font-family=\"Arial\" font-size=\"16.00\" fill=\"#000000\">Gradient Boosting Machines</text>\n",
       "</g>\n",
       "<g id=\"clust2\" class=\"cluster\">\n",
       "<title>cluster_base_learners</title>\n",
       "<path fill=\"none\" stroke=\"#ffcc80\" stroke-dasharray=\"5,2\" d=\"M494.01,-80C494.01,-80 584.0384,-80 584.0384,-80 590.0384,-80 596.0384,-86 596.0384,-92 596.0384,-92 596.0384,-289 596.0384,-289 596.0384,-295 590.0384,-301 584.0384,-301 584.0384,-301 494.01,-301 494.01,-301 488.01,-301 482.01,-295 482.01,-289 482.01,-289 482.01,-92 482.01,-92 482.01,-86 488.01,-80 494.01,-80\"/>\n",
       "<text text-anchor=\"middle\" x=\"539.0242\" y=\"-284.4\" font-family=\"Arial\" font-size=\"14.00\" fill=\"#000000\">Base Learners</text>\n",
       "</g>\n",
       "<g id=\"clust3\" class=\"cluster\">\n",
       "<title>cluster_boosting_process</title>\n",
       "<path fill=\"none\" stroke=\"#ffd54f\" stroke-dasharray=\"5,2\" d=\"M834.8995,-78C834.8995,-78 1789.5275,-78 1789.5275,-78 1795.5275,-78 1801.5275,-84 1801.5275,-90 1801.5275,-90 1801.5275,-160 1801.5275,-160 1801.5275,-166 1795.5275,-172 1789.5275,-172 1789.5275,-172 834.8995,-172 834.8995,-172 828.8995,-172 822.8995,-166 822.8995,-160 822.8995,-160 822.8995,-90 822.8995,-90 822.8995,-84 828.8995,-78 834.8995,-78\"/>\n",
       "<text text-anchor=\"middle\" x=\"1312.2135\" y=\"-155.4\" font-family=\"Arial\" font-size=\"14.00\" fill=\"#000000\">Boosting Process</text>\n",
       "</g>\n",
       "<g id=\"clust4\" class=\"cluster\">\n",
       "<title>cluster_LightGBMs</title>\n",
       "<path fill=\"none\" stroke=\"#e57373\" stroke-dasharray=\"5,2\" d=\"M20,-408C20,-408 934.0052,-408 934.0052,-408 940.0052,-408 946.0052,-414 946.0052,-420 946.0052,-420 946.0052,-733 946.0052,-733 946.0052,-739 940.0052,-745 934.0052,-745 934.0052,-745 20,-745 20,-745 14,-745 8,-739 8,-733 8,-733 8,-420 8,-420 8,-414 14,-408 20,-408\"/>\n",
       "<text text-anchor=\"middle\" x=\"477.0026\" y=\"-726.6\" font-family=\"Arial\" font-size=\"16.00\" fill=\"#000000\">Light Gradient Boosting Machines (LightGBMs)</text>\n",
       "</g>\n",
       "<g id=\"clust5\" class=\"cluster\">\n",
       "<title>cluster_base_learners_lgbm</title>\n",
       "<path fill=\"none\" stroke=\"#ffcc80\" stroke-dasharray=\"5,2\" d=\"M473.0242,-489C473.0242,-489 605.0242,-489 605.0242,-489 611.0242,-489 617.0242,-495 617.0242,-501 617.0242,-501 617.0242,-698 617.0242,-698 617.0242,-704 611.0242,-710 605.0242,-710 605.0242,-710 473.0242,-710 473.0242,-710 467.0242,-710 461.0242,-704 461.0242,-698 461.0242,-698 461.0242,-501 461.0242,-501 461.0242,-495 467.0242,-489 473.0242,-489\"/>\n",
       "<text text-anchor=\"middle\" x=\"539.0242\" y=\"-693.4\" font-family=\"Arial\" font-size=\"14.00\" fill=\"#000000\">Base Learners (Trees)</text>\n",
       "</g>\n",
       "<!-- leaf -->\n",
       "<g id=\"node1\" class=\"node\">\n",
       "<title>leaf</title>\n",
       "<path fill=\"#ffe082\" stroke=\"#000000\" stroke-width=\"1.5\" d=\"M341.3595,-380C341.3595,-380 311.3595,-380 311.3595,-380 305.3595,-380 299.3595,-374 299.3595,-368 299.3595,-368 299.3595,-356 299.3595,-356 299.3595,-350 305.3595,-344 311.3595,-344 311.3595,-344 341.3595,-344 341.3595,-344 347.3595,-344 353.3595,-350 353.3595,-356 353.3595,-356 353.3595,-368 353.3595,-368 353.3595,-374 347.3595,-380 341.3595,-380\"/>\n",
       "<text text-anchor=\"middle\" x=\"326.3595\" y=\"-358.4\" font-family=\"Arial\" font-size=\"12.00\" fill=\"#000000\">leaf</text>\n",
       "</g>\n",
       "<!-- b1 -->\n",
       "<g id=\"node5\" class=\"node\">\n",
       "<title>b1</title>\n",
       "<path fill=\"#ffab91\" stroke=\"#000000\" stroke-width=\"1.5\" d=\"M576.0526,-124C576.0526,-124 501.9958,-124 501.9958,-124 495.9958,-124 489.9958,-118 489.9958,-112 489.9958,-112 489.9958,-100 489.9958,-100 489.9958,-94 495.9958,-88 501.9958,-88 501.9958,-88 576.0526,-88 576.0526,-88 582.0526,-88 588.0526,-94 588.0526,-100 588.0526,-100 588.0526,-112 588.0526,-112 588.0526,-118 582.0526,-124 576.0526,-124\"/>\n",
       "<text text-anchor=\"middle\" x=\"539.0242\" y=\"-102.4\" font-family=\"Arial\" font-size=\"12.00\" fill=\"#000000\">Base Learner 1</text>\n",
       "</g>\n",
       "<!-- leaf&#45;&gt;b1 -->\n",
       "<g id=\"edge20\" class=\"edge\">\n",
       "<title>leaf-&gt;b1</title>\n",
       "<path fill=\"none\" stroke=\"#e57373\" stroke-dasharray=\"5,2\" d=\"M326.8393,-343.6169C326.8393,-285.8825 326.8393,-112 326.8393,-112 326.8393,-112 479.8114,-112 479.8114,-112\"/>\n",
       "<polygon fill=\"#e57373\" stroke=\"#e57373\" points=\"479.8114,-115.5001 489.8114,-112 479.8114,-108.5001 479.8114,-115.5001\"/>\n",
       "</g>\n",
       "<!-- lightgbm -->\n",
       "<g id=\"node2\" class=\"node\">\n",
       "<title>lightgbm</title>\n",
       "<path fill=\"#ffe082\" stroke=\"#000000\" stroke-width=\"1.5\" d=\"M345.1988,-789C345.1988,-789 307.5202,-789 307.5202,-789 301.5202,-789 295.5202,-783 295.5202,-777 295.5202,-777 295.5202,-765 295.5202,-765 295.5202,-759 301.5202,-753 307.5202,-753 307.5202,-753 345.1988,-753 345.1988,-753 351.1988,-753 357.1988,-759 357.1988,-765 357.1988,-765 357.1988,-777 357.1988,-777 357.1988,-783 351.1988,-789 345.1988,-789\"/>\n",
       "<text text-anchor=\"middle\" x=\"326.3595\" y=\"-767.4\" font-family=\"Arial\" font-size=\"12.00\" fill=\"#000000\">lightgbm</text>\n",
       "</g>\n",
       "<!-- tree1 -->\n",
       "<g id=\"node14\" class=\"node\">\n",
       "<title>tree1</title>\n",
       "<path fill=\"#ffab91\" stroke=\"#000000\" stroke-width=\"1.5\" d=\"M554.0242,-677C554.0242,-677 524.0242,-677 524.0242,-677 518.0242,-677 512.0242,-671 512.0242,-665 512.0242,-665 512.0242,-653 512.0242,-653 512.0242,-647 518.0242,-641 524.0242,-641 524.0242,-641 554.0242,-641 554.0242,-641 560.0242,-641 566.0242,-647 566.0242,-653 566.0242,-653 566.0242,-665 566.0242,-665 566.0242,-671 560.0242,-677 554.0242,-677\"/>\n",
       "<text text-anchor=\"middle\" x=\"539.0242\" y=\"-655.4\" font-family=\"Arial\" font-size=\"12.00\" fill=\"#000000\">Tree 1</text>\n",
       "</g>\n",
       "<!-- lightgbm&#45;&gt;tree1 -->\n",
       "<g id=\"edge21\" class=\"edge\">\n",
       "<title>lightgbm-&gt;tree1</title>\n",
       "<path fill=\"none\" stroke=\"#e57373\" stroke-dasharray=\"5,2\" d=\"M326.8393,-752.7644C326.8393,-723.4256 326.8393,-669 326.8393,-669 326.8393,-669 501.7191,-669 501.7191,-669\"/>\n",
       "<polygon fill=\"#e57373\" stroke=\"#e57373\" points=\"501.7192,-672.5001 511.7191,-669 501.7191,-665.5001 501.7192,-672.5001\"/>\n",
       "</g>\n",
       "<!-- X -->\n",
       "<g id=\"node3\" class=\"node\">\n",
       "<title>X</title>\n",
       "<path fill=\"#d3d3d3\" stroke=\"#000000\" stroke-width=\"1.5\" d=\"M151.87,-196C151.87,-196 63.494,-196 63.494,-196 57.494,-196 51.494,-190 51.494,-184 51.494,-184 51.494,-172 51.494,-172 51.494,-166 57.494,-160 63.494,-160 63.494,-160 151.87,-160 151.87,-160 157.87,-160 163.87,-166 163.87,-172 163.87,-172 163.87,-184 163.87,-184 163.87,-190 157.87,-196 151.87,-196\"/>\n",
       "<text text-anchor=\"middle\" x=\"107.682\" y=\"-174.4\" font-family=\"Arial\" font-size=\"12.00\" fill=\"#000000\">Input Features (X)</text>\n",
       "</g>\n",
       "<!-- X&#45;&gt;b1 -->\n",
       "<g id=\"edge1\" class=\"edge\">\n",
       "<title>X-&gt;b1</title>\n",
       "<path fill=\"none\" stroke=\"#000000\" d=\"M107.8393,-159.9092C107.8393,-136.8672 107.8393,-100 107.8393,-100 107.8393,-100 479.9816,-100 479.9816,-100\"/>\n",
       "<polygon fill=\"#000000\" stroke=\"#000000\" points=\"479.9816,-103.5001 489.9816,-100 479.9816,-96.5001 479.9816,-103.5001\"/>\n",
       "<text text-anchor=\"middle\" x=\"326.3595\" y=\"-93.2\" font-family=\"Times,serif\" font-size=\"14.00\" fill=\"#000000\">Residuals (R1)</text>\n",
       "</g>\n",
       "<!-- b2 -->\n",
       "<g id=\"node6\" class=\"node\">\n",
       "<title>b2</title>\n",
       "<path fill=\"#ffab91\" stroke=\"#000000\" stroke-width=\"1.5\" d=\"M576.0526,-196C576.0526,-196 501.9958,-196 501.9958,-196 495.9958,-196 489.9958,-190 489.9958,-184 489.9958,-184 489.9958,-172 489.9958,-172 489.9958,-166 495.9958,-160 501.9958,-160 501.9958,-160 576.0526,-160 576.0526,-160 582.0526,-160 588.0526,-166 588.0526,-172 588.0526,-172 588.0526,-184 588.0526,-184 588.0526,-190 582.0526,-196 576.0526,-196\"/>\n",
       "<text text-anchor=\"middle\" x=\"539.0242\" y=\"-174.4\" font-family=\"Arial\" font-size=\"12.00\" fill=\"#000000\">Base Learner 2</text>\n",
       "</g>\n",
       "<!-- X&#45;&gt;b2 -->\n",
       "<g id=\"edge2\" class=\"edge\">\n",
       "<title>X-&gt;b2</title>\n",
       "<path fill=\"none\" stroke=\"#000000\" d=\"M164.0725,-178C164.0725,-178 479.9572,-178 479.9572,-178\"/>\n",
       "<polygon fill=\"#000000\" stroke=\"#000000\" points=\"479.9572,-181.5001 489.9572,-178 479.9571,-174.5001 479.9572,-181.5001\"/>\n",
       "<text text-anchor=\"middle\" x=\"326.3595\" y=\"-182.2\" font-family=\"Times,serif\" font-size=\"14.00\" fill=\"#000000\">Residuals (R2)</text>\n",
       "</g>\n",
       "<!-- bn -->\n",
       "<g id=\"node7\" class=\"node\">\n",
       "<title>bn</title>\n",
       "<path fill=\"#ffab91\" stroke=\"#000000\" stroke-width=\"1.5\" d=\"M576.0526,-268C576.0526,-268 501.9958,-268 501.9958,-268 495.9958,-268 489.9958,-262 489.9958,-256 489.9958,-256 489.9958,-244 489.9958,-244 489.9958,-238 495.9958,-232 501.9958,-232 501.9958,-232 576.0526,-232 576.0526,-232 582.0526,-232 588.0526,-238 588.0526,-244 588.0526,-244 588.0526,-256 588.0526,-256 588.0526,-262 582.0526,-268 576.0526,-268\"/>\n",
       "<text text-anchor=\"middle\" x=\"539.0242\" y=\"-246.4\" font-family=\"Arial\" font-size=\"12.00\" fill=\"#000000\">Base Learner n</text>\n",
       "</g>\n",
       "<!-- X&#45;&gt;bn -->\n",
       "<g id=\"edge3\" class=\"edge\">\n",
       "<title>X-&gt;bn</title>\n",
       "<path fill=\"none\" stroke=\"#000000\" d=\"M107.8393,-196.1686C107.8393,-217.498 107.8393,-250 107.8393,-250 107.8393,-250 479.9816,-250 479.9816,-250\"/>\n",
       "<polygon fill=\"#000000\" stroke=\"#000000\" points=\"479.9816,-253.5001 489.9816,-250 479.9816,-246.5001 479.9816,-253.5001\"/>\n",
       "<text text-anchor=\"middle\" x=\"326.3595\" y=\"-271.2\" font-family=\"Times,serif\" font-size=\"14.00\" fill=\"#000000\">Residuals (Rn)</text>\n",
       "</g>\n",
       "<!-- y -->\n",
       "<g id=\"node4\" class=\"node\">\n",
       "<title>y</title>\n",
       "<path fill=\"#d3d3d3\" stroke=\"#000000\" stroke-width=\"1.5\" d=\"M584.8631,-52C584.8631,-52 493.1853,-52 493.1853,-52 487.1853,-52 481.1853,-46 481.1853,-40 481.1853,-40 481.1853,-28 481.1853,-28 481.1853,-22 487.1853,-16 493.1853,-16 493.1853,-16 584.8631,-16 584.8631,-16 590.8631,-16 596.8631,-22 596.8631,-28 596.8631,-28 596.8631,-40 596.8631,-40 596.8631,-46 590.8631,-52 584.8631,-52\"/>\n",
       "<text text-anchor=\"middle\" x=\"539.0242\" y=\"-30.4\" font-family=\"Arial\" font-size=\"12.00\" fill=\"#000000\">Target Variable (y)</text>\n",
       "</g>\n",
       "<!-- sum1 -->\n",
       "<g id=\"node8\" class=\"node\">\n",
       "<title>sum1</title>\n",
       "<path fill=\"#ffecb3\" stroke=\"#000000\" stroke-width=\"1.5\" d=\"M865.5112,-134.5894C865.5112,-134.5894 842.2867,-125.4106 842.2867,-125.4106 836.7067,-123.2053 836.7067,-118.7947 842.2867,-116.5894 842.2867,-116.5894 865.5112,-107.4106 865.5112,-107.4106 871.0912,-105.2053 882.2512,-105.2053 887.8312,-107.4106 887.8312,-107.4106 911.0557,-116.5894 911.0557,-116.5894 916.6357,-118.7947 916.6357,-123.2053 911.0557,-125.4106 911.0557,-125.4106 887.8312,-134.5894 887.8312,-134.5894 882.2512,-136.7947 871.0912,-136.7947 865.5112,-134.5894\"/>\n",
       "<text text-anchor=\"middle\" x=\"876.6712\" y=\"-117.4\" font-family=\"Arial\" font-size=\"12.00\" fill=\"#000000\">Sum 1</text>\n",
       "</g>\n",
       "<!-- y&#45;&gt;sum1 -->\n",
       "<g id=\"edge4\" class=\"edge\">\n",
       "<title>y-&gt;sum1</title>\n",
       "<path fill=\"none\" stroke=\"#000000\" d=\"M592.8393,-52.0109C592.8393,-74.4852 592.8393,-110 592.8393,-110 592.8393,-110 848.9162,-110 848.9162,-110\"/>\n",
       "<polygon fill=\"#000000\" stroke=\"#000000\" points=\"848.9163,-113.5001 858.9162,-110 848.9162,-106.5001 848.9163,-113.5001\"/>\n",
       "<text text-anchor=\"middle\" x=\"720.0153\" y=\"-56.2\" font-family=\"Times,serif\" font-size=\"14.00\" fill=\"#000000\">Prediction (F0)</text>\n",
       "</g>\n",
       "<!-- b1&#45;&gt;sum1 -->\n",
       "<g id=\"edge7\" class=\"edge\">\n",
       "<title>b1-&gt;sum1</title>\n",
       "<path fill=\"none\" stroke=\"#000000\" d=\"M588.121,-117C588.121,-117 830.9663,-117 830.9663,-117\"/>\n",
       "<polygon fill=\"#000000\" stroke=\"#000000\" points=\"830.9664,-120.5001 840.9663,-117 830.9663,-113.5001 830.9664,-120.5001\"/>\n",
       "<text text-anchor=\"middle\" x=\"720.0153\" y=\"-145.2\" font-family=\"Times,serif\" font-size=\"14.00\" fill=\"#000000\">Learning Rate (η)</text>\n",
       "</g>\n",
       "<!-- sum2 -->\n",
       "<g id=\"node9\" class=\"node\">\n",
       "<title>sum2</title>\n",
       "<path fill=\"#ffecb3\" stroke=\"#000000\" stroke-width=\"1.5\" d=\"M1409.9044,-134.5894C1409.9044,-134.5894 1386.68,-125.4106 1386.68,-125.4106 1381.1,-123.2053 1381.1,-118.7947 1386.68,-116.5894 1386.68,-116.5894 1409.9044,-107.4106 1409.9044,-107.4106 1415.4845,-105.2053 1426.6445,-105.2053 1432.2245,-107.4106 1432.2245,-107.4106 1455.4489,-116.5894 1455.4489,-116.5894 1461.0289,-118.7947 1461.0289,-123.2053 1455.4489,-125.4106 1455.4489,-125.4106 1432.2245,-134.5894 1432.2245,-134.5894 1426.6445,-136.7947 1415.4845,-136.7947 1409.9044,-134.5894\"/>\n",
       "<text text-anchor=\"middle\" x=\"1421.0645\" y=\"-117.4\" font-family=\"Arial\" font-size=\"12.00\" fill=\"#000000\">Sum 2</text>\n",
       "</g>\n",
       "<!-- b2&#45;&gt;sum2 -->\n",
       "<g id=\"edge8\" class=\"edge\">\n",
       "<title>b2-&gt;sum2</title>\n",
       "<path fill=\"none\" stroke=\"#000000\" d=\"M588.0623,-178C773.5571,-178 1421.8393,-178 1421.8393,-178 1421.8393,-178 1421.8393,-148.7227 1421.8393,-148.7227\"/>\n",
       "<polygon fill=\"#000000\" stroke=\"#000000\" points=\"1425.3394,-148.7227 1421.8393,-138.7227 1418.3394,-148.7227 1425.3394,-148.7227\"/>\n",
       "<text text-anchor=\"middle\" x=\"1026.0401\" y=\"-199.2\" font-family=\"Times,serif\" font-size=\"14.00\" fill=\"#000000\">Learning Rate (η)</text>\n",
       "</g>\n",
       "<!-- sumn -->\n",
       "<g id=\"node10\" class=\"node\">\n",
       "<title>sumn</title>\n",
       "<path fill=\"#ffecb3\" stroke=\"#000000\" stroke-width=\"1.5\" d=\"M1736.5958,-134.5894C1736.5958,-134.5894 1713.3714,-125.4106 1713.3714,-125.4106 1707.7914,-123.2053 1707.7914,-118.7947 1713.3714,-116.5894 1713.3714,-116.5894 1736.5958,-107.4106 1736.5958,-107.4106 1742.1758,-105.2053 1753.3358,-105.2053 1758.9159,-107.4106 1758.9159,-107.4106 1782.1403,-116.5894 1782.1403,-116.5894 1787.7203,-118.7947 1787.7203,-123.2053 1782.1403,-125.4106 1782.1403,-125.4106 1758.9159,-134.5894 1758.9159,-134.5894 1753.3358,-136.7947 1742.1758,-136.7947 1736.5958,-134.5894\"/>\n",
       "<text text-anchor=\"middle\" x=\"1747.7558\" y=\"-117.4\" font-family=\"Arial\" font-size=\"12.00\" fill=\"#000000\">Sum n</text>\n",
       "</g>\n",
       "<!-- bn&#45;&gt;sumn -->\n",
       "<g id=\"edge9\" class=\"edge\">\n",
       "<title>bn-&gt;sumn</title>\n",
       "<path fill=\"none\" stroke=\"#000000\" d=\"M588.2859,-250C815.0957,-250 1747.8393,-250 1747.8393,-250 1747.8393,-250 1747.8393,-149.2089 1747.8393,-149.2089\"/>\n",
       "<polygon fill=\"#000000\" stroke=\"#000000\" points=\"1751.3394,-149.2089 1747.8393,-139.2089 1744.3394,-149.209 1751.3394,-149.2089\"/>\n",
       "<text text-anchor=\"middle\" x=\"1287.2579\" y=\"-272.2\" font-family=\"Times,serif\" font-size=\"14.00\" fill=\"#000000\">Learning Rate (η)</text>\n",
       "</g>\n",
       "<!-- sum1&#45;&gt;sum2 -->\n",
       "<g id=\"edge5\" class=\"edge\">\n",
       "<title>sum1-&gt;sum2</title>\n",
       "<path fill=\"none\" stroke=\"#000000\" d=\"M922.6167,-121C922.6167,-121 1365.434,-121 1365.434,-121\"/>\n",
       "<polygon fill=\"#000000\" stroke=\"#000000\" points=\"1365.434,-124.5001 1375.434,-121 1365.434,-117.5001 1365.434,-124.5001\"/>\n",
       "<text text-anchor=\"middle\" x=\"1156.649\" y=\"-126.2\" font-family=\"Times,serif\" font-size=\"14.00\" fill=\"#000000\">Prediction (F1)</text>\n",
       "</g>\n",
       "<!-- sum2&#45;&gt;sumn -->\n",
       "<g id=\"edge6\" class=\"edge\">\n",
       "<title>sum2-&gt;sumn</title>\n",
       "<path fill=\"none\" stroke=\"#000000\" d=\"M1466.8335,-121C1466.8335,-121 1692.0336,-121 1692.0336,-121\"/>\n",
       "<polygon fill=\"#000000\" stroke=\"#000000\" points=\"1692.0336,-124.5001 1702.0336,-121 1692.0335,-117.5001 1692.0336,-124.5001\"/>\n",
       "<text text-anchor=\"middle\" x=\"1584.4102\" y=\"-126.2\" font-family=\"Times,serif\" font-size=\"14.00\" fill=\"#000000\">Prediction (F2)</text>\n",
       "</g>\n",
       "<!-- y_hat -->\n",
       "<g id=\"node11\" class=\"node\">\n",
       "<title>y_hat</title>\n",
       "<path fill=\"#d3d3d3\" stroke=\"#000000\" stroke-width=\"1.5\" d=\"M2094.6738,-139C2094.6738,-139 1996.3369,-139 1996.3369,-139 1990.3369,-139 1984.3369,-133 1984.3369,-127 1984.3369,-127 1984.3369,-115 1984.3369,-115 1984.3369,-109 1990.3369,-103 1996.3369,-103 1996.3369,-103 2094.6738,-103 2094.6738,-103 2100.6738,-103 2106.6738,-109 2106.6738,-115 2106.6738,-115 2106.6738,-127 2106.6738,-127 2106.6738,-133 2100.6738,-139 2094.6738,-139\"/>\n",
       "<text text-anchor=\"middle\" x=\"2045.5053\" y=\"-117.4\" font-family=\"Arial\" font-size=\"12.00\" fill=\"#000000\">Final Prediction (ŷ)</text>\n",
       "</g>\n",
       "<!-- sumn&#45;&gt;y_hat -->\n",
       "<g id=\"edge10\" class=\"edge\">\n",
       "<title>sumn-&gt;y_hat</title>\n",
       "<path fill=\"none\" stroke=\"#000000\" d=\"M1793.3017,-121C1793.3017,-121 1974.2038,-121 1974.2038,-121\"/>\n",
       "<polygon fill=\"#000000\" stroke=\"#000000\" points=\"1974.2038,-124.5001 1984.2038,-121 1974.2038,-117.5001 1974.2038,-124.5001\"/>\n",
       "<text text-anchor=\"middle\" x=\"1888.8494\" y=\"-125.2\" font-family=\"Times,serif\" font-size=\"14.00\" fill=\"#000000\">Final Prediction (ŷ)</text>\n",
       "</g>\n",
       "<!-- X_lgbm -->\n",
       "<g id=\"node12\" class=\"node\">\n",
       "<title>X_lgbm</title>\n",
       "<path fill=\"#d3d3d3\" stroke=\"#000000\" stroke-width=\"1.5\" d=\"M151.87,-689C151.87,-689 63.494,-689 63.494,-689 57.494,-689 51.494,-683 51.494,-677 51.494,-677 51.494,-665 51.494,-665 51.494,-659 57.494,-653 63.494,-653 63.494,-653 151.87,-653 151.87,-653 157.87,-653 163.87,-659 163.87,-665 163.87,-665 163.87,-677 163.87,-677 163.87,-683 157.87,-689 151.87,-689\"/>\n",
       "<text text-anchor=\"middle\" x=\"107.682\" y=\"-667.4\" font-family=\"Arial\" font-size=\"12.00\" fill=\"#000000\">Input Features (X)</text>\n",
       "</g>\n",
       "<!-- X_lgbm&#45;&gt;tree1 -->\n",
       "<g id=\"edge11\" class=\"edge\">\n",
       "<title>X_lgbm-&gt;tree1</title>\n",
       "<path fill=\"none\" stroke=\"#000000\" d=\"M164.0725,-661C164.0725,-661 501.9653,-661 501.9653,-661\"/>\n",
       "<polygon fill=\"#000000\" stroke=\"#000000\" points=\"501.9653,-664.5001 511.9653,-661 501.9652,-657.5001 501.9653,-664.5001\"/>\n",
       "</g>\n",
       "<!-- tree2 -->\n",
       "<g id=\"node15\" class=\"node\">\n",
       "<title>tree2</title>\n",
       "<path fill=\"#ffab91\" stroke=\"#000000\" stroke-width=\"1.5\" d=\"M554.0242,-533C554.0242,-533 524.0242,-533 524.0242,-533 518.0242,-533 512.0242,-527 512.0242,-521 512.0242,-521 512.0242,-509 512.0242,-509 512.0242,-503 518.0242,-497 524.0242,-497 524.0242,-497 554.0242,-497 554.0242,-497 560.0242,-497 566.0242,-503 566.0242,-509 566.0242,-509 566.0242,-521 566.0242,-521 566.0242,-527 560.0242,-533 554.0242,-533\"/>\n",
       "<text text-anchor=\"middle\" x=\"539.0242\" y=\"-511.4\" font-family=\"Arial\" font-size=\"12.00\" fill=\"#000000\">Tree 2</text>\n",
       "</g>\n",
       "<!-- X_lgbm&#45;&gt;tree2 -->\n",
       "<g id=\"edge14\" class=\"edge\">\n",
       "<title>X_lgbm-&gt;tree2</title>\n",
       "<path fill=\"none\" stroke=\"#000000\" d=\"M89.8393,-652.9065C89.8393,-613.0111 89.8393,-521 89.8393,-521 89.8393,-521 501.9372,-521 501.9372,-521\"/>\n",
       "<polygon fill=\"#000000\" stroke=\"#000000\" points=\"501.9373,-524.5001 511.9372,-521 501.9372,-517.5001 501.9373,-524.5001\"/>\n",
       "<text text-anchor=\"middle\" x=\"326.3595\" y=\"-532.2\" font-family=\"Times,serif\" font-size=\"14.00\" fill=\"#000000\">Input Features (X)</text>\n",
       "</g>\n",
       "<!-- treen -->\n",
       "<g id=\"node16\" class=\"node\">\n",
       "<title>treen</title>\n",
       "<path fill=\"#ffab91\" stroke=\"#000000\" stroke-width=\"1.5\" d=\"M554.0242,-605C554.0242,-605 524.0242,-605 524.0242,-605 518.0242,-605 512.0242,-599 512.0242,-593 512.0242,-593 512.0242,-581 512.0242,-581 512.0242,-575 518.0242,-569 524.0242,-569 524.0242,-569 554.0242,-569 554.0242,-569 560.0242,-569 566.0242,-575 566.0242,-581 566.0242,-581 566.0242,-593 566.0242,-593 566.0242,-599 560.0242,-605 554.0242,-605\"/>\n",
       "<text text-anchor=\"middle\" x=\"539.0242\" y=\"-583.4\" font-family=\"Arial\" font-size=\"12.00\" fill=\"#000000\">Tree n</text>\n",
       "</g>\n",
       "<!-- X_lgbm&#45;&gt;treen -->\n",
       "<g id=\"edge17\" class=\"edge\">\n",
       "<title>X_lgbm-&gt;treen</title>\n",
       "<path fill=\"none\" stroke=\"#000000\" d=\"M126.8393,-652.9092C126.8393,-629.8672 126.8393,-593 126.8393,-593 126.8393,-593 501.9796,-593 501.9796,-593\"/>\n",
       "<polygon fill=\"#000000\" stroke=\"#000000\" points=\"501.9796,-596.5001 511.9796,-593 501.9796,-589.5001 501.9796,-596.5001\"/>\n",
       "</g>\n",
       "<!-- y_lgbm -->\n",
       "<g id=\"node13\" class=\"node\">\n",
       "<title>y_lgbm</title>\n",
       "<path fill=\"#d3d3d3\" stroke=\"#000000\" stroke-width=\"1.5\" d=\"M187.5464,-473C187.5464,-473 27.8176,-473 27.8176,-473 21.8176,-473 15.8176,-467 15.8176,-461 15.8176,-461 15.8176,-449 15.8176,-449 15.8176,-443 21.8176,-437 27.8176,-437 27.8176,-437 187.5464,-437 187.5464,-437 193.5464,-437 199.5464,-443 199.5464,-449 199.5464,-449 199.5464,-461 199.5464,-461 199.5464,-467 193.5464,-473 187.5464,-473\"/>\n",
       "<text text-anchor=\"middle\" x=\"107.682\" y=\"-451.4\" font-family=\"Arial\" font-size=\"12.00\" fill=\"#000000\">Target Variables (y1, y2, ..., yn)</text>\n",
       "</g>\n",
       "<!-- y_lgbm&#45;&gt;tree1 -->\n",
       "<g id=\"edge12\" class=\"edge\">\n",
       "<title>y_lgbm-&gt;tree1</title>\n",
       "<path fill=\"none\" stroke=\"#000000\" d=\"M173.8393,-473.0629C173.8393,-520.8586 173.8393,-647 173.8393,-647 173.8393,-647 501.8743,-647 501.8743,-647\"/>\n",
       "<polygon fill=\"#000000\" stroke=\"#000000\" points=\"501.8744,-650.5001 511.8743,-647 501.8743,-643.5001 501.8744,-650.5001\"/>\n",
       "<text text-anchor=\"middle\" x=\"326.3595\" y=\"-621.2\" font-family=\"Times,serif\" font-size=\"14.00\" fill=\"#000000\">Target Variables (y1, y2, ..., yn)</text>\n",
       "</g>\n",
       "<!-- y_lgbm&#45;&gt;tree2 -->\n",
       "<g id=\"edge15\" class=\"edge\">\n",
       "<title>y_lgbm-&gt;tree2</title>\n",
       "<path fill=\"none\" stroke=\"#000000\" d=\"M190.8393,-473.2819C190.8393,-488.9478 190.8393,-509 190.8393,-509 190.8393,-509 501.9924,-509 501.9924,-509\"/>\n",
       "<polygon fill=\"#000000\" stroke=\"#000000\" points=\"501.9925,-512.5001 511.9924,-509 501.9924,-505.5001 501.9925,-512.5001\"/>\n",
       "</g>\n",
       "<!-- y_lgbm&#45;&gt;treen -->\n",
       "<g id=\"edge18\" class=\"edge\">\n",
       "<title>y_lgbm-&gt;treen</title>\n",
       "<path fill=\"none\" stroke=\"#000000\" d=\"M181.8393,-473.0527C181.8393,-507.8929 181.8393,-581 181.8393,-581 181.8393,-581 501.8841,-581 501.8841,-581\"/>\n",
       "<polygon fill=\"#000000\" stroke=\"#000000\" points=\"501.8841,-584.5001 511.8841,-581 501.8841,-577.5001 501.8841,-584.5001\"/>\n",
       "</g>\n",
       "<!-- y_hat_lgbm -->\n",
       "<g id=\"node17\" class=\"node\">\n",
       "<title>y_hat_lgbm</title>\n",
       "<path fill=\"#d3d3d3\" stroke=\"#000000\" stroke-width=\"1.5\" d=\"M925.8396,-605C925.8396,-605 827.5028,-605 827.5028,-605 821.5028,-605 815.5028,-599 815.5028,-593 815.5028,-593 815.5028,-581 815.5028,-581 815.5028,-575 821.5028,-569 827.5028,-569 827.5028,-569 925.8396,-569 925.8396,-569 931.8396,-569 937.8396,-575 937.8396,-581 937.8396,-581 937.8396,-593 937.8396,-593 937.8396,-599 931.8396,-605 925.8396,-605\"/>\n",
       "<text text-anchor=\"middle\" x=\"876.6712\" y=\"-583.4\" font-family=\"Arial\" font-size=\"12.00\" fill=\"#000000\">Final Prediction (ŷ)</text>\n",
       "</g>\n",
       "<!-- tree1&#45;&gt;y_hat_lgbm -->\n",
       "<g id=\"edge13\" class=\"edge\">\n",
       "<title>tree1-&gt;y_hat_lgbm</title>\n",
       "<path fill=\"none\" stroke=\"#000000\" d=\"M566.098,-659C646.2602,-659 876.8393,-659 876.8393,-659 876.8393,-659 876.8393,-615.1686 876.8393,-615.1686\"/>\n",
       "<polygon fill=\"#000000\" stroke=\"#000000\" points=\"880.3394,-615.1686 876.8393,-605.1686 873.3394,-615.1687 880.3394,-615.1686\"/>\n",
       "<text text-anchor=\"middle\" x=\"720.0153\" y=\"-680.2\" font-family=\"Times,serif\" font-size=\"14.00\" fill=\"#000000\">Final Prediction (ŷ)</text>\n",
       "</g>\n",
       "<!-- tree2&#45;&gt;y_hat_lgbm -->\n",
       "<g id=\"edge16\" class=\"edge\">\n",
       "<title>tree2-&gt;y_hat_lgbm</title>\n",
       "<path fill=\"none\" stroke=\"#000000\" d=\"M566.0757,-515C637.1703,-515 823.8393,-515 823.8393,-515 823.8393,-515 823.8393,-558.8314 823.8393,-558.8314\"/>\n",
       "<polygon fill=\"#000000\" stroke=\"#000000\" points=\"820.3394,-558.8313 823.8393,-568.8314 827.3394,-558.8314 820.3394,-558.8313\"/>\n",
       "<text text-anchor=\"middle\" x=\"720.0153\" y=\"-502.2\" font-family=\"Times,serif\" font-size=\"14.00\" fill=\"#000000\">Final Prediction (ŷ)</text>\n",
       "</g>\n",
       "<!-- treen&#45;&gt;y_hat_lgbm -->\n",
       "<g id=\"edge19\" class=\"edge\">\n",
       "<title>treen-&gt;y_hat_lgbm</title>\n",
       "<path fill=\"none\" stroke=\"#000000\" d=\"M566.0845,-587C566.0845,-587 805.3615,-587 805.3615,-587\"/>\n",
       "<polygon fill=\"#000000\" stroke=\"#000000\" points=\"805.3615,-590.5001 815.3615,-587 805.3615,-583.5001 805.3615,-590.5001\"/>\n",
       "<text text-anchor=\"middle\" x=\"720.0153\" y=\"-591.2\" font-family=\"Times,serif\" font-size=\"14.00\" fill=\"#000000\">Final Prediction (ŷ)</text>\n",
       "</g>\n",
       "</g>\n",
       "</svg>"
      ],
      "text/plain": [
       "<IPython.core.display.SVG object>"
      ]
     },
     "metadata": {},
     "output_type": "display_data"
    }
   ],
   "source": [
    "from IPython.display import SVG, display\n",
    "\n",
    "# Load the SVG file and display it\n",
    "svg_file = '/kaggle/input/machine-learning-architecture-diagrams/GBM.svg'\n",
    "display(SVG(filename=svg_file))"
   ]
  },
  {
   "cell_type": "markdown",
   "id": "c457d561",
   "metadata": {
    "papermill": {
     "duration": 0.011736,
     "end_time": "2023-06-26T08:22:05.774580",
     "exception": false,
     "start_time": "2023-06-26T08:22:05.762844",
     "status": "completed"
    },
    "tags": []
   },
   "source": [
    "<div style=\"background-color:#D5D9F2; color:#19180F; font-size:15px; font-family:Verdana; padding:10px; border: 5px solid #19180F; border-radius:10px\"> \n",
    "This architecture is a comparison between a traditional gradient boosting machine (GBM) and a light gradient boosting machine (LightGBM).<br><br>\n",
    "It consists of his two main components, GBM and LightGBM. Here is the description \n",
    " GBM components:<br>\n",
    "- Input: Represents the input characteristic (X) and target variable (y) used in GBM.<br>\n",
    "- Core Learner: Represents an individual core learner within the GBM. Each core learner is called core learner n, through core learner 1, core learner 2, and so on.<br> \n",
    "- Boosting Process: Represents the boosting process within the GBM. Each boosting iteration is called total 1, total 2, etc. to total n. The boosting process combines the base learner's predictions and uses the learning rate (η) and residuals (R1, R2, Rn) to adjust the predictions and improve the model's accuracy.<br>\n",
    "- Output: Represents the final prediction (ŷ) of the GBM.<br>\n",
    " LightGBM Components:<br>\n",
    "- Input: Represents the input characteristics (X) and target variables (y) used by LightGBM.<br>\n",
    "- Basic learners (trees): Represent individual decision trees in LightGBM. Each decision tree is denoted as tree 1, tree 2, etc. through tree n.<br>\n",
    "- Output: Represents the final prediction (ŷ) produced by LightGBM.<br>\n",
    "<br>\n",
    "- Connections within GBM:<br>\n",
    "- Input features (X) are connected to each base learner (b1, b2, bn) via residuals (R1, R2, Rn).<br> \n",
    "- A target variable (y) is connected to each boosting iteration (sum 1, sum 2, sum n) through the initial predictions (F0, F1, Fn).<br> \n",
    "- Each base learner (b1, b2, bn) is connected to its respective boosting iteration (Sum 1, Sum 2, Sum n) through a learning rate (η).<br> \n",
    "- The final predictions (1 total, 2 total, n total) from each boosting iteration are connected to the final overall prediction (ŷ).<br>\n",
    "- Connections within LightGBM:<br>\n",
    "- The input feature (X) and target variable (y) are separately connected to each decision tree (tree 1, tree 2, tree n).<br>\n",
    "- Each decision tree (tree 1, tree 2, tree n) is connected to the final prediction (ŷ) of LightGBM.<br></div>"
   ]
  },
  {
   "cell_type": "markdown",
   "id": "e427be1e",
   "metadata": {
    "papermill": {
     "duration": 0.010952,
     "end_time": "2023-06-26T08:22:05.796741",
     "exception": false,
     "start_time": "2023-06-26T08:22:05.785789",
     "status": "completed"
    },
    "tags": []
   },
   "source": [
    "<div style=\"background-color:#F0E3D2; color:#19180F; font-size:15px; font-family:Verdana; padding:10px; border: 2px solid #19180F; border-radius:10px\"> \n",
    "📌\n",
    "For Detailed Case Study, Refer this <a href=\"https://www.kaggle.com/code/suraj520/pss3-e17-case-study-recommendations-prediction\"> notebook </a> </div>\n"
   ]
  },
  {
   "cell_type": "markdown",
   "id": "71a60dbf",
   "metadata": {
    "papermill": {
     "duration": 0.010835,
     "end_time": "2023-06-26T08:22:05.818704",
     "exception": false,
     "start_time": "2023-06-26T08:22:05.807869",
     "status": "completed"
    },
    "tags": []
   },
   "source": [
    "<div style=\"background-color:#F0E3D2; color:#19180F; font-size:15px; font-family:Verdana; padding:10px; border: 2px solid #19180F; border-radius:10px\"> \n",
    "📌\n",
    "Importing modules\n",
    "    </div>\n"
   ]
  },
  {
   "cell_type": "code",
   "execution_count": 2,
   "id": "65fc0676",
   "metadata": {
    "execution": {
     "iopub.execute_input": "2023-06-26T08:22:05.843314Z",
     "iopub.status.busy": "2023-06-26T08:22:05.842670Z",
     "iopub.status.idle": "2023-06-26T08:22:10.156894Z",
     "shell.execute_reply": "2023-06-26T08:22:10.155935Z"
    },
    "papermill": {
     "duration": 4.329443,
     "end_time": "2023-06-26T08:22:10.159788",
     "exception": false,
     "start_time": "2023-06-26T08:22:05.830345",
     "status": "completed"
    },
    "tags": []
   },
   "outputs": [],
   "source": [
    "import pandas as pd\n",
    "import numpy as np\n",
    "import matplotlib.pyplot as plt\n",
    "import seaborn as sns\n",
    "from sklearn.model_selection import train_test_split, KFold, GridSearchCV\n",
    "from xgboost import XGBClassifier, plot_importance\n",
    "from sklearn.ensemble import GradientBoostingClassifier\n",
    "from lightgbm import LGBMClassifier\n",
    "from sklearn.metrics import roc_auc_score, confusion_matrix\n",
    "import re\n",
    "from sklearn.compose import ColumnTransformer\n",
    "from sklearn.pipeline import Pipeline\n",
    "from sklearn.preprocessing import StandardScaler, OneHotEncoder\n"
   ]
  },
  {
   "cell_type": "markdown",
   "id": "ecd96128",
   "metadata": {
    "papermill": {
     "duration": 0.011088,
     "end_time": "2023-06-26T08:22:10.182836",
     "exception": false,
     "start_time": "2023-06-26T08:22:10.171748",
     "status": "completed"
    },
    "tags": []
   },
   "source": [
    "<div style=\"background-color:#F0E3D2; color:#19180F; font-size:15px; font-family:Verdana; padding:10px; border: 2px solid #19180F; border-radius:10px\"> \n",
    "📌\n",
    "Reading the dataframe    </div>\n"
   ]
  },
  {
   "cell_type": "code",
   "execution_count": 3,
   "id": "02f32555",
   "metadata": {
    "execution": {
     "iopub.execute_input": "2023-06-26T08:22:10.208467Z",
     "iopub.status.busy": "2023-06-26T08:22:10.207530Z",
     "iopub.status.idle": "2023-06-26T08:22:10.799085Z",
     "shell.execute_reply": "2023-06-26T08:22:10.798093Z"
    },
    "papermill": {
     "duration": 0.607923,
     "end_time": "2023-06-26T08:22:10.802205",
     "exception": false,
     "start_time": "2023-06-26T08:22:10.194282",
     "status": "completed"
    },
    "tags": []
   },
   "outputs": [],
   "source": [
    "train_df = pd.read_csv('/kaggle/input/playground-series-s3e17/train.csv')\n",
    "test_df = pd.read_csv('/kaggle/input/playground-series-s3e17/test.csv')"
   ]
  },
  {
   "cell_type": "markdown",
   "id": "ddb54815",
   "metadata": {
    "papermill": {
     "duration": 0.011708,
     "end_time": "2023-06-26T08:22:10.826001",
     "exception": false,
     "start_time": "2023-06-26T08:22:10.814293",
     "status": "completed"
    },
    "tags": []
   },
   "source": [
    "<div style=\"background-color:#F0E3D2; color:#19180F; font-size:15px; font-family:Verdana; padding:10px; border: 2px solid #19180F; border-radius:10px\"> \n",
    "📌\n",
    "Inspecting the columns    </div>\n"
   ]
  },
  {
   "cell_type": "code",
   "execution_count": 4,
   "id": "dd2f832c",
   "metadata": {
    "execution": {
     "iopub.execute_input": "2023-06-26T08:22:10.850231Z",
     "iopub.status.busy": "2023-06-26T08:22:10.849904Z",
     "iopub.status.idle": "2023-06-26T08:22:10.856121Z",
     "shell.execute_reply": "2023-06-26T08:22:10.855304Z"
    },
    "papermill": {
     "duration": 0.020901,
     "end_time": "2023-06-26T08:22:10.858090",
     "exception": false,
     "start_time": "2023-06-26T08:22:10.837189",
     "status": "completed"
    },
    "tags": []
   },
   "outputs": [
    {
     "data": {
      "text/plain": [
       "Index(['id', 'Product ID', 'Type', 'Air temperature [K]',\n",
       "       'Process temperature [K]', 'Rotational speed [rpm]', 'Torque [Nm]',\n",
       "       'Tool wear [min]', 'Machine failure', 'TWF', 'HDF', 'PWF', 'OSF',\n",
       "       'RNF'],\n",
       "      dtype='object')"
      ]
     },
     "execution_count": 4,
     "metadata": {},
     "output_type": "execute_result"
    }
   ],
   "source": [
    "train_df.columns"
   ]
  },
  {
   "cell_type": "markdown",
   "id": "9422b1b7",
   "metadata": {
    "papermill": {
     "duration": 0.011552,
     "end_time": "2023-06-26T08:22:10.881014",
     "exception": false,
     "start_time": "2023-06-26T08:22:10.869462",
     "status": "completed"
    },
    "tags": []
   },
   "source": [
    "<div style=\"background-color:#F0E3D2; color:#19180F; font-size:15px; font-family:Verdana; padding:10px; border: 2px solid #19180F; border-radius:10px\"> \n",
    "📌\n",
    "Dropping irrelevant columns    </div>\n"
   ]
  },
  {
   "cell_type": "code",
   "execution_count": 5,
   "id": "b702ca18",
   "metadata": {
    "execution": {
     "iopub.execute_input": "2023-06-26T08:22:10.904908Z",
     "iopub.status.busy": "2023-06-26T08:22:10.904631Z",
     "iopub.status.idle": "2023-06-26T08:22:10.925321Z",
     "shell.execute_reply": "2023-06-26T08:22:10.924491Z"
    },
    "papermill": {
     "duration": 0.034863,
     "end_time": "2023-06-26T08:22:10.927273",
     "exception": false,
     "start_time": "2023-06-26T08:22:10.892410",
     "status": "completed"
    },
    "tags": []
   },
   "outputs": [],
   "source": [
    "train_df.drop(['id', 'Product ID'], axis=1, inplace=True)\n",
    "test_df.drop(['id', 'Product ID'], axis=1, inplace=True)"
   ]
  },
  {
   "cell_type": "markdown",
   "id": "a2053005",
   "metadata": {
    "papermill": {
     "duration": 0.01106,
     "end_time": "2023-06-26T08:22:10.949527",
     "exception": false,
     "start_time": "2023-06-26T08:22:10.938467",
     "status": "completed"
    },
    "tags": []
   },
   "source": [
    "<div style=\"background-color:#F0E3D2; color:#19180F; font-size:15px; font-family:Verdana; padding:10px; border: 2px solid #19180F; border-radius:10px\"> \n",
    "📌\n",
    "Inspecting the dataframe    </div>\n"
   ]
  },
  {
   "cell_type": "code",
   "execution_count": 6,
   "id": "9591fa8d",
   "metadata": {
    "execution": {
     "iopub.execute_input": "2023-06-26T08:22:10.973425Z",
     "iopub.status.busy": "2023-06-26T08:22:10.972668Z",
     "iopub.status.idle": "2023-06-26T08:22:10.995486Z",
     "shell.execute_reply": "2023-06-26T08:22:10.994622Z"
    },
    "papermill": {
     "duration": 0.036678,
     "end_time": "2023-06-26T08:22:10.997450",
     "exception": false,
     "start_time": "2023-06-26T08:22:10.960772",
     "status": "completed"
    },
    "tags": []
   },
   "outputs": [
    {
     "data": {
      "text/html": [
       "<div>\n",
       "<style scoped>\n",
       "    .dataframe tbody tr th:only-of-type {\n",
       "        vertical-align: middle;\n",
       "    }\n",
       "\n",
       "    .dataframe tbody tr th {\n",
       "        vertical-align: top;\n",
       "    }\n",
       "\n",
       "    .dataframe thead th {\n",
       "        text-align: right;\n",
       "    }\n",
       "</style>\n",
       "<table border=\"1\" class=\"dataframe\">\n",
       "  <thead>\n",
       "    <tr style=\"text-align: right;\">\n",
       "      <th></th>\n",
       "      <th>Type</th>\n",
       "      <th>Air temperature [K]</th>\n",
       "      <th>Process temperature [K]</th>\n",
       "      <th>Rotational speed [rpm]</th>\n",
       "      <th>Torque [Nm]</th>\n",
       "      <th>Tool wear [min]</th>\n",
       "      <th>Machine failure</th>\n",
       "      <th>TWF</th>\n",
       "      <th>HDF</th>\n",
       "      <th>PWF</th>\n",
       "      <th>OSF</th>\n",
       "      <th>RNF</th>\n",
       "    </tr>\n",
       "  </thead>\n",
       "  <tbody>\n",
       "    <tr>\n",
       "      <th>0</th>\n",
       "      <td>L</td>\n",
       "      <td>300.6</td>\n",
       "      <td>309.6</td>\n",
       "      <td>1596</td>\n",
       "      <td>36.1</td>\n",
       "      <td>140</td>\n",
       "      <td>0</td>\n",
       "      <td>0</td>\n",
       "      <td>0</td>\n",
       "      <td>0</td>\n",
       "      <td>0</td>\n",
       "      <td>0</td>\n",
       "    </tr>\n",
       "    <tr>\n",
       "      <th>1</th>\n",
       "      <td>M</td>\n",
       "      <td>302.6</td>\n",
       "      <td>312.1</td>\n",
       "      <td>1759</td>\n",
       "      <td>29.1</td>\n",
       "      <td>200</td>\n",
       "      <td>0</td>\n",
       "      <td>0</td>\n",
       "      <td>0</td>\n",
       "      <td>0</td>\n",
       "      <td>0</td>\n",
       "      <td>0</td>\n",
       "    </tr>\n",
       "    <tr>\n",
       "      <th>2</th>\n",
       "      <td>L</td>\n",
       "      <td>299.3</td>\n",
       "      <td>308.5</td>\n",
       "      <td>1805</td>\n",
       "      <td>26.5</td>\n",
       "      <td>25</td>\n",
       "      <td>0</td>\n",
       "      <td>0</td>\n",
       "      <td>0</td>\n",
       "      <td>0</td>\n",
       "      <td>0</td>\n",
       "      <td>0</td>\n",
       "    </tr>\n",
       "    <tr>\n",
       "      <th>3</th>\n",
       "      <td>L</td>\n",
       "      <td>301.0</td>\n",
       "      <td>310.9</td>\n",
       "      <td>1524</td>\n",
       "      <td>44.3</td>\n",
       "      <td>197</td>\n",
       "      <td>0</td>\n",
       "      <td>0</td>\n",
       "      <td>0</td>\n",
       "      <td>0</td>\n",
       "      <td>0</td>\n",
       "      <td>0</td>\n",
       "    </tr>\n",
       "    <tr>\n",
       "      <th>4</th>\n",
       "      <td>M</td>\n",
       "      <td>298.0</td>\n",
       "      <td>309.0</td>\n",
       "      <td>1641</td>\n",
       "      <td>35.4</td>\n",
       "      <td>34</td>\n",
       "      <td>0</td>\n",
       "      <td>0</td>\n",
       "      <td>0</td>\n",
       "      <td>0</td>\n",
       "      <td>0</td>\n",
       "      <td>0</td>\n",
       "    </tr>\n",
       "    <tr>\n",
       "      <th>...</th>\n",
       "      <td>...</td>\n",
       "      <td>...</td>\n",
       "      <td>...</td>\n",
       "      <td>...</td>\n",
       "      <td>...</td>\n",
       "      <td>...</td>\n",
       "      <td>...</td>\n",
       "      <td>...</td>\n",
       "      <td>...</td>\n",
       "      <td>...</td>\n",
       "      <td>...</td>\n",
       "      <td>...</td>\n",
       "    </tr>\n",
       "    <tr>\n",
       "      <th>136424</th>\n",
       "      <td>M</td>\n",
       "      <td>300.1</td>\n",
       "      <td>311.4</td>\n",
       "      <td>1530</td>\n",
       "      <td>37.5</td>\n",
       "      <td>210</td>\n",
       "      <td>0</td>\n",
       "      <td>0</td>\n",
       "      <td>0</td>\n",
       "      <td>0</td>\n",
       "      <td>0</td>\n",
       "      <td>0</td>\n",
       "    </tr>\n",
       "    <tr>\n",
       "      <th>136425</th>\n",
       "      <td>H</td>\n",
       "      <td>297.5</td>\n",
       "      <td>308.5</td>\n",
       "      <td>1447</td>\n",
       "      <td>49.1</td>\n",
       "      <td>2</td>\n",
       "      <td>0</td>\n",
       "      <td>0</td>\n",
       "      <td>0</td>\n",
       "      <td>0</td>\n",
       "      <td>0</td>\n",
       "      <td>0</td>\n",
       "    </tr>\n",
       "    <tr>\n",
       "      <th>136426</th>\n",
       "      <td>L</td>\n",
       "      <td>300.5</td>\n",
       "      <td>311.8</td>\n",
       "      <td>1524</td>\n",
       "      <td>38.5</td>\n",
       "      <td>214</td>\n",
       "      <td>0</td>\n",
       "      <td>0</td>\n",
       "      <td>0</td>\n",
       "      <td>0</td>\n",
       "      <td>0</td>\n",
       "      <td>0</td>\n",
       "    </tr>\n",
       "    <tr>\n",
       "      <th>136427</th>\n",
       "      <td>L</td>\n",
       "      <td>301.7</td>\n",
       "      <td>310.9</td>\n",
       "      <td>1447</td>\n",
       "      <td>46.3</td>\n",
       "      <td>42</td>\n",
       "      <td>0</td>\n",
       "      <td>0</td>\n",
       "      <td>0</td>\n",
       "      <td>0</td>\n",
       "      <td>0</td>\n",
       "      <td>0</td>\n",
       "    </tr>\n",
       "    <tr>\n",
       "      <th>136428</th>\n",
       "      <td>L</td>\n",
       "      <td>296.9</td>\n",
       "      <td>308.1</td>\n",
       "      <td>1557</td>\n",
       "      <td>39.3</td>\n",
       "      <td>229</td>\n",
       "      <td>0</td>\n",
       "      <td>0</td>\n",
       "      <td>0</td>\n",
       "      <td>0</td>\n",
       "      <td>0</td>\n",
       "      <td>0</td>\n",
       "    </tr>\n",
       "  </tbody>\n",
       "</table>\n",
       "<p>136429 rows × 12 columns</p>\n",
       "</div>"
      ],
      "text/plain": [
       "       Type  Air temperature [K]  Process temperature [K]  \\\n",
       "0         L                300.6                    309.6   \n",
       "1         M                302.6                    312.1   \n",
       "2         L                299.3                    308.5   \n",
       "3         L                301.0                    310.9   \n",
       "4         M                298.0                    309.0   \n",
       "...     ...                  ...                      ...   \n",
       "136424    M                300.1                    311.4   \n",
       "136425    H                297.5                    308.5   \n",
       "136426    L                300.5                    311.8   \n",
       "136427    L                301.7                    310.9   \n",
       "136428    L                296.9                    308.1   \n",
       "\n",
       "        Rotational speed [rpm]  Torque [Nm]  Tool wear [min]  Machine failure  \\\n",
       "0                         1596         36.1              140                0   \n",
       "1                         1759         29.1              200                0   \n",
       "2                         1805         26.5               25                0   \n",
       "3                         1524         44.3              197                0   \n",
       "4                         1641         35.4               34                0   \n",
       "...                        ...          ...              ...              ...   \n",
       "136424                    1530         37.5              210                0   \n",
       "136425                    1447         49.1                2                0   \n",
       "136426                    1524         38.5              214                0   \n",
       "136427                    1447         46.3               42                0   \n",
       "136428                    1557         39.3              229                0   \n",
       "\n",
       "        TWF  HDF  PWF  OSF  RNF  \n",
       "0         0    0    0    0    0  \n",
       "1         0    0    0    0    0  \n",
       "2         0    0    0    0    0  \n",
       "3         0    0    0    0    0  \n",
       "4         0    0    0    0    0  \n",
       "...     ...  ...  ...  ...  ...  \n",
       "136424    0    0    0    0    0  \n",
       "136425    0    0    0    0    0  \n",
       "136426    0    0    0    0    0  \n",
       "136427    0    0    0    0    0  \n",
       "136428    0    0    0    0    0  \n",
       "\n",
       "[136429 rows x 12 columns]"
      ]
     },
     "execution_count": 6,
     "metadata": {},
     "output_type": "execute_result"
    }
   ],
   "source": [
    "train_df"
   ]
  },
  {
   "cell_type": "markdown",
   "id": "41a1c094",
   "metadata": {
    "papermill": {
     "duration": 0.011325,
     "end_time": "2023-06-26T08:22:11.020871",
     "exception": false,
     "start_time": "2023-06-26T08:22:11.009546",
     "status": "completed"
    },
    "tags": []
   },
   "source": [
    "<div style=\"background-color:#F0E3D2; color:#19180F; font-size:15px; font-family:Verdana; padding:10px; border: 2px solid #19180F; border-radius:10px\"> \n",
    "📌\n",
    "Creating new features as temperature difference and speed torque    </div>\n"
   ]
  },
  {
   "cell_type": "code",
   "execution_count": 7,
   "id": "2b73c636",
   "metadata": {
    "execution": {
     "iopub.execute_input": "2023-06-26T08:22:11.046366Z",
     "iopub.status.busy": "2023-06-26T08:22:11.045628Z",
     "iopub.status.idle": "2023-06-26T08:22:11.053505Z",
     "shell.execute_reply": "2023-06-26T08:22:11.052634Z"
    },
    "papermill": {
     "duration": 0.022813,
     "end_time": "2023-06-26T08:22:11.055582",
     "exception": false,
     "start_time": "2023-06-26T08:22:11.032769",
     "status": "completed"
    },
    "tags": []
   },
   "outputs": [],
   "source": [
    "train_df['Temperature Difference'] = train_df['Process temperature [K]'] - train_df['Air temperature [K]']\n",
    "test_df['Temperature Difference'] = test_df['Process temperature [K]'] - test_df['Air temperature [K]']"
   ]
  },
  {
   "cell_type": "code",
   "execution_count": 8,
   "id": "759f6e36",
   "metadata": {
    "execution": {
     "iopub.execute_input": "2023-06-26T08:22:11.080603Z",
     "iopub.status.busy": "2023-06-26T08:22:11.079829Z",
     "iopub.status.idle": "2023-06-26T08:22:11.088212Z",
     "shell.execute_reply": "2023-06-26T08:22:11.087194Z"
    },
    "papermill": {
     "duration": 0.023659,
     "end_time": "2023-06-26T08:22:11.091194",
     "exception": false,
     "start_time": "2023-06-26T08:22:11.067535",
     "status": "completed"
    },
    "tags": []
   },
   "outputs": [],
   "source": [
    "train_df['Speed_Torque'] = train_df['Rotational speed [rpm]'] * train_df['Torque [Nm]']\n",
    "test_df['Speed_Torque'] = test_df['Rotational speed [rpm]'] * test_df['Torque [Nm]']"
   ]
  },
  {
   "cell_type": "markdown",
   "id": "424a4dfb",
   "metadata": {
    "papermill": {
     "duration": 0.014504,
     "end_time": "2023-06-26T08:22:11.124810",
     "exception": false,
     "start_time": "2023-06-26T08:22:11.110306",
     "status": "completed"
    },
    "tags": []
   },
   "source": [
    "<div style=\"background-color:#F0E3D2; color:#19180F; font-size:15px; font-family:Verdana; padding:10px; border: 2px solid #19180F; border-radius:10px\"> \n",
    "📌\n",
    "Generating target and input features    </div>\n"
   ]
  },
  {
   "cell_type": "code",
   "execution_count": 9,
   "id": "c27a0548",
   "metadata": {
    "execution": {
     "iopub.execute_input": "2023-06-26T08:22:11.166570Z",
     "iopub.status.busy": "2023-06-26T08:22:11.166152Z",
     "iopub.status.idle": "2023-06-26T08:22:11.186138Z",
     "shell.execute_reply": "2023-06-26T08:22:11.183658Z"
    },
    "papermill": {
     "duration": 0.050655,
     "end_time": "2023-06-26T08:22:11.197040",
     "exception": false,
     "start_time": "2023-06-26T08:22:11.146385",
     "status": "completed"
    },
    "tags": []
   },
   "outputs": [],
   "source": [
    "X = train_df.drop(['Machine failure'], axis=1)\n",
    "y = train_df['Machine failure']"
   ]
  },
  {
   "cell_type": "markdown",
   "id": "56cb191e",
   "metadata": {
    "papermill": {
     "duration": 0.017456,
     "end_time": "2023-06-26T08:22:11.233678",
     "exception": false,
     "start_time": "2023-06-26T08:22:11.216222",
     "status": "completed"
    },
    "tags": []
   },
   "source": [
    "<div style=\"background-color:#F0E3D2; color:#19180F; font-size:15px; font-family:Verdana; padding:10px; border: 2px solid #19180F; border-radius:10px\"> \n",
    "📌\n",
    "Creating train and val sets    </div>\n"
   ]
  },
  {
   "cell_type": "code",
   "execution_count": 10,
   "id": "b6194d9f",
   "metadata": {
    "execution": {
     "iopub.execute_input": "2023-06-26T08:22:11.269601Z",
     "iopub.status.busy": "2023-06-26T08:22:11.269085Z",
     "iopub.status.idle": "2023-06-26T08:22:11.317263Z",
     "shell.execute_reply": "2023-06-26T08:22:11.315732Z"
    },
    "papermill": {
     "duration": 0.070605,
     "end_time": "2023-06-26T08:22:11.321612",
     "exception": false,
     "start_time": "2023-06-26T08:22:11.251007",
     "status": "completed"
    },
    "tags": []
   },
   "outputs": [],
   "source": [
    "X_train, X_val, y_train, y_val = train_test_split(X, y, test_size=0.2, random_state=42)\n"
   ]
  },
  {
   "cell_type": "markdown",
   "id": "e2ecd614",
   "metadata": {
    "papermill": {
     "duration": 0.016143,
     "end_time": "2023-06-26T08:22:11.356036",
     "exception": false,
     "start_time": "2023-06-26T08:22:11.339893",
     "status": "completed"
    },
    "tags": []
   },
   "source": [
    "<div style=\"background-color:#F0E3D2; color:#19180F; font-size:15px; font-family:Verdana; padding:10px; border: 2px solid #19180F; border-radius:10px\"> \n",
    "📌\n",
    "Creating model dict listing out the models to be fitted    </div>\n"
   ]
  },
  {
   "cell_type": "code",
   "execution_count": 11,
   "id": "d1568e35",
   "metadata": {
    "execution": {
     "iopub.execute_input": "2023-06-26T08:22:11.389397Z",
     "iopub.status.busy": "2023-06-26T08:22:11.388890Z",
     "iopub.status.idle": "2023-06-26T08:22:11.395501Z",
     "shell.execute_reply": "2023-06-26T08:22:11.393174Z"
    },
    "papermill": {
     "duration": 0.026384,
     "end_time": "2023-06-26T08:22:11.398416",
     "exception": false,
     "start_time": "2023-06-26T08:22:11.372032",
     "status": "completed"
    },
    "tags": []
   },
   "outputs": [],
   "source": [
    "model_dict = {\n",
    "    'Gradient Boosting': GradientBoostingClassifier(),\n",
    "    'LGBM': LGBMClassifier(),\n",
    "}\n"
   ]
  },
  {
   "cell_type": "markdown",
   "id": "9b0996d9",
   "metadata": {
    "papermill": {
     "duration": 0.015645,
     "end_time": "2023-06-26T08:22:11.430365",
     "exception": false,
     "start_time": "2023-06-26T08:22:11.414720",
     "status": "completed"
    },
    "tags": []
   },
   "source": [
    "<div style=\"background-color:#F0E3D2; color:#19180F; font-size:15px; font-family:Verdana; padding:10px; border: 2px solid #19180F; border-radius:10px\"> \n",
    "📌\n",
    "Listing out the numerical and categorical features    </div>\n"
   ]
  },
  {
   "cell_type": "code",
   "execution_count": 12,
   "id": "46d554d6",
   "metadata": {
    "execution": {
     "iopub.execute_input": "2023-06-26T08:22:11.464433Z",
     "iopub.status.busy": "2023-06-26T08:22:11.463959Z",
     "iopub.status.idle": "2023-06-26T08:22:11.469121Z",
     "shell.execute_reply": "2023-06-26T08:22:11.468366Z"
    },
    "papermill": {
     "duration": 0.026736,
     "end_time": "2023-06-26T08:22:11.473121",
     "exception": false,
     "start_time": "2023-06-26T08:22:11.446385",
     "status": "completed"
    },
    "tags": []
   },
   "outputs": [],
   "source": [
    "numerical_features = ['Air temperature [K]', 'Process temperature [K]', 'Rotational speed [rpm]', 'Torque [Nm]', 'Tool wear [min]', 'Temperature Difference', 'Speed_Torque']\n",
    "categorical_features = ['TWF', 'HDF', 'PWF', 'OSF', 'RNF', 'Type']"
   ]
  },
  {
   "cell_type": "markdown",
   "id": "af4fd751",
   "metadata": {
    "papermill": {
     "duration": 0.032362,
     "end_time": "2023-06-26T08:22:11.521478",
     "exception": false,
     "start_time": "2023-06-26T08:22:11.489116",
     "status": "completed"
    },
    "tags": []
   },
   "source": [
    "<div style=\"background-color:#F0E3D2; color:#19180F; font-size:15px; font-family:Verdana; padding:10px; border: 2px solid #19180F; border-radius:10px\"> \n",
    "📌\n",
    "Creating a column transformer to apply different preprocessing steps to numerical and categorical features    </div>\n"
   ]
  },
  {
   "cell_type": "code",
   "execution_count": 13,
   "id": "c15eaa8d",
   "metadata": {
    "execution": {
     "iopub.execute_input": "2023-06-26T08:22:11.558174Z",
     "iopub.status.busy": "2023-06-26T08:22:11.557661Z",
     "iopub.status.idle": "2023-06-26T08:22:11.562979Z",
     "shell.execute_reply": "2023-06-26T08:22:11.562186Z"
    },
    "papermill": {
     "duration": 0.027244,
     "end_time": "2023-06-26T08:22:11.567032",
     "exception": false,
     "start_time": "2023-06-26T08:22:11.539788",
     "status": "completed"
    },
    "tags": []
   },
   "outputs": [],
   "source": [
    "preprocessor = ColumnTransformer(\n",
    "    transformers=[\n",
    "        ('num', StandardScaler(), numerical_features),\n",
    "        ('cat', OneHotEncoder(), categorical_features)\n",
    "    ])\n"
   ]
  },
  {
   "cell_type": "markdown",
   "id": "985721b1",
   "metadata": {
    "papermill": {
     "duration": 0.019244,
     "end_time": "2023-06-26T08:22:11.602258",
     "exception": false,
     "start_time": "2023-06-26T08:22:11.583014",
     "status": "completed"
    },
    "tags": []
   },
   "source": [
    "<div style=\"background-color:#F0E3D2; color:#19180F; font-size:15px; font-family:Verdana; padding:10px; border: 2px solid #19180F; border-radius:10px\"> \n",
    "📌\n",
    "Replacing problematic characters in feature names    </div>\n"
   ]
  },
  {
   "cell_type": "code",
   "execution_count": 14,
   "id": "6c65b5d6",
   "metadata": {
    "execution": {
     "iopub.execute_input": "2023-06-26T08:22:11.636852Z",
     "iopub.status.busy": "2023-06-26T08:22:11.636380Z",
     "iopub.status.idle": "2023-06-26T08:22:11.641978Z",
     "shell.execute_reply": "2023-06-26T08:22:11.641182Z"
    },
    "papermill": {
     "duration": 0.027496,
     "end_time": "2023-06-26T08:22:11.645965",
     "exception": false,
     "start_time": "2023-06-26T08:22:11.618469",
     "status": "completed"
    },
    "tags": []
   },
   "outputs": [],
   "source": [
    "def clean_feature_names(feature_names):\n",
    "    clean_names = []\n",
    "    for name in feature_names:\n",
    "        name = re.sub(r'[\\[\\]<>]', '_', name)\n",
    "        clean_names.append(name)\n",
    "    return clean_names\n"
   ]
  },
  {
   "cell_type": "code",
   "execution_count": 15,
   "id": "cee72861",
   "metadata": {
    "execution": {
     "iopub.execute_input": "2023-06-26T08:22:11.682147Z",
     "iopub.status.busy": "2023-06-26T08:22:11.681711Z",
     "iopub.status.idle": "2023-06-26T08:22:11.687415Z",
     "shell.execute_reply": "2023-06-26T08:22:11.686638Z"
    },
    "papermill": {
     "duration": 0.026627,
     "end_time": "2023-06-26T08:22:11.691324",
     "exception": false,
     "start_time": "2023-06-26T08:22:11.664697",
     "status": "completed"
    },
    "tags": []
   },
   "outputs": [],
   "source": [
    "feature_names = ['Air temperature [K]', 'Process temperature [K]', 'Rotational speed [rpm]', 'Torque [Nm]', 'Tool wear [min]', 'Machine failure', 'TWF', 'HDF', 'PWF', 'OSF', 'RNF', 'Type_H', 'Type_L', 'Type_M', 'Temperature Difference', 'Speed_Torque']\n",
    "cleaned_feature_names = clean_feature_names(feature_names)"
   ]
  },
  {
   "cell_type": "markdown",
   "id": "4ac2ab9f",
   "metadata": {
    "papermill": {
     "duration": 0.018866,
     "end_time": "2023-06-26T08:22:11.728186",
     "exception": false,
     "start_time": "2023-06-26T08:22:11.709320",
     "status": "completed"
    },
    "tags": []
   },
   "source": [
    "<div style=\"background-color:#F0E3D2; color:#19180F; font-size:15px; font-family:Verdana; padding:10px; border: 2px solid #19180F; border-radius:10px\"> \n",
    "📌\n",
    "Fitting the model over K folds    </div>\n"
   ]
  },
  {
   "cell_type": "code",
   "execution_count": 16,
   "id": "818865c7",
   "metadata": {
    "execution": {
     "iopub.execute_input": "2023-06-26T08:22:11.769279Z",
     "iopub.status.busy": "2023-06-26T08:22:11.768751Z",
     "iopub.status.idle": "2023-06-26T08:24:54.292332Z",
     "shell.execute_reply": "2023-06-26T08:24:54.291391Z"
    },
    "papermill": {
     "duration": 162.549496,
     "end_time": "2023-06-26T08:24:54.294420",
     "exception": false,
     "start_time": "2023-06-26T08:22:11.744924",
     "status": "completed"
    },
    "tags": []
   },
   "outputs": [
    {
     "name": "stdout",
     "output_type": "stream",
     "text": [
      "Running Gradient Boosting...\n",
      "Fold: 1\n",
      "Fold 1 Accuracy: 0.9969766376546038\n",
      "Fold: 2\n",
      "Fold 2 Accuracy: 0.9958772331653688\n",
      "Fold: 3\n",
      "Fold 3 Accuracy: 0.997159871736143\n",
      "Fold: 4\n",
      "Fold 4 Accuracy: 0.9952354773685175\n",
      "Fold: 5\n",
      "Fold 5 Accuracy: 0.9962433571559465\n",
      "Fold: 6\n",
      "Fold 6 Accuracy: 0.9960601062855049\n",
      "Fold: 7\n",
      "Fold 7 Accuracy: 0.9962433571559465\n",
      "Fold: 8\n",
      "Fold 8 Accuracy: 0.9953271028037384\n",
      "Fold: 9\n",
      "Fold 9 Accuracy: 0.9961517317207257\n",
      "Fold: 10\n",
      "Fold 10 Accuracy: 0.994960601062855\n",
      "Mean CV score: 0.96229197651998\n",
      "Running LGBM...\n",
      "Fold: 1\n",
      "Fold 1 Accuracy: 0.996701786532295\n",
      "Fold: 2\n",
      "Fold 2 Accuracy: 0.9955107650022904\n",
      "Fold: 3\n",
      "Fold 3 Accuracy: 0.9972514887769125\n",
      "Fold: 4\n",
      "Fold 4 Accuracy: 0.9953271028037384\n",
      "Fold: 5\n",
      "Fold 5 Accuracy: 0.9964266080263882\n",
      "Fold: 6\n",
      "Fold 6 Accuracy: 0.9956019791094007\n",
      "Fold: 7\n",
      "Fold 7 Accuracy: 0.9962433571559465\n",
      "Fold: 8\n",
      "Fold 8 Accuracy: 0.9950522264980759\n",
      "Fold: 9\n",
      "Fold 9 Accuracy: 0.9963349825911673\n",
      "Fold: 10\n",
      "Fold 10 Accuracy: 0.994502473886751\n",
      "Mean CV score: 0.9628094632915554\n"
     ]
    }
   ],
   "source": [
    "# Define the number of folds for k-fold cross-validation\n",
    "n_folds = 10\n",
    "\n",
    "# Initialize the k-fold cross-validator\n",
    "kf = KFold(n_splits=n_folds, shuffle=True, random_state=42)\n",
    "\n",
    "# Initialize a list to store the cross-validation scores\n",
    "cv_scores = []\n",
    "\n",
    "# Create a list to store the model names and their corresponding ROC AUC scores\n",
    "model_names = []\n",
    "roc_auc_scores = []\n",
    "\n",
    "# Initialize the best model and its score\n",
    "best_model = None\n",
    "best_model_score = 0.0\n",
    "\n",
    "# Loop over the models\n",
    "for model_name, model in model_dict.items():\n",
    "    print(f'Running {model_name}...')\n",
    "\n",
    "    # Reset the mean CV score for each model\n",
    "    mean_cv_score = 0.0\n",
    "\n",
    "    # Loop over the folds\n",
    "    for fold, (train_index, val_index) in enumerate(kf.split(X_train)):\n",
    "\n",
    "        print(f'Fold: {fold+1}')\n",
    "\n",
    "        # Split the data into training and validation sets for this fold\n",
    "        X_train_fold = X_train.iloc[train_index]\n",
    "        X_val_fold = X_train.iloc[val_index]\n",
    "        y_train_fold = y_train.iloc[train_index]\n",
    "        y_val_fold = y_train.iloc[val_index]\n",
    "\n",
    "        # Clean the feature names\n",
    "        cleaned_feature_names = clean_feature_names(X_train_fold.columns)\n",
    "\n",
    "        if model_name != 'LGBM':\n",
    "            # Set the cleaned feature names for the model\n",
    "            model.feature_names = [str(name) for name in cleaned_feature_names]\n",
    "\n",
    "        # Apply preprocessing to the training data for this fold\n",
    "        X_train_fold = preprocessor.fit_transform(X_train_fold)\n",
    "        X_val_fold = preprocessor.transform(X_val_fold)\n",
    "\n",
    "        # Fit the model on the training data for this fold\n",
    "        model.fit(X_train_fold, y_train_fold)\n",
    "\n",
    "        # Evaluate the model on the validation data for this fold\n",
    "        y_pred_val = model.predict_proba(X_val_fold)[:, 1]\n",
    "        roc_auc = roc_auc_score(y_val_fold, y_pred_val)\n",
    "        cv_scores.append(roc_auc)\n",
    "\n",
    "        # Print the accuracy for this fold\n",
    "        accuracy = model.score(X_val_fold, y_val_fold)\n",
    "        print(f'Fold {fold+1} Accuracy:', accuracy)\n",
    "\n",
    "    # Calculate the mean cross-validation score for the model\n",
    "    mean_cv_score = np.mean(cv_scores)\n",
    "    print('Mean CV score:', mean_cv_score)\n",
    "    \n",
    "    # Append the model name and ROC AUC score to the lists\n",
    "    model_names.append(model_name)\n",
    "    roc_auc_scores.append(mean_cv_score)\n",
    "\n",
    "    # Check if this model has the best score\n",
    "    if mean_cv_score > best_model_score:\n",
    "        best_model_score = mean_cv_score\n",
    "        best_model = model"
   ]
  },
  {
   "cell_type": "markdown",
   "id": "185b07cf",
   "metadata": {
    "papermill": {
     "duration": 0.012911,
     "end_time": "2023-06-26T08:24:54.321892",
     "exception": false,
     "start_time": "2023-06-26T08:24:54.308981",
     "status": "completed"
    },
    "tags": []
   },
   "source": [
    "<div style=\"background-color:#F0E3D2; color:#19180F; font-size:15px; font-family:Verdana; padding:10px; border: 2px solid #19180F; border-radius:10px\"> \n",
    "📌\n",
    "Plotting the ROC AUC scores using a bar plot    </div>\n"
   ]
  },
  {
   "cell_type": "code",
   "execution_count": 17,
   "id": "3277951a",
   "metadata": {
    "execution": {
     "iopub.execute_input": "2023-06-26T08:24:54.349797Z",
     "iopub.status.busy": "2023-06-26T08:24:54.349498Z",
     "iopub.status.idle": "2023-06-26T08:24:54.611535Z",
     "shell.execute_reply": "2023-06-26T08:24:54.610654Z"
    },
    "papermill": {
     "duration": 0.278268,
     "end_time": "2023-06-26T08:24:54.613473",
     "exception": false,
     "start_time": "2023-06-26T08:24:54.335205",
     "status": "completed"
    },
    "tags": []
   },
   "outputs": [
    {
     "data": {
      "image/png": "[encoded data removed]",
      "text/plain": [
       "<Figure size 1000x600 with 1 Axes>"
      ]
     },
     "metadata": {},
     "output_type": "display_data"
    }
   ],
   "source": [
    "plt.figure(figsize=(10, 6))\n",
    "plt.bar(model_names, roc_auc_scores)\n",
    "plt.xlabel('Model')\n",
    "plt.ylabel('ROC AUC Score')\n",
    "plt.title('ROC AUC Score for Each Model')\n",
    "\n",
    "# Display the ROC AUC scores over each bar\n",
    "for i in range(len(model_names)):\n",
    "    plt.text(i, roc_auc_scores[i], f'{roc_auc_scores[i]:.4f}', ha='center', va='bottom')\n",
    "plt.xticks(rotation=45)  # Rotate x-axis labels by 45 degrees\n",
    "\n",
    "plt.show()"
   ]
  },
  {
   "cell_type": "markdown",
   "id": "6b6c2c71",
   "metadata": {
    "papermill": {
     "duration": 0.01336,
     "end_time": "2023-06-26T08:24:54.640707",
     "exception": false,
     "start_time": "2023-06-26T08:24:54.627347",
     "status": "completed"
    },
    "tags": []
   },
   "source": [
    "<div style=\"background-color:#F0E3D2; color:#19180F; font-size:15px; font-family:Verdana; padding:10px; border: 2px solid #19180F; border-radius:10px\"> \n",
    "📌\n",
    "Printing out the best model to be tuned    </div>\n"
   ]
  },
  {
   "cell_type": "code",
   "execution_count": 18,
   "id": "48623657",
   "metadata": {
    "execution": {
     "iopub.execute_input": "2023-06-26T08:24:54.670486Z",
     "iopub.status.busy": "2023-06-26T08:24:54.668996Z",
     "iopub.status.idle": "2023-06-26T08:24:54.679834Z",
     "shell.execute_reply": "2023-06-26T08:24:54.678497Z"
    },
    "papermill": {
     "duration": 0.027641,
     "end_time": "2023-06-26T08:24:54.681820",
     "exception": false,
     "start_time": "2023-06-26T08:24:54.654179",
     "status": "completed"
    },
    "tags": []
   },
   "outputs": [
    {
     "name": "stdout",
     "output_type": "stream",
     "text": [
      "Best model is  LGBMClassifier()\n"
     ]
    }
   ],
   "source": [
    "print(\"Best model is \",best_model)"
   ]
  },
  {
   "cell_type": "markdown",
   "id": "fe319d42",
   "metadata": {
    "papermill": {
     "duration": 0.013544,
     "end_time": "2023-06-26T08:24:54.709149",
     "exception": false,
     "start_time": "2023-06-26T08:24:54.695605",
     "status": "completed"
    },
    "tags": []
   },
   "source": [
    "<div style=\"background-color:#F0E3D2; color:#19180F; font-size:15px; font-family:Verdana; padding:10px; border: 2px solid #19180F; border-radius:10px\"> \n",
    "📌\n",
    "Listing out the param grid which was shortlisted from prior experiments    </div>\n"
   ]
  },
  {
   "cell_type": "code",
   "execution_count": 19,
   "id": "284c7a04",
   "metadata": {
    "execution": {
     "iopub.execute_input": "2023-06-26T08:24:54.738857Z",
     "iopub.status.busy": "2023-06-26T08:24:54.737366Z",
     "iopub.status.idle": "2023-06-26T08:24:54.743744Z",
     "shell.execute_reply": "2023-06-26T08:24:54.742901Z"
    },
    "papermill": {
     "duration": 0.022976,
     "end_time": "2023-06-26T08:24:54.745665",
     "exception": false,
     "start_time": "2023-06-26T08:24:54.722689",
     "status": "completed"
    },
    "tags": []
   },
   "outputs": [],
   "source": [
    "# Define the parameter grid for hyperparameter tuning # calculated here : https://www.kaggle.com/code/suraj520/pss3-e17-case-study-recommendations-prediction?scriptVersionId=133511269&cellId=52\n",
    "param_grid = {\n",
    "    'num_leaves': [15],\n",
    "    'max_depth': [3],\n",
    "    'learning_rate': [0.1],\n",
    "    'n_estimators': [100],\n",
    "    'reg_alpha': [0.5],\n",
    "    'reg_lambda': [0.0]\n",
    "}"
   ]
  },
  {
   "cell_type": "markdown",
   "id": "af48e50c",
   "metadata": {
    "papermill": {
     "duration": 0.01392,
     "end_time": "2023-06-26T08:24:54.773587",
     "exception": false,
     "start_time": "2023-06-26T08:24:54.759667",
     "status": "completed"
    },
    "tags": []
   },
   "source": [
    "<div style=\"background-color:#F0E3D2; color:#19180F; font-size:15px; font-family:Verdana; padding:10px; border: 2px solid #19180F; border-radius:10px\"> \n",
    "📌\n",
    "Tuning the model over K folds    </div>\n"
   ]
  },
  {
   "cell_type": "code",
   "execution_count": 20,
   "id": "eb009f64",
   "metadata": {
    "execution": {
     "iopub.execute_input": "2023-06-26T08:24:54.802072Z",
     "iopub.status.busy": "2023-06-26T08:24:54.801806Z",
     "iopub.status.idle": "2023-06-26T08:25:02.186438Z",
     "shell.execute_reply": "2023-06-26T08:25:02.185579Z"
    },
    "papermill": {
     "duration": 7.401313,
     "end_time": "2023-06-26T08:25:02.188536",
     "exception": false,
     "start_time": "2023-06-26T08:24:54.787223",
     "status": "completed"
    },
    "tags": []
   },
   "outputs": [
    {
     "name": "stdout",
     "output_type": "stream",
     "text": [
      "Best Hyperparameters: {'learning_rate': 0.1, 'max_depth': 3, 'n_estimators': 100, 'num_leaves': 15, 'reg_alpha': 0.5, 'reg_lambda': 0.0}\n",
      "Best Score: 0.965436015680447\n"
     ]
    }
   ],
   "source": [
    "#preprocessing the train set using preprocessor\n",
    "preprocessor.fit(X_train)\n",
    "\n",
    "X_train_preprocessed = preprocessor.transform(X_train)\n",
    "\n",
    "# Initialize the LGBMClassifier\n",
    "lgbm = LGBMClassifier()\n",
    "\n",
    "# Initialize the GridSearchCV\n",
    "grid_search = GridSearchCV(lgbm, param_grid, cv=10, scoring='roc_auc')\n",
    "\n",
    "# Fit the GridSearchCV on the training data\n",
    "grid_search.fit(X_train_preprocessed, y_train)\n",
    "\n",
    "# Get the best estimator and its corresponding score\n",
    "best_model = grid_search.best_estimator_\n",
    "best_score = grid_search.best_score_\n",
    "\n",
    "# Print the best hyperparameters and the corresponding score\n",
    "print('Best Hyperparameters:', grid_search.best_params_)\n",
    "print('Best Score:', best_score)"
   ]
  },
  {
   "cell_type": "markdown",
   "id": "6ceac5da",
   "metadata": {
    "papermill": {
     "duration": 0.014533,
     "end_time": "2023-06-26T08:25:02.218223",
     "exception": false,
     "start_time": "2023-06-26T08:25:02.203690",
     "status": "completed"
    },
    "tags": []
   },
   "source": [
    "<div style=\"background-color:#F0E3D2; color:#19180F; font-size:15px; font-family:Verdana; padding:10px; border: 2px solid #19180F; border-radius:10px\"> \n",
    "📌\n",
    "Defining preprocessor for test set    </div>\n"
   ]
  },
  {
   "cell_type": "code",
   "execution_count": 21,
   "id": "df4bfe34",
   "metadata": {
    "execution": {
     "iopub.execute_input": "2023-06-26T08:25:02.248131Z",
     "iopub.status.busy": "2023-06-26T08:25:02.247823Z",
     "iopub.status.idle": "2023-06-26T08:25:02.254109Z",
     "shell.execute_reply": "2023-06-26T08:25:02.252973Z"
    },
    "papermill": {
     "duration": 0.023833,
     "end_time": "2023-06-26T08:25:02.256426",
     "exception": false,
     "start_time": "2023-06-26T08:25:02.232593",
     "status": "completed"
    },
    "tags": []
   },
   "outputs": [],
   "source": [
    "numerical_features = ['Air temperature [K]', 'Process temperature [K]', 'Rotational speed [rpm]', 'Torque [Nm]', 'Tool wear [min]', 'Temperature Difference', 'Speed_Torque']\n",
    "categorical_features = ['TWF', 'HDF', 'PWF', 'OSF', 'RNF', 'Type']\n",
    "preprocessor = ColumnTransformer(\n",
    "    transformers=[\n",
    "        ('num', StandardScaler(), numerical_features),\n",
    "        ('cat', OneHotEncoder(), categorical_features)\n",
    "    ])"
   ]
  },
  {
   "cell_type": "markdown",
   "id": "f633d12c",
   "metadata": {
    "papermill": {
     "duration": 0.013562,
     "end_time": "2023-06-26T08:25:02.283815",
     "exception": false,
     "start_time": "2023-06-26T08:25:02.270253",
     "status": "completed"
    },
    "tags": []
   },
   "source": [
    "<div style=\"background-color:#F0E3D2; color:#19180F; font-size:15px; font-family:Verdana; padding:10px; border: 2px solid #19180F; border-radius:10px\"> \n",
    "📌\n",
    "Passing the test set through preprocessor    </div>\n"
   ]
  },
  {
   "cell_type": "code",
   "execution_count": 22,
   "id": "2278675a",
   "metadata": {
    "execution": {
     "iopub.execute_input": "2023-06-26T08:25:02.312714Z",
     "iopub.status.busy": "2023-06-26T08:25:02.312449Z",
     "iopub.status.idle": "2023-06-26T08:25:02.450282Z",
     "shell.execute_reply": "2023-06-26T08:25:02.449276Z"
    },
    "papermill": {
     "duration": 0.158647,
     "end_time": "2023-06-26T08:25:02.456326",
     "exception": false,
     "start_time": "2023-06-26T08:25:02.297679",
     "status": "completed"
    },
    "tags": []
   },
   "outputs": [],
   "source": [
    "X_test = preprocessor.fit_transform(test_df)\n",
    "X_test = preprocessor.transform(test_df)"
   ]
  },
  {
   "cell_type": "markdown",
   "id": "4a27f830",
   "metadata": {
    "papermill": {
     "duration": 0.014269,
     "end_time": "2023-06-26T08:25:02.485382",
     "exception": false,
     "start_time": "2023-06-26T08:25:02.471113",
     "status": "completed"
    },
    "tags": []
   },
   "source": [
    "<div style=\"background-color:#F0E3D2; color:#19180F; font-size:15px; font-family:Verdana; padding:10px; border: 2px solid #19180F; border-radius:10px\"> \n",
    "📌\n",
    "Making predictions using best model    </div>\n"
   ]
  },
  {
   "cell_type": "code",
   "execution_count": 23,
   "id": "0d26bedf",
   "metadata": {
    "execution": {
     "iopub.execute_input": "2023-06-26T08:25:02.515974Z",
     "iopub.status.busy": "2023-06-26T08:25:02.515656Z",
     "iopub.status.idle": "2023-06-26T08:25:02.707293Z",
     "shell.execute_reply": "2023-06-26T08:25:02.706553Z"
    },
    "papermill": {
     "duration": 0.209257,
     "end_time": "2023-06-26T08:25:02.709458",
     "exception": false,
     "start_time": "2023-06-26T08:25:02.500201",
     "status": "completed"
    },
    "tags": []
   },
   "outputs": [],
   "source": [
    "predictions = best_model.predict_proba(X_test)[:, 1]"
   ]
  },
  {
   "cell_type": "markdown",
   "id": "bbd66ebe",
   "metadata": {
    "papermill": {
     "duration": 0.013947,
     "end_time": "2023-06-26T08:25:02.739092",
     "exception": false,
     "start_time": "2023-06-26T08:25:02.725145",
     "status": "completed"
    },
    "tags": []
   },
   "source": [
    "<div style=\"background-color:#F0E3D2; color:#19180F; font-size:15px; font-family:Verdana; padding:10px; border: 2px solid #19180F; border-radius:10px\"> \n",
    "📌\n",
    "Generating submission    </div>\n"
   ]
  },
  {
   "cell_type": "code",
   "execution_count": 24,
   "id": "447c9559",
   "metadata": {
    "execution": {
     "iopub.execute_input": "2023-06-26T08:25:02.771501Z",
     "iopub.status.busy": "2023-06-26T08:25:02.771147Z",
     "iopub.status.idle": "2023-06-26T08:25:02.876106Z",
     "shell.execute_reply": "2023-06-26T08:25:02.875095Z"
    },
    "papermill": {
     "duration": 0.124058,
     "end_time": "2023-06-26T08:25:02.878662",
     "exception": false,
     "start_time": "2023-06-26T08:25:02.754604",
     "status": "completed"
    },
    "tags": []
   },
   "outputs": [],
   "source": [
    "test_data = pd.read_csv('/kaggle/input/playground-series-s3e17/test.csv')\n",
    "submission_data = pd.DataFrame({\n",
    "    'id': test_data['id'],\n",
    "    'Machine failure': predictions\n",
    "})"
   ]
  },
  {
   "cell_type": "code",
   "execution_count": 25,
   "id": "eb5cc475",
   "metadata": {
    "execution": {
     "iopub.execute_input": "2023-06-26T08:25:02.908905Z",
     "iopub.status.busy": "2023-06-26T08:25:02.908608Z",
     "iopub.status.idle": "2023-06-26T08:25:03.244468Z",
     "shell.execute_reply": "2023-06-26T08:25:03.243445Z"
    },
    "papermill": {
     "duration": 0.353778,
     "end_time": "2023-06-26T08:25:03.247112",
     "exception": false,
     "start_time": "2023-06-26T08:25:02.893334",
     "status": "completed"
    },
    "tags": []
   },
   "outputs": [],
   "source": [
    "#generating submission\n",
    "submission_data.to_csv('submission.csv', index=False)"
   ]
  },
  {
   "cell_type": "code",
   "execution_count": 26,
   "id": "2fe25294",
   "metadata": {
    "execution": {
     "iopub.execute_input": "2023-06-26T08:25:03.278281Z",
     "iopub.status.busy": "2023-06-26T08:25:03.277957Z",
     "iopub.status.idle": "2023-06-26T08:25:03.292018Z",
     "shell.execute_reply": "2023-06-26T08:25:03.290958Z"
    },
    "papermill": {
     "duration": 0.031991,
     "end_time": "2023-06-26T08:25:03.294332",
     "exception": false,
     "start_time": "2023-06-26T08:25:03.262341",
     "status": "completed"
    },
    "tags": []
   },
   "outputs": [
    {
     "data": {
      "text/html": [
       "<div>\n",
       "<style scoped>\n",
       "    .dataframe tbody tr th:only-of-type {\n",
       "        vertical-align: middle;\n",
       "    }\n",
       "\n",
       "    .dataframe tbody tr th {\n",
       "        vertical-align: top;\n",
       "    }\n",
       "\n",
       "    .dataframe thead th {\n",
       "        text-align: right;\n",
       "    }\n",
       "</style>\n",
       "<table border=\"1\" class=\"dataframe\">\n",
       "  <thead>\n",
       "    <tr style=\"text-align: right;\">\n",
       "      <th></th>\n",
       "      <th>id</th>\n",
       "      <th>Machine failure</th>\n",
       "    </tr>\n",
       "  </thead>\n",
       "  <tbody>\n",
       "    <tr>\n",
       "      <th>0</th>\n",
       "      <td>136429</td>\n",
       "      <td>0.001492</td>\n",
       "    </tr>\n",
       "    <tr>\n",
       "      <th>1</th>\n",
       "      <td>136430</td>\n",
       "      <td>0.002546</td>\n",
       "    </tr>\n",
       "    <tr>\n",
       "      <th>2</th>\n",
       "      <td>136431</td>\n",
       "      <td>0.001049</td>\n",
       "    </tr>\n",
       "    <tr>\n",
       "      <th>3</th>\n",
       "      <td>136432</td>\n",
       "      <td>0.001511</td>\n",
       "    </tr>\n",
       "    <tr>\n",
       "      <th>4</th>\n",
       "      <td>136433</td>\n",
       "      <td>0.001134</td>\n",
       "    </tr>\n",
       "    <tr>\n",
       "      <th>...</th>\n",
       "      <td>...</td>\n",
       "      <td>...</td>\n",
       "    </tr>\n",
       "    <tr>\n",
       "      <th>90949</th>\n",
       "      <td>227378</td>\n",
       "      <td>0.001441</td>\n",
       "    </tr>\n",
       "    <tr>\n",
       "      <th>90950</th>\n",
       "      <td>227379</td>\n",
       "      <td>0.000456</td>\n",
       "    </tr>\n",
       "    <tr>\n",
       "      <th>90951</th>\n",
       "      <td>227380</td>\n",
       "      <td>0.001065</td>\n",
       "    </tr>\n",
       "    <tr>\n",
       "      <th>90952</th>\n",
       "      <td>227381</td>\n",
       "      <td>0.000762</td>\n",
       "    </tr>\n",
       "    <tr>\n",
       "      <th>90953</th>\n",
       "      <td>227382</td>\n",
       "      <td>0.001571</td>\n",
       "    </tr>\n",
       "  </tbody>\n",
       "</table>\n",
       "<p>90954 rows × 2 columns</p>\n",
       "</div>"
      ],
      "text/plain": [
       "           id  Machine failure\n",
       "0      136429         0.001492\n",
       "1      136430         0.002546\n",
       "2      136431         0.001049\n",
       "3      136432         0.001511\n",
       "4      136433         0.001134\n",
       "...       ...              ...\n",
       "90949  227378         0.001441\n",
       "90950  227379         0.000456\n",
       "90951  227380         0.001065\n",
       "90952  227381         0.000762\n",
       "90953  227382         0.001571\n",
       "\n",
       "[90954 rows x 2 columns]"
      ]
     },
     "execution_count": 26,
     "metadata": {},
     "output_type": "execute_result"
    }
   ],
   "source": [
    "submission_data"
   ]
  },
  {
   "cell_type": "code",
   "execution_count": null,
   "id": "31d31906",
   "metadata": {
    "papermill": {
     "duration": 0.01455,
     "end_time": "2023-06-26T08:25:03.324824",
     "exception": false,
     "start_time": "2023-06-26T08:25:03.310274",
     "status": "completed"
    },
    "tags": []
   },
   "outputs": [],
   "source": []
  },
  {
   "cell_type": "code",
   "execution_count": null,
   "id": "75c500fe",
   "metadata": {
    "papermill": {
     "duration": 0.014655,
     "end_time": "2023-06-26T08:25:03.354684",
     "exception": false,
     "start_time": "2023-06-26T08:25:03.340029",
     "status": "completed"
    },
    "tags": []
   },
   "outputs": [],
   "source": []
  }
 ],
 "metadata": {
  "kernelspec": {
   "display_name": "Python 3",
   "language": "python",
   "name": "python3"
  },
  "language_info": {
   "codemirror_mode": {
    "name": "ipython",
    "version": 3
   },
   "file_extension": ".py",
   "mimetype": "text/x-python",
   "name": "python",
   "nbconvert_exporter": "python",
   "pygments_lexer": "ipython3",
   "version": "3.10.10"
  },
  "papermill": {
   "default_parameters": {},
   "duration": 189.918277,
   "end_time": "2023-06-26T08:25:04.590439",
   "environment_variables": {},
   "exception": null,
   "input_path": "__notebook__.ipynb",
   "output_path": "__notebook__.ipynb",
   "parameters": {},
   "start_time": "2023-06-26T08:21:54.672162",
   "version": "2.4.0"
  }
 },
 "nbformat": 4,
 "nbformat_minor": 5
}
