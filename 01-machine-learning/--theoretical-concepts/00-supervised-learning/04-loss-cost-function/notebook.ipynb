{
 "cells": [
  {
   "attachments": {},
   "cell_type": "markdown",
   "metadata": {},
   "source": [
    "#### About\n",
    "\n",
    "> Loss and Cost Function\n",
    "\n",
    "In supervised learning, loss and cost functions are used to quantify the error or discrepancy between predicted output and actual output (or target) values. The goal is to minimize the loss or cost function during the training process to obtain an optimal model.\n",
    "\n",
    "The loss function (also known as the objective function, error function, or criterion) measures the error between the predicted output and the actual output (target) for a single data point. \n",
    "\n",
    "The cost function (also known as the objective function or loss function) is the average or sum of the loss function values over all the data points in the training dataset.\n",
    "\n",
    "Different loss and cost functions may be more appropriate for different types of problems and data distributions, and choosing the right loss or cost function is an important step in designing an effective supervised learning model.\n",
    "\n"
   ]
  },
  {
   "cell_type": "code",
   "execution_count": 3,
   "metadata": {},
   "outputs": [],
   "source": [
    "import numpy as np\n",
    "import matplotlib.pyplot as plt\n"
   ]
  },
  {
   "cell_type": "code",
   "execution_count": 2,
   "metadata": {},
   "outputs": [],
   "source": [
    "np.random.seed(0)\n",
    "X = np.random.rand(100, 1)\n",
    "y = 2 + 3 * X + np.random.randn(100, 1)"
   ]
  },
  {
   "cell_type": "code",
   "execution_count": 4,
   "metadata": {},
   "outputs": [],
   "source": [
    "# Define the linear regression model with loss function\n",
    "\n",
    "class LinearRegressionModel:\n",
    "    def __init__(self,learning_rate=0.01, n_iterations=1000):\n",
    "        self.learning_rate = learning_rate\n",
    "        self.n_iterations = n_iterations\n",
    "    \n",
    "    def fit(self,X,y):\n",
    "        n_samples, n_features = X.shape\n",
    "        self.weights = np.zeros((n_features,1))\n",
    "        self.bias=0\n",
    "        self.losses=[]\n",
    "\n",
    "        # iterate\n",
    "        for i in range(self.n_iterations):\n",
    "            # predict\n",
    "            y_pred = np.dot(X,self.weights)+ self.bias\n",
    "\n",
    "            #calculate mean squared loss\n",
    "            mse = np.mean((y_pred-y)**2)\n",
    "            self.losses.append(mse)\n",
    "\n",
    "            # update weights and bias using gradient descent\n",
    "\n",
    "            dw = (1/n_samples) * np.dot(X.T,(y_pred-y))\n",
    "            db = (1/n_samples) * np.sum(y_pred - y)\n",
    "            self.weights -= self.learning_rate * dw\n",
    "            self.bias -= self.learning_rate * db\n",
    "\n",
    "    def predict(self,X):\n",
    "        return np.dot(X,self.weights) + self.bias\n",
    "    \n",
    "\n",
    "# Instantiate the model\n",
    "\n",
    "lr_model = LinearRegressionModel()"
   ]
  },
  {
   "cell_type": "code",
   "execution_count": 5,
   "metadata": {},
   "outputs": [],
   "source": [
    "#Train the model\n",
    "lr_model.fit(X,y)"
   ]
  },
  {
   "cell_type": "code",
   "execution_count": 6,
   "metadata": {},
   "outputs": [],
   "source": [
    "# Make predictions\n",
    "y_pred = lr_model.predict(X)\n"
   ]
  },
  {
   "cell_type": "code",
   "execution_count": 7,
   "metadata": {},
   "outputs": [
    {
     "name": "stdout",
     "output_type": "stream",
     "text": [
      "Mean Squared error-1.0381770233814138\n"
     ]
    }
   ],
   "source": [
    "#calculate mean squared error\n",
    "mse = np.mean((y_pred-y)**2)\n",
    "print(\"Mean Squared error-{}\".format(mse))"
   ]
  },
  {
   "cell_type": "code",
   "execution_count": 8,
   "metadata": {},
   "outputs": [
    {
     "data": {
      "image/png": "[encoded data removed]",
      "text/plain": [
       "<Figure size 640x480 with 1 Axes>"
      ]
     },
     "metadata": {},
     "output_type": "display_data"
    }
   ],
   "source": [
    "# plot the prediction and actual\n",
    "plt.scatter(X,y)\n",
    "plt.plot(X,y_pred, color='red', linewidth=2)\n",
    "plt.xlabel('X')\n",
    "plt.ylabel('y')\n",
    "plt.title('Linear Regression')\n",
    "plt.show()"
   ]
  },
  {
   "cell_type": "code",
   "execution_count": null,
   "metadata": {},
   "outputs": [],
   "source": []
  }
 ],
 "metadata": {
  "kernelspec": {
   "display_name": "dl",
   "language": "python",
   "name": "python3"
  },
  "language_info": {
   "codemirror_mode": {
    "name": "ipython",
    "version": 3
   },
   "file_extension": ".py",
   "mimetype": "text/x-python",
   "name": "python",
   "nbconvert_exporter": "python",
   "pygments_lexer": "ipython3",
   "version": "3.9.16"
  },
  "orig_nbformat": 4
 },
 "nbformat": 4,
 "nbformat_minor": 2
}
