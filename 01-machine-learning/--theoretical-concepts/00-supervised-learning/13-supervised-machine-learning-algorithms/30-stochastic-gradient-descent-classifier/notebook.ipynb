{
 "cells": [
  {
   "attachments": {},
   "cell_type": "markdown",
   "metadata": {},
   "source": [
    "#### About\n",
    "\n",
    "> SGDs\n",
    "\n",
    "Stochastic Gradient Descent (SGD) is an optimization algorithm used in supervised machine learning to find the optimal parameters of a model by minimizing the loss function. It is called \"stochastic\" because it updates the parameters using a single training example at a time, rather than using the entire dataset as in batch gradient descent."
   ]
  },
  {
   "cell_type": "code",
   "execution_count": 1,
   "metadata": {},
   "outputs": [],
   "source": [
    "import numpy as np\n",
    "from sklearn.datasets import load_iris\n",
    "from sklearn.linear_model import SGDClassifier\n",
    "from sklearn.model_selection import train_test_split\n",
    "from sklearn.metrics import accuracy_score"
   ]
  },
  {
   "cell_type": "code",
   "execution_count": 2,
   "metadata": {},
   "outputs": [],
   "source": [
    "iris = load_iris()\n",
    "X = iris.data\n",
    "y = iris.target"
   ]
  },
  {
   "cell_type": "code",
   "execution_count": 3,
   "metadata": {},
   "outputs": [],
   "source": [
    "\n",
    "X_train, X_test, y_train, y_test = train_test_split(X, y, test_size=0.2, random_state=42)\n"
   ]
  },
  {
   "cell_type": "code",
   "execution_count": 4,
   "metadata": {},
   "outputs": [],
   "source": [
    "sgd_clf = SGDClassifier(loss='log', random_state=42)\n"
   ]
  },
  {
   "cell_type": "code",
   "execution_count": 5,
   "metadata": {},
   "outputs": [
    {
     "name": "stderr",
     "output_type": "stream",
     "text": [
      "/home/suraj/anaconda3/envs/dl/lib/python3.9/site-packages/sklearn/linear_model/_stochastic_gradient.py:163: FutureWarning: The loss 'log' was deprecated in v1.1 and will be removed in version 1.3. Use `loss='log_loss'` which is equivalent.\n",
      "  warnings.warn(\n"
     ]
    }
   ],
   "source": [
    "n_epochs = 100 # Number of epochs (iterations) for training\n",
    "batch_size = 32 # Size of the batch for each update\n",
    "n_batches = len(X_train) // batch_size # Number of batches\n",
    "for epoch in range(n_epochs):\n",
    "    shuffled_indices = np.random.permutation(len(X_train))\n",
    "    X_train_shuffled = X_train[shuffled_indices]\n",
    "    y_train_shuffled = y_train[shuffled_indices]\n",
    "    for batch_idx in range(n_batches):\n",
    "        X_batch = X_train_shuffled[batch_idx*batch_size:(batch_idx+1)*batch_size]\n",
    "        y_batch = y_train_shuffled[batch_idx*batch_size:(batch_idx+1)*batch_size]\n",
    "        sgd_clf.partial_fit(X_batch, y_batch, classes=np.unique(y_train))\n"
   ]
  },
  {
   "cell_type": "code",
   "execution_count": 6,
   "metadata": {},
   "outputs": [],
   "source": [
    "# Make predictions on the test set\n",
    "y_pred = sgd_clf.predict(X_test)\n"
   ]
  },
  {
   "cell_type": "code",
   "execution_count": 7,
   "metadata": {},
   "outputs": [
    {
     "name": "stdout",
     "output_type": "stream",
     "text": [
      "Accuracy: 0.6666666666666666\n"
     ]
    }
   ],
   "source": [
    "# Calculate accuracy\n",
    "accuracy = accuracy_score(y_test, y_pred)\n",
    "print(\"Accuracy:\", accuracy)"
   ]
  },
  {
   "attachments": {},
   "cell_type": "markdown",
   "metadata": {},
   "source": [
    "#### Usecases\n",
    "\n",
    "Use cases of SGD:\n",
    "\n",
    "1. Large datasets: SGD is often used in scenarios where the dataset is too large to fit in memory, as it updates the model parameters using a small batch of data at a time, making it memory-efficient.\n",
    "2. Online learning: SGD is commonly used in online learning scenarios where new data arrives continuously and the model needs to be updated in real-time.\n",
    "3. High-dimensional data: SGD is useful for high-dimensional datasets with a large number of features, as it can handle a large number of features efficiently.\n",
    "4. Real-time prediction: SGD is often used in scenarios where fast model updates are required, such as in real-time prediction applications like recommendation systems or fraud detection."
   ]
  },
  {
   "cell_type": "code",
   "execution_count": null,
   "metadata": {},
   "outputs": [],
   "source": []
  }
 ],
 "metadata": {
  "kernelspec": {
   "display_name": "dl",
   "language": "python",
   "name": "python3"
  },
  "language_info": {
   "codemirror_mode": {
    "name": "ipython",
    "version": 3
   },
   "file_extension": ".py",
   "mimetype": "text/x-python",
   "name": "python",
   "nbconvert_exporter": "python",
   "pygments_lexer": "ipython3",
   "version": "3.9.16"
  },
  "orig_nbformat": 4
 },
 "nbformat": 4,
 "nbformat_minor": 2
}
