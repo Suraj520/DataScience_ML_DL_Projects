{
 "cells": [
  {
   "attachments": {},
   "cell_type": "markdown",
   "metadata": {},
   "source": [
    "#### About\n",
    "\n",
    "> Model tuning\n",
    "\n",
    "Model tuning, also known as hyperparameter tuning or model optimization, refers to the process of optimizing the hyperparameters of a machine learning model to improve its performance. Hyperparameters are configuration settings that are not learned by the model during training, but are set by the user prior to training. Tuning these hyperparameters can have a significant impact on the performance of the model.\n",
    "\n"
   ]
  },
  {
   "cell_type": "code",
   "execution_count": null,
   "metadata": {},
   "outputs": [],
   "source": []
  }
 ],
 "metadata": {
  "language_info": {
   "name": "python"
  },
  "orig_nbformat": 4
 },
 "nbformat": 4,
 "nbformat_minor": 2
}
