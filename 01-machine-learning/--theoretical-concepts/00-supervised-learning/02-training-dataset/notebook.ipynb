{
 "cells": [
  {
   "attachments": {},
   "cell_type": "markdown",
   "metadata": {},
   "source": [
    "#### About \n",
    "\n",
    "> Training dataset\n",
    "\n",
    "In supervised domain of machine learning, a training dataset refers to a set of labeled examples that are used to train a machine learning model. The training dataset consists of input features and their corresponding output labels. \n",
    "\n",
    "The machine learning model learns from the training dataset by finding patterns and relationships between the input features and output labels, and uses this knowledge to make predictions or classifications on new, unseen data.\n",
    "\n"
   ]
  },
  {
   "cell_type": "code",
   "execution_count": 1,
   "metadata": {},
   "outputs": [],
   "source": [
    "import numpy as np\n",
    "import pandas as pd"
   ]
  },
  {
   "cell_type": "code",
   "execution_count": 2,
   "metadata": {},
   "outputs": [],
   "source": [
    "# Age, income, number of dependents\n",
    "X = np.array([[25, 50000, 4],\n",
    "              [35, 55000, 6],\n",
    "              [28, 47000, 3],\n",
    "              [45, 70000, 7],\n",
    "              [30, 60000, 5]])"
   ]
  },
  {
   "cell_type": "code",
   "execution_count": 3,
   "metadata": {},
   "outputs": [],
   "source": [
    "# output label - happinness index\n",
    "y = np.array(['Medium', 'High', 'Low', 'High', 'Medium'])\n",
    "\n"
   ]
  },
  {
   "cell_type": "code",
   "execution_count": 5,
   "metadata": {},
   "outputs": [
    {
     "name": "stdout",
     "output_type": "stream",
     "text": [
      "   Age  Income  #Dependents Happiness Index\n",
      "0   25   50000            4          Medium\n",
      "1   35   55000            6            High\n",
      "2   28   47000            3             Low\n",
      "3   45   70000            7            High\n",
      "4   30   60000            5          Medium\n"
     ]
    }
   ],
   "source": [
    "df = pd.DataFrame(X, columns=['Age', 'Income', '#Dependents'])\n",
    "df['Happiness Index'] = y\n",
    "print(df)"
   ]
  },
  {
   "cell_type": "code",
   "execution_count": null,
   "metadata": {},
   "outputs": [],
   "source": []
  }
 ],
 "metadata": {
  "kernelspec": {
   "display_name": "dl",
   "language": "python",
   "name": "python3"
  },
  "language_info": {
   "codemirror_mode": {
    "name": "ipython",
    "version": 3
   },
   "file_extension": ".py",
   "mimetype": "text/x-python",
   "name": "python",
   "nbconvert_exporter": "python",
   "pygments_lexer": "ipython3",
   "version": "3.9.16"
  },
  "orig_nbformat": 4
 },
 "nbformat": 4,
 "nbformat_minor": 2
}
