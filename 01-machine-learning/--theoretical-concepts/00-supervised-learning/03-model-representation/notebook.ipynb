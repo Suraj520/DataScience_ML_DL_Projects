{
 "cells": [
  {
   "attachments": {},
   "cell_type": "markdown",
   "metadata": {},
   "source": [
    "#### About\n",
    "\n",
    "> Model representation\n",
    "\n",
    "In supervised learning, model representation refers to the way a machine learning model is represented or defined using mathematical equations or algorithms that can make predictions or classifications based on input data. \n",
    "\n",
    "The model representation is a key component of a supervised learning algorithm as it defines how the model will learn from the training data and how it will be used for making predictions on new, unseen data.\n",
    "\n",
    "There are various types of model representations used in supervised learning which are as follows\n",
    "\n",
    "- Parametric models : These models have a fixed number of parameters that are learned from the training data. Once the parameters are learned, The model can make predictions without referencing the training data. Examples include Linear regression, Logistic regression and Support vector machines(SVMs)\n",
    "\n",
    "- Non Parametric models : These models don't have a fixed number of parameters and can adapt to the training data without explicit parameter esimation. Examples include K-Nearest Neighbours(KNN), Decision Trees and Random Forests.\n",
    "\n",
    "- Neural Networks - These models are a type of non parametric models that consist of multiple interconnected layers of neurons to learn complex patterns from data. Examples includes CNN, LSTM, RNN, MLPs.\n"
   ]
  },
  {
   "cell_type": "code",
   "execution_count": null,
   "metadata": {},
   "outputs": [],
   "source": []
  }
 ],
 "metadata": {
  "language_info": {
   "name": "python"
  },
  "orig_nbformat": 4
 },
 "nbformat": 4,
 "nbformat_minor": 2
}
