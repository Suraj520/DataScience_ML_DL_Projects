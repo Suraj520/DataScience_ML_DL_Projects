{
 "cells": [
  {
   "attachments": {},
   "cell_type": "markdown",
   "metadata": {},
   "source": [
    "#### About\n",
    "\n",
    "> Hyperparameter tuning\n",
    "\n",
    "Hyperparameter tuning in machine learning refers to the process of selecting the optimal values for the hyperparameters of a machine learning algorithm. Hyperparameters are parameters that are not learned during the training process, but rather set by the user prior to training. They control the behavior and performance of the machine learning model, and tuning them can significantly impact the model's performance.\n",
    "\n",
    "Hyperparameter tuning in machine learning refers to the process of selecting the optimal values for the hyperparameters of a machine learning algorithm. Hyperparameters are parameters that are not learned during the training process, but rather set by the user prior to training. They control the behavior and performance of the machine learning model, and tuning them can significantly impact the model's performance.\n",
    "\n",
    "Hyperparameter tuning is important because the performance of a machine learning model can be highly sensitive to the values of hyperparameters. Selecting the right hyperparameter values can result in better model performance, while poor hyperparameter choices can lead to suboptimal performance or even failure to converge during training.\n",
    "\n",
    "Types of HP Tuning\n",
    "\n",
    "1. Grid Search: This is a brute-force approach where all possible combinations of hyperparameter values are tried. Grid Search exhaustively searches through a predefined set of hyperparameter values and evaluates the model's performance for each combination. It can be computationally expensive, but it ensures that all possible combinations are explored.\n",
    "\n",
    "2. Random Search: This approach randomly samples hyperparameter values from predefined distributions. Random Search is less computationally expensive than Grid Search because it does not exhaustively search through all possible combinations. However, it may not be as thorough in exploring the hyperparameter space.\n",
    "\n",
    "3. Bayesian Optimization: This is a more advanced technique that models the relationship between hyperparameter values and model performance using probabilistic models. It uses this information to guide the search towards more promising regions of the hyperparameter space, which can lead to faster convergence to optimal values.\n",
    "\n",
    "4. Genetic Algorithms: This technique is inspired by the concept of natural selection and involves evolving a population of hyperparameter configurations over multiple generations. Genetic Algorithms explore the hyperparameter space by evolving and mutating hyperparameter values to find better solutions iteratively.\n",
    "\n",
    "5. Automated Hyperparameter Tuning: Some machine learning frameworks provide built-in tools for automated hyperparameter tuning, such as scikit-learn's GridSearchCV and RandomizedSearchCV, or TensorFlow's Keras Tuner. These tools automate the process of hyperparameter tuning, making it more efficient and less prone to human error.\n",
    "\n",
    "\n",
    "\n",
    "\n",
    "\n",
    "\n",
    "\n"
   ]
  },
  {
   "cell_type": "code",
   "execution_count": 2,
   "metadata": {},
   "outputs": [],
   "source": [
    "#1. Grid search\n",
    "from sklearn.datasets import load_iris\n",
    "from sklearn.model_selection import GridSearchCV\n",
    "from sklearn.svm import SVC"
   ]
  },
  {
   "cell_type": "code",
   "execution_count": 3,
   "metadata": {},
   "outputs": [],
   "source": [
    "iris = load_iris()\n"
   ]
  },
  {
   "cell_type": "code",
   "execution_count": 4,
   "metadata": {},
   "outputs": [],
   "source": [
    "param_grid = {'C': [0.1, 1, 10], 'kernel': ['linear', 'rbf']}\n"
   ]
  },
  {
   "cell_type": "code",
   "execution_count": 5,
   "metadata": {},
   "outputs": [],
   "source": [
    "svm = SVC()\n"
   ]
  },
  {
   "cell_type": "code",
   "execution_count": 6,
   "metadata": {},
   "outputs": [
    {
     "data": {
      "text/html": [
       "<style>#sk-container-id-1 {color: black;background-color: white;}#sk-container-id-1 pre{padding: 0;}#sk-container-id-1 div.sk-toggleable {background-color: white;}#sk-container-id-1 label.sk-toggleable__label {cursor: pointer;display: block;width: 100%;margin-bottom: 0;padding: 0.3em;box-sizing: border-box;text-align: center;}#sk-container-id-1 label.sk-toggleable__label-arrow:before {content: \"▸\";float: left;margin-right: 0.25em;color: #696969;}#sk-container-id-1 label.sk-toggleable__label-arrow:hover:before {color: black;}#sk-container-id-1 div.sk-estimator:hover label.sk-toggleable__label-arrow:before {color: black;}#sk-container-id-1 div.sk-toggleable__content {max-height: 0;max-width: 0;overflow: hidden;text-align: left;background-color: #f0f8ff;}#sk-container-id-1 div.sk-toggleable__content pre {margin: 0.2em;color: black;border-radius: 0.25em;background-color: #f0f8ff;}#sk-container-id-1 input.sk-toggleable__control:checked~div.sk-toggleable__content {max-height: 200px;max-width: 100%;overflow: auto;}#sk-container-id-1 input.sk-toggleable__control:checked~label.sk-toggleable__label-arrow:before {content: \"▾\";}#sk-container-id-1 div.sk-estimator input.sk-toggleable__control:checked~label.sk-toggleable__label {background-color: #d4ebff;}#sk-container-id-1 div.sk-label input.sk-toggleable__control:checked~label.sk-toggleable__label {background-color: #d4ebff;}#sk-container-id-1 input.sk-hidden--visually {border: 0;clip: rect(1px 1px 1px 1px);clip: rect(1px, 1px, 1px, 1px);height: 1px;margin: -1px;overflow: hidden;padding: 0;position: absolute;width: 1px;}#sk-container-id-1 div.sk-estimator {font-family: monospace;background-color: #f0f8ff;border: 1px dotted black;border-radius: 0.25em;box-sizing: border-box;margin-bottom: 0.5em;}#sk-container-id-1 div.sk-estimator:hover {background-color: #d4ebff;}#sk-container-id-1 div.sk-parallel-item::after {content: \"\";width: 100%;border-bottom: 1px solid gray;flex-grow: 1;}#sk-container-id-1 div.sk-label:hover label.sk-toggleable__label {background-color: #d4ebff;}#sk-container-id-1 div.sk-serial::before {content: \"\";position: absolute;border-left: 1px solid gray;box-sizing: border-box;top: 0;bottom: 0;left: 50%;z-index: 0;}#sk-container-id-1 div.sk-serial {display: flex;flex-direction: column;align-items: center;background-color: white;padding-right: 0.2em;padding-left: 0.2em;position: relative;}#sk-container-id-1 div.sk-item {position: relative;z-index: 1;}#sk-container-id-1 div.sk-parallel {display: flex;align-items: stretch;justify-content: center;background-color: white;position: relative;}#sk-container-id-1 div.sk-item::before, #sk-container-id-1 div.sk-parallel-item::before {content: \"\";position: absolute;border-left: 1px solid gray;box-sizing: border-box;top: 0;bottom: 0;left: 50%;z-index: -1;}#sk-container-id-1 div.sk-parallel-item {display: flex;flex-direction: column;z-index: 1;position: relative;background-color: white;}#sk-container-id-1 div.sk-parallel-item:first-child::after {align-self: flex-end;width: 50%;}#sk-container-id-1 div.sk-parallel-item:last-child::after {align-self: flex-start;width: 50%;}#sk-container-id-1 div.sk-parallel-item:only-child::after {width: 0;}#sk-container-id-1 div.sk-dashed-wrapped {border: 1px dashed gray;margin: 0 0.4em 0.5em 0.4em;box-sizing: border-box;padding-bottom: 0.4em;background-color: white;}#sk-container-id-1 div.sk-label label {font-family: monospace;font-weight: bold;display: inline-block;line-height: 1.2em;}#sk-container-id-1 div.sk-label-container {text-align: center;}#sk-container-id-1 div.sk-container {/* jupyter's `normalize.less` sets `[hidden] { display: none; }` but bootstrap.min.css set `[hidden] { display: none !important; }` so we also need the `!important` here to be able to override the default hidden behavior on the sphinx rendered scikit-learn.org. See: https://github.com/scikit-learn/scikit-learn/issues/21755 */display: inline-block !important;position: relative;}#sk-container-id-1 div.sk-text-repr-fallback {display: none;}</style><div id=\"sk-container-id-1\" class=\"sk-top-container\"><div class=\"sk-text-repr-fallback\"><pre>GridSearchCV(cv=5, estimator=SVC(),\n",
       "             param_grid={&#x27;C&#x27;: [0.1, 1, 10], &#x27;kernel&#x27;: [&#x27;linear&#x27;, &#x27;rbf&#x27;]})</pre><b>In a Jupyter environment, please rerun this cell to show the HTML representation or trust the notebook. <br />On GitHub, the HTML representation is unable to render, please try loading this page with nbviewer.org.</b></div><div class=\"sk-container\" hidden><div class=\"sk-item sk-dashed-wrapped\"><div class=\"sk-label-container\"><div class=\"sk-label sk-toggleable\"><input class=\"sk-toggleable__control sk-hidden--visually\" id=\"sk-estimator-id-1\" type=\"checkbox\" ><label for=\"sk-estimator-id-1\" class=\"sk-toggleable__label sk-toggleable__label-arrow\">GridSearchCV</label><div class=\"sk-toggleable__content\"><pre>GridSearchCV(cv=5, estimator=SVC(),\n",
       "             param_grid={&#x27;C&#x27;: [0.1, 1, 10], &#x27;kernel&#x27;: [&#x27;linear&#x27;, &#x27;rbf&#x27;]})</pre></div></div></div><div class=\"sk-parallel\"><div class=\"sk-parallel-item\"><div class=\"sk-item\"><div class=\"sk-label-container\"><div class=\"sk-label sk-toggleable\"><input class=\"sk-toggleable__control sk-hidden--visually\" id=\"sk-estimator-id-2\" type=\"checkbox\" ><label for=\"sk-estimator-id-2\" class=\"sk-toggleable__label sk-toggleable__label-arrow\">estimator: SVC</label><div class=\"sk-toggleable__content\"><pre>SVC()</pre></div></div></div><div class=\"sk-serial\"><div class=\"sk-item\"><div class=\"sk-estimator sk-toggleable\"><input class=\"sk-toggleable__control sk-hidden--visually\" id=\"sk-estimator-id-3\" type=\"checkbox\" ><label for=\"sk-estimator-id-3\" class=\"sk-toggleable__label sk-toggleable__label-arrow\">SVC</label><div class=\"sk-toggleable__content\"><pre>SVC()</pre></div></div></div></div></div></div></div></div></div></div>"
      ],
      "text/plain": [
       "GridSearchCV(cv=5, estimator=SVC(),\n",
       "             param_grid={'C': [0.1, 1, 10], 'kernel': ['linear', 'rbf']})"
      ]
     },
     "execution_count": 6,
     "metadata": {},
     "output_type": "execute_result"
    }
   ],
   "source": [
    "grid_search = GridSearchCV(svm, param_grid, cv=5)\n",
    "grid_search.fit(iris.data, iris.target)"
   ]
  },
  {
   "cell_type": "code",
   "execution_count": 7,
   "metadata": {},
   "outputs": [
    {
     "name": "stdout",
     "output_type": "stream",
     "text": [
      "Best Hyperparameters: {'C': 1, 'kernel': 'linear'}\n",
      "Best Score: 0.9800000000000001\n"
     ]
    }
   ],
   "source": [
    "# Best hyperparameters and corresponding model performance\n",
    "best_params = grid_search.best_params_\n",
    "best_score = grid_search.best_score_\n",
    "print(\"Best Hyperparameters:\", best_params)\n",
    "print(\"Best Score:\", best_score)"
   ]
  },
  {
   "cell_type": "code",
   "execution_count": 8,
   "metadata": {},
   "outputs": [],
   "source": [
    "#2 . Random search\n",
    "from sklearn.model_selection import RandomizedSearchCV\n",
    "import numpy as np\n"
   ]
  },
  {
   "cell_type": "code",
   "execution_count": 9,
   "metadata": {},
   "outputs": [],
   "source": [
    "param_dist = {'C': np.logspace(-3, 3, 7), 'kernel': ['linear', 'rbf']}\n"
   ]
  },
  {
   "cell_type": "code",
   "execution_count": 10,
   "metadata": {},
   "outputs": [
    {
     "data": {
      "text/html": [
       "<style>#sk-container-id-2 {color: black;background-color: white;}#sk-container-id-2 pre{padding: 0;}#sk-container-id-2 div.sk-toggleable {background-color: white;}#sk-container-id-2 label.sk-toggleable__label {cursor: pointer;display: block;width: 100%;margin-bottom: 0;padding: 0.3em;box-sizing: border-box;text-align: center;}#sk-container-id-2 label.sk-toggleable__label-arrow:before {content: \"▸\";float: left;margin-right: 0.25em;color: #696969;}#sk-container-id-2 label.sk-toggleable__label-arrow:hover:before {color: black;}#sk-container-id-2 div.sk-estimator:hover label.sk-toggleable__label-arrow:before {color: black;}#sk-container-id-2 div.sk-toggleable__content {max-height: 0;max-width: 0;overflow: hidden;text-align: left;background-color: #f0f8ff;}#sk-container-id-2 div.sk-toggleable__content pre {margin: 0.2em;color: black;border-radius: 0.25em;background-color: #f0f8ff;}#sk-container-id-2 input.sk-toggleable__control:checked~div.sk-toggleable__content {max-height: 200px;max-width: 100%;overflow: auto;}#sk-container-id-2 input.sk-toggleable__control:checked~label.sk-toggleable__label-arrow:before {content: \"▾\";}#sk-container-id-2 div.sk-estimator input.sk-toggleable__control:checked~label.sk-toggleable__label {background-color: #d4ebff;}#sk-container-id-2 div.sk-label input.sk-toggleable__control:checked~label.sk-toggleable__label {background-color: #d4ebff;}#sk-container-id-2 input.sk-hidden--visually {border: 0;clip: rect(1px 1px 1px 1px);clip: rect(1px, 1px, 1px, 1px);height: 1px;margin: -1px;overflow: hidden;padding: 0;position: absolute;width: 1px;}#sk-container-id-2 div.sk-estimator {font-family: monospace;background-color: #f0f8ff;border: 1px dotted black;border-radius: 0.25em;box-sizing: border-box;margin-bottom: 0.5em;}#sk-container-id-2 div.sk-estimator:hover {background-color: #d4ebff;}#sk-container-id-2 div.sk-parallel-item::after {content: \"\";width: 100%;border-bottom: 1px solid gray;flex-grow: 1;}#sk-container-id-2 div.sk-label:hover label.sk-toggleable__label {background-color: #d4ebff;}#sk-container-id-2 div.sk-serial::before {content: \"\";position: absolute;border-left: 1px solid gray;box-sizing: border-box;top: 0;bottom: 0;left: 50%;z-index: 0;}#sk-container-id-2 div.sk-serial {display: flex;flex-direction: column;align-items: center;background-color: white;padding-right: 0.2em;padding-left: 0.2em;position: relative;}#sk-container-id-2 div.sk-item {position: relative;z-index: 1;}#sk-container-id-2 div.sk-parallel {display: flex;align-items: stretch;justify-content: center;background-color: white;position: relative;}#sk-container-id-2 div.sk-item::before, #sk-container-id-2 div.sk-parallel-item::before {content: \"\";position: absolute;border-left: 1px solid gray;box-sizing: border-box;top: 0;bottom: 0;left: 50%;z-index: -1;}#sk-container-id-2 div.sk-parallel-item {display: flex;flex-direction: column;z-index: 1;position: relative;background-color: white;}#sk-container-id-2 div.sk-parallel-item:first-child::after {align-self: flex-end;width: 50%;}#sk-container-id-2 div.sk-parallel-item:last-child::after {align-self: flex-start;width: 50%;}#sk-container-id-2 div.sk-parallel-item:only-child::after {width: 0;}#sk-container-id-2 div.sk-dashed-wrapped {border: 1px dashed gray;margin: 0 0.4em 0.5em 0.4em;box-sizing: border-box;padding-bottom: 0.4em;background-color: white;}#sk-container-id-2 div.sk-label label {font-family: monospace;font-weight: bold;display: inline-block;line-height: 1.2em;}#sk-container-id-2 div.sk-label-container {text-align: center;}#sk-container-id-2 div.sk-container {/* jupyter's `normalize.less` sets `[hidden] { display: none; }` but bootstrap.min.css set `[hidden] { display: none !important; }` so we also need the `!important` here to be able to override the default hidden behavior on the sphinx rendered scikit-learn.org. See: https://github.com/scikit-learn/scikit-learn/issues/21755 */display: inline-block !important;position: relative;}#sk-container-id-2 div.sk-text-repr-fallback {display: none;}</style><div id=\"sk-container-id-2\" class=\"sk-top-container\"><div class=\"sk-text-repr-fallback\"><pre>RandomizedSearchCV(cv=5, estimator=SVC(),\n",
       "                   param_distributions={&#x27;C&#x27;: array([1.e-03, 1.e-02, 1.e-01, 1.e+00, 1.e+01, 1.e+02, 1.e+03]),\n",
       "                                        &#x27;kernel&#x27;: [&#x27;linear&#x27;, &#x27;rbf&#x27;]})</pre><b>In a Jupyter environment, please rerun this cell to show the HTML representation or trust the notebook. <br />On GitHub, the HTML representation is unable to render, please try loading this page with nbviewer.org.</b></div><div class=\"sk-container\" hidden><div class=\"sk-item sk-dashed-wrapped\"><div class=\"sk-label-container\"><div class=\"sk-label sk-toggleable\"><input class=\"sk-toggleable__control sk-hidden--visually\" id=\"sk-estimator-id-4\" type=\"checkbox\" ><label for=\"sk-estimator-id-4\" class=\"sk-toggleable__label sk-toggleable__label-arrow\">RandomizedSearchCV</label><div class=\"sk-toggleable__content\"><pre>RandomizedSearchCV(cv=5, estimator=SVC(),\n",
       "                   param_distributions={&#x27;C&#x27;: array([1.e-03, 1.e-02, 1.e-01, 1.e+00, 1.e+01, 1.e+02, 1.e+03]),\n",
       "                                        &#x27;kernel&#x27;: [&#x27;linear&#x27;, &#x27;rbf&#x27;]})</pre></div></div></div><div class=\"sk-parallel\"><div class=\"sk-parallel-item\"><div class=\"sk-item\"><div class=\"sk-label-container\"><div class=\"sk-label sk-toggleable\"><input class=\"sk-toggleable__control sk-hidden--visually\" id=\"sk-estimator-id-5\" type=\"checkbox\" ><label for=\"sk-estimator-id-5\" class=\"sk-toggleable__label sk-toggleable__label-arrow\">estimator: SVC</label><div class=\"sk-toggleable__content\"><pre>SVC()</pre></div></div></div><div class=\"sk-serial\"><div class=\"sk-item\"><div class=\"sk-estimator sk-toggleable\"><input class=\"sk-toggleable__control sk-hidden--visually\" id=\"sk-estimator-id-6\" type=\"checkbox\" ><label for=\"sk-estimator-id-6\" class=\"sk-toggleable__label sk-toggleable__label-arrow\">SVC</label><div class=\"sk-toggleable__content\"><pre>SVC()</pre></div></div></div></div></div></div></div></div></div></div>"
      ],
      "text/plain": [
       "RandomizedSearchCV(cv=5, estimator=SVC(),\n",
       "                   param_distributions={'C': array([1.e-03, 1.e-02, 1.e-01, 1.e+00, 1.e+01, 1.e+02, 1.e+03]),\n",
       "                                        'kernel': ['linear', 'rbf']})"
      ]
     },
     "execution_count": 10,
     "metadata": {},
     "output_type": "execute_result"
    }
   ],
   "source": [
    "# Perform Random Search\n",
    "random_search = RandomizedSearchCV(svm, param_distributions=param_dist, n_iter=10, cv=5)\n",
    "random_search.fit(iris.data, iris.target)"
   ]
  },
  {
   "cell_type": "code",
   "execution_count": 11,
   "metadata": {},
   "outputs": [
    {
     "name": "stdout",
     "output_type": "stream",
     "text": [
      "Best Hyperparameters: {'kernel': 'linear', 'C': 1.0}\n",
      "Best Score: 0.9800000000000001\n"
     ]
    }
   ],
   "source": [
    "\n",
    "best_params = random_search.best_params_\n",
    "best_score = random_search.best_score_\n",
    "print(\"Best Hyperparameters:\", best_params)\n",
    "print(\"Best Score:\", best_score)"
   ]
  },
  {
   "cell_type": "code",
   "execution_count": 15,
   "metadata": {},
   "outputs": [],
   "source": [
    "#3. Bayesian optimization\n",
    "\n",
    "from skopt import BayesSearchCV\n",
    "param_space = {'C': (0.1, 10.0), 'kernel': ['linear', 'rbf']}\n",
    "\n"
   ]
  },
  {
   "cell_type": "code",
   "execution_count": 16,
   "metadata": {},
   "outputs": [
    {
     "data": {
      "text/html": [
       "<style>#sk-container-id-3 {color: black;background-color: white;}#sk-container-id-3 pre{padding: 0;}#sk-container-id-3 div.sk-toggleable {background-color: white;}#sk-container-id-3 label.sk-toggleable__label {cursor: pointer;display: block;width: 100%;margin-bottom: 0;padding: 0.3em;box-sizing: border-box;text-align: center;}#sk-container-id-3 label.sk-toggleable__label-arrow:before {content: \"▸\";float: left;margin-right: 0.25em;color: #696969;}#sk-container-id-3 label.sk-toggleable__label-arrow:hover:before {color: black;}#sk-container-id-3 div.sk-estimator:hover label.sk-toggleable__label-arrow:before {color: black;}#sk-container-id-3 div.sk-toggleable__content {max-height: 0;max-width: 0;overflow: hidden;text-align: left;background-color: #f0f8ff;}#sk-container-id-3 div.sk-toggleable__content pre {margin: 0.2em;color: black;border-radius: 0.25em;background-color: #f0f8ff;}#sk-container-id-3 input.sk-toggleable__control:checked~div.sk-toggleable__content {max-height: 200px;max-width: 100%;overflow: auto;}#sk-container-id-3 input.sk-toggleable__control:checked~label.sk-toggleable__label-arrow:before {content: \"▾\";}#sk-container-id-3 div.sk-estimator input.sk-toggleable__control:checked~label.sk-toggleable__label {background-color: #d4ebff;}#sk-container-id-3 div.sk-label input.sk-toggleable__control:checked~label.sk-toggleable__label {background-color: #d4ebff;}#sk-container-id-3 input.sk-hidden--visually {border: 0;clip: rect(1px 1px 1px 1px);clip: rect(1px, 1px, 1px, 1px);height: 1px;margin: -1px;overflow: hidden;padding: 0;position: absolute;width: 1px;}#sk-container-id-3 div.sk-estimator {font-family: monospace;background-color: #f0f8ff;border: 1px dotted black;border-radius: 0.25em;box-sizing: border-box;margin-bottom: 0.5em;}#sk-container-id-3 div.sk-estimator:hover {background-color: #d4ebff;}#sk-container-id-3 div.sk-parallel-item::after {content: \"\";width: 100%;border-bottom: 1px solid gray;flex-grow: 1;}#sk-container-id-3 div.sk-label:hover label.sk-toggleable__label {background-color: #d4ebff;}#sk-container-id-3 div.sk-serial::before {content: \"\";position: absolute;border-left: 1px solid gray;box-sizing: border-box;top: 0;bottom: 0;left: 50%;z-index: 0;}#sk-container-id-3 div.sk-serial {display: flex;flex-direction: column;align-items: center;background-color: white;padding-right: 0.2em;padding-left: 0.2em;position: relative;}#sk-container-id-3 div.sk-item {position: relative;z-index: 1;}#sk-container-id-3 div.sk-parallel {display: flex;align-items: stretch;justify-content: center;background-color: white;position: relative;}#sk-container-id-3 div.sk-item::before, #sk-container-id-3 div.sk-parallel-item::before {content: \"\";position: absolute;border-left: 1px solid gray;box-sizing: border-box;top: 0;bottom: 0;left: 50%;z-index: -1;}#sk-container-id-3 div.sk-parallel-item {display: flex;flex-direction: column;z-index: 1;position: relative;background-color: white;}#sk-container-id-3 div.sk-parallel-item:first-child::after {align-self: flex-end;width: 50%;}#sk-container-id-3 div.sk-parallel-item:last-child::after {align-self: flex-start;width: 50%;}#sk-container-id-3 div.sk-parallel-item:only-child::after {width: 0;}#sk-container-id-3 div.sk-dashed-wrapped {border: 1px dashed gray;margin: 0 0.4em 0.5em 0.4em;box-sizing: border-box;padding-bottom: 0.4em;background-color: white;}#sk-container-id-3 div.sk-label label {font-family: monospace;font-weight: bold;display: inline-block;line-height: 1.2em;}#sk-container-id-3 div.sk-label-container {text-align: center;}#sk-container-id-3 div.sk-container {/* jupyter's `normalize.less` sets `[hidden] { display: none; }` but bootstrap.min.css set `[hidden] { display: none !important; }` so we also need the `!important` here to be able to override the default hidden behavior on the sphinx rendered scikit-learn.org. See: https://github.com/scikit-learn/scikit-learn/issues/21755 */display: inline-block !important;position: relative;}#sk-container-id-3 div.sk-text-repr-fallback {display: none;}</style><div id=\"sk-container-id-3\" class=\"sk-top-container\"><div class=\"sk-text-repr-fallback\"><pre>BayesSearchCV(cv=5, estimator=SVC(), n_iter=10,\n",
       "              search_spaces={&#x27;C&#x27;: (0.1, 10.0), &#x27;kernel&#x27;: [&#x27;linear&#x27;, &#x27;rbf&#x27;]})</pre><b>In a Jupyter environment, please rerun this cell to show the HTML representation or trust the notebook. <br />On GitHub, the HTML representation is unable to render, please try loading this page with nbviewer.org.</b></div><div class=\"sk-container\" hidden><div class=\"sk-item sk-dashed-wrapped\"><div class=\"sk-label-container\"><div class=\"sk-label sk-toggleable\"><input class=\"sk-toggleable__control sk-hidden--visually\" id=\"sk-estimator-id-7\" type=\"checkbox\" ><label for=\"sk-estimator-id-7\" class=\"sk-toggleable__label sk-toggleable__label-arrow\">BayesSearchCV</label><div class=\"sk-toggleable__content\"><pre>BayesSearchCV(cv=5, estimator=SVC(), n_iter=10,\n",
       "              search_spaces={&#x27;C&#x27;: (0.1, 10.0), &#x27;kernel&#x27;: [&#x27;linear&#x27;, &#x27;rbf&#x27;]})</pre></div></div></div><div class=\"sk-parallel\"><div class=\"sk-parallel-item\"><div class=\"sk-item\"><div class=\"sk-label-container\"><div class=\"sk-label sk-toggleable\"><input class=\"sk-toggleable__control sk-hidden--visually\" id=\"sk-estimator-id-8\" type=\"checkbox\" ><label for=\"sk-estimator-id-8\" class=\"sk-toggleable__label sk-toggleable__label-arrow\">estimator: SVC</label><div class=\"sk-toggleable__content\"><pre>SVC()</pre></div></div></div><div class=\"sk-serial\"><div class=\"sk-item\"><div class=\"sk-estimator sk-toggleable\"><input class=\"sk-toggleable__control sk-hidden--visually\" id=\"sk-estimator-id-9\" type=\"checkbox\" ><label for=\"sk-estimator-id-9\" class=\"sk-toggleable__label sk-toggleable__label-arrow\">SVC</label><div class=\"sk-toggleable__content\"><pre>SVC()</pre></div></div></div></div></div></div></div></div></div></div>"
      ],
      "text/plain": [
       "BayesSearchCV(cv=5, estimator=SVC(), n_iter=10,\n",
       "              search_spaces={'C': (0.1, 10.0), 'kernel': ['linear', 'rbf']})"
      ]
     },
     "execution_count": 16,
     "metadata": {},
     "output_type": "execute_result"
    }
   ],
   "source": [
    "bayes_search = BayesSearchCV(svm, param_space, n_iter=10, cv=5)\n",
    "bayes_search.fit(iris.data, iris.target)"
   ]
  },
  {
   "cell_type": "code",
   "execution_count": 17,
   "metadata": {},
   "outputs": [
    {
     "name": "stdout",
     "output_type": "stream",
     "text": [
      "Best Hyperparameters: OrderedDict([('C', 5.957716121282662), ('kernel', 'rbf')])\n",
      "Best Score: 0.9866666666666667\n"
     ]
    }
   ],
   "source": [
    "best_params = bayes_search.best_params_\n",
    "best_score = bayes_search.best_score_\n",
    "print(\"Best Hyperparameters:\", best_params)\n",
    "print(\"Best Score:\", best_score)"
   ]
  },
  {
   "cell_type": "code",
   "execution_count": 20,
   "metadata": {},
   "outputs": [
    {
     "name": "stderr",
     "output_type": "stream",
     "text": [
      "/home/suraj/anaconda3/envs/dl/lib/python3.9/site-packages/tqdm/auto.py:21: TqdmWarning: IProgress not found. Please update jupyter and ipywidgets. See https://ipywidgets.readthedocs.io/en/stable/user_install.html\n",
      "  from .autonotebook import tqdm as notebook_tqdm\n"
     ]
    }
   ],
   "source": [
    "# 4. Automated hyperparameter tuning\n",
    "from sklearn.datasets import load_iris\n",
    "from sklearn.model_selection import train_test_split\n",
    "from sklearn.ensemble import RandomForestClassifier\n",
    "from sklearn.metrics import accuracy_score\n",
    "import optuna\n",
    "\n",
    "\n"
   ]
  },
  {
   "cell_type": "code",
   "execution_count": 21,
   "metadata": {},
   "outputs": [],
   "source": [
    "# Define an objective function for Optuna to optimize\n",
    "def objective(trial):\n",
    "    # Define hyperparameters to tune and their search spaces\n",
    "    n_estimators = trial.suggest_int('n_estimators', 10, 100)\n",
    "    max_depth = trial.suggest_int('max_depth', 1, 10)\n",
    "    min_samples_split = trial.suggest_int('min_samples_split', 2, 10)\n",
    "\n",
    "    # Create a random forest classifier with the sampled hyperparameters\n",
    "    model = RandomForestClassifier(n_estimators=n_estimators,\n",
    "                                   max_depth=max_depth,\n",
    "                                   min_samples_split=min_samples_split,\n",
    "                                   random_state=42)\n",
    "\n",
    "    # Train and evaluate the model\n",
    "    model.fit(X_train, y_train)\n",
    "    y_pred = model.predict(X_val)\n",
    "    accuracy = accuracy_score(y_val, y_pred)\n",
    "\n",
    "    return accuracy\n"
   ]
  },
  {
   "cell_type": "code",
   "execution_count": 22,
   "metadata": {},
   "outputs": [],
   "source": [
    "X_train, X_val, y_train, y_val = train_test_split(iris.data, iris.target, test_size=0.2, random_state=42)\n"
   ]
  },
  {
   "cell_type": "code",
   "execution_count": 23,
   "metadata": {},
   "outputs": [
    {
     "name": "stderr",
     "output_type": "stream",
     "text": [
      "\u001b[32m[I 2023-04-21 02:33:39,878]\u001b[0m A new study created in memory with name: no-name-830ae6c2-83f8-4ffd-8427-bcb8958ae62e\u001b[0m\n",
      "\u001b[32m[I 2023-04-21 02:33:40,097]\u001b[0m Trial 0 finished with value: 1.0 and parameters: {'n_estimators': 53, 'max_depth': 4, 'min_samples_split': 7}. Best is trial 0 with value: 1.0.\u001b[0m\n",
      "\u001b[32m[I 2023-04-21 02:33:40,208]\u001b[0m Trial 1 finished with value: 1.0 and parameters: {'n_estimators': 38, 'max_depth': 5, 'min_samples_split': 3}. Best is trial 0 with value: 1.0.\u001b[0m\n",
      "\u001b[32m[I 2023-04-21 02:33:40,319]\u001b[0m Trial 2 finished with value: 1.0 and parameters: {'n_estimators': 46, 'max_depth': 7, 'min_samples_split': 2}. Best is trial 0 with value: 1.0.\u001b[0m\n",
      "\u001b[32m[I 2023-04-21 02:33:40,451]\u001b[0m Trial 3 finished with value: 1.0 and parameters: {'n_estimators': 41, 'max_depth': 5, 'min_samples_split': 8}. Best is trial 0 with value: 1.0.\u001b[0m\n",
      "\u001b[32m[I 2023-04-21 02:33:40,535]\u001b[0m Trial 4 finished with value: 1.0 and parameters: {'n_estimators': 28, 'max_depth': 3, 'min_samples_split': 8}. Best is trial 0 with value: 1.0.\u001b[0m\n",
      "\u001b[32m[I 2023-04-21 02:33:40,631]\u001b[0m Trial 5 finished with value: 1.0 and parameters: {'n_estimators': 31, 'max_depth': 4, 'min_samples_split': 9}. Best is trial 0 with value: 1.0.\u001b[0m\n",
      "\u001b[32m[I 2023-04-21 02:33:40,838]\u001b[0m Trial 6 finished with value: 1.0 and parameters: {'n_estimators': 66, 'max_depth': 6, 'min_samples_split': 9}. Best is trial 0 with value: 1.0.\u001b[0m\n",
      "\u001b[32m[I 2023-04-21 02:33:41,016]\u001b[0m Trial 7 finished with value: 1.0 and parameters: {'n_estimators': 61, 'max_depth': 9, 'min_samples_split': 2}. Best is trial 0 with value: 1.0.\u001b[0m\n",
      "\u001b[32m[I 2023-04-21 02:33:41,292]\u001b[0m Trial 8 finished with value: 1.0 and parameters: {'n_estimators': 94, 'max_depth': 1, 'min_samples_split': 4}. Best is trial 0 with value: 1.0.\u001b[0m\n",
      "\u001b[32m[I 2023-04-21 02:33:41,398]\u001b[0m Trial 9 finished with value: 1.0 and parameters: {'n_estimators': 31, 'max_depth': 7, 'min_samples_split': 7}. Best is trial 0 with value: 1.0.\u001b[0m\n",
      "\u001b[32m[I 2023-04-21 02:33:41,478]\u001b[0m Trial 10 finished with value: 1.0 and parameters: {'n_estimators': 13, 'max_depth': 2, 'min_samples_split': 5}. Best is trial 0 with value: 1.0.\u001b[0m\n",
      "\u001b[32m[I 2023-04-21 02:33:41,693]\u001b[0m Trial 11 finished with value: 1.0 and parameters: {'n_estimators': 76, 'max_depth': 4, 'min_samples_split': 5}. Best is trial 0 with value: 1.0.\u001b[0m\n",
      "\u001b[32m[I 2023-04-21 02:33:41,867]\u001b[0m Trial 12 finished with value: 1.0 and parameters: {'n_estimators': 51, 'max_depth': 10, 'min_samples_split': 4}. Best is trial 0 with value: 1.0.\u001b[0m\n",
      "\u001b[32m[I 2023-04-21 02:33:42,097]\u001b[0m Trial 13 finished with value: 1.0 and parameters: {'n_estimators': 77, 'max_depth': 5, 'min_samples_split': 6}. Best is trial 0 with value: 1.0.\u001b[0m\n",
      "\u001b[32m[I 2023-04-21 02:33:42,187]\u001b[0m Trial 14 finished with value: 1.0 and parameters: {'n_estimators': 14, 'max_depth': 7, 'min_samples_split': 3}. Best is trial 0 with value: 1.0.\u001b[0m\n",
      "\u001b[32m[I 2023-04-21 02:33:42,305]\u001b[0m Trial 15 finished with value: 1.0 and parameters: {'n_estimators': 38, 'max_depth': 3, 'min_samples_split': 10}. Best is trial 0 with value: 1.0.\u001b[0m\n",
      "\u001b[32m[I 2023-04-21 02:33:42,479]\u001b[0m Trial 16 finished with value: 1.0 and parameters: {'n_estimators': 59, 'max_depth': 1, 'min_samples_split': 6}. Best is trial 0 with value: 1.0.\u001b[0m\n",
      "\u001b[32m[I 2023-04-21 02:33:42,686]\u001b[0m Trial 17 finished with value: 1.0 and parameters: {'n_estimators': 71, 'max_depth': 6, 'min_samples_split': 7}. Best is trial 0 with value: 1.0.\u001b[0m\n",
      "\u001b[32m[I 2023-04-21 02:33:42,837]\u001b[0m Trial 18 finished with value: 1.0 and parameters: {'n_estimators': 52, 'max_depth': 4, 'min_samples_split': 4}. Best is trial 0 with value: 1.0.\u001b[0m\n",
      "\u001b[32m[I 2023-04-21 02:33:43,100]\u001b[0m Trial 19 finished with value: 1.0 and parameters: {'n_estimators': 92, 'max_depth': 8, 'min_samples_split': 3}. Best is trial 0 with value: 1.0.\u001b[0m\n",
      "\u001b[32m[I 2023-04-21 02:33:43,190]\u001b[0m Trial 20 finished with value: 1.0 and parameters: {'n_estimators': 22, 'max_depth': 3, 'min_samples_split': 7}. Best is trial 0 with value: 1.0.\u001b[0m\n",
      "\u001b[32m[I 2023-04-21 02:33:43,332]\u001b[0m Trial 21 finished with value: 1.0 and parameters: {'n_estimators': 42, 'max_depth': 7, 'min_samples_split': 2}. Best is trial 0 with value: 1.0.\u001b[0m\n",
      "\u001b[32m[I 2023-04-21 02:33:43,486]\u001b[0m Trial 22 finished with value: 1.0 and parameters: {'n_estimators': 50, 'max_depth': 5, 'min_samples_split': 2}. Best is trial 0 with value: 1.0.\u001b[0m\n",
      "\u001b[32m[I 2023-04-21 02:33:43,628]\u001b[0m Trial 23 finished with value: 1.0 and parameters: {'n_estimators': 45, 'max_depth': 8, 'min_samples_split': 3}. Best is trial 0 with value: 1.0.\u001b[0m\n",
      "\u001b[32m[I 2023-04-21 02:33:43,733]\u001b[0m Trial 24 finished with value: 1.0 and parameters: {'n_estimators': 34, 'max_depth': 6, 'min_samples_split': 5}. Best is trial 0 with value: 1.0.\u001b[0m\n",
      "\u001b[32m[I 2023-04-21 02:33:43,825]\u001b[0m Trial 25 finished with value: 1.0 and parameters: {'n_estimators': 23, 'max_depth': 8, 'min_samples_split': 3}. Best is trial 0 with value: 1.0.\u001b[0m\n",
      "\u001b[32m[I 2023-04-21 02:33:43,973]\u001b[0m Trial 26 finished with value: 1.0 and parameters: {'n_estimators': 47, 'max_depth': 5, 'min_samples_split': 2}. Best is trial 0 with value: 1.0.\u001b[0m\n",
      "\u001b[32m[I 2023-04-21 02:33:44,140]\u001b[0m Trial 27 finished with value: 1.0 and parameters: {'n_estimators': 58, 'max_depth': 4, 'min_samples_split': 4}. Best is trial 0 with value: 1.0.\u001b[0m\n",
      "\u001b[32m[I 2023-04-21 02:33:44,271]\u001b[0m Trial 28 finished with value: 1.0 and parameters: {'n_estimators': 37, 'max_depth': 2, 'min_samples_split': 8}. Best is trial 0 with value: 1.0.\u001b[0m\n",
      "\u001b[32m[I 2023-04-21 02:33:44,415]\u001b[0m Trial 29 finished with value: 1.0 and parameters: {'n_estimators': 42, 'max_depth': 5, 'min_samples_split': 6}. Best is trial 0 with value: 1.0.\u001b[0m\n",
      "\u001b[32m[I 2023-04-21 02:33:44,620]\u001b[0m Trial 30 finished with value: 1.0 and parameters: {'n_estimators': 66, 'max_depth': 6, 'min_samples_split': 3}. Best is trial 0 with value: 1.0.\u001b[0m\n",
      "\u001b[32m[I 2023-04-21 02:33:44,790]\u001b[0m Trial 31 finished with value: 1.0 and parameters: {'n_estimators': 44, 'max_depth': 4, 'min_samples_split': 8}. Best is trial 0 with value: 1.0.\u001b[0m\n",
      "\u001b[32m[I 2023-04-21 02:33:44,885]\u001b[0m Trial 32 finished with value: 1.0 and parameters: {'n_estimators': 27, 'max_depth': 5, 'min_samples_split': 9}. Best is trial 0 with value: 1.0.\u001b[0m\n",
      "\u001b[32m[I 2023-04-21 02:33:45,066]\u001b[0m Trial 33 finished with value: 1.0 and parameters: {'n_estimators': 54, 'max_depth': 7, 'min_samples_split': 8}. Best is trial 0 with value: 1.0.\u001b[0m\n",
      "\u001b[32m[I 2023-04-21 02:33:45,202]\u001b[0m Trial 34 finished with value: 1.0 and parameters: {'n_estimators': 38, 'max_depth': 3, 'min_samples_split': 9}. Best is trial 0 with value: 1.0.\u001b[0m\n",
      "\u001b[32m[I 2023-04-21 02:33:45,440]\u001b[0m Trial 35 finished with value: 1.0 and parameters: {'n_estimators': 65, 'max_depth': 4, 'min_samples_split': 7}. Best is trial 0 with value: 1.0.\u001b[0m\n",
      "\u001b[32m[I 2023-04-21 02:33:45,571]\u001b[0m Trial 36 finished with value: 1.0 and parameters: {'n_estimators': 29, 'max_depth': 6, 'min_samples_split': 10}. Best is trial 0 with value: 1.0.\u001b[0m\n",
      "\u001b[32m[I 2023-04-21 02:33:45,745]\u001b[0m Trial 37 finished with value: 1.0 and parameters: {'n_estimators': 48, 'max_depth': 2, 'min_samples_split': 8}. Best is trial 0 with value: 1.0.\u001b[0m\n",
      "\u001b[32m[I 2023-04-21 02:33:45,933]\u001b[0m Trial 38 finished with value: 1.0 and parameters: {'n_estimators': 56, 'max_depth': 9, 'min_samples_split': 6}. Best is trial 0 with value: 1.0.\u001b[0m\n",
      "\u001b[32m[I 2023-04-21 02:33:46,068]\u001b[0m Trial 39 finished with value: 1.0 and parameters: {'n_estimators': 33, 'max_depth': 6, 'min_samples_split': 2}. Best is trial 0 with value: 1.0.\u001b[0m\n",
      "\u001b[32m[I 2023-04-21 02:33:46,145]\u001b[0m Trial 40 finished with value: 1.0 and parameters: {'n_estimators': 19, 'max_depth': 5, 'min_samples_split': 7}. Best is trial 0 with value: 1.0.\u001b[0m\n",
      "\u001b[32m[I 2023-04-21 02:33:46,237]\u001b[0m Trial 41 finished with value: 1.0 and parameters: {'n_estimators': 28, 'max_depth': 3, 'min_samples_split': 9}. Best is trial 0 with value: 1.0.\u001b[0m\n",
      "\u001b[32m[I 2023-04-21 02:33:46,375]\u001b[0m Trial 42 finished with value: 1.0 and parameters: {'n_estimators': 40, 'max_depth': 4, 'min_samples_split': 8}. Best is trial 0 with value: 1.0.\u001b[0m\n",
      "\u001b[32m[I 2023-04-21 02:33:46,487]\u001b[0m Trial 43 finished with value: 1.0 and parameters: {'n_estimators': 35, 'max_depth': 2, 'min_samples_split': 5}. Best is trial 0 with value: 1.0.\u001b[0m\n",
      "\u001b[32m[I 2023-04-21 02:33:46,550]\u001b[0m Trial 44 finished with value: 1.0 and parameters: {'n_estimators': 10, 'max_depth': 3, 'min_samples_split': 7}. Best is trial 0 with value: 1.0.\u001b[0m\n",
      "\u001b[32m[I 2023-04-21 02:33:46,641]\u001b[0m Trial 45 finished with value: 1.0 and parameters: {'n_estimators': 23, 'max_depth': 7, 'min_samples_split': 8}. Best is trial 0 with value: 1.0.\u001b[0m\n",
      "\u001b[32m[I 2023-04-21 02:33:46,848]\u001b[0m Trial 46 finished with value: 1.0 and parameters: {'n_estimators': 62, 'max_depth': 5, 'min_samples_split': 9}. Best is trial 0 with value: 1.0.\u001b[0m\n",
      "\u001b[32m[I 2023-04-21 02:33:47,089]\u001b[0m Trial 47 finished with value: 1.0 and parameters: {'n_estimators': 71, 'max_depth': 4, 'min_samples_split': 6}. Best is trial 0 with value: 1.0.\u001b[0m\n",
      "\u001b[32m[I 2023-04-21 02:33:47,373]\u001b[0m Trial 48 finished with value: 1.0 and parameters: {'n_estimators': 87, 'max_depth': 4, 'min_samples_split': 7}. Best is trial 0 with value: 1.0.\u001b[0m\n",
      "\u001b[32m[I 2023-04-21 02:33:47,449]\u001b[0m Trial 49 finished with value: 1.0 and parameters: {'n_estimators': 18, 'max_depth': 3, 'min_samples_split': 10}. Best is trial 0 with value: 1.0.\u001b[0m\n",
      "\u001b[32m[I 2023-04-21 02:33:47,556]\u001b[0m Trial 50 finished with value: 1.0 and parameters: {'n_estimators': 31, 'max_depth': 1, 'min_samples_split': 8}. Best is trial 0 with value: 1.0.\u001b[0m\n",
      "\u001b[32m[I 2023-04-21 02:33:47,714]\u001b[0m Trial 51 finished with value: 1.0 and parameters: {'n_estimators': 51, 'max_depth': 3, 'min_samples_split': 9}. Best is trial 0 with value: 1.0.\u001b[0m\n",
      "\u001b[32m[I 2023-04-21 02:33:47,809]\u001b[0m Trial 52 finished with value: 1.0 and parameters: {'n_estimators': 26, 'max_depth': 5, 'min_samples_split': 10}. Best is trial 0 with value: 1.0.\u001b[0m\n",
      "\u001b[32m[I 2023-04-21 02:33:47,950]\u001b[0m Trial 53 finished with value: 1.0 and parameters: {'n_estimators': 41, 'max_depth': 10, 'min_samples_split': 2}. Best is trial 0 with value: 1.0.\u001b[0m\n",
      "\u001b[32m[I 2023-04-21 02:33:48,088]\u001b[0m Trial 54 finished with value: 1.0 and parameters: {'n_estimators': 45, 'max_depth': 6, 'min_samples_split': 8}. Best is trial 0 with value: 1.0.\u001b[0m\n",
      "\u001b[32m[I 2023-04-21 02:33:48,205]\u001b[0m Trial 55 finished with value: 1.0 and parameters: {'n_estimators': 32, 'max_depth': 4, 'min_samples_split': 4}. Best is trial 0 with value: 1.0.\u001b[0m\n",
      "\u001b[32m[I 2023-04-21 02:33:48,330]\u001b[0m Trial 56 finished with value: 1.0 and parameters: {'n_estimators': 37, 'max_depth': 5, 'min_samples_split': 7}. Best is trial 0 with value: 1.0.\u001b[0m\n",
      "\u001b[32m[I 2023-04-21 02:33:48,484]\u001b[0m Trial 57 finished with value: 1.0 and parameters: {'n_estimators': 48, 'max_depth': 9, 'min_samples_split': 3}. Best is trial 0 with value: 1.0.\u001b[0m\n",
      "\u001b[32m[I 2023-04-21 02:33:48,627]\u001b[0m Trial 58 finished with value: 1.0 and parameters: {'n_estimators': 35, 'max_depth': 7, 'min_samples_split': 9}. Best is trial 0 with value: 1.0.\u001b[0m\n",
      "\u001b[32m[I 2023-04-21 02:33:48,818]\u001b[0m Trial 59 finished with value: 1.0 and parameters: {'n_estimators': 54, 'max_depth': 2, 'min_samples_split': 2}. Best is trial 0 with value: 1.0.\u001b[0m\n",
      "\u001b[32m[I 2023-04-21 02:33:48,898]\u001b[0m Trial 60 finished with value: 1.0 and parameters: {'n_estimators': 18, 'max_depth': 3, 'min_samples_split': 6}. Best is trial 0 with value: 1.0.\u001b[0m\n",
      "\u001b[32m[I 2023-04-21 02:33:49,073]\u001b[0m Trial 61 finished with value: 1.0 and parameters: {'n_estimators': 62, 'max_depth': 6, 'min_samples_split': 9}. Best is trial 0 with value: 1.0.\u001b[0m\n",
      "\u001b[32m[I 2023-04-21 02:33:49,272]\u001b[0m Trial 62 finished with value: 1.0 and parameters: {'n_estimators': 74, 'max_depth': 7, 'min_samples_split': 8}. Best is trial 0 with value: 1.0.\u001b[0m\n",
      "\u001b[32m[I 2023-04-21 02:33:49,410]\u001b[0m Trial 63 finished with value: 1.0 and parameters: {'n_estimators': 43, 'max_depth': 8, 'min_samples_split': 9}. Best is trial 0 with value: 1.0.\u001b[0m\n",
      "\u001b[32m[I 2023-04-21 02:33:49,551]\u001b[0m Trial 64 finished with value: 1.0 and parameters: {'n_estimators': 39, 'max_depth': 6, 'min_samples_split': 10}. Best is trial 0 with value: 1.0.\u001b[0m\n",
      "\u001b[32m[I 2023-04-21 02:33:49,831]\u001b[0m Trial 65 finished with value: 1.0 and parameters: {'n_estimators': 81, 'max_depth': 5, 'min_samples_split': 8}. Best is trial 0 with value: 1.0.\u001b[0m\n",
      "\u001b[32m[I 2023-04-21 02:33:50,037]\u001b[0m Trial 66 finished with value: 1.0 and parameters: {'n_estimators': 58, 'max_depth': 4, 'min_samples_split': 9}. Best is trial 0 with value: 1.0.\u001b[0m\n",
      "\u001b[32m[I 2023-04-21 02:33:50,260]\u001b[0m Trial 67 finished with value: 1.0 and parameters: {'n_estimators': 67, 'max_depth': 6, 'min_samples_split': 7}. Best is trial 0 with value: 1.0.\u001b[0m\n",
      "\u001b[32m[I 2023-04-21 02:33:50,431]\u001b[0m Trial 68 finished with value: 1.0 and parameters: {'n_estimators': 47, 'max_depth': 4, 'min_samples_split': 2}. Best is trial 0 with value: 1.0.\u001b[0m\n",
      "\u001b[32m[I 2023-04-21 02:33:50,609]\u001b[0m Trial 69 finished with value: 1.0 and parameters: {'n_estimators': 51, 'max_depth': 5, 'min_samples_split': 8}. Best is trial 0 with value: 1.0.\u001b[0m\n",
      "\u001b[32m[I 2023-04-21 02:33:50,723]\u001b[0m Trial 70 finished with value: 1.0 and parameters: {'n_estimators': 25, 'max_depth': 4, 'min_samples_split': 4}. Best is trial 0 with value: 1.0.\u001b[0m\n",
      "\u001b[32m[I 2023-04-21 02:33:50,918]\u001b[0m Trial 71 finished with value: 1.0 and parameters: {'n_estimators': 60, 'max_depth': 9, 'min_samples_split': 3}. Best is trial 0 with value: 1.0.\u001b[0m\n",
      "\u001b[32m[I 2023-04-21 02:33:51,111]\u001b[0m Trial 72 finished with value: 1.0 and parameters: {'n_estimators': 56, 'max_depth': 8, 'min_samples_split': 2}. Best is trial 0 with value: 1.0.\u001b[0m\n",
      "\u001b[32m[I 2023-04-21 02:33:51,335]\u001b[0m Trial 73 finished with value: 1.0 and parameters: {'n_estimators': 69, 'max_depth': 5, 'min_samples_split': 3}. Best is trial 0 with value: 1.0.\u001b[0m\n",
      "\u001b[32m[I 2023-04-21 02:33:51,514]\u001b[0m Trial 74 finished with value: 1.0 and parameters: {'n_estimators': 53, 'max_depth': 7, 'min_samples_split': 2}. Best is trial 0 with value: 1.0.\u001b[0m\n",
      "\u001b[32m[I 2023-04-21 02:33:51,621]\u001b[0m Trial 75 finished with value: 1.0 and parameters: {'n_estimators': 30, 'max_depth': 4, 'min_samples_split': 2}. Best is trial 0 with value: 1.0.\u001b[0m\n",
      "\u001b[32m[I 2023-04-21 02:33:51,810]\u001b[0m Trial 76 finished with value: 1.0 and parameters: {'n_estimators': 63, 'max_depth': 9, 'min_samples_split': 7}. Best is trial 0 with value: 1.0.\u001b[0m\n",
      "\u001b[32m[I 2023-04-21 02:33:51,954]\u001b[0m Trial 77 finished with value: 1.0 and parameters: {'n_estimators': 45, 'max_depth': 5, 'min_samples_split': 3}. Best is trial 0 with value: 1.0.\u001b[0m\n",
      "\u001b[32m[I 2023-04-21 02:33:52,086]\u001b[0m Trial 78 finished with value: 1.0 and parameters: {'n_estimators': 36, 'max_depth': 6, 'min_samples_split': 5}. Best is trial 0 with value: 1.0.\u001b[0m\n",
      "\u001b[32m[I 2023-04-21 02:33:52,248]\u001b[0m Trial 79 finished with value: 1.0 and parameters: {'n_estimators': 49, 'max_depth': 10, 'min_samples_split': 9}. Best is trial 0 with value: 1.0.\u001b[0m\n",
      "\u001b[32m[I 2023-04-21 02:33:52,519]\u001b[0m Trial 80 finished with value: 1.0 and parameters: {'n_estimators': 98, 'max_depth': 3, 'min_samples_split': 8}. Best is trial 0 with value: 1.0.\u001b[0m\n",
      "\u001b[32m[I 2023-04-21 02:33:52,761]\u001b[0m Trial 81 finished with value: 1.0 and parameters: {'n_estimators': 88, 'max_depth': 2, 'min_samples_split': 4}. Best is trial 0 with value: 1.0.\u001b[0m\n",
      "\u001b[32m[I 2023-04-21 02:33:52,890]\u001b[0m Trial 82 finished with value: 1.0 and parameters: {'n_estimators': 40, 'max_depth': 5, 'min_samples_split': 3}. Best is trial 0 with value: 1.0.\u001b[0m\n",
      "\u001b[32m[I 2023-04-21 02:33:53,137]\u001b[0m Trial 83 finished with value: 1.0 and parameters: {'n_estimators': 83, 'max_depth': 3, 'min_samples_split': 4}. Best is trial 0 with value: 1.0.\u001b[0m\n",
      "\u001b[32m[I 2023-04-21 02:33:53,223]\u001b[0m Trial 84 finished with value: 1.0 and parameters: {'n_estimators': 21, 'max_depth': 1, 'min_samples_split': 2}. Best is trial 0 with value: 1.0.\u001b[0m\n",
      "\u001b[32m[I 2023-04-21 02:33:53,345]\u001b[0m Trial 85 finished with value: 1.0 and parameters: {'n_estimators': 33, 'max_depth': 1, 'min_samples_split': 6}. Best is trial 0 with value: 1.0.\u001b[0m\n",
      "\u001b[32m[I 2023-04-21 02:33:53,671]\u001b[0m Trial 86 finished with value: 1.0 and parameters: {'n_estimators': 96, 'max_depth': 6, 'min_samples_split': 5}. Best is trial 0 with value: 1.0.\u001b[0m\n",
      "\u001b[32m[I 2023-04-21 02:33:53,804]\u001b[0m Trial 87 finished with value: 1.0 and parameters: {'n_estimators': 29, 'max_depth': 4, 'min_samples_split': 3}. Best is trial 0 with value: 1.0.\u001b[0m\n",
      "\u001b[32m[I 2023-04-21 02:33:53,961]\u001b[0m Trial 88 finished with value: 1.0 and parameters: {'n_estimators': 42, 'max_depth': 8, 'min_samples_split': 10}. Best is trial 0 with value: 1.0.\u001b[0m\n",
      "\u001b[32m[I 2023-04-21 02:33:54,105]\u001b[0m Trial 89 finished with value: 1.0 and parameters: {'n_estimators': 46, 'max_depth': 5, 'min_samples_split': 7}. Best is trial 0 with value: 1.0.\u001b[0m\n",
      "\u001b[32m[I 2023-04-21 02:33:54,330]\u001b[0m Trial 90 finished with value: 1.0 and parameters: {'n_estimators': 79, 'max_depth': 2, 'min_samples_split': 2}. Best is trial 0 with value: 1.0.\u001b[0m\n",
      "\u001b[32m[I 2023-04-21 02:33:54,452]\u001b[0m Trial 91 finished with value: 1.0 and parameters: {'n_estimators': 38, 'max_depth': 7, 'min_samples_split': 6}. Best is trial 0 with value: 1.0.\u001b[0m\n",
      "\u001b[32m[I 2023-04-21 02:33:54,562]\u001b[0m Trial 92 finished with value: 1.0 and parameters: {'n_estimators': 25, 'max_depth': 6, 'min_samples_split': 8}. Best is trial 0 with value: 1.0.\u001b[0m\n",
      "\u001b[32m[I 2023-04-21 02:33:54,712]\u001b[0m Trial 93 finished with value: 1.0 and parameters: {'n_estimators': 34, 'max_depth': 7, 'min_samples_split': 7}. Best is trial 0 with value: 1.0.\u001b[0m\n",
      "\u001b[32m[I 2023-04-21 02:33:54,870]\u001b[0m Trial 94 finished with value: 1.0 and parameters: {'n_estimators': 31, 'max_depth': 10, 'min_samples_split': 9}. Best is trial 0 with value: 1.0.\u001b[0m\n",
      "\u001b[32m[I 2023-04-21 02:33:54,977]\u001b[0m Trial 95 finished with value: 1.0 and parameters: {'n_estimators': 27, 'max_depth': 8, 'min_samples_split': 8}. Best is trial 0 with value: 1.0.\u001b[0m\n",
      "\u001b[32m[I 2023-04-21 02:33:55,046]\u001b[0m Trial 96 finished with value: 1.0 and parameters: {'n_estimators': 14, 'max_depth': 6, 'min_samples_split': 7}. Best is trial 0 with value: 1.0.\u001b[0m\n",
      "\u001b[32m[I 2023-04-21 02:33:55,220]\u001b[0m Trial 97 finished with value: 1.0 and parameters: {'n_estimators': 60, 'max_depth': 4, 'min_samples_split': 9}. Best is trial 0 with value: 1.0.\u001b[0m\n",
      "\u001b[32m[I 2023-04-21 02:33:55,419]\u001b[0m Trial 98 finished with value: 1.0 and parameters: {'n_estimators': 74, 'max_depth': 7, 'min_samples_split': 6}. Best is trial 0 with value: 1.0.\u001b[0m\n",
      "\u001b[32m[I 2023-04-21 02:33:55,541]\u001b[0m Trial 99 finished with value: 1.0 and parameters: {'n_estimators': 36, 'max_depth': 5, 'min_samples_split': 3}. Best is trial 0 with value: 1.0.\u001b[0m\n"
     ]
    }
   ],
   "source": [
    "# Create an Optuna study\n",
    "study = optuna.create_study(direction='maximize')\n",
    "study.optimize(objective, n_trials=100)  # Run optimization for a certain number of trials\n"
   ]
  },
  {
   "cell_type": "code",
   "execution_count": 25,
   "metadata": {},
   "outputs": [],
   "source": [
    "# Get the best hyperparameters found by Optuna\n",
    "best_params = study.best_trial.params\n"
   ]
  },
  {
   "cell_type": "code",
   "execution_count": 29,
   "metadata": {},
   "outputs": [
    {
     "data": {
      "text/html": [
       "<style>#sk-container-id-5 {color: black;background-color: white;}#sk-container-id-5 pre{padding: 0;}#sk-container-id-5 div.sk-toggleable {background-color: white;}#sk-container-id-5 label.sk-toggleable__label {cursor: pointer;display: block;width: 100%;margin-bottom: 0;padding: 0.3em;box-sizing: border-box;text-align: center;}#sk-container-id-5 label.sk-toggleable__label-arrow:before {content: \"▸\";float: left;margin-right: 0.25em;color: #696969;}#sk-container-id-5 label.sk-toggleable__label-arrow:hover:before {color: black;}#sk-container-id-5 div.sk-estimator:hover label.sk-toggleable__label-arrow:before {color: black;}#sk-container-id-5 div.sk-toggleable__content {max-height: 0;max-width: 0;overflow: hidden;text-align: left;background-color: #f0f8ff;}#sk-container-id-5 div.sk-toggleable__content pre {margin: 0.2em;color: black;border-radius: 0.25em;background-color: #f0f8ff;}#sk-container-id-5 input.sk-toggleable__control:checked~div.sk-toggleable__content {max-height: 200px;max-width: 100%;overflow: auto;}#sk-container-id-5 input.sk-toggleable__control:checked~label.sk-toggleable__label-arrow:before {content: \"▾\";}#sk-container-id-5 div.sk-estimator input.sk-toggleable__control:checked~label.sk-toggleable__label {background-color: #d4ebff;}#sk-container-id-5 div.sk-label input.sk-toggleable__control:checked~label.sk-toggleable__label {background-color: #d4ebff;}#sk-container-id-5 input.sk-hidden--visually {border: 0;clip: rect(1px 1px 1px 1px);clip: rect(1px, 1px, 1px, 1px);height: 1px;margin: -1px;overflow: hidden;padding: 0;position: absolute;width: 1px;}#sk-container-id-5 div.sk-estimator {font-family: monospace;background-color: #f0f8ff;border: 1px dotted black;border-radius: 0.25em;box-sizing: border-box;margin-bottom: 0.5em;}#sk-container-id-5 div.sk-estimator:hover {background-color: #d4ebff;}#sk-container-id-5 div.sk-parallel-item::after {content: \"\";width: 100%;border-bottom: 1px solid gray;flex-grow: 1;}#sk-container-id-5 div.sk-label:hover label.sk-toggleable__label {background-color: #d4ebff;}#sk-container-id-5 div.sk-serial::before {content: \"\";position: absolute;border-left: 1px solid gray;box-sizing: border-box;top: 0;bottom: 0;left: 50%;z-index: 0;}#sk-container-id-5 div.sk-serial {display: flex;flex-direction: column;align-items: center;background-color: white;padding-right: 0.2em;padding-left: 0.2em;position: relative;}#sk-container-id-5 div.sk-item {position: relative;z-index: 1;}#sk-container-id-5 div.sk-parallel {display: flex;align-items: stretch;justify-content: center;background-color: white;position: relative;}#sk-container-id-5 div.sk-item::before, #sk-container-id-5 div.sk-parallel-item::before {content: \"\";position: absolute;border-left: 1px solid gray;box-sizing: border-box;top: 0;bottom: 0;left: 50%;z-index: -1;}#sk-container-id-5 div.sk-parallel-item {display: flex;flex-direction: column;z-index: 1;position: relative;background-color: white;}#sk-container-id-5 div.sk-parallel-item:first-child::after {align-self: flex-end;width: 50%;}#sk-container-id-5 div.sk-parallel-item:last-child::after {align-self: flex-start;width: 50%;}#sk-container-id-5 div.sk-parallel-item:only-child::after {width: 0;}#sk-container-id-5 div.sk-dashed-wrapped {border: 1px dashed gray;margin: 0 0.4em 0.5em 0.4em;box-sizing: border-box;padding-bottom: 0.4em;background-color: white;}#sk-container-id-5 div.sk-label label {font-family: monospace;font-weight: bold;display: inline-block;line-height: 1.2em;}#sk-container-id-5 div.sk-label-container {text-align: center;}#sk-container-id-5 div.sk-container {/* jupyter's `normalize.less` sets `[hidden] { display: none; }` but bootstrap.min.css set `[hidden] { display: none !important; }` so we also need the `!important` here to be able to override the default hidden behavior on the sphinx rendered scikit-learn.org. See: https://github.com/scikit-learn/scikit-learn/issues/21755 */display: inline-block !important;position: relative;}#sk-container-id-5 div.sk-text-repr-fallback {display: none;}</style><div id=\"sk-container-id-5\" class=\"sk-top-container\"><div class=\"sk-text-repr-fallback\"><pre>RandomForestClassifier(max_depth=4, min_samples_split=7, n_estimators=53,\n",
       "                       random_state=42)</pre><b>In a Jupyter environment, please rerun this cell to show the HTML representation or trust the notebook. <br />On GitHub, the HTML representation is unable to render, please try loading this page with nbviewer.org.</b></div><div class=\"sk-container\" hidden><div class=\"sk-item\"><div class=\"sk-estimator sk-toggleable\"><input class=\"sk-toggleable__control sk-hidden--visually\" id=\"sk-estimator-id-11\" type=\"checkbox\" checked><label for=\"sk-estimator-id-11\" class=\"sk-toggleable__label sk-toggleable__label-arrow\">RandomForestClassifier</label><div class=\"sk-toggleable__content\"><pre>RandomForestClassifier(max_depth=4, min_samples_split=7, n_estimators=53,\n",
       "                       random_state=42)</pre></div></div></div></div></div>"
      ],
      "text/plain": [
       "RandomForestClassifier(max_depth=4, min_samples_split=7, n_estimators=53,\n",
       "                       random_state=42)"
      ]
     },
     "execution_count": 29,
     "metadata": {},
     "output_type": "execute_result"
    }
   ],
   "source": [
    "# Train a model with the best hyperparameters on the entire training set\n",
    "best_model = RandomForestClassifier(**best_params, random_state=42)\n",
    "best_model.fit(X_train, y_train)"
   ]
  },
  {
   "cell_type": "code",
   "execution_count": null,
   "metadata": {},
   "outputs": [],
   "source": []
  }
 ],
 "metadata": {
  "kernelspec": {
   "display_name": "dl",
   "language": "python",
   "name": "python3"
  },
  "language_info": {
   "codemirror_mode": {
    "name": "ipython",
    "version": 3
   },
   "file_extension": ".py",
   "mimetype": "text/x-python",
   "name": "python",
   "nbconvert_exporter": "python",
   "pygments_lexer": "ipython3",
   "version": "3.9.16"
  },
  "orig_nbformat": 4
 },
 "nbformat": 4,
 "nbformat_minor": 2
}
