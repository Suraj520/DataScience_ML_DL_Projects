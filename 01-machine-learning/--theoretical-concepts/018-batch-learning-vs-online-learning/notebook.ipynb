{
 "cells": [
  {
   "attachments": {},
   "cell_type": "markdown",
   "metadata": {},
   "source": [
    "#### About\n",
    "\n",
    "> Batch learning vs Online learning\n",
    "\n",
    "Batch learning and online learning are two different approaches to training machine learning models.\n",
    "\n",
    "Batch learning:\n",
    "Batch learning, also known as off-line learning or batch learning, is a traditional approach to training machine learning models where the model is trained on a fixed set of data or a set of data before making predictions. In batch training, the entire data set is loaded into memory and the model updates its parameters based on the gradients computed over the entire data set. The model is trained in a single frame and the updated parameters are used to make predictions. This approach is typically used for tasks where the entire data set is provided at once and the model is trained piecemeal, typically using techniques such as gradient descent or stochastic gradient descent (SGD).\n",
    "\n",
    "Online Learning:\n",
    "Online learning, also known as incremental learning or online model learning, is a different approach in which the model is constantly updated as new data becomes available, without waiting for a fixed dataset or set of data. In online learning, the model is updated incrementally with each new data point or small batch of data points, and the updated parameters are immediately used to make predictions. This approach is useful when the data is constantly changing or when a large volume of data is continuously received and needs to be processed in real time.\n",
    "\n",
    "\n"
   ]
  },
  {
   "attachments": {},
   "cell_type": "markdown",
   "metadata": {},
   "source": [
    "> Comparison between both.\n",
    "\n",
    "1. Data set: Batch learning uses a fixed data set that is loaded into memory, while online learning processes the data incrementally as it becomes available. \n",
    "\n",
    "2. Training Updates. In batch training, the model updates its parameters based on the gradients computed over the entire data set, while in online training, the model updates its parameters incrementally with each new data point or minibatch of data points. \n",
    "3. Memory requirements. Batch training requires keeping the entire dataset in memory, which can be memory intensive for large datasets. Online learning, on the other hand, processes data incrementally and does not require the entire data set to be stored in memory.\n",
    "\n",
    "4. Real-time adaptability: Online learning allows the model to adapt to changing data in real-time as new data becomes available, while batch learning requires retraining the model on the entire dataset to incorporate new data.\n",
    "\n",
    "5. Computational efficiency: Batch learning can improve computational efficiency when processing large data sets in batches, while online learning is more suitable for processing incoming data in real time.\n",
    "\n",
    "6. Accuracy-Flexibility Trade-off: Batch learning generally provides higher accuracy because it processes the entire data set at once, while online learning provides more flexibility in adapting to changing data, but may lose some accuracy due to the increased amount of updates.\n",
    "\n",
    "\n",
    "In summary, batch learning is suitable for acquiring the entire data set at once and tasks with higher accuracy requirements, while online learning is suitable for tasks with constantly changing data and where real-time adaptability is critical. Both approaches have their advantages and disadvantages, and the choice between batch learning and online learning depends on the requirements of the particular machine learning task."
   ]
  },
  {
   "cell_type": "code",
   "execution_count": null,
   "metadata": {},
   "outputs": [],
   "source": []
  }
 ],
 "metadata": {
  "language_info": {
   "name": "python"
  },
  "orig_nbformat": 4
 },
 "nbformat": 4,
 "nbformat_minor": 2
}
