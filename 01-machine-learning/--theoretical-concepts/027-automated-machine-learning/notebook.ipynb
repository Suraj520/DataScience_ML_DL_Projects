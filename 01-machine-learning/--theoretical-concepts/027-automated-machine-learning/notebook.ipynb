{
 "cells": [
  {
   "attachments": {},
   "cell_type": "markdown",
   "metadata": {},
   "source": [
    "#### About\n",
    "\n",
    "> AutoML\n",
    "\n",
    "AutoML (Automated Machine Learning) refers to the use of automated tools and technologies to automatically and autonomously build, train, and optimize machine learning models without extensive human intervention. AutoML aims to simplify the machine learning process, make it more accessible to users with limited machine learning expertise, and reduce the time and effort required to develop high-performance models. AutoML typically involves several steps in the machine learning pipeline, including data preprocessing, feature development, model selection, hyperparameter tuning, and model evaluation. \n",
    "\n",
    "These steps are automated using algorithms and techniques that automatically analyze the data, select appropriate features, select the appropriate model, and optimize its hyperparameters for optimal performance. AutoML can be used for a wide range of machine learning tasks, including classification, regression, time series forecasting, clustering, and anomaly detection. \n",
    "\n",
    "It can also be used in various fields such as healthcare, finance, marketing and customer service. One of the main advantages of AutoML is its ability to significantly reduce the time and effort required to develop machine learning models, making it more accessible to business analysts, domain experts, and other users without extensive machine learning knowledge. In addition, AutoML can help find optimal hyperparameters and model configurations that may be difficult or time-consuming to manually tune to improve model performance."
   ]
  },
  {
   "cell_type": "code",
   "execution_count": 1,
   "metadata": {},
   "outputs": [],
   "source": [
    "import numpy as np\n",
    "import pandas as pd\n",
    "from sklearn.datasets import load_iris\n",
    "from sklearn.model_selection import train_test_split\n",
    "from sklearn.metrics import accuracy_score\n",
    "from autosklearn.classification import AutoSklearnClassifier"
   ]
  },
  {
   "cell_type": "code",
   "execution_count": 2,
   "metadata": {},
   "outputs": [],
   "source": [
    "iris = load_iris()\n",
    "X = iris.data\n",
    "y = iris.target"
   ]
  },
  {
   "cell_type": "code",
   "execution_count": 3,
   "metadata": {},
   "outputs": [],
   "source": [
    "# Convert the Iris dataset to a pandas DataFrame\n",
    "X = pd.DataFrame(X, columns=iris.feature_names)\n",
    "y = pd.Series(y)\n"
   ]
  },
  {
   "cell_type": "code",
   "execution_count": 4,
   "metadata": {},
   "outputs": [],
   "source": [
    "# Split the data into train and test sets\n",
    "X_train, X_test, y_train, y_test = train_test_split(X, y, test_size=0.2, random_state=42)\n"
   ]
  },
  {
   "cell_type": "code",
   "execution_count": 6,
   "metadata": {},
   "outputs": [
    {
     "data": {
      "text/plain": [
       "AutoSklearnClassifier(ensemble_class=<class 'autosklearn.ensembles.ensemble_selection.EnsembleSelection'>,\n",
       "                      per_run_time_limit=10, time_left_for_this_task=30)"
      ]
     },
     "execution_count": 6,
     "metadata": {},
     "output_type": "execute_result"
    }
   ],
   "source": [
    "# Create and fit the AutoSklearn classifier\n",
    "automl = AutoSklearnClassifier(time_left_for_this_task=30, per_run_time_limit=10)\n",
    "automl.fit(X_train, y_train)\n"
   ]
  },
  {
   "cell_type": "code",
   "execution_count": 7,
   "metadata": {},
   "outputs": [],
   "source": [
    "# Make predictions on the test set\n",
    "y_pred = automl.predict(X_test)\n"
   ]
  },
  {
   "cell_type": "code",
   "execution_count": 8,
   "metadata": {},
   "outputs": [
    {
     "name": "stdout",
     "output_type": "stream",
     "text": [
      "Accuracy: 0.9666666666666667\n"
     ]
    }
   ],
   "source": [
    "# Evaluate the accuracy of the model\n",
    "accuracy = accuracy_score(y_test, y_pred)\n",
    "print(\"Accuracy:\", accuracy)"
   ]
  },
  {
   "cell_type": "code",
   "execution_count": null,
   "metadata": {},
   "outputs": [],
   "source": []
  },
  {
   "cell_type": "code",
   "execution_count": null,
   "metadata": {},
   "outputs": [],
   "source": []
  }
 ],
 "metadata": {
  "kernelspec": {
   "display_name": "dl",
   "language": "python",
   "name": "python3"
  },
  "language_info": {
   "codemirror_mode": {
    "name": "ipython",
    "version": 3
   },
   "file_extension": ".py",
   "mimetype": "text/x-python",
   "name": "python",
   "nbconvert_exporter": "python",
   "pygments_lexer": "ipython3",
   "version": "3.9.16"
  },
  "orig_nbformat": 4
 },
 "nbformat": 4,
 "nbformat_minor": 2
}
