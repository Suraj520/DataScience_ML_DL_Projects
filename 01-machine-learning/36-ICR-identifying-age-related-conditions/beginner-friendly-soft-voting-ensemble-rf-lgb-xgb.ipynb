{
 "cells": [
  {
   "cell_type": "markdown",
   "id": "6d0d0548",
   "metadata": {
    "papermill": {
     "duration": 0.008062,
     "end_time": "2023-07-31T00:56:37.925775",
     "exception": false,
     "start_time": "2023-07-31T00:56:37.917713",
     "status": "completed"
    },
    "tags": []
   },
   "source": [
    "<div style=\"background-color:#5D73F2; color:#19180F; font-size:40px; font-family:Arial; padding:10px; border: 5px solid #19180F; border-radius:10px\"> [Beginner friendly] Soft Voting Ensemble </div>"
   ]
  },
  {
   "cell_type": "markdown",
   "id": "115c5d22",
   "metadata": {
    "papermill": {
     "duration": 0.00545,
     "end_time": "2023-07-31T00:56:37.937196",
     "exception": false,
     "start_time": "2023-07-31T00:56:37.931746",
     "status": "completed"
    },
    "tags": []
   },
   "source": [
    "<div style=\"background-color:#F0E3D2; color:#19180F; font-size:15px; font-family:Verdana; padding:10px; border: 2px solid #19180F; border-radius:10px\"> \n",
    "📌\n",
    "Importing modules\n",
    "    </div>\n"
   ]
  },
  {
   "cell_type": "code",
   "execution_count": 1,
   "id": "2c685128",
   "metadata": {
    "execution": {
     "iopub.execute_input": "2023-07-31T00:56:37.951050Z",
     "iopub.status.busy": "2023-07-31T00:56:37.950308Z",
     "iopub.status.idle": "2023-07-31T00:56:41.179700Z",
     "shell.execute_reply": "2023-07-31T00:56:41.178658Z"
    },
    "papermill": {
     "duration": 3.239494,
     "end_time": "2023-07-31T00:56:41.182373",
     "exception": false,
     "start_time": "2023-07-31T00:56:37.942879",
     "status": "completed"
    },
    "tags": []
   },
   "outputs": [
    {
     "name": "stderr",
     "output_type": "stream",
     "text": [
      "/opt/conda/lib/python3.10/site-packages/scipy/__init__.py:146: UserWarning: A NumPy version >=1.16.5 and <1.23.0 is required for this version of SciPy (detected version 1.23.5\n",
      "  warnings.warn(f\"A NumPy version >={np_minversion} and <{np_maxversion}\"\n"
     ]
    }
   ],
   "source": [
    "import pandas as pd\n",
    "from sklearn.model_selection import train_test_split\n",
    "from sklearn.ensemble import RandomForestClassifier, VotingClassifier\n",
    "from sklearn.impute import SimpleImputer\n",
    "import lightgbm as lgb\n",
    "import xgboost as xgb\n"
   ]
  },
  {
   "cell_type": "markdown",
   "id": "ac86cf2d",
   "metadata": {
    "papermill": {
     "duration": 0.005652,
     "end_time": "2023-07-31T00:56:41.194056",
     "exception": false,
     "start_time": "2023-07-31T00:56:41.188404",
     "status": "completed"
    },
    "tags": []
   },
   "source": [
    "<div style=\"background-color:#F0E3D2; color:#19180F; font-size:15px; font-family:Verdana; padding:10px; border: 2px solid #19180F; border-radius:10px\"> \n",
    "📌\n",
    "Step 1 : Loading the data    </div>\n"
   ]
  },
  {
   "cell_type": "code",
   "execution_count": 2,
   "id": "5dd184e8",
   "metadata": {
    "execution": {
     "iopub.execute_input": "2023-07-31T00:56:41.209406Z",
     "iopub.status.busy": "2023-07-31T00:56:41.208687Z",
     "iopub.status.idle": "2023-07-31T00:56:41.258809Z",
     "shell.execute_reply": "2023-07-31T00:56:41.256991Z"
    },
    "papermill": {
     "duration": 0.064872,
     "end_time": "2023-07-31T00:56:41.264781",
     "exception": false,
     "start_time": "2023-07-31T00:56:41.199909",
     "status": "completed"
    },
    "tags": []
   },
   "outputs": [],
   "source": [
    "train = pd.read_csv('/kaggle/input/icr-identify-age-related-conditions/train.csv')\n",
    "test = pd.read_csv('/kaggle/input/icr-identify-age-related-conditions/test.csv')\n",
    "greeks = pd.read_csv('/kaggle/input/icr-identify-age-related-conditions/greeks.csv')\n"
   ]
  },
  {
   "cell_type": "markdown",
   "id": "4041c467",
   "metadata": {
    "papermill": {
     "duration": 0.005684,
     "end_time": "2023-07-31T00:56:41.276576",
     "exception": false,
     "start_time": "2023-07-31T00:56:41.270892",
     "status": "completed"
    },
    "tags": []
   },
   "source": [
    "<div style=\"background-color:#F0E3D2; color:#19180F; font-size:15px; font-family:Verdana; padding:10px; border: 2px solid #19180F; border-radius:10px\"> \n",
    "📌\n",
    "Step 2 : Preprocessing the data. Converting the categorical variable 'EJ' to binary    </div>\n"
   ]
  },
  {
   "cell_type": "code",
   "execution_count": 3,
   "id": "d86bd5c6",
   "metadata": {
    "execution": {
     "iopub.execute_input": "2023-07-31T00:56:41.295234Z",
     "iopub.status.busy": "2023-07-31T00:56:41.294696Z",
     "iopub.status.idle": "2023-07-31T00:56:41.309760Z",
     "shell.execute_reply": "2023-07-31T00:56:41.308807Z"
    },
    "papermill": {
     "duration": 0.02854,
     "end_time": "2023-07-31T00:56:41.312479",
     "exception": false,
     "start_time": "2023-07-31T00:56:41.283939",
     "status": "completed"
    },
    "tags": []
   },
   "outputs": [],
   "source": [
    "first_category = train.EJ.unique()[0]\n",
    "train.EJ = train.EJ.eq(first_category).astype('int')\n",
    "test.EJ = test.EJ.eq(first_category).astype('int')\n"
   ]
  },
  {
   "cell_type": "markdown",
   "id": "c2084cac",
   "metadata": {
    "papermill": {
     "duration": 0.0063,
     "end_time": "2023-07-31T00:56:41.326831",
     "exception": false,
     "start_time": "2023-07-31T00:56:41.320531",
     "status": "completed"
    },
    "tags": []
   },
   "source": [
    "<div style=\"background-color:#F0E3D2; color:#19180F; font-size:15px; font-family:Verdana; padding:10px; border: 2px solid #19180F; border-radius:10px\"> \n",
    "📌\n",
    "Seperating features and target variable for training set and dropping ID column for test set    </div>\n"
   ]
  },
  {
   "cell_type": "code",
   "execution_count": 4,
   "id": "a405fc03",
   "metadata": {
    "execution": {
     "iopub.execute_input": "2023-07-31T00:56:41.345216Z",
     "iopub.status.busy": "2023-07-31T00:56:41.344261Z",
     "iopub.status.idle": "2023-07-31T00:56:41.358198Z",
     "shell.execute_reply": "2023-07-31T00:56:41.357248Z"
    },
    "papermill": {
     "duration": 0.025482,
     "end_time": "2023-07-31T00:56:41.360647",
     "exception": false,
     "start_time": "2023-07-31T00:56:41.335165",
     "status": "completed"
    },
    "tags": []
   },
   "outputs": [],
   "source": [
    "test_ids = test['Id']\n",
    "\n",
    "test = test.drop(['Id'], axis=1)\n",
    "\n",
    "x = train.drop(['Id', 'Class'], axis=1)\n",
    "y = train['Class']\n"
   ]
  },
  {
   "cell_type": "markdown",
   "id": "faa70bfb",
   "metadata": {
    "papermill": {
     "duration": 0.005663,
     "end_time": "2023-07-31T00:56:41.372602",
     "exception": false,
     "start_time": "2023-07-31T00:56:41.366939",
     "status": "completed"
    },
    "tags": []
   },
   "source": [
    "<div style=\"background-color:#F0E3D2; color:#19180F; font-size:15px; font-family:Verdana; padding:10px; border: 2px solid #19180F; border-radius:10px\"> \n",
    "📌\n",
    "Step 3: Handling missing values in the data. We'll use the mean strategy to fill in the missing values    </div>\n"
   ]
  },
  {
   "cell_type": "code",
   "execution_count": 5,
   "id": "9eec5284",
   "metadata": {
    "execution": {
     "iopub.execute_input": "2023-07-31T00:56:41.386435Z",
     "iopub.status.busy": "2023-07-31T00:56:41.385644Z",
     "iopub.status.idle": "2023-07-31T00:56:41.399558Z",
     "shell.execute_reply": "2023-07-31T00:56:41.398301Z"
    },
    "papermill": {
     "duration": 0.023818,
     "end_time": "2023-07-31T00:56:41.402166",
     "exception": false,
     "start_time": "2023-07-31T00:56:41.378348",
     "status": "completed"
    },
    "tags": []
   },
   "outputs": [],
   "source": [
    "imputer = SimpleImputer(strategy='mean')\n",
    "x = imputer.fit_transform(x)\n",
    "test = imputer.transform(test)"
   ]
  },
  {
   "cell_type": "markdown",
   "id": "806f9349",
   "metadata": {
    "papermill": {
     "duration": 0.00611,
     "end_time": "2023-07-31T00:56:41.414650",
     "exception": false,
     "start_time": "2023-07-31T00:56:41.408540",
     "status": "completed"
    },
    "tags": []
   },
   "source": [
    "<div style=\"background-color:#F0E3D2; color:#19180F; font-size:15px; font-family:Verdana; padding:10px; border: 2px solid #19180F; border-radius:10px\"> \n",
    "📌\n",
    "Step 4: Initializing the models    </div>\n"
   ]
  },
  {
   "cell_type": "code",
   "execution_count": 6,
   "id": "9efa22da",
   "metadata": {
    "execution": {
     "iopub.execute_input": "2023-07-31T00:56:41.429151Z",
     "iopub.status.busy": "2023-07-31T00:56:41.428108Z",
     "iopub.status.idle": "2023-07-31T00:56:41.433827Z",
     "shell.execute_reply": "2023-07-31T00:56:41.432714Z"
    },
    "papermill": {
     "duration": 0.015766,
     "end_time": "2023-07-31T00:56:41.436215",
     "exception": false,
     "start_time": "2023-07-31T00:56:41.420449",
     "status": "completed"
    },
    "tags": []
   },
   "outputs": [],
   "source": [
    "rf_model = RandomForestClassifier(random_state=42)\n",
    "lgb_model = lgb.LGBMClassifier(random_state=42)\n",
    "xgb_model = xgb.XGBClassifier(random_state=42)\n",
    "\n"
   ]
  },
  {
   "cell_type": "markdown",
   "id": "f62e25df",
   "metadata": {
    "papermill": {
     "duration": 0.005527,
     "end_time": "2023-07-31T00:56:41.448011",
     "exception": false,
     "start_time": "2023-07-31T00:56:41.442484",
     "status": "completed"
    },
    "tags": []
   },
   "source": [
    "<div style=\"background-color:#F0E3D2; color:#19180F; font-size:15px; font-family:Verdana; padding:10px; border: 2px solid #19180F; border-radius:10px\"> \n",
    "📌\n",
    "Step 5 : Creating the soft voting classifier    </div>\n"
   ]
  },
  {
   "cell_type": "code",
   "execution_count": 7,
   "id": "18489d0b",
   "metadata": {
    "execution": {
     "iopub.execute_input": "2023-07-31T00:56:41.461556Z",
     "iopub.status.busy": "2023-07-31T00:56:41.461114Z",
     "iopub.status.idle": "2023-07-31T00:56:41.466742Z",
     "shell.execute_reply": "2023-07-31T00:56:41.465415Z"
    },
    "papermill": {
     "duration": 0.015549,
     "end_time": "2023-07-31T00:56:41.469254",
     "exception": false,
     "start_time": "2023-07-31T00:56:41.453705",
     "status": "completed"
    },
    "tags": []
   },
   "outputs": [],
   "source": [
    "voting_clf = VotingClassifier(\n",
    "    estimators=[('rf', rf_model), ('lgb', lgb_model), ('xgb', xgb_model)],\n",
    "    voting='soft'\n",
    ")"
   ]
  },
  {
   "cell_type": "markdown",
   "id": "97e356b9",
   "metadata": {
    "papermill": {
     "duration": 0.00565,
     "end_time": "2023-07-31T00:56:41.480616",
     "exception": false,
     "start_time": "2023-07-31T00:56:41.474966",
     "status": "completed"
    },
    "tags": []
   },
   "source": [
    "<div style=\"background-color:#F0E3D2; color:#19180F; font-size:15px; font-family:Verdana; padding:10px; border: 2px solid #19180F; border-radius:10px\"> \n",
    "📌\n",
    "Splitting the training data into training and val sets    </div>\n"
   ]
  },
  {
   "cell_type": "code",
   "execution_count": 8,
   "id": "d138667d",
   "metadata": {
    "execution": {
     "iopub.execute_input": "2023-07-31T00:56:41.493802Z",
     "iopub.status.busy": "2023-07-31T00:56:41.493427Z",
     "iopub.status.idle": "2023-07-31T00:56:41.500856Z",
     "shell.execute_reply": "2023-07-31T00:56:41.499970Z"
    },
    "papermill": {
     "duration": 0.016409,
     "end_time": "2023-07-31T00:56:41.502961",
     "exception": false,
     "start_time": "2023-07-31T00:56:41.486552",
     "status": "completed"
    },
    "tags": []
   },
   "outputs": [],
   "source": [
    "x_train, x_val, y_train, y_val = train_test_split(x, y, test_size=0.2, random_state=42)\n"
   ]
  },
  {
   "cell_type": "markdown",
   "id": "5c489704",
   "metadata": {
    "papermill": {
     "duration": 0.005785,
     "end_time": "2023-07-31T00:56:41.514910",
     "exception": false,
     "start_time": "2023-07-31T00:56:41.509125",
     "status": "completed"
    },
    "tags": []
   },
   "source": [
    "<div style=\"background-color:#F0E3D2; color:#19180F; font-size:15px; font-family:Verdana; padding:10px; border: 2px solid #19180F; border-radius:10px\"> \n",
    "📌\n",
    "Step 6:  Training the soft voting classifier   </div>\n"
   ]
  },
  {
   "cell_type": "code",
   "execution_count": 9,
   "id": "9af3cad1",
   "metadata": {
    "execution": {
     "iopub.execute_input": "2023-07-31T00:56:41.529542Z",
     "iopub.status.busy": "2023-07-31T00:56:41.528331Z",
     "iopub.status.idle": "2023-07-31T00:56:42.928149Z",
     "shell.execute_reply": "2023-07-31T00:56:42.926494Z"
    },
    "papermill": {
     "duration": 1.409926,
     "end_time": "2023-07-31T00:56:42.930751",
     "exception": false,
     "start_time": "2023-07-31T00:56:41.520825",
     "status": "completed"
    },
    "tags": []
   },
   "outputs": [
    {
     "data": {
      "text/html": [
       "<style>#sk-container-id-1 {color: black;background-color: white;}#sk-container-id-1 pre{padding: 0;}#sk-container-id-1 div.sk-toggleable {background-color: white;}#sk-container-id-1 label.sk-toggleable__label {cursor: pointer;display: block;width: 100%;margin-bottom: 0;padding: 0.3em;box-sizing: border-box;text-align: center;}#sk-container-id-1 label.sk-toggleable__label-arrow:before {content: \"▸\";float: left;margin-right: 0.25em;color: #696969;}#sk-container-id-1 label.sk-toggleable__label-arrow:hover:before {color: black;}#sk-container-id-1 div.sk-estimator:hover label.sk-toggleable__label-arrow:before {color: black;}#sk-container-id-1 div.sk-toggleable__content {max-height: 0;max-width: 0;overflow: hidden;text-align: left;background-color: #f0f8ff;}#sk-container-id-1 div.sk-toggleable__content pre {margin: 0.2em;color: black;border-radius: 0.25em;background-color: #f0f8ff;}#sk-container-id-1 input.sk-toggleable__control:checked~div.sk-toggleable__content {max-height: 200px;max-width: 100%;overflow: auto;}#sk-container-id-1 input.sk-toggleable__control:checked~label.sk-toggleable__label-arrow:before {content: \"▾\";}#sk-container-id-1 div.sk-estimator input.sk-toggleable__control:checked~label.sk-toggleable__label {background-color: #d4ebff;}#sk-container-id-1 div.sk-label input.sk-toggleable__control:checked~label.sk-toggleable__label {background-color: #d4ebff;}#sk-container-id-1 input.sk-hidden--visually {border: 0;clip: rect(1px 1px 1px 1px);clip: rect(1px, 1px, 1px, 1px);height: 1px;margin: -1px;overflow: hidden;padding: 0;position: absolute;width: 1px;}#sk-container-id-1 div.sk-estimator {font-family: monospace;background-color: #f0f8ff;border: 1px dotted black;border-radius: 0.25em;box-sizing: border-box;margin-bottom: 0.5em;}#sk-container-id-1 div.sk-estimator:hover {background-color: #d4ebff;}#sk-container-id-1 div.sk-parallel-item::after {content: \"\";width: 100%;border-bottom: 1px solid gray;flex-grow: 1;}#sk-container-id-1 div.sk-label:hover label.sk-toggleable__label {background-color: #d4ebff;}#sk-container-id-1 div.sk-serial::before {content: \"\";position: absolute;border-left: 1px solid gray;box-sizing: border-box;top: 0;bottom: 0;left: 50%;z-index: 0;}#sk-container-id-1 div.sk-serial {display: flex;flex-direction: column;align-items: center;background-color: white;padding-right: 0.2em;padding-left: 0.2em;position: relative;}#sk-container-id-1 div.sk-item {position: relative;z-index: 1;}#sk-container-id-1 div.sk-parallel {display: flex;align-items: stretch;justify-content: center;background-color: white;position: relative;}#sk-container-id-1 div.sk-item::before, #sk-container-id-1 div.sk-parallel-item::before {content: \"\";position: absolute;border-left: 1px solid gray;box-sizing: border-box;top: 0;bottom: 0;left: 50%;z-index: -1;}#sk-container-id-1 div.sk-parallel-item {display: flex;flex-direction: column;z-index: 1;position: relative;background-color: white;}#sk-container-id-1 div.sk-parallel-item:first-child::after {align-self: flex-end;width: 50%;}#sk-container-id-1 div.sk-parallel-item:last-child::after {align-self: flex-start;width: 50%;}#sk-container-id-1 div.sk-parallel-item:only-child::after {width: 0;}#sk-container-id-1 div.sk-dashed-wrapped {border: 1px dashed gray;margin: 0 0.4em 0.5em 0.4em;box-sizing: border-box;padding-bottom: 0.4em;background-color: white;}#sk-container-id-1 div.sk-label label {font-family: monospace;font-weight: bold;display: inline-block;line-height: 1.2em;}#sk-container-id-1 div.sk-label-container {text-align: center;}#sk-container-id-1 div.sk-container {/* jupyter's `normalize.less` sets `[hidden] { display: none; }` but bootstrap.min.css set `[hidden] { display: none !important; }` so we also need the `!important` here to be able to override the default hidden behavior on the sphinx rendered scikit-learn.org. See: https://github.com/scikit-learn/scikit-learn/issues/21755 */display: inline-block !important;position: relative;}#sk-container-id-1 div.sk-text-repr-fallback {display: none;}</style><div id=\"sk-container-id-1\" class=\"sk-top-container\"><div class=\"sk-text-repr-fallback\"><pre>VotingClassifier(estimators=[(&#x27;rf&#x27;, RandomForestClassifier(random_state=42)),\n",
       "                             (&#x27;lgb&#x27;, LGBMClassifier(random_state=42)),\n",
       "                             (&#x27;xgb&#x27;,\n",
       "                              XGBClassifier(base_score=None, booster=None,\n",
       "                                            callbacks=None,\n",
       "                                            colsample_bylevel=None,\n",
       "                                            colsample_bynode=None,\n",
       "                                            colsample_bytree=None,\n",
       "                                            early_stopping_rounds=None,\n",
       "                                            enable_categorical=False,\n",
       "                                            eval_metric=None,\n",
       "                                            feature_types=None, gamma=None,\n",
       "                                            gpu...y=None,\n",
       "                                            importance_type=None,\n",
       "                                            interaction_constraints=None,\n",
       "                                            learning_rate=None, max_bin=None,\n",
       "                                            max_cat_threshold=None,\n",
       "                                            max_cat_to_onehot=None,\n",
       "                                            max_delta_step=None, max_depth=None,\n",
       "                                            max_leaves=None,\n",
       "                                            min_child_weight=None, missing=nan,\n",
       "                                            monotone_constraints=None,\n",
       "                                            n_estimators=100, n_jobs=None,\n",
       "                                            num_parallel_tree=None,\n",
       "                                            predictor=None, random_state=42, ...))],\n",
       "                 voting=&#x27;soft&#x27;)</pre><b>In a Jupyter environment, please rerun this cell to show the HTML representation or trust the notebook. <br />On GitHub, the HTML representation is unable to render, please try loading this page with nbviewer.org.</b></div><div class=\"sk-container\" hidden><div class=\"sk-item sk-dashed-wrapped\"><div class=\"sk-label-container\"><div class=\"sk-label sk-toggleable\"><input class=\"sk-toggleable__control sk-hidden--visually\" id=\"sk-estimator-id-1\" type=\"checkbox\" ><label for=\"sk-estimator-id-1\" class=\"sk-toggleable__label sk-toggleable__label-arrow\">VotingClassifier</label><div class=\"sk-toggleable__content\"><pre>VotingClassifier(estimators=[(&#x27;rf&#x27;, RandomForestClassifier(random_state=42)),\n",
       "                             (&#x27;lgb&#x27;, LGBMClassifier(random_state=42)),\n",
       "                             (&#x27;xgb&#x27;,\n",
       "                              XGBClassifier(base_score=None, booster=None,\n",
       "                                            callbacks=None,\n",
       "                                            colsample_bylevel=None,\n",
       "                                            colsample_bynode=None,\n",
       "                                            colsample_bytree=None,\n",
       "                                            early_stopping_rounds=None,\n",
       "                                            enable_categorical=False,\n",
       "                                            eval_metric=None,\n",
       "                                            feature_types=None, gamma=None,\n",
       "                                            gpu...y=None,\n",
       "                                            importance_type=None,\n",
       "                                            interaction_constraints=None,\n",
       "                                            learning_rate=None, max_bin=None,\n",
       "                                            max_cat_threshold=None,\n",
       "                                            max_cat_to_onehot=None,\n",
       "                                            max_delta_step=None, max_depth=None,\n",
       "                                            max_leaves=None,\n",
       "                                            min_child_weight=None, missing=nan,\n",
       "                                            monotone_constraints=None,\n",
       "                                            n_estimators=100, n_jobs=None,\n",
       "                                            num_parallel_tree=None,\n",
       "                                            predictor=None, random_state=42, ...))],\n",
       "                 voting=&#x27;soft&#x27;)</pre></div></div></div><div class=\"sk-parallel\"><div class=\"sk-parallel-item\"><div class=\"sk-item\"><div class=\"sk-label-container\"><div class=\"sk-label sk-toggleable\"><label>rf</label></div></div><div class=\"sk-serial\"><div class=\"sk-item\"><div class=\"sk-estimator sk-toggleable\"><input class=\"sk-toggleable__control sk-hidden--visually\" id=\"sk-estimator-id-2\" type=\"checkbox\" ><label for=\"sk-estimator-id-2\" class=\"sk-toggleable__label sk-toggleable__label-arrow\">RandomForestClassifier</label><div class=\"sk-toggleable__content\"><pre>RandomForestClassifier(random_state=42)</pre></div></div></div></div></div></div><div class=\"sk-parallel-item\"><div class=\"sk-item\"><div class=\"sk-label-container\"><div class=\"sk-label sk-toggleable\"><label>lgb</label></div></div><div class=\"sk-serial\"><div class=\"sk-item\"><div class=\"sk-estimator sk-toggleable\"><input class=\"sk-toggleable__control sk-hidden--visually\" id=\"sk-estimator-id-3\" type=\"checkbox\" ><label for=\"sk-estimator-id-3\" class=\"sk-toggleable__label sk-toggleable__label-arrow\">LGBMClassifier</label><div class=\"sk-toggleable__content\"><pre>LGBMClassifier(random_state=42)</pre></div></div></div></div></div></div><div class=\"sk-parallel-item\"><div class=\"sk-item\"><div class=\"sk-label-container\"><div class=\"sk-label sk-toggleable\"><label>xgb</label></div></div><div class=\"sk-serial\"><div class=\"sk-item\"><div class=\"sk-estimator sk-toggleable\"><input class=\"sk-toggleable__control sk-hidden--visually\" id=\"sk-estimator-id-4\" type=\"checkbox\" ><label for=\"sk-estimator-id-4\" class=\"sk-toggleable__label sk-toggleable__label-arrow\">XGBClassifier</label><div class=\"sk-toggleable__content\"><pre>XGBClassifier(base_score=None, booster=None, callbacks=None,\n",
       "              colsample_bylevel=None, colsample_bynode=None,\n",
       "              colsample_bytree=None, early_stopping_rounds=None,\n",
       "              enable_categorical=False, eval_metric=None, feature_types=None,\n",
       "              gamma=None, gpu_id=None, grow_policy=None, importance_type=None,\n",
       "              interaction_constraints=None, learning_rate=None, max_bin=None,\n",
       "              max_cat_threshold=None, max_cat_to_onehot=None,\n",
       "              max_delta_step=None, max_depth=None, max_leaves=None,\n",
       "              min_child_weight=None, missing=nan, monotone_constraints=None,\n",
       "              n_estimators=100, n_jobs=None, num_parallel_tree=None,\n",
       "              predictor=None, random_state=42, ...)</pre></div></div></div></div></div></div></div></div></div></div>"
      ],
      "text/plain": [
       "VotingClassifier(estimators=[('rf', RandomForestClassifier(random_state=42)),\n",
       "                             ('lgb', LGBMClassifier(random_state=42)),\n",
       "                             ('xgb',\n",
       "                              XGBClassifier(base_score=None, booster=None,\n",
       "                                            callbacks=None,\n",
       "                                            colsample_bylevel=None,\n",
       "                                            colsample_bynode=None,\n",
       "                                            colsample_bytree=None,\n",
       "                                            early_stopping_rounds=None,\n",
       "                                            enable_categorical=False,\n",
       "                                            eval_metric=None,\n",
       "                                            feature_types=None, gamma=None,\n",
       "                                            gpu...y=None,\n",
       "                                            importance_type=None,\n",
       "                                            interaction_constraints=None,\n",
       "                                            learning_rate=None, max_bin=None,\n",
       "                                            max_cat_threshold=None,\n",
       "                                            max_cat_to_onehot=None,\n",
       "                                            max_delta_step=None, max_depth=None,\n",
       "                                            max_leaves=None,\n",
       "                                            min_child_weight=None, missing=nan,\n",
       "                                            monotone_constraints=None,\n",
       "                                            n_estimators=100, n_jobs=None,\n",
       "                                            num_parallel_tree=None,\n",
       "                                            predictor=None, random_state=42, ...))],\n",
       "                 voting='soft')"
      ]
     },
     "execution_count": 9,
     "metadata": {},
     "output_type": "execute_result"
    }
   ],
   "source": [
    "voting_clf.fit(x_train, y_train)\n"
   ]
  },
  {
   "cell_type": "markdown",
   "id": "70a5760a",
   "metadata": {
    "papermill": {
     "duration": 0.006999,
     "end_time": "2023-07-31T00:56:42.944765",
     "exception": false,
     "start_time": "2023-07-31T00:56:42.937766",
     "status": "completed"
    },
    "tags": []
   },
   "source": [
    "<div style=\"background-color:#F0E3D2; color:#19180F; font-size:15px; font-family:Verdana; padding:10px; border: 2px solid #19180F; border-radius:10px\"> \n",
    "📌\n",
    "Step 7: Making predictions on the test set    </div>\n"
   ]
  },
  {
   "cell_type": "code",
   "execution_count": 10,
   "id": "1bdd8462",
   "metadata": {
    "execution": {
     "iopub.execute_input": "2023-07-31T00:56:42.959155Z",
     "iopub.status.busy": "2023-07-31T00:56:42.958767Z",
     "iopub.status.idle": "2023-07-31T00:56:42.981909Z",
     "shell.execute_reply": "2023-07-31T00:56:42.980631Z"
    },
    "papermill": {
     "duration": 0.033302,
     "end_time": "2023-07-31T00:56:42.984675",
     "exception": false,
     "start_time": "2023-07-31T00:56:42.951373",
     "status": "completed"
    },
    "tags": []
   },
   "outputs": [],
   "source": [
    "y_pred = voting_clf.predict_proba(test)\n"
   ]
  },
  {
   "cell_type": "markdown",
   "id": "6af17f38",
   "metadata": {
    "papermill": {
     "duration": 0.005832,
     "end_time": "2023-07-31T00:56:42.996966",
     "exception": false,
     "start_time": "2023-07-31T00:56:42.991134",
     "status": "completed"
    },
    "tags": []
   },
   "source": [
    "<div style=\"background-color:#F0E3D2; color:#19180F; font-size:15px; font-family:Verdana; padding:10px; border: 2px solid #19180F; border-radius:10px\"> \n",
    "📌\n",
    "Step 8: Generating submission file    </div>\n"
   ]
  },
  {
   "cell_type": "code",
   "execution_count": 11,
   "id": "8d43f4e1",
   "metadata": {
    "execution": {
     "iopub.execute_input": "2023-07-31T00:56:43.011566Z",
     "iopub.status.busy": "2023-07-31T00:56:43.011124Z",
     "iopub.status.idle": "2023-07-31T00:56:43.018145Z",
     "shell.execute_reply": "2023-07-31T00:56:43.017220Z"
    },
    "papermill": {
     "duration": 0.017657,
     "end_time": "2023-07-31T00:56:43.020639",
     "exception": false,
     "start_time": "2023-07-31T00:56:43.002982",
     "status": "completed"
    },
    "tags": []
   },
   "outputs": [],
   "source": [
    "submission_df = pd.DataFrame({\n",
    "    'Id': test_ids,\n",
    "    'class_0': y_pred[:, 0],  # Probability of Class 0 (No age-related condition)\n",
    "    'class_1': y_pred[:, 1],  # Probability of Class 1 (Age-related condition)\n",
    "})\n"
   ]
  },
  {
   "cell_type": "code",
   "execution_count": 12,
   "id": "fd01ad81",
   "metadata": {
    "execution": {
     "iopub.execute_input": "2023-07-31T00:56:43.034814Z",
     "iopub.status.busy": "2023-07-31T00:56:43.034417Z",
     "iopub.status.idle": "2023-07-31T00:56:43.044625Z",
     "shell.execute_reply": "2023-07-31T00:56:43.043606Z"
    },
    "papermill": {
     "duration": 0.020404,
     "end_time": "2023-07-31T00:56:43.047109",
     "exception": false,
     "start_time": "2023-07-31T00:56:43.026705",
     "status": "completed"
    },
    "tags": []
   },
   "outputs": [],
   "source": [
    "submission_df.to_csv('submission.csv', index=False)"
   ]
  },
  {
   "cell_type": "code",
   "execution_count": 13,
   "id": "d88834a7",
   "metadata": {
    "execution": {
     "iopub.execute_input": "2023-07-31T00:56:43.061431Z",
     "iopub.status.busy": "2023-07-31T00:56:43.061028Z",
     "iopub.status.idle": "2023-07-31T00:56:43.075194Z",
     "shell.execute_reply": "2023-07-31T00:56:43.074066Z"
    },
    "papermill": {
     "duration": 0.024008,
     "end_time": "2023-07-31T00:56:43.077507",
     "exception": false,
     "start_time": "2023-07-31T00:56:43.053499",
     "status": "completed"
    },
    "tags": []
   },
   "outputs": [
    {
     "data": {
      "text/html": [
       "<div>\n",
       "<style scoped>\n",
       "    .dataframe tbody tr th:only-of-type {\n",
       "        vertical-align: middle;\n",
       "    }\n",
       "\n",
       "    .dataframe tbody tr th {\n",
       "        vertical-align: top;\n",
       "    }\n",
       "\n",
       "    .dataframe thead th {\n",
       "        text-align: right;\n",
       "    }\n",
       "</style>\n",
       "<table border=\"1\" class=\"dataframe\">\n",
       "  <thead>\n",
       "    <tr style=\"text-align: right;\">\n",
       "      <th></th>\n",
       "      <th>Id</th>\n",
       "      <th>class_0</th>\n",
       "      <th>class_1</th>\n",
       "    </tr>\n",
       "  </thead>\n",
       "  <tbody>\n",
       "    <tr>\n",
       "      <th>0</th>\n",
       "      <td>00eed32682bb</td>\n",
       "      <td>0.661583</td>\n",
       "      <td>0.338417</td>\n",
       "    </tr>\n",
       "    <tr>\n",
       "      <th>1</th>\n",
       "      <td>010ebe33f668</td>\n",
       "      <td>0.661583</td>\n",
       "      <td>0.338417</td>\n",
       "    </tr>\n",
       "    <tr>\n",
       "      <th>2</th>\n",
       "      <td>02fa521e1838</td>\n",
       "      <td>0.661583</td>\n",
       "      <td>0.338417</td>\n",
       "    </tr>\n",
       "    <tr>\n",
       "      <th>3</th>\n",
       "      <td>040e15f562a2</td>\n",
       "      <td>0.661583</td>\n",
       "      <td>0.338417</td>\n",
       "    </tr>\n",
       "    <tr>\n",
       "      <th>4</th>\n",
       "      <td>046e85c7cc7f</td>\n",
       "      <td>0.661583</td>\n",
       "      <td>0.338417</td>\n",
       "    </tr>\n",
       "  </tbody>\n",
       "</table>\n",
       "</div>"
      ],
      "text/plain": [
       "             Id   class_0   class_1\n",
       "0  00eed32682bb  0.661583  0.338417\n",
       "1  010ebe33f668  0.661583  0.338417\n",
       "2  02fa521e1838  0.661583  0.338417\n",
       "3  040e15f562a2  0.661583  0.338417\n",
       "4  046e85c7cc7f  0.661583  0.338417"
      ]
     },
     "execution_count": 13,
     "metadata": {},
     "output_type": "execute_result"
    }
   ],
   "source": [
    "submission_df"
   ]
  },
  {
   "cell_type": "code",
   "execution_count": null,
   "id": "338d1848",
   "metadata": {
    "papermill": {
     "duration": 0.006599,
     "end_time": "2023-07-31T00:56:43.090628",
     "exception": false,
     "start_time": "2023-07-31T00:56:43.084029",
     "status": "completed"
    },
    "tags": []
   },
   "outputs": [],
   "source": []
  }
 ],
 "metadata": {
  "kernelspec": {
   "display_name": "Python 3",
   "language": "python",
   "name": "python3"
  },
  "language_info": {
   "codemirror_mode": {
    "name": "ipython",
    "version": 3
   },
   "file_extension": ".py",
   "mimetype": "text/x-python",
   "name": "python",
   "nbconvert_exporter": "python",
   "pygments_lexer": "ipython3",
   "version": "3.10.12"
  },
  "papermill": {
   "default_parameters": {},
   "duration": 19.510707,
   "end_time": "2023-07-31T00:56:44.320264",
   "environment_variables": {},
   "exception": null,
   "input_path": "__notebook__.ipynb",
   "output_path": "__notebook__.ipynb",
   "parameters": {},
   "start_time": "2023-07-31T00:56:24.809557",
   "version": "2.4.0"
  }
 },
 "nbformat": 4,
 "nbformat_minor": 5
}
