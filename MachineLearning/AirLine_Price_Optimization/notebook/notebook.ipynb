{
 "cells": [
  {
   "attachments": {},
   "cell_type": "markdown",
   "metadata": {},
   "source": [
    "### The Problem¶\n",
    "You recently started Aviato.com, a startup that helps airlines set ticket prices.\n",
    "\n",
    "Aviato's success will depend on a function called pricing_function. This notebook already includes a very simple version of pricing_function. You will modify pricing_function to maximize the total revenue collected for all flights in our simulated environment.\n",
    "\n",
    "For each flight, pricing_function will be run once per (simulated) day to set that day's ticket price. The seats you don't sell today will be available to sell tomorrow, unless the flight leaves that day.\n",
    "\n",
    "Your pricing_function is run for one flight at a time, and it takes following inputs:\n",
    "\n",
    "Number of days until the flight\n",
    "Number of seats they have left to sell\n",
    "A variable called demand_level that determines how many tickets you can sell at any given price.\n",
    "The quantity you sell at any price is:\n",
    "\n",
    "quantity_sold = demand_level - price\n",
    "\n",
    "Ticket quantities are capped at the number of seats available.\n",
    "\n",
    "Your function will output the ticket price.\n",
    "\n",
    "You learn the demand_level for each day at the time you need to make predictions for that day. For all days in the future, you only know demand_level will be drawn from the uniform distribution between 100 and 200. So, for any day in the future, it is equally likely to be each value between 100 and 200.\n",
    "\n",
    "In case this is still unclear, some relevant implementation code is shown below.\n",
    "\n",
    "The Simulator\n",
    "We will run your pricing function in a simulator to test how well it performs on a range of flight situations. Run the following code cell to set up your simulation environment:"
   ]
  },
  {
   "attachments": {},
   "cell_type": "markdown",
   "metadata": {},
   "source": [
    "Solution reference - https://www.kaggle.com/code/anantgupta/usingexistingsolution-qv-7581/notebook"
   ]
  },
  {
   "cell_type": "code",
   "execution_count": 1,
   "metadata": {},
   "outputs": [],
   "source": [
    "import sys\n",
    "sys.path.append('/home/suraj/ClickUp/Jan-Feb/DataScience_ML_DL_Projects/MachineLearning/AirLine_Price_Optimization/scripts/')\n",
    "from flight_revenue_simulator import simulate_revenue, score_me"
   ]
  },
  {
   "attachments": {},
   "cell_type": "markdown",
   "metadata": {},
   "source": [
    "The function tickets_sold and simulate revenue are the core ones!"
   ]
  },
  {
   "cell_type": "code",
   "execution_count": null,
   "metadata": {},
   "outputs": [],
   "source": [
    "def pricing_function(days_left, tickets_left, demand_level):\n",
    "    \"\"\"Sample pricing function\"\"\"\n",
    "    price = demand_level - 10\n",
    "    return price"
   ]
  },
  {
   "cell_type": "code",
   "execution_count": null,
   "metadata": {},
   "outputs": [],
   "source": [
    "simulate_revenue(days_left=7, tickets_left=50, pricing_function=pricing_function, verbose=True)"
   ]
  },
  {
   "attachments": {},
   "cell_type": "markdown",
   "metadata": {},
   "source": [
    "Using DP to solve the problem !\n",
    "Solving problem using top down tabular problem using trying to solve it for scenario when we have only one day left and then iterating to bigger slots of days.\n",
    "\n",
    "The Q-V approach adopted in Reinforcement learning is used to solve the problem.\n",
    "\n",
    "Q-V function - https://datascience.stackexchange.com/questions/9832/what-is-the-q-function-and-what-is-the-v-function-in-reinforcement-learning"
   ]
  },
  {
   "attachments": {},
   "cell_type": "markdown",
   "metadata": {},
   "source": [
    "Steps followed.\n",
    "1. Exploration.\n",
    "2. Exploitation.\n",
    "3. Initialise Q table, Choose Action, Perform Action, Measure Reward, Update Q table.\n",
    "\n",
    "Value function returns the best outcome achievable from any input state. V(days_left, tickets_left) shall be our function.\n",
    "\n",
    "Q value is same as V function except that it includes decision as an input, returns revenue here.\n",
    "\n",
    "Demand level is going to be the decision affecting input."
   ]
  },
  {
   "cell_type": "code",
   "execution_count": 3,
   "metadata": {},
   "outputs": [],
   "source": [
    "import numpy as np\n",
    "demand_level_count = 100\n",
    "min_demand_level = 100\n",
    "max_demand_level = 200\n",
    "demand_levels = np.linspace(min_demand_level, max_demand_level, demand_level_count)\n",
    "\n",
    "max_tickets = 200\n",
    "max_days = 180 # 6 months slot for pre booking"
   ]
  },
  {
   "cell_type": "code",
   "execution_count": null,
   "metadata": {},
   "outputs": [],
   "source": [
    "Q = np.zeros([max_tickets, max_tickets, demand_level_count, max_days])\n",
    "V = np.zeros([max_tickets, max_days])"
   ]
  },
  {
   "cell_type": "markdown",
   "metadata": {},
   "source": []
  },
  {
   "cell_type": "markdown",
   "metadata": {},
   "source": []
  },
  {
   "cell_type": "markdown",
   "metadata": {},
   "source": []
  }
 ],
 "metadata": {
  "kernelspec": {
   "display_name": "Python 3",
   "language": "python",
   "name": "python3"
  },
  "language_info": {
   "codemirror_mode": {
    "name": "ipython",
    "version": 3
   },
   "file_extension": ".py",
   "mimetype": "text/x-python",
   "name": "python",
   "nbconvert_exporter": "python",
   "pygments_lexer": "ipython3",
   "version": "3.8.10"
  },
  "orig_nbformat": 4,
  "vscode": {
   "interpreter": {
    "hash": "916dbcbb3f70747c44a77c7bcd40155683ae19c65e1c03b4aa3499c5328201f1"
   }
  }
 },
 "nbformat": 4,
 "nbformat_minor": 2
}
