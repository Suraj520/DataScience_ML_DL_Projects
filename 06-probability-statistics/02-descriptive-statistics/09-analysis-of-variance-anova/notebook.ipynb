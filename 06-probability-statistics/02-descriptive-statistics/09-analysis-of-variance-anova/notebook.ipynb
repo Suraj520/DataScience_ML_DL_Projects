{
 "cells": [
  {
   "attachments": {},
   "cell_type": "markdown",
   "metadata": {},
   "source": [
    "#### About\n",
    "\n",
    "> Analysis of variance(ANOVA)\n",
    "\n",
    "ANOVA (Analysis of Variance) is a statistical technique used to compare means of two or more groups of data. It helps to determine whether there are any statistically significant differences between the means of the groups.\n",
    "\n"
   ]
  },
  {
   "cell_type": "code",
   "execution_count": 1,
   "metadata": {},
   "outputs": [],
   "source": [
    "import pandas as pd\n",
    "import scipy.stats as stats"
   ]
  },
  {
   "cell_type": "code",
   "execution_count": 2,
   "metadata": {},
   "outputs": [],
   "source": [
    "group1 = [10, 15, 20, 25, 30]\n",
    "group2 = [5, 10, 15, 20, 25]\n",
    "group3 = [2, 4, 6, 8, 10]\n",
    "data = pd.DataFrame({'Group1': group1, 'Group2': group2, 'Group3': group3})\n"
   ]
  },
  {
   "cell_type": "code",
   "execution_count": 3,
   "metadata": {},
   "outputs": [
    {
     "name": "stdout",
     "output_type": "stream",
     "text": [
      "F-value: 5.592592592592592\n",
      "p-value: 0.01922312818640394\n"
     ]
    }
   ],
   "source": [
    "# Perform one-way ANOVA\n",
    "fvalue, pvalue = stats.f_oneway(data['Group1'], data['Group2'], data['Group3'])\n",
    "print('F-value:', fvalue)\n",
    "print('p-value:', pvalue)\n"
   ]
  },
  {
   "cell_type": "code",
   "execution_count": 4,
   "metadata": {},
   "outputs": [
    {
     "name": "stdout",
     "output_type": "stream",
     "text": [
      "There is a statistically significant difference between the means of the groups.\n"
     ]
    }
   ],
   "source": [
    "# Interpret the result\n",
    "if pvalue < 0.05:\n",
    "    print('There is a statistically significant difference between the means of the groups.')\n",
    "else:\n",
    "    print('There is no statistically significant difference between the means of the groups.')"
   ]
  },
  {
   "attachments": {},
   "cell_type": "markdown",
   "metadata": {},
   "source": [
    "Use cases\n",
    "\n",
    "1. In medicine, It can be used to compare the effectiveness of different treatments on a particular disease.\n",
    "2. In education, It can be used to compare the performance of diff. schools.\n",
    "3. In manufacturing, It can be used to compare the quality of products manuf. by different production lines."
   ]
  },
  {
   "cell_type": "code",
   "execution_count": null,
   "metadata": {},
   "outputs": [],
   "source": []
  }
 ],
 "metadata": {
  "kernelspec": {
   "display_name": "Python 3",
   "language": "python",
   "name": "python3"
  },
  "language_info": {
   "codemirror_mode": {
    "name": "ipython",
    "version": 3
   },
   "file_extension": ".py",
   "mimetype": "text/x-python",
   "name": "python",
   "nbconvert_exporter": "python",
   "pygments_lexer": "ipython3",
   "version": "3.9.16"
  },
  "orig_nbformat": 4
 },
 "nbformat": 4,
 "nbformat_minor": 2
}
