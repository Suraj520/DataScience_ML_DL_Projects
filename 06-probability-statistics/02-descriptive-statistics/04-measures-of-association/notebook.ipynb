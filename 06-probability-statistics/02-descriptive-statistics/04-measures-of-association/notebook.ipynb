{
 "cells": [
  {
   "attachments": {},
   "cell_type": "markdown",
   "metadata": {},
   "source": [
    "#### About\n",
    "\n",
    "> Measures of Association\n",
    "\n",
    "Measures of association are statistical techniques used to determine the strength and direction of the relationship between two or more variables. They are used to explore the degree to which changes in one variable are associated with changes in another variable. The commonly used measures of association are correlation and regression.\n",
    "\n",
    "- Correlation - \n",
    "Correlation is a measure of association between two continuous variables. It indicates the strength and direction of the linear relationship between the two variables. Correlation can range from -1 to 1, with -1 indicating a strong negative correlation, 0 indicating no correlation, and 1 indicating a strong positive correlation.\n",
    "\n"
   ]
  },
  {
   "cell_type": "code",
   "execution_count": 1,
   "metadata": {},
   "outputs": [
    {
     "name": "stdout",
     "output_type": "stream",
     "text": [
      "Correlation coefficient: 1.0\n"
     ]
    }
   ],
   "source": [
    "import pandas as pd\n",
    "\n",
    "data = {\"X\": [10, 20, 30, 40, 50], \"Y\": [25, 45, 65, 85, 105]}\n",
    "\n",
    "df = pd.DataFrame(data)\n",
    "\n",
    "# Calculate the correlation\n",
    "corr = df[\"X\"].corr(df[\"Y\"])\n",
    "\n",
    "print(\"Correlation coefficient:\", corr)"
   ]
  },
  {
   "attachments": {},
   "cell_type": "markdown",
   "metadata": {},
   "source": [
    "The output is 1.0, indicating a perfect positive correlation between the two variables."
   ]
  },
  {
   "attachments": {},
   "cell_type": "markdown",
   "metadata": {},
   "source": [
    "- Regression :\n",
    "Regression is a statistical technique used to model the relationship between a dependent variable and one or more independent variables. It helps to predict the value of the dependent variable based on the value of one or more independent variables."
   ]
  },
  {
   "cell_type": "code",
   "execution_count": 2,
   "metadata": {},
   "outputs": [
    {
     "name": "stdout",
     "output_type": "stream",
     "text": [
      "Intercept: 5.0\n",
      "Slope: 2.0\n"
     ]
    }
   ],
   "source": [
    "import pandas as pd\n",
    "from sklearn.linear_model import LinearRegression\n",
    "\n",
    "data = {\"X\": [10, 20, 30, 40, 50], \"Y\": [25, 45, 65, 85, 105]}\n",
    "\n",
    "df = pd.DataFrame(data)\n",
    "\n",
    "# Fit the linear regression model\n",
    "model = LinearRegression().fit(df[[\"X\"]], df[\"Y\"])\n",
    "\n",
    "# Print the coefficients\n",
    "print(\"Intercept:\", model.intercept_)\n",
    "print(\"Slope:\", model.coef_[0])"
   ]
  },
  {
   "cell_type": "code",
   "execution_count": null,
   "metadata": {},
   "outputs": [],
   "source": []
  }
 ],
 "metadata": {
  "kernelspec": {
   "display_name": "dl",
   "language": "python",
   "name": "python3"
  },
  "language_info": {
   "codemirror_mode": {
    "name": "ipython",
    "version": 3
   },
   "file_extension": ".py",
   "mimetype": "text/x-python",
   "name": "python",
   "nbconvert_exporter": "python",
   "pygments_lexer": "ipython3",
   "version": "3.9.16"
  },
  "orig_nbformat": 4
 },
 "nbformat": 4,
 "nbformat_minor": 2
}
