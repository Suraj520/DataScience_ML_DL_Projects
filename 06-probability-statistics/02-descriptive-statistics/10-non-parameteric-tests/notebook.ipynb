{
 "cells": [
  {
   "attachments": {},
   "cell_type": "markdown",
   "metadata": {},
   "source": [
    "#### About\n",
    "\n",
    "> Non parametric tests( e.g - Mann-Whitney U Test, Wilcoxon signed-rank test)                         \n",
    "\n",
    "Non-parametric tests are statistical tests that do not make any assumptions about the underlying distribution of the data. These tests are used when the data does not follow a normal distribution or when the sample size is small. Two commonly used non-parametric tests are the Mann-Whitney U test and the Wilcoxon signed-rank test.\n",
    "\n",
    "- Mann-Whitney U Test:\n",
    "The Mann-Whitney U test is a non-parametric test used to compare two independent samples. It is also known as the Wilcoxon rank-sum test. The test is used to determine whether the two samples come from populations with the same distribution. The null hypothesis for the test is that the two populations have the same distribution.\n",
    "\n",
    "- Use cases - In medical, It is used to compare the effectiveness of two treatments.\n",
    "\n",
    "- Wilcoxon signed-rank test:\n",
    "The Wilcoxon signed-rank test is a non-parametric test used to compare two related samples. It is used to determine whether the differences between the two samples are significant. The null hypothesis for the test is that there is no difference between the two populations.\n",
    "\n",
    "\n"
   ]
  },
  {
   "attachments": {},
   "cell_type": "markdown",
   "metadata": {},
   "source": [
    "Suppose we want to determine whether a new drug has a significant effect on blood pressure. We measure the blood pressure of 10 patients before and after administering the drug. We can use the Wilcoxon signed-rank test to determine whether there is a significant difference in the blood pressure measurements.\n",
    "\n"
   ]
  },
  {
   "cell_type": "code",
   "execution_count": 1,
   "metadata": {},
   "outputs": [],
   "source": [
    "import numpy as np\n",
    "from scipy.stats import wilcoxon"
   ]
  },
  {
   "cell_type": "code",
   "execution_count": 2,
   "metadata": {},
   "outputs": [],
   "source": [
    "# Generate two related samples\n",
    "before = np.random.normal(120, 10, 10)\n",
    "after = np.random.normal(110, 10, 10)\n"
   ]
  },
  {
   "cell_type": "code",
   "execution_count": 3,
   "metadata": {},
   "outputs": [
    {
     "name": "stdout",
     "output_type": "stream",
     "text": [
      "Wilcoxon signed-rank test\n",
      "Statistic: 2.0\n",
      "p-value 0.005859375\n"
     ]
    }
   ],
   "source": [
    "# Apply Wilcoxon signed-rank test\n",
    "stat, p = wilcoxon(before, after)\n",
    "print('Wilcoxon signed-rank test')\n",
    "print('Statistic:',stat)\n",
    "print('p-value',p)\n"
   ]
  },
  {
   "attachments": {},
   "cell_type": "markdown",
   "metadata": {},
   "source": [
    "The obtained test statistic is 2.0 and the p-value is 0.005859375. Since the p-value is less than the commonly used significance level of 0.05, we reject the null hypothesis that there is no difference between the blood pressure measurements before and after the treatment. Therefore, we can conclude that the drug treatment has a significant effect on reducing blood pressure in patients.\n",
    "\n",
    "\n",
    "\n"
   ]
  },
  {
   "attachments": {},
   "cell_type": "markdown",
   "metadata": {},
   "source": [
    "> Using Mann-Whitney U Test to determine if there is a significant difference between the two groups"
   ]
  },
  {
   "cell_type": "code",
   "execution_count": 4,
   "metadata": {},
   "outputs": [],
   "source": [
    "import numpy as np\n",
    "from scipy.stats import mannwhitneyu"
   ]
  },
  {
   "cell_type": "code",
   "execution_count": 5,
   "metadata": {},
   "outputs": [],
   "source": [
    "# Create two independent samples\n",
    "group1 = [75, 82, 62, 68, 76, 74, 81, 68]\n",
    "group2 = [55, 68, 72, 60, 70, 62, 65, 63]\n"
   ]
  },
  {
   "cell_type": "code",
   "execution_count": 6,
   "metadata": {},
   "outputs": [],
   "source": [
    "# Perform Mann-Whitney U Test\n",
    "stat, p = mannwhitneyu(group1, group2)\n"
   ]
  },
  {
   "cell_type": "code",
   "execution_count": 7,
   "metadata": {},
   "outputs": [
    {
     "name": "stdout",
     "output_type": "stream",
     "text": [
      "Reject null hypothesis - significant difference between groups.\n"
     ]
    }
   ],
   "source": [
    "# Interpret results\n",
    "alpha = 0.05\n",
    "if p > alpha:\n",
    "    print(\"Fail to reject null hypothesis - no significant difference between groups.\")\n",
    "else:\n",
    "    print(\"Reject null hypothesis - significant difference between groups.\")"
   ]
  },
  {
   "cell_type": "code",
   "execution_count": null,
   "metadata": {},
   "outputs": [],
   "source": []
  }
 ],
 "metadata": {
  "kernelspec": {
   "display_name": "dl",
   "language": "python",
   "name": "python3"
  },
  "language_info": {
   "codemirror_mode": {
    "name": "ipython",
    "version": 3
   },
   "file_extension": ".py",
   "mimetype": "text/x-python",
   "name": "python",
   "nbconvert_exporter": "python",
   "pygments_lexer": "ipython3",
   "version": "3.9.16"
  },
  "orig_nbformat": 4
 },
 "nbformat": 4,
 "nbformat_minor": 2
}
