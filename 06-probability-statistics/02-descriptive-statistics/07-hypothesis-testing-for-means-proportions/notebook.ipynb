{
 "cells": [
  {
   "attachments": {},
   "cell_type": "markdown",
   "metadata": {},
   "source": [
    "#### About\n",
    "\n",
    "> Hypothesis testing for means and proportion\n",
    "\n",
    "Hypothesis testing is a statistical method used to make decisions based on data, where we compare a null hypothesis and an alternative hypothesis. The null hypothesis represents the default assumption, while the alternative hypothesis represents the claim that we want to test.\n",
    "\n",
    "When it comes to hypothesis testing for means and proportions, we typically use a z-test or a t-test for means and a chi-squared test for proportions. The steps for hypothesis testing include:\n",
    "\n",
    "- State the null and alt. hypothesis.\n",
    "- Determine the appropriate test statistic and level of significance\n",
    "- calc. test statistics.\n",
    "- Determine the p-value.\n",
    "- Make decision and interpret the results\n",
    "\n"
   ]
  },
  {
   "attachments": {},
   "cell_type": "markdown",
   "metadata": {},
   "source": [
    "Suppose we have a sample of 20 students and we want to test whether their average test score is significantly different from 75. We can use a t-test to test this hypothesis, with a significance level of 0.05.\n",
    "\n"
   ]
  },
  {
   "cell_type": "code",
   "execution_count": 3,
   "metadata": {},
   "outputs": [
    {
     "name": "stdout",
     "output_type": "stream",
     "text": [
      "-1.4217160742372863 0.17131650734701984\n",
      "Fail to reject null hypothesis. The population mean is 75.\n"
     ]
    }
   ],
   "source": [
    "import numpy as np\n",
    "from scipy.stats import ttest_1samp\n",
    "\n",
    "# Sample data\n",
    "data = np.array([72, 75, 80, 68, 70, 74, 73, 72, 76, 78, 75, 71, 79, 72, 73, 76, 70, 75, 77, 74])\n",
    "\n",
    "# Null hypothesis: The population mean is 75\n",
    "# Alternative hypothesis: The population mean is not 75\n",
    "null_mean = 75\n",
    "alpha = 0.05\n",
    "\n",
    "# Calculate the test statistic and p-value\n",
    "t_stat, p_value = ttest_1samp(data, null_mean)\n",
    "\n",
    "\n",
    "print(t_stat,p_value)\n",
    "# Make a decision and interpret the results\n",
    "if p_value < alpha:\n",
    "    print(\"Reject null hypothesis. The population mean is not 75.\")\n",
    "else:\n",
    "    print(\"Fail to reject null hypothesis. The population mean is 75.\")"
   ]
  },
  {
   "attachments": {},
   "cell_type": "markdown",
   "metadata": {},
   "source": [
    "Here, The calculated t-statistic is -1.42 and the p-value is 0.17 which is greater than significance level of 0.05. \n",
    "Hence, We fail to reject the null hypothesis and conclude that there is not enough evidence to suggest that population mean is different from 75."
   ]
  },
  {
   "cell_type": "markdown",
   "metadata": {},
   "source": []
  }
 ],
 "metadata": {
  "kernelspec": {
   "display_name": "Python 3",
   "language": "python",
   "name": "python3"
  },
  "language_info": {
   "codemirror_mode": {
    "name": "ipython",
    "version": 3
   },
   "file_extension": ".py",
   "mimetype": "text/x-python",
   "name": "python",
   "nbconvert_exporter": "python",
   "pygments_lexer": "ipython3",
   "version": "3.10.6"
  },
  "orig_nbformat": 4
 },
 "nbformat": 4,
 "nbformat_minor": 2
}
