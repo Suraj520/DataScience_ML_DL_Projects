{
 "cells": [
  {
   "attachments": {},
   "cell_type": "markdown",
   "metadata": {},
   "source": [
    "#### About\n",
    "\n",
    "> Index numbers and Inflation\n",
    "\n",
    "Index numbers are statistical measures that allow us to track changes in the value of a variable over time. \n",
    "\n",
    "Inflation is the rate at which the general level of prices for goods and services is rising, and subsequently, purchasing power is falling. "
   ]
  },
  {
   "attachments": {},
   "cell_type": "markdown",
   "metadata": {},
   "source": [
    "Let's say we have data on the prices of different commodities over the years. We can calculate the price index for each year, which will give us an idea of the changes in prices over time. The formula for calculating the price index is:\n",
    "\n",
    "Price index = (Price of commodity in current year / Price of commodity in base year) x 100\n",
    "\n",
    "Let's assume 2020 as the base year and have the following data:"
   ]
  },
  {
   "cell_type": "code",
   "execution_count": 1,
   "metadata": {},
   "outputs": [
    {
     "name": "stdout",
     "output_type": "stream",
     "text": [
      "      Price of Rice  Price of Wheat\n",
      "Year                               \n",
      "2018             30              25\n",
      "2019             35              28\n",
      "2020             40              30\n",
      "2021             50              35\n"
     ]
    }
   ],
   "source": [
    "import pandas as pd\n",
    "\n",
    "data = {'Year': [2018, 2019, 2020, 2021],\n",
    "        'Price of Rice': [30, 35, 40, 50],\n",
    "        'Price of Wheat': [25, 28, 30, 35]}\n",
    "df = pd.DataFrame(data)\n",
    "df.set_index('Year', inplace=True)\n",
    "\n",
    "print(df)"
   ]
  },
  {
   "attachments": {},
   "cell_type": "markdown",
   "metadata": {},
   "source": [
    "Now, we can calculate the price index for each year using the above formula:\n",
    "\n"
   ]
  },
  {
   "cell_type": "code",
   "execution_count": 2,
   "metadata": {},
   "outputs": [
    {
     "name": "stdout",
     "output_type": "stream",
     "text": [
      "      Price of Rice  Price of Wheat  Price Index Rice  Price Index Wheat\n",
      "Year                                                                    \n",
      "2018             30              25              75.0          83.333333\n",
      "2019             35              28              87.5          93.333333\n",
      "2020             40              30             100.0         100.000000\n",
      "2021             50              35             125.0         116.666667\n"
     ]
    }
   ],
   "source": [
    "base_year = 2020\n",
    "df['Price Index Rice'] = (df['Price of Rice'] / df.loc[base_year, 'Price of Rice']) * 100\n",
    "df['Price Index Wheat'] = (df['Price of Wheat'] / df.loc[base_year, 'Price of Wheat']) * 100\n",
    "\n",
    "print(df)"
   ]
  },
  {
   "attachments": {},
   "cell_type": "markdown",
   "metadata": {},
   "source": [
    "> Conclusion\n",
    "\n",
    "\n",
    "From the above output, we can observe that the price index of rice and wheat increased every year. In 2018, the price index of rice was 75% and the price index of wheat was 83.33% of the base year. Similarly, in 2021, the price index of rice was 125% and the price index of wheat was 116.67% of the base year.\n",
    "\n"
   ]
  },
  {
   "attachments": {},
   "cell_type": "markdown",
   "metadata": {},
   "source": [
    "Calculating Inflation rate"
   ]
  },
  {
   "cell_type": "code",
   "execution_count": 3,
   "metadata": {},
   "outputs": [
    {
     "name": "stdout",
     "output_type": "stream",
     "text": [
      "      Price of Rice  Price of Wheat  Price Index Rice  Price Index Wheat   \n",
      "Year                                                                       \n",
      "2018             30              25              75.0          83.333333  \\\n",
      "2019             35              28              87.5          93.333333   \n",
      "2020             40              30             100.0         100.000000   \n",
      "2021             50              35             125.0         116.666667   \n",
      "\n",
      "      Inflation Rate Rice  Inflation Rate Wheat  \n",
      "Year                                             \n",
      "2018                -25.0            -16.666667  \n",
      "2019                -12.5             -6.666667  \n",
      "2020                  0.0              0.000000  \n",
      "2021                 25.0             16.666667  \n"
     ]
    }
   ],
   "source": [
    "df['Inflation Rate Rice'] = ((df['Price Index Rice'] - 100) / 100) * 100\n",
    "df['Inflation Rate Wheat'] = ((df['Price Index Wheat'] - 100) / 100) * 100\n",
    "\n",
    "print(df)"
   ]
  },
  {
   "attachments": {},
   "cell_type": "markdown",
   "metadata": {},
   "source": [
    "\n",
    "The price index for rice in 2018 is 75.0, which means that the price of rice in 2018 was 75% of the price of rice in the base year. Similarly, the price index for wheat in 2018 is 83.333333, which means that the price of wheat in 2018 was 83.33% of the price of wheat in the base year."
   ]
  },
  {
   "cell_type": "code",
   "execution_count": null,
   "metadata": {},
   "outputs": [],
   "source": []
  }
 ],
 "metadata": {
  "kernelspec": {
   "display_name": "dl",
   "language": "python",
   "name": "python3"
  },
  "language_info": {
   "codemirror_mode": {
    "name": "ipython",
    "version": 3
   },
   "file_extension": ".py",
   "mimetype": "text/x-python",
   "name": "python",
   "nbconvert_exporter": "python",
   "pygments_lexer": "ipython3",
   "version": "3.9.16"
  },
  "orig_nbformat": 4
 },
 "nbformat": 4,
 "nbformat_minor": 2
}
