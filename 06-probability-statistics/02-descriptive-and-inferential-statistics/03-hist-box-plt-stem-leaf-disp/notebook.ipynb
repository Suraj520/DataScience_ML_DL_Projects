{
 "cells": [
  {
   "attachments": {},
   "cell_type": "markdown",
   "metadata": {},
   "source": [
    "#### About\n",
    "\n",
    "> Histogram, Box Plot, Steam and leaf display.\n",
    "\n",
    "Histogram\n",
    "A histogram is a graphical representation of the frequency distribution of a dataset. It is a way of showing the distribution of data by grouping the data into intervals or bins, and representing the frequency or count of each bin by a bar. The x-axis represents the intervals, while the y-axis represents the frequency or count."
   ]
  },
  {
   "cell_type": "code",
   "execution_count": 1,
   "metadata": {},
   "outputs": [
    {
     "data": {
      "image/png": "[encoded data removed]",
      "text/plain": [
       "<Figure size 640x480 with 1 Axes>"
      ]
     },
     "metadata": {},
     "output_type": "display_data"
    }
   ],
   "source": [
    "import matplotlib.pyplot as plt\n",
    "import numpy as np\n",
    "\n",
    "data = np.random.normal(0, 1, 1000)\n",
    "\n",
    "# Create the histogram\n",
    "plt.hist(data, bins=30)\n",
    "plt.title(\"Histogram of Data\")\n",
    "plt.xlabel(\"Values\")\n",
    "plt.ylabel(\"Frequency\")\n",
    "plt.show()"
   ]
  },
  {
   "attachments": {},
   "cell_type": "markdown",
   "metadata": {},
   "source": [
    "They are commonly used to visualise the distribution of data in various fields."
   ]
  },
  {
   "attachments": {},
   "cell_type": "markdown",
   "metadata": {},
   "source": [
    "Box Plot:\n",
    "A box plot is a graphical representation of the distribution of data through five statistics: minimum, first quartile (Q1), median, third quartile (Q3), and maximum. The box itself represents the interquartile range (IQR), which is the distance between Q1 and Q3. The whiskers represent the range of the data, excluding outliers, and the dots or circles represent the outliers.\n",
    "\n",
    "Interpretation of Box Plot:\n",
    "The box plot allows us to quickly see the range of the data and identify any outliers. The length of the box shows the range of the middle 50% of the data. If the box is short, the data is tightly clustered, while if it is long, the data is more spread out. The median (middle line of the box) indicates the center of the data. The whiskers show the spread of the data, and any points beyond the whiskers are considered outliers."
   ]
  },
  {
   "cell_type": "code",
   "execution_count": 2,
   "metadata": {},
   "outputs": [
    {
     "data": {
      "text/plain": [
       "<Axes: >"
      ]
     },
     "execution_count": 2,
     "metadata": {},
     "output_type": "execute_result"
    },
    {
     "data": {
      "image/png": "[encoded data removed]",
      "text/plain": [
       "<Figure size 640x480 with 1 Axes>"
      ]
     },
     "metadata": {},
     "output_type": "display_data"
    }
   ],
   "source": [
    "import seaborn as sns\n",
    "\n",
    "sns.boxplot(data=data)"
   ]
  },
  {
   "attachments": {},
   "cell_type": "markdown",
   "metadata": {},
   "source": [
    "Stem and Leaf display:\n",
    "Stem and Leaf display is a graphical representation of a dataset, where each data point is split into two parts: the stem and the leaf. The stem is the first digit (or digits) of the data point, and the leaf is the last digit. The stems are then arranged in a vertical column, and the corresponding leaves are listed next to each stem.\n",
    "\n",
    "Interpretation of Stem and Leaf display:\n",
    "A stem and leaf display can provide quick insights into the distribution of the data. The stems give an idea of the general range of the data, while the leaves show the frequency of each data point. By looking at the stem and leaf display, one can see if the data is skewed, if there are any outliers, and if there are any patterns in the data. The display can be especially useful for smaller datasets, where patterns may be harder to discern in a histogram or box plot."
   ]
  },
  {
   "cell_type": "code",
   "execution_count": 3,
   "metadata": {},
   "outputs": [
    {
     "name": "stdout",
     "output_type": "stream",
     "text": [
      "   Values  Stem  Leaf\n",
      "0      17     1     7\n",
      "2      12     1     2\n",
      "9      17     1     7\n",
      "3      25     2     5\n",
      "5      29     2     9\n",
      "8      23     2     3\n",
      "1      35     3     5\n",
      "6      31     3     1\n",
      "7      38     3     8\n",
      "4      45     4     5\n"
     ]
    }
   ],
   "source": [
    "import pandas as pd\n",
    "\n",
    "data = [17, 35, 12, 25, 45, 29, 31, 38, 23, 17]\n",
    "\n",
    "# Create the stem and leaf display\n",
    "df = pd.DataFrame(data)\n",
    "df.columns = [\"Values\"]\n",
    "df[\"Stem\"] = df[\"Values\"] // 10\n",
    "df[\"Leaf\"] = df[\"Values\"] % 10\n",
    "df = df.sort_values(by=\"Stem\")\n",
    "print(df)"
   ]
  },
  {
   "attachments": {},
   "cell_type": "markdown",
   "metadata": {},
   "source": [
    "Stem and leaf displays are commonly used in quality control, where they can be used to identify patterns or trends in product defects or errors"
   ]
  },
  {
   "cell_type": "code",
   "execution_count": null,
   "metadata": {},
   "outputs": [],
   "source": []
  }
 ],
 "metadata": {
  "kernelspec": {
   "display_name": "dl",
   "language": "python",
   "name": "python3"
  },
  "language_info": {
   "codemirror_mode": {
    "name": "ipython",
    "version": 3
   },
   "file_extension": ".py",
   "mimetype": "text/x-python",
   "name": "python",
   "nbconvert_exporter": "python",
   "pygments_lexer": "ipython3",
   "version": "3.9.16"
  },
  "orig_nbformat": 4
 },
 "nbformat": 4,
 "nbformat_minor": 2
}
