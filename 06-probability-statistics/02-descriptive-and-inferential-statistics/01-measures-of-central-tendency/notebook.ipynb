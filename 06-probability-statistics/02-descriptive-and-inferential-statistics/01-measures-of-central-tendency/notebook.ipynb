{
 "cells": [
  {
   "attachments": {},
   "cell_type": "markdown",
   "metadata": {},
   "source": [
    "#### About\n",
    "\n",
    "> Measures of Central Tendency\n",
    "\n",
    "Measures of central tendency are statistical measures that describe where the center of a distribution of data is located. The three most commonly used measures of central tendency are the mean, median, and mode.\n",
    "\n",
    "1. Mean: The mean is the arithmetic average of a dataset, and is calculated by adding up all the values in the dataset and then dividing by the number of values. For example, if we have the following dataset: 4, 6, 8, 10, 12, the mean would be (4 + 6 + 8 + 10 + 12) / 5 = 8.\n",
    "\n",
    "2. Median: The median is the middle value in a dataset when the values are arranged in numerical order. If the dataset has an odd number of values, the median is the middle value. For example, if we have the following dataset: 4, 6, 8, 10, 12, the median would be 8. If the dataset has an even number of values, the median is the average of the two middle values. For example, if we have the following dataset: 4, 6, 8, 10, the median would be (6 + 8) / 2 = 7.\n",
    "\n",
    "3. Mode: The mode is the value in a dataset that occurs most frequently. For example, if we have the following dataset: 4, 6, 8, 10, 12, 8 is the mode because it appears twice, which is more than any other value.\n"
   ]
  },
  {
   "cell_type": "code",
   "execution_count": 1,
   "metadata": {},
   "outputs": [
    {
     "name": "stdout",
     "output_type": "stream",
     "text": [
      "Mean: 25.4\n",
      "Median: 25.5\n",
      "Mode: 12\n"
     ]
    }
   ],
   "source": [
    "import statistics\n",
    "data = [12, 15, 20, 23, 25, 26, 28, 30, 35, 40]\n",
    "\n",
    "# Calculating the mean\n",
    "mean = statistics.mean(data)\n",
    "print(\"Mean:\", mean)\n",
    "\n",
    "# Calculating the median\n",
    "median = statistics.median(data)\n",
    "print(\"Median:\", median)\n",
    "\n",
    "# Calculating the mode\n",
    "mode = statistics.mode(data)\n",
    "print(\"Mode:\", mode)"
   ]
  },
  {
   "cell_type": "code",
   "execution_count": null,
   "metadata": {},
   "outputs": [],
   "source": []
  }
 ],
 "metadata": {
  "kernelspec": {
   "display_name": "dl",
   "language": "python",
   "name": "python3"
  },
  "language_info": {
   "codemirror_mode": {
    "name": "ipython",
    "version": 3
   },
   "file_extension": ".py",
   "mimetype": "text/x-python",
   "name": "python",
   "nbconvert_exporter": "python",
   "pygments_lexer": "ipython3",
   "version": "3.9.16"
  },
  "orig_nbformat": 4
 },
 "nbformat": 4,
 "nbformat_minor": 2
}
