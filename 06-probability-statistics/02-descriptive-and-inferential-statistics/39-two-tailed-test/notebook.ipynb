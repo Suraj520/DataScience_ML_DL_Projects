{
 "cells": [
  {
   "attachments": {},
   "cell_type": "markdown",
   "metadata": {},
   "source": [
    "#### About\n",
    "\n",
    "> Two-tailed test\n",
    "\n",
    "A two-tailed test is a statistical test in which the null hypothesis is tested against an alternative hypothesis that can differ from the null hypothesis in either direction. \n",
    "\n",
    "A two-tailed test is used when there is no prior expectation about the direction of the difference or relationship between two variables. \n",
    "\n",
    "For example, a researcher may want to test whether a new drug has an effect on reducing blood pressure. The null hypothesis would be that the drug has no effect on blood pressure, and the alternative hypothesis would be that the drug has an effect on blood pressure, either increasing or decreasing it. In this case, a two-tailed test is appropriate because the direction of the effect is not known in advance.\n",
    "\n"
   ]
  },
  {
   "cell_type": "code",
   "execution_count": 1,
   "metadata": {},
   "outputs": [],
   "source": [
    "import numpy as np\n",
    "from scipy.stats import ttest_ind\n"
   ]
  },
  {
   "cell_type": "code",
   "execution_count": 2,
   "metadata": {},
   "outputs": [],
   "source": [
    "sample1 = np.random.normal(10, 1, size=100)\n",
    "sample2 = np.random.normal(12, 1, size=100)"
   ]
  },
  {
   "cell_type": "code",
   "execution_count": 3,
   "metadata": {},
   "outputs": [],
   "source": [
    "t_stat, p_val = ttest_ind(sample1, sample2)"
   ]
  },
  {
   "cell_type": "code",
   "execution_count": 4,
   "metadata": {},
   "outputs": [
    {
     "name": "stdout",
     "output_type": "stream",
     "text": [
      "t-statistic: -12.87\n",
      "p-value: 0.0000\n"
     ]
    }
   ],
   "source": [
    "print(\"t-statistic: {:.2f}\".format(t_stat))\n",
    "print(\"p-value: {:.4f}\".format(p_val))"
   ]
  },
  {
   "cell_type": "code",
   "execution_count": 7,
   "metadata": {},
   "outputs": [
    {
     "name": "stdout",
     "output_type": "stream",
     "text": [
      "The difference in means is statistically significant\n"
     ]
    }
   ],
   "source": [
    "\n",
    "if p_val < 0.05:\n",
    "    print(\"The difference in means is statistically significant\")\n",
    "else:\n",
    "    print(\"The difference in means is not statistically significant\")\n",
    "\n",
    "\n",
    "\n",
    "\n",
    "\n"
   ]
  },
  {
   "cell_type": "code",
   "execution_count": null,
   "metadata": {},
   "outputs": [],
   "source": []
  }
 ],
 "metadata": {
  "kernelspec": {
   "display_name": "dl",
   "language": "python",
   "name": "python3"
  },
  "language_info": {
   "codemirror_mode": {
    "name": "ipython",
    "version": 3
   },
   "file_extension": ".py",
   "mimetype": "text/x-python",
   "name": "python",
   "nbconvert_exporter": "python",
   "pygments_lexer": "ipython3",
   "version": "3.9.16"
  },
  "orig_nbformat": 4
 },
 "nbformat": 4,
 "nbformat_minor": 2
}
