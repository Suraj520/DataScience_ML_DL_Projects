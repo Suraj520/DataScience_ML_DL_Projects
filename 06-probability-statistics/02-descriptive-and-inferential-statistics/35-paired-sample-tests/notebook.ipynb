{
 "cells": [
  {
   "attachments": {},
   "cell_type": "markdown",
   "metadata": {},
   "source": [
    "#### About\n",
    "\n",
    "> Paired sample tests\n",
    "\n",
    "Paired sample tests are a type of statistical test used to compare the means or differences between two related or matched samples. The samples are considered paired because they come from the same individuals or subjects, and the pairing is based on some characteristic or factor that is common to both samples.\n",
    "\n",
    "For example, suppose we want to compare the effectiveness of two different weight loss programs on the same group of individuals. We could use a paired sample test to compare the weight loss results of each individual after completing each program, with the pairing based on each individual's weight loss from the first program.\n",
    "\n"
   ]
  },
  {
   "cell_type": "code",
   "execution_count": 1,
   "metadata": {},
   "outputs": [],
   "source": [
    "import numpy as np\n",
    "from scipy.stats import ttest_rel"
   ]
  },
  {
   "cell_type": "code",
   "execution_count": 2,
   "metadata": {},
   "outputs": [],
   "source": [
    "before = np.array([25, 28, 30, 26, 29])\n",
    "after = np.array([23, 27, 29, 24, 28])\n"
   ]
  },
  {
   "cell_type": "code",
   "execution_count": 3,
   "metadata": {},
   "outputs": [],
   "source": [
    "t_statistic, p_value = ttest_rel(after, before)\n"
   ]
  },
  {
   "cell_type": "code",
   "execution_count": 4,
   "metadata": {},
   "outputs": [
    {
     "name": "stdout",
     "output_type": "stream",
     "text": [
      "Paired t-test results:\n",
      "T-statistic: -5.72\n",
      "P-value: 0.005\n"
     ]
    }
   ],
   "source": [
    "print('Paired t-test results:')\n",
    "print(f'T-statistic: {t_statistic:.2f}')\n",
    "print(f'P-value: {p_value:.3f}')"
   ]
  },
  {
   "cell_type": "code",
   "execution_count": 5,
   "metadata": {},
   "outputs": [
    {
     "name": "stdout",
     "output_type": "stream",
     "text": [
      "There is a significant difference between the means of the paired samples.\n"
     ]
    }
   ],
   "source": [
    "if p_value < 0.05:\n",
    "    print('There is a significant difference between the means of the paired samples.')\n",
    "else:\n",
    "    print('There is no significant difference between the means of the paired samples.')"
   ]
  },
  {
   "attachments": {},
   "cell_type": "markdown",
   "metadata": {},
   "source": [
    "Paired sample tests are useful in a variety of applications, such as in clinical trials to compare the effectiveness of different treatments on the same patients, or in before-and-after studies to evaluate the impact of a program or intervention on a particular outcome. "
   ]
  }
 ],
 "metadata": {
  "kernelspec": {
   "display_name": "dl",
   "language": "python",
   "name": "python3"
  },
  "language_info": {
   "codemirror_mode": {
    "name": "ipython",
    "version": 3
   },
   "file_extension": ".py",
   "mimetype": "text/x-python",
   "name": "python",
   "nbconvert_exporter": "python",
   "pygments_lexer": "ipython3",
   "version": "3.9.16"
  },
  "orig_nbformat": 4
 },
 "nbformat": 4,
 "nbformat_minor": 2
}
