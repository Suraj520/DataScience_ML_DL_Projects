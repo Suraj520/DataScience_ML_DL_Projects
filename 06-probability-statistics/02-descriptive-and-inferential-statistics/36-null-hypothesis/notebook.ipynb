{
 "cells": [
  {
   "attachments": {},
   "cell_type": "markdown",
   "metadata": {},
   "source": [
    "#### About\n",
    "\n",
    "> Null hypothesis\n",
    "\n",
    "Null hypothesis is a statement that assumes that there is no significant difference between two groups or variables being studied. It is denoted by H0 and is usually used as a starting point for statistical analysis to test the significance of the research hypothesis. \n",
    "\n",
    "For example, suppose we want to test whether there is a significant difference in the mean weight of apples from two different gardens. The null hypothesis, in this case, would be that there is no significant difference in the mean weight of apples from the two gardens. "
   ]
  },
  {
   "cell_type": "code",
   "execution_count": 2,
   "metadata": {},
   "outputs": [],
   "source": [
    "import numpy as np\n",
    "from scipy.stats import ttest_ind\n"
   ]
  },
  {
   "cell_type": "code",
   "execution_count": 3,
   "metadata": {},
   "outputs": [],
   "source": [
    "group1 = np.random.normal(loc=50, scale=5, size=100)\n",
    "group2 = np.random.normal(loc=55, scale=5, size=100)\n",
    "# two group of apples"
   ]
  },
  {
   "cell_type": "code",
   "execution_count": 4,
   "metadata": {},
   "outputs": [],
   "source": [
    "t_statistic, p_value = ttest_ind(group1, group2, equal_var=True)\n"
   ]
  },
  {
   "cell_type": "code",
   "execution_count": 5,
   "metadata": {},
   "outputs": [
    {
     "name": "stdout",
     "output_type": "stream",
     "text": [
      "T-statistic: -5.534204684129693\n",
      "P-value: 9.832344267664598e-08\n"
     ]
    }
   ],
   "source": [
    "# Print the test statistics and p-value\n",
    "print(\"T-statistic:\", t_statistic)\n",
    "print(\"P-value:\", p_value)"
   ]
  },
  {
   "attachments": {},
   "cell_type": "markdown",
   "metadata": {},
   "source": [
    "Since the p-value is greater than significance level(0.05), We accept the null hypothesis that is there is no significant difference between two groups of apples."
   ]
  },
  {
   "cell_type": "code",
   "execution_count": null,
   "metadata": {},
   "outputs": [],
   "source": []
  }
 ],
 "metadata": {
  "kernelspec": {
   "display_name": "dl",
   "language": "python",
   "name": "python3"
  },
  "language_info": {
   "codemirror_mode": {
    "name": "ipython",
    "version": 3
   },
   "file_extension": ".py",
   "mimetype": "text/x-python",
   "name": "python",
   "nbconvert_exporter": "python",
   "pygments_lexer": "ipython3",
   "version": "3.9.16"
  },
  "orig_nbformat": 4
 },
 "nbformat": 4,
 "nbformat_minor": 2
}
