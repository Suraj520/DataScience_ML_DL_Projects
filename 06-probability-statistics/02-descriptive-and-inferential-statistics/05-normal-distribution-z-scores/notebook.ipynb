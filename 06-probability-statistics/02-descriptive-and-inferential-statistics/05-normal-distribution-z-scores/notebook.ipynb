{
 "cells": [
  {
   "attachments": {},
   "cell_type": "markdown",
   "metadata": {},
   "source": [
    "#### About\n",
    "\n",
    "> Normal Distribution and Z-scores\n",
    "\n",
    "- Normal Distribution, also known as the Gaussian distribution or bell curve, is a probability distribution that is widely used in statistics to model real-world phenomena such as height, weight, and test scores. The distribution has a symmetric, bell-shaped curve and is characterized by two parameters: the mean and the standard deviation.\n",
    "\n",
    "\n",
    "- Z-score, also known as standard score, is a measure of how many standard deviations an observation or data point is away from the mean of the population. Z-scores are often used in statistical analysis to compare individual observations or data points across different datasets.\n",
    "\n"
   ]
  },
  {
   "cell_type": "code",
   "execution_count": 1,
   "metadata": {},
   "outputs": [
    {
     "name": "stdout",
     "output_type": "stream",
     "text": [
      "Z-score: 0.98\n",
      "Probability of observing a value of 60 or higher: 0.16\n"
     ]
    }
   ],
   "source": [
    "import numpy as np\n",
    "from scipy.stats import norm\n",
    "\n",
    "data = np.random.normal(loc=50, scale=10, size=100)\n",
    "\n",
    "z_score = (60 - np.mean(data)) / np.std(data)\n",
    "\n",
    "prob = 1 - norm.cdf(z_score)\n",
    "\n",
    "print(\"Z-score: {:.2f}\".format(z_score))\n",
    "print(\"Probability of observing a value of 60 or higher: {:.2f}\".format(prob))"
   ]
  },
  {
   "attachments": {},
   "cell_type": "markdown",
   "metadata": {},
   "source": [
    "The Z score is 0.98 representing that the data is one std deviation above the mean of the population\n",
    "\n",
    "Use cases of Z score include finding the creditworthiness of an org."
   ]
  },
  {
   "cell_type": "code",
   "execution_count": null,
   "metadata": {},
   "outputs": [],
   "source": []
  }
 ],
 "metadata": {
  "kernelspec": {
   "display_name": "dl",
   "language": "python",
   "name": "python3"
  },
  "language_info": {
   "codemirror_mode": {
    "name": "ipython",
    "version": 3
   },
   "file_extension": ".py",
   "mimetype": "text/x-python",
   "name": "python",
   "nbconvert_exporter": "python",
   "pygments_lexer": "ipython3",
   "version": "3.9.16"
  },
  "orig_nbformat": 4
 },
 "nbformat": 4,
 "nbformat_minor": 2
}
