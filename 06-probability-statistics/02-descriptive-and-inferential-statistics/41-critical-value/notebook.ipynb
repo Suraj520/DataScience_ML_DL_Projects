{
 "cells": [
  {
   "attachments": {},
   "cell_type": "markdown",
   "metadata": {},
   "source": [
    "#### About\n",
    "\n",
    "> Critical Value.\n",
    "\n",
    "The critical value is a value of a test statistic that is used to determine whether to reject or fail to reject the null hypothesis in a hypothesis test. It is typically based on the significance level of the test and the degrees of freedom.\n",
    "\n"
   ]
  },
  {
   "cell_type": "code",
   "execution_count": 1,
   "metadata": {},
   "outputs": [],
   "source": [
    "import scipy.stats as stats\n"
   ]
  },
  {
   "cell_type": "code",
   "execution_count": 2,
   "metadata": {},
   "outputs": [],
   "source": [
    "sample_mean = 8.6\n",
    "pop_mean = 8.0\n",
    "sample_std = 1.2\n",
    "n = 20\n"
   ]
  },
  {
   "cell_type": "code",
   "execution_count": 3,
   "metadata": {},
   "outputs": [
    {
     "name": "stdout",
     "output_type": "stream",
     "text": [
      "t-value: 2.236067977499789\n"
     ]
    }
   ],
   "source": [
    "t_value = (sample_mean - pop_mean) / (sample_std / (n**0.5))\n",
    "print(\"t-value:\", t_value)"
   ]
  },
  {
   "cell_type": "code",
   "execution_count": 4,
   "metadata": {},
   "outputs": [
    {
     "name": "stdout",
     "output_type": "stream",
     "text": [
      "critical value: -2.0930240544082634\n"
     ]
    }
   ],
   "source": [
    "# calculate critical value\n",
    "alpha = 0.05\n",
    "df = n - 1\n",
    "critical_value = stats.t.ppf(alpha/2, df)\n",
    "print(\"critical value:\", critical_value)"
   ]
  },
  {
   "cell_type": "code",
   "execution_count": 5,
   "metadata": {},
   "outputs": [
    {
     "name": "stdout",
     "output_type": "stream",
     "text": [
      "Reject null hypothesis\n"
     ]
    }
   ],
   "source": [
    "# compare t-value and critical value\n",
    "if abs(t_value) > critical_value:\n",
    "    print(\"Reject null hypothesis\")\n",
    "else:\n",
    "    print(\"Fail to reject null hypothesis\")"
   ]
  },
  {
   "attachments": {},
   "cell_type": "markdown",
   "metadata": {},
   "source": [
    "In this example, the calculated t-value is 2.23, and the critical value is approximately -2.093. Since the t-value is greater than the critical value, we can reject the null hypothesis at the 0.05 significance level and conclude that the sample mean is significantly different from the hypothesized population mean.\n",
    "\n"
   ]
  },
  {
   "cell_type": "code",
   "execution_count": null,
   "metadata": {},
   "outputs": [],
   "source": []
  }
 ],
 "metadata": {
  "kernelspec": {
   "display_name": "dl",
   "language": "python",
   "name": "python3"
  },
  "language_info": {
   "codemirror_mode": {
    "name": "ipython",
    "version": 3
   },
   "file_extension": ".py",
   "mimetype": "text/x-python",
   "name": "python",
   "nbconvert_exporter": "python",
   "pygments_lexer": "ipython3",
   "version": "3.9.16"
  },
  "orig_nbformat": 4
 },
 "nbformat": 4,
 "nbformat_minor": 2
}
