{
 "cells": [
  {
   "attachments": {},
   "cell_type": "markdown",
   "metadata": {},
   "source": [
    "#### About\n",
    "\n",
    "> Measures of Variability\n",
    "\n",
    "Measures of variability, also known as measures of dispersion, are statistical measures that describe how spread out or dispersed a set of data is. They are useful in understanding the distribution of a dataset, and can help in identifying outliers and other anomalies. The most commonly used measures of variability are range, variance, and standard deviation.\n",
    "\n"
   ]
  },
  {
   "cell_type": "code",
   "execution_count": 1,
   "metadata": {},
   "outputs": [
    {
     "name": "stdout",
     "output_type": "stream",
     "text": [
      "Range: 10\n",
      "Variance: 14\n",
      "Standard Deviation: 3.7416573867739413\n"
     ]
    }
   ],
   "source": [
    "import numpy as np\n",
    "import statistics\n",
    "\n",
    "data = [10, 12, 14, 16, 18, 20]\n",
    "\n",
    "# Calculating the range\n",
    "range_data = np.ptp(data)\n",
    "print(\"Range:\", range_data)\n",
    "\n",
    "# Calculating the variance\n",
    "variance = statistics.variance(data)\n",
    "print(\"Variance:\", variance)\n",
    "\n",
    "# Calculating the standard deviation\n",
    "std_deviation = statistics.stdev(data)\n",
    "print(\"Standard Deviation:\", std_deviation)"
   ]
  },
  {
   "attachments": {},
   "cell_type": "markdown",
   "metadata": {},
   "source": [
    "Use cases\n",
    "\n",
    "1. Range - It is ofen used in quality control, such as when measuring the diff between the smallest and largest values in a manufacturing process. It is also used in sports to measure the diff betw highest and lowest scores.\n",
    "\n",
    "2. Variance - It is used in finances to calculate the investment's risk in a portfolio.\n",
    "\n",
    "3. Standard deviation - It is often used to measure the variability of environment data."
   ]
  },
  {
   "cell_type": "code",
   "execution_count": null,
   "metadata": {},
   "outputs": [],
   "source": []
  }
 ],
 "metadata": {
  "kernelspec": {
   "display_name": "dl",
   "language": "python",
   "name": "python3"
  },
  "language_info": {
   "codemirror_mode": {
    "name": "ipython",
    "version": 3
   },
   "file_extension": ".py",
   "mimetype": "text/x-python",
   "name": "python",
   "nbconvert_exporter": "python",
   "pygments_lexer": "ipython3",
   "version": "3.9.16"
  },
  "orig_nbformat": 4
 },
 "nbformat": 4,
 "nbformat_minor": 2
}
