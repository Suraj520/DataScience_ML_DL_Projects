{
 "cells": [
  {
   "attachments": {},
   "cell_type": "markdown",
   "metadata": {},
   "source": [
    "#### About\n",
    "\n",
    "> Point Estimation\n",
    "\n",
    "Point estimation is a method of estimating a population parameter (such as the mean, standard deviation, or proportion) based on a single value, called a point estimate, obtained from a sample. The point estimate is calculated from the sample data and is used as an approximation of the unknown population parameter.\n",
    "\n",
    "Example: Let's say we want to estimate the average height of students in a college. We can collect a random sample of 50 students from the college and measure their heights. The sample mean height is calculated as X cm. Based on this sample mean, we can make a point estimate of the population mean height.\n",
    "\n",
    "\n"
   ]
  },
  {
   "cell_type": "code",
   "execution_count": 1,
   "metadata": {},
   "outputs": [],
   "source": [
    "import numpy as np\n"
   ]
  },
  {
   "cell_type": "code",
   "execution_count": 3,
   "metadata": {},
   "outputs": [],
   "source": [
    "sample_data = [165, 168, 170, 172, 175, 178, 180, 183, 185, 188, \n",
    "               160, 165, 170, 172, 175, 178, 180, 183, 185, 188,\n",
    "               165, 168, 170, 172, 175, 178, 180, 183, 185, 188,\n",
    "               165, 168, 170, 172, 175, 178, 180, 183, 185, 188,\n",
    "               165, 168, 170, 172, 175, 178, 180, 183, 185, 188]"
   ]
  },
  {
   "cell_type": "code",
   "execution_count": 4,
   "metadata": {},
   "outputs": [],
   "source": [
    "# Calculate the sample mean\n",
    "sample_mean = np.mean(sample_data)"
   ]
  },
  {
   "cell_type": "code",
   "execution_count": 5,
   "metadata": {},
   "outputs": [
    {
     "name": "stdout",
     "output_type": "stream",
     "text": [
      "Point estimate of population mean height: 176.24 cm\n"
     ]
    }
   ],
   "source": [
    "# Make a point estimate of the population mean\n",
    "population_mean_estimate = sample_mean\n",
    "print(\"Point estimate of population mean height:\", population_mean_estimate, \"cm\")"
   ]
  },
  {
   "attachments": {},
   "cell_type": "markdown",
   "metadata": {},
   "source": [
    "Use cases of point estimation:\n",
    "\n",
    "Point estimation is widely used in statistical inference, where we want to estimate a population parameter based on a sample.\n",
    "\n",
    "It can be used in quality control to estimate the mean or standard deviation of a production process based on a sample of products."
   ]
  },
  {
   "cell_type": "markdown",
   "metadata": {},
   "source": []
  }
 ],
 "metadata": {
  "kernelspec": {
   "display_name": "dl",
   "language": "python",
   "name": "python3"
  },
  "language_info": {
   "codemirror_mode": {
    "name": "ipython",
    "version": 3
   },
   "file_extension": ".py",
   "mimetype": "text/x-python",
   "name": "python",
   "nbconvert_exporter": "python",
   "pygments_lexer": "ipython3",
   "version": "3.9.16"
  },
  "orig_nbformat": 4
 },
 "nbformat": 4,
 "nbformat_minor": 2
}
