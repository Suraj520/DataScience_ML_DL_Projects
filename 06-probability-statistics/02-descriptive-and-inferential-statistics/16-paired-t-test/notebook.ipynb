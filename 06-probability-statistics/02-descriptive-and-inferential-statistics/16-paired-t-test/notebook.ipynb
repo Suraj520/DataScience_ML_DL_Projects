{
 "cells": [
  {
   "attachments": {},
   "cell_type": "markdown",
   "metadata": {},
   "source": [
    "#### About\n",
    "\n",
    "> Paired T-test\n",
    "\n",
    "Paired t-test is a statistical test used to determine whether there is a significant difference between two related samples. It is used when the samples being compared are not independent of each other, i.e., they are paired. In other words, the paired t-test is used when the same individuals are measured or tested twice, and the differences between the two measurements or tests are being evaluated.\n",
    "\n",
    "In a paired t-test, the null hypothesis is that there is no significant difference between the two related samples, and the alternative hypothesis is that there is a significant difference.\n",
    "\n",
    "\n",
    "\n",
    "\n"
   ]
  },
  {
   "attachments": {},
   "cell_type": "markdown",
   "metadata": {},
   "source": [
    "Example\n",
    "\n",
    "Suppose we want to test whether a new diet plan is effective in reducing weight. We measure the weight of 10 individuals before and after following the diet plan. We want to see if there is a significant difference in weight before and after the diet plan.\n",
    "\n"
   ]
  },
  {
   "cell_type": "code",
   "execution_count": 1,
   "metadata": {},
   "outputs": [],
   "source": [
    "import numpy as np\n",
    "from scipy import stats"
   ]
  },
  {
   "cell_type": "code",
   "execution_count": 2,
   "metadata": {},
   "outputs": [],
   "source": [
    "#data for weight before and after the diet plan\n",
    "before = np.array([170, 180, 175, 160, 165, 185, 190, 175, 170, 180])\n",
    "after = np.array([165, 175, 170, 155, 160, 180, 185, 170, 165, 175])\n"
   ]
  },
  {
   "cell_type": "code",
   "execution_count": 3,
   "metadata": {},
   "outputs": [],
   "source": [
    "# Calculate the differences\n",
    "differences = after - before"
   ]
  },
  {
   "cell_type": "code",
   "execution_count": 4,
   "metadata": {},
   "outputs": [],
   "source": [
    "# Perform a paired t-test\n",
    "t_statistic, p_value = stats.ttest_rel(after, before)"
   ]
  },
  {
   "cell_type": "code",
   "execution_count": 5,
   "metadata": {},
   "outputs": [
    {
     "name": "stdout",
     "output_type": "stream",
     "text": [
      "Paired t-test results:\n",
      "t-statistic: -inf\n",
      "p-value: 0.0\n"
     ]
    }
   ],
   "source": [
    "print(\"Paired t-test results:\")\n",
    "print(\"t-statistic:\", t_statistic)\n",
    "print(\"p-value:\", p_value)"
   ]
  },
  {
   "attachments": {},
   "cell_type": "markdown",
   "metadata": {},
   "source": [
    "The t-statistic value indicates the difference between the means of the paired samples is very large in magnitude, i.e., the difference is beyond any lower limit of the confidence interval. The p-value of 0.0 indicates that the probability of obtaining such a large t-statistic value by chance, assuming the null hypothesis is true, is very low. Thus, the result provides strong evidence against the null hypothesis and suggests that there is a significant difference between the paired samples.\n",
    "\n",
    "\n",
    "\n"
   ]
  },
  {
   "cell_type": "code",
   "execution_count": null,
   "metadata": {},
   "outputs": [],
   "source": []
  }
 ],
 "metadata": {
  "kernelspec": {
   "display_name": "dl",
   "language": "python",
   "name": "python3"
  },
  "language_info": {
   "codemirror_mode": {
    "name": "ipython",
    "version": 3
   },
   "file_extension": ".py",
   "mimetype": "text/x-python",
   "name": "python",
   "nbconvert_exporter": "python",
   "pygments_lexer": "ipython3",
   "version": "3.9.16"
  },
  "orig_nbformat": 4
 },
 "nbformat": 4,
 "nbformat_minor": 2
}
