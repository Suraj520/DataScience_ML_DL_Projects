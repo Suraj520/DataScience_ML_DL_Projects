{
 "cells": [
  {
   "attachments": {},
   "cell_type": "markdown",
   "metadata": {},
   "source": [
    "#### About\n",
    "\n",
    "> Confidence interval for means and proportions\n",
    "\n",
    "Confidence intervals are a statistical tool used to estimate the range of values within which a population parameter is likely to fall with a certain level of confidence. In particular, confidence intervals for means and proportions are used to estimate the range of values within which the true mean or proportion of a population is likely to fall based on a sample.\n",
    "\n",
    "- Confidence intervals for means:\n",
    "Suppose we want to estimate the average weight of all apples produced by a certain farm, but it is not feasible to measure the weight of all apples. We can randomly select a sample of apples from the farm and compute the sample mean weight. However, the sample mean weight is likely to differ from the true population mean weight. We can construct a confidence interval to estimate the range of values within which the true population mean weight is likely to fall.\n"
   ]
  },
  {
   "cell_type": "code",
   "execution_count": 1,
   "metadata": {},
   "outputs": [
    {
     "name": "stdout",
     "output_type": "stream",
     "text": [
      "95% Confidence Interval: [144.76, 151.48]\n"
     ]
    }
   ],
   "source": [
    "import numpy as np\n",
    "from scipy import stats\n",
    "\n",
    "#random sample of apple weights \n",
    "np.random.seed(42)\n",
    "sample = np.random.normal(loc=150, scale=10, size=30)\n",
    "\n",
    "# sample mean and standard deviation\n",
    "sample_mean = np.mean(sample)\n",
    "sample_std = np.std(sample, ddof=1)\n",
    "\n",
    "# Compute the 95% confidence interval for the true population mean weight\n",
    "z = stats.t.ppf(0.975, df=len(sample)-1)\n",
    "lower = sample_mean - z * (sample_std / np.sqrt(len(sample)))\n",
    "upper = sample_mean + z * (sample_std / np.sqrt(len(sample)))\n",
    "print(\"95% Confidence Interval: [{:.2f}, {:.2f}]\".format(lower, upper))"
   ]
  },
  {
   "attachments": {},
   "cell_type": "markdown",
   "metadata": {},
   "source": [
    "- Confidence intervals for proportions: Suppose we want to estimate the proportion of customers who are satisfied with a certain product, but it is not feasible to survey all customers. We can randomly select a sample of customers and compute the sample proportion of satisfied customers. However, the sample proportion is likely to differ from the true population proportion. We can construct a confidence interval to estimate the range of values within which the true population proportion is likely to fall."
   ]
  },
  {
   "cell_type": "code",
   "execution_count": 2,
   "metadata": {},
   "outputs": [],
   "source": [
    "import numpy as np\n",
    "from statsmodels.stats.proportion import proportion_confint"
   ]
  },
  {
   "cell_type": "code",
   "execution_count": 5,
   "metadata": {},
   "outputs": [],
   "source": [
    "# Generate a random sample of customer satisfaction (0 = not satisfied, 1 = satisfied)\n",
    "np.random.seed(42)\n",
    "sample = np.random.binomial(n=1, p=0.8, size=100)#a random sample of 100 customer satisfaction ratings using a binomial distribution with a probability of 0.8 "
   ]
  },
  {
   "cell_type": "code",
   "execution_count": 6,
   "metadata": {},
   "outputs": [
    {
     "name": "stdout",
     "output_type": "stream",
     "text": [
      "95% Confidence Interval: [0.74, 0.90]\n"
     ]
    }
   ],
   "source": [
    "# Compute the sample proportion of satisfied customers\n",
    "sample_prop = np.mean(sample)\n",
    "\n",
    "# Compute the 95% confidence interval for the true population proportion of satisfied customers\n",
    "ci = proportion_confint(count=np.sum(sample), nobs=len(sample), alpha=0.05)\n",
    "print(\"95% Confidence Interval: [{:.2f}, {:.2f}]\".format(ci[0], ci[1]))"
   ]
  },
  {
   "cell_type": "code",
   "execution_count": null,
   "metadata": {},
   "outputs": [],
   "source": []
  }
 ],
 "metadata": {
  "kernelspec": {
   "display_name": "dl",
   "language": "python",
   "name": "python3"
  },
  "language_info": {
   "codemirror_mode": {
    "name": "ipython",
    "version": 3
   },
   "file_extension": ".py",
   "mimetype": "text/x-python",
   "name": "python",
   "nbconvert_exporter": "python",
   "pygments_lexer": "ipython3",
   "version": "3.9.16"
  },
  "orig_nbformat": 4
 },
 "nbformat": 4,
 "nbformat_minor": 2
}
