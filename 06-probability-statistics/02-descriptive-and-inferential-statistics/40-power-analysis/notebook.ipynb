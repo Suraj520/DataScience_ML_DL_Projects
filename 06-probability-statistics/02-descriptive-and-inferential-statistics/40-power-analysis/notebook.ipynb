{
 "cells": [
  {
   "attachments": {},
   "cell_type": "markdown",
   "metadata": {},
   "source": [
    "#### About\n",
    "\n",
    "> Power analysis\n",
    "\n",
    "Power analysis is a statistical technique used to determine the probability of correctly rejecting a null hypothesis when it is in fact false. In other words, it determines the probability of detecting an effect or relationship between variables if it actually exists.\n",
    "\n",
    "Suppose we want to test the hypothesis that the mean weight of a population of chickens is 2.5 kg, with a significance level of 0.05. We plan to take a random sample of 50 chickens from the population and test their weights. We want to determine the statistical power of this test, which is the probability of correctly rejecting the null hypothesis if the true mean weight is actually different from 2.5 kg.\n",
    "\n",
    "\n"
   ]
  },
  {
   "cell_type": "code",
   "execution_count": 1,
   "metadata": {},
   "outputs": [],
   "source": [
    "import numpy as np\n",
    "from statsmodels.stats.power import TTestIndPower"
   ]
  },
  {
   "cell_type": "code",
   "execution_count": 9,
   "metadata": {},
   "outputs": [],
   "source": [
    "effect_size = 0.5  # moderate effect size\n",
    "power = 0.8  # desired level of statistical power\n",
    "nobs1 = None\n",
    "\n"
   ]
  },
  {
   "cell_type": "code",
   "execution_count": 10,
   "metadata": {},
   "outputs": [
    {
     "name": "stdout",
     "output_type": "stream",
     "text": [
      "Required sample size for power=0.80: 64\n"
     ]
    }
   ],
   "source": [
    "analysis = TTestIndPower()\n",
    "result = analysis.solve_power(effect_size=effect_size, alpha=0.05, power=power, nobs1=nobs1)\n",
    "print(f\"Required sample size for power={power:.2f}: {result:.0f}\")"
   ]
  },
  {
   "attachments": {},
   "cell_type": "markdown",
   "metadata": {},
   "source": [
    "In other words, we need to take a sample of 64 chickens in order to achieve a statistical power of 0.8, assuming a moderate effect size of 0.5 and a significance level of 0.05.\n",
    "\n"
   ]
  },
  {
   "attachments": {},
   "cell_type": "markdown",
   "metadata": {},
   "source": [
    "Use cases of power analysis include:\n",
    "\n",
    "Determining the sample size needed to achieve a desired level of statistical power\n",
    "Evaluating the sensitivity of a statistical test to detect an effect or relationship between variables\n",
    "Comparing the statistical power of different study designs or analysis methods\n",
    "Optimizing experimental design to maximize the statistical power of a study.\n",
    "\n",
    "\n"
   ]
  }
 ],
 "metadata": {
  "kernelspec": {
   "display_name": "dl",
   "language": "python",
   "name": "python3"
  },
  "language_info": {
   "codemirror_mode": {
    "name": "ipython",
    "version": 3
   },
   "file_extension": ".py",
   "mimetype": "text/x-python",
   "name": "python",
   "nbconvert_exporter": "python",
   "pygments_lexer": "ipython3",
   "version": "3.9.16"
  },
  "orig_nbformat": 4
 },
 "nbformat": 4,
 "nbformat_minor": 2
}
