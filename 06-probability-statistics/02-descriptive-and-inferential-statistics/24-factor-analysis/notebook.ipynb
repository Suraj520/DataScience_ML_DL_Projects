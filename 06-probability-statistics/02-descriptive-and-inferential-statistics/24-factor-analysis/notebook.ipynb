{
 "cells": [
  {
   "attachments": {},
   "cell_type": "markdown",
   "metadata": {},
   "source": [
    "#### About\n",
    "\n",
    "> Factor analysis\n",
    "\n",
    "Factor analysis is a statistical method used to identify underlying latent variables, or factors, that explain the correlation structure among a set of observed variables. \n",
    "\n"
   ]
  },
  {
   "cell_type": "code",
   "execution_count": 2,
   "metadata": {},
   "outputs": [],
   "source": [
    "import pandas as pd\n",
    "import numpy as np\n",
    "from sklearn.datasets import load_iris\n",
    "from factor_analyzer import FactorAnalyzer"
   ]
  },
  {
   "cell_type": "code",
   "execution_count": 3,
   "metadata": {},
   "outputs": [],
   "source": [
    "iris = load_iris()\n",
    "X = iris.data\n",
    "df = pd.DataFrame(X, columns=iris.feature_names)"
   ]
  },
  {
   "cell_type": "code",
   "execution_count": 4,
   "metadata": {},
   "outputs": [
    {
     "name": "stdout",
     "output_type": "stream",
     "text": [
      "                   Factor 1  Factor 2\n",
      "sepal length (cm)  0.901205  0.017890\n",
      "sepal width (cm)  -0.150413  0.986195\n",
      "petal length (cm)  0.964153 -0.284619\n",
      "petal width (cm)   0.921401 -0.233245\n"
     ]
    }
   ],
   "source": [
    "# Create FactorAnalyzer object with 2 factors\n",
    "fa = FactorAnalyzer(n_factors=2, rotation=\"varimax\")\n",
    "\n",
    "# Fit and transform the data\n",
    "fa.fit(df)\n",
    "fa_scores = fa.transform(df)\n",
    "\n",
    "# Print factor loadings\n",
    "loadings = pd.DataFrame(fa.loadings_, index=iris.feature_names, columns=['Factor 1', 'Factor 2'])\n",
    "print(loadings)"
   ]
  },
  {
   "attachments": {},
   "cell_type": "markdown",
   "metadata": {},
   "source": [
    "These factor loadings show the strength of the relationship between each variable and each factor. For example, we can see that the variables \"sepal length\" and \"petal length\" are strongly associated with Factor 1, while \"sepal width\" and \"petal width\" are strongly associated with Factor 2.\n",
    "\n"
   ]
  },
  {
   "cell_type": "code",
   "execution_count": null,
   "metadata": {},
   "outputs": [],
   "source": []
  }
 ],
 "metadata": {
  "kernelspec": {
   "display_name": "dl",
   "language": "python",
   "name": "python3"
  },
  "language_info": {
   "codemirror_mode": {
    "name": "ipython",
    "version": 3
   },
   "file_extension": ".py",
   "mimetype": "text/x-python",
   "name": "python",
   "nbconvert_exporter": "python",
   "pygments_lexer": "ipython3",
   "version": "3.9.16"
  },
  "orig_nbformat": 4
 },
 "nbformat": 4,
 "nbformat_minor": 2
}
