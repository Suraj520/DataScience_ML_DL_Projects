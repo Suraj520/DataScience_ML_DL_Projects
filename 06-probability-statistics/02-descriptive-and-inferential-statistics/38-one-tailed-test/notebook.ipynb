{
 "cells": [
  {
   "attachments": {},
   "cell_type": "markdown",
   "metadata": {},
   "source": [
    "#### About\n",
    "\n",
    "> One-Tailed Test\n",
    "\n",
    "A one-tailed test is a hypothesis test in which the alternative hypothesis is formulated in one direction only. In other words, the test is designed to determine whether a parameter is greater than or less than a specific value. One-tailed tests are often used when a researcher has a specific prediction or directional hypothesis about the relationship between two variables.\n",
    "\n",
    "For example, suppose a researcher wants to determine if a new teaching method is more effective than the traditional method. They might set up a one-tailed test with the null hypothesis that there is no difference in the mean test scores between the two methods and the alternative hypothesis that the new method results in higher mean test scores. In this case, the researcher is only interested in testing the alternative hypothesis in one direction, and a one-tailed test is appropriate.\n",
    "\n",
    "\n"
   ]
  },
  {
   "attachments": {},
   "cell_type": "markdown",
   "metadata": {},
   "source": [
    "Suppose we have two sets of data, x and y, and we want to test whether the mean of x is greater than the mean of y. We can use a one-tailed t-test to do this:\n",
    "\n"
   ]
  },
  {
   "cell_type": "code",
   "execution_count": 1,
   "metadata": {},
   "outputs": [],
   "source": [
    "import scipy.stats as stats\n",
    "import numpy as np"
   ]
  },
  {
   "cell_type": "code",
   "execution_count": 2,
   "metadata": {},
   "outputs": [],
   "source": [
    "x = np.random.normal(10, 2, size=50)\n",
    "y = np.random.normal(8, 2, size=50)"
   ]
  },
  {
   "cell_type": "code",
   "execution_count": 3,
   "metadata": {},
   "outputs": [],
   "source": [
    "t_stat, p_value = stats.ttest_ind(x, y, equal_var=False)\n",
    "p_value /= 2  # Divide p-value by 2 since it's a one-tailed test\n"
   ]
  },
  {
   "cell_type": "code",
   "execution_count": 4,
   "metadata": {},
   "outputs": [
    {
     "name": "stdout",
     "output_type": "stream",
     "text": [
      "Reject the null hypothesis\n"
     ]
    }
   ],
   "source": [
    "if p_value < 0.05:\n",
    "    print(\"Reject the null hypothesis\")\n",
    "else:\n",
    "    print(\"Fail to reject the null hypothesis\")"
   ]
  },
  {
   "cell_type": "code",
   "execution_count": null,
   "metadata": {},
   "outputs": [],
   "source": []
  }
 ],
 "metadata": {
  "kernelspec": {
   "display_name": "dl",
   "language": "python",
   "name": "python3"
  },
  "language_info": {
   "codemirror_mode": {
    "name": "ipython",
    "version": 3
   },
   "file_extension": ".py",
   "mimetype": "text/x-python",
   "name": "python",
   "nbconvert_exporter": "python",
   "pygments_lexer": "ipython3",
   "version": "3.9.16"
  },
  "orig_nbformat": 4
 },
 "nbformat": 4,
 "nbformat_minor": 2
}
