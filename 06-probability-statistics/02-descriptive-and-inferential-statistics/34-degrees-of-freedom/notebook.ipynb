{
 "cells": [
  {
   "attachments": {},
   "cell_type": "markdown",
   "metadata": {},
   "source": [
    "#### About\n",
    "\n",
    "> Degrees of freedom\n",
    "\n",
    "Degrees of freedom (df) is a concept in inferential statistics that refers to the number of values in a calculation that are free to vary. In general, degrees of freedom is the number of observations in a sample that are independent and not fixed by any constraints.\n",
    "\n",
    "In the context of hypothesis testing, degrees of freedom is used to determine the critical value of a test statistic and to calculate the p-value of a test. The number of degrees of freedom is typically calculated as the sample size minus one. The degrees of freedom determine the distribution of the test statistic, which in turn determines the probability of obtaining the observed test statistic by chance alone.\n",
    "\n",
    "For example, suppose we have a sample of n = 10 values and we want to calculate the variance of the sample. The variance is defined as the sum of the squared deviations from the mean divided by the degrees of freedom. Since we are estimating the variance based on the sample, we need to subtract one from the sample size to get the degrees of freedom. Therefore, the degrees of freedom for this calculation would be df = n - 1 = 10 - 1 = 9.\n",
    "\n",
    "\n",
    "\n"
   ]
  },
  {
   "cell_type": "code",
   "execution_count": 1,
   "metadata": {},
   "outputs": [
    {
     "name": "stdout",
     "output_type": "stream",
     "text": [
      "Sample: [-0.77626411  0.94737098 -0.48624019  0.03663285 -1.41273493 -0.00801639\n",
      " -0.01168439  0.71895359  1.86064208 -1.26356978]\n",
      "Degrees of freedom: 9\n"
     ]
    }
   ],
   "source": [
    "import numpy as np\n",
    "\n",
    "# generate a random sample of size 10\n",
    "sample = np.random.normal(size=10)\n",
    "\n",
    "# calculate the degrees of freedom\n",
    "df = len(sample) - 1\n",
    "\n",
    "print(\"Sample:\", sample)\n",
    "print(\"Degrees of freedom:\", df)\n"
   ]
  },
  {
   "attachments": {},
   "cell_type": "markdown",
   "metadata": {},
   "source": [
    "Degrees of freedom is an important concept in inferential statistics that is used in a variety of statistical tests and calculations. It is particularly important in hypothesis testing, where it is used to determine the critical value and p-value of a test statistic. In general, the more degrees of freedom a calculation has, the more reliable the estimate is likely to be.\n",
    "\n",
    "\n",
    "\n"
   ]
  },
  {
   "cell_type": "code",
   "execution_count": null,
   "metadata": {},
   "outputs": [],
   "source": []
  }
 ],
 "metadata": {
  "kernelspec": {
   "display_name": "dl",
   "language": "python",
   "name": "python3"
  },
  "language_info": {
   "codemirror_mode": {
    "name": "ipython",
    "version": 3
   },
   "file_extension": ".py",
   "mimetype": "text/x-python",
   "name": "python",
   "nbconvert_exporter": "python",
   "pygments_lexer": "ipython3",
   "version": "3.9.16"
  },
  "orig_nbformat": 4
 },
 "nbformat": 4,
 "nbformat_minor": 2
}
