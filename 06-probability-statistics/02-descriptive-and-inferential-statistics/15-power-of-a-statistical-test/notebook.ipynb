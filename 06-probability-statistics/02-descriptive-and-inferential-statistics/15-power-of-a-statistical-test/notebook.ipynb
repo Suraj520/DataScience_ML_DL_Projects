{
 "cells": [
  {
   "attachments": {},
   "cell_type": "markdown",
   "metadata": {},
   "source": [
    "#### About\n",
    "\n",
    "> Power of a statistical test\n",
    "\n",
    "In statistics, the power of a statistical test is the probability of rejecting a null hypothesis when it is actually false (i.e., correctly detecting a real effect). In other words, it is the probability of correctly identifying a significant difference or relationship in a study.\n",
    "\n",
    "The power of a statistical test is influenced by several factors, including the sample size, effect size, level of significance, and variability of the data.\n",
    "\n",
    "\n"
   ]
  },
  {
   "attachments": {},
   "cell_type": "markdown",
   "metadata": {},
   "source": [
    "> Example\n",
    "\n",
    "Suppose we want to test if there is a difference in the mean height between men and women in a population. We randomly select a sample of 50 men and 50 women and measure their heights. We use a t-test to test the null hypothesis that there is no difference in the mean height between men and women against the alternative hypothesis that there is a difference. We set the significance level at 0.05.\n",
    "\n"
   ]
  },
  {
   "cell_type": "code",
   "execution_count": 5,
   "metadata": {},
   "outputs": [],
   "source": [
    "import numpy as np\n",
    "from scipy import stats\n",
    "from statsmodels.stats.power import tt_ind_solve_power\n"
   ]
  },
  {
   "cell_type": "code",
   "execution_count": 2,
   "metadata": {},
   "outputs": [],
   "source": [
    "male_heights = np.random.normal(175, 8, 50)\n",
    "female_heights = np.random.normal(162, 7, 50)\n"
   ]
  },
  {
   "cell_type": "code",
   "execution_count": 3,
   "metadata": {},
   "outputs": [],
   "source": [
    "# Calculate t-statistic and p-value\n",
    "t_stat, p_val = stats.ttest_ind(male_heights, female_heights)"
   ]
  },
  {
   "cell_type": "code",
   "execution_count": 6,
   "metadata": {},
   "outputs": [],
   "source": [
    "# Calculate power of the test\n",
    "effect_size = abs(male_heights.mean() - female_heights.mean()) / np.sqrt((male_heights.var() + female_heights.var()) / 2)\n",
    "power = tt_ind_solve_power(effect_size=effect_size, nobs1=50, alpha=0.05, ratio=1, alternative='two-sided')\n"
   ]
  },
  {
   "cell_type": "code",
   "execution_count": 7,
   "metadata": {},
   "outputs": [
    {
     "name": "stdout",
     "output_type": "stream",
     "text": [
      "t-statistic: 7.13, p-value: 0.0000, power: 1.00\n"
     ]
    }
   ],
   "source": [
    "print(f\"t-statistic: {t_stat:.2f}, p-value: {p_val:.4f}, power: {power:.2f}\")\n"
   ]
  },
  {
   "attachments": {},
   "cell_type": "markdown",
   "metadata": {},
   "source": [
    "The output shows that the t-statistic is 7.13 and the p-value is very small (less than 0.05), indicating strong evidence against the null hypothesis. The power of the test is 1.00, indicating that the test has a high probability of correctly detecting a difference in the mean height between men and women, given the sample size and effect size."
   ]
  },
  {
   "cell_type": "code",
   "execution_count": null,
   "metadata": {},
   "outputs": [],
   "source": []
  }
 ],
 "metadata": {
  "kernelspec": {
   "display_name": "dl",
   "language": "python",
   "name": "python3"
  },
  "language_info": {
   "codemirror_mode": {
    "name": "ipython",
    "version": 3
   },
   "file_extension": ".py",
   "mimetype": "text/x-python",
   "name": "python",
   "nbconvert_exporter": "python",
   "pygments_lexer": "ipython3",
   "version": "3.9.16"
  },
  "orig_nbformat": 4
 },
 "nbformat": 4,
 "nbformat_minor": 2
}
