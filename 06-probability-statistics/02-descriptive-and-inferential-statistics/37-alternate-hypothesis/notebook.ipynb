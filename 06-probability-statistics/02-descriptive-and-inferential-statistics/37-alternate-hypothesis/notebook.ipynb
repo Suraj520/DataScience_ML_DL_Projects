{
 "cells": [
  {
   "attachments": {},
   "cell_type": "markdown",
   "metadata": {},
   "source": [
    "#### About\n",
    "\n",
    "> Alternate Hypothesis\n",
    "\n",
    "The alternative hypothesis (Ha) is a statement that asserts that there is a difference or relationship between two variables of interest. It is the opposite of the null hypothesis (H0), which assumes that there is no difference or relationship between the variables.\n",
    "\n",
    "For example, suppose we are interested in whether there is a difference in mean heights between men and women in a population. The null hypothesis would be that the mean height of men and women is the same, while the alternative hypothesis would be that the mean height of men and women is different.\n",
    "\n",
    "\n",
    "\n"
   ]
  },
  {
   "cell_type": "code",
   "execution_count": 1,
   "metadata": {},
   "outputs": [],
   "source": [
    "import scipy.stats as stats\n",
    "import numpy as np\n"
   ]
  },
  {
   "cell_type": "code",
   "execution_count": 2,
   "metadata": {},
   "outputs": [],
   "source": [
    "\n",
    "# Generate two samples of heights for men and women\n",
    "men_heights = np.random.normal(175, 5, 100)\n",
    "women_heights = np.random.normal(162, 4, 100)"
   ]
  },
  {
   "cell_type": "code",
   "execution_count": 3,
   "metadata": {},
   "outputs": [],
   "source": [
    "# Perform a two-sample t-test to compare mean heights\n",
    "t_statistic, p_value = stats.ttest_ind(men_heights, women_heights, alternative='two-sided')\n"
   ]
  },
  {
   "cell_type": "code",
   "execution_count": 4,
   "metadata": {},
   "outputs": [
    {
     "name": "stdout",
     "output_type": "stream",
     "text": [
      "t-statistic: 19.9890531585724\n",
      "p-value: 2.2249015699944283e-49\n"
     ]
    }
   ],
   "source": [
    "# Print the results\n",
    "print('t-statistic:', t_statistic)\n",
    "print('p-value:', p_value)"
   ]
  },
  {
   "attachments": {},
   "cell_type": "markdown",
   "metadata": {},
   "source": [
    "Since, p-value is greater than significance level(0.05) we reject the alternate hypothesis. Hence, There is no significant difference between two heights"
   ]
  },
  {
   "cell_type": "markdown",
   "metadata": {},
   "source": []
  }
 ],
 "metadata": {
  "kernelspec": {
   "display_name": "dl",
   "language": "python",
   "name": "python3"
  },
  "language_info": {
   "codemirror_mode": {
    "name": "ipython",
    "version": 3
   },
   "file_extension": ".py",
   "mimetype": "text/x-python",
   "name": "python",
   "nbconvert_exporter": "python",
   "pygments_lexer": "ipython3",
   "version": "3.9.16"
  },
  "orig_nbformat": 4
 },
 "nbformat": 4,
 "nbformat_minor": 2
}
