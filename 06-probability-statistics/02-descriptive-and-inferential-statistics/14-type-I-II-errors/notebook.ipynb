{
 "cells": [
  {
   "attachments": {},
   "cell_type": "markdown",
   "metadata": {},
   "source": [
    "#### About\n",
    "\n",
    "> Type I and II Errors\n",
    "\n",
    "Type I and Type II errors are concepts used in hypothesis testing to describe the errors that can occur when making a decision based on the results of a statistical test.\n",
    "\n",
    "Type I error occurs when the null hypothesis is rejected even though it is true. This means that the test incorrectly identifies a significant difference when in fact there is none. Type I error is also known as a false positive.\n",
    "\n",
    "Type II error occurs when the null hypothesis is not rejected even though it is false. This means that the test fails to identify a significant difference when in fact there is one. Type II error is also known as a false negative.\n",
    "\n"
   ]
  },
  {
   "attachments": {},
   "cell_type": "markdown",
   "metadata": {},
   "source": [
    "Example - \n",
    "\n",
    "Suppose we want to test whether a coin is fair or biased towards heads. Our null hypothesis is that the coin is fair, and our alternative hypothesis is that the coin is biased towards heads.\n",
    "\n",
    "We conduct a hypothesis test by flipping the coin 100 times and recording the number of heads. We use a significance level of 0.05, which means that we will reject the null hypothesis if the p-value is less than 0.05.\n",
    "\n"
   ]
  },
  {
   "cell_type": "code",
   "execution_count": 1,
   "metadata": {},
   "outputs": [],
   "source": [
    "import numpy as np\n",
    "from scipy.stats import ttest_1samp\n"
   ]
  },
  {
   "cell_type": "code",
   "execution_count": 2,
   "metadata": {},
   "outputs": [],
   "source": [
    "# Simulate flipping a coin 100 times\n",
    "coin_flips = np.random.binomial(n=1, p=0.5, size=100)\n"
   ]
  },
  {
   "cell_type": "code",
   "execution_count": 3,
   "metadata": {},
   "outputs": [],
   "source": [
    "# Test whether the coin is biased towards heads\n",
    "t_stat, p_value = ttest_1samp(coin_flips, 0.5)\n"
   ]
  },
  {
   "cell_type": "code",
   "execution_count": 4,
   "metadata": {},
   "outputs": [
    {
     "name": "stdout",
     "output_type": "stream",
     "text": [
      "We fail to reject the null hypothesis: the coin is fair.\n"
     ]
    }
   ],
   "source": [
    "# Check if we reject the null hypothesis\n",
    "if p_value < 0.05:\n",
    "    print(\"We reject the null hypothesis: the coin is biased towards heads.\")\n",
    "else:\n",
    "    print(\"We fail to reject the null hypothesis: the coin is fair.\")\n"
   ]
  },
  {
   "cell_type": "code",
   "execution_count": null,
   "metadata": {},
   "outputs": [],
   "source": []
  }
 ],
 "metadata": {
  "kernelspec": {
   "display_name": "dl",
   "language": "python",
   "name": "python3"
  },
  "language_info": {
   "codemirror_mode": {
    "name": "ipython",
    "version": 3
   },
   "file_extension": ".py",
   "mimetype": "text/x-python",
   "name": "python",
   "nbconvert_exporter": "python",
   "pygments_lexer": "ipython3",
   "version": "3.9.16"
  },
  "orig_nbformat": 4
 },
 "nbformat": 4,
 "nbformat_minor": 2
}
