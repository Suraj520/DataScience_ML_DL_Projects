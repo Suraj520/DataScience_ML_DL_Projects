{
 "cells": [
  {
   "attachments": {},
   "cell_type": "markdown",
   "metadata": {},
   "source": [
    "#### About\n",
    "> Conditional Probability\n",
    "\n",
    "Conditional probability is a fundamental concept in probability theory, which describes the probability of an event A given that another event B has occurred. It is denoted by P(A | B), and it represents the probability of A occurring, given that B has already occurred.\n",
    "\n",
    "Mathematically, the conditional probability of A given B can be calculated as:\n",
    "\n",
    "P(A | B) = P(A ∩ B) / P(B)\n",
    "\n",
    "where P(A ∩ B) represents the probability of both A and B occurring together, and P(B) represents the probability of B occurring."
   ]
  },
  {
   "cell_type": "code",
   "execution_count": 4,
   "metadata": {},
   "outputs": [
    {
     "name": "stdout",
     "output_type": "stream",
     "text": [
      "Probability of A given B: 0.08333333333333333\n"
     ]
    }
   ],
   "source": [
    "# Importing the numpy library\n",
    "import numpy as np\n",
    "\n",
    "# Defining the sample space and probabilities\n",
    "sample_space = {'H1', 'H2', 'H3', 'T1', 'T2', 'T3'}\n",
    "probabilities = np.array([0.1, 0.2, 0.23, 0.9, 0.8, 0.77])\n",
    "\n",
    "# Defining the event B (getting a head)\n",
    "event_b = {'H1', 'H2', 'H3'}\n",
    "\n",
    "# Defining the event A (getting a tail on the second toss)\n",
    "event_a = {'T2'}\n",
    "\n",
    "# Calculating the probability of A given B\n",
    "event_b_array = np.array([outcome in event_b for outcome in sample_space])\n",
    "prob_b = np.sum(probabilities[event_b_array])\n",
    "prob_a_and_b = probabilities[list(sample_space).index('H2')]\n",
    "prob_a_given_b = prob_a_and_b / prob_b\n",
    "\n",
    "print(\"Probability of A given B:\", prob_a_given_b)"
   ]
  },
  {
   "cell_type": "code",
   "execution_count": null,
   "metadata": {},
   "outputs": [],
   "source": []
  }
 ],
 "metadata": {
  "kernelspec": {
   "display_name": "dl",
   "language": "python",
   "name": "python3"
  },
  "language_info": {
   "codemirror_mode": {
    "name": "ipython",
    "version": 3
   },
   "file_extension": ".py",
   "mimetype": "text/x-python",
   "name": "python",
   "nbconvert_exporter": "python",
   "pygments_lexer": "ipython3",
   "version": "3.7.11"
  },
  "orig_nbformat": 4
 },
 "nbformat": 4,
 "nbformat_minor": 2
}
