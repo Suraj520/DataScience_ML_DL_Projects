{
 "cells": [
  {
   "attachments": {},
   "cell_type": "markdown",
   "metadata": {},
   "source": [
    "#### About\n",
    "> Independence\n",
    "\n",
    "- Independence is a statistical concept that describes the relationship between two random variables. Two random variables X and Y are said to be independent if the occurence of one event does not affect the prob of the occurence of the other.\n",
    "\n",
    "- P(X=x,Y=y) = P(X=x) * P(Y=y)\n",
    "\n",
    "- Use cases\n",
    "1. Coin toss - The toss of a coin : Prob of getting heads on the first toss doesn't depend on the outcome of the second toss and vice versa.\n",
    "2. Medical tests - Results of multiple tests are often used to make a diagnosis. If the tests are independent, The prob of a disease can be calculated as prod of prob of each test being positive.\n",
    "3. Weather - In forecasting, The temp and precipitation are two indep. variables. The occurence of rain doesn't depend on temp and vice versa."
   ]
  },
  {
   "attachments": {},
   "cell_type": "markdown",
   "metadata": {},
   "source": [
    "Example \n",
    "\n",
    "Survey to check if their is a relationship between gender and those who like dogs.\n",
    "\n",
    "- Using chi-square test for independence to determine if there is a significant association between gender and liking dogs."
   ]
  },
  {
   "cell_type": "code",
   "execution_count": 7,
   "metadata": {},
   "outputs": [
    {
     "name": "stdout",
     "output_type": "stream",
     "text": [
      "likes_dogs  No  Yes\n",
      "gender             \n",
      "Female       1    2\n",
      "Male         2    1\n"
     ]
    }
   ],
   "source": [
    "import pandas as pd\n",
    "from scipy.stats import chi2_contingency\n",
    "\n",
    "# data collected in survey\n",
    "data = {'gender': ['Male', 'Male', 'Male', 'Female', 'Female', 'Female'], \n",
    "        'likes_dogs': ['Yes', 'No', 'No', 'Yes', 'Yes', 'No']}\n",
    "df = pd.DataFrame(data)\n",
    "\n",
    "# create a contingency table\n",
    "contingency_table = pd.crosstab(df['gender'], df['likes_dogs'])\n",
    "\n",
    "print(contingency_table)"
   ]
  },
  {
   "attachments": {},
   "cell_type": "markdown",
   "metadata": {},
   "source": [
    "- Computation of chi-square statistic and p-value : If the p-value is less than a chosen significance level (e.g., 0.05), we reject the null hypothesis of independence and conclude that the variables are dependent. If the p-value is greater than the chosen significance level, we fail to reject the null hypothesis and conclude that the variables are independent."
   ]
  },
  {
   "cell_type": "code",
   "execution_count": 8,
   "metadata": {},
   "outputs": [
    {
     "name": "stdout",
     "output_type": "stream",
     "text": [
      "Chi-square statistic: 0.0\n",
      "p-value: 1.0\n",
      "Degrees of freedom: 1\n",
      "Expected values: [[1.5 1.5]\n",
      " [1.5 1.5]]\n"
     ]
    }
   ],
   "source": [
    "\n",
    "# perform the chi-square test for independence\n",
    "chi2, p_value, dof, expected = chi2_contingency(contingency_table)\n",
    "\n",
    "print('Chi-square statistic:', chi2)\n",
    "print('p-value:', p_value)\n",
    "print('Degrees of freedom:', dof)\n",
    "print('Expected values:', expected)\n"
   ]
  },
  {
   "attachments": {},
   "cell_type": "markdown",
   "metadata": {},
   "source": [
    "The p-value is 1.0, which is greater than the significance level of 0.05. This means that we fail to reject the null hypothesis of independence and conclude that there is not enough evidence to suggest that there is a significant association between gender and liking dogs.\n"
   ]
  },
  {
   "cell_type": "code",
   "execution_count": null,
   "metadata": {},
   "outputs": [],
   "source": []
  }
 ],
 "metadata": {
  "kernelspec": {
   "display_name": "dl",
   "language": "python",
   "name": "python3"
  },
  "language_info": {
   "codemirror_mode": {
    "name": "ipython",
    "version": 3
   },
   "file_extension": ".py",
   "mimetype": "text/x-python",
   "name": "python",
   "nbconvert_exporter": "python",
   "pygments_lexer": "ipython3",
   "version": "3.7.11"
  },
  "orig_nbformat": 4
 },
 "nbformat": 4,
 "nbformat_minor": 2
}
