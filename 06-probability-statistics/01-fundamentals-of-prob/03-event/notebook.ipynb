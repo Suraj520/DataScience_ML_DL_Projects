{
 "cells": [
  {
   "attachments": {},
   "cell_type": "markdown",
   "metadata": {},
   "source": [
    "#### About\n",
    "> Event\n",
    "\n",
    "In probability theory and statistics, an event is a subset of the sample space, which is the set of all possible outcomes of an experiment. An event is said to occur if any one of the outcomes in the subset occurs. Events are often denoted by capital letters, such as A, B, C, etc.\n",
    "\n"
   ]
  },
  {
   "attachments": {},
   "cell_type": "markdown",
   "metadata": {},
   "source": [
    "Let's consider the experiment of rolling two dice. The sample space for this experiment is:\n",
    "\n",
    "S = {(1, 1), (1, 2), (1, 3), ..., (6, 4), (6, 5), (6, 6)}\n",
    "where each element of the sample space is an ordered pair representing the numbers rolled on the two dice.\n",
    "\n",
    "Now, let's define some events for this experiment. For example, we could define event A as the event that the sum of the two dice is even:\n",
    "\n",
    "A = {(1, 1), (1, 3), (1, 5), (2, 2), (2, 4), ..., (6, 2), (6, 4), (6, 6)}\n"
   ]
  },
  {
   "cell_type": "code",
   "execution_count": 2,
   "metadata": {},
   "outputs": [],
   "source": [
    "sample_space = [(i, j) for i in range(1, 7) for j in range(1, 7)]\n",
    "event_A = set((i, j) for i, j in sample_space if (i+j) % 2 == 0)\n"
   ]
  },
  {
   "attachments": {},
   "cell_type": "markdown",
   "metadata": {},
   "source": [
    "We can also define another event, event B, as the event that the first die rolls a 4\n",
    "\n",
    "B = {(4, 1), (4, 2), (4, 3), (4, 4), (4, 5), (4, 6)}\n"
   ]
  },
  {
   "cell_type": "code",
   "execution_count": 3,
   "metadata": {},
   "outputs": [],
   "source": [
    "event_B = set((i, j) for i, j in sample_space if i == 4)"
   ]
  },
  {
   "attachments": {},
   "cell_type": "markdown",
   "metadata": {},
   "source": [
    "We can now use these events to calculate probabilities and perform calculations in probability theory and statistics."
   ]
  },
  {
   "cell_type": "markdown",
   "metadata": {},
   "source": []
  }
 ],
 "metadata": {
  "kernelspec": {
   "display_name": "dl",
   "language": "python",
   "name": "python3"
  },
  "language_info": {
   "codemirror_mode": {
    "name": "ipython",
    "version": 3
   },
   "file_extension": ".py",
   "mimetype": "text/x-python",
   "name": "python",
   "nbconvert_exporter": "python",
   "pygments_lexer": "ipython3",
   "version": "3.7.11"
  },
  "orig_nbformat": 4
 },
 "nbformat": 4,
 "nbformat_minor": 2
}
