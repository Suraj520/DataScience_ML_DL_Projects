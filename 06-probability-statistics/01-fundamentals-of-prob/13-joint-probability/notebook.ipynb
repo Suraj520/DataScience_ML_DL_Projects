{
 "cells": [
  {
   "attachments": {},
   "cell_type": "markdown",
   "metadata": {},
   "source": [
    "#### About\n",
    "> Joint distribution\n",
    "\n",
    "- Joint distribution is a statistical concept that describes the distribution of two or more random variables together. \n",
    "- It shows the probability of all possible outcomes for multiple variables simultaneously.\n",
    "- They are used in data analysis, ML and other fields.\n",
    "- Joint distribution of two R.Vs X and Y can be represented by a PDF(Probability density function) or PMF(Probability mass function), depending upon whether X and Y are continuos or discrete variables.\n",
    "- Joint distribution PDF or PMF is represented by f(x,y) and satisfies the prop that f(x,y) is non -neg for all x and y.\n",
    "- The total prob of all possible outcomes is 1 i.e summation(summation(f(x,y))) =1\n",
    "\n",
    "- Use cases of joint distribution in real world are \n",
    "1. Medical diagnosis - It is used to estimate the prob of a patient having multiple symptoms or diseases simultaneously. For eg - A doctor can use the joint distribution of blood pressure and cholestrol levels to diagnose a patient with high bp and high cholestrol.\n",
    "2. Stock market analysis - In finance, It can be used to model the relationships between diff stocks or assets to estimate the prob. of a particular comb of returns.\n",
    "3. Customer segmentation - In marketing, Joint distribution can be used to segment customers based on multiple variables like age, income and purchasing patterns. Analysts can use the joint dist. of these variables to identify diff customer segments and create targeted marketing campaigns."
   ]
  },
  {
   "cell_type": "code",
   "execution_count": 2,
   "metadata": {},
   "outputs": [
    {
     "name": "stdout",
     "output_type": "stream",
     "text": [
      "income  25000   32000   45000   58000   69000   82000   95000   120000\n",
      "age                                                                   \n",
      "22           1       0       0       0       0       0       0       0\n",
      "25           0       1       0       0       0       0       0       0\n",
      "32           0       0       1       0       0       0       0       0\n",
      "45           0       0       0       1       0       0       0       0\n",
      "56           0       0       0       0       1       0       0       0\n",
      "61           0       0       0       0       0       1       0       0\n",
      "74           0       0       0       0       0       0       1       0\n",
      "81           0       0       0       0       0       0       0       1\n"
     ]
    }
   ],
   "source": [
    "import pandas as pd\n",
    "\n",
    "# a sample dataset\n",
    "data = {'age': [22, 25, 32, 45, 56, 61, 74, 81], \n",
    "        'income': [25000, 32000, 45000, 58000, 69000, 82000, 95000, 120000]}\n",
    "df = pd.DataFrame(data)\n",
    "\n",
    "# compute the joint distribution of age and income\n",
    "joint_dist = pd.crosstab(df['age'], df['income'])\n",
    "\n",
    "print(joint_dist)\n"
   ]
  },
  {
   "cell_type": "code",
   "execution_count": null,
   "metadata": {},
   "outputs": [],
   "source": []
  }
 ],
 "metadata": {
  "kernelspec": {
   "display_name": "dl",
   "language": "python",
   "name": "python3"
  },
  "language_info": {
   "codemirror_mode": {
    "name": "ipython",
    "version": 3
   },
   "file_extension": ".py",
   "mimetype": "text/x-python",
   "name": "python",
   "nbconvert_exporter": "python",
   "pygments_lexer": "ipython3",
   "version": "3.7.11"
  },
  "orig_nbformat": 4
 },
 "nbformat": 4,
 "nbformat_minor": 2
}
