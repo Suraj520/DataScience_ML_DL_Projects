{
 "cells": [
  {
   "attachments": {},
   "cell_type": "markdown",
   "metadata": {},
   "source": [
    "#### About\n",
    "\n",
    "> Binomial Distribution\n",
    "\n",
    "In probability theory and statistics, a binomial distribution is a probability distribution that describes the number of successes in a fixed number of independent trials, where each trial can have one of two possible outcomes (usually referred to as \"success\" or \"failure\"), and the probability of success is constant throughout the trials. \n",
    "\n",
    "The binomial distribution is characterized by two parameters: n, the number of trials, and p, the probability of success on each trial. The probability of obtaining exactly k successes in n trials is given by the binomial probability mass function:\n",
    "\n",
    "P(k;n,p) = (n choose k) p^k (1-p)^(n-k)\n",
    "\n",
    "where \"n choose k\" represents the number of ways to choose k items from a set of n items, and can be computed as n!/(k!(n-k)!).\n",
    "\n",
    "it can be used to model the probability of a certain number of defective items in a batch of products, or the probability of a certain number of mutations occurring in a population of organisms.\n",
    "\n"
   ]
  },
  {
   "cell_type": "code",
   "execution_count": 1,
   "metadata": {},
   "outputs": [],
   "source": [
    "import scipy.stats as stats\n"
   ]
  },
  {
   "cell_type": "code",
   "execution_count": 2,
   "metadata": {},
   "outputs": [],
   "source": [
    "# Define the number of trials and probability of success\n",
    "n = 10\n",
    "p = 0.5"
   ]
  },
  {
   "cell_type": "code",
   "execution_count": 3,
   "metadata": {},
   "outputs": [],
   "source": [
    "# Create a binomial distribution object\n",
    "binom_dist = stats.binom(n, p)\n"
   ]
  },
  {
   "cell_type": "code",
   "execution_count": 4,
   "metadata": {},
   "outputs": [],
   "source": [
    "\n",
    "# Generate the probability mass function (PMF) for k = 0, 1, ..., 10\n",
    "pmf = [binom_dist.pmf(k) for k in range(n+1)]\n"
   ]
  },
  {
   "cell_type": "code",
   "execution_count": 5,
   "metadata": {},
   "outputs": [
    {
     "name": "stdout",
     "output_type": "stream",
     "text": [
      "Binomial distribution PMF:\n",
      "P(0) = 0.0010\n",
      "P(1) = 0.0098\n",
      "P(2) = 0.0439\n",
      "P(3) = 0.1172\n",
      "P(4) = 0.2051\n",
      "P(5) = 0.2461\n",
      "P(6) = 0.2051\n",
      "P(7) = 0.1172\n",
      "P(8) = 0.0439\n",
      "P(9) = 0.0098\n",
      "P(10) = 0.0010\n"
     ]
    }
   ],
   "source": [
    "# Print the PMF\n",
    "print(\"Binomial distribution PMF:\")\n",
    "for k, prob in enumerate(pmf):\n",
    "    print(f\"P({k}) = {prob:.4f}\")"
   ]
  },
  {
   "attachments": {},
   "cell_type": "markdown",
   "metadata": {},
   "source": [
    "This shows the probability of getting each possible number of successes from 0 to 10 in 10 trials with a 50% chance of success on each trial.\n",
    "\n",
    "\n",
    "\n"
   ]
  },
  {
   "cell_type": "code",
   "execution_count": null,
   "metadata": {},
   "outputs": [],
   "source": []
  },
  {
   "cell_type": "code",
   "execution_count": null,
   "metadata": {},
   "outputs": [],
   "source": []
  }
 ],
 "metadata": {
  "kernelspec": {
   "display_name": "dl",
   "language": "python",
   "name": "python3"
  },
  "language_info": {
   "codemirror_mode": {
    "name": "ipython",
    "version": 3
   },
   "file_extension": ".py",
   "mimetype": "text/x-python",
   "name": "python",
   "nbconvert_exporter": "python",
   "pygments_lexer": "ipython3",
   "version": "3.9.16"
  },
  "orig_nbformat": 4
 },
 "nbformat": 4,
 "nbformat_minor": 2
}
