{
 "cells": [
  {
   "attachments": {},
   "cell_type": "markdown",
   "metadata": {},
   "source": [
    "#### About\n",
    "> Covariance\n",
    "\n",
    "Covariance is a statistical measure that indicates the degree to which two random variables are related. Specifically, it measures how much two variables change together. If the covariance is positive, it indicates that the two variables tend to increase or decrease together, whereas if it is negative, it indicates that they tend to move in opposite directions. A covariance of zero indicates that the two variables are not related.\n",
    "\n",
    "Covariance can be used to determine the relationship between two variables, such as the relationship between the height and weight of a group of people"
   ]
  },
  {
   "attachments": {},
   "cell_type": "markdown",
   "metadata": {},
   "source": [
    "Suppose we have a dataset containing the height and weight of a group of people. We want to calculate the covariance between these two variables.\n",
    "\n"
   ]
  },
  {
   "cell_type": "code",
   "execution_count": 1,
   "metadata": {},
   "outputs": [
    {
     "name": "stdout",
     "output_type": "stream",
     "text": [
      "Covariance:  109.44444444444444\n"
     ]
    }
   ],
   "source": [
    "import numpy as np\n",
    "\n",
    "# generate some example data\n",
    "height = np.array([65, 68, 70, 71, 72, 74, 75, 76, 77, 78])\n",
    "weight = np.array([125, 140, 155, 160, 165, 175, 180, 190, 200, 210])\n",
    "\n",
    "# calculate the covariance\n",
    "covariance = np.cov(height, weight)[0][1]\n",
    "\n",
    "print(\"Covariance: \", covariance)\n"
   ]
  },
  {
   "attachments": {},
   "cell_type": "markdown",
   "metadata": {},
   "source": [
    "The covariance indicates a positive relationship between the two variables."
   ]
  },
  {
   "cell_type": "code",
   "execution_count": null,
   "metadata": {},
   "outputs": [],
   "source": []
  }
 ],
 "metadata": {
  "kernelspec": {
   "display_name": "dl",
   "language": "python",
   "name": "python3"
  },
  "language_info": {
   "codemirror_mode": {
    "name": "ipython",
    "version": 3
   },
   "file_extension": ".py",
   "mimetype": "text/x-python",
   "name": "python",
   "nbconvert_exporter": "python",
   "pygments_lexer": "ipython3",
   "version": "3.9.16"
  },
  "orig_nbformat": 4
 },
 "nbformat": 4,
 "nbformat_minor": 2
}
