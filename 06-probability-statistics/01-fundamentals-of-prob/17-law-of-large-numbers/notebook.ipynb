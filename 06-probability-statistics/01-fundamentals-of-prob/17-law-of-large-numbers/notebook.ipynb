{
 "cells": [
  {
   "attachments": {},
   "cell_type": "markdown",
   "metadata": {},
   "source": [
    "### About\n",
    "> Law of large numbers\n",
    "\n",
    "- It is a fundamental concept in probability theory that states that as the number of independent, identically distributed(IID) random variable increases, Their sample mean shall converge to their expected value.V\n",
    "\n",
    "- In simpler terms, If one repeatedly flips a fair coin, The law of large numbers tell us that as you keep flipping it more and more times, the proportion of times you get heads will approach 0.5. This is because the prob of getting heads is 0.5 and as one flips the coin more and more times, The sample mean of the proportion of heads shall converge to its true value.\n",
    "\n",
    "- It is an important concept in statistics, finance and other fields that deal with random variables. The law of large numbers helps to explain why we can rely on statistical measures such as means, variances and other summary statistics as well as predict future outcomes with greater accuracy based on past data."
   ]
  },
  {
   "attachments": {},
   "cell_type": "markdown",
   "metadata": {},
   "source": [
    "Example - Let's generate 100,000 random numbers from a uniform distribution between 0 and 1 and calculate their average. We'd expect the average to be close to 0.5"
   ]
  },
  {
   "cell_type": "code",
   "execution_count": 1,
   "metadata": {},
   "outputs": [
    {
     "name": "stdout",
     "output_type": "stream",
     "text": [
      "Sample mean: 0.49923692484892446\n",
      "True expected value: 0.5\n"
     ]
    }
   ],
   "source": [
    "import numpy as np\n",
    "\n",
    "n = 100000\n",
    "x = np.random.uniform(0, 1, n)\n",
    "average = np.mean(x)\n",
    "\n",
    "print(\"Sample mean:\", average)\n",
    "print(\"True expected value:\", 0.5)\n"
   ]
  },
  {
   "attachments": {},
   "cell_type": "markdown",
   "metadata": {},
   "source": [
    "A use case of law of large numbers is in monte carlo simulations, Where a large number of random samples are generated to estimate the value of complex mathematical functions or to simulate real world scenarios. The law of large number ensures that as we increase the number of simulations, The estimate becomes more accurate."
   ]
  },
  {
   "cell_type": "code",
   "execution_count": null,
   "metadata": {},
   "outputs": [],
   "source": []
  }
 ],
 "metadata": {
  "kernelspec": {
   "display_name": "dl",
   "language": "python",
   "name": "python3"
  },
  "language_info": {
   "codemirror_mode": {
    "name": "ipython",
    "version": 3
   },
   "file_extension": ".py",
   "mimetype": "text/x-python",
   "name": "python",
   "nbconvert_exporter": "python",
   "pygments_lexer": "ipython3",
   "version": "3.7.11"
  },
  "orig_nbformat": 4
 },
 "nbformat": 4,
 "nbformat_minor": 2
}
