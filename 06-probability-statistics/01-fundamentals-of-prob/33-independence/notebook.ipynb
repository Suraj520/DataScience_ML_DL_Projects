{
 "cells": [
  {
   "attachments": {},
   "cell_type": "markdown",
   "metadata": {},
   "source": [
    "#### About\n",
    "> Conditional Independence\n",
    "\n",
    "Conditional independence refers to a situation where two events A and B are independent of each other given some third event C\n",
    "\n",
    "One practical example of conditional independence is in medical diagnosis. Suppose we want to diagnose a patient with a certain disease based on a set of symptoms. If we know that the patient has a family history of the disease, then the probability of the patient having the disease may be higher, making the symptoms less informative in the diagnosis. Thus, in this case, the occurrence of the family history event renders the symptom and the disease occurrence independent of each other."
   ]
  },
  {
   "attachments": {},
   "cell_type": "markdown",
   "metadata": {},
   "source": [
    "Correlation is close to zero, Suggests that height and weight are independent."
   ]
  },
  {
   "attachments": {},
   "cell_type": "markdown",
   "metadata": {},
   "source": [
    "Suppose we have two random variables X and Y, and a third random variable Z that influences both X and Y. We want to check whether X and Y are conditionally independent given Z.\n",
    "\n"
   ]
  },
  {
   "cell_type": "code",
   "execution_count": 2,
   "metadata": {},
   "outputs": [],
   "source": [
    "import numpy as np\n",
    "import pandas as pd\n",
    "from scipy.stats import pearsonr"
   ]
  },
  {
   "cell_type": "code",
   "execution_count": 3,
   "metadata": {},
   "outputs": [],
   "source": [
    "np.random.seed(123)\n",
    "X = np.random.normal(0, 1, 1000)\n",
    "Y = X + np.random.normal(0, 0.5, 1000)\n",
    "Z = X + Y + np.random.normal(0, 1, 1000)\n"
   ]
  },
  {
   "cell_type": "code",
   "execution_count": 4,
   "metadata": {},
   "outputs": [],
   "source": [
    "\n",
    "# Create a dataframe\n",
    "df = pd.DataFrame({'X': X, 'Y': Y, 'Z': Z})\n"
   ]
  },
  {
   "cell_type": "code",
   "execution_count": 5,
   "metadata": {},
   "outputs": [],
   "source": [
    "# Calculate the correlation between X and Y\n",
    "corr_XY = np.corrcoef(X, Y)[0, 1]\n"
   ]
  },
  {
   "cell_type": "code",
   "execution_count": 6,
   "metadata": {},
   "outputs": [],
   "source": [
    "# Calculate the partial correlation between X and Y given Z\n",
    "partial_corr_XY_Z, _ = pearsonr((X - df['Z'].mean()) / df['Z'].std(), \n",
    "                                (Y - df['Z'].mean()) / df['Z'].std())\n"
   ]
  },
  {
   "cell_type": "code",
   "execution_count": 7,
   "metadata": {},
   "outputs": [
    {
     "name": "stdout",
     "output_type": "stream",
     "text": [
      "X and Y are conditionally independent given Z\n"
     ]
    }
   ],
   "source": [
    "# Check for conditional independence\n",
    "if abs(corr_XY) > abs(partial_corr_XY_Z):\n",
    "    print('X and Y are not conditionally independent given Z')\n",
    "else:\n",
    "    print('X and Y are conditionally independent given Z')"
   ]
  },
  {
   "cell_type": "code",
   "execution_count": null,
   "metadata": {},
   "outputs": [],
   "source": []
  }
 ],
 "metadata": {
  "kernelspec": {
   "display_name": "dl",
   "language": "python",
   "name": "python3"
  },
  "language_info": {
   "codemirror_mode": {
    "name": "ipython",
    "version": 3
   },
   "file_extension": ".py",
   "mimetype": "text/x-python",
   "name": "python",
   "nbconvert_exporter": "python",
   "pygments_lexer": "ipython3",
   "version": "3.9.16"
  },
  "orig_nbformat": 4
 },
 "nbformat": 4,
 "nbformat_minor": 2
}
