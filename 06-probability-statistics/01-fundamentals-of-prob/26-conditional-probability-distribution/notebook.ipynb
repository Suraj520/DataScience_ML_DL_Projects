{
 "cells": [
  {
   "attachments": {},
   "cell_type": "markdown",
   "metadata": {},
   "source": [
    "#### About\n",
    "> Conditional Probability Distribution\n",
    "\n",
    "Conditional Probability Distribution is a probability distribution for a random variable when one or more other random variables are given or held constant. It gives the probability distribution of one variable based on the knowledge of the distribution of another variable.\n",
    "\n",
    "Use cases - \n",
    "\n",
    "1. Machine learning- Conditional probability distribution is used in the context of modeling the probability distribution of a target variable given input features. For instance, in a spam classification problem, we can model the probability of an email being spam given some input features such as the email content, sender information, etc.\n",
    "\n",
    "2. Finance - It is used to model the returns on investments.\n"
   ]
  },
  {
   "attachments": {},
   "cell_type": "markdown",
   "metadata": {},
   "source": [
    "Example -\n",
    "\n",
    "Suppose we have a dataset of the heights and weights of a group of people. We want to know the probability distribution of the weight of a person given that their height is greater than 6 feet.\n",
    "\n",
    "To calculate this, we can use Bayes' theorem which states:\n",
    "\n",
    "P(A|B) = P(B|A) * P(A) / P(B)\n"
   ]
  },
  {
   "cell_type": "code",
   "execution_count": 2,
   "metadata": {},
   "outputs": [],
   "source": [
    "import pandas as pd\n",
    "import numpy as np\n",
    "from scipy.stats import norm\n",
    "\n",
    "# Random data\n",
    "data = pd.DataFrame({'Height': [5.9, 6.2, 6.5, 6.1, 6.3, 6.8, 6.0, 6.7, 6.4, 6.2],\n",
    "                     'Weight': [155, 176, 201, 164, 180, 210, 142, 200, 185, 168]})\n"
   ]
  },
  {
   "cell_type": "code",
   "execution_count": 3,
   "metadata": {},
   "outputs": [],
   "source": [
    "# Calculate the mean and standard deviation of the weight distribution\n",
    "mean_weight = data['Weight'].mean()\n",
    "std_weight = data['Weight'].std()\n"
   ]
  },
  {
   "cell_type": "code",
   "execution_count": 4,
   "metadata": {},
   "outputs": [],
   "source": [
    "# Calculate the conditional probability distribution of weight given height > 6 feet\n",
    "prob_weight_given_height = norm.pdf(data['Weight'], loc=mean_weight, scale=std_weight)\n",
    "prob_height = (data['Height'] > 6).astype(int)\n",
    "prob_weight_given_height_cond = prob_weight_given_height * prob_height\n",
    "prob_weight_given_height_cond /= prob_weight_given_height_cond.sum()\n"
   ]
  },
  {
   "cell_type": "code",
   "execution_count": 5,
   "metadata": {},
   "outputs": [
    {
     "name": "stdout",
     "output_type": "stream",
     "text": [
      "0    0.000000\n",
      "1    0.161695\n",
      "2    0.092809\n",
      "3    0.131389\n",
      "4    0.161834\n",
      "5    0.054816\n",
      "6    0.000000\n",
      "7    0.097356\n",
      "8    0.154407\n",
      "9    0.145695\n",
      "Name: Height, dtype: float64\n"
     ]
    }
   ],
   "source": [
    "# Print the conditional probability distribution of weight\n",
    "print(prob_weight_given_height_cond)"
   ]
  },
  {
   "cell_type": "code",
   "execution_count": null,
   "metadata": {},
   "outputs": [],
   "source": []
  }
 ],
 "metadata": {
  "kernelspec": {
   "display_name": "dl",
   "language": "python",
   "name": "python3"
  },
  "language_info": {
   "codemirror_mode": {
    "name": "ipython",
    "version": 3
   },
   "file_extension": ".py",
   "mimetype": "text/x-python",
   "name": "python",
   "nbconvert_exporter": "python",
   "pygments_lexer": "ipython3",
   "version": "3.9.16"
  },
  "orig_nbformat": 4
 },
 "nbformat": 4,
 "nbformat_minor": 2
}
