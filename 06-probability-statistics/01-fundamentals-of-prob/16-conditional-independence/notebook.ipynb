{
 "cells": [
  {
   "attachments": {},
   "cell_type": "markdown",
   "metadata": {},
   "source": [
    "#### About\n",
    "> Conditional Independence\n",
    "\n",
    "- It is a concept in probability theory that describes the relationship between two random variables, given the value of a third random variable. \n",
    "- It is a form of independence that occurs when the occurence of one event has no effect on the probability of another event, given the occ. of third event.\n",
    "\n",
    "- Two R.Vs X and Y are said to be conditionally independent given a third random variable Z, iff\n",
    "P(X,Y|Z) = P(X|Z) * P(Y|Z)\n",
    "\n",
    "- It is useful concept in many areas, including machine learning where it is often used in bayesian networks to simplify the represetntation and computation of complex prob. models. It can also be used to make inferences about causal relationships between variables.\n",
    "\n",
    "- A causal relationship between variable referes to a relationship in which one variable, known as the cause or independent variable, directly affects other variable, known as the effect or dependent variable. Like amount of fertilizer and plant length growth."
   ]
  },
  {
   "attachments": {},
   "cell_type": "markdown",
   "metadata": {},
   "source": [
    "> Example\n",
    "\n",
    "Suppose a dataset of medical records exist that includes information about patient's age, smoking status and whether they have lung cancer or not. We are interested in understanding the relationship between age and lung cancer, and we want to know whether smoking affects this relationship.\n",
    "\n",
    "- We use conditional independence to determine whether age and lung cancer are indep, given smoking status. If they are cond. independent, then smoking status doesn't affect the relationship between age and lung canecer. If they are not, then smoking does affect this relationship.\n",
    "\n",
    "> For same, We calculate the following probab\n",
    "- P(Age,lung_cancer| smoking_status)\n",
    "- P(Age| smoking_status)\n",
    "- P(lung_cancer| smoking_status)\n",
    "\n",
    "If it satisfies the equation above then, we can say that age and lung cancer are cond. independent given smoking status\n"
   ]
  },
  {
   "cell_type": "code",
   "execution_count": 7,
   "metadata": {},
   "outputs": [],
   "source": [
    "import numpy as np\n",
    "import pandas as pd\n",
    "\n",
    "# create a dataset\n",
    "data = pd.DataFrame({\n",
    "    'age': [1, 1, 2, 2, 3, 3, 4, 4],\n",
    "    'smoking': [0, 1, 0, 1, 0, 1, 0, 1],\n",
    "    'lung_cancer': [0, 0, 0, 0, 1, 1, 1, 1]\n",
    "})\n",
    "# calculate conditional probabilities\n",
    "p_age_lung_smoking = pd.crosstab(index=data['age'], columns=[data['lung_cancer'], data['smoking']], normalize='index')\n",
    "p_age_smoking = pd.crosstab(index=data['age'], columns=data['smoking'], normalize='index')\n",
    "p_lung_smoking = pd.crosstab(index=data['lung_cancer'], columns=data['smoking'], normalize='index')\n",
    "\n",
    "\n"
   ]
  },
  {
   "cell_type": "code",
   "execution_count": 13,
   "metadata": {},
   "outputs": [
    {
     "name": "stdout",
     "output_type": "stream",
     "text": [
      "(4, 4)\n"
     ]
    },
    {
     "data": {
      "text/html": [
       "<div>\n",
       "<style scoped>\n",
       "    .dataframe tbody tr th:only-of-type {\n",
       "        vertical-align: middle;\n",
       "    }\n",
       "\n",
       "    .dataframe tbody tr th {\n",
       "        vertical-align: top;\n",
       "    }\n",
       "\n",
       "    .dataframe thead tr th {\n",
       "        text-align: left;\n",
       "    }\n",
       "\n",
       "    .dataframe thead tr:last-of-type th {\n",
       "        text-align: right;\n",
       "    }\n",
       "</style>\n",
       "<table border=\"1\" class=\"dataframe\">\n",
       "  <thead>\n",
       "    <tr>\n",
       "      <th>lung_cancer</th>\n",
       "      <th colspan=\"2\" halign=\"left\">0</th>\n",
       "      <th colspan=\"2\" halign=\"left\">1</th>\n",
       "    </tr>\n",
       "    <tr>\n",
       "      <th>smoking</th>\n",
       "      <th>0</th>\n",
       "      <th>1</th>\n",
       "      <th>0</th>\n",
       "      <th>1</th>\n",
       "    </tr>\n",
       "    <tr>\n",
       "      <th>age</th>\n",
       "      <th></th>\n",
       "      <th></th>\n",
       "      <th></th>\n",
       "      <th></th>\n",
       "    </tr>\n",
       "  </thead>\n",
       "  <tbody>\n",
       "    <tr>\n",
       "      <th>1</th>\n",
       "      <td>0.5</td>\n",
       "      <td>0.5</td>\n",
       "      <td>0.0</td>\n",
       "      <td>0.0</td>\n",
       "    </tr>\n",
       "    <tr>\n",
       "      <th>2</th>\n",
       "      <td>0.5</td>\n",
       "      <td>0.5</td>\n",
       "      <td>0.0</td>\n",
       "      <td>0.0</td>\n",
       "    </tr>\n",
       "    <tr>\n",
       "      <th>3</th>\n",
       "      <td>0.0</td>\n",
       "      <td>0.0</td>\n",
       "      <td>0.5</td>\n",
       "      <td>0.5</td>\n",
       "    </tr>\n",
       "    <tr>\n",
       "      <th>4</th>\n",
       "      <td>0.0</td>\n",
       "      <td>0.0</td>\n",
       "      <td>0.5</td>\n",
       "      <td>0.5</td>\n",
       "    </tr>\n",
       "  </tbody>\n",
       "</table>\n",
       "</div>"
      ],
      "text/plain": [
       "lung_cancer    0         1     \n",
       "smoking        0    1    0    1\n",
       "age                            \n",
       "1            0.5  0.5  0.0  0.0\n",
       "2            0.5  0.5  0.0  0.0\n",
       "3            0.0  0.0  0.5  0.5\n",
       "4            0.0  0.0  0.5  0.5"
      ]
     },
     "execution_count": 13,
     "metadata": {},
     "output_type": "execute_result"
    }
   ],
   "source": [
    "print(p_age_lung_smoking.shape)\n",
    "p_age_lung_smoking"
   ]
  },
  {
   "cell_type": "code",
   "execution_count": 14,
   "metadata": {},
   "outputs": [
    {
     "name": "stdout",
     "output_type": "stream",
     "text": [
      "(4, 2)\n"
     ]
    },
    {
     "data": {
      "text/html": [
       "<div>\n",
       "<style scoped>\n",
       "    .dataframe tbody tr th:only-of-type {\n",
       "        vertical-align: middle;\n",
       "    }\n",
       "\n",
       "    .dataframe tbody tr th {\n",
       "        vertical-align: top;\n",
       "    }\n",
       "\n",
       "    .dataframe thead th {\n",
       "        text-align: right;\n",
       "    }\n",
       "</style>\n",
       "<table border=\"1\" class=\"dataframe\">\n",
       "  <thead>\n",
       "    <tr style=\"text-align: right;\">\n",
       "      <th>smoking</th>\n",
       "      <th>0</th>\n",
       "      <th>1</th>\n",
       "    </tr>\n",
       "    <tr>\n",
       "      <th>age</th>\n",
       "      <th></th>\n",
       "      <th></th>\n",
       "    </tr>\n",
       "  </thead>\n",
       "  <tbody>\n",
       "    <tr>\n",
       "      <th>1</th>\n",
       "      <td>0.5</td>\n",
       "      <td>0.5</td>\n",
       "    </tr>\n",
       "    <tr>\n",
       "      <th>2</th>\n",
       "      <td>0.5</td>\n",
       "      <td>0.5</td>\n",
       "    </tr>\n",
       "    <tr>\n",
       "      <th>3</th>\n",
       "      <td>0.5</td>\n",
       "      <td>0.5</td>\n",
       "    </tr>\n",
       "    <tr>\n",
       "      <th>4</th>\n",
       "      <td>0.5</td>\n",
       "      <td>0.5</td>\n",
       "    </tr>\n",
       "  </tbody>\n",
       "</table>\n",
       "</div>"
      ],
      "text/plain": [
       "smoking    0    1\n",
       "age              \n",
       "1        0.5  0.5\n",
       "2        0.5  0.5\n",
       "3        0.5  0.5\n",
       "4        0.5  0.5"
      ]
     },
     "execution_count": 14,
     "metadata": {},
     "output_type": "execute_result"
    }
   ],
   "source": [
    "print(p_age_smoking.shape)\n",
    "\n",
    "p_age_smoking"
   ]
  },
  {
   "cell_type": "code",
   "execution_count": 15,
   "metadata": {},
   "outputs": [
    {
     "name": "stdout",
     "output_type": "stream",
     "text": [
      "(2, 2)\n"
     ]
    },
    {
     "data": {
      "text/html": [
       "<div>\n",
       "<style scoped>\n",
       "    .dataframe tbody tr th:only-of-type {\n",
       "        vertical-align: middle;\n",
       "    }\n",
       "\n",
       "    .dataframe tbody tr th {\n",
       "        vertical-align: top;\n",
       "    }\n",
       "\n",
       "    .dataframe thead th {\n",
       "        text-align: right;\n",
       "    }\n",
       "</style>\n",
       "<table border=\"1\" class=\"dataframe\">\n",
       "  <thead>\n",
       "    <tr style=\"text-align: right;\">\n",
       "      <th>smoking</th>\n",
       "      <th>0</th>\n",
       "      <th>1</th>\n",
       "    </tr>\n",
       "    <tr>\n",
       "      <th>lung_cancer</th>\n",
       "      <th></th>\n",
       "      <th></th>\n",
       "    </tr>\n",
       "  </thead>\n",
       "  <tbody>\n",
       "    <tr>\n",
       "      <th>0</th>\n",
       "      <td>0.5</td>\n",
       "      <td>0.5</td>\n",
       "    </tr>\n",
       "    <tr>\n",
       "      <th>1</th>\n",
       "      <td>0.5</td>\n",
       "      <td>0.5</td>\n",
       "    </tr>\n",
       "  </tbody>\n",
       "</table>\n",
       "</div>"
      ],
      "text/plain": [
       "smoking        0    1\n",
       "lung_cancer          \n",
       "0            0.5  0.5\n",
       "1            0.5  0.5"
      ]
     },
     "execution_count": 15,
     "metadata": {},
     "output_type": "execute_result"
    }
   ],
   "source": [
    "print(p_lung_smoking.shape)\n",
    "\n",
    "p_lung_smoking"
   ]
  },
  {
   "cell_type": "code",
   "execution_count": 16,
   "metadata": {},
   "outputs": [
    {
     "name": "stdout",
     "output_type": "stream",
     "text": [
      "Age and lung cancer are not conditionally independent given smoking status.\n"
     ]
    }
   ],
   "source": [
    "# reshape p_age_smoking and p_lung_smoking\n",
    "p_age_smoking_reshaped = p_age_smoking.values.reshape(-1, 1, 1)\n",
    "p_lung_smoking_reshaped = p_lung_smoking.values.reshape(1, -1, 1)\n",
    "\n",
    "# test for conditional independence\n",
    "is_cond_ind = np.isclose(p_age_lung_smoking, p_age_smoking_reshaped * p_lung_smoking_reshaped, rtol=1e-5, atol=1e-8).all()\n",
    "\n",
    "print(f\"Age and lung cancer are {'conditionally independent' if is_cond_ind else 'not conditionally independent'} given smoking status.\")\n"
   ]
  },
  {
   "cell_type": "code",
   "execution_count": null,
   "metadata": {},
   "outputs": [],
   "source": []
  }
 ],
 "metadata": {
  "kernelspec": {
   "display_name": "dl",
   "language": "python",
   "name": "python3"
  },
  "language_info": {
   "codemirror_mode": {
    "name": "ipython",
    "version": 3
   },
   "file_extension": ".py",
   "mimetype": "text/x-python",
   "name": "python",
   "nbconvert_exporter": "python",
   "pygments_lexer": "ipython3",
   "version": "3.7.11"
  },
  "orig_nbformat": 4
 },
 "nbformat": 4,
 "nbformat_minor": 2
}
