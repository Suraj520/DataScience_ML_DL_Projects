{
 "cells": [
  {
   "attachments": {},
   "cell_type": "markdown",
   "metadata": {},
   "source": [
    "#### About\n",
    "> Kurtosis\n",
    "\n",
    "Kurtosis is a measure of the peakedness and tails of a probability distribution. It is a measure of the degree of outlier influence on the distribution. The kurtosis of a distribution can be positive, zero, or negative.\n",
    "\n",
    "Positive kurtosis indicates that a distribution has fatter tails and a sharper peak than a normal distribution. Negative kurtosis indicates that a distribution has thinner tails and a flatter peak than a normal distribution. \n",
    "\n",
    "Zero kurtosis indicates that a distribution has a shape that is approximately equal to a normal distribution.\n",
    "\n",
    "A high kurtosis value can indicate that a dataset has many outliers, which may skew the analysis. A low kurtosis value can indicate that a dataset has a high concentration of values around the mean.\n",
    "\n",
    "\n",
    "\n"
   ]
  },
  {
   "cell_type": "code",
   "execution_count": 1,
   "metadata": {},
   "outputs": [],
   "source": [
    "import numpy as np\n",
    "import scipy.stats as stats\n",
    "import matplotlib.pyplot as plt\n"
   ]
  },
  {
   "cell_type": "code",
   "execution_count": 2,
   "metadata": {},
   "outputs": [],
   "source": [
    "normal = np.random.normal(size=1000) # normal dist"
   ]
  },
  {
   "cell_type": "code",
   "execution_count": 3,
   "metadata": {},
   "outputs": [],
   "source": [
    "# Add positive kurtosis\n",
    "positive_kurtosis = np.random.normal(size=1000) + 2"
   ]
  },
  {
   "cell_type": "code",
   "execution_count": 4,
   "metadata": {},
   "outputs": [],
   "source": [
    "# Add negative kurtosis\n",
    "negative_kurtosis = np.random.normal(size=1000) - 2"
   ]
  },
  {
   "cell_type": "code",
   "execution_count": 5,
   "metadata": {},
   "outputs": [
    {
     "data": {
      "image/png": "[encoded data removed]",
      "text/plain": [
       "<Figure size 640x480 with 1 Axes>"
      ]
     },
     "metadata": {},
     "output_type": "display_data"
    }
   ],
   "source": [
    "# Plot the distributions\n",
    "fig, ax = plt.subplots()\n",
    "ax.hist(normal, bins=50, alpha=0.5, label='Normal')\n",
    "ax.hist(positive_kurtosis, bins=50, alpha=0.5, label='Positive kurtosis')\n",
    "ax.hist(negative_kurtosis, bins=50, alpha=0.5, label='Negative kurtosis')\n",
    "ax.legend()\n",
    "plt.show()"
   ]
  },
  {
   "cell_type": "code",
   "execution_count": 6,
   "metadata": {},
   "outputs": [],
   "source": [
    "# Calculate the kurtosis of each distribution\n",
    "normal_kurtosis = stats.kurtosis(normal)\n",
    "positive_kurtosis_val = stats.kurtosis(positive_kurtosis)\n",
    "negative_kurtosis_val = stats.kurtosis(negative_kurtosis)"
   ]
  },
  {
   "cell_type": "code",
   "execution_count": 7,
   "metadata": {},
   "outputs": [
    {
     "name": "stdout",
     "output_type": "stream",
     "text": [
      "Normal kurtosis: 0.06\n",
      "Positive kurtosis: 0.03\n",
      "Negative kurtosis: -0.00\n"
     ]
    }
   ],
   "source": [
    "print(f'Normal kurtosis: {normal_kurtosis:.2f}')\n",
    "print(f'Positive kurtosis: {positive_kurtosis_val:.2f}')\n",
    "print(f'Negative kurtosis: {negative_kurtosis_val:.2f}')"
   ]
  },
  {
   "cell_type": "code",
   "execution_count": null,
   "metadata": {},
   "outputs": [],
   "source": []
  }
 ],
 "metadata": {
  "kernelspec": {
   "display_name": "dl",
   "language": "python",
   "name": "python3"
  },
  "language_info": {
   "codemirror_mode": {
    "name": "ipython",
    "version": 3
   },
   "file_extension": ".py",
   "mimetype": "text/x-python",
   "name": "python",
   "nbconvert_exporter": "python",
   "pygments_lexer": "ipython3",
   "version": "3.9.16"
  },
  "orig_nbformat": 4
 },
 "nbformat": 4,
 "nbformat_minor": 2
}
