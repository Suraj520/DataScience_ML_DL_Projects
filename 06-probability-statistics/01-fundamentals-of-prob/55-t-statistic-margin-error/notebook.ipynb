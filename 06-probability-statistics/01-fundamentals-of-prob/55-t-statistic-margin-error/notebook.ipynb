{
 "cells": [
  {
   "attachments": {},
   "cell_type": "markdown",
   "metadata": {},
   "source": [
    "#### About\n",
    "> t-statistics-margin-error\n",
    "\n",
    "t-statistic is a measure of the difference between two sample means that determines whether they are statistically significant or not. It is commonly used in hypothesis testing to determine whether the difference between two groups is meaningful or just due to random chance.\n",
    "\n",
    "The t-statistic takes into account the size of the difference between two sample means, the variance of each group, and the size of the sample. In general, a larger t-statistic indicates a more significant difference between the two groups.\n",
    "\n",
    "The margin of error in t-statistic refers to the range of values within which the true population mean is likely to fall, based on the sample data. The margin of error is affected by the size of the sample, the level of confidence desired, and the standard deviation of the population.\n",
    "\n",
    "A larger margin of error indicates that the sample mean is less precise and more likely to be further from the true population mean. On the other hand, a smaller margin of error indicates that the sample mean is more precise and closer to the true population mean.\n",
    "\n",
    "\n",
    "\n"
   ]
  },
  {
   "cell_type": "code",
   "execution_count": null,
   "metadata": {},
   "outputs": [],
   "source": []
  }
 ],
 "metadata": {
  "kernelspec": {
   "display_name": "dl",
   "language": "python",
   "name": "python3"
  },
  "language_info": {
   "codemirror_mode": {
    "name": "ipython",
    "version": 3
   },
   "file_extension": ".py",
   "mimetype": "text/x-python",
   "name": "python",
   "nbconvert_exporter": "python",
   "pygments_lexer": "ipython3",
   "version": "3.7.11"
  },
  "orig_nbformat": 4
 },
 "nbformat": 4,
 "nbformat_minor": 2
}
