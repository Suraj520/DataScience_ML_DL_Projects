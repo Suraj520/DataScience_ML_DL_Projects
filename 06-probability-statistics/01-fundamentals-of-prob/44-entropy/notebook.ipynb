{
 "cells": [
  {
   "attachments": {},
   "cell_type": "markdown",
   "metadata": {},
   "source": [
    "#### About\n",
    "> Entropy\n",
    "\n",
    "Entropy is a measure of the uncertainty or randomness of a system or a random variable. In information theory, entropy is used to quantify the amount of information contained in a message or signal.\n",
    "\n",
    "The entropy of a discrete random variable X with probability mass function p(x) is defined as:\n",
    "\n",
    "H(X) = - Σ p(x) log p(x)\n",
    "\n",
    "Use cases include Data compression, Cryptography, Image processing and ML"
   ]
  },
  {
   "attachments": {},
   "cell_type": "markdown",
   "metadata": {},
   "source": [
    "Suppose we have a discrete random variable X with the following probability mass function:\n",
    "\n",
    "p(0) = 0.3\n",
    "p(1) = 0.4\n",
    "p(2) = 0.2\n",
    "p(3) = 0.1"
   ]
  },
  {
   "cell_type": "code",
   "execution_count": 1,
   "metadata": {},
   "outputs": [
    {
     "name": "stdout",
     "output_type": "stream",
     "text": [
      "Entropy = 1.8464393446710154\n"
     ]
    }
   ],
   "source": [
    "#calculate entropy\n",
    "\n",
    "import math\n",
    "\n",
    "p = [0.3, 0.4, 0.2, 0.1]\n",
    "\n",
    "entropy = 0\n",
    "\n",
    "for i in range(len(p)):\n",
    "    if p[i] != 0:\n",
    "        entropy -= p[i] * math.log(p[i], 2)\n",
    "\n",
    "print(\"Entropy =\", entropy)\n"
   ]
  },
  {
   "attachments": {},
   "cell_type": "markdown",
   "metadata": {},
   "source": [
    "The entropy of X is approximately 1.846 bits. This means that on average, we need 1.846 bits to encode each value of X."
   ]
  }
 ],
 "metadata": {
  "kernelspec": {
   "display_name": "dl",
   "language": "python",
   "name": "python3"
  },
  "language_info": {
   "codemirror_mode": {
    "name": "ipython",
    "version": 3
   },
   "file_extension": ".py",
   "mimetype": "text/x-python",
   "name": "python",
   "nbconvert_exporter": "python",
   "pygments_lexer": "ipython3",
   "version": "3.9.16"
  },
  "orig_nbformat": 4
 },
 "nbformat": 4,
 "nbformat_minor": 2
}
