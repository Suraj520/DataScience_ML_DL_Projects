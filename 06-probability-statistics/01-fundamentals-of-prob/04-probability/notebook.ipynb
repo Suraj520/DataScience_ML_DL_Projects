{
 "cells": [
  {
   "attachments": {},
   "cell_type": "markdown",
   "metadata": {},
   "source": [
    "#### About\n",
    "> Probability\n",
    "\n",
    "Probability is a measure of the likelihood or chance of an event occurring. It is expressed as a number between 0 and 1, with 0 indicating that the event is impossible and 1 indicating that the event is certain to occur.\n"
   ]
  },
  {
   "attachments": {},
   "cell_type": "markdown",
   "metadata": {},
   "source": [
    "Let's consider the experiment of flipping a fair coin. The sample space for this experiment is:\n",
    "S = {H, T}\n",
    "\n",
    "where \"H\" represents Heads and \"T\" represents Tails. Since the coin is fair, the probability of flipping Heads is 0.5 and the probability of flipping Tails is also 0.5"
   ]
  },
  {
   "cell_type": "code",
   "execution_count": 1,
   "metadata": {},
   "outputs": [
    {
     "name": "stdout",
     "output_type": "stream",
     "text": [
      "H\n"
     ]
    }
   ],
   "source": [
    "import random\n",
    "\n",
    "coin = [\"H\", \"T\"]\n",
    "outcome = random.choice(coin)\n",
    "print(outcome)\n"
   ]
  },
  {
   "attachments": {},
   "cell_type": "markdown",
   "metadata": {},
   "source": [
    "> Probability of an event\n",
    "\n",
    "P(A) = n(A) / n(S)\n",
    "\n",
    "where P(A) is the probability of event A, n(A) is the number of outcomes in event A, and n(S) is the total number of outcomes in the sample space."
   ]
  },
  {
   "attachments": {},
   "cell_type": "markdown",
   "metadata": {},
   "source": [
    "For example, let's consider the experiment of rolling a fair six-sided die. The sample space for this experiment is:\n",
    "\n",
    "S = {1, 2, 3, 4, 5, 6}\n",
    "\n",
    "Let's define event A as the event that the outcome is an even number:\n",
    "\n",
    "A = {2, 4, 6}\n",
    "\n",
    "The probability of event A can be calculated as\n",
    "\n",
    "P(A) = n(A)/n(S) = 3/6 = 0.5"
   ]
  },
  {
   "cell_type": "code",
   "execution_count": 2,
   "metadata": {},
   "outputs": [
    {
     "name": "stdout",
     "output_type": "stream",
     "text": [
      "0.5\n"
     ]
    }
   ],
   "source": [
    "sample_space = {1, 2, 3, 4, 5, 6}\n",
    "event_A = {2, 4, 6}\n",
    "prob_A = len(event_A) / len(sample_space)\n",
    "print(prob_A)\n"
   ]
  },
  {
   "cell_type": "code",
   "execution_count": null,
   "metadata": {},
   "outputs": [],
   "source": []
  }
 ],
 "metadata": {
  "kernelspec": {
   "display_name": "dl",
   "language": "python",
   "name": "python3"
  },
  "language_info": {
   "codemirror_mode": {
    "name": "ipython",
    "version": 3
   },
   "file_extension": ".py",
   "mimetype": "text/x-python",
   "name": "python",
   "nbconvert_exporter": "python",
   "pygments_lexer": "ipython3",
   "version": "3.7.11"
  },
  "orig_nbformat": 4
 },
 "nbformat": 4,
 "nbformat_minor": 2
}
