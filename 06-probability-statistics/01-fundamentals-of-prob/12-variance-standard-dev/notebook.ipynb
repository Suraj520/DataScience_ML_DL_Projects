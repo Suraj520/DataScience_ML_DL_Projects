{
 "cells": [
  {
   "attachments": {},
   "cell_type": "markdown",
   "metadata": {},
   "source": [
    "#### About\n",
    "> Variance and standard deviation\n",
    "\n",
    "- Variance and standard deviation are measures of the spread or dispersion of a set of data. They are commonly used in statistics to describe the variability of a dataset.\n",
    "\n",
    "- Variance is a measure of how far a set of data points are spread out from their mean(avg) value. It is calculated by taking the avg. of the sqrd. differences between each data point and mean.\n",
    "\n",
    "- Std. Deviation is the square root of the variance. It is a measure of the spread or dispersion of the dataset. It tells us how much the data deviates from the mean on average.\n",
    "\n",
    "- Use cases of variance and std. deviation in real world\n",
    "1. Finance - Std. deviation is used to measure the risk associated with an investment. The higher the std. deviation, The riskier is the investment considered to be.\n",
    "2. Quality control - variance and std. deviation are used to measure the variability of a prod. process. A higher variance or std. deviation indicates that the process is not consistent and needs to be improved.\n",
    "3. Health - std. deviation is used to measure the variability of bio. data such as blood pressure or glucose levels. A high std. dev may indicate that a patient's health is not stable and needs to be monitored."
   ]
  },
  {
   "cell_type": "code",
   "execution_count": 1,
   "metadata": {},
   "outputs": [
    {
     "name": "stdout",
     "output_type": "stream",
     "text": [
      "Data:  [1, 3, 5, 7, 9]\n",
      "Variance:  8.0\n",
      "Standard deviation:  2.8284271247461903\n"
     ]
    }
   ],
   "source": [
    "import numpy as np\n",
    "\n",
    "data = [1, 3, 5, 7, 9]\n",
    "\n",
    "# Calculate variance\n",
    "variance = np.var(data)\n",
    "\n",
    "# Calculate standard deviation\n",
    "std_dev = np.std(data)\n",
    "\n",
    "print(\"Data: \", data)\n",
    "print(\"Variance: \", variance)\n",
    "print(\"Standard deviation: \", std_dev)"
   ]
  },
  {
   "cell_type": "code",
   "execution_count": null,
   "metadata": {},
   "outputs": [],
   "source": []
  }
 ],
 "metadata": {
  "kernelspec": {
   "display_name": "dl",
   "language": "python",
   "name": "python3"
  },
  "language_info": {
   "codemirror_mode": {
    "name": "ipython",
    "version": 3
   },
   "file_extension": ".py",
   "mimetype": "text/x-python",
   "name": "python",
   "nbconvert_exporter": "python",
   "pygments_lexer": "ipython3",
   "version": "3.7.11"
  },
  "orig_nbformat": 4
 },
 "nbformat": 4,
 "nbformat_minor": 2
}
