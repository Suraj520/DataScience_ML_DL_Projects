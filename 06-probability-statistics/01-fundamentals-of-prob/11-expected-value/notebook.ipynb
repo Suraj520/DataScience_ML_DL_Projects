{
 "cells": [
  {
   "attachments": {},
   "cell_type": "markdown",
   "metadata": {},
   "source": [
    "#### About\n",
    "> Expected Value\n",
    "\n",
    "- Expected value, also known as the mean or average value, is a measure of central tendency that represents the average outcome of a probability distribution.\n",
    "- Expected value is a concept that is commonly used in probability theory and statistics. It represents the average value of a random variable over many repeated trials. The expected value is calculated by multiplying each possible outcome of the random variable by its corresponding probability and summing the products.\n",
    "- The expected value is a useful tool for decision-making in situations where there is uncertainty.\n",
    "- It has many real world examples, few of which are quoted below\n",
    "1. Insurance - Insurance orgs use expected values to calculate premiums for insurance policies. They estimate the prob of an event occuring(car accident) and the expected cost of the event. The premium charged is often based on expected cost of the event.\n",
    "2. Finance - Investors use expected values to calculate the expected return on an investment. They estimate the prob of different outcomes(stock up or down) and the expected return for each outcome. The expected return is used to evaluate the risk and reward of the investment.\n",
    "3. Manufacturing - They use expected values to control the quality of their products. They estimate the prob. of defects occuring during the production and expected cost of each defect. The expected cost is used to determine the acceptable level of defects and to prioritise quality control measures.\n",
    "4. Healthcare - Professionals in this domain use expected value to estimate the effectiveness of treatments. They estimate the prob. of different outcomes(recovery etc) and the expected benefit of each outcome. The benefit in turn, is used to make decisions about treatments."
   ]
  },
  {
   "attachments": {},
   "cell_type": "markdown",
   "metadata": {},
   "source": [
    "Example of how to calculate the expected value of a discrete probability distribution."
   ]
  },
  {
   "cell_type": "code",
   "execution_count": 1,
   "metadata": {},
   "outputs": [
    {
     "name": "stdout",
     "output_type": "stream",
     "text": [
      "3.0\n"
     ]
    }
   ],
   "source": [
    "import numpy as np\n",
    "\n",
    "# Define the probability distribution\n",
    "x = np.array([1, 2, 3, 4])\n",
    "p = np.array([0.1, 0.2, 0.3, 0.4])\n",
    "\n",
    "# Calculate the expected value\n",
    "expected_value = np.sum(x * p)\n",
    "\n",
    "# Print the result\n",
    "print(expected_value)"
   ]
  },
  {
   "attachments": {},
   "cell_type": "markdown",
   "metadata": {},
   "source": [
    "- Example of how to calculate the expected value of a continuous probability distribution using the SciPy library"
   ]
  },
  {
   "cell_type": "code",
   "execution_count": 3,
   "metadata": {},
   "outputs": [
    {
     "name": "stdout",
     "output_type": "stream",
     "text": [
      "0.0\n"
     ]
    }
   ],
   "source": [
    "from scipy.stats import norm\n",
    "\n",
    "# Define the probability distribution\n",
    "mu = 0  # mean\n",
    "sigma = 1  # standard deviation\n",
    "dist = norm(mu, sigma)\n",
    "\n",
    "# Calculate the expected value\n",
    "expected_value = dist.mean()\n",
    "\n",
    "# Print the result\n",
    "print(expected_value)\n"
   ]
  },
  {
   "attachments": {},
   "cell_type": "markdown",
   "metadata": {},
   "source": [
    "True, Normal distribution has mean centered around origin"
   ]
  },
  {
   "cell_type": "code",
   "execution_count": null,
   "metadata": {},
   "outputs": [],
   "source": []
  }
 ],
 "metadata": {
  "kernelspec": {
   "display_name": "dl",
   "language": "python",
   "name": "python3"
  },
  "language_info": {
   "codemirror_mode": {
    "name": "ipython",
    "version": 3
   },
   "file_extension": ".py",
   "mimetype": "text/x-python",
   "name": "python",
   "nbconvert_exporter": "python",
   "pygments_lexer": "ipython3",
   "version": "3.7.11"
  },
  "orig_nbformat": 4
 },
 "nbformat": 4,
 "nbformat_minor": 2
}
