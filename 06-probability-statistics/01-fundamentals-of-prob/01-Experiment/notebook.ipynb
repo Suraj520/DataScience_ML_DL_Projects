{
 "cells": [
  {
   "attachments": {},
   "cell_type": "markdown",
   "metadata": {},
   "source": [
    "#### About\n",
    "> Experiment\n",
    "\n",
    "An experiment is any process that generates an outcome. In probability theory, we are interested in the possible outcomes of an experiment and the likelihood of each outcome occurring.\n",
    "\n",
    "Let's start by simulating a simple experiment, flipping a coin. We can use numpy's random module to generate random numbers between 0 and 1, and we can consider any number less than 0.5 as heads and any number greater than or equal to 0.5 as tails.\n",
    "\n",
    "Here's the code to simulate 10 coin flips:"
   ]
  },
  {
   "cell_type": "code",
   "execution_count": 1,
   "metadata": {},
   "outputs": [
    {
     "name": "stdout",
     "output_type": "stream",
     "text": [
      "Coin flips: [0.37454012 0.95071431 0.73199394 0.59865848 0.15601864 0.15599452\n",
      " 0.05808361 0.86617615 0.60111501 0.70807258]\n",
      "Heads: [ True False False False  True  True  True False False False]\n",
      "Tails: [False  True  True  True False False False  True  True  True]\n"
     ]
    }
   ],
   "source": [
    "import numpy as np\n",
    "\n",
    "# Set the random seed for reproducibility\n",
    "np.random.seed(42)\n",
    "\n",
    "# Simulate 10 coin flips\n",
    "coin_flips = np.random.rand(10)\n",
    "heads = coin_flips < 0.5\n",
    "tails = coin_flips >= 0.5\n",
    "\n",
    "print(\"Coin flips:\", coin_flips)\n",
    "print(\"Heads:\", heads)\n",
    "print(\"Tails:\", tails)\n"
   ]
  },
  {
   "attachments": {},
   "cell_type": "markdown",
   "metadata": {},
   "source": [
    "#### Rolling a Die"
   ]
  },
  {
   "cell_type": "code",
   "execution_count": 2,
   "metadata": {},
   "outputs": [
    {
     "name": "stdout",
     "output_type": "stream",
     "text": [
      "Die rolls: [4 5 3 5 5 2 3 3 3 5]\n"
     ]
    }
   ],
   "source": [
    "import numpy as np\n",
    "\n",
    "# Set the random seed for reproducibility\n",
    "np.random.seed(42)\n",
    "\n",
    "# Simulate rolling a die 10 times\n",
    "die_rolls = np.random.randint(low=1, high=7, size=10)\n",
    "\n",
    "print(\"Die rolls:\", die_rolls)\n"
   ]
  },
  {
   "cell_type": "code",
   "execution_count": 5,
   "metadata": {},
   "outputs": [
    {
     "name": "stdout",
     "output_type": "stream",
     "text": [
      "Number of 6's: 0\n",
      "Probability of 6's 0.0\n"
     ]
    }
   ],
   "source": [
    "# Calculate the probability of rolling a 6\n",
    "num_sixes = np.count_nonzero(die_rolls == 6)\n",
    "prob_six = num_sixes / len(die_rolls)\n",
    "\n",
    "print(\"Number of 6's:\", num_sixes)\n",
    "print(\"Probability of 6's\", prob_six)\n"
   ]
  },
  {
   "cell_type": "code",
   "execution_count": null,
   "metadata": {},
   "outputs": [],
   "source": []
  }
 ],
 "metadata": {
  "kernelspec": {
   "display_name": "dl",
   "language": "python",
   "name": "python3"
  },
  "language_info": {
   "codemirror_mode": {
    "name": "ipython",
    "version": 3
   },
   "file_extension": ".py",
   "mimetype": "text/x-python",
   "name": "python",
   "nbconvert_exporter": "python",
   "pygments_lexer": "ipython3",
   "version": "3.7.11"
  },
  "orig_nbformat": 4
 },
 "nbformat": 4,
 "nbformat_minor": 2
}
