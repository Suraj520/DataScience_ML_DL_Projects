{
 "cells": [
  {
   "attachments": {},
   "cell_type": "markdown",
   "metadata": {},
   "source": [
    "#### About\n",
    "> Stationary distribution\n",
    "\n",
    "Stationary distribution refers to a probability distribution that remains constant over time, even though the underlying process generating the data may be changing\n",
    "\n",
    "An example of a stationary process is a random walk, where the distribution of the variable remains the same at each step. Consider a simple random walk model, where a coin is flipped to determine whether the next step is up or down. The probability of moving up or down remains constant, and the distribution of the number of steps in either direction is stationary. In this case, we can calculate the stationary distribution by solving the equation:\n",
    "\n",
    "P = pP + qP\n",
    "\n",
    "where P is the stationary distribution, p is the probability of moving up, q is the probability of moving down, and p+q=1."
   ]
  },
  {
   "attachments": {},
   "cell_type": "markdown",
   "metadata": {},
   "source": [
    "Simulation of 100 steps of random walk"
   ]
  },
  {
   "cell_type": "code",
   "execution_count": 1,
   "metadata": {},
   "outputs": [],
   "source": [
    "import numpy as np\n",
    "\n",
    "# Define probability of moving up and down\n",
    "p = 0.5\n",
    "q = 1 - p\n"
   ]
  },
  {
   "cell_type": "code",
   "execution_count": 2,
   "metadata": {},
   "outputs": [],
   "source": [
    "# Simulate random walk with 100 steps\n",
    "steps = np.random.choice([-1, 1], size=100)\n"
   ]
  },
  {
   "cell_type": "code",
   "execution_count": 3,
   "metadata": {},
   "outputs": [],
   "source": [
    "# Calculate cumulative sum of steps\n",
    "cumulative_steps = np.cumsum(steps)\n"
   ]
  },
  {
   "cell_type": "code",
   "execution_count": 4,
   "metadata": {},
   "outputs": [
    {
     "name": "stdout",
     "output_type": "stream",
     "text": [
      "Stationary distribution: 0.21\n"
     ]
    }
   ],
   "source": [
    "# Calculate stationary distribution\n",
    "stationary_distribution = np.mean(cumulative_steps == cumulative_steps[-1])\n",
    "\n",
    "print(f\"Stationary distribution: {stationary_distribution:.2f}\")"
   ]
  },
  {
   "attachments": {},
   "cell_type": "markdown",
   "metadata": {},
   "source": [
    "Stationary distribution of 0.2 indicates that the probability of ending up at any particular step is roughly the same."
   ]
  },
  {
   "cell_type": "code",
   "execution_count": null,
   "metadata": {},
   "outputs": [],
   "source": []
  }
 ],
 "metadata": {
  "kernelspec": {
   "display_name": "dl",
   "language": "python",
   "name": "python3"
  },
  "language_info": {
   "codemirror_mode": {
    "name": "ipython",
    "version": 3
   },
   "file_extension": ".py",
   "mimetype": "text/x-python",
   "name": "python",
   "nbconvert_exporter": "python",
   "pygments_lexer": "ipython3",
   "version": "3.9.16"
  },
  "orig_nbformat": 4
 },
 "nbformat": 4,
 "nbformat_minor": 2
}
