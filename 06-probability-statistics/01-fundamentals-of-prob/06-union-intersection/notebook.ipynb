{
 "cells": [
  {
   "attachments": {},
   "cell_type": "markdown",
   "metadata": {},
   "source": [
    "#### About\n",
    "> Union and Intersection\n",
    "\n",
    "In set theory, Union and Intersection are two fundamental operations that can be performed on sets.\n",
    "\n",
    "The Union of two sets A and B is the set of all elements that belong to either A or B or both. This can be represented symbolically as A ∪ B.\n",
    "\n",
    "The Intersection of two sets A and B is the set of all elements that belong to both A and B. This can be represented symbolically as A ∩ B."
   ]
  },
  {
   "cell_type": "code",
   "execution_count": 1,
   "metadata": {},
   "outputs": [
    {
     "name": "stdout",
     "output_type": "stream",
     "text": [
      "Union of set_a and set_b: {1, 2, 3, 4, 5, 6}\n",
      "Intersection of set_a and set_b: {3, 4}\n"
     ]
    }
   ],
   "source": [
    "# Creating two sets\n",
    "set_a = {1, 2, 3, 4}\n",
    "set_b = {3, 4, 5, 6}\n",
    "\n",
    "# Union of two sets\n",
    "union_set = set_a.union(set_b)\n",
    "print(\"Union of set_a and set_b:\", union_set)\n",
    "\n",
    "# Intersection of two sets\n",
    "intersection_set = set_a.intersection(set_b)\n",
    "print(\"Intersection of set_a and set_b:\", intersection_set)\n"
   ]
  },
  {
   "attachments": {},
   "cell_type": "markdown",
   "metadata": {},
   "source": [
    "Using the | and & operators"
   ]
  },
  {
   "cell_type": "code",
   "execution_count": 2,
   "metadata": {},
   "outputs": [
    {
     "name": "stdout",
     "output_type": "stream",
     "text": [
      "Union of set_a and set_b: {1, 2, 3, 4, 5, 6}\n",
      "Intersection of set_a and set_b: {3, 4}\n"
     ]
    }
   ],
   "source": [
    "# Creating two sets\n",
    "set_a = {1, 2, 3, 4}\n",
    "set_b = {3, 4, 5, 6}\n",
    "\n",
    "# Union of two sets using the | operator\n",
    "union_set = set_a | set_b\n",
    "print(\"Union of set_a and set_b:\", union_set)\n",
    "\n",
    "# Intersection of two sets using the & operator\n",
    "intersection_set = set_a & set_b\n",
    "print(\"Intersection of set_a and set_b:\", intersection_set)\n"
   ]
  },
  {
   "attachments": {},
   "cell_type": "markdown",
   "metadata": {},
   "source": [
    "Union of multiple sets"
   ]
  },
  {
   "cell_type": "code",
   "execution_count": 3,
   "metadata": {},
   "outputs": [
    {
     "name": "stdout",
     "output_type": "stream",
     "text": [
      "Union of set_a, set_b, and set_c: {1, 2, 3, 4, 5, 6, 7}\n"
     ]
    }
   ],
   "source": [
    "# Creating three sets\n",
    "set_a = {1, 2, 3}\n",
    "set_b = {3, 4, 5}\n",
    "set_c = {5, 6, 7}\n",
    "\n",
    "# Union of three sets\n",
    "union_set = set_a.union(set_b, set_c)\n",
    "print(\"Union of set_a, set_b, and set_c:\", union_set)\n"
   ]
  },
  {
   "attachments": {},
   "cell_type": "markdown",
   "metadata": {},
   "source": [
    "Intersection of empty sets"
   ]
  },
  {
   "cell_type": "code",
   "execution_count": 4,
   "metadata": {},
   "outputs": [
    {
     "name": "stdout",
     "output_type": "stream",
     "text": [
      "Intersection of two empty sets: set()\n"
     ]
    }
   ],
   "source": [
    "# Creating two empty sets\n",
    "set_a = set()\n",
    "set_b = set()\n",
    "\n",
    "# Intersection of two empty sets\n",
    "intersection_set = set_a.intersection(set_b)\n",
    "print(\"Intersection of two empty sets:\", intersection_set)\n"
   ]
  }
 ],
 "metadata": {
  "kernelspec": {
   "display_name": "dl",
   "language": "python",
   "name": "python3"
  },
  "language_info": {
   "codemirror_mode": {
    "name": "ipython",
    "version": 3
   },
   "file_extension": ".py",
   "mimetype": "text/x-python",
   "name": "python",
   "nbconvert_exporter": "python",
   "pygments_lexer": "ipython3",
   "version": "3.7.11"
  },
  "orig_nbformat": 4
 },
 "nbformat": 4,
 "nbformat_minor": 2
}
