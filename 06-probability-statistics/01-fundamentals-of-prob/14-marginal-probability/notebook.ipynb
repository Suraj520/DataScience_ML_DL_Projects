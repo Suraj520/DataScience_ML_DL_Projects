{
 "cells": [
  {
   "attachments": {},
   "cell_type": "markdown",
   "metadata": {},
   "source": [
    "#### About\n",
    "> Marginal probability\n",
    "\n",
    "- It is a statistical concept that describes the probability distribution of a single random variable from a joint probability distribution. \n",
    "- It shows the prob. of one variable independently, without considering other variables.\n",
    "- It is obtained by summing(discrete) or integrating(continuos) the joint prob distribution over all possible values of other variable\n",
    "- Use cases in real world\n",
    "1. Medical diagnosis - It is used to estimate the prob. of a patient having a particular symptom or disease independently. For ex - Doctor can use marginal prob of blood pressure to diagnose a patient with high bp without considering other diseases.\n",
    "2. Insurance claims - It is used to estimate the probability of a single event occuring such as prob of a car accident or a house fire.\n",
    "3. Customer analysis - It is used to analyse customer behaviour by considering the prob of single event, such as prob of customer making a purchase or clicking on an adv.\n",
    "\n"
   ]
  },
  {
   "cell_type": "code",
   "execution_count": 2,
   "metadata": {},
   "outputs": [
    {
     "name": "stdout",
     "output_type": "stream",
     "text": [
      "income  25000   32000   45000   58000   69000   82000   95000   120000\n",
      "age                                                                   \n",
      "22           1       0       0       0       0       0       0       0\n",
      "25           0       1       0       0       0       0       0       0\n",
      "32           0       0       1       0       0       0       0       0\n",
      "45           0       0       0       1       0       0       0       0\n",
      "56           0       0       0       0       1       0       0       0\n",
      "61           0       0       0       0       0       1       0       0\n",
      "74           0       0       0       0       0       0       1       0\n",
      "81           0       0       0       0       0       0       0       1\n",
      "age\n",
      "22    1\n",
      "25    1\n",
      "32    1\n",
      "45    1\n",
      "56    1\n",
      "61    1\n",
      "74    1\n",
      "81    1\n",
      "dtype: int64\n"
     ]
    }
   ],
   "source": [
    "import pandas as pd\n",
    "\n",
    "#  a sample dataset\n",
    "data = {'age': [22, 25, 32, 45, 56, 61, 74, 81], \n",
    "        'income': [25000, 32000, 45000, 58000, 69000, 82000, 95000, 120000]}\n",
    "df = pd.DataFrame(data)\n",
    "\n",
    "# compute the joint distribution of age and income\n",
    "joint_dist = pd.crosstab(df['age'], df['income'])\n",
    "\n",
    "print(joint_dist)\n",
    "# compute the marginal distribution of age\n",
    "marginal_dist = joint_dist.sum(axis=1)\n",
    "\n",
    "print(marginal_dist)\n"
   ]
  },
  {
   "cell_type": "code",
   "execution_count": null,
   "metadata": {},
   "outputs": [],
   "source": []
  }
 ],
 "metadata": {
  "kernelspec": {
   "display_name": "dl",
   "language": "python",
   "name": "python3"
  },
  "language_info": {
   "codemirror_mode": {
    "name": "ipython",
    "version": 3
   },
   "file_extension": ".py",
   "mimetype": "text/x-python",
   "name": "python",
   "nbconvert_exporter": "python",
   "pygments_lexer": "ipython3",
   "version": "3.7.11"
  },
  "orig_nbformat": 4
 },
 "nbformat": 4,
 "nbformat_minor": 2
}
