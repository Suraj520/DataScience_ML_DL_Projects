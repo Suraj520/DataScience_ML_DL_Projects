{
 "cells": [
  {
   "attachments": {},
   "cell_type": "markdown",
   "metadata": {},
   "source": [
    "#### About\n",
    "> p-value\n",
    "\n",
    "p-value is a statistical measure used to determine the significance of results obtained in a statistical hypothesis test. It is the probability of obtaining a result as extreme or more extreme than the one observed, assuming the null hypothesis is true. If the p-value is below a certain significance level (usually 0.05), we reject the null hypothesis and conclude that there is a statistically significant difference or relationship between variables.\n",
    "\n",
    "The use cases of p-value include:\n",
    "\n",
    "Hypothesis testing: p-value is commonly used to test hypotheses in fields such as biology, psychology, economics, and engineering.\n",
    "\n",
    "Model selection: p-value can be used to compare the performance of different models and select the one with the best fit to the data.\n",
    "\n",
    "Feature selection: p-value can be used to identify the most significant features in a dataset and select the ones that are most relevant for a particular task.\n",
    "\n",
    "Quality control: p-value can be used to monitor the quality of a manufacturing process by testing whether the product meets certain specifications.\n",
    "\n",
    "Risk assessment: p-value can be used to assess the risk of certain events, such as a disease outbreak or a financial crisis."
   ]
  },
  {
   "cell_type": "code",
   "execution_count": 1,
   "metadata": {},
   "outputs": [
    {
     "name": "stdout",
     "output_type": "stream",
     "text": [
      "The p-value is: 2.24894820048146e-05\n"
     ]
    }
   ],
   "source": [
    "import numpy as np\n",
    "from scipy import stats\n",
    "\n",
    "# Generate two samples of heights\n",
    "sample1 = np.random.normal(170, 5, 50)\n",
    "sample2 = np.random.normal(175, 5, 50)\n",
    "\n",
    "# Perform a two-sample t-test\n",
    "t_statistic, p_value = stats.ttest_ind(sample1, sample2)\n",
    "\n",
    "# Print the p-value\n",
    "print(\"The p-value is:\", p_value)"
   ]
  },
  {
   "attachments": {},
   "cell_type": "markdown",
   "metadata": {},
   "source": [
    "p-values is less than 0.05, we reject the null hypothesis of equal means and conclude that there is a statistically significant difference between the two populations."
   ]
  },
  {
   "cell_type": "code",
   "execution_count": null,
   "metadata": {},
   "outputs": [],
   "source": []
  }
 ],
 "metadata": {
  "kernelspec": {
   "display_name": "dl",
   "language": "python",
   "name": "python3"
  },
  "language_info": {
   "codemirror_mode": {
    "name": "ipython",
    "version": 3
   },
   "file_extension": ".py",
   "mimetype": "text/x-python",
   "name": "python",
   "nbconvert_exporter": "python",
   "pygments_lexer": "ipython3",
   "version": "3.9.16"
  },
  "orig_nbformat": 4
 },
 "nbformat": 4,
 "nbformat_minor": 2
}
