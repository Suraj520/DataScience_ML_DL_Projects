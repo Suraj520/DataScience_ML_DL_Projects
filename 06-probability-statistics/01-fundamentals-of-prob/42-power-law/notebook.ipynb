{
 "cells": [
  {
   "attachments": {},
   "cell_type": "markdown",
   "metadata": {},
   "source": [
    "#### About\n",
    "> Power Law\n",
    "\n",
    "Power law, also known as the Pareto principle or the 80/20 rule, is a phenomenon where a small number of events or individuals have a disproportionately large impact. It is characterized by a heavy-tailed distribution where the frequency of occurrences decreases rapidly as the value increases.\n",
    "\n",
    "Power law is commonly observed in many real-world phenomena such as the distribution of wealth, the frequency of word usage in language, the popularity of websites, and the number of connections in social networks.\n",
    "\n",
    "One of the most popular use cases of power law is in the analysis of networks, where it is often used to model the degree distribution of nodes in a network. The degree of a node is defined as the number of edges connecting to it, and the degree distribution is the frequency distribution of nodes with a certain degree.\n",
    "\n"
   ]
  },
  {
   "cell_type": "code",
   "execution_count": 3,
   "metadata": {},
   "outputs": [
    {
     "name": "stdout",
     "output_type": "stream",
     "text": [
      "Calculating best minimal value for power law fit\n",
      "240.97986619499608 0.9900705712920621\n"
     ]
    }
   ],
   "source": [
    "import powerlaw\n",
    "import numpy as np\n",
    "\n",
    "degrees = np.random.power(3, size=1000)\n",
    "\n",
    "# fit a power law model to the degree distribution\n",
    "fit = powerlaw.Fit(degrees)\n",
    "\n",
    "# print the estimated parameters of the power law distribution ie shape param and x min\n",
    "print(fit.alpha, fit.xmin)"
   ]
  },
  {
   "cell_type": "code",
   "execution_count": null,
   "metadata": {},
   "outputs": [],
   "source": []
  }
 ],
 "metadata": {
  "kernelspec": {
   "display_name": "dl",
   "language": "python",
   "name": "python3"
  },
  "language_info": {
   "codemirror_mode": {
    "name": "ipython",
    "version": 3
   },
   "file_extension": ".py",
   "mimetype": "text/x-python",
   "name": "python",
   "nbconvert_exporter": "python",
   "pygments_lexer": "ipython3",
   "version": "3.9.16"
  },
  "orig_nbformat": 4
 },
 "nbformat": 4,
 "nbformat_minor": 2
}
