{
 "cells": [
  {
   "attachments": {},
   "cell_type": "markdown",
   "metadata": {},
   "source": [
    "#### About\n",
    "> Confidence interval\n",
    "\n",
    "- A confidence interval is a range of values that is likely to contain an unknown population parameter with a certain level of confidence. It is often used in statistics to estimate the true value of a population parameter based on a sample from that population."
   ]
  },
  {
   "cell_type": "code",
   "execution_count": 1,
   "metadata": {},
   "outputs": [],
   "source": [
    "import numpy as np\n",
    "from scipy.stats import t\n",
    "\n",
    "# create a sample dataset\n",
    "sample_data = np.array([23, 25, 27, 21, 19, 30, 24, 28, 26, 22])\n",
    "\n",
    "# calculate the sample mean and standard deviation\n",
    "sample_mean = np.mean(sample_data)\n",
    "sample_std = np.std(sample_data, ddof=1)\n",
    "\n",
    "# set the confidence level and degrees of freedom\n",
    "confidence_level = 0.95\n",
    "df = len(sample_data) - 1"
   ]
  },
  {
   "attachments": {},
   "cell_type": "markdown",
   "metadata": {},
   "source": [
    "> T-statistic and margin of error\n",
    "\n",
    "The t-statistic is a measure of how many standard errors a sample mean is away from the true population mean, given a certain sample size and a certain level of confidence. It is calculated as the difference between the sample mean and the hypothesized population mean divided by the standard error of the mean.\n",
    "\n",
    "The margin of error is a measure of the amount of error that can be expected in an estimate of a population parameter based on a sample from that population. It is calculated as the product of the t-statistic, the standard deviation of the sample, and a factor that depends on the sample size and the level of confidence.\n",
    "\n",
    "\n"
   ]
  },
  {
   "cell_type": "code",
   "execution_count": 2,
   "metadata": {},
   "outputs": [],
   "source": [
    "# calculate the t-statistic and margin of error\n",
    "t_stat = t.ppf(confidence_level, df)\n",
    "margin_of_error = t_stat * sample_std / np.sqrt(len(sample_data))\n"
   ]
  },
  {
   "cell_type": "code",
   "execution_count": 3,
   "metadata": {},
   "outputs": [],
   "source": [
    "# calculate the confidence interval\n",
    "lower_bound = sample_mean - margin_of_error\n",
    "upper_bound = sample_mean + margin_of_error\n",
    "\n"
   ]
  },
  {
   "cell_type": "code",
   "execution_count": 4,
   "metadata": {},
   "outputs": [
    {
     "name": "stdout",
     "output_type": "stream",
     "text": [
      "Sample mean: 24.50\n",
      "Margin of error: 1.96\n",
      "Confidence interval: (22.54, 26.46)\n"
     ]
    }
   ],
   "source": [
    "# print the results\n",
    "print(f\"Sample mean: {sample_mean:.2f}\")\n",
    "print(f\"Margin of error: {margin_of_error:.2f}\")\n",
    "print(f\"Confidence interval: ({lower_bound:.2f}, {upper_bound:.2f})\")"
   ]
  },
  {
   "cell_type": "code",
   "execution_count": null,
   "metadata": {},
   "outputs": [],
   "source": []
  }
 ],
 "metadata": {
  "kernelspec": {
   "display_name": "dl",
   "language": "python",
   "name": "python3"
  },
  "language_info": {
   "codemirror_mode": {
    "name": "ipython",
    "version": 3
   },
   "file_extension": ".py",
   "mimetype": "text/x-python",
   "name": "python",
   "nbconvert_exporter": "python",
   "pygments_lexer": "ipython3",
   "version": "3.9.16"
  },
  "orig_nbformat": 4
 },
 "nbformat": 4,
 "nbformat_minor": 2
}
