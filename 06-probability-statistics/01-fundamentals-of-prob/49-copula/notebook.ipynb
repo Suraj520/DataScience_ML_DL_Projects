{
 "cells": [
  {
   "attachments": {},
   "cell_type": "markdown",
   "metadata": {},
   "source": [
    "#### About\n",
    "> Copula\n",
    "\n",
    "A copula is a mathematical function that describes the dependence between random variables. It provides a way to model the joint distribution of two or more random variables, by specifying the dependence structure separately from the marginal distributions of the variables.\n",
    "\n",
    "A simple example of a copula is the Gaussian copula, which is based on the assumption that the marginal distributions of the variables are Gaussian and the dependence structure is captured by the correlation matrix. "
   ]
  },
  {
   "cell_type": "code",
   "execution_count": null,
   "metadata": {},
   "outputs": [],
   "source": []
  }
 ],
 "metadata": {
  "kernelspec": {
   "display_name": "dl",
   "language": "python",
   "name": "python3"
  },
  "language_info": {
   "codemirror_mode": {
    "name": "ipython",
    "version": 3
   },
   "file_extension": ".py",
   "mimetype": "text/x-python",
   "name": "python",
   "nbconvert_exporter": "python",
   "pygments_lexer": "ipython3",
   "version": "3.9.16"
  },
  "orig_nbformat": 4
 },
 "nbformat": 4,
 "nbformat_minor": 2
}
