{
 "cells": [
  {
   "attachments": {},
   "cell_type": "markdown",
   "metadata": {},
   "source": [
    "#### About\n",
    "> Complement\n",
    "\n",
    "In probability theory and statistics, the complement of an event A is the event that A does not occur. It is denoted by A' or Ac, and consists of all outcomes in the sample space that are not in A."
   ]
  },
  {
   "attachments": {},
   "cell_type": "markdown",
   "metadata": {},
   "source": [
    "The probability of the complement of an event A is given by:\n",
    "P(A') = 1 - P(A)\n",
    "\n",
    "where P(A) is the probability of event A.\n",
    "\n",
    "Let's consider the experiment of rolling a six-sided die. The sample space for this experiment is:\n",
    "\n",
    "S = {1, 2, 3, 4, 5, 6}\n",
    "\n",
    "Let's define event A as the event that the outcome is an even number:\n",
    "A = {2, 4, 6}\n",
    "\n",
    "The complement of event A, denoted by A', consists of all outcomes in the sample space that are not in A:\n",
    "\n",
    "A' = {1, 3, 5}\n",
    "\n",
    "The probability of event A can be calculated as:\n",
    "\n",
    "P(A) = n(A) / n(S) = 3 / 6 = 0.5\n",
    "\n",
    "The probability of the complement of event A can be calculated using the formula:\n",
    "\n",
    "P(A') = 1 - P(A) = 1 - 0.5 = 0.5"
   ]
  },
  {
   "cell_type": "code",
   "execution_count": 1,
   "metadata": {},
   "outputs": [
    {
     "name": "stdout",
     "output_type": "stream",
     "text": [
      "0.5\n"
     ]
    }
   ],
   "source": [
    "sample_space = {1, 2, 3, 4, 5, 6}\n",
    "event_A = {2, 4, 6}\n",
    "prob_A = len(event_A) / len(sample_space)\n",
    "prob_A_comp = 1 - prob_A\n",
    "print(prob_A_comp)\n"
   ]
  },
  {
   "attachments": {},
   "cell_type": "markdown",
   "metadata": {},
   "source": [
    "We can also check that the union of event A and its complement A' equals the sample space S:"
   ]
  },
  {
   "cell_type": "code",
   "execution_count": 2,
   "metadata": {},
   "outputs": [],
   "source": [
    "event_A_comp = sample_space - event_A\n",
    "assert event_A.union(event_A_comp) == sample_space\n",
    "\n"
   ]
  },
  {
   "attachments": {},
   "cell_type": "markdown",
   "metadata": {},
   "source": [
    "This returns nothing, indicating that the union of event A and its complement A' is equal to the sample space."
   ]
  }
 ],
 "metadata": {
  "kernelspec": {
   "display_name": "dl",
   "language": "python",
   "name": "python3"
  },
  "language_info": {
   "codemirror_mode": {
    "name": "ipython",
    "version": 3
   },
   "file_extension": ".py",
   "mimetype": "text/x-python",
   "name": "python",
   "nbconvert_exporter": "python",
   "pygments_lexer": "ipython3",
   "version": "3.7.11"
  },
  "orig_nbformat": 4
 },
 "nbformat": 4,
 "nbformat_minor": 2
}
