{
 "cells": [
  {
   "attachments": {},
   "cell_type": "markdown",
   "metadata": {},
   "source": [
    "#### About\n",
    "> Monte carlo methods\n",
    "\n",
    "Monte Carlo methods are a class of computational algorithms that rely on repeated random sampling to obtain numerical results. These methods are widely used in various fields such as physics, engineering, finance, and computer graphics.\n",
    "\n",
    "The basic idea behind Monte Carlo methods is to use random sampling to approximate complex mathematical problems that may not have a closed-form analytical solution. Monte Carlo methods work by generating a large number of random samples from a probability distribution that represents the problem being solved. These samples are then used to estimate the expected value or probability of some outcome.\n",
    "\n",
    "One of the most common applications of Monte Carlo methods is in the estimation of integrals. "
   ]
  },
  {
   "attachments": {},
   "cell_type": "markdown",
   "metadata": {},
   "source": [
    "We can use Monte Carlo methods to approximate the area of a unit circle by randomly sampling points within a square that encloses the circle, and then calculating the proportion of points that fall within the circle. The expected value of this proportion is equal to the area of the circle divided by the area of the square, which is equal to π/4. Therefore, we can estimate the value of π by multiplying the proportion by 4.\n",
    "\n"
   ]
  },
  {
   "cell_type": "code",
   "execution_count": 1,
   "metadata": {},
   "outputs": [],
   "source": [
    "import numpy as np\n",
    "\n",
    "# number of samples\n",
    "N = 1000000\n"
   ]
  },
  {
   "cell_type": "code",
   "execution_count": 2,
   "metadata": {},
   "outputs": [],
   "source": [
    "# generate random points within a square of length 2\n",
    "points = np.random.uniform(-1, 1, size=(N, 2))\n"
   ]
  },
  {
   "cell_type": "code",
   "execution_count": 3,
   "metadata": {},
   "outputs": [],
   "source": [
    "# calculate the distance from the origin\n",
    "distances = np.linalg.norm(points, axis=1)"
   ]
  },
  {
   "cell_type": "code",
   "execution_count": 4,
   "metadata": {},
   "outputs": [],
   "source": [
    "# calculate the proportion of points within the unit circle\n",
    "proportion = np.sum(distances <= 1) / N"
   ]
  },
  {
   "cell_type": "code",
   "execution_count": 5,
   "metadata": {},
   "outputs": [],
   "source": [
    "# estimate the value of pi\n",
    "pi_estimate = proportion * 4"
   ]
  },
  {
   "cell_type": "code",
   "execution_count": 6,
   "metadata": {},
   "outputs": [
    {
     "name": "stdout",
     "output_type": "stream",
     "text": [
      "Estimated value of pi: 3.142844\n"
     ]
    }
   ],
   "source": [
    "print(f\"Estimated value of pi: {pi_estimate}\")"
   ]
  },
  {
   "attachments": {},
   "cell_type": "markdown",
   "metadata": {},
   "source": [
    "Estimating integral of the function f(x) = x^2 over the interval [0,1] using monte carlo integration"
   ]
  },
  {
   "attachments": {},
   "cell_type": "markdown",
   "metadata": {},
   "source": [
    "To estimate the integral, we generate N random samples within the interval [0, 1], evaluate the function f(x) at each sample, and take the average. This average multiplied by the length of the interval gives an estimate of the integral.\n",
    "\n"
   ]
  },
  {
   "cell_type": "code",
   "execution_count": 7,
   "metadata": {},
   "outputs": [],
   "source": [
    "import numpy as np\n",
    "\n",
    "def f(x):\n",
    "    return x**2\n",
    "\n",
    "# Set the interval [a, b]\n",
    "a, b = 0, 1"
   ]
  },
  {
   "cell_type": "code",
   "execution_count": 8,
   "metadata": {},
   "outputs": [],
   "source": [
    "# Generate N random samples within the interval [a, b]\n",
    "N = 10000\n",
    "x = np.random.uniform(a, b, N)"
   ]
  },
  {
   "cell_type": "code",
   "execution_count": 9,
   "metadata": {},
   "outputs": [
    {
     "name": "stdout",
     "output_type": "stream",
     "text": [
      "Integral estimate:  0.33643148612467194\n"
     ]
    }
   ],
   "source": [
    "# Evaluate the function at each sample and take the average\n",
    "integral_estimate = np.mean(f(x))\n",
    "\n",
    "# Multiply by the length of the interval to get the estimate of the integral\n",
    "integral_estimate *= (b - a)\n",
    "\n",
    "print(\"Integral estimate: \", integral_estimate)"
   ]
  },
  {
   "cell_type": "code",
   "execution_count": null,
   "metadata": {},
   "outputs": [],
   "source": []
  }
 ],
 "metadata": {
  "kernelspec": {
   "display_name": "dl",
   "language": "python",
   "name": "python3"
  },
  "language_info": {
   "codemirror_mode": {
    "name": "ipython",
    "version": 3
   },
   "file_extension": ".py",
   "mimetype": "text/x-python",
   "name": "python",
   "nbconvert_exporter": "python",
   "pygments_lexer": "ipython3",
   "version": "3.9.16"
  },
  "orig_nbformat": 4
 },
 "nbformat": 4,
 "nbformat_minor": 2
}
