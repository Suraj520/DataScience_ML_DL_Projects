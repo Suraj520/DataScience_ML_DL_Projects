{
 "cells": [
  {
   "attachments": {},
   "cell_type": "markdown",
   "metadata": {},
   "source": [
    "#### About\n",
    "> Moment Generating function\n",
    "\n",
    "The moment generating function (MGF) is a tool used in probability theory to find moments of probability distributions. It is defined as the expected value of the exponential of a random variable multiplied by a parameter t.\n",
    "\n",
    "The moment generating function of a random variable X is given by:\n",
    "\n",
    "M_X(t) = E[e^(tX)]\n",
    "\n",
    "The MGF is used to derive moments of the distribution of the random variable X. Specifically, the nth moment of X can be obtained by taking the nth derivative of the MGF and evaluating it at t=0:\n",
    "\n",
    "M_X^n(0) = E[X^n]\n",
    "\n",
    "The MGF can be used to find the mean, variance, and other moments of a probability distribution.\n",
    "\n",
    "One of the important use cases of the moment generating function is that it can be used to determine the distribution of a sum of independent random variables. Specifically, if X and Y are independent random variables with MGFs M_X(t) and M_Y(t), then the MGF of their sum X+Y is the product of their MGFs:\n",
    "\n",
    "M_(X+Y)(t) = M_X(t) * M_Y(t)\n"
   ]
  },
  {
   "attachments": {},
   "cell_type": "markdown",
   "metadata": {},
   "source": [
    "Suppose we have a random variable X that follows an exponential distribution with parameter λ. We want to find the mean and variance of this distribution using the moment generating function.\n",
    "\n"
   ]
  },
  {
   "cell_type": "code",
   "execution_count": 6,
   "metadata": {},
   "outputs": [],
   "source": [
    "import sympy as sp\n",
    "\n",
    "# define lambda\n",
    "lambda_val = 2\n",
    "\n",
    "# define the moment generating function\n",
    "t = sp.Symbol('t')\n",
    "mgf = 1 / (1 - lambda_val*t)"
   ]
  },
  {
   "cell_type": "code",
   "execution_count": 7,
   "metadata": {},
   "outputs": [],
   "source": [
    "# find the first derivative of the moment generating function\n",
    "mgf_first_derivative = mgf.diff(t)\n"
   ]
  },
  {
   "cell_type": "code",
   "execution_count": 8,
   "metadata": {},
   "outputs": [
    {
     "name": "stdout",
     "output_type": "stream",
     "text": [
      "Mean: 2\n"
     ]
    }
   ],
   "source": [
    "# evaluate the first derivative at t=0 to find the mean\n",
    "mean = mgf_first_derivative.subs(t, 0)\n",
    "print(\"Mean:\", mean)\n"
   ]
  },
  {
   "cell_type": "code",
   "execution_count": 9,
   "metadata": {},
   "outputs": [],
   "source": [
    "# find the second derivative of the moment generating function\n",
    "mgf_second_derivative = mgf_first_derivative.diff(t)\n"
   ]
  },
  {
   "cell_type": "code",
   "execution_count": 10,
   "metadata": {},
   "outputs": [
    {
     "name": "stdout",
     "output_type": "stream",
     "text": [
      "Variance: 4\n"
     ]
    }
   ],
   "source": [
    "# evaluate the second derivative at t=0 to find the variance\n",
    "variance = mgf_second_derivative.subs(t, 0) - mean**2\n",
    "print(\"Variance:\", variance)"
   ]
  },
  {
   "cell_type": "code",
   "execution_count": null,
   "metadata": {},
   "outputs": [],
   "source": []
  }
 ],
 "metadata": {
  "kernelspec": {
   "display_name": "dl",
   "language": "python",
   "name": "python3"
  },
  "language_info": {
   "codemirror_mode": {
    "name": "ipython",
    "version": 3
   },
   "file_extension": ".py",
   "mimetype": "text/x-python",
   "name": "python",
   "nbconvert_exporter": "python",
   "pygments_lexer": "ipython3",
   "version": "3.9.16"
  },
  "orig_nbformat": 4
 },
 "nbformat": 4,
 "nbformat_minor": 2
}
