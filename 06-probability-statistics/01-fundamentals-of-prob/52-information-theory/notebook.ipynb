{
 "cells": [
  {
   "attachments": {},
   "cell_type": "markdown",
   "metadata": {},
   "source": [
    "#### About\n",
    "> Information Theory\n",
    "\n",
    "Information theory is a branch of mathematics and computer science that deals with the quantification, storage, and communication of information. It is concerned with the fundamental limits of communication and the amount of information that can be transmitted through a noisy channel. Information theory is used in various fields such as signal processing, data compression, cryptography, and machine learning.\n",
    "\n",
    "The central concept in information theory is entropy, which measures the amount of uncertainty or randomness in a system. The entropy of a random variable X with probability distribution P(X) is defined as:\n",
    "\n",
    "H(X) = - Σ P(x) log P(x)\n",
    "\n",
    "One of the main use cases of information theory is data compression. Data compression is the process of reducing the size of a data file by encoding it in a more compact form.\n",
    "\n",
    "Another use case of information theory is in cryptography. Cryptography is the practice of secure communication in the presence of adversaries."
   ]
  },
  {
   "cell_type": "code",
   "execution_count": 1,
   "metadata": {},
   "outputs": [
    {
     "name": "stdout",
     "output_type": "stream",
     "text": [
      "Original size: 18\n",
      "Compressed size: 24\n",
      "Original and decompressed text match: True\n"
     ]
    }
   ],
   "source": [
    "import zlib\n",
    "\n",
    "# Sample text\n",
    "text = \"Hi, This is Suraj.\"\n",
    "\n",
    "# Compress the text using zlib\n",
    "compressed_text = zlib.compress(bytes(text, 'utf-8'))\n",
    "\n",
    "# Print the compressed and uncompressed sizes\n",
    "print(\"Original size:\", len(text))\n",
    "print(\"Compressed size:\", len(compressed_text))\n",
    "\n",
    "# Decompress the text\n",
    "decompressed_text = zlib.decompress(compressed_text)\n",
    "\n",
    "# Check if the original and decompressed texts match\n",
    "print(\"Original and decompressed text match:\", text == decompressed_text.decode('utf-8'))"
   ]
  },
  {
   "attachments": {},
   "cell_type": "markdown",
   "metadata": {},
   "source": [
    "It seems that the original text was compressed and then decompressed, resulting in the same text with a compressed size of 24. This means that the compression algorithm was not very effective in reducing the size of the original text.\n",
    "\n",
    "An example of information theory in action is the use of Huffman coding for lossless data compression. Huffman coding is an algorithm that assigns variable-length codes to each symbol in a message based on their frequency of occurrence. This allows more common symbols to be represented with fewer bits, resulting in a more efficient encoding of the message. The compressed message can then be transmitted or stored using less space, without losing any information.\n"
   ]
  },
  {
   "cell_type": "markdown",
   "metadata": {},
   "source": []
  }
 ],
 "metadata": {
  "kernelspec": {
   "display_name": "dl",
   "language": "python",
   "name": "python3"
  },
  "language_info": {
   "codemirror_mode": {
    "name": "ipython",
    "version": 3
   },
   "file_extension": ".py",
   "mimetype": "text/x-python",
   "name": "python",
   "nbconvert_exporter": "python",
   "pygments_lexer": "ipython3",
   "version": "3.9.16"
  },
  "orig_nbformat": 4
 },
 "nbformat": 4,
 "nbformat_minor": 2
}
