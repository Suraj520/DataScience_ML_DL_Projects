{
 "cells": [
  {
   "attachments": {},
   "cell_type": "markdown",
   "metadata": {},
   "source": [
    "#### About\n",
    "> Stochastic Processes\n",
    "\n",
    "Stochastic Processes refer to mathematical models that describe the evolution of random variables over time or space. These models are used to analyze and predict the behavior of systems that exhibit random behavior or noise. The variables in these models are often referred to as stochastic variables and their behavior is governed by a set of probabilistic rules.\n",
    "\n",
    "Use cases\n",
    "\n",
    "1. Stock Price Modeling: Stochastic processes are often used to model stock prices in finance. The models help investors to make informed decisions about buying or selling stocks based on the estimated future price movements.\n",
    "\n",
    "2. Signal Processing: Stochastic processes are used in signal processing to model the noise present in signals. By modeling and analyzing the noise, signal processing techniques can remove noise from signals to improve their quality.\n",
    "\n",
    "3. Epidemic/Pandemic prediction: Stochastic processes are used in epidemiology to model the spread of diseases. By analyzing the stochastic behavior of the disease, researchers can predict the likelihood of an epidemic and design effective control strategies.\n",
    "\n",
    "\n",
    "\n",
    "\n"
   ]
  },
  {
   "attachments": {},
   "cell_type": "markdown",
   "metadata": {},
   "source": [
    "Suppose we have a system that can be in one of two states, A or B. The system switches between the two states randomly, and the time spent in each state is also random. We can model this system using a Markov chain, where the states represent A and B, and the transition probabilities represent the likelihood of switching between the states.\n",
    "\n",
    "Transition prob\n",
    "\n",
    "P(A -> B) = 0.3\n",
    "P(A -> A) = 0.7\n",
    "P(B -> A) = 0.5\n",
    "P(B -> B) = 0.5\n"
   ]
  },
  {
   "cell_type": "code",
   "execution_count": 1,
   "metadata": {},
   "outputs": [],
   "source": [
    "import numpy as np\n",
    "\n",
    "# Define the transition probabilities\n",
    "P = np.array([[0.7, 0.3], [0.5, 0.5]])\n",
    "\n",
    "# Define the initial state distribution\n",
    "pi0 = np.array([0.5, 0.5])\n"
   ]
  },
  {
   "cell_type": "code",
   "execution_count": 2,
   "metadata": {},
   "outputs": [
    {
     "name": "stdout",
     "output_type": "stream",
     "text": [
      "[0, 0, 1, 1, 1, 1, 1, 0, 0, 0, 1]\n"
     ]
    }
   ],
   "source": [
    "# Simulate the Markov chain for 10 steps\n",
    "num_steps = 10\n",
    "state_sequence = [np.argmax(pi0)]\n",
    "for i in range(num_steps):\n",
    "    state = np.random.choice([0, 1], p=P[state_sequence[-1]])\n",
    "    state_sequence.append(state)\n",
    "\n",
    "print(state_sequence)"
   ]
  },
  {
   "attachments": {},
   "cell_type": "markdown",
   "metadata": {},
   "source": [
    "The system started in state A, stayed in state A for the first five steps, then switched to state B for one step, switched back to state A for one step, and so on."
   ]
  },
  {
   "cell_type": "code",
   "execution_count": null,
   "metadata": {},
   "outputs": [],
   "source": []
  }
 ],
 "metadata": {
  "kernelspec": {
   "display_name": "dl",
   "language": "python",
   "name": "python3"
  },
  "language_info": {
   "codemirror_mode": {
    "name": "ipython",
    "version": 3
   },
   "file_extension": ".py",
   "mimetype": "text/x-python",
   "name": "python",
   "nbconvert_exporter": "python",
   "pygments_lexer": "ipython3",
   "version": "3.9.16"
  },
  "orig_nbformat": 4
 },
 "nbformat": 4,
 "nbformat_minor": 2
}
