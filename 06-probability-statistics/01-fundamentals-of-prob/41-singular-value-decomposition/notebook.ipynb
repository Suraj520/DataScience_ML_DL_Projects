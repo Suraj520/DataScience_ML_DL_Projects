{
 "cells": [
  {
   "attachments": {},
   "cell_type": "markdown",
   "metadata": {},
   "source": [
    "#### About\n",
    "> Singular value decomposition\n",
    "\n",
    "Singular Value Decomposition (SVD) is a matrix factorization method that decomposes a matrix into three matrices: U, Σ, and V, where U and V are orthogonal matrices and Σ is a diagonal matrix containing the singular values of the original matrix.\n",
    "\n",
    "SVD is commonly used in machine learning for dimensionality reduction, noise reduction, and data compression. It can also be used for image compression, recommendation systems, and natural language processing.\n",
    "\n",
    "\n"
   ]
  },
  {
   "cell_type": "code",
   "execution_count": 1,
   "metadata": {},
   "outputs": [
    {
     "name": "stdout",
     "output_type": "stream",
     "text": [
      "Original matrix:\n",
      "[[1 2]\n",
      " [3 4]\n",
      " [5 6]]\n",
      "Left singular vectors (U matrix):\n",
      "[[-0.2298477   0.88346102  0.40824829]\n",
      " [-0.52474482  0.24078249 -0.81649658]\n",
      " [-0.81964194 -0.40189603  0.40824829]]\n",
      "Singular values (Σ matrix):\n",
      "[[9.52551809 0.        ]\n",
      " [0.         0.51430058]]\n",
      "Right singular vectors (V matrix):\n",
      "[[-0.61962948 -0.78489445]\n",
      " [-0.78489445  0.61962948]]\n"
     ]
    }
   ],
   "source": [
    "import numpy as np\n",
    "\n",
    "# create a 3x2 matrix\n",
    "A = np.array([[1, 2], [3, 4], [5, 6]])\n",
    "\n",
    "# perform SVD\n",
    "U, S, V = np.linalg.svd(A)\n",
    "\n",
    "# print the original matrix\n",
    "print(\"Original matrix:\")\n",
    "print(A)\n",
    "\n",
    "# print the left singular vectors (U matrix)\n",
    "print(\"Left singular vectors (U matrix):\")\n",
    "print(U)\n",
    "\n",
    "# print the singular values (Σ matrix)\n",
    "print(\"Singular values (Σ matrix):\")\n",
    "print(np.diag(S))\n",
    "\n",
    "# print the right singular vectors (V matrix)\n",
    "print(\"Right singular vectors (V matrix):\")\n",
    "print(V)"
   ]
  },
  {
   "cell_type": "code",
   "execution_count": null,
   "metadata": {},
   "outputs": [],
   "source": []
  }
 ],
 "metadata": {
  "kernelspec": {
   "display_name": "dl",
   "language": "python",
   "name": "python3"
  },
  "language_info": {
   "codemirror_mode": {
    "name": "ipython",
    "version": 3
   },
   "file_extension": ".py",
   "mimetype": "text/x-python",
   "name": "python",
   "nbconvert_exporter": "python",
   "pygments_lexer": "ipython3",
   "version": "3.9.16"
  },
  "orig_nbformat": 4
 },
 "nbformat": 4,
 "nbformat_minor": 2
}
