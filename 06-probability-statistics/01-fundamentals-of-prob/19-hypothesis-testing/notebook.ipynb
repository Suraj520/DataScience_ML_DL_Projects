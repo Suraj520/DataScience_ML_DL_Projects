{
 "cells": [
  {
   "attachments": {},
   "cell_type": "markdown",
   "metadata": {},
   "source": [
    "#### About\n",
    "> Hypothesis testing\n",
    "\n",
    "- It is a statistical method used to determine whether a hypothesis about a population is supported by the data. \n",
    "- It involves two types of hypothesis - \n",
    "1. Null hypothesis - It is the default hypothesis, which assumes that theere is no significant difference between two or more groups.\n",
    "2. Alternative hypothesis - It is the one we want to test, which assumes that there is a significant difference between two or more groups.\n",
    "\n",
    "- For example - Let's say we want to test whether the avg. height of men and women is significantly different. The null hypothesis would be that there is no significant diff in the avg height between men and women, while the alternative hypothesis would be that there is a significant difference.\n",
    "\n",
    "- Steps to conduct a hypothesis test\n",
    "1. State the null and alternate hypotheis\n",
    "- Null hypothesis(H0) - The two groups are not significantly different.\n",
    "- Alternative hypothesis(Ha) - The two groups are significantly different.\n",
    "2. Choose a significance level(alpha)  to determine the test. Common alpha values are 0.05,0.01 and 0.001.\n",
    "3. Calculate data from the sample.\n",
    "4. Calculate the test statistics - The test statistic depends on the type of test being performed(t-test, z-test or chi-squared) and the data being analysed.\n",
    "5. Determine the p -value - The p-value is the probability of obtaining a test statistic as extreme as the one observed, assuming that the null hypo. is true.\n",
    "6/ Compare the p-value with chosen significance level - If the p-value is less than or equal to the significance level, we reject the null hypothesis and accept the alternative hypothesis. If the p-value is greater than the significance level, we fail to reject the null hypothesis.\n"
   ]
  },
  {
   "attachments": {},
   "cell_type": "markdown",
   "metadata": {},
   "source": [
    "> T-test statistic\n",
    "\n",
    "- A t-test statistic is a mesaure used in statistical hypothesis testing to determine if there is a significant difference betweent he mean of two groups. It is used when the pop stand dev is not known and the sample size is rel. small (less than 30)\n",
    "\n",
    "- T-test compares the difference between means of two groups to the variations within the groups. It measures the difference between the sample means divided by the std. error of the diff bet. the means. The resulting value is t-value.\n",
    "\n",
    "- The t-value tells us how many std. error the diff between the two means is away from zero. The larger the t-value, The greater the evidence against the null hypothesis i.e the means of the two groups are not sig. different. The t-value is compared to a critical value from a t-distribution with degrees of freedom equal to the sample size minus 2 and the p-value is calculated as prob of obt. a t value as extreme or more extreme than the observed value.\n",
    "\n",
    "- In summary, The t-test statistics is a measure used to det. the significance of the diff bet the means of two groups, taking into account the variation within the groups."
   ]
  },
  {
   "cell_type": "code",
   "execution_count": 1,
   "metadata": {},
   "outputs": [
    {
     "name": "stdout",
     "output_type": "stream",
     "text": [
      "      group1     group2\n",
      "0  10.475052  10.816451\n",
      "1   9.661347  12.822416\n",
      "2   9.802450  12.648570\n",
      "3  14.769537  10.839135\n",
      "4   9.976487  12.766182\n"
     ]
    }
   ],
   "source": [
    "import pandas as pd\n",
    "import numpy as np\n",
    "\n",
    "# Create a sample dataframe with two groups - Male and Female\n",
    "group1 = np.random.normal(10, 2, 50)\n",
    "group2 = np.random.normal(12, 2, 50)\n",
    "df = pd.DataFrame({\"group1\": group1, \"group2\": group2})\n",
    "\n",
    "# Print the dataframe\n",
    "print(df.head())"
   ]
  },
  {
   "cell_type": "code",
   "execution_count": 4,
   "metadata": {},
   "outputs": [
    {
     "name": "stdout",
     "output_type": "stream",
     "text": [
      "t-statistic: -4.743618519181408\n",
      "p-value: 7.1408968036579575e-06\n"
     ]
    }
   ],
   "source": [
    "from scipy import stats\n",
    "# Calculate the t-test statistic and p-value\n",
    "t_stat, p_value = stats.ttest_ind(group1, group2)\n",
    "\n",
    "# Print the results\n",
    "print(\"t-statistic:\", t_stat)\n",
    "print(\"p-value:\", p_value)\n"
   ]
  },
  {
   "attachments": {},
   "cell_type": "markdown",
   "metadata": {},
   "source": [
    "In this case, the t-statistic is -4.7436. The negative sign indicates that the mean of the first group is lower than the mean of the second group. The absolute value of the t-statistic (i.e., ignoring the sign) indicates the magnitude of the difference between the means.\n",
    "\n",
    "The p-value is a measure of the probability of obtaining a t-value as extreme or more extreme than the observed value, assuming the null hypothesis is true. In this case, the p-value is 7.14, which is a very small value (less than 0.05). This suggests that it is highly unlikely to observe such an extreme difference between the means of the two groups if there were no true difference between the populations. Therefore, we can reject the null hypothesis that there is no significant difference between the means of the two groups, and conclude that there is strong evidence to suggest that the means are significantly different"
   ]
  },
  {
   "cell_type": "markdown",
   "metadata": {},
   "source": []
  }
 ],
 "metadata": {
  "kernelspec": {
   "display_name": "dl",
   "language": "python",
   "name": "python3"
  },
  "language_info": {
   "codemirror_mode": {
    "name": "ipython",
    "version": 3
   },
   "file_extension": ".py",
   "mimetype": "text/x-python",
   "name": "python",
   "nbconvert_exporter": "python",
   "pygments_lexer": "ipython3",
   "version": "3.7.11"
  },
  "orig_nbformat": 4
 },
 "nbformat": 4,
 "nbformat_minor": 2
}
