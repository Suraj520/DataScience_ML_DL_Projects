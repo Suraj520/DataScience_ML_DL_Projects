{
 "cells": [
  {
   "attachments": {},
   "cell_type": "markdown",
   "metadata": {},
   "source": [
    "#### About\n",
    "> Maximum likelihood estimate\n",
    "\n",
    "- Maximum likelihood estimate(MLE) is a statistical method that is commonly used to estimate the parameters of a probability distribution by maximising the likelihood function.\n",
    "\n",
    "- The likelihood function measures how likely it is to observe the data given a particular set of parameter values.\n",
    "\n",
    "- For ex - If we havve a set of data points that we believe come from a normal distribution but we don't know the mean and std. deviation of that distribution, we can use MLE to estimate those params\n",
    "\n",
    "L(mu,sigma_sq) = prod(1 to n)(1/sq.root(2*pi*sigma_sq) *exp(-(x-u)_sq/2_sigma_sq))"
   ]
  },
  {
   "cell_type": "code",
   "execution_count": 1,
   "metadata": {},
   "outputs": [],
   "source": [
    "import numpy as np\n",
    "from scipy.optimize import minimize\n",
    "\n",
    "# Generate some data from a normal distribution with known parameters\n",
    "mu_true = 1.0\n",
    "sigma_true = 2.0\n",
    "data = np.random.normal(mu_true, sigma_true, size=100)\n"
   ]
  },
  {
   "cell_type": "code",
   "execution_count": 2,
   "metadata": {},
   "outputs": [],
   "source": [
    "# Define the log-likelihood function for a normal distribution\n",
    "def log_likelihood(params, x):\n",
    "    mu, sigma = params\n",
    "    n = len(x)\n",
    "    ll = -n/2*np.log(2*np.pi*sigma**2) - 1/(2*sigma**2)*np.sum((x-mu)**2)\n",
    "    return ll\n"
   ]
  },
  {
   "cell_type": "code",
   "execution_count": 3,
   "metadata": {},
   "outputs": [],
   "source": [
    "# Define the negative log-likelihood function, which we want to minimize\n",
    "def neg_log_likelihood(params, x):\n",
    "    return -log_likelihood(params, x)\n"
   ]
  },
  {
   "cell_type": "code",
   "execution_count": 4,
   "metadata": {},
   "outputs": [],
   "source": [
    "# Use the minimize function from scipy.optimize to find the MLE estimates of the parameters\n",
    "params0 = [0.0, 1.0] # initial guesses"
   ]
  },
  {
   "cell_type": "code",
   "execution_count": 5,
   "metadata": {},
   "outputs": [],
   "source": [
    "res = minimize(neg_log_likelihood, params0, args=data)\n",
    "mu_mle, sigma_mle = res.x"
   ]
  },
  {
   "cell_type": "code",
   "execution_count": 6,
   "metadata": {},
   "outputs": [
    {
     "name": "stdout",
     "output_type": "stream",
     "text": [
      "True parameters: mu = 1.00, sigma = 2.00\n",
      "Estimated parameters: mu = 0.76, sigma = 1.93\n"
     ]
    }
   ],
   "source": [
    "# Print the true and estimated parameters\n",
    "print(\"True parameters: mu = %.2f, sigma = %.2f\" % (mu_true, sigma_true))\n",
    "print(\"Estimated parameters: mu = %.2f, sigma = %.2f\" % (mu_mle, sigma_mle))\n"
   ]
  },
  {
   "cell_type": "code",
   "execution_count": null,
   "metadata": {},
   "outputs": [],
   "source": []
  }
 ],
 "metadata": {
  "kernelspec": {
   "display_name": "dl",
   "language": "python",
   "name": "python3"
  },
  "language_info": {
   "codemirror_mode": {
    "name": "ipython",
    "version": 3
   },
   "file_extension": ".py",
   "mimetype": "text/x-python",
   "name": "python",
   "nbconvert_exporter": "python",
   "pygments_lexer": "ipython3",
   "version": "3.7.11"
  },
  "orig_nbformat": 4
 },
 "nbformat": 4,
 "nbformat_minor": 2
}
