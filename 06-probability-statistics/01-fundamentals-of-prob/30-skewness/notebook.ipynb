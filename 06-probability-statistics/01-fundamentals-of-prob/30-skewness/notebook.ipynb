{
 "cells": [
  {
   "attachments": {},
   "cell_type": "markdown",
   "metadata": {},
   "source": [
    "#### About\n",
    "> Skewness\n",
    "\n",
    "Skewness is a measure of the asymmetry of a probability distribution. It is a measure of the degree to which the tails of the distribution differ from the normal distribution. A positive skewness indicates that the distribution has a longer tail on the right side, while a negative skewness indicates that the distribution has a longer tail on the left side.\n",
    "\n",
    "Skewness is commonly used in statistical analysis to understand the shape of a distribution and to identify any outliers in the dataset. It can be useful in detecting problems with data collection or data entry.\n",
    "\n",
    "\n"
   ]
  },
  {
   "cell_type": "code",
   "execution_count": 1,
   "metadata": {},
   "outputs": [
    {
     "name": "stdout",
     "output_type": "stream",
     "text": [
      "Skewness: 0.9235984650859819\n"
     ]
    }
   ],
   "source": [
    "import numpy as np\n",
    "from scipy.stats import skew\n",
    "\n",
    "# create a dataset with positive skewness\n",
    "data = np.random.gamma(5, 1, 1000)\n",
    "\n",
    "# calculate the skewness of the dataset\n",
    "skewness = skew(data)\n",
    "\n",
    "print(\"Skewness:\", skewness)"
   ]
  },
  {
   "cell_type": "code",
   "execution_count": 5,
   "metadata": {},
   "outputs": [
    {
     "name": "stdout",
     "output_type": "stream",
     "text": [
      "Skewness: -0.08867117091668948\n"
     ]
    },
    {
     "data": {
      "image/png": "[encoded data removed]",
      "text/plain": [
       "<Figure size 500x500 with 1 Axes>"
      ]
     },
     "metadata": {},
     "output_type": "display_data"
    }
   ],
   "source": [
    "import seaborn as sns\n",
    "import numpy as np\n",
    "from scipy.stats import skew\n",
    "\n",
    "data = np.random.normal(loc=6, scale=3, size=1000)\n",
    "\n",
    "# Plot distribution plot using seaborn\n",
    "sns.displot(data, kde=False)\n",
    "\n",
    "# Compute skewness using scipy\n",
    "skewness = skew(data)\n",
    "print(\"Skewness:\", skewness)\n"
   ]
  },
  {
   "cell_type": "code",
   "execution_count": null,
   "metadata": {},
   "outputs": [],
   "source": []
  }
 ],
 "metadata": {
  "kernelspec": {
   "display_name": "dl",
   "language": "python",
   "name": "python3"
  },
  "language_info": {
   "codemirror_mode": {
    "name": "ipython",
    "version": 3
   },
   "file_extension": ".py",
   "mimetype": "text/x-python",
   "name": "python",
   "nbconvert_exporter": "python",
   "pygments_lexer": "ipython3",
   "version": "3.9.16"
  },
  "orig_nbformat": 4
 },
 "nbformat": 4,
 "nbformat_minor": 2
}
