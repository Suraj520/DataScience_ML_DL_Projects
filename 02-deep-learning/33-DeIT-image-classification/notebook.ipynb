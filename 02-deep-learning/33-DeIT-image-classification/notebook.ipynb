{
  "cells": [
    {
      "cell_type": "markdown",
      "metadata": {
        "id": "cwCRm2QtcAr3"
      },
      "source": [
        "#### About\n",
        "Image classification using ViT in PyTorch\n",
        "Dataset link - https://www.kaggle.com/datasets/gpiosenka/100-bird-species"
      ]
    },
    {
      "cell_type": "code",
      "source": [
        "from google.colab import drive\n",
        "drive.mount('/content/drive')"
      ],
      "metadata": {
        "id": "03K0vPTLcTa4"
      },
      "execution_count": null,
      "outputs": []
    },
    {
      "cell_type": "code",
      "source": [
        "import os\n",
        "os.chdir('/content/drive/MyDrive/Datasets/')\n",
        "!unzip archive.zip"
      ],
      "metadata": {
        "id": "xtMdqRrLcKGO"
      },
      "execution_count": null,
      "outputs": []
    },
    {
      "cell_type": "code",
      "execution_count": null,
      "metadata": {
        "id": "Gt_MvKf-cAr6"
      },
      "outputs": [],
      "source": [
        "#importing modules\n",
        "import torch\n",
        "import torch.nn as nn\n",
        "from torch.utils.data import DataLoader, Dataset\n",
        "import torchvision\n",
        "from torchvision import transforms\n",
        "!pip install torchinfo --quiet\n",
        "from torchinfo import summary\n",
        "from PIL import Image, ImageEnhance\n",
        "import numpy as np\n",
        "from torchvision.datasets import ImageFolder\n",
        "import matplotlib.pyplot as plt\n",
        "%matplotlib inline\n"
      ]
    },
    {
      "cell_type": "code",
      "execution_count": null,
      "metadata": {
        "id": "8kfsrJq2cAr8"
      },
      "outputs": [],
      "source": [
        "#dataset path\n",
        "train_dir = \"/content/drive/MyDrive/Datasets/train/\"\n",
        "val_dir= \"/content/drive/MyDrive/Datasets/valid/\""
      ]
    },
    {
      "cell_type": "code",
      "execution_count": null,
      "metadata": {
        "id": "VGXcyvawcAr9"
      },
      "outputs": [],
      "source": [
        "#image enhancement function while training\n",
        "enhancers = {\n",
        "    0: lambda image, f: ImageEnhance.Color(image).enhance(f),\n",
        "    1: lambda image, f: ImageEnhance.Contrast(image).enhance(f),\n",
        "    2: lambda image, f: ImageEnhance.Brightness(image).enhance(f),\n",
        "    3: lambda image, f: ImageEnhance.Sharpness(image).enhance(f)\n",
        "}\n",
        "\n",
        "factors = {\n",
        "        0: lambda: np.random.normal(1.0, 0.3),\n",
        "        1: lambda: np.random.normal(1.0, 0.1),\n",
        "        2: lambda: np.random.normal(1.0, 0.1),\n",
        "        3: lambda: np.random.normal(1.0, 0.3),\n",
        "    }\n",
        "    \n",
        "\n",
        "def enhance(image):\n",
        "    order = [0, 1, 2, 3]\n",
        "    np.random.shuffle(order)\n",
        "    for i in order:\n",
        "        f = factors[i]()\n",
        "        image = enhancers[i](image, f)\n",
        "    return image"
      ]
    },
    {
      "cell_type": "code",
      "execution_count": null,
      "metadata": {
        "id": "h4acNFaMcAr-"
      },
      "outputs": [],
      "source": [
        "train_transform = transforms.Compose([\n",
        "    transforms.Resize((224,224),Image.LANCZOS),\n",
        "    \n",
        "    transforms.RandomHorizontalFlip(),\n",
        "    transforms.Lambda(enhance),\n",
        "    transforms.ToTensor(),\n",
        "])\n",
        "\n",
        "val_transform = transforms.Compose([\n",
        "    transforms.Resize((224,224),Image.LANCZOS),\n",
        "    transforms.ToTensor()\n",
        "])\n",
        "\n",
        "train_data = ImageFolder(train_dir, transform=train_transform)\n",
        "val_data = ImageFolder(val_dir,transform=val_transform)"
      ]
    },
    {
      "cell_type": "code",
      "execution_count": null,
      "metadata": {
        "id": "kkFax_dmcAr_"
      },
      "outputs": [],
      "source": [
        "train_data.__getitem__(5)"
      ]
    },
    {
      "cell_type": "code",
      "execution_count": null,
      "metadata": {
        "id": "NnN4dOiAcAsA"
      },
      "outputs": [],
      "source": [
        "#creating dataloader\n",
        "batch_size =64\n",
        "train_loader = DataLoader(train_data,batch_size,shuffle=True, num_workers=4, pin_memory=True)\n",
        "val_loader = DataLoader(val_data, batch_size,shuffle=True,  num_workers=4, pin_memory=True)"
      ]
    },
    {
      "cell_type": "code",
      "execution_count": null,
      "metadata": {
        "id": "ZCT35SCVcAsA"
      },
      "outputs": [],
      "source": [
        "for i, (inputs, labels) in enumerate(train_loader):\n",
        "    print(inputs.shape,labels.shape)\n",
        "    break"
      ]
    },
    {
      "cell_type": "code",
      "execution_count": null,
      "metadata": {
        "id": "hgvok9EFcAsA"
      },
      "outputs": [],
      "source": [
        "device = torch.device(\"cuda\" if torch.cuda.is_available() else \"cpu\")"
      ]
    },
    {
      "cell_type": "code",
      "execution_count": null,
      "metadata": {
        "id": "sjd379HkcAsB"
      },
      "outputs": [],
      "source": [
        "num_classes = len(train_data.classes)\n",
        "print(num_classes)"
      ]
    },
    {
      "cell_type": "code",
      "source": [
        "!pip install timm\n",
        "model = torch.hub.load('facebookresearch/deit:main', 'deit_tiny_patch16_224', pretrained=True)\n",
        "#freezing model\n",
        "for param in model.parameters():\n",
        "    param.requires_grad = False\n",
        "\n",
        "n_inputs = model.head.in_features\n",
        "model.head = nn.Sequential(\n",
        "    nn.Linear(n_inputs, 512),\n",
        "    nn.ReLU(),\n",
        "    nn.Dropout(0.3),\n",
        "    nn.Linear(512, len(num_classes))\n",
        ")\n",
        "model = model.to(device)\n",
        "print(model.head)"
      ],
      "metadata": {
        "id": "waBzoXBpQZi4"
      },
      "execution_count": null,
      "outputs": []
    },
    {
      "cell_type": "code",
      "execution_count": null,
      "metadata": {
        "id": "an-2OjNlcAsE"
      },
      "outputs": [],
      "source": [
        "summary(model,input_size=(1,3,224,224))"
      ]
    },
    {
      "cell_type": "code",
      "execution_count": null,
      "metadata": {
        "id": "2hC_Iat5cAsE"
      },
      "outputs": [],
      "source": [
        "optimizer = torch.optim.Adam(model.parameters(), lr=1e-4)\n",
        "criterion = torch.nn.CrossEntropyLoss()\n"
      ]
    },
    {
      "cell_type": "code",
      "execution_count": null,
      "metadata": {
        "id": "tPnSugaBcAsF"
      },
      "outputs": [],
      "source": [
        "def fit(model, loss_criterion, optimizer, epochs=25):\n",
        "\n",
        "    history = []\n",
        "    best_acc = 0.0\n",
        "\n",
        "    for epoch in range(epochs):\n",
        "        print(\"Epoch: {}/{}\".format(epoch+1, epochs))\n",
        "        \n",
        "        # Set to training mode\n",
        "        model.train()\n",
        "        \n",
        "        # Loss and Accuracy within the epoch\n",
        "        train_loss = 0.0\n",
        "        train_acc = 0.0\n",
        "        \n",
        "        valid_loss = 0.0\n",
        "        valid_acc = 0.0\n",
        "        \n",
        "        for i, (inputs, labels) in enumerate(train_loader):\n",
        "\n",
        "            inputs = inputs.to(device)\n",
        "            labels = labels.to(device)\n",
        "            \n",
        "            # Clean existing gradients\n",
        "            optimizer.zero_grad()\n",
        "            \n",
        "            # Forward pass - compute outputs on input data using the model\n",
        "            outputs = model(inputs)\n",
        "            \n",
        "            # Compute loss\n",
        "            loss = loss_criterion(outputs, labels)\n",
        "            \n",
        "            # Backpropagate the gradients\n",
        "            loss.backward()\n",
        "            \n",
        "            # Update the parameters\n",
        "            optimizer.step()\n",
        "            \n",
        "            # Compute the total loss for the batch and add it to train_loss\n",
        "            train_loss += loss.item() * inputs.size(0)\n",
        "            \n",
        "            # Compute the accuracy\n",
        "            ret, predictions = torch.max(outputs.data, 1)\n",
        "            correct_counts = predictions.eq(labels.data.view_as(predictions))\n",
        "            \n",
        "            # Convert correct_counts to float and then compute the mean\n",
        "            acc = torch.mean(correct_counts.type(torch.FloatTensor))\n",
        "            \n",
        "            # Compute total accuracy in the whole batch and add to train_acc\n",
        "            train_acc += acc.item() * inputs.size(0)\n",
        "            \n",
        "\n",
        "            \n",
        "        # Validation - No gradient tracking needed\n",
        "        with torch.no_grad():\n",
        "\n",
        "            # Set to evaluation mode\n",
        "            model.eval()\n",
        "\n",
        "            # Validation loop\n",
        "            for j, (inputs, labels) in enumerate(val_loader):\n",
        "                inputs = inputs.to(device)\n",
        "                labels = labels.to(device)\n",
        "\n",
        "                # Forward pass - compute outputs on input data using the model\n",
        "                outputs = model(inputs)\n",
        "\n",
        "                # Compute loss\n",
        "                loss = loss_criterion(outputs, labels)\n",
        "\n",
        "                # Compute the total loss for the batch and add it to valid_loss\n",
        "                valid_loss += loss.item() * inputs.size(0)\n",
        "\n",
        "                # Calculate validation accuracy\n",
        "                ret, predictions = torch.max(outputs.data, 1)\n",
        "                correct_counts = predictions.eq(labels.data.view_as(predictions))\n",
        "\n",
        "                # Convert correct_counts to float and then compute the mean\n",
        "                acc = torch.mean(correct_counts.type(torch.FloatTensor))\n",
        "\n",
        "                # Compute total accuracy in the whole batch and add to valid_acc\n",
        "                valid_acc += acc.item() * inputs.size(0)\n",
        "\n",
        "            \n",
        "        # Find average training loss and training accuracy\n",
        "        avg_train_loss = train_loss/len(train_data) \n",
        "        avg_train_acc = train_acc/len(train_data) \n",
        "\n",
        "        # Find average training loss and training accuracy\n",
        "        avg_valid_loss = valid_loss/len(val_data)  \n",
        "        avg_valid_acc = valid_acc/len(val_data) \n",
        "\n",
        "        history.append([avg_train_loss, avg_valid_loss, avg_train_acc, avg_valid_acc])\n",
        "                \n",
        "    \n",
        "        print(\"Epoch : {:03d}, Training: Loss: {:.4f}, Accuracy: {:.4f}%, \\n\\t\\tValidation : Loss : {:.4f}, Accuracy: {:.4f}%, Time: {:.4f}s\".format(epoch+1, avg_train_loss, avg_train_acc*100, avg_valid_loss, avg_valid_acc*100))\n",
        "        #model.load_state_dict(best_model_wts)\n",
        "            \n",
        "    return model, history"
      ]
    },
    {
      "cell_type": "code",
      "execution_count": null,
      "metadata": {
        "id": "O5l7lUP2cAsG"
      },
      "outputs": [],
      "source": [
        "model,history = fit(model, criterion,optimizer,10)"
      ]
    },
    {
      "cell_type": "code",
      "execution_count": null,
      "metadata": {
        "id": "00fxIEyucAsG"
      },
      "outputs": [],
      "source": [
        "torch.save(model.state_dict(), 'ViT.pth')\n"
      ]
    },
    {
      "cell_type": "code",
      "source": [
        "history = np.array(history)\n",
        "plt.plot(history[:,0:2])\n",
        "plt.legend(['Training Loss', 'Val Loss'])\n",
        "plt.xlabel('Epoch')\n",
        "plt.ylabel('Loss')\n",
        "plt.ylim(0,1)\n",
        "plt.show()"
      ],
      "metadata": {
        "id": "hP16ISV3goD-"
      },
      "execution_count": null,
      "outputs": []
    },
    {
      "cell_type": "code",
      "source": [
        "plt.plot(history[:,2:4])\n",
        "plt.legend(['Training Accuracy', 'Val Accuracy'])\n",
        "plt.xlabel('Epoch')\n",
        "plt.ylabel('Accuracy')\n",
        "plt.ylim(0,1)\n",
        "plt.show()"
      ],
      "metadata": {
        "id": "eInYqB6TgtTF"
      },
      "execution_count": null,
      "outputs": []
    },
    {
      "cell_type": "code",
      "source": [
        "idx_to_class = {v: k for k, v in train_data.class_to_idx.items()}\n",
        "print(idx_to_class)\n",
        "\n",
        "\n",
        "def predict(model, test_image_name):\n",
        "    \n",
        "    test_image = Image.open(test_image_name).convert('RGB')\n",
        "    print(np.shape(test_image))\n",
        "    plt.imshow(test_image)\n",
        " \n",
        "    transform = transforms.Compose([transforms.Resize((224,224)),transforms.ToTensor() \n",
        "          ])\n",
        "    img_normalized = transform(test_image).float()\n",
        "\n",
        "    if torch.cuda.is_available():\n",
        "        test_image_tensor = img_normalized.view(1, 3, 224, 224).cuda()\n",
        "    else:\n",
        "        test_image_tensor = img_normalized.view(1, 3, 224, 224)\n",
        "    \n",
        "    with torch.no_grad():\n",
        "        model.eval()\n",
        "        # Model outputs log probabilities\n",
        "        out = model(test_image_tensor)\n",
        "        prob = torch.exp(out)\n",
        "        prob_, class_ = prob.topk(3, dim=1)\n",
        "        class_ = class_.cpu().numpy()\n",
        "        for i in range(3):\n",
        "            print(\"Predcition\", i+1, \":\", idx_to_class[class_[0][i]], \", Score: \", prob_.cpu().numpy()[0][i])"
      ],
      "metadata": {
        "id": "H9YPQ3UmguWG"
      },
      "execution_count": null,
      "outputs": []
    }
  ],
  "metadata": {
    "kernelspec": {
      "display_name": "torch_dl",
      "language": "python",
      "name": "python3"
    },
    "language_info": {
      "codemirror_mode": {
        "name": "ipython",
        "version": 3
      },
      "file_extension": ".py",
      "mimetype": "text/x-python",
      "name": "python",
      "nbconvert_exporter": "python",
      "pygments_lexer": "ipython3",
      "version": "3.8.16"
    },
    "orig_nbformat": 4,
    "vscode": {
      "interpreter": {
        "hash": "3fc43966dd8a35b9bb4dacfb26d54ec70461d2f8773a70bf315d67d5e8c2bf14"
      }
    },
    "colab": {
      "provenance": []
    },
    "accelerator": "GPU",
    "gpuClass": "standard"
  },
  "nbformat": 4,
  "nbformat_minor": 0
}