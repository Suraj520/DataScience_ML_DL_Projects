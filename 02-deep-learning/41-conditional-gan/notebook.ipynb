{
 "cells": [
  {
   "attachments": {},
   "cell_type": "markdown",
   "metadata": {},
   "source": [
    "#### About\n",
    "1. Conditional GANs are GANs that allow us to condition the network with additional information such as class labels. It means that during the phase of training, Images are passed to the network along with their actual class labels for it to learn the difference between them.\n",
    "2. The limitation of generating random samples with a GAN is overcome via a conditional GAN i.e control on output is maintained. For e.g - In Fashion MNIST, CGAN can help output all jacket's image or equivalent customization.\n",
    "3. In this notebook, We'll implement CGANs on MNIST Hand written digits dataset.\n",
    "4. The loss function of GANs quoted below\n",
    "![gan_loss.png](gan_loss.png)\n",
    "is modified by conditioning class labels as i.e conditional probabilities\n",
    "![cgan_loss.png](cgan_loss.png)"
   ]
  }
 ],
 "metadata": {
  "language_info": {
   "name": "python"
  },
  "orig_nbformat": 4
 },
 "nbformat": 4,
 "nbformat_minor": 2
}
