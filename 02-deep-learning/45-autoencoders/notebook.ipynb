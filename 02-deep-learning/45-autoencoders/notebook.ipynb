{
  "nbformat": 4,
  "nbformat_minor": 0,
  "metadata": {
    "colab": {
      "provenance": [],
      "gpuType": "T4"
    },
    "kernelspec": {
      "name": "python3",
      "display_name": "Python 3"
    },
    "language_info": {
      "name": "python"
    },
    "accelerator": "GPU",
    "gpuClass": "standard"
  },
  "cells": [
    {
      "cell_type": "markdown",
      "source": [
        "#### About\n",
        "> AutoEncoders\n",
        "\n",
        "Autoencoders are a class of neural networks used in unsupervised learning that are designed to encode the input data into a compressed representation and then decode it back to its original form.\n",
        "\n",
        "The architecture of an autoencoder consists of an encoder and a decoder network. The encoder network maps the input data into a lower dimensional representation, called a latent space, while the decoder network reconstructs the original input from this compressed representation.\n",
        "\n",
        "The main objective of an autoencoder is to minimize the reconstruction error between the input and the output. This is achieved by training the network using backpropagation to adjust the weights of the neural network such that the difference between the input and output is minimized.\n",
        "\n",
        "Autoencoders can be used for a variety of tasks such as dimensionality reduction, data compression, anomaly detection, and image denoising.\n",
        "\n",
        "Some of the main benefits of using autoencoders include:\n",
        "\n",
        "1. Data compression: Autoencoders can be used to reduce the size of large datasets, making them easier to store and process.\n",
        "\n",
        "2. Feature extraction: Autoencoders can be used to learn a compact representation of the input data that captures the most important features.\n",
        "\n",
        "3. Anomaly detection: Autoencoders can be used to detect anomalies in the data by comparing the reconstruction error of the input data with the reconstructed output.\n",
        "\n",
        "4. Image denoising: Autoencoders can be used to remove noise from images by training the network to reconstruct clean images from noisy ones.\n",
        "\n",
        "Overall, autoencoders are a powerful tool in deep learning that can be used to learn complex patterns in data and reduce its dimensionality."
      ],
      "metadata": {
        "id": "NGBg6ONymWWI"
      }
    },
    {
      "cell_type": "markdown",
      "source": [
        "#### 1. Data Compression"
      ],
      "metadata": {
        "id": "poc6v2mUp7YF"
      }
    },
    {
      "cell_type": "code",
      "execution_count": 12,
      "metadata": {
        "id": "6ciEWP4FlyOL"
      },
      "outputs": [],
      "source": [
        "import torch\n",
        "import torch.nn as nn\n",
        "import torchvision.datasets as dsets\n",
        "import torchvision.transforms as transforms\n",
        "import matplotlib.pyplot as plt\n",
        "import numpy as np"
      ]
    },
    {
      "cell_type": "code",
      "source": [
        "# Hyper Parameters\n",
        "input_size = 784\n",
        "hidden_size = 256\n",
        "latent_size = 64\n",
        "num_epochs = 10\n",
        "batch_size = 512\n",
        "learning_rate = 0.001\n"
      ],
      "metadata": {
        "id": "rwxjHyxyoF0z"
      },
      "execution_count": 7,
      "outputs": []
    },
    {
      "cell_type": "code",
      "source": [
        "# MNIST Dataset\n",
        "train_dataset = dsets.MNIST(root='./data',\n",
        "                            train=True,\n",
        "                            transform=transforms.ToTensor(),\n",
        "                            download=True)\n",
        "\n",
        "test_dataset = dsets.MNIST(root='./data',\n",
        "                           train=False,\n",
        "                           transform=transforms.ToTensor())\n"
      ],
      "metadata": {
        "id": "mW04BJaHoIHn"
      },
      "execution_count": 8,
      "outputs": []
    },
    {
      "cell_type": "code",
      "source": [
        "# Data Loader\n",
        "train_loader = torch.utils.data.DataLoader(dataset=train_dataset,\n",
        "                                           batch_size=batch_size,\n",
        "                                           shuffle=True)\n",
        "\n",
        "test_loader = torch.utils.data.DataLoader(dataset=test_dataset,\n",
        "                                          batch_size=batch_size,\n",
        "                                          shuffle=False)\n"
      ],
      "metadata": {
        "id": "poB5zw2CoKWn"
      },
      "execution_count": 9,
      "outputs": []
    },
    {
      "cell_type": "code",
      "source": [
        "# Encoder\n",
        "class Encoder(nn.Module):\n",
        "    def __init__(self, input_size, hidden_size, latent_size):\n",
        "        super(Encoder, self).__init__()\n",
        "        self.fc1 = nn.Linear(input_size, hidden_size)\n",
        "        self.fc2 = nn.Linear(hidden_size, latent_size)\n",
        "\n",
        "    def forward(self, x):\n",
        "        x = torch.relu(self.fc1(x))\n",
        "        x = self.fc2(x)\n",
        "        return x\n",
        "\n",
        "# Decoder\n",
        "class Decoder(nn.Module):\n",
        "    def __init__(self, latent_size, hidden_size, output_size):\n",
        "        super(Decoder, self).__init__()\n",
        "        self.fc1 = nn.Linear(latent_size, hidden_size)\n",
        "        self.fc2 = nn.Linear(hidden_size, output_size)\n",
        "\n",
        "    def forward(self, x):\n",
        "        x = torch.relu(self.fc1(x))\n",
        "        x = torch.sigmoid(self.fc2(x))\n",
        "        return x\n",
        "\n",
        "# Autoencoder\n",
        "class Autoencoder(nn.Module):\n",
        "    def __init__(self, input_size, hidden_size, latent_size):\n",
        "        super(Autoencoder, self).__init__()\n",
        "        self.encoder = Encoder(input_size, hidden_size, latent_size)\n",
        "        self.decoder = Decoder(latent_size, hidden_size, input_size)\n",
        "\n",
        "    def forward(self, x):\n",
        "        x = self.encoder(x)\n",
        "        x = self.decoder(x)\n",
        "        return x"
      ],
      "metadata": {
        "id": "6b3KHtk9oL-f"
      },
      "execution_count": 10,
      "outputs": []
    },
    {
      "cell_type": "code",
      "source": [
        "# Model\n",
        "autoencoder = Autoencoder(input_size, hidden_size, latent_size)\n",
        "\n",
        "# Loss function\n",
        "criterion = nn.MSELoss()\n",
        "\n",
        "# Optimizer\n",
        "optimizer = torch.optim.Adam(autoencoder.parameters(), lr=learning_rate)\n",
        "\n",
        "# Train the Model\n",
        "for epoch in range(num_epochs):\n",
        "    for i, (images, _) in enumerate(train_loader):\n",
        "        # Flatten the image\n",
        "        images = images.view(-1, 28*28)\n",
        "        # Forward + Backward + Optimize\n",
        "        optimizer.zero_grad()\n",
        "        outputs = autoencoder(images)\n",
        "        loss = criterion(outputs, images)\n",
        "        loss.backward()\n",
        "        optimizer.step()\n",
        "\n",
        "        if (i+1) % 100 == 0:\n",
        "            print('Epoch [%d/%d], Step [%d/%d], Loss: %.4f'\n",
        "                  % (epoch+1, num_epochs, i+1, len(train_dataset)//batch_size, loss.item()))\n",
        "\n",
        "# Test the Model\n",
        "autoencoder.eval()\n",
        "with torch.no_grad():\n",
        "    total_loss = 0\n",
        "    for images, _ in test_loader:\n",
        "        # Flatten the image\n",
        "        images = images.view(-1, 28*28)\n",
        "        outputs = autoencoder(images)\n",
        "        loss = criterion(outputs, images)\n",
        "        total_loss += loss.item()\n",
        "\n",
        "    print('Test Loss: %.4f' % (total_loss/len(test_loader)))\n",
        "\n",
        "# Save the Model\n",
        "torch.save(autoencoder.state_dict(), 'autoencoder.pth')"
      ],
      "metadata": {
        "colab": {
          "base_uri": "https://localhost:8080/"
        },
        "id": "znv9aNhVoUwP",
        "outputId": "7c30e885-817b-404c-b62b-f9bb97715c7a"
      },
      "execution_count": 11,
      "outputs": [
        {
          "output_type": "stream",
          "name": "stdout",
          "text": [
            "Epoch [1/10], Step [100/117], Loss: 0.0525\n",
            "Epoch [2/10], Step [100/117], Loss: 0.0295\n",
            "Epoch [3/10], Step [100/117], Loss: 0.0201\n",
            "Epoch [4/10], Step [100/117], Loss: 0.0155\n",
            "Epoch [5/10], Step [100/117], Loss: 0.0143\n",
            "Epoch [6/10], Step [100/117], Loss: 0.0124\n",
            "Epoch [7/10], Step [100/117], Loss: 0.0111\n",
            "Epoch [8/10], Step [100/117], Loss: 0.0097\n",
            "Epoch [9/10], Step [100/117], Loss: 0.0093\n",
            "Epoch [10/10], Step [100/117], Loss: 0.0086\n",
            "Test Loss: 0.0082\n"
          ]
        }
      ]
    },
    {
      "cell_type": "code",
      "source": [
        "#Evaluation\n",
        "# Load the Model\n",
        "autoencoder = Autoencoder(input_size, hidden_size, latent_size)\n",
        "autoencoder.load_state_dict(torch.load('autoencoder.pth'))\n",
        "\n",
        "# Test on a Sample Image\n",
        "sample_image, _ = test_dataset[0]\n",
        "plt.imshow(sample_image.numpy()[0], cmap='gray')\n",
        "plt.show()\n",
        "\n",
        "# Compress the Sample Image\n",
        "sample_image = sample_image.view(-1, 28*28)\n",
        "compressed_image = autoencoder.encoder(sample_image)\n",
        "compressed_image = compressed_image.detach().numpy()\n",
        "\n",
        "# Reconstruct the Sample Image\n",
        "reconstructed_image = autoencoder.decoder(torch.Tensor(compressed_image))\n",
        "reconstructed_image = reconstructed_image.detach().numpy()\n",
        "\n",
        "# Plot the Results\n",
        "plt.subplot(1, 2, 1)\n",
        "plt.imshow(np.reshape(compressed_image, (8, 8)), cmap='gray')\n",
        "plt.title('Compressed Image')\n",
        "plt.subplot(1, 2, 2)\n",
        "plt.imshow(np.reshape(reconstructed_image, (28, 28)), cmap='gray')\n",
        "plt.title('Reconstructed Image')\n",
        "plt.show()\n"
      ],
      "metadata": {
        "colab": {
          "base_uri": "https://localhost:8080/",
          "height": 721
        },
        "id": "qlZ-1kzSoegg",
        "outputId": "9d1e29f9-b106-4f1a-dd07-e14a711d4d12"
      },
      "execution_count": 13,
      "outputs": [
        {
          "output_type": "display_data",
          "data": {
            "text/plain": [
              "<Figure size 640x480 with 1 Axes>"
            ],
            "image/png": "[encoded data removed]"
          },
          "metadata": {}
        },
        {
          "output_type": "display_data",
          "data": {
            "text/plain": [
              "<Figure size 640x480 with 2 Axes>"
            ],
            "image/png": "[encoded data removed]"
          },
          "metadata": {}
        }
      ]
    },
    {
      "cell_type": "markdown",
      "source": [
        "#### 2. Feature Extraction"
      ],
      "metadata": {
        "id": "r-pWW5dKsUc9"
      }
    },
    {
      "cell_type": "code",
      "source": [
        "# Extract Features\n",
        "features_train = []\n",
        "labels_train = []\n",
        "features_test = []\n",
        "labels_test = []\n",
        "for images, labels in train_loader:\n",
        "    # Flatten the image\n",
        "    images = images.view(-1, 28*28)\n",
        "    # Pass through encoder to extract features\n",
        "    features = autoencoder.encoder(images).detach().numpy()\n",
        "    # Append features and labels to lists\n",
        "    features_train.append(features)\n",
        "    labels_train.append(labels.numpy())\n",
        "features_train = np.concatenate(features_train, axis=0)\n",
        "labels_train = np.concatenate(labels_train, axis=0)\n",
        "\n",
        "for images, labels in test_loader:\n",
        "    # Flatten the image\n",
        "    images = images.view(-1, 28*28)\n",
        "    # Pass through encoder to extract features\n",
        "    features = autoencoder.encoder(images).detach().numpy()\n",
        "    # Append features and labels to lists\n",
        "    features_test.append(features)\n",
        "    labels_test.append(labels.numpy())\n",
        "features_test = np.concatenate(features_test, axis=0)\n",
        "labels_test = np.concatenate(labels_test, axis=0)\n",
        "\n",
        "# Save Features and Labels\n",
        "np.save('features_train.npy', features_train)\n",
        "np.save('labels_train.npy', labels_train)\n",
        "np.save('features_test.npy', features_test)\n",
        "np.save('labels_test.npy', labels_test)"
      ],
      "metadata": {
        "id": "ghJ0sBjUqETN"
      },
      "execution_count": 15,
      "outputs": []
    },
    {
      "cell_type": "code",
      "source": [
        "#visualizing few features\n",
        "# Load Features\n",
        "features = np.load('features_train.npy')\n",
        "\n",
        "# Plot Features\n",
        "fig, axs = plt.subplots(2, 5, figsize=(10, 4))\n",
        "axs = axs.flatten()\n",
        "for i in range(10):\n",
        "    axs[i].imshow(features[i].reshape(8, 8), cmap='gray')\n",
        "    axs[i].axis('off')\n",
        "plt.tight_layout()\n",
        "plt.show()"
      ],
      "metadata": {
        "colab": {
          "base_uri": "https://localhost:8080/",
          "height": 407
        },
        "id": "EnD5Om1os1dq",
        "outputId": "0fe3df2b-a252-418c-8315-26575d965e4b"
      },
      "execution_count": 17,
      "outputs": [
        {
          "output_type": "display_data",
          "data": {
            "text/plain": [
              "<Figure size 1000x400 with 10 Axes>"
            ],
            "image/png": "[encoded data removed]"
          },
          "metadata": {}
        }
      ]
    },
    {
      "cell_type": "code",
      "source": [],
      "metadata": {
        "id": "Izfu7sLrs29G"
      },
      "execution_count": null,
      "outputs": []
    }
  ]
}