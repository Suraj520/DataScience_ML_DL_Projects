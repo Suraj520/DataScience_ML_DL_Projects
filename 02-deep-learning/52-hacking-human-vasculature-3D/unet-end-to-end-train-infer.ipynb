{
 "cells": [
  {
   "cell_type": "code",
   "execution_count": 1,
   "id": "7b2ba154",
   "metadata": {
    "_kg_hide-input": true,
    "_kg_hide-output": true,
    "execution": {
     "iopub.execute_input": "2023-11-23T10:45:52.261870Z",
     "iopub.status.busy": "2023-11-23T10:45:52.261174Z",
     "iopub.status.idle": "2023-11-23T10:45:52.265563Z",
     "shell.execute_reply": "2023-11-23T10:45:52.264885Z"
    },
    "papermill": {
     "duration": 0.014828,
     "end_time": "2023-11-23T10:45:52.267499",
     "exception": false,
     "start_time": "2023-11-23T10:45:52.252671",
     "status": "completed"
    },
    "tags": []
   },
   "outputs": [],
   "source": [
    "#!pip module -d path\n"
   ]
  },
  {
   "cell_type": "markdown",
   "id": "12719e71",
   "metadata": {
    "papermill": {
     "duration": 0.006469,
     "end_time": "2023-11-23T10:45:52.280776",
     "exception": false,
     "start_time": "2023-11-23T10:45:52.274307",
     "status": "completed"
    },
    "tags": []
   },
   "source": [
    "<div style=\"background-color:#FFF199; color:#19180F; font-size:15px; font-family:Verdana; padding:10px; border: 2px solid #19180F; border-radius:10px\"> \n",
    "📌 Importing libraries\n",
    "    </div>"
   ]
  },
  {
   "cell_type": "code",
   "execution_count": 2,
   "id": "ad8afced",
   "metadata": {
    "_kg_hide-input": true,
    "_kg_hide-output": true,
    "execution": {
     "iopub.execute_input": "2023-11-23T10:45:52.295214Z",
     "iopub.status.busy": "2023-11-23T10:45:52.294971Z",
     "iopub.status.idle": "2023-11-23T10:45:59.747233Z",
     "shell.execute_reply": "2023-11-23T10:45:59.746230Z"
    },
    "papermill": {
     "duration": 7.462029,
     "end_time": "2023-11-23T10:45:59.749478",
     "exception": false,
     "start_time": "2023-11-23T10:45:52.287449",
     "status": "completed"
    },
    "tags": []
   },
   "outputs": [
    {
     "name": "stdout",
     "output_type": "stream",
     "text": [
      "/opt/conda/lib/python3.10/site-packages/setuptools/dist.py:744: SetuptoolsDeprecationWarning: Invalid dash-separated options\r\n",
      "!!\r\n",
      "\r\n",
      "        ********************************************************************************\r\n",
      "        Usage of dash-separated 'description-file' will not be supported in future\r\n",
      "        versions. Please use the underscore name 'description_file' instead.\r\n",
      "\r\n",
      "        This deprecation is overdue, please update your project and remove deprecated\r\n",
      "        calls to avoid build errors in the future.\r\n",
      "\r\n",
      "        See https://setuptools.pypa.io/en/latest/userguide/declarative_config.html for details.\r\n",
      "        ********************************************************************************\r\n",
      "\r\n",
      "!!\r\n",
      "  opt = self.warn_dash_deprecation(opt, section)\r\n",
      "/opt/conda/lib/python3.10/site-packages/setuptools/_distutils/cmd.py:66: SetuptoolsDeprecationWarning: setup.py install is deprecated.\r\n",
      "!!\r\n",
      "\r\n",
      "        ********************************************************************************\r\n",
      "        Please avoid running ``setup.py`` directly.\r\n",
      "        Instead, use pypa/build, pypa/installer or other\r\n",
      "        standards-based tools.\r\n",
      "\r\n",
      "        See https://blog.ganssle.io/articles/2021/10/setup-py-deprecated.html for details.\r\n",
      "        ********************************************************************************\r\n",
      "\r\n",
      "!!\r\n",
      "  self.initialize_options()\r\n",
      "/opt/conda/lib/python3.10/site-packages/setuptools/_distutils/cmd.py:66: EasyInstallDeprecationWarning: easy_install command is deprecated.\r\n",
      "!!\r\n",
      "\r\n",
      "        ********************************************************************************\r\n",
      "        Please avoid running ``setup.py`` and ``easy_install``.\r\n",
      "        Instead, use pypa/build, pypa/installer or other\r\n",
      "        standards-based tools.\r\n",
      "\r\n",
      "        See https://github.com/pypa/setuptools/issues/917 for details.\r\n",
      "        ********************************************************************************\r\n",
      "\r\n",
      "!!\r\n",
      "  self.initialize_options()\r\n",
      "error: Cannot update time stamp of directory 'pretrainedmodels.egg-info'\r\n"
     ]
    },
    {
     "name": "stderr",
     "output_type": "stream",
     "text": [
      "/kaggle/input/segmentation-models-pytorch-whl-file/whl_files/pretrainedmodels-0.7.4/pretrainedmodels-0.7.4/pretrainedmodels/models/dpn.py:255: SyntaxWarning: \"is\" with a literal. Did you mean \"==\"?\n",
      "  if block_type is 'proj':\n",
      "/kaggle/input/segmentation-models-pytorch-whl-file/whl_files/pretrainedmodels-0.7.4/pretrainedmodels-0.7.4/pretrainedmodels/models/dpn.py:258: SyntaxWarning: \"is\" with a literal. Did you mean \"==\"?\n",
      "  elif block_type is 'down':\n",
      "/kaggle/input/segmentation-models-pytorch-whl-file/whl_files/pretrainedmodels-0.7.4/pretrainedmodels-0.7.4/pretrainedmodels/models/dpn.py:262: SyntaxWarning: \"is\" with a literal. Did you mean \"==\"?\n",
      "  assert block_type is 'normal'\n"
     ]
    }
   ],
   "source": [
    "import os\n",
    "os.chdir('/kaggle/input/segmentation-models-pytorch-whl-file/whl_files/pretrainedmodels-0.7.4/pretrainedmodels-0.7.4')\n",
    "!python setup.py install\n",
    "import pretrainedmodels"
   ]
  },
  {
   "cell_type": "code",
   "execution_count": 3,
   "id": "4d0c9a29",
   "metadata": {
    "_kg_hide-input": true,
    "_kg_hide-output": true,
    "execution": {
     "iopub.execute_input": "2023-11-23T10:45:59.765536Z",
     "iopub.status.busy": "2023-11-23T10:45:59.765179Z",
     "iopub.status.idle": "2023-11-23T10:46:02.443748Z",
     "shell.execute_reply": "2023-11-23T10:46:02.442606Z"
    },
    "papermill": {
     "duration": 2.689254,
     "end_time": "2023-11-23T10:46:02.446311",
     "exception": false,
     "start_time": "2023-11-23T10:45:59.757057",
     "status": "completed"
    },
    "tags": []
   },
   "outputs": [
    {
     "name": "stdout",
     "output_type": "stream",
     "text": [
      "/opt/conda/lib/python3.10/site-packages/setuptools/_distutils/cmd.py:66: SetuptoolsDeprecationWarning: setup.py install is deprecated.\r\n",
      "!!\r\n",
      "\r\n",
      "        ********************************************************************************\r\n",
      "        Please avoid running ``setup.py`` directly.\r\n",
      "        Instead, use pypa/build, pypa/installer or other\r\n",
      "        standards-based tools.\r\n",
      "\r\n",
      "        See https://blog.ganssle.io/articles/2021/10/setup-py-deprecated.html for details.\r\n",
      "        ********************************************************************************\r\n",
      "\r\n",
      "!!\r\n",
      "  self.initialize_options()\r\n",
      "/opt/conda/lib/python3.10/site-packages/setuptools/_distutils/cmd.py:66: EasyInstallDeprecationWarning: easy_install command is deprecated.\r\n",
      "!!\r\n",
      "\r\n",
      "        ********************************************************************************\r\n",
      "        Please avoid running ``setup.py`` and ``easy_install``.\r\n",
      "        Instead, use pypa/build, pypa/installer or other\r\n",
      "        standards-based tools.\r\n",
      "\r\n",
      "        See https://github.com/pypa/setuptools/issues/917 for details.\r\n",
      "        ********************************************************************************\r\n",
      "\r\n",
      "!!\r\n",
      "  self.initialize_options()\r\n",
      "error: Cannot update time stamp of directory 'efficientnet_pytorch.egg-info'\r\n"
     ]
    }
   ],
   "source": [
    "os.chdir('/kaggle/input/segmentation-models-pytorch-whl-file/whl_files/efficientnet_pytorch-0.7.1/efficientnet_pytorch-0.7.1')\n",
    "!python setup.py install\n",
    "import efficientnet_pytorch"
   ]
  },
  {
   "cell_type": "code",
   "execution_count": 4,
   "id": "8a366889",
   "metadata": {
    "_kg_hide-input": true,
    "_kg_hide-output": true,
    "execution": {
     "iopub.execute_input": "2023-11-23T10:46:02.463020Z",
     "iopub.status.busy": "2023-11-23T10:46:02.462676Z",
     "iopub.status.idle": "2023-11-23T10:46:04.922363Z",
     "shell.execute_reply": "2023-11-23T10:46:04.921409Z"
    },
    "papermill": {
     "duration": 2.470539,
     "end_time": "2023-11-23T10:46:04.924586",
     "exception": false,
     "start_time": "2023-11-23T10:46:02.454047",
     "status": "completed"
    },
    "tags": []
   },
   "outputs": [
    {
     "name": "stdout",
     "output_type": "stream",
     "text": [
      "Looking in links: /kaggle/input/segmentation-models-pytorch-whl-file/whl_files/\r\n",
      "Processing /kaggle/input/segmentation-models-pytorch-whl-file/whl_files/segmentation_models_pytorch-0.3.3-py3-none-any.whl\r\n",
      "Installing collected packages: segmentation-models-pytorch\r\n",
      "Successfully installed segmentation-models-pytorch-0.3.3\r\n"
     ]
    }
   ],
   "source": [
    "!pip install --no-index --find-links /kaggle/input/segmentation-models-pytorch-whl-file/whl_files/ segmentation-models-pytorch --no-deps\n"
   ]
  },
  {
   "cell_type": "code",
   "execution_count": 5,
   "id": "c82676a3",
   "metadata": {
    "execution": {
     "iopub.execute_input": "2023-11-23T10:46:04.942331Z",
     "iopub.status.busy": "2023-11-23T10:46:04.942022Z",
     "iopub.status.idle": "2023-11-23T10:46:07.977378Z",
     "shell.execute_reply": "2023-11-23T10:46:07.976640Z"
    },
    "papermill": {
     "duration": 3.047004,
     "end_time": "2023-11-23T10:46:07.979680",
     "exception": false,
     "start_time": "2023-11-23T10:46:04.932676",
     "status": "completed"
    },
    "tags": []
   },
   "outputs": [
    {
     "name": "stderr",
     "output_type": "stream",
     "text": [
      "/opt/conda/lib/python3.10/site-packages/scipy/__init__.py:146: UserWarning: A NumPy version >=1.16.5 and <1.23.0 is required for this version of SciPy (detected version 1.24.3\n",
      "  warnings.warn(f\"A NumPy version >={np_minversion} and <{np_maxversion}\"\n"
     ]
    }
   ],
   "source": [
    "import os\n",
    "import shutil\n",
    "import numpy as np\n",
    "import pandas as pd\n",
    "from PIL import Image\n",
    "from sklearn.model_selection import train_test_split\n",
    "import torch\n",
    "import torch.nn as nn\n",
    "import torch.optim as optim\n",
    "from torch.utils.data import Dataset, DataLoader\n",
    "from torchvision import transforms\n",
    "import segmentation_models_pytorch as smp\n",
    "from tqdm import tqdm\n",
    "import time\n",
    "import glob"
   ]
  },
  {
   "cell_type": "markdown",
   "id": "587aec96",
   "metadata": {
    "papermill": {
     "duration": 0.007748,
     "end_time": "2023-11-23T10:46:07.995471",
     "exception": false,
     "start_time": "2023-11-23T10:46:07.987723",
     "status": "completed"
    },
    "tags": []
   },
   "source": [
    "<div style=\"background-color:#FFF199; color:#19180F; font-size:15px; font-family:Verdana; padding:10px; border: 2px solid #19180F; border-radius:10px\"> \n",
    "📌 Setting seed for reproducibility\n",
    "    </div>"
   ]
  },
  {
   "cell_type": "code",
   "execution_count": 6,
   "id": "d7cb3988",
   "metadata": {
    "execution": {
     "iopub.execute_input": "2023-11-23T10:46:08.011929Z",
     "iopub.status.busy": "2023-11-23T10:46:08.011587Z",
     "iopub.status.idle": "2023-11-23T10:46:08.019679Z",
     "shell.execute_reply": "2023-11-23T10:46:08.019022Z"
    },
    "papermill": {
     "duration": 0.018517,
     "end_time": "2023-11-23T10:46:08.021571",
     "exception": false,
     "start_time": "2023-11-23T10:46:08.003054",
     "status": "completed"
    },
    "tags": []
   },
   "outputs": [],
   "source": [
    "seed = 42\n",
    "torch.manual_seed(seed)\n",
    "torch.backends.cudnn.deterministic = True\n",
    "torch.backends.cudnn.benchmark = False\n",
    "np.random.seed(seed)\n"
   ]
  },
  {
   "cell_type": "markdown",
   "id": "b60cab66",
   "metadata": {
    "papermill": {
     "duration": 0.007696,
     "end_time": "2023-11-23T10:46:08.037049",
     "exception": false,
     "start_time": "2023-11-23T10:46:08.029353",
     "status": "completed"
    },
    "tags": []
   },
   "source": [
    "<div style=\"background-color:#FFF199; color:#19180F; font-size:15px; font-family:Verdana; padding:10px; border: 2px solid #19180F; border-radius:10px\"> \n",
    "📌 Setting device\n",
    "    </div>"
   ]
  },
  {
   "cell_type": "code",
   "execution_count": 7,
   "id": "98bc4617",
   "metadata": {
    "execution": {
     "iopub.execute_input": "2023-11-23T10:46:08.053453Z",
     "iopub.status.busy": "2023-11-23T10:46:08.053145Z",
     "iopub.status.idle": "2023-11-23T10:46:08.116679Z",
     "shell.execute_reply": "2023-11-23T10:46:08.115871Z"
    },
    "papermill": {
     "duration": 0.073897,
     "end_time": "2023-11-23T10:46:08.118476",
     "exception": false,
     "start_time": "2023-11-23T10:46:08.044579",
     "status": "completed"
    },
    "tags": []
   },
   "outputs": [],
   "source": [
    "device = torch.device(\"cuda\" if torch.cuda.is_available() else \"cpu\")\n"
   ]
  },
  {
   "cell_type": "markdown",
   "id": "36bd905c",
   "metadata": {
    "papermill": {
     "duration": 0.00775,
     "end_time": "2023-11-23T10:46:08.133935",
     "exception": false,
     "start_time": "2023-11-23T10:46:08.126185",
     "status": "completed"
    },
    "tags": []
   },
   "source": [
    "<div style=\"background-color:#FFF199; color:#19180F; font-size:15px; font-family:Verdana; padding:10px; border: 2px solid #19180F; border-radius:10px\"> \n",
    "📌 Defining vessel dataset class\n",
    "    </div>"
   ]
  },
  {
   "cell_type": "code",
   "execution_count": 8,
   "id": "38bf362b",
   "metadata": {
    "execution": {
     "iopub.execute_input": "2023-11-23T10:46:08.150425Z",
     "iopub.status.busy": "2023-11-23T10:46:08.150145Z",
     "iopub.status.idle": "2023-11-23T10:46:08.159200Z",
     "shell.execute_reply": "2023-11-23T10:46:08.158371Z"
    },
    "papermill": {
     "duration": 0.019472,
     "end_time": "2023-11-23T10:46:08.161052",
     "exception": false,
     "start_time": "2023-11-23T10:46:08.141580",
     "status": "completed"
    },
    "tags": []
   },
   "outputs": [],
   "source": [
    "class VesselDataset(Dataset):\n",
    "    def __init__(self, data_folder, mode='train',transform=None):\n",
    "        self.data_folder = data_folder\n",
    "        self.transform = transform\n",
    "        self.mode = mode\n",
    "        self.images_folder = os.path.join(data_folder, 'images')\n",
    "        if self.mode == \"train\":\n",
    "            self.labels_folder = os.path.join(data_folder, 'labels')\n",
    "        self.image_files = os.listdir(self.images_folder)\n",
    "\n",
    "    def __len__(self):\n",
    "        return len(self.image_files)\n",
    "\n",
    "    def __getitem__(self, idx):\n",
    "        img_name = os.path.join(self.images_folder, self.image_files[idx])\n",
    "        if self.mode == \"train\":\n",
    "            label_name = os.path.join(self.labels_folder, self.image_files[idx])\n",
    "        \n",
    "        image = Image.open(img_name).convert('L')  # Convert to grayscale\n",
    "        if self.mode == \"train\":\n",
    "            label = Image.open(label_name).convert('L')\n",
    "\n",
    "        if self.transform:\n",
    "            image = self.transform(image)\n",
    "            if self.mode == \"train\":\n",
    "                label = self.transform(label)\n",
    "        if self.mode == \"train\":\n",
    "            return image, label\n",
    "        else:\n",
    "            return image\n"
   ]
  },
  {
   "cell_type": "markdown",
   "id": "ae66683d",
   "metadata": {
    "papermill": {
     "duration": 0.007882,
     "end_time": "2023-11-23T10:46:08.176544",
     "exception": false,
     "start_time": "2023-11-23T10:46:08.168662",
     "status": "completed"
    },
    "tags": []
   },
   "source": [
    "<div style=\"background-color:#FFF199; color:#19180F; font-size:15px; font-family:Verdana; padding:10px; border: 2px solid #19180F; border-radius:10px\"> \n",
    "📌 Defining transforms and train-val datasets\n",
    "    </div>"
   ]
  },
  {
   "cell_type": "code",
   "execution_count": 9,
   "id": "8d37bad0",
   "metadata": {
    "execution": {
     "iopub.execute_input": "2023-11-23T10:46:08.193618Z",
     "iopub.status.busy": "2023-11-23T10:46:08.192877Z",
     "iopub.status.idle": "2023-11-23T10:46:08.792627Z",
     "shell.execute_reply": "2023-11-23T10:46:08.791780Z"
    },
    "papermill": {
     "duration": 0.610856,
     "end_time": "2023-11-23T10:46:08.794978",
     "exception": false,
     "start_time": "2023-11-23T10:46:08.184122",
     "status": "completed"
    },
    "tags": []
   },
   "outputs": [],
   "source": [
    "transform = transforms.Compose([\n",
    "    transforms.Resize((256, 256)),  \n",
    "    transforms.ToTensor(),\n",
    "])\n",
    "\n",
    "train_dataset = VesselDataset('/kaggle/input/blood-vessel-segmentation/train/kidney_1_dense', transform=transform)\n",
    "train_dataset += VesselDataset('/kaggle/input/blood-vessel-segmentation/train/kidney_1_voi', transform=transform)\n",
    "train_dataset += VesselDataset('/kaggle/input/blood-vessel-segmentation/train/kidney_3_sparse', transform=transform)\n",
    "val_dataset = VesselDataset('/kaggle/input/blood-vessel-segmentation/train/kidney_2', transform=transform)\n"
   ]
  },
  {
   "cell_type": "markdown",
   "id": "58ce24e1",
   "metadata": {
    "papermill": {
     "duration": 0.00745,
     "end_time": "2023-11-23T10:46:08.810553",
     "exception": false,
     "start_time": "2023-11-23T10:46:08.803103",
     "status": "completed"
    },
    "tags": []
   },
   "source": [
    "<div style=\"background-color:#FFF199; color:#19180F; font-size:15px; font-family:Verdana; padding:10px; border: 2px solid #19180F; border-radius:10px\"> \n",
    "📌 Moving cached resnet encoder to root path\n",
    "    </div>"
   ]
  },
  {
   "cell_type": "code",
   "execution_count": 10,
   "id": "cc6a12ad",
   "metadata": {
    "execution": {
     "iopub.execute_input": "2023-11-23T10:46:08.827525Z",
     "iopub.status.busy": "2023-11-23T10:46:08.826940Z",
     "iopub.status.idle": "2023-11-23T10:46:09.774947Z",
     "shell.execute_reply": "2023-11-23T10:46:09.774036Z"
    },
    "papermill": {
     "duration": 0.958833,
     "end_time": "2023-11-23T10:46:09.777199",
     "exception": false,
     "start_time": "2023-11-23T10:46:08.818366",
     "status": "completed"
    },
    "tags": []
   },
   "outputs": [
    {
     "data": {
      "text/plain": [
       "'/root/.cache/torch/hub/checkpoints/resnet34-333f7ec4.pth'"
      ]
     },
     "execution_count": 10,
     "metadata": {},
     "output_type": "execute_result"
    }
   ],
   "source": [
    "cache_path = '/root/.cache/torch/hub/checkpoints/'\n",
    "source_path = '/kaggle/input/unet-model/resnet34-333f7ec4.pth'\n",
    "if not os.path.exists(cache_path):\n",
    "    os.makedirs(cache_path)\n",
    "shutil.copy(source_path, cache_path)\n"
   ]
  },
  {
   "cell_type": "markdown",
   "id": "0550a688",
   "metadata": {
    "papermill": {
     "duration": 0.007826,
     "end_time": "2023-11-23T10:46:09.793090",
     "exception": false,
     "start_time": "2023-11-23T10:46:09.785264",
     "status": "completed"
    },
    "tags": []
   },
   "source": [
    "<div style=\"background-color:#FFF199; color:#19180F; font-size:15px; font-family:Verdana; padding:10px; border: 2px solid #19180F; border-radius:10px\"> \n",
    "📌 Defining Unet model and creating dataloaders for train and val split\n",
    "    </div>"
   ]
  },
  {
   "cell_type": "code",
   "execution_count": 11,
   "id": "8b093fa6",
   "metadata": {
    "execution": {
     "iopub.execute_input": "2023-11-23T10:46:09.810190Z",
     "iopub.status.busy": "2023-11-23T10:46:09.809900Z",
     "iopub.status.idle": "2023-11-23T10:46:14.054510Z",
     "shell.execute_reply": "2023-11-23T10:46:14.053570Z"
    },
    "papermill": {
     "duration": 4.255961,
     "end_time": "2023-11-23T10:46:14.056940",
     "exception": false,
     "start_time": "2023-11-23T10:46:09.800979",
     "status": "completed"
    },
    "tags": []
   },
   "outputs": [],
   "source": [
    "model = smp.Unet(\n",
    "    encoder_name=\"resnet34\",  \n",
    "    encoder_weights=\"imagenet\",\n",
    "    in_channels=1,\n",
    "    classes=1,\n",
    ")\n",
    "checkpoint_path = '/kaggle/input/unet-model/unet_checkpoint.pth'\n",
    "\n",
    "model.load_state_dict(torch.load(checkpoint_path))\n",
    "\n",
    "criterion = nn.BCEWithLogitsLoss()\n",
    "optimizer = optim.Adam(model.parameters(), lr=0.001)\n",
    "\n",
    "train_loader = DataLoader(train_dataset, batch_size=64, shuffle=True)\n",
    "val_loader = DataLoader(val_dataset, batch_size=64, shuffle=False)\n"
   ]
  },
  {
   "cell_type": "markdown",
   "id": "3d9cf8aa",
   "metadata": {
    "papermill": {
     "duration": 0.008037,
     "end_time": "2023-11-23T10:46:14.073144",
     "exception": false,
     "start_time": "2023-11-23T10:46:14.065107",
     "status": "completed"
    },
    "tags": []
   },
   "source": [
    "<div style=\"background-color:#FFF199; color:#19180F; font-size:15px; font-family:Verdana; padding:10px; border: 2px solid #19180F; border-radius:10px\"> \n",
    "📌 Moving the model to device and training for 5 epochs\n",
    "    </div>"
   ]
  },
  {
   "cell_type": "code",
   "execution_count": 12,
   "id": "54169d9c",
   "metadata": {
    "execution": {
     "iopub.execute_input": "2023-11-23T10:46:14.090555Z",
     "iopub.status.busy": "2023-11-23T10:46:14.089860Z",
     "iopub.status.idle": "2023-11-23T10:46:28.347745Z",
     "shell.execute_reply": "2023-11-23T10:46:28.346804Z"
    },
    "papermill": {
     "duration": 14.269552,
     "end_time": "2023-11-23T10:46:28.350646",
     "exception": false,
     "start_time": "2023-11-23T10:46:14.081094",
     "status": "completed"
    },
    "tags": []
   },
   "outputs": [
    {
     "name": "stderr",
     "output_type": "stream",
     "text": [
      "Epoch 1/1: 0it [00:10, ?it/s]\n"
     ]
    },
    {
     "name": "stdout",
     "output_type": "stream",
     "text": [
      "Step-0,Loss-0.5145243406295776\n"
     ]
    },
    {
     "name": "stderr",
     "output_type": "stream",
     "text": [
      "Validation - Epoch 1/1:   0%|          | 0/35 [00:03<?, ?it/s]"
     ]
    },
    {
     "name": "stdout",
     "output_type": "stream",
     "text": [
      "Epoch 1/1, Loss: 0.5145, Validation Loss: 0.0167\n"
     ]
    },
    {
     "name": "stderr",
     "output_type": "stream",
     "text": [
      "\n"
     ]
    }
   ],
   "source": [
    "model.to(device)\n",
    "\n",
    "num_epochs = 1\n",
    "for epoch in range(num_epochs):\n",
    "    model.train()\n",
    "    for step, (images, labels) in tqdm(enumerate(train_loader), desc=f\"Epoch {epoch + 1}/{num_epochs}\"):\n",
    "        images, labels = images.to(device), labels.to(device)\n",
    "\n",
    "        optimizer.zero_grad()\n",
    "        outputs = model(images)\n",
    "        loss = criterion(outputs, labels)\n",
    "        loss.backward()\n",
    "        if step%1000==0:\n",
    "            print(\"Step-{},Loss-{}\".format(step,loss.item()))\n",
    "            \n",
    "        optimizer.step()\n",
    "        break\n",
    "\n",
    "    # Validation loop\n",
    "    model.eval()\n",
    "    val_loss = 0.0\n",
    "    with torch.no_grad():\n",
    "        for images, labels in tqdm(val_loader, desc=f\"Validation - Epoch {epoch + 1}/{num_epochs}\"):\n",
    "            images, labels = images.to(device), labels.to(device)\n",
    "\n",
    "            outputs = model(images)\n",
    "            val_loss += criterion(outputs, labels)\n",
    "            break\n",
    "    val_loss /= len(val_loader)\n",
    "\n",
    "    print(f\"Epoch {epoch + 1}/{num_epochs}, Loss: {loss.item():.4f}, Validation Loss: {val_loss:.4f}\")\n",
    "\n",
    "#torch.save(model.state_dict(), checkpoint_path)"
   ]
  },
  {
   "cell_type": "markdown",
   "id": "20520b04",
   "metadata": {
    "papermill": {
     "duration": 0.008447,
     "end_time": "2023-11-23T10:46:28.367711",
     "exception": false,
     "start_time": "2023-11-23T10:46:28.359264",
     "status": "completed"
    },
    "tags": []
   },
   "source": [
    "<div style=\"background-color:#FFF199; color:#19180F; font-size:15px; font-family:Verdana; padding:10px; border: 2px solid #19180F; border-radius:10px\"> \n",
    "📌 RLE encode and decode helper functions\n",
    "    </div>"
   ]
  },
  {
   "cell_type": "code",
   "execution_count": 13,
   "id": "f15104bf",
   "metadata": {
    "execution": {
     "iopub.execute_input": "2023-11-23T10:46:28.386075Z",
     "iopub.status.busy": "2023-11-23T10:46:28.385746Z",
     "iopub.status.idle": "2023-11-23T10:46:28.394292Z",
     "shell.execute_reply": "2023-11-23T10:46:28.393515Z"
    },
    "papermill": {
     "duration": 0.019794,
     "end_time": "2023-11-23T10:46:28.396083",
     "exception": false,
     "start_time": "2023-11-23T10:46:28.376289",
     "status": "completed"
    },
    "tags": []
   },
   "outputs": [],
   "source": [
    "# ref.: https://www.kaggle.com/stainsby/fast-tested-rle\n",
    "def rle_encode(img):\n",
    "    '''\n",
    "    img: numpy array, 1 - mask, 0 - background\n",
    "    Returns run length as string formated\n",
    "    '''\n",
    "    pixels = img.flatten()\n",
    "    pixels = np.concatenate([[0], pixels, [0]])\n",
    "    runs = np.where(pixels[1:] != pixels[:-1])[0] + 1\n",
    "    runs[1::2] -= runs[::2]\n",
    "    return ' '.join(str(x) for x in runs)\n",
    " \n",
    "def rle_decode(mask_rle, shape):\n",
    "    '''\n",
    "    mask_rle: run-length as string formated (start length)\n",
    "    shape: (height,width) of array to return \n",
    "    Returns numpy array, 1 - mask, 0 - background\n",
    "\n",
    "    '''\n",
    "    s = mask_rle.split()\n",
    "    starts, lengths = [np.asarray(x, dtype=int) for x in (s[0:][::2], s[1:][::2])]\n",
    "    starts -= 1\n",
    "    ends = starts + lengths\n",
    "    img = np.zeros(shape[0]*shape[1], dtype=np.uint8)\n",
    "    for lo, hi in zip(starts, ends):\n",
    "        img[lo:hi] = 1\n",
    "    return img.reshape(shape)\n"
   ]
  },
  {
   "cell_type": "markdown",
   "id": "63bebc8b",
   "metadata": {
    "papermill": {
     "duration": 0.008194,
     "end_time": "2023-11-23T10:46:28.412599",
     "exception": false,
     "start_time": "2023-11-23T10:46:28.404405",
     "status": "completed"
    },
    "tags": []
   },
   "source": [
    "<div style=\"background-color:#FFF199; color:#19180F; font-size:15px; font-family:Verdana; padding:10px; border: 2px solid #19180F; border-radius:10px\"> \n",
    "📌 Generating submission by predicting on test set\n",
    "    </div>"
   ]
  },
  {
   "cell_type": "code",
   "execution_count": 14,
   "id": "b984d9f6",
   "metadata": {
    "execution": {
     "iopub.execute_input": "2023-11-23T10:46:28.430412Z",
     "iopub.status.busy": "2023-11-23T10:46:28.430145Z",
     "iopub.status.idle": "2023-11-23T10:46:28.750522Z",
     "shell.execute_reply": "2023-11-23T10:46:28.749394Z"
    },
    "papermill": {
     "duration": 0.331647,
     "end_time": "2023-11-23T10:46:28.752683",
     "exception": false,
     "start_time": "2023-11-23T10:46:28.421036",
     "status": "completed"
    },
    "tags": []
   },
   "outputs": [
    {
     "name": "stderr",
     "output_type": "stream",
     "text": [
      "Generating Submission: 2it [00:00,  7.04it/s]\n"
     ]
    }
   ],
   "source": [
    "submission_df = pd.read_csv('/kaggle/input/blood-vessel-segmentation/sample_submission.csv')\n",
    "test_data_folders = glob.glob('/kaggle/input/blood-vessel-segmentation/test/*')\n",
    "\n",
    "test_dataset = VesselDataset(test_data_folders[0], transform=transform,mode=\"test\")\n",
    "\n",
    "for folder in test_data_folders[1:]:\n",
    "    test_dataset += VesselDataset(folder, transform=transform,mode=\"test\")\n",
    "\n",
    "test_loader = DataLoader(test_dataset, batch_size=4, shuffle=False)\n",
    "\n",
    "model.eval()\n",
    "with torch.no_grad():\n",
    "    for i, (images) in tqdm(enumerate(test_loader), desc=\"Generating Submission\"):\n",
    "        images = images.to(device)\n",
    "        outputs = model(images)\n",
    "        predictions = torch.sigmoid(outputs)\n",
    "\n",
    "        for j in range(predictions.shape[0]):\n",
    "            rle_mask = rle_encode(predictions[j].cpu().numpy() > 0.5)\n",
    "            submission_df.at[i * 4 + j, 'rle'] = rle_mask\n",
    "\n",
    "submission_df.to_csv('/kaggle/working/submission.csv', index=False)\n"
   ]
  },
  {
   "cell_type": "code",
   "execution_count": 15,
   "id": "036dc5c8",
   "metadata": {
    "execution": {
     "iopub.execute_input": "2023-11-23T10:46:28.772926Z",
     "iopub.status.busy": "2023-11-23T10:46:28.772609Z",
     "iopub.status.idle": "2023-11-23T10:46:28.785031Z",
     "shell.execute_reply": "2023-11-23T10:46:28.784036Z"
    },
    "papermill": {
     "duration": 0.024915,
     "end_time": "2023-11-23T10:46:28.787190",
     "exception": false,
     "start_time": "2023-11-23T10:46:28.762275",
     "status": "completed"
    },
    "tags": []
   },
   "outputs": [
    {
     "data": {
      "text/html": [
       "<div>\n",
       "<style scoped>\n",
       "    .dataframe tbody tr th:only-of-type {\n",
       "        vertical-align: middle;\n",
       "    }\n",
       "\n",
       "    .dataframe tbody tr th {\n",
       "        vertical-align: top;\n",
       "    }\n",
       "\n",
       "    .dataframe thead th {\n",
       "        text-align: right;\n",
       "    }\n",
       "</style>\n",
       "<table border=\"1\" class=\"dataframe\">\n",
       "  <thead>\n",
       "    <tr style=\"text-align: right;\">\n",
       "      <th></th>\n",
       "      <th>id</th>\n",
       "      <th>rle</th>\n",
       "    </tr>\n",
       "  </thead>\n",
       "  <tbody>\n",
       "    <tr>\n",
       "      <th>0</th>\n",
       "      <td>kidney_5_0000</td>\n",
       "      <td>5 248 254 3 262 1 504 4 511 1 1277 2 1286 2 12...</td>\n",
       "    </tr>\n",
       "    <tr>\n",
       "      <th>1</th>\n",
       "      <td>kidney_5_0001</td>\n",
       "      <td>5 248 254 3 262 1 504 4 511 1 1277 2 1286 2 12...</td>\n",
       "    </tr>\n",
       "    <tr>\n",
       "      <th>2</th>\n",
       "      <td>kidney_6_0000</td>\n",
       "      <td>5 248 254 3 262 1 504 4 511 1 1277 2 1286 2 12...</td>\n",
       "    </tr>\n",
       "    <tr>\n",
       "      <th>3</th>\n",
       "      <td>kidney_6_0001</td>\n",
       "      <td>5 248 254 3 262 1 504 4 511 1 1277 2 1286 2 12...</td>\n",
       "    </tr>\n",
       "    <tr>\n",
       "      <th>4</th>\n",
       "      <td>NaN</td>\n",
       "      <td>5 248 254 3 262 1 504 4 511 1 1277 2 1286 2 12...</td>\n",
       "    </tr>\n",
       "    <tr>\n",
       "      <th>5</th>\n",
       "      <td>NaN</td>\n",
       "      <td>5 248 254 3 262 1 504 4 511 1 1277 2 1286 2 12...</td>\n",
       "    </tr>\n",
       "  </tbody>\n",
       "</table>\n",
       "</div>"
      ],
      "text/plain": [
       "              id                                                rle\n",
       "0  kidney_5_0000  5 248 254 3 262 1 504 4 511 1 1277 2 1286 2 12...\n",
       "1  kidney_5_0001  5 248 254 3 262 1 504 4 511 1 1277 2 1286 2 12...\n",
       "2  kidney_6_0000  5 248 254 3 262 1 504 4 511 1 1277 2 1286 2 12...\n",
       "3  kidney_6_0001  5 248 254 3 262 1 504 4 511 1 1277 2 1286 2 12...\n",
       "4            NaN  5 248 254 3 262 1 504 4 511 1 1277 2 1286 2 12...\n",
       "5            NaN  5 248 254 3 262 1 504 4 511 1 1277 2 1286 2 12..."
      ]
     },
     "execution_count": 15,
     "metadata": {},
     "output_type": "execute_result"
    }
   ],
   "source": [
    "submission_df"
   ]
  },
  {
   "cell_type": "code",
   "execution_count": null,
   "id": "18998150",
   "metadata": {
    "papermill": {
     "duration": 0.009325,
     "end_time": "2023-11-23T10:46:28.807451",
     "exception": false,
     "start_time": "2023-11-23T10:46:28.798126",
     "status": "completed"
    },
    "tags": []
   },
   "outputs": [],
   "source": []
  },
  {
   "cell_type": "code",
   "execution_count": null,
   "id": "bdf771d8",
   "metadata": {
    "papermill": {
     "duration": 0.009344,
     "end_time": "2023-11-23T10:46:28.826336",
     "exception": false,
     "start_time": "2023-11-23T10:46:28.816992",
     "status": "completed"
    },
    "tags": []
   },
   "outputs": [],
   "source": []
  }
 ],
 "metadata": {
  "kaggle": {
   "accelerator": "gpu",
   "dataSources": [
    {
     "databundleVersionId": 6962461,
     "sourceId": 61446,
     "sourceType": "competition"
    },
    {
     "datasetId": 4046111,
     "sourceId": 7033977,
     "sourceType": "datasetVersion"
    },
    {
     "datasetId": 4046138,
     "sourceId": 7033964,
     "sourceType": "datasetVersion"
    }
   ],
   "dockerImageVersionId": 30588,
   "isGpuEnabled": true,
   "isInternetEnabled": false,
   "language": "python",
   "sourceType": "notebook"
  },
  "kernelspec": {
   "display_name": "Python 3",
   "language": "python",
   "name": "python3"
  },
  "language_info": {
   "codemirror_mode": {
    "name": "ipython",
    "version": 3
   },
   "file_extension": ".py",
   "mimetype": "text/x-python",
   "name": "python",
   "nbconvert_exporter": "python",
   "pygments_lexer": "ipython3",
   "version": "3.10.12"
  },
  "papermill": {
   "default_parameters": {},
   "duration": 42.463536,
   "end_time": "2023-11-23T10:46:31.476571",
   "environment_variables": {},
   "exception": null,
   "input_path": "__notebook__.ipynb",
   "output_path": "__notebook__.ipynb",
   "parameters": {},
   "start_time": "2023-11-23T10:45:49.013035",
   "version": "2.4.0"
  }
 },
 "nbformat": 4,
 "nbformat_minor": 5
}
