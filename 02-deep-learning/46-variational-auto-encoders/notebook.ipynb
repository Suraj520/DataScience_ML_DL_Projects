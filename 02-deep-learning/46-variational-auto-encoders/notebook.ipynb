{
 "cells": [
  {
   "attachments": {},
   "cell_type": "markdown",
   "metadata": {},
   "source": [
    "#### About\n",
    "> VAE\n",
    "- Variational Autoencoder (VAE) is a type of artificial neural network used for unsupervised learning that can generate new data based on the input data. It is an extension of the basic autoencoder (AE) architecture that is used to learn a compressed representation of the input data.\n",
    "- The key difference between VAEs and AEs is that VAEs are probabilistic models that learn the probability distribution of the input data, while AEs learn the deterministic mapping between the input and the output. VAEs also have an encoder-decoder architecture, but they are trained to optimize a lower bound on the likelihood of the data given a prior distribution, typically a Gaussian distribution, in the latent space. The resulting compressed representation is not only learned to be useful for reconstruction but also to generate new data points in the latent space.\n",
    "\n"
   ]
  },
  {
   "cell_type": "code",
   "execution_count": null,
   "metadata": {},
   "outputs": [],
   "source": []
  }
 ],
 "metadata": {
  "language_info": {
   "name": "python"
  },
  "orig_nbformat": 4
 },
 "nbformat": 4,
 "nbformat_minor": 2
}
