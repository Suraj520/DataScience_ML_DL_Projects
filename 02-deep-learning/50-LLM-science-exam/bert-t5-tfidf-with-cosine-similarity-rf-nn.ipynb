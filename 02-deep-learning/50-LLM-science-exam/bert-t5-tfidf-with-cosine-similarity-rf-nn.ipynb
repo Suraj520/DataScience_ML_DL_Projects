{
 "cells": [
  {
   "cell_type": "markdown",
   "id": "4198f3f8",
   "metadata": {
    "papermill": {
     "duration": 0.043326,
     "end_time": "2023-08-09T17:31:22.226307",
     "exception": false,
     "start_time": "2023-08-09T17:31:22.182981",
     "status": "completed"
    },
    "tags": []
   },
   "source": [
    "<div style=\"background-color:#5D73F2; color:#19180F; font-size:40px; font-family:Arial; padding:10px; border: 5px solid #19180F; border-radius:10px\">[Beginner Friendly] Multiple approaches </div>\n",
    "<div style=\"background-color:#D5D9F2; color:#19180F; font-size:15px; font-family:Arial; padding:10px; border: 5px solid #19180F; border-radius:10px\">  \n",
    "   <div style=\"background-color:#F0E3D2; color:#19180F; font-size:15px; font-family:Verdana; padding:10px; border: 2px solid #19180F; border-radius:10px\"> \n",
    "📌     1. <b> TFIDF cosine similarity approach </b>:This approach combines the use of Term Frequency-Inverse Document Frequency (TFIDF) vectorization for text representation and cosine similarity to find similar questions in the training set.<br><br>\n",
    "📌      2. <b> TFIDF-NN approach </b>:This approach combines the use of Term Frequency-Inverse Document Frequency (TFIDF) vectorization for text representation and a Nearest Neighbors model to find similar questions in the training set. By encoding the labels as integers, it calculates the most frequent answers within the nearest neighbors to generate predictions for the test set. The simple ensemble strategy helps in generating the submission for the Kaggle-LLM Science Exam competition.<br><br>\n",
    "📌      3. <b> TFIDF-RF approach </b>:This approach combines the use of Term Frequency-Inverse Document Frequency (TFIDF) vectorization for text representation and a Random forest model to find similar questions in the training set.<br><br>\n",
    "📌      4. <b> Using BERT </b>:This approach trains a BERT for question answering on train.csv to find similar questions in the test set.<br><br>\n",
    "📌      5. <b> Using T5 </b>:This approach trains a T5 for question answering on train.csv to find similar questions in the test set.        </div>"
   ]
  },
  {
   "cell_type": "markdown",
   "id": "e6b713d1",
   "metadata": {
    "papermill": {
     "duration": 0.022235,
     "end_time": "2023-08-09T17:31:22.271486",
     "exception": false,
     "start_time": "2023-08-09T17:31:22.249251",
     "status": "completed"
    },
    "tags": []
   },
   "source": [
    "<div style=\"background-color:#D5D9F2; color:#19180F; font-size:15px; font-family:Arial; padding:10px; border: 5px solid #19180F; border-radius:10px\">  \n",
    "📌\n",
    "       1. <b> TFIDF-Cosine similarity approach </b>:</div>"
   ]
  },
  {
   "cell_type": "markdown",
   "id": "dbd90937",
   "metadata": {
    "papermill": {
     "duration": 0.033732,
     "end_time": "2023-08-09T17:31:22.328050",
     "exception": false,
     "start_time": "2023-08-09T17:31:22.294318",
     "status": "completed"
    },
    "tags": []
   },
   "source": [
    "\n",
    "<div style=\"background-color:#F0E3D2; color:#19180F; font-size:15px; font-family:Verdana; padding:10px; border: 2px solid #19180F; border-radius:10px\"> \n",
    "📌\n",
    "Importing modules    </div>"
   ]
  },
  {
   "cell_type": "code",
   "execution_count": 1,
   "id": "333852af",
   "metadata": {
    "execution": {
     "iopub.execute_input": "2023-08-09T17:31:22.412115Z",
     "iopub.status.busy": "2023-08-09T17:31:22.411085Z",
     "iopub.status.idle": "2023-08-09T17:31:23.404866Z",
     "shell.execute_reply": "2023-08-09T17:31:23.403912Z"
    },
    "papermill": {
     "duration": 1.036758,
     "end_time": "2023-08-09T17:31:23.407131",
     "exception": false,
     "start_time": "2023-08-09T17:31:22.370373",
     "status": "completed"
    },
    "tags": []
   },
   "outputs": [
    {
     "name": "stderr",
     "output_type": "stream",
     "text": [
      "/opt/conda/lib/python3.10/site-packages/scipy/__init__.py:146: UserWarning: A NumPy version >=1.16.5 and <1.23.0 is required for this version of SciPy (detected version 1.23.5\n",
      "  warnings.warn(f\"A NumPy version >={np_minversion} and <{np_maxversion}\"\n"
     ]
    }
   ],
   "source": [
    "import pandas as pd\n",
    "from sklearn.feature_extraction.text import TfidfVectorizer\n",
    "from sklearn.metrics.pairwise import cosine_similarity\n"
   ]
  },
  {
   "cell_type": "markdown",
   "id": "5a47c724",
   "metadata": {
    "papermill": {
     "duration": 0.022317,
     "end_time": "2023-08-09T17:31:23.452626",
     "exception": false,
     "start_time": "2023-08-09T17:31:23.430309",
     "status": "completed"
    },
    "tags": []
   },
   "source": [
    "\n",
    "<div style=\"background-color:#F0E3D2; color:#19180F; font-size:15px; font-family:Verdana; padding:10px; border: 2px solid #19180F; border-radius:10px\"> \n",
    "📌\n",
    "Loading the data    </div>"
   ]
  },
  {
   "cell_type": "code",
   "execution_count": 2,
   "id": "805220c4",
   "metadata": {
    "execution": {
     "iopub.execute_input": "2023-08-09T17:31:23.498474Z",
     "iopub.status.busy": "2023-08-09T17:31:23.498178Z",
     "iopub.status.idle": "2023-08-09T17:31:23.557435Z",
     "shell.execute_reply": "2023-08-09T17:31:23.556549Z"
    },
    "papermill": {
     "duration": 0.084722,
     "end_time": "2023-08-09T17:31:23.559542",
     "exception": false,
     "start_time": "2023-08-09T17:31:23.474820",
     "status": "completed"
    },
    "tags": []
   },
   "outputs": [],
   "source": [
    "train_df = pd.read_csv('/kaggle/input/kaggle-llm-science-exam/train.csv')\n",
    "test_df = pd.read_csv('/kaggle/input/kaggle-llm-science-exam/test.csv')\n"
   ]
  },
  {
   "cell_type": "markdown",
   "id": "20be4524",
   "metadata": {
    "papermill": {
     "duration": 0.032887,
     "end_time": "2023-08-09T17:31:23.614879",
     "exception": false,
     "start_time": "2023-08-09T17:31:23.581992",
     "status": "completed"
    },
    "tags": []
   },
   "source": [
    "\n",
    "<div style=\"background-color:#F0E3D2; color:#19180F; font-size:15px; font-family:Verdana; padding:10px; border: 2px solid #19180F; border-radius:10px\"> \n",
    "📌\n",
    "Preprocessing the data    </div>"
   ]
  },
  {
   "cell_type": "code",
   "execution_count": 3,
   "id": "3e0bcbdf",
   "metadata": {
    "execution": {
     "iopub.execute_input": "2023-08-09T17:31:23.678932Z",
     "iopub.status.busy": "2023-08-09T17:31:23.678580Z",
     "iopub.status.idle": "2023-08-09T17:31:23.719030Z",
     "shell.execute_reply": "2023-08-09T17:31:23.718086Z"
    },
    "papermill": {
     "duration": 0.072254,
     "end_time": "2023-08-09T17:31:23.722028",
     "exception": false,
     "start_time": "2023-08-09T17:31:23.649774",
     "status": "completed"
    },
    "tags": []
   },
   "outputs": [],
   "source": [
    "vectorizer = TfidfVectorizer(stop_words='english')\n",
    "train_vectors = vectorizer.fit_transform(train_df['prompt'])\n",
    "test_vectors = vectorizer.transform(test_df['prompt'])\n"
   ]
  },
  {
   "cell_type": "markdown",
   "id": "1cdf5d30",
   "metadata": {
    "papermill": {
     "duration": 0.033358,
     "end_time": "2023-08-09T17:31:23.792850",
     "exception": false,
     "start_time": "2023-08-09T17:31:23.759492",
     "status": "completed"
    },
    "tags": []
   },
   "source": [
    "\n",
    "<div style=\"background-color:#F0E3D2; color:#19180F; font-size:15px; font-family:Verdana; padding:10px; border: 2px solid #19180F; border-radius:10px\"> \n",
    "📌\n",
    "Calculating cosine similarity between test prompts and train prompts    </div>"
   ]
  },
  {
   "cell_type": "code",
   "execution_count": 4,
   "id": "ed579cd3",
   "metadata": {
    "execution": {
     "iopub.execute_input": "2023-08-09T17:31:23.856357Z",
     "iopub.status.busy": "2023-08-09T17:31:23.855907Z",
     "iopub.status.idle": "2023-08-09T17:31:23.864109Z",
     "shell.execute_reply": "2023-08-09T17:31:23.863240Z"
    },
    "papermill": {
     "duration": 0.042787,
     "end_time": "2023-08-09T17:31:23.866613",
     "exception": false,
     "start_time": "2023-08-09T17:31:23.823826",
     "status": "completed"
    },
    "tags": []
   },
   "outputs": [],
   "source": [
    "cosine_similarities = cosine_similarity(test_vectors, train_vectors)\n"
   ]
  },
  {
   "cell_type": "markdown",
   "id": "8b7fa5ea",
   "metadata": {
    "papermill": {
     "duration": 0.032618,
     "end_time": "2023-08-09T17:31:23.931904",
     "exception": false,
     "start_time": "2023-08-09T17:31:23.899286",
     "status": "completed"
    },
    "tags": []
   },
   "source": [
    "\n",
    "<div style=\"background-color:#F0E3D2; color:#19180F; font-size:15px; font-family:Verdana; padding:10px; border: 2px solid #19180F; border-radius:10px\"> \n",
    "📌\n",
    "Generate predictions </div>"
   ]
  },
  {
   "cell_type": "code",
   "execution_count": 5,
   "id": "bc2e52a8",
   "metadata": {
    "execution": {
     "iopub.execute_input": "2023-08-09T17:31:23.996511Z",
     "iopub.status.busy": "2023-08-09T17:31:23.996104Z",
     "iopub.status.idle": "2023-08-09T17:31:24.000473Z",
     "shell.execute_reply": "2023-08-09T17:31:23.999692Z"
    },
    "papermill": {
     "duration": 0.039844,
     "end_time": "2023-08-09T17:31:24.004257",
     "exception": false,
     "start_time": "2023-08-09T17:31:23.964413",
     "status": "completed"
    },
    "tags": []
   },
   "outputs": [],
   "source": [
    "num_predictions = 3\n",
    "prediction_ids = []\n",
    "prediction_labels = []\n"
   ]
  },
  {
   "cell_type": "code",
   "execution_count": 6,
   "id": "24153048",
   "metadata": {
    "execution": {
     "iopub.execute_input": "2023-08-09T17:31:24.069295Z",
     "iopub.status.busy": "2023-08-09T17:31:24.068946Z",
     "iopub.status.idle": "2023-08-09T17:31:24.091438Z",
     "shell.execute_reply": "2023-08-09T17:31:24.090637Z"
    },
    "papermill": {
     "duration": 0.058011,
     "end_time": "2023-08-09T17:31:24.094138",
     "exception": false,
     "start_time": "2023-08-09T17:31:24.036127",
     "status": "completed"
    },
    "tags": []
   },
   "outputs": [],
   "source": [
    "for i, cos_sim in enumerate(cosine_similarities):\n",
    "    top_indices = cos_sim.argsort()[-num_predictions:][::-1]\n",
    "    top_labels = [train_df.loc[idx, 'answer'] for idx in top_indices]\n",
    "    \n",
    "    prediction_ids.extend([i] * num_predictions)\n",
    "    prediction_labels.extend(top_labels)\n"
   ]
  },
  {
   "cell_type": "markdown",
   "id": "531a91a1",
   "metadata": {
    "papermill": {
     "duration": 0.030983,
     "end_time": "2023-08-09T17:31:24.156814",
     "exception": false,
     "start_time": "2023-08-09T17:31:24.125831",
     "status": "completed"
    },
    "tags": []
   },
   "source": [
    "\n",
    "<div style=\"background-color:#F0E3D2; color:#19180F; font-size:15px; font-family:Verdana; padding:10px; border: 2px solid #19180F; border-radius:10px\"> \n",
    "📌\n",
    "Create submission dataframe    </div>"
   ]
  },
  {
   "cell_type": "code",
   "execution_count": 7,
   "id": "b3a48faa",
   "metadata": {
    "execution": {
     "iopub.execute_input": "2023-08-09T17:31:24.219986Z",
     "iopub.status.busy": "2023-08-09T17:31:24.219610Z",
     "iopub.status.idle": "2023-08-09T17:31:24.226292Z",
     "shell.execute_reply": "2023-08-09T17:31:24.224811Z"
    },
    "papermill": {
     "duration": 0.042316,
     "end_time": "2023-08-09T17:31:24.230373",
     "exception": false,
     "start_time": "2023-08-09T17:31:24.188057",
     "status": "completed"
    },
    "tags": []
   },
   "outputs": [],
   "source": [
    "submission_df = pd.DataFrame({'id': prediction_ids, 'prediction': prediction_labels})\n"
   ]
  },
  {
   "cell_type": "markdown",
   "id": "1725393b",
   "metadata": {
    "papermill": {
     "duration": 0.031583,
     "end_time": "2023-08-09T17:31:24.294790",
     "exception": false,
     "start_time": "2023-08-09T17:31:24.263207",
     "status": "completed"
    },
    "tags": []
   },
   "source": [
    "\n",
    "<div style=\"background-color:#F0E3D2; color:#19180F; font-size:15px; font-family:Verdana; padding:10px; border: 2px solid #19180F; border-radius:10px\"> \n",
    "📌\n",
    "Format predictions as per requirement    </div>"
   ]
  },
  {
   "cell_type": "code",
   "execution_count": 8,
   "id": "283cb06e",
   "metadata": {
    "execution": {
     "iopub.execute_input": "2023-08-09T17:31:24.360507Z",
     "iopub.status.busy": "2023-08-09T17:31:24.360123Z",
     "iopub.status.idle": "2023-08-09T17:31:24.404578Z",
     "shell.execute_reply": "2023-08-09T17:31:24.403426Z"
    },
    "papermill": {
     "duration": 0.08119,
     "end_time": "2023-08-09T17:31:24.407926",
     "exception": false,
     "start_time": "2023-08-09T17:31:24.326736",
     "status": "completed"
    },
    "tags": []
   },
   "outputs": [],
   "source": [
    "submission_df['prediction'] = submission_df.groupby('id')['prediction'].transform(lambda x: ' '.join(x))\n",
    "submission_df = submission_df.drop_duplicates(subset='id')\n"
   ]
  },
  {
   "cell_type": "markdown",
   "id": "ba753d5a",
   "metadata": {
    "papermill": {
     "duration": 0.033766,
     "end_time": "2023-08-09T17:31:24.478660",
     "exception": false,
     "start_time": "2023-08-09T17:31:24.444894",
     "status": "completed"
    },
    "tags": []
   },
   "source": [
    "\n",
    "<div style=\"background-color:#F0E3D2; color:#19180F; font-size:15px; font-family:Verdana; padding:10px; border: 2px solid #19180F; border-radius:10px\"> \n",
    "📌\n",
    "Save submission to csv    </div>"
   ]
  },
  {
   "cell_type": "code",
   "execution_count": 9,
   "id": "ff2a4454",
   "metadata": {
    "execution": {
     "iopub.execute_input": "2023-08-09T17:31:24.546918Z",
     "iopub.status.busy": "2023-08-09T17:31:24.546551Z",
     "iopub.status.idle": "2023-08-09T17:31:24.554281Z",
     "shell.execute_reply": "2023-08-09T17:31:24.553455Z"
    },
    "papermill": {
     "duration": 0.04635,
     "end_time": "2023-08-09T17:31:24.558893",
     "exception": false,
     "start_time": "2023-08-09T17:31:24.512543",
     "status": "completed"
    },
    "tags": []
   },
   "outputs": [],
   "source": [
    "# Save submission to a CSV file\n",
    "submission_df.to_csv('submission.csv', index=False)"
   ]
  },
  {
   "cell_type": "markdown",
   "id": "ea121cc0",
   "metadata": {
    "papermill": {
     "duration": 0.033957,
     "end_time": "2023-08-09T17:31:24.627793",
     "exception": false,
     "start_time": "2023-08-09T17:31:24.593836",
     "status": "completed"
    },
    "tags": []
   },
   "source": [
    "<div style=\"background-color:#D5D9F2; color:#19180F; font-size:15px; font-family:Arial; padding:10px; border: 5px solid #19180F; border-radius:10px\">  \n",
    "📌\n",
    "       2. <b> TFIDF-NN approach </b>:</div>"
   ]
  },
  {
   "cell_type": "markdown",
   "id": "5eaf4b01",
   "metadata": {
    "papermill": {
     "duration": 0.032857,
     "end_time": "2023-08-09T17:31:24.693437",
     "exception": false,
     "start_time": "2023-08-09T17:31:24.660580",
     "status": "completed"
    },
    "tags": []
   },
   "source": [
    "\n",
    "<div style=\"background-color:#F0E3D2; color:#19180F; font-size:15px; font-family:Verdana; padding:10px; border: 2px solid #19180F; border-radius:10px\"> \n",
    "📌\n",
    "Importing modules    </div>"
   ]
  },
  {
   "cell_type": "code",
   "execution_count": 10,
   "id": "71131746",
   "metadata": {
    "execution": {
     "iopub.execute_input": "2023-08-09T17:31:24.762546Z",
     "iopub.status.busy": "2023-08-09T17:31:24.762206Z",
     "iopub.status.idle": "2023-08-09T17:31:24.978211Z",
     "shell.execute_reply": "2023-08-09T17:31:24.977249Z"
    },
    "papermill": {
     "duration": 0.255243,
     "end_time": "2023-08-09T17:31:24.981359",
     "exception": false,
     "start_time": "2023-08-09T17:31:24.726116",
     "status": "completed"
    },
    "tags": []
   },
   "outputs": [],
   "source": [
    "import pandas as pd\n",
    "import numpy as np\n",
    "from sklearn.feature_extraction.text import TfidfVectorizer\n",
    "from sklearn.neighbors import NearestNeighbors"
   ]
  },
  {
   "cell_type": "markdown",
   "id": "5f371116",
   "metadata": {
    "papermill": {
     "duration": 0.035309,
     "end_time": "2023-08-09T17:31:25.050402",
     "exception": false,
     "start_time": "2023-08-09T17:31:25.015093",
     "status": "completed"
    },
    "tags": []
   },
   "source": [
    "\n",
    "<div style=\"background-color:#F0E3D2; color:#19180F; font-size:15px; font-family:Verdana; padding:10px; border: 2px solid #19180F; border-radius:10px\"> \n",
    "📌\n",
    "Loading the train and test data    </div>"
   ]
  },
  {
   "cell_type": "code",
   "execution_count": 11,
   "id": "d8e7ab5c",
   "metadata": {
    "execution": {
     "iopub.execute_input": "2023-08-09T17:31:25.117428Z",
     "iopub.status.busy": "2023-08-09T17:31:25.117044Z",
     "iopub.status.idle": "2023-08-09T17:31:25.143208Z",
     "shell.execute_reply": "2023-08-09T17:31:25.142334Z"
    },
    "papermill": {
     "duration": 0.062935,
     "end_time": "2023-08-09T17:31:25.145695",
     "exception": false,
     "start_time": "2023-08-09T17:31:25.082760",
     "status": "completed"
    },
    "tags": []
   },
   "outputs": [],
   "source": [
    "train_df = pd.read_csv('/kaggle/input/kaggle-llm-science-exam/train.csv')\n",
    "test_df = pd.read_csv('/kaggle/input/kaggle-llm-science-exam/test.csv')\n"
   ]
  },
  {
   "cell_type": "markdown",
   "id": "84ef904b",
   "metadata": {
    "papermill": {
     "duration": 0.023949,
     "end_time": "2023-08-09T17:31:25.205971",
     "exception": false,
     "start_time": "2023-08-09T17:31:25.182022",
     "status": "completed"
    },
    "tags": []
   },
   "source": [
    "\n",
    "<div style=\"background-color:#F0E3D2; color:#19180F; font-size:15px; font-family:Verdana; padding:10px; border: 2px solid #19180F; border-radius:10px\"> \n",
    "📌\n",
    "Seperating the features and labels    </div>"
   ]
  },
  {
   "cell_type": "code",
   "execution_count": 12,
   "id": "eab1aff1",
   "metadata": {
    "execution": {
     "iopub.execute_input": "2023-08-09T17:31:25.256293Z",
     "iopub.status.busy": "2023-08-09T17:31:25.255976Z",
     "iopub.status.idle": "2023-08-09T17:31:25.262559Z",
     "shell.execute_reply": "2023-08-09T17:31:25.261465Z"
    },
    "papermill": {
     "duration": 0.033148,
     "end_time": "2023-08-09T17:31:25.264748",
     "exception": false,
     "start_time": "2023-08-09T17:31:25.231600",
     "status": "completed"
    },
    "tags": []
   },
   "outputs": [],
   "source": [
    "X_train = train_df['prompt']\n",
    "y_train_labels = train_df[['A', 'B', 'C', 'D', 'E']].values\n",
    "y_train = np.argmax(y_train_labels, axis=1)  # Encode labels as integers (0, 1, 2, 3, 4)\n",
    "X_test = test_df['prompt']"
   ]
  },
  {
   "cell_type": "markdown",
   "id": "fbc06b90",
   "metadata": {
    "papermill": {
     "duration": 0.023173,
     "end_time": "2023-08-09T17:31:25.312917",
     "exception": false,
     "start_time": "2023-08-09T17:31:25.289744",
     "status": "completed"
    },
    "tags": []
   },
   "source": [
    "\n",
    "<div style=\"background-color:#F0E3D2; color:#19180F; font-size:15px; font-family:Verdana; padding:10px; border: 2px solid #19180F; border-radius:10px\"> \n",
    "📌\n",
    "Fitting the model    </div>"
   ]
  },
  {
   "cell_type": "code",
   "execution_count": 13,
   "id": "0be83d8f",
   "metadata": {
    "execution": {
     "iopub.execute_input": "2023-08-09T17:31:25.360499Z",
     "iopub.status.busy": "2023-08-09T17:31:25.360222Z",
     "iopub.status.idle": "2023-08-09T17:31:25.386706Z",
     "shell.execute_reply": "2023-08-09T17:31:25.385643Z"
    },
    "papermill": {
     "duration": 0.05344,
     "end_time": "2023-08-09T17:31:25.389320",
     "exception": false,
     "start_time": "2023-08-09T17:31:25.335880",
     "status": "completed"
    },
    "tags": []
   },
   "outputs": [
    {
     "data": {
      "text/html": [
       "<style>#sk-container-id-1 {color: black;background-color: white;}#sk-container-id-1 pre{padding: 0;}#sk-container-id-1 div.sk-toggleable {background-color: white;}#sk-container-id-1 label.sk-toggleable__label {cursor: pointer;display: block;width: 100%;margin-bottom: 0;padding: 0.3em;box-sizing: border-box;text-align: center;}#sk-container-id-1 label.sk-toggleable__label-arrow:before {content: \"▸\";float: left;margin-right: 0.25em;color: #696969;}#sk-container-id-1 label.sk-toggleable__label-arrow:hover:before {color: black;}#sk-container-id-1 div.sk-estimator:hover label.sk-toggleable__label-arrow:before {color: black;}#sk-container-id-1 div.sk-toggleable__content {max-height: 0;max-width: 0;overflow: hidden;text-align: left;background-color: #f0f8ff;}#sk-container-id-1 div.sk-toggleable__content pre {margin: 0.2em;color: black;border-radius: 0.25em;background-color: #f0f8ff;}#sk-container-id-1 input.sk-toggleable__control:checked~div.sk-toggleable__content {max-height: 200px;max-width: 100%;overflow: auto;}#sk-container-id-1 input.sk-toggleable__control:checked~label.sk-toggleable__label-arrow:before {content: \"▾\";}#sk-container-id-1 div.sk-estimator input.sk-toggleable__control:checked~label.sk-toggleable__label {background-color: #d4ebff;}#sk-container-id-1 div.sk-label input.sk-toggleable__control:checked~label.sk-toggleable__label {background-color: #d4ebff;}#sk-container-id-1 input.sk-hidden--visually {border: 0;clip: rect(1px 1px 1px 1px);clip: rect(1px, 1px, 1px, 1px);height: 1px;margin: -1px;overflow: hidden;padding: 0;position: absolute;width: 1px;}#sk-container-id-1 div.sk-estimator {font-family: monospace;background-color: #f0f8ff;border: 1px dotted black;border-radius: 0.25em;box-sizing: border-box;margin-bottom: 0.5em;}#sk-container-id-1 div.sk-estimator:hover {background-color: #d4ebff;}#sk-container-id-1 div.sk-parallel-item::after {content: \"\";width: 100%;border-bottom: 1px solid gray;flex-grow: 1;}#sk-container-id-1 div.sk-label:hover label.sk-toggleable__label {background-color: #d4ebff;}#sk-container-id-1 div.sk-serial::before {content: \"\";position: absolute;border-left: 1px solid gray;box-sizing: border-box;top: 0;bottom: 0;left: 50%;z-index: 0;}#sk-container-id-1 div.sk-serial {display: flex;flex-direction: column;align-items: center;background-color: white;padding-right: 0.2em;padding-left: 0.2em;position: relative;}#sk-container-id-1 div.sk-item {position: relative;z-index: 1;}#sk-container-id-1 div.sk-parallel {display: flex;align-items: stretch;justify-content: center;background-color: white;position: relative;}#sk-container-id-1 div.sk-item::before, #sk-container-id-1 div.sk-parallel-item::before {content: \"\";position: absolute;border-left: 1px solid gray;box-sizing: border-box;top: 0;bottom: 0;left: 50%;z-index: -1;}#sk-container-id-1 div.sk-parallel-item {display: flex;flex-direction: column;z-index: 1;position: relative;background-color: white;}#sk-container-id-1 div.sk-parallel-item:first-child::after {align-self: flex-end;width: 50%;}#sk-container-id-1 div.sk-parallel-item:last-child::after {align-self: flex-start;width: 50%;}#sk-container-id-1 div.sk-parallel-item:only-child::after {width: 0;}#sk-container-id-1 div.sk-dashed-wrapped {border: 1px dashed gray;margin: 0 0.4em 0.5em 0.4em;box-sizing: border-box;padding-bottom: 0.4em;background-color: white;}#sk-container-id-1 div.sk-label label {font-family: monospace;font-weight: bold;display: inline-block;line-height: 1.2em;}#sk-container-id-1 div.sk-label-container {text-align: center;}#sk-container-id-1 div.sk-container {/* jupyter's `normalize.less` sets `[hidden] { display: none; }` but bootstrap.min.css set `[hidden] { display: none !important; }` so we also need the `!important` here to be able to override the default hidden behavior on the sphinx rendered scikit-learn.org. See: https://github.com/scikit-learn/scikit-learn/issues/21755 */display: inline-block !important;position: relative;}#sk-container-id-1 div.sk-text-repr-fallback {display: none;}</style><div id=\"sk-container-id-1\" class=\"sk-top-container\"><div class=\"sk-text-repr-fallback\"><pre>NearestNeighbors(n_neighbors=10)</pre><b>In a Jupyter environment, please rerun this cell to show the HTML representation or trust the notebook. <br />On GitHub, the HTML representation is unable to render, please try loading this page with nbviewer.org.</b></div><div class=\"sk-container\" hidden><div class=\"sk-item\"><div class=\"sk-estimator sk-toggleable\"><input class=\"sk-toggleable__control sk-hidden--visually\" id=\"sk-estimator-id-1\" type=\"checkbox\" checked><label for=\"sk-estimator-id-1\" class=\"sk-toggleable__label sk-toggleable__label-arrow\">NearestNeighbors</label><div class=\"sk-toggleable__content\"><pre>NearestNeighbors(n_neighbors=10)</pre></div></div></div></div></div>"
      ],
      "text/plain": [
       "NearestNeighbors(n_neighbors=10)"
      ]
     },
     "execution_count": 13,
     "metadata": {},
     "output_type": "execute_result"
    }
   ],
   "source": [
    "# Convert text data to numerical vectors using TfidfVectorizer\n",
    "vectorizer = TfidfVectorizer()\n",
    "X_train_vect = vectorizer.fit_transform(X_train)\n",
    "X_test_vect = vectorizer.transform(X_test)\n",
    "\n",
    "# Build Nearest Neighbors model\n",
    "k_neighbors = 10\n",
    "nn_model = NearestNeighbors(n_neighbors=k_neighbors)\n",
    "nn_model.fit(X_train_vect)"
   ]
  },
  {
   "cell_type": "markdown",
   "id": "5a010a5d",
   "metadata": {
    "papermill": {
     "duration": 0.023503,
     "end_time": "2023-08-09T17:31:25.436565",
     "exception": false,
     "start_time": "2023-08-09T17:31:25.413062",
     "status": "completed"
    },
    "tags": []
   },
   "source": [
    "\n",
    "<div style=\"background-color:#F0E3D2; color:#19180F; font-size:15px; font-family:Verdana; padding:10px; border: 2px solid #19180F; border-radius:10px\"> \n",
    "📌\n",
    "Function to predict answers    </div>"
   ]
  },
  {
   "cell_type": "code",
   "execution_count": 14,
   "id": "0b8e466c",
   "metadata": {
    "execution": {
     "iopub.execute_input": "2023-08-09T17:31:25.483679Z",
     "iopub.status.busy": "2023-08-09T17:31:25.483418Z",
     "iopub.status.idle": "2023-08-09T17:31:25.546438Z",
     "shell.execute_reply": "2023-08-09T17:31:25.545756Z"
    },
    "papermill": {
     "duration": 0.089007,
     "end_time": "2023-08-09T17:31:25.548452",
     "exception": false,
     "start_time": "2023-08-09T17:31:25.459445",
     "status": "completed"
    },
    "tags": []
   },
   "outputs": [],
   "source": [
    "def predict_answers(model, X_test, y_train, k=3):\n",
    "    top_k_indices = model.kneighbors(X_test, return_distance=False)\n",
    "    predictions = []\n",
    "    for indices in top_k_indices:\n",
    "        top_k_labels = y_train[indices]  \n",
    "        top_k_labels_counts = np.bincount(top_k_labels)\n",
    "        top_k_labels_sorted = np.argsort(top_k_labels_counts)[::-1]\n",
    "        top_k_labels_sorted = [chr(65 + label) for label in top_k_labels_sorted]\n",
    "        predictions.append(\" \".join(top_k_labels_sorted[:k]))\n",
    "    return predictions\n",
    "\n",
    "# Make predictions for the test set\n",
    "predictions = predict_answers(nn_model, X_test_vect, y_train)"
   ]
  },
  {
   "cell_type": "markdown",
   "id": "7098c163",
   "metadata": {
    "papermill": {
     "duration": 0.023644,
     "end_time": "2023-08-09T17:31:25.596639",
     "exception": false,
     "start_time": "2023-08-09T17:31:25.572995",
     "status": "completed"
    },
    "tags": []
   },
   "source": [
    "\n",
    "<div style=\"background-color:#F0E3D2; color:#19180F; font-size:15px; font-family:Verdana; padding:10px; border: 2px solid #19180F; border-radius:10px\"> \n",
    "📌\n",
    "Generating submission    </div>"
   ]
  },
  {
   "cell_type": "code",
   "execution_count": 15,
   "id": "be38194c",
   "metadata": {
    "execution": {
     "iopub.execute_input": "2023-08-09T17:31:25.644803Z",
     "iopub.status.busy": "2023-08-09T17:31:25.644520Z",
     "iopub.status.idle": "2023-08-09T17:31:25.651457Z",
     "shell.execute_reply": "2023-08-09T17:31:25.650624Z"
    },
    "papermill": {
     "duration": 0.03325,
     "end_time": "2023-08-09T17:31:25.653405",
     "exception": false,
     "start_time": "2023-08-09T17:31:25.620155",
     "status": "completed"
    },
    "tags": []
   },
   "outputs": [],
   "source": [
    "submission_df = pd.DataFrame({'id': test_df.index, 'prediction': predictions})\n",
    "submission_df.to_csv('submission.csv', index=False)\n"
   ]
  },
  {
   "cell_type": "code",
   "execution_count": 16,
   "id": "bf76b0b1",
   "metadata": {
    "execution": {
     "iopub.execute_input": "2023-08-09T17:31:25.701143Z",
     "iopub.status.busy": "2023-08-09T17:31:25.700682Z",
     "iopub.status.idle": "2023-08-09T17:31:25.714330Z",
     "shell.execute_reply": "2023-08-09T17:31:25.713299Z"
    },
    "papermill": {
     "duration": 0.039853,
     "end_time": "2023-08-09T17:31:25.716476",
     "exception": false,
     "start_time": "2023-08-09T17:31:25.676623",
     "status": "completed"
    },
    "tags": []
   },
   "outputs": [
    {
     "data": {
      "text/html": [
       "<div>\n",
       "<style scoped>\n",
       "    .dataframe tbody tr th:only-of-type {\n",
       "        vertical-align: middle;\n",
       "    }\n",
       "\n",
       "    .dataframe tbody tr th {\n",
       "        vertical-align: top;\n",
       "    }\n",
       "\n",
       "    .dataframe thead th {\n",
       "        text-align: right;\n",
       "    }\n",
       "</style>\n",
       "<table border=\"1\" class=\"dataframe\">\n",
       "  <thead>\n",
       "    <tr style=\"text-align: right;\">\n",
       "      <th></th>\n",
       "      <th>id</th>\n",
       "      <th>prediction</th>\n",
       "    </tr>\n",
       "  </thead>\n",
       "  <tbody>\n",
       "    <tr>\n",
       "      <th>0</th>\n",
       "      <td>0</td>\n",
       "      <td>B A E</td>\n",
       "    </tr>\n",
       "    <tr>\n",
       "      <th>1</th>\n",
       "      <td>1</td>\n",
       "      <td>C B A</td>\n",
       "    </tr>\n",
       "    <tr>\n",
       "      <th>2</th>\n",
       "      <td>2</td>\n",
       "      <td>B A D</td>\n",
       "    </tr>\n",
       "    <tr>\n",
       "      <th>3</th>\n",
       "      <td>3</td>\n",
       "      <td>E D C</td>\n",
       "    </tr>\n",
       "    <tr>\n",
       "      <th>4</th>\n",
       "      <td>4</td>\n",
       "      <td>A D C</td>\n",
       "    </tr>\n",
       "    <tr>\n",
       "      <th>...</th>\n",
       "      <td>...</td>\n",
       "      <td>...</td>\n",
       "    </tr>\n",
       "    <tr>\n",
       "      <th>195</th>\n",
       "      <td>195</td>\n",
       "      <td>D A E</td>\n",
       "    </tr>\n",
       "    <tr>\n",
       "      <th>196</th>\n",
       "      <td>196</td>\n",
       "      <td>E C A</td>\n",
       "    </tr>\n",
       "    <tr>\n",
       "      <th>197</th>\n",
       "      <td>197</td>\n",
       "      <td>A D C</td>\n",
       "    </tr>\n",
       "    <tr>\n",
       "      <th>198</th>\n",
       "      <td>198</td>\n",
       "      <td>D A B</td>\n",
       "    </tr>\n",
       "    <tr>\n",
       "      <th>199</th>\n",
       "      <td>199</td>\n",
       "      <td>B E C</td>\n",
       "    </tr>\n",
       "  </tbody>\n",
       "</table>\n",
       "<p>200 rows × 2 columns</p>\n",
       "</div>"
      ],
      "text/plain": [
       "      id prediction\n",
       "0      0      B A E\n",
       "1      1      C B A\n",
       "2      2      B A D\n",
       "3      3      E D C\n",
       "4      4      A D C\n",
       "..   ...        ...\n",
       "195  195      D A E\n",
       "196  196      E C A\n",
       "197  197      A D C\n",
       "198  198      D A B\n",
       "199  199      B E C\n",
       "\n",
       "[200 rows x 2 columns]"
      ]
     },
     "execution_count": 16,
     "metadata": {},
     "output_type": "execute_result"
    }
   ],
   "source": [
    "submission_df"
   ]
  },
  {
   "cell_type": "markdown",
   "id": "e3ed1027",
   "metadata": {
    "papermill": {
     "duration": 0.024124,
     "end_time": "2023-08-09T17:31:25.766090",
     "exception": false,
     "start_time": "2023-08-09T17:31:25.741966",
     "status": "completed"
    },
    "tags": []
   },
   "source": [
    "<div style=\"background-color:#D5D9F2; color:#19180F; font-size:15px; font-family:Arial; padding:10px; border: 5px solid #19180F; border-radius:10px\">  \n",
    "📌\n",
    "       3. <b> TFIDF-RF approach </b>:</div>"
   ]
  },
  {
   "cell_type": "markdown",
   "id": "d26ebdc7",
   "metadata": {
    "papermill": {
     "duration": 0.023146,
     "end_time": "2023-08-09T17:31:25.813664",
     "exception": false,
     "start_time": "2023-08-09T17:31:25.790518",
     "status": "completed"
    },
    "tags": []
   },
   "source": [
    "\n",
    "<div style=\"background-color:#F0E3D2; color:#19180F; font-size:15px; font-family:Verdana; padding:10px; border: 2px solid #19180F; border-radius:10px\"> \n",
    "📌\n",
    "Importing modules   </div>"
   ]
  },
  {
   "cell_type": "code",
   "execution_count": 17,
   "id": "c0b2b1ac",
   "metadata": {
    "execution": {
     "iopub.execute_input": "2023-08-09T17:31:25.862431Z",
     "iopub.status.busy": "2023-08-09T17:31:25.861648Z",
     "iopub.status.idle": "2023-08-09T17:31:25.987717Z",
     "shell.execute_reply": "2023-08-09T17:31:25.986755Z"
    },
    "papermill": {
     "duration": 0.152788,
     "end_time": "2023-08-09T17:31:25.989904",
     "exception": false,
     "start_time": "2023-08-09T17:31:25.837116",
     "status": "completed"
    },
    "tags": []
   },
   "outputs": [],
   "source": [
    "import pandas as pd\n",
    "import numpy as np\n",
    "from sklearn.feature_extraction.text import TfidfVectorizer\n",
    "from sklearn.ensemble import RandomForestClassifier\n",
    "from sklearn.model_selection import StratifiedKFold\n",
    "from sklearn.metrics import average_precision_score\n"
   ]
  },
  {
   "cell_type": "markdown",
   "id": "860c9f2c",
   "metadata": {
    "papermill": {
     "duration": 0.023936,
     "end_time": "2023-08-09T17:31:26.038105",
     "exception": false,
     "start_time": "2023-08-09T17:31:26.014169",
     "status": "completed"
    },
    "tags": []
   },
   "source": [
    "\n",
    "<div style=\"background-color:#F0E3D2; color:#19180F; font-size:15px; font-family:Verdana; padding:10px; border: 2px solid #19180F; border-radius:10px\"> \n",
    "📌\n",
    "Loading the data and seperating into features and labels   </div>"
   ]
  },
  {
   "cell_type": "code",
   "execution_count": 18,
   "id": "83b3e450",
   "metadata": {
    "execution": {
     "iopub.execute_input": "2023-08-09T17:31:26.087123Z",
     "iopub.status.busy": "2023-08-09T17:31:26.086776Z",
     "iopub.status.idle": "2023-08-09T17:31:26.108601Z",
     "shell.execute_reply": "2023-08-09T17:31:26.107634Z"
    },
    "papermill": {
     "duration": 0.048926,
     "end_time": "2023-08-09T17:31:26.110934",
     "exception": false,
     "start_time": "2023-08-09T17:31:26.062008",
     "status": "completed"
    },
    "tags": []
   },
   "outputs": [],
   "source": [
    "train_df = pd.read_csv('/kaggle/input/kaggle-llm-science-exam/train.csv')\n",
    "test_df = pd.read_csv('/kaggle/input/kaggle-llm-science-exam/test.csv')\n",
    "X_train = train_df['prompt']\n",
    "y_train_labels = train_df[['A', 'B', 'C', 'D', 'E']].values\n",
    "y_train = np.argmax(y_train_labels, axis=1)  # Encode labels as integers (0, 1, 2, 3, 4)\n",
    "X_test = test_df['prompt']\n"
   ]
  },
  {
   "cell_type": "markdown",
   "id": "5ea988be",
   "metadata": {
    "papermill": {
     "duration": 0.023656,
     "end_time": "2023-08-09T17:31:26.160167",
     "exception": false,
     "start_time": "2023-08-09T17:31:26.136511",
     "status": "completed"
    },
    "tags": []
   },
   "source": [
    "\n",
    "<div style=\"background-color:#F0E3D2; color:#19180F; font-size:15px; font-family:Verdana; padding:10px; border: 2px solid #19180F; border-radius:10px\"> \n",
    "📌\n",
    "Convert text data into numerical vectors using TfidfVectorizer   </div>"
   ]
  },
  {
   "cell_type": "code",
   "execution_count": 19,
   "id": "80e5a09c",
   "metadata": {
    "execution": {
     "iopub.execute_input": "2023-08-09T17:31:26.210532Z",
     "iopub.status.busy": "2023-08-09T17:31:26.209600Z",
     "iopub.status.idle": "2023-08-09T17:31:26.225996Z",
     "shell.execute_reply": "2023-08-09T17:31:26.225131Z"
    },
    "papermill": {
     "duration": 0.043868,
     "end_time": "2023-08-09T17:31:26.228007",
     "exception": false,
     "start_time": "2023-08-09T17:31:26.184139",
     "status": "completed"
    },
    "tags": []
   },
   "outputs": [],
   "source": [
    "vectorizer = TfidfVectorizer()\n",
    "X_train_vect = vectorizer.fit_transform(X_train)\n",
    "X_test_vect = vectorizer.transform(X_test)\n"
   ]
  },
  {
   "cell_type": "markdown",
   "id": "87d7f83d",
   "metadata": {
    "papermill": {
     "duration": 0.023277,
     "end_time": "2023-08-09T17:31:26.277736",
     "exception": false,
     "start_time": "2023-08-09T17:31:26.254459",
     "status": "completed"
    },
    "tags": []
   },
   "source": [
    "\n",
    "<div style=\"background-color:#F0E3D2; color:#19180F; font-size:15px; font-family:Verdana; padding:10px; border: 2px solid #19180F; border-radius:10px\"> \n",
    "📌\n",
    "Function to predict answers   </div>"
   ]
  },
  {
   "cell_type": "code",
   "execution_count": 20,
   "id": "62562534",
   "metadata": {
    "execution": {
     "iopub.execute_input": "2023-08-09T17:31:26.328080Z",
     "iopub.status.busy": "2023-08-09T17:31:26.327257Z",
     "iopub.status.idle": "2023-08-09T17:31:26.334033Z",
     "shell.execute_reply": "2023-08-09T17:31:26.333187Z"
    },
    "papermill": {
     "duration": 0.034828,
     "end_time": "2023-08-09T17:31:26.336065",
     "exception": false,
     "start_time": "2023-08-09T17:31:26.301237",
     "status": "completed"
    },
    "tags": []
   },
   "outputs": [],
   "source": [
    "def predict_answers(model, X_test, k=3):\n",
    "    y_pred_probs = model.predict_proba(X_test)\n",
    "    top_k_indices = np.argsort(-y_pred_probs, axis=1)[:, :k]  # Get indices of top k predictions\n",
    "    predictions = []\n",
    "    for indices in top_k_indices:\n",
    "        top_k_labels = indices\n",
    "        top_k_labels_counts = np.bincount(top_k_labels)\n",
    "        top_k_labels_sorted = np.argsort(top_k_labels_counts)[::-1]\n",
    "        top_k_labels_sorted = [chr(65 + label) for label in top_k_labels_sorted]\n",
    "        predictions.append(\" \".join(top_k_labels_sorted[:k]))\n",
    "    return predictions"
   ]
  },
  {
   "cell_type": "markdown",
   "id": "7867e7ea",
   "metadata": {
    "papermill": {
     "duration": 0.023895,
     "end_time": "2023-08-09T17:31:26.385618",
     "exception": false,
     "start_time": "2023-08-09T17:31:26.361723",
     "status": "completed"
    },
    "tags": []
   },
   "source": [
    "\n",
    "<div style=\"background-color:#F0E3D2; color:#19180F; font-size:15px; font-family:Verdana; padding:10px; border: 2px solid #19180F; border-radius:10px\"> \n",
    "📌\n",
    "Spliit the data into train and val sets and train random forest classifier over 5 folds   </div>"
   ]
  },
  {
   "cell_type": "code",
   "execution_count": 21,
   "id": "62be6bdf",
   "metadata": {
    "execution": {
     "iopub.execute_input": "2023-08-09T17:31:26.434878Z",
     "iopub.status.busy": "2023-08-09T17:31:26.434581Z",
     "iopub.status.idle": "2023-08-09T17:31:27.733138Z",
     "shell.execute_reply": "2023-08-09T17:31:27.732083Z"
    },
    "papermill": {
     "duration": 1.325972,
     "end_time": "2023-08-09T17:31:27.735741",
     "exception": false,
     "start_time": "2023-08-09T17:31:26.409769",
     "status": "completed"
    },
    "tags": []
   },
   "outputs": [],
   "source": [
    "skf = StratifiedKFold(n_splits=5, shuffle=True, random_state=42)\n",
    "folds_predictions = []\n",
    "\n",
    "for train_index, val_index in skf.split(X_train_vect, y_train):\n",
    "    X_train_fold, X_val_fold = X_train_vect[train_index], X_train_vect[val_index]\n",
    "    y_train_fold, y_val_fold = y_train[train_index], y_train[val_index]\n",
    "\n",
    "    # Train the model (you can experiment with other advanced models here)\n",
    "    model = RandomForestClassifier(n_estimators=100, random_state=42)\n",
    "    model.fit(X_train_fold, y_train_fold)\n",
    "\n",
    "    # Make predictions on the validation set\n",
    "    val_predictions = predict_answers(model, X_val_fold)\n",
    "    folds_predictions.append(val_predictions)\n"
   ]
  },
  {
   "cell_type": "markdown",
   "id": "02a46653",
   "metadata": {
    "papermill": {
     "duration": 0.026284,
     "end_time": "2023-08-09T17:31:27.787589",
     "exception": false,
     "start_time": "2023-08-09T17:31:27.761305",
     "status": "completed"
    },
    "tags": []
   },
   "source": [
    "\n",
    "<div style=\"background-color:#F0E3D2; color:#19180F; font-size:15px; font-family:Verdana; padding:10px; border: 2px solid #19180F; border-radius:10px\"> \n",
    "📌\n",
    "Choose the most common prediction among all folds as final val preds   </div>"
   ]
  },
  {
   "cell_type": "code",
   "execution_count": 22,
   "id": "714aa302",
   "metadata": {
    "execution": {
     "iopub.execute_input": "2023-08-09T17:31:27.836363Z",
     "iopub.status.busy": "2023-08-09T17:31:27.836053Z",
     "iopub.status.idle": "2023-08-09T17:31:27.841812Z",
     "shell.execute_reply": "2023-08-09T17:31:27.840708Z"
    },
    "papermill": {
     "duration": 0.03241,
     "end_time": "2023-08-09T17:31:27.843755",
     "exception": false,
     "start_time": "2023-08-09T17:31:27.811345",
     "status": "completed"
    },
    "tags": []
   },
   "outputs": [],
   "source": [
    "val_final_predictions = []\n",
    "for i in range(len(y_val_fold)):\n",
    "    labels = [fold_preds[i].split() for fold_preds in folds_predictions]\n",
    "    labels_flattened = [label for sublist in labels for label in sublist]\n",
    "    val_final_predictions.append(\" \".join(labels_flattened[:3]))\n"
   ]
  },
  {
   "cell_type": "markdown",
   "id": "a82995e8",
   "metadata": {
    "papermill": {
     "duration": 0.023571,
     "end_time": "2023-08-09T17:31:27.891373",
     "exception": false,
     "start_time": "2023-08-09T17:31:27.867802",
     "status": "completed"
    },
    "tags": []
   },
   "source": [
    "\n",
    "<div style=\"background-color:#F0E3D2; color:#19180F; font-size:15px; font-family:Verdana; padding:10px; border: 2px solid #19180F; border-radius:10px\"> \n",
    "📌\n",
    "Calculating map@3 on val set  </div>"
   ]
  },
  {
   "cell_type": "code",
   "execution_count": 23,
   "id": "7f82dba1",
   "metadata": {
    "execution": {
     "iopub.execute_input": "2023-08-09T17:31:27.941996Z",
     "iopub.status.busy": "2023-08-09T17:31:27.941196Z",
     "iopub.status.idle": "2023-08-09T17:31:27.950560Z",
     "shell.execute_reply": "2023-08-09T17:31:27.949459Z"
    },
    "papermill": {
     "duration": 0.036143,
     "end_time": "2023-08-09T17:31:27.952566",
     "exception": false,
     "start_time": "2023-08-09T17:31:27.916423",
     "status": "completed"
    },
    "tags": []
   },
   "outputs": [
    {
     "name": "stdout",
     "output_type": "stream",
     "text": [
      "Validation MAP@3: 0.0\n"
     ]
    }
   ],
   "source": [
    "def mapk(y_true, y_pred, k=3):\n",
    "    assert len(y_true) == len(y_pred), \"Number of samples in y_true and y_pred must be the same.\"\n",
    "    total_mapk = 0\n",
    "    for true_labels, pred_labels in zip(y_true, y_pred):\n",
    "        # Convert sets to lists\n",
    "        true_labels_list = list(true_labels)\n",
    "        pred_labels_list = list(pred_labels)\n",
    "        # Get the top-k predicted labels\n",
    "        pred_labels_top_k = pred_labels_list[:k]\n",
    "        # Compute average precision for the current sample\n",
    "        mapk = sum([1 / (i + 1) for i, label in enumerate(pred_labels_top_k) if label in true_labels_list]) / min(len(true_labels_list), k)\n",
    "        total_mapk += mapk\n",
    "    return total_mapk / len(y_true)\n",
    "\n",
    "val_map_3 = mapk([set([label]) for label in y_val_fold], [set(pred.split()) for pred in val_final_predictions])\n",
    "print(f\"Validation MAP@3: {val_map_3}\")\n"
   ]
  },
  {
   "cell_type": "markdown",
   "id": "ddf82ba0",
   "metadata": {
    "papermill": {
     "duration": 0.024077,
     "end_time": "2023-08-09T17:31:28.000921",
     "exception": false,
     "start_time": "2023-08-09T17:31:27.976844",
     "status": "completed"
    },
    "tags": []
   },
   "source": [
    "\n",
    "<div style=\"background-color:#F0E3D2; color:#19180F; font-size:15px; font-family:Verdana; padding:10px; border: 2px solid #19180F; border-radius:10px\"> \n",
    "📌\n",
    "Train model on the entire train set   </div>"
   ]
  },
  {
   "cell_type": "code",
   "execution_count": 24,
   "id": "596fe536",
   "metadata": {
    "execution": {
     "iopub.execute_input": "2023-08-09T17:31:28.052315Z",
     "iopub.status.busy": "2023-08-09T17:31:28.051540Z",
     "iopub.status.idle": "2023-08-09T17:31:28.312151Z",
     "shell.execute_reply": "2023-08-09T17:31:28.310933Z"
    },
    "papermill": {
     "duration": 0.28907,
     "end_time": "2023-08-09T17:31:28.314383",
     "exception": false,
     "start_time": "2023-08-09T17:31:28.025313",
     "status": "completed"
    },
    "tags": []
   },
   "outputs": [
    {
     "data": {
      "text/html": [
       "<style>#sk-container-id-2 {color: black;background-color: white;}#sk-container-id-2 pre{padding: 0;}#sk-container-id-2 div.sk-toggleable {background-color: white;}#sk-container-id-2 label.sk-toggleable__label {cursor: pointer;display: block;width: 100%;margin-bottom: 0;padding: 0.3em;box-sizing: border-box;text-align: center;}#sk-container-id-2 label.sk-toggleable__label-arrow:before {content: \"▸\";float: left;margin-right: 0.25em;color: #696969;}#sk-container-id-2 label.sk-toggleable__label-arrow:hover:before {color: black;}#sk-container-id-2 div.sk-estimator:hover label.sk-toggleable__label-arrow:before {color: black;}#sk-container-id-2 div.sk-toggleable__content {max-height: 0;max-width: 0;overflow: hidden;text-align: left;background-color: #f0f8ff;}#sk-container-id-2 div.sk-toggleable__content pre {margin: 0.2em;color: black;border-radius: 0.25em;background-color: #f0f8ff;}#sk-container-id-2 input.sk-toggleable__control:checked~div.sk-toggleable__content {max-height: 200px;max-width: 100%;overflow: auto;}#sk-container-id-2 input.sk-toggleable__control:checked~label.sk-toggleable__label-arrow:before {content: \"▾\";}#sk-container-id-2 div.sk-estimator input.sk-toggleable__control:checked~label.sk-toggleable__label {background-color: #d4ebff;}#sk-container-id-2 div.sk-label input.sk-toggleable__control:checked~label.sk-toggleable__label {background-color: #d4ebff;}#sk-container-id-2 input.sk-hidden--visually {border: 0;clip: rect(1px 1px 1px 1px);clip: rect(1px, 1px, 1px, 1px);height: 1px;margin: -1px;overflow: hidden;padding: 0;position: absolute;width: 1px;}#sk-container-id-2 div.sk-estimator {font-family: monospace;background-color: #f0f8ff;border: 1px dotted black;border-radius: 0.25em;box-sizing: border-box;margin-bottom: 0.5em;}#sk-container-id-2 div.sk-estimator:hover {background-color: #d4ebff;}#sk-container-id-2 div.sk-parallel-item::after {content: \"\";width: 100%;border-bottom: 1px solid gray;flex-grow: 1;}#sk-container-id-2 div.sk-label:hover label.sk-toggleable__label {background-color: #d4ebff;}#sk-container-id-2 div.sk-serial::before {content: \"\";position: absolute;border-left: 1px solid gray;box-sizing: border-box;top: 0;bottom: 0;left: 50%;z-index: 0;}#sk-container-id-2 div.sk-serial {display: flex;flex-direction: column;align-items: center;background-color: white;padding-right: 0.2em;padding-left: 0.2em;position: relative;}#sk-container-id-2 div.sk-item {position: relative;z-index: 1;}#sk-container-id-2 div.sk-parallel {display: flex;align-items: stretch;justify-content: center;background-color: white;position: relative;}#sk-container-id-2 div.sk-item::before, #sk-container-id-2 div.sk-parallel-item::before {content: \"\";position: absolute;border-left: 1px solid gray;box-sizing: border-box;top: 0;bottom: 0;left: 50%;z-index: -1;}#sk-container-id-2 div.sk-parallel-item {display: flex;flex-direction: column;z-index: 1;position: relative;background-color: white;}#sk-container-id-2 div.sk-parallel-item:first-child::after {align-self: flex-end;width: 50%;}#sk-container-id-2 div.sk-parallel-item:last-child::after {align-self: flex-start;width: 50%;}#sk-container-id-2 div.sk-parallel-item:only-child::after {width: 0;}#sk-container-id-2 div.sk-dashed-wrapped {border: 1px dashed gray;margin: 0 0.4em 0.5em 0.4em;box-sizing: border-box;padding-bottom: 0.4em;background-color: white;}#sk-container-id-2 div.sk-label label {font-family: monospace;font-weight: bold;display: inline-block;line-height: 1.2em;}#sk-container-id-2 div.sk-label-container {text-align: center;}#sk-container-id-2 div.sk-container {/* jupyter's `normalize.less` sets `[hidden] { display: none; }` but bootstrap.min.css set `[hidden] { display: none !important; }` so we also need the `!important` here to be able to override the default hidden behavior on the sphinx rendered scikit-learn.org. See: https://github.com/scikit-learn/scikit-learn/issues/21755 */display: inline-block !important;position: relative;}#sk-container-id-2 div.sk-text-repr-fallback {display: none;}</style><div id=\"sk-container-id-2\" class=\"sk-top-container\"><div class=\"sk-text-repr-fallback\"><pre>RandomForestClassifier(random_state=42)</pre><b>In a Jupyter environment, please rerun this cell to show the HTML representation or trust the notebook. <br />On GitHub, the HTML representation is unable to render, please try loading this page with nbviewer.org.</b></div><div class=\"sk-container\" hidden><div class=\"sk-item\"><div class=\"sk-estimator sk-toggleable\"><input class=\"sk-toggleable__control sk-hidden--visually\" id=\"sk-estimator-id-2\" type=\"checkbox\" checked><label for=\"sk-estimator-id-2\" class=\"sk-toggleable__label sk-toggleable__label-arrow\">RandomForestClassifier</label><div class=\"sk-toggleable__content\"><pre>RandomForestClassifier(random_state=42)</pre></div></div></div></div></div>"
      ],
      "text/plain": [
       "RandomForestClassifier(random_state=42)"
      ]
     },
     "execution_count": 24,
     "metadata": {},
     "output_type": "execute_result"
    }
   ],
   "source": [
    "final_model = RandomForestClassifier(n_estimators=100, random_state=42)\n",
    "final_model.fit(X_train_vect, y_train)\n"
   ]
  },
  {
   "cell_type": "markdown",
   "id": "e91150a7",
   "metadata": {
    "papermill": {
     "duration": 0.025083,
     "end_time": "2023-08-09T17:31:28.365167",
     "exception": false,
     "start_time": "2023-08-09T17:31:28.340084",
     "status": "completed"
    },
    "tags": []
   },
   "source": [
    "\n",
    "<div style=\"background-color:#F0E3D2; color:#19180F; font-size:15px; font-family:Verdana; padding:10px; border: 2px solid #19180F; border-radius:10px\"> \n",
    "📌\n",
    "Make predictions on the test set   </div>"
   ]
  },
  {
   "cell_type": "code",
   "execution_count": 25,
   "id": "3ff50aa3",
   "metadata": {
    "execution": {
     "iopub.execute_input": "2023-08-09T17:31:28.415269Z",
     "iopub.status.busy": "2023-08-09T17:31:28.414949Z",
     "iopub.status.idle": "2023-08-09T17:31:28.433299Z",
     "shell.execute_reply": "2023-08-09T17:31:28.432366Z"
    },
    "papermill": {
     "duration": 0.045815,
     "end_time": "2023-08-09T17:31:28.435518",
     "exception": false,
     "start_time": "2023-08-09T17:31:28.389703",
     "status": "completed"
    },
    "tags": []
   },
   "outputs": [],
   "source": [
    "test_predictions = predict_answers(final_model, X_test_vect)\n"
   ]
  },
  {
   "cell_type": "markdown",
   "id": "c5f16050",
   "metadata": {
    "papermill": {
     "duration": 0.024519,
     "end_time": "2023-08-09T17:31:28.486236",
     "exception": false,
     "start_time": "2023-08-09T17:31:28.461717",
     "status": "completed"
    },
    "tags": []
   },
   "source": [
    "\n",
    "<div style=\"background-color:#F0E3D2; color:#19180F; font-size:15px; font-family:Verdana; padding:10px; border: 2px solid #19180F; border-radius:10px\"> \n",
    "📌\n",
    "Save predictions to a submission file   </div>"
   ]
  },
  {
   "cell_type": "code",
   "execution_count": 26,
   "id": "44e2308d",
   "metadata": {
    "execution": {
     "iopub.execute_input": "2023-08-09T17:31:28.537883Z",
     "iopub.status.busy": "2023-08-09T17:31:28.537006Z",
     "iopub.status.idle": "2023-08-09T17:31:28.543844Z",
     "shell.execute_reply": "2023-08-09T17:31:28.543012Z"
    },
    "papermill": {
     "duration": 0.03466,
     "end_time": "2023-08-09T17:31:28.545885",
     "exception": false,
     "start_time": "2023-08-09T17:31:28.511225",
     "status": "completed"
    },
    "tags": []
   },
   "outputs": [],
   "source": [
    "submission_df = pd.DataFrame({'id': test_df.index, 'prediction': test_predictions})\n",
    "submission_df.to_csv('submission.csv', index=False)"
   ]
  },
  {
   "cell_type": "code",
   "execution_count": 27,
   "id": "c8033db4",
   "metadata": {
    "execution": {
     "iopub.execute_input": "2023-08-09T17:31:28.597218Z",
     "iopub.status.busy": "2023-08-09T17:31:28.596396Z",
     "iopub.status.idle": "2023-08-09T17:31:28.607127Z",
     "shell.execute_reply": "2023-08-09T17:31:28.606055Z"
    },
    "papermill": {
     "duration": 0.038346,
     "end_time": "2023-08-09T17:31:28.609295",
     "exception": false,
     "start_time": "2023-08-09T17:31:28.570949",
     "status": "completed"
    },
    "tags": []
   },
   "outputs": [
    {
     "data": {
      "text/html": [
       "<div>\n",
       "<style scoped>\n",
       "    .dataframe tbody tr th:only-of-type {\n",
       "        vertical-align: middle;\n",
       "    }\n",
       "\n",
       "    .dataframe tbody tr th {\n",
       "        vertical-align: top;\n",
       "    }\n",
       "\n",
       "    .dataframe thead th {\n",
       "        text-align: right;\n",
       "    }\n",
       "</style>\n",
       "<table border=\"1\" class=\"dataframe\">\n",
       "  <thead>\n",
       "    <tr style=\"text-align: right;\">\n",
       "      <th></th>\n",
       "      <th>id</th>\n",
       "      <th>prediction</th>\n",
       "    </tr>\n",
       "  </thead>\n",
       "  <tbody>\n",
       "    <tr>\n",
       "      <th>0</th>\n",
       "      <td>0</td>\n",
       "      <td>D B A</td>\n",
       "    </tr>\n",
       "    <tr>\n",
       "      <th>1</th>\n",
       "      <td>1</td>\n",
       "      <td>C B A</td>\n",
       "    </tr>\n",
       "    <tr>\n",
       "      <th>2</th>\n",
       "      <td>2</td>\n",
       "      <td>C B A</td>\n",
       "    </tr>\n",
       "    <tr>\n",
       "      <th>3</th>\n",
       "      <td>3</td>\n",
       "      <td>E C B</td>\n",
       "    </tr>\n",
       "    <tr>\n",
       "      <th>4</th>\n",
       "      <td>4</td>\n",
       "      <td>D C B</td>\n",
       "    </tr>\n",
       "    <tr>\n",
       "      <th>...</th>\n",
       "      <td>...</td>\n",
       "      <td>...</td>\n",
       "    </tr>\n",
       "    <tr>\n",
       "      <th>195</th>\n",
       "      <td>195</td>\n",
       "      <td>E C A</td>\n",
       "    </tr>\n",
       "    <tr>\n",
       "      <th>196</th>\n",
       "      <td>196</td>\n",
       "      <td>E D A</td>\n",
       "    </tr>\n",
       "    <tr>\n",
       "      <th>197</th>\n",
       "      <td>197</td>\n",
       "      <td>D B A</td>\n",
       "    </tr>\n",
       "    <tr>\n",
       "      <th>198</th>\n",
       "      <td>198</td>\n",
       "      <td>C B A</td>\n",
       "    </tr>\n",
       "    <tr>\n",
       "      <th>199</th>\n",
       "      <td>199</td>\n",
       "      <td>D C B</td>\n",
       "    </tr>\n",
       "  </tbody>\n",
       "</table>\n",
       "<p>200 rows × 2 columns</p>\n",
       "</div>"
      ],
      "text/plain": [
       "      id prediction\n",
       "0      0      D B A\n",
       "1      1      C B A\n",
       "2      2      C B A\n",
       "3      3      E C B\n",
       "4      4      D C B\n",
       "..   ...        ...\n",
       "195  195      E C A\n",
       "196  196      E D A\n",
       "197  197      D B A\n",
       "198  198      C B A\n",
       "199  199      D C B\n",
       "\n",
       "[200 rows x 2 columns]"
      ]
     },
     "execution_count": 27,
     "metadata": {},
     "output_type": "execute_result"
    }
   ],
   "source": [
    "submission_df"
   ]
  },
  {
   "cell_type": "markdown",
   "id": "f95c5d51",
   "metadata": {
    "papermill": {
     "duration": 0.024358,
     "end_time": "2023-08-09T17:31:28.658570",
     "exception": false,
     "start_time": "2023-08-09T17:31:28.634212",
     "status": "completed"
    },
    "tags": []
   },
   "source": [
    "<div style=\"background-color:#D5D9F2; color:#19180F; font-size:15px; font-family:Arial; padding:10px; border: 5px solid #19180F; border-radius:10px\">  \n",
    "📌\n",
    "<b> Using BERT </b>:\n",
    "<br>\n",
    "📌 To know more about BERT, Visit the <a href=\"https://www.kaggle.com/code/suraj520/bert-know-fit-infer\"> kernel </a>\n",
    "</div>"
   ]
  },
  {
   "cell_type": "markdown",
   "id": "0a1c436a",
   "metadata": {
    "papermill": {
     "duration": 0.024509,
     "end_time": "2023-08-09T17:31:28.707803",
     "exception": false,
     "start_time": "2023-08-09T17:31:28.683294",
     "status": "completed"
    },
    "tags": []
   },
   "source": [
    "\n",
    "<div style=\"background-color:#F0E3D2; color:#19180F; font-size:15px; font-family:Verdana; padding:10px; border: 2px solid #19180F; border-radius:10px\"> \n",
    "📌\n",
    "Importing modules  </div>"
   ]
  },
  {
   "cell_type": "code",
   "execution_count": 28,
   "id": "d9efd9f0",
   "metadata": {
    "execution": {
     "iopub.execute_input": "2023-08-09T17:31:28.758304Z",
     "iopub.status.busy": "2023-08-09T17:31:28.758031Z",
     "iopub.status.idle": "2023-08-09T17:31:40.409871Z",
     "shell.execute_reply": "2023-08-09T17:31:40.408902Z"
    },
    "papermill": {
     "duration": 11.680162,
     "end_time": "2023-08-09T17:31:40.412534",
     "exception": false,
     "start_time": "2023-08-09T17:31:28.732372",
     "status": "completed"
    },
    "tags": []
   },
   "outputs": [
    {
     "name": "stderr",
     "output_type": "stream",
     "text": [
      "/opt/conda/lib/python3.10/site-packages/tensorflow_io/python/ops/__init__.py:98: UserWarning: unable to load libtensorflow_io_plugins.so: unable to open file: libtensorflow_io_plugins.so, from paths: ['/opt/conda/lib/python3.10/site-packages/tensorflow_io/python/ops/libtensorflow_io_plugins.so']\n",
      "caused by: ['/opt/conda/lib/python3.10/site-packages/tensorflow_io/python/ops/libtensorflow_io_plugins.so: undefined symbol: _ZN3tsl6StatusC1EN10tensorflow5error4CodeESt17basic_string_viewIcSt11char_traitsIcEENS_14SourceLocationE']\n",
      "  warnings.warn(f\"unable to load libtensorflow_io_plugins.so: {e}\")\n",
      "/opt/conda/lib/python3.10/site-packages/tensorflow_io/python/ops/__init__.py:104: UserWarning: file system plugins are not loaded: unable to open file: libtensorflow_io.so, from paths: ['/opt/conda/lib/python3.10/site-packages/tensorflow_io/python/ops/libtensorflow_io.so']\n",
      "caused by: ['/opt/conda/lib/python3.10/site-packages/tensorflow_io/python/ops/libtensorflow_io.so: undefined symbol: _ZTVN10tensorflow13GcsFileSystemE']\n",
      "  warnings.warn(f\"file system plugins are not loaded: {e}\")\n"
     ]
    }
   ],
   "source": [
    "import pandas as pd\n",
    "import torch\n",
    "import torch.nn as nn\n",
    "from torch.utils.data import Dataset, DataLoader\n",
    "from transformers import BertTokenizer, BertModel"
   ]
  },
  {
   "cell_type": "markdown",
   "id": "481b4cd7",
   "metadata": {
    "papermill": {
     "duration": 0.025076,
     "end_time": "2023-08-09T17:31:40.464011",
     "exception": false,
     "start_time": "2023-08-09T17:31:40.438935",
     "status": "completed"
    },
    "tags": []
   },
   "source": [
    "\n",
    "<div style=\"background-color:#F0E3D2; color:#19180F; font-size:15px; font-family:Verdana; padding:10px; border: 2px solid #19180F; border-radius:10px\"> \n",
    "📌\n",
    "Defining the BERT model class   </div>"
   ]
  },
  {
   "cell_type": "code",
   "execution_count": 29,
   "id": "01340227",
   "metadata": {
    "execution": {
     "iopub.execute_input": "2023-08-09T17:31:40.516450Z",
     "iopub.status.busy": "2023-08-09T17:31:40.514939Z",
     "iopub.status.idle": "2023-08-09T17:31:40.521498Z",
     "shell.execute_reply": "2023-08-09T17:31:40.520886Z"
    },
    "papermill": {
     "duration": 0.034057,
     "end_time": "2023-08-09T17:31:40.523311",
     "exception": false,
     "start_time": "2023-08-09T17:31:40.489254",
     "status": "completed"
    },
    "tags": []
   },
   "outputs": [],
   "source": [
    "class BertForQuestionAnswering(nn.Module):\n",
    "    def __init__(self, bert_model):\n",
    "        super(BertForQuestionAnswering, self).__init__()\n",
    "        self.bert = bert_model\n",
    "        self.fc = nn.Linear(self.bert.config.hidden_size, 5)\n",
    "\n",
    "    def forward(self, input_ids, attention_mask):\n",
    "        outputs = self.bert(input_ids=input_ids, attention_mask=attention_mask)\n",
    "        logits = self.fc(outputs.last_hidden_state[:, 0, :])\n",
    "        return logits"
   ]
  },
  {
   "cell_type": "markdown",
   "id": "e01a4bf8",
   "metadata": {
    "papermill": {
     "duration": 0.025374,
     "end_time": "2023-08-09T17:31:40.573470",
     "exception": false,
     "start_time": "2023-08-09T17:31:40.548096",
     "status": "completed"
    },
    "tags": []
   },
   "source": [
    "\n",
    "<div style=\"background-color:#F0E3D2; color:#19180F; font-size:15px; font-family:Verdana; padding:10px; border: 2px solid #19180F; border-radius:10px\"> \n",
    "📌\n",
    "Loading the data   </div>"
   ]
  },
  {
   "cell_type": "code",
   "execution_count": 30,
   "id": "23ea64f7",
   "metadata": {
    "execution": {
     "iopub.execute_input": "2023-08-09T17:31:40.625901Z",
     "iopub.status.busy": "2023-08-09T17:31:40.625215Z",
     "iopub.status.idle": "2023-08-09T17:31:40.644089Z",
     "shell.execute_reply": "2023-08-09T17:31:40.643156Z"
    },
    "papermill": {
     "duration": 0.04796,
     "end_time": "2023-08-09T17:31:40.646515",
     "exception": false,
     "start_time": "2023-08-09T17:31:40.598555",
     "status": "completed"
    },
    "tags": []
   },
   "outputs": [],
   "source": [
    "train_df = pd.read_csv(\"/kaggle/input/kaggle-llm-science-exam/train.csv\")\n",
    "test_df = pd.read_csv(\"/kaggle/input/kaggle-llm-science-exam/test.csv\")"
   ]
  },
  {
   "cell_type": "markdown",
   "id": "b4abbbe8",
   "metadata": {
    "papermill": {
     "duration": 0.024555,
     "end_time": "2023-08-09T17:31:40.696280",
     "exception": false,
     "start_time": "2023-08-09T17:31:40.671725",
     "status": "completed"
    },
    "tags": []
   },
   "source": [
    "\n",
    "<div style=\"background-color:#F0E3D2; color:#19180F; font-size:15px; font-family:Verdana; padding:10px; border: 2px solid #19180F; border-radius:10px\"> \n",
    "📌\n",
    "Initializing the BERT tokenizer and model   </div>"
   ]
  },
  {
   "cell_type": "code",
   "execution_count": 31,
   "id": "9f3afa41",
   "metadata": {
    "execution": {
     "iopub.execute_input": "2023-08-09T17:31:40.748137Z",
     "iopub.status.busy": "2023-08-09T17:31:40.747300Z",
     "iopub.status.idle": "2023-08-09T17:32:00.542838Z",
     "shell.execute_reply": "2023-08-09T17:32:00.541782Z"
    },
    "papermill": {
     "duration": 19.824226,
     "end_time": "2023-08-09T17:32:00.545546",
     "exception": false,
     "start_time": "2023-08-09T17:31:40.721320",
     "status": "completed"
    },
    "tags": []
   },
   "outputs": [
    {
     "name": "stderr",
     "output_type": "stream",
     "text": [
      "Some weights of the model checkpoint at /kaggle/input/huggingface-bert/bert-large-cased were not used when initializing BertModel: ['cls.seq_relationship.weight', 'cls.seq_relationship.bias', 'cls.predictions.transform.LayerNorm.bias', 'cls.predictions.transform.LayerNorm.weight', 'cls.predictions.decoder.weight', 'cls.predictions.transform.dense.weight', 'cls.predictions.transform.dense.bias', 'cls.predictions.bias']\n",
      "- This IS expected if you are initializing BertModel from the checkpoint of a model trained on another task or with another architecture (e.g. initializing a BertForSequenceClassification model from a BertForPreTraining model).\n",
      "- This IS NOT expected if you are initializing BertModel from the checkpoint of a model that you expect to be exactly identical (initializing a BertForSequenceClassification model from a BertForSequenceClassification model).\n"
     ]
    }
   ],
   "source": [
    "tokenizer = BertTokenizer.from_pretrained(\"/kaggle/input/huggingface-bert/bert-large-cased\")\n",
    "bert_model = BertModel.from_pretrained(\"/kaggle/input/huggingface-bert/bert-large-cased\")\n",
    "device = torch.device(\"cuda\" if torch.cuda.is_available() else \"cpu\")\n",
    "model = BertForQuestionAnswering(bert_model).to(device)\n"
   ]
  },
  {
   "cell_type": "markdown",
   "id": "985c703f",
   "metadata": {
    "papermill": {
     "duration": 0.025153,
     "end_time": "2023-08-09T17:32:00.597645",
     "exception": false,
     "start_time": "2023-08-09T17:32:00.572492",
     "status": "completed"
    },
    "tags": []
   },
   "source": [
    "\n",
    "<div style=\"background-color:#F0E3D2; color:#19180F; font-size:15px; font-family:Verdana; padding:10px; border: 2px solid #19180F; border-radius:10px\"> \n",
    "📌\n",
    "Defining dataset class   </div>"
   ]
  },
  {
   "cell_type": "code",
   "execution_count": 32,
   "id": "4082a67e",
   "metadata": {
    "execution": {
     "iopub.execute_input": "2023-08-09T17:32:00.650973Z",
     "iopub.status.busy": "2023-08-09T17:32:00.650621Z",
     "iopub.status.idle": "2023-08-09T17:32:00.660536Z",
     "shell.execute_reply": "2023-08-09T17:32:00.659465Z"
    },
    "papermill": {
     "duration": 0.039324,
     "end_time": "2023-08-09T17:32:00.662519",
     "exception": false,
     "start_time": "2023-08-09T17:32:00.623195",
     "status": "completed"
    },
    "tags": []
   },
   "outputs": [],
   "source": [
    "class CustomDataset(Dataset):\n",
    "    def __init__(self, data_df, tokenizer, max_length=128, mode=\"train\"):\n",
    "        self.data_df = data_df\n",
    "        self.tokenizer = tokenizer\n",
    "        self.max_length = max_length\n",
    "        self.mode=mode\n",
    "\n",
    "    def __len__(self):\n",
    "        return len(self.data_df)\n",
    "\n",
    "    def __getitem__(self, idx):\n",
    "        row = self.data_df.iloc[idx]\n",
    "        prompt = row['prompt']\n",
    "        options = [row['A'], row['B'], row['C'], row['D'], row['E']]\n",
    "        if self.mode==\"train\":\n",
    "            answer = row['answer']\n",
    "\n",
    "        inputs = self.tokenizer(prompt, options, padding='max_length', truncation=True, max_length=self.max_length, return_tensors='pt')\n",
    "        input_ids = inputs['input_ids'].squeeze()\n",
    "        attention_mask = inputs['attention_mask'].squeeze()\n",
    "\n",
    "        # Map the correct answer label to its index\n",
    "        if self.mode==\"train\":\n",
    "            label_mapping = {'A': 0, 'B': 1, 'C': 2, 'D': 3, 'E': 4}\n",
    "            label_idx = label_mapping[answer]\n",
    "\n",
    "            return input_ids, attention_mask, label_idx  # Return input data and label index\n",
    "        else:\n",
    "            return input_ids, attention_mask\n"
   ]
  },
  {
   "cell_type": "markdown",
   "id": "7b67d489",
   "metadata": {
    "papermill": {
     "duration": 0.02554,
     "end_time": "2023-08-09T17:32:00.713887",
     "exception": false,
     "start_time": "2023-08-09T17:32:00.688347",
     "status": "completed"
    },
    "tags": []
   },
   "source": [
    "\n",
    "<div style=\"background-color:#F0E3D2; color:#19180F; font-size:15px; font-family:Verdana; padding:10px; border: 2px solid #19180F; border-radius:10px\"> \n",
    "📌\n",
    "Creating dataloaders   </div>"
   ]
  },
  {
   "cell_type": "code",
   "execution_count": 33,
   "id": "fe289c15",
   "metadata": {
    "execution": {
     "iopub.execute_input": "2023-08-09T17:32:00.765336Z",
     "iopub.status.busy": "2023-08-09T17:32:00.765071Z",
     "iopub.status.idle": "2023-08-09T17:32:00.771110Z",
     "shell.execute_reply": "2023-08-09T17:32:00.770284Z"
    },
    "papermill": {
     "duration": 0.034383,
     "end_time": "2023-08-09T17:32:00.773126",
     "exception": false,
     "start_time": "2023-08-09T17:32:00.738743",
     "status": "completed"
    },
    "tags": []
   },
   "outputs": [],
   "source": [
    "train_dataset = CustomDataset(train_df, tokenizer,mode=\"train\")\n",
    "train_loader = DataLoader(train_dataset, batch_size=8, shuffle=True)\n"
   ]
  },
  {
   "cell_type": "markdown",
   "id": "4675b7f2",
   "metadata": {
    "papermill": {
     "duration": 0.024593,
     "end_time": "2023-08-09T17:32:00.822749",
     "exception": false,
     "start_time": "2023-08-09T17:32:00.798156",
     "status": "completed"
    },
    "tags": []
   },
   "source": [
    "\n",
    "<div style=\"background-color:#F0E3D2; color:#19180F; font-size:15px; font-family:Verdana; padding:10px; border: 2px solid #19180F; border-radius:10px\"> \n",
    "📌\n",
    "Performing sanity check of the dataloader  </div>"
   ]
  },
  {
   "cell_type": "code",
   "execution_count": 34,
   "id": "10df9907",
   "metadata": {
    "execution": {
     "iopub.execute_input": "2023-08-09T17:32:00.874837Z",
     "iopub.status.busy": "2023-08-09T17:32:00.873902Z",
     "iopub.status.idle": "2023-08-09T17:32:00.905895Z",
     "shell.execute_reply": "2023-08-09T17:32:00.904867Z"
    },
    "papermill": {
     "duration": 0.060682,
     "end_time": "2023-08-09T17:32:00.908431",
     "exception": false,
     "start_time": "2023-08-09T17:32:00.847749",
     "status": "completed"
    },
    "tags": []
   },
   "outputs": [
    {
     "name": "stdout",
     "output_type": "stream",
     "text": [
      "[tensor([[ 101, 1184, 1110,  ...,    0,    0,    0],\n",
      "        [ 101, 1184, 1110,  ...,    0,    0,    0],\n",
      "        [ 101, 1184, 1110,  ...,    0,    0,    0],\n",
      "        ...,\n",
      "        [ 101, 1184, 1110,  ...,    0,    0,    0],\n",
      "        [ 101, 1184, 1110,  ...,    0,    0,    0],\n",
      "        [ 101, 1184, 1110,  ...,    0,    0,    0]]), tensor([[1, 1, 1,  ..., 0, 0, 0],\n",
      "        [1, 1, 1,  ..., 0, 0, 0],\n",
      "        [1, 1, 1,  ..., 0, 0, 0],\n",
      "        ...,\n",
      "        [1, 1, 1,  ..., 0, 0, 0],\n",
      "        [1, 1, 1,  ..., 0, 0, 0],\n",
      "        [1, 1, 1,  ..., 0, 0, 0]]), tensor([0, 1, 2, 3, 2, 1, 1, 2])]\n"
     ]
    }
   ],
   "source": [
    "for batch in train_loader:\n",
    "    print(batch)\n",
    "    break\n"
   ]
  },
  {
   "cell_type": "markdown",
   "id": "78b99a53",
   "metadata": {
    "papermill": {
     "duration": 0.024966,
     "end_time": "2023-08-09T17:32:00.958525",
     "exception": false,
     "start_time": "2023-08-09T17:32:00.933559",
     "status": "completed"
    },
    "tags": []
   },
   "source": [
    "\n",
    "<div style=\"background-color:#F0E3D2; color:#19180F; font-size:15px; font-family:Verdana; padding:10px; border: 2px solid #19180F; border-radius:10px\"> \n",
    "📌\n",
    "Train the model  </div>"
   ]
  },
  {
   "cell_type": "code",
   "execution_count": 35,
   "id": "8d7cc1bf",
   "metadata": {
    "execution": {
     "iopub.execute_input": "2023-08-09T17:32:01.011154Z",
     "iopub.status.busy": "2023-08-09T17:32:01.010816Z",
     "iopub.status.idle": "2023-08-09T17:32:01.018139Z",
     "shell.execute_reply": "2023-08-09T17:32:01.016922Z"
    },
    "papermill": {
     "duration": 0.037035,
     "end_time": "2023-08-09T17:32:01.020623",
     "exception": false,
     "start_time": "2023-08-09T17:32:00.983588",
     "status": "completed"
    },
    "tags": []
   },
   "outputs": [],
   "source": [
    "optimizer = torch.optim.AdamW(model.parameters(), lr=2e-5)\n",
    "criterion = nn.CrossEntropyLoss()\n"
   ]
  },
  {
   "cell_type": "markdown",
   "id": "dc860db5",
   "metadata": {
    "papermill": {
     "duration": 0.024748,
     "end_time": "2023-08-09T17:32:01.072521",
     "exception": false,
     "start_time": "2023-08-09T17:32:01.047773",
     "status": "completed"
    },
    "tags": []
   },
   "source": [
    "\n",
    "<div style=\"background-color:#F0E3D2; color:#19180F; font-size:15px; font-family:Verdana; padding:10px; border: 2px solid #19180F; border-radius:10px\"> \n",
    "📌\n",
    "Training loop   </div>"
   ]
  },
  {
   "cell_type": "code",
   "execution_count": 36,
   "id": "0e90c6b4",
   "metadata": {
    "_kg_hide-output": true,
    "execution": {
     "iopub.execute_input": "2023-08-09T17:32:01.124637Z",
     "iopub.status.busy": "2023-08-09T17:32:01.123761Z",
     "iopub.status.idle": "2023-08-09T17:33:35.239948Z",
     "shell.execute_reply": "2023-08-09T17:33:35.238925Z"
    },
    "papermill": {
     "duration": 94.145206,
     "end_time": "2023-08-09T17:33:35.242794",
     "exception": false,
     "start_time": "2023-08-09T17:32:01.097588",
     "status": "completed"
    },
    "tags": []
   },
   "outputs": [
    {
     "name": "stderr",
     "output_type": "stream",
     "text": [
      "100%|██████████| 25/25 [00:10<00:00,  2.37it/s]\n"
     ]
    },
    {
     "name": "stdout",
     "output_type": "stream",
     "text": [
      "Epoch-0, Loss-1.8979820013046265\n"
     ]
    },
    {
     "name": "stderr",
     "output_type": "stream",
     "text": [
      "100%|██████████| 25/25 [00:09<00:00,  2.77it/s]\n"
     ]
    },
    {
     "name": "stdout",
     "output_type": "stream",
     "text": [
      "Epoch-1, Loss-1.408605694770813\n"
     ]
    },
    {
     "name": "stderr",
     "output_type": "stream",
     "text": [
      "100%|██████████| 25/25 [00:09<00:00,  2.77it/s]\n"
     ]
    },
    {
     "name": "stdout",
     "output_type": "stream",
     "text": [
      "Epoch-2, Loss-1.3528077602386475\n"
     ]
    },
    {
     "name": "stderr",
     "output_type": "stream",
     "text": [
      "100%|██████████| 25/25 [00:09<00:00,  2.77it/s]\n"
     ]
    },
    {
     "name": "stdout",
     "output_type": "stream",
     "text": [
      "Epoch-3, Loss-1.079456090927124\n"
     ]
    },
    {
     "name": "stderr",
     "output_type": "stream",
     "text": [
      "100%|██████████| 25/25 [00:09<00:00,  2.77it/s]\n"
     ]
    },
    {
     "name": "stdout",
     "output_type": "stream",
     "text": [
      "Epoch-4, Loss-1.286878228187561\n"
     ]
    },
    {
     "name": "stderr",
     "output_type": "stream",
     "text": [
      "100%|██████████| 25/25 [00:09<00:00,  2.77it/s]\n"
     ]
    },
    {
     "name": "stdout",
     "output_type": "stream",
     "text": [
      "Epoch-5, Loss-0.5735052824020386\n"
     ]
    },
    {
     "name": "stderr",
     "output_type": "stream",
     "text": [
      "100%|██████████| 25/25 [00:09<00:00,  2.76it/s]\n"
     ]
    },
    {
     "name": "stdout",
     "output_type": "stream",
     "text": [
      "Epoch-6, Loss-0.3583522439002991\n"
     ]
    },
    {
     "name": "stderr",
     "output_type": "stream",
     "text": [
      "100%|██████████| 25/25 [00:09<00:00,  2.77it/s]\n"
     ]
    },
    {
     "name": "stdout",
     "output_type": "stream",
     "text": [
      "Epoch-7, Loss-0.056274015456438065\n"
     ]
    },
    {
     "name": "stderr",
     "output_type": "stream",
     "text": [
      "100%|██████████| 25/25 [00:09<00:00,  2.77it/s]\n"
     ]
    },
    {
     "name": "stdout",
     "output_type": "stream",
     "text": [
      "Epoch-8, Loss-0.0479782372713089\n"
     ]
    },
    {
     "name": "stderr",
     "output_type": "stream",
     "text": [
      "100%|██████████| 25/25 [00:09<00:00,  2.77it/s]\n"
     ]
    },
    {
     "name": "stdout",
     "output_type": "stream",
     "text": [
      "Epoch-9, Loss-0.0164398942142725\n"
     ]
    }
   ],
   "source": [
    "from tqdm import tqdm\n",
    "\n",
    "for epoch in range(10):  # You can adjust the number of epochs\n",
    "    model.train()\n",
    "    for batch_input_ids, batch_attention_mask,batch_labels in tqdm(train_loader):\n",
    "        optimizer.zero_grad()\n",
    "        logits = model(batch_input_ids.to(device), batch_attention_mask.to(device))\n",
    "        loss = criterion(logits, batch_labels.to(device))\n",
    "        loss.backward()\n",
    "        optimizer.step()\n",
    "    print(\"Epoch-{}, Loss-{}\".format(epoch,loss.item()))"
   ]
  },
  {
   "cell_type": "markdown",
   "id": "dd98d0e5",
   "metadata": {
    "papermill": {
     "duration": 0.04621,
     "end_time": "2023-08-09T17:33:35.335678",
     "exception": false,
     "start_time": "2023-08-09T17:33:35.289468",
     "status": "completed"
    },
    "tags": []
   },
   "source": [
    "\n",
    "<div style=\"background-color:#F0E3D2; color:#19180F; font-size:15px; font-family:Verdana; padding:10px; border: 2px solid #19180F; border-radius:10px\"> \n",
    "📌\n",
    "Generate predictions on test data   </div>"
   ]
  },
  {
   "cell_type": "code",
   "execution_count": 37,
   "id": "74a1a459",
   "metadata": {
    "execution": {
     "iopub.execute_input": "2023-08-09T17:33:35.430453Z",
     "iopub.status.busy": "2023-08-09T17:33:35.429707Z",
     "iopub.status.idle": "2023-08-09T17:33:35.434881Z",
     "shell.execute_reply": "2023-08-09T17:33:35.433989Z"
    },
    "papermill": {
     "duration": 0.055296,
     "end_time": "2023-08-09T17:33:35.436981",
     "exception": false,
     "start_time": "2023-08-09T17:33:35.381685",
     "status": "completed"
    },
    "tags": []
   },
   "outputs": [],
   "source": [
    "test_dataset = CustomDataset(test_df, tokenizer,mode=\"test\")\n",
    "test_loader = DataLoader(test_dataset, batch_size=32, shuffle=False)\n"
   ]
  },
  {
   "cell_type": "markdown",
   "id": "4a0cd649",
   "metadata": {
    "papermill": {
     "duration": 0.04545,
     "end_time": "2023-08-09T17:33:35.528127",
     "exception": false,
     "start_time": "2023-08-09T17:33:35.482677",
     "status": "completed"
    },
    "tags": []
   },
   "source": [
    "\n",
    "<div style=\"background-color:#F0E3D2; color:#19180F; font-size:15px; font-family:Verdana; padding:10px; border: 2px solid #19180F; border-radius:10px\"> \n",
    "📌\n",
    "Putting model to eval mode   </div>"
   ]
  },
  {
   "cell_type": "code",
   "execution_count": 38,
   "id": "df25e5a7",
   "metadata": {
    "execution": {
     "iopub.execute_input": "2023-08-09T17:33:35.624432Z",
     "iopub.status.busy": "2023-08-09T17:33:35.622901Z",
     "iopub.status.idle": "2023-08-09T17:33:35.631376Z",
     "shell.execute_reply": "2023-08-09T17:33:35.630472Z"
    },
    "papermill": {
     "duration": 0.058437,
     "end_time": "2023-08-09T17:33:35.633381",
     "exception": false,
     "start_time": "2023-08-09T17:33:35.574944",
     "status": "completed"
    },
    "tags": []
   },
   "outputs": [],
   "source": [
    "model.eval()\n",
    "predictions = []"
   ]
  },
  {
   "cell_type": "markdown",
   "id": "8e14b39b",
   "metadata": {
    "papermill": {
     "duration": 0.045772,
     "end_time": "2023-08-09T17:33:35.725293",
     "exception": false,
     "start_time": "2023-08-09T17:33:35.679521",
     "status": "completed"
    },
    "tags": []
   },
   "source": [
    "\n",
    "<div style=\"background-color:#F0E3D2; color:#19180F; font-size:15px; font-family:Verdana; padding:10px; border: 2px solid #19180F; border-radius:10px\"> \n",
    "📌\n",
    "Generating predictions  </div>"
   ]
  },
  {
   "cell_type": "code",
   "execution_count": 39,
   "id": "1ce2e60f",
   "metadata": {
    "execution": {
     "iopub.execute_input": "2023-08-09T17:33:35.818910Z",
     "iopub.status.busy": "2023-08-09T17:33:35.818071Z",
     "iopub.status.idle": "2023-08-09T17:33:38.528474Z",
     "shell.execute_reply": "2023-08-09T17:33:38.527263Z"
    },
    "papermill": {
     "duration": 2.759247,
     "end_time": "2023-08-09T17:33:38.530659",
     "exception": false,
     "start_time": "2023-08-09T17:33:35.771412",
     "status": "completed"
    },
    "tags": []
   },
   "outputs": [
    {
     "name": "stderr",
     "output_type": "stream",
     "text": [
      "100%|██████████| 7/7 [00:02<00:00,  2.59it/s]\n"
     ]
    }
   ],
   "source": [
    "with torch.no_grad():\n",
    "    for batch_input_ids, batch_attention_mask in tqdm(test_loader):\n",
    "        logits = model(batch_input_ids.to(device), batch_attention_mask.to(device))\n",
    "        _, predicted = torch.topk(logits, 3, dim=1)\n",
    "        predictions.extend(predicted.tolist())\n"
   ]
  },
  {
   "cell_type": "code",
   "execution_count": 40,
   "id": "d4e90d75",
   "metadata": {
    "execution": {
     "iopub.execute_input": "2023-08-09T17:33:38.627647Z",
     "iopub.status.busy": "2023-08-09T17:33:38.626687Z",
     "iopub.status.idle": "2023-08-09T17:33:38.648321Z",
     "shell.execute_reply": "2023-08-09T17:33:38.647335Z"
    },
    "papermill": {
     "duration": 0.072167,
     "end_time": "2023-08-09T17:33:38.650461",
     "exception": false,
     "start_time": "2023-08-09T17:33:38.578294",
     "status": "completed"
    },
    "tags": []
   },
   "outputs": [
    {
     "data": {
      "text/plain": [
       "[[3, 1, 4],\n",
       " [0, 3, 4],\n",
       " [0, 2, 4],\n",
       " [2, 4, 0],\n",
       " [3, 1, 0],\n",
       " [1, 0, 3],\n",
       " [0, 3, 1],\n",
       " [3, 4, 1],\n",
       " [2, 4, 0],\n",
       " [0, 4, 2],\n",
       " [4, 3, 1],\n",
       " [0, 4, 3],\n",
       " [2, 0, 1],\n",
       " [3, 4, 1],\n",
       " [1, 3, 2],\n",
       " [1, 2, 4],\n",
       " [4, 3, 1],\n",
       " [4, 3, 1],\n",
       " [0, 1, 4],\n",
       " [4, 3, 1],\n",
       " [3, 4, 0],\n",
       " [3, 4, 0],\n",
       " [2, 1, 0],\n",
       " [2, 0, 4],\n",
       " [4, 3, 0],\n",
       " [4, 3, 0],\n",
       " [0, 4, 2],\n",
       " [3, 1, 4],\n",
       " [4, 3, 2],\n",
       " [2, 0, 3],\n",
       " [1, 0, 4],\n",
       " [4, 0, 3],\n",
       " [4, 3, 0],\n",
       " [3, 4, 2],\n",
       " [2, 0, 3],\n",
       " [1, 0, 3],\n",
       " [4, 2, 0],\n",
       " [0, 4, 2],\n",
       " [4, 0, 1],\n",
       " [4, 1, 3],\n",
       " [4, 1, 3],\n",
       " [2, 1, 0],\n",
       " [1, 4, 3],\n",
       " [2, 0, 4],\n",
       " [0, 1, 2],\n",
       " [0, 4, 2],\n",
       " [1, 0, 4],\n",
       " [2, 4, 1],\n",
       " [3, 4, 0],\n",
       " [1, 4, 2],\n",
       " [1, 0, 2],\n",
       " [4, 1, 0],\n",
       " [2, 3, 0],\n",
       " [0, 1, 2],\n",
       " [1, 4, 0],\n",
       " [1, 3, 4],\n",
       " [2, 0, 4],\n",
       " [2, 4, 0],\n",
       " [3, 4, 0],\n",
       " [0, 4, 2],\n",
       " [1, 3, 0],\n",
       " [1, 4, 3],\n",
       " [2, 0, 4],\n",
       " [2, 0, 1],\n",
       " [0, 4, 1],\n",
       " [4, 3, 0],\n",
       " [2, 0, 4],\n",
       " [4, 1, 3],\n",
       " [2, 0, 4],\n",
       " [3, 1, 4],\n",
       " [2, 4, 3],\n",
       " [0, 4, 3],\n",
       " [3, 1, 4],\n",
       " [1, 4, 3],\n",
       " [3, 4, 1],\n",
       " [1, 0, 4],\n",
       " [3, 4, 0],\n",
       " [1, 3, 2],\n",
       " [2, 0, 4],\n",
       " [4, 0, 1],\n",
       " [2, 4, 3],\n",
       " [0, 4, 3],\n",
       " [1, 4, 3],\n",
       " [0, 4, 2],\n",
       " [2, 0, 4],\n",
       " [3, 4, 1],\n",
       " [3, 4, 1],\n",
       " [1, 4, 0],\n",
       " [4, 1, 0],\n",
       " [3, 4, 0],\n",
       " [1, 2, 0],\n",
       " [1, 0, 2],\n",
       " [1, 3, 4],\n",
       " [4, 0, 3],\n",
       " [4, 3, 1],\n",
       " [2, 0, 4],\n",
       " [2, 0, 4],\n",
       " [3, 4, 1],\n",
       " [3, 4, 0],\n",
       " [3, 4, 1],\n",
       " [3, 4, 0],\n",
       " [1, 3, 0],\n",
       " [2, 3, 0],\n",
       " [1, 4, 2],\n",
       " [2, 0, 4],\n",
       " [3, 1, 4],\n",
       " [0, 4, 1],\n",
       " [3, 4, 0],\n",
       " [0, 4, 1],\n",
       " [3, 4, 0],\n",
       " [2, 4, 0],\n",
       " [3, 4, 1],\n",
       " [0, 4, 2],\n",
       " [1, 0, 4],\n",
       " [3, 4, 0],\n",
       " [4, 3, 1],\n",
       " [1, 3, 0],\n",
       " [2, 0, 1],\n",
       " [3, 4, 0],\n",
       " [0, 4, 2],\n",
       " [0, 1, 2],\n",
       " [2, 0, 4],\n",
       " [1, 4, 3],\n",
       " [0, 1, 2],\n",
       " [1, 0, 2],\n",
       " [3, 4, 0],\n",
       " [1, 4, 3],\n",
       " [2, 0, 4],\n",
       " [4, 1, 2],\n",
       " [4, 0, 3],\n",
       " [0, 2, 3],\n",
       " [2, 0, 4],\n",
       " [4, 1, 2],\n",
       " [1, 2, 0],\n",
       " [2, 0, 4],\n",
       " [4, 1, 0],\n",
       " [4, 1, 0],\n",
       " [3, 1, 0],\n",
       " [0, 1, 3],\n",
       " [0, 2, 1],\n",
       " [2, 0, 4],\n",
       " [4, 1, 0],\n",
       " [1, 0, 4],\n",
       " [0, 2, 4],\n",
       " [2, 3, 4],\n",
       " [1, 2, 4],\n",
       " [1, 3, 4],\n",
       " [2, 0, 1],\n",
       " [1, 2, 3],\n",
       " [1, 3, 0],\n",
       " [1, 0, 4],\n",
       " [3, 4, 1],\n",
       " [0, 2, 4],\n",
       " [0, 1, 2],\n",
       " [1, 0, 4],\n",
       " [4, 3, 1],\n",
       " [3, 4, 2],\n",
       " [2, 0, 1],\n",
       " [0, 4, 1],\n",
       " [0, 2, 3],\n",
       " [0, 1, 3],\n",
       " [4, 0, 3],\n",
       " [1, 4, 3],\n",
       " [1, 0, 3],\n",
       " [2, 0, 3],\n",
       " [3, 4, 1],\n",
       " [1, 2, 0],\n",
       " [3, 4, 0],\n",
       " [4, 0, 1],\n",
       " [0, 3, 4],\n",
       " [1, 0, 4],\n",
       " [4, 0, 1],\n",
       " [1, 3, 0],\n",
       " [2, 0, 3],\n",
       " [1, 2, 4],\n",
       " [4, 1, 3],\n",
       " [3, 4, 1],\n",
       " [3, 4, 0],\n",
       " [2, 0, 4],\n",
       " [2, 0, 1],\n",
       " [1, 4, 0],\n",
       " [0, 4, 2],\n",
       " [0, 4, 2],\n",
       " [2, 0, 3],\n",
       " [0, 3, 1],\n",
       " [0, 4, 1],\n",
       " [2, 0, 1],\n",
       " [0, 4, 2],\n",
       " [3, 0, 4],\n",
       " [1, 3, 2],\n",
       " [4, 0, 1],\n",
       " [2, 1, 0],\n",
       " [1, 2, 4],\n",
       " [1, 2, 4],\n",
       " [3, 4, 2],\n",
       " [2, 0, 3],\n",
       " [1, 0, 4],\n",
       " [1, 4, 0],\n",
       " [3, 4, 0],\n",
       " [2, 0, 4]]"
      ]
     },
     "execution_count": 40,
     "metadata": {},
     "output_type": "execute_result"
    }
   ],
   "source": [
    "predictions"
   ]
  },
  {
   "cell_type": "markdown",
   "id": "a5a47a3c",
   "metadata": {
    "papermill": {
     "duration": 0.046723,
     "end_time": "2023-08-09T17:33:38.744412",
     "exception": false,
     "start_time": "2023-08-09T17:33:38.697689",
     "status": "completed"
    },
    "tags": []
   },
   "source": [
    "\n",
    "<div style=\"background-color:#F0E3D2; color:#19180F; font-size:15px; font-family:Verdana; padding:10px; border: 2px solid #19180F; border-radius:10px\"> \n",
    "📌\n",
    "Creating submission file   </div>"
   ]
  },
  {
   "cell_type": "code",
   "execution_count": 41,
   "id": "fd912b49",
   "metadata": {
    "execution": {
     "iopub.execute_input": "2023-08-09T17:33:38.839765Z",
     "iopub.status.busy": "2023-08-09T17:33:38.839476Z",
     "iopub.status.idle": "2023-08-09T17:33:38.849083Z",
     "shell.execute_reply": "2023-08-09T17:33:38.847954Z"
    },
    "papermill": {
     "duration": 0.059776,
     "end_time": "2023-08-09T17:33:38.851456",
     "exception": false,
     "start_time": "2023-08-09T17:33:38.791680",
     "status": "completed"
    },
    "tags": []
   },
   "outputs": [],
   "source": [
    "submission_df = pd.DataFrame({'id': test_df.index, 'prediction': predictions})\n",
    "submission_df['prediction'] = submission_df['prediction'].apply(lambda x: ' '.join([chr(ord('A') + idx) for idx in x]))\n",
    "submission_df.to_csv('submission.csv', index=False)"
   ]
  },
  {
   "cell_type": "code",
   "execution_count": 42,
   "id": "18b39f87",
   "metadata": {
    "execution": {
     "iopub.execute_input": "2023-08-09T17:33:38.947769Z",
     "iopub.status.busy": "2023-08-09T17:33:38.946997Z",
     "iopub.status.idle": "2023-08-09T17:33:38.957986Z",
     "shell.execute_reply": "2023-08-09T17:33:38.956928Z"
    },
    "papermill": {
     "duration": 0.060934,
     "end_time": "2023-08-09T17:33:38.960146",
     "exception": false,
     "start_time": "2023-08-09T17:33:38.899212",
     "status": "completed"
    },
    "tags": []
   },
   "outputs": [
    {
     "data": {
      "text/html": [
       "<div>\n",
       "<style scoped>\n",
       "    .dataframe tbody tr th:only-of-type {\n",
       "        vertical-align: middle;\n",
       "    }\n",
       "\n",
       "    .dataframe tbody tr th {\n",
       "        vertical-align: top;\n",
       "    }\n",
       "\n",
       "    .dataframe thead th {\n",
       "        text-align: right;\n",
       "    }\n",
       "</style>\n",
       "<table border=\"1\" class=\"dataframe\">\n",
       "  <thead>\n",
       "    <tr style=\"text-align: right;\">\n",
       "      <th></th>\n",
       "      <th>id</th>\n",
       "      <th>prediction</th>\n",
       "    </tr>\n",
       "  </thead>\n",
       "  <tbody>\n",
       "    <tr>\n",
       "      <th>0</th>\n",
       "      <td>0</td>\n",
       "      <td>D B E</td>\n",
       "    </tr>\n",
       "    <tr>\n",
       "      <th>1</th>\n",
       "      <td>1</td>\n",
       "      <td>A D E</td>\n",
       "    </tr>\n",
       "    <tr>\n",
       "      <th>2</th>\n",
       "      <td>2</td>\n",
       "      <td>A C E</td>\n",
       "    </tr>\n",
       "    <tr>\n",
       "      <th>3</th>\n",
       "      <td>3</td>\n",
       "      <td>C E A</td>\n",
       "    </tr>\n",
       "    <tr>\n",
       "      <th>4</th>\n",
       "      <td>4</td>\n",
       "      <td>D B A</td>\n",
       "    </tr>\n",
       "    <tr>\n",
       "      <th>...</th>\n",
       "      <td>...</td>\n",
       "      <td>...</td>\n",
       "    </tr>\n",
       "    <tr>\n",
       "      <th>195</th>\n",
       "      <td>195</td>\n",
       "      <td>C A D</td>\n",
       "    </tr>\n",
       "    <tr>\n",
       "      <th>196</th>\n",
       "      <td>196</td>\n",
       "      <td>B A E</td>\n",
       "    </tr>\n",
       "    <tr>\n",
       "      <th>197</th>\n",
       "      <td>197</td>\n",
       "      <td>B E A</td>\n",
       "    </tr>\n",
       "    <tr>\n",
       "      <th>198</th>\n",
       "      <td>198</td>\n",
       "      <td>D E A</td>\n",
       "    </tr>\n",
       "    <tr>\n",
       "      <th>199</th>\n",
       "      <td>199</td>\n",
       "      <td>C A E</td>\n",
       "    </tr>\n",
       "  </tbody>\n",
       "</table>\n",
       "<p>200 rows × 2 columns</p>\n",
       "</div>"
      ],
      "text/plain": [
       "      id prediction\n",
       "0      0      D B E\n",
       "1      1      A D E\n",
       "2      2      A C E\n",
       "3      3      C E A\n",
       "4      4      D B A\n",
       "..   ...        ...\n",
       "195  195      C A D\n",
       "196  196      B A E\n",
       "197  197      B E A\n",
       "198  198      D E A\n",
       "199  199      C A E\n",
       "\n",
       "[200 rows x 2 columns]"
      ]
     },
     "execution_count": 42,
     "metadata": {},
     "output_type": "execute_result"
    }
   ],
   "source": [
    "submission_df"
   ]
  },
  {
   "cell_type": "markdown",
   "id": "124a997c",
   "metadata": {
    "papermill": {
     "duration": 0.047972,
     "end_time": "2023-08-09T17:33:39.058794",
     "exception": false,
     "start_time": "2023-08-09T17:33:39.010822",
     "status": "completed"
    },
    "tags": []
   },
   "source": [
    "<div style=\"background-color:#D5D9F2; color:#19180F; font-size:15px; font-family:Arial; padding:10px; border: 5px solid #19180F; border-radius:10px\">  \n",
    "📌\n",
    "<b> Using T5 </b>:\n",
    "<br>\n",
    "📌 To know more about T5, Visit the <a href=\"https://www.kaggle.com/code/suraj520/t5-multi-gpu-know-train-infer\"> kernel </a>\n",
    "</div>"
   ]
  },
  {
   "cell_type": "markdown",
   "id": "e9915ad8",
   "metadata": {
    "papermill": {
     "duration": 0.047308,
     "end_time": "2023-08-09T17:33:39.157670",
     "exception": false,
     "start_time": "2023-08-09T17:33:39.110362",
     "status": "completed"
    },
    "tags": []
   },
   "source": [
    "\n",
    "<div style=\"background-color:#F0E3D2; color:#19180F; font-size:15px; font-family:Verdana; padding:10px; border: 2px solid #19180F; border-radius:10px\"> \n",
    "📌\n",
    "Importing modules  </div>"
   ]
  },
  {
   "cell_type": "code",
   "execution_count": 43,
   "id": "d3341323",
   "metadata": {
    "execution": {
     "iopub.execute_input": "2023-08-09T17:33:39.254700Z",
     "iopub.status.busy": "2023-08-09T17:33:39.254359Z",
     "iopub.status.idle": "2023-08-09T17:33:39.265660Z",
     "shell.execute_reply": "2023-08-09T17:33:39.264804Z"
    },
    "papermill": {
     "duration": 0.06265,
     "end_time": "2023-08-09T17:33:39.267892",
     "exception": false,
     "start_time": "2023-08-09T17:33:39.205242",
     "status": "completed"
    },
    "tags": []
   },
   "outputs": [],
   "source": [
    "import pandas as pd\n",
    "import torch\n",
    "import torch.nn as nn\n",
    "from torch.utils.data import Dataset, DataLoader\n",
    "from transformers import T5Tokenizer, T5ForConditionalGeneration\n",
    "import os"
   ]
  },
  {
   "cell_type": "markdown",
   "id": "39acdcaf",
   "metadata": {
    "papermill": {
     "duration": 0.047282,
     "end_time": "2023-08-09T17:33:39.363208",
     "exception": false,
     "start_time": "2023-08-09T17:33:39.315926",
     "status": "completed"
    },
    "tags": []
   },
   "source": [
    "\n",
    "<div style=\"background-color:#F0E3D2; color:#19180F; font-size:15px; font-family:Verdana; padding:10px; border: 2px solid #19180F; border-radius:10px\"> \n",
    "📌\n",
    "Defining T5 model class for QnA  </div>"
   ]
  },
  {
   "cell_type": "code",
   "execution_count": 44,
   "id": "017ec253",
   "metadata": {
    "execution": {
     "iopub.execute_input": "2023-08-09T17:33:39.461888Z",
     "iopub.status.busy": "2023-08-09T17:33:39.461067Z",
     "iopub.status.idle": "2023-08-09T17:33:39.467641Z",
     "shell.execute_reply": "2023-08-09T17:33:39.466791Z"
    },
    "papermill": {
     "duration": 0.058619,
     "end_time": "2023-08-09T17:33:39.469686",
     "exception": false,
     "start_time": "2023-08-09T17:33:39.411067",
     "status": "completed"
    },
    "tags": []
   },
   "outputs": [],
   "source": [
    "class T5ForQuestionAnswering(nn.Module):\n",
    "    def __init__(self, t5_model):\n",
    "        super(T5ForQuestionAnswering, self).__init__()\n",
    "        self.t5 = t5_model\n",
    "\n",
    "    def forward(self, input_ids, attention_mask=None, decoder_input_ids=None, labels=None):\n",
    "        outputs = self.t5(input_ids=input_ids, attention_mask=attention_mask, decoder_input_ids=decoder_input_ids, labels=labels)\n",
    "        return outputs.loss, outputs.logits"
   ]
  },
  {
   "cell_type": "markdown",
   "id": "e9194809",
   "metadata": {
    "papermill": {
     "duration": 0.047594,
     "end_time": "2023-08-09T17:33:39.564710",
     "exception": false,
     "start_time": "2023-08-09T17:33:39.517116",
     "status": "completed"
    },
    "tags": []
   },
   "source": [
    "\n",
    "<div style=\"background-color:#F0E3D2; color:#19180F; font-size:15px; font-family:Verdana; padding:10px; border: 2px solid #19180F; border-radius:10px\"> \n",
    "📌\n",
    "Loading the data </div>"
   ]
  },
  {
   "cell_type": "code",
   "execution_count": 45,
   "id": "a701d6b4",
   "metadata": {
    "execution": {
     "iopub.execute_input": "2023-08-09T17:33:39.663925Z",
     "iopub.status.busy": "2023-08-09T17:33:39.663046Z",
     "iopub.status.idle": "2023-08-09T17:33:39.679044Z",
     "shell.execute_reply": "2023-08-09T17:33:39.678177Z"
    },
    "papermill": {
     "duration": 0.067482,
     "end_time": "2023-08-09T17:33:39.681126",
     "exception": false,
     "start_time": "2023-08-09T17:33:39.613644",
     "status": "completed"
    },
    "tags": []
   },
   "outputs": [],
   "source": [
    "train_df = pd.read_csv(\"/kaggle/input/kaggle-llm-science-exam/train.csv\")\n",
    "test_df = pd.read_csv(\"/kaggle/input/kaggle-llm-science-exam/test.csv\")\n"
   ]
  },
  {
   "cell_type": "code",
   "execution_count": 46,
   "id": "33647dfc",
   "metadata": {
    "_kg_hide-input": true,
    "execution": {
     "iopub.execute_input": "2023-08-09T17:33:39.778229Z",
     "iopub.status.busy": "2023-08-09T17:33:39.777274Z",
     "iopub.status.idle": "2023-08-09T17:33:39.782077Z",
     "shell.execute_reply": "2023-08-09T17:33:39.781158Z"
    },
    "papermill": {
     "duration": 0.055731,
     "end_time": "2023-08-09T17:33:39.784058",
     "exception": false,
     "start_time": "2023-08-09T17:33:39.728327",
     "status": "completed"
    },
    "tags": []
   },
   "outputs": [],
   "source": [
    "# # Define paths for saving and loading\n",
    "# save_path = \"/kaggle/working/t5_model\"\n",
    "# if not os.path.exists(save_path):\n",
    "#     os.makedirs(save_path)\n",
    "\n",
    "# # Save tokenizer and model\n",
    "# tokenizer.save_pretrained(save_path)\n",
    "# t5_model.save_pretrained(save_path)"
   ]
  },
  {
   "cell_type": "markdown",
   "id": "119b60ee",
   "metadata": {
    "papermill": {
     "duration": 0.049654,
     "end_time": "2023-08-09T17:33:39.881130",
     "exception": false,
     "start_time": "2023-08-09T17:33:39.831476",
     "status": "completed"
    },
    "tags": []
   },
   "source": [
    "\n",
    "<div style=\"background-color:#F0E3D2; color:#19180F; font-size:15px; font-family:Verdana; padding:10px; border: 2px solid #19180F; border-radius:10px\"> \n",
    "📌\n",
    "Loading the tokenizer and model </div>"
   ]
  },
  {
   "cell_type": "code",
   "execution_count": 47,
   "id": "01d049c7",
   "metadata": {
    "execution": {
     "iopub.execute_input": "2023-08-09T17:33:39.977945Z",
     "iopub.status.busy": "2023-08-09T17:33:39.977102Z",
     "iopub.status.idle": "2023-08-09T17:33:43.002042Z",
     "shell.execute_reply": "2023-08-09T17:33:43.000916Z"
    },
    "papermill": {
     "duration": 3.075983,
     "end_time": "2023-08-09T17:33:43.004526",
     "exception": false,
     "start_time": "2023-08-09T17:33:39.928543",
     "status": "completed"
    },
    "tags": []
   },
   "outputs": [],
   "source": [
    "tokenizer = T5Tokenizer.from_pretrained(\"/kaggle/input/t5-model\")\n",
    "t5_model = T5ForConditionalGeneration.from_pretrained(\"/kaggle/input/t5-model\")\n",
    "\n",
    "\n"
   ]
  },
  {
   "cell_type": "markdown",
   "id": "2a909d9a",
   "metadata": {
    "papermill": {
     "duration": 0.047647,
     "end_time": "2023-08-09T17:33:43.101766",
     "exception": false,
     "start_time": "2023-08-09T17:33:43.054119",
     "status": "completed"
    },
    "tags": []
   },
   "source": [
    "\n",
    "<div style=\"background-color:#F0E3D2; color:#19180F; font-size:15px; font-family:Verdana; padding:10px; border: 2px solid #19180F; border-radius:10px\"> \n",
    "📌\n",
    "Initializing the device and model  </div>"
   ]
  },
  {
   "cell_type": "code",
   "execution_count": 48,
   "id": "cfba90ae",
   "metadata": {
    "execution": {
     "iopub.execute_input": "2023-08-09T17:33:43.198336Z",
     "iopub.status.busy": "2023-08-09T17:33:43.197992Z",
     "iopub.status.idle": "2023-08-09T17:33:43.278603Z",
     "shell.execute_reply": "2023-08-09T17:33:43.277676Z"
    },
    "papermill": {
     "duration": 0.131273,
     "end_time": "2023-08-09T17:33:43.280774",
     "exception": false,
     "start_time": "2023-08-09T17:33:43.149501",
     "status": "completed"
    },
    "tags": []
   },
   "outputs": [],
   "source": [
    "device = torch.device(\"cuda\" if torch.cuda.is_available() else \"cpu\")\n",
    "model = T5ForQuestionAnswering(t5_model).to(device)"
   ]
  },
  {
   "cell_type": "markdown",
   "id": "9c50d55d",
   "metadata": {
    "papermill": {
     "duration": 0.04741,
     "end_time": "2023-08-09T17:33:43.377315",
     "exception": false,
     "start_time": "2023-08-09T17:33:43.329905",
     "status": "completed"
    },
    "tags": []
   },
   "source": [
    "\n",
    "<div style=\"background-color:#F0E3D2; color:#19180F; font-size:15px; font-family:Verdana; padding:10px; border: 2px solid #19180F; border-radius:10px\"> \n",
    "📌\n",
    "Creating custom dataset class  </div>"
   ]
  },
  {
   "cell_type": "code",
   "execution_count": 49,
   "id": "82764c9c",
   "metadata": {
    "execution": {
     "iopub.execute_input": "2023-08-09T17:33:43.475041Z",
     "iopub.status.busy": "2023-08-09T17:33:43.474716Z",
     "iopub.status.idle": "2023-08-09T17:33:43.484655Z",
     "shell.execute_reply": "2023-08-09T17:33:43.483618Z"
    },
    "papermill": {
     "duration": 0.061021,
     "end_time": "2023-08-09T17:33:43.487060",
     "exception": false,
     "start_time": "2023-08-09T17:33:43.426039",
     "status": "completed"
    },
    "tags": []
   },
   "outputs": [],
   "source": [
    "class CustomDataset(Dataset):\n",
    "    def __init__(self, data_df, tokenizer, max_length=128, mode=\"train\"):\n",
    "        self.data_df = data_df\n",
    "        self.tokenizer = tokenizer\n",
    "        self.max_length = max_length\n",
    "        self.mode = mode\n",
    "\n",
    "    def __len__(self):\n",
    "        return len(self.data_df)\n",
    "\n",
    "    def __getitem__(self, idx):\n",
    "        row = self.data_df.iloc[idx]\n",
    "        prompt = row['prompt']\n",
    "        options = [row['A'], row['B'], row['C'], row['D'], row['E']]\n",
    "        if self.mode == \"train\":\n",
    "            answer = row['answer']\n",
    "\n",
    "        input_text = f\"question: {prompt} options: {', '.join(options)}\"\n",
    "        target_text = f\"answer: {answer}\" if self.mode == \"train\" else \"\"\n",
    "\n",
    "        inputs = self.tokenizer(input_text, padding='max_length', truncation=True, max_length=self.max_length, return_tensors='pt', return_attention_mask=True)\n",
    "        input_ids = inputs['input_ids'].squeeze()\n",
    "        attention_mask = inputs['attention_mask'].squeeze()\n",
    "\n",
    "        if self.mode == \"train\":\n",
    "            target = self.tokenizer(target_text, padding='max_length', truncation=True, max_length=self.max_length, return_tensors='pt', return_attention_mask=True)\n",
    "            target_ids = target['input_ids'].squeeze()\n",
    "            target_attention_mask = target['attention_mask'].squeeze()\n",
    "            return input_ids, attention_mask, target_ids, target_attention_mask\n",
    "        else:\n",
    "            return input_ids, attention_mask\n"
   ]
  },
  {
   "cell_type": "markdown",
   "id": "e14b2744",
   "metadata": {
    "papermill": {
     "duration": 0.047823,
     "end_time": "2023-08-09T17:33:43.582817",
     "exception": false,
     "start_time": "2023-08-09T17:33:43.534994",
     "status": "completed"
    },
    "tags": []
   },
   "source": [
    "\n",
    "<div style=\"background-color:#F0E3D2; color:#19180F; font-size:15px; font-family:Verdana; padding:10px; border: 2px solid #19180F; border-radius:10px\"> \n",
    "📌\n",
    "Creating dataset and dataloader  </div>"
   ]
  },
  {
   "cell_type": "code",
   "execution_count": 50,
   "id": "1f5fcaec",
   "metadata": {
    "execution": {
     "iopub.execute_input": "2023-08-09T17:33:43.680921Z",
     "iopub.status.busy": "2023-08-09T17:33:43.680590Z",
     "iopub.status.idle": "2023-08-09T17:33:43.686423Z",
     "shell.execute_reply": "2023-08-09T17:33:43.685531Z"
    },
    "papermill": {
     "duration": 0.056523,
     "end_time": "2023-08-09T17:33:43.688621",
     "exception": false,
     "start_time": "2023-08-09T17:33:43.632098",
     "status": "completed"
    },
    "tags": []
   },
   "outputs": [],
   "source": [
    "train_dataset = CustomDataset(train_df, tokenizer,mode=\"train\")\n",
    "train_loader = DataLoader(train_dataset, batch_size=8, shuffle=True)\n"
   ]
  },
  {
   "cell_type": "markdown",
   "id": "69e06426",
   "metadata": {
    "papermill": {
     "duration": 0.047361,
     "end_time": "2023-08-09T17:33:43.783202",
     "exception": false,
     "start_time": "2023-08-09T17:33:43.735841",
     "status": "completed"
    },
    "tags": []
   },
   "source": [
    "\n",
    "<div style=\"background-color:#F0E3D2; color:#19180F; font-size:15px; font-family:Verdana; padding:10px; border: 2px solid #19180F; border-radius:10px\"> \n",
    "📌\n",
    "Performing sanity check of the dataloader </div>"
   ]
  },
  {
   "cell_type": "code",
   "execution_count": 51,
   "id": "2f0e29a9",
   "metadata": {
    "execution": {
     "iopub.execute_input": "2023-08-09T17:33:43.884300Z",
     "iopub.status.busy": "2023-08-09T17:33:43.884006Z",
     "iopub.status.idle": "2023-08-09T17:33:43.910218Z",
     "shell.execute_reply": "2023-08-09T17:33:43.909255Z"
    },
    "papermill": {
     "duration": 0.081884,
     "end_time": "2023-08-09T17:33:43.912399",
     "exception": false,
     "start_time": "2023-08-09T17:33:43.830515",
     "status": "completed"
    },
    "tags": []
   },
   "outputs": [
    {
     "name": "stdout",
     "output_type": "stream",
     "text": [
      "[tensor([[  822,    10,   363,  ...,     8, 10951,     1],\n",
      "        [  822,    10,   363,  ...,  5932,    19,     1],\n",
      "        [  822,    10,   363,  ...,     5,     6,     1],\n",
      "        ...,\n",
      "        [  822,    10,   363,  ...,     0,     0,     0],\n",
      "        [  822,    10,   363,  ...,  1181,    51,     1],\n",
      "        [  822,    10,   363,  ...,   295,    23,     1]]), tensor([[1, 1, 1,  ..., 1, 1, 1],\n",
      "        [1, 1, 1,  ..., 1, 1, 1],\n",
      "        [1, 1, 1,  ..., 1, 1, 1],\n",
      "        ...,\n",
      "        [1, 1, 1,  ..., 0, 0, 0],\n",
      "        [1, 1, 1,  ..., 1, 1, 1],\n",
      "        [1, 1, 1,  ..., 1, 1, 1]]), tensor([[1525,   10,  272,  ...,    0,    0,    0],\n",
      "        [1525,   10,  205,  ...,    0,    0,    0],\n",
      "        [1525,   10,  205,  ...,    0,    0,    0],\n",
      "        ...,\n",
      "        [1525,   10,  205,  ...,    0,    0,    0],\n",
      "        [1525,   10,  309,  ...,    0,    0,    0],\n",
      "        [1525,   10,  262,  ...,    0,    0,    0]]), tensor([[1, 1, 1,  ..., 0, 0, 0],\n",
      "        [1, 1, 1,  ..., 0, 0, 0],\n",
      "        [1, 1, 1,  ..., 0, 0, 0],\n",
      "        ...,\n",
      "        [1, 1, 1,  ..., 0, 0, 0],\n",
      "        [1, 1, 1,  ..., 0, 0, 0],\n",
      "        [1, 1, 1,  ..., 0, 0, 0]])]\n"
     ]
    }
   ],
   "source": [
    "for batch in train_loader:\n",
    "    print(batch)\n",
    "    break\n"
   ]
  },
  {
   "cell_type": "markdown",
   "id": "52df287f",
   "metadata": {
    "papermill": {
     "duration": 0.048587,
     "end_time": "2023-08-09T17:33:44.009388",
     "exception": false,
     "start_time": "2023-08-09T17:33:43.960801",
     "status": "completed"
    },
    "tags": []
   },
   "source": [
    "\n",
    "<div style=\"background-color:#F0E3D2; color:#19180F; font-size:15px; font-family:Verdana; padding:10px; border: 2px solid #19180F; border-radius:10px\"> \n",
    "📌\n",
    "Defining optimizer and loss function </div>"
   ]
  },
  {
   "cell_type": "code",
   "execution_count": 52,
   "id": "62f6081e",
   "metadata": {
    "execution": {
     "iopub.execute_input": "2023-08-09T17:33:44.107094Z",
     "iopub.status.busy": "2023-08-09T17:33:44.105551Z",
     "iopub.status.idle": "2023-08-09T17:33:44.114611Z",
     "shell.execute_reply": "2023-08-09T17:33:44.113730Z"
    },
    "papermill": {
     "duration": 0.059216,
     "end_time": "2023-08-09T17:33:44.116675",
     "exception": false,
     "start_time": "2023-08-09T17:33:44.057459",
     "status": "completed"
    },
    "tags": []
   },
   "outputs": [],
   "source": [
    "optimizer = torch.optim.AdamW(model.parameters(), lr=2e-5)\n",
    "criterion = nn.CrossEntropyLoss()\n"
   ]
  },
  {
   "cell_type": "markdown",
   "id": "91920cb1",
   "metadata": {
    "papermill": {
     "duration": 0.047325,
     "end_time": "2023-08-09T17:33:44.211017",
     "exception": false,
     "start_time": "2023-08-09T17:33:44.163692",
     "status": "completed"
    },
    "tags": []
   },
   "source": [
    "\n",
    "<div style=\"background-color:#F0E3D2; color:#19180F; font-size:15px; font-family:Verdana; padding:10px; border: 2px solid #19180F; border-radius:10px\"> \n",
    "📌\n",
    "Training loop </div>"
   ]
  },
  {
   "cell_type": "code",
   "execution_count": 53,
   "id": "e54c9d4a",
   "metadata": {
    "execution": {
     "iopub.execute_input": "2023-08-09T17:33:44.308105Z",
     "iopub.status.busy": "2023-08-09T17:33:44.307277Z",
     "iopub.status.idle": "2023-08-09T17:36:00.688671Z",
     "shell.execute_reply": "2023-08-09T17:36:00.687678Z"
    },
    "papermill": {
     "duration": 136.431889,
     "end_time": "2023-08-09T17:36:00.690900",
     "exception": false,
     "start_time": "2023-08-09T17:33:44.259011",
     "status": "completed"
    },
    "tags": []
   },
   "outputs": [
    {
     "name": "stderr",
     "output_type": "stream",
     "text": [
      "100%|██████████| 25/25 [00:02<00:00,  9.03it/s]\n"
     ]
    },
    {
     "name": "stdout",
     "output_type": "stream",
     "text": [
      "Epoch-0, Loss-7.996217250823975\n"
     ]
    },
    {
     "name": "stderr",
     "output_type": "stream",
     "text": [
      "100%|██████████| 25/25 [00:02<00:00,  9.26it/s]\n"
     ]
    },
    {
     "name": "stdout",
     "output_type": "stream",
     "text": [
      "Epoch-1, Loss-2.3192126750946045\n"
     ]
    },
    {
     "name": "stderr",
     "output_type": "stream",
     "text": [
      "100%|██████████| 25/25 [00:02<00:00,  9.20it/s]\n"
     ]
    },
    {
     "name": "stdout",
     "output_type": "stream",
     "text": [
      "Epoch-2, Loss-1.0868024826049805\n"
     ]
    },
    {
     "name": "stderr",
     "output_type": "stream",
     "text": [
      "100%|██████████| 25/25 [00:02<00:00,  9.30it/s]\n"
     ]
    },
    {
     "name": "stdout",
     "output_type": "stream",
     "text": [
      "Epoch-3, Loss-1.317693829536438\n"
     ]
    },
    {
     "name": "stderr",
     "output_type": "stream",
     "text": [
      "100%|██████████| 25/25 [00:02<00:00,  9.27it/s]\n"
     ]
    },
    {
     "name": "stdout",
     "output_type": "stream",
     "text": [
      "Epoch-4, Loss-1.0877790451049805\n"
     ]
    },
    {
     "name": "stderr",
     "output_type": "stream",
     "text": [
      "100%|██████████| 25/25 [00:02<00:00,  9.27it/s]\n"
     ]
    },
    {
     "name": "stdout",
     "output_type": "stream",
     "text": [
      "Epoch-5, Loss-0.7807299494743347\n"
     ]
    },
    {
     "name": "stderr",
     "output_type": "stream",
     "text": [
      "100%|██████████| 25/25 [00:02<00:00,  8.90it/s]\n"
     ]
    },
    {
     "name": "stdout",
     "output_type": "stream",
     "text": [
      "Epoch-6, Loss-0.8102726936340332\n"
     ]
    },
    {
     "name": "stderr",
     "output_type": "stream",
     "text": [
      "100%|██████████| 25/25 [00:02<00:00,  9.02it/s]\n"
     ]
    },
    {
     "name": "stdout",
     "output_type": "stream",
     "text": [
      "Epoch-7, Loss-0.5570944547653198\n"
     ]
    },
    {
     "name": "stderr",
     "output_type": "stream",
     "text": [
      "100%|██████████| 25/25 [00:02<00:00,  9.32it/s]\n"
     ]
    },
    {
     "name": "stdout",
     "output_type": "stream",
     "text": [
      "Epoch-8, Loss-0.5511786937713623\n"
     ]
    },
    {
     "name": "stderr",
     "output_type": "stream",
     "text": [
      "100%|██████████| 25/25 [00:02<00:00,  9.29it/s]\n"
     ]
    },
    {
     "name": "stdout",
     "output_type": "stream",
     "text": [
      "Epoch-9, Loss-0.3852970600128174\n"
     ]
    },
    {
     "name": "stderr",
     "output_type": "stream",
     "text": [
      "100%|██████████| 25/25 [00:02<00:00,  9.14it/s]\n"
     ]
    },
    {
     "name": "stdout",
     "output_type": "stream",
     "text": [
      "Epoch-10, Loss-0.37739986181259155\n"
     ]
    },
    {
     "name": "stderr",
     "output_type": "stream",
     "text": [
      "100%|██████████| 25/25 [00:02<00:00,  9.23it/s]\n"
     ]
    },
    {
     "name": "stdout",
     "output_type": "stream",
     "text": [
      "Epoch-11, Loss-0.2487795501947403\n"
     ]
    },
    {
     "name": "stderr",
     "output_type": "stream",
     "text": [
      "100%|██████████| 25/25 [00:02<00:00,  9.32it/s]\n"
     ]
    },
    {
     "name": "stdout",
     "output_type": "stream",
     "text": [
      "Epoch-12, Loss-0.28486889600753784\n"
     ]
    },
    {
     "name": "stderr",
     "output_type": "stream",
     "text": [
      "100%|██████████| 25/25 [00:02<00:00,  9.13it/s]\n"
     ]
    },
    {
     "name": "stdout",
     "output_type": "stream",
     "text": [
      "Epoch-13, Loss-0.17708875238895416\n"
     ]
    },
    {
     "name": "stderr",
     "output_type": "stream",
     "text": [
      "100%|██████████| 25/25 [00:02<00:00,  9.30it/s]\n"
     ]
    },
    {
     "name": "stdout",
     "output_type": "stream",
     "text": [
      "Epoch-14, Loss-0.11844358593225479\n"
     ]
    },
    {
     "name": "stderr",
     "output_type": "stream",
     "text": [
      "100%|██████████| 25/25 [00:02<00:00,  9.30it/s]\n"
     ]
    },
    {
     "name": "stdout",
     "output_type": "stream",
     "text": [
      "Epoch-15, Loss-0.1271897554397583\n"
     ]
    },
    {
     "name": "stderr",
     "output_type": "stream",
     "text": [
      "100%|██████████| 25/25 [00:02<00:00,  9.28it/s]\n"
     ]
    },
    {
     "name": "stdout",
     "output_type": "stream",
     "text": [
      "Epoch-16, Loss-0.10560385882854462\n"
     ]
    },
    {
     "name": "stderr",
     "output_type": "stream",
     "text": [
      "100%|██████████| 25/25 [00:02<00:00,  9.23it/s]\n"
     ]
    },
    {
     "name": "stdout",
     "output_type": "stream",
     "text": [
      "Epoch-17, Loss-0.06381034106016159\n"
     ]
    },
    {
     "name": "stderr",
     "output_type": "stream",
     "text": [
      "100%|██████████| 25/25 [00:02<00:00,  8.83it/s]\n"
     ]
    },
    {
     "name": "stdout",
     "output_type": "stream",
     "text": [
      "Epoch-18, Loss-0.11528577655553818\n"
     ]
    },
    {
     "name": "stderr",
     "output_type": "stream",
     "text": [
      "100%|██████████| 25/25 [00:02<00:00,  9.27it/s]\n"
     ]
    },
    {
     "name": "stdout",
     "output_type": "stream",
     "text": [
      "Epoch-19, Loss-0.03556739166378975\n"
     ]
    },
    {
     "name": "stderr",
     "output_type": "stream",
     "text": [
      "100%|██████████| 25/25 [00:02<00:00,  9.32it/s]\n"
     ]
    },
    {
     "name": "stdout",
     "output_type": "stream",
     "text": [
      "Epoch-20, Loss-0.060474105179309845\n"
     ]
    },
    {
     "name": "stderr",
     "output_type": "stream",
     "text": [
      "100%|██████████| 25/25 [00:02<00:00,  9.18it/s]\n"
     ]
    },
    {
     "name": "stdout",
     "output_type": "stream",
     "text": [
      "Epoch-21, Loss-0.06712927669286728\n"
     ]
    },
    {
     "name": "stderr",
     "output_type": "stream",
     "text": [
      "100%|██████████| 25/25 [00:02<00:00,  9.26it/s]\n"
     ]
    },
    {
     "name": "stdout",
     "output_type": "stream",
     "text": [
      "Epoch-22, Loss-0.0368543341755867\n"
     ]
    },
    {
     "name": "stderr",
     "output_type": "stream",
     "text": [
      "100%|██████████| 25/25 [00:02<00:00,  9.34it/s]\n"
     ]
    },
    {
     "name": "stdout",
     "output_type": "stream",
     "text": [
      "Epoch-23, Loss-0.030271725729107857\n"
     ]
    },
    {
     "name": "stderr",
     "output_type": "stream",
     "text": [
      "100%|██████████| 25/25 [00:02<00:00,  9.19it/s]\n"
     ]
    },
    {
     "name": "stdout",
     "output_type": "stream",
     "text": [
      "Epoch-24, Loss-0.05768958851695061\n"
     ]
    },
    {
     "name": "stderr",
     "output_type": "stream",
     "text": [
      "100%|██████████| 25/25 [00:02<00:00,  9.33it/s]\n"
     ]
    },
    {
     "name": "stdout",
     "output_type": "stream",
     "text": [
      "Epoch-25, Loss-0.053481314331293106\n"
     ]
    },
    {
     "name": "stderr",
     "output_type": "stream",
     "text": [
      "100%|██████████| 25/25 [00:02<00:00,  9.30it/s]\n"
     ]
    },
    {
     "name": "stdout",
     "output_type": "stream",
     "text": [
      "Epoch-26, Loss-0.03197105973958969\n"
     ]
    },
    {
     "name": "stderr",
     "output_type": "stream",
     "text": [
      "100%|██████████| 25/25 [00:02<00:00,  9.30it/s]\n"
     ]
    },
    {
     "name": "stdout",
     "output_type": "stream",
     "text": [
      "Epoch-27, Loss-0.03312361240386963\n"
     ]
    },
    {
     "name": "stderr",
     "output_type": "stream",
     "text": [
      "100%|██████████| 25/25 [00:02<00:00,  9.10it/s]\n"
     ]
    },
    {
     "name": "stdout",
     "output_type": "stream",
     "text": [
      "Epoch-28, Loss-0.032428495585918427\n"
     ]
    },
    {
     "name": "stderr",
     "output_type": "stream",
     "text": [
      "100%|██████████| 25/25 [00:02<00:00,  9.34it/s]\n"
     ]
    },
    {
     "name": "stdout",
     "output_type": "stream",
     "text": [
      "Epoch-29, Loss-0.047465648502111435\n"
     ]
    },
    {
     "name": "stderr",
     "output_type": "stream",
     "text": [
      "100%|██████████| 25/25 [00:02<00:00,  8.80it/s]\n"
     ]
    },
    {
     "name": "stdout",
     "output_type": "stream",
     "text": [
      "Epoch-30, Loss-0.020224345847964287\n"
     ]
    },
    {
     "name": "stderr",
     "output_type": "stream",
     "text": [
      "100%|██████████| 25/25 [00:02<00:00,  9.34it/s]\n"
     ]
    },
    {
     "name": "stdout",
     "output_type": "stream",
     "text": [
      "Epoch-31, Loss-0.015893571078777313\n"
     ]
    },
    {
     "name": "stderr",
     "output_type": "stream",
     "text": [
      "100%|██████████| 25/25 [00:02<00:00,  9.20it/s]\n"
     ]
    },
    {
     "name": "stdout",
     "output_type": "stream",
     "text": [
      "Epoch-32, Loss-0.017027873545885086\n"
     ]
    },
    {
     "name": "stderr",
     "output_type": "stream",
     "text": [
      "100%|██████████| 25/25 [00:02<00:00,  9.24it/s]\n"
     ]
    },
    {
     "name": "stdout",
     "output_type": "stream",
     "text": [
      "Epoch-33, Loss-0.02354864403605461\n"
     ]
    },
    {
     "name": "stderr",
     "output_type": "stream",
     "text": [
      "100%|██████████| 25/25 [00:02<00:00,  9.25it/s]\n"
     ]
    },
    {
     "name": "stdout",
     "output_type": "stream",
     "text": [
      "Epoch-34, Loss-0.01979779452085495\n"
     ]
    },
    {
     "name": "stderr",
     "output_type": "stream",
     "text": [
      "100%|██████████| 25/25 [00:02<00:00,  9.08it/s]\n"
     ]
    },
    {
     "name": "stdout",
     "output_type": "stream",
     "text": [
      "Epoch-35, Loss-0.03862898051738739\n"
     ]
    },
    {
     "name": "stderr",
     "output_type": "stream",
     "text": [
      "100%|██████████| 25/25 [00:02<00:00,  9.26it/s]\n"
     ]
    },
    {
     "name": "stdout",
     "output_type": "stream",
     "text": [
      "Epoch-36, Loss-0.019244760274887085\n"
     ]
    },
    {
     "name": "stderr",
     "output_type": "stream",
     "text": [
      "100%|██████████| 25/25 [00:02<00:00,  9.22it/s]\n"
     ]
    },
    {
     "name": "stdout",
     "output_type": "stream",
     "text": [
      "Epoch-37, Loss-0.018545696511864662\n"
     ]
    },
    {
     "name": "stderr",
     "output_type": "stream",
     "text": [
      "100%|██████████| 25/25 [00:02<00:00,  9.29it/s]\n"
     ]
    },
    {
     "name": "stdout",
     "output_type": "stream",
     "text": [
      "Epoch-38, Loss-0.008200286887586117\n"
     ]
    },
    {
     "name": "stderr",
     "output_type": "stream",
     "text": [
      "100%|██████████| 25/25 [00:02<00:00,  9.23it/s]\n"
     ]
    },
    {
     "name": "stdout",
     "output_type": "stream",
     "text": [
      "Epoch-39, Loss-0.003486229106783867\n"
     ]
    },
    {
     "name": "stderr",
     "output_type": "stream",
     "text": [
      "100%|██████████| 25/25 [00:02<00:00,  9.30it/s]\n"
     ]
    },
    {
     "name": "stdout",
     "output_type": "stream",
     "text": [
      "Epoch-40, Loss-0.012900770641863346\n"
     ]
    },
    {
     "name": "stderr",
     "output_type": "stream",
     "text": [
      "100%|██████████| 25/25 [00:02<00:00,  9.25it/s]\n"
     ]
    },
    {
     "name": "stdout",
     "output_type": "stream",
     "text": [
      "Epoch-41, Loss-0.0036565340124070644\n"
     ]
    },
    {
     "name": "stderr",
     "output_type": "stream",
     "text": [
      "100%|██████████| 25/25 [00:02<00:00,  8.79it/s]\n"
     ]
    },
    {
     "name": "stdout",
     "output_type": "stream",
     "text": [
      "Epoch-42, Loss-0.009888007305562496\n"
     ]
    },
    {
     "name": "stderr",
     "output_type": "stream",
     "text": [
      "100%|██████████| 25/25 [00:02<00:00,  9.14it/s]\n"
     ]
    },
    {
     "name": "stdout",
     "output_type": "stream",
     "text": [
      "Epoch-43, Loss-0.006193214096128941\n"
     ]
    },
    {
     "name": "stderr",
     "output_type": "stream",
     "text": [
      "100%|██████████| 25/25 [00:02<00:00,  9.22it/s]\n"
     ]
    },
    {
     "name": "stdout",
     "output_type": "stream",
     "text": [
      "Epoch-44, Loss-0.015278998762369156\n"
     ]
    },
    {
     "name": "stderr",
     "output_type": "stream",
     "text": [
      "100%|██████████| 25/25 [00:02<00:00,  9.31it/s]\n"
     ]
    },
    {
     "name": "stdout",
     "output_type": "stream",
     "text": [
      "Epoch-45, Loss-0.013347391039133072\n"
     ]
    },
    {
     "name": "stderr",
     "output_type": "stream",
     "text": [
      "100%|██████████| 25/25 [00:02<00:00,  9.07it/s]\n"
     ]
    },
    {
     "name": "stdout",
     "output_type": "stream",
     "text": [
      "Epoch-46, Loss-0.009274701587855816\n"
     ]
    },
    {
     "name": "stderr",
     "output_type": "stream",
     "text": [
      "100%|██████████| 25/25 [00:02<00:00,  9.27it/s]\n"
     ]
    },
    {
     "name": "stdout",
     "output_type": "stream",
     "text": [
      "Epoch-47, Loss-0.008193301036953926\n"
     ]
    },
    {
     "name": "stderr",
     "output_type": "stream",
     "text": [
      "100%|██████████| 25/25 [00:02<00:00,  9.29it/s]\n"
     ]
    },
    {
     "name": "stdout",
     "output_type": "stream",
     "text": [
      "Epoch-48, Loss-0.018991732969880104\n"
     ]
    },
    {
     "name": "stderr",
     "output_type": "stream",
     "text": [
      "100%|██████████| 25/25 [00:02<00:00,  9.34it/s]"
     ]
    },
    {
     "name": "stdout",
     "output_type": "stream",
     "text": [
      "Epoch-49, Loss-0.005325842648744583\n"
     ]
    },
    {
     "name": "stderr",
     "output_type": "stream",
     "text": [
      "\n"
     ]
    }
   ],
   "source": [
    "from tqdm import tqdm\n",
    "\n",
    "for epoch in range(50):  # You can adjust the number of epochs\n",
    "    model.train()\n",
    "    for batch_input_ids, batch_attention_mask, batch_target_ids, batch_target_attention_mask in tqdm(train_loader):\n",
    "        optimizer.zero_grad()\n",
    "        loss, logits = model(input_ids=batch_input_ids.to(device), attention_mask=batch_attention_mask.to(device), decoder_input_ids=batch_target_ids.to(device), labels=batch_target_ids.to(device))\n",
    "        loss.backward()\n",
    "        optimizer.step()\n",
    "    print(\"Epoch-{}, Loss-{}\".format(epoch,loss.item()))"
   ]
  },
  {
   "cell_type": "markdown",
   "id": "f51dd886",
   "metadata": {
    "papermill": {
     "duration": 0.153109,
     "end_time": "2023-08-09T17:36:00.998742",
     "exception": false,
     "start_time": "2023-08-09T17:36:00.845633",
     "status": "completed"
    },
    "tags": []
   },
   "source": [
    "\n",
    "<div style=\"background-color:#F0E3D2; color:#19180F; font-size:15px; font-family:Verdana; padding:10px; border: 2px solid #19180F; border-radius:10px\"> \n",
    "📌\n",
    "Defining test dataset and test loader  </div>"
   ]
  },
  {
   "cell_type": "code",
   "execution_count": 54,
   "id": "615a4acd",
   "metadata": {
    "execution": {
     "iopub.execute_input": "2023-08-09T17:36:01.310122Z",
     "iopub.status.busy": "2023-08-09T17:36:01.309105Z",
     "iopub.status.idle": "2023-08-09T17:36:01.316080Z",
     "shell.execute_reply": "2023-08-09T17:36:01.315104Z"
    },
    "papermill": {
     "duration": 0.165247,
     "end_time": "2023-08-09T17:36:01.318037",
     "exception": false,
     "start_time": "2023-08-09T17:36:01.152790",
     "status": "completed"
    },
    "tags": []
   },
   "outputs": [],
   "source": [
    "test_dataset = CustomDataset(test_df, tokenizer,mode=\"test\")\n",
    "test_loader = DataLoader(test_dataset, batch_size=32, shuffle=False)\n"
   ]
  },
  {
   "cell_type": "markdown",
   "id": "4f9fb8f8",
   "metadata": {
    "papermill": {
     "duration": 0.159918,
     "end_time": "2023-08-09T17:36:01.633472",
     "exception": false,
     "start_time": "2023-08-09T17:36:01.473554",
     "status": "completed"
    },
    "tags": []
   },
   "source": [
    "\n",
    "<div style=\"background-color:#F0E3D2; color:#19180F; font-size:15px; font-family:Verdana; padding:10px; border: 2px solid #19180F; border-radius:10px\"> \n",
    "📌\n",
    "Generating predictions </div>"
   ]
  },
  {
   "cell_type": "code",
   "execution_count": 55,
   "id": "189ad01d",
   "metadata": {
    "execution": {
     "iopub.execute_input": "2023-08-09T17:36:01.952081Z",
     "iopub.status.busy": "2023-08-09T17:36:01.951708Z",
     "iopub.status.idle": "2023-08-09T17:36:03.183460Z",
     "shell.execute_reply": "2023-08-09T17:36:03.181768Z"
    },
    "papermill": {
     "duration": 1.391891,
     "end_time": "2023-08-09T17:36:03.185769",
     "exception": false,
     "start_time": "2023-08-09T17:36:01.793878",
     "status": "completed"
    },
    "tags": []
   },
   "outputs": [
    {
     "name": "stderr",
     "output_type": "stream",
     "text": [
      "100%|██████████| 25/25 [00:01<00:00, 20.56it/s]"
     ]
    },
    {
     "name": "stdout",
     "output_type": "stream",
     "text": [
      "(200, 3)\n"
     ]
    },
    {
     "name": "stderr",
     "output_type": "stream",
     "text": [
      "\n"
     ]
    }
   ],
   "source": [
    "model.eval()\n",
    "\n",
    "predictions = []\n",
    "\n",
    "with torch.no_grad():\n",
    "    for batch_input_ids, batch_attention_mask, batch_target_ids, batch_target_attention_mask in tqdm(train_loader):\n",
    "        optimizer.zero_grad()\n",
    "        loss, logits = model(input_ids=batch_input_ids.to(device), attention_mask=batch_attention_mask.to(device), decoder_input_ids=batch_target_ids.to(device), labels=batch_target_ids.to(device))\n",
    "\n",
    "        # Remove the extra dimension from logits\n",
    "        logits = logits[:, 0, :]\n",
    "\n",
    "        _, predicted = torch.topk(logits, 3, dim=1)\n",
    "        predictions.extend(predicted.tolist())\n",
    "\n",
    "import numpy as np\n",
    "\n",
    "# Reshape predictions to (200, 3)\n",
    "reshaped_predictions = np.array(predictions).reshape((200, 3))\n",
    "\n",
    "print(np.shape(reshaped_predictions))\n"
   ]
  },
  {
   "cell_type": "code",
   "execution_count": 56,
   "id": "86567674",
   "metadata": {
    "_kg_hide-input": true,
    "collapsed": true,
    "execution": {
     "iopub.execute_input": "2023-08-09T17:36:03.562352Z",
     "iopub.status.busy": "2023-08-09T17:36:03.562000Z",
     "iopub.status.idle": "2023-08-09T17:36:03.583647Z",
     "shell.execute_reply": "2023-08-09T17:36:03.582743Z"
    },
    "jupyter": {
     "outputs_hidden": true
    },
    "papermill": {
     "duration": 0.188354,
     "end_time": "2023-08-09T17:36:03.585651",
     "exception": false,
     "start_time": "2023-08-09T17:36:03.397297",
     "status": "completed"
    },
    "tags": []
   },
   "outputs": [
    {
     "data": {
      "text/plain": [
       "[[1525, 4269, 9986],\n",
       " [1525, 18243, 4269],\n",
       " [1525, 9986, 18243],\n",
       " [1525, 18243, 9986],\n",
       " [1525, 4269, 9986],\n",
       " [1525, 9986, 18243],\n",
       " [1525, 4269, 18243],\n",
       " [1525, 4269, 18243],\n",
       " [1525, 4269, 18243],\n",
       " [1525, 18243, 4269],\n",
       " [1525, 18243, 8776],\n",
       " [1525, 8776, 18243],\n",
       " [1525, 9986, 4269],\n",
       " [1525, 4269, 18243],\n",
       " [1525, 4269, 18243],\n",
       " [1525, 18243, 4269],\n",
       " [1525, 9986, 4269],\n",
       " [1525, 4269, 18243],\n",
       " [1525, 18243, 4269],\n",
       " [1525, 18243, 4269],\n",
       " [1525, 18243, 8776],\n",
       " [1525, 18243, 9986],\n",
       " [1525, 18243, 4269],\n",
       " [1525, 18243, 4269],\n",
       " [1525, 18243, 8776],\n",
       " [1525, 18243, 9986],\n",
       " [1525, 9986, 18243],\n",
       " [1525, 18243, 9986],\n",
       " [1525, 18243, 4269],\n",
       " [1525, 18243, 9986],\n",
       " [1525, 18243, 4269],\n",
       " [1525, 4269, 18243],\n",
       " [1525, 18243, 4269],\n",
       " [1525, 18243, 8776],\n",
       " [1525, 18243, 8776],\n",
       " [1525, 18243, 9986],\n",
       " [1525, 18243, 4269],\n",
       " [1525, 9986, 4269],\n",
       " [1525, 4269, 9986],\n",
       " [1525, 18243, 4269],\n",
       " [1525, 4269, 9986],\n",
       " [1525, 18243, 4269],\n",
       " [1525, 4269, 18243],\n",
       " [1525, 9986, 18243],\n",
       " [1525, 18243, 4269],\n",
       " [1525, 18243, 4269],\n",
       " [1525, 18243, 9986],\n",
       " [1525, 4269, 11801],\n",
       " [1525, 9986, 18243],\n",
       " [1525, 18243, 4269],\n",
       " [1525, 18243, 4269],\n",
       " [1525, 18243, 4269],\n",
       " [1525, 9986, 4269],\n",
       " [1525, 18243, 4269],\n",
       " [1525, 18243, 4269],\n",
       " [1525, 18243, 8776],\n",
       " [1525, 4269, 18243],\n",
       " [1525, 18243, 9986],\n",
       " [1525, 18243, 9986],\n",
       " [1525, 18243, 4269],\n",
       " [1525, 18243, 9986],\n",
       " [1525, 18243, 4269],\n",
       " [1525, 18243, 4269],\n",
       " [1525, 4269, 9986],\n",
       " [1525, 18243, 4269],\n",
       " [1525, 8776, 18243],\n",
       " [1525, 4269, 11801],\n",
       " [1525, 4269, 18243],\n",
       " [1525, 4269, 9986],\n",
       " [1525, 9986, 18243],\n",
       " [1525, 4269, 18243],\n",
       " [1525, 18243, 8776],\n",
       " [1525, 18243, 9986],\n",
       " [1525, 18243, 4269],\n",
       " [1525, 18243, 4269],\n",
       " [1525, 18243, 4269],\n",
       " [1525, 18243, 9986],\n",
       " [1525, 18243, 4269],\n",
       " [1525, 4269, 18243],\n",
       " [1525, 4269, 18243],\n",
       " [1525, 18243, 4269],\n",
       " [1525, 4269, 18243],\n",
       " [1525, 18243, 9986],\n",
       " [1525, 9986, 4269],\n",
       " [1525, 18243, 4269],\n",
       " [1525, 4269, 9986],\n",
       " [1525, 18243, 4269],\n",
       " [1525, 18243, 9986],\n",
       " [1525, 18243, 4269],\n",
       " [1525, 4269, 9986],\n",
       " [1525, 18243, 4269],\n",
       " [1525, 18243, 4269],\n",
       " [1525, 4269, 9986],\n",
       " [1525, 4269, 9986],\n",
       " [1525, 18243, 9986],\n",
       " [1525, 4269, 9986],\n",
       " [1525, 9986, 18243],\n",
       " [1525, 18243, 4269],\n",
       " [1525, 18243, 9986],\n",
       " [1525, 18243, 9986],\n",
       " [1525, 18243, 4269],\n",
       " [1525, 18243, 8776],\n",
       " [1525, 18243, 4269],\n",
       " [1525, 18243, 4269],\n",
       " [1525, 18243, 4269],\n",
       " [1525, 4269, 18243],\n",
       " [1525, 4269, 9986],\n",
       " [1525, 4269, 18243],\n",
       " [1525, 18243, 4269],\n",
       " [1525, 4269, 9986],\n",
       " [1525, 18243, 4269],\n",
       " [1525, 9986, 18243],\n",
       " [1525, 9986, 4269],\n",
       " [1525, 4269, 18243],\n",
       " [1525, 4269, 18243],\n",
       " [1525, 18243, 8776],\n",
       " [1525, 9986, 18243],\n",
       " [1525, 18243, 9986],\n",
       " [1525, 18243, 4269],\n",
       " [1525, 4269, 18243],\n",
       " [1525, 18243, 4269],\n",
       " [1525, 9986, 18243],\n",
       " [1525, 4269, 11801],\n",
       " [1525, 18243, 11801],\n",
       " [1525, 18243, 9986],\n",
       " [1525, 11801, 18243],\n",
       " [1525, 18243, 9986],\n",
       " [1525, 9986, 4269],\n",
       " [1525, 18243, 9986],\n",
       " [1525, 18243, 8776],\n",
       " [1525, 8776, 18243],\n",
       " [1525, 4269, 18243],\n",
       " [1525, 18243, 4269],\n",
       " [1525, 8776, 18243],\n",
       " [1525, 18243, 8776],\n",
       " [1525, 4269, 11801],\n",
       " [1525, 4269, 18243],\n",
       " [1525, 9986, 4269],\n",
       " [1525, 4269, 9986],\n",
       " [1525, 18243, 4269],\n",
       " [1525, 18243, 4269],\n",
       " [1525, 11801, 18243],\n",
       " [1525, 4269, 18243],\n",
       " [1525, 18243, 9986],\n",
       " [1525, 18243, 9986],\n",
       " [1525, 4269, 9986],\n",
       " [1525, 18243, 4269],\n",
       " [1525, 18243, 4269],\n",
       " [1525, 4269, 9986],\n",
       " [1525, 8776, 18243],\n",
       " [1525, 9986, 18243],\n",
       " [1525, 9986, 18243],\n",
       " [1525, 8776, 18243],\n",
       " [1525, 18243, 4269],\n",
       " [1525, 18243, 4269],\n",
       " [1525, 4269, 9986],\n",
       " [1525, 9986, 18243],\n",
       " [1525, 18243, 8776],\n",
       " [1525, 9986, 4269],\n",
       " [1525, 4269, 18243],\n",
       " [1525, 4269, 18243],\n",
       " [1525, 9986, 4269],\n",
       " [1525, 4269, 8776],\n",
       " [1525, 9986, 18243],\n",
       " [1525, 18243, 8776],\n",
       " [1525, 9986, 18243],\n",
       " [1525, 18243, 8776],\n",
       " [1525, 18243, 9986],\n",
       " [1525, 4269, 18243],\n",
       " [1525, 18243, 9986],\n",
       " [1525, 18243, 4269],\n",
       " [1525, 9986, 4269],\n",
       " [1525, 9986, 4269],\n",
       " [1525, 9986, 18243],\n",
       " [1525, 18243, 4269],\n",
       " [1525, 18243, 4269],\n",
       " [1525, 18243, 4269],\n",
       " [1525, 9986, 4269],\n",
       " [1525, 4269, 18243],\n",
       " [1525, 18243, 8776],\n",
       " [1525, 18243, 4269],\n",
       " [1525, 18243, 4269],\n",
       " [1525, 4269, 18243],\n",
       " [1525, 18243, 4269],\n",
       " [1525, 18243, 4269],\n",
       " [1525, 4269, 18243],\n",
       " [1525, 9986, 4269],\n",
       " [1525, 18243, 4269],\n",
       " [1525, 4269, 18243],\n",
       " [1525, 18243, 4269],\n",
       " [1525, 18243, 4269],\n",
       " [1525, 18243, 9986],\n",
       " [1525, 18243, 8776],\n",
       " [1525, 4269, 18243],\n",
       " [1525, 4269, 18243],\n",
       " [1525, 18243, 8776],\n",
       " [1525, 18243, 4269],\n",
       " [1525, 9986, 18243],\n",
       " [1525, 18243, 11801],\n",
       " [1525, 18243, 4269]]"
      ]
     },
     "execution_count": 56,
     "metadata": {},
     "output_type": "execute_result"
    }
   ],
   "source": [
    "predictions"
   ]
  },
  {
   "cell_type": "markdown",
   "id": "d808e961",
   "metadata": {
    "papermill": {
     "duration": 0.158157,
     "end_time": "2023-08-09T17:36:03.905813",
     "exception": false,
     "start_time": "2023-08-09T17:36:03.747656",
     "status": "completed"
    },
    "tags": []
   },
   "source": [
    "\n",
    "<div style=\"background-color:#F0E3D2; color:#19180F; font-size:15px; font-family:Verdana; padding:10px; border: 2px solid #19180F; border-radius:10px\"> \n",
    "📌\n",
    "Writing predictions to submission file </div>"
   ]
  },
  {
   "cell_type": "code",
   "execution_count": 57,
   "id": "0156770e",
   "metadata": {
    "execution": {
     "iopub.execute_input": "2023-08-09T17:36:04.217202Z",
     "iopub.status.busy": "2023-08-09T17:36:04.216285Z",
     "iopub.status.idle": "2023-08-09T17:36:04.225868Z",
     "shell.execute_reply": "2023-08-09T17:36:04.224996Z"
    },
    "papermill": {
     "duration": 0.166887,
     "end_time": "2023-08-09T17:36:04.227986",
     "exception": false,
     "start_time": "2023-08-09T17:36:04.061099",
     "status": "completed"
    },
    "tags": []
   },
   "outputs": [],
   "source": [
    "submission_df = pd.DataFrame({'id': test_df.index, 'prediction': predictions})\n",
    "submission_df['prediction'] = submission_df['prediction'].apply(lambda x: ' '.join([chr(ord('A') + idx) for idx in x]))\n",
    "submission_df.to_csv('submission.csv', index=False)"
   ]
  },
  {
   "cell_type": "code",
   "execution_count": 58,
   "id": "2b9de2ed",
   "metadata": {
    "execution": {
     "iopub.execute_input": "2023-08-09T17:36:04.543283Z",
     "iopub.status.busy": "2023-08-09T17:36:04.542929Z",
     "iopub.status.idle": "2023-08-09T17:36:04.554412Z",
     "shell.execute_reply": "2023-08-09T17:36:04.553362Z"
    },
    "papermill": {
     "duration": 0.175186,
     "end_time": "2023-08-09T17:36:04.558477",
     "exception": false,
     "start_time": "2023-08-09T17:36:04.383291",
     "status": "completed"
    },
    "tags": []
   },
   "outputs": [
    {
     "data": {
      "text/html": [
       "<div>\n",
       "<style scoped>\n",
       "    .dataframe tbody tr th:only-of-type {\n",
       "        vertical-align: middle;\n",
       "    }\n",
       "\n",
       "    .dataframe tbody tr th {\n",
       "        vertical-align: top;\n",
       "    }\n",
       "\n",
       "    .dataframe thead th {\n",
       "        text-align: right;\n",
       "    }\n",
       "</style>\n",
       "<table border=\"1\" class=\"dataframe\">\n",
       "  <thead>\n",
       "    <tr style=\"text-align: right;\">\n",
       "      <th></th>\n",
       "      <th>id</th>\n",
       "      <th>prediction</th>\n",
       "    </tr>\n",
       "  </thead>\n",
       "  <tbody>\n",
       "    <tr>\n",
       "      <th>0</th>\n",
       "      <td>0</td>\n",
       "      <td>ض ხ ❃</td>\n",
       "    </tr>\n",
       "    <tr>\n",
       "      <th>1</th>\n",
       "      <td>1</td>\n",
       "      <td>ض 䞄 ხ</td>\n",
       "    </tr>\n",
       "    <tr>\n",
       "      <th>2</th>\n",
       "      <td>2</td>\n",
       "      <td>ض ❃ 䞄</td>\n",
       "    </tr>\n",
       "    <tr>\n",
       "      <th>3</th>\n",
       "      <td>3</td>\n",
       "      <td>ض 䞄 ❃</td>\n",
       "    </tr>\n",
       "    <tr>\n",
       "      <th>4</th>\n",
       "      <td>4</td>\n",
       "      <td>ض ხ ❃</td>\n",
       "    </tr>\n",
       "    <tr>\n",
       "      <th>...</th>\n",
       "      <td>...</td>\n",
       "      <td>...</td>\n",
       "    </tr>\n",
       "    <tr>\n",
       "      <th>195</th>\n",
       "      <td>195</td>\n",
       "      <td>ض 䞄 ⊉</td>\n",
       "    </tr>\n",
       "    <tr>\n",
       "      <th>196</th>\n",
       "      <td>196</td>\n",
       "      <td>ض 䞄 ხ</td>\n",
       "    </tr>\n",
       "    <tr>\n",
       "      <th>197</th>\n",
       "      <td>197</td>\n",
       "      <td>ض ❃ 䞄</td>\n",
       "    </tr>\n",
       "    <tr>\n",
       "      <th>198</th>\n",
       "      <td>198</td>\n",
       "      <td>ض 䞄 ⹚</td>\n",
       "    </tr>\n",
       "    <tr>\n",
       "      <th>199</th>\n",
       "      <td>199</td>\n",
       "      <td>ض 䞄 ხ</td>\n",
       "    </tr>\n",
       "  </tbody>\n",
       "</table>\n",
       "<p>200 rows × 2 columns</p>\n",
       "</div>"
      ],
      "text/plain": [
       "      id prediction\n",
       "0      0      ض ხ ❃\n",
       "1      1      ض 䞄 ხ\n",
       "2      2      ض ❃ 䞄\n",
       "3      3      ض 䞄 ❃\n",
       "4      4      ض ხ ❃\n",
       "..   ...        ...\n",
       "195  195      ض 䞄 ⊉\n",
       "196  196      ض 䞄 ხ\n",
       "197  197      ض ❃ 䞄\n",
       "198  198      ض 䞄 ⹚\n",
       "199  199      ض 䞄 ხ\n",
       "\n",
       "[200 rows x 2 columns]"
      ]
     },
     "execution_count": 58,
     "metadata": {},
     "output_type": "execute_result"
    }
   ],
   "source": [
    "submission_df"
   ]
  },
  {
   "cell_type": "code",
   "execution_count": null,
   "id": "a2775d60",
   "metadata": {
    "papermill": {
     "duration": 0.154294,
     "end_time": "2023-08-09T17:36:04.870087",
     "exception": false,
     "start_time": "2023-08-09T17:36:04.715793",
     "status": "completed"
    },
    "tags": []
   },
   "outputs": [],
   "source": []
  }
 ],
 "metadata": {
  "kernelspec": {
   "display_name": "Python 3",
   "language": "python",
   "name": "python3"
  },
  "language_info": {
   "codemirror_mode": {
    "name": "ipython",
    "version": 3
   },
   "file_extension": ".py",
   "mimetype": "text/x-python",
   "name": "python",
   "nbconvert_exporter": "python",
   "pygments_lexer": "ipython3",
   "version": "3.10.12"
  },
  "papermill": {
   "default_parameters": {},
   "duration": 295.897985,
   "end_time": "2023-08-09T17:36:08.576992",
   "environment_variables": {},
   "exception": null,
   "input_path": "__notebook__.ipynb",
   "output_path": "__notebook__.ipynb",
   "parameters": {},
   "start_time": "2023-08-09T17:31:12.679007",
   "version": "2.4.0"
  }
 },
 "nbformat": 4,
 "nbformat_minor": 5
}
