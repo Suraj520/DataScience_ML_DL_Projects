{
 "cells": [
  {
   "attachments": {},
   "cell_type": "markdown",
   "metadata": {},
   "source": [
    "#### About\n",
    "1. Stacked Generative Adversarial networks is a deep learning based architecture that can generate high quality and detailed images by using low resolution images as inputs. The architecture consists of two stages, The first stage generates a low resolution images which is then used as input for the second stage to produce a high resolution image.\n",
    "2. The generator network of the StackGAN is designed such that the outputs from the first stage can be used as a conditioning signal for the second stage. Additionally, The discriminator network in the second stage is designed to provide feedback to the first stage generator enabling it to generate images with finer details.\n",
    "3. An important feature of StackGAN is that it incorporates a text based conditioning approach, allowing users to generate images based on text description.\n",
    "4. Architecture of StackGAN is as follows\n",
    "![architecture.jpg](architecture.jpg)\n",
    "5. Input text is initially converted into an embedding vector using Word2Vec Embedding or equivalent. The embedding vector assigns text into an integer encoded data for all unique words in the text. During the conditioning augmentation phase, The embedding vector is concatenated with random noise to generate a d-dimensional array.\n",
    "6. Stage 1 and 2 have pair of generator and discriminators working like usual.\n",
    "7. The Stage 1 generator takes the embedding vector concatenated after conditioning augmentation stage to generate a low resolution 64*64 image which in turn is fed into discriminator to identify it as real or fake. This stage 1 generator is responsible for handling color, shape of the image.\n",
    "8. The output of stage 1 generator becomes input to stage 1 generator which seeks to refine the image with rough details of resolution 64,64 to high resolution image 256,256.\n",
    " "
   ]
  },
  {
   "cell_type": "code",
   "execution_count": null,
   "metadata": {},
   "outputs": [],
   "source": []
  },
  {
   "cell_type": "code",
   "execution_count": null,
   "metadata": {},
   "outputs": [],
   "source": []
  },
  {
   "cell_type": "code",
   "execution_count": null,
   "metadata": {},
   "outputs": [],
   "source": []
  }
 ],
 "metadata": {
  "language_info": {
   "name": "python"
  },
  "orig_nbformat": 4
 },
 "nbformat": 4,
 "nbformat_minor": 2
}
