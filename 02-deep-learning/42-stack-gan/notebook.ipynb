{
 "cells": [
  {
   "attachments": {},
   "cell_type": "markdown",
   "metadata": {},
   "source": [
    "#### About\n",
    "1. Stacked Generative Adversarial networks is a deep learning based architecture that can generate high quality and detailed images by using low resolution images as inputs. The architecture consists of two stages, The first stage generates a low resolution images which is then used as input for the second stage to produce a high resolution image.\n",
    "2. The generator network of the StackGAN is designed such that the outputs from the first stage can be used as a conditioning signal for the second stage. Additionally, The discriminator network in the second stage is designed to provide feedback to the first stage generator enabling it to generate images with finer details.\n",
    "3. An important feature of StackGAN is that it incorporates a text based conditioning approach, allowing users to generate images based on text description."
   ]
  },
  {
   "cell_type": "code",
   "execution_count": null,
   "metadata": {},
   "outputs": [],
   "source": []
  }
 ],
 "metadata": {
  "language_info": {
   "name": "python"
  },
  "orig_nbformat": 4
 },
 "nbformat": 4,
 "nbformat_minor": 2
}
