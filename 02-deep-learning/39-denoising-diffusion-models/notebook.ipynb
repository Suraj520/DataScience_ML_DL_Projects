{
 "cells": [
  {
   "attachments": {},
   "cell_type": "markdown",
   "metadata": {},
   "source": [
    "#### About\n",
    "1. VAEs(Variational Autoencoders) compresses the input to a latent space and then samples from this space to recover the input distribution. The outputs are mostly blurred.\n",
    "2. On Contrast, GANs produce high quality output but are known to suffer from Mode collapse(when the model can only fit a few modes of the data distribution while ignoring most of them) and vanishing gradients.\n",
    "3. Diffusion models are class of generative models that produce high quality output samples that follow diverse data distributions. Diffusion models work by destroying the input signal till noise is left and then recovering signal from input via deep neural networks.\n",
    "4. They are slow than GANs because of sequential reversal process of noise to signal.\n",
    "5. The three constituents of a diffusion model are noise scheduler which sequentially adds noise to the signals, A model(UNets etc) to decode the signal from noise and timestep encoder to encode current timestep. \n",
    "\n",
    "> Let's fit diffusion model on kaggle dataset\n"
   ]
  },
  {
   "cell_type": "code",
   "execution_count": null,
   "metadata": {},
   "outputs": [],
   "source": []
  }
 ],
 "metadata": {
  "language_info": {
   "name": "python"
  },
  "orig_nbformat": 4
 },
 "nbformat": 4,
 "nbformat_minor": 2
}
