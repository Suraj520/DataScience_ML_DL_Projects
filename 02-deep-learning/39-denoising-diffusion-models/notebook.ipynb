{
 "cells": [
  {
   "attachments": {},
   "cell_type": "markdown",
   "metadata": {},
   "source": [
    "#### About\n",
    "1. VAEs(Variational Autoencoders) compresses the input to a latent space and then samples from this space to recover the input distribution. The outputs are mostly blurred.\n",
    "2. On Contrast, GANs produce high quality output but are known to suffer from Mode collapse(when the model can only fit a few modes of the data distribution while ignoring most of them) and vanishing gradients.\n",
    "3. "
   ]
  },
  {
   "cell_type": "code",
   "execution_count": null,
   "metadata": {},
   "outputs": [],
   "source": []
  }
 ],
 "metadata": {
  "language_info": {
   "name": "python"
  },
  "orig_nbformat": 4
 },
 "nbformat": 4,
 "nbformat_minor": 2
}
