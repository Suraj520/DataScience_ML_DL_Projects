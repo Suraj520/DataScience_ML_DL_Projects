{
 "cells": [
  {
   "attachments": {},
   "cell_type": "markdown",
   "metadata": {},
   "source": [
    "#### About\n",
    "1. VAEs(Variational Autoencoders) compresses the input to a latent space and then samples from this space to recover the input distribution. The outputs are mostly blurred.\n",
    "2. On Contrast, GANs produce high quality output but are known to suffer from Mode collapse(when the model can only fit a few modes of the data distribution while ignoring most of them) and vanishing gradients.\n",
    "3. Diffusion models are class of generative models that produce high quality output samples that follow diverse data distributions. Diffusion models work by destroying the input signal till noise is left and then recovering signal from input via deep neural networks.\n",
    "4. They are slow than GANs because of sequential reversal process of noise to signal.\n",
    "5. The three constituents of a diffusion model are noise scheduler which sequentially adds noise to the signals, A model(UNets etc) to decode the signal from noise and timestep encoder to encode current timestep.\n",
    "6. A diffusion model consists of various process like forward processes where noise scheduler is managed, backward process in which UNet runs followed by loss calculation and sampling in training.\n",
    "7. The forward process adds noise to image. Noise added to image is a markov process and the noise added to the image only depends upon the previous image. The noise is added linearly, quadratic etc.\n",
    "8. Positional embeddings like transformers are used in timestep encoder block. Embeddings are calculated using sin and cos for specific embedding size.\n",
    "\n",
    "\n",
    "> Let's fit diffusion model on kaggle dataset\n",
    "Link - https://www.kaggle.com/datasets/andrewmvd/animal-faces\n"
   ]
  },
  {
   "cell_type": "code",
   "execution_count": null,
   "metadata": {},
   "outputs": [],
   "source": []
  }
 ],
 "metadata": {
  "language_info": {
   "name": "python"
  },
  "orig_nbformat": 4
 },
 "nbformat": 4,
 "nbformat_minor": 2
}
