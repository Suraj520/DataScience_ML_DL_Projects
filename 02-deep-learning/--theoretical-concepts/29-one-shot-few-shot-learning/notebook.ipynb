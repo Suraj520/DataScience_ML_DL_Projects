{
 "cells": [
  {
   "attachments": {},
   "cell_type": "markdown",
   "metadata": {},
   "source": [
    "#### About\n",
    "\n",
    "> One shot and few shot learning.\n",
    "\n",
    "Single-shot learning and few-frame learning are machine learning paradigms that address the challenge of learning from limited or limited labeled data.\n",
    "\n",
    "1. One time learning. For one-shot training, the model is trained to recognize new categories or tasks with very limited or even one labeled example at a time. in the category. The idea is to use prior knowledge from other tasks or domains to quickly adapt to new tasks with minimally labeled data. A common approach to one-shot training is to learn similarity measures or similarity functions that can compare new examples with available labeled examples and make predictions based on similarity. Siamese networks, memory-enhanced neural networks, and prototype-based methods are some of the methods used for one-shot training. \n",
    "\n",
    "2. Shot learning. Shot learning is a variant of one-shot learning in which a model is trained to recognize new classes or tasks using a small number of labeled examples for each instance. class, usually from a few to dozens of examples. The goal is to learn a model that generalizes well to new classes or tasks, even with limited labeled data. Meta learning, or learning to learn, is a common approach in few-frame learning, where a model is trained to learn to quickly adapt to a new task using a small number of labeled examples. This is typically done by training metamodels on different tasks or domains, then using the learned knowledge to adapt to new tasks with minimally labeled data.\n",
    "\n",
    "Both one-shot and few-frame learning are challenging tasks because, unlike traditional machine learning methods that rely on large amounts of labeled data, the model needs to learn from limited labeled data."
   ]
  },
  {
   "cell_type": "markdown",
   "metadata": {},
   "source": []
  }
 ],
 "metadata": {
  "language_info": {
   "name": "python"
  },
  "orig_nbformat": 4
 },
 "nbformat": 4,
 "nbformat_minor": 2
}
