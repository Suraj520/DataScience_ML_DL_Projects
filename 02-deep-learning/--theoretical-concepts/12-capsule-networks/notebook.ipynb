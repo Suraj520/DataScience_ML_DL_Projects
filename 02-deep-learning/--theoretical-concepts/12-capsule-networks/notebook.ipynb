{
 "cells": [
  {
   "attachments": {},
   "cell_type": "markdown",
   "metadata": {},
   "source": [
    "#### About\n",
    "\n",
    "> Capsule networks\n",
    "\n",
    "Capsule networks, also known as CapsNets, are a neural network architecture introduced by Jeffrey Hinton in 2017. CapsNets are designed to model hierarchical relationships between visual elements in images or other data types, and are particularly effective for tasks that require understanding spatial relationships and estimating object position.\n",
    "\n",
    "The main idea behind CapsNets is to represent entities called capsules as vectors instead of the scalar values ​​used in traditional neural networks. Each capsule represents a specific visual object or part of an object and encodes information such as its presence, pose, and instantiation parameters. These capsules are organized in a hierarchy, where higher-level capsules represent more complex functions that build on lower-level capsules.\n",
    "\n",
    "Blocks of capsnet are\n",
    "\n",
    "1. Primary capsules: The input data is first processed by a set of convolutional layers to extract local features. These local features are then grouped into capsules, each representing a specific visual feature. The result of this operation is a set of primary capsules denoted as u_{ij}, where i represents the index of the primary capsule and j represents the index of the local element.\n",
    "\n",
    "2. Capsule activation: The Primary capsule is then activated using a non-linear activation function, typically a squeeze function, that maps the length of the capsule vector to a value between 0 and 1 that represents the probability that a particular visual feature is present. The Flatten function is defined as:\n",
    "\n",
    "v_{ij} = squash(u_{ij}) = (||u_{ij}||^2 / (1 + ||u_{ij}||^2)) * (u_{ij} / ||u_ {ij}||)\n",
    "\n",
    "where v_{ij} is the output of the compression function and ||u_{ij}|| is the Euclidean norm of the primary capsule vector.\n",
    "\n",
    "3. Dynamic Routing: The activated master capsules are then used to compute the output of higher-level capsules using a process called dynamic routing. Dynamic routing involves iteratively updating the connection coefficients of the primary and top-level capsules based on the correspondence between their predicted and actual results. The link coefficients are updated using a protocol routing algorithm that aims to route more active capsules to higher protocol capsules and vice versa. This allows CapsNets to model spatial relationships and estimate object poses in a hierarchical manner.\n",
    "\n",
    "4. Final prediction: The result of the dynamic routing process is the CapsNet final prediction, which can be used for various tasks such as classification, object detection, or pose estimation.\n",
    "\n"
   ]
  },
  {
   "cell_type": "code",
   "execution_count": null,
   "metadata": {},
   "outputs": [],
   "source": [
    "from keras.layers import Capsule\n",
    "# num_capsules - number of higher capsureles\n",
    "# capsule_dim = dimensionality of the output space for each capsule\n",
    "capsule = Capsule(num_capsules, capsule_dim, num_routing=3, activation='squash', \n",
    "                  kernel_initializer='glorot_uniform', bias_initializer='zeros', \n",
    "                  kernel_regularizer=None, bias_regularizer=None, \n",
    "                  activity_regularizer=None, kernel_constraint=None, \n",
    "                  bias_constraint=None)"
   ]
  },
  {
   "cell_type": "code",
   "execution_count": null,
   "metadata": {},
   "outputs": [],
   "source": []
  }
 ],
 "metadata": {
  "kernelspec": {
   "display_name": "dl",
   "language": "python",
   "name": "python3"
  },
  "language_info": {
   "codemirror_mode": {
    "name": "ipython",
    "version": 3
   },
   "file_extension": ".py",
   "mimetype": "text/x-python",
   "name": "python",
   "nbconvert_exporter": "python",
   "pygments_lexer": "ipython3",
   "version": "3.9.16"
  },
  "orig_nbformat": 4
 },
 "nbformat": 4,
 "nbformat_minor": 2
}
