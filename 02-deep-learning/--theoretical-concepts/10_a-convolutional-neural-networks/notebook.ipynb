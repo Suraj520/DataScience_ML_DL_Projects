{
 "cells": [
  {
   "attachments": {},
   "cell_type": "markdown",
   "metadata": {},
   "source": [
    "#### About\n",
    "\n",
    "> Convolutional neural networks\n",
    "\n",
    "A Convolutional Neural Network (CNN) is a deep learning architecture that is highly efficient for processing visual data such as images. They aim to automatically learn the appropriate features from the input data using convolution and pooling layers, followed by fully connected layers for classification. \n",
    "\n",
    "CNN Math:\n",
    "\n",
    "1. Convolution Operation: Convolution operation is the basic element of CNN. It involves applying convolutional filters/kernels to input data, typically images or feature maps from previous layers, to extract local patterns or features. The convolution operation is mathematically defined as follows:\n",
    "\n",
    "Let's consider a two-dimensional input (image) represented as an H x W (height x width) matrix and a convolutional filter/kernel of size K x K, where K is usually an odd number. The convolution operation involves a dot product between the input data and a filter/kernel at each possible location (i, j) of the input data, resulting in a feature map or output activation in dimension (H - K + 1) x Graph. (W - K + 1 ).\n",
    "\n",
    "The convolution operation can be expressed mathematically as:\n",
    "\n",
    "\n",
    "output[i, j] = sum(sum(input[i:i+K, j:j+K] * filter))\n",
    "where Input[i:i+K, j:j+K] represents the local region of the input data to be convoluted with the filter and Filter is the convolution filter/kernel. \n",
    "\n",
    "\n",
    "2. Pooling operation: The Pooling operation is used to reduce the spatial dimension of the feature map while preserving important features. The most commonly used pool operation is max pooling, which selects the maximum value from a local region of the feature map. The pooling operation is usually applied after the convolution operation, and its mathematical definition is as follows:\n",
    "\n",
    "\n",
    "output[i, j] = max (input[i:i+K, j:j+K])\n",
    "Among them, Input[i:i+K, j:j+K] represents the local area of ​​the feature map, and max is the maximum pool operation.\n",
    "\n",
    "\n",
    "3. Fully Connected Layers: After one or more convolution and pooling layers, the feature map is flattened into a one-dimensional vector and passed through one or more fully connected layers. These layers are similar to those in a traditional feedforward neural network, where each neuron is connected to all neurons in the previous and subsequent layers. The output of the last fully connected layer is used for classification."
   ]
  },
  {
   "cell_type": "code",
   "execution_count": 1,
   "metadata": {},
   "outputs": [
    {
     "name": "stderr",
     "output_type": "stream",
     "text": [
      "2023-04-22 02:54:20.239467: I tensorflow/tsl/cuda/cudart_stub.cc:28] Could not find cuda drivers on your machine, GPU will not be used.\n",
      "2023-04-22 02:54:20.303013: I tensorflow/tsl/cuda/cudart_stub.cc:28] Could not find cuda drivers on your machine, GPU will not be used.\n",
      "2023-04-22 02:54:20.305124: I tensorflow/core/platform/cpu_feature_guard.cc:182] This TensorFlow binary is optimized to use available CPU instructions in performance-critical operations.\n",
      "To enable the following instructions: AVX2 FMA, in other operations, rebuild TensorFlow with the appropriate compiler flags.\n",
      "2023-04-22 02:54:21.949066: W tensorflow/compiler/tf2tensorrt/utils/py_utils.cc:38] TF-TRT Warning: Could not find TensorRT\n"
     ]
    }
   ],
   "source": [
    "from keras.models import Sequential\n",
    "from keras.layers import Conv2D, MaxPooling2D, Flatten, Dense\n",
    "from keras.datasets import cifar10\n",
    "from keras.utils import to_categorical"
   ]
  },
  {
   "cell_type": "code",
   "execution_count": 2,
   "metadata": {},
   "outputs": [],
   "source": [
    "# Load the CIFAR-10 dataset\n",
    "(X_train, y_train), (X_test, y_test) = cifar10.load_data()"
   ]
  },
  {
   "cell_type": "code",
   "execution_count": 3,
   "metadata": {},
   "outputs": [],
   "source": [
    "# Preprocess the data\n",
    "X_train = X_train.astype('float32') / 255.0\n",
    "X_test = X_test.astype('float32') / 255.0\n",
    "y_train = to_categorical(y_train, num_classes=10)\n",
    "y_test = to_categorical(y_test, num_classes=10)\n"
   ]
  },
  {
   "cell_type": "code",
   "execution_count": 4,
   "metadata": {},
   "outputs": [
    {
     "name": "stderr",
     "output_type": "stream",
     "text": [
      "2023-04-22 02:54:37.959180: I tensorflow/compiler/xla/stream_executor/cuda/cuda_gpu_executor.cc:996] successful NUMA node read from SysFS had negative value (-1), but there must be at least one NUMA node, so returning NUMA node zero. See more at https://github.com/torvalds/linux/blob/v6.0/Documentation/ABI/testing/sysfs-bus-pci#L344-L355\n",
      "2023-04-22 02:54:37.961353: W tensorflow/core/common_runtime/gpu/gpu_device.cc:1956] Cannot dlopen some GPU libraries. Please make sure the missing libraries mentioned above are installed properly if you would like to use GPU. Follow the guide at https://www.tensorflow.org/install/gpu for how to download and setup the required libraries for your platform.\n",
      "Skipping registering GPU devices...\n"
     ]
    }
   ],
   "source": [
    "# Define the CNN model\n",
    "model = Sequential()\n",
    "model.add(Conv2D(32, (3, 3), padding='same', activation='relu', input_shape=(32, 32, 3)))\n",
    "model.add(MaxPooling2D(pool_size=(2, 2)))\n",
    "model.add(Conv2D(64, (3, 3), padding='same', activation='relu'))\n",
    "model.add(MaxPooling2D(pool_size=(2, 2)))\n",
    "model.add(Flatten())\n",
    "model.add(Dense(128, activation='relu'))\n",
    "model.add(Dense(10, activation='softmax'))"
   ]
  },
  {
   "cell_type": "code",
   "execution_count": 9,
   "metadata": {},
   "outputs": [],
   "source": [
    "#compile the model\n",
    "model.compile(optimizer='adam', loss='categorical_crossentropy', metrics=['accuracy'])\n"
   ]
  },
  {
   "cell_type": "code",
   "execution_count": 10,
   "metadata": {},
   "outputs": [
    {
     "name": "stdout",
     "output_type": "stream",
     "text": [
      "782/782 [==============================] - 45s 56ms/step - loss: 1.3025 - accuracy: 0.5369 - val_loss: 1.1302 - val_accuracy: 0.6108\n"
     ]
    },
    {
     "data": {
      "text/plain": [
       "<keras.callbacks.History at 0x7fc035341df0>"
      ]
     },
     "execution_count": 10,
     "metadata": {},
     "output_type": "execute_result"
    }
   ],
   "source": [
    "#train the model\n",
    "model.fit(X_train, y_train, batch_size=64, epochs=1, validation_data=(X_test, y_test))\n",
    "\n"
   ]
  },
  {
   "cell_type": "code",
   "execution_count": 11,
   "metadata": {},
   "outputs": [
    {
     "name": "stdout",
     "output_type": "stream",
     "text": [
      "Test loss: 1.1301792860031128\n",
      "Test accuracy: 0.61080002784729\n"
     ]
    }
   ],
   "source": [
    "#Eval model \n",
    "\n",
    "score = model.evaluate(X_test, y_test, verbose=0)\n",
    "print('Test loss:', score[0])\n",
    "print('Test accuracy:', score[1])"
   ]
  },
  {
   "cell_type": "code",
   "execution_count": null,
   "metadata": {},
   "outputs": [],
   "source": []
  }
 ],
 "metadata": {
  "kernelspec": {
   "display_name": "dl",
   "language": "python",
   "name": "python3"
  },
  "language_info": {
   "codemirror_mode": {
    "name": "ipython",
    "version": 3
   },
   "file_extension": ".py",
   "mimetype": "text/x-python",
   "name": "python",
   "nbconvert_exporter": "python",
   "pygments_lexer": "ipython3",
   "version": "3.9.16"
  },
  "orig_nbformat": 4
 },
 "nbformat": 4,
 "nbformat_minor": 2
}
