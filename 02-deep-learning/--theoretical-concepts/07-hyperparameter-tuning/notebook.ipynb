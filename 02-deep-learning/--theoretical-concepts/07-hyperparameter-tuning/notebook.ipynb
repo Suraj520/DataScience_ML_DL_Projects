{
 "cells": [
  {
   "attachments": {},
   "cell_type": "markdown",
   "metadata": {},
   "source": [
    "#### About\n",
    "\n",
    "> Hyperparameter tuning\n",
    "\n",
    "Hyperparameter tuning in deep learning refers to the process of selecting optimal hyperparameters for a neural network model to achieve the best performance on a given task. Hyperparameters are variables that define the architecture, size, and training parameters of a neural network, such as the number of layers, size of each layer, learning rate, batch size, and regularization strength. \n",
    "\n",
    "There are several approaches to tuning hyperparameters in deep learning, including grid search, random search, Keras receivers, and Bayesian optimization.\n",
    "\n"
   ]
  },
  {
   "attachments": {},
   "cell_type": "markdown",
   "metadata": {},
   "source": [
    "#### 1. Hyperparameter tuning in Keras"
   ]
  },
  {
   "cell_type": "code",
   "execution_count": 1,
   "metadata": {},
   "outputs": [
    {
     "name": "stderr",
     "output_type": "stream",
     "text": [
      "2023-04-22 02:01:03.868094: I tensorflow/tsl/cuda/cudart_stub.cc:28] Could not find cuda drivers on your machine, GPU will not be used.\n",
      "2023-04-22 02:01:03.933923: I tensorflow/tsl/cuda/cudart_stub.cc:28] Could not find cuda drivers on your machine, GPU will not be used.\n",
      "2023-04-22 02:01:03.935154: I tensorflow/core/platform/cpu_feature_guard.cc:182] This TensorFlow binary is optimized to use available CPU instructions in performance-critical operations.\n",
      "To enable the following instructions: AVX2 FMA, in other operations, rebuild TensorFlow with the appropriate compiler flags.\n",
      "2023-04-22 02:01:05.549717: W tensorflow/compiler/tf2tensorrt/utils/py_utils.cc:38] TF-TRT Warning: Could not find TensorRT\n",
      "<frozen importlib._bootstrap>:228: RuntimeWarning: scipy._lib.messagestream.MessageStream size changed, may indicate binary incompatibility. Expected 56 from C header, got 64 from PyObject\n"
     ]
    }
   ],
   "source": [
    "from keras.wrappers.scikit_learn import KerasClassifier\n",
    "from sklearn.model_selection import GridSearchCV\n",
    "from keras.datasets import mnist\n",
    "from keras.utils import to_categorical\n",
    "from keras.models import Sequential\n",
    "from keras.layers import Conv2D, MaxPooling2D, Flatten, Dense\n",
    "\n",
    "(X_train, y_train), (X_test, y_test) = mnist.load_data()\n",
    "\n",
    "X_train = X_train.reshape(-1, 28, 28, 1)\n",
    "X_test = X_test.reshape(-1, 28, 28, 1)\n",
    "y_train = to_categorical(y_train)\n",
    "y_test = to_categorical(y_test)\n",
    "\n",
    "def create_model(optimizer='adam'):\n",
    "    model = Sequential()\n",
    "    model.add(Conv2D(32, kernel_size=(3, 3), activation='relu', input_shape=(28, 28, 1)))\n",
    "    model.add(MaxPooling2D(pool_size=(2, 2)))\n",
    "    model.add(Flatten())\n",
    "    model.add(Dense(10, activation='softmax'))\n",
    "    model.compile(optimizer=optimizer, loss='categorical_crossentropy', metrics=['accuracy'])\n",
    "    return model\n"
   ]
  },
  {
   "cell_type": "code",
   "execution_count": 2,
   "metadata": {},
   "outputs": [
    {
     "name": "stderr",
     "output_type": "stream",
     "text": [
      "/tmp/ipykernel_10546/3035233330.py:1: DeprecationWarning: KerasClassifier is deprecated, use Sci-Keras (https://github.com/adriangb/scikeras) instead. See https://www.adriangb.com/scikeras/stable/migration.html for help migrating.\n",
      "  model = KerasClassifier(build_fn=create_model, epochs=1, batch_size=32, verbose=1)\n"
     ]
    }
   ],
   "source": [
    "model = KerasClassifier(build_fn=create_model, epochs=1, batch_size=32, verbose=1)\n",
    "\n",
    "param_grid = {\n",
    "    'optimizer': ['adam', 'sgd'],\n",
    "    'batch_size': [32, 64],\n",
    "}\n"
   ]
  },
  {
   "cell_type": "code",
   "execution_count": 3,
   "metadata": {},
   "outputs": [
    {
     "name": "stderr",
     "output_type": "stream",
     "text": [
      "2023-04-22 02:01:08.633316: I tensorflow/compiler/xla/stream_executor/cuda/cuda_gpu_executor.cc:996] successful NUMA node read from SysFS had negative value (-1), but there must be at least one NUMA node, so returning NUMA node zero. See more at https://github.com/torvalds/linux/blob/v6.0/Documentation/ABI/testing/sysfs-bus-pci#L344-L355\n",
      "2023-04-22 02:01:08.634209: W tensorflow/core/common_runtime/gpu/gpu_device.cc:1956] Cannot dlopen some GPU libraries. Please make sure the missing libraries mentioned above are installed properly if you would like to use GPU. Follow the guide at https://www.tensorflow.org/install/gpu for how to download and setup the required libraries for your platform.\n",
      "Skipping registering GPU devices...\n"
     ]
    },
    {
     "name": "stdout",
     "output_type": "stream",
     "text": [
      "1250/1250 [==============================] - 13s 10ms/step - loss: 1.1763 - accuracy: 0.9220\n",
      "625/625 [==============================] - 3s 5ms/step - loss: 0.1772 - accuracy: 0.9561\n",
      "1250/1250 [==============================] - 12s 9ms/step - loss: 0.7285 - accuracy: 0.9308\n",
      "625/625 [==============================] - 3s 4ms/step - loss: 0.1463 - accuracy: 0.9601\n",
      "1250/1250 [==============================] - 12s 9ms/step - loss: 0.8817 - accuracy: 0.9308\n",
      "625/625 [==============================] - 3s 4ms/step - loss: 0.1663 - accuracy: 0.9609\n",
      "1250/1250 [==============================] - 12s 9ms/step - loss: 1.3228 - accuracy: 0.8899\n",
      "625/625 [==============================] - 3s 5ms/step - loss: 0.1956 - accuracy: 0.9409\n",
      "1250/1250 [==============================] - 13s 10ms/step - loss: 3.0793 - accuracy: 0.8776\n",
      "625/625 [==============================] - 3s 5ms/step - loss: 0.2917 - accuracy: 0.9135\n",
      "1250/1250 [==============================] - 17s 13ms/step - loss: 0.7498 - accuracy: 0.9085\n",
      "625/625 [==============================] - 4s 6ms/step - loss: 0.1955 - accuracy: 0.9396\n",
      "625/625 [==============================] - 11s 16ms/step - loss: 1.0366 - accuracy: 0.9183\n",
      "313/313 [==============================] - 3s 7ms/step - loss: 0.2071 - accuracy: 0.9565\n",
      "625/625 [==============================] - 11s 16ms/step - loss: 1.1422 - accuracy: 0.9179\n",
      "313/313 [==============================] - 2s 6ms/step - loss: 0.2602 - accuracy: 0.9570\n",
      "625/625 [==============================] - 10s 15ms/step - loss: 1.3051 - accuracy: 0.9166\n",
      "313/313 [==============================] - 2s 5ms/step - loss: 0.2303 - accuracy: 0.9575\n",
      "625/625 [==============================] - 9s 13ms/step - loss: 1.3762 - accuracy: 0.8715\n",
      "313/313 [==============================] - 2s 6ms/step - loss: 0.2742 - accuracy: 0.9215\n",
      "625/625 [==============================] - 10s 15ms/step - loss: 2.4994 - accuracy: 0.8386\n",
      "313/313 [==============================] - 3s 9ms/step - loss: 0.2222 - accuracy: 0.9370\n",
      "625/625 [==============================] - 11s 16ms/step - loss: 5.8879 - accuracy: 0.8980\n",
      "313/313 [==============================] - 2s 7ms/step - loss: 0.1744 - accuracy: 0.9473\n",
      "1875/1875 [==============================] - 21s 11ms/step - loss: 0.5999 - accuracy: 0.9380\n",
      "Best Score: 0.9590166608492533 using {'batch_size': 32, 'optimizer': 'adam'}\n"
     ]
    }
   ],
   "source": [
    "#using grid search to search for best hyperparams\n",
    "\n",
    "grid = GridSearchCV(estimator=model, param_grid=param_grid, cv=3)\n",
    "grid_result = grid.fit(X_train, y_train)\n",
    "\n",
    "print(f'Best Score: {grid_result.best_score_} using {grid_result.best_params_}')\n"
   ]
  },
  {
   "cell_type": "code",
   "execution_count": 5,
   "metadata": {},
   "outputs": [
    {
     "name": "stdout",
     "output_type": "stream",
     "text": [
      "Best Score: 0.9590166608492533 using {'batch_size': 32, 'optimizer': 'adam'}\n"
     ]
    }
   ],
   "source": [
    "print(f'Best Score: {grid_result.best_score_} using {grid_result.best_params_}')\n"
   ]
  },
  {
   "attachments": {},
   "cell_type": "markdown",
   "metadata": {},
   "source": [
    "#### 2. Hyperparameter tuning in PyTorch\n",
    "\n",
    "Can similarly be tried"
   ]
  },
  {
   "attachments": {},
   "cell_type": "markdown",
   "metadata": {},
   "source": [
    "#### 3. Using Keras Tuner"
   ]
  },
  {
   "cell_type": "code",
   "execution_count": 17,
   "metadata": {},
   "outputs": [
    {
     "name": "stderr",
     "output_type": "stream",
     "text": [
      "/tmp/ipykernel_10546/4030589968.py:3: DeprecationWarning: `import kerastuner` is deprecated, please use `import keras_tuner`.\n",
      "  from kerastuner import HyperModel, Hyperband\n"
     ]
    }
   ],
   "source": [
    "import tensorflow as tf\n",
    "from tensorflow import keras\n",
    "from kerastuner import HyperModel, Hyperband\n",
    "from kerastuner.engine.hyperparameters import HyperParameters\n"
   ]
  },
  {
   "cell_type": "code",
   "execution_count": 18,
   "metadata": {},
   "outputs": [],
   "source": [
    "(X_train, y_train), (X_test, y_test) = mnist.load_data()\n",
    "\n",
    "X_train = X_train.reshape(-1, 28, 28, 1)\n",
    "X_test = X_test.reshape(-1, 28, 28, 1)\n",
    "y_train = to_categorical(y_train)\n",
    "y_test = to_categorical(y_test)\n"
   ]
  },
  {
   "cell_type": "code",
   "execution_count": 19,
   "metadata": {},
   "outputs": [],
   "source": [
    "def create_model(optimizer='adam'):\n",
    "    model = Sequential()\n",
    "    model.add(Conv2D(32, kernel_size=(3, 3), activation='relu', input_shape=(28, 28, 1)))\n",
    "    model.add(MaxPooling2D(pool_size=(2, 2)))\n",
    "    model.add(Flatten())\n",
    "    model.add(Dense(10, activation='softmax'))\n",
    "    model.compile(optimizer=optimizer, loss='categorical_crossentropy', metrics=['accuracy'])\n",
    "    return model\n"
   ]
  },
  {
   "cell_type": "code",
   "execution_count": 22,
   "metadata": {},
   "outputs": [
    {
     "name": "stderr",
     "output_type": "stream",
     "text": [
      "/tmp/ipykernel_10546/3035233330.py:1: DeprecationWarning: KerasClassifier is deprecated, use Sci-Keras (https://github.com/adriangb/scikeras) instead. See https://www.adriangb.com/scikeras/stable/migration.html for help migrating.\n",
      "  model = KerasClassifier(build_fn=create_model, epochs=1, batch_size=32, verbose=1)\n"
     ]
    }
   ],
   "source": [
    "model = KerasClassifier(build_fn=create_model, epochs=1, batch_size=32, verbose=1)\n",
    "\n",
    "param_grid = {\n",
    "    'optimizer': ['adam', 'sgd'],\n",
    "    'batch_size': [32, 64],\n",
    "}\n"
   ]
  },
  {
   "cell_type": "code",
   "execution_count": 23,
   "metadata": {},
   "outputs": [
    {
     "name": "stdout",
     "output_type": "stream",
     "text": [
      "1250/1250 [==============================] - 13s 9ms/step - loss: 0.6955 - accuracy: 0.9304\n",
      "625/625 [==============================] - 3s 5ms/step - loss: 0.1373 - accuracy: 0.9618\n",
      "1250/1250 [==============================] - 14s 10ms/step - loss: 0.9770 - accuracy: 0.9237\n",
      "625/625 [==============================] - 3s 4ms/step - loss: 0.1730 - accuracy: 0.9617\n",
      "1250/1250 [==============================] - 10s 8ms/step - loss: 0.8382 - accuracy: 0.9260\n",
      "625/625 [==============================] - 3s 4ms/step - loss: 0.1678 - accuracy: 0.9584\n",
      "1250/1250 [==============================] - 11s 9ms/step - loss: 1.9077 - accuracy: 0.7278\n",
      "625/625 [==============================] - 3s 4ms/step - loss: 0.6698 - accuracy: 0.7921\n",
      "1250/1250 [==============================] - 14s 11ms/step - loss: 1.4761 - accuracy: 0.7095\n",
      "625/625 [==============================] - 4s 6ms/step - loss: 1.3625 - accuracy: 0.6679\n",
      "1250/1250 [==============================] - 14s 10ms/step - loss: 2.0932 - accuracy: 0.8793\n",
      "625/625 [==============================] - 3s 5ms/step - loss: 0.2820 - accuracy: 0.9154\n",
      "625/625 [==============================] - 9s 13ms/step - loss: 1.1648 - accuracy: 0.9182\n",
      "313/313 [==============================] - 2s 7ms/step - loss: 0.2412 - accuracy: 0.9549\n",
      "625/625 [==============================] - 9s 13ms/step - loss: 1.2367 - accuracy: 0.9187\n",
      "313/313 [==============================] - 2s 7ms/step - loss: 0.2832 - accuracy: 0.9525\n",
      "625/625 [==============================] - 9s 14ms/step - loss: 1.1786 - accuracy: 0.9179\n",
      "313/313 [==============================] - 2s 7ms/step - loss: 0.2563 - accuracy: 0.9553\n",
      "625/625 [==============================] - 10s 15ms/step - loss: 2.9120 - accuracy: 0.9143\n",
      "313/313 [==============================] - 2s 6ms/step - loss: 0.1699 - accuracy: 0.9482\n",
      "625/625 [==============================] - 10s 15ms/step - loss: 1.8314 - accuracy: 0.8924\n",
      "313/313 [==============================] - 2s 7ms/step - loss: 0.2012 - accuracy: 0.9427\n",
      "625/625 [==============================] - 9s 14ms/step - loss: 1.7006 - accuracy: 0.8790\n",
      "313/313 [==============================] - 2s 7ms/step - loss: 0.2663 - accuracy: 0.9219\n",
      "1875/1875 [==============================] - 21s 11ms/step - loss: 0.6524 - accuracy: 0.9405\n"
     ]
    }
   ],
   "source": [
    "\n",
    "grid = GridSearchCV(estimator=model, param_grid=param_grid, cv=3)\n",
    "grid_result = grid.fit(X_train, y_train)\n"
   ]
  },
  {
   "cell_type": "code",
   "execution_count": 24,
   "metadata": {},
   "outputs": [
    {
     "name": "stdout",
     "output_type": "stream",
     "text": [
      "Best Score: 0.960616668065389 using {'batch_size': 32, 'optimizer': 'adam'}\n"
     ]
    }
   ],
   "source": [
    "print(f'Best Score: {grid_result.best_score_} using {grid_result.best_params_}')\n"
   ]
  },
  {
   "cell_type": "code",
   "execution_count": null,
   "metadata": {},
   "outputs": [],
   "source": []
  }
 ],
 "metadata": {
  "kernelspec": {
   "display_name": "dl",
   "language": "python",
   "name": "python3"
  },
  "language_info": {
   "codemirror_mode": {
    "name": "ipython",
    "version": 3
   },
   "file_extension": ".py",
   "mimetype": "text/x-python",
   "name": "python",
   "nbconvert_exporter": "python",
   "pygments_lexer": "ipython3",
   "version": "3.9.16"
  },
  "orig_nbformat": 4
 },
 "nbformat": 4,
 "nbformat_minor": 2
}
