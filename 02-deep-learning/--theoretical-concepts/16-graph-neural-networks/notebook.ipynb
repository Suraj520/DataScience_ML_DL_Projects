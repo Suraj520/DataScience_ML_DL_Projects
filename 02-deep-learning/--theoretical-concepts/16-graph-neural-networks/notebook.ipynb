{
 "cells": [
  {
   "attachments": {},
   "cell_type": "markdown",
   "metadata": {},
   "source": [
    "### About\n",
    "> GNNs\n",
    "\n",
    "Graph Neural Networks (GNNs) are a type of neural network that can process data represented as graphs, which are a collection of nodes (also called vertices) connected by edges (also called edges or links). GNNs have become popular in various domains, such as social networks, bioinformatics, recommendation systems, and knowledge graphs.\n",
    "\n"
   ]
  },
  {
   "cell_type": "code",
   "execution_count": null,
   "metadata": {},
   "outputs": [],
   "source": []
  }
 ],
 "metadata": {
  "language_info": {
   "name": "python"
  },
  "orig_nbformat": 4
 },
 "nbformat": 4,
 "nbformat_minor": 2
}
