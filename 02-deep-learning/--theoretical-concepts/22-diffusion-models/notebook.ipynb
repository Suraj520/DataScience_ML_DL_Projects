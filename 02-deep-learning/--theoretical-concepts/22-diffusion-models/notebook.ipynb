{
 "cells": [
  {
   "attachments": {},
   "cell_type": "markdown",
   "metadata": {},
   "source": [
    "#### About\n",
    "\n",
    "> Diffusion models\n",
    "\n",
    "Diffusion models, also known as diffusion processes or diffusion equations, are mathematical models that describe the diffusion of a quantity or diffusion in a medium over time. They are widely used in various fields, including physics, chemistry, biology, finance, and image processing. The basic idea behind diffusion models is that the quantity being modeled (such as heat, concentration, or information) tends to diffuse from areas of high concentration to areas of low concentration. The rate of diffusion depends on the concentration gradient, the difference in concentration between adjacent areas. The higher the concentration gradient, the faster the diffusion.\n",
    "\n",
    "A commonly used diffusion model is the diffusion equation, which is a partial differential equation (PDE) that describes the time evolution of the diffusive quantity. Diffusion equations are usually expressed in the following form:\n",
    "\n",
    "∂u/∂t = D∇^2u\n",
    "\n",
    "\n",
    "where u is the diffusive quantity, t is time, D is the diffusion coefficient, and ∇^2u is the Laplace operator applied to u representing the spatial gradient of u. The diffusion equation describes how the concentration \"u\" changes with time due to diffusion and the diffusion coefficient \"D\" determines the rate of diffusion. Diffusion models can be used to model and analyze a variety of diffusion phenomena, such as heat conduction, chemical diffusion, and the spread of information in social networks. \n",
    "\n",
    "They can also be used in image processing tasks such as image segmentation and image smoothing, where a diffusion process is used to spread information between adjacent pixels to improve image quality. "
   ]
  },
  {
   "cell_type": "code",
   "execution_count": 22,
   "metadata": {},
   "outputs": [],
   "source": [
    "from keras.models import Sequential\n",
    "from keras.layers import Conv2D, UpSampling2D\n",
    "from keras.datasets import mnist\n",
    "import matplotlib.pyplot as plt\n"
   ]
  },
  {
   "cell_type": "code",
   "execution_count": 15,
   "metadata": {},
   "outputs": [],
   "source": [
    "# Load and preprocess the MNIST dataset\n",
    "(x_train, _), (x_test, _) = mnist.load_data()\n",
    "x_train = x_train.astype('float32') / 255.\n",
    "x_test = x_test.astype('float32') / 255.\n",
    "x_train = x_train.reshape(-1, 28, 28, 1)\n",
    "x_test = x_test.reshape(-1, 28, 28, 1)"
   ]
  },
  {
   "cell_type": "code",
   "execution_count": 16,
   "metadata": {},
   "outputs": [],
   "source": [
    "# Define the diffusion model\n",
    "def diffusion_model():\n",
    "    model = Sequential()\n",
    "    # Encoder\n",
    "    model.add(Conv2D(16, (3, 3), activation='relu', padding='same', input_shape=(28, 28, 1)))\n",
    "    model.add(Conv2D(32, (3, 3), activation='relu', padding='same'))\n",
    "    # Decoder\n",
    "    model.add(Conv2D(32, (3, 3), activation='relu', padding='same'))\n",
    "    model.add(Conv2D(16, (3, 3), activation='relu', padding='same'))\n",
    "    model.add(Conv2D(1, (3, 3), activation='sigmoid', padding='same'))\n",
    "    return model\n"
   ]
  },
  {
   "cell_type": "code",
   "execution_count": 17,
   "metadata": {},
   "outputs": [],
   "source": [
    "# Create the diffusion model\n",
    "model = diffusion_model()"
   ]
  },
  {
   "cell_type": "code",
   "execution_count": 18,
   "metadata": {},
   "outputs": [],
   "source": [
    "\n",
    "# Compile the model\n",
    "model.compile(optimizer='adam', loss='binary_crossentropy')\n"
   ]
  },
  {
   "cell_type": "code",
   "execution_count": 20,
   "metadata": {},
   "outputs": [
    {
     "name": "stdout",
     "output_type": "stream",
     "text": [
      "375/375 [==============================] - 114s 304ms/step - loss: 0.0620 - val_loss: 0.0615\n"
     ]
    },
    {
     "data": {
      "text/plain": [
       "<keras.callbacks.History at 0x7fb30c1112b0>"
      ]
     },
     "execution_count": 20,
     "metadata": {},
     "output_type": "execute_result"
    }
   ],
   "source": [
    "\n",
    "# Train the diffusion model\n",
    "model.fit(x_train, x_train, epochs=1, batch_size=128, validation_split=0.2)\n"
   ]
  },
  {
   "cell_type": "code",
   "execution_count": 21,
   "metadata": {},
   "outputs": [],
   "source": [
    "# Function to plot original and predicted images\n",
    "def plot_images(original, predicted):\n",
    "    n = min(original.shape[0], 10)\n",
    "    plt.figure(figsize=(20, 4))\n",
    "    for i in range(n):\n",
    "        # Original image\n",
    "        ax = plt.subplot(2, n, i + 1)\n",
    "        plt.imshow(original[i].reshape(28, 28))\n",
    "        plt.gray()\n",
    "        ax.get_xaxis().set_visible(False)\n",
    "        ax.get_yaxis().set_visible(False)\n",
    "\n",
    "        # Predicted image\n",
    "        ax = plt.subplot(2, n, i + 1 + n)\n",
    "        plt.imshow(predicted[i].reshape(28, 28))\n",
    "        plt.gray()\n",
    "        ax.get_xaxis().set_visible(False)\n",
    "        ax.get_yaxis().set_visible(False)\n",
    "    plt.show()"
   ]
  },
  {
   "cell_type": "code",
   "execution_count": 24,
   "metadata": {},
   "outputs": [
    {
     "name": "stdout",
     "output_type": "stream",
     "text": [
      "313/313 [==============================] - 8s 25ms/step\n"
     ]
    },
    {
     "data": {
      "image/png": "[encoded data removed]",
      "text/plain": [
       "<Figure size 2000x400 with 20 Axes>"
      ]
     },
     "metadata": {},
     "output_type": "display_data"
    }
   ],
   "source": [
    "# Plot the original and predicted images for comparison\n",
    "x_pred = model.predict(x_test)\n",
    "\n",
    "plot_images(x_test, x_pred)"
   ]
  },
  {
   "cell_type": "code",
   "execution_count": null,
   "metadata": {},
   "outputs": [],
   "source": []
  }
 ],
 "metadata": {
  "kernelspec": {
   "display_name": "dl",
   "language": "python",
   "name": "python3"
  },
  "language_info": {
   "codemirror_mode": {
    "name": "ipython",
    "version": 3
   },
   "file_extension": ".py",
   "mimetype": "text/x-python",
   "name": "python",
   "nbconvert_exporter": "python",
   "pygments_lexer": "ipython3",
   "version": "3.9.16"
  },
  "orig_nbformat": 4
 },
 "nbformat": 4,
 "nbformat_minor": 2
}
