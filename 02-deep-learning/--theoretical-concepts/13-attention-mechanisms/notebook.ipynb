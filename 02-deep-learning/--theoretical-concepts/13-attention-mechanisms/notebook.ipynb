{
 "cells": [
  {
   "attachments": {},
   "cell_type": "markdown",
   "metadata": {},
   "source": [
    "#### About\n",
    "\n",
    "> Attention mechanism\n",
    "\n",
    "Attention is a mechanism used in neural networks to selectively focus on different parts of the input data, allowing the model to learn to weigh the importance of different elements of the input when making predictions or generating output. Attention mechanisms have been widely used in natural language processing (NLP) tasks such as machine translation, sentiment analysis, and text summarization. Mathematically, the mechanism of attention can be described as follows:\n",
    "\n",
    "1. Input Embedding: The input data (such as a sequence of words in NLP) is first embedded into a continuous vector representation using an embedding layer. It converts discrete input data into a continuous representation that can be processed by a neural network.\n",
    "\n",
    "2. Query, key, and value: The embedded input data is then used to generate three sets of vectors—query, key, and value. These vectors are linear transformations of the input embeddings, which are typically computed using a learnable weight matrix. The query vector represents the information the model wants to retrieve or focus on, the key vector represents the information in the input data, and the value vector represents the actual value or representation of the input data.\n",
    "\n",
    "3. Attention Weights: The next step is to calculate attention weights, which determine how much attention or importance each input data element should have. Note that the weights are calculated by measuring the similarity between the query vectors and the key vectors. Common methods of measuring similarity include dot product, cosine similarity, or scaled dot product.\n",
    "\n",
    "4. Softmax activation: The attention weights are then passed through a softmax activation function, which normalizes the weights to be between 0 and 1 and ensures that the weights sum to 1. This softmax activation allows the model to allocate attention among the input elements in a probabilistic manner. , giving more weight to more relevant elements and less weight to less relevant elements. \n",
    "\n",
    "5. Weighted Sum: Attention weights are used to calculate a weighted sum of value vectors, where values ​​with higher attention weights contribute more to the final representation. This weighted sum represents the context or participation representation of the input data, which is a weighted combination of input values ​​based on their importance.\n",
    "\n",
    "6. Output: The participant representations or context vectors are then used as input to subsequent neural network layers for further processing or prediction. The attention mechanism allows the model to selectively focus on different parts of the input data according to the relevance of the input data, which improves the model's ability to capture important information and make accurate predictions. \n",
    "\n",
    "Attention mechanisms can be implemented in different ways, such as self-attention or scaled dot-product attention, often used in models based on transformers, or additive attention or multiplicative attention, which are early versions of attention mechanisms."
   ]
  },
  {
   "cell_type": "code",
   "execution_count": 1,
   "metadata": {},
   "outputs": [
    {
     "name": "stderr",
     "output_type": "stream",
     "text": [
      "2023-04-22 03:48:26.562959: I tensorflow/tsl/cuda/cudart_stub.cc:28] Could not find cuda drivers on your machine, GPU will not be used.\n",
      "2023-04-22 03:48:26.639914: I tensorflow/tsl/cuda/cudart_stub.cc:28] Could not find cuda drivers on your machine, GPU will not be used.\n",
      "2023-04-22 03:48:26.640484: I tensorflow/core/platform/cpu_feature_guard.cc:182] This TensorFlow binary is optimized to use available CPU instructions in performance-critical operations.\n",
      "To enable the following instructions: AVX2 FMA, in other operations, rebuild TensorFlow with the appropriate compiler flags.\n",
      "2023-04-22 03:48:28.243138: W tensorflow/compiler/tf2tensorrt/utils/py_utils.cc:38] TF-TRT Warning: Could not find TensorRT\n"
     ]
    }
   ],
   "source": [
    "from keras.layers import Dense, Embedding, Input, Lambda, Dot\n",
    "from keras.models import Model\n",
    "import keras.backend as K\n"
   ]
  },
  {
   "cell_type": "code",
   "execution_count": 2,
   "metadata": {},
   "outputs": [],
   "source": [
    "# Input data dimensions\n",
    "batch_size = 4\n",
    "sequence_length = 6\n",
    "embedding_dim = 4\n",
    "vector_dim = 3\n"
   ]
  },
  {
   "cell_type": "code",
   "execution_count": 3,
   "metadata": {},
   "outputs": [],
   "source": [
    "# Input layer\n",
    "input_data = Input(shape=(sequence_length, embedding_dim))\n"
   ]
  },
  {
   "cell_type": "code",
   "execution_count": 4,
   "metadata": {},
   "outputs": [
    {
     "name": "stderr",
     "output_type": "stream",
     "text": [
      "2023-04-22 03:48:40.219312: I tensorflow/compiler/xla/stream_executor/cuda/cuda_gpu_executor.cc:996] successful NUMA node read from SysFS had negative value (-1), but there must be at least one NUMA node, so returning NUMA node zero. See more at https://github.com/torvalds/linux/blob/v6.0/Documentation/ABI/testing/sysfs-bus-pci#L344-L355\n",
      "2023-04-22 03:48:40.220673: W tensorflow/core/common_runtime/gpu/gpu_device.cc:1956] Cannot dlopen some GPU libraries. Please make sure the missing libraries mentioned above are installed properly if you would like to use GPU. Follow the guide at https://www.tensorflow.org/install/gpu for how to download and setup the required libraries for your platform.\n",
      "Skipping registering GPU devices...\n"
     ]
    }
   ],
   "source": [
    "# Query, Key, and Value vectors\n",
    "query = Dense(vector_dim)(input_data)\n",
    "key = Dense(vector_dim)(input_data)\n",
    "value = Dense(vector_dim)(input_data)\n"
   ]
  },
  {
   "cell_type": "code",
   "execution_count": 5,
   "metadata": {},
   "outputs": [
    {
     "name": "stdout",
     "output_type": "stream",
     "text": [
      "KerasTensor(type_spec=TensorSpec(shape=(None, 6, 6), dtype=tf.float32, name=None), name='dot/MatMul:0', description=\"created by layer 'dot'\")\n"
     ]
    }
   ],
   "source": [
    "# Compute similarity scores (dot product)\n",
    "similarity_scores = Dot(axes=(2,2))([query, key])\n",
    "print(similarity_scores)"
   ]
  },
  {
   "cell_type": "code",
   "execution_count": 6,
   "metadata": {},
   "outputs": [],
   "source": [
    "# Softmax activation for attention weights\n",
    "attention_weights = Dense(sequence_length, activation='softmax')(similarity_scores)\n"
   ]
  },
  {
   "cell_type": "code",
   "execution_count": 7,
   "metadata": {},
   "outputs": [],
   "source": [
    "# Compute weighted sum of value vectors\n",
    "weighted_sum = Dot(axes=(2,1))([attention_weights, value])\n"
   ]
  },
  {
   "cell_type": "code",
   "execution_count": 8,
   "metadata": {},
   "outputs": [],
   "source": [
    "# Flatten the weighted sum tensor\n",
    "context_vector = Lambda(lambda x: K.sum(x, axis=1))(weighted_sum)\n"
   ]
  },
  {
   "cell_type": "code",
   "execution_count": 9,
   "metadata": {},
   "outputs": [],
   "source": [
    "# Output layer\n",
    "output = Dense(1, activation='sigmoid')(context_vector)\n"
   ]
  },
  {
   "cell_type": "code",
   "execution_count": 10,
   "metadata": {},
   "outputs": [],
   "source": [
    "# Define the model\n",
    "model = Model(inputs=input_data, outputs=output)\n"
   ]
  },
  {
   "cell_type": "code",
   "execution_count": 11,
   "metadata": {},
   "outputs": [],
   "source": [
    "# Compile the model\n",
    "model.compile(optimizer='adam', loss='binary_crossentropy', metrics=['accuracy'])\n"
   ]
  },
  {
   "cell_type": "code",
   "execution_count": 12,
   "metadata": {},
   "outputs": [
    {
     "name": "stdout",
     "output_type": "stream",
     "text": [
      "Model: \"model\"\n",
      "__________________________________________________________________________________________________\n",
      " Layer (type)                   Output Shape         Param #     Connected to                     \n",
      "==================================================================================================\n",
      " input_1 (InputLayer)           [(None, 6, 4)]       0           []                               \n",
      "                                                                                                  \n",
      " dense (Dense)                  (None, 6, 3)         15          ['input_1[0][0]']                \n",
      "                                                                                                  \n",
      " dense_1 (Dense)                (None, 6, 3)         15          ['input_1[0][0]']                \n",
      "                                                                                                  \n",
      " dot (Dot)                      (None, 6, 6)         0           ['dense[0][0]',                  \n",
      "                                                                  'dense_1[0][0]']                \n",
      "                                                                                                  \n",
      " dense_3 (Dense)                (None, 6, 6)         42          ['dot[0][0]']                    \n",
      "                                                                                                  \n",
      " dense_2 (Dense)                (None, 6, 3)         15          ['input_1[0][0]']                \n",
      "                                                                                                  \n",
      " dot_1 (Dot)                    (None, 6, 3)         0           ['dense_3[0][0]',                \n",
      "                                                                  'dense_2[0][0]']                \n",
      "                                                                                                  \n",
      " lambda (Lambda)                (None, 3)            0           ['dot_1[0][0]']                  \n",
      "                                                                                                  \n",
      " dense_4 (Dense)                (None, 1)            4           ['lambda[0][0]']                 \n",
      "                                                                                                  \n",
      "==================================================================================================\n",
      "Total params: 91\n",
      "Trainable params: 91\n",
      "Non-trainable params: 0\n",
      "__________________________________________________________________________________________________\n"
     ]
    }
   ],
   "source": [
    "# Print the model summary\n",
    "model.summary()"
   ]
  },
  {
   "cell_type": "code",
   "execution_count": 13,
   "metadata": {},
   "outputs": [],
   "source": [
    "import numpy as np\n",
    "\n",
    "# Generate some example data\n",
    "X_train = np.random.rand(100, 6, 4)  # Input data with shape (batch_size, sequence_length, embedding_dim)\n",
    "y_train = np.random.randint(0, 2, size=(100, 1))  # Binary labels\n"
   ]
  },
  {
   "cell_type": "code",
   "execution_count": 14,
   "metadata": {},
   "outputs": [
    {
     "name": "stdout",
     "output_type": "stream",
     "text": [
      "Epoch 1/10\n",
      "20/20 [==============================] - 2s 23ms/step - loss: 2.8294 - accuracy: 0.5625 - val_loss: 4.8917 - val_accuracy: 0.2500\n",
      "Epoch 2/10\n",
      "20/20 [==============================] - 0s 5ms/step - loss: 2.5314 - accuracy: 0.5625 - val_loss: 4.4302 - val_accuracy: 0.2500\n",
      "Epoch 3/10\n",
      "20/20 [==============================] - 0s 5ms/step - loss: 2.2539 - accuracy: 0.5625 - val_loss: 3.9339 - val_accuracy: 0.2500\n",
      "Epoch 4/10\n",
      "20/20 [==============================] - 0s 6ms/step - loss: 1.9839 - accuracy: 0.5625 - val_loss: 3.4477 - val_accuracy: 0.2500\n",
      "Epoch 5/10\n",
      "20/20 [==============================] - 0s 6ms/step - loss: 1.7132 - accuracy: 0.5625 - val_loss: 2.9993 - val_accuracy: 0.2500\n",
      "Epoch 6/10\n",
      "20/20 [==============================] - 0s 6ms/step - loss: 1.4534 - accuracy: 0.5625 - val_loss: 2.5811 - val_accuracy: 0.2500\n",
      "Epoch 7/10\n",
      "20/20 [==============================] - 0s 6ms/step - loss: 1.2372 - accuracy: 0.5625 - val_loss: 2.1347 - val_accuracy: 0.3000\n",
      "Epoch 8/10\n",
      "20/20 [==============================] - 0s 6ms/step - loss: 1.0334 - accuracy: 0.5750 - val_loss: 1.7704 - val_accuracy: 0.3500\n",
      "Epoch 9/10\n",
      "20/20 [==============================] - 0s 6ms/step - loss: 0.9100 - accuracy: 0.5000 - val_loss: 1.4380 - val_accuracy: 0.3500\n",
      "Epoch 10/10\n",
      "20/20 [==============================] - 0s 6ms/step - loss: 0.8039 - accuracy: 0.5000 - val_loss: 1.2974 - val_accuracy: 0.3000\n"
     ]
    },
    {
     "data": {
      "text/plain": [
       "<keras.callbacks.History at 0x7f1157bdf580>"
      ]
     },
     "execution_count": 14,
     "metadata": {},
     "output_type": "execute_result"
    }
   ],
   "source": [
    "# Fit the model and train\n",
    "model.fit(X_train, y_train, batch_size=batch_size, epochs=10, validation_split=0.2)"
   ]
  },
  {
   "cell_type": "code",
   "execution_count": 15,
   "metadata": {},
   "outputs": [],
   "source": [
    "import matplotlib.pyplot as plt\n",
    "\n",
    "# Generate some example test data\n",
    "X_test = np.random.rand(20, 6, 4)  # Input data with shape (batch_size, sequence_length, embedding_dim)\n"
   ]
  },
  {
   "cell_type": "code",
   "execution_count": 16,
   "metadata": {},
   "outputs": [
    {
     "name": "stdout",
     "output_type": "stream",
     "text": [
      "1/1 [==============================] - 0s 395ms/step\n"
     ]
    }
   ],
   "source": [
    "# Make predictions\n",
    "y_pred = model.predict(X_test)"
   ]
  },
  {
   "cell_type": "code",
   "execution_count": 18,
   "metadata": {},
   "outputs": [
    {
     "data": {
      "image/png": "[encoded data removed]",
      "text/plain": [
       "<Figure size 640x480 with 1 Axes>"
      ]
     },
     "metadata": {},
     "output_type": "display_data"
    }
   ],
   "source": [
    "\n",
    "# Plot predicted probabilities\n",
    "plt.bar(np.arange(len(y_pred)), y_pred[:, 0])\n",
    "plt.xlabel('Sample Index')\n",
    "plt.ylabel('Predicted Probability')\n",
    "plt.title('Predicted Probabilities')\n",
    "plt.xticks(np.arange(len(y_pred)))\n",
    "plt.show()"
   ]
  },
  {
   "attachments": {},
   "cell_type": "markdown",
   "metadata": {},
   "source": [
    "This plot displays the predicted probabilities for each sample in the X_test data. It shows a bar chart with the sample index on the x-axis and the predicted probability of class 0 (or the first class) on the y-axis. This plot provides an overview of the predicted probabilities for each sample, helping to understand the model's confidence in its predictions."
   ]
  },
  {
   "cell_type": "code",
   "execution_count": null,
   "metadata": {},
   "outputs": [],
   "source": []
  }
 ],
 "metadata": {
  "kernelspec": {
   "display_name": "dl",
   "language": "python",
   "name": "python3"
  },
  "language_info": {
   "codemirror_mode": {
    "name": "ipython",
    "version": 3
   },
   "file_extension": ".py",
   "mimetype": "text/x-python",
   "name": "python",
   "nbconvert_exporter": "python",
   "pygments_lexer": "ipython3",
   "version": "3.9.16"
  },
  "orig_nbformat": 4
 },
 "nbformat": 4,
 "nbformat_minor": 2
}
