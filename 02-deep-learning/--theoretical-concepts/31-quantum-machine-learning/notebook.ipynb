{
 "cells": [
  {
   "attachments": {},
   "cell_type": "markdown",
   "metadata": {},
   "source": [
    "##### About\n",
    "\n",
    "> Quantum Machine learning\n",
    "\n",
    "Quantum machine learning is an interdisciplinary field that combines concepts from quantum mechanics and machine learning to develop algorithms and models that exploit the properties of quantum systems to solve machine learning tasks. The mathematical foundation of quantum machine learning includes several key concepts, including quantum states, quantum gates, and quantum measurements. Here are some mathematical concepts commonly used in quantum machine learning:\n",
    "\n",
    "1. Quantum State: In quantum mechanics, a quantum state is a mathematical description that represents the state of a quantum system. It is usually represented as a vector in a complex vector space called Hilbert space. Quantum states are represented as ket vectors, usually denoted by |ψ⟩, where ψ is a vector in Hilbert space. \n",
    "\n",
    "2. Quantum Gates: Quantum gates are mathematical operators that act on quantum states to change them. They look like classical gates in classical computing, but they operate on quantum states in a way governed by the principles of quantum mechanics. Quantum gates are usually represented as identity matrices, which are square matrices that preserve the norms of the quantum states. \n",
    "\n",
    "3. Quantum measurements. Quantum measurements are mathematical operations that extract information from quantum states. Unlike classical measurements, quantum measurements are probabilistic, and measurement results are determined by probabilities associated with different possible measurement outcomes. The results of quantum measurements are often expressed as classical probability distributions. \n",
    "\n",
    "4. Quantum Circuits: A quantum circuit is a series of quantum gates and measurements used to perform quantum computations. They are similar to classical circuits in classical computing, but they operate on quantum states and use quantum gates for computation.\n",
    "\n",
    "5. Quantum entanglement: Quantum entanglement is a phenomenon in quantum mechanics where the state of one quantum system is associated with the state of another quantum system even though they are spatially separated. Mathematically, entanglement is described as entangled states that cannot be separated into independent states of each system. Entanglement has been used in quantum machine learning for tasks such as quantum data encoding, quantum state preparation, and quantum function extraction.\n",
    "\n",
    "6. Quantum Algorithms: Quantum algorithms are mathematical algorithms designed to exploit the properties of quantum systems to solve machine learning tasks. Examples of quantum algorithms used in quantum machine learning include quantum support vector machines, quantum neural networks, and quantum clustering algorithms. \n",
    "\n",
    "7. Representation of quantum data. Quantum machine learning also involves representing classical data in quantum states. Quantum data representation techniques such as quantum feature maps, quantum embedding, and quantum data encoding are used to transform classical data into quantum states that can be processed by quantum algorithms."
   ]
  }
 ],
 "metadata": {
  "kernelspec": {
   "display_name": "dl",
   "language": "python",
   "name": "python3"
  },
  "language_info": {
   "codemirror_mode": {
    "name": "ipython",
    "version": 3
   },
   "file_extension": ".py",
   "mimetype": "text/x-python",
   "name": "python",
   "nbconvert_exporter": "python",
   "pygments_lexer": "ipython3",
   "version": "3.9.16"
  },
  "orig_nbformat": 4
 },
 "nbformat": 4,
 "nbformat_minor": 2
}
