{
 "cells": [
  {
   "attachments": {},
   "cell_type": "markdown",
   "metadata": {},
   "source": [
    "#### About\n",
    "\n",
    "> Regularization\n",
    "\n",
    "Regularization is a technique used in deep training to prevent overfitting, which occurs when a model learns to perform well on training data but does not generalize very well to unseen data. Regularization methods add penalty terms to the loss function during training to limit the model weights and biases, preventing them from growing too large and reducing the model's ability to overfit. The penalty system encourages the model to learn simpler, smoother, and more general representations, which often results in better performance on unseen data.\n",
    "\n",
    "regularization loss = loss + λ * regularization term\n",
    "\n",
    "Where loss is the original loss function without regularization, λ is the regularization parameter that controls the strength of the regularization, and the Regularization term is the penalty term added to the loss function. Advanced education uses several types of validation techniques, including:\n",
    "\n",
    "1. L1 regularization (Lasso regularization): L1 regularization adds a penalty term to the loss function that is proportional to the absolute value of the model weights. This forces the model to learn sparse representations by pushing some weights exactly to zero. \n",
    "\n",
    "Regularization term = λ * ||W||1\n",
    "\n",
    "Where W is the weight matrix of the model, ||W||1 is the L1 norm of the weight matrix (the sum of the absolute values ​​of the weights), and λ is the regularization parameter.\n",
    "\n",
    "2. L2 regularization (Ridge regularization): L2 regularization is to add a penalty to the loss function that is proportional to the square of the model weight. This encourages the model to learn smaller weights, preventing one weight from dominating the learning process. \n",
    "\n",
    "Regularization term = λ * ||W||2^2\n",
    "\n",
    "where W is the weight matrix of the model, ||W||2 is the L2 norm of the weight matrix (the square root of the sum of the squared values ​​of the weights), and λ is the regularization parameter. \n",
    "\n",
    "3. Elastic net regularization: Elastic net regularization is a combination of L1 and L2 regularization. It adds a penalty term to the loss function, which is the weighted sum of the L1 and L2 regularization terms. This provides a balance between sparseness-induced L1 regularization and smoothness-induced L2 regularization. \n",
    "\n",
    "Regularization term = λ1 * ||W||1 + λ2 * ||W||2^2\n",
    "\n",
    "where λ1 and λ2 are the regularization parameters of L1 and L2 regularization, respectively, and W is the weight matrix of the model.\n"
   ]
  },
  {
   "cell_type": "code",
   "execution_count": 1,
   "metadata": {},
   "outputs": [
    {
     "name": "stderr",
     "output_type": "stream",
     "text": [
      "2023-04-22 02:40:55.182955: I tensorflow/tsl/cuda/cudart_stub.cc:28] Could not find cuda drivers on your machine, GPU will not be used.\n",
      "2023-04-22 02:40:55.244469: I tensorflow/tsl/cuda/cudart_stub.cc:28] Could not find cuda drivers on your machine, GPU will not be used.\n",
      "2023-04-22 02:40:55.248671: I tensorflow/core/platform/cpu_feature_guard.cc:182] This TensorFlow binary is optimized to use available CPU instructions in performance-critical operations.\n",
      "To enable the following instructions: AVX2 FMA, in other operations, rebuild TensorFlow with the appropriate compiler flags.\n",
      "2023-04-22 02:40:56.577409: W tensorflow/compiler/tf2tensorrt/utils/py_utils.cc:38] TF-TRT Warning: Could not find TensorRT\n"
     ]
    }
   ],
   "source": [
    "import numpy as np\n",
    "import matplotlib.pyplot as plt\n",
    "from keras.datasets import fashion_mnist\n",
    "from keras.models import Sequential\n",
    "from keras.layers import Dense\n",
    "from keras.utils import to_categorical\n",
    "from keras import regularizers\n"
   ]
  },
  {
   "cell_type": "code",
   "execution_count": 2,
   "metadata": {},
   "outputs": [
    {
     "name": "stdout",
     "output_type": "stream",
     "text": [
      "Downloading data from https://storage.googleapis.com/tensorflow/tf-keras-datasets/train-labels-idx1-ubyte.gz\n",
      "29515/29515 [==============================] - 0s 2us/step\n",
      "Downloading data from https://storage.googleapis.com/tensorflow/tf-keras-datasets/train-images-idx3-ubyte.gz\n",
      "26421880/26421880 [==============================] - 5s 0us/step\n",
      "Downloading data from https://storage.googleapis.com/tensorflow/tf-keras-datasets/t10k-labels-idx1-ubyte.gz\n",
      "5148/5148 [==============================] - 0s 0us/step\n",
      "Downloading data from https://storage.googleapis.com/tensorflow/tf-keras-datasets/t10k-images-idx3-ubyte.gz\n",
      "4422102/4422102 [==============================] - 1s 0us/step\n"
     ]
    }
   ],
   "source": [
    "(X_train, y_train), (X_test, y_test) = fashion_mnist.load_data()\n"
   ]
  },
  {
   "cell_type": "code",
   "execution_count": 3,
   "metadata": {},
   "outputs": [],
   "source": [
    "# Preprocess the data\n",
    "X_train = X_train.reshape(-1, 28 * 28) / 255.0\n",
    "X_test = X_test.reshape(-1, 28 * 28) / 255.0\n",
    "y_train = to_categorical(y_train, num_classes=10)\n",
    "y_test = to_categorical(y_test, num_classes=10)\n"
   ]
  },
  {
   "cell_type": "code",
   "execution_count": 4,
   "metadata": {},
   "outputs": [
    {
     "name": "stderr",
     "output_type": "stream",
     "text": [
      "2023-04-22 02:41:57.992502: I tensorflow/compiler/xla/stream_executor/cuda/cuda_gpu_executor.cc:996] successful NUMA node read from SysFS had negative value (-1), but there must be at least one NUMA node, so returning NUMA node zero. See more at https://github.com/torvalds/linux/blob/v6.0/Documentation/ABI/testing/sysfs-bus-pci#L344-L355\n",
      "2023-04-22 02:41:57.993643: W tensorflow/core/common_runtime/gpu/gpu_device.cc:1956] Cannot dlopen some GPU libraries. Please make sure the missing libraries mentioned above are installed properly if you would like to use GPU. Follow the guide at https://www.tensorflow.org/install/gpu for how to download and setup the required libraries for your platform.\n",
      "Skipping registering GPU devices...\n"
     ]
    }
   ],
   "source": [
    "# Define the regularized model\n",
    "model = Sequential()\n",
    "model.add(Dense(256, activation='relu', input_shape=(28 * 28,),\n",
    "                kernel_regularizer=regularizers.l2(0.01)))  # L2 regularization with lambda = 0.01\n",
    "model.add(Dense(128, activation='relu',\n",
    "                kernel_regularizer=regularizers.l2(0.01)))  # L2 regularization with lambda = 0.01\n",
    "model.add(Dense(64, activation='relu',\n",
    "                kernel_regularizer=regularizers.l2(0.01)))  # L2 regularization with lambda = 0.01\n",
    "model.add(Dense(10, activation='softmax'))\n"
   ]
  },
  {
   "cell_type": "code",
   "execution_count": 5,
   "metadata": {},
   "outputs": [],
   "source": [
    "# Compile the model\n",
    "model.compile(optimizer='adam', loss='categorical_crossentropy', metrics=['accuracy'])\n"
   ]
  },
  {
   "cell_type": "code",
   "execution_count": 6,
   "metadata": {},
   "outputs": [
    {
     "name": "stdout",
     "output_type": "stream",
     "text": [
      "Epoch 1/20\n",
      "422/422 [==============================] - 5s 8ms/step - loss: 1.9518 - accuracy: 0.7801 - val_loss: 1.0067 - val_accuracy: 0.8138\n",
      "Epoch 2/20\n",
      "422/422 [==============================] - 4s 9ms/step - loss: 0.9224 - accuracy: 0.8111 - val_loss: 0.8286 - val_accuracy: 0.8222\n",
      "Epoch 3/20\n",
      "422/422 [==============================] - 4s 8ms/step - loss: 0.8161 - accuracy: 0.8137 - val_loss: 0.8012 - val_accuracy: 0.8070\n",
      "Epoch 4/20\n",
      "422/422 [==============================] - 4s 9ms/step - loss: 0.7630 - accuracy: 0.8196 - val_loss: 0.7305 - val_accuracy: 0.8263\n",
      "Epoch 5/20\n",
      "422/422 [==============================] - 3s 7ms/step - loss: 0.7304 - accuracy: 0.8231 - val_loss: 0.7332 - val_accuracy: 0.8127\n",
      "Epoch 6/20\n",
      "422/422 [==============================] - 3s 7ms/step - loss: 0.7023 - accuracy: 0.8280 - val_loss: 0.7116 - val_accuracy: 0.8238\n",
      "Epoch 7/20\n",
      "422/422 [==============================] - 3s 7ms/step - loss: 0.6842 - accuracy: 0.8312 - val_loss: 0.6746 - val_accuracy: 0.8348\n",
      "Epoch 8/20\n",
      "422/422 [==============================] - 3s 7ms/step - loss: 0.6696 - accuracy: 0.8353 - val_loss: 0.6840 - val_accuracy: 0.8192\n",
      "Epoch 9/20\n",
      "422/422 [==============================] - 3s 7ms/step - loss: 0.6570 - accuracy: 0.8355 - val_loss: 0.6358 - val_accuracy: 0.8430\n",
      "Epoch 10/20\n",
      "422/422 [==============================] - 3s 7ms/step - loss: 0.6434 - accuracy: 0.8382 - val_loss: 0.6313 - val_accuracy: 0.8365\n",
      "Epoch 11/20\n",
      "422/422 [==============================] - 3s 8ms/step - loss: 0.6349 - accuracy: 0.8394 - val_loss: 0.6457 - val_accuracy: 0.8302\n",
      "Epoch 12/20\n",
      "422/422 [==============================] - 3s 7ms/step - loss: 0.6215 - accuracy: 0.8430 - val_loss: 0.6173 - val_accuracy: 0.8445\n",
      "Epoch 13/20\n",
      "422/422 [==============================] - 3s 7ms/step - loss: 0.6201 - accuracy: 0.8416 - val_loss: 0.6168 - val_accuracy: 0.8392\n",
      "Epoch 14/20\n",
      "422/422 [==============================] - 3s 8ms/step - loss: 0.6095 - accuracy: 0.8457 - val_loss: 0.6002 - val_accuracy: 0.8463\n",
      "Epoch 15/20\n",
      "422/422 [==============================] - 3s 7ms/step - loss: 0.6032 - accuracy: 0.8464 - val_loss: 0.6372 - val_accuracy: 0.8312\n",
      "Epoch 16/20\n",
      "422/422 [==============================] - 3s 7ms/step - loss: 0.5957 - accuracy: 0.8476 - val_loss: 0.5858 - val_accuracy: 0.8502\n",
      "Epoch 17/20\n",
      "422/422 [==============================] - 3s 8ms/step - loss: 0.5886 - accuracy: 0.8496 - val_loss: 0.5850 - val_accuracy: 0.8492\n",
      "Epoch 18/20\n",
      "422/422 [==============================] - 3s 7ms/step - loss: 0.5840 - accuracy: 0.8493 - val_loss: 0.6212 - val_accuracy: 0.8378\n",
      "Epoch 19/20\n",
      "422/422 [==============================] - 3s 7ms/step - loss: 0.5782 - accuracy: 0.8513 - val_loss: 0.5673 - val_accuracy: 0.8493\n",
      "Epoch 20/20\n",
      "422/422 [==============================] - 3s 8ms/step - loss: 0.5776 - accuracy: 0.8506 - val_loss: 0.5730 - val_accuracy: 0.8520\n"
     ]
    }
   ],
   "source": [
    "# Train the model\n",
    "history = model.fit(X_train, y_train, batch_size=128, epochs=20, verbose=1, validation_split=0.1)\n"
   ]
  },
  {
   "cell_type": "code",
   "execution_count": 7,
   "metadata": {},
   "outputs": [
    {
     "name": "stdout",
     "output_type": "stream",
     "text": [
      "Test loss: 0.5938915014266968\n",
      "Test accuracy: 0.8476999998092651\n"
     ]
    }
   ],
   "source": [
    "# Evaluate the model on the test data\n",
    "score = model.evaluate(X_test, y_test, verbose=0)\n",
    "print('Test loss:', score[0])\n",
    "print('Test accuracy:', score[1])\n"
   ]
  },
  {
   "cell_type": "code",
   "execution_count": 8,
   "metadata": {},
   "outputs": [
    {
     "data": {
      "image/png": "[encoded data removed]",
      "text/plain": [
       "<Figure size 640x480 with 1 Axes>"
      ]
     },
     "metadata": {},
     "output_type": "display_data"
    }
   ],
   "source": [
    "# Plot the training and validation loss\n",
    "plt.plot(history.history['loss'])\n",
    "plt.plot(history.history['val_loss'])\n",
    "plt.title('Model loss')\n",
    "plt.ylabel('Loss')\n",
    "plt.xlabel('Epoch')\n",
    "plt.legend(['Train', 'Validation'], loc='upper right')\n",
    "plt.show()"
   ]
  },
  {
   "cell_type": "code",
   "execution_count": null,
   "metadata": {},
   "outputs": [],
   "source": []
  }
 ],
 "metadata": {
  "kernelspec": {
   "display_name": "dl",
   "language": "python",
   "name": "python3"
  },
  "language_info": {
   "codemirror_mode": {
    "name": "ipython",
    "version": 3
   },
   "file_extension": ".py",
   "mimetype": "text/x-python",
   "name": "python",
   "nbconvert_exporter": "python",
   "pygments_lexer": "ipython3",
   "version": "3.9.16"
  },
  "orig_nbformat": 4
 },
 "nbformat": 4,
 "nbformat_minor": 2
}
