{
 "cells": [
  {
   "attachments": {},
   "cell_type": "markdown",
   "metadata": {},
   "source": [
    "#### About\n",
    "\n",
    "> Domain Adaptation\n",
    "\n",
    "Domain matching is a subfield of machine learning and domain transfer that aims to train a model on a source domain and use it to make accurate predictions about the target domain, even if the source and target domains have different distributions. In other words, domain adaptation aims to overcome the challenge of domain transfer, when a model trained in one domain (e.g. source domain) does not perform well in another domain (e.g. target domain) due to differences in data distribution. going on. \n",
    "\n",
    "\n",
    "Domain matching is particularly useful in situations where it is expensive, time-consuming, or impractical to collect tagged data from the target domain. It is commonly used for tasks such as image recognition, natural language processing, speech recognition and many other practical applications. \n",
    "\n",
    "Mathematically, domain matching can be formulated as follows: given a labeled source domain dataset Ds = {(x_i, y_i)} from the source domain Ds and an unlabeled target domain dataset Dt = {x_i} from the target domain Dt, the goal is to use the knowledge obtained from the source domain data to learn a model f(x) that can accurately predict the target domain label y_t for a sample x_t in the target domain.\n",
    "\n",
    "Domain matching techniques typically involve using labeled source domain data to learn a model that can accommodate differences in data distributions between source and target domains. Some common techniques used in domain matching include domain matching techniques such as domain matching neural networks (DANNs), conflicting domain matching, and domain matching with domain-specific features or representations.\n",
    "\n"
   ]
  },
  {
   "cell_type": "code",
   "execution_count": 14,
   "metadata": {},
   "outputs": [],
   "source": [
    "from keras.layers import Dense\n",
    "from keras.models import Sequential\n",
    "from keras.optimizers import Adam\n",
    "import numpy as np"
   ]
  },
  {
   "cell_type": "code",
   "execution_count": 15,
   "metadata": {},
   "outputs": [],
   "source": [
    "# Define source and target domain datasets\n",
    "source_domain_data = np.random.rand(100, 5)  # Example source domain data with 100 samples and 5 features\n",
    "target_domain_data = np.random.rand(50, 5)   # Example target domain data with 50 samples and 5 features\n"
   ]
  },
  {
   "cell_type": "code",
   "execution_count": 16,
   "metadata": {},
   "outputs": [],
   "source": [
    "# Define source and target domain labels\n",
    "source_domain_labels = np.random.randint(0, 2, size=(100,))  # Example source domain labels (binary)\n",
    "target_domain_labels = np.random.randint(0, 2, size=(50,))   # Example target domain labels (binary)\n"
   ]
  },
  {
   "cell_type": "code",
   "execution_count": 17,
   "metadata": {},
   "outputs": [],
   "source": [
    "# Define the domain adaptation model\n",
    "model = Sequential()\n",
    "model.add(Dense(units=64, activation='relu', input_dim=5))  # Input layer with 5 input features\n",
    "model.add(Dense(units=32, activation='relu'))\n",
    "model.add(Dense(units=1, activation='sigmoid'))  # Output layer with binary sigmoid activation\n"
   ]
  },
  {
   "cell_type": "code",
   "execution_count": 18,
   "metadata": {},
   "outputs": [],
   "source": [
    "# Compile the model\n",
    "model.compile(optimizer=Adam(lr=0.001), loss='binary_crossentropy', metrics=['accuracy'])\n"
   ]
  },
  {
   "cell_type": "code",
   "execution_count": 19,
   "metadata": {},
   "outputs": [
    {
     "name": "stdout",
     "output_type": "stream",
     "text": [
      "Epoch 1/10\n",
      "4/4 [==============================] - 1s 7ms/step - loss: 0.6886 - accuracy: 0.5900\n",
      "Epoch 2/10\n",
      "4/4 [==============================] - 0s 5ms/step - loss: 0.6842 - accuracy: 0.5500\n",
      "Epoch 3/10\n",
      "4/4 [==============================] - 0s 5ms/step - loss: 0.6820 - accuracy: 0.5500\n",
      "Epoch 4/10\n",
      "4/4 [==============================] - 0s 6ms/step - loss: 0.6797 - accuracy: 0.5500\n",
      "Epoch 5/10\n",
      "4/4 [==============================] - 0s 6ms/step - loss: 0.6783 - accuracy: 0.5600\n",
      "Epoch 6/10\n",
      "4/4 [==============================] - 0s 5ms/step - loss: 0.6772 - accuracy: 0.5600\n",
      "Epoch 7/10\n",
      "4/4 [==============================] - 0s 6ms/step - loss: 0.6762 - accuracy: 0.5600\n",
      "Epoch 8/10\n",
      "4/4 [==============================] - 0s 5ms/step - loss: 0.6754 - accuracy: 0.5800\n",
      "Epoch 9/10\n",
      "4/4 [==============================] - 0s 5ms/step - loss: 0.6745 - accuracy: 0.5700\n",
      "Epoch 10/10\n",
      "4/4 [==============================] - 0s 6ms/step - loss: 0.6735 - accuracy: 0.5800\n"
     ]
    },
    {
     "data": {
      "text/plain": [
       "<keras.callbacks.History at 0x7f3b297bd0d0>"
      ]
     },
     "execution_count": 19,
     "metadata": {},
     "output_type": "execute_result"
    }
   ],
   "source": [
    "# Train the domain adaptation model using source domain data\n",
    "model.fit(source_domain_data, source_domain_labels, epochs=10, batch_size=32, verbose=1)\n"
   ]
  },
  {
   "cell_type": "code",
   "execution_count": 20,
   "metadata": {},
   "outputs": [
    {
     "name": "stdout",
     "output_type": "stream",
     "text": [
      "2/2 [==============================] - 1s 10ms/step - loss: 0.7277 - accuracy: 0.4200\n"
     ]
    }
   ],
   "source": [
    "# Evaluate the model on target domain data\n",
    "loss, accuracy = model.evaluate(target_domain_data, target_domain_labels, batch_size=32, verbose=1)\n"
   ]
  },
  {
   "cell_type": "code",
   "execution_count": 21,
   "metadata": {},
   "outputs": [
    {
     "name": "stdout",
     "output_type": "stream",
     "text": [
      "Loss: 0.7277045249938965\n",
      "Accuracy: 0.41999998688697815\n"
     ]
    }
   ],
   "source": [
    "# Print the evaluation results\n",
    "print('Loss:', loss)\n",
    "print('Accuracy:', accuracy)"
   ]
  },
  {
   "cell_type": "code",
   "execution_count": null,
   "metadata": {},
   "outputs": [],
   "source": []
  }
 ],
 "metadata": {
  "kernelspec": {
   "display_name": "dl",
   "language": "python",
   "name": "python3"
  },
  "language_info": {
   "codemirror_mode": {
    "name": "ipython",
    "version": 3
   },
   "file_extension": ".py",
   "mimetype": "text/x-python",
   "name": "python",
   "nbconvert_exporter": "python",
   "pygments_lexer": "ipython3",
   "version": "3.9.16"
  },
  "orig_nbformat": 4
 },
 "nbformat": 4,
 "nbformat_minor": 2
}
